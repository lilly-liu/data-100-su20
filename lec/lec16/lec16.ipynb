{
 "cells": [
  {
   "cell_type": "code",
   "execution_count": 1,
   "metadata": {},
   "outputs": [],
   "source": [
    "import pandas as pd\n",
    "import matplotlib.pyplot as plt\n",
    "import numpy as np\n",
    "import seaborn as sns"
   ]
  },
  {
   "cell_type": "markdown",
   "metadata": {},
   "source": [
    "## Overfitting"
   ]
  },
  {
   "cell_type": "code",
   "execution_count": 2,
   "metadata": {},
   "outputs": [
    {
     "data": {
      "text/html": [
       "<div>\n",
       "<style scoped>\n",
       "    .dataframe tbody tr th:only-of-type {\n",
       "        vertical-align: middle;\n",
       "    }\n",
       "\n",
       "    .dataframe tbody tr th {\n",
       "        vertical-align: top;\n",
       "    }\n",
       "\n",
       "    .dataframe thead th {\n",
       "        text-align: right;\n",
       "    }\n",
       "</style>\n",
       "<table border=\"1\" class=\"dataframe\">\n",
       "  <thead>\n",
       "    <tr style=\"text-align: right;\">\n",
       "      <th></th>\n",
       "      <th>x</th>\n",
       "      <th>y</th>\n",
       "    </tr>\n",
       "  </thead>\n",
       "  <tbody>\n",
       "    <tr>\n",
       "      <th>0</th>\n",
       "      <td>7.127868</td>\n",
       "      <td>4.695017</td>\n",
       "    </tr>\n",
       "    <tr>\n",
       "      <th>1</th>\n",
       "      <td>-1.427134</td>\n",
       "      <td>1.184627</td>\n",
       "    </tr>\n",
       "    <tr>\n",
       "      <th>2</th>\n",
       "      <td>7.168831</td>\n",
       "      <td>4.671386</td>\n",
       "    </tr>\n",
       "    <tr>\n",
       "      <th>3</th>\n",
       "      <td>-4.940390</td>\n",
       "      <td>1.758916</td>\n",
       "    </tr>\n",
       "    <tr>\n",
       "      <th>4</th>\n",
       "      <td>-5.792271</td>\n",
       "      <td>2.064704</td>\n",
       "    </tr>\n",
       "    <tr>\n",
       "      <th>5</th>\n",
       "      <td>0.255292</td>\n",
       "      <td>0.624571</td>\n",
       "    </tr>\n",
       "    <tr>\n",
       "      <th>6</th>\n",
       "      <td>-0.744530</td>\n",
       "      <td>0.971312</td>\n",
       "    </tr>\n",
       "    <tr>\n",
       "      <th>7</th>\n",
       "      <td>9.070997</td>\n",
       "      <td>7.444385</td>\n",
       "    </tr>\n",
       "    <tr>\n",
       "      <th>8</th>\n",
       "      <td>-3.064917</td>\n",
       "      <td>1.483040</td>\n",
       "    </tr>\n",
       "    <tr>\n",
       "      <th>9</th>\n",
       "      <td>1.959275</td>\n",
       "      <td>1.423652</td>\n",
       "    </tr>\n",
       "  </tbody>\n",
       "</table>\n",
       "</div>"
      ],
      "text/plain": [
       "          x         y\n",
       "0  7.127868  4.695017\n",
       "1 -1.427134  1.184627\n",
       "2  7.168831  4.671386\n",
       "3 -4.940390  1.758916\n",
       "4 -5.792271  2.064704\n",
       "5  0.255292  0.624571\n",
       "6 -0.744530  0.971312\n",
       "7  9.070997  7.444385\n",
       "8 -3.064917  1.483040\n",
       "9  1.959275  1.423652"
      ]
     },
     "execution_count": 2,
     "metadata": {},
     "output_type": "execute_result"
    }
   ],
   "source": [
    "train = pd.read_csv('train.csv')\n",
    "train"
   ]
  },
  {
   "cell_type": "code",
   "execution_count": 3,
   "metadata": {},
   "outputs": [
    {
     "data": {
      "text/plain": [
       "<AxesSubplot:xlabel='x', ylabel='y'>"
      ]
     },
     "execution_count": 3,
     "metadata": {},
     "output_type": "execute_result"
    },
    {
     "data": {
      "image/png": "[encoded data removed]",
      "text/plain": [
       "<Figure size 600x400 with 1 Axes>"
      ]
     },
     "metadata": {
      "needs_background": "light"
     },
     "output_type": "display_data"
    }
   ],
   "source": [
    "plt.figure(figsize = (6, 4), dpi = 100)\n",
    "sns.scatterplot(x = 'x', y = 'y', data = train)"
   ]
  },
  {
   "cell_type": "code",
   "execution_count": 4,
   "metadata": {},
   "outputs": [],
   "source": [
    "from sklearn.linear_model import LinearRegression"
   ]
  },
  {
   "cell_type": "code",
   "execution_count": 5,
   "metadata": {},
   "outputs": [],
   "source": [
    "def polynomial_design_matrix(X, n):\n",
    "    polynomial_features = np.empty(shape = (X.shape[0], n))\n",
    "    for i in range(1, n + 1):\n",
    "        polynomial_features[:, i - 1] = X**i\n",
    "    return polynomial_features"
   ]
  },
  {
   "cell_type": "code",
   "execution_count": 6,
   "metadata": {},
   "outputs": [
    {
     "data": {
      "text/plain": [
       "array([[ 7.12786780e+00,  5.08064994e+01],\n",
       "       [-1.42713404e+00,  2.03671157e+00],\n",
       "       [ 7.16883095e+00,  5.13921372e+01],\n",
       "       [-4.94038991e+00,  2.44074524e+01],\n",
       "       [-5.79227110e+00,  3.35504045e+01],\n",
       "       [ 2.55292364e-01,  6.51741910e-02],\n",
       "       [-7.44529526e-01,  5.54324215e-01],\n",
       "       [ 9.07099700e+00,  8.22829865e+01],\n",
       "       [-3.06491740e+00,  9.39371865e+00],\n",
       "       [ 1.95927485e+00,  3.83875794e+00]])"
      ]
     },
     "execution_count": 6,
     "metadata": {},
     "output_type": "execute_result"
    }
   ],
   "source": [
    "polynomial_design_matrix(train['x'], 2)"
   ]
  },
  {
   "cell_type": "code",
   "execution_count": 7,
   "metadata": {},
   "outputs": [
    {
     "data": {
      "text/plain": [
       "6.1024160027378645e-09"
      ]
     },
     "execution_count": 7,
     "metadata": {},
     "output_type": "execute_result"
    },
    {
     "data": {
      "image/png": "[encoded data removed]",
      "text/plain": [
       "<Figure size 600x400 with 1 Axes>"
      ]
     },
     "metadata": {
      "needs_background": "light"
     },
     "output_type": "display_data"
    }
   ],
   "source": [
    "plt.figure(figsize = (6, 4), dpi = 100)\n",
    "ax = sns.scatterplot(x = 'x', y = 'y', data = train)\n",
    "\n",
    "n = 9\n",
    "model = LinearRegression(fit_intercept = True)\n",
    "X_poly = polynomial_design_matrix(train['x'], n)\n",
    "model.fit(X_poly, train['y'])\n",
    "rmse = np.sqrt(np.mean((model.predict(X_poly) - train['y'])**2))\n",
    "\n",
    "x_to_plot = np.arange(-10, 10.1, .1)\n",
    "x_to_plot_poly = polynomial_design_matrix(x_to_plot, n)\n",
    "fitted_line = x_to_plot_poly @ model.coef_ + model.intercept_\n",
    "ax = sns.lineplot(x = x_to_plot, y = fitted_line, ax = ax, lw = 2/3)\n",
    "ax.set_ylim(0, 9)\n",
    "ax.set_xlim(-10, 10);\n",
    "\n",
    "rmse"
   ]
  },
  {
   "cell_type": "code",
   "execution_count": 8,
   "metadata": {},
   "outputs": [
    {
     "name": "stdout",
     "output_type": "stream",
     "text": [
      "1 1.2506895836230856\n",
      "2 0.25538584218499394\n",
      "3 0.1470270907185259\n",
      "4 0.14614304364333902\n",
      "5 0.13854530489262495\n",
      "6 0.07189482017386775\n",
      "7 0.02014778411746299\n",
      "8 0.014700396694077873\n",
      "9 6.1024160027378645e-09\n"
     ]
    }
   ],
   "source": [
    "rmses = []\n",
    "for n in range(1, 10):\n",
    "    model = LinearRegression(fit_intercept = True)\n",
    "    X_poly = polynomial_design_matrix(train['x'], n)\n",
    "    model.fit(X_poly, train['y'])\n",
    "    rmse = np.sqrt(np.mean((model.predict(X_poly) - train['y'])**2))\n",
    "    print(n, rmse)\n",
    "    rmses.append(rmse)"
   ]
  },
  {
   "cell_type": "code",
   "execution_count": null,
   "metadata": {},
   "outputs": [],
   "source": []
  },
  {
   "cell_type": "code",
   "execution_count": 9,
   "metadata": {},
   "outputs": [
    {
     "data": {
      "text/html": [
       "<div>\n",
       "<style scoped>\n",
       "    .dataframe tbody tr th:only-of-type {\n",
       "        vertical-align: middle;\n",
       "    }\n",
       "\n",
       "    .dataframe tbody tr th {\n",
       "        vertical-align: top;\n",
       "    }\n",
       "\n",
       "    .dataframe thead th {\n",
       "        text-align: right;\n",
       "    }\n",
       "</style>\n",
       "<table border=\"1\" class=\"dataframe\">\n",
       "  <thead>\n",
       "    <tr style=\"text-align: right;\">\n",
       "      <th></th>\n",
       "      <th>x</th>\n",
       "      <th>y</th>\n",
       "    </tr>\n",
       "  </thead>\n",
       "  <tbody>\n",
       "    <tr>\n",
       "      <th>0</th>\n",
       "      <td>0.868099</td>\n",
       "      <td>1.026507</td>\n",
       "    </tr>\n",
       "    <tr>\n",
       "      <th>1</th>\n",
       "      <td>-4.432612</td>\n",
       "      <td>1.655747</td>\n",
       "    </tr>\n",
       "    <tr>\n",
       "      <th>2</th>\n",
       "      <td>-1.509648</td>\n",
       "      <td>1.256400</td>\n",
       "    </tr>\n",
       "    <tr>\n",
       "      <th>3</th>\n",
       "      <td>6.895523</td>\n",
       "      <td>4.313916</td>\n",
       "    </tr>\n",
       "    <tr>\n",
       "      <th>4</th>\n",
       "      <td>-9.905623</td>\n",
       "      <td>2.784235</td>\n",
       "    </tr>\n",
       "  </tbody>\n",
       "</table>\n",
       "</div>"
      ],
      "text/plain": [
       "          x         y\n",
       "0  0.868099  1.026507\n",
       "1 -4.432612  1.655747\n",
       "2 -1.509648  1.256400\n",
       "3  6.895523  4.313916\n",
       "4 -9.905623  2.784235"
      ]
     },
     "execution_count": 9,
     "metadata": {},
     "output_type": "execute_result"
    }
   ],
   "source": [
    "test = pd.read_csv('test.csv')\n",
    "test.head()"
   ]
  },
  {
   "cell_type": "code",
   "execution_count": 10,
   "metadata": {},
   "outputs": [
    {
     "data": {
      "text/plain": [
       "110.77107676950251"
      ]
     },
     "execution_count": 10,
     "metadata": {},
     "output_type": "execute_result"
    },
    {
     "data": {
      "image/png": "[encoded data removed]",
      "text/plain": [
       "<Figure size 600x400 with 1 Axes>"
      ]
     },
     "metadata": {
      "needs_background": "light"
     },
     "output_type": "display_data"
    }
   ],
   "source": [
    "plt.figure(figsize = (6,4), dpi = 100)\n",
    "ax = sns.scatterplot(x = train['x'], y = train['y'], s = 10, color = 'red', zorder = 10)\n",
    "ax = sns.scatterplot(x = test['x'], y = test['y'], s = 3, zorder = 1)\n",
    "\n",
    "n = 9\n",
    "model = LinearRegression(fit_intercept = True)\n",
    "X_poly = polynomial_design_matrix(train['x'], n)\n",
    "model.fit(X_poly, train['y'])\n",
    "\n",
    "x_to_plot_poly = polynomial_design_matrix(x_to_plot, n)\n",
    "fitted_line = x_to_plot_poly @ model.coef_ + model.intercept_\n",
    "ax = sns.lineplot(x = x_to_plot, y = fitted_line, lw = 2/3, color = 'green')\n",
    "ax.set_xlim(-10, 10)\n",
    "ax.set_ylim(0, 9)\n",
    "\n",
    "X_test_poly = polynomial_design_matrix(test['x'], n)\n",
    "test_rmse = np.sqrt(np.mean((model.predict(X_test_poly) - test['y'])**2))\n",
    "test_rmse"
   ]
  },
  {
   "cell_type": "code",
   "execution_count": 11,
   "metadata": {
    "scrolled": true
   },
   "outputs": [
    {
     "name": "stdout",
     "output_type": "stream",
     "text": [
      "1 1.8585554486548226\n",
      "2 0.7713562614108714\n",
      "3 0.1691290033322484\n",
      "4 0.20723955870789773\n",
      "5 1.2974799641183905\n",
      "6 8.775129060776468\n",
      "7 13.649732852088503\n",
      "8 27.666588565625528\n",
      "9 110.77107676950251\n"
     ]
    }
   ],
   "source": [
    "test_rmses = []\n",
    "for n in range(1, 10):\n",
    "    model = LinearRegression(fit_intercept = True)\n",
    "    X_poly = polynomial_design_matrix(train['x'], n)\n",
    "    model.fit(X_poly, train['y'])\n",
    "    X_test_poly = polynomial_design_matrix(test['x'], n)\n",
    "    test_rmse = np.sqrt(np.mean((model.predict(X_test_poly) - test['y'])**2))\n",
    "    print(n, test_rmse)\n",
    "    test_rmses.append(test_rmse)"
   ]
  },
  {
   "cell_type": "code",
   "execution_count": null,
   "metadata": {},
   "outputs": [],
   "source": []
  }
 ],
 "metadata": {
  "kernelspec": {
   "display_name": "Python 3 (ipykernel)",
   "language": "python",
   "name": "python3"
  },
  "language_info": {
   "codemirror_mode": {
    "name": "ipython",
    "version": 3
   },
   "file_extension": ".py",
   "mimetype": "text/x-python",
   "name": "python",
   "nbconvert_exporter": "python",
   "pygments_lexer": "ipython3",
   "version": "3.8.10"
  }
 },
 "nbformat": 4,
 "nbformat_minor": 2
}
