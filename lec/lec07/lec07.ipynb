{
 "cells": [
  {
   "cell_type": "code",
   "execution_count": 1,
   "metadata": {
    "ExecuteTime": {
     "end_time": "2018-02-02T15:15:15.363920Z",
     "start_time": "2018-02-02T15:15:14.337886Z"
    }
   },
   "outputs": [],
   "source": [
    "import numpy as np\n",
    "import matplotlib.pyplot as plt\n",
    "import pandas as pd\n",
    "import seaborn as sns\n",
    "import zipfile\n",
    "%matplotlib inline"
   ]
  },
  {
   "cell_type": "markdown",
   "metadata": {},
   "source": [
    "## Canonicalization"
   ]
  },
  {
   "cell_type": "code",
   "execution_count": 2,
   "metadata": {},
   "outputs": [],
   "source": [
    "with open('county_and_state.csv') as f:\n",
    "    county_and_state = pd.read_csv(f)\n",
    "    \n",
    "with open('county_and_population.csv') as f:\n",
    "    county_and_pop = pd.read_csv(f)    "
   ]
  },
  {
   "cell_type": "markdown",
   "metadata": {},
   "source": [
    "Suppose we'd like to join these two tables. Unfortunately, we can't, because the strings representing the county names don't match, as seen below."
   ]
  },
  {
   "cell_type": "code",
   "execution_count": 3,
   "metadata": {},
   "outputs": [
    {
     "data": {
      "text/html": [
       "<div>\n",
       "<style scoped>\n",
       "    .dataframe tbody tr th:only-of-type {\n",
       "        vertical-align: middle;\n",
       "    }\n",
       "\n",
       "    .dataframe tbody tr th {\n",
       "        vertical-align: top;\n",
       "    }\n",
       "\n",
       "    .dataframe thead th {\n",
       "        text-align: right;\n",
       "    }\n",
       "</style>\n",
       "<table border=\"1\" class=\"dataframe\">\n",
       "  <thead>\n",
       "    <tr style=\"text-align: right;\">\n",
       "      <th></th>\n",
       "      <th>County</th>\n",
       "      <th>State</th>\n",
       "    </tr>\n",
       "  </thead>\n",
       "  <tbody>\n",
       "    <tr>\n",
       "      <th>0</th>\n",
       "      <td>De Witt County</td>\n",
       "      <td>IL</td>\n",
       "    </tr>\n",
       "    <tr>\n",
       "      <th>1</th>\n",
       "      <td>Lac qui Parle County</td>\n",
       "      <td>MN</td>\n",
       "    </tr>\n",
       "    <tr>\n",
       "      <th>2</th>\n",
       "      <td>Lewis and Clark County</td>\n",
       "      <td>MT</td>\n",
       "    </tr>\n",
       "    <tr>\n",
       "      <th>3</th>\n",
       "      <td>St John the Baptist Parish</td>\n",
       "      <td>LS</td>\n",
       "    </tr>\n",
       "  </tbody>\n",
       "</table>\n",
       "</div>"
      ],
      "text/plain": [
       "                       County State\n",
       "0              De Witt County    IL\n",
       "1        Lac qui Parle County    MN\n",
       "2      Lewis and Clark County    MT\n",
       "3  St John the Baptist Parish    LS"
      ]
     },
     "execution_count": 3,
     "metadata": {},
     "output_type": "execute_result"
    }
   ],
   "source": [
    "county_and_state"
   ]
  },
  {
   "cell_type": "code",
   "execution_count": 4,
   "metadata": {},
   "outputs": [
    {
     "data": {
      "text/html": [
       "<div>\n",
       "<style scoped>\n",
       "    .dataframe tbody tr th:only-of-type {\n",
       "        vertical-align: middle;\n",
       "    }\n",
       "\n",
       "    .dataframe tbody tr th {\n",
       "        vertical-align: top;\n",
       "    }\n",
       "\n",
       "    .dataframe thead th {\n",
       "        text-align: right;\n",
       "    }\n",
       "</style>\n",
       "<table border=\"1\" class=\"dataframe\">\n",
       "  <thead>\n",
       "    <tr style=\"text-align: right;\">\n",
       "      <th></th>\n",
       "      <th>County</th>\n",
       "      <th>Population</th>\n",
       "    </tr>\n",
       "  </thead>\n",
       "  <tbody>\n",
       "    <tr>\n",
       "      <th>0</th>\n",
       "      <td>DeWitt</td>\n",
       "      <td>16798</td>\n",
       "    </tr>\n",
       "    <tr>\n",
       "      <th>1</th>\n",
       "      <td>Lac Qui Parle</td>\n",
       "      <td>8067</td>\n",
       "    </tr>\n",
       "    <tr>\n",
       "      <th>2</th>\n",
       "      <td>Lewis &amp; Clark</td>\n",
       "      <td>55716</td>\n",
       "    </tr>\n",
       "    <tr>\n",
       "      <th>3</th>\n",
       "      <td>St. John the Baptist</td>\n",
       "      <td>43044</td>\n",
       "    </tr>\n",
       "  </tbody>\n",
       "</table>\n",
       "</div>"
      ],
      "text/plain": [
       "                 County  Population\n",
       "0                DeWitt       16798\n",
       "1         Lac Qui Parle        8067\n",
       "2         Lewis & Clark       55716\n",
       "3  St. John the Baptist       43044"
      ]
     },
     "execution_count": 4,
     "metadata": {},
     "output_type": "execute_result"
    }
   ],
   "source": [
    "county_and_pop"
   ]
  },
  {
   "cell_type": "markdown",
   "metadata": {},
   "source": [
    " Before we can join them, we'll do what I call **canonicalization**.\n",
    "\n",
    "Canonicalization: A process for converting data that has more than one possible representation into a \"standard\", \"normal\", or canonical form (definition via Wikipedia)."
   ]
  },
  {
   "cell_type": "code",
   "execution_count": 5,
   "metadata": {},
   "outputs": [],
   "source": [
    "def canonicalize_county(county_name):\n",
    "    return (\n",
    "        county_name\n",
    "        .lower()               # lower case\n",
    "        .replace(' ', '')      # remove spaces\n",
    "        .replace('&', 'and')   # replace &\n",
    "        .replace('.', '')      # remove dot\n",
    "        .replace('county', '') # remove county\n",
    "        .replace('parish', '') # remove parish\n",
    "    )"
   ]
  },
  {
   "cell_type": "code",
   "execution_count": 6,
   "metadata": {},
   "outputs": [],
   "source": [
    "county_and_pop['clean_county'] = county_and_pop['County'].map(canonicalize_county)\n",
    "county_and_state['clean_county'] = county_and_state['County'].map(canonicalize_county)"
   ]
  },
  {
   "cell_type": "code",
   "execution_count": 7,
   "metadata": {},
   "outputs": [
    {
     "data": {
      "text/html": [
       "<div>\n",
       "<style scoped>\n",
       "    .dataframe tbody tr th:only-of-type {\n",
       "        vertical-align: middle;\n",
       "    }\n",
       "\n",
       "    .dataframe tbody tr th {\n",
       "        vertical-align: top;\n",
       "    }\n",
       "\n",
       "    .dataframe thead th {\n",
       "        text-align: right;\n",
       "    }\n",
       "</style>\n",
       "<table border=\"1\" class=\"dataframe\">\n",
       "  <thead>\n",
       "    <tr style=\"text-align: right;\">\n",
       "      <th></th>\n",
       "      <th>County_x</th>\n",
       "      <th>Population</th>\n",
       "      <th>clean_county</th>\n",
       "      <th>County_y</th>\n",
       "      <th>State</th>\n",
       "    </tr>\n",
       "  </thead>\n",
       "  <tbody>\n",
       "    <tr>\n",
       "      <th>0</th>\n",
       "      <td>DeWitt</td>\n",
       "      <td>16798</td>\n",
       "      <td>dewitt</td>\n",
       "      <td>De Witt County</td>\n",
       "      <td>IL</td>\n",
       "    </tr>\n",
       "    <tr>\n",
       "      <th>1</th>\n",
       "      <td>Lac Qui Parle</td>\n",
       "      <td>8067</td>\n",
       "      <td>lacquiparle</td>\n",
       "      <td>Lac qui Parle County</td>\n",
       "      <td>MN</td>\n",
       "    </tr>\n",
       "    <tr>\n",
       "      <th>2</th>\n",
       "      <td>Lewis &amp; Clark</td>\n",
       "      <td>55716</td>\n",
       "      <td>lewisandclark</td>\n",
       "      <td>Lewis and Clark County</td>\n",
       "      <td>MT</td>\n",
       "    </tr>\n",
       "    <tr>\n",
       "      <th>3</th>\n",
       "      <td>St. John the Baptist</td>\n",
       "      <td>43044</td>\n",
       "      <td>stjohnthebaptist</td>\n",
       "      <td>St John the Baptist Parish</td>\n",
       "      <td>LS</td>\n",
       "    </tr>\n",
       "  </tbody>\n",
       "</table>\n",
       "</div>"
      ],
      "text/plain": [
       "               County_x  Population      clean_county  \\\n",
       "0                DeWitt       16798            dewitt   \n",
       "1         Lac Qui Parle        8067       lacquiparle   \n",
       "2         Lewis & Clark       55716     lewisandclark   \n",
       "3  St. John the Baptist       43044  stjohnthebaptist   \n",
       "\n",
       "                     County_y State  \n",
       "0              De Witt County    IL  \n",
       "1        Lac qui Parle County    MN  \n",
       "2      Lewis and Clark County    MT  \n",
       "3  St John the Baptist Parish    LS  "
      ]
     },
     "execution_count": 7,
     "metadata": {},
     "output_type": "execute_result"
    }
   ],
   "source": [
    "county_and_pop.merge(county_and_state,\n",
    "                     left_on = 'clean_county', right_on = 'clean_county')"
   ]
  },
  {
   "cell_type": "markdown",
   "metadata": {},
   "source": [
    "## Processing Data from a Text Log Using Basic Python"
   ]
  },
  {
   "cell_type": "code",
   "execution_count": 8,
   "metadata": {
    "scrolled": true
   },
   "outputs": [],
   "source": [
    "with open('log.txt', 'r') as f:\n",
    "    log_lines = f.readlines()"
   ]
  },
  {
   "cell_type": "code",
   "execution_count": 9,
   "metadata": {},
   "outputs": [
    {
     "data": {
      "text/plain": [
       "['169.237.46.168 - - [26/Jan/2014:10:47:58 -0800] \"GET /stat141/Winter04/ HTTP/1.1\" 200 2585 \"http://anson.ucdavis.edu/courses/\"\\n',\n",
       " '193.205.203.3 - - [2/Feb/2005:17:23:6 -0800] \"GET /stat141/Notes/dim.html HTTP/1.0\" 404 302 \"http://eeyore.ucdavis.edu/stat141/Notes/session.html\"\\n',\n",
       " '169.237.46.240 - \"\" [3/Feb/2006:10:18:37 -0800] \"GET /stat141/homework/Solutions/hw1Sol.pdf HTTP/1.1\"\\n']"
      ]
     },
     "execution_count": 9,
     "metadata": {},
     "output_type": "execute_result"
    }
   ],
   "source": [
    "log_lines"
   ]
  },
  {
   "cell_type": "markdown",
   "metadata": {},
   "source": [
    "Suppose we want to extract the day, month, year, hour, minutes, seconds, and timezone. Looking at the data, we see that these items are not in a fixed position relative to the beginning of the string. That is, slicing by some fixed offset isn't going to work."
   ]
  },
  {
   "cell_type": "code",
   "execution_count": 10,
   "metadata": {},
   "outputs": [
    {
     "data": {
      "text/plain": [
       "'26/Jan/2014'"
      ]
     },
     "execution_count": 10,
     "metadata": {},
     "output_type": "execute_result"
    }
   ],
   "source": [
    "log_lines[0][20:31]"
   ]
  },
  {
   "cell_type": "code",
   "execution_count": 11,
   "metadata": {},
   "outputs": [
    {
     "data": {
      "text/plain": [
       "'/Feb/2005:1'"
      ]
     },
     "execution_count": 11,
     "metadata": {},
     "output_type": "execute_result"
    }
   ],
   "source": [
    "log_lines[1][20:31]"
   ]
  },
  {
   "cell_type": "markdown",
   "metadata": {},
   "source": [
    "Instead, we'll need to use some more sophisticated thinking. Let's focus on only the first line of the file."
   ]
  },
  {
   "cell_type": "code",
   "execution_count": 12,
   "metadata": {},
   "outputs": [
    {
     "data": {
      "text/plain": [
       "'169.237.46.168 - - [26/Jan/2014:10:47:58 -0800] \"GET /stat141/Winter04/ HTTP/1.1\" 200 2585 \"http://anson.ucdavis.edu/courses/\"\\n'"
      ]
     },
     "execution_count": 12,
     "metadata": {},
     "output_type": "execute_result"
    }
   ],
   "source": [
    "first = log_lines[0]\n",
    "first"
   ]
  },
  {
   "cell_type": "code",
   "execution_count": null,
   "metadata": {},
   "outputs": [],
   "source": []
  },
  {
   "cell_type": "code",
   "execution_count": 13,
   "metadata": {},
   "outputs": [
    {
     "data": {
      "text/plain": [
       "('26', 'Jan', '2014', '10', '47', '58', '-0800')"
      ]
     },
     "execution_count": 13,
     "metadata": {},
     "output_type": "execute_result"
    }
   ],
   "source": [
    "pertinent = first.split(\"[\")[1].split(']')[0]\n",
    "day, month, rest = pertinent.split('/')\n",
    "year, hour, minute, rest = rest.split(':')\n",
    "seconds, time_zone = rest.split(' ')\n",
    "day, month, year, hour, minute, seconds, time_zone"
   ]
  },
  {
   "cell_type": "markdown",
   "metadata": {},
   "source": [
    "A much more sophisticated but common approach is to extract the information we need using a regular expression. See [today's lecture slides](https://docs.google.com/presentation/d/1omFKPsCaPf58VLo33U9ipRq4vt1Kj_3y9yHDUl8qYhk/edit#slide=id.g41d831233f_1_119) for more on regular expressions."
   ]
  },
  {
   "cell_type": "code",
   "execution_count": 14,
   "metadata": {
    "scrolled": true
   },
   "outputs": [
    {
     "data": {
      "text/plain": [
       "('2014', 'Jan', '26', '10', '47', '58', '-0800')"
      ]
     },
     "execution_count": 14,
     "metadata": {},
     "output_type": "execute_result"
    }
   ],
   "source": [
    "import re\n",
    "pattern = r'\\[(\\d+)/(\\w+)/(\\d+):(\\d+):(\\d+):(\\d+) (.+)\\]'\n",
    "day, month, year, hour, minute, second, time_zone = re.search(pattern, first).groups()\n",
    "year, month, day, hour, minute, second, time_zone"
   ]
  },
  {
   "cell_type": "markdown",
   "metadata": {},
   "source": [
    "Or alternately using the `findall` method:"
   ]
  },
  {
   "cell_type": "code",
   "execution_count": 15,
   "metadata": {},
   "outputs": [
    {
     "data": {
      "text/plain": [
       "('2014', 'Jan', '26', '10', '47', '58', '-0800')"
      ]
     },
     "execution_count": 15,
     "metadata": {},
     "output_type": "execute_result"
    }
   ],
   "source": [
    "import re\n",
    "pattern = r'\\[(\\d+)/(\\w+)/(\\d+):(\\d+):(\\d+):(\\d+) (.+)\\]'\n",
    "day, month, year, hour, minute, second, time_zone = re.findall(pattern, first)[0]\n",
    "year, month, day, hour, minute, second, time_zone"
   ]
  },
  {
   "cell_type": "markdown",
   "metadata": {},
   "source": [
    "Note: We can return the results as a Series:"
   ]
  },
  {
   "cell_type": "code",
   "execution_count": 16,
   "metadata": {},
   "outputs": [
    {
     "data": {
      "text/plain": [
       "Day             26\n",
       "Month          Jan\n",
       "Year          2014\n",
       "Hour            10\n",
       "Minute          47\n",
       "Second          58\n",
       "Time Zone    -0800\n",
       "dtype: object"
      ]
     },
     "execution_count": 16,
     "metadata": {},
     "output_type": "execute_result"
    }
   ],
   "source": [
    "cols = [\"Day\", \"Month\", \"Year\", \"Hour\", \"Minute\", \"Second\", \"Time Zone\"]\n",
    "def log_entry_to_series(line):\n",
    "    return pd.Series(re.search(pattern, line).groups(), index = cols)\n",
    "\n",
    "log_entry_to_series(first)"
   ]
  },
  {
   "cell_type": "markdown",
   "metadata": {},
   "source": [
    "And using this function we can create a DataFrame of all the time information."
   ]
  },
  {
   "cell_type": "code",
   "execution_count": 17,
   "metadata": {
    "scrolled": true
   },
   "outputs": [
    {
     "data": {
      "text/html": [
       "<div>\n",
       "<style scoped>\n",
       "    .dataframe tbody tr th:only-of-type {\n",
       "        vertical-align: middle;\n",
       "    }\n",
       "\n",
       "    .dataframe tbody tr th {\n",
       "        vertical-align: top;\n",
       "    }\n",
       "\n",
       "    .dataframe thead th {\n",
       "        text-align: right;\n",
       "    }\n",
       "</style>\n",
       "<table border=\"1\" class=\"dataframe\">\n",
       "  <thead>\n",
       "    <tr style=\"text-align: right;\">\n",
       "      <th></th>\n",
       "      <th>Day</th>\n",
       "      <th>Month</th>\n",
       "      <th>Year</th>\n",
       "      <th>Hour</th>\n",
       "      <th>Minute</th>\n",
       "      <th>Second</th>\n",
       "      <th>Time Zone</th>\n",
       "    </tr>\n",
       "  </thead>\n",
       "  <tbody>\n",
       "    <tr>\n",
       "      <th>0</th>\n",
       "      <td>26</td>\n",
       "      <td>Jan</td>\n",
       "      <td>2014</td>\n",
       "      <td>10</td>\n",
       "      <td>47</td>\n",
       "      <td>58</td>\n",
       "      <td>-0800</td>\n",
       "    </tr>\n",
       "    <tr>\n",
       "      <th>1</th>\n",
       "      <td>2</td>\n",
       "      <td>Feb</td>\n",
       "      <td>2005</td>\n",
       "      <td>17</td>\n",
       "      <td>23</td>\n",
       "      <td>6</td>\n",
       "      <td>-0800</td>\n",
       "    </tr>\n",
       "    <tr>\n",
       "      <th>2</th>\n",
       "      <td>3</td>\n",
       "      <td>Feb</td>\n",
       "      <td>2006</td>\n",
       "      <td>10</td>\n",
       "      <td>18</td>\n",
       "      <td>37</td>\n",
       "      <td>-0800</td>\n",
       "    </tr>\n",
       "  </tbody>\n",
       "</table>\n",
       "</div>"
      ],
      "text/plain": [
       "  Day Month  Year Hour Minute Second Time Zone\n",
       "0  26   Jan  2014   10     47     58     -0800\n",
       "1   2   Feb  2005   17     23      6     -0800\n",
       "2   3   Feb  2006   10     18     37     -0800"
      ]
     },
     "execution_count": 17,
     "metadata": {},
     "output_type": "execute_result"
    }
   ],
   "source": [
    "log_info = pd.DataFrame(columns=cols)\n",
    "\n",
    "for line in log_lines:\n",
    "    log_info = log_info.append(log_entry_to_series(line), ignore_index = True)\n",
    "\n",
    "log_info"
   ]
  },
  {
   "cell_type": "markdown",
   "metadata": {},
   "source": [
    "### Regular Expression From Lecture"
   ]
  },
  {
   "cell_type": "markdown",
   "metadata": {},
   "source": [
    "Fill in the regex below so that after code executes, day is “26”, month is “Jan”, and year is “2014”. "
   ]
  },
  {
   "cell_type": "code",
   "execution_count": 18,
   "metadata": {},
   "outputs": [
    {
     "data": {
      "text/plain": [
       "'169.237.46.168 - - [26/Jan/2014:10:47:58 -0800] \"GET /stat141/Winter04/ HTTP/1.1\" 200 2585 \"http://anson.ucdavis.edu/courses/\"\\n'"
      ]
     },
     "execution_count": 18,
     "metadata": {},
     "output_type": "execute_result"
    }
   ],
   "source": [
    "log_lines[0]"
   ]
  },
  {
   "cell_type": "code",
   "execution_count": 19,
   "metadata": {
    "scrolled": true
   },
   "outputs": [],
   "source": [
    "pattern = r\"YOUR REGEX HERE\"\n",
    "matches = re.findall(pattern, log_lines[0])\n",
    "#day, month, year = matches[0]\n",
    "#day, month, year"
   ]
  },
  {
   "cell_type": "markdown",
   "metadata": {},
   "source": [
    "## Real World Example #1: Restaurant Data\n",
    "\n",
    "In this example, we will show how regexes can allow us to track quantitative data across categories defined by the appearance of various text fields.\n",
    "\n",
    "In this example we'll see how the presence of certain keywords can affect quantitative data, e.g. how do restaurant health scores vary as a function of the number of violations that mention \"vermin\"?"
   ]
  },
  {
   "cell_type": "code",
   "execution_count": 20,
   "metadata": {},
   "outputs": [
    {
     "data": {
      "text/html": [
       "<div>\n",
       "<style scoped>\n",
       "    .dataframe tbody tr th:only-of-type {\n",
       "        vertical-align: middle;\n",
       "    }\n",
       "\n",
       "    .dataframe tbody tr th {\n",
       "        vertical-align: top;\n",
       "    }\n",
       "\n",
       "    .dataframe thead th {\n",
       "        text-align: right;\n",
       "    }\n",
       "</style>\n",
       "<table border=\"1\" class=\"dataframe\">\n",
       "  <thead>\n",
       "    <tr style=\"text-align: right;\">\n",
       "      <th></th>\n",
       "      <th>id</th>\n",
       "      <th>date</th>\n",
       "      <th>desc</th>\n",
       "    </tr>\n",
       "  </thead>\n",
       "  <tbody>\n",
       "    <tr>\n",
       "      <th>0</th>\n",
       "      <td>19</td>\n",
       "      <td>20171211</td>\n",
       "      <td>Inadequate food safety knowledge or lack of ce...</td>\n",
       "    </tr>\n",
       "    <tr>\n",
       "      <th>1</th>\n",
       "      <td>19</td>\n",
       "      <td>20171211</td>\n",
       "      <td>Unapproved or unmaintained equipment or utensils</td>\n",
       "    </tr>\n",
       "    <tr>\n",
       "      <th>2</th>\n",
       "      <td>19</td>\n",
       "      <td>20160513</td>\n",
       "      <td>Unapproved or unmaintained equipment or utensi...</td>\n",
       "    </tr>\n",
       "    <tr>\n",
       "      <th>3</th>\n",
       "      <td>19</td>\n",
       "      <td>20160513</td>\n",
       "      <td>Unclean or degraded floors walls or ceilings  ...</td>\n",
       "    </tr>\n",
       "    <tr>\n",
       "      <th>4</th>\n",
       "      <td>19</td>\n",
       "      <td>20160513</td>\n",
       "      <td>Food safety certificate or food handler card n...</td>\n",
       "    </tr>\n",
       "  </tbody>\n",
       "</table>\n",
       "</div>"
      ],
      "text/plain": [
       "   id      date                                               desc\n",
       "0  19  20171211  Inadequate food safety knowledge or lack of ce...\n",
       "1  19  20171211   Unapproved or unmaintained equipment or utensils\n",
       "2  19  20160513  Unapproved or unmaintained equipment or utensi...\n",
       "3  19  20160513  Unclean or degraded floors walls or ceilings  ...\n",
       "4  19  20160513  Food safety certificate or food handler card n..."
      ]
     },
     "execution_count": 20,
     "metadata": {},
     "output_type": "execute_result"
    }
   ],
   "source": [
    "vio = pd.read_csv('violations.csv', header=0, names=['id', 'date', 'desc'])\n",
    "desc = vio['desc']\n",
    "vio.head()"
   ]
  },
  {
   "cell_type": "code",
   "execution_count": 21,
   "metadata": {},
   "outputs": [
    {
     "data": {
      "text/plain": [
       "Unclean or degraded floors walls or ceilings                          999\n",
       "Unapproved or unmaintained equipment or utensils                      659\n",
       "Inadequately cleaned or sanitized food contact surfaces               493\n",
       "Improper food storage                                                 476\n",
       "Inadequate and inaccessible handwashing facilities                    467\n",
       "Moderate risk food holding temperature                                452\n",
       "Wiping cloths not clean or properly stored or inadequate sanitizer    418\n",
       "Moderate risk vermin infestation                                      374\n",
       "Unclean nonfood contact surfaces                                      369\n",
       "Food safety certificate or food handler card not available            353\n",
       "Name: desc, dtype: int64"
      ]
     },
     "execution_count": 21,
     "metadata": {},
     "output_type": "execute_result"
    }
   ],
   "source": [
    "counts = desc.value_counts()\n",
    "\n",
    "counts[:10]"
   ]
  },
  {
   "cell_type": "code",
   "execution_count": 22,
   "metadata": {
    "scrolled": true
   },
   "outputs": [
    {
     "data": {
      "text/plain": [
       "Unclean or degraded floors walls or ceilings  [ date violation corrected: 9/19/2017 ]               16\n",
       "Unclean or degraded floors walls or ceilings  [ date violation corrected: 11/29/2017 ]              16\n",
       "Inadequate HACCP plan record keeping                                                                16\n",
       "Unclean or degraded floors walls or ceilings  [ date violation corrected: 12/7/2017 ]               15\n",
       "Unclean or degraded floors walls or ceilings  [ date violation corrected: 11/27/2017 ]              15\n",
       "Unclean or degraded floors walls or ceilings  [ date violation corrected: 11/28/2017 ]              14\n",
       "Inadequately cleaned or sanitized food contact surfaces  [ date violation corrected: 9/26/2017 ]    14\n",
       "Unclean or degraded floors walls or ceilings  [ date violation corrected: 9/6/2017 ]                14\n",
       "Unapproved or unmaintained equipment or utensils  [ date violation corrected: 9/19/2017 ]           14\n",
       "Moderate risk vermin infestation  [ date violation corrected: 9/19/2017 ]                           13\n",
       "Name: desc, dtype: int64"
      ]
     },
     "execution_count": 22,
     "metadata": {},
     "output_type": "execute_result"
    }
   ],
   "source": [
    "# Hmmm...\n",
    "counts[50:60]"
   ]
  },
  {
   "cell_type": "code",
   "execution_count": 23,
   "metadata": {},
   "outputs": [
    {
     "name": "stderr",
     "output_type": "stream",
     "text": [
      "<ipython-input-23-311033cac0b1>:2: FutureWarning: The default value of regex will change from True to False in a future version.\n",
      "  vio['clean_desc'] = (vio['desc']\n"
     ]
    },
    {
     "data": {
      "text/html": [
       "<div>\n",
       "<style scoped>\n",
       "    .dataframe tbody tr th:only-of-type {\n",
       "        vertical-align: middle;\n",
       "    }\n",
       "\n",
       "    .dataframe tbody tr th {\n",
       "        vertical-align: top;\n",
       "    }\n",
       "\n",
       "    .dataframe thead th {\n",
       "        text-align: right;\n",
       "    }\n",
       "</style>\n",
       "<table border=\"1\" class=\"dataframe\">\n",
       "  <thead>\n",
       "    <tr style=\"text-align: right;\">\n",
       "      <th></th>\n",
       "      <th>id</th>\n",
       "      <th>date</th>\n",
       "      <th>desc</th>\n",
       "      <th>clean_desc</th>\n",
       "    </tr>\n",
       "  </thead>\n",
       "  <tbody>\n",
       "    <tr>\n",
       "      <th>0</th>\n",
       "      <td>19</td>\n",
       "      <td>20171211</td>\n",
       "      <td>Inadequate food safety knowledge or lack of ce...</td>\n",
       "      <td>inadequate food safety knowledge or lack of ce...</td>\n",
       "    </tr>\n",
       "    <tr>\n",
       "      <th>1</th>\n",
       "      <td>19</td>\n",
       "      <td>20171211</td>\n",
       "      <td>Unapproved or unmaintained equipment or utensils</td>\n",
       "      <td>unapproved or unmaintained equipment or utensils</td>\n",
       "    </tr>\n",
       "    <tr>\n",
       "      <th>2</th>\n",
       "      <td>19</td>\n",
       "      <td>20160513</td>\n",
       "      <td>Unapproved or unmaintained equipment or utensi...</td>\n",
       "      <td>unapproved or unmaintained equipment or utensils</td>\n",
       "    </tr>\n",
       "    <tr>\n",
       "      <th>3</th>\n",
       "      <td>19</td>\n",
       "      <td>20160513</td>\n",
       "      <td>Unclean or degraded floors walls or ceilings  ...</td>\n",
       "      <td>unclean or degraded floors walls or ceilings</td>\n",
       "    </tr>\n",
       "    <tr>\n",
       "      <th>4</th>\n",
       "      <td>19</td>\n",
       "      <td>20160513</td>\n",
       "      <td>Food safety certificate or food handler card n...</td>\n",
       "      <td>food safety certificate or food handler card n...</td>\n",
       "    </tr>\n",
       "  </tbody>\n",
       "</table>\n",
       "</div>"
      ],
      "text/plain": [
       "   id      date                                               desc  \\\n",
       "0  19  20171211  Inadequate food safety knowledge or lack of ce...   \n",
       "1  19  20171211   Unapproved or unmaintained equipment or utensils   \n",
       "2  19  20160513  Unapproved or unmaintained equipment or utensi...   \n",
       "3  19  20160513  Unclean or degraded floors walls or ceilings  ...   \n",
       "4  19  20160513  Food safety certificate or food handler card n...   \n",
       "\n",
       "                                          clean_desc  \n",
       "0  inadequate food safety knowledge or lack of ce...  \n",
       "1   unapproved or unmaintained equipment or utensils  \n",
       "2   unapproved or unmaintained equipment or utensils  \n",
       "3       unclean or degraded floors walls or ceilings  \n",
       "4  food safety certificate or food handler card n...  "
      ]
     },
     "execution_count": 23,
     "metadata": {},
     "output_type": "execute_result"
    }
   ],
   "source": [
    "#Use regular expressions to cut out the extra info in square braces.\n",
    "vio['clean_desc'] = (vio['desc']\n",
    "             .str.replace('\\s*\\[.*\\]$', '')\n",
    "             .str.strip()\n",
    "             .str.lower())\n",
    "vio.head()"
   ]
  },
  {
   "cell_type": "code",
   "execution_count": 24,
   "metadata": {},
   "outputs": [
    {
     "data": {
      "text/plain": [
       "unclean or degraded floors walls or ceilings               3507\n",
       "moderate risk food holding temperature                     2542\n",
       "inadequate and inaccessible handwashing facilities         2529\n",
       "unapproved or unmaintained equipment or utensils           2382\n",
       "inadequately cleaned or sanitized food contact surfaces    2301\n",
       "Name: clean_desc, dtype: int64"
      ]
     },
     "execution_count": 24,
     "metadata": {},
     "output_type": "execute_result"
    }
   ],
   "source": [
    "vio['clean_desc'].value_counts().head() "
   ]
  },
  {
   "cell_type": "code",
   "execution_count": 25,
   "metadata": {},
   "outputs": [
    {
     "data": {
      "text/html": [
       "<div>\n",
       "<style scoped>\n",
       "    .dataframe tbody tr th:only-of-type {\n",
       "        vertical-align: middle;\n",
       "    }\n",
       "\n",
       "    .dataframe tbody tr th {\n",
       "        vertical-align: top;\n",
       "    }\n",
       "\n",
       "    .dataframe thead th {\n",
       "        text-align: right;\n",
       "    }\n",
       "</style>\n",
       "<table border=\"1\" class=\"dataframe\">\n",
       "  <thead>\n",
       "    <tr style=\"text-align: right;\">\n",
       "      <th></th>\n",
       "      <th>id</th>\n",
       "      <th>date</th>\n",
       "      <th>desc</th>\n",
       "      <th>clean_desc</th>\n",
       "      <th>is_clean</th>\n",
       "      <th>is_high_risk</th>\n",
       "      <th>is_vermin</th>\n",
       "      <th>is_surface</th>\n",
       "      <th>is_human</th>\n",
       "      <th>is_permit</th>\n",
       "    </tr>\n",
       "  </thead>\n",
       "  <tbody>\n",
       "    <tr>\n",
       "      <th>0</th>\n",
       "      <td>19</td>\n",
       "      <td>20171211</td>\n",
       "      <td>Inadequate food safety knowledge or lack of ce...</td>\n",
       "      <td>inadequate food safety knowledge or lack of ce...</td>\n",
       "      <td>False</td>\n",
       "      <td>False</td>\n",
       "      <td>False</td>\n",
       "      <td>False</td>\n",
       "      <td>False</td>\n",
       "      <td>True</td>\n",
       "    </tr>\n",
       "    <tr>\n",
       "      <th>1</th>\n",
       "      <td>19</td>\n",
       "      <td>20171211</td>\n",
       "      <td>Unapproved or unmaintained equipment or utensils</td>\n",
       "      <td>unapproved or unmaintained equipment or utensils</td>\n",
       "      <td>False</td>\n",
       "      <td>False</td>\n",
       "      <td>False</td>\n",
       "      <td>False</td>\n",
       "      <td>False</td>\n",
       "      <td>False</td>\n",
       "    </tr>\n",
       "    <tr>\n",
       "      <th>2</th>\n",
       "      <td>19</td>\n",
       "      <td>20160513</td>\n",
       "      <td>Unapproved or unmaintained equipment or utensi...</td>\n",
       "      <td>unapproved or unmaintained equipment or utensils</td>\n",
       "      <td>False</td>\n",
       "      <td>False</td>\n",
       "      <td>False</td>\n",
       "      <td>False</td>\n",
       "      <td>False</td>\n",
       "      <td>False</td>\n",
       "    </tr>\n",
       "    <tr>\n",
       "      <th>3</th>\n",
       "      <td>19</td>\n",
       "      <td>20160513</td>\n",
       "      <td>Unclean or degraded floors walls or ceilings  ...</td>\n",
       "      <td>unclean or degraded floors walls or ceilings</td>\n",
       "      <td>True</td>\n",
       "      <td>False</td>\n",
       "      <td>False</td>\n",
       "      <td>True</td>\n",
       "      <td>False</td>\n",
       "      <td>False</td>\n",
       "    </tr>\n",
       "    <tr>\n",
       "      <th>4</th>\n",
       "      <td>19</td>\n",
       "      <td>20160513</td>\n",
       "      <td>Food safety certificate or food handler card n...</td>\n",
       "      <td>food safety certificate or food handler card n...</td>\n",
       "      <td>False</td>\n",
       "      <td>False</td>\n",
       "      <td>False</td>\n",
       "      <td>False</td>\n",
       "      <td>True</td>\n",
       "      <td>True</td>\n",
       "    </tr>\n",
       "  </tbody>\n",
       "</table>\n",
       "</div>"
      ],
      "text/plain": [
       "   id      date                                               desc  \\\n",
       "0  19  20171211  Inadequate food safety knowledge or lack of ce...   \n",
       "1  19  20171211   Unapproved or unmaintained equipment or utensils   \n",
       "2  19  20160513  Unapproved or unmaintained equipment or utensi...   \n",
       "3  19  20160513  Unclean or degraded floors walls or ceilings  ...   \n",
       "4  19  20160513  Food safety certificate or food handler card n...   \n",
       "\n",
       "                                          clean_desc  is_clean  is_high_risk  \\\n",
       "0  inadequate food safety knowledge or lack of ce...     False         False   \n",
       "1   unapproved or unmaintained equipment or utensils     False         False   \n",
       "2   unapproved or unmaintained equipment or utensils     False         False   \n",
       "3       unclean or degraded floors walls or ceilings      True         False   \n",
       "4  food safety certificate or food handler card n...     False         False   \n",
       "\n",
       "   is_vermin  is_surface  is_human  is_permit  \n",
       "0      False       False     False       True  \n",
       "1      False       False     False      False  \n",
       "2      False       False     False      False  \n",
       "3      False        True     False      False  \n",
       "4      False       False      True       True  "
      ]
     },
     "execution_count": 25,
     "metadata": {},
     "output_type": "execute_result"
    }
   ],
   "source": [
    "#use regular expressions to assign new features for the presence of various keywords\n",
    "with_features = (vio\n",
    " .assign(is_clean     = vio['clean_desc'].str.contains('clean|sanit'))\n",
    " .assign(is_high_risk = vio['clean_desc'].str.contains('high risk'))\n",
    " .assign(is_vermin    = vio['clean_desc'].str.contains('vermin'))\n",
    " .assign(is_surface   = vio['clean_desc'].str.contains('wall|ceiling|floor|surface'))\n",
    " .assign(is_human     = vio['clean_desc'].str.contains('hand|glove|hair|nail'))\n",
    " .assign(is_permit    = vio['clean_desc'].str.contains('permit|certif'))\n",
    ")\n",
    "with_features.head()"
   ]
  },
  {
   "cell_type": "code",
   "execution_count": 26,
   "metadata": {},
   "outputs": [
    {
     "data": {
      "text/html": [
       "<div>\n",
       "<style scoped>\n",
       "    .dataframe tbody tr th:only-of-type {\n",
       "        vertical-align: middle;\n",
       "    }\n",
       "\n",
       "    .dataframe tbody tr th {\n",
       "        vertical-align: top;\n",
       "    }\n",
       "\n",
       "    .dataframe thead th {\n",
       "        text-align: right;\n",
       "    }\n",
       "</style>\n",
       "<table border=\"1\" class=\"dataframe\">\n",
       "  <thead>\n",
       "    <tr style=\"text-align: right;\">\n",
       "      <th></th>\n",
       "      <th>id</th>\n",
       "      <th>date</th>\n",
       "      <th>is_clean</th>\n",
       "      <th>is_high_risk</th>\n",
       "      <th>is_vermin</th>\n",
       "      <th>is_surface</th>\n",
       "      <th>is_human</th>\n",
       "      <th>is_permit</th>\n",
       "    </tr>\n",
       "  </thead>\n",
       "  <tbody>\n",
       "    <tr>\n",
       "      <th>255</th>\n",
       "      <td>489</td>\n",
       "      <td>20150728</td>\n",
       "      <td>5</td>\n",
       "      <td>0</td>\n",
       "      <td>2</td>\n",
       "      <td>3</td>\n",
       "      <td>0</td>\n",
       "      <td>0</td>\n",
       "    </tr>\n",
       "    <tr>\n",
       "      <th>256</th>\n",
       "      <td>489</td>\n",
       "      <td>20150807</td>\n",
       "      <td>1</td>\n",
       "      <td>0</td>\n",
       "      <td>0</td>\n",
       "      <td>1</td>\n",
       "      <td>0</td>\n",
       "      <td>0</td>\n",
       "    </tr>\n",
       "    <tr>\n",
       "      <th>257</th>\n",
       "      <td>489</td>\n",
       "      <td>20160308</td>\n",
       "      <td>2</td>\n",
       "      <td>2</td>\n",
       "      <td>1</td>\n",
       "      <td>0</td>\n",
       "      <td>1</td>\n",
       "      <td>0</td>\n",
       "    </tr>\n",
       "    <tr>\n",
       "      <th>258</th>\n",
       "      <td>489</td>\n",
       "      <td>20160721</td>\n",
       "      <td>2</td>\n",
       "      <td>1</td>\n",
       "      <td>1</td>\n",
       "      <td>1</td>\n",
       "      <td>0</td>\n",
       "      <td>1</td>\n",
       "    </tr>\n",
       "    <tr>\n",
       "      <th>259</th>\n",
       "      <td>489</td>\n",
       "      <td>20161220</td>\n",
       "      <td>3</td>\n",
       "      <td>0</td>\n",
       "      <td>1</td>\n",
       "      <td>2</td>\n",
       "      <td>0</td>\n",
       "      <td>0</td>\n",
       "    </tr>\n",
       "  </tbody>\n",
       "</table>\n",
       "</div>"
      ],
      "text/plain": [
       "      id      date  is_clean  is_high_risk  is_vermin  is_surface  is_human  \\\n",
       "255  489  20150728         5             0          2           3         0   \n",
       "256  489  20150807         1             0          0           1         0   \n",
       "257  489  20160308         2             2          1           0         1   \n",
       "258  489  20160721         2             1          1           1         0   \n",
       "259  489  20161220         3             0          1           2         0   \n",
       "\n",
       "     is_permit  \n",
       "255          0  \n",
       "256          0  \n",
       "257          0  \n",
       "258          1  \n",
       "259          0  "
      ]
     },
     "execution_count": 26,
     "metadata": {},
     "output_type": "execute_result"
    }
   ],
   "source": [
    "count_features = (with_features\n",
    " .groupby(['id', 'date'])\n",
    " .sum()\n",
    " .reset_index()\n",
    ")\n",
    "count_features.iloc[255:260, :]"
   ]
  },
  {
   "cell_type": "code",
   "execution_count": 27,
   "metadata": {},
   "outputs": [
    {
     "data": {
      "text/html": [
       "<div>\n",
       "<style scoped>\n",
       "    .dataframe tbody tr th:only-of-type {\n",
       "        vertical-align: middle;\n",
       "    }\n",
       "\n",
       "    .dataframe tbody tr th {\n",
       "        vertical-align: top;\n",
       "    }\n",
       "\n",
       "    .dataframe thead th {\n",
       "        text-align: right;\n",
       "    }\n",
       "</style>\n",
       "<table border=\"1\" class=\"dataframe\">\n",
       "  <thead>\n",
       "    <tr style=\"text-align: right;\">\n",
       "      <th></th>\n",
       "      <th>id</th>\n",
       "      <th>date</th>\n",
       "      <th>is_clean</th>\n",
       "      <th>is_high_risk</th>\n",
       "      <th>is_vermin</th>\n",
       "      <th>is_surface</th>\n",
       "      <th>is_human</th>\n",
       "      <th>is_permit</th>\n",
       "    </tr>\n",
       "  </thead>\n",
       "  <tbody>\n",
       "    <tr>\n",
       "      <th>255</th>\n",
       "      <td>489</td>\n",
       "      <td>20150728</td>\n",
       "      <td>5</td>\n",
       "      <td>0</td>\n",
       "      <td>2</td>\n",
       "      <td>3</td>\n",
       "      <td>0</td>\n",
       "      <td>0</td>\n",
       "    </tr>\n",
       "    <tr>\n",
       "      <th>291</th>\n",
       "      <td>527</td>\n",
       "      <td>20170821</td>\n",
       "      <td>1</td>\n",
       "      <td>1</td>\n",
       "      <td>2</td>\n",
       "      <td>1</td>\n",
       "      <td>1</td>\n",
       "      <td>1</td>\n",
       "    </tr>\n",
       "    <tr>\n",
       "      <th>1508</th>\n",
       "      <td>2622</td>\n",
       "      <td>20160526</td>\n",
       "      <td>4</td>\n",
       "      <td>2</td>\n",
       "      <td>2</td>\n",
       "      <td>3</td>\n",
       "      <td>0</td>\n",
       "      <td>0</td>\n",
       "    </tr>\n",
       "    <tr>\n",
       "      <th>1573</th>\n",
       "      <td>2721</td>\n",
       "      <td>20150422</td>\n",
       "      <td>2</td>\n",
       "      <td>1</td>\n",
       "      <td>2</td>\n",
       "      <td>1</td>\n",
       "      <td>0</td>\n",
       "      <td>0</td>\n",
       "    </tr>\n",
       "    <tr>\n",
       "      <th>1746</th>\n",
       "      <td>2945</td>\n",
       "      <td>20150921</td>\n",
       "      <td>2</td>\n",
       "      <td>1</td>\n",
       "      <td>2</td>\n",
       "      <td>2</td>\n",
       "      <td>2</td>\n",
       "      <td>1</td>\n",
       "    </tr>\n",
       "    <tr>\n",
       "      <th>2277</th>\n",
       "      <td>3776</td>\n",
       "      <td>20151223</td>\n",
       "      <td>2</td>\n",
       "      <td>0</td>\n",
       "      <td>2</td>\n",
       "      <td>1</td>\n",
       "      <td>0</td>\n",
       "      <td>0</td>\n",
       "    </tr>\n",
       "    <tr>\n",
       "      <th>3784</th>\n",
       "      <td>6729</td>\n",
       "      <td>20160706</td>\n",
       "      <td>6</td>\n",
       "      <td>0</td>\n",
       "      <td>2</td>\n",
       "      <td>4</td>\n",
       "      <td>2</td>\n",
       "      <td>0</td>\n",
       "    </tr>\n",
       "    <tr>\n",
       "      <th>3949</th>\n",
       "      <td>7537</td>\n",
       "      <td>20150304</td>\n",
       "      <td>1</td>\n",
       "      <td>0</td>\n",
       "      <td>2</td>\n",
       "      <td>1</td>\n",
       "      <td>1</td>\n",
       "      <td>0</td>\n",
       "    </tr>\n",
       "    <tr>\n",
       "      <th>4017</th>\n",
       "      <td>7661</td>\n",
       "      <td>20160616</td>\n",
       "      <td>2</td>\n",
       "      <td>0</td>\n",
       "      <td>2</td>\n",
       "      <td>2</td>\n",
       "      <td>1</td>\n",
       "      <td>0</td>\n",
       "    </tr>\n",
       "    <tr>\n",
       "      <th>4165</th>\n",
       "      <td>9679</td>\n",
       "      <td>20150422</td>\n",
       "      <td>2</td>\n",
       "      <td>0</td>\n",
       "      <td>2</td>\n",
       "      <td>2</td>\n",
       "      <td>0</td>\n",
       "      <td>0</td>\n",
       "    </tr>\n",
       "    <tr>\n",
       "      <th>7742</th>\n",
       "      <td>69353</td>\n",
       "      <td>20150420</td>\n",
       "      <td>3</td>\n",
       "      <td>1</td>\n",
       "      <td>2</td>\n",
       "      <td>2</td>\n",
       "      <td>1</td>\n",
       "      <td>0</td>\n",
       "    </tr>\n",
       "    <tr>\n",
       "      <th>8319</th>\n",
       "      <td>71999</td>\n",
       "      <td>20150401</td>\n",
       "      <td>1</td>\n",
       "      <td>1</td>\n",
       "      <td>2</td>\n",
       "      <td>0</td>\n",
       "      <td>0</td>\n",
       "      <td>0</td>\n",
       "    </tr>\n",
       "    <tr>\n",
       "      <th>9074</th>\n",
       "      <td>77427</td>\n",
       "      <td>20170706</td>\n",
       "      <td>0</td>\n",
       "      <td>0</td>\n",
       "      <td>2</td>\n",
       "      <td>0</td>\n",
       "      <td>0</td>\n",
       "      <td>0</td>\n",
       "    </tr>\n",
       "    <tr>\n",
       "      <th>9759</th>\n",
       "      <td>80112</td>\n",
       "      <td>20160225</td>\n",
       "      <td>2</td>\n",
       "      <td>0</td>\n",
       "      <td>2</td>\n",
       "      <td>0</td>\n",
       "      <td>0</td>\n",
       "      <td>2</td>\n",
       "    </tr>\n",
       "    <tr>\n",
       "      <th>11552</th>\n",
       "      <td>87492</td>\n",
       "      <td>20161208</td>\n",
       "      <td>6</td>\n",
       "      <td>2</td>\n",
       "      <td>2</td>\n",
       "      <td>4</td>\n",
       "      <td>2</td>\n",
       "      <td>0</td>\n",
       "    </tr>\n",
       "  </tbody>\n",
       "</table>\n",
       "</div>"
      ],
      "text/plain": [
       "          id      date  is_clean  is_high_risk  is_vermin  is_surface  \\\n",
       "255      489  20150728         5             0          2           3   \n",
       "291      527  20170821         1             1          2           1   \n",
       "1508    2622  20160526         4             2          2           3   \n",
       "1573    2721  20150422         2             1          2           1   \n",
       "1746    2945  20150921         2             1          2           2   \n",
       "2277    3776  20151223         2             0          2           1   \n",
       "3784    6729  20160706         6             0          2           4   \n",
       "3949    7537  20150304         1             0          2           1   \n",
       "4017    7661  20160616         2             0          2           2   \n",
       "4165    9679  20150422         2             0          2           2   \n",
       "7742   69353  20150420         3             1          2           2   \n",
       "8319   71999  20150401         1             1          2           0   \n",
       "9074   77427  20170706         0             0          2           0   \n",
       "9759   80112  20160225         2             0          2           0   \n",
       "11552  87492  20161208         6             2          2           4   \n",
       "\n",
       "       is_human  is_permit  \n",
       "255           0          0  \n",
       "291           1          1  \n",
       "1508          0          0  \n",
       "1573          0          0  \n",
       "1746          2          1  \n",
       "2277          0          0  \n",
       "3784          2          0  \n",
       "3949          1          0  \n",
       "4017          1          0  \n",
       "4165          0          0  \n",
       "7742          1          0  \n",
       "8319          0          0  \n",
       "9074          0          0  \n",
       "9759          0          2  \n",
       "11552         2          0  "
      ]
     },
     "execution_count": 27,
     "metadata": {},
     "output_type": "execute_result"
    }
   ],
   "source": [
    "count_features.query('is_vermin > 1')"
   ]
  },
  {
   "cell_type": "code",
   "execution_count": 28,
   "metadata": {},
   "outputs": [
    {
     "data": {
      "text/html": [
       "<div>\n",
       "<style scoped>\n",
       "    .dataframe tbody tr th:only-of-type {\n",
       "        vertical-align: middle;\n",
       "    }\n",
       "\n",
       "    .dataframe tbody tr th {\n",
       "        vertical-align: top;\n",
       "    }\n",
       "\n",
       "    .dataframe thead th {\n",
       "        text-align: right;\n",
       "    }\n",
       "</style>\n",
       "<table border=\"1\" class=\"dataframe\">\n",
       "  <thead>\n",
       "    <tr style=\"text-align: right;\">\n",
       "      <th></th>\n",
       "      <th>id</th>\n",
       "      <th>date</th>\n",
       "      <th>feature</th>\n",
       "      <th>num_vios</th>\n",
       "    </tr>\n",
       "  </thead>\n",
       "  <tbody>\n",
       "    <tr>\n",
       "      <th>0</th>\n",
       "      <td>19</td>\n",
       "      <td>20160513</td>\n",
       "      <td>is_clean</td>\n",
       "      <td>1</td>\n",
       "    </tr>\n",
       "    <tr>\n",
       "      <th>12262</th>\n",
       "      <td>19</td>\n",
       "      <td>20160513</td>\n",
       "      <td>is_high_risk</td>\n",
       "      <td>0</td>\n",
       "    </tr>\n",
       "    <tr>\n",
       "      <th>24524</th>\n",
       "      <td>19</td>\n",
       "      <td>20160513</td>\n",
       "      <td>is_vermin</td>\n",
       "      <td>0</td>\n",
       "    </tr>\n",
       "    <tr>\n",
       "      <th>36786</th>\n",
       "      <td>19</td>\n",
       "      <td>20160513</td>\n",
       "      <td>is_surface</td>\n",
       "      <td>1</td>\n",
       "    </tr>\n",
       "    <tr>\n",
       "      <th>49048</th>\n",
       "      <td>19</td>\n",
       "      <td>20160513</td>\n",
       "      <td>is_human</td>\n",
       "      <td>1</td>\n",
       "    </tr>\n",
       "    <tr>\n",
       "      <th>61310</th>\n",
       "      <td>19</td>\n",
       "      <td>20160513</td>\n",
       "      <td>is_permit</td>\n",
       "      <td>1</td>\n",
       "    </tr>\n",
       "    <tr>\n",
       "      <th>1</th>\n",
       "      <td>19</td>\n",
       "      <td>20171211</td>\n",
       "      <td>is_clean</td>\n",
       "      <td>0</td>\n",
       "    </tr>\n",
       "    <tr>\n",
       "      <th>12263</th>\n",
       "      <td>19</td>\n",
       "      <td>20171211</td>\n",
       "      <td>is_high_risk</td>\n",
       "      <td>0</td>\n",
       "    </tr>\n",
       "    <tr>\n",
       "      <th>24525</th>\n",
       "      <td>19</td>\n",
       "      <td>20171211</td>\n",
       "      <td>is_vermin</td>\n",
       "      <td>0</td>\n",
       "    </tr>\n",
       "    <tr>\n",
       "      <th>36787</th>\n",
       "      <td>19</td>\n",
       "      <td>20171211</td>\n",
       "      <td>is_surface</td>\n",
       "      <td>0</td>\n",
       "    </tr>\n",
       "    <tr>\n",
       "      <th>49049</th>\n",
       "      <td>19</td>\n",
       "      <td>20171211</td>\n",
       "      <td>is_human</td>\n",
       "      <td>0</td>\n",
       "    </tr>\n",
       "    <tr>\n",
       "      <th>61311</th>\n",
       "      <td>19</td>\n",
       "      <td>20171211</td>\n",
       "      <td>is_permit</td>\n",
       "      <td>1</td>\n",
       "    </tr>\n",
       "    <tr>\n",
       "      <th>2</th>\n",
       "      <td>24</td>\n",
       "      <td>20160311</td>\n",
       "      <td>is_clean</td>\n",
       "      <td>2</td>\n",
       "    </tr>\n",
       "  </tbody>\n",
       "</table>\n",
       "</div>"
      ],
      "text/plain": [
       "       id      date       feature  num_vios\n",
       "0      19  20160513      is_clean         1\n",
       "12262  19  20160513  is_high_risk         0\n",
       "24524  19  20160513     is_vermin         0\n",
       "36786  19  20160513    is_surface         1\n",
       "49048  19  20160513      is_human         1\n",
       "61310  19  20160513     is_permit         1\n",
       "1      19  20171211      is_clean         0\n",
       "12263  19  20171211  is_high_risk         0\n",
       "24525  19  20171211     is_vermin         0\n",
       "36787  19  20171211    is_surface         0\n",
       "49049  19  20171211      is_human         0\n",
       "61311  19  20171211     is_permit         1\n",
       "2      24  20160311      is_clean         2"
      ]
     },
     "execution_count": 28,
     "metadata": {},
     "output_type": "execute_result"
    }
   ],
   "source": [
    "#use a new pandas feature called \"melt\" that we won't describe in any detail\n",
    "#the granularity of the resulting frame is a violation type in a given inspection\n",
    "broken_down_by_violation_type = pd.melt(count_features, id_vars=['id', 'date'],\n",
    "            var_name='feature', value_name='num_vios')\n",
    "broken_down_by_violation_type.sort_values([\"id\", \"date\"]).head(13)"
   ]
  },
  {
   "cell_type": "code",
   "execution_count": 29,
   "metadata": {},
   "outputs": [
    {
     "data": {
      "text/html": [
       "<div>\n",
       "<style scoped>\n",
       "    .dataframe tbody tr th:only-of-type {\n",
       "        vertical-align: middle;\n",
       "    }\n",
       "\n",
       "    .dataframe tbody tr th {\n",
       "        vertical-align: top;\n",
       "    }\n",
       "\n",
       "    .dataframe thead th {\n",
       "        text-align: right;\n",
       "    }\n",
       "</style>\n",
       "<table border=\"1\" class=\"dataframe\">\n",
       "  <thead>\n",
       "    <tr style=\"text-align: right;\">\n",
       "      <th></th>\n",
       "      <th>id</th>\n",
       "      <th>score</th>\n",
       "      <th>date</th>\n",
       "    </tr>\n",
       "  </thead>\n",
       "  <tbody>\n",
       "    <tr>\n",
       "      <th>0</th>\n",
       "      <td>19</td>\n",
       "      <td>94</td>\n",
       "      <td>20160513</td>\n",
       "    </tr>\n",
       "    <tr>\n",
       "      <th>1</th>\n",
       "      <td>19</td>\n",
       "      <td>94</td>\n",
       "      <td>20171211</td>\n",
       "    </tr>\n",
       "    <tr>\n",
       "      <th>2</th>\n",
       "      <td>24</td>\n",
       "      <td>98</td>\n",
       "      <td>20171101</td>\n",
       "    </tr>\n",
       "    <tr>\n",
       "      <th>3</th>\n",
       "      <td>24</td>\n",
       "      <td>98</td>\n",
       "      <td>20161005</td>\n",
       "    </tr>\n",
       "    <tr>\n",
       "      <th>4</th>\n",
       "      <td>24</td>\n",
       "      <td>96</td>\n",
       "      <td>20160311</td>\n",
       "    </tr>\n",
       "  </tbody>\n",
       "</table>\n",
       "</div>"
      ],
      "text/plain": [
       "   id  score      date\n",
       "0  19     94  20160513\n",
       "1  19     94  20171211\n",
       "2  24     98  20171101\n",
       "3  24     98  20161005\n",
       "4  24     96  20160311"
      ]
     },
     "execution_count": 29,
     "metadata": {},
     "output_type": "execute_result"
    }
   ],
   "source": [
    "#read in the scores\n",
    "ins = pd.read_csv('inspections.csv',\n",
    "                  header=0,\n",
    "                  usecols=[0, 1, 2],\n",
    "                  names=['id', 'score', 'date'])\n",
    "ins.head()"
   ]
  },
  {
   "cell_type": "code",
   "execution_count": 30,
   "metadata": {},
   "outputs": [
    {
     "data": {
      "text/html": [
       "<div>\n",
       "<style scoped>\n",
       "    .dataframe tbody tr th:only-of-type {\n",
       "        vertical-align: middle;\n",
       "    }\n",
       "\n",
       "    .dataframe tbody tr th {\n",
       "        vertical-align: top;\n",
       "    }\n",
       "\n",
       "    .dataframe thead th {\n",
       "        text-align: right;\n",
       "    }\n",
       "</style>\n",
       "<table border=\"1\" class=\"dataframe\">\n",
       "  <thead>\n",
       "    <tr style=\"text-align: right;\">\n",
       "      <th></th>\n",
       "      <th>id</th>\n",
       "      <th>date</th>\n",
       "      <th>feature</th>\n",
       "      <th>num_vios</th>\n",
       "      <th>score</th>\n",
       "    </tr>\n",
       "  </thead>\n",
       "  <tbody>\n",
       "    <tr>\n",
       "      <th>0</th>\n",
       "      <td>19</td>\n",
       "      <td>20160513</td>\n",
       "      <td>is_clean</td>\n",
       "      <td>1</td>\n",
       "      <td>94</td>\n",
       "    </tr>\n",
       "    <tr>\n",
       "      <th>1</th>\n",
       "      <td>19</td>\n",
       "      <td>20160513</td>\n",
       "      <td>is_high_risk</td>\n",
       "      <td>0</td>\n",
       "      <td>94</td>\n",
       "    </tr>\n",
       "    <tr>\n",
       "      <th>2</th>\n",
       "      <td>19</td>\n",
       "      <td>20160513</td>\n",
       "      <td>is_vermin</td>\n",
       "      <td>0</td>\n",
       "      <td>94</td>\n",
       "    </tr>\n",
       "    <tr>\n",
       "      <th>3</th>\n",
       "      <td>19</td>\n",
       "      <td>20160513</td>\n",
       "      <td>is_surface</td>\n",
       "      <td>1</td>\n",
       "      <td>94</td>\n",
       "    </tr>\n",
       "    <tr>\n",
       "      <th>4</th>\n",
       "      <td>19</td>\n",
       "      <td>20160513</td>\n",
       "      <td>is_human</td>\n",
       "      <td>1</td>\n",
       "      <td>94</td>\n",
       "    </tr>\n",
       "    <tr>\n",
       "      <th>5</th>\n",
       "      <td>19</td>\n",
       "      <td>20160513</td>\n",
       "      <td>is_permit</td>\n",
       "      <td>1</td>\n",
       "      <td>94</td>\n",
       "    </tr>\n",
       "    <tr>\n",
       "      <th>6</th>\n",
       "      <td>19</td>\n",
       "      <td>20171211</td>\n",
       "      <td>is_clean</td>\n",
       "      <td>0</td>\n",
       "      <td>94</td>\n",
       "    </tr>\n",
       "    <tr>\n",
       "      <th>7</th>\n",
       "      <td>19</td>\n",
       "      <td>20171211</td>\n",
       "      <td>is_high_risk</td>\n",
       "      <td>0</td>\n",
       "      <td>94</td>\n",
       "    </tr>\n",
       "    <tr>\n",
       "      <th>8</th>\n",
       "      <td>19</td>\n",
       "      <td>20171211</td>\n",
       "      <td>is_vermin</td>\n",
       "      <td>0</td>\n",
       "      <td>94</td>\n",
       "    </tr>\n",
       "    <tr>\n",
       "      <th>9</th>\n",
       "      <td>19</td>\n",
       "      <td>20171211</td>\n",
       "      <td>is_surface</td>\n",
       "      <td>0</td>\n",
       "      <td>94</td>\n",
       "    </tr>\n",
       "    <tr>\n",
       "      <th>10</th>\n",
       "      <td>19</td>\n",
       "      <td>20171211</td>\n",
       "      <td>is_human</td>\n",
       "      <td>0</td>\n",
       "      <td>94</td>\n",
       "    </tr>\n",
       "    <tr>\n",
       "      <th>11</th>\n",
       "      <td>19</td>\n",
       "      <td>20171211</td>\n",
       "      <td>is_permit</td>\n",
       "      <td>1</td>\n",
       "      <td>94</td>\n",
       "    </tr>\n",
       "  </tbody>\n",
       "</table>\n",
       "</div>"
      ],
      "text/plain": [
       "    id      date       feature  num_vios  score\n",
       "0   19  20160513      is_clean         1     94\n",
       "1   19  20160513  is_high_risk         0     94\n",
       "2   19  20160513     is_vermin         0     94\n",
       "3   19  20160513    is_surface         1     94\n",
       "4   19  20160513      is_human         1     94\n",
       "5   19  20160513     is_permit         1     94\n",
       "6   19  20171211      is_clean         0     94\n",
       "7   19  20171211  is_high_risk         0     94\n",
       "8   19  20171211     is_vermin         0     94\n",
       "9   19  20171211    is_surface         0     94\n",
       "10  19  20171211      is_human         0     94\n",
       "11  19  20171211     is_permit         1     94"
      ]
     },
     "execution_count": 30,
     "metadata": {},
     "output_type": "execute_result"
    }
   ],
   "source": [
    "#join scores with the table broken down by violation type\n",
    "violation_type_and_scores = (\n",
    "    broken_down_by_violation_type\n",
    "    .merge(ins, left_on=['id', 'date'], right_on=['id', 'date'])\n",
    ")\n",
    "violation_type_and_scores.head(12)"
   ]
  },
  {
   "cell_type": "code",
   "execution_count": 31,
   "metadata": {},
   "outputs": [
    {
     "data": {
      "text/plain": [
       "<seaborn.axisgrid.FacetGrid at 0x7fd90843a730>"
      ]
     },
     "execution_count": 31,
     "metadata": {},
     "output_type": "execute_result"
    },
    {
     "data": {
      "image/png": "[encoded data removed]",
      "text/plain": [
       "<Figure size 720x1080 with 6 Axes>"
      ]
     },
     "metadata": {
      "needs_background": "light"
     },
     "output_type": "display_data"
    }
   ],
   "source": [
    "sns.catplot(x='num_vios', y='score',\n",
    "               col='feature', col_wrap=2,\n",
    "               kind='box',\n",
    "               data=violation_type_and_scores)"
   ]
  },
  {
   "cell_type": "markdown",
   "metadata": {},
   "source": [
    "Above we see, for example, that if a restaurant inspection involved 2 violation with the keyword \"vermin\", the average score for that inspection would be a little bit below 80."
   ]
  },
  {
   "cell_type": "markdown",
   "metadata": {},
   "source": [
    "## Text Processing Example 2: Police Data\n",
    "\n",
    "In this example, we will apply string processing to the process of data cleaning and exploratory data analysis."
   ]
  },
  {
   "cell_type": "markdown",
   "metadata": {},
   "source": [
    "### Getting the Data\n",
    "\n",
    "The city of Berkeley maintains an [Open Data Portal](https://data.cityofberkeley.info/) for citizens to access data about the city.  We will be examining [Call Data](https://data.cityofberkeley.info/Public-Safety/Berkeley-PD-Calls-for-Service/k2nh-s5h5).\n",
    "\n",
    "<img src=\"calls_desc.png\" width=800px />\n",
    "\n"
   ]
  },
  {
   "cell_type": "code",
   "execution_count": 32,
   "metadata": {
    "ExecuteTime": {
     "end_time": "2018-02-02T15:15:19.115040Z",
     "start_time": "2018-02-02T15:15:19.070620Z"
    }
   },
   "outputs": [
    {
     "name": "stdout",
     "output_type": "stream",
     "text": [
      "Using cached version that was downloaded (UTC): Sun Jun 27 22:01:38 2021\n"
     ]
    },
    {
     "data": {
      "text/html": [
       "<div>\n",
       "<style scoped>\n",
       "    .dataframe tbody tr th:only-of-type {\n",
       "        vertical-align: middle;\n",
       "    }\n",
       "\n",
       "    .dataframe tbody tr th {\n",
       "        vertical-align: top;\n",
       "    }\n",
       "\n",
       "    .dataframe thead th {\n",
       "        text-align: right;\n",
       "    }\n",
       "</style>\n",
       "<table border=\"1\" class=\"dataframe\">\n",
       "  <thead>\n",
       "    <tr style=\"text-align: right;\">\n",
       "      <th></th>\n",
       "      <th>CASENO</th>\n",
       "      <th>OFFENSE</th>\n",
       "      <th>EVENTDT</th>\n",
       "      <th>EVENTTM</th>\n",
       "      <th>CVLEGEND</th>\n",
       "      <th>CVDOW</th>\n",
       "      <th>InDbDate</th>\n",
       "      <th>Block_Location</th>\n",
       "      <th>BLKADDR</th>\n",
       "      <th>City</th>\n",
       "      <th>State</th>\n",
       "    </tr>\n",
       "  </thead>\n",
       "  <tbody>\n",
       "    <tr>\n",
       "      <th>0</th>\n",
       "      <td>19043288</td>\n",
       "      <td>SEXUAL ASSAULT FEL.</td>\n",
       "      <td>08/02/2019 12:00:00 AM</td>\n",
       "      <td>12:00</td>\n",
       "      <td>SEX CRIME</td>\n",
       "      <td>5</td>\n",
       "      <td>09/14/2020 07:00:09 AM</td>\n",
       "      <td>0 UNKNOWN\\nBerkeley, CA</td>\n",
       "      <td>0 UNKNOWN</td>\n",
       "      <td>Berkeley</td>\n",
       "      <td>CA</td>\n",
       "    </tr>\n",
       "    <tr>\n",
       "      <th>1</th>\n",
       "      <td>19092424</td>\n",
       "      <td>THEFT MISD. (UNDER $950)</td>\n",
       "      <td>11/03/2019 12:00:00 AM</td>\n",
       "      <td>20:10</td>\n",
       "      <td>LARCENY</td>\n",
       "      <td>0</td>\n",
       "      <td>09/14/2020 07:00:12 AM</td>\n",
       "      <td>DURANT AVE\\nBerkeley, CA</td>\n",
       "      <td>DURANT AVE</td>\n",
       "      <td>Berkeley</td>\n",
       "      <td>CA</td>\n",
       "    </tr>\n",
       "    <tr>\n",
       "      <th>2</th>\n",
       "      <td>19039736</td>\n",
       "      <td>DISTURBANCE</td>\n",
       "      <td>07/21/2019 12:00:00 AM</td>\n",
       "      <td>04:30</td>\n",
       "      <td>DISORDERLY CONDUCT</td>\n",
       "      <td>0</td>\n",
       "      <td>09/14/2020 07:00:08 AM</td>\n",
       "      <td>300 CANYON RD\\nBerkeley, CA</td>\n",
       "      <td>300 CANYON RD</td>\n",
       "      <td>Berkeley</td>\n",
       "      <td>CA</td>\n",
       "    </tr>\n",
       "    <tr>\n",
       "      <th>3</th>\n",
       "      <td>19092062</td>\n",
       "      <td>BURGLARY AUTO</td>\n",
       "      <td>09/28/2019 12:00:00 AM</td>\n",
       "      <td>07:25</td>\n",
       "      <td>BURGLARY - VEHICLE</td>\n",
       "      <td>6</td>\n",
       "      <td>09/14/2020 07:00:11 AM</td>\n",
       "      <td>SPINNAKER WAY\\nBerkeley, CA</td>\n",
       "      <td>SPINNAKER WAY</td>\n",
       "      <td>Berkeley</td>\n",
       "      <td>CA</td>\n",
       "    </tr>\n",
       "    <tr>\n",
       "      <th>4</th>\n",
       "      <td>19092648</td>\n",
       "      <td>VANDALISM</td>\n",
       "      <td>11/26/2019 12:00:00 AM</td>\n",
       "      <td>22:00</td>\n",
       "      <td>VANDALISM</td>\n",
       "      <td>2</td>\n",
       "      <td>09/14/2020 07:00:12 AM</td>\n",
       "      <td>1200 HOPKINS ST\\nBerkeley, CA\\n(37.876428, -12...</td>\n",
       "      <td>1200 HOPKINS ST</td>\n",
       "      <td>Berkeley</td>\n",
       "      <td>CA</td>\n",
       "    </tr>\n",
       "  </tbody>\n",
       "</table>\n",
       "</div>"
      ],
      "text/plain": [
       "     CASENO                   OFFENSE                 EVENTDT EVENTTM  \\\n",
       "0  19043288       SEXUAL ASSAULT FEL.  08/02/2019 12:00:00 AM   12:00   \n",
       "1  19092424  THEFT MISD. (UNDER $950)  11/03/2019 12:00:00 AM   20:10   \n",
       "2  19039736               DISTURBANCE  07/21/2019 12:00:00 AM   04:30   \n",
       "3  19092062             BURGLARY AUTO  09/28/2019 12:00:00 AM   07:25   \n",
       "4  19092648                 VANDALISM  11/26/2019 12:00:00 AM   22:00   \n",
       "\n",
       "             CVLEGEND  CVDOW                InDbDate  \\\n",
       "0           SEX CRIME      5  09/14/2020 07:00:09 AM   \n",
       "1             LARCENY      0  09/14/2020 07:00:12 AM   \n",
       "2  DISORDERLY CONDUCT      0  09/14/2020 07:00:08 AM   \n",
       "3  BURGLARY - VEHICLE      6  09/14/2020 07:00:11 AM   \n",
       "4           VANDALISM      2  09/14/2020 07:00:12 AM   \n",
       "\n",
       "                                      Block_Location          BLKADDR  \\\n",
       "0                            0 UNKNOWN\\nBerkeley, CA        0 UNKNOWN   \n",
       "1                           DURANT AVE\\nBerkeley, CA       DURANT AVE   \n",
       "2                        300 CANYON RD\\nBerkeley, CA    300 CANYON RD   \n",
       "3                        SPINNAKER WAY\\nBerkeley, CA    SPINNAKER WAY   \n",
       "4  1200 HOPKINS ST\\nBerkeley, CA\\n(37.876428, -12...  1200 HOPKINS ST   \n",
       "\n",
       "       City State  \n",
       "0  Berkeley    CA  \n",
       "1  Berkeley    CA  \n",
       "2  Berkeley    CA  \n",
       "3  Berkeley    CA  \n",
       "4  Berkeley    CA  "
      ]
     },
     "execution_count": 32,
     "metadata": {},
     "output_type": "execute_result"
    }
   ],
   "source": [
    "import ds100_utils\n",
    "\n",
    "calls_url = 'https://data.cityofberkeley.info/api/views/k2nh-s5h5/rows.csv?accessType=DOWNLOAD'\n",
    "calls_file = ds100_utils.fetch_and_cache(calls_url, 'calls.csv')\n",
    "calls = pd.read_csv(calls_file, warn_bad_lines=True)\n",
    "calls.head()"
   ]
  },
  {
   "cell_type": "markdown",
   "metadata": {},
   "source": [
    "How many records did we get?"
   ]
  },
  {
   "cell_type": "code",
   "execution_count": 33,
   "metadata": {
    "ExecuteTime": {
     "end_time": "2018-02-02T15:15:19.122345Z",
     "start_time": "2018-02-02T15:15:19.118071Z"
    }
   },
   "outputs": [
    {
     "data": {
      "text/plain": [
       "5227"
      ]
     },
     "execution_count": 33,
     "metadata": {},
     "output_type": "execute_result"
    }
   ],
   "source": [
    "len(calls)"
   ]
  },
  {
   "cell_type": "markdown",
   "metadata": {},
   "source": [
    "What does an example `Block_Location` value look like?"
   ]
  },
  {
   "cell_type": "code",
   "execution_count": 34,
   "metadata": {},
   "outputs": [
    {
     "name": "stdout",
     "output_type": "stream",
     "text": [
      "1200 HOPKINS ST\n",
      "Berkeley, CA\n",
      "(37.876428, -122.291736)\n"
     ]
    }
   ],
   "source": [
    "print(calls['Block_Location'].iloc[4])"
   ]
  },
  {
   "cell_type": "markdown",
   "metadata": {
    "solution2": "hidden",
    "solution2_first": true
   },
   "source": [
    "### Preliminary observations on the data?"
   ]
  },
  {
   "cell_type": "markdown",
   "metadata": {
    "solution2": "hidden"
   },
   "source": [
    "1. `EVENTDT` -- Contains the incorrect time\n",
    "1. `EVENTTM` -- Contains the time in 24 hour format (What timezone?)\n",
    "1. `CVDOW` -- Encodes the day of the week (see data documentation).\n",
    "1. `InDbDate` -- Appears to be correctly formatted and appears pretty consistent in time.\n",
    "1. **`Block_Location` -- a multi-line string that contains coordinates.**\n",
    "1. `BLKADDR` -- Appears to be the address in `Block Location`.\n",
    "1. `City` and `State` seem redundant given this is supposed to be the city of Berkeley dataset."
   ]
  },
  {
   "cell_type": "markdown",
   "metadata": {},
   "source": [
    "### Extracting locations\n",
    "\n",
    "The block location contains geographic coordinates. Let's extract them."
   ]
  },
  {
   "cell_type": "code",
   "execution_count": 35,
   "metadata": {
    "ExecuteTime": {
     "end_time": "2018-02-02T15:15:19.230720Z",
     "start_time": "2018-02-02T15:15:19.225971Z"
    }
   },
   "outputs": [
    {
     "data": {
      "text/plain": [
       "'1200 HOPKINS ST\\nBerkeley, CA\\n(37.876428, -122.291736)'"
      ]
     },
     "execution_count": 35,
     "metadata": {},
     "output_type": "execute_result"
    }
   ],
   "source": [
    "calls['Block_Location'][4]"
   ]
  },
  {
   "cell_type": "code",
   "execution_count": 36,
   "metadata": {
    "ExecuteTime": {
     "end_time": "2018-02-02T15:15:19.268222Z",
     "start_time": "2018-02-02T15:15:19.233193Z"
    }
   },
   "outputs": [
    {
     "data": {
      "text/html": [
       "<div>\n",
       "<style scoped>\n",
       "    .dataframe tbody tr th:only-of-type {\n",
       "        vertical-align: middle;\n",
       "    }\n",
       "\n",
       "    .dataframe tbody tr th {\n",
       "        vertical-align: top;\n",
       "    }\n",
       "\n",
       "    .dataframe thead th {\n",
       "        text-align: right;\n",
       "    }\n",
       "</style>\n",
       "<table border=\"1\" class=\"dataframe\">\n",
       "  <thead>\n",
       "    <tr style=\"text-align: right;\">\n",
       "      <th></th>\n",
       "      <th>Lat</th>\n",
       "      <th>Lon</th>\n",
       "    </tr>\n",
       "  </thead>\n",
       "  <tbody>\n",
       "    <tr>\n",
       "      <th>0</th>\n",
       "      <td>NaN</td>\n",
       "      <td>NaN</td>\n",
       "    </tr>\n",
       "    <tr>\n",
       "      <th>1</th>\n",
       "      <td>NaN</td>\n",
       "      <td>NaN</td>\n",
       "    </tr>\n",
       "    <tr>\n",
       "      <th>2</th>\n",
       "      <td>NaN</td>\n",
       "      <td>NaN</td>\n",
       "    </tr>\n",
       "    <tr>\n",
       "      <th>3</th>\n",
       "      <td>NaN</td>\n",
       "      <td>NaN</td>\n",
       "    </tr>\n",
       "    <tr>\n",
       "      <th>4</th>\n",
       "      <td>37.876428</td>\n",
       "      <td>-122.291736</td>\n",
       "    </tr>\n",
       "    <tr>\n",
       "      <th>5</th>\n",
       "      <td>37.881957</td>\n",
       "      <td>-122.269551</td>\n",
       "    </tr>\n",
       "    <tr>\n",
       "      <th>6</th>\n",
       "      <td>37.858116</td>\n",
       "      <td>-122.268002</td>\n",
       "    </tr>\n",
       "    <tr>\n",
       "      <th>7</th>\n",
       "      <td>37.88014</td>\n",
       "      <td>-122.297498</td>\n",
       "    </tr>\n",
       "    <tr>\n",
       "      <th>8</th>\n",
       "      <td>37.894692</td>\n",
       "      <td>-122.272265</td>\n",
       "    </tr>\n",
       "    <tr>\n",
       "      <th>9</th>\n",
       "      <td>37.847262</td>\n",
       "      <td>-122.275622</td>\n",
       "    </tr>\n",
       "  </tbody>\n",
       "</table>\n",
       "</div>"
      ],
      "text/plain": [
       "         Lat          Lon\n",
       "0        NaN          NaN\n",
       "1        NaN          NaN\n",
       "2        NaN          NaN\n",
       "3        NaN          NaN\n",
       "4  37.876428  -122.291736\n",
       "5  37.881957  -122.269551\n",
       "6  37.858116  -122.268002\n",
       "7   37.88014  -122.297498\n",
       "8  37.894692  -122.272265\n",
       "9  37.847262  -122.275622"
      ]
     },
     "execution_count": 36,
     "metadata": {},
     "output_type": "execute_result"
    }
   ],
   "source": [
    "calls_lat_lon = (\n",
    "    calls['Block_Location']\n",
    "    .str.extract(\"\\((\\d+\\.\\d+)\\, (-\\d+\\.\\d+)\\)\")\n",
    ")\n",
    "calls_lat_lon.columns = ['Lat', 'Lon']\n",
    "calls_lat_lon.head(10)"
   ]
  },
  {
   "cell_type": "markdown",
   "metadata": {},
   "source": [
    "How many records have missing values?"
   ]
  },
  {
   "cell_type": "code",
   "execution_count": 37,
   "metadata": {
    "ExecuteTime": {
     "end_time": "2018-02-02T15:15:19.280471Z",
     "start_time": "2018-02-02T15:15:19.271307Z"
    }
   },
   "outputs": [
    {
     "data": {
      "text/plain": [
       "Lat    193\n",
       "Lon    193\n",
       "dtype: int64"
      ]
     },
     "execution_count": 37,
     "metadata": {},
     "output_type": "execute_result"
    }
   ],
   "source": [
    "calls_lat_lon.isnull().sum()"
   ]
  },
  {
   "cell_type": "markdown",
   "metadata": {},
   "source": [
    "Examine the missing values."
   ]
  },
  {
   "cell_type": "code",
   "execution_count": 38,
   "metadata": {},
   "outputs": [
    {
     "data": {
      "text/plain": [
       "0                            0 UNKNOWN\\nBerkeley, CA\n",
       "1                           DURANT AVE\\nBerkeley, CA\n",
       "2                        300 CANYON RD\\nBerkeley, CA\n",
       "3                        SPINNAKER WAY\\nBerkeley, CA\n",
       "13           ADDISON STREET & GRANT ST\\nBerkeley, CA\n",
       "50          SHATTUCK AV & TELEGRAPH AV\\nBerkeley, CA\n",
       "57       SAN PABLO AVENUE &CARLETON ST\\nBerkeley, CA\n",
       "62       GOLDEN GATE FIELDS &GILMAN ST\\nBerkeley, CA\n",
       "69    CLAREMONT AVE&STONEWALL ROAD AVE\\nBerkeley, CA\n",
       "77          SHATTUCK AVENUE &CENTER ST\\nBerkeley, CA\n",
       "Name: Block_Location, dtype: object"
      ]
     },
     "execution_count": 38,
     "metadata": {},
     "output_type": "execute_result"
    }
   ],
   "source": [
    "calls[calls_lat_lon.isnull().any(axis=1)]['Block_Location'].head(10)"
   ]
  },
  {
   "cell_type": "markdown",
   "metadata": {},
   "source": [
    "Join in the extracted values."
   ]
  },
  {
   "cell_type": "code",
   "execution_count": 39,
   "metadata": {
    "ExecuteTime": {
     "end_time": "2018-02-02T15:15:19.328544Z",
     "start_time": "2018-02-02T15:15:19.287625Z"
    },
    "scrolled": true
   },
   "outputs": [
    {
     "data": {
      "text/html": [
       "<div>\n",
       "<style scoped>\n",
       "    .dataframe tbody tr th:only-of-type {\n",
       "        vertical-align: middle;\n",
       "    }\n",
       "\n",
       "    .dataframe tbody tr th {\n",
       "        vertical-align: top;\n",
       "    }\n",
       "\n",
       "    .dataframe thead th {\n",
       "        text-align: right;\n",
       "    }\n",
       "</style>\n",
       "<table border=\"1\" class=\"dataframe\">\n",
       "  <thead>\n",
       "    <tr style=\"text-align: right;\">\n",
       "      <th></th>\n",
       "      <th>CASENO</th>\n",
       "      <th>OFFENSE</th>\n",
       "      <th>EVENTDT</th>\n",
       "      <th>EVENTTM</th>\n",
       "      <th>CVLEGEND</th>\n",
       "      <th>CVDOW</th>\n",
       "      <th>InDbDate</th>\n",
       "      <th>Block_Location</th>\n",
       "      <th>BLKADDR</th>\n",
       "      <th>City</th>\n",
       "      <th>State</th>\n",
       "      <th>Lat</th>\n",
       "      <th>Lon</th>\n",
       "    </tr>\n",
       "  </thead>\n",
       "  <tbody>\n",
       "    <tr>\n",
       "      <th>0</th>\n",
       "      <td>19043288</td>\n",
       "      <td>SEXUAL ASSAULT FEL.</td>\n",
       "      <td>08/02/2019 12:00:00 AM</td>\n",
       "      <td>12:00</td>\n",
       "      <td>SEX CRIME</td>\n",
       "      <td>5</td>\n",
       "      <td>09/14/2020 07:00:09 AM</td>\n",
       "      <td>0 UNKNOWN\\nBerkeley, CA</td>\n",
       "      <td>0 UNKNOWN</td>\n",
       "      <td>Berkeley</td>\n",
       "      <td>CA</td>\n",
       "      <td>NaN</td>\n",
       "      <td>NaN</td>\n",
       "    </tr>\n",
       "    <tr>\n",
       "      <th>1</th>\n",
       "      <td>19092424</td>\n",
       "      <td>THEFT MISD. (UNDER $950)</td>\n",
       "      <td>11/03/2019 12:00:00 AM</td>\n",
       "      <td>20:10</td>\n",
       "      <td>LARCENY</td>\n",
       "      <td>0</td>\n",
       "      <td>09/14/2020 07:00:12 AM</td>\n",
       "      <td>DURANT AVE\\nBerkeley, CA</td>\n",
       "      <td>DURANT AVE</td>\n",
       "      <td>Berkeley</td>\n",
       "      <td>CA</td>\n",
       "      <td>NaN</td>\n",
       "      <td>NaN</td>\n",
       "    </tr>\n",
       "    <tr>\n",
       "      <th>2</th>\n",
       "      <td>19039736</td>\n",
       "      <td>DISTURBANCE</td>\n",
       "      <td>07/21/2019 12:00:00 AM</td>\n",
       "      <td>04:30</td>\n",
       "      <td>DISORDERLY CONDUCT</td>\n",
       "      <td>0</td>\n",
       "      <td>09/14/2020 07:00:08 AM</td>\n",
       "      <td>300 CANYON RD\\nBerkeley, CA</td>\n",
       "      <td>300 CANYON RD</td>\n",
       "      <td>Berkeley</td>\n",
       "      <td>CA</td>\n",
       "      <td>NaN</td>\n",
       "      <td>NaN</td>\n",
       "    </tr>\n",
       "    <tr>\n",
       "      <th>3</th>\n",
       "      <td>19092062</td>\n",
       "      <td>BURGLARY AUTO</td>\n",
       "      <td>09/28/2019 12:00:00 AM</td>\n",
       "      <td>07:25</td>\n",
       "      <td>BURGLARY - VEHICLE</td>\n",
       "      <td>6</td>\n",
       "      <td>09/14/2020 07:00:11 AM</td>\n",
       "      <td>SPINNAKER WAY\\nBerkeley, CA</td>\n",
       "      <td>SPINNAKER WAY</td>\n",
       "      <td>Berkeley</td>\n",
       "      <td>CA</td>\n",
       "      <td>NaN</td>\n",
       "      <td>NaN</td>\n",
       "    </tr>\n",
       "    <tr>\n",
       "      <th>4</th>\n",
       "      <td>19092648</td>\n",
       "      <td>VANDALISM</td>\n",
       "      <td>11/26/2019 12:00:00 AM</td>\n",
       "      <td>22:00</td>\n",
       "      <td>VANDALISM</td>\n",
       "      <td>2</td>\n",
       "      <td>09/14/2020 07:00:12 AM</td>\n",
       "      <td>1200 HOPKINS ST\\nBerkeley, CA\\n(37.876428, -12...</td>\n",
       "      <td>1200 HOPKINS ST</td>\n",
       "      <td>Berkeley</td>\n",
       "      <td>CA</td>\n",
       "      <td>37.876428</td>\n",
       "      <td>-122.291736</td>\n",
       "    </tr>\n",
       "  </tbody>\n",
       "</table>\n",
       "</div>"
      ],
      "text/plain": [
       "     CASENO                   OFFENSE                 EVENTDT EVENTTM  \\\n",
       "0  19043288       SEXUAL ASSAULT FEL.  08/02/2019 12:00:00 AM   12:00   \n",
       "1  19092424  THEFT MISD. (UNDER $950)  11/03/2019 12:00:00 AM   20:10   \n",
       "2  19039736               DISTURBANCE  07/21/2019 12:00:00 AM   04:30   \n",
       "3  19092062             BURGLARY AUTO  09/28/2019 12:00:00 AM   07:25   \n",
       "4  19092648                 VANDALISM  11/26/2019 12:00:00 AM   22:00   \n",
       "\n",
       "             CVLEGEND  CVDOW                InDbDate  \\\n",
       "0           SEX CRIME      5  09/14/2020 07:00:09 AM   \n",
       "1             LARCENY      0  09/14/2020 07:00:12 AM   \n",
       "2  DISORDERLY CONDUCT      0  09/14/2020 07:00:08 AM   \n",
       "3  BURGLARY - VEHICLE      6  09/14/2020 07:00:11 AM   \n",
       "4           VANDALISM      2  09/14/2020 07:00:12 AM   \n",
       "\n",
       "                                      Block_Location          BLKADDR  \\\n",
       "0                            0 UNKNOWN\\nBerkeley, CA        0 UNKNOWN   \n",
       "1                           DURANT AVE\\nBerkeley, CA       DURANT AVE   \n",
       "2                        300 CANYON RD\\nBerkeley, CA    300 CANYON RD   \n",
       "3                        SPINNAKER WAY\\nBerkeley, CA    SPINNAKER WAY   \n",
       "4  1200 HOPKINS ST\\nBerkeley, CA\\n(37.876428, -12...  1200 HOPKINS ST   \n",
       "\n",
       "       City State        Lat          Lon  \n",
       "0  Berkeley    CA        NaN          NaN  \n",
       "1  Berkeley    CA        NaN          NaN  \n",
       "2  Berkeley    CA        NaN          NaN  \n",
       "3  Berkeley    CA        NaN          NaN  \n",
       "4  Berkeley    CA  37.876428  -122.291736  "
      ]
     },
     "execution_count": 39,
     "metadata": {},
     "output_type": "execute_result"
    }
   ],
   "source": [
    "calls['Lat'] = calls_lat_lon['Lat']\n",
    "calls['Lon'] = calls_lat_lon['Lon']\n",
    "calls.head()"
   ]
  },
  {
   "cell_type": "markdown",
   "metadata": {},
   "source": [
    "## Examining Location information\n",
    "\n",
    "Let's examine the geographic data (latitude and longitude).  Recall that we had some missing values.  Let's look at the behavior of these missing values according to crime type."
   ]
  },
  {
   "cell_type": "code",
   "execution_count": 40,
   "metadata": {
    "ExecuteTime": {
     "end_time": "2018-02-02T15:15:34.130428Z",
     "start_time": "2018-02-02T15:15:32.851717Z"
    }
   },
   "outputs": [
    {
     "data": {
      "image/png": "[encoded data removed]",
      "text/plain": [
       "<Figure size 432x288 with 1 Axes>"
      ]
     },
     "metadata": {
      "needs_background": "light"
     },
     "output_type": "display_data"
    }
   ],
   "source": [
    "missing_lat_lon = calls[calls[['Lat', 'Lon']].isnull().any(axis=1)]\n",
    "missing_lat_lon['CVLEGEND'].value_counts().plot(kind='barh');"
   ]
  },
  {
   "cell_type": "code",
   "execution_count": 41,
   "metadata": {},
   "outputs": [
    {
     "data": {
      "image/png": "[encoded data removed]",
      "text/plain": [
       "<Figure size 432x288 with 1 Axes>"
      ]
     },
     "metadata": {
      "needs_background": "light"
     },
     "output_type": "display_data"
    }
   ],
   "source": [
    "calls['CVLEGEND'].value_counts().plot(kind='barh');"
   ]
  },
  {
   "cell_type": "markdown",
   "metadata": {},
   "source": [
    "We might further normalize the analysis by the frequency to find which type of crime has the highest proportion of missing values."
   ]
  },
  {
   "cell_type": "code",
   "execution_count": 42,
   "metadata": {
    "ExecuteTime": {
     "end_time": "2018-02-02T15:15:35.358758Z",
     "start_time": "2018-02-02T15:15:34.132788Z"
    }
   },
   "outputs": [
    {
     "data": {
      "image/png": "[encoded data removed]",
      "text/plain": [
       "<Figure size 432x288 with 1 Axes>"
      ]
     },
     "metadata": {
      "needs_background": "light"
     },
     "output_type": "display_data"
    }
   ],
   "source": [
    "(missing_lat_lon['CVLEGEND'].value_counts() \n",
    " / calls['CVLEGEND'].value_counts()\n",
    ").sort_values(ascending=False).plot(kind=\"barh\");"
   ]
  },
  {
   "cell_type": "markdown",
   "metadata": {},
   "source": [
    "Now, let's make a crime map."
   ]
  },
  {
   "cell_type": "code",
   "execution_count": 43,
   "metadata": {},
   "outputs": [],
   "source": [
    "# you may need to install the folium package for this to work\n",
    "# to do this, uncomment the line below and run it.\n",
    "# !pip install folium"
   ]
  },
  {
   "cell_type": "code",
   "execution_count": 44,
   "metadata": {},
   "outputs": [
    {
     "data": {
      "text/html": [
       "<div style=\"width:100%;\"><div style=\"position:relative;width:100%;height:0;padding-bottom:60%;\"><span style=\"color:#565656\">Make this Notebook Trusted to load map: File -> Trust Notebook</span><iframe src=\"about:blank\" style=\"position:absolute;width:100%;height:100%;left:0;top:0;border:none !important;\" data-html=%3C%21DOCTYPE%20html%3E%0A%3Chead%3E%20%20%20%20%0A%20%20%20%20%3Cmeta%20http-equiv%3D%22content-type%22%20content%3D%22text/html%3B%20charset%3DUTF-8%22%20/%3E%0A%20%20%20%20%0A%20%20%20%20%20%20%20%20%3Cscript%3E%0A%20%20%20%20%20%20%20%20%20%20%20%20L_NO_TOUCH%20%3D%20false%3B%0A%20%20%20%20%20%20%20%20%20%20%20%20L_DISABLE_3D%20%3D%20false%3B%0A%20%20%20%20%20%20%20%20%3C/script%3E%0A%20%20%20%20%0A%20%20%20%20%3Cscript%20src%3D%22https%3A//cdn.jsdelivr.net/npm/leaflet%401.6.0/dist/leaflet.js%22%3E%3C/script%3E%0A%20%20%20%20%3Cscript%20src%3D%22https%3A//code.jquery.com/jquery-1.12.4.min.js%22%3E%3C/script%3E%0A%20%20%20%20%3Cscript%20src%3D%22https%3A//maxcdn.bootstrapcdn.com/bootstrap/3.2.0/js/bootstrap.min.js%22%3E%3C/script%3E%0A%20%20%20%20%3Cscript%20src%3D%22https%3A//cdnjs.cloudflare.com/ajax/libs/Leaflet.awesome-markers/2.0.2/leaflet.awesome-markers.js%22%3E%3C/script%3E%0A%20%20%20%20%3Clink%20rel%3D%22stylesheet%22%20href%3D%22https%3A//cdn.jsdelivr.net/npm/leaflet%401.6.0/dist/leaflet.css%22/%3E%0A%20%20%20%20%3Clink%20rel%3D%22stylesheet%22%20href%3D%22https%3A//maxcdn.bootstrapcdn.com/bootstrap/3.2.0/css/bootstrap.min.css%22/%3E%0A%20%20%20%20%3Clink%20rel%3D%22stylesheet%22%20href%3D%22https%3A//maxcdn.bootstrapcdn.com/bootstrap/3.2.0/css/bootstrap-theme.min.css%22/%3E%0A%20%20%20%20%3Clink%20rel%3D%22stylesheet%22%20href%3D%22https%3A//maxcdn.bootstrapcdn.com/font-awesome/4.6.3/css/font-awesome.min.css%22/%3E%0A%20%20%20%20%3Clink%20rel%3D%22stylesheet%22%20href%3D%22https%3A//cdnjs.cloudflare.com/ajax/libs/Leaflet.awesome-markers/2.0.2/leaflet.awesome-markers.css%22/%3E%0A%20%20%20%20%3Clink%20rel%3D%22stylesheet%22%20href%3D%22https%3A//rawcdn.githack.com/python-visualization/folium/master/folium/templates/leaflet.awesome.rotate.css%22/%3E%0A%20%20%20%20%3Cstyle%3Ehtml%2C%20body%20%7Bwidth%3A%20100%25%3Bheight%3A%20100%25%3Bmargin%3A%200%3Bpadding%3A%200%3B%7D%3C/style%3E%0A%20%20%20%20%3Cstyle%3E%23map%20%7Bposition%3Aabsolute%3Btop%3A0%3Bbottom%3A0%3Bright%3A0%3Bleft%3A0%3B%7D%3C/style%3E%0A%20%20%20%20%0A%20%20%20%20%20%20%20%20%20%20%20%20%3Cmeta%20name%3D%22viewport%22%20content%3D%22width%3Ddevice-width%2C%0A%20%20%20%20%20%20%20%20%20%20%20%20%20%20%20%20initial-scale%3D1.0%2C%20maximum-scale%3D1.0%2C%20user-scalable%3Dno%22%20/%3E%0A%20%20%20%20%20%20%20%20%20%20%20%20%3Cstyle%3E%0A%20%20%20%20%20%20%20%20%20%20%20%20%20%20%20%20%23map_82b8b205aa8f476abc0ee4ef2c2b8ede%20%7B%0A%20%20%20%20%20%20%20%20%20%20%20%20%20%20%20%20%20%20%20%20position%3A%20relative%3B%0A%20%20%20%20%20%20%20%20%20%20%20%20%20%20%20%20%20%20%20%20width%3A%20100.0%25%3B%0A%20%20%20%20%20%20%20%20%20%20%20%20%20%20%20%20%20%20%20%20height%3A%20100.0%25%3B%0A%20%20%20%20%20%20%20%20%20%20%20%20%20%20%20%20%20%20%20%20left%3A%200.0%25%3B%0A%20%20%20%20%20%20%20%20%20%20%20%20%20%20%20%20%20%20%20%20top%3A%200.0%25%3B%0A%20%20%20%20%20%20%20%20%20%20%20%20%20%20%20%20%7D%0A%20%20%20%20%20%20%20%20%20%20%20%20%3C/style%3E%0A%20%20%20%20%20%20%20%20%0A%20%20%20%20%3Cscript%20src%3D%22https%3A//leaflet.github.io/Leaflet.heat/dist/leaflet-heat.js%22%3E%3C/script%3E%0A%3C/head%3E%0A%3Cbody%3E%20%20%20%20%0A%20%20%20%20%0A%20%20%20%20%20%20%20%20%20%20%20%20%3Cdiv%20class%3D%22folium-map%22%20id%3D%22map_82b8b205aa8f476abc0ee4ef2c2b8ede%22%20%3E%3C/div%3E%0A%20%20%20%20%20%20%20%20%0A%3C/body%3E%0A%3Cscript%3E%20%20%20%20%0A%20%20%20%20%0A%20%20%20%20%20%20%20%20%20%20%20%20var%20map_82b8b205aa8f476abc0ee4ef2c2b8ede%20%3D%20L.map%28%0A%20%20%20%20%20%20%20%20%20%20%20%20%20%20%20%20%22map_82b8b205aa8f476abc0ee4ef2c2b8ede%22%2C%0A%20%20%20%20%20%20%20%20%20%20%20%20%20%20%20%20%7B%0A%20%20%20%20%20%20%20%20%20%20%20%20%20%20%20%20%20%20%20%20center%3A%20%5B37.87%2C%20-122.28%5D%2C%0A%20%20%20%20%20%20%20%20%20%20%20%20%20%20%20%20%20%20%20%20crs%3A%20L.CRS.EPSG3857%2C%0A%20%20%20%20%20%20%20%20%20%20%20%20%20%20%20%20%20%20%20%20zoom%3A%2013%2C%0A%20%20%20%20%20%20%20%20%20%20%20%20%20%20%20%20%20%20%20%20zoomControl%3A%20true%2C%0A%20%20%20%20%20%20%20%20%20%20%20%20%20%20%20%20%20%20%20%20preferCanvas%3A%20false%2C%0A%20%20%20%20%20%20%20%20%20%20%20%20%20%20%20%20%7D%0A%20%20%20%20%20%20%20%20%20%20%20%20%29%3B%0A%0A%20%20%20%20%20%20%20%20%20%20%20%20%0A%0A%20%20%20%20%20%20%20%20%0A%20%20%20%20%0A%20%20%20%20%20%20%20%20%20%20%20%20var%20tile_layer_95b7d7525c644074adb8157dd4d7b68b%20%3D%20L.tileLayer%28%0A%20%20%20%20%20%20%20%20%20%20%20%20%20%20%20%20%22https%3A//%7Bs%7D.tile.openstreetmap.org/%7Bz%7D/%7Bx%7D/%7By%7D.png%22%2C%0A%20%20%20%20%20%20%20%20%20%20%20%20%20%20%20%20%7B%22attribution%22%3A%20%22Data%20by%20%5Cu0026copy%3B%20%5Cu003ca%20href%3D%5C%22http%3A//openstreetmap.org%5C%22%5Cu003eOpenStreetMap%5Cu003c/a%5Cu003e%2C%20under%20%5Cu003ca%20href%3D%5C%22http%3A//www.openstreetmap.org/copyright%5C%22%5Cu003eODbL%5Cu003c/a%5Cu003e.%22%2C%20%22detectRetina%22%3A%20false%2C%20%22maxNativeZoom%22%3A%2018%2C%20%22maxZoom%22%3A%2018%2C%20%22minZoom%22%3A%200%2C%20%22noWrap%22%3A%20false%2C%20%22opacity%22%3A%201%2C%20%22subdomains%22%3A%20%22abc%22%2C%20%22tms%22%3A%20false%7D%0A%20%20%20%20%20%20%20%20%20%20%20%20%29.addTo%28map_82b8b205aa8f476abc0ee4ef2c2b8ede%29%3B%0A%20%20%20%20%20%20%20%20%0A%20%20%20%20%0A%20%20%20%20%20%20%20%20%20%20%20%20var%20heat_map_bd0fdd52b6874fc9963bb7be2150ab3d%20%3D%20L.heatLayer%28%0A%20%20%20%20%20%20%20%20%20%20%20%20%20%20%20%20%5B%5B37.876428%2C%20-122.291736%5D%2C%20%5B37.881957%2C%20-122.269551%5D%2C%20%5B37.858116%2C%20-122.268002%5D%2C%20%5B37.88014%2C%20-122.297498%5D%2C%20%5B37.894692%2C%20-122.272265%5D%2C%20%5B37.847262%2C%20-122.275622%5D%2C%20%5B37.871167%2C%20-122.268285%5D%2C%20%5B37.871167%2C%20-122.268285%5D%2C%20%5B37.865963%2C%20-122.279288%5D%2C%20%5B37.865511%2C%20-122.309967%5D%2C%20%5B37.865374%2C%20-122.256511%5D%2C%20%5B37.851324%2C%20-122.272873%5D%2C%20%5B37.868667%2C%20-122.313656%5D%2C%20%5B37.851263%2C%20-122.252477%5D%2C%20%5B37.876333%2C%20-122.278118%5D%2C%20%5B37.846694%2C%20-122.273191%5D%2C%20%5B37.871167%2C%20-122.268285%5D%2C%20%5B37.881098%2C%20-122.261415%5D%2C%20%5B37.875707%2C%20-122.275816%5D%2C%20%5B37.858993%2C%20-122.244574%5D%2C%20%5B37.847442%2C%20-122.281175%5D%2C%20%5B37.853552%2C%20-122.291561%5D%2C%20%5B37.867176%2C%20-122.267802%5D%2C%20%5B37.868785%2C%20-122.272701%5D%2C%20%5B37.880227%2C%20-122.26936%5D%2C%20%5B37.871167%2C%20-122.268285%5D%2C%20%5B37.865511%2C%20-122.309967%5D%2C%20%5B37.848812%2C%20-122.278043%5D%2C%20%5B37.863611%2C%20-122.317566%5D%2C%20%5B37.853723%2C%20-122.259975%5D%2C%20%5B37.866919%2C%20-122.258812%5D%2C%20%5B37.860718%2C%20-122.245988%5D%2C%20%5B37.855435%2C%20-122.259841%5D%2C%20%5B37.867513%2C%20-122.25195%5D%2C%20%5B37.876307%2C%20-122.268923%5D%2C%20%5B37.870583%2C%20-122.265956%5D%2C%20%5B37.865169%2C%20-122.272303%5D%2C%20%5B37.88014%2C%20-122.297498%5D%2C%20%5B37.88052%2C%20-122.294842%5D%2C%20%5B37.869058%2C%20-122.270455%5D%2C%20%5B37.851921%2C%20-122.269813%5D%2C%20%5B37.865121%2C%20-122.258455%5D%2C%20%5B37.869973%2C%20-122.270557%5D%2C%20%5B37.864238%2C%20-122.265263%5D%2C%20%5B37.871883%2C%20-122.301255%5D%2C%20%5B37.867705%2C%20-122.266911%5D%2C%20%5B37.898744%2C%20-122.276666%5D%2C%20%5B37.873687%2C%20-122.268616%5D%2C%20%5B37.880756%2C%20-122.303056%5D%2C%20%5B37.865511%2C%20-122.309967%5D%2C%20%5B37.85759%2C%20-122.242378%5D%2C%20%5B37.869041%2C%20-122.292204%5D%2C%20%5B37.862494%2C%20-122.278695%5D%2C%20%5B37.873343%2C%20-122.280086%5D%2C%20%5B37.871311%2C%20-122.281978%5D%2C%20%5B37.855026%2C%20-122.266475%5D%2C%20%5B37.873865%2C%20-122.268641%5D%2C%20%5B37.869764%2C%20-122.28655%5D%2C%20%5B37.858427%2C%20-122.282485%5D%2C%20%5B37.87304%2C%20-122.289659%5D%2C%20%5B37.880893%2C%20-122.289323%5D%2C%20%5B37.88014%2C%20-122.297498%5D%2C%20%5B37.883505%2C%20-122.257888%5D%2C%20%5B37.876897%2C%20-122.28868%5D%2C%20%5B37.897333%2C%20-122.276042%5D%2C%20%5B37.853665%2C%20-122.252715%5D%2C%20%5B37.868641%2C%20-122.29415%5D%2C%20%5B37.88014%2C%20-122.297498%5D%2C%20%5B37.848606%2C%20-122.279588%5D%2C%20%5B37.858356%2C%20-122.253179%5D%2C%20%5B37.871461%2C%20-122.270706%5D%2C%20%5B37.86825%2C%20-122.300093%5D%2C%20%5B37.851263%2C%20-122.252477%5D%2C%20%5B37.87247%2C%20-122.279718%5D%2C%20%5B37.874884%2C%20-122.305801%5D%2C%20%5B37.871828%2C%20-122.270516%5D%2C%20%5B37.87325%2C%20-122.293558%5D%2C%20%5B37.865059%2C%20-122.272291%5D%2C%20%5B37.860766%2C%20-122.255895%5D%2C%20%5B37.871033%2C%20-122.277532%5D%2C%20%5B37.859988%2C%20-122.253339%5D%2C%20%5B37.860366%2C%20-122.266802%5D%2C%20%5B37.862405%2C%20-122.29242%5D%2C%20%5B37.865868%2C%20-122.251595%5D%2C%20%5B37.867501%2C%20-122.291709%5D%2C%20%5B37.866074%2C%20-122.26331%5D%2C%20%5B37.868263%2C%20-122.296013%5D%2C%20%5B37.869067%2C%20-122.292043%5D%2C%20%5B37.894256%2C%20-122.281603%5D%2C%20%5B37.871883%2C%20-122.301255%5D%2C%20%5B37.871828%2C%20-122.270516%5D%2C%20%5B37.879653%2C%20-122.299139%5D%2C%20%5B37.861758%2C%20-122.30024%5D%2C%20%5B37.881493%2C%20-122.290864%5D%2C%20%5B37.88253%2C%20-122.280217%5D%2C%20%5B37.881957%2C%20-122.269551%5D%2C%20%5B37.855832%2C%20-122.272369%5D%2C%20%5B37.870652%2C%20-122.27958%5D%2C%20%5B37.871544%2C%20-122.272714%5D%2C%20%5B37.903252%2C%20-122.267456%5D%2C%20%5B37.875132%2C%20-122.293103%5D%2C%20%5B37.855684%2C%20-122.263491%5D%2C%20%5B37.881366%2C%20-122.289688%5D%2C%20%5B37.858525%2C%20-122.266906%5D%2C%20%5B37.891332%2C%20-122.279975%5D%2C%20%5B37.879335%2C%20-122.301332%5D%2C%20%5B37.862927%2C%20-122.258784%5D%2C%20%5B37.883622%2C%20-122.269734%5D%2C%20%5B37.858903%2C%20-122.243972%5D%2C%20%5B37.875531%2C%20-122.304855%5D%2C%20%5B37.869363%2C%20-122.268028%5D%2C%20%5B37.871828%2C%20-122.270516%5D%2C%20%5B37.869764%2C%20-122.28655%5D%2C%20%5B37.855435%2C%20-122.259841%5D%2C%20%5B37.863679%2C%20-122.269631%5D%2C%20%5B37.868204%2C%20-122.270054%5D%2C%20%5B37.876612%2C%20-122.268847%5D%2C%20%5B37.850984%2C%20-122.270783%5D%2C%20%5B37.866037%2C%20-122.265618%5D%2C%20%5B37.869888%2C%20-122.300618%5D%2C%20%5B37.869973%2C%20-122.270557%5D%2C%20%5B37.88192%2C%20-122.270485%5D%2C%20%5B37.858903%2C%20-122.243972%5D%2C%20%5B37.879129%2C%20-122.302478%5D%2C%20%5B37.86331%2C%20-122.316113%5D%2C%20%5B37.867708%2C%20-122.250801%5D%2C%20%5B37.863353%2C%20-122.272097%5D%2C%20%5B37.85177%2C%20-122.276489%5D%2C%20%5B37.873687%2C%20-122.268616%5D%2C%20%5B37.889017%2C%20-122.272389%5D%2C%20%5B37.876297%2C%20-122.27124%5D%2C%20%5B37.869363%2C%20-122.268028%5D%2C%20%5B37.872545%2C%20-122.298043%5D%2C%20%5B37.855435%2C%20-122.259841%5D%2C%20%5B37.878461%2C%20-122.305788%5D%2C%20%5B37.873639%2C%20-122.27064%5D%2C%20%5B37.900813%2C%20-122.277074%5D%2C%20%5B37.865772%2C%20-122.267643%5D%2C%20%5B37.85491%2C%20-122.268666%5D%2C%20%5B37.855026%2C%20-122.266475%5D%2C%20%5B37.851921%2C%20-122.269813%5D%2C%20%5B37.879708%2C%20-122.297995%5D%2C%20%5B37.856848%2C%20-122.288122%5D%2C%20%5B37.863598%2C%20-122.253693%5D%2C%20%5B37.894256%2C%20-122.281603%5D%2C%20%5B37.870417%2C%20-122.292485%5D%2C%20%5B37.871246%2C%20-122.274991%5D%2C%20%5B37.859988%2C%20-122.253339%5D%2C%20%5B37.890366%2C%20-122.266998%5D%2C%20%5B37.863522%2C%20-122.254992%5D%2C%20%5B37.883622%2C%20-122.269734%5D%2C%20%5B37.867513%2C%20-122.26127%5D%2C%20%5B37.865772%2C%20-122.267643%5D%2C%20%5B37.876384%2C%20-122.282714%5D%2C%20%5B37.863072%2C%20-122.260352%5D%2C%20%5B37.86939%2C%20-122.267883%5D%2C%20%5B37.865121%2C%20-122.258455%5D%2C%20%5B37.86771%2C%20-122.298466%5D%2C%20%5B37.858759%2C%20-122.264112%5D%2C%20%5B37.869423%2C%20-122.281951%5D%2C%20%5B37.863611%2C%20-122.317566%5D%2C%20%5B37.869888%2C%20-122.300618%5D%2C%20%5B37.898024%2C%20-122.269917%5D%2C%20%5B37.88253%2C%20-122.280217%5D%2C%20%5B37.868447%2C%20-122.261268%5D%2C%20%5B37.869625%2C%20-122.265892%5D%2C%20%5B37.871828%2C%20-122.270516%5D%2C%20%5B37.871246%2C%20-122.274991%5D%2C%20%5B37.868957%2C%20-122.254552%5D%2C%20%5B37.871883%2C%20-122.301255%5D%2C%20%5B37.873607%2C%20-122.270903%5D%2C%20%5B37.879968%2C%20-122.296885%5D%2C%20%5B37.869058%2C%20-122.270455%5D%2C%20%5B37.874781%2C%20-122.268758%5D%2C%20%5B37.868204%2C%20-122.270054%5D%2C%20%5B37.848752%2C%20-122.271331%5D%2C%20%5B37.866568%2C%20-122.254084%5D%2C%20%5B37.868667%2C%20-122.313656%5D%2C%20%5B37.868164%2C%20-122.270363%5D%2C%20%5B37.867176%2C%20-122.267802%5D%2C%20%5B37.859918%2C%20-122.254574%5D%2C%20%5B37.855824%2C%20-122.247116%5D%2C%20%5B37.878312%2C%20-122.306543%5D%2C%20%5B37.868512%2C%20-122.26781%5D%2C%20%5B37.876339%2C%20-122.285012%5D%2C%20%5B37.871246%2C%20-122.274991%5D%2C%20%5B37.887747%2C%20-122.264514%5D%2C%20%5B37.867852%2C%20-122.258699%5D%2C%20%5B37.872185%2C%20-122.268407%5D%2C%20%5B37.872593%2C%20-122.293184%5D%2C%20%5B37.866568%2C%20-122.254084%5D%2C%20%5B37.870121%2C%20-122.284626%5D%2C%20%5B37.875836%2C%20-122.290654%5D%2C%20%5B37.878051%2C%20-122.285222%5D%2C%20%5B37.870592%2C%20-122.286613%5D%2C%20%5B37.853576%2C%20-122.287202%5D%2C%20%5B37.872691%2C%20-122.270741%5D%2C%20%5B37.869363%2C%20-122.268028%5D%2C%20%5B37.855026%2C%20-122.266475%5D%2C%20%5B37.882199%2C%20-122.268386%5D%2C%20%5B37.855684%2C%20-122.263491%5D%2C%20%5B37.867332%2C%20-122.269908%5D%2C%20%5B37.869888%2C%20-122.300618%5D%2C%20%5B37.880519%2C%20-122.267051%5D%2C%20%5B37.88014%2C%20-122.297498%5D%2C%20%5B37.871883%2C%20-122.301255%5D%2C%20%5B37.871605%2C%20-122.273018%5D%2C%20%5B37.853576%2C%20-122.287202%5D%2C%20%5B37.869067%2C%20-122.292043%5D%2C%20%5B37.863611%2C%20-122.317566%5D%2C%20%5B37.868714%2C%20-122.259189%5D%2C%20%5B37.865711%2C%20-122.25389%5D%2C%20%5B37.858448%2C%20-122.282308%5D%2C%20%5B37.877417%2C%20-122.300713%5D%2C%20%5B37.86939%2C%20-122.267883%5D%2C%20%5B37.877872%2C%20-122.285844%5D%2C%20%5B37.870652%2C%20-122.27958%5D%2C%20%5B37.865535%2C%20-122.255235%5D%2C%20%5B37.860105%2C%20-122.261901%5D%2C%20%5B37.876807%2C%20-122.268981%5D%2C%20%5B37.868667%2C%20-122.313656%5D%2C%20%5B37.88055%2C%20-122.304962%5D%2C%20%5B37.88966%2C%20-122.252102%5D%2C%20%5B37.870205%2C%20-122.292581%5D%2C%20%5B37.862024%2C%20-122.251212%5D%2C%20%5B37.863611%2C%20-122.317566%5D%2C%20%5B37.857592%2C%20-122.269186%5D%2C%20%5B37.869685%2C%20-122.272804%5D%2C%20%5B37.867392%2C%20-122.262214%5D%2C%20%5B37.853638%2C%20-122.289588%5D%2C%20%5B37.868667%2C%20-122.313656%5D%2C%20%5B37.880803%2C%20-122.274005%5D%2C%20%5B37.861843%2C%20-122.269644%5D%2C%20%5B37.877951%2C%20-122.271395%5D%2C%20%5B37.861078%2C%20-122.289632%5D%2C%20%5B37.850798%2C%20-122.294689%5D%2C%20%5B37.874843%2C%20-122.263711%5D%2C%20%5B37.871167%2C%20-122.268285%5D%2C%20%5B37.851263%2C%20-122.252477%5D%2C%20%5B37.871883%2C%20-122.301255%5D%2C%20%5B37.853638%2C%20-122.289588%5D%2C%20%5B37.865121%2C%20-122.258455%5D%2C%20%5B37.868714%2C%20-122.259189%5D%2C%20%5B37.881142%2C%20-122.30191%5D%2C%20%5B37.864714%2C%20-122.274572%5D%2C%20%5B37.869363%2C%20-122.268028%5D%2C%20%5B37.868334%2C%20-122.303753%5D%2C%20%5B37.857647%2C%20-122.273145%5D%2C%20%5B37.873885%2C%20-122.266332%5D%2C%20%5B37.880376%2C%20-122.268183%5D%2C%20%5B37.878973%2C%20-122.279366%5D%2C%20%5B37.868447%2C%20-122.261268%5D%2C%20%5B37.871883%2C%20-122.301255%5D%2C%20%5B37.868815%2C%20-122.292131%5D%2C%20%5B37.879335%2C%20-122.301332%5D%2C%20%5B37.858116%2C%20-122.268002%5D%2C%20%5B37.873687%2C%20-122.268616%5D%2C%20%5B37.868489%2C%20-122.26795%5D%2C%20%5B37.863611%2C%20-122.317566%5D%2C%20%5B37.887961%2C%20-122.269822%5D%2C%20%5B37.883948%2C%20-122.296991%5D%2C%20%5B37.864238%2C%20-122.265263%5D%2C%20%5B37.878407%2C%20-122.267962%5D%2C%20%5B37.868355%2C%20-122.274953%5D%2C%20%5B37.855678%2C%20-122.274429%5D%2C%20%5B37.864908%2C%20-122.267289%5D%2C%20%5B37.882199%2C%20-122.268386%5D%2C%20%5B37.873454%2C%20-122.27209%5D%2C%20%5B37.891214%2C%20-122.282158%5D%2C%20%5B37.882135%2C%20-122.267239%5D%2C%20%5B37.881367%2C%20-122.300872%5D%2C%20%5B37.867176%2C%20-122.267802%5D%2C%20%5B37.851339%2C%20-122.286349%5D%2C%20%5B37.862927%2C%20-122.258784%5D%2C%20%5B37.859216%2C%20-122.26855%5D%2C%20%5B37.879335%2C%20-122.301332%5D%2C%20%5B37.871461%2C%20-122.270706%5D%2C%20%5B37.879016%2C%20-122.264445%5D%2C%20%5B37.870639%2C%20-122.272468%5D%2C%20%5B37.857336%2C%20-122.290797%5D%2C%20%5B37.861078%2C%20-122.289632%5D%2C%20%5B37.868714%2C%20-122.259189%5D%2C%20%5B37.866936%2C%20-122.296218%5D%2C%20%5B37.895601%2C%20-122.285524%5D%2C%20%5B37.874351%2C%20-122.272197%5D%2C%20%5B37.882279%2C%20-122.296321%5D%2C%20%5B37.855293%2C%20-122.266502%5D%2C%20%5B37.877482%2C%20-122.256109%5D%2C%20%5B37.871167%2C%20-122.268285%5D%2C%20%5B37.863611%2C%20-122.317566%5D%2C%20%5B37.873908%2C%20-122.290025%5D%2C%20%5B37.871318%2C%20-122.275278%5D%2C%20%5B37.858392%2C%20-122.275421%5D%2C%20%5B37.885653%2C%20-122.269953%5D%2C%20%5B37.863611%2C%20-122.317566%5D%2C%20%5B37.893696%2C%20-122.281105%5D%2C%20%5B37.889989%2C%20-122.252226%5D%2C%20%5B37.856719%2C%20-122.266672%5D%2C%20%5B37.881142%2C%20-122.30191%5D%2C%20%5B37.869363%2C%20-122.268028%5D%2C%20%5B37.85488%2C%20-122.269079%5D%2C%20%5B37.882294%2C%20-122.284835%5D%2C%20%5B37.880519%2C%20-122.267051%5D%2C%20%5B37.877863%2C%20-122.308855%5D%2C%20%5B37.881142%2C%20-122.30191%5D%2C%20%5B37.878312%2C%20-122.306543%5D%2C%20%5B37.879335%2C%20-122.301332%5D%2C%20%5B37.876321%2C%20-122.258058%5D%2C%20%5B37.868706%2C%20-122.266279%5D%2C%20%5B37.882684%2C%20-122.253583%5D%2C%20%5B37.876307%2C%20-122.268923%5D%2C%20%5B37.895897%2C%20-122.261839%5D%2C%20%5B37.884097%2C%20-122.279301%5D%2C%20%5B37.882033%2C%20-122.296381%5D%2C%20%5B37.872099%2C%20-122.288323%5D%2C%20%5B37.85968%2C%20-122.255796%5D%2C%20%5B37.872545%2C%20-122.298043%5D%2C%20%5B37.880922%2C%20-122.303115%5D%2C%20%5B37.873202%2C%20-122.267443%5D%2C%20%5B37.899211%2C%20-122.264973%5D%2C%20%5B37.875391%2C%20-122.271141%5D%2C%20%5B37.868714%2C%20-122.259189%5D%2C%20%5B37.884022%2C%20-122.253252%5D%2C%20%5B37.866761%2C%20-122.258779%5D%2C%20%5B37.856598%2C%20-122.294415%5D%2C%20%5B37.867491%2C%20-122.254054%5D%2C%20%5B37.853335%2C%20-122.27688%5D%2C%20%5B37.855684%2C%20-122.263491%5D%2C%20%5B37.86925%2C%20-122.266076%5D%2C%20%5B37.880228%2C%20-122.295798%5D%2C%20%5B37.877663%2C%20-122.274831%5D%2C%20%5B37.873455%2C%20-122.293465%5D%2C%20%5B37.880756%2C%20-122.303056%5D%2C%20%5B37.858356%2C%20-122.253179%5D%2C%20%5B37.868204%2C%20-122.270054%5D%2C%20%5B37.867852%2C%20-122.258699%5D%2C%20%5B37.85005%2C%20-122.290799%5D%2C%20%5B37.864827%2C%20-122.258577%5D%2C%20%5B37.854517%2C%20-122.281755%5D%2C%20%5B37.869058%2C%20-122.270455%5D%2C%20%5B37.868164%2C%20-122.256314%5D%2C%20%5B37.888679%2C%20-122.280432%5D%2C%20%5B37.891095%2C%20-122.284247%5D%2C%20%5B37.878864%2C%20-122.265718%5D%2C%20%5B37.879611%2C%20-122.257697%5D%2C%20%5B37.864173%2C%20-122.258616%5D%2C%20%5B37.896688%2C%20-122.27456%5D%2C%20%5B37.852871%2C%20-122.26799%5D%2C%20%5B37.871167%2C%20-122.268285%5D%2C%20%5B37.869363%2C%20-122.268028%5D%2C%20%5B37.888053%2C%20-122.253497%5D%2C%20%5B37.853576%2C%20-122.287202%5D%2C%20%5B37.873687%2C%20-122.268616%5D%2C%20%5B37.86939%2C%20-122.267883%5D%2C%20%5B37.869058%2C%20-122.270455%5D%2C%20%5B37.868714%2C%20-122.259189%5D%2C%20%5B37.868641%2C%20-122.29415%5D%2C%20%5B37.852871%2C%20-122.26799%5D%2C%20%5B37.868785%2C%20-122.272701%5D%2C%20%5B37.871167%2C%20-122.268285%5D%2C%20%5B37.869839%2C%20-122.252365%5D%2C%20%5B37.868667%2C%20-122.313656%5D%2C%20%5B37.866253%2C%20-122.299483%5D%2C%20%5B37.878644%2C%20-122.303432%5D%2C%20%5B37.849512%2C%20-122.272671%5D%2C%20%5B37.863928%2C%20-122.295255%5D%2C%20%5B37.867108%2C%20-122.292737%5D%2C%20%5B37.862471%2C%20-122.271904%5D%2C%20%5B37.864924%2C%20-122.259976%5D%2C%20%5B37.875113%2C%20-122.273413%5D%2C%20%5B37.866327%2C%20-122.263359%5D%2C%20%5B37.854517%2C%20-122.281755%5D%2C%20%5B37.871665%2C%20-122.293049%5D%2C%20%5B37.869839%2C%20-122.252365%5D%2C%20%5B37.868204%2C%20-122.270054%5D%2C%20%5B37.850385%2C%20-122.270897%5D%2C%20%5B37.85488%2C%20-122.269079%5D%2C%20%5B37.867613%2C%20-122.299898%5D%2C%20%5B37.851386%2C%20-122.297526%5D%2C%20%5B37.868204%2C%20-122.270054%5D%2C%20%5B37.850028%2C%20-122.280148%5D%2C%20%5B37.869363%2C%20-122.268028%5D%2C%20%5B37.862562%2C%20-122.262598%5D%2C%20%5B37.872691%2C%20-122.270741%5D%2C%20%5B37.854274%2C%20-122.28319%5D%2C%20%5B37.867271%2C%20-122.298682%5D%2C%20%5B37.870287%2C%20-122.316238%5D%2C%20%5B37.861627%2C%20-122.285466%5D%2C%20%5B37.870185%2C%20-122.299609%5D%2C%20%5B37.868199%2C%20-122.263253%5D%2C%20%5B37.855026%2C%20-122.266475%5D%2C%20%5B37.882943%2C%20-122.279383%5D%2C%20%5B37.863611%2C%20-122.317566%5D%2C%20%5B37.87783%2C%20-122.298557%5D%2C%20%5B37.870308%2C%20-122.26805%5D%2C%20%5B37.88014%2C%20-122.297498%5D%2C%20%5B37.878736%2C%20-122.304435%5D%2C%20%5B37.850927%2C%20-122.231766%5D%2C%20%5B37.885683%2C%20-122.308114%5D%2C%20%5B37.877822%2C%20-122.273697%5D%2C%20%5B37.868747%2C%20-122.287342%5D%2C%20%5B37.85525%2C%20-122.277126%5D%2C%20%5B37.867717%2C%20-122.249901%5D%2C%20%5B37.867491%2C%20-122.254054%5D%2C%20%5B37.873607%2C%20-122.270903%5D%2C%20%5B37.871883%2C%20-122.301255%5D%2C%20%5B37.862927%2C%20-122.258784%5D%2C%20%5B37.863072%2C%20-122.260352%5D%2C%20%5B37.869888%2C%20-122.300618%5D%2C%20%5B37.869058%2C%20-122.270455%5D%2C%20%5B37.856847%2C%20-122.265765%5D%2C%20%5B37.863241%2C%20-122.286176%5D%2C%20%5B37.869105%2C%20-122.270064%5D%2C%20%5B37.873687%2C%20-122.268616%5D%2C%20%5B37.87084%2C%20-122.289678%5D%2C%20%5B37.884902%2C%20-122.24847%5D%2C%20%5B37.876307%2C%20-122.268923%5D%2C%20%5B37.863611%2C%20-122.317566%5D%2C%20%5B37.867816%2C%20-122.258994%5D%2C%20%5B37.867816%2C%20-122.258994%5D%2C%20%5B37.856073%2C%20-122.292735%5D%2C%20%5B37.880228%2C%20-122.295798%5D%2C%20%5B37.892804%2C%20-122.285696%5D%2C%20%5B37.869688%2C%20-122.272805%5D%2C%20%5B37.882033%2C%20-122.296381%5D%2C%20%5B37.862927%2C%20-122.258784%5D%2C%20%5B37.876718%2C%20-122.305216%5D%2C%20%5B37.867852%2C%20-122.258699%5D%2C%20%5B37.870948%2C%20-122.27733%5D%2C%20%5B37.848752%2C%20-122.271331%5D%2C%20%5B37.889423%2C%20-122.278847%5D%2C%20%5B37.87091%2C%20-122.265993%5D%2C%20%5B37.862321%2C%20-122.258872%5D%2C%20%5B37.870308%2C%20-122.26805%5D%2C%20%5B37.899107%2C%20-122.277273%5D%2C%20%5B37.86939%2C%20-122.267883%5D%2C%20%5B37.860766%2C%20-122.255895%5D%2C%20%5B37.862777%2C%20-122.276571%5D%2C%20%5B37.864535%2C%20-122.262993%5D%2C%20%5B37.868204%2C%20-122.270054%5D%2C%20%5B37.868957%2C%20-122.254552%5D%2C%20%5B37.866622%2C%20-122.26108%5D%2C%20%5B37.86314%2C%20-122.269786%5D%2C%20%5B37.874271%2C%20-122.265391%5D%2C%20%5B37.874094%2C%20-122.299649%5D%2C%20%5B37.870652%2C%20-122.27958%5D%2C%20%5B37.865511%2C%20-122.309967%5D%2C%20%5B37.872231%2C%20-122.29677%5D%2C%20%5B37.852822%2C%20-122.291677%5D%2C%20%5B37.870054%2C%20-122.284263%5D%2C%20%5B37.856948%2C%20-122.293014%5D%2C%20%5B37.880667%2C%20-122.29489%5D%2C%20%5B37.890366%2C%20-122.266998%5D%2C%20%5B37.861645%2C%20-122.253508%5D%2C%20%5B37.864827%2C%20-122.258577%5D%2C%20%5B37.87612%2C%20-122.259734%5D%2C%20%5B37.861387%2C%20-122.259001%5D%2C%20%5B37.871246%2C%20-122.274991%5D%2C%20%5B37.86727%2C%20-122.291472%5D%2C%20%5B37.881142%2C%20-122.30191%5D%2C%20%5B37.864827%2C%20-122.258577%5D%2C%20%5B37.875426%2C%20-122.278057%5D%2C%20%5B37.871167%2C%20-122.268285%5D%2C%20%5B37.870881%2C%20-122.284399%5D%2C%20%5B37.865202%2C%20-122.257795%5D%2C%20%5B37.879995%2C%20-122.256714%5D%2C%20%5B37.85344%2C%20-122.269182%5D%2C%20%5B37.865826%2C%20-122.267244%5D%2C%20%5B37.857502%2C%20-122.290845%5D%2C%20%5B37.851339%2C%20-122.286349%5D%2C%20%5B37.880893%2C%20-122.289323%5D%2C%20%5B37.88014%2C%20-122.297498%5D%2C%20%5B37.882251%2C%20-122.296452%5D%2C%20%5B37.871544%2C%20-122.272714%5D%2C%20%5B37.848453%2C%20-122.273607%5D%2C%20%5B37.867501%2C%20-122.291709%5D%2C%20%5B37.867176%2C%20-122.267802%5D%2C%20%5B37.869363%2C%20-122.268028%5D%2C%20%5B37.876333%2C%20-122.278118%5D%2C%20%5B37.86139%2C%20-122.280449%5D%2C%20%5B37.870652%2C%20-122.27958%5D%2C%20%5B37.874872%2C%20-122.282359%5D%2C%20%5B37.871167%2C%20-122.268285%5D%2C%20%5B37.885683%2C%20-122.308114%5D%2C%20%5B37.882217%2C%20-122.302226%5D%2C%20%5B37.880787%2C%20-122.277865%5D%2C%20%5B37.865141%2C%20-122.265441%5D%2C%20%5B37.869688%2C%20-122.272805%5D%2C%20%5B37.865535%2C%20-122.255235%5D%2C%20%5B37.863611%2C%20-122.317566%5D%2C%20%5B37.88024%2C%20-122.306387%5D%2C%20%5B37.851203%2C%20-122.289129%5D%2C%20%5B37.860732%2C%20-122.291369%5D%2C%20%5B37.875132%2C%20-122.293103%5D%2C%20%5B37.878736%2C%20-122.304435%5D%2C%20%5B37.869642%2C%20-122.287492%5D%2C%20%5B37.868785%2C%20-122.272701%5D%2C%20%5B37.867271%2C%20-122.298682%5D%2C%20%5B37.861387%2C%20-122.259001%5D%2C%20%5B37.867209%2C%20-122.256554%5D%2C%20%5B37.87935%2C%20-122.276123%5D%2C%20%5B37.878736%2C%20-122.304435%5D%2C%20%5B37.865535%2C%20-122.255235%5D%2C%20%5B37.869105%2C%20-122.270064%5D%2C%20%5B37.871883%2C%20-122.301255%5D%2C%20%5B37.865729%2C%20-122.260903%5D%2C%20%5B37.854018%2C%20-122.236384%5D%2C%20%5B37.86939%2C%20-122.267883%5D%2C%20%5B37.868663%2C%20-122.301325%5D%2C%20%5B37.866074%2C%20-122.26331%5D%2C%20%5B37.871167%2C%20-122.268285%5D%2C%20%5B37.869688%2C%20-122.272805%5D%2C%20%5B37.861645%2C%20-122.253508%5D%2C%20%5B37.849381%2C%20-122.273675%5D%2C%20%5B37.882071%2C%20-122.281161%5D%2C%20%5B37.879097%2C%20-122.302468%5D%2C%20%5B37.882957%2C%20-122.289458%5D%2C%20%5B37.856048%2C%20-122.279543%5D%2C%20%5B37.852422%2C%20-122.278571%5D%2C%20%5B37.868366%2C%20-122.295508%5D%2C%20%5B37.859988%2C%20-122.253339%5D%2C%20%5B37.867852%2C%20-122.258699%5D%2C%20%5B37.854286%2C%20-122.271015%5D%2C%20%5B37.857377%2C%20-122.268709%5D%2C%20%5B37.863679%2C%20-122.269631%5D%2C%20%5B37.87325%2C%20-122.293558%5D%2C%20%5B37.867822%2C%20-122.266003%5D%2C%20%5B37.902692%2C%20-122.264479%5D%2C%20%5B37.865772%2C%20-122.267643%5D%2C%20%5B37.864925%2C%20-122.273436%5D%2C%20%5B37.855576%2C%20-122.282153%5D%2C%20%5B37.876595%2C%20-122.267789%5D%2C%20%5B37.855998%2C%20-122.271278%5D%2C%20%5B37.871828%2C%20-122.270516%5D%2C%20%5B37.878113%2C%20-122.269114%5D%2C%20%5B37.877623%2C%20-122.30078%5D%2C%20%5B37.863611%2C%20-122.317566%5D%2C%20%5B37.866528%2C%20-122.290227%5D%2C%20%5B37.871167%2C%20-122.268285%5D%2C%20%5B37.88014%2C%20-122.297498%5D%2C%20%5B37.873687%2C%20-122.268616%5D%2C%20%5B37.871167%2C%20-122.268285%5D%2C%20%5B37.862405%2C%20-122.29242%5D%2C%20%5B37.875531%2C%20-122.304855%5D%2C%20%5B37.863369%2C%20-122.257622%5D%2C%20%5B37.869363%2C%20-122.268028%5D%2C%20%5B37.854517%2C%20-122.281755%5D%2C%20%5B37.862316%2C%20-122.245948%5D%2C%20%5B37.869888%2C%20-122.300618%5D%2C%20%5B37.88014%2C%20-122.297498%5D%2C%20%5B37.872322%2C%20-122.299092%5D%2C%20%5B37.867373%2C%20-122.249515%5D%2C%20%5B37.854833%2C%20-122.279839%5D%2C%20%5B37.870948%2C%20-122.27733%5D%2C%20%5B37.857809%2C%20-122.271478%5D%2C%20%5B37.867613%2C%20-122.299898%5D%2C%20%5B37.891144%2C%20-122.283458%5D%2C%20%5B37.868722%2C%20-122.259123%5D%2C%20%5B37.852491%2C%20-122.243412%5D%2C%20%5B37.868714%2C%20-122.259189%5D%2C%20%5B37.858116%2C%20-122.268002%5D%2C%20%5B37.895015%2C%20-122.268667%5D%2C%20%5B37.869888%2C%20-122.300618%5D%2C%20%5B37.860732%2C%20-122.291369%5D%2C%20%5B37.852956%2C%20-122.266195%5D%2C%20%5B37.880228%2C%20-122.295798%5D%2C%20%5B37.850798%2C%20-122.294689%5D%2C%20%5B37.882199%2C%20-122.268386%5D%2C%20%5B37.87247%2C%20-122.273021%5D%2C%20%5B37.85717%2C%20-122.252209%5D%2C%20%5B37.873327%2C%20-122.273214%5D%2C%20%5B37.867708%2C%20-122.250801%5D%2C%20%5B37.855167%2C%20-122.258753%5D%2C%20%5B37.87091%2C%20-122.265993%5D%2C%20%5B37.875556%2C%20-122.291439%5D%2C%20%5B37.85976%2C%20-122.257034%5D%2C%20%5B37.865748%2C%20-122.253396%5D%2C%20%5B37.875084%2C%20-122.266464%5D%2C%20%5B37.872691%2C%20-122.270741%5D%2C%20%5B37.864827%2C%20-122.258577%5D%2C%20%5B37.870054%2C%20-122.284263%5D%2C%20%5B37.863292%2C%20-122.256293%5D%2C%20%5B37.873687%2C%20-122.268616%5D%2C%20%5B37.871369%2C%20-122.292954%5D%2C%20%5B37.857452%2C%20-122.259548%5D%2C%20%5B37.87241%2C%20-122.277692%5D%2C%20%5B37.865772%2C%20-122.267643%5D%2C%20%5B37.848453%2C%20-122.273607%5D%2C%20%5B37.862321%2C%20-122.258872%5D%2C%20%5B37.864827%2C%20-122.258577%5D%2C%20%5B37.849431%2C%20-122.278174%5D%2C%20%5B37.869448%2C%20-122.281783%5D%2C%20%5B37.872104%2C%20-122.289812%5D%2C%20%5B37.888317%2C%20-122.252818%5D%2C%20%5B37.871584%2C%20-122.284497%5D%2C%20%5B37.851653%2C%20-122.289194%5D%2C%20%5B37.858892%2C%20-122.29127%5D%2C%20%5B37.877388%2C%20-122.256872%5D%2C%20%5B37.868714%2C%20-122.259189%5D%2C%20%5B37.867271%2C%20-122.298682%5D%2C%20%5B37.881004%2C%20-122.283225%5D%2C%20%5B37.850385%2C%20-122.270897%5D%2C%20%5B37.870396%2C%20-122.281585%5D%2C%20%5B37.851203%2C%20-122.289129%5D%2C%20%5B37.859259%2C%20-122.275787%5D%2C%20%5B37.876595%2C%20-122.267789%5D%2C%20%5B37.851339%2C%20-122.286349%5D%2C%20%5B37.875826%2C%20-122.303426%5D%2C%20%5B37.880971%2C%20-122.306626%5D%2C%20%5B37.854891%2C%20-122.280148%5D%2C%20%5B37.869057%2C%20-122.270463%5D%2C%20%5B37.880876%2C%20-122.260322%5D%2C%20%5B37.870243%2C%20-122.275149%5D%2C%20%5B37.868334%2C%20-122.303753%5D%2C%20%5B37.889362%2C%20-122.268883%5D%2C%20%5B37.874002%2C%20-122.267488%5D%2C%20%5B37.86939%2C%20-122.267883%5D%2C%20%5B37.871167%2C%20-122.268285%5D%2C%20%5B37.866426%2C%20-122.269762%5D%2C%20%5B37.873393%2C%20-122.286956%5D%2C%20%5B37.880228%2C%20-122.295798%5D%2C%20%5B37.867601%2C%20-122.267718%5D%2C%20%5B37.866594%2C%20-122.287944%5D%2C%20%5B37.871167%2C%20-122.268285%5D%2C%20%5B37.853665%2C%20-122.252715%5D%2C%20%5B37.875865%2C%20-122.261749%5D%2C%20%5B37.863811%2C%20-122.267412%5D%2C%20%5B37.877623%2C%20-122.30078%5D%2C%20%5B37.870603%2C%20-122.270612%5D%2C%20%5B37.863611%2C%20-122.317566%5D%2C%20%5B37.875053%2C%20-122.26548%5D%2C%20%5B37.848292%2C%20-122.271773%5D%2C%20%5B37.863646%2C%20-122.262822%5D%2C%20%5B37.869688%2C%20-122.272805%5D%2C%20%5B37.880266%2C%20-122.269032%5D%2C%20%5B37.849747%2C%20-122.277907%5D%2C%20%5B37.870603%2C%20-122.270612%5D%2C%20%5B37.892795%2C%20-122.286521%5D%2C%20%5B37.871167%2C%20-122.268285%5D%2C%20%5B37.868489%2C%20-122.26795%5D%2C%20%5B37.872463%2C%20-122.273117%5D%2C%20%5B37.862817%2C%20-122.298359%5D%2C%20%5B37.855935%2C%20-122.250579%5D%2C%20%5B37.87091%2C%20-122.265993%5D%2C%20%5B37.86331%2C%20-122.316113%5D%2C%20%5B37.88052%2C%20-122.294842%5D%2C%20%5B37.894483%2C%20-122.276085%5D%2C%20%5B37.864238%2C%20-122.265263%5D%2C%20%5B37.869084%2C%20-122.299245%5D%2C%20%5B37.871593%2C%20-122.279879%5D%2C%20%5B37.876881%2C%20-122.266666%5D%2C%20%5B37.85491%2C%20-122.268666%5D%2C%20%5B37.881957%2C%20-122.269551%5D%2C%20%5B37.863811%2C%20-122.267412%5D%2C%20%5B37.850967%2C%20-122.28623%5D%2C%20%5B37.853552%2C%20-122.291561%5D%2C%20%5B37.894745%2C%20-122.266009%5D%2C%20%5B37.848152%2C%20-122.275807%5D%2C%20%5B37.871167%2C%20-122.268285%5D%2C%20%5B37.871167%2C%20-122.268285%5D%2C%20%5B37.858214%2C%20-122.269252%5D%2C%20%5B37.849786%2C%20-122.269782%5D%2C%20%5B37.877417%2C%20-122.300713%5D%2C%20%5B37.868714%2C%20-122.259189%5D%2C%20%5B37.864238%2C%20-122.265263%5D%2C%20%5B37.869067%2C%20-122.292043%5D%2C%20%5B37.882337%2C%20-122.267262%5D%2C%20%5B37.869688%2C%20-122.272805%5D%2C%20%5B37.854442%2C%20-122.277107%5D%2C%20%5B37.848292%2C%20-122.271773%5D%2C%20%5B37.876921%2C%20-122.265567%5D%2C%20%5B37.855435%2C%20-122.259841%5D%2C%20%5B37.872992%2C%20-122.295801%5D%2C%20%5B37.855065%2C%20-122.271216%5D%2C%20%5B37.869332%2C%20-122.25019%5D%2C%20%5B37.870287%2C%20-122.316238%5D%2C%20%5B37.86581%2C%20-122.301707%5D%2C%20%5B37.862789%2C%20-122.317198%5D%2C%20%5B37.864693%2C%20-122.299701%5D%2C%20%5B37.869105%2C%20-122.270064%5D%2C%20%5B37.871167%2C%20-122.268285%5D%2C%20%5B37.857377%2C%20-122.268709%5D%2C%20%5B37.861604%2C%20-122.264366%5D%2C%20%5B37.871246%2C%20-122.274991%5D%2C%20%5B37.868204%2C%20-122.270054%5D%2C%20%5B37.867491%2C%20-122.254054%5D%2C%20%5B37.867852%2C%20-122.258699%5D%2C%20%5B37.871544%2C%20-122.272714%5D%2C%20%5B37.861078%2C%20-122.289632%5D%2C%20%5B37.88762%2C%20-122.265597%5D%2C%20%5B37.86549%2C%20-122.295702%5D%2C%20%5B37.880756%2C%20-122.303056%5D%2C%20%5B37.871167%2C%20-122.268285%5D%2C%20%5B37.866253%2C%20-122.299483%5D%2C%20%5B37.858356%2C%20-122.253179%5D%2C%20%5B37.871167%2C%20-122.268285%5D%2C%20%5B37.866969%2C%20-122.26553%5D%2C%20%5B37.868489%2C%20-122.26795%5D%2C%20%5B37.880891%2C%20-122.290189%5D%2C%20%5B37.865443%2C%20-122.263189%5D%2C%20%5B37.852871%2C%20-122.26799%5D%2C%20%5B37.883622%2C%20-122.269734%5D%2C%20%5B37.863069%2C%20-122.298445%5D%2C%20%5B37.867501%2C%20-122.291709%5D%2C%20%5B37.862202%2C%20-122.281026%5D%2C%20%5B37.857377%2C%20-122.268709%5D%2C%20%5B37.871265%2C%20-122.295043%5D%2C%20%5B37.870639%2C%20-122.272468%5D%2C%20%5B37.880756%2C%20-122.303056%5D%2C%20%5B37.872435%2C%20-122.279988%5D%2C%20%5B37.858392%2C%20-122.275421%5D%2C%20%5B37.868815%2C%20-122.292131%5D%2C%20%5B37.866253%2C%20-122.299483%5D%2C%20%5B37.858214%2C%20-122.269252%5D%2C%20%5B37.847442%2C%20-122.281175%5D%2C%20%5B37.86771%2C%20-122.298466%5D%2C%20%5B37.866253%2C%20-122.299483%5D%2C%20%5B37.87091%2C%20-122.265993%5D%2C%20%5B37.878373%2C%20-122.262902%5D%2C%20%5B37.866622%2C%20-122.26108%5D%2C%20%5B37.867513%2C%20-122.26127%5D%2C%20%5B37.877417%2C%20-122.300713%5D%2C%20%5B37.879968%2C%20-122.296885%5D%2C%20%5B37.851919%2C%20-122.286667%5D%2C%20%5B37.88248%2C%20-122.266137%5D%2C%20%5B37.872691%2C%20-122.270741%5D%2C%20%5B37.871369%2C%20-122.292954%5D%2C%20%5B37.867852%2C%20-122.258699%5D%2C%20%5B37.867212%2C%20-122.281739%5D%2C%20%5B37.869385%2C%20-122.28953%5D%2C%20%5B37.866426%2C%20-122.276847%5D%2C%20%5B37.899241%2C%20-122.265058%5D%2C%20%5B37.851038%2C%20-122.252448%5D%2C%20%5B37.899959%2C%20-122.282042%5D%2C%20%5B37.871883%2C%20-122.301255%5D%2C%20%5B37.855678%2C%20-122.274429%5D%2C%20%5B37.855076%2C%20-122.292412%5D%2C%20%5B37.866976%2C%20-122.30251%5D%2C%20%5B37.870417%2C%20-122.292485%5D%2C%20%5B37.866761%2C%20-122.258779%5D%2C%20%5B37.880518%2C%20-122.286747%5D%2C%20%5B37.882457%2C%20-122.295464%5D%2C%20%5B37.86825%2C%20-122.300093%5D%2C%20%5B37.87304%2C%20-122.289659%5D%2C%20%5B37.861204%2C%20-122.288752%5D%2C%20%5B37.859309%2C%20-122.259291%5D%2C%20%5B37.874872%2C%20-122.282359%5D%2C%20%5B37.857714%2C%20-122.288536%5D%2C%20%5B37.868447%2C%20-122.261268%5D%2C%20%5B37.872831%2C%20-122.269636%5D%2C%20%5B37.867717%2C%20-122.249901%5D%2C%20%5B37.864583%2C%20-122.275705%5D%2C%20%5B37.869363%2C%20-122.268028%5D%2C%20%5B37.851521%2C%20-122.28549%5D%2C%20%5B37.854018%2C%20-122.236384%5D%2C%20%5B37.867501%2C%20-122.291709%5D%2C%20%5B37.880756%2C%20-122.303056%5D%2C%20%5B37.885032%2C%20-122.274324%5D%2C%20%5B37.871544%2C%20-122.272714%5D%2C%20%5B37.8686%2C%20-122.289385%5D%2C%20%5B37.871486%2C%20-122.300027%5D%2C%20%5B37.900934%2C%20-122.267684%5D%2C%20%5B37.864109%2C%20-122.292948%5D%2C%20%5B37.876428%2C%20-122.291736%5D%2C%20%5B37.857592%2C%20-122.269186%5D%2C%20%5B37.851619%2C%20-122.28937%5D%2C%20%5B37.879677%2C%20-122.299779%5D%2C%20%5B37.871246%2C%20-122.274991%5D%2C%20%5B37.874929%2C%20-122.267601%5D%2C%20%5B37.860542%2C%20-122.253396%5D%2C%20%5B37.859184%2C%20-122.289022%5D%2C%20%5B37.873202%2C%20-122.267443%5D%2C%20%5B37.878274%2C%20-122.297556%5D%2C%20%5B37.872756%2C%20-122.284632%5D%2C%20%5B37.873454%2C%20-122.27209%5D%2C%20%5B37.864827%2C%20-122.258577%5D%2C%20%5B37.857647%2C%20-122.273145%5D%2C%20%5B37.891332%2C%20-122.279975%5D%2C%20%5B37.869284%2C%20-122.254556%5D%2C%20%5B37.863945%2C%20-122.294086%5D%2C%20%5B37.869058%2C%20-122.270455%5D%2C%20%5B37.85488%2C%20-122.269079%5D%2C%20%5B37.858116%2C%20-122.268002%5D%2C%20%5B37.880245%2C%20-122.296973%5D%2C%20%5B37.869993%2C%20-122.294774%5D%2C%20%5B37.865501%2C%20-122.269774%5D%2C%20%5B37.869041%2C%20-122.292204%5D%2C%20%5B37.865772%2C%20-122.267643%5D%2C%20%5B37.865511%2C%20-122.309967%5D%2C%20%5B37.880062%2C%20-122.307246%5D%2C%20%5B37.862202%2C%20-122.281026%5D%2C%20%5B37.879097%2C%20-122.302468%5D%2C%20%5B37.859846%2C%20-122.253325%5D%2C%20%5B37.880756%2C%20-122.303056%5D%2C%20%5B37.855935%2C%20-122.250579%5D%2C%20%5B37.874094%2C%20-122.299649%5D%2C%20%5B37.847827%2C%20-122.271065%5D%2C%20%5B37.878113%2C%20-122.269114%5D%2C%20%5B37.867513%2C%20-122.25195%5D%2C%20%5B37.871828%2C%20-122.270516%5D%2C%20%5B37.88189%2C%20-122.29825%5D%2C%20%5B37.867482%2C%20-122.254253%5D%2C%20%5B37.859195%2C%20-122.261915%5D%2C%20%5B37.852066%2C%20-122.272994%5D%2C%20%5B37.871246%2C%20-122.274991%5D%2C%20%5B37.868447%2C%20-122.261268%5D%2C%20%5B37.861144%2C%20-122.298742%5D%2C%20%5B37.848774%2C%20-122.271171%5D%2C%20%5B37.858856%2C%20-122.271592%5D%2C%20%5B37.869764%2C%20-122.28655%5D%2C%20%5B37.862491%2C%20-122.2646%5D%2C%20%5B37.850385%2C%20-122.270897%5D%2C%20%5B37.867708%2C%20-122.250801%5D%2C%20%5B37.866327%2C%20-122.263359%5D%2C%20%5B37.862817%2C%20-122.298359%5D%2C%20%5B37.870592%2C%20-122.286613%5D%2C%20%5B37.865205%2C%20-122.272027%5D%2C%20%5B37.870972%2C%20-122.288185%5D%2C%20%5B37.864897%2C%20-122.288672%5D%2C%20%5B37.866761%2C%20-122.258779%5D%2C%20%5B37.868591%2C%20-122.294393%5D%2C%20%5B37.880228%2C%20-122.295798%5D%2C%20%5B37.868641%2C%20-122.29415%5D%2C%20%5B37.868199%2C%20-122.263253%5D%2C%20%5B37.865795%2C%20-122.28044%5D%2C%20%5B37.872175%2C%20-122.267835%5D%2C%20%5B37.853951%2C%20-122.273198%5D%2C%20%5B37.868682%2C%20-122.272691%5D%2C%20%5B37.870948%2C%20-122.27733%5D%2C%20%5B37.870911%2C%20-122.289684%5D%2C%20%5B37.880228%2C%20-122.295798%5D%2C%20%5B37.866761%2C%20-122.258779%5D%2C%20%5B37.869067%2C%20-122.292043%5D%2C%20%5B37.862623%2C%20-122.277777%5D%2C%20%5B37.878113%2C%20-122.269114%5D%2C%20%5B37.868263%2C%20-122.296013%5D%2C%20%5B37.857316%2C%20-122.269156%5D%2C%20%5B37.86771%2C%20-122.298466%5D%2C%20%5B37.866842%2C%20-122.27366%5D%2C%20%5B37.869058%2C%20-122.270455%5D%2C%20%5B37.868263%2C%20-122.296013%5D%2C%20%5B37.870948%2C%20-122.27733%5D%2C%20%5B37.876085%2C%20-122.306138%5D%2C%20%5B37.86771%2C%20-122.298466%5D%2C%20%5B37.867491%2C%20-122.254054%5D%2C%20%5B37.852491%2C%20-122.243412%5D%2C%20%5B37.867513%2C%20-122.25195%5D%2C%20%5B37.866842%2C%20-122.27366%5D%2C%20%5B37.868785%2C%20-122.272701%5D%2C%20%5B37.85216%2C%20-122.270886%5D%2C%20%5B37.865374%2C%20-122.256511%5D%2C%20%5B37.872175%2C%20-122.267835%5D%2C%20%5B37.869105%2C%20-122.270064%5D%2C%20%5B37.857054%2C%20-122.271393%5D%2C%20%5B37.880228%2C%20-122.295798%5D%2C%20%5B37.860858%2C%20-122.290733%5D%2C%20%5B37.872691%2C%20-122.270741%5D%2C%20%5B37.866145%2C%20-122.300016%5D%2C%20%5B37.865772%2C%20-122.267643%5D%2C%20%5B37.865918%2C%20-122.280793%5D%2C%20%5B37.877663%2C%20-122.274831%5D%2C%20%5B37.869363%2C%20-122.268028%5D%2C%20%5B37.85062%2C%20-122.278313%5D%2C%20%5B37.867108%2C%20-122.292737%5D%2C%20%5B37.882135%2C%20-122.267239%5D%2C%20%5B37.874843%2C%20-122.263711%5D%2C%20%5B37.871369%2C%20-122.292954%5D%2C%20%5B37.873745%2C%20-122.269775%5D%2C%20%5B37.870867%2C%20-122.270635%5D%2C%20%5B37.869385%2C%20-122.28953%5D%2C%20%5B37.881366%2C%20-122.289688%5D%2C%20%5B37.865202%2C%20-122.257795%5D%2C%20%5B37.870396%2C%20-122.281585%5D%2C%20%5B37.870054%2C%20-122.284263%5D%2C%20%5B37.867501%2C%20-122.291709%5D%2C%20%5B37.884693%2C%20-122.251745%5D%2C%20%5B37.876307%2C%20-122.268923%5D%2C%20%5B37.881003%2C%20-122.293212%5D%2C%20%5B37.870054%2C%20-122.284263%5D%2C%20%5B37.853079%2C%20-122.293864%5D%2C%20%5B37.849376%2C%20-122.294952%5D%2C%20%5B37.853552%2C%20-122.291561%5D%2C%20%5B37.879677%2C%20-122.299779%5D%2C%20%5B37.867491%2C%20-122.254054%5D%2C%20%5B37.880228%2C%20-122.295798%5D%2C%20%5B37.871246%2C%20-122.274991%5D%2C%20%5B37.867513%2C%20-122.26127%5D%2C%20%5B37.857533%2C%20-122.282557%5D%2C%20%5B37.868655%2C%20-122.288064%5D%2C%20%5B37.853683%2C%20-122.261744%5D%2C%20%5B37.867291%2C%20-122.270245%5D%2C%20%5B37.852724%2C%20-122.263991%5D%2C%20%5B37.871246%2C%20-122.274991%5D%2C%20%5B37.865772%2C%20-122.267643%5D%2C%20%5B37.863099%2C%20-122.27207%5D%2C%20%5B37.865793%2C%20-122.293498%5D%2C%20%5B37.877708%2C%20-122.273685%5D%2C%20%5B37.873455%2C%20-122.293465%5D%2C%20%5B37.871689%2C%20-122.292898%5D%2C%20%5B37.88014%2C%20-122.297498%5D%2C%20%5B37.878056%2C%20-122.258553%5D%2C%20%5B37.88052%2C%20-122.294842%5D%2C%20%5B37.871167%2C%20-122.268285%5D%2C%20%5B37.868915%2C%20-122.293322%5D%2C%20%5B37.87146%2C%20-122.266052%5D%2C%20%5B37.867513%2C%20-122.26127%5D%2C%20%5B37.892004%2C%20-122.256774%5D%2C%20%5B37.877623%2C%20-122.30078%5D%2C%20%5B37.871167%2C%20-122.268285%5D%2C%20%5B37.866761%2C%20-122.258779%5D%2C%20%5B37.852155%2C%20-122.28661%5D%2C%20%5B37.867852%2C%20-122.258699%5D%2C%20%5B37.898189%2C%20-122.286977%5D%2C%20%5B37.873921%2C%20-122.275577%5D%2C%20%5B37.868722%2C%20-122.259123%5D%2C%20%5B37.869363%2C%20-122.268028%5D%2C%20%5B37.863611%2C%20-122.317566%5D%2C%20%5B37.860225%2C%20-122.269453%5D%2C%20%5B37.870287%2C%20-122.316238%5D%2C%20%5B37.869839%2C%20-122.252365%5D%2C%20%5B37.866037%2C%20-122.265618%5D%2C%20%5B37.880228%2C%20-122.295798%5D%2C%20%5B37.880922%2C%20-122.303115%5D%2C%20%5B37.887961%2C%20-122.269822%5D%2C%20%5B37.867513%2C%20-122.26127%5D%2C%20%5B37.861283%2C%20-122.273911%5D%2C%20%5B37.859184%2C%20-122.289022%5D%2C%20%5B37.869642%2C%20-122.287492%5D%2C%20%5B37.8719%2C%20-122.268389%5D%2C%20%5B37.873687%2C%20-122.268616%5D%2C%20%5B37.869921%2C%20-122.294825%5D%2C%20%5B37.903026%2C%20-122.274123%5D%2C%20%5B37.846646%2C%20-122.271003%5D%2C%20%5B37.868714%2C%20-122.259189%5D%2C%20%5B37.868878%2C%20-122.300284%5D%2C%20%5B37.890651%2C%20-122.258331%5D%2C%20%5B37.883979%2C%20-122.266324%5D%2C%20%5B37.853079%2C%20-122.293864%5D%2C%20%5B37.868204%2C%20-122.270054%5D%2C%20%5B37.878113%2C%20-122.269114%5D%2C%20%5B37.867259%2C%20-122.26324%5D%2C%20%5B37.867717%2C%20-122.249901%5D%2C%20%5B37.874802%2C%20-122.29615%5D%2C%20%5B37.854981%2C%20-122.242442%5D%2C%20%5B37.880922%2C%20-122.303115%5D%2C%20%5B37.881187%2C%20-122.291481%5D%2C%20%5B37.873202%2C%20-122.267443%5D%2C%20%5B37.867106%2C%20-122.286054%5D%2C%20%5B37.871167%2C%20-122.268285%5D%2C%20%5B37.871318%2C%20-122.275278%5D%2C%20%5B37.865149%2C%20-122.256487%5D%2C%20%5B37.869312%2C%20-122.254314%5D%2C%20%5B37.863272%2C%20-122.258656%5D%2C%20%5B37.876307%2C%20-122.268923%5D%2C%20%5B37.863893%2C%20-122.251422%5D%2C%20%5B37.868349%2C%20-122.25406%5D%2C%20%5B37.885691%2C%20-122.27282%5D%2C%20%5B37.875963%2C%20-122.296521%5D%2C%20%5B37.849376%2C%20-122.294952%5D%2C%20%5B37.880334%2C%20-122.27627%5D%2C%20%5B37.891332%2C%20-122.279975%5D%2C%20%5B37.880227%2C%20-122.26936%5D%2C%20%5B37.877393%2C%20-122.301918%5D%2C%20%5B37.856614%2C%20-122.267596%5D%2C%20%5B37.857714%2C%20-122.288536%5D%2C%20%5B37.856968%2C%20-122.279544%5D%2C%20%5B37.881366%2C%20-122.289688%5D%2C%20%5B37.862321%2C%20-122.258872%5D%2C%20%5B37.869973%2C%20-122.270557%5D%2C%20%5B37.866929%2C%20-122.295042%5D%2C%20%5B37.848152%2C%20-122.275807%5D%2C%20%5B37.850434%2C%20-122.272607%5D%2C%20%5B37.871318%2C%20-122.275278%5D%2C%20%5B37.879708%2C%20-122.297995%5D%2C%20%5B37.870881%2C%20-122.284399%5D%2C%20%5B37.881142%2C%20-122.30191%5D%2C%20%5B37.869688%2C%20-122.272805%5D%2C%20%5B37.877417%2C%20-122.300713%5D%2C%20%5B37.866698%2C%20-122.297261%5D%2C%20%5B37.863053%2C%20-122.267321%5D%2C%20%5B37.868878%2C%20-122.300284%5D%2C%20%5B37.88637%2C%20-122.26434%5D%2C%20%5B37.872691%2C%20-122.270741%5D%2C%20%5B37.878736%2C%20-122.304435%5D%2C%20%5B37.871317%2C%20-122.286575%5D%2C%20%5B37.866936%2C%20-122.296218%5D%2C%20%5B37.861387%2C%20-122.259001%5D%2C%20%5B37.866253%2C%20-122.299483%5D%2C%20%5B37.871167%2C%20-122.268285%5D%2C%20%5B37.867708%2C%20-122.250801%5D%2C%20%5B37.853218%2C%20-122.258076%5D%2C%20%5B37.868714%2C%20-122.259189%5D%2C%20%5B37.88014%2C%20-122.297498%5D%2C%20%5B37.867176%2C%20-122.267802%5D%2C%20%5B37.869105%2C%20-122.270064%5D%2C%20%5B37.858903%2C%20-122.243972%5D%2C%20%5B37.872599%2C%20-122.303889%5D%2C%20%5B37.871902%2C%20-122.27061%5D%2C%20%5B37.894802%2C%20-122.271234%5D%2C%20%5B37.863963%2C%20-122.260546%5D%2C%20%5B37.862927%2C%20-122.258784%5D%2C%20%5B37.865149%2C%20-122.256487%5D%2C%20%5B37.855935%2C%20-122.250579%5D%2C%20%5B37.863369%2C%20-122.257622%5D%2C%20%5B37.865501%2C%20-122.269774%5D%2C%20%5B37.865511%2C%20-122.309967%5D%2C%20%5B37.873687%2C%20-122.268616%5D%2C%20%5B37.866426%2C%20-122.269762%5D%2C%20%5B37.87551%2C%20-122.291424%5D%2C%20%5B37.873454%2C%20-122.27209%5D%2C%20%5B37.867513%2C%20-122.26127%5D%2C%20%5B37.865772%2C%20-122.267643%5D%2C%20%5B37.867491%2C%20-122.254054%5D%2C%20%5B37.86771%2C%20-122.298466%5D%2C%20%5B37.874489%2C%20-122.271072%5D%2C%20%5B37.846694%2C%20-122.273191%5D%2C%20%5B37.857377%2C%20-122.268709%5D%2C%20%5B37.871246%2C%20-122.274991%5D%2C%20%5B37.866739%2C%20-122.267299%5D%2C%20%5B37.867501%2C%20-122.291709%5D%2C%20%5B37.865945%2C%20-122.250471%5D%2C%20%5B37.879995%2C%20-122.301543%5D%2C%20%5B37.898431%2C%20-122.285636%5D%2C%20%5B37.868424%2C%20-122.261451%5D%2C%20%5B37.867852%2C%20-122.258699%5D%2C%20%5B37.876696%2C%20-122.282465%5D%2C%20%5B37.864677%2C%20-122.290292%5D%2C%20%5B37.88113%2C%20-122.276389%5D%2C%20%5B37.848292%2C%20-122.271773%5D%2C%20%5B37.867852%2C%20-122.258699%5D%2C%20%5B37.868489%2C%20-122.26795%5D%2C%20%5B37.861283%2C%20-122.273911%5D%2C%20%5B37.847733%2C%20-122.271969%5D%2C%20%5B37.867176%2C%20-122.267802%5D%2C%20%5B37.863611%2C%20-122.317566%5D%2C%20%5B37.878722%2C%20-122.295312%5D%2C%20%5B37.871369%2C%20-122.292954%5D%2C%20%5B37.863019%2C%20-122.29868%5D%2C%20%5B37.877863%2C%20-122.308855%5D%2C%20%5B37.863598%2C%20-122.253693%5D%2C%20%5B37.848357%2C%20-122.281521%5D%2C%20%5B37.855523%2C%20-122.266529%5D%2C%20%5B37.894256%2C%20-122.281603%5D%2C%20%5B37.869685%2C%20-122.272804%5D%2C%20%5B37.87742%2C%20-122.292046%5D%2C%20%5B37.872185%2C%20-122.268407%5D%2C%20%5B37.870603%2C%20-122.270612%5D%2C%20%5B37.863598%2C%20-122.253693%5D%2C%20%5B37.880652%2C%20-122.283181%5D%2C%20%5B37.865349%2C%20-122.28377%5D%2C%20%5B37.855651%2C%20-122.255006%5D%2C%20%5B37.852174%2C%20-122.267824%5D%2C%20%5B37.854265%2C%20-122.271133%5D%2C%20%5B37.869839%2C%20-122.252365%5D%2C%20%5B37.877625%2C%20-122.294534%5D%2C%20%5B37.897322%2C%20-122.282376%5D%2C%20%5B37.868206%2C%20-122.277232%5D%2C%20%5B37.872691%2C%20-122.270741%5D%2C%20%5B37.851919%2C%20-122.286667%5D%2C%20%5B37.870948%2C%20-122.27733%5D%2C%20%5B37.855684%2C%20-122.263491%5D%2C%20%5B37.850385%2C%20-122.270897%5D%2C%20%5B37.868667%2C%20-122.313656%5D%2C%20%5B37.879335%2C%20-122.301332%5D%2C%20%5B37.879147%2C%20-122.263462%5D%2C%20%5B37.864454%2C%20-122.263614%5D%2C%20%5B37.868512%2C%20-122.26781%5D%2C%20%5B37.880228%2C%20-122.295798%5D%2C%20%5B37.874793%2C%20-122.268639%5D%2C%20%5B37.868164%2C%20-122.256314%5D%2C%20%5B37.867708%2C%20-122.250801%5D%2C%20%5B37.851919%2C%20-122.286667%5D%2C%20%5B37.871225%2C%20-122.284447%5D%2C%20%5B37.876791%2C%20-122.280472%5D%2C%20%5B37.88427%2C%20-122.276737%5D%2C%20%5B37.88014%2C%20-122.297498%5D%2C%20%5B37.88383%2C%20-122.266309%5D%2C%20%5B37.867482%2C%20-122.254253%5D%2C%20%5B37.881849%2C%20-122.258126%5D%2C%20%5B37.869312%2C%20-122.254314%5D%2C%20%5B37.895076%2C%20-122.264743%5D%2C%20%5B37.879335%2C%20-122.301332%5D%2C%20%5B37.863811%2C%20-122.267412%5D%2C%20%5B37.875118%2C%20-122.297692%5D%2C%20%5B37.868667%2C%20-122.313656%5D%2C%20%5B37.893033%2C%20-122.253468%5D%2C%20%5B37.870213%2C%20-122.293749%5D%2C%20%5B37.869839%2C%20-122.252365%5D%2C%20%5B37.867513%2C%20-122.26127%5D%2C%20%5B37.850444%2C%20-122.288866%5D%2C%20%5B37.863611%2C%20-122.317566%5D%2C%20%5B37.88014%2C%20-122.297498%5D%2C%20%5B37.869642%2C%20-122.287492%5D%2C%20%5B37.866074%2C%20-122.26331%5D%2C%20%5B37.878113%2C%20-122.269114%5D%2C%20%5B37.865772%2C%20-122.267643%5D%2C%20%5B37.867852%2C%20-122.258699%5D%2C%20%5B37.857825%2C%20-122.249088%5D%2C%20%5B37.850385%2C%20-122.270897%5D%2C%20%5B37.857776%2C%20-122.286576%5D%2C%20%5B37.865511%2C%20-122.309967%5D%2C%20%5B37.892638%2C%20-122.284804%5D%2C%20%5B37.863611%2C%20-122.317566%5D%2C%20%5B37.850444%2C%20-122.288866%5D%2C%20%5B37.870054%2C%20-122.284263%5D%2C%20%5B37.848152%2C%20-122.275807%5D%2C%20%5B37.859184%2C%20-122.289022%5D%2C%20%5B37.876084%2C%20-122.280105%5D%2C%20%5B37.864714%2C%20-122.274572%5D%2C%20%5B37.876307%2C%20-122.268923%5D%2C%20%5B37.861387%2C%20-122.259001%5D%2C%20%5B37.859988%2C%20-122.253339%5D%2C%20%5B37.880228%2C%20-122.295798%5D%2C%20%5B37.867176%2C%20-122.267802%5D%2C%20%5B37.891332%2C%20-122.279975%5D%2C%20%5B37.86925%2C%20-122.266076%5D%2C%20%5B37.855954%2C%20-122.254022%5D%2C%20%5B37.855435%2C%20-122.259841%5D%2C%20%5B37.872989%2C%20-122.268532%5D%2C%20%5B37.88055%2C%20-122.304962%5D%2C%20%5B37.865202%2C%20-122.257795%5D%2C%20%5B37.871167%2C%20-122.268285%5D%2C%20%5B37.855671%2C%20-122.262461%5D%2C%20%5B37.867513%2C%20-122.26127%5D%2C%20%5B37.852304%2C%20-122.270045%5D%2C%20%5B37.88248%2C%20-122.266137%5D%2C%20%5B37.859006%2C%20-122.277874%5D%2C%20%5B37.869314%2C%20-122.2981%5D%2C%20%5B37.857216%2C%20-122.277614%5D%2C%20%5B37.863598%2C%20-122.253693%5D%2C%20%5B37.871167%2C%20-122.268285%5D%2C%20%5B37.88055%2C%20-122.304962%5D%2C%20%5B37.872158%2C%20-122.282066%5D%2C%20%5B37.880376%2C%20-122.268183%5D%2C%20%5B37.876549%2C%20-122.290899%5D%2C%20%5B37.874827%2C%20-122.275696%5D%2C%20%5B37.864444%2C%20-122.298896%5D%2C%20%5B37.850675%2C%20-122.286265%5D%2C%20%5B37.870396%2C%20-122.281585%5D%2C%20%5B37.866025%2C%20-122.258623%5D%2C%20%5B37.870298%2C%20-122.275101%5D%2C%20%5B37.847568%2C%20-122.273387%5D%2C%20%5B37.865511%2C%20-122.309967%5D%2C%20%5B37.865772%2C%20-122.267643%5D%2C%20%5B37.865511%2C%20-122.309967%5D%2C%20%5B37.864827%2C%20-122.258577%5D%2C%20%5B37.849609%2C%20-122.282%5D%2C%20%5B37.88024%2C%20-122.269235%5D%2C%20%5B37.87091%2C%20-122.265993%5D%2C%20%5B37.888512%2C%20-122.266746%5D%2C%20%5B37.861078%2C%20-122.289632%5D%2C%20%5B37.871883%2C%20-122.301255%5D%2C%20%5B37.853382%2C%20-122.249087%5D%2C%20%5B37.874843%2C%20-122.263711%5D%2C%20%5B37.866761%2C%20-122.258779%5D%2C%20%5B37.861078%2C%20-122.289632%5D%2C%20%5B37.903026%2C%20-122.274123%5D%2C%20%5B37.871828%2C%20-122.270516%5D%2C%20%5B37.86331%2C%20-122.316113%5D%2C%20%5B37.879799%2C%20-122.299187%5D%2C%20%5B37.855026%2C%20-122.266475%5D%2C%20%5B37.85948%2C%20-122.266689%5D%2C%20%5B37.857054%2C%20-122.271393%5D%2C%20%5B37.870036%2C%20-122.277169%5D%2C%20%5B37.869385%2C%20-122.28953%5D%2C%20%5B37.871828%2C%20-122.270516%5D%2C%20%5B37.854944%2C%20-122.257583%5D%2C%20%5B37.865255%2C%20-122.284519%5D%2C%20%5B37.872158%2C%20-122.282066%5D%2C%20%5B37.869363%2C%20-122.268028%5D%2C%20%5B37.869488%2C%20-122.289522%5D%2C%20%5B37.865172%2C%20-122.286604%5D%2C%20%5B37.846404%2C%20-122.275263%5D%2C%20%5B37.863292%2C%20-122.256293%5D%2C%20%5B37.874929%2C%20-122.267601%5D%2C%20%5B37.88014%2C%20-122.297498%5D%2C%20%5B37.858356%2C%20-122.253179%5D%2C%20%5B37.865511%2C%20-122.309967%5D%2C%20%5B37.871265%2C%20-122.295043%5D%2C%20%5B37.873921%2C%20-122.275577%5D%2C%20%5B37.852379%2C%20-122.266119%5D%2C%20%5B37.855435%2C%20-122.259841%5D%2C%20%5B37.868352%2C%20-122.254459%5D%2C%20%5B37.849732%2C%20-122.276144%5D%2C%20%5B37.864238%2C%20-122.265263%5D%2C%20%5B37.861645%2C%20-122.253508%5D%2C%20%5B37.867822%2C%20-122.266003%5D%2C%20%5B37.873941%2C%20-122.289764%5D%2C%20%5B37.871167%2C%20-122.268285%5D%2C%20%5B37.869688%2C%20-122.272805%5D%2C%20%5B37.864444%2C%20-122.298896%5D%2C%20%5B37.848453%2C%20-122.273607%5D%2C%20%5B37.858783%2C%20-122.248189%5D%2C%20%5B37.882135%2C%20-122.267239%5D%2C%20%5B37.887199%2C%20-122.275869%5D%2C%20%5B37.869888%2C%20-122.300618%5D%2C%20%5B37.867513%2C%20-122.25195%5D%2C%20%5B37.892795%2C%20-122.286521%5D%2C%20%5B37.866327%2C%20-122.263359%5D%2C%20%5B37.856595%2C%20-122.275065%5D%2C%20%5B37.868667%2C%20-122.313656%5D%2C%20%5B37.858608%2C%20-122.259302%5D%2C%20%5B37.856132%2C%20-122.271292%5D%2C%20%5B37.872691%2C%20-122.270741%5D%2C%20%5B37.867816%2C%20-122.258994%5D%2C%20%5B37.863611%2C%20-122.317566%5D%2C%20%5B37.869685%2C%20-122.272804%5D%2C%20%5B37.868913%2C%20-122.28608%5D%2C%20%5B37.875843%2C%20-122.282663%5D%2C%20%5B37.880228%2C%20-122.295798%5D%2C%20%5B37.858783%2C%20-122.248189%5D%2C%20%5B37.866174%2C%20-122.26454%5D%2C%20%5B37.884902%2C%20-122.24847%5D%2C%20%5B37.867176%2C%20-122.267802%5D%2C%20%5B37.868785%2C%20-122.272701%5D%2C%20%5B37.868785%2C%20-122.272701%5D%2C%20%5B37.885776%2C%20-122.267671%5D%2C%20%5B37.874095%2C%20-122.288542%5D%2C%20%5B37.85948%2C%20-122.266689%5D%2C%20%5B37.880228%2C%20-122.295798%5D%2C%20%5B37.899668%2C%20-122.27375%5D%2C%20%5B37.859906%2C%20-122.284931%5D%2C%20%5B37.895529%2C%20-122.257619%5D%2C%20%5B37.853576%2C%20-122.287202%5D%2C%20%5B37.857377%2C%20-122.268709%5D%2C%20%5B37.871369%2C%20-122.292954%5D%2C%20%5B37.870603%2C%20-122.270612%5D%2C%20%5B37.864925%2C%20-122.273436%5D%2C%20%5B37.872599%2C%20-122.303889%5D%2C%20%5B37.859259%2C%20-122.275787%5D%2C%20%5B37.868923%2C%20-122.303994%5D%2C%20%5B37.871544%2C%20-122.272714%5D%2C%20%5B37.860718%2C%20-122.245988%5D%2C%20%5B37.848774%2C%20-122.271171%5D%2C%20%5B37.881366%2C%20-122.289688%5D%2C%20%5B37.863646%2C%20-122.262822%5D%2C%20%5B37.858783%2C%20-122.248189%5D%2C%20%5B37.863369%2C%20-122.257622%5D%2C%20%5B37.87783%2C%20-122.299723%5D%2C%20%5B37.890366%2C%20-122.266998%5D%2C%20%5B37.865711%2C%20-122.25389%5D%2C%20%5B37.869312%2C%20-122.254314%5D%2C%20%5B37.873687%2C%20-122.268616%5D%2C%20%5B37.849814%2C%20-122.281093%5D%2C%20%5B37.868489%2C%20-122.26795%5D%2C%20%5B37.865121%2C%20-122.258455%5D%2C%20%5B37.850675%2C%20-122.286265%5D%2C%20%5B37.849099%2C%20-122.275932%5D%2C%20%5B37.868667%2C%20-122.313656%5D%2C%20%5B37.875391%2C%20-122.271141%5D%2C%20%5B37.869839%2C%20-122.252365%5D%2C%20%5B37.852956%2C%20-122.266195%5D%2C%20%5B37.875865%2C%20-122.261749%5D%2C%20%5B37.868714%2C%20-122.259189%5D%2C%20%5B37.858433%2C%20-122.280183%5D%2C%20%5B37.87304%2C%20-122.289659%5D%2C%20%5B37.87325%2C%20-122.293558%5D%2C%20%5B37.863611%2C%20-122.317566%5D%2C%20%5B37.875391%2C%20-122.271141%5D%2C%20%5B37.868785%2C%20-122.272701%5D%2C%20%5B37.867852%2C%20-122.258699%5D%2C%20%5B37.868667%2C%20-122.313656%5D%2C%20%5B37.88014%2C%20-122.297498%5D%2C%20%5B37.867513%2C%20-122.26127%5D%2C%20%5B37.869625%2C%20-122.265892%5D%2C%20%5B37.860225%2C%20-122.269453%5D%2C%20%5B37.869041%2C%20-122.292204%5D%2C%20%5B37.863679%2C%20-122.269631%5D%2C%20%5B37.853576%2C%20-122.287202%5D%2C%20%5B37.867332%2C%20-122.269908%5D%2C%20%5B37.872928%2C%20-122.273169%5D%2C%20%5B37.8719%2C%20-122.268389%5D%2C%20%5B37.858356%2C%20-122.253179%5D%2C%20%5B37.866426%2C%20-122.269762%5D%2C%20%5B37.855793%2C%20-122.281493%5D%2C%20%5B37.883555%2C%20-122.272036%5D%2C%20%5B37.877891%2C%20-122.299419%5D%2C%20%5B37.869058%2C%20-122.270455%5D%2C%20%5B37.866594%2C%20-122.287944%5D%2C%20%5B37.879335%2C%20-122.301332%5D%2C%20%5B37.863611%2C%20-122.317566%5D%2C%20%5B37.871167%2C%20-122.268285%5D%2C%20%5B37.870639%2C%20-122.272468%5D%2C%20%5B37.873723%2C%20-122.299532%5D%2C%20%5B37.854274%2C%20-122.28319%5D%2C%20%5B37.873687%2C%20-122.268616%5D%2C%20%5B37.863611%2C%20-122.317566%5D%2C%20%5B37.850434%2C%20-122.272607%5D%2C%20%5B37.871552%2C%20-122.305652%5D%2C%20%5B37.871167%2C%20-122.268285%5D%2C%20%5B37.854286%2C%20-122.271015%5D%2C%20%5B37.863679%2C%20-122.269631%5D%2C%20%5B37.867852%2C%20-122.258699%5D%2C%20%5B37.869105%2C%20-122.270064%5D%2C%20%5B37.848292%2C%20-122.271773%5D%2C%20%5B37.870603%2C%20-122.270612%5D%2C%20%5B37.874781%2C%20-122.268758%5D%2C%20%5B37.865793%2C%20-122.301779%5D%2C%20%5B37.880245%2C%20-122.296973%5D%2C%20%5B37.867551%2C%20-122.297541%5D%2C%20%5B37.878113%2C%20-122.269114%5D%2C%20%5B37.868722%2C%20-122.259123%5D%2C%20%5B37.855389%2C%20-122.264552%5D%2C%20%5B37.879653%2C%20-122.299139%5D%2C%20%5B37.895601%2C%20-122.285524%5D%2C%20%5B37.881667%2C%20-122.299379%5D%2C%20%5B37.8704%2C%20-122.292644%5D%2C%20%5B37.866563%2C%20-122.297217%5D%2C%20%5B37.856111%2C%20-122.260248%5D%2C%20%5B37.879363%2C%20-122.301341%5D%2C%20%5B37.876085%2C%20-122.306138%5D%2C%20%5B37.850675%2C%20-122.286265%5D%2C%20%5B37.870287%2C%20-122.316238%5D%2C%20%5B37.867513%2C%20-122.26127%5D%2C%20%5B37.869105%2C%20-122.270064%5D%2C%20%5B37.864827%2C%20-122.258577%5D%2C%20%5B37.862877%2C%20-122.290055%5D%2C%20%5B37.871369%2C%20-122.292954%5D%2C%20%5B37.865772%2C%20-122.267643%5D%2C%20%5B37.869688%2C%20-122.272805%5D%2C%20%5B37.862808%2C%20-122.27633%5D%2C%20%5B37.870639%2C%20-122.272468%5D%2C%20%5B37.85489%2C%20-122.252564%5D%2C%20%5B37.888792%2C%20-122.266538%5D%2C%20%5B37.866025%2C%20-122.258623%5D%2C%20%5B37.865219%2C%20-122.285314%5D%2C%20%5B37.878642%2C%20-122.279173%5D%2C%20%5B37.862024%2C%20-122.251212%5D%2C%20%5B37.869617%2C%20-122.295925%5D%2C%20%5B37.866293%2C%20-122.30551%5D%2C%20%5B37.887741%2C%20-122.254539%5D%2C%20%5B37.868512%2C%20-122.26781%5D%2C%20%5B37.869105%2C%20-122.270064%5D%2C%20%5B37.878113%2C%20-122.269114%5D%2C%20%5B37.884732%2C%20-122.280918%5D%2C%20%5B37.885744%2C%20-122.278017%5D%2C%20%5B37.880027%2C%20-122.279976%5D%2C%20%5B37.86549%2C%20-122.295702%5D%2C%20%5B37.863611%2C%20-122.317566%5D%2C%20%5B37.874095%2C%20-122.288542%5D%2C%20%5B37.878772%2C%20-122.294276%5D%2C%20%5B37.850798%2C%20-122.294689%5D%2C%20%5B37.863928%2C%20-122.295255%5D%2C%20%5B37.860732%2C%20-122.291369%5D%2C%20%5B37.870417%2C%20-122.292485%5D%2C%20%5B37.88014%2C%20-122.297498%5D%2C%20%5B37.87241%2C%20-122.277692%5D%2C%20%5B37.873908%2C%20-122.290025%5D%2C%20%5B37.869688%2C%20-122.272805%5D%2C%20%5B37.868447%2C%20-122.261268%5D%2C%20%5B37.894709%2C%20-122.259491%5D%2C%20%5B37.882217%2C%20-122.302226%5D%2C%20%5B37.862927%2C%20-122.258784%5D%2C%20%5B37.866025%2C%20-122.258623%5D%2C%20%5B37.863611%2C%20-122.317566%5D%2C%20%5B37.881142%2C%20-122.30191%5D%2C%20%5B37.858116%2C%20-122.268002%5D%2C%20%5B37.878722%2C%20-122.295312%5D%2C%20%5B37.866253%2C%20-122.299483%5D%2C%20%5B37.869058%2C%20-122.270455%5D%2C%20%5B37.868714%2C%20-122.259189%5D%2C%20%5B37.867513%2C%20-122.26127%5D%2C%20%5B37.873639%2C%20-122.27064%5D%2C%20%5B37.860225%2C%20-122.269453%5D%2C%20%5B37.868915%2C%20-122.293322%5D%2C%20%5B37.869973%2C%20-122.270557%5D%2C%20%5B37.865511%2C%20-122.309967%5D%2C%20%5B37.873687%2C%20-122.268616%5D%2C%20%5B37.858448%2C%20-122.282308%5D%2C%20%5B37.884439%2C%20-122.254414%5D%2C%20%5B37.875843%2C%20-122.282663%5D%2C%20%5B37.863811%2C%20-122.267412%5D%2C%20%5B37.849675%2C%20-122.271149%5D%2C%20%5B37.870396%2C%20-122.281585%5D%2C%20%5B37.85491%2C%20-122.268666%5D%2C%20%5B37.862512%2C%20-122.290094%5D%2C%20%5B37.878373%2C%20-122.262902%5D%2C%20%5B37.873687%2C%20-122.268616%5D%2C%20%5B37.883684%2C%20-122.267485%5D%2C%20%5B37.88383%2C%20-122.266309%5D%2C%20%5B37.863143%2C%20-122.266681%5D%2C%20%5B37.857825%2C%20-122.249088%5D%2C%20%5B37.858431%2C%20-122.293497%5D%2C%20%5B37.8549%2C%20-122.27945%5D%2C%20%5B37.848357%2C%20-122.281521%5D%2C%20%5B37.879129%2C%20-122.302478%5D%2C%20%5B37.878736%2C%20-122.304435%5D%2C%20%5B37.880551%2C%20-122.304085%5D%2C%20%5B37.866739%2C%20-122.267299%5D%2C%20%5B37.860366%2C%20-122.266802%5D%2C%20%5B37.872599%2C%20-122.303889%5D%2C%20%5B37.880228%2C%20-122.295798%5D%2C%20%5B37.858356%2C%20-122.253179%5D%2C%20%5B37.871167%2C%20-122.268285%5D%2C%20%5B37.867501%2C%20-122.291709%5D%2C%20%5B37.867613%2C%20-122.299898%5D%2C%20%5B37.883512%2C%20-122.27103%5D%2C%20%5B37.865511%2C%20-122.309967%5D%2C%20%5B37.858356%2C%20-122.253179%5D%2C%20%5B37.876549%2C%20-122.290899%5D%2C%20%5B37.868204%2C%20-122.270054%5D%2C%20%5B37.855076%2C%20-122.292412%5D%2C%20%5B37.880376%2C%20-122.268183%5D%2C%20%5B37.879708%2C%20-122.297995%5D%2C%20%5B37.865826%2C%20-122.267244%5D%2C%20%5B37.856948%2C%20-122.293014%5D%2C%20%5B37.873687%2C%20-122.268616%5D%2C%20%5B37.876268%2C%20-122.291682%5D%2C%20%5B37.858214%2C%20-122.269252%5D%2C%20%5B37.858455%2C%20-122.293374%5D%2C%20%5B37.877502%2C%20-122.269061%5D%2C%20%5B37.870793%2C%20-122.297496%5D%2C%20%5B37.851919%2C%20-122.286667%5D%2C%20%5B37.882353%2C%20-122.267136%5D%2C%20%5B37.869839%2C%20-122.252365%5D%2C%20%5B37.872175%2C%20-122.267835%5D%2C%20%5B37.879335%2C%20-122.301332%5D%2C%20%5B37.87091%2C%20-122.265993%5D%2C%20%5B37.891214%2C%20-122.282158%5D%2C%20%5B37.873017%2C%20-122.275481%5D%2C%20%5B37.871167%2C%20-122.268285%5D%2C%20%5B37.873207%2C%20-122.294711%5D%2C%20%5B37.872175%2C%20-122.267835%5D%2C%20%5B37.857336%2C%20-122.290797%5D%2C%20%5B37.858356%2C%20-122.253179%5D%2C%20%5B37.86771%2C%20-122.298466%5D%2C%20%5B37.867708%2C%20-122.250801%5D%2C%20%5B37.855317%2C%20-122.292357%5D%2C%20%5B37.871828%2C%20-122.270516%5D%2C%20%5B37.850385%2C%20-122.270897%5D%2C%20%5B37.872545%2C%20-122.298043%5D%2C%20%5B37.89221%2C%20-122.28242%5D%2C%20%5B37.868815%2C%20-122.292131%5D%2C%20%5B37.871883%2C%20-122.301255%5D%2C%20%5B37.865202%2C%20-122.257795%5D%2C%20%5B37.866594%2C%20-122.287944%5D%2C%20%5B37.867816%2C%20-122.258994%5D%2C%20%5B37.873627%2C%20-122.277834%5D%2C%20%5B37.865205%2C%20-122.272027%5D%2C%20%5B37.869764%2C%20-122.28655%5D%2C%20%5B37.851017%2C%20-122.291088%5D%2C%20%5B37.867852%2C%20-122.258699%5D%2C%20%5B37.873687%2C%20-122.268616%5D%2C%20%5B37.870054%2C%20-122.284263%5D%2C%20%5B37.848752%2C%20-122.271331%5D%2C%20%5B37.870054%2C%20-122.284263%5D%2C%20%5B37.868785%2C%20-122.272701%5D%2C%20%5B37.869688%2C%20-122.272805%5D%2C%20%5B37.873921%2C%20-122.275577%5D%2C%20%5B37.866145%2C%20-122.300016%5D%2C%20%5B37.861107%2C%20-122.289485%5D%2C%20%5B37.874929%2C%20-122.267601%5D%2C%20%5B37.867852%2C%20-122.258699%5D%2C%20%5B37.868687%2C%20-122.259401%5D%2C%20%5B37.852211%2C%20-122.286336%5D%2C%20%5B37.872831%2C%20-122.269636%5D%2C%20%5B37.870948%2C%20-122.27733%5D%2C%20%5B37.864238%2C%20-122.265263%5D%2C%20%5B37.868352%2C%20-122.254459%5D%2C%20%5B37.866622%2C%20-122.26108%5D%2C%20%5B37.88014%2C%20-122.297498%5D%2C%20%5B37.859795%2C%20-122.245436%5D%2C%20%5B37.866253%2C%20-122.299483%5D%2C%20%5B37.850385%2C%20-122.270897%5D%2C%20%5B37.862777%2C%20-122.276571%5D%2C%20%5B37.881003%2C%20-122.293212%5D%2C%20%5B37.869058%2C%20-122.270455%5D%2C%20%5B37.867301%2C%20-122.255777%5D%2C%20%5B37.849431%2C%20-122.278174%5D%2C%20%5B37.858147%2C%20-122.2848%5D%2C%20%5B37.873687%2C%20-122.268616%5D%2C%20%5B37.875657%2C%20-122.288727%5D%2C%20%5B37.863679%2C%20-122.269631%5D%2C%20%5B37.885744%2C%20-122.278017%5D%2C%20%5B37.868489%2C%20-122.26795%5D%2C%20%5B37.885934%2C%20-122.267691%5D%2C%20%5B37.868204%2C%20-122.270054%5D%2C%20%5B37.854265%2C%20-122.271133%5D%2C%20%5B37.871883%2C%20-122.301255%5D%2C%20%5B37.865729%2C%20-122.260903%5D%2C%20%5B37.855435%2C%20-122.259841%5D%2C%20%5B37.861677%2C%20-122.26716%5D%2C%20%5B37.872125%2C%20-122.28964%5D%2C%20%5B37.869105%2C%20-122.270064%5D%2C%20%5B37.865134%2C%20-122.258331%5D%2C%20%5B37.878772%2C%20-122.294276%5D%2C%20%5B37.878629%2C%20-122.260883%5D%2C%20%5B37.869058%2C%20-122.270455%5D%2C%20%5B37.873941%2C%20-122.289764%5D%2C%20%5B37.866253%2C%20-122.299483%5D%2C%20%5B37.869363%2C%20-122.268028%5D%2C%20%5B37.869685%2C%20-122.272804%5D%2C%20%5B37.880376%2C%20-122.268183%5D%2C%20%5B37.876307%2C%20-122.268923%5D%2C%20%5B37.857651%2C%20-122.288388%5D%2C%20%5B37.868532%2C%20-122.274764%5D%2C%20%5B37.881957%2C%20-122.269551%5D%2C%20%5B37.872084%2C%20-122.300218%5D%2C%20%5B37.857714%2C%20-122.288536%5D%2C%20%5B37.878113%2C%20-122.269114%5D%2C%20%5B37.851953%2C%20-122.270182%5D%2C%20%5B37.876333%2C%20-122.278118%5D%2C%20%5B37.868161%2C%20-122.291751%5D%2C%20%5B37.867291%2C%20-122.270245%5D%2C%20%5B37.884644%2C%20-122.280096%5D%2C%20%5B37.869314%2C%20-122.2981%5D%2C%20%5B37.894256%2C%20-122.281603%5D%2C%20%5B37.870234%2C%20-122.27287%5D%2C%20%5B37.867501%2C%20-122.291709%5D%2C%20%5B37.888897%2C%20-122.276185%5D%2C%20%5B37.879194%2C%20-122.29176%5D%2C%20%5B37.869113%2C%20-122.250903%5D%2C%20%5B37.862927%2C%20-122.258784%5D%2C%20%5B37.85175%2C%20-122.29379%5D%2C%20%5B37.863126%2C%20-122.288063%5D%2C%20%5B37.848812%2C%20-122.278043%5D%2C%20%5B37.857156%2C%20-122.233828%5D%2C%20%5B37.863611%2C%20-122.317566%5D%2C%20%5B37.857336%2C%20-122.290797%5D%2C%20%5B37.87227%2C%20-122.266144%5D%2C%20%5B37.85774%2C%20-122.293272%5D%2C%20%5B37.876736%2C%20-122.292728%5D%2C%20%5B37.873397%2C%20-122.303143%5D%2C%20%5B37.872691%2C%20-122.270741%5D%2C%20%5B37.873687%2C%20-122.268616%5D%2C%20%5B37.856111%2C%20-122.260248%5D%2C%20%5B37.864925%2C%20-122.273436%5D%2C%20%5B37.876307%2C%20-122.268923%5D%2C%20%5B37.873079%2C%20-122.304672%5D%2C%20%5B37.851032%2C%20-122.293546%5D%2C%20%5B37.863611%2C%20-122.317566%5D%2C%20%5B37.857377%2C%20-122.268709%5D%2C%20%5B37.871167%2C%20-122.268285%5D%2C%20%5B37.858993%2C%20-122.244574%5D%2C%20%5B37.864126%2C%20-122.259106%5D%2C%20%5B37.856111%2C%20-122.260248%5D%2C%20%5B37.8692%2C%20-122.269308%5D%2C%20%5B37.867491%2C%20-122.254054%5D%2C%20%5B37.868785%2C%20-122.272701%5D%2C%20%5B37.855824%2C%20-122.247116%5D%2C%20%5B37.88014%2C%20-122.297498%5D%2C%20%5B37.870205%2C%20-122.292581%5D%2C%20%5B37.853959%2C%20-122.284067%5D%2C%20%5B37.857713%2C%20-122.250709%5D%2C%20%5B37.860456%2C%20-122.259132%5D%2C%20%5B37.87325%2C%20-122.293558%5D%2C%20%5B37.866563%2C%20-122.297217%5D%2C%20%5B37.873687%2C%20-122.268616%5D%2C%20%5B37.850675%2C%20-122.286265%5D%2C%20%5B37.87571%2C%20-122.268737%5D%2C%20%5B37.878904%2C%20-122.258814%5D%2C%20%5B37.871246%2C%20-122.274991%5D%2C%20%5B37.869105%2C%20-122.270064%5D%2C%20%5B37.868878%2C%20-122.300284%5D%2C%20%5B37.868785%2C%20-122.272701%5D%2C%20%5B37.867852%2C%20-122.258699%5D%2C%20%5B37.873607%2C%20-122.270903%5D%2C%20%5B37.863353%2C%20-122.272097%5D%2C%20%5B37.883407%2C%20-122.273154%5D%2C%20%5B37.878113%2C%20-122.269114%5D%2C%20%5B37.871246%2C%20-122.274991%5D%2C%20%5B37.880228%2C%20-122.295798%5D%2C%20%5B37.858116%2C%20-122.268002%5D%2C%20%5B37.880228%2C%20-122.295798%5D%2C%20%5B37.875113%2C%20-122.273413%5D%2C%20%5B37.87783%2C%20-122.299723%5D%2C%20%5B37.873639%2C%20-122.27064%5D%2C%20%5B37.875324%2C%20-122.292268%5D%2C%20%5B37.880227%2C%20-122.26936%5D%2C%20%5B37.871246%2C%20-122.274991%5D%2C%20%5B37.871225%2C%20-122.284447%5D%2C%20%5B37.869973%2C%20-122.270557%5D%2C%20%5B37.879524%2C%20-122.30028%5D%2C%20%5B37.855076%2C%20-122.292412%5D%2C%20%5B37.892108%2C%20-122.279995%5D%2C%20%5B37.868164%2C%20-122.256314%5D%2C%20%5B37.851038%2C%20-122.252448%5D%2C%20%5B37.853552%2C%20-122.291561%5D%2C%20%5B37.870652%2C%20-122.27958%5D%2C%20%5B37.876307%2C%20-122.268923%5D%2C%20%5B37.869105%2C%20-122.270064%5D%2C%20%5B37.876045%2C%20-122.260336%5D%2C%20%5B37.846404%2C%20-122.275263%5D%2C%20%5B37.865511%2C%20-122.309967%5D%2C%20%5B37.868714%2C%20-122.259189%5D%2C%20%5B37.861929%2C%20-122.276345%5D%2C%20%5B37.869688%2C%20-122.272805%5D%2C%20%5B37.853875%2C%20-122.260048%5D%2C%20%5B37.853216%2C%20-122.281082%5D%2C%20%5B37.868512%2C%20-122.26781%5D%2C%20%5B37.893829%2C%20-122.266249%5D%2C%20%5B37.872691%2C%20-122.270741%5D%2C%20%5B37.864826%2C%20-122.260719%5D%2C%20%5B37.861553%2C%20-122.296599%5D%2C%20%5B37.873687%2C%20-122.268616%5D%2C%20%5B37.870948%2C%20-122.27733%5D%2C%20%5B37.850434%2C%20-122.272607%5D%2C%20%5B37.871544%2C%20-122.272714%5D%2C%20%5B37.863611%2C%20-122.317566%5D%2C%20%5B37.873687%2C%20-122.268616%5D%2C%20%5B37.867176%2C%20-122.267802%5D%2C%20%5B37.867852%2C%20-122.258699%5D%2C%20%5B37.877663%2C%20-122.274831%5D%2C%20%5B37.868815%2C%20-122.292131%5D%2C%20%5B37.878756%2C%20-122.266534%5D%2C%20%5B37.863099%2C%20-122.288255%5D%2C%20%5B37.866563%2C%20-122.297217%5D%2C%20%5B37.878113%2C%20-122.269114%5D%2C%20%5B37.855317%2C%20-122.292357%5D%2C%20%5B37.868447%2C%20-122.261268%5D%2C%20%5B37.876384%2C%20-122.282714%5D%2C%20%5B37.870396%2C%20-122.281585%5D%2C%20%5B37.882985%2C%20-122.261615%5D%2C%20%5B37.860732%2C%20-122.291369%5D%2C%20%5B37.861078%2C%20-122.289632%5D%2C%20%5B37.867212%2C%20-122.281739%5D%2C%20%5B37.868512%2C%20-122.26781%5D%2C%20%5B37.867108%2C%20-122.292737%5D%2C%20%5B37.869348%2C%20-122.250048%5D%2C%20%5B37.85491%2C%20-122.268666%5D%2C%20%5B37.891214%2C%20-122.282158%5D%2C%20%5B37.863977%2C%20-122.267307%5D%2C%20%5B37.880756%2C%20-122.303056%5D%2C%20%5B37.889482%2C%20-122.281718%5D%2C%20%5B37.850005%2C%20-122.280256%5D%2C%20%5B37.855632%2C%20-122.256606%5D%2C%20%5B37.853386%2C%20-122.263973%5D%2C%20%5B37.862927%2C%20-122.258784%5D%2C%20%5B37.873661%2C%20-122.301831%5D%2C%20%5B37.878747%2C%20-122.29519%5D%2C%20%5B37.870396%2C%20-122.281585%5D%2C%20%5B37.878113%2C%20-122.269114%5D%2C%20%5B37.859802%2C%20-122.267177%5D%2C%20%5B37.877696%2C%20-122.273684%5D%2C%20%5B37.871369%2C%20-122.292954%5D%2C%20%5B37.893213%2C%20-122.280436%5D%2C%20%5B37.891214%2C%20-122.282158%5D%2C%20%5B37.87247%2C%20-122.273021%5D%2C%20%5B37.851919%2C%20-122.286667%5D%2C%20%5B37.859364%2C%20-122.288914%5D%2C%20%5B37.878722%2C%20-122.295312%5D%2C%20%5B37.85525%2C%20-122.277126%5D%2C%20%5B37.868489%2C%20-122.26795%5D%2C%20%5B37.852871%2C%20-122.26799%5D%2C%20%5B37.858116%2C%20-122.268002%5D%2C%20%5B37.850434%2C%20-122.272607%5D%2C%20%5B37.898168%2C%20-122.262253%5D%2C%20%5B37.899278%2C%20-122.283222%5D%2C%20%5B37.869041%2C%20-122.292204%5D%2C%20%5B37.859184%2C%20-122.289022%5D%2C%20%5B37.854612%2C%20-122.281178%5D%2C%20%5B37.877482%2C%20-122.256109%5D%2C%20%5B37.855435%2C%20-122.259841%5D%2C%20%5B37.854265%2C%20-122.271133%5D%2C%20%5B37.879335%2C%20-122.301332%5D%2C%20%5B37.863598%2C%20-122.253693%5D%2C%20%5B37.880227%2C%20-122.26936%5D%2C%20%5B37.869685%2C%20-122.272804%5D%2C%20%5B37.872404%2C%20-122.297999%5D%2C%20%5B37.864826%2C%20-122.260719%5D%2C%20%5B37.851503%2C%20-122.278518%5D%2C%20%5B37.861573%2C%20-122.257452%5D%2C%20%5B37.873327%2C%20-122.273214%5D%2C%20%5B37.869764%2C%20-122.28655%5D%2C%20%5B37.868641%2C%20-122.29415%5D%2C%20%5B37.857377%2C%20-122.268709%5D%2C%20%5B37.861911%2C%20-122.283244%5D%2C%20%5B37.872691%2C%20-122.270741%5D%2C%20%5B37.869041%2C%20-122.292204%5D%2C%20%5B37.873202%2C%20-122.267443%5D%2C%20%5B37.869688%2C%20-122.272805%5D%2C%20%5B37.851503%2C%20-122.278518%5D%2C%20%5B37.891332%2C%20-122.279975%5D%2C%20%5B37.859309%2C%20-122.259291%5D%2C%20%5B37.885385%2C%20-122.273547%5D%2C%20%5B37.851107%2C%20-122.28324%5D%2C%20%5B37.861843%2C%20-122.269644%5D%2C%20%5B37.854833%2C%20-122.279839%5D%2C%20%5B37.869888%2C%20-122.300618%5D%2C%20%5B37.881957%2C%20-122.269551%5D%2C%20%5B37.880228%2C%20-122.295798%5D%2C%20%5B37.848152%2C%20-122.275807%5D%2C%20%5B37.881435%2C%20-122.289994%5D%2C%20%5B37.861541%2C%20-122.251156%5D%2C%20%5B37.863611%2C%20-122.317566%5D%2C%20%5B37.899278%2C%20-122.283222%5D%2C%20%5B37.870054%2C%20-122.284263%5D%2C%20%5B37.87091%2C%20-122.265993%5D%2C%20%5B37.873687%2C%20-122.268616%5D%2C%20%5B37.88014%2C%20-122.297498%5D%2C%20%5B37.857495%2C%20-122.275256%5D%2C%20%5B37.866253%2C%20-122.299483%5D%2C%20%5B37.855026%2C%20-122.266475%5D%2C%20%5B37.855793%2C%20-122.281493%5D%2C%20%5B37.869873%2C%20-122.286561%5D%2C%20%5B37.852935%2C%20-122.261925%5D%2C%20%5B37.861387%2C%20-122.259001%5D%2C%20%5B37.867176%2C%20-122.267802%5D%2C%20%5B37.865772%2C%20-122.267643%5D%2C%20%5B37.857698%2C%20-122.289983%5D%2C%20%5B37.87091%2C%20-122.265993%5D%2C%20%5B37.86939%2C%20-122.267883%5D%2C%20%5B37.86456%2C%20-122.269954%5D%2C%20%5B37.863611%2C%20-122.317566%5D%2C%20%5B37.871246%2C%20-122.274991%5D%2C%20%5B37.848152%2C%20-122.275807%5D%2C%20%5B37.864693%2C%20-122.299701%5D%2C%20%5B37.856111%2C%20-122.260248%5D%2C%20%5B37.862927%2C%20-122.258784%5D%2C%20%5B37.863092%2C%20-122.274125%5D%2C%20%5B37.846404%2C%20-122.275263%5D%2C%20%5B37.852211%2C%20-122.286336%5D%2C%20%5B37.85274%2C%20-122.283711%5D%2C%20%5B37.878373%2C%20-122.262902%5D%2C%20%5B37.862817%2C%20-122.298359%5D%2C%20%5B37.868512%2C%20-122.26781%5D%2C%20%5B37.868815%2C%20-122.292131%5D%2C%20%5B37.871544%2C%20-122.272714%5D%2C%20%5B37.867852%2C%20-122.258699%5D%2C%20%5B37.860732%2C%20-122.291369%5D%2C%20%5B37.879968%2C%20-122.296885%5D%2C%20%5B37.855824%2C%20-122.25502%5D%2C%20%5B37.88014%2C%20-122.297498%5D%2C%20%5B37.867383%2C%20-122.293938%5D%2C%20%5B37.86939%2C%20-122.267883%5D%2C%20%5B37.860265%2C%20-122.289213%5D%2C%20%5B37.873055%2C%20-122.282337%5D%2C%20%5B37.865511%2C%20-122.309967%5D%2C%20%5B37.867551%2C%20-122.297541%5D%2C%20%5B37.860732%2C%20-122.291369%5D%2C%20%5B37.856195%2C%20-122.288053%5D%2C%20%5B37.854148%2C%20-122.288597%5D%2C%20%5B37.868706%2C%20-122.266279%5D%2C%20%5B37.871584%2C%20-122.284497%5D%2C%20%5B37.861078%2C%20-122.289632%5D%2C%20%5B37.8531%2C%20-122.266131%5D%2C%20%5B37.861604%2C%20-122.264366%5D%2C%20%5B37.856719%2C%20-122.266672%5D%2C%20%5B37.867501%2C%20-122.291709%5D%2C%20%5B37.851017%2C%20-122.291088%5D%2C%20%5B37.882064%2C%20-122.269357%5D%2C%20%5B37.871544%2C%20-122.272714%5D%2C%20%5B37.881957%2C%20-122.269551%5D%2C%20%5B37.847827%2C%20-122.271065%5D%2C%20%5B37.873687%2C%20-122.268616%5D%2C%20%5B37.862927%2C%20-122.258784%5D%2C%20%5B37.869363%2C%20-122.268028%5D%2C%20%5B37.855824%2C%20-122.25502%5D%2C%20%5B37.881957%2C%20-122.269551%5D%2C%20%5B37.902647%2C%20-122.277413%5D%2C%20%5B37.869058%2C%20-122.270455%5D%2C%20%5B37.877678%2C%20-122.281631%5D%2C%20%5B37.873885%2C%20-122.266332%5D%2C%20%5B37.880227%2C%20-122.26936%5D%2C%20%5B37.895976%2C%20-122.2558%5D%2C%20%5B37.852304%2C%20-122.270045%5D%2C%20%5B37.895365%2C%20-122.258638%5D%2C%20%5B37.872231%2C%20-122.29677%5D%2C%20%5B37.868747%2C%20-122.287342%5D%2C%20%5B37.868447%2C%20-122.261268%5D%2C%20%5B37.869314%2C%20-122.2981%5D%2C%20%5B37.867852%2C%20-122.258699%5D%2C%20%5B37.870538%2C%20-122.297407%5D%2C%20%5B37.865535%2C%20-122.255235%5D%2C%20%5B37.891454%2C%20-122.277124%5D%2C%20%5B37.869385%2C%20-122.28953%5D%2C%20%5B37.855671%2C%20-122.262461%5D%2C%20%5B37.882461%2C%20-122.265026%5D%2C%20%5B37.892804%2C%20-122.285696%5D%2C%20%5B37.865134%2C%20-122.258331%5D%2C%20%5B37.85488%2C%20-122.269079%5D%2C%20%5B37.867209%2C%20-122.256554%5D%2C%20%5B37.893148%2C%20-122.274809%5D%2C%20%5B37.850675%2C%20-122.286265%5D%2C%20%5B37.852211%2C%20-122.286336%5D%2C%20%5B37.889423%2C%20-122.278847%5D%2C%20%5B37.867708%2C%20-122.250801%5D%2C%20%5B37.871883%2C%20-122.301255%5D%2C%20%5B37.861387%2C%20-122.259001%5D%2C%20%5B37.870396%2C%20-122.281585%5D%2C%20%5B37.879335%2C%20-122.301332%5D%2C%20%5B37.868722%2C%20-122.259123%5D%2C%20%5B37.877863%2C%20-122.308855%5D%2C%20%5B37.877863%2C%20-122.308855%5D%2C%20%5B37.869921%2C%20-122.294825%5D%2C%20%5B37.852261%2C%20-122.267127%5D%2C%20%5B37.868512%2C%20-122.26781%5D%2C%20%5B37.856121%2C%20-122.26876%5D%2C%20%5B37.858165%2C%20-122.255687%5D%2C%20%5B37.870205%2C%20-122.292581%5D%2C%20%5B37.863611%2C%20-122.317566%5D%2C%20%5B37.869363%2C%20-122.268028%5D%2C%20%5B37.871883%2C%20-122.301255%5D%2C%20%5B37.867513%2C%20-122.26127%5D%2C%20%5B37.866568%2C%20-122.254084%5D%2C%20%5B37.873921%2C%20-122.275577%5D%2C%20%5B37.852066%2C%20-122.272994%5D%2C%20%5B37.887344%2C%20-122.277321%5D%2C%20%5B37.853552%2C%20-122.291561%5D%2C%20%5B37.857698%2C%20-122.289983%5D%2C%20%5B37.858783%2C%20-122.248189%5D%2C%20%5B37.867513%2C%20-122.26127%5D%2C%20%5B37.883153%2C%20-122.292104%5D%2C%20%5B37.882033%2C%20-122.296381%5D%2C%20%5B37.869888%2C%20-122.300618%5D%2C%20%5B37.867501%2C%20-122.291709%5D%2C%20%5B37.879968%2C%20-122.296885%5D%2C%20%5B37.877247%2C%20-122.27708%5D%2C%20%5B37.881776%2C%20-122.260421%5D%2C%20%5B37.890651%2C%20-122.258331%5D%2C%20%5B37.870639%2C%20-122.272468%5D%2C%20%5B37.864238%2C%20-122.265263%5D%2C%20%5B37.866622%2C%20-122.26108%5D%2C%20%5B37.851477%2C%20-122.278651%5D%2C%20%5B37.867209%2C%20-122.256554%5D%2C%20%5B37.846404%2C%20-122.275263%5D%2C%20%5B37.864535%2C%20-122.262993%5D%2C%20%5B37.86328%2C%20-122.297383%5D%2C%20%5B37.871883%2C%20-122.301255%5D%2C%20%5B37.868913%2C%20-122.28608%5D%2C%20%5B37.866311%2C%20-122.256361%5D%2C%20%5B37.857054%2C%20-122.271393%5D%2C%20%5B37.870393%2C%20-122.299532%5D%2C%20%5B37.850798%2C%20-122.294689%5D%2C%20%5B37.87935%2C%20-122.276123%5D%2C%20%5B37.856111%2C%20-122.260248%5D%2C%20%5B37.869312%2C%20-122.254314%5D%2C%20%5B37.88014%2C%20-122.297498%5D%2C%20%5B37.875505%2C%20-122.298797%5D%2C%20%5B37.86007%2C%20-122.28931%5D%2C%20%5B37.868957%2C%20-122.254552%5D%2C%20%5B37.867317%2C%20-122.293982%5D%2C%20%5B37.877247%2C%20-122.27708%5D%2C%20%5B37.882217%2C%20-122.302226%5D%2C%20%5B37.862927%2C%20-122.258784%5D%2C%20%5B37.858892%2C%20-122.29127%5D%2C%20%5B37.866622%2C%20-122.26108%5D%2C%20%5B37.86771%2C%20-122.298466%5D%2C%20%5B37.863379%2C%20-122.28494%5D%2C%20%5B37.87742%2C%20-122.292046%5D%2C%20%5B37.866981%2C%20-122.302083%5D%2C%20%5B37.868263%2C%20-122.296013%5D%2C%20%5B37.853959%2C%20-122.284067%5D%2C%20%5B37.871167%2C%20-122.268285%5D%2C%20%5B37.868574%2C%20-122.270415%5D%2C%20%5B37.87043%2C%20-122.274014%5D%2C%20%5B37.88014%2C%20-122.297498%5D%2C%20%5B37.853929%2C%20-122.289679%5D%2C%20%5B37.868352%2C%20-122.254459%5D%2C%20%5B37.851038%2C%20-122.252448%5D%2C%20%5B37.862994%2C%20-122.289129%5D%2C%20%5B37.869396%2C%20-122.245117%5D%2C%20%5B37.861661%2C%20-122.256169%5D%2C%20%5B37.880227%2C%20-122.26936%5D%2C%20%5B37.872831%2C%20-122.269636%5D%2C%20%5B37.874781%2C%20-122.268758%5D%2C%20%5B37.86695%2C%20-122.286984%5D%2C%20%5B37.86331%2C%20-122.316113%5D%2C%20%5B37.891368%2C%20-122.279257%5D%2C%20%5B37.868815%2C%20-122.292131%5D%2C%20%5B37.852422%2C%20-122.278571%5D%2C%20%5B37.866025%2C%20-122.258623%5D%2C%20%5B37.85525%2C%20-122.277126%5D%2C%20%5B37.872545%2C%20-122.298043%5D%2C%20%5B37.871461%2C%20-122.270706%5D%2C%20%5B37.870054%2C%20-122.284263%5D%2C%20%5B37.871167%2C%20-122.268285%5D%2C%20%5B37.862405%2C%20-122.29242%5D%2C%20%5B37.855509%2C%20-122.291368%5D%2C%20%5B37.870652%2C%20-122.27958%5D%2C%20%5B37.880756%2C%20-122.303056%5D%2C%20%5B37.858392%2C%20-122.275421%5D%2C%20%5B37.847838%2C%20-122.275741%5D%2C%20%5B37.856948%2C%20-122.293014%5D%2C%20%5B37.884022%2C%20-122.253252%5D%2C%20%5B37.86814%2C%20-122.263736%5D%2C%20%5B37.880519%2C%20-122.267051%5D%2C%20%5B37.88014%2C%20-122.297498%5D%2C%20%5B37.876965%2C%20-122.260544%5D%2C%20%5B37.882024%2C%20-122.29756%5D%2C%20%5B37.867501%2C%20-122.291709%5D%2C%20%5B37.867383%2C%20-122.293938%5D%2C%20%5B37.868785%2C%20-122.272701%5D%2C%20%5B37.880667%2C%20-122.29489%5D%2C%20%5B37.881957%2C%20-122.269551%5D%2C%20%5B37.875391%2C%20-122.271141%5D%2C%20%5B37.853552%2C%20-122.291561%5D%2C%20%5B37.868667%2C%20-122.313656%5D%2C%20%5B37.858455%2C%20-122.293374%5D%2C%20%5B37.8559%2C%20-122.283101%5D%2C%20%5B37.86939%2C%20-122.267883%5D%2C%20%5B37.888768%2C%20-122.279287%5D%2C%20%5B37.852422%2C%20-122.278571%5D%2C%20%5B37.853638%2C%20-122.289588%5D%2C%20%5B37.889658%2C%20-122.270137%5D%2C%20%5B37.868489%2C%20-122.26795%5D%2C%20%5B37.860372%2C%20-122.25981%5D%2C%20%5B37.863353%2C%20-122.272097%5D%2C%20%5B37.870396%2C%20-122.281585%5D%2C%20%5B37.895296%2C%20-122.256591%5D%2C%20%5B37.854612%2C%20-122.281178%5D%2C%20%5B37.870652%2C%20-122.27958%5D%2C%20%5B37.87325%2C%20-122.293558%5D%2C%20%5B37.851521%2C%20-122.28549%5D%2C%20%5B37.866253%2C%20-122.299483%5D%2C%20%5B37.866067%2C%20-122.248411%5D%2C%20%5B37.873393%2C%20-122.286956%5D%2C%20%5B37.863369%2C%20-122.257622%5D%2C%20%5B37.854612%2C%20-122.281178%5D%2C%20%5B37.878113%2C%20-122.269114%5D%2C%20%5B37.868714%2C%20-122.259189%5D%2C%20%5B37.863369%2C%20-122.257622%5D%2C%20%5B37.869246%2C%20-122.244474%5D%2C%20%5B37.854012%2C%20-122.251243%5D%2C%20%5B37.869058%2C%20-122.270455%5D%2C%20%5B37.853008%2C%20-122.286877%5D%2C%20%5B37.878113%2C%20-122.269114%5D%2C%20%5B37.880468%2C%20-122.295876%5D%2C%20%5B37.874557%2C%20-122.277936%5D%2C%20%5B37.873607%2C%20-122.270903%5D%2C%20%5B37.865149%2C%20-122.256487%5D%2C%20%5B37.867513%2C%20-122.26127%5D%2C%20%5B37.872691%2C%20-122.270741%5D%2C%20%5B37.848774%2C%20-122.271171%5D%2C%20%5B37.875426%2C%20-122.278057%5D%2C%20%5B37.879968%2C%20-122.296885%5D%2C%20%5B37.872656%2C%20-122.292748%5D%2C%20%5B37.864827%2C%20-122.258577%5D%2C%20%5B37.858993%2C%20-122.244574%5D%2C%20%5B37.882457%2C%20-122.295464%5D%2C%20%5B37.885938%2C%20-122.253481%5D%2C%20%5B37.870054%2C%20-122.284263%5D%2C%20%5B37.865816%2C%20-122.281601%5D%2C%20%5B37.861991%2C%20-122.294394%5D%2C%20%5B37.861843%2C%20-122.269644%5D%2C%20%5B37.848453%2C%20-122.273607%5D%2C%20%5B37.863353%2C%20-122.265053%5D%2C%20%5B37.849445%2C%20-122.282725%5D%2C%20%5B37.870308%2C%20-122.26805%5D%2C%20%5B37.868641%2C%20-122.29415%5D%2C%20%5B37.857592%2C%20-122.269186%5D%2C%20%5B37.868263%2C%20-122.296013%5D%2C%20%5B37.848752%2C%20-122.271331%5D%2C%20%5B37.880228%2C%20-122.295798%5D%2C%20%5B37.865219%2C%20-122.285314%5D%2C%20%5B37.859889%2C%20-122.278167%5D%2C%20%5B37.887747%2C%20-122.264514%5D%2C%20%5B37.876384%2C%20-122.282714%5D%2C%20%5B37.88637%2C%20-122.26434%5D%2C%20%5B37.866472%2C%20-122.298403%5D%2C%20%5B37.869105%2C%20-122.270064%5D%2C%20%5B37.893213%2C%20-122.280436%5D%2C%20%5B37.8531%2C%20-122.266131%5D%2C%20%5B37.863053%2C%20-122.267321%5D%2C%20%5B37.869105%2C%20-122.270064%5D%2C%20%5B37.880228%2C%20-122.295798%5D%2C%20%5B37.878935%2C%20-122.293437%5D%2C%20%5B37.870948%2C%20-122.27733%5D%2C%20%5B37.867513%2C%20-122.25195%5D%2C%20%5B37.855026%2C%20-122.266475%5D%2C%20%5B37.8719%2C%20-122.268389%5D%2C%20%5B37.873627%2C%20-122.277834%5D%2C%20%5B37.862334%2C%20-122.264828%5D%2C%20%5B37.869839%2C%20-122.252365%5D%2C%20%5B37.867176%2C%20-122.267802%5D%2C%20%5B37.88014%2C%20-122.297498%5D%2C%20%5B37.859184%2C%20-122.289022%5D%2C%20%5B37.864827%2C%20-122.258577%5D%2C%20%5B37.863611%2C%20-122.317566%5D%2C%20%5B37.865134%2C%20-122.258331%5D%2C%20%5B37.859767%2C%20-122.296263%5D%2C%20%5B37.863945%2C%20-122.294086%5D%2C%20%5B37.878405%2C%20-122.306072%5D%2C%20%5B37.867708%2C%20-122.250801%5D%2C%20%5B37.853929%2C%20-122.289679%5D%2C%20%5B37.879524%2C%20-122.30028%5D%2C%20%5B37.878552%2C%20-122.266844%5D%2C%20%5B37.873017%2C%20-122.275481%5D%2C%20%5B37.868204%2C%20-122.270054%5D%2C%20%5B37.872691%2C%20-122.270741%5D%2C%20%5B37.88548%2C%20-122.2713%5D%2C%20%5B37.874872%2C%20-122.282359%5D%2C%20%5B37.867176%2C%20-122.267802%5D%2C%20%5B37.865501%2C%20-122.269774%5D%2C%20%5B37.853203%2C%20-122.279642%5D%2C%20%5B37.881142%2C%20-122.30191%5D%2C%20%5B37.850675%2C%20-122.286265%5D%2C%20%5B37.864827%2C%20-122.258577%5D%2C%20%5B37.871167%2C%20-122.268285%5D%2C%20%5B37.870396%2C%20-122.281585%5D%2C%20%5B37.859557%2C%20-122.29733%5D%2C%20%5B37.868957%2C%20-122.254552%5D%2C%20%5B37.860766%2C%20-122.255895%5D%2C%20%5B37.873327%2C%20-122.273214%5D%2C%20%5B37.894836%2C%20-122.268516%5D%2C%20%5B37.87413%2C%20-122.26636%5D%2C%20%5B37.867513%2C%20-122.26127%5D%2C%20%5B37.847281%2C%20-122.27545%5D%2C%20%5B37.865501%2C%20-122.269774%5D%2C%20%5B37.869058%2C%20-122.270455%5D%2C%20%5B37.873687%2C%20-122.268616%5D%2C%20%5B37.851038%2C%20-122.252448%5D%2C%20%5B37.870948%2C%20-122.27733%5D%2C%20%5B37.871883%2C%20-122.301255%5D%2C%20%5B37.869625%2C%20-122.265892%5D%2C%20%5B37.858518%2C%20-122.288665%5D%2C%20%5B37.858214%2C%20-122.269252%5D%2C%20%5B37.863611%2C%20-122.317566%5D%2C%20%5B37.850385%2C%20-122.270897%5D%2C%20%5B37.864346%2C%20-122.291843%5D%2C%20%5B37.868785%2C%20-122.272701%5D%2C%20%5B37.857784%2C%20-122.272998%5D%2C%20%5B37.869625%2C%20-122.265892%5D%2C%20%5B37.870213%2C%20-122.293749%5D%2C%20%5B37.85704%2C%20-122.25306%5D%2C%20%5B37.869058%2C%20-122.270455%5D%2C%20%5B37.868489%2C%20-122.26795%5D%2C%20%5B37.863143%2C%20-122.266681%5D%2C%20%5B37.864701%2C%20-122.260693%5D%2C%20%5B37.872691%2C%20-122.270741%5D%2C%20%5B37.896582%2C%20-122.286354%5D%2C%20%5B37.873687%2C%20-122.268616%5D%2C%20%5B37.863824%2C%20-122.282282%5D%2C%20%5B37.869057%2C%20-122.270463%5D%2C%20%5B37.86331%2C%20-122.316113%5D%2C%20%5B37.882033%2C%20-122.296381%5D%2C%20%5B37.869921%2C%20-122.294825%5D%2C%20%5B37.848752%2C%20-122.271331%5D%2C%20%5B37.867852%2C%20-122.258699%5D%2C%20%5B37.868199%2C%20-122.263253%5D%2C%20%5B37.879524%2C%20-122.30028%5D%2C%20%5B37.871486%2C%20-122.300027%5D%2C%20%5B37.876251%2C%20-122.262453%5D%2C%20%5B37.848292%2C%20-122.271773%5D%2C%20%5B37.869524%2C%20-122.272779%5D%2C%20%5B37.855%2C%20-122.277202%5D%2C%20%5B37.866311%2C%20-122.256361%5D%2C%20%5B37.860225%2C%20-122.269453%5D%2C%20%5B37.871167%2C%20-122.268285%5D%2C%20%5B37.86542%2C%20-122.25618%5D%2C%20%5B37.863611%2C%20-122.317566%5D%2C%20%5B37.877891%2C%20-122.299419%5D%2C%20%5B37.862927%2C%20-122.258784%5D%2C%20%5B37.882353%2C%20-122.267136%5D%2C%20%5B37.889482%2C%20-122.281718%5D%2C%20%5B37.869105%2C%20-122.270064%5D%2C%20%5B37.870911%2C%20-122.289684%5D%2C%20%5B37.869839%2C%20-122.252365%5D%2C%20%5B37.875796%2C%20-122.282477%5D%2C%20%5B37.869105%2C%20-122.270064%5D%2C%20%5B37.856111%2C%20-122.260248%5D%2C%20%5B37.894468%2C%20-122.265464%5D%2C%20%5B37.87783%2C%20-122.299723%5D%2C%20%5B37.880228%2C%20-122.295798%5D%2C%20%5B37.871883%2C%20-122.301255%5D%2C%20%5B37.851556%2C%20-122.250561%5D%2C%20%5B37.869363%2C%20-122.268028%5D%2C%20%5B37.86456%2C%20-122.269954%5D%2C%20%5B37.871246%2C%20-122.274991%5D%2C%20%5B37.866426%2C%20-122.269762%5D%2C%20%5B37.870213%2C%20-122.293749%5D%2C%20%5B37.873085%2C%20-122.273187%5D%2C%20%5B37.880228%2C%20-122.295798%5D%2C%20%5B37.862927%2C%20-122.258784%5D%2C%20%5B37.882739%2C%20-122.293754%5D%2C%20%5B37.869973%2C%20-122.270557%5D%2C%20%5B37.881227%2C%20-122.29097%5D%2C%20%5B37.865945%2C%20-122.250471%5D%2C%20%5B37.852422%2C%20-122.278571%5D%2C%20%5B37.868204%2C%20-122.270054%5D%2C%20%5B37.87247%2C%20-122.273021%5D%2C%20%5B37.873687%2C%20-122.268616%5D%2C%20%5B37.864238%2C%20-122.265263%5D%2C%20%5B37.868641%2C%20-122.29415%5D%2C%20%5B37.855721%2C%20-122.2559%5D%2C%20%5B37.880228%2C%20-122.295798%5D%2C%20%5B37.870308%2C%20-122.26805%5D%2C%20%5B37.882217%2C%20-122.302226%5D%2C%20%5B37.8719%2C%20-122.268389%5D%2C%20%5B37.882957%2C%20-122.289458%5D%2C%20%5B37.851339%2C%20-122.286349%5D%2C%20%5B37.849431%2C%20-122.278174%5D%2C%20%5B37.852211%2C%20-122.286336%5D%2C%20%5B37.855435%2C%20-122.259841%5D%2C%20%5B37.870592%2C%20-122.286613%5D%2C%20%5B37.894233%2C%20-122.260552%5D%2C%20%5B37.867822%2C%20-122.266003%5D%2C%20%5B37.876045%2C%20-122.260336%5D%2C%20%5B37.869685%2C%20-122.272804%5D%2C%20%5B37.867852%2C%20-122.258699%5D%2C%20%5B37.891199%2C%20-122.282401%5D%2C%20%5B37.875983%2C%20-122.30262%5D%2C%20%5B37.880756%2C%20-122.303056%5D%2C%20%5B37.866568%2C%20-122.254084%5D%2C%20%5B37.857254%2C%20-122.262649%5D%2C%20%5B37.868667%2C%20-122.313656%5D%2C%20%5B37.869652%2C%20-122.265882%5D%2C%20%5B37.853552%2C%20-122.291561%5D%2C%20%5B37.854091%2C%20-122.256132%5D%2C%20%5B37.870308%2C%20-122.26805%5D%2C%20%5B37.868714%2C%20-122.259189%5D%2C%20%5B37.869363%2C%20-122.268028%5D%2C%20%5B37.876685%2C%20-122.282581%5D%2C%20%5B37.900631%2C%20-122.276539%5D%2C%20%5B37.846404%2C%20-122.275263%5D%2C%20%5B37.871883%2C%20-122.301255%5D%2C%20%5B37.866311%2C%20-122.256361%5D%2C%20%5B37.88014%2C%20-122.297498%5D%2C%20%5B37.873687%2C%20-122.268616%5D%2C%20%5B37.865034%2C%20-122.297939%5D%2C%20%5B37.899628%2C%20-122.260739%5D%2C%20%5B37.867717%2C%20-122.249901%5D%2C%20%5B37.864908%2C%20-122.267289%5D%2C%20%5B37.871167%2C%20-122.268285%5D%2C%20%5B37.861887%2C%20-122.262292%5D%2C%20%5B37.850899%2C%20-122.276174%5D%2C%20%5B37.881366%2C%20-122.289688%5D%2C%20%5B37.879679%2C%20-122.273638%5D%2C%20%5B37.861541%2C%20-122.251156%5D%2C%20%5B37.865511%2C%20-122.309967%5D%2C%20%5B37.879968%2C%20-122.296885%5D%2C%20%5B37.872158%2C%20-122.282066%5D%2C%20%5B37.866327%2C%20-122.263359%5D%2C%20%5B37.869363%2C%20-122.268028%5D%2C%20%5B37.894836%2C%20-122.268351%5D%2C%20%5B37.868815%2C%20-122.292131%5D%2C%20%5B37.869488%2C%20-122.289522%5D%2C%20%5B37.869888%2C%20-122.300618%5D%2C%20%5B37.848812%2C%20-122.278043%5D%2C%20%5B37.876339%2C%20-122.285012%5D%2C%20%5B37.855435%2C%20-122.259841%5D%2C%20%5B37.875391%2C%20-122.271141%5D%2C%20%5B37.850385%2C%20-122.270897%5D%2C%20%5B37.853959%2C%20-122.284067%5D%2C%20%5B37.880233%2C%20-122.27394%5D%2C%20%5B37.853552%2C%20-122.291561%5D%2C%20%5B37.871246%2C%20-122.274991%5D%2C%20%5B37.870054%2C%20-122.284263%5D%2C%20%5B37.861265%2C%20-122.26698%5D%2C%20%5B37.851919%2C%20-122.286667%5D%2C%20%5B37.856638%2C%20-122.290578%5D%2C%20%5B37.902033%2C%20-122.265247%5D%2C%20%5B37.863811%2C%20-122.267412%5D%2C%20%5B37.882957%2C%20-122.289458%5D%2C%20%5B37.855969%2C%20-122.236484%5D%2C%20%5B37.873687%2C%20-122.268616%5D%2C%20%5B37.885744%2C%20-122.278017%5D%2C%20%5B37.867176%2C%20-122.267802%5D%2C%20%5B37.868815%2C%20-122.292131%5D%2C%20%5B37.85491%2C%20-122.268666%5D%2C%20%5B37.855026%2C%20-122.266475%5D%2C%20%5B37.865511%2C%20-122.309967%5D%2C%20%5B37.862393%2C%20-122.248851%5D%2C%20%5B37.863369%2C%20-122.257622%5D%2C%20%5B37.856111%2C%20-122.260248%5D%2C%20%5B37.869312%2C%20-122.254314%5D%2C%20%5B37.864109%2C%20-122.292948%5D%2C%20%5B37.858892%2C%20-122.29127%5D%2C%20%5B37.850444%2C%20-122.288866%5D%2C%20%5B37.866253%2C%20-122.299483%5D%2C%20%5B37.876251%2C%20-122.262453%5D%2C%20%5B37.851919%2C%20-122.286667%5D%2C%20%5B37.854265%2C%20-122.271133%5D%2C%20%5B37.870308%2C%20-122.26805%5D%2C%20%5B37.865169%2C%20-122.272303%5D%2C%20%5B37.87325%2C%20-122.293558%5D%2C%20%5B37.850367%2C%20-122.272807%5D%2C%20%5B37.864836%2C%20-122.299024%5D%2C%20%5B37.8692%2C%20-122.269308%5D%2C%20%5B37.88014%2C%20-122.297498%5D%2C%20%5B37.855435%2C%20-122.259841%5D%2C%20%5B37.867513%2C%20-122.26127%5D%2C%20%5B37.869058%2C%20-122.270455%5D%2C%20%5B37.879097%2C%20-122.302468%5D%2C%20%5B37.894233%2C%20-122.260552%5D%2C%20%5B37.879679%2C%20-122.273638%5D%2C%20%5B37.863378%2C%20-122.286204%5D%2C%20%5B37.863522%2C%20-122.254992%5D%2C%20%5B37.858214%2C%20-122.269252%5D%2C%20%5B37.867513%2C%20-122.26127%5D%2C%20%5B37.876965%2C%20-122.260544%5D%2C%20%5B37.863611%2C%20-122.317566%5D%2C%20%5B37.873941%2C%20-122.289764%5D%2C%20%5B37.868747%2C%20-122.287342%5D%2C%20%5B37.855435%2C%20-122.259841%5D%2C%20%5B37.874906%2C%20-122.301138%5D%2C%20%5B37.857651%2C%20-122.288388%5D%2C%20%5B37.86939%2C%20-122.267883%5D%2C%20%5B37.866563%2C%20-122.297217%5D%2C%20%5B37.850675%2C%20-122.286265%5D%2C%20%5B37.871883%2C%20-122.301255%5D%2C%20%5B37.861843%2C%20-122.269644%5D%2C%20%5B37.879968%2C%20-122.296885%5D%2C%20%5B37.863977%2C%20-122.267307%5D%2C%20%5B37.865443%2C%20-122.263189%5D%2C%20%5B37.87091%2C%20-122.265993%5D%2C%20%5B37.869314%2C%20-122.2981%5D%2C%20%5B37.855793%2C%20-122.281493%5D%2C%20%5B37.862817%2C%20-122.298359%5D%2C%20%5B37.866581%2C%20-122.270179%5D%2C%20%5B37.897734%2C%20-122.266944%5D%2C%20%5B37.869332%2C%20-122.25019%5D%2C%20%5B37.856111%2C%20-122.260248%5D%2C%20%5B37.860745%2C%20-122.27096%5D%2C%20%5B37.874182%2C%20-122.265937%5D%2C%20%5B37.869888%2C%20-122.300618%5D%2C%20%5B37.857387%2C%20-122.261536%5D%2C%20%5B37.878629%2C%20-122.260883%5D%2C%20%5B37.855435%2C%20-122.259841%5D%2C%20%5B37.88052%2C%20-122.294842%5D%2C%20%5B37.881957%2C%20-122.269551%5D%2C%20%5B37.88014%2C%20-122.297498%5D%2C%20%5B37.87528%2C%20-122.279217%5D%2C%20%5B37.867176%2C%20-122.267802%5D%2C%20%5B37.858116%2C%20-122.268002%5D%2C%20%5B37.859364%2C%20-122.288914%5D%2C%20%5B37.872472%2C%20-122.266164%5D%2C%20%5B37.871828%2C%20-122.270516%5D%2C%20%5B37.873454%2C%20-122.27209%5D%2C%20%5B37.868663%2C%20-122.301325%5D%2C%20%5B37.865535%2C%20-122.255235%5D%2C%20%5B37.861677%2C%20-122.26716%5D%2C%20%5B37.868512%2C%20-122.26781%5D%2C%20%5B37.880228%2C%20-122.295798%5D%2C%20%5B37.896558%2C%20-122.285222%5D%2C%20%5B37.868103%2C%20-122.25672%5D%2C%20%5B37.867176%2C%20-122.267802%5D%2C%20%5B37.858392%2C%20-122.275421%5D%2C%20%5B37.890274%2C%20-122.260794%5D%2C%20%5B37.868447%2C%20-122.261268%5D%2C%20%5B37.878373%2C%20-122.262902%5D%2C%20%5B37.872691%2C%20-122.270741%5D%2C%20%5B37.869105%2C%20-122.270064%5D%2C%20%5B37.857246%2C%20-122.277347%5D%2C%20%5B37.85491%2C%20-122.268666%5D%2C%20%5B37.867491%2C%20-122.254054%5D%2C%20%5B37.871171%2C%20-122.267718%5D%2C%20%5B37.869888%2C%20-122.300618%5D%2C%20%5B37.858156%2C%20-122.254397%5D%2C%20%5B37.869363%2C%20-122.268028%5D%2C%20%5B37.850758%2C%20-122.29489%5D%2C%20%5B37.882024%2C%20-122.29756%5D%2C%20%5B37.867708%2C%20-122.250801%5D%2C%20%5B37.868204%2C%20-122.270054%5D%2C%20%5B37.865793%2C%20-122.293498%5D%2C%20%5B37.861573%2C%20-122.257452%5D%2C%20%5B37.891332%2C%20-122.279975%5D%2C%20%5B37.855389%2C%20-122.264552%5D%2C%20%5B37.868103%2C%20-122.25672%5D%2C%20%5B37.879787%2C%20-122.272745%5D%2C%20%5B37.868714%2C%20-122.259189%5D%2C%20%5B37.86727%2C%20-122.291472%5D%2C%20%5B37.863679%2C%20-122.269631%5D%2C%20%5B37.872656%2C%20-122.292748%5D%2C%20%5B37.866426%2C%20-122.276847%5D%2C%20%5B37.878915%2C%20-122.303521%5D%2C%20%5B37.867491%2C%20-122.254054%5D%2C%20%5B37.859988%2C%20-122.253339%5D%2C%20%5B37.900813%2C%20-122.277074%5D%2C%20%5B37.869685%2C%20-122.272804%5D%2C%20%5B37.850974%2C%20-122.280926%5D%2C%20%5B37.854534%2C%20-122.281798%5D%2C%20%5B37.860766%2C%20-122.255895%5D%2C%20%5B37.869058%2C%20-122.270455%5D%2C%20%5B37.865202%2C%20-122.257795%5D%2C%20%5B37.856111%2C%20-122.260248%5D%2C%20%5B37.869067%2C%20-122.292043%5D%2C%20%5B37.882217%2C%20-122.302226%5D%2C%20%5B37.89126%2C%20-122.281375%5D%2C%20%5B37.861677%2C%20-122.26716%5D%2C%20%5B37.87549%2C%20-122.297831%5D%2C%20%5B37.868785%2C%20-122.272701%5D%2C%20%5B37.88014%2C%20-122.297498%5D%2C%20%5B37.849609%2C%20-122.282%5D%2C%20%5B37.874095%2C%20-122.288542%5D%2C%20%5B37.894692%2C%20-122.272265%5D%2C%20%5B37.850367%2C%20-122.272807%5D%2C%20%5B37.861664%2C%20-122.24876%5D%2C%20%5B37.855167%2C%20-122.258753%5D%2C%20%5B37.864925%2C%20-122.273436%5D%2C%20%5B37.857869%2C%20-122.248398%5D%2C%20%5B37.862491%2C%20-122.2646%5D%2C%20%5B37.871167%2C%20-122.268285%5D%2C%20%5B37.860766%2C%20-122.255895%5D%2C%20%5B37.879822%2C%20-122.273893%5D%2C%20%5B37.863272%2C%20-122.258656%5D%2C%20%5B37.883684%2C%20-122.267485%5D%2C%20%5B37.863611%2C%20-122.317566%5D%2C%20%5B37.865772%2C%20-122.267643%5D%2C%20%5B37.847733%2C%20-122.271969%5D%2C%20%5B37.859309%2C%20-122.259291%5D%2C%20%5B37.869186%2C%20-122.283943%5D%2C%20%5B37.859993%2C%20-122.269627%5D%2C%20%5B37.869332%2C%20-122.25019%5D%2C%20%5B37.863353%2C%20-122.265053%5D%2C%20%5B37.865501%2C%20-122.269774%5D%2C%20%5B37.865134%2C%20-122.258331%5D%2C%20%5B37.887961%2C%20-122.269822%5D%2C%20%5B37.880376%2C%20-122.268183%5D%2C%20%5B37.868447%2C%20-122.261268%5D%2C%20%5B37.867501%2C%20-122.291709%5D%2C%20%5B37.866472%2C%20-122.298403%5D%2C%20%5B37.873327%2C%20-122.273214%5D%2C%20%5B37.866135%2C%20-122.279116%5D%2C%20%5B37.89005%2C%20-122.271607%5D%2C%20%5B37.88014%2C%20-122.297498%5D%2C%20%5B37.864385%2C%20-122.290697%5D%2C%20%5B37.865797%2C%20-122.252741%5D%2C%20%5B37.846404%2C%20-122.275263%5D%2C%20%5B37.861689%2C%20-122.255732%5D%2C%20%5B37.849814%2C%20-122.281093%5D%2C%20%5B37.872545%2C%20-122.298043%5D%2C%20%5B37.863611%2C%20-122.317566%5D%2C%20%5B37.869363%2C%20-122.268028%5D%2C%20%5B37.864908%2C%20-122.267289%5D%2C%20%5B37.850175%2C%20-122.293099%5D%2C%20%5B37.863611%2C%20-122.317566%5D%2C%20%5B37.873687%2C%20-122.268616%5D%2C%20%5B37.898645%2C%20-122.280593%5D%2C%20%5B37.862512%2C%20-122.290094%5D%2C%20%5B37.85489%2C%20-122.252564%5D%2C%20%5B37.873393%2C%20-122.286956%5D%2C%20%5B37.852211%2C%20-122.286336%5D%2C%20%5B37.866206%2C%20-122.29129%5D%2C%20%5B37.880227%2C%20-122.26936%5D%2C%20%5B37.88014%2C%20-122.297498%5D%2C%20%5B37.870054%2C%20-122.284263%5D%2C%20%5B37.880756%2C%20-122.303056%5D%2C%20%5B37.848292%2C%20-122.271773%5D%2C%20%5B37.870054%2C%20-122.284263%5D%2C%20%5B37.858214%2C%20-122.269252%5D%2C%20%5B37.873921%2C%20-122.275577%5D%2C%20%5B37.866761%2C%20-122.258779%5D%2C%20%5B37.858156%2C%20-122.254397%5D%2C%20%5B37.875983%2C%20-122.30262%5D%2C%20%5B37.882033%2C%20-122.296381%5D%2C%20%5B37.865511%2C%20-122.309967%5D%2C%20%5B37.873687%2C%20-122.268616%5D%2C%20%5B37.8683%2C%20-122.262426%5D%2C%20%5B37.879226%2C%20-122.260975%5D%2C%20%5B37.877623%2C%20-122.30078%5D%2C%20%5B37.857377%2C%20-122.268709%5D%2C%20%5B37.872463%2C%20-122.273117%5D%2C%20%5B37.863679%2C%20-122.269631%5D%2C%20%5B37.851351%2C%20-122.279272%5D%2C%20%5B37.869385%2C%20-122.28953%5D%2C%20%5B37.85774%2C%20-122.293272%5D%2C%20%5B37.860265%2C%20-122.289213%5D%2C%20%5B37.857452%2C%20-122.259548%5D%2C%20%5B37.863945%2C%20-122.294086%5D%2C%20%5B37.867176%2C%20-122.267802%5D%2C%20%5B37.861078%2C%20-122.289632%5D%2C%20%5B37.865149%2C%20-122.256487%5D%2C%20%5B37.862927%2C%20-122.258784%5D%2C%20%5B37.867852%2C%20-122.258699%5D%2C%20%5B37.885312%2C%20-122.259577%5D%2C%20%5B37.848292%2C%20-122.271773%5D%2C%20%5B37.869688%2C%20-122.272805%5D%2C%20%5B37.873687%2C%20-122.268616%5D%2C%20%5B37.869105%2C%20-122.270064%5D%2C%20%5B37.868263%2C%20-122.296013%5D%2C%20%5B37.854536%2C%20-122.266403%5D%2C%20%5B37.865511%2C%20-122.309967%5D%2C%20%5B37.868667%2C%20-122.313656%5D%2C%20%5B37.868957%2C%20-122.254552%5D%2C%20%5B37.875426%2C%20-122.278057%5D%2C%20%5B37.86814%2C%20-122.263736%5D%2C%20%5B37.866568%2C%20-122.254084%5D%2C%20%5B37.868204%2C%20-122.270054%5D%2C%20%5B37.866842%2C%20-122.27366%5D%2C%20%5B37.865149%2C%20-122.256487%5D%2C%20%5B37.866761%2C%20-122.258779%5D%2C%20%5B37.878274%2C%20-122.297556%5D%2C%20%5B37.859851%2C%20-122.292764%5D%2C%20%5B37.857714%2C%20-122.288536%5D%2C%20%5B37.86331%2C%20-122.316113%5D%2C%20%5B37.869688%2C%20-122.272805%5D%2C%20%5B37.871689%2C%20-122.292898%5D%2C%20%5B37.872691%2C%20-122.270741%5D%2C%20%5B37.877863%2C%20-122.308855%5D%2C%20%5B37.871544%2C%20-122.272714%5D%2C%20%5B37.873687%2C%20-122.268616%5D%2C%20%5B37.865169%2C%20-122.272303%5D%2C%20%5B37.867209%2C%20-122.256554%5D%2C%20%5B37.865791%2C%20-122.26751%5D%2C%20%5B37.871246%2C%20-122.274991%5D%2C%20%5B37.866761%2C%20-122.258779%5D%2C%20%5B37.858214%2C%20-122.269252%5D%2C%20%5B37.862789%2C%20-122.317198%5D%2C%20%5B37.865202%2C%20-122.257795%5D%2C%20%5B37.867513%2C%20-122.26127%5D%2C%20%5B37.893104%2C%20-122.267605%5D%2C%20%5B37.858356%2C%20-122.253179%5D%2C%20%5B37.85489%2C%20-122.252564%5D%2C%20%5B37.868185%2C%20-122.251925%5D%2C%20%5B37.891332%2C%20-122.279975%5D%2C%20%5B37.865868%2C%20-122.251595%5D%2C%20%5B37.877678%2C%20-122.281631%5D%2C%20%5B37.867816%2C%20-122.258994%5D%2C%20%5B37.861387%2C%20-122.259001%5D%2C%20%5B37.872691%2C%20-122.270741%5D%2C%20%5B37.865141%2C%20-122.265441%5D%2C%20%5B37.872691%2C%20-122.270741%5D%2C%20%5B37.882457%2C%20-122.295464%5D%2C%20%5B37.872691%2C%20-122.270741%5D%2C%20%5B37.873976%2C%20-122.282257%5D%2C%20%5B37.86277%2C%20-122.297218%5D%2C%20%5B37.881957%2C%20-122.269551%5D%2C%20%5B37.873723%2C%20-122.299532%5D%2C%20%5B37.857452%2C%20-122.259548%5D%2C%20%5B37.870639%2C%20-122.272468%5D%2C%20%5B37.851503%2C%20-122.278518%5D%2C%20%5B37.8549%2C%20-122.27945%5D%2C%20%5B37.875508%2C%20-122.29899%5D%2C%20%5B37.853896%2C%20-122.252739%5D%2C%20%5B37.871828%2C%20-122.270516%5D%2C%20%5B37.866696%2C%20-122.274757%5D%2C%20%5B37.853723%2C%20-122.259975%5D%2C%20%5B37.884732%2C%20-122.280918%5D%2C%20%5B37.867271%2C%20-122.298682%5D%2C%20%5B37.854091%2C%20-122.256132%5D%2C%20%5B37.87091%2C%20-122.265993%5D%2C%20%5B37.867491%2C%20-122.254054%5D%2C%20%5B37.865511%2C%20-122.309967%5D%2C%20%5B37.869067%2C%20-122.292043%5D%2C%20%5B37.847281%2C%20-122.27545%5D%2C%20%5B37.883948%2C%20-122.296991%5D%2C%20%5B37.875076%2C%20-122.299959%5D%2C%20%5B37.863611%2C%20-122.317566%5D%2C%20%5B37.868058%2C%20-122.278332%5D%2C%20%5B37.869888%2C%20-122.300618%5D%2C%20%5B37.895601%2C%20-122.285524%5D%2C%20%5B37.858116%2C%20-122.268002%5D%2C%20%5B37.875505%2C%20-122.298797%5D%2C%20%5B37.869363%2C%20-122.268028%5D%2C%20%5B37.878274%2C%20-122.297556%5D%2C%20%5B37.867601%2C%20-122.267718%5D%2C%20%5B37.863611%2C%20-122.317566%5D%2C%20%5B37.871167%2C%20-122.268285%5D%2C%20%5B37.871828%2C%20-122.270516%5D%2C%20%5B37.863611%2C%20-122.317566%5D%2C%20%5B37.862321%2C%20-122.258872%5D%2C%20%5B37.866025%2C%20-122.258623%5D%2C%20%5B37.848774%2C%20-122.271171%5D%2C%20%5B37.862763%2C%20-122.262639%5D%2C%20%5B37.865034%2C%20-122.297939%5D%2C%20%5B37.869105%2C%20-122.270064%5D%2C%20%5B37.866568%2C%20-122.254084%5D%2C%20%5B37.863092%2C%20-122.274125%5D%2C%20%5B37.881225%2C%20-122.300827%5D%2C%20%5B37.850798%2C%20-122.294689%5D%2C%20%5B37.877863%2C%20-122.308855%5D%2C%20%5B37.858116%2C%20-122.268002%5D%2C%20%5B37.854612%2C%20-122.281178%5D%2C%20%5B37.863611%2C%20-122.317566%5D%2C%20%5B37.863369%2C%20-122.257622%5D%2C%20%5B37.881142%2C%20-122.30191%5D%2C%20%5B37.866919%2C%20-122.258812%5D%2C%20%5B37.864609%2C%20-122.290769%5D%2C%20%5B37.854247%2C%20-122.24375%5D%2C%20%5B37.882294%2C%20-122.284835%5D%2C%20%5B37.866426%2C%20-122.269762%5D%2C%20%5B37.856698%2C%20-122.290343%5D%2C%20%5B37.8719%2C%20-122.268389%5D%2C%20%5B37.882033%2C%20-122.296381%5D%2C%20%5B37.848152%2C%20-122.275807%5D%2C%20%5B37.871246%2C%20-122.274991%5D%2C%20%5B37.867176%2C%20-122.267802%5D%2C%20%5B37.866581%2C%20-122.270179%5D%2C%20%5B37.866206%2C%20-122.29129%5D%2C%20%5B37.870948%2C%20-122.27733%5D%2C%20%5B37.86695%2C%20-122.286984%5D%2C%20%5B37.88293%2C%20-122.260725%5D%2C%20%5B37.853741%2C%20-122.286339%5D%2C%20%5B37.862512%2C%20-122.290094%5D%2C%20%5B37.864173%2C%20-122.258616%5D%2C%20%5B37.850625%2C%20-122.230264%5D%2C%20%5B37.868489%2C%20-122.26795%5D%2C%20%5B37.871828%2C%20-122.270516%5D%2C%20%5B37.869488%2C%20-122.289522%5D%2C%20%5B37.867852%2C%20-122.258699%5D%2C%20%5B37.863241%2C%20-122.286176%5D%2C%20%5B37.85488%2C%20-122.269079%5D%2C%20%5B37.879226%2C%20-122.260975%5D%2C%20%5B37.880266%2C%20-122.269032%5D%2C%20%5B37.879968%2C%20-122.296885%5D%2C%20%5B37.867482%2C%20-122.254253%5D%2C%20%5B37.857694%2C%20-122.281628%5D%2C%20%5B37.867176%2C%20-122.267802%5D%2C%20%5B37.861758%2C%20-122.30024%5D%2C%20%5B37.852618%2C%20-122.283677%5D%2C%20%5B37.891332%2C%20-122.279975%5D%2C%20%5B37.868667%2C%20-122.313656%5D%2C%20%5B37.870583%2C%20-122.265956%5D%2C%20%5B37.880228%2C%20-122.295798%5D%2C%20%5B37.872166%2C%20-122.275372%5D%2C%20%5B37.877393%2C%20-122.301918%5D%2C%20%5B37.866761%2C%20-122.258779%5D%2C%20%5B37.891383%2C%20-122.257303%5D%2C%20%5B37.868204%2C%20-122.270054%5D%2C%20%5B37.866375%2C%20-122.27016%5D%2C%20%5B37.86626%2C%20-122.298335%5D%2C%20%5B37.869105%2C%20-122.270064%5D%2C%20%5B37.865772%2C%20-122.267643%5D%2C%20%5B37.869688%2C%20-122.272805%5D%2C%20%5B37.869058%2C%20-122.270455%5D%2C%20%5B37.879335%2C%20-122.301332%5D%2C%20%5B37.852724%2C%20-122.263991%5D%2C%20%5B37.883684%2C%20-122.267485%5D%2C%20%5B37.852683%2C%20-122.276556%5D%2C%20%5B37.896375%2C%20-122.262674%5D%2C%20%5B37.868722%2C%20-122.259123%5D%2C%20%5B37.884534%2C%20-122.254906%5D%2C%20%5B37.879016%2C%20-122.264445%5D%2C%20%5B37.866025%2C%20-122.258623%5D%2C%20%5B37.870287%2C%20-122.316238%5D%2C%20%5B37.870603%2C%20-122.270612%5D%2C%20%5B37.858483%2C%20-122.253191%5D%2C%20%5B37.860189%2C%20-122.294048%5D%2C%20%5B37.882033%2C%20-122.296381%5D%2C%20%5B37.879571%2C%20-122.300296%5D%2C%20%5B37.869041%2C%20-122.292204%5D%2C%20%5B37.851921%2C%20-122.269813%5D%2C%20%5B37.869058%2C%20-122.270455%5D%2C%20%5B37.862459%2C%20-122.272001%5D%2C%20%5B37.884534%2C%20-122.257623%5D%2C%20%5B37.881776%2C%20-122.260421%5D%2C%20%5B37.875166%2C%20-122.280125%5D%2C%20%5B37.857377%2C%20-122.268709%5D%2C%20%5B37.896558%2C%20-122.285222%5D%2C%20%5B37.881435%2C%20-122.289994%5D%2C%20%5B37.862927%2C%20-122.258784%5D%2C%20%5B37.867613%2C%20-122.299898%5D%2C%20%5B37.848812%2C%20-122.278043%5D%2C%20%5B37.868103%2C%20-122.25672%5D%2C%20%5B37.866472%2C%20-122.298403%5D%2C%20%5B37.869084%2C%20-122.299245%5D%2C%20%5B37.858116%2C%20-122.268002%5D%2C%20%5B37.869332%2C%20-122.25019%5D%2C%20%5B37.871167%2C%20-122.268285%5D%2C%20%5B37.852292%2C%20-122.249969%5D%2C%20%5B37.8719%2C%20-122.268389%5D%2C%20%5B37.863611%2C%20-122.317566%5D%2C%20%5B37.892642%2C%20-122.283135%5D%2C%20%5B37.868204%2C%20-122.270054%5D%2C%20%5B37.880227%2C%20-122.26936%5D%2C%20%5B37.883798%2C%20-122.268567%5D%2C%20%5B37.866761%2C%20-122.258779%5D%2C%20%5B37.863611%2C%20-122.317566%5D%2C%20%5B37.866528%2C%20-122.290227%5D%2C%20%5B37.862927%2C%20-122.258784%5D%2C%20%5B37.887843%2C%20-122.270011%5D%2C%20%5B37.87783%2C%20-122.298557%5D%2C%20%5B37.854427%2C%20-122.270006%5D%2C%20%5B37.872404%2C%20-122.297999%5D%2C%20%5B37.863353%2C%20-122.265053%5D%2C%20%5B37.856078%2C%20-122.279311%5D%2C%20%5B37.854442%2C%20-122.277107%5D%2C%20%5B37.872599%2C%20-122.303889%5D%2C%20%5B37.872691%2C%20-122.270741%5D%2C%20%5B37.872104%2C%20-122.289812%5D%2C%20%5B37.868722%2C%20-122.259123%5D%2C%20%5B37.876307%2C%20-122.268923%5D%2C%20%5B37.857495%2C%20-122.275256%5D%2C%20%5B37.865629%2C%20-122.254515%5D%2C%20%5B37.870396%2C%20-122.281585%5D%2C%20%5B37.853665%2C%20-122.252715%5D%2C%20%5B37.868714%2C%20-122.259189%5D%2C%20%5B37.862808%2C%20-122.27633%5D%2C%20%5B37.871246%2C%20-122.274991%5D%2C%20%5B37.874319%2C%20-122.298604%5D%2C%20%5B37.870308%2C%20-122.26805%5D%2C%20%5B37.867482%2C%20-122.254253%5D%2C%20%5B37.871167%2C%20-122.268285%5D%2C%20%5B37.894629%2C%20-122.284061%5D%2C%20%5B37.873607%2C%20-122.270903%5D%2C%20%5B37.871265%2C%20-122.295043%5D%2C%20%5B37.869363%2C%20-122.268028%5D%2C%20%5B37.867852%2C%20-122.258699%5D%2C%20%5B37.853638%2C%20-122.289588%5D%2C%20%5B37.872989%2C%20-122.268532%5D%2C%20%5B37.869067%2C%20-122.292043%5D%2C%20%5B37.868957%2C%20-122.254552%5D%2C%20%5B37.866924%2C%20-122.283899%5D%2C%20%5B37.87325%2C%20-122.293558%5D%2C%20%5B37.890274%2C%20-122.260794%5D%2C%20%5B37.878772%2C%20-122.294276%5D%2C%20%5B37.867708%2C%20-122.250801%5D%2C%20%5B37.880228%2C%20-122.295798%5D%2C%20%5B37.880468%2C%20-122.295876%5D%2C%20%5B37.868706%2C%20-122.266279%5D%2C%20%5B37.865374%2C%20-122.256511%5D%2C%20%5B37.871461%2C%20-122.270706%5D%2C%20%5B37.871171%2C%20-122.267718%5D%2C%20%5B37.89977%2C%20-122.275237%5D%2C%20%5B37.871828%2C%20-122.270516%5D%2C%20%5B37.867176%2C%20-122.267802%5D%2C%20%5B37.852236%2C%20-122.272856%5D%2C%20%5B37.861573%2C%20-122.257452%5D%2C%20%5B37.882461%2C%20-122.265026%5D%2C%20%5B37.872691%2C%20-122.270741%5D%2C%20%5B37.867513%2C%20-122.26127%5D%2C%20%5B37.852422%2C%20-122.278571%5D%2C%20%5B37.869363%2C%20-122.268028%5D%2C%20%5B37.867972%2C%20-122.263699%5D%2C%20%5B37.872599%2C%20-122.303889%5D%2C%20%5B37.873687%2C%20-122.268616%5D%2C%20%5B37.890651%2C%20-122.258331%5D%2C%20%5B37.879348%2C%20-122.258599%5D%2C%20%5B37.88192%2C%20-122.270485%5D%2C%20%5B37.860343%2C%20-122.266966%5D%2C%20%5B37.863963%2C%20-122.260546%5D%2C%20%5B37.864701%2C%20-122.260693%5D%2C%20%5B37.878737%2C%20-122.287386%5D%2C%20%5B37.902646%2C%20-122.269596%5D%2C%20%5B37.859259%2C%20-122.275787%5D%2C%20%5B37.869888%2C%20-122.300618%5D%2C%20%5B37.866981%2C%20-122.302083%5D%2C%20%5B37.864173%2C%20-122.258616%5D%2C%20%5B37.869535%2C%20-122.296988%5D%2C%20%5B37.871246%2C%20-122.274991%5D%2C%20%5B37.868667%2C%20-122.313656%5D%2C%20%5B37.863353%2C%20-122.265053%5D%2C%20%5B37.855042%2C%20-122.284746%5D%2C%20%5B37.867117%2C%20-122.283641%5D%2C%20%5B37.868532%2C%20-122.274764%5D%2C%20%5B37.873678%2C%20-122.269765%5D%2C%20%5B37.874203%2C%20-122.273308%5D%2C%20%5B37.870592%2C%20-122.286613%5D%2C%20%5B37.862781%2C%20-122.269376%5D%2C%20%5B37.878056%2C%20-122.258553%5D%2C%20%5B37.864908%2C%20-122.267289%5D%2C%20%5B37.847889%2C%20-122.277816%5D%2C%20%5B37.890928%2C%20-122.287251%5D%2C%20%5B37.888679%2C%20-122.280432%5D%2C%20%5B37.891214%2C%20-122.282158%5D%2C%20%5B37.849376%2C%20-122.294952%5D%2C%20%5B37.867852%2C%20-122.258699%5D%2C%20%5B37.863611%2C%20-122.317566%5D%2C%20%5B37.878031%2C%20-122.288763%5D%2C%20%5B37.864701%2C%20-122.260693%5D%2C%20%5B37.871369%2C%20-122.292954%5D%2C%20%5B37.864385%2C%20-122.290697%5D%2C%20%5B37.863611%2C%20-122.317566%5D%2C%20%5B37.871828%2C%20-122.270516%5D%2C%20%5B37.880227%2C%20-122.26936%5D%2C%20%5B37.881788%2C%20-122.270678%5D%2C%20%5B37.882561%2C%20-122.28212%5D%2C%20%5B37.871369%2C%20-122.292954%5D%2C%20%5B37.863611%2C%20-122.317566%5D%2C%20%5B37.855435%2C%20-122.259841%5D%2C%20%5B37.875053%2C%20-122.26548%5D%2C%20%5B37.892795%2C%20-122.286521%5D%2C%20%5B37.869332%2C%20-122.25019%5D%2C%20%5B37.868194%2C%20-122.276063%5D%2C%20%5B37.873025%2C%20-122.275438%5D%2C%20%5B37.898168%2C%20-122.262253%5D%2C%20%5B37.881957%2C%20-122.269551%5D%2C%20%5B37.871167%2C%20-122.268285%5D%2C%20%5B37.846404%2C%20-122.275263%5D%2C%20%5B37.871544%2C%20-122.272714%5D%2C%20%5B37.853316%2C%20-122.278738%5D%2C%20%5B37.890274%2C%20-122.260794%5D%2C%20%5B37.862608%2C%20-122.253598%5D%2C%20%5B37.855998%2C%20-122.271278%5D%2C%20%5B37.865791%2C%20-122.26751%5D%2C%20%5B37.853382%2C%20-122.249087%5D%2C%20%5B37.868204%2C%20-122.270054%5D%2C%20%5B37.865772%2C%20-122.267643%5D%2C%20%5B37.882033%2C%20-122.296381%5D%2C%20%5B37.878378%2C%20-122.297029%5D%2C%20%5B37.868263%2C%20-122.296013%5D%2C%20%5B37.892824%2C%20-122.272717%5D%2C%20%5B37.868957%2C%20-122.254552%5D%2C%20%5B37.872542%2C%20-122.271978%5D%2C%20%5B37.876965%2C%20-122.260544%5D%2C%20%5B37.871828%2C%20-122.270516%5D%2C%20%5B37.867513%2C%20-122.26127%5D%2C%20%5B37.867501%2C%20-122.291709%5D%2C%20%5B37.882943%2C%20-122.279383%5D%2C%20%5B37.850444%2C%20-122.288866%5D%2C%20%5B37.876307%2C%20-122.268923%5D%2C%20%5B37.857776%2C%20-122.286576%5D%2C%20%5B37.87965%2C%20-122.273873%5D%2C%20%5B37.87448%2C%20-122.297461%5D%2C%20%5B37.876339%2C%20-122.285012%5D%2C%20%5B37.873865%2C%20-122.268641%5D%2C%20%5B37.881694%2C%20-122.299791%5D%2C%20%5B37.853864%2C%20-122.285643%5D%2C%20%5B37.854116%2C%20-122.284114%5D%2C%20%5B37.868722%2C%20-122.259123%5D%2C%20%5B37.871544%2C%20-122.272714%5D%2C%20%5B37.868714%2C%20-122.259189%5D%2C%20%5B37.890274%2C%20-122.260794%5D%2C%20%5B37.851017%2C%20-122.291088%5D%2C%20%5B37.867513%2C%20-122.26127%5D%2C%20%5B37.863611%2C%20-122.317566%5D%2C%20%5B37.874537%2C%20-122.263862%5D%2C%20%5B37.854286%2C%20-122.271015%5D%2C%20%5B37.876045%2C%20-122.260336%5D%2C%20%5B37.862877%2C%20-122.290055%5D%2C%20%5B37.88052%2C%20-122.294842%5D%2C%20%5B37.861645%2C%20-122.253508%5D%2C%20%5B37.864238%2C%20-122.265263%5D%2C%20%5B37.865511%2C%20-122.309967%5D%2C%20%5B37.885381%2C%20-122.272269%5D%2C%20%5B37.879708%2C%20-122.297995%5D%2C%20%5B37.851017%2C%20-122.291088%5D%2C%20%5B37.867601%2C%20-122.267718%5D%2C%20%5B37.854215%2C%20-122.269167%5D%2C%20%5B37.869522%2C%20-122.27965%5D%2C%20%5B37.852871%2C%20-122.26799%5D%2C%20%5B37.876307%2C%20-122.268923%5D%2C%20%5B37.871883%2C%20-122.301255%5D%2C%20%5B37.864109%2C%20-122.292948%5D%2C%20%5B37.855435%2C%20-122.259841%5D%2C%20%5B37.851339%2C%20-122.286349%5D%2C%20%5B37.860687%2C%20-122.26454%5D%2C%20%5B37.867852%2C%20-122.258699%5D%2C%20%5B37.863053%2C%20-122.267321%5D%2C%20%5B37.850444%2C%20-122.288866%5D%2C%20%5B37.876018%2C%20-122.273517%5D%2C%20%5B37.860017%2C%20-122.26943%5D%2C%20%5B37.862877%2C%20-122.290055%5D%2C%20%5B37.878239%2C%20-122.288374%5D%2C%20%5B37.881694%2C%20-122.299791%5D%2C%20%5B37.855026%2C%20-122.266475%5D%2C%20%5B37.858214%2C%20-122.269252%5D%2C%20%5B37.894721%2C%20-122.286417%5D%2C%20%5B37.868815%2C%20-122.292131%5D%2C%20%5B37.857377%2C%20-122.268709%5D%2C%20%5B37.85491%2C%20-122.268666%5D%2C%20%5B37.858116%2C%20-122.268002%5D%2C%20%5B37.869888%2C%20-122.300618%5D%2C%20%5B37.868785%2C%20-122.272701%5D%2C%20%5B37.875556%2C%20-122.291439%5D%2C%20%5B37.866025%2C%20-122.258623%5D%2C%20%5B37.850367%2C%20-122.272807%5D%2C%20%5B37.865443%2C%20-122.263189%5D%2C%20%5B37.870948%2C%20-122.27733%5D%2C%20%5B37.86939%2C%20-122.267883%5D%2C%20%5B37.877636%2C%20-122.264323%5D%2C%20%5B37.865121%2C%20-122.258455%5D%2C%20%5B37.865984%2C%20-122.293289%5D%2C%20%5B37.878024%2C%20-122.30798%5D%2C%20%5B37.854091%2C%20-122.256132%5D%2C%20%5B37.863679%2C%20-122.269631%5D%2C%20%5B37.861689%2C%20-122.255732%5D%2C%20%5B37.863611%2C%20-122.317566%5D%2C%20%5B37.868785%2C%20-122.272701%5D%2C%20%5B37.865034%2C%20-122.297939%5D%2C%20%5B37.869363%2C%20-122.268028%5D%2C%20%5B37.869522%2C%20-122.27965%5D%2C%20%5B37.866253%2C%20-122.299483%5D%2C%20%5B37.873017%2C%20-122.275481%5D%2C%20%5B37.861944%2C%20-122.294607%5D%2C%20%5B37.858356%2C%20-122.253179%5D%2C%20%5B37.879467%2C%20-122.261062%5D%2C%20%5B37.876018%2C%20-122.273517%5D%2C%20%5B37.877983%2C%20-122.272558%5D%2C%20%5B37.868714%2C%20-122.259189%5D%2C%20%5B37.868447%2C%20-122.261268%5D%2C%20%5B37.861627%2C%20-122.285466%5D%2C%20%5B37.863611%2C%20-122.317566%5D%2C%20%5B37.866761%2C%20-122.258779%5D%2C%20%5B37.862462%2C%20-122.292149%5D%2C%20%5B37.879921%2C%20-122.271646%5D%2C%20%5B37.873809%2C%20-122.255353%5D%2C%20%5B37.872084%2C%20-122.300218%5D%2C%20%5B37.869058%2C%20-122.270455%5D%2C%20%5B37.876921%2C%20-122.265567%5D%2C%20%5B37.877822%2C%20-122.273697%5D%2C%20%5B37.860366%2C%20-122.266802%5D%2C%20%5B37.891383%2C%20-122.257303%5D%2C%20%5B37.858525%2C%20-122.266906%5D%2C%20%5B37.856132%2C%20-122.271292%5D%2C%20%5B37.858356%2C%20-122.253179%5D%2C%20%5B37.873455%2C%20-122.293465%5D%2C%20%5B37.850675%2C%20-122.286265%5D%2C%20%5B37.891332%2C%20-122.279975%5D%2C%20%5B37.876881%2C%20-122.266666%5D%2C%20%5B37.880027%2C%20-122.279976%5D%2C%20%5B37.873865%2C%20-122.300777%5D%2C%20%5B37.882957%2C%20-122.289458%5D%2C%20%5B37.873454%2C%20-122.27209%5D%2C%20%5B37.878113%2C%20-122.269114%5D%2C%20%5B37.88014%2C%20-122.297498%5D%2C%20%5B37.870627%2C%20-122.279765%5D%2C%20%5B37.858673%2C%20-122.273365%5D%2C%20%5B37.887213%2C%20-122.278387%5D%2C%20%5B37.851516%2C%20-122.291239%5D%2C%20%5B37.8719%2C%20-122.268389%5D%2C%20%5B37.876921%2C%20-122.265567%5D%2C%20%5B37.891332%2C%20-122.279975%5D%2C%20%5B37.8559%2C%20-122.283101%5D%2C%20%5B37.870592%2C%20-122.286613%5D%2C%20%5B37.869067%2C%20-122.292043%5D%2C%20%5B37.859988%2C%20-122.253339%5D%2C%20%5B37.880027%2C%20-122.279976%5D%2C%20%5B37.878864%2C%20-122.265718%5D%2C%20%5B37.86771%2C%20-122.298466%5D%2C%20%5B37.876881%2C%20-122.266666%5D%2C%20%5B37.878405%2C%20-122.306072%5D%2C%20%5B37.866622%2C%20-122.26108%5D%2C%20%5B37.865149%2C%20-122.256487%5D%2C%20%5B37.864827%2C%20-122.258577%5D%2C%20%5B37.868706%2C%20-122.266279%5D%2C%20%5B37.855435%2C%20-122.259841%5D%2C%20%5B37.879363%2C%20-122.301341%5D%2C%20%5B37.869791%2C%20-122.279085%5D%2C%20%5B37.859988%2C%20-122.253339%5D%2C%20%5B37.864836%2C%20-122.299024%5D%2C%20%5B37.872691%2C%20-122.270741%5D%2C%20%5B37.865466%2C%20-122.27005%5D%2C%20%5B37.868706%2C%20-122.266279%5D%2C%20%5B37.879188%2C%20-122.276107%5D%2C%20%5B37.867332%2C%20-122.269908%5D%2C%20%5B37.861604%2C%20-122.264366%5D%2C%20%5B37.872965%2C%20-122.305264%5D%2C%20%5B37.875708%2C%20-122.2897%5D%2C%20%5B37.878407%2C%20-122.26914%5D%2C%20%5B37.883153%2C%20-122.292104%5D%2C%20%5B37.876333%2C%20-122.278118%5D%2C%20%5B37.873454%2C%20-122.27209%5D%2C%20%5B37.863659%2C%20-122.290307%5D%2C%20%5B37.881957%2C%20-122.269551%5D%2C%20%5B37.869363%2C%20-122.268028%5D%2C%20%5B37.881957%2C%20-122.269551%5D%2C%20%5B37.858903%2C%20-122.243972%5D%2C%20%5B37.860116%2C%20-122.29166%5D%2C%20%5B37.853221%2C%20-122.280832%5D%2C%20%5B37.884163%2C%20-122.265236%5D%2C%20%5B37.867513%2C%20-122.26127%5D%2C%20%5B37.870652%2C%20-122.27958%5D%2C%20%5B37.874537%2C%20-122.263862%5D%2C%20%5B37.880468%2C%20-122.295876%5D%2C%20%5B37.865202%2C%20-122.257795%5D%2C%20%5B37.868204%2C%20-122.270054%5D%2C%20%5B37.869363%2C%20-122.268028%5D%2C%20%5B37.880756%2C%20-122.303056%5D%2C%20%5B37.869058%2C%20-122.270455%5D%2C%20%5B37.869385%2C%20-122.28953%5D%2C%20%5B37.858356%2C%20-122.253179%5D%2C%20%5B37.8719%2C%20-122.268389%5D%2C%20%5B37.869545%2C%20-122.252577%5D%2C%20%5B37.868714%2C%20-122.259189%5D%2C%20%5B37.864908%2C%20-122.267289%5D%2C%20%5B37.87247%2C%20-122.273021%5D%2C%20%5B37.874872%2C%20-122.282359%5D%2C%20%5B37.874581%2C%20-122.277744%5D%2C%20%5B37.881187%2C%20-122.291481%5D%2C%20%5B37.865868%2C%20-122.251595%5D%2C%20%5B37.86542%2C%20-122.25618%5D%2C%20%5B37.873687%2C%20-122.268616%5D%2C%20%5B37.862169%2C%20-122.267084%5D%2C%20%5B37.861553%2C%20-122.296599%5D%2C%20%5B37.866969%2C%20-122.26553%5D%2C%20%5B37.87091%2C%20-122.265993%5D%2C%20%5B37.85931%2C%20-122.273495%5D%2C%20%5B37.867852%2C%20-122.258699%5D%2C%20%5B37.872599%2C%20-122.303889%5D%2C%20%5B37.864826%2C%20-122.260719%5D%2C%20%5B37.868447%2C%20-122.261268%5D%2C%20%5B37.894483%2C%20-122.276085%5D%2C%20%5B37.880458%2C%20-122.261293%5D%2C%20%5B37.88222%2C%20-122.247955%5D%2C%20%5B37.866622%2C%20-122.26108%5D%2C%20%5B37.870396%2C%20-122.281585%5D%2C%20%5B37.856111%2C%20-122.260248%5D%2C%20%5B37.869058%2C%20-122.270455%5D%2C%20%5B37.878407%2C%20-122.267962%5D%2C%20%5B37.872691%2C%20-122.270741%5D%2C%20%5B37.885541%2C%20-122.274771%5D%2C%20%5B37.871317%2C%20-122.286575%5D%2C%20%5B37.85583%2C%20-122.27339%5D%2C%20%5B37.866253%2C%20-122.299483%5D%2C%20%5B37.879226%2C%20-122.260975%5D%2C%20%5B37.849432%2C%20-122.282781%5D%2C%20%5B37.865121%2C%20-122.258455%5D%2C%20%5B37.867332%2C%20-122.269908%5D%2C%20%5B37.865793%2C%20-122.293498%5D%2C%20%5B37.855523%2C%20-122.266529%5D%2C%20%5B37.876549%2C%20-122.290899%5D%2C%20%5B37.859802%2C%20-122.267177%5D%2C%20%5B37.86476%2C%20-122.297852%5D%2C%20%5B37.873687%2C%20-122.268616%5D%2C%20%5B37.860687%2C%20-122.26454%5D%2C%20%5B37.883791%2C%20-122.249709%5D%2C%20%5B37.882279%2C%20-122.296321%5D%2C%20%5B37.877863%2C%20-122.308855%5D%2C%20%5B37.864238%2C%20-122.265263%5D%2C%20%5B37.887961%2C%20-122.269822%5D%2C%20%5B37.851038%2C%20-122.252448%5D%2C%20%5B37.86487%2C%20-122.267543%5D%2C%20%5B37.867852%2C%20-122.258699%5D%2C%20%5B37.861078%2C%20-122.289632%5D%2C%20%5B37.898431%2C%20-122.285636%5D%2C%20%5B37.867708%2C%20-122.250801%5D%2C%20%5B37.876729%2C%20-122.267804%5D%2C%20%5B37.869058%2C%20-122.270455%5D%2C%20%5B37.891316%2C%20-122.280311%5D%2C%20%5B37.853665%2C%20-122.252715%5D%2C%20%5B37.857377%2C%20-122.268709%5D%2C%20%5B37.891332%2C%20-122.279975%5D%2C%20%5B37.867176%2C%20-122.267802%5D%2C%20%5B37.882217%2C%20-122.302226%5D%2C%20%5B37.866037%2C%20-122.265618%5D%2C%20%5B37.849732%2C%20-122.276144%5D%2C%20%5B37.875189%2C%20-122.294176%5D%2C%20%5B37.871246%2C%20-122.274991%5D%2C%20%5B37.88293%2C%20-122.260725%5D%2C%20%5B37.873687%2C%20-122.268616%5D%2C%20%5B37.868285%2C%20-122.27835%5D%2C%20%5B37.864238%2C%20-122.265263%5D%2C%20%5B37.849376%2C%20-122.294952%5D%2C%20%5B37.891332%2C%20-122.279975%5D%2C%20%5B37.879499%2C%20-122.274988%5D%2C%20%5B37.860334%2C%20-122.280567%5D%2C%20%5B37.855523%2C%20-122.266529%5D%2C%20%5B37.858116%2C%20-122.268002%5D%2C%20%5B37.871175%2C%20-122.304755%5D%2C%20%5B37.871167%2C%20-122.268285%5D%2C%20%5B37.868334%2C%20-122.303753%5D%2C%20%5B37.871167%2C%20-122.268285%5D%2C%20%5B37.900934%2C%20-122.267684%5D%2C%20%5B37.873687%2C%20-122.268616%5D%2C%20%5B37.857452%2C%20-122.259548%5D%2C%20%5B37.871828%2C%20-122.270516%5D%2C%20%5B37.871883%2C%20-122.301255%5D%2C%20%5B37.851203%2C%20-122.289129%5D%2C%20%5B37.859988%2C%20-122.253339%5D%2C%20%5B37.882217%2C%20-122.302226%5D%2C%20%5B37.865466%2C%20-122.27005%5D%2C%20%5B37.873607%2C%20-122.270903%5D%2C%20%5B37.858993%2C%20-122.244574%5D%2C%20%5B37.868641%2C%20-122.29415%5D%2C%20%5B37.876595%2C%20-122.267789%5D%2C%20%5B37.86771%2C%20-122.298466%5D%2C%20%5B37.873687%2C%20-122.268616%5D%2C%20%5B37.850809%2C%20-122.291042%5D%2C%20%5B37.873454%2C%20-122.27209%5D%2C%20%5B37.864109%2C%20-122.292948%5D%2C%20%5B37.857787%2C%20-122.257013%5D%2C%20%5B37.868103%2C%20-122.25672%5D%2C%20%5B37.871167%2C%20-122.268285%5D%2C%20%5B37.892004%2C%20-122.256774%5D%2C%20%5B37.891095%2C%20-122.284247%5D%2C%20%5B37.865511%2C%20-122.309967%5D%2C%20%5B37.861843%2C%20-122.269644%5D%2C%20%5B37.863353%2C%20-122.272097%5D%2C%20%5B37.880667%2C%20-122.29489%5D%2C%20%5B37.867212%2C%20-122.281739%5D%2C%20%5B37.867852%2C%20-122.258699%5D%2C%20%5B37.871883%2C%20-122.301255%5D%2C%20%5B37.863611%2C%20-122.317566%5D%2C%20%5B37.874581%2C%20-122.277744%5D%2C%20%5B37.86939%2C%20-122.267883%5D%2C%20%5B37.849609%2C%20-122.282%5D%2C%20%5B37.870054%2C%20-122.284263%5D%2C%20%5B37.880245%2C%20-122.296973%5D%2C%20%5B37.863945%2C%20-122.294086%5D%2C%20%5B37.87146%2C%20-122.266052%5D%2C%20%5B37.872992%2C%20-122.295801%5D%2C%20%5B37.871828%2C%20-122.270516%5D%2C%20%5B37.868667%2C%20-122.313656%5D%2C%20%5B37.871246%2C%20-122.274991%5D%2C%20%5B37.868263%2C%20-122.296013%5D%2C%20%5B37.867852%2C%20-122.258699%5D%2C%20%5B37.88014%2C%20-122.297498%5D%2C%20%5B37.852871%2C%20-122.26799%5D%2C%20%5B37.867852%2C%20-122.258699%5D%2C%20%5B37.880734%2C%20-122.265359%5D%2C%20%5B37.869688%2C%20-122.272805%5D%2C%20%5B37.850675%2C%20-122.286265%5D%2C%20%5B37.869557%2C%20-122.252494%5D%2C%20%5B37.872563%2C%20-122.284648%5D%2C%20%5B37.866936%2C%20-122.296218%5D%2C%20%5B37.866025%2C%20-122.258623%5D%2C%20%5B37.872691%2C%20-122.270741%5D%2C%20%5B37.862763%2C%20-122.262639%5D%2C%20%5B37.853638%2C%20-122.289588%5D%2C%20%5B37.870054%2C%20-122.284263%5D%2C%20%5B37.863811%2C%20-122.267412%5D%2C%20%5B37.868957%2C%20-122.254552%5D%2C%20%5B37.853552%2C%20-122.291561%5D%2C%20%5B37.868706%2C%20-122.266279%5D%2C%20%5B37.866761%2C%20-122.258779%5D%2C%20%5B37.891095%2C%20-122.284247%5D%2C%20%5B37.865134%2C%20-122.258331%5D%2C%20%5B37.869363%2C%20-122.268028%5D%2C%20%5B37.870205%2C%20-122.292581%5D%2C%20%5B37.89977%2C%20-122.275237%5D%2C%20%5B37.859184%2C%20-122.289022%5D%2C%20%5B37.869058%2C%20-122.270455%5D%2C%20%5B37.896429%2C%20-122.285145%5D%2C%20%5B37.868706%2C%20-122.266279%5D%2C%20%5B37.867491%2C%20-122.254054%5D%2C%20%5B37.882457%2C%20-122.295464%5D%2C%20%5B37.879677%2C%20-122.299779%5D%2C%20%5B37.902033%2C%20-122.265247%5D%2C%20%5B37.852304%2C%20-122.270045%5D%2C%20%5B37.86331%2C%20-122.316113%5D%2C%20%5B37.871167%2C%20-122.268285%5D%2C%20%5B37.873017%2C%20-122.275481%5D%2C%20%5B37.877623%2C%20-122.30078%5D%2C%20%5B37.873687%2C%20-122.268616%5D%2C%20%5B37.875189%2C%20-122.294176%5D%2C%20%5B37.873687%2C%20-122.268616%5D%2C%20%5B37.873941%2C%20-122.289764%5D%2C%20%5B37.859446%2C%20-122.266969%5D%2C%20%5B37.876307%2C%20-122.268923%5D%2C%20%5B37.864826%2C%20-122.260719%5D%2C%20%5B37.88014%2C%20-122.297498%5D%2C%20%5B37.88293%2C%20-122.260725%5D%2C%20%5B37.86814%2C%20-122.263736%5D%2C%20%5B37.864827%2C%20-122.258577%5D%2C%20%5B37.873202%2C%20-122.267443%5D%2C%20%5B37.872691%2C%20-122.270741%5D%2C%20%5B37.866622%2C%20-122.26108%5D%2C%20%5B37.86771%2C%20-122.298466%5D%2C%20%5B37.868913%2C%20-122.28608%5D%2C%20%5B37.880228%2C%20-122.295798%5D%2C%20%5B37.865443%2C%20-122.263189%5D%2C%20%5B37.869363%2C%20-122.268028%5D%2C%20%5B37.871883%2C%20-122.301255%5D%2C%20%5B37.869888%2C%20-122.300618%5D%2C%20%5B37.867513%2C%20-122.26127%5D%2C%20%5B37.879708%2C%20-122.297995%5D%2C%20%5B37.891214%2C%20-122.282158%5D%2C%20%5B37.871246%2C%20-122.274991%5D%2C%20%5B37.864535%2C%20-122.262993%5D%2C%20%5B37.866426%2C%20-122.269762%5D%2C%20%5B37.862169%2C%20-122.267084%5D%2C%20%5B37.868667%2C%20-122.313656%5D%2C%20%5B37.878722%2C%20-122.295312%5D%2C%20%5B37.869385%2C%20-122.28953%5D%2C%20%5B37.88014%2C%20-122.297498%5D%2C%20%5B37.870074%2C%20-122.248404%5D%2C%20%5B37.865511%2C%20-122.309967%5D%2C%20%5B37.863092%2C%20-122.274125%5D%2C%20%5B37.861843%2C%20-122.269644%5D%2C%20%5B37.891332%2C%20-122.279975%5D%2C%20%5B37.871486%2C%20-122.300027%5D%2C%20%5B37.868878%2C%20-122.300284%5D%2C%20%5B37.873687%2C%20-122.268616%5D%2C%20%5B37.866936%2C%20-122.296218%5D%2C%20%5B37.866426%2C%20-122.269762%5D%2C%20%5B37.859539%2C%20-122.259172%5D%2C%20%5B37.882217%2C%20-122.302226%5D%2C%20%5B37.862024%2C%20-122.251212%5D%2C%20%5B37.867852%2C%20-122.258699%5D%2C%20%5B37.893696%2C%20-122.281105%5D%2C%20%5B37.872691%2C%20-122.270741%5D%2C%20%5B37.861645%2C%20-122.253508%5D%2C%20%5B37.866405%2C%20-122.272443%5D%2C%20%5B37.866622%2C%20-122.26108%5D%2C%20%5B37.865511%2C%20-122.309967%5D%2C%20%5B37.858356%2C%20-122.253179%5D%2C%20%5B37.862817%2C%20-122.298359%5D%2C%20%5B37.867601%2C%20-122.267718%5D%2C%20%5B37.863611%2C%20-122.317566%5D%2C%20%5B37.869625%2C%20-122.265892%5D%2C%20%5B37.861078%2C%20-122.289632%5D%2C%20%5B37.899278%2C%20-122.283222%5D%2C%20%5B37.858165%2C%20-122.255687%5D%2C%20%5B37.865439%2C%20-122.295736%5D%2C%20%5B37.864826%2C%20-122.260719%5D%2C%20%5B37.871246%2C%20-122.274991%5D%2C%20%5B37.863292%2C%20-122.256293%5D%2C%20%5B37.865511%2C%20-122.309967%5D%2C%20%5B37.877528%2C%20-122.275956%5D%2C%20%5B37.861107%2C%20-122.289485%5D%2C%20%5B37.851038%2C%20-122.252448%5D%2C%20%5B37.882016%2C%20-122.281271%5D%2C%20%5B37.868532%2C%20-122.274764%5D%2C%20%5B37.85948%2C%20-122.266689%5D%2C%20%5B37.853275%2C%20-122.279078%5D%2C%20%5B37.89008%2C%20-122.260506%5D%2C%20%5B37.853386%2C%20-122.263973%5D%2C%20%5B37.863963%2C%20-122.260546%5D%2C%20%5B37.866558%2C%20-122.290015%5D%2C%20%5B37.896956%2C%20-122.261613%5D%2C%20%5B37.868714%2C%20-122.259189%5D%2C%20%5B37.878284%2C%20-122.300994%5D%2C%20%5B37.863977%2C%20-122.267307%5D%2C%20%5B37.868714%2C%20-122.259189%5D%2C%20%5B37.876151%2C%20-122.295649%5D%2C%20%5B37.860687%2C%20-122.26454%5D%2C%20%5B37.865443%2C%20-122.263189%5D%2C%20%5B37.884644%2C%20-122.280096%5D%2C%20%5B37.862512%2C%20-122.290094%5D%2C%20%5B37.869363%2C%20-122.268028%5D%2C%20%5B37.869186%2C%20-122.283943%5D%2C%20%5B37.863811%2C%20-122.267412%5D%2C%20%5B37.869058%2C%20-122.270455%5D%2C%20%5B37.869186%2C%20-122.283943%5D%2C%20%5B37.883626%2C%20-122.248603%5D%2C%20%5B37.86727%2C%20-122.291472%5D%2C%20%5B37.878274%2C%20-122.297556%5D%2C%20%5B37.871167%2C%20-122.268285%5D%2C%20%5B37.858116%2C%20-122.268002%5D%2C%20%5B37.881142%2C%20-122.30191%5D%2C%20%5B37.853638%2C%20-122.289588%5D%2C%20%5B37.867383%2C%20-122.293938%5D%2C%20%5B37.894629%2C%20-122.284061%5D%2C%20%5B37.862928%2C%20-122.302303%5D%2C%20%5B37.855356%2C%20-122.26602%5D%2C%20%5B37.853864%2C%20-122.285643%5D%2C%20%5B37.867852%2C%20-122.258699%5D%2C%20%5B37.877678%2C%20-122.281631%5D%2C%20%5B37.86211%2C%20-122.253551%5D%2C%20%5B37.852998%2C%20-122.274145%5D%2C%20%5B37.867383%2C%20-122.293938%5D%2C%20%5B37.884022%2C%20-122.253252%5D%2C%20%5B37.867271%2C%20-122.298682%5D%2C%20%5B37.881957%2C%20-122.269551%5D%2C%20%5B37.874095%2C%20-122.288542%5D%2C%20%5B37.897129%2C%20-122.278478%5D%2C%20%5B37.854113%2C%20-122.27249%5D%2C%20%5B37.870948%2C%20-122.27733%5D%2C%20%5B37.862817%2C%20-122.298359%5D%2C%20%5B37.852211%2C%20-122.286336%5D%2C%20%5B37.855523%2C%20-122.266529%5D%2C%20%5B37.868591%2C%20-122.294393%5D%2C%20%5B37.860225%2C%20-122.269453%5D%2C%20%5B37.865797%2C%20-122.252741%5D%2C%20%5B37.881957%2C%20-122.269551%5D%2C%20%5B37.867491%2C%20-122.254054%5D%2C%20%5B37.865535%2C%20-122.255235%5D%2C%20%5B37.865772%2C%20-122.267643%5D%2C%20%5B37.853089%2C%20-122.266212%5D%2C%20%5B37.86542%2C%20-122.25618%5D%2C%20%5B37.891214%2C%20-122.282158%5D%2C%20%5B37.890366%2C%20-122.266998%5D%2C%20%5B37.851089%2C%20-122.28095%5D%2C%20%5B37.888842%2C%20-122.254155%5D%2C%20%5B37.885413%2C%20-122.268753%5D%2C%20%5B37.86727%2C%20-122.291472%5D%2C%20%5B37.859675%2C%20-122.267173%5D%2C%20%5B37.871167%2C%20-122.268285%5D%2C%20%5B37.870054%2C%20-122.284263%5D%2C%20%5B37.886511%2C%20-122.26318%5D%2C%20%5B37.879677%2C%20-122.299779%5D%2C%20%5B37.880756%2C%20-122.303056%5D%2C%20%5B37.8559%2C%20-122.283101%5D%2C%20%5B37.868334%2C%20-122.303753%5D%2C%20%5B37.858156%2C%20-122.254397%5D%2C%20%5B37.880376%2C%20-122.268183%5D%2C%20%5B37.87325%2C%20-122.293558%5D%2C%20%5B37.87304%2C%20-122.289659%5D%2C%20%5B37.858356%2C%20-122.253179%5D%2C%20%5B37.876921%2C%20-122.265567%5D%2C%20%5B37.850588%2C%20-122.271471%5D%2C%20%5B37.892875%2C%20-122.268748%5D%2C%20%5B37.88014%2C%20-122.297498%5D%2C%20%5B37.864535%2C%20-122.262993%5D%2C%20%5B37.864109%2C%20-122.292948%5D%2C%20%5B37.871181%2C%20-122.295211%5D%2C%20%5B37.879968%2C%20-122.296885%5D%2C%20%5B37.868785%2C%20-122.272701%5D%2C%20%5B37.861387%2C%20-122.259001%5D%2C%20%5B37.88014%2C%20-122.297498%5D%2C%20%5B37.861843%2C%20-122.269644%5D%2C%20%5B37.872435%2C%20-122.279988%5D%2C%20%5B37.885312%2C%20-122.259577%5D%2C%20%5B37.881187%2C%20-122.291481%5D%2C%20%5B37.863611%2C%20-122.317566%5D%2C%20%5B37.848585%2C%20-122.272612%5D%2C%20%5B37.879799%2C%20-122.299187%5D%2C%20%5B37.867513%2C%20-122.26127%5D%2C%20%5B37.862817%2C%20-122.298359%5D%2C%20%5B37.853552%2C%20-122.291561%5D%2C%20%5B37.868489%2C%20-122.26795%5D%2C%20%5B37.867639%2C%20-122.298782%5D%2C%20%5B37.885541%2C%20-122.274771%5D%2C%20%5B37.869057%2C%20-122.270463%5D%2C%20%5B37.873687%2C%20-122.268616%5D%2C%20%5B37.867717%2C%20-122.249901%5D%2C%20%5B37.870603%2C%20-122.270612%5D%2C%20%5B37.869888%2C%20-122.300618%5D%2C%20%5B37.866739%2C%20-122.267299%5D%2C%20%5B37.863977%2C%20-122.267307%5D%2C%20%5B37.853861%2C%20-122.26598%5D%2C%20%5B37.871828%2C%20-122.270516%5D%2C%20%5B37.868595%2C%20-122.273835%5D%2C%20%5B37.868997%2C%20-122.256886%5D%2C%20%5B37.87241%2C%20-122.277692%5D%2C%20%5B37.853875%2C%20-122.260048%5D%2C%20%5B37.862817%2C%20-122.298359%5D%2C%20%5B37.851032%2C%20-122.270787%5D%2C%20%5B37.8549%2C%20-122.27945%5D%2C%20%5B37.877196%2C%20-122.302986%5D%2C%20%5B37.876921%2C%20-122.265567%5D%2C%20%5B37.872099%2C%20-122.288323%5D%2C%20%5B37.873581%2C%20-122.292337%5D%2C%20%5B37.860993%2C%20-122.262104%5D%2C%20%5B37.875053%2C%20-122.26548%5D%2C%20%5B37.870867%2C%20-122.270635%5D%2C%20%5B37.853665%2C%20-122.252715%5D%2C%20%5B37.858116%2C%20-122.268002%5D%2C%20%5B37.881142%2C%20-122.30191%5D%2C%20%5B37.863611%2C%20-122.317566%5D%2C%20%5B37.870287%2C%20-122.316238%5D%2C%20%5B37.868785%2C%20-122.272701%5D%2C%20%5B37.870972%2C%20-122.288185%5D%2C%20%5B37.862078%2C%20-122.245072%5D%2C%20%5B37.870454%2C%20-122.294998%5D%2C%20%5B37.857784%2C%20-122.272998%5D%2C%20%5B37.870308%2C%20-122.26805%5D%2C%20%5B37.871167%2C%20-122.268285%5D%2C%20%5B37.872989%2C%20-122.268532%5D%2C%20%5B37.85583%2C%20-122.27339%5D%2C%20%5B37.869839%2C%20-122.252365%5D%2C%20%5B37.869973%2C%20-122.270557%5D%2C%20%5B37.861591%2C%20-122.254736%5D%2C%20%5B37.873343%2C%20-122.280086%5D%2C%20%5B37.868667%2C%20-122.313656%5D%2C%20%5B37.870652%2C%20-122.27958%5D%2C%20%5B37.864677%2C%20-122.290292%5D%2C%20%5B37.882875%2C%20-122.288595%5D%2C%20%5B37.867271%2C%20-122.298682%5D%2C%20%5B37.868366%2C%20-122.295508%5D%2C%20%5B37.858116%2C%20-122.268002%5D%2C%20%5B37.871828%2C%20-122.270516%5D%2C%20%5B37.864535%2C%20-122.262993%5D%2C%20%5B37.873687%2C%20-122.268616%5D%2C%20%5B37.853386%2C%20-122.263973%5D%2C%20%5B37.870639%2C%20-122.272468%5D%2C%20%5B37.871246%2C%20-122.274991%5D%2C%20%5B37.888512%2C%20-122.266746%5D%2C%20%5B37.865141%2C%20-122.265441%5D%2C%20%5B37.881592%2C%20-122.299755%5D%2C%20%5B37.86727%2C%20-122.291472%5D%2C%20%5B37.871167%2C%20-122.268285%5D%2C%20%5B37.864827%2C%20-122.258577%5D%2C%20%5B37.873687%2C%20-122.268616%5D%2C%20%5B37.85488%2C%20-122.269079%5D%2C%20%5B37.896284%2C%20-122.274559%5D%2C%20%5B37.862781%2C%20-122.269376%5D%2C%20%5B37.866426%2C%20-122.269762%5D%2C%20%5B37.875553%2C%20-122.290549%5D%2C%20%5B37.875322%2C%20-122.293201%5D%2C%20%5B37.868785%2C%20-122.272701%5D%2C%20%5B37.88637%2C%20-122.26434%5D%2C%20%5B37.854427%2C%20-122.270006%5D%2C%20%5B37.860766%2C%20-122.255895%5D%2C%20%5B37.867513%2C%20-122.26127%5D%2C%20%5B37.869113%2C%20-122.250903%5D%2C%20%5B37.865711%2C%20-122.25389%5D%2C%20%5B37.870205%2C%20-122.292581%5D%2C%20%5B37.878405%2C%20-122.306072%5D%2C%20%5B37.867717%2C%20-122.249901%5D%2C%20%5B37.883072%2C%20-122.291168%5D%2C%20%5B37.864827%2C%20-122.258577%5D%2C%20%5B37.869041%2C%20-122.292204%5D%2C%20%5B37.855671%2C%20-122.262461%5D%2C%20%5B37.874575%2C%20-122.284796%5D%2C%20%5B37.884732%2C%20-122.280918%5D%2C%20%5B37.860225%2C%20-122.269453%5D%2C%20%5B37.869888%2C%20-122.300618%5D%2C%20%5B37.879708%2C%20-122.297995%5D%2C%20%5B37.866919%2C%20-122.258812%5D%2C%20%5B37.882217%2C%20-122.302226%5D%2C%20%5B37.891332%2C%20-122.279975%5D%2C%20%5B37.871828%2C%20-122.270516%5D%2C%20%5B37.894836%2C%20-122.268516%5D%2C%20%5B37.875708%2C%20-122.2897%5D%2C%20%5B37.856132%2C%20-122.271292%5D%2C%20%5B37.852422%2C%20-122.278571%5D%2C%20%5B37.873723%2C%20-122.299532%5D%2C%20%5B37.868957%2C%20-122.254552%5D%2C%20%5B37.869363%2C%20-122.268028%5D%2C%20%5B37.869363%2C%20-122.268028%5D%2C%20%5B37.865826%2C%20-122.267244%5D%2C%20%5B37.876045%2C%20-122.260336%5D%2C%20%5B37.862118%2C%20-122.25338%5D%2C%20%5B37.85583%2C%20-122.27339%5D%2C%20%5B37.882033%2C%20-122.296381%5D%2C%20%5B37.849747%2C%20-122.277907%5D%2C%20%5B37.883608%2C%20-122.285672%5D%2C%20%5B37.862808%2C%20-122.27633%5D%2C%20%5B37.863353%2C%20-122.272097%5D%2C%20%5B37.857054%2C%20-122.271393%5D%2C%20%5B37.854127%2C%20-122.255736%5D%2C%20%5B37.886242%2C%20-122.265416%5D%2C%20%5B37.861283%2C%20-122.273911%5D%2C%20%5B37.871246%2C%20-122.274991%5D%2C%20%5B37.870054%2C%20-122.284263%5D%2C%20%5B37.8667%2C%20-122.267614%5D%2C%20%5B37.865511%2C%20-122.309967%5D%2C%20%5B37.854116%2C%20-122.284114%5D%2C%20%5B37.868667%2C%20-122.313656%5D%2C%20%5B37.86825%2C%20-122.300093%5D%2C%20%5B37.853576%2C%20-122.287202%5D%2C%20%5B37.892804%2C%20-122.285696%5D%2C%20%5B37.885683%2C%20-122.308114%5D%2C%20%5B37.863938%2C%20-122.253735%5D%2C%20%5B37.858356%2C%20-122.253179%5D%2C%20%5B37.863611%2C%20-122.317566%5D%2C%20%5B37.876921%2C%20-122.265567%5D%2C%20%5B37.876307%2C%20-122.268923%5D%2C%20%5B37.863945%2C%20-122.294086%5D%2C%20%5B37.850385%2C%20-122.270897%5D%2C%20%5B37.859889%2C%20-122.278167%5D%2C%20%5B37.857637%2C%20-122.266803%5D%2C%20%5B37.893448%2C%20-122.272137%5D%2C%20%5B37.870287%2C%20-122.316238%5D%2C%20%5B37.860417%2C%20-122.292939%5D%2C%20%5B37.858116%2C%20-122.268002%5D%2C%20%5B37.868424%2C%20-122.261451%5D%2C%20%5B37.868714%2C%20-122.259189%5D%2C%20%5B37.864836%2C%20-122.299024%5D%2C%20%5B37.871167%2C%20-122.268285%5D%2C%20%5B37.85488%2C%20-122.269079%5D%2C%20%5B37.872175%2C%20-122.267835%5D%2C%20%5B37.865511%2C%20-122.309967%5D%2C%20%5B37.868667%2C%20-122.313656%5D%2C%20%5B37.873687%2C%20-122.268616%5D%2C%20%5B37.888679%2C%20-122.280432%5D%2C%20%5B37.855053%2C%20-122.286577%5D%2C%20%5B37.856614%2C%20-122.267596%5D%2C%20%5B37.879611%2C%20-122.257697%5D%2C%20%5B37.860766%2C%20-122.255895%5D%2C%20%5B37.873687%2C%20-122.268616%5D%2C%20%5B37.868667%2C%20-122.313656%5D%2C%20%5B37.871246%2C%20-122.274991%5D%2C%20%5B37.877793%2C%20-122.260709%5D%2C%20%5B37.863611%2C%20-122.317566%5D%2C%20%5B37.869067%2C%20-122.292043%5D%2C%20%5B37.859006%2C%20-122.277874%5D%2C%20%5B37.873687%2C%20-122.268616%5D%2C%20%5B37.86939%2C%20-122.267883%5D%2C%20%5B37.863369%2C%20-122.257622%5D%2C%20%5B37.856088%2C%20-122.29274%5D%2C%20%5B37.864826%2C%20-122.260719%5D%2C%20%5B37.861387%2C%20-122.259001%5D%2C%20%5B37.88052%2C%20-122.294842%5D%2C%20%5B37.867513%2C%20-122.26127%5D%2C%20%5B37.856948%2C%20-122.293014%5D%2C%20%5B37.870205%2C%20-122.292581%5D%2C%20%5B37.855938%2C%20-122.250539%5D%2C%20%5B37.84766%2C%20-122.279559%5D%2C%20%5B37.866761%2C%20-122.258779%5D%2C%20%5B37.855998%2C%20-122.271278%5D%2C%20%5B37.866327%2C%20-122.263359%5D%2C%20%5B37.887747%2C%20-122.264514%5D%2C%20%5B37.865443%2C%20-122.263189%5D%2C%20%5B37.866568%2C%20-122.254084%5D%2C%20%5B37.871544%2C%20-122.272714%5D%2C%20%5B37.854154%2C%20-122.272171%5D%2C%20%5B37.872185%2C%20-122.268407%5D%2C%20%5B37.85488%2C%20-122.269079%5D%2C%20%5B37.869363%2C%20-122.268028%5D%2C%20%5B37.863369%2C%20-122.257622%5D%2C%20%5B37.855293%2C%20-122.266502%5D%2C%20%5B37.864875%2C%20-122.298813%5D%2C%20%5B37.852934%2C%20-122.294575%5D%2C%20%5B37.863977%2C%20-122.267307%5D%2C%20%5B37.865772%2C%20-122.267643%5D%2C%20%5B37.870639%2C%20-122.272468%5D%2C%20%5B37.873921%2C%20-122.275577%5D%2C%20%5B37.874351%2C%20-122.272197%5D%2C%20%5B37.869652%2C%20-122.265882%5D%2C%20%5B37.873687%2C%20-122.268616%5D%2C%20%5B37.868815%2C%20-122.292131%5D%2C%20%5B37.868714%2C%20-122.259189%5D%2C%20%5B37.866936%2C%20-122.296218%5D%2C%20%5B37.862938%2C%20-122.274352%5D%2C%20%5B37.880834%2C%20-122.264578%5D%2C%20%5B37.871828%2C%20-122.270516%5D%2C%20%5B37.862927%2C%20-122.258784%5D%2C%20%5B37.869839%2C%20-122.252365%5D%2C%20%5B37.858433%2C%20-122.280183%5D%2C%20%5B37.871167%2C%20-122.268285%5D%2C%20%5B37.874427%2C%20-122.285938%5D%2C%20%5B37.867221%2C%20-122.263531%5D%2C%20%5B37.877951%2C%20-122.271395%5D%2C%20%5B37.888607%2C%20-122.267409%5D%2C%20%5B37.885744%2C%20-122.278017%5D%2C%20%5B37.880228%2C%20-122.295798%5D%2C%20%5B37.871828%2C%20-122.270516%5D%2C%20%5B37.871167%2C%20-122.268285%5D%2C%20%5B37.869642%2C%20-122.287492%5D%2C%20%5B37.863369%2C%20-122.257622%5D%2C%20%5B37.855293%2C%20-122.266502%5D%2C%20%5B37.879679%2C%20-122.273638%5D%2C%20%5B37.867852%2C%20-122.258699%5D%2C%20%5B37.860766%2C%20-122.255895%5D%2C%20%5B37.868142%2C%20-122.296589%5D%2C%20%5B37.869625%2C%20-122.265892%5D%2C%20%5B37.86331%2C%20-122.316113%5D%2C%20%5B37.858392%2C%20-122.275421%5D%2C%20%5B37.858356%2C%20-122.253179%5D%2C%20%5B37.892626%2C%20-122.273168%5D%2C%20%5B37.854002%2C%20-122.248587%5D%2C%20%5B37.863369%2C%20-122.257622%5D%2C%20%5B37.85988%2C%20-122.250176%5D%2C%20%5B37.879689%2C%20-122.271614%5D%2C%20%5B37.865535%2C%20-122.255235%5D%2C%20%5B37.869105%2C%20-122.270064%5D%2C%20%5B37.881142%2C%20-122.30191%5D%2C%20%5B37.868574%2C%20-122.288356%5D%2C%20%5B37.855834%2C%20-122.262346%5D%2C%20%5B37.894256%2C%20-122.281603%5D%2C%20%5B37.87742%2C%20-122.292046%5D%2C%20%5B37.864827%2C%20-122.258577%5D%2C%20%5B37.867383%2C%20-122.293938%5D%2C%20%5B37.858777%2C%20-122.29006%5D%2C%20%5B37.869363%2C%20-122.268028%5D%2C%20%5B37.864385%2C%20-122.290697%5D%2C%20%5B37.878312%2C%20-122.306543%5D%2C%20%5B37.885385%2C%20-122.273547%5D%2C%20%5B37.861387%2C%20-122.259001%5D%2C%20%5B37.880667%2C%20-122.29489%5D%2C%20%5B37.870948%2C%20-122.27733%5D%2C%20%5B37.871828%2C%20-122.270516%5D%2C%20%5B37.850385%2C%20-122.270897%5D%2C%20%5B37.856132%2C%20-122.271292%5D%2C%20%5B37.850005%2C%20-122.280256%5D%2C%20%5B37.867482%2C%20-122.254253%5D%2C%20%5B37.856111%2C%20-122.260248%5D%2C%20%5B37.85491%2C%20-122.268666%5D%2C%20%5B37.886086%2C%20-122.266573%5D%2C%20%5B37.872691%2C%20-122.270741%5D%2C%20%5B37.866929%2C%20-122.295042%5D%2C%20%5B37.864535%2C%20-122.262993%5D%2C%20%5B37.867613%2C%20-122.299898%5D%2C%20%5B37.858116%2C%20-122.268002%5D%2C%20%5B37.876428%2C%20-122.291736%5D%2C%20%5B37.858079%2C%20-122.243865%5D%2C%20%5B37.869348%2C%20-122.250048%5D%2C%20%5B37.882033%2C%20-122.296381%5D%2C%20%5B37.869839%2C%20-122.252365%5D%2C%20%5B37.863368%2C%20-122.296921%5D%2C%20%5B37.861887%2C%20-122.262292%5D%2C%20%5B37.853275%2C%20-122.279078%5D%2C%20%5B37.867212%2C%20-122.281739%5D%2C%20%5B37.860732%2C%20-122.291369%5D%2C%20%5B37.85344%2C%20-122.269182%5D%2C%20%5B37.858455%2C%20-122.293374%5D%2C%20%5B37.860549%2C%20-122.286969%5D%2C%20%5B37.880228%2C%20-122.295798%5D%2C%20%5B37.868667%2C%20-122.313656%5D%2C%20%5B37.871828%2C%20-122.270516%5D%2C%20%5B37.882033%2C%20-122.296381%5D%2C%20%5B37.868164%2C%20-122.256314%5D%2C%20%5B37.880756%2C%20-122.303056%5D%2C%20%5B37.876881%2C%20-122.266666%5D%2C%20%5B37.867513%2C%20-122.26127%5D%2C%20%5B37.867271%2C%20-122.298682%5D%2C%20%5B37.867822%2C%20-122.266003%5D%2C%20%5B37.880756%2C%20-122.303056%5D%2C%20%5B37.852956%2C%20-122.266195%5D%2C%20%5B37.858455%2C%20-122.293374%5D%2C%20%5B37.880227%2C%20-122.26936%5D%2C%20%5B37.867176%2C%20-122.267802%5D%2C%20%5B37.88253%2C%20-122.280217%5D%2C%20%5B37.880227%2C%20-122.26936%5D%2C%20%5B37.873327%2C%20-122.273214%5D%2C%20%5B37.871429%2C%20-122.266314%5D%2C%20%5B37.868611%2C%20-122.259993%5D%2C%20%5B37.862405%2C%20-122.29242%5D%2C%20%5B37.862817%2C%20-122.298359%5D%2C%20%5B37.89221%2C%20-122.28242%5D%2C%20%5B37.864484%2C%20-122.258491%5D%2C%20%5B37.867852%2C%20-122.258699%5D%2C%20%5B37.858455%2C%20-122.293374%5D%2C%20%5B37.891214%2C%20-122.282158%5D%2C%20%5B37.868058%2C%20-122.278332%5D%2C%20%5B37.864908%2C%20-122.267289%5D%2C%20%5B37.859539%2C%20-122.259172%5D%2C%20%5B37.847682%2C%20-122.279381%5D%2C%20%5B37.857647%2C%20-122.273145%5D%2C%20%5B37.866969%2C%20-122.26553%5D%2C%20%5B37.848606%2C%20-122.279588%5D%2C%20%5B37.853554%2C%20-122.276925%5D%2C%20%5B37.866761%2C%20-122.258779%5D%2C%20%5B37.87448%2C%20-122.297461%5D%2C%20%5B37.867176%2C%20-122.267802%5D%2C%20%5B37.869067%2C%20-122.292043%5D%2C%20%5B37.868199%2C%20-122.263253%5D%2C%20%5B37.858448%2C%20-122.282308%5D%2C%20%5B37.86331%2C%20-122.316113%5D%2C%20%5B37.869764%2C%20-122.28655%5D%2C%20%5B37.856948%2C%20-122.293014%5D%2C%20%5B37.867513%2C%20-122.26127%5D%2C%20%5B37.876333%2C%20-122.278118%5D%2C%20%5B37.879933%2C%20-122.283098%5D%2C%20%5B37.873687%2C%20-122.268616%5D%2C%20%5B37.868667%2C%20-122.313656%5D%2C%20%5B37.886234%2C%20-122.283626%5D%2C%20%5B37.864346%2C%20-122.291843%5D%2C%20%5B37.874833%2C%20-122.302216%5D%2C%20%5B37.881957%2C%20-122.269551%5D%2C%20%5B37.889423%2C%20-122.278847%5D%2C%20%5B37.862512%2C%20-122.290094%5D%2C%20%5B37.865202%2C%20-122.257795%5D%2C%20%5B37.871167%2C%20-122.268285%5D%2C%20%5B37.862202%2C%20-122.281026%5D%2C%20%5B37.862927%2C%20-122.258784%5D%2C%20%5B37.870603%2C%20-122.270612%5D%2C%20%5B37.868785%2C%20-122.272701%5D%2C%20%5B37.872691%2C%20-122.270741%5D%2C%20%5B37.875984%2C%20-122.264127%5D%2C%20%5B37.858337%2C%20-122.261387%5D%2C%20%5B37.872656%2C%20-122.292748%5D%2C%20%5B37.854732%2C%20-122.26898%5D%2C%20%5B37.862491%2C%20-122.2646%5D%2C%20%5B37.876549%2C%20-122.290899%5D%2C%20%5B37.867513%2C%20-122.25195%5D%2C%20%5B37.885691%2C%20-122.27282%5D%2C%20%5B37.870036%2C%20-122.277169%5D%2C%20%5B37.862393%2C%20-122.248851%5D%2C%20%5B37.873687%2C%20-122.268616%5D%2C%20%5B37.865711%2C%20-122.25389%5D%2C%20%5B37.869332%2C%20-122.25019%5D%2C%20%5B37.863758%2C%20-122.295053%5D%2C%20%5B37.866253%2C%20-122.299483%5D%2C%20%5B37.88618%2C%20-122.259963%5D%2C%20%5B37.867613%2C%20-122.299898%5D%2C%20%5B37.858356%2C%20-122.253179%5D%2C%20%5B37.873687%2C%20-122.268616%5D%2C%20%5B37.849431%2C%20-122.278174%5D%2C%20%5B37.867805%2C%20-122.291809%5D%2C%20%5B37.869888%2C%20-122.300618%5D%2C%20%5B37.886401%2C%20-122.251877%5D%2C%20%5B37.857377%2C%20-122.268709%5D%2C%20%5B37.880227%2C%20-122.26936%5D%2C%20%5B37.85108%2C%20-122.293322%5D%2C%20%5B37.850798%2C%20-122.294689%5D%2C%20%5B37.894468%2C%20-122.265464%5D%2C%20%5B37.857387%2C%20-122.261536%5D%2C%20%5B37.85931%2C%20-122.273495%5D%2C%20%5B37.863977%2C%20-122.267307%5D%2C%20%5B37.855435%2C%20-122.259841%5D%2C%20%5B37.880227%2C%20-122.26936%5D%2C%20%5B37.869363%2C%20-122.268028%5D%2C%20%5B37.865511%2C%20-122.309967%5D%2C%20%5B37.876307%2C%20-122.268923%5D%2C%20%5B37.868714%2C%20-122.259189%5D%2C%20%5B37.867852%2C%20-122.258699%5D%2C%20%5B37.880227%2C%20-122.26936%5D%2C%20%5B37.89759%2C%20-122.260784%5D%2C%20%5B37.868714%2C%20-122.259189%5D%2C%20%5B37.871167%2C%20-122.268285%5D%2C%20%5B37.852379%2C%20-122.266119%5D%2C%20%5B37.878973%2C%20-122.279366%5D%2C%20%5B37.869652%2C%20-122.265882%5D%2C%20%5B37.879129%2C%20-122.302478%5D%2C%20%5B37.867513%2C%20-122.26127%5D%2C%20%5B37.866426%2C%20-122.269762%5D%2C%20%5B37.864385%2C%20-122.290697%5D%2C%20%5B37.868199%2C%20-122.263253%5D%2C%20%5B37.870121%2C%20-122.284626%5D%2C%20%5B37.861387%2C%20-122.259001%5D%2C%20%5B37.869363%2C%20-122.268028%5D%2C%20%5B37.868204%2C%20-122.270054%5D%2C%20%5B37.868204%2C%20-122.270054%5D%2C%20%5B37.868263%2C%20-122.296013%5D%2C%20%5B37.859846%2C%20-122.253325%5D%2C%20%5B37.868714%2C%20-122.259189%5D%2C%20%5B37.850798%2C%20-122.294689%5D%2C%20%5B37.871883%2C%20-122.301255%5D%2C%20%5B37.850798%2C%20-122.294689%5D%2C%20%5B37.852956%2C%20-122.266195%5D%2C%20%5B37.896429%2C%20-122.285145%5D%2C%20%5B37.871167%2C%20-122.268285%5D%2C%20%5B37.879226%2C%20-122.260975%5D%2C%20%5B37.864535%2C%20-122.262993%5D%2C%20%5B37.865535%2C%20-122.255235%5D%2C%20%5B37.870603%2C%20-122.270612%5D%2C%20%5B37.852529%2C%20-122.247255%5D%2C%20%5B37.8554%2C%20-122.239297%5D%2C%20%5B37.855632%2C%20-122.256606%5D%2C%20%5B37.870948%2C%20-122.27733%5D%2C%20%5B37.873687%2C%20-122.268616%5D%2C%20%5B37.88674%2C%20-122.262299%5D%2C%20%5B37.855998%2C%20-122.271278%5D%2C%20%5B37.857474%2C%20-122.275425%5D%2C%20%5B37.867271%2C%20-122.298682%5D%2C%20%5B37.866724%2C%20-122.288804%5D%2C%20%5B37.869067%2C%20-122.292043%5D%2C%20%5B37.892804%2C%20-122.285696%5D%2C%20%5B37.885058%2C%20-122.278416%5D%2C%20%5B37.873194%2C%20-122.2813%5D%2C%20%5B37.871167%2C%20-122.268285%5D%2C%20%5B37.862321%2C%20-122.258872%5D%2C%20%5B37.864827%2C%20-122.258577%5D%2C%20%5B37.86925%2C%20-122.266076%5D%2C%20%5B37.854102%2C%20-122.251059%5D%2C%20%5B37.87935%2C%20-122.276123%5D%2C%20%5B37.870396%2C%20-122.281585%5D%2C%20%5B37.865797%2C%20-122.252741%5D%2C%20%5B37.868714%2C%20-122.259189%5D%2C%20%5B37.868714%2C%20-122.259189%5D%2C%20%5B37.8531%2C%20-122.266131%5D%2C%20%5B37.848453%2C%20-122.273607%5D%2C%20%5B37.868815%2C%20-122.292131%5D%2C%20%5B37.850424%2C%20-122.296031%5D%2C%20%5B37.868785%2C%20-122.272701%5D%2C%20%5B37.886569%2C%20-122.250789%5D%2C%20%5B37.877951%2C%20-122.271395%5D%2C%20%5B37.869363%2C%20-122.268028%5D%2C%20%5B37.879677%2C%20-122.299779%5D%2C%20%5B37.868714%2C%20-122.259189%5D%2C%20%5B37.85836%2C%20-122.264036%5D%2C%20%5B37.863625%2C%20-122.284155%5D%2C%20%5B37.852379%2C%20-122.266119%5D%2C%20%5B37.852956%2C%20-122.266195%5D%2C%20%5B37.866426%2C%20-122.269762%5D%2C%20%5B37.868591%2C%20-122.294393%5D%2C%20%5B37.867513%2C%20-122.26127%5D%2C%20%5B37.87783%2C%20-122.299723%5D%2C%20%5B37.861118%2C%20-122.259948%5D%2C%20%5B37.882899%2C%20-122.292918%5D%2C%20%5B37.854091%2C%20-122.256132%5D%2C%20%5B37.873454%2C%20-122.27209%5D%2C%20%5B37.867176%2C%20-122.267802%5D%2C%20%5B37.851017%2C%20-122.291088%5D%2C%20%5B37.861653%2C%20-122.278529%5D%2C%20%5B37.865511%2C%20-122.309967%5D%2C%20%5B37.872831%2C%20-122.269636%5D%2C%20%5B37.88014%2C%20-122.297498%5D%2C%20%5B37.867513%2C%20-122.26127%5D%2C%20%5B37.873687%2C%20-122.268616%5D%2C%20%5B37.875142%2C%20-122.280314%5D%2C%20%5B37.858156%2C%20-122.254397%5D%2C%20%5B37.859195%2C%20-122.261915%5D%2C%20%5B37.85489%2C%20-122.252564%5D%2C%20%5B37.85525%2C%20-122.277126%5D%2C%20%5B37.863353%2C%20-122.272097%5D%2C%20%5B37.872185%2C%20-122.268407%5D%2C%20%5B37.852934%2C%20-122.294575%5D%2C%20%5B37.888679%2C%20-122.280432%5D%2C%20%5B37.871246%2C%20-122.274991%5D%2C%20%5B37.853008%2C%20-122.286877%5D%2C%20%5B37.869363%2C%20-122.268028%5D%2C%20%5B37.853638%2C%20-122.289588%5D%2C%20%5B37.878286%2C%20-122.257141%5D%2C%20%5B37.891199%2C%20-122.282401%5D%2C%20%5B37.856111%2C%20-122.260248%5D%2C%20%5B37.867926%2C%20-122.297664%5D%2C%20%5B37.891332%2C%20-122.279975%5D%2C%20%5B37.878405%2C%20-122.306072%5D%2C%20%5B37.885683%2C%20-122.308114%5D%2C%20%5B37.88878%2C%20-122.267659%5D%2C%20%5B37.865466%2C%20-122.27005%5D%2C%20%5B37.862169%2C%20-122.267084%5D%2C%20%5B37.861346%2C%20-122.271873%5D%2C%20%5B37.871246%2C%20-122.274991%5D%2C%20%5B37.881957%2C%20-122.269551%5D%2C%20%5B37.856063%2C%20-122.252952%5D%2C%20%5B37.869058%2C%20-122.270455%5D%2C%20%5B37.868667%2C%20-122.313656%5D%2C%20%5B37.868667%2C%20-122.313656%5D%2C%20%5B37.867852%2C%20-122.258699%5D%2C%20%5B37.870243%2C%20-122.275149%5D%2C%20%5B37.879888%2C%20-122.285306%5D%2C%20%5B37.866697%2C%20-122.289017%5D%2C%20%5B37.869385%2C%20-122.28953%5D%2C%20%5B37.864826%2C%20-122.260719%5D%2C%20%5B37.881164%2C%20-122.292378%5D%2C%20%5B37.851919%2C%20-122.286667%5D%2C%20%5B37.880227%2C%20-122.26936%5D%2C%20%5B37.891214%2C%20-122.282158%5D%2C%20%5B37.848453%2C%20-122.273607%5D%2C%20%5B37.873202%2C%20-122.267443%5D%2C%20%5B37.878407%2C%20-122.267962%5D%2C%20%5B37.862624%2C%20-122.300595%5D%2C%20%5B37.873607%2C%20-122.270903%5D%2C%20%5B37.863272%2C%20-122.258656%5D%2C%20%5B37.851653%2C%20-122.289194%5D%2C%20%5B37.868663%2C%20-122.301325%5D%2C%20%5B37.873327%2C%20-122.273214%5D%2C%20%5B37.865945%2C%20-122.250471%5D%2C%20%5B37.865772%2C%20-122.267643%5D%2C%20%5B37.85525%2C%20-122.277126%5D%2C%20%5B37.859309%2C%20-122.259291%5D%2C%20%5B37.853738%2C%20-122.251663%5D%2C%20%5B37.866936%2C%20-122.296218%5D%2C%20%5B37.866936%2C%20-122.296218%5D%2C%20%5B37.897333%2C%20-122.276042%5D%2C%20%5B37.865868%2C%20-122.251595%5D%2C%20%5B37.883529%2C%20-122.259884%5D%2C%20%5B37.850899%2C%20-122.276174%5D%2C%20%5B37.863611%2C%20-122.317566%5D%2C%20%5B37.863072%2C%20-122.260352%5D%2C%20%5B37.883684%2C%20-122.267485%5D%2C%20%5B37.869058%2C%20-122.270455%5D%2C%20%5B37.889494%2C%20-122.269171%5D%2C%20%5B37.882217%2C%20-122.302226%5D%2C%20%5B37.863945%2C%20-122.294086%5D%2C%20%5B37.866969%2C%20-122.26553%5D%2C%20%5B37.866074%2C%20-122.26331%5D%2C%20%5B37.878373%2C%20-122.262902%5D%2C%20%5B37.880228%2C%20-122.295798%5D%2C%20%5B37.867816%2C%20-122.258994%5D%2C%20%5B37.872691%2C%20-122.270741%5D%2C%20%5B37.880376%2C%20-122.268183%5D%2C%20%5B37.861283%2C%20-122.273911%5D%2C%20%5B37.858892%2C%20-122.29127%5D%2C%20%5B37.847281%2C%20-122.27545%5D%2C%20%5B37.859906%2C%20-122.284931%5D%2C%20%5B37.866404%2C%20-122.277043%5D%2C%20%5B37.900664%2C%20-122.269174%5D%2C%20%5B37.871167%2C%20-122.268285%5D%2C%20%5B37.854857%2C%20-122.262314%5D%2C%20%5B37.865149%2C%20-122.256487%5D%2C%20%5B37.871743%2C%20-122.271878%5D%2C%20%5B37.864535%2C%20-122.262993%5D%2C%20%5B37.869888%2C%20-122.300618%5D%2C%20%5B37.868957%2C%20-122.254552%5D%2C%20%5B37.867805%2C%20-122.291809%5D%2C%20%5B37.880312%2C%20-122.296641%5D%2C%20%5B37.852956%2C%20-122.266195%5D%2C%20%5B37.858214%2C%20-122.269252%5D%2C%20%5B37.8801%2C%20-122.295622%5D%2C%20%5B37.867513%2C%20-122.25195%5D%2C%20%5B37.876594%2C%20-122.268956%5D%2C%20%5B37.871883%2C%20-122.301255%5D%2C%20%5B37.860641%2C%20-122.291827%5D%2C%20%5B37.882199%2C%20-122.268386%5D%2C%20%5B37.869363%2C%20-122.268028%5D%2C%20%5B37.869888%2C%20-122.300618%5D%2C%20%5B37.896395%2C%20-122.285494%5D%2C%20%5B37.867271%2C%20-122.298682%5D%2C%20%5B37.865149%2C%20-122.256487%5D%2C%20%5B37.865772%2C%20-122.267643%5D%2C%20%5B37.87091%2C%20-122.265993%5D%2C%20%5B37.853929%2C%20-122.289679%5D%2C%20%5B37.848152%2C%20-122.275807%5D%2C%20%5B37.86542%2C%20-122.25618%5D%2C%20%5B37.855076%2C%20-122.292412%5D%2C%20%5B37.879335%2C%20-122.301332%5D%2C%20%5B37.872776%2C%20-122.28448%5D%2C%20%5B37.865511%2C%20-122.309967%5D%2C%20%5B37.871167%2C%20-122.268285%5D%2C%20%5B37.863611%2C%20-122.317566%5D%2C%20%5B37.867852%2C%20-122.258699%5D%2C%20%5B37.867513%2C%20-122.25195%5D%2C%20%5B37.86421%2C%20-122.272196%5D%2C%20%5B37.869105%2C%20-122.270064%5D%2C%20%5B37.869363%2C%20-122.268028%5D%2C%20%5B37.873017%2C%20-122.275481%5D%2C%20%5B37.867176%2C%20-122.267802%5D%2C%20%5B37.850798%2C%20-122.294689%5D%2C%20%5B37.873607%2C%20-122.270903%5D%2C%20%5B37.866253%2C%20-122.299483%5D%2C%20%5B37.861553%2C%20-122.296599%5D%2C%20%5B37.851919%2C%20-122.286667%5D%2C%20%5B37.867491%2C%20-122.254054%5D%2C%20%5B37.862334%2C%20-122.264828%5D%2C%20%5B37.867852%2C%20-122.258699%5D%2C%20%5B37.877951%2C%20-122.271395%5D%2C%20%5B37.877696%2C%20-122.273684%5D%2C%20%5B37.876921%2C%20-122.265567%5D%2C%20%5B37.891214%2C%20-122.282158%5D%2C%20%5B37.855935%2C%20-122.250579%5D%2C%20%5B37.868512%2C%20-122.26781%5D%2C%20%5B37.870054%2C%20-122.284263%5D%2C%20%5B37.870432%2C%20-122.315346%5D%2C%20%5B37.854286%2C%20-122.271015%5D%2C%20%5B37.875339%2C%20-122.258289%5D%2C%20%5B37.883407%2C%20-122.273154%5D%2C%20%5B37.854612%2C%20-122.281178%5D%2C%20%5B37.873687%2C%20-122.268616%5D%2C%20%5B37.870205%2C%20-122.292581%5D%2C%20%5B37.851919%2C%20-122.286667%5D%2C%20%5B37.850675%2C%20-122.286265%5D%2C%20%5B37.869363%2C%20-122.268028%5D%2C%20%5B37.876428%2C%20-122.291736%5D%2C%20%5B37.857336%2C%20-122.290797%5D%2C%20%5B37.870308%2C%20-122.26805%5D%2C%20%5B37.869058%2C%20-122.270455%5D%2C%20%5B37.885541%2C%20-122.274771%5D%2C%20%5B37.853576%2C%20-122.287202%5D%2C%20%5B37.866025%2C%20-122.258623%5D%2C%20%5B37.871486%2C%20-122.300027%5D%2C%20%5B37.863652%2C%20-122.269843%5D%2C%20%5B37.853576%2C%20-122.287202%5D%2C%20%5B37.863368%2C%20-122.296921%5D%2C%20%5B37.853723%2C%20-122.259975%5D%2C%20%5B37.867332%2C%20-122.269908%5D%2C%20%5B37.867852%2C%20-122.258699%5D%2C%20%5B37.869167%2C%20-122.284138%5D%2C%20%5B37.888064%2C%20-122.256304%5D%2C%20%5B37.855294%2C%20-122.292475%5D%2C%20%5B37.878935%2C%20-122.279344%5D%2C%20%5B37.86939%2C%20-122.267883%5D%2C%20%5B37.867852%2C%20-122.258699%5D%2C%20%5B37.874489%2C%20-122.271072%5D%2C%20%5B37.875984%2C%20-122.264127%5D%2C%20%5B37.880468%2C%20-122.295876%5D%2C%20%5B37.857254%2C%20-122.262649%5D%2C%20%5B37.856111%2C%20-122.260248%5D%2C%20%5B37.857377%2C%20-122.268709%5D%2C%20%5B37.872691%2C%20-122.270741%5D%2C%20%5B37.8719%2C%20-122.268389%5D%2C%20%5B37.868447%2C%20-122.261268%5D%2C%20%5B37.878005%2C%20-122.257034%5D%2C%20%5B37.865772%2C%20-122.267643%5D%2C%20%5B37.86542%2C%20-122.25618%5D%2C%20%5B37.891807%2C%20-122.284792%5D%2C%20%5B37.861313%2C%20-122.297894%5D%2C%20%5B37.865501%2C%20-122.269774%5D%2C%20%5B37.865121%2C%20-122.258455%5D%2C%20%5B37.865511%2C%20-122.309967%5D%2C%20%5B37.871167%2C%20-122.268285%5D%2C%20%5B37.867601%2C%20-122.267718%5D%2C%20%5B37.851176%2C%20-122.253096%5D%2C%20%5B37.871246%2C%20-122.274991%5D%2C%20%5B37.876307%2C%20-122.268923%5D%2C%20%5B37.900664%2C%20-122.269174%5D%2C%20%5B37.877548%2C%20-122.26271%5D%2C%20%5B37.867491%2C%20-122.254054%5D%2C%20%5B37.866969%2C%20-122.26553%5D%2C%20%5B37.871167%2C%20-122.268285%5D%2C%20%5B37.870054%2C%20-122.284263%5D%2C%20%5B37.872691%2C%20-122.270741%5D%2C%20%5B37.863928%2C%20-122.295255%5D%2C%20%5B37.868512%2C%20-122.26781%5D%2C%20%5B37.85976%2C%20-122.257034%5D%2C%20%5B37.864693%2C%20-122.299701%5D%2C%20%5B37.861078%2C%20-122.289632%5D%2C%20%5B37.894721%2C%20-122.286417%5D%2C%20%5B37.864444%2C%20-122.298896%5D%2C%20%5B37.864693%2C%20-122.299701%5D%2C%20%5B37.863977%2C%20-122.267307%5D%2C%20%5B37.891332%2C%20-122.279975%5D%2C%20%5B37.861944%2C%20-122.294607%5D%2C%20%5B37.859881%2C%20-122.285128%5D%2C%20%5B37.890928%2C%20-122.287251%5D%2C%20%5B37.88014%2C%20-122.297498%5D%2C%20%5B37.880228%2C%20-122.295798%5D%2C%20%5B37.851477%2C%20-122.278651%5D%2C%20%5B37.868667%2C%20-122.313656%5D%2C%20%5B37.867176%2C%20-122.267802%5D%2C%20%5B37.871917%2C%20-122.298961%5D%2C%20%5B37.897661%2C%20-122.260679%5D%2C%20%5B37.85488%2C%20-122.269079%5D%2C%20%5B37.859539%2C%20-122.259172%5D%2C%20%5B37.870185%2C%20-122.299609%5D%2C%20%5B37.865501%2C%20-122.269774%5D%2C%20%5B37.871167%2C%20-122.268285%5D%2C%20%5B37.88014%2C%20-122.297498%5D%2C%20%5B37.870793%2C%20-122.297496%5D%2C%20%5B37.871246%2C%20-122.274991%5D%2C%20%5B37.871544%2C%20-122.272714%5D%2C%20%5B37.885167%2C%20-122.275498%5D%2C%20%5B37.872185%2C%20-122.268407%5D%2C%20%5B37.868641%2C%20-122.29415%5D%2C%20%5B37.8719%2C%20-122.268389%5D%2C%20%5B37.870205%2C%20-122.292581%5D%2C%20%5B37.867551%2C%20-122.297541%5D%2C%20%5B37.874369%2C%20-122.304473%5D%2C%20%5B37.873885%2C%20-122.266332%5D%2C%20%5B37.863611%2C%20-122.317566%5D%2C%20%5B37.868667%2C%20-122.313656%5D%2C%20%5B37.861313%2C%20-122.297894%5D%2C%20%5B37.868714%2C%20-122.259189%5D%2C%20%5B37.856869%2C%20-122.272977%5D%2C%20%5B37.869685%2C%20-122.272804%5D%2C%20%5B37.856132%2C%20-122.271292%5D%2C%20%5B37.870205%2C%20-122.292581%5D%2C%20%5B37.867513%2C%20-122.26127%5D%2C%20%5B37.871265%2C%20-122.295043%5D%2C%20%5B37.876307%2C%20-122.268923%5D%2C%20%5B37.881004%2C%20-122.283225%5D%2C%20%5B37.871167%2C%20-122.268285%5D%2C%20%5B37.882491%2C%20-122.287145%5D%2C%20%5B37.868447%2C%20-122.261268%5D%2C%20%5B37.879571%2C%20-122.300296%5D%2C%20%5B37.871265%2C%20-122.295043%5D%2C%20%5B37.868785%2C%20-122.272701%5D%2C%20%5B37.863758%2C%20-122.295053%5D%2C%20%5B37.893213%2C%20-122.280436%5D%2C%20%5B37.871828%2C%20-122.270516%5D%2C%20%5B37.867513%2C%20-122.26127%5D%2C%20%5B37.865126%2C%20-122.296746%5D%2C%20%5B37.868714%2C%20-122.259189%5D%2C%20%5B37.88014%2C%20-122.297498%5D%2C%20%5B37.868714%2C%20-122.259189%5D%2C%20%5B37.864444%2C%20-122.298896%5D%2C%20%5B37.873085%2C%20-122.273187%5D%2C%20%5B37.880468%2C%20-122.295876%5D%2C%20%5B37.880756%2C%20-122.303056%5D%2C%20%5B37.863611%2C%20-122.317566%5D%2C%20%5B37.868667%2C%20-122.313656%5D%2C%20%5B37.862808%2C%20-122.27633%5D%2C%20%5B37.874843%2C%20-122.263711%5D%2C%20%5B37.861944%2C%20-122.294607%5D%2C%20%5B37.87091%2C%20-122.265993%5D%2C%20%5B37.868714%2C%20-122.259189%5D%2C%20%5B37.858116%2C%20-122.268002%5D%2C%20%5B37.863977%2C%20-122.267307%5D%2C%20%5B37.868204%2C%20-122.270054%5D%2C%20%5B37.867176%2C%20-122.267802%5D%2C%20%5B37.871167%2C%20-122.268285%5D%2C%20%5B37.882199%2C%20-122.268386%5D%2C%20%5B37.875113%2C%20-122.273413%5D%2C%20%5B37.865121%2C%20-122.258455%5D%2C%20%5B37.851477%2C%20-122.278651%5D%2C%20%5B37.865511%2C%20-122.309967%5D%2C%20%5B37.858116%2C%20-122.268002%5D%2C%20%5B37.872691%2C%20-122.270741%5D%2C%20%5B37.869888%2C%20-122.300618%5D%2C%20%5B37.899744%2C%20-122.273832%5D%2C%20%5B37.875324%2C%20-122.292268%5D%2C%20%5B37.867513%2C%20-122.26127%5D%2C%20%5B37.855924%2C%20-122.272797%5D%2C%20%5B37.892824%2C%20-122.272717%5D%2C%20%5B37.88014%2C%20-122.297498%5D%2C%20%5B37.88014%2C%20-122.297498%5D%2C%20%5B37.867601%2C%20-122.267718%5D%2C%20%5B37.865793%2C%20-122.293498%5D%2C%20%5B37.869105%2C%20-122.270064%5D%2C%20%5B37.868785%2C%20-122.272701%5D%2C%20%5B37.88014%2C%20-122.297498%5D%2C%20%5B37.863611%2C%20-122.317566%5D%2C%20%5B37.866981%2C%20-122.302083%5D%2C%20%5B37.858598%2C%20-122.25939%5D%2C%20%5B37.878372%2C%20-122.296373%5D%2C%20%5B37.867972%2C%20-122.263699%5D%2C%20%5B37.864346%2C%20-122.291843%5D%2C%20%5B37.870054%2C%20-122.284263%5D%2C%20%5B37.872185%2C%20-122.268407%5D%2C%20%5B37.869385%2C%20-122.28953%5D%2C%20%5B37.878016%2C%20-122.305642%5D%2C%20%5B37.856598%2C%20-122.294415%5D%2C%20%5B37.856193%2C%20-122.259626%5D%2C%20%5B37.873687%2C%20-122.268616%5D%2C%20%5B37.878016%2C%20-122.305642%5D%2C%20%5B37.858455%2C%20-122.293374%5D%2C%20%5B37.882217%2C%20-122.302226%5D%2C%20%5B37.848292%2C%20-122.271773%5D%2C%20%5B37.855793%2C%20-122.281493%5D%2C%20%5B37.868574%2C%20-122.270415%5D%2C%20%5B37.869084%2C%20-122.299245%5D%2C%20%5B37.858214%2C%20-122.269252%5D%2C%20%5B37.864346%2C%20-122.291843%5D%2C%20%5B37.864238%2C%20-122.265263%5D%2C%20%5B37.849244%2C%20-122.294722%5D%2C%20%5B37.863963%2C%20-122.260546%5D%2C%20%5B37.849747%2C%20-122.277907%5D%2C%20%5B37.867307%2C%20-122.300468%5D%2C%20%5B37.860732%2C%20-122.291369%5D%2C%20%5B37.859846%2C%20-122.253325%5D%2C%20%5B37.871828%2C%20-122.270516%5D%2C%20%5B37.849512%2C%20-122.272671%5D%2C%20%5B37.871167%2C%20-122.268285%5D%2C%20%5B37.868785%2C%20-122.272701%5D%2C%20%5B37.870602%2C%20-122.265794%5D%2C%20%5B37.869839%2C%20-122.252365%5D%2C%20%5B37.873607%2C%20-122.270903%5D%2C%20%5B37.863126%2C%20-122.288063%5D%2C%20%5B37.849814%2C%20-122.281093%5D%2C%20%5B37.867816%2C%20-122.258994%5D%2C%20%5B37.86542%2C%20-122.25618%5D%2C%20%5B37.871168%2C%20-122.282128%5D%2C%20%5B37.870396%2C%20-122.281585%5D%2C%20%5B37.868957%2C%20-122.254552%5D%2C%20%5B37.871544%2C%20-122.272714%5D%2C%20%5B37.880756%2C%20-122.303056%5D%2C%20%5B37.86939%2C%20-122.267883%5D%2C%20%5B37.869688%2C%20-122.272805%5D%2C%20%5B37.869113%2C%20-122.250903%5D%2C%20%5B37.869363%2C%20-122.268028%5D%2C%20%5B37.855998%2C%20-122.271278%5D%2C%20%5B37.874095%2C%20-122.288542%5D%2C%20%5B37.854091%2C%20-122.256132%5D%2C%20%5B37.851921%2C%20-122.269813%5D%2C%20%5B37.855435%2C%20-122.259841%5D%2C%20%5B37.891214%2C%20-122.282158%5D%2C%20%5B37.862817%2C%20-122.298359%5D%2C%20%5B37.868199%2C%20-122.263253%5D%2C%20%5B37.870213%2C%20-122.293749%5D%2C%20%5B37.853665%2C%20-122.252715%5D%2C%20%5B37.870652%2C%20-122.27958%5D%2C%20%5B37.889658%2C%20-122.270137%5D%2C%20%5B37.861677%2C%20-122.26716%5D%2C%20%5B37.87084%2C%20-122.289678%5D%2C%20%5B37.877528%2C%20-122.275956%5D%2C%20%5B37.869688%2C%20-122.272805%5D%2C%20%5B37.851038%2C%20-122.252448%5D%2C%20%5B37.865535%2C%20-122.255235%5D%2C%20%5B37.862927%2C%20-122.258784%5D%2C%20%5B37.855435%2C%20-122.259841%5D%2C%20%5B37.859309%2C%20-122.259291%5D%2C%20%5B37.8871%2C%20-122.251321%5D%2C%20%5B37.869448%2C%20-122.281783%5D%2C%20%5B37.863611%2C%20-122.317566%5D%2C%20%5B37.867513%2C%20-122.26127%5D%2C%20%5B37.868667%2C%20-122.313656%5D%2C%20%5B37.850385%2C%20-122.270897%5D%2C%20%5B37.876921%2C%20-122.265567%5D%2C%20%5B37.893213%2C%20-122.280436%5D%2C%20%5B37.868366%2C%20-122.295508%5D%2C%20%5B37.867513%2C%20-122.26127%5D%2C%20%5B37.882064%2C%20-122.269357%5D%2C%20%5B37.868815%2C%20-122.292131%5D%2C%20%5B37.862334%2C%20-122.264828%5D%2C%20%5B37.872989%2C%20-122.268532%5D%2C%20%5B37.888842%2C%20-122.254155%5D%2C%20%5B37.868339%2C%20-122.290388%5D%2C%20%5B37.869685%2C%20-122.272804%5D%2C%20%5B37.853079%2C%20-122.293864%5D%2C%20%5B37.850899%2C%20-122.276174%5D%2C%20%5B37.863053%2C%20-122.267321%5D%2C%20%5B37.869764%2C%20-122.28655%5D%2C%20%5B37.867816%2C%20-122.258994%5D%2C%20%5B37.869685%2C%20-122.272804%5D%2C%20%5B37.866761%2C%20-122.258779%5D%2C%20%5B37.868352%2C%20-122.254459%5D%2C%20%5B37.877951%2C%20-122.271395%5D%2C%20%5B37.863811%2C%20-122.267412%5D%2C%20%5B37.875132%2C%20-122.293103%5D%2C%20%5B37.871828%2C%20-122.270516%5D%2C%20%5B37.880756%2C%20-122.303056%5D%2C%20%5B37.859184%2C%20-122.289022%5D%2C%20%5B37.866761%2C%20-122.258779%5D%2C%20%5B37.861511%2C%20-122.29681%5D%2C%20%5B37.88014%2C%20-122.297498%5D%2C%20%5B37.859195%2C%20-122.261915%5D%2C%20%5B37.858628%2C%20-122.250783%5D%2C%20%5B37.869888%2C%20-122.300618%5D%2C%20%5B37.854534%2C%20-122.281798%5D%2C%20%5B37.876307%2C%20-122.268923%5D%2C%20%5B37.868667%2C%20-122.313656%5D%2C%20%5B37.858356%2C%20-122.253179%5D%2C%20%5B37.871461%2C%20-122.270706%5D%2C%20%5B37.882199%2C%20-122.268386%5D%2C%20%5B37.878378%2C%20-122.297029%5D%2C%20%5B37.867822%2C%20-122.266003%5D%2C%20%5B37.855824%2C%20-122.247116%5D%2C%20%5B37.850444%2C%20-122.288866%5D%2C%20%5B37.850385%2C%20-122.270897%5D%2C%20%5B37.875053%2C%20-122.26548%5D%2C%20%5B37.865816%2C%20-122.281601%5D%2C%20%5B37.867513%2C%20-122.26127%5D%2C%20%5B37.88055%2C%20-122.304962%5D%2C%20%5B37.864827%2C%20-122.258577%5D%2C%20%5B37.868747%2C%20-122.287342%5D%2C%20%5B37.870287%2C%20-122.316238%5D%2C%20%5B37.873085%2C%20-122.273187%5D%2C%20%5B37.879335%2C%20-122.301332%5D%2C%20%5B37.868785%2C%20-122.272701%5D%2C%20%5B37.876965%2C%20-122.260544%5D%2C%20%5B37.874581%2C%20-122.277744%5D%2C%20%5B37.887747%2C%20-122.264514%5D%2C%20%5B37.86277%2C%20-122.297218%5D%2C%20%5B37.865374%2C%20-122.256511%5D%2C%20%5B37.868785%2C%20-122.272701%5D%2C%20%5B37.861285%2C%20-122.259979%5D%2C%20%5B37.853959%2C%20-122.284067%5D%2C%20%5B37.850541%2C%20-122.286037%5D%2C%20%5B37.880756%2C%20-122.303056%5D%2C%20%5B37.853552%2C%20-122.291561%5D%2C%20%5B37.857377%2C%20-122.268709%5D%2C%20%5B37.863369%2C%20-122.257622%5D%2C%20%5B37.868204%2C%20-122.270054%5D%2C%20%5B37.863353%2C%20-122.272097%5D%2C%20%5B37.894836%2C%20-122.268516%5D%2C%20%5B37.856132%2C%20-122.271292%5D%2C%20%5B37.871167%2C%20-122.268285%5D%2C%20%5B37.853218%2C%20-122.258076%5D%2C%20%5B37.875142%2C%20-122.280314%5D%2C%20%5B37.87991%2C%20-122.25727%5D%2C%20%5B37.868204%2C%20-122.270054%5D%2C%20%5B37.870867%2C%20-122.270635%5D%2C%20%5B37.870298%2C%20-122.275101%5D%2C%20%5B37.85968%2C%20-122.255796%5D%2C%20%5B37.888072%2C%20-122.272344%5D%2C%20%5B37.851568%2C%20-122.251451%5D%2C%20%5B37.882258%2C%20-122.299991%5D%2C%20%5B37.880756%2C%20-122.303056%5D%2C%20%5B37.879677%2C%20-122.299779%5D%2C%20%5B37.863611%2C%20-122.317566%5D%2C%20%5B37.868714%2C%20-122.259189%5D%2C%20%5B37.871883%2C%20-122.301255%5D%2C%20%5B37.856111%2C%20-122.260248%5D%2C%20%5B37.868714%2C%20-122.259189%5D%2C%20%5B37.882739%2C%20-122.293754%5D%2C%20%5B37.869363%2C%20-122.268028%5D%2C%20%5B37.861604%2C%20-122.264366%5D%2C%20%5B37.869685%2C%20-122.272804%5D%2C%20%5B37.889399%2C%20-122.262594%5D%2C%20%5B37.864013%2C%20-122.25259%5D%2C%20%5B37.869764%2C%20-122.28655%5D%2C%20%5B37.863611%2C%20-122.317566%5D%2C%20%5B37.856111%2C%20-122.260248%5D%2C%20%5B37.863053%2C%20-122.267321%5D%2C%20%5B37.861627%2C%20-122.285466%5D%2C%20%5B37.856111%2C%20-122.260248%5D%2C%20%5B37.868957%2C%20-122.254552%5D%2C%20%5B37.855435%2C%20-122.259841%5D%2C%20%5B37.88014%2C%20-122.297498%5D%2C%20%5B37.870603%2C%20-122.270612%5D%2C%20%5B37.872084%2C%20-122.300218%5D%2C%20%5B37.879968%2C%20-122.296885%5D%2C%20%5B37.865511%2C%20-122.309967%5D%2C%20%5B37.874489%2C%20-122.271072%5D%2C%20%5B37.881142%2C%20-122.30191%5D%2C%20%5B37.846404%2C%20-122.275263%5D%2C%20%5B37.867383%2C%20-122.293938%5D%2C%20%5B37.88878%2C%20-122.267659%5D%2C%20%5B37.883948%2C%20-122.296991%5D%2C%20%5B37.880228%2C%20-122.295798%5D%2C%20%5B37.862927%2C%20-122.258784%5D%2C%20%5B37.870011%2C%20-122.3179%5D%2C%20%5B37.853959%2C%20-122.284067%5D%2C%20%5B37.873687%2C%20-122.268616%5D%2C%20%5B37.852529%2C%20-122.247255%5D%2C%20%5B37.879129%2C%20-122.302478%5D%2C%20%5B37.871167%2C%20-122.268285%5D%2C%20%5B37.871167%2C%20-122.268285%5D%2C%20%5B37.86793%2C%20-122.251798%5D%2C%20%5B37.871883%2C%20-122.301255%5D%2C%20%5B37.901043%2C%20-122.266471%5D%2C%20%5B37.871167%2C%20-122.268285%5D%2C%20%5B37.878005%2C%20-122.257034%5D%2C%20%5B37.851928%2C%20-122.274017%5D%2C%20%5B37.88878%2C%20-122.267659%5D%2C%20%5B37.870603%2C%20-122.270612%5D%2C%20%5B37.873687%2C%20-122.268616%5D%2C%20%5B37.855793%2C%20-122.281493%5D%2C%20%5B37.868447%2C%20-122.261268%5D%2C%20%5B37.869363%2C%20-122.268028%5D%2C%20%5B37.869312%2C%20-122.254314%5D%2C%20%5B37.857377%2C%20-122.268709%5D%2C%20%5B37.851324%2C%20-122.272873%5D%2C%20%5B37.865149%2C%20-122.256487%5D%2C%20%5B37.869105%2C%20-122.270064%5D%2C%20%5B37.876084%2C%20-122.280105%5D%2C%20%5B37.890366%2C%20-122.266998%5D%2C%20%5B37.867613%2C%20-122.299898%5D%2C%20%5B37.880266%2C%20-122.269032%5D%2C%20%5B37.880652%2C%20-122.283181%5D%2C%20%5B37.862927%2C%20-122.258784%5D%2C%20%5B37.852236%2C%20-122.272856%5D%2C%20%5B37.847682%2C%20-122.279381%5D%2C%20%5B37.860334%2C%20-122.280567%5D%2C%20%5B37.869448%2C%20-122.281783%5D%2C%20%5B37.858993%2C%20-122.244574%5D%2C%20%5B37.873687%2C%20-122.268616%5D%2C%20%5B37.859364%2C%20-122.288914%5D%2C%20%5B37.866919%2C%20-122.258812%5D%2C%20%5B37.869105%2C%20-122.270064%5D%2C%20%5B37.856078%2C%20-122.279311%5D%2C%20%5B37.88014%2C%20-122.297498%5D%2C%20%5B37.869058%2C%20-122.270455%5D%2C%20%5B37.875076%2C%20-122.299959%5D%2C%20%5B37.857099%2C%20-122.263785%5D%2C%20%5B37.879708%2C%20-122.297995%5D%2C%20%5B37.881433%2C%20-122.272921%5D%2C%20%5B37.869973%2C%20-122.270557%5D%2C%20%5B37.868722%2C%20-122.259123%5D%2C%20%5B37.871318%2C%20-122.275278%5D%2C%20%5B37.861843%2C%20-122.269644%5D%2C%20%5B37.89227%2C%20-122.253985%5D%2C%20%5B37.880228%2C%20-122.295798%5D%2C%20%5B37.887741%2C%20-122.254539%5D%2C%20%5B37.865511%2C%20-122.309967%5D%2C%20%5B37.855684%2C%20-122.263491%5D%2C%20%5B37.871828%2C%20-122.270516%5D%2C%20%5B37.854186%2C%20-122.279157%5D%2C%20%5B37.869973%2C%20-122.270557%5D%2C%20%5B37.865121%2C%20-122.258455%5D%2C%20%5B37.881849%2C%20-122.258126%5D%2C%20%5B37.862169%2C%20-122.267084%5D%2C%20%5B37.848453%2C%20-122.273607%5D%2C%20%5B37.89126%2C%20-122.281375%5D%2C%20%5B37.863679%2C%20-122.269631%5D%2C%20%5B37.858356%2C%20-122.253179%5D%2C%20%5B37.864333%2C%20-122.278792%5D%2C%20%5B37.876897%2C%20-122.28868%5D%2C%20%5B37.877269%2C%20-122.277968%5D%2C%20%5B37.901596%2C%20-122.270187%5D%2C%20%5B37.868815%2C%20-122.292131%5D%2C%20%5B37.871167%2C%20-122.268285%5D%2C%20%5B37.881433%2C%20-122.272921%5D%2C%20%5B37.862512%2C%20-122.290094%5D%2C%20%5B37.859988%2C%20-122.253339%5D%2C%20%5B37.879968%2C%20-122.296885%5D%2C%20%5B37.863977%2C%20-122.267307%5D%2C%20%5B37.871544%2C%20-122.272714%5D%2C%20%5B37.871246%2C%20-122.274991%5D%2C%20%5B37.857951%2C%20-122.271494%5D%2C%20%5B37.871689%2C%20-122.292898%5D%2C%20%5B37.866037%2C%20-122.265618%5D%2C%20%5B37.870603%2C%20-122.270612%5D%2C%20%5B37.880519%2C%20-122.267051%5D%2C%20%5B37.867852%2C%20-122.258699%5D%2C%20%5B37.898524%2C%20-122.267129%5D%2C%20%5B37.865205%2C%20-122.272027%5D%2C%20%5B37.860225%2C%20-122.269453%5D%2C%20%5B37.872691%2C%20-122.270741%5D%2C%20%5B37.879273%2C%20-122.255986%5D%2C%20%5B37.870054%2C%20-122.284263%5D%2C%20%5B37.87413%2C%20-122.26636%5D%2C%20%5B37.868204%2C%20-122.270054%5D%2C%20%5B37.853552%2C%20-122.291561%5D%2C%20%5B37.861078%2C%20-122.289632%5D%2C%20%5B37.849431%2C%20-122.278174%5D%2C%20%5B37.860116%2C%20-122.29166%5D%2C%20%5B37.868532%2C%20-122.274764%5D%2C%20%5B37.874557%2C%20-122.277936%5D%2C%20%5B37.871883%2C%20-122.301255%5D%2C%20%5B37.868204%2C%20-122.270054%5D%2C%20%5B37.867513%2C%20-122.26127%5D%2C%20%5B37.871828%2C%20-122.270516%5D%2C%20%5B37.868641%2C%20-122.29415%5D%2C%20%5B37.870948%2C%20-122.27733%5D%2C%20%5B37.868204%2C%20-122.270054%5D%2C%20%5B37.877696%2C%20-122.273684%5D%2C%20%5B37.86066%2C%20-122.253407%5D%2C%20%5B37.867501%2C%20-122.291709%5D%2C%20%5B37.864301%2C%20-122.279118%5D%2C%20%5B37.873687%2C%20-122.268616%5D%2C%20%5B37.848774%2C%20-122.271171%5D%2C%20%5B37.855671%2C%20-122.262461%5D%2C%20%5B37.853951%2C%20-122.273198%5D%2C%20%5B37.86825%2C%20-122.300093%5D%2C%20%5B37.867501%2C%20-122.291709%5D%2C%20%5B37.858356%2C%20-122.253179%5D%2C%20%5B37.847908%2C%20-122.277685%5D%2C%20%5B37.878737%2C%20-122.287386%5D%2C%20%5B37.874781%2C%20-122.268758%5D%2C%20%5B37.871246%2C%20-122.274991%5D%2C%20%5B37.885385%2C%20-122.273547%5D%2C%20%5B37.861078%2C%20-122.289632%5D%2C%20%5B37.853626%2C%20-122.254874%5D%2C%20%5B37.861387%2C%20-122.259001%5D%2C%20%5B37.853638%2C%20-122.289588%5D%2C%20%5B37.870957%2C%20-122.247905%5D%2C%20%5B37.863679%2C%20-122.269631%5D%2C%20%5B37.864535%2C%20-122.262993%5D%2C%20%5B37.868103%2C%20-122.25672%5D%2C%20%5B37.853864%2C%20-122.285643%5D%2C%20%5B37.869058%2C%20-122.270455%5D%2C%20%5B37.882024%2C%20-122.29756%5D%2C%20%5B37.873454%2C%20-122.27209%5D%2C%20%5B37.868263%2C%20-122.296013%5D%2C%20%5B37.883798%2C%20-122.268567%5D%2C%20%5B37.875166%2C%20-122.280125%5D%2C%20%5B37.868714%2C%20-122.259189%5D%2C%20%5B37.868714%2C%20-122.259189%5D%2C%20%5B37.852155%2C%20-122.28661%5D%2C%20%5B37.864827%2C%20-122.258577%5D%2C%20%5B37.857809%2C%20-122.271478%5D%2C%20%5B37.892795%2C%20-122.286521%5D%2C%20%5B37.863945%2C%20-122.294086%5D%2C%20%5B37.86626%2C%20-122.298335%5D%2C%20%5B37.869363%2C%20-122.268028%5D%2C%20%5B37.861118%2C%20-122.259948%5D%2C%20%5B37.875865%2C%20-122.261749%5D%2C%20%5B37.883684%2C%20-122.267485%5D%2C%20%5B37.869688%2C%20-122.272805%5D%2C%20%5B37.863977%2C%20-122.267307%5D%2C%20%5B37.877037%2C%20-122.278186%5D%2C%20%5B37.868714%2C%20-122.259189%5D%2C%20%5B37.878407%2C%20-122.267962%5D%2C%20%5B37.868785%2C%20-122.272701%5D%2C%20%5B37.87551%2C%20-122.291424%5D%2C%20%5B37.852618%2C%20-122.283677%5D%2C%20%5B37.868667%2C%20-122.313656%5D%2C%20%5B37.869105%2C%20-122.270064%5D%2C%20%5B37.866206%2C%20-122.29129%5D%2C%20%5B37.865535%2C%20-122.255235%5D%2C%20%5B37.888072%2C%20-122.272344%5D%2C%20%5B37.865511%2C%20-122.309967%5D%2C%20%5B37.867176%2C%20-122.267802%5D%2C%20%5B37.870054%2C%20-122.284263%5D%2C%20%5B37.87413%2C%20-122.26636%5D%2C%20%5B37.862927%2C%20-122.258784%5D%2C%20%5B37.862817%2C%20-122.298359%5D%2C%20%5B37.868714%2C%20-122.259189%5D%2C%20%5B37.889494%2C%20-122.269171%5D%2C%20%5B37.875053%2C%20-122.26548%5D%2C%20%5B37.867852%2C%20-122.279472%5D%2C%20%5B37.867176%2C%20-122.267802%5D%2C%20%5B37.869057%2C%20-122.270463%5D%2C%20%5B37.868706%2C%20-122.266279%5D%2C%20%5B37.863646%2C%20-122.262822%5D%2C%20%5B37.867613%2C%20-122.299898%5D%2C%20%5B37.867852%2C%20-122.258699%5D%2C%20%5B37.873085%2C%20-122.273187%5D%2C%20%5B37.864836%2C%20-122.299024%5D%2C%20%5B37.873454%2C%20-122.27209%5D%2C%20%5B37.871743%2C%20-122.271878%5D%2C%20%5B37.85062%2C%20-122.278313%5D%2C%20%5B37.867176%2C%20-122.267802%5D%2C%20%5B37.86542%2C%20-122.25618%5D%2C%20%5B37.850532%2C%20-122.286089%5D%2C%20%5B37.854265%2C%20-122.271133%5D%2C%20%5B37.867259%2C%20-122.26324%5D%2C%20%5B37.870856%2C%20-122.268258%5D%2C%20%5B37.857452%2C%20-122.259548%5D%2C%20%5B37.862763%2C%20-122.262639%5D%2C%20%5B37.872965%2C%20-122.305264%5D%2C%20%5B37.878868%2C%20-122.290083%5D%2C%20%5B37.881142%2C%20-122.30191%5D%2C%20%5B37.878056%2C%20-122.258553%5D%2C%20%5B37.879497%2C%20-122.280871%5D%2C%20%5B37.8531%2C%20-122.266131%5D%2C%20%5B37.871544%2C%20-122.272714%5D%2C%20%5B37.892795%2C%20-122.286521%5D%2C%20%5B37.863679%2C%20-122.269631%5D%2C%20%5B37.873454%2C%20-122.27209%5D%2C%20%5B37.876595%2C%20-122.267789%5D%2C%20%5B37.882033%2C%20-122.296381%5D%2C%20%5B37.852211%2C%20-122.286336%5D%2C%20%5B37.865511%2C%20-122.309967%5D%2C%20%5B37.855969%2C%20-122.236484%5D%2C%20%5B37.894256%2C%20-122.281603%5D%2C%20%5B37.852211%2C%20-122.286336%5D%2C%20%5B37.872545%2C%20-122.298043%5D%2C%20%5B37.873687%2C%20-122.268616%5D%2C%20%5B37.883798%2C%20-122.268567%5D%2C%20%5B37.8719%2C%20-122.268389%5D%2C%20%5B37.867212%2C%20-122.281739%5D%2C%20%5B37.879497%2C%20-122.280871%5D%2C%20%5B37.870308%2C%20-122.26805%5D%2C%20%5B37.869688%2C%20-122.272805%5D%2C%20%5B37.870652%2C%20-122.27958%5D%2C%20%5B37.856111%2C%20-122.260248%5D%2C%20%5B37.865375%2C%20-122.31063%5D%2C%20%5B37.863611%2C%20-122.317566%5D%2C%20%5B37.869652%2C%20-122.265882%5D%2C%20%5B37.856132%2C%20-122.271292%5D%2C%20%5B37.871369%2C%20-122.292954%5D%2C%20%5B37.862763%2C%20-122.262639%5D%2C%20%5B37.864301%2C%20-122.279118%5D%2C%20%5B37.851263%2C%20-122.252477%5D%2C%20%5B37.890366%2C%20-122.266998%5D%2C%20%5B37.85491%2C%20-122.268666%5D%2C%20%5B37.874002%2C%20-122.267488%5D%2C%20%5B37.880228%2C%20-122.295798%5D%2C%20%5B37.852066%2C%20-122.29388%5D%2C%20%5B37.868898%2C%20-122.243093%5D%2C%20%5B37.869058%2C%20-122.270455%5D%2C%20%5B37.855294%2C%20-122.292475%5D%2C%20%5B37.878997%2C%20-122.264607%5D%2C%20%5B37.868325%2C%20-122.269125%5D%2C%20%5B37.88192%2C%20-122.270485%5D%2C%20%5B37.880859%2C%20-122.287774%5D%2C%20%5B37.891755%2C%20-122.269881%5D%2C%20%5B37.875826%2C%20-122.273495%5D%2C%20%5B37.850385%2C%20-122.270897%5D%2C%20%5B37.868913%2C%20-122.28608%5D%2C%20%5B37.862763%2C%20-122.262639%5D%2C%20%5B37.867513%2C%20-122.26127%5D%2C%20%5B37.883103%2C%20-122.275404%5D%2C%20%5B37.898168%2C%20-122.262253%5D%2C%20%5B37.856111%2C%20-122.260248%5D%2C%20%5B37.880756%2C%20-122.303056%5D%2C%20%5B37.865954%2C%20-122.267529%5D%2C%20%5B37.865772%2C%20-122.267643%5D%2C%20%5B37.867852%2C%20-122.258699%5D%2C%20%5B37.852236%2C%20-122.272856%5D%2C%20%5B37.850899%2C%20-122.276174%5D%2C%20%5B37.883798%2C%20-122.268567%5D%2C%20%5B37.871369%2C%20-122.292954%5D%2C%20%5B37.859802%2C%20-122.267177%5D%2C%20%5B37.850385%2C%20-122.270897%5D%2C%20%5B37.860334%2C%20-122.280567%5D%2C%20%5B37.868591%2C%20-122.294393%5D%2C%20%5B37.87227%2C%20-122.266144%5D%2C%20%5B37.859988%2C%20-122.253339%5D%2C%20%5B37.860265%2C%20-122.289213%5D%2C%20%5B37.863646%2C%20-122.262822%5D%2C%20%5B37.867176%2C%20-122.267802%5D%2C%20%5B37.867513%2C%20-122.26127%5D%2C%20%5B37.860225%2C%20-122.269453%5D%2C%20%5B37.867805%2C%20-122.291809%5D%2C%20%5B37.889989%2C%20-122.252226%5D%2C%20%5B37.869685%2C%20-122.272804%5D%2C%20%5B37.857377%2C%20-122.268709%5D%2C%20%5B37.869888%2C%20-122.300618%5D%2C%20%5B37.860386%2C%20-122.273725%5D%2C%20%5B37.869113%2C%20-122.250903%5D%2C%20%5B37.863611%2C%20-122.317566%5D%2C%20%5B37.880228%2C%20-122.295798%5D%2C%20%5B37.851107%2C%20-122.28324%5D%2C%20%5B37.861118%2C%20-122.259948%5D%2C%20%5B37.871265%2C%20-122.295043%5D%2C%20%5B37.866513%2C%20-122.27474%5D%2C%20%5B37.856974%2C%20-122.26485%5D%2C%20%5B37.877696%2C%20-122.273684%5D%2C%20%5B37.872992%2C%20-122.295801%5D%2C%20%5B37.881957%2C%20-122.269551%5D%2C%20%5B37.857377%2C%20-122.268709%5D%2C%20%5B37.868204%2C%20-122.270054%5D%2C%20%5B37.86139%2C%20-122.280449%5D%2C%20%5B37.87091%2C%20-122.265993%5D%2C%20%5B37.851521%2C%20-122.28549%5D%2C%20%5B37.873024%2C%20-122.294652%5D%2C%20%5B37.878114%2C%20-122.280634%5D%2C%20%5B37.869363%2C%20-122.268028%5D%2C%20%5B37.873678%2C%20-122.269765%5D%2C%20%5B37.857377%2C%20-122.268709%5D%2C%20%5B37.872691%2C%20-122.270741%5D%2C%20%5B37.878113%2C%20-122.269114%5D%2C%20%5B37.876307%2C%20-122.268923%5D%2C%20%5B37.871369%2C%20-122.292954%5D%2C%20%5B37.864827%2C%20-122.258577%5D%2C%20%5B37.86727%2C%20-122.291472%5D%2C%20%5B37.848292%2C%20-122.271773%5D%2C%20%5B37.868667%2C%20-122.313656%5D%2C%20%5B37.862264%2C%20-122.250972%5D%2C%20%5B37.863811%2C%20-122.267412%5D%2C%20%5B37.86328%2C%20-122.297383%5D%2C%20%5B37.867291%2C%20-122.270245%5D%2C%20%5B37.891214%2C%20-122.282158%5D%2C%20%5B37.869685%2C%20-122.272804%5D%2C%20%5B37.869363%2C%20-122.268028%5D%2C%20%5B37.872691%2C%20-122.270741%5D%2C%20%5B37.855026%2C%20-122.266475%5D%2C%20%5B37.866739%2C%20-122.267299%5D%2C%20%5B37.878239%2C%20-122.288374%5D%2C%20%5B37.888072%2C%20-122.272344%5D%2C%20%5B37.857437%2C%20-122.268263%5D%2C%20%5B37.879335%2C%20-122.301332%5D%2C%20%5B37.868701%2C%20-122.252097%5D%2C%20%5B37.869839%2C%20-122.252365%5D%2C%20%5B37.869105%2C%20-122.270064%5D%2C%20%5B37.850434%2C%20-122.272607%5D%2C%20%5B37.855632%2C%20-122.256606%5D%2C%20%5B37.867613%2C%20-122.299898%5D%2C%20%5B37.869688%2C%20-122.272805%5D%2C%20%5B37.865945%2C%20-122.250471%5D%2C%20%5B37.861078%2C%20-122.289632%5D%2C%20%5B37.860993%2C%20-122.262104%5D%2C%20%5B37.868366%2C%20-122.295508%5D%2C%20%5B37.871246%2C%20-122.274991%5D%2C%20%5B37.858116%2C%20-122.268002%5D%2C%20%5B37.861944%2C%20-122.294607%5D%2C%20%5B37.865511%2C%20-122.309967%5D%2C%20%5B37.871246%2C%20-122.274991%5D%2C%20%5B37.875076%2C%20-122.299959%5D%2C%20%5B37.85491%2C%20-122.268666%5D%2C%20%5B37.862471%2C%20-122.271904%5D%2C%20%5B37.871167%2C%20-122.268285%5D%2C%20%5B37.858356%2C%20-122.253179%5D%2C%20%5B37.861478%2C%20-122.297948%5D%2C%20%5B37.86331%2C%20-122.316113%5D%2C%20%5B37.880227%2C%20-122.26936%5D%2C%20%5B37.88014%2C%20-122.297498%5D%2C%20%5B37.858047%2C%20-122.245306%5D%2C%20%5B37.878552%2C%20-122.266844%5D%2C%20%5B37.859309%2C%20-122.259291%5D%2C%20%5B37.868161%2C%20-122.291751%5D%2C%20%5B37.859364%2C%20-122.288914%5D%2C%20%5B37.873687%2C%20-122.268616%5D%2C%20%5B37.871317%2C%20-122.286575%5D%2C%20%5B37.874802%2C%20-122.29615%5D%2C%20%5B37.870054%2C%20-122.284263%5D%2C%20%5B37.871689%2C%20-122.292898%5D%2C%20%5B37.871593%2C%20-122.279879%5D%2C%20%5B37.864238%2C%20-122.265263%5D%2C%20%5B37.882033%2C%20-122.296381%5D%2C%20%5B37.871171%2C%20-122.267718%5D%2C%20%5B37.877269%2C%20-122.277968%5D%2C%20%5B37.870652%2C%20-122.27958%5D%2C%20%5B37.869058%2C%20-122.270455%5D%2C%20%5B37.872989%2C%20-122.268532%5D%2C%20%5B37.866929%2C%20-122.295042%5D%2C%20%5B37.85489%2C%20-122.252564%5D%2C%20%5B37.872656%2C%20-122.292748%5D%2C%20%5B37.848611%2C%20-122.271561%5D%2C%20%5B37.891368%2C%20-122.279257%5D%2C%20%5B37.863611%2C%20-122.317566%5D%2C%20%5B37.881957%2C%20-122.269551%5D%2C%20%5B37.856121%2C%20-122.26876%5D%2C%20%5B37.871167%2C%20-122.268285%5D%2C%20%5B37.869764%2C%20-122.28655%5D%2C%20%5B37.875218%2C%20-122.294052%5D%2C%20%5B37.883798%2C%20-122.268567%5D%2C%20%5B37.867176%2C%20-122.267802%5D%2C%20%5B37.871828%2C%20-122.270516%5D%2C%20%5B37.869363%2C%20-122.268028%5D%2C%20%5B37.87551%2C%20-122.291424%5D%2C%20%5B37.861843%2C%20-122.269644%5D%2C%20%5B37.881957%2C%20-122.269551%5D%2C%20%5B37.881366%2C%20-122.289688%5D%2C%20%5B37.862927%2C%20-122.258784%5D%2C%20%5B37.869973%2C%20-122.270557%5D%2C%20%5B37.864144%2C%20-122.280257%5D%2C%20%5B37.878113%2C%20-122.269114%5D%2C%20%5B37.868878%2C%20-122.300284%5D%2C%20%5B37.880228%2C%20-122.295798%5D%2C%20%5B37.870243%2C%20-122.275149%5D%2C%20%5B37.87084%2C%20-122.289678%5D%2C%20%5B37.870948%2C%20-122.27733%5D%2C%20%5B37.853552%2C%20-122.291561%5D%2C%20%5B37.869973%2C%20-122.270557%5D%2C%20%5B37.878552%2C%20-122.266844%5D%2C%20%5B37.892824%2C%20-122.272717%5D%2C%20%5B37.859906%2C%20-122.284931%5D%2C%20%5B37.873687%2C%20-122.268616%5D%2C%20%5B37.868204%2C%20-122.270054%5D%2C%20%5B37.865511%2C%20-122.309967%5D%2C%20%5B37.861265%2C%20-122.26698%5D%2C%20%5B37.865205%2C%20-122.272027%5D%2C%20%5B37.880756%2C%20-122.303056%5D%2C%20%5B37.882217%2C%20-122.302226%5D%2C%20%5B37.878005%2C%20-122.257034%5D%2C%20%5B37.861758%2C%20-122.30024%5D%2C%20%5B37.871828%2C%20-122.270516%5D%2C%20%5B37.861591%2C%20-122.254736%5D%2C%20%5B37.872545%2C%20-122.298043%5D%2C%20%5B37.873327%2C%20-122.273214%5D%2C%20%5B37.863072%2C%20-122.260352%5D%2C%20%5B37.869114%2C%20-122.249327%5D%2C%20%5B37.870396%2C%20-122.281585%5D%2C%20%5B37.870205%2C%20-122.292581%5D%2C%20%5B37.869363%2C%20-122.268028%5D%2C%20%5B37.85976%2C%20-122.257034%5D%2C%20%5B37.88674%2C%20-122.262299%5D%2C%20%5B37.879167%2C%20-122.279479%5D%2C%20%5B37.847568%2C%20-122.273387%5D%2C%20%5B37.868714%2C%20-122.259189%5D%2C%20%5B37.866265%2C%20-122.278162%5D%2C%20%5B37.869688%2C%20-122.272805%5D%2C%20%5B37.871167%2C%20-122.268285%5D%2C%20%5B37.866563%2C%20-122.297217%5D%2C%20%5B37.864072%2C%20-122.251438%5D%2C%20%5B37.878737%2C%20-122.287386%5D%2C%20%5B37.873639%2C%20-122.27064%5D%2C%20%5B37.863369%2C%20-122.257622%5D%2C%20%5B37.858356%2C%20-122.253179%5D%2C%20%5B37.869385%2C%20-122.28953%5D%2C%20%5B37.868785%2C%20-122.272701%5D%2C%20%5B37.856755%2C%20-122.255249%5D%2C%20%5B37.871167%2C%20-122.268285%5D%2C%20%5B37.871883%2C%20-122.301255%5D%2C%20%5B37.868204%2C%20-122.270054%5D%2C%20%5B37.849814%2C%20-122.281093%5D%2C%20%5B37.896648%2C%20-122.277424%5D%2C%20%5B37.867513%2C%20-122.26127%5D%2C%20%5B37.876921%2C%20-122.265567%5D%2C%20%5B37.87325%2C%20-122.293558%5D%2C%20%5B37.872002%2C%20-122.276687%5D%2C%20%5B37.869652%2C%20-122.265882%5D%2C%20%5B37.852304%2C%20-122.270045%5D%2C%20%5B37.861265%2C%20-122.26698%5D%2C%20%5B37.874575%2C%20-122.284796%5D%2C%20%5B37.871369%2C%20-122.292954%5D%2C%20%5B37.871311%2C%20-122.281978%5D%2C%20%5B37.882258%2C%20-122.299991%5D%2C%20%5B37.856111%2C%20-122.260248%5D%2C%20%5B37.866311%2C%20-122.256361%5D%2C%20%5B37.86331%2C%20-122.316113%5D%2C%20%5B37.86456%2C%20-122.269954%5D%2C%20%5B37.880228%2C%20-122.295798%5D%2C%20%5B37.868714%2C%20-122.259189%5D%2C%20%5B37.871461%2C%20-122.270706%5D%2C%20%5B37.859309%2C%20-122.259291%5D%2C%20%5B37.874581%2C%20-122.277744%5D%2C%20%5B37.85488%2C%20-122.269079%5D%2C%20%5B37.868714%2C%20-122.259189%5D%2C%20%5B37.868204%2C%20-122.270054%5D%2C%20%5B37.870205%2C%20-122.292581%5D%2C%20%5B37.861645%2C%20-122.253508%5D%2C%20%5B37.866981%2C%20-122.302083%5D%2C%20%5B37.880756%2C%20-122.303056%5D%2C%20%5B37.860821%2C%20-122.251087%5D%2C%20%5B37.856614%2C%20-122.267596%5D%2C%20%5B37.88637%2C%20-122.26434%5D%2C%20%5B37.866987%2C%20-122.272507%5D%2C%20%5B37.869105%2C%20-122.270064%5D%2C%20%5B37.872563%2C%20-122.284648%5D%2C%20%5B37.866025%2C%20-122.258623%5D%2C%20%5B37.862763%2C%20-122.262639%5D%2C%20%5B37.88014%2C%20-122.297498%5D%2C%20%5B37.869363%2C%20-122.268028%5D%2C%20%5B37.872468%2C%20-122.286902%5D%2C%20%5B37.867513%2C%20-122.26127%5D%2C%20%5B37.875218%2C%20-122.294052%5D%2C%20%5B37.868815%2C%20-122.292131%5D%2C%20%5B37.862927%2C%20-122.258784%5D%2C%20%5B37.866936%2C%20-122.296218%5D%2C%20%5B37.868204%2C%20-122.270054%5D%2C%20%5B37.867501%2C%20-122.291709%5D%2C%20%5B37.871265%2C%20-122.295043%5D%2C%20%5B37.868164%2C%20-122.256314%5D%2C%20%5B37.872691%2C%20-122.270741%5D%2C%20%5B37.866936%2C%20-122.296218%5D%2C%20%5B37.865202%2C%20-122.257795%5D%2C%20%5B37.89083%2C%20-122.264096%5D%2C%20%5B37.856698%2C%20-122.290343%5D%2C%20%5B37.847908%2C%20-122.277685%5D%2C%20%5B37.859988%2C%20-122.253339%5D%2C%20%5B37.858116%2C%20-122.268002%5D%2C%20%5B37.851263%2C%20-122.252477%5D%2C%20%5B37.866253%2C%20-122.299483%5D%2C%20%5B37.872166%2C%20-122.275372%5D%2C%20%5B37.896429%2C%20-122.285145%5D%2C%20%5B37.858483%2C%20-122.253191%5D%2C%20%5B37.869363%2C%20-122.268028%5D%2C%20%5B37.895119%2C%20-122.261389%5D%2C%20%5B37.875189%2C%20-122.294176%5D%2C%20%5B37.869363%2C%20-122.268028%5D%2C%20%5B37.869617%2C%20-122.295925%5D%2C%20%5B37.867383%2C%20-122.293938%5D%2C%20%5B37.877863%2C%20-122.308855%5D%2C%20%5B37.853875%2C%20-122.260048%5D%2C%20%5B37.888897%2C%20-122.276185%5D%2C%20%5B37.880756%2C%20-122.303056%5D%2C%20%5B37.86825%2C%20-122.300093%5D%2C%20%5B37.87551%2C%20-122.291424%5D%2C%20%5B37.866936%2C%20-122.296218%5D%2C%20%5B37.873202%2C%20-122.267443%5D%2C%20%5B37.859988%2C%20-122.253339%5D%2C%20%5B37.869363%2C%20-122.268028%5D%2C%20%5B37.854833%2C%20-122.279839%5D%2C%20%5B37.880228%2C%20-122.295798%5D%2C%20%5B37.860225%2C%20-122.269453%5D%2C%20%5B37.852348%2C%20-122.271972%5D%2C%20%5B37.868355%2C%20-122.274953%5D%2C%20%5B37.866025%2C%20-122.258623%5D%2C%20%5B37.866534%2C%20-122.275897%5D%2C%20%5B37.86542%2C%20-122.25618%5D%2C%20%5B37.879653%2C%20-122.299139%5D%2C%20%5B37.883529%2C%20-122.259884%5D%2C%20%5B37.882033%2C%20-122.296381%5D%2C%20%5B37.867176%2C%20-122.267802%5D%2C%20%5B37.872175%2C%20-122.267835%5D%2C%20%5B37.893954%2C%20-122.260697%5D%2C%20%5B37.881776%2C%20-122.260421%5D%2C%20%5B37.855509%2C%20-122.291368%5D%2C%20%5B37.856121%2C%20-122.26876%5D%2C%20%5B37.863379%2C%20-122.28494%5D%2C%20%5B37.881957%2C%20-122.269551%5D%2C%20%5B37.871167%2C%20-122.268285%5D%2C%20%5B37.861285%2C%20-122.259979%5D%2C%20%5B37.871883%2C%20-122.301255%5D%2C%20%5B37.871883%2C%20-122.301255%5D%2C%20%5B37.860732%2C%20-122.291369%5D%2C%20%5B37.863646%2C%20-122.262822%5D%2C%20%5B37.898747%2C%20-122.266109%5D%2C%20%5B37.880227%2C%20-122.26936%5D%2C%20%5B37.867831%2C%20-122.265858%5D%2C%20%5B37.873885%2C%20-122.266332%5D%2C%20%5B37.868915%2C%20-122.293322%5D%2C%20%5B37.857336%2C%20-122.290797%5D%2C%20%5B37.847421%2C%20-122.28133%5D%2C%20%5B37.882491%2C%20-122.287145%5D%2C%20%5B37.850681%2C%20-122.270619%5D%2C%20%5B37.871235%2C%20-122.304461%5D%2C%20%5B37.86581%2C%20-122.301707%5D%2C%20%5B37.861078%2C%20-122.289632%5D%2C%20%5B37.876321%2C%20-122.258058%5D%2C%20%5B37.869625%2C%20-122.265892%5D%2C%20%5B37.879708%2C%20-122.297995%5D%2C%20%5B37.855435%2C%20-122.259841%5D%2C%20%5B37.88014%2C%20-122.297498%5D%2C%20%5B37.872099%2C%20-122.288323%5D%2C%20%5B37.863368%2C%20-122.296921%5D%2C%20%5B37.873687%2C%20-122.268616%5D%2C%20%5B37.86476%2C%20-122.297852%5D%2C%20%5B37.871246%2C%20-122.274991%5D%2C%20%5B37.869385%2C%20-122.28953%5D%2C%20%5B37.862059%2C%20-122.281167%5D%2C%20%5B37.878113%2C%20-122.269114%5D%2C%20%5B37.871265%2C%20-122.295043%5D%2C%20%5B37.870924%2C%20-122.277518%5D%2C%20%5B37.868714%2C%20-122.259189%5D%2C%20%5B37.870652%2C%20-122.27958%5D%2C%20%5B37.86939%2C%20-122.267883%5D%2C%20%5B37.852211%2C%20-122.286336%5D%2C%20%5B37.873393%2C%20-122.286956%5D%2C%20%5B37.873908%2C%20-122.290025%5D%2C%20%5B37.877037%2C%20-122.278186%5D%2C%20%5B37.859614%2C%20-122.280268%5D%2C%20%5B37.854857%2C%20-122.262314%5D%2C%20%5B37.853603%2C%20-122.283961%5D%2C%20%5B37.866311%2C%20-122.256361%5D%2C%20%5B37.867513%2C%20-122.26127%5D%2C%20%5B37.876297%2C%20-122.27124%5D%2C%20%5B37.858903%2C%20-122.243972%5D%2C%20%5B37.871167%2C%20-122.268285%5D%2C%20%5B37.848453%2C%20-122.273607%5D%2C%20%5B37.876595%2C%20-122.267789%5D%2C%20%5B37.869105%2C%20-122.270064%5D%2C%20%5B37.8719%2C%20-122.268389%5D%2C%20%5B37.859216%2C%20-122.26855%5D%2C%20%5B37.848585%2C%20-122.272612%5D%2C%20%5B37.858525%2C%20-122.266906%5D%2C%20%5B37.873687%2C%20-122.268616%5D%2C%20%5B37.868682%2C%20-122.272691%5D%2C%20%5B37.868108%2C%20-122.277222%5D%2C%20%5B37.854102%2C%20-122.251059%5D%2C%20%5B37.874827%2C%20-122.275696%5D%2C%20%5B37.869363%2C%20-122.268028%5D%2C%20%5B37.849315%2C%20-122.279798%5D%2C%20%5B37.870417%2C%20-122.292485%5D%2C%20%5B37.880756%2C%20-122.303056%5D%2C%20%5B37.871883%2C%20-122.301255%5D%2C%20%5B37.8598%2C%20-122.264351%5D%2C%20%5B37.8808%2C%20-122.294036%5D%2C%20%5B37.853552%2C%20-122.291561%5D%2C%20%5B37.865772%2C%20-122.267643%5D%2C%20%5B37.879335%2C%20-122.301332%5D%2C%20%5B37.861265%2C%20-122.26698%5D%2C%20%5B37.88014%2C%20-122.297498%5D%2C%20%5B37.859682%2C%20-122.267008%5D%2C%20%5B37.866563%2C%20-122.297217%5D%2C%20%5B37.869363%2C%20-122.268028%5D%2C%20%5B37.852435%2C%20-122.270917%5D%2C%20%5B37.869307%2C%20-122.248958%5D%2C%20%5B37.871167%2C%20-122.268285%5D%2C%20%5B37.867501%2C%20-122.291709%5D%2C%20%5B37.88055%2C%20-122.304962%5D%2C%20%5B37.86476%2C%20-122.297852%5D%2C%20%5B37.889888%2C%20-122.252747%5D%2C%20%5B37.865772%2C%20-122.267643%5D%2C%20%5B37.869685%2C%20-122.272804%5D%2C%20%5B37.862817%2C%20-122.298359%5D%2C%20%5B37.870948%2C%20-122.27733%5D%2C%20%5B37.84905%2C%20-122.269098%5D%2C%20%5B37.879653%2C%20-122.299139%5D%2C%20%5B37.867176%2C%20-122.267802%5D%2C%20%5B37.863977%2C%20-122.267307%5D%2C%20%5B37.859988%2C%20-122.253339%5D%2C%20%5B37.880227%2C%20-122.26936%5D%2C%20%5B37.847262%2C%20-122.275622%5D%2C%20%5B37.866426%2C%20-122.269762%5D%2C%20%5B37.875391%2C%20-122.271141%5D%2C%20%5B37.861387%2C%20-122.259001%5D%2C%20%5B37.848152%2C%20-122.275807%5D%2C%20%5B37.867513%2C%20-122.26127%5D%2C%20%5B37.87561%2C%20-122.256143%5D%2C%20%5B37.873455%2C%20-122.293465%5D%2C%20%5B37.876549%2C%20-122.290899%5D%2C%20%5B37.877863%2C%20-122.308855%5D%2C%20%5B37.878113%2C%20-122.269114%5D%2C%20%5B37.869652%2C%20-122.265882%5D%2C%20%5B37.879773%2C%20-122.30623%5D%2C%20%5B37.866698%2C%20-122.297261%5D%2C%20%5B37.872691%2C%20-122.270741%5D%2C%20%5B37.857951%2C%20-122.271494%5D%2C%20%5B37.855824%2C%20-122.247116%5D%2C%20%5B37.85704%2C%20-122.25306%5D%2C%20%5B37.867708%2C%20-122.250801%5D%2C%20%5B37.870308%2C%20-122.26805%5D%2C%20%5B37.848606%2C%20-122.279588%5D%2C%20%5B37.865535%2C%20-122.255235%5D%2C%20%5B37.86456%2C%20-122.269954%5D%2C%20%5B37.875281%2C%20-122.293681%5D%2C%20%5B37.847281%2C%20-122.27545%5D%2C%20%5B37.867383%2C%20-122.293938%5D%2C%20%5B37.87227%2C%20-122.266144%5D%2C%20%5B37.847442%2C%20-122.281175%5D%2C%20%5B37.867501%2C%20-122.291709%5D%2C%20%5B37.873885%2C%20-122.266332%5D%2C%20%5B37.865511%2C%20-122.309967%5D%2C%20%5B37.876921%2C%20-122.265567%5D%2C%20%5B37.893448%2C%20-122.272137%5D%2C%20%5B37.863679%2C%20-122.269631%5D%2C%20%5B37.868927%2C%20-122.278414%5D%2C%20%5B37.870187%2C%20-122.265743%5D%2C%20%5B37.869058%2C%20-122.270455%5D%2C%20%5B37.85488%2C%20-122.269079%5D%2C%20%5B37.864908%2C%20-122.267289%5D%2C%20%5B37.879747%2C%20-122.25883%5D%2C%20%5B37.880227%2C%20-122.26936%5D%2C%20%5B37.863611%2C%20-122.317566%5D%2C%20%5B37.867513%2C%20-122.25195%5D%2C%20%5B37.863353%2C%20-122.265053%5D%2C%20%5B37.871828%2C%20-122.270516%5D%2C%20%5B37.869058%2C%20-122.270455%5D%2C%20%5B37.880228%2C%20-122.295798%5D%2C%20%5B37.876085%2C%20-122.306138%5D%2C%20%5B37.873687%2C%20-122.268616%5D%2C%20%5B37.87227%2C%20-122.266144%5D%2C%20%5B37.870205%2C%20-122.292581%5D%2C%20%5B37.88253%2C%20-122.280217%5D%2C%20%5B37.866899%2C%20-122.249742%5D%2C%20%5B37.872691%2C%20-122.270741%5D%2C%20%5B37.851928%2C%20-122.274017%5D%2C%20%5B37.873885%2C%20-122.266332%5D%2C%20%5B37.887199%2C%20-122.275869%5D%2C%20%5B37.902616%2C%20-122.263083%5D%2C%20%5B37.901596%2C%20-122.270187%5D%2C%20%5B37.867176%2C%20-122.267802%5D%2C%20%5B37.858214%2C%20-122.269252%5D%2C%20%5B37.894661%2C%20-122.27503%5D%2C%20%5B37.880021%2C%20-122.298091%5D%2C%20%5B37.896375%2C%20-122.262674%5D%2C%20%5B37.861313%2C%20-122.297894%5D%2C%20%5B37.865205%2C%20-122.272027%5D%2C%20%5B37.869363%2C%20-122.268028%5D%2C%20%5B37.867371%2C%20-122.281755%5D%2C%20%5B37.882064%2C%20-122.269357%5D%2C%20%5B37.880245%2C%20-122.296973%5D%2C%20%5B37.899107%2C%20-122.277273%5D%2C%20%5B37.855435%2C%20-122.259841%5D%2C%20%5B37.856111%2C%20-122.260248%5D%2C%20%5B37.864238%2C%20-122.265263%5D%2C%20%5B37.868957%2C%20-122.254552%5D%2C%20%5B37.858903%2C%20-122.243972%5D%2C%20%5B37.876333%2C%20-122.278118%5D%2C%20%5B37.857495%2C%20-122.275256%5D%2C%20%5B37.869363%2C%20-122.268028%5D%2C%20%5B37.867852%2C%20-122.258699%5D%2C%20%5B37.869058%2C%20-122.270455%5D%2C%20%5B37.865945%2C%20-122.250471%5D%2C%20%5B37.859854%2C%20-122.255807%5D%2C%20%5B37.855026%2C%20-122.266475%5D%2C%20%5B37.879901%2C%20-122.279902%5D%2C%20%5B37.868714%2C%20-122.259189%5D%2C%20%5B37.869229%2C%20-122.255004%5D%2C%20%5B37.868878%2C%20-122.300284%5D%2C%20%5B37.862512%2C%20-122.290094%5D%2C%20%5B37.862927%2C%20-122.258784%5D%2C%20%5B37.876307%2C%20-122.268923%5D%2C%20%5B37.87091%2C%20-122.265993%5D%2C%20%5B37.861204%2C%20-122.288752%5D%2C%20%5B37.888897%2C%20-122.276185%5D%2C%20%5B37.863611%2C%20-122.317566%5D%2C%20%5B37.878423%2C%20-122.269023%5D%2C%20%5B37.857951%2C%20-122.271494%5D%2C%20%5B37.871167%2C%20-122.268285%5D%2C%20%5B37.868747%2C%20-122.287342%5D%2C%20%5B37.85274%2C%20-122.283711%5D%2C%20%5B37.88014%2C%20-122.297498%5D%2C%20%5B37.870948%2C%20-122.27733%5D%2C%20%5B37.855684%2C%20-122.263491%5D%2C%20%5B37.858079%2C%20-122.243865%5D%2C%20%5B37.860766%2C%20-122.255895%5D%2C%20%5B37.855026%2C%20-122.266475%5D%2C%20%5B37.872166%2C%20-122.275372%5D%2C%20%5B37.855435%2C%20-122.259841%5D%2C%20%5B37.880971%2C%20-122.306626%5D%2C%20%5B37.869642%2C%20-122.287492%5D%2C%20%5B37.877951%2C%20-122.271395%5D%2C%20%5B37.860766%2C%20-122.255895%5D%2C%20%5B37.88014%2C%20-122.297498%5D%2C%20%5B37.865945%2C%20-122.250471%5D%2C%20%5B37.871167%2C%20-122.268285%5D%2C%20%5B37.865772%2C%20-122.267643%5D%2C%20%5B37.866739%2C%20-122.267299%5D%2C%20%5B37.873055%2C%20-122.282337%5D%2C%20%5B37.888792%2C%20-122.266538%5D%2C%20%5B37.868785%2C%20-122.272701%5D%2C%20%5B37.878642%2C%20-122.279173%5D%2C%20%5B37.899241%2C%20-122.265058%5D%2C%20%5B37.869888%2C%20-122.300618%5D%2C%20%5B37.878113%2C%20-122.269114%5D%2C%20%5B37.864908%2C%20-122.267289%5D%2C%20%5B37.867513%2C%20-122.26127%5D%2C%20%5B37.871593%2C%20-122.279879%5D%2C%20%5B37.861078%2C%20-122.289632%5D%2C%20%5B37.857809%2C%20-122.271478%5D%2C%20%5B37.869113%2C%20-122.250903%5D%2C%20%5B37.872847%2C%20-122.282313%5D%2C%20%5B37.869058%2C%20-122.270455%5D%2C%20%5B37.867291%2C%20-122.270245%5D%2C%20%5B37.869921%2C%20-122.294825%5D%2C%20%5B37.864238%2C%20-122.265263%5D%2C%20%5B37.853008%2C%20-122.286877%5D%2C%20%5B37.871883%2C%20-122.301255%5D%2C%20%5B37.869839%2C%20-122.252365%5D%2C%20%5B37.853552%2C%20-122.268286%5D%2C%20%5B37.871593%2C%20-122.279879%5D%2C%20%5B37.886401%2C%20-122.251877%5D%2C%20%5B37.856088%2C%20-122.29274%5D%2C%20%5B37.852529%2C%20-122.247255%5D%2C%20%5B37.876595%2C%20-122.267789%5D%2C%20%5B37.871544%2C%20-122.272714%5D%2C%20%5B37.88014%2C%20-122.297498%5D%2C%20%5B37.869839%2C%20-122.252365%5D%2C%20%5B37.879863%2C%20-122.282107%5D%2C%20%5B37.880227%2C%20-122.26936%5D%2C%20%5B37.871323%2C%20-122.267222%5D%2C%20%5B37.88177%2C%20-122.271663%5D%2C%20%5B37.866761%2C%20-122.258779%5D%2C%20%5B37.863611%2C%20-122.317566%5D%2C%20%5B37.858673%2C%20-122.273365%5D%2C%20%5B37.860766%2C%20-122.255895%5D%2C%20%5B37.85062%2C%20-122.278313%5D%2C%20%5B37.88014%2C%20-122.297498%5D%2C%20%5B37.864827%2C%20-122.258577%5D%2C%20%5B37.867317%2C%20-122.293982%5D%2C%20%5B37.867613%2C%20-122.299898%5D%2C%20%5B37.863611%2C%20-122.317566%5D%2C%20%5B37.865772%2C%20-122.267643%5D%2C%20%5B37.867259%2C%20-122.26324%5D%2C%20%5B37.864385%2C%20-122.290697%5D%2C%20%5B37.88014%2C%20-122.297498%5D%2C%20%5B37.869688%2C%20-122.272805%5D%2C%20%5B37.867259%2C%20-122.26324%5D%2C%20%5B37.870972%2C%20-122.288185%5D%2C%20%5B37.863611%2C%20-122.317566%5D%2C%20%5B37.86331%2C%20-122.316113%5D%2C%20%5B37.88014%2C%20-122.297498%5D%2C%20%5B37.882024%2C%20-122.29756%5D%2C%20%5B37.871246%2C%20-122.274991%5D%2C%20%5B37.860343%2C%20-122.266966%5D%2C%20%5B37.868447%2C%20-122.261268%5D%2C%20%5B37.867852%2C%20-122.258699%5D%2C%20%5B37.851017%2C%20-122.291088%5D%2C%20%5B37.883948%2C%20-122.296991%5D%2C%20%5B37.867601%2C%20-122.267718%5D%2C%20%5B37.879968%2C%20-122.296885%5D%2C%20%5B37.878772%2C%20-122.294276%5D%2C%20%5B37.878274%2C%20-122.297556%5D%2C%20%5B37.857216%2C%20-122.277614%5D%2C%20%5B37.859309%2C%20-122.259291%5D%2C%20%5B37.861078%2C%20-122.289632%5D%2C%20%5B37.869363%2C%20-122.268028%5D%2C%20%5B37.875053%2C%20-122.26548%5D%2C%20%5B37.878113%2C%20-122.269114%5D%2C%20%5B37.863611%2C%20-122.317566%5D%2C%20%5B37.867501%2C%20-122.291709%5D%2C%20%5B37.874929%2C%20-122.267601%5D%2C%20%5B37.879363%2C%20-122.301341%5D%2C%20%5B37.866761%2C%20-122.258779%5D%2C%20%5B37.891214%2C%20-122.282158%5D%2C%20%5B37.849431%2C%20-122.278174%5D%2C%20%5B37.891332%2C%20-122.279975%5D%2C%20%5B37.869067%2C%20-122.292043%5D%2C%20%5B37.853216%2C%20-122.281082%5D%2C%20%5B37.867852%2C%20-122.258699%5D%2C%20%5B37.894402%2C%20-122.278193%5D%2C%20%5B37.851569%2C%20-122.286424%5D%2C%20%5B37.869488%2C%20-122.289522%5D%2C%20%5B37.867307%2C%20-122.300468%5D%2C%20%5B37.879888%2C%20-122.285306%5D%2C%20%5B37.864238%2C%20-122.265263%5D%2C%20%5B37.873687%2C%20-122.268616%5D%2C%20%5B37.873454%2C%20-122.27209%5D%2C%20%5B37.879016%2C%20-122.264445%5D%2C%20%5B37.871246%2C%20-122.274991%5D%2C%20%5B37.853552%2C%20-122.291561%5D%2C%20%5B37.853741%2C%20-122.286339%5D%2C%20%5B37.883512%2C%20-122.27103%5D%2C%20%5B37.862927%2C%20-122.258784%5D%2C%20%5B37.861843%2C%20-122.269644%5D%2C%20%5B37.871246%2C%20-122.274991%5D%2C%20%5B37.868263%2C%20-122.296013%5D%2C%20%5B37.867831%2C%20-122.265858%5D%2C%20%5B37.88014%2C%20-122.297498%5D%2C%20%5B37.86925%2C%20-122.266076%5D%2C%20%5B37.877863%2C%20-122.308855%5D%2C%20%5B37.872691%2C%20-122.270741%5D%2C%20%5B37.875142%2C%20-122.280314%5D%2C%20%5B37.863945%2C%20-122.294086%5D%2C%20%5B37.860766%2C%20-122.255895%5D%2C%20%5B37.855435%2C%20-122.259841%5D%2C%20%5B37.866456%2C%20-122.251736%5D%2C%20%5B37.857825%2C%20-122.249088%5D%2C%20%5B37.866025%2C%20-122.258623%5D%2C%20%5B37.849431%2C%20-122.278174%5D%2C%20%5B37.868815%2C%20-122.292131%5D%2C%20%5B37.868447%2C%20-122.261268%5D%2C%20%5B37.869058%2C%20-122.270455%5D%2C%20%5B37.850385%2C%20-122.270897%5D%2C%20%5B37.871167%2C%20-122.268285%5D%2C%20%5B37.848752%2C%20-122.271331%5D%2C%20%5B37.855824%2C%20-122.247116%5D%2C%20%5B37.866327%2C%20-122.263359%5D%2C%20%5B37.86939%2C%20-122.267883%5D%2C%20%5B37.879921%2C%20-122.271646%5D%2C%20%5B37.869067%2C%20-122.292043%5D%2C%20%5B37.857876%2C%20-122.286598%5D%2C%20%5B37.88055%2C%20-122.304962%5D%2C%20%5B37.861573%2C%20-122.257452%5D%2C%20%5B37.880519%2C%20-122.267051%5D%2C%20%5B37.867852%2C%20-122.258699%5D%2C%20%5B37.861387%2C%20-122.259001%5D%2C%20%5B37.858903%2C%20-122.243972%5D%2C%20%5B37.882033%2C%20-122.296381%5D%2C%20%5B37.869105%2C%20-122.270064%5D%2C%20%5B37.867501%2C%20-122.291709%5D%2C%20%5B37.889803%2C%20-122.280904%5D%2C%20%5B37.863072%2C%20-122.260352%5D%2C%20%5B37.857776%2C%20-122.286576%5D%2C%20%5B37.886086%2C%20-122.266573%5D%2C%20%5B37.871246%2C%20-122.274991%5D%2C%20%5B37.854113%2C%20-122.27249%5D%2C%20%5B37.867383%2C%20-122.293938%5D%2C%20%5B37.867601%2C%20-122.267718%5D%2C%20%5B37.871246%2C%20-122.274991%5D%2C%20%5B37.878056%2C%20-122.258553%5D%2C%20%5B37.868641%2C%20-122.29415%5D%2C%20%5B37.877548%2C%20-122.26271%5D%2C%20%5B37.871883%2C%20-122.301255%5D%2C%20%5B37.871246%2C%20-122.274991%5D%2C%20%5B37.897148%2C%20-122.283475%5D%2C%20%5B37.871883%2C%20-122.301255%5D%2C%20%5B37.880228%2C%20-122.295798%5D%2C%20%5B37.868263%2C%20-122.296013%5D%2C%20%5B37.880312%2C%20-122.296641%5D%2C%20%5B37.869522%2C%20-122.27965%5D%2C%20%5B37.878423%2C%20-122.269023%5D%2C%20%5B37.861677%2C%20-122.26716%5D%2C%20%5B37.856614%2C%20-122.267596%5D%2C%20%5B37.872691%2C%20-122.270741%5D%2C%20%5B37.867513%2C%20-122.26127%5D%2C%20%5B37.855294%2C%20-122.292475%5D%2C%20%5B37.865868%2C%20-122.251595%5D%2C%20%5B37.875239%2C%20-122.284712%5D%2C%20%5B37.880227%2C%20-122.26936%5D%2C%20%5B37.87084%2C%20-122.289678%5D%2C%20%5B37.874802%2C%20-122.29615%5D%2C%20%5B37.868667%2C%20-122.313656%5D%2C%20%5B37.867972%2C%20-122.263699%5D%2C%20%5B37.883555%2C%20-122.272036%5D%2C%20%5B37.857533%2C%20-122.282557%5D%2C%20%5B37.880922%2C%20-122.303115%5D%2C%20%5B37.880227%2C%20-122.26936%5D%2C%20%5B37.855793%2C%20-122.281493%5D%2C%20%5B37.867513%2C%20-122.26127%5D%2C%20%5B37.877232%2C%20-122.271244%5D%2C%20%5B37.865868%2C%20-122.251595%5D%2C%20%5B37.862334%2C%20-122.264828%5D%2C%20%5B37.863611%2C%20-122.317566%5D%2C%20%5B37.862512%2C%20-122.290094%5D%2C%20%5B37.874845%2C%20-122.295237%5D%2C%20%5B37.862494%2C%20-122.278695%5D%2C%20%5B37.878113%2C%20-122.269114%5D%2C%20%5B37.882217%2C%20-122.302226%5D%2C%20%5B37.85236%2C%20-122.241635%5D%2C%20%5B37.863945%2C%20-122.294086%5D%2C%20%5B37.853552%2C%20-122.268286%5D%2C%20%5B37.866327%2C%20-122.263359%5D%2C%20%5B37.88253%2C%20-122.280217%5D%2C%20%5B37.885367%2C%20-122.25427%5D%2C%20%5B37.882016%2C%20-122.281271%5D%2C%20%5B37.881435%2C%20-122.289994%5D%2C%20%5B37.865826%2C%20-122.267244%5D%2C%20%5B37.866025%2C%20-122.258623%5D%2C%20%5B37.866253%2C%20-122.299483%5D%5D%2C%0A%20%20%20%20%20%20%20%20%20%20%20%20%20%20%20%20%7B%22blur%22%3A%2015%2C%20%22max%22%3A%201.0%2C%20%22maxZoom%22%3A%2018%2C%20%22minOpacity%22%3A%200.5%2C%20%22radius%22%3A%2010%7D%0A%20%20%20%20%20%20%20%20%20%20%20%20%29.addTo%28map_82b8b205aa8f476abc0ee4ef2c2b8ede%29%3B%0A%20%20%20%20%20%20%20%20%0A%3C/script%3E onload=\"this.contentDocument.open();this.contentDocument.write(    decodeURIComponent(this.getAttribute('data-html')));this.contentDocument.close();\" allowfullscreen webkitallowfullscreen mozallowfullscreen></iframe></div></div>"
      ],
      "text/plain": [
       "<folium.folium.Map at 0x7fd90355dfa0>"
      ]
     },
     "execution_count": 44,
     "metadata": {},
     "output_type": "execute_result"
    }
   ],
   "source": [
    "import folium\n",
    "import folium.plugins\n",
    "\n",
    "SF_COORDINATES = (37.87, -122.28)\n",
    "sf_map = folium.Map(location=SF_COORDINATES, zoom_start=13)\n",
    "locs = calls[['Lat', 'Lon']].astype('float').dropna().values\n",
    "heatmap = folium.plugins.HeatMap(locs.tolist(), radius=10)\n",
    "sf_map.add_child(heatmap)"
   ]
  },
  {
   "cell_type": "markdown",
   "metadata": {},
   "source": [
    "### Questions\n",
    "\n",
    "1. Is campus really the safest place to be?\n",
    "1. Why are all the calls located on the street and at often at intersections?\n"
   ]
  },
  {
   "cell_type": "code",
   "execution_count": 45,
   "metadata": {
    "ExecuteTime": {
     "end_time": "2018-02-02T15:15:54.826669Z",
     "start_time": "2018-02-02T15:15:37.180513Z"
    },
    "scrolled": false
   },
   "outputs": [
    {
     "data": {
      "text/html": [
       "<div style=\"width:100%;\"><div style=\"position:relative;width:100%;height:0;padding-bottom:60%;\"><span style=\"color:#565656\">Make this Notebook Trusted to load map: File -> Trust Notebook</span><iframe src=\"about:blank\" style=\"position:absolute;width:100%;height:100%;left:0;top:0;border:none !important;\" data-html=%3C%21DOCTYPE%20html%3E%0A%3Chead%3E%20%20%20%20%0A%20%20%20%20%3Cmeta%20http-equiv%3D%22content-type%22%20content%3D%22text/html%3B%20charset%3DUTF-8%22%20/%3E%0A%20%20%20%20%0A%20%20%20%20%20%20%20%20%3Cscript%3E%0A%20%20%20%20%20%20%20%20%20%20%20%20L_NO_TOUCH%20%3D%20false%3B%0A%20%20%20%20%20%20%20%20%20%20%20%20L_DISABLE_3D%20%3D%20false%3B%0A%20%20%20%20%20%20%20%20%3C/script%3E%0A%20%20%20%20%0A%20%20%20%20%3Cscript%20src%3D%22https%3A//cdn.jsdelivr.net/npm/leaflet%401.6.0/dist/leaflet.js%22%3E%3C/script%3E%0A%20%20%20%20%3Cscript%20src%3D%22https%3A//code.jquery.com/jquery-1.12.4.min.js%22%3E%3C/script%3E%0A%20%20%20%20%3Cscript%20src%3D%22https%3A//maxcdn.bootstrapcdn.com/bootstrap/3.2.0/js/bootstrap.min.js%22%3E%3C/script%3E%0A%20%20%20%20%3Cscript%20src%3D%22https%3A//cdnjs.cloudflare.com/ajax/libs/Leaflet.awesome-markers/2.0.2/leaflet.awesome-markers.js%22%3E%3C/script%3E%0A%20%20%20%20%3Clink%20rel%3D%22stylesheet%22%20href%3D%22https%3A//cdn.jsdelivr.net/npm/leaflet%401.6.0/dist/leaflet.css%22/%3E%0A%20%20%20%20%3Clink%20rel%3D%22stylesheet%22%20href%3D%22https%3A//maxcdn.bootstrapcdn.com/bootstrap/3.2.0/css/bootstrap.min.css%22/%3E%0A%20%20%20%20%3Clink%20rel%3D%22stylesheet%22%20href%3D%22https%3A//maxcdn.bootstrapcdn.com/bootstrap/3.2.0/css/bootstrap-theme.min.css%22/%3E%0A%20%20%20%20%3Clink%20rel%3D%22stylesheet%22%20href%3D%22https%3A//maxcdn.bootstrapcdn.com/font-awesome/4.6.3/css/font-awesome.min.css%22/%3E%0A%20%20%20%20%3Clink%20rel%3D%22stylesheet%22%20href%3D%22https%3A//cdnjs.cloudflare.com/ajax/libs/Leaflet.awesome-markers/2.0.2/leaflet.awesome-markers.css%22/%3E%0A%20%20%20%20%3Clink%20rel%3D%22stylesheet%22%20href%3D%22https%3A//rawcdn.githack.com/python-visualization/folium/master/folium/templates/leaflet.awesome.rotate.css%22/%3E%0A%20%20%20%20%3Cstyle%3Ehtml%2C%20body%20%7Bwidth%3A%20100%25%3Bheight%3A%20100%25%3Bmargin%3A%200%3Bpadding%3A%200%3B%7D%3C/style%3E%0A%20%20%20%20%3Cstyle%3E%23map%20%7Bposition%3Aabsolute%3Btop%3A0%3Bbottom%3A0%3Bright%3A0%3Bleft%3A0%3B%7D%3C/style%3E%0A%20%20%20%20%0A%20%20%20%20%20%20%20%20%20%20%20%20%3Cmeta%20name%3D%22viewport%22%20content%3D%22width%3Ddevice-width%2C%0A%20%20%20%20%20%20%20%20%20%20%20%20%20%20%20%20initial-scale%3D1.0%2C%20maximum-scale%3D1.0%2C%20user-scalable%3Dno%22%20/%3E%0A%20%20%20%20%20%20%20%20%20%20%20%20%3Cstyle%3E%0A%20%20%20%20%20%20%20%20%20%20%20%20%20%20%20%20%23map_1a63004fcb0b4a989b988dae118f56fe%20%7B%0A%20%20%20%20%20%20%20%20%20%20%20%20%20%20%20%20%20%20%20%20position%3A%20relative%3B%0A%20%20%20%20%20%20%20%20%20%20%20%20%20%20%20%20%20%20%20%20width%3A%20100.0%25%3B%0A%20%20%20%20%20%20%20%20%20%20%20%20%20%20%20%20%20%20%20%20height%3A%20100.0%25%3B%0A%20%20%20%20%20%20%20%20%20%20%20%20%20%20%20%20%20%20%20%20left%3A%200.0%25%3B%0A%20%20%20%20%20%20%20%20%20%20%20%20%20%20%20%20%20%20%20%20top%3A%200.0%25%3B%0A%20%20%20%20%20%20%20%20%20%20%20%20%20%20%20%20%7D%0A%20%20%20%20%20%20%20%20%20%20%20%20%3C/style%3E%0A%20%20%20%20%20%20%20%20%0A%20%20%20%20%3Cscript%20src%3D%22https%3A//cdnjs.cloudflare.com/ajax/libs/leaflet.markercluster/1.1.0/leaflet.markercluster.js%22%3E%3C/script%3E%0A%20%20%20%20%3Clink%20rel%3D%22stylesheet%22%20href%3D%22https%3A//cdnjs.cloudflare.com/ajax/libs/leaflet.markercluster/1.1.0/MarkerCluster.css%22/%3E%0A%20%20%20%20%3Clink%20rel%3D%22stylesheet%22%20href%3D%22https%3A//cdnjs.cloudflare.com/ajax/libs/leaflet.markercluster/1.1.0/MarkerCluster.Default.css%22/%3E%0A%3C/head%3E%0A%3Cbody%3E%20%20%20%20%0A%20%20%20%20%0A%20%20%20%20%20%20%20%20%20%20%20%20%3Cdiv%20class%3D%22folium-map%22%20id%3D%22map_1a63004fcb0b4a989b988dae118f56fe%22%20%3E%3C/div%3E%0A%20%20%20%20%20%20%20%20%0A%3C/body%3E%0A%3Cscript%3E%20%20%20%20%0A%20%20%20%20%0A%20%20%20%20%20%20%20%20%20%20%20%20var%20map_1a63004fcb0b4a989b988dae118f56fe%20%3D%20L.map%28%0A%20%20%20%20%20%20%20%20%20%20%20%20%20%20%20%20%22map_1a63004fcb0b4a989b988dae118f56fe%22%2C%0A%20%20%20%20%20%20%20%20%20%20%20%20%20%20%20%20%7B%0A%20%20%20%20%20%20%20%20%20%20%20%20%20%20%20%20%20%20%20%20center%3A%20%5B37.87%2C%20-122.28%5D%2C%0A%20%20%20%20%20%20%20%20%20%20%20%20%20%20%20%20%20%20%20%20crs%3A%20L.CRS.EPSG3857%2C%0A%20%20%20%20%20%20%20%20%20%20%20%20%20%20%20%20%20%20%20%20zoom%3A%2013%2C%0A%20%20%20%20%20%20%20%20%20%20%20%20%20%20%20%20%20%20%20%20zoomControl%3A%20true%2C%0A%20%20%20%20%20%20%20%20%20%20%20%20%20%20%20%20%20%20%20%20preferCanvas%3A%20false%2C%0A%20%20%20%20%20%20%20%20%20%20%20%20%20%20%20%20%7D%0A%20%20%20%20%20%20%20%20%20%20%20%20%29%3B%0A%0A%20%20%20%20%20%20%20%20%20%20%20%20%0A%0A%20%20%20%20%20%20%20%20%0A%20%20%20%20%0A%20%20%20%20%20%20%20%20%20%20%20%20var%20tile_layer_deae4e6bfca448699e1f536ff386f903%20%3D%20L.tileLayer%28%0A%20%20%20%20%20%20%20%20%20%20%20%20%20%20%20%20%22https%3A//%7Bs%7D.tile.openstreetmap.org/%7Bz%7D/%7Bx%7D/%7By%7D.png%22%2C%0A%20%20%20%20%20%20%20%20%20%20%20%20%20%20%20%20%7B%22attribution%22%3A%20%22Data%20by%20%5Cu0026copy%3B%20%5Cu003ca%20href%3D%5C%22http%3A//openstreetmap.org%5C%22%5Cu003eOpenStreetMap%5Cu003c/a%5Cu003e%2C%20under%20%5Cu003ca%20href%3D%5C%22http%3A//www.openstreetmap.org/copyright%5C%22%5Cu003eODbL%5Cu003c/a%5Cu003e.%22%2C%20%22detectRetina%22%3A%20false%2C%20%22maxNativeZoom%22%3A%2018%2C%20%22maxZoom%22%3A%2018%2C%20%22minZoom%22%3A%200%2C%20%22noWrap%22%3A%20false%2C%20%22opacity%22%3A%201%2C%20%22subdomains%22%3A%20%22abc%22%2C%20%22tms%22%3A%20false%7D%0A%20%20%20%20%20%20%20%20%20%20%20%20%29.addTo%28map_1a63004fcb0b4a989b988dae118f56fe%29%3B%0A%20%20%20%20%20%20%20%20%0A%20%20%20%20%0A%20%20%20%20%20%20%20%20%20%20%20%20var%20marker_cluster_43dae09a7f9448fe83d8f906d2217d99%20%3D%20L.markerClusterGroup%28%0A%20%20%20%20%20%20%20%20%20%20%20%20%20%20%20%20%7B%7D%0A%20%20%20%20%20%20%20%20%20%20%20%20%29%3B%0A%20%20%20%20%20%20%20%20%20%20%20%20map_1a63004fcb0b4a989b988dae118f56fe.addLayer%28marker_cluster_43dae09a7f9448fe83d8f906d2217d99%29%3B%0A%20%20%20%20%20%20%20%20%0A%20%20%20%20%0A%20%20%20%20%20%20%20%20%20%20%20%20var%20marker_2040ca1de4fe4dd9abb532e6e1cc003b%20%3D%20L.marker%28%0A%20%20%20%20%20%20%20%20%20%20%20%20%20%20%20%20%5B37.871167%2C%20-122.268285%5D%2C%0A%20%20%20%20%20%20%20%20%20%20%20%20%20%20%20%20%7B%7D%0A%20%20%20%20%20%20%20%20%20%20%20%20%29.addTo%28marker_cluster_43dae09a7f9448fe83d8f906d2217d99%29%3B%0A%20%20%20%20%20%20%20%20%0A%20%20%20%20%0A%20%20%20%20%20%20%20%20%20%20%20%20var%20marker_49d5dab10c024a1f862b65f662ff3aba%20%3D%20L.marker%28%0A%20%20%20%20%20%20%20%20%20%20%20%20%20%20%20%20%5B37.846694%2C%20-122.273191%5D%2C%0A%20%20%20%20%20%20%20%20%20%20%20%20%20%20%20%20%7B%7D%0A%20%20%20%20%20%20%20%20%20%20%20%20%29.addTo%28marker_cluster_43dae09a7f9448fe83d8f906d2217d99%29%3B%0A%20%20%20%20%20%20%20%20%0A%20%20%20%20%0A%20%20%20%20%20%20%20%20%20%20%20%20var%20marker_3cf2497395ec46e49a17044735cf2263%20%3D%20L.marker%28%0A%20%20%20%20%20%20%20%20%20%20%20%20%20%20%20%20%5B37.865121%2C%20-122.258455%5D%2C%0A%20%20%20%20%20%20%20%20%20%20%20%20%20%20%20%20%7B%7D%0A%20%20%20%20%20%20%20%20%20%20%20%20%29.addTo%28marker_cluster_43dae09a7f9448fe83d8f906d2217d99%29%3B%0A%20%20%20%20%20%20%20%20%0A%20%20%20%20%0A%20%20%20%20%20%20%20%20%20%20%20%20var%20marker_ca05f9498f5e470a80c7bf9f3977e45d%20%3D%20L.marker%28%0A%20%20%20%20%20%20%20%20%20%20%20%20%20%20%20%20%5B37.873343%2C%20-122.280086%5D%2C%0A%20%20%20%20%20%20%20%20%20%20%20%20%20%20%20%20%7B%7D%0A%20%20%20%20%20%20%20%20%20%20%20%20%29.addTo%28marker_cluster_43dae09a7f9448fe83d8f906d2217d99%29%3B%0A%20%20%20%20%20%20%20%20%0A%20%20%20%20%0A%20%20%20%20%20%20%20%20%20%20%20%20var%20marker_5287e0acba7d4d2e901dca35ee935a56%20%3D%20L.marker%28%0A%20%20%20%20%20%20%20%20%20%20%20%20%20%20%20%20%5B37.855026%2C%20-122.266475%5D%2C%0A%20%20%20%20%20%20%20%20%20%20%20%20%20%20%20%20%7B%7D%0A%20%20%20%20%20%20%20%20%20%20%20%20%29.addTo%28marker_cluster_43dae09a7f9448fe83d8f906d2217d99%29%3B%0A%20%20%20%20%20%20%20%20%0A%20%20%20%20%0A%20%20%20%20%20%20%20%20%20%20%20%20var%20marker_02c9d809b27744119e57f9acc4092d36%20%3D%20L.marker%28%0A%20%20%20%20%20%20%20%20%20%20%20%20%20%20%20%20%5B37.865121%2C%20-122.258455%5D%2C%0A%20%20%20%20%20%20%20%20%20%20%20%20%20%20%20%20%7B%7D%0A%20%20%20%20%20%20%20%20%20%20%20%20%29.addTo%28marker_cluster_43dae09a7f9448fe83d8f906d2217d99%29%3B%0A%20%20%20%20%20%20%20%20%0A%20%20%20%20%0A%20%20%20%20%20%20%20%20%20%20%20%20var%20marker_19f514a1fad649148882625235136270%20%3D%20L.marker%28%0A%20%20%20%20%20%20%20%20%20%20%20%20%20%20%20%20%5B37.869888%2C%20-122.300618%5D%2C%0A%20%20%20%20%20%20%20%20%20%20%20%20%20%20%20%20%7B%7D%0A%20%20%20%20%20%20%20%20%20%20%20%20%29.addTo%28marker_cluster_43dae09a7f9448fe83d8f906d2217d99%29%3B%0A%20%20%20%20%20%20%20%20%0A%20%20%20%20%0A%20%20%20%20%20%20%20%20%20%20%20%20var%20marker_8cd3037ee4b04b58bc7178020c85ccb1%20%3D%20L.marker%28%0A%20%20%20%20%20%20%20%20%20%20%20%20%20%20%20%20%5B37.880519%2C%20-122.267051%5D%2C%0A%20%20%20%20%20%20%20%20%20%20%20%20%20%20%20%20%7B%7D%0A%20%20%20%20%20%20%20%20%20%20%20%20%29.addTo%28marker_cluster_43dae09a7f9448fe83d8f906d2217d99%29%3B%0A%20%20%20%20%20%20%20%20%0A%20%20%20%20%0A%20%20%20%20%20%20%20%20%20%20%20%20var%20marker_36af146dfcd9486a893429609034df93%20%3D%20L.marker%28%0A%20%20%20%20%20%20%20%20%20%20%20%20%20%20%20%20%5B37.871605%2C%20-122.273018%5D%2C%0A%20%20%20%20%20%20%20%20%20%20%20%20%20%20%20%20%7B%7D%0A%20%20%20%20%20%20%20%20%20%20%20%20%29.addTo%28marker_cluster_43dae09a7f9448fe83d8f906d2217d99%29%3B%0A%20%20%20%20%20%20%20%20%0A%20%20%20%20%0A%20%20%20%20%20%20%20%20%20%20%20%20var%20marker_a8f43cb191e5424fbff838b220489823%20%3D%20L.marker%28%0A%20%20%20%20%20%20%20%20%20%20%20%20%20%20%20%20%5B37.88055%2C%20-122.304962%5D%2C%0A%20%20%20%20%20%20%20%20%20%20%20%20%20%20%20%20%7B%7D%0A%20%20%20%20%20%20%20%20%20%20%20%20%29.addTo%28marker_cluster_43dae09a7f9448fe83d8f906d2217d99%29%3B%0A%20%20%20%20%20%20%20%20%0A%20%20%20%20%0A%20%20%20%20%20%20%20%20%20%20%20%20var%20marker_b4224de9c55849ad9cb627c953bddd60%20%3D%20L.marker%28%0A%20%20%20%20%20%20%20%20%20%20%20%20%20%20%20%20%5B37.880803%2C%20-122.274005%5D%2C%0A%20%20%20%20%20%20%20%20%20%20%20%20%20%20%20%20%7B%7D%0A%20%20%20%20%20%20%20%20%20%20%20%20%29.addTo%28marker_cluster_43dae09a7f9448fe83d8f906d2217d99%29%3B%0A%20%20%20%20%20%20%20%20%0A%20%20%20%20%0A%20%20%20%20%20%20%20%20%20%20%20%20var%20marker_0e5ae76279764e5ba54b73f38c1912e4%20%3D%20L.marker%28%0A%20%20%20%20%20%20%20%20%20%20%20%20%20%20%20%20%5B37.871167%2C%20-122.268285%5D%2C%0A%20%20%20%20%20%20%20%20%20%20%20%20%20%20%20%20%7B%7D%0A%20%20%20%20%20%20%20%20%20%20%20%20%29.addTo%28marker_cluster_43dae09a7f9448fe83d8f906d2217d99%29%3B%0A%20%20%20%20%20%20%20%20%0A%20%20%20%20%0A%20%20%20%20%20%20%20%20%20%20%20%20var%20marker_ae92182445b24a988760f279aca67990%20%3D%20L.marker%28%0A%20%20%20%20%20%20%20%20%20%20%20%20%20%20%20%20%5B37.857336%2C%20-122.290797%5D%2C%0A%20%20%20%20%20%20%20%20%20%20%20%20%20%20%20%20%7B%7D%0A%20%20%20%20%20%20%20%20%20%20%20%20%29.addTo%28marker_cluster_43dae09a7f9448fe83d8f906d2217d99%29%3B%0A%20%20%20%20%20%20%20%20%0A%20%20%20%20%0A%20%20%20%20%20%20%20%20%20%20%20%20var%20marker_0e225314d04d431bb22eca5a52d1e78d%20%3D%20L.marker%28%0A%20%20%20%20%20%20%20%20%20%20%20%20%20%20%20%20%5B37.868199%2C%20-122.263253%5D%2C%0A%20%20%20%20%20%20%20%20%20%20%20%20%20%20%20%20%7B%7D%0A%20%20%20%20%20%20%20%20%20%20%20%20%29.addTo%28marker_cluster_43dae09a7f9448fe83d8f906d2217d99%29%3B%0A%20%20%20%20%20%20%20%20%0A%20%20%20%20%0A%20%20%20%20%20%20%20%20%20%20%20%20var%20marker_b2be94fccd7c4220a95a80d1ab120675%20%3D%20L.marker%28%0A%20%20%20%20%20%20%20%20%20%20%20%20%20%20%20%20%5B37.855026%2C%20-122.266475%5D%2C%0A%20%20%20%20%20%20%20%20%20%20%20%20%20%20%20%20%7B%7D%0A%20%20%20%20%20%20%20%20%20%20%20%20%29.addTo%28marker_cluster_43dae09a7f9448fe83d8f906d2217d99%29%3B%0A%20%20%20%20%20%20%20%20%0A%20%20%20%20%0A%20%20%20%20%20%20%20%20%20%20%20%20var%20marker_b825482463054a30afa442488a10a6b8%20%3D%20L.marker%28%0A%20%20%20%20%20%20%20%20%20%20%20%20%20%20%20%20%5B37.882943%2C%20-122.279383%5D%2C%0A%20%20%20%20%20%20%20%20%20%20%20%20%20%20%20%20%7B%7D%0A%20%20%20%20%20%20%20%20%20%20%20%20%29.addTo%28marker_cluster_43dae09a7f9448fe83d8f906d2217d99%29%3B%0A%20%20%20%20%20%20%20%20%0A%20%20%20%20%0A%20%20%20%20%20%20%20%20%20%20%20%20var%20marker_a92332fc840b4a83b0f1f7eaa2f55ee2%20%3D%20L.marker%28%0A%20%20%20%20%20%20%20%20%20%20%20%20%20%20%20%20%5B37.867816%2C%20-122.258994%5D%2C%0A%20%20%20%20%20%20%20%20%20%20%20%20%20%20%20%20%7B%7D%0A%20%20%20%20%20%20%20%20%20%20%20%20%29.addTo%28marker_cluster_43dae09a7f9448fe83d8f906d2217d99%29%3B%0A%20%20%20%20%20%20%20%20%0A%20%20%20%20%0A%20%20%20%20%20%20%20%20%20%20%20%20var%20marker_20d98a377d3e46a4a25d269b63b01cb3%20%3D%20L.marker%28%0A%20%20%20%20%20%20%20%20%20%20%20%20%20%20%20%20%5B37.87091%2C%20-122.265993%5D%2C%0A%20%20%20%20%20%20%20%20%20%20%20%20%20%20%20%20%7B%7D%0A%20%20%20%20%20%20%20%20%20%20%20%20%29.addTo%28marker_cluster_43dae09a7f9448fe83d8f906d2217d99%29%3B%0A%20%20%20%20%20%20%20%20%0A%20%20%20%20%0A%20%20%20%20%20%20%20%20%20%20%20%20var%20marker_7a3331d2ad374c779b571f30152f190d%20%3D%20L.marker%28%0A%20%20%20%20%20%20%20%20%20%20%20%20%20%20%20%20%5B37.870308%2C%20-122.26805%5D%2C%0A%20%20%20%20%20%20%20%20%20%20%20%20%20%20%20%20%7B%7D%0A%20%20%20%20%20%20%20%20%20%20%20%20%29.addTo%28marker_cluster_43dae09a7f9448fe83d8f906d2217d99%29%3B%0A%20%20%20%20%20%20%20%20%0A%20%20%20%20%0A%20%20%20%20%20%20%20%20%20%20%20%20var%20marker_d2c57933235144728e69fd494f972572%20%3D%20L.marker%28%0A%20%20%20%20%20%20%20%20%20%20%20%20%20%20%20%20%5B37.856948%2C%20-122.293014%5D%2C%0A%20%20%20%20%20%20%20%20%20%20%20%20%20%20%20%20%7B%7D%0A%20%20%20%20%20%20%20%20%20%20%20%20%29.addTo%28marker_cluster_43dae09a7f9448fe83d8f906d2217d99%29%3B%0A%20%20%20%20%20%20%20%20%0A%20%20%20%20%0A%20%20%20%20%20%20%20%20%20%20%20%20var%20marker_cbc3b4473edf4d18adc0b3c2037805ab%20%3D%20L.marker%28%0A%20%20%20%20%20%20%20%20%20%20%20%20%20%20%20%20%5B37.85344%2C%20-122.269182%5D%2C%0A%20%20%20%20%20%20%20%20%20%20%20%20%20%20%20%20%7B%7D%0A%20%20%20%20%20%20%20%20%20%20%20%20%29.addTo%28marker_cluster_43dae09a7f9448fe83d8f906d2217d99%29%3B%0A%20%20%20%20%20%20%20%20%0A%20%20%20%20%0A%20%20%20%20%20%20%20%20%20%20%20%20var%20marker_76a185fbd5df4944b1063824b2a80c13%20%3D%20L.marker%28%0A%20%20%20%20%20%20%20%20%20%20%20%20%20%20%20%20%5B37.869688%2C%20-122.272805%5D%2C%0A%20%20%20%20%20%20%20%20%20%20%20%20%20%20%20%20%7B%7D%0A%20%20%20%20%20%20%20%20%20%20%20%20%29.addTo%28marker_cluster_43dae09a7f9448fe83d8f906d2217d99%29%3B%0A%20%20%20%20%20%20%20%20%0A%20%20%20%20%0A%20%20%20%20%20%20%20%20%20%20%20%20var%20marker_b3fdc673d10c4ccea3d3f659c5edbe8d%20%3D%20L.marker%28%0A%20%20%20%20%20%20%20%20%20%20%20%20%20%20%20%20%5B37.865729%2C%20-122.260903%5D%2C%0A%20%20%20%20%20%20%20%20%20%20%20%20%20%20%20%20%7B%7D%0A%20%20%20%20%20%20%20%20%20%20%20%20%29.addTo%28marker_cluster_43dae09a7f9448fe83d8f906d2217d99%29%3B%0A%20%20%20%20%20%20%20%20%0A%20%20%20%20%0A%20%20%20%20%20%20%20%20%20%20%20%20var%20marker_88457232e80445558c774923cea8ec7d%20%3D%20L.marker%28%0A%20%20%20%20%20%20%20%20%20%20%20%20%20%20%20%20%5B37.867852%2C%20-122.258699%5D%2C%0A%20%20%20%20%20%20%20%20%20%20%20%20%20%20%20%20%7B%7D%0A%20%20%20%20%20%20%20%20%20%20%20%20%29.addTo%28marker_cluster_43dae09a7f9448fe83d8f906d2217d99%29%3B%0A%20%20%20%20%20%20%20%20%0A%20%20%20%20%0A%20%20%20%20%20%20%20%20%20%20%20%20var%20marker_bc78a0022bf14bffbcc0b96e316565b7%20%3D%20L.marker%28%0A%20%20%20%20%20%20%20%20%20%20%20%20%20%20%20%20%5B37.863679%2C%20-122.269631%5D%2C%0A%20%20%20%20%20%20%20%20%20%20%20%20%20%20%20%20%7B%7D%0A%20%20%20%20%20%20%20%20%20%20%20%20%29.addTo%28marker_cluster_43dae09a7f9448fe83d8f906d2217d99%29%3B%0A%20%20%20%20%20%20%20%20%0A%20%20%20%20%0A%20%20%20%20%20%20%20%20%20%20%20%20var%20marker_86417203673947bd930bd3cd30182fe6%20%3D%20L.marker%28%0A%20%20%20%20%20%20%20%20%20%20%20%20%20%20%20%20%5B37.854833%2C%20-122.279839%5D%2C%0A%20%20%20%20%20%20%20%20%20%20%20%20%20%20%20%20%7B%7D%0A%20%20%20%20%20%20%20%20%20%20%20%20%29.addTo%28marker_cluster_43dae09a7f9448fe83d8f906d2217d99%29%3B%0A%20%20%20%20%20%20%20%20%0A%20%20%20%20%0A%20%20%20%20%20%20%20%20%20%20%20%20var%20marker_d4e2b076a99d433d9b3b307e05acb101%20%3D%20L.marker%28%0A%20%20%20%20%20%20%20%20%20%20%20%20%20%20%20%20%5B37.891144%2C%20-122.283458%5D%2C%0A%20%20%20%20%20%20%20%20%20%20%20%20%20%20%20%20%7B%7D%0A%20%20%20%20%20%20%20%20%20%20%20%20%29.addTo%28marker_cluster_43dae09a7f9448fe83d8f906d2217d99%29%3B%0A%20%20%20%20%20%20%20%20%0A%20%20%20%20%0A%20%20%20%20%20%20%20%20%20%20%20%20var%20marker_9795a1b00d0a421692892a807b0ed0ee%20%3D%20L.marker%28%0A%20%20%20%20%20%20%20%20%20%20%20%20%20%20%20%20%5B37.867852%2C%20-122.258699%5D%2C%0A%20%20%20%20%20%20%20%20%20%20%20%20%20%20%20%20%7B%7D%0A%20%20%20%20%20%20%20%20%20%20%20%20%29.addTo%28marker_cluster_43dae09a7f9448fe83d8f906d2217d99%29%3B%0A%20%20%20%20%20%20%20%20%0A%20%20%20%20%0A%20%20%20%20%20%20%20%20%20%20%20%20var%20marker_f6b329c4612f4f1c8ff1975a3267d3f4%20%3D%20L.marker%28%0A%20%20%20%20%20%20%20%20%20%20%20%20%20%20%20%20%5B37.86771%2C%20-122.298466%5D%2C%0A%20%20%20%20%20%20%20%20%20%20%20%20%20%20%20%20%7B%7D%0A%20%20%20%20%20%20%20%20%20%20%20%20%29.addTo%28marker_cluster_43dae09a7f9448fe83d8f906d2217d99%29%3B%0A%20%20%20%20%20%20%20%20%0A%20%20%20%20%0A%20%20%20%20%20%20%20%20%20%20%20%20var%20marker_46840c0e81bd4196bb441b9fc7671e7b%20%3D%20L.marker%28%0A%20%20%20%20%20%20%20%20%20%20%20%20%20%20%20%20%5B37.87091%2C%20-122.265993%5D%2C%0A%20%20%20%20%20%20%20%20%20%20%20%20%20%20%20%20%7B%7D%0A%20%20%20%20%20%20%20%20%20%20%20%20%29.addTo%28marker_cluster_43dae09a7f9448fe83d8f906d2217d99%29%3B%0A%20%20%20%20%20%20%20%20%0A%20%20%20%20%0A%20%20%20%20%20%20%20%20%20%20%20%20var%20marker_a39918e5335841aca50586dcc1f03aad%20%3D%20L.marker%28%0A%20%20%20%20%20%20%20%20%20%20%20%20%20%20%20%20%5B37.867212%2C%20-122.281739%5D%2C%0A%20%20%20%20%20%20%20%20%20%20%20%20%20%20%20%20%7B%7D%0A%20%20%20%20%20%20%20%20%20%20%20%20%29.addTo%28marker_cluster_43dae09a7f9448fe83d8f906d2217d99%29%3B%0A%20%20%20%20%20%20%20%20%0A%20%20%20%20%0A%20%20%20%20%20%20%20%20%20%20%20%20var%20marker_c2965370dd0845ddbc545e9eb2d6e7c1%20%3D%20L.marker%28%0A%20%20%20%20%20%20%20%20%20%20%20%20%20%20%20%20%5B37.866761%2C%20-122.258779%5D%2C%0A%20%20%20%20%20%20%20%20%20%20%20%20%20%20%20%20%7B%7D%0A%20%20%20%20%20%20%20%20%20%20%20%20%29.addTo%28marker_cluster_43dae09a7f9448fe83d8f906d2217d99%29%3B%0A%20%20%20%20%20%20%20%20%0A%20%20%20%20%0A%20%20%20%20%20%20%20%20%20%20%20%20var%20marker_dd81fb86c15b4eabbab90a9311bb5af7%20%3D%20L.marker%28%0A%20%20%20%20%20%20%20%20%20%20%20%20%20%20%20%20%5B37.8686%2C%20-122.289385%5D%2C%0A%20%20%20%20%20%20%20%20%20%20%20%20%20%20%20%20%7B%7D%0A%20%20%20%20%20%20%20%20%20%20%20%20%29.addTo%28marker_cluster_43dae09a7f9448fe83d8f906d2217d99%29%3B%0A%20%20%20%20%20%20%20%20%0A%20%20%20%20%0A%20%20%20%20%20%20%20%20%20%20%20%20var%20marker_21659c1f116f434399477f4cb4451505%20%3D%20L.marker%28%0A%20%20%20%20%20%20%20%20%20%20%20%20%20%20%20%20%5B37.869041%2C%20-122.292204%5D%2C%0A%20%20%20%20%20%20%20%20%20%20%20%20%20%20%20%20%7B%7D%0A%20%20%20%20%20%20%20%20%20%20%20%20%29.addTo%28marker_cluster_43dae09a7f9448fe83d8f906d2217d99%29%3B%0A%20%20%20%20%20%20%20%20%0A%20%20%20%20%0A%20%20%20%20%20%20%20%20%20%20%20%20var%20marker_010f2a6ba8874eca9d6d95dc5f0d90ba%20%3D%20L.marker%28%0A%20%20%20%20%20%20%20%20%20%20%20%20%20%20%20%20%5B37.865772%2C%20-122.267643%5D%2C%0A%20%20%20%20%20%20%20%20%20%20%20%20%20%20%20%20%7B%7D%0A%20%20%20%20%20%20%20%20%20%20%20%20%29.addTo%28marker_cluster_43dae09a7f9448fe83d8f906d2217d99%29%3B%0A%20%20%20%20%20%20%20%20%0A%20%20%20%20%0A%20%20%20%20%20%20%20%20%20%20%20%20var%20marker_c5c9f9257bdf430897669c9c714c9795%20%3D%20L.marker%28%0A%20%20%20%20%20%20%20%20%20%20%20%20%20%20%20%20%5B37.858856%2C%20-122.271592%5D%2C%0A%20%20%20%20%20%20%20%20%20%20%20%20%20%20%20%20%7B%7D%0A%20%20%20%20%20%20%20%20%20%20%20%20%29.addTo%28marker_cluster_43dae09a7f9448fe83d8f906d2217d99%29%3B%0A%20%20%20%20%20%20%20%20%0A%20%20%20%20%0A%20%20%20%20%20%20%20%20%20%20%20%20var%20marker_0c8f79dfe4a14d3f970bd3b19b290dc9%20%3D%20L.marker%28%0A%20%20%20%20%20%20%20%20%20%20%20%20%20%20%20%20%5B37.853683%2C%20-122.261744%5D%2C%0A%20%20%20%20%20%20%20%20%20%20%20%20%20%20%20%20%7B%7D%0A%20%20%20%20%20%20%20%20%20%20%20%20%29.addTo%28marker_cluster_43dae09a7f9448fe83d8f906d2217d99%29%3B%0A%20%20%20%20%20%20%20%20%0A%20%20%20%20%0A%20%20%20%20%20%20%20%20%20%20%20%20var%20marker_084af76445184bc8ae24f10515d82714%20%3D%20L.marker%28%0A%20%20%20%20%20%20%20%20%20%20%20%20%20%20%20%20%5B37.871167%2C%20-122.268285%5D%2C%0A%20%20%20%20%20%20%20%20%20%20%20%20%20%20%20%20%7B%7D%0A%20%20%20%20%20%20%20%20%20%20%20%20%29.addTo%28marker_cluster_43dae09a7f9448fe83d8f906d2217d99%29%3B%0A%20%20%20%20%20%20%20%20%0A%20%20%20%20%0A%20%20%20%20%20%20%20%20%20%20%20%20var%20marker_5a4d4eed9b204084acc2517ee353fc2d%20%3D%20L.marker%28%0A%20%20%20%20%20%20%20%20%20%20%20%20%20%20%20%20%5B37.867513%2C%20-122.26127%5D%2C%0A%20%20%20%20%20%20%20%20%20%20%20%20%20%20%20%20%7B%7D%0A%20%20%20%20%20%20%20%20%20%20%20%20%29.addTo%28marker_cluster_43dae09a7f9448fe83d8f906d2217d99%29%3B%0A%20%20%20%20%20%20%20%20%0A%20%20%20%20%0A%20%20%20%20%20%20%20%20%20%20%20%20var%20marker_3e908d9a0af2442da895816197ed50b1%20%3D%20L.marker%28%0A%20%20%20%20%20%20%20%20%20%20%20%20%20%20%20%20%5B37.869363%2C%20-122.268028%5D%2C%0A%20%20%20%20%20%20%20%20%20%20%20%20%20%20%20%20%7B%7D%0A%20%20%20%20%20%20%20%20%20%20%20%20%29.addTo%28marker_cluster_43dae09a7f9448fe83d8f906d2217d99%29%3B%0A%20%20%20%20%20%20%20%20%0A%20%20%20%20%0A%20%20%20%20%20%20%20%20%20%20%20%20var%20marker_0f116d93ad8a440aa4f70ae61e452187%20%3D%20L.marker%28%0A%20%20%20%20%20%20%20%20%20%20%20%20%20%20%20%20%5B37.866037%2C%20-122.265618%5D%2C%0A%20%20%20%20%20%20%20%20%20%20%20%20%20%20%20%20%7B%7D%0A%20%20%20%20%20%20%20%20%20%20%20%20%29.addTo%28marker_cluster_43dae09a7f9448fe83d8f906d2217d99%29%3B%0A%20%20%20%20%20%20%20%20%0A%20%20%20%20%0A%20%20%20%20%20%20%20%20%20%20%20%20var%20marker_21e23fe9802d4c248b5d45a3767c9cae%20%3D%20L.marker%28%0A%20%20%20%20%20%20%20%20%20%20%20%20%20%20%20%20%5B37.871167%2C%20-122.268285%5D%2C%0A%20%20%20%20%20%20%20%20%20%20%20%20%20%20%20%20%7B%7D%0A%20%20%20%20%20%20%20%20%20%20%20%20%29.addTo%28marker_cluster_43dae09a7f9448fe83d8f906d2217d99%29%3B%0A%20%20%20%20%20%20%20%20%0A%20%20%20%20%0A%20%20%20%20%20%20%20%20%20%20%20%20var%20marker_e75c465c1d50445f96a656c756680149%20%3D%20L.marker%28%0A%20%20%20%20%20%20%20%20%20%20%20%20%20%20%20%20%5B37.863053%2C%20-122.267321%5D%2C%0A%20%20%20%20%20%20%20%20%20%20%20%20%20%20%20%20%7B%7D%0A%20%20%20%20%20%20%20%20%20%20%20%20%29.addTo%28marker_cluster_43dae09a7f9448fe83d8f906d2217d99%29%3B%0A%20%20%20%20%20%20%20%20%0A%20%20%20%20%0A%20%20%20%20%20%20%20%20%20%20%20%20var%20marker_215857d0767040fc8d30e840ca564347%20%3D%20L.marker%28%0A%20%20%20%20%20%20%20%20%20%20%20%20%20%20%20%20%5B37.871317%2C%20-122.286575%5D%2C%0A%20%20%20%20%20%20%20%20%20%20%20%20%20%20%20%20%7B%7D%0A%20%20%20%20%20%20%20%20%20%20%20%20%29.addTo%28marker_cluster_43dae09a7f9448fe83d8f906d2217d99%29%3B%0A%20%20%20%20%20%20%20%20%0A%20%20%20%20%0A%20%20%20%20%20%20%20%20%20%20%20%20var%20marker_cdc3cae102304748a1a4a5d29561d4d7%20%3D%20L.marker%28%0A%20%20%20%20%20%20%20%20%20%20%20%20%20%20%20%20%5B37.866253%2C%20-122.299483%5D%2C%0A%20%20%20%20%20%20%20%20%20%20%20%20%20%20%20%20%7B%7D%0A%20%20%20%20%20%20%20%20%20%20%20%20%29.addTo%28marker_cluster_43dae09a7f9448fe83d8f906d2217d99%29%3B%0A%20%20%20%20%20%20%20%20%0A%20%20%20%20%0A%20%20%20%20%20%20%20%20%20%20%20%20var%20marker_2d83b79e00ff46a28711e23c247f4fdd%20%3D%20L.marker%28%0A%20%20%20%20%20%20%20%20%20%20%20%20%20%20%20%20%5B37.872599%2C%20-122.303889%5D%2C%0A%20%20%20%20%20%20%20%20%20%20%20%20%20%20%20%20%7B%7D%0A%20%20%20%20%20%20%20%20%20%20%20%20%29.addTo%28marker_cluster_43dae09a7f9448fe83d8f906d2217d99%29%3B%0A%20%20%20%20%20%20%20%20%0A%20%20%20%20%0A%20%20%20%20%20%20%20%20%20%20%20%20var%20marker_8c47188b0ed24ac0a16db0771a9b5f66%20%3D%20L.marker%28%0A%20%20%20%20%20%20%20%20%20%20%20%20%20%20%20%20%5B37.865149%2C%20-122.256487%5D%2C%0A%20%20%20%20%20%20%20%20%20%20%20%20%20%20%20%20%7B%7D%0A%20%20%20%20%20%20%20%20%20%20%20%20%29.addTo%28marker_cluster_43dae09a7f9448fe83d8f906d2217d99%29%3B%0A%20%20%20%20%20%20%20%20%0A%20%20%20%20%0A%20%20%20%20%20%20%20%20%20%20%20%20var%20marker_f3ecb052bb6545c3bd7a5441cf010414%20%3D%20L.marker%28%0A%20%20%20%20%20%20%20%20%20%20%20%20%20%20%20%20%5B37.867852%2C%20-122.258699%5D%2C%0A%20%20%20%20%20%20%20%20%20%20%20%20%20%20%20%20%7B%7D%0A%20%20%20%20%20%20%20%20%20%20%20%20%29.addTo%28marker_cluster_43dae09a7f9448fe83d8f906d2217d99%29%3B%0A%20%20%20%20%20%20%20%20%0A%20%20%20%20%0A%20%20%20%20%20%20%20%20%20%20%20%20var%20marker_4f1cf0f167c14302804d26a88278c8e6%20%3D%20L.marker%28%0A%20%20%20%20%20%20%20%20%20%20%20%20%20%20%20%20%5B37.868489%2C%20-122.26795%5D%2C%0A%20%20%20%20%20%20%20%20%20%20%20%20%20%20%20%20%7B%7D%0A%20%20%20%20%20%20%20%20%20%20%20%20%29.addTo%28marker_cluster_43dae09a7f9448fe83d8f906d2217d99%29%3B%0A%20%20%20%20%20%20%20%20%0A%20%20%20%20%0A%20%20%20%20%20%20%20%20%20%20%20%20var%20marker_63bb483004264917a0e987b966c92113%20%3D%20L.marker%28%0A%20%20%20%20%20%20%20%20%20%20%20%20%20%20%20%20%5B37.865349%2C%20-122.28377%5D%2C%0A%20%20%20%20%20%20%20%20%20%20%20%20%20%20%20%20%7B%7D%0A%20%20%20%20%20%20%20%20%20%20%20%20%29.addTo%28marker_cluster_43dae09a7f9448fe83d8f906d2217d99%29%3B%0A%20%20%20%20%20%20%20%20%0A%20%20%20%20%0A%20%20%20%20%20%20%20%20%20%20%20%20var%20marker_8559c6eab1aa41f7b62144553fffa6ba%20%3D%20L.marker%28%0A%20%20%20%20%20%20%20%20%20%20%20%20%20%20%20%20%5B37.879147%2C%20-122.263462%5D%2C%0A%20%20%20%20%20%20%20%20%20%20%20%20%20%20%20%20%7B%7D%0A%20%20%20%20%20%20%20%20%20%20%20%20%29.addTo%28marker_cluster_43dae09a7f9448fe83d8f906d2217d99%29%3B%0A%20%20%20%20%20%20%20%20%0A%20%20%20%20%0A%20%20%20%20%20%20%20%20%20%20%20%20var%20marker_64e95b7b1e9846deac4baa5f5f452504%20%3D%20L.marker%28%0A%20%20%20%20%20%20%20%20%20%20%20%20%20%20%20%20%5B37.868667%2C%20-122.313656%5D%2C%0A%20%20%20%20%20%20%20%20%20%20%20%20%20%20%20%20%7B%7D%0A%20%20%20%20%20%20%20%20%20%20%20%20%29.addTo%28marker_cluster_43dae09a7f9448fe83d8f906d2217d99%29%3B%0A%20%20%20%20%20%20%20%20%0A%20%20%20%20%0A%20%20%20%20%20%20%20%20%20%20%20%20var%20marker_94f193eab7a2415e944f495c23c11fde%20%3D%20L.marker%28%0A%20%20%20%20%20%20%20%20%20%20%20%20%20%20%20%20%5B37.865772%2C%20-122.267643%5D%2C%0A%20%20%20%20%20%20%20%20%20%20%20%20%20%20%20%20%7B%7D%0A%20%20%20%20%20%20%20%20%20%20%20%20%29.addTo%28marker_cluster_43dae09a7f9448fe83d8f906d2217d99%29%3B%0A%20%20%20%20%20%20%20%20%0A%20%20%20%20%0A%20%20%20%20%20%20%20%20%20%20%20%20var%20marker_86451ad28a71498e962995321c775333%20%3D%20L.marker%28%0A%20%20%20%20%20%20%20%20%20%20%20%20%20%20%20%20%5B37.867852%2C%20-122.258699%5D%2C%0A%20%20%20%20%20%20%20%20%20%20%20%20%20%20%20%20%7B%7D%0A%20%20%20%20%20%20%20%20%20%20%20%20%29.addTo%28marker_cluster_43dae09a7f9448fe83d8f906d2217d99%29%3B%0A%20%20%20%20%20%20%20%20%0A%20%20%20%20%0A%20%20%20%20%20%20%20%20%20%20%20%20var%20marker_81480eed4ded49178426535377ff421a%20%3D%20L.marker%28%0A%20%20%20%20%20%20%20%20%20%20%20%20%20%20%20%20%5B37.848152%2C%20-122.275807%5D%2C%0A%20%20%20%20%20%20%20%20%20%20%20%20%20%20%20%20%7B%7D%0A%20%20%20%20%20%20%20%20%20%20%20%20%29.addTo%28marker_cluster_43dae09a7f9448fe83d8f906d2217d99%29%3B%0A%20%20%20%20%20%20%20%20%0A%20%20%20%20%0A%20%20%20%20%20%20%20%20%20%20%20%20var%20marker_3a4747e176864d3c9e3c8a50c5371b90%20%3D%20L.marker%28%0A%20%20%20%20%20%20%20%20%20%20%20%20%20%20%20%20%5B37.855954%2C%20-122.254022%5D%2C%0A%20%20%20%20%20%20%20%20%20%20%20%20%20%20%20%20%7B%7D%0A%20%20%20%20%20%20%20%20%20%20%20%20%29.addTo%28marker_cluster_43dae09a7f9448fe83d8f906d2217d99%29%3B%0A%20%20%20%20%20%20%20%20%0A%20%20%20%20%0A%20%20%20%20%20%20%20%20%20%20%20%20var%20marker_39672a34dfd04d559189f4edc31bcf4b%20%3D%20L.marker%28%0A%20%20%20%20%20%20%20%20%20%20%20%20%20%20%20%20%5B37.871167%2C%20-122.268285%5D%2C%0A%20%20%20%20%20%20%20%20%20%20%20%20%20%20%20%20%7B%7D%0A%20%20%20%20%20%20%20%20%20%20%20%20%29.addTo%28marker_cluster_43dae09a7f9448fe83d8f906d2217d99%29%3B%0A%20%20%20%20%20%20%20%20%0A%20%20%20%20%0A%20%20%20%20%20%20%20%20%20%20%20%20var%20marker_02ab749bf02e49d6ae93d9e646e3b856%20%3D%20L.marker%28%0A%20%20%20%20%20%20%20%20%20%20%20%20%20%20%20%20%5B37.866025%2C%20-122.258623%5D%2C%0A%20%20%20%20%20%20%20%20%20%20%20%20%20%20%20%20%7B%7D%0A%20%20%20%20%20%20%20%20%20%20%20%20%29.addTo%28marker_cluster_43dae09a7f9448fe83d8f906d2217d99%29%3B%0A%20%20%20%20%20%20%20%20%0A%20%20%20%20%0A%20%20%20%20%20%20%20%20%20%20%20%20var%20marker_a457c2ce35e44632b805a536b8ef1663%20%3D%20L.marker%28%0A%20%20%20%20%20%20%20%20%20%20%20%20%20%20%20%20%5B37.87091%2C%20-122.265993%5D%2C%0A%20%20%20%20%20%20%20%20%20%20%20%20%20%20%20%20%7B%7D%0A%20%20%20%20%20%20%20%20%20%20%20%20%29.addTo%28marker_cluster_43dae09a7f9448fe83d8f906d2217d99%29%3B%0A%20%20%20%20%20%20%20%20%0A%20%20%20%20%0A%20%20%20%20%20%20%20%20%20%20%20%20var%20marker_59f59fc3755a42ccbff33e3b69ff449f%20%3D%20L.marker%28%0A%20%20%20%20%20%20%20%20%20%20%20%20%20%20%20%20%5B37.866761%2C%20-122.258779%5D%2C%0A%20%20%20%20%20%20%20%20%20%20%20%20%20%20%20%20%7B%7D%0A%20%20%20%20%20%20%20%20%20%20%20%20%29.addTo%28marker_cluster_43dae09a7f9448fe83d8f906d2217d99%29%3B%0A%20%20%20%20%20%20%20%20%0A%20%20%20%20%0A%20%20%20%20%20%20%20%20%20%20%20%20var%20marker_5fbf657590644a84991dd6ce376bdc6e%20%3D%20L.marker%28%0A%20%20%20%20%20%20%20%20%20%20%20%20%20%20%20%20%5B37.857054%2C%20-122.271393%5D%2C%0A%20%20%20%20%20%20%20%20%20%20%20%20%20%20%20%20%7B%7D%0A%20%20%20%20%20%20%20%20%20%20%20%20%29.addTo%28marker_cluster_43dae09a7f9448fe83d8f906d2217d99%29%3B%0A%20%20%20%20%20%20%20%20%0A%20%20%20%20%0A%20%20%20%20%20%20%20%20%20%20%20%20var%20marker_82c7098d65cb49d488c03ce3f291a6fe%20%3D%20L.marker%28%0A%20%20%20%20%20%20%20%20%20%20%20%20%20%20%20%20%5B37.864238%2C%20-122.265263%5D%2C%0A%20%20%20%20%20%20%20%20%20%20%20%20%20%20%20%20%7B%7D%0A%20%20%20%20%20%20%20%20%20%20%20%20%29.addTo%28marker_cluster_43dae09a7f9448fe83d8f906d2217d99%29%3B%0A%20%20%20%20%20%20%20%20%0A%20%20%20%20%0A%20%20%20%20%20%20%20%20%20%20%20%20var%20marker_b1792ca10c7740d0a14db19c52492fb4%20%3D%20L.marker%28%0A%20%20%20%20%20%20%20%20%20%20%20%20%20%20%20%20%5B37.870603%2C%20-122.270612%5D%2C%0A%20%20%20%20%20%20%20%20%20%20%20%20%20%20%20%20%7B%7D%0A%20%20%20%20%20%20%20%20%20%20%20%20%29.addTo%28marker_cluster_43dae09a7f9448fe83d8f906d2217d99%29%3B%0A%20%20%20%20%20%20%20%20%0A%20%20%20%20%0A%20%20%20%20%20%20%20%20%20%20%20%20var%20marker_702e4379bd1d45fba931c924fffd80b4%20%3D%20L.marker%28%0A%20%20%20%20%20%20%20%20%20%20%20%20%20%20%20%20%5B37.872599%2C%20-122.303889%5D%2C%0A%20%20%20%20%20%20%20%20%20%20%20%20%20%20%20%20%7B%7D%0A%20%20%20%20%20%20%20%20%20%20%20%20%29.addTo%28marker_cluster_43dae09a7f9448fe83d8f906d2217d99%29%3B%0A%20%20%20%20%20%20%20%20%0A%20%20%20%20%0A%20%20%20%20%20%20%20%20%20%20%20%20var%20marker_b0611e1e7b184b29ad6b6e5a2103e5a5%20%3D%20L.marker%28%0A%20%20%20%20%20%20%20%20%20%20%20%20%20%20%20%20%5B37.868923%2C%20-122.303994%5D%2C%0A%20%20%20%20%20%20%20%20%20%20%20%20%20%20%20%20%7B%7D%0A%20%20%20%20%20%20%20%20%20%20%20%20%29.addTo%28marker_cluster_43dae09a7f9448fe83d8f906d2217d99%29%3B%0A%20%20%20%20%20%20%20%20%0A%20%20%20%20%0A%20%20%20%20%20%20%20%20%20%20%20%20var%20marker_f121b1a671aa4bd3ba885f7323131554%20%3D%20L.marker%28%0A%20%20%20%20%20%20%20%20%20%20%20%20%20%20%20%20%5B37.863369%2C%20-122.257622%5D%2C%0A%20%20%20%20%20%20%20%20%20%20%20%20%20%20%20%20%7B%7D%0A%20%20%20%20%20%20%20%20%20%20%20%20%29.addTo%28marker_cluster_43dae09a7f9448fe83d8f906d2217d99%29%3B%0A%20%20%20%20%20%20%20%20%0A%20%20%20%20%0A%20%20%20%20%20%20%20%20%20%20%20%20var%20marker_fe88c84534634f949309df2972bce695%20%3D%20L.marker%28%0A%20%20%20%20%20%20%20%20%20%20%20%20%20%20%20%20%5B37.871167%2C%20-122.268285%5D%2C%0A%20%20%20%20%20%20%20%20%20%20%20%20%20%20%20%20%7B%7D%0A%20%20%20%20%20%20%20%20%20%20%20%20%29.addTo%28marker_cluster_43dae09a7f9448fe83d8f906d2217d99%29%3B%0A%20%20%20%20%20%20%20%20%0A%20%20%20%20%0A%20%20%20%20%20%20%20%20%20%20%20%20var%20marker_fcc558bb537f4857965f23b3ae424855%20%3D%20L.marker%28%0A%20%20%20%20%20%20%20%20%20%20%20%20%20%20%20%20%5B37.870603%2C%20-122.270612%5D%2C%0A%20%20%20%20%20%20%20%20%20%20%20%20%20%20%20%20%7B%7D%0A%20%20%20%20%20%20%20%20%20%20%20%20%29.addTo%28marker_cluster_43dae09a7f9448fe83d8f906d2217d99%29%3B%0A%20%20%20%20%20%20%20%20%0A%20%20%20%20%0A%20%20%20%20%20%20%20%20%20%20%20%20var%20marker_fb1ca2c5d7394899a7f63480a0868b4e%20%3D%20L.marker%28%0A%20%20%20%20%20%20%20%20%20%20%20%20%20%20%20%20%5B37.880027%2C%20-122.279976%5D%2C%0A%20%20%20%20%20%20%20%20%20%20%20%20%20%20%20%20%7B%7D%0A%20%20%20%20%20%20%20%20%20%20%20%20%29.addTo%28marker_cluster_43dae09a7f9448fe83d8f906d2217d99%29%3B%0A%20%20%20%20%20%20%20%20%0A%20%20%20%20%0A%20%20%20%20%20%20%20%20%20%20%20%20var%20marker_49fe18a6762f4d6daeaa63182148b7ae%20%3D%20L.marker%28%0A%20%20%20%20%20%20%20%20%20%20%20%20%20%20%20%20%5B37.868714%2C%20-122.259189%5D%2C%0A%20%20%20%20%20%20%20%20%20%20%20%20%20%20%20%20%7B%7D%0A%20%20%20%20%20%20%20%20%20%20%20%20%29.addTo%28marker_cluster_43dae09a7f9448fe83d8f906d2217d99%29%3B%0A%20%20%20%20%20%20%20%20%0A%20%20%20%20%0A%20%20%20%20%20%20%20%20%20%20%20%20var%20marker_784e6e1ac6fb4425bff502941ebfc852%20%3D%20L.marker%28%0A%20%20%20%20%20%20%20%20%20%20%20%20%20%20%20%20%5B37.883684%2C%20-122.267485%5D%2C%0A%20%20%20%20%20%20%20%20%20%20%20%20%20%20%20%20%7B%7D%0A%20%20%20%20%20%20%20%20%20%20%20%20%29.addTo%28marker_cluster_43dae09a7f9448fe83d8f906d2217d99%29%3B%0A%20%20%20%20%20%20%20%20%0A%20%20%20%20%0A%20%20%20%20%20%20%20%20%20%20%20%20var%20marker_df00a347794a4bb09ab3b37a8969028f%20%3D%20L.marker%28%0A%20%20%20%20%20%20%20%20%20%20%20%20%20%20%20%20%5B37.872599%2C%20-122.303889%5D%2C%0A%20%20%20%20%20%20%20%20%20%20%20%20%20%20%20%20%7B%7D%0A%20%20%20%20%20%20%20%20%20%20%20%20%29.addTo%28marker_cluster_43dae09a7f9448fe83d8f906d2217d99%29%3B%0A%20%20%20%20%20%20%20%20%0A%20%20%20%20%0A%20%20%20%20%20%20%20%20%20%20%20%20var%20marker_701fc1beadbd4ca492b085b29fa4afde%20%3D%20L.marker%28%0A%20%20%20%20%20%20%20%20%20%20%20%20%20%20%20%20%5B37.873687%2C%20-122.268616%5D%2C%0A%20%20%20%20%20%20%20%20%20%20%20%20%20%20%20%20%7B%7D%0A%20%20%20%20%20%20%20%20%20%20%20%20%29.addTo%28marker_cluster_43dae09a7f9448fe83d8f906d2217d99%29%3B%0A%20%20%20%20%20%20%20%20%0A%20%20%20%20%0A%20%20%20%20%20%20%20%20%20%20%20%20var%20marker_b607c2ca6329410d96fe4cb03318a72a%20%3D%20L.marker%28%0A%20%20%20%20%20%20%20%20%20%20%20%20%20%20%20%20%5B37.882353%2C%20-122.267136%5D%2C%0A%20%20%20%20%20%20%20%20%20%20%20%20%20%20%20%20%7B%7D%0A%20%20%20%20%20%20%20%20%20%20%20%20%29.addTo%28marker_cluster_43dae09a7f9448fe83d8f906d2217d99%29%3B%0A%20%20%20%20%20%20%20%20%0A%20%20%20%20%0A%20%20%20%20%20%20%20%20%20%20%20%20var%20marker_75acb087eb924381a98b408d73c1ea52%20%3D%20L.marker%28%0A%20%20%20%20%20%20%20%20%20%20%20%20%20%20%20%20%5B37.87091%2C%20-122.265993%5D%2C%0A%20%20%20%20%20%20%20%20%20%20%20%20%20%20%20%20%7B%7D%0A%20%20%20%20%20%20%20%20%20%20%20%20%29.addTo%28marker_cluster_43dae09a7f9448fe83d8f906d2217d99%29%3B%0A%20%20%20%20%20%20%20%20%0A%20%20%20%20%0A%20%20%20%20%20%20%20%20%20%20%20%20var%20marker_a9dd2353dc3c492596d5dafd932917b7%20%3D%20L.marker%28%0A%20%20%20%20%20%20%20%20%20%20%20%20%20%20%20%20%5B37.848752%2C%20-122.271331%5D%2C%0A%20%20%20%20%20%20%20%20%20%20%20%20%20%20%20%20%7B%7D%0A%20%20%20%20%20%20%20%20%20%20%20%20%29.addTo%28marker_cluster_43dae09a7f9448fe83d8f906d2217d99%29%3B%0A%20%20%20%20%20%20%20%20%0A%20%20%20%20%0A%20%20%20%20%20%20%20%20%20%20%20%20var%20marker_0831c2135daa422b90aee72bd02b3a2c%20%3D%20L.marker%28%0A%20%20%20%20%20%20%20%20%20%20%20%20%20%20%20%20%5B37.869688%2C%20-122.272805%5D%2C%0A%20%20%20%20%20%20%20%20%20%20%20%20%20%20%20%20%7B%7D%0A%20%20%20%20%20%20%20%20%20%20%20%20%29.addTo%28marker_cluster_43dae09a7f9448fe83d8f906d2217d99%29%3B%0A%20%20%20%20%20%20%20%20%0A%20%20%20%20%0A%20%20%20%20%20%20%20%20%20%20%20%20var%20marker_45eb706200c74a84b099ed742e678def%20%3D%20L.marker%28%0A%20%20%20%20%20%20%20%20%20%20%20%20%20%20%20%20%5B37.866622%2C%20-122.26108%5D%2C%0A%20%20%20%20%20%20%20%20%20%20%20%20%20%20%20%20%7B%7D%0A%20%20%20%20%20%20%20%20%20%20%20%20%29.addTo%28marker_cluster_43dae09a7f9448fe83d8f906d2217d99%29%3B%0A%20%20%20%20%20%20%20%20%0A%20%20%20%20%0A%20%20%20%20%20%20%20%20%20%20%20%20var%20marker_34f5a15bfd984ba7bfbe48fb8a6bdf69%20%3D%20L.marker%28%0A%20%20%20%20%20%20%20%20%20%20%20%20%20%20%20%20%5B37.849431%2C%20-122.278174%5D%2C%0A%20%20%20%20%20%20%20%20%20%20%20%20%20%20%20%20%7B%7D%0A%20%20%20%20%20%20%20%20%20%20%20%20%29.addTo%28marker_cluster_43dae09a7f9448fe83d8f906d2217d99%29%3B%0A%20%20%20%20%20%20%20%20%0A%20%20%20%20%0A%20%20%20%20%20%20%20%20%20%20%20%20var%20marker_51fc84da7c4e439a89e27170bf958cee%20%3D%20L.marker%28%0A%20%20%20%20%20%20%20%20%20%20%20%20%20%20%20%20%5B37.865134%2C%20-122.258331%5D%2C%0A%20%20%20%20%20%20%20%20%20%20%20%20%20%20%20%20%7B%7D%0A%20%20%20%20%20%20%20%20%20%20%20%20%29.addTo%28marker_cluster_43dae09a7f9448fe83d8f906d2217d99%29%3B%0A%20%20%20%20%20%20%20%20%0A%20%20%20%20%0A%20%20%20%20%20%20%20%20%20%20%20%20var%20marker_725f4c0edded4f2c99cbf156d66841d9%20%3D%20L.marker%28%0A%20%20%20%20%20%20%20%20%20%20%20%20%20%20%20%20%5B37.868532%2C%20-122.274764%5D%2C%0A%20%20%20%20%20%20%20%20%20%20%20%20%20%20%20%20%7B%7D%0A%20%20%20%20%20%20%20%20%20%20%20%20%29.addTo%28marker_cluster_43dae09a7f9448fe83d8f906d2217d99%29%3B%0A%20%20%20%20%20%20%20%20%0A%20%20%20%20%0A%20%20%20%20%20%20%20%20%20%20%20%20var%20marker_e325a891809b41428b26ddb939526290%20%3D%20L.marker%28%0A%20%20%20%20%20%20%20%20%20%20%20%20%20%20%20%20%5B37.868785%2C%20-122.272701%5D%2C%0A%20%20%20%20%20%20%20%20%20%20%20%20%20%20%20%20%7B%7D%0A%20%20%20%20%20%20%20%20%20%20%20%20%29.addTo%28marker_cluster_43dae09a7f9448fe83d8f906d2217d99%29%3B%0A%20%20%20%20%20%20%20%20%0A%20%20%20%20%0A%20%20%20%20%20%20%20%20%20%20%20%20var%20marker_e20316a7719c4accb229306fa6b4f416%20%3D%20L.marker%28%0A%20%20%20%20%20%20%20%20%20%20%20%20%20%20%20%20%5B37.873639%2C%20-122.27064%5D%2C%0A%20%20%20%20%20%20%20%20%20%20%20%20%20%20%20%20%7B%7D%0A%20%20%20%20%20%20%20%20%20%20%20%20%29.addTo%28marker_cluster_43dae09a7f9448fe83d8f906d2217d99%29%3B%0A%20%20%20%20%20%20%20%20%0A%20%20%20%20%0A%20%20%20%20%20%20%20%20%20%20%20%20var%20marker_7b9d23340a3b46969442919966413466%20%3D%20L.marker%28%0A%20%20%20%20%20%20%20%20%20%20%20%20%20%20%20%20%5B37.868164%2C%20-122.256314%5D%2C%0A%20%20%20%20%20%20%20%20%20%20%20%20%20%20%20%20%7B%7D%0A%20%20%20%20%20%20%20%20%20%20%20%20%29.addTo%28marker_cluster_43dae09a7f9448fe83d8f906d2217d99%29%3B%0A%20%20%20%20%20%20%20%20%0A%20%20%20%20%0A%20%20%20%20%20%20%20%20%20%20%20%20var%20marker_2d36441324614ccba39eaba1c8e484b9%20%3D%20L.marker%28%0A%20%20%20%20%20%20%20%20%20%20%20%20%20%20%20%20%5B37.867852%2C%20-122.258699%5D%2C%0A%20%20%20%20%20%20%20%20%20%20%20%20%20%20%20%20%7B%7D%0A%20%20%20%20%20%20%20%20%20%20%20%20%29.addTo%28marker_cluster_43dae09a7f9448fe83d8f906d2217d99%29%3B%0A%20%20%20%20%20%20%20%20%0A%20%20%20%20%0A%20%20%20%20%20%20%20%20%20%20%20%20var%20marker_8c9be85e7d6f467a835e292b5822fc35%20%3D%20L.marker%28%0A%20%20%20%20%20%20%20%20%20%20%20%20%20%20%20%20%5B37.85525%2C%20-122.277126%5D%2C%0A%20%20%20%20%20%20%20%20%20%20%20%20%20%20%20%20%7B%7D%0A%20%20%20%20%20%20%20%20%20%20%20%20%29.addTo%28marker_cluster_43dae09a7f9448fe83d8f906d2217d99%29%3B%0A%20%20%20%20%20%20%20%20%0A%20%20%20%20%0A%20%20%20%20%20%20%20%20%20%20%20%20var%20marker_eb65d8e8920d4b76a8a4a3792383c972%20%3D%20L.marker%28%0A%20%20%20%20%20%20%20%20%20%20%20%20%20%20%20%20%5B37.869041%2C%20-122.292204%5D%2C%0A%20%20%20%20%20%20%20%20%20%20%20%20%20%20%20%20%7B%7D%0A%20%20%20%20%20%20%20%20%20%20%20%20%29.addTo%28marker_cluster_43dae09a7f9448fe83d8f906d2217d99%29%3B%0A%20%20%20%20%20%20%20%20%0A%20%20%20%20%0A%20%20%20%20%20%20%20%20%20%20%20%20var%20marker_2264113ca94b4658821b02cb6caeae49%20%3D%20L.marker%28%0A%20%20%20%20%20%20%20%20%20%20%20%20%20%20%20%20%5B37.859309%2C%20-122.259291%5D%2C%0A%20%20%20%20%20%20%20%20%20%20%20%20%20%20%20%20%7B%7D%0A%20%20%20%20%20%20%20%20%20%20%20%20%29.addTo%28marker_cluster_43dae09a7f9448fe83d8f906d2217d99%29%3B%0A%20%20%20%20%20%20%20%20%0A%20%20%20%20%0A%20%20%20%20%20%20%20%20%20%20%20%20var%20marker_522aedca8ff1498b954d68abb125e5a8%20%3D%20L.marker%28%0A%20%20%20%20%20%20%20%20%20%20%20%20%20%20%20%20%5B37.856111%2C%20-122.260248%5D%2C%0A%20%20%20%20%20%20%20%20%20%20%20%20%20%20%20%20%7B%7D%0A%20%20%20%20%20%20%20%20%20%20%20%20%29.addTo%28marker_cluster_43dae09a7f9448fe83d8f906d2217d99%29%3B%0A%20%20%20%20%20%20%20%20%0A%20%20%20%20%0A%20%20%20%20%20%20%20%20%20%20%20%20var%20marker_6eedcb48876647f09c37d53bdb66ab25%20%3D%20L.marker%28%0A%20%20%20%20%20%20%20%20%20%20%20%20%20%20%20%20%5B37.854148%2C%20-122.288597%5D%2C%0A%20%20%20%20%20%20%20%20%20%20%20%20%20%20%20%20%7B%7D%0A%20%20%20%20%20%20%20%20%20%20%20%20%29.addTo%28marker_cluster_43dae09a7f9448fe83d8f906d2217d99%29%3B%0A%20%20%20%20%20%20%20%20%0A%20%20%20%20%0A%20%20%20%20%20%20%20%20%20%20%20%20var%20marker_4ab0421f58d84c35aa2ff3f354bc1e3d%20%3D%20L.marker%28%0A%20%20%20%20%20%20%20%20%20%20%20%20%20%20%20%20%5B37.852261%2C%20-122.267127%5D%2C%0A%20%20%20%20%20%20%20%20%20%20%20%20%20%20%20%20%7B%7D%0A%20%20%20%20%20%20%20%20%20%20%20%20%29.addTo%28marker_cluster_43dae09a7f9448fe83d8f906d2217d99%29%3B%0A%20%20%20%20%20%20%20%20%0A%20%20%20%20%0A%20%20%20%20%20%20%20%20%20%20%20%20var%20marker_6bdcaef8227e405db63d73a025cb602d%20%3D%20L.marker%28%0A%20%20%20%20%20%20%20%20%20%20%20%20%20%20%20%20%5B37.867209%2C%20-122.256554%5D%2C%0A%20%20%20%20%20%20%20%20%20%20%20%20%20%20%20%20%7B%7D%0A%20%20%20%20%20%20%20%20%20%20%20%20%29.addTo%28marker_cluster_43dae09a7f9448fe83d8f906d2217d99%29%3B%0A%20%20%20%20%20%20%20%20%0A%20%20%20%20%0A%20%20%20%20%20%20%20%20%20%20%20%20var%20marker_9d5cc35addf44122ba5f916ec6e84757%20%3D%20L.marker%28%0A%20%20%20%20%20%20%20%20%20%20%20%20%20%20%20%20%5B37.846404%2C%20-122.275263%5D%2C%0A%20%20%20%20%20%20%20%20%20%20%20%20%20%20%20%20%7B%7D%0A%20%20%20%20%20%20%20%20%20%20%20%20%29.addTo%28marker_cluster_43dae09a7f9448fe83d8f906d2217d99%29%3B%0A%20%20%20%20%20%20%20%20%0A%20%20%20%20%0A%20%20%20%20%20%20%20%20%20%20%20%20var%20marker_868de432e1cc45c0be6bd601b9c79d39%20%3D%20L.marker%28%0A%20%20%20%20%20%20%20%20%20%20%20%20%20%20%20%20%5B37.86328%2C%20-122.297383%5D%2C%0A%20%20%20%20%20%20%20%20%20%20%20%20%20%20%20%20%7B%7D%0A%20%20%20%20%20%20%20%20%20%20%20%20%29.addTo%28marker_cluster_43dae09a7f9448fe83d8f906d2217d99%29%3B%0A%20%20%20%20%20%20%20%20%0A%20%20%20%20%0A%20%20%20%20%20%20%20%20%20%20%20%20var%20marker_30b5711727334fe8aa9a8b6b6cc4a1e9%20%3D%20L.marker%28%0A%20%20%20%20%20%20%20%20%20%20%20%20%20%20%20%20%5B37.866622%2C%20-122.26108%5D%2C%0A%20%20%20%20%20%20%20%20%20%20%20%20%20%20%20%20%7B%7D%0A%20%20%20%20%20%20%20%20%20%20%20%20%29.addTo%28marker_cluster_43dae09a7f9448fe83d8f906d2217d99%29%3B%0A%20%20%20%20%20%20%20%20%0A%20%20%20%20%0A%20%20%20%20%20%20%20%20%20%20%20%20var%20marker_f4a0b4d4bba64838b62a3be7a0f84c13%20%3D%20L.marker%28%0A%20%20%20%20%20%20%20%20%20%20%20%20%20%20%20%20%5B37.871167%2C%20-122.268285%5D%2C%0A%20%20%20%20%20%20%20%20%20%20%20%20%20%20%20%20%7B%7D%0A%20%20%20%20%20%20%20%20%20%20%20%20%29.addTo%28marker_cluster_43dae09a7f9448fe83d8f906d2217d99%29%3B%0A%20%20%20%20%20%20%20%20%0A%20%20%20%20%0A%20%20%20%20%20%20%20%20%20%20%20%20var%20marker_e1bf1f66e6e74b0e8c96294ed06d6a3a%20%3D%20L.marker%28%0A%20%20%20%20%20%20%20%20%20%20%20%20%20%20%20%20%5B37.868574%2C%20-122.270415%5D%2C%0A%20%20%20%20%20%20%20%20%20%20%20%20%20%20%20%20%7B%7D%0A%20%20%20%20%20%20%20%20%20%20%20%20%29.addTo%28marker_cluster_43dae09a7f9448fe83d8f906d2217d99%29%3B%0A%20%20%20%20%20%20%20%20%0A%20%20%20%20%0A%20%20%20%20%20%20%20%20%20%20%20%20var%20marker_dd8fe4db60504f6db3f1c0246456f532%20%3D%20L.marker%28%0A%20%20%20%20%20%20%20%20%20%20%20%20%20%20%20%20%5B37.861661%2C%20-122.256169%5D%2C%0A%20%20%20%20%20%20%20%20%20%20%20%20%20%20%20%20%7B%7D%0A%20%20%20%20%20%20%20%20%20%20%20%20%29.addTo%28marker_cluster_43dae09a7f9448fe83d8f906d2217d99%29%3B%0A%20%20%20%20%20%20%20%20%0A%20%20%20%20%0A%20%20%20%20%20%20%20%20%20%20%20%20var%20marker_274425dd05194274857a0a6070284e8f%20%3D%20L.marker%28%0A%20%20%20%20%20%20%20%20%20%20%20%20%20%20%20%20%5B37.852422%2C%20-122.278571%5D%2C%0A%20%20%20%20%20%20%20%20%20%20%20%20%20%20%20%20%7B%7D%0A%20%20%20%20%20%20%20%20%20%20%20%20%29.addTo%28marker_cluster_43dae09a7f9448fe83d8f906d2217d99%29%3B%0A%20%20%20%20%20%20%20%20%0A%20%20%20%20%0A%20%20%20%20%20%20%20%20%20%20%20%20var%20marker_10279379d8c5438496c805d2b9ad8115%20%3D%20L.marker%28%0A%20%20%20%20%20%20%20%20%20%20%20%20%20%20%20%20%5B37.870054%2C%20-122.284263%5D%2C%0A%20%20%20%20%20%20%20%20%20%20%20%20%20%20%20%20%7B%7D%0A%20%20%20%20%20%20%20%20%20%20%20%20%29.addTo%28marker_cluster_43dae09a7f9448fe83d8f906d2217d99%29%3B%0A%20%20%20%20%20%20%20%20%0A%20%20%20%20%0A%20%20%20%20%20%20%20%20%20%20%20%20var%20marker_c9e92a1a95a7402e9fc4072ab1faf69a%20%3D%20L.marker%28%0A%20%20%20%20%20%20%20%20%20%20%20%20%20%20%20%20%5B37.852422%2C%20-122.278571%5D%2C%0A%20%20%20%20%20%20%20%20%20%20%20%20%20%20%20%20%7B%7D%0A%20%20%20%20%20%20%20%20%20%20%20%20%29.addTo%28marker_cluster_43dae09a7f9448fe83d8f906d2217d99%29%3B%0A%20%20%20%20%20%20%20%20%0A%20%20%20%20%0A%20%20%20%20%20%20%20%20%20%20%20%20var%20marker_c8fbe5b1380b468aaa47beaab4576d44%20%3D%20L.marker%28%0A%20%20%20%20%20%20%20%20%20%20%20%20%20%20%20%20%5B37.853638%2C%20-122.289588%5D%2C%0A%20%20%20%20%20%20%20%20%20%20%20%20%20%20%20%20%7B%7D%0A%20%20%20%20%20%20%20%20%20%20%20%20%29.addTo%28marker_cluster_43dae09a7f9448fe83d8f906d2217d99%29%3B%0A%20%20%20%20%20%20%20%20%0A%20%20%20%20%0A%20%20%20%20%20%20%20%20%20%20%20%20var%20marker_6238e965a1c847af9fae6a81325991a8%20%3D%20L.marker%28%0A%20%20%20%20%20%20%20%20%20%20%20%20%20%20%20%20%5B37.880468%2C%20-122.295876%5D%2C%0A%20%20%20%20%20%20%20%20%20%20%20%20%20%20%20%20%7B%7D%0A%20%20%20%20%20%20%20%20%20%20%20%20%29.addTo%28marker_cluster_43dae09a7f9448fe83d8f906d2217d99%29%3B%0A%20%20%20%20%20%20%20%20%0A%20%20%20%20%0A%20%20%20%20%20%20%20%20%20%20%20%20var%20marker_fd1ef23029264216af07a13ad64dab90%20%3D%20L.marker%28%0A%20%20%20%20%20%20%20%20%20%20%20%20%20%20%20%20%5B37.848752%2C%20-122.271331%5D%2C%0A%20%20%20%20%20%20%20%20%20%20%20%20%20%20%20%20%7B%7D%0A%20%20%20%20%20%20%20%20%20%20%20%20%29.addTo%28marker_cluster_43dae09a7f9448fe83d8f906d2217d99%29%3B%0A%20%20%20%20%20%20%20%20%0A%20%20%20%20%0A%20%20%20%20%20%20%20%20%20%20%20%20var%20marker_b185e0f3051442d6908969b449dd0ec4%20%3D%20L.marker%28%0A%20%20%20%20%20%20%20%20%20%20%20%20%20%20%20%20%5B37.860766%2C%20-122.255895%5D%2C%0A%20%20%20%20%20%20%20%20%20%20%20%20%20%20%20%20%7B%7D%0A%20%20%20%20%20%20%20%20%20%20%20%20%29.addTo%28marker_cluster_43dae09a7f9448fe83d8f906d2217d99%29%3B%0A%20%20%20%20%20%20%20%20%0A%20%20%20%20%0A%20%20%20%20%20%20%20%20%20%20%20%20var%20marker_d58822d805e648289518c97af77b0f9e%20%3D%20L.marker%28%0A%20%20%20%20%20%20%20%20%20%20%20%20%20%20%20%20%5B37.870948%2C%20-122.27733%5D%2C%0A%20%20%20%20%20%20%20%20%20%20%20%20%20%20%20%20%7B%7D%0A%20%20%20%20%20%20%20%20%20%20%20%20%29.addTo%28marker_cluster_43dae09a7f9448fe83d8f906d2217d99%29%3B%0A%20%20%20%20%20%20%20%20%0A%20%20%20%20%0A%20%20%20%20%20%20%20%20%20%20%20%20var%20marker_d5dd337f93a94d2bb24ac7bd8309ba10%20%3D%20L.marker%28%0A%20%20%20%20%20%20%20%20%20%20%20%20%20%20%20%20%5B37.863143%2C%20-122.266681%5D%2C%0A%20%20%20%20%20%20%20%20%20%20%20%20%20%20%20%20%7B%7D%0A%20%20%20%20%20%20%20%20%20%20%20%20%29.addTo%28marker_cluster_43dae09a7f9448fe83d8f906d2217d99%29%3B%0A%20%20%20%20%20%20%20%20%0A%20%20%20%20%0A%20%20%20%20%20%20%20%20%20%20%20%20var%20marker_25cb89690abc4ae1881e38bb23804a17%20%3D%20L.marker%28%0A%20%20%20%20%20%20%20%20%20%20%20%20%20%20%20%20%5B37.871167%2C%20-122.268285%5D%2C%0A%20%20%20%20%20%20%20%20%20%20%20%20%20%20%20%20%7B%7D%0A%20%20%20%20%20%20%20%20%20%20%20%20%29.addTo%28marker_cluster_43dae09a7f9448fe83d8f906d2217d99%29%3B%0A%20%20%20%20%20%20%20%20%0A%20%20%20%20%0A%20%20%20%20%20%20%20%20%20%20%20%20var%20marker_4d45b9400d644c8c9a442a525255f32b%20%3D%20L.marker%28%0A%20%20%20%20%20%20%20%20%20%20%20%20%20%20%20%20%5B37.865945%2C%20-122.250471%5D%2C%0A%20%20%20%20%20%20%20%20%20%20%20%20%20%20%20%20%7B%7D%0A%20%20%20%20%20%20%20%20%20%20%20%20%29.addTo%28marker_cluster_43dae09a7f9448fe83d8f906d2217d99%29%3B%0A%20%20%20%20%20%20%20%20%0A%20%20%20%20%0A%20%20%20%20%20%20%20%20%20%20%20%20var%20marker_818400779b9f43bca07dbe33222eb198%20%3D%20L.marker%28%0A%20%20%20%20%20%20%20%20%20%20%20%20%20%20%20%20%5B37.869685%2C%20-122.272804%5D%2C%0A%20%20%20%20%20%20%20%20%20%20%20%20%20%20%20%20%7B%7D%0A%20%20%20%20%20%20%20%20%20%20%20%20%29.addTo%28marker_cluster_43dae09a7f9448fe83d8f906d2217d99%29%3B%0A%20%20%20%20%20%20%20%20%0A%20%20%20%20%0A%20%20%20%20%20%20%20%20%20%20%20%20var%20marker_c9e788773af241dea91c902dc331804e%20%3D%20L.marker%28%0A%20%20%20%20%20%20%20%20%20%20%20%20%20%20%20%20%5B37.867852%2C%20-122.258699%5D%2C%0A%20%20%20%20%20%20%20%20%20%20%20%20%20%20%20%20%7B%7D%0A%20%20%20%20%20%20%20%20%20%20%20%20%29.addTo%28marker_cluster_43dae09a7f9448fe83d8f906d2217d99%29%3B%0A%20%20%20%20%20%20%20%20%0A%20%20%20%20%0A%20%20%20%20%20%20%20%20%20%20%20%20var%20marker_0d07db5f393a4daaa4ba20faac7ddadc%20%3D%20L.marker%28%0A%20%20%20%20%20%20%20%20%20%20%20%20%20%20%20%20%5B37.870308%2C%20-122.26805%5D%2C%0A%20%20%20%20%20%20%20%20%20%20%20%20%20%20%20%20%7B%7D%0A%20%20%20%20%20%20%20%20%20%20%20%20%29.addTo%28marker_cluster_43dae09a7f9448fe83d8f906d2217d99%29%3B%0A%20%20%20%20%20%20%20%20%0A%20%20%20%20%0A%20%20%20%20%20%20%20%20%20%20%20%20var%20marker_00ca0029b1db44169692e5c822e60c8e%20%3D%20L.marker%28%0A%20%20%20%20%20%20%20%20%20%20%20%20%20%20%20%20%5B37.850899%2C%20-122.276174%5D%2C%0A%20%20%20%20%20%20%20%20%20%20%20%20%20%20%20%20%7B%7D%0A%20%20%20%20%20%20%20%20%20%20%20%20%29.addTo%28marker_cluster_43dae09a7f9448fe83d8f906d2217d99%29%3B%0A%20%20%20%20%20%20%20%20%0A%20%20%20%20%0A%20%20%20%20%20%20%20%20%20%20%20%20var%20marker_d0408e75b5c44f3bb0b6f3eef290e8de%20%3D%20L.marker%28%0A%20%20%20%20%20%20%20%20%20%20%20%20%20%20%20%20%5B37.851919%2C%20-122.286667%5D%2C%0A%20%20%20%20%20%20%20%20%20%20%20%20%20%20%20%20%7B%7D%0A%20%20%20%20%20%20%20%20%20%20%20%20%29.addTo%28marker_cluster_43dae09a7f9448fe83d8f906d2217d99%29%3B%0A%20%20%20%20%20%20%20%20%0A%20%20%20%20%0A%20%20%20%20%20%20%20%20%20%20%20%20var%20marker_35c71cd59a1e4f649eb3a2fe6851677c%20%3D%20L.marker%28%0A%20%20%20%20%20%20%20%20%20%20%20%20%20%20%20%20%5B37.873687%2C%20-122.268616%5D%2C%0A%20%20%20%20%20%20%20%20%20%20%20%20%20%20%20%20%7B%7D%0A%20%20%20%20%20%20%20%20%20%20%20%20%29.addTo%28marker_cluster_43dae09a7f9448fe83d8f906d2217d99%29%3B%0A%20%20%20%20%20%20%20%20%0A%20%20%20%20%0A%20%20%20%20%20%20%20%20%20%20%20%20var%20marker_bdc07c332f6145a0b72bca48645807c5%20%3D%20L.marker%28%0A%20%20%20%20%20%20%20%20%20%20%20%20%20%20%20%20%5B37.885744%2C%20-122.278017%5D%2C%0A%20%20%20%20%20%20%20%20%20%20%20%20%20%20%20%20%7B%7D%0A%20%20%20%20%20%20%20%20%20%20%20%20%29.addTo%28marker_cluster_43dae09a7f9448fe83d8f906d2217d99%29%3B%0A%20%20%20%20%20%20%20%20%0A%20%20%20%20%0A%20%20%20%20%20%20%20%20%20%20%20%20var%20marker_3cd43cc6cf054b7d86eea248ae9fb375%20%3D%20L.marker%28%0A%20%20%20%20%20%20%20%20%20%20%20%20%20%20%20%20%5B37.868103%2C%20-122.25672%5D%2C%0A%20%20%20%20%20%20%20%20%20%20%20%20%20%20%20%20%7B%7D%0A%20%20%20%20%20%20%20%20%20%20%20%20%29.addTo%28marker_cluster_43dae09a7f9448fe83d8f906d2217d99%29%3B%0A%20%20%20%20%20%20%20%20%0A%20%20%20%20%0A%20%20%20%20%20%20%20%20%20%20%20%20var%20marker_3fc257da8e7e474a9f07c9d0ba26c0d3%20%3D%20L.marker%28%0A%20%20%20%20%20%20%20%20%20%20%20%20%20%20%20%20%5B37.859988%2C%20-122.253339%5D%2C%0A%20%20%20%20%20%20%20%20%20%20%20%20%20%20%20%20%7B%7D%0A%20%20%20%20%20%20%20%20%20%20%20%20%29.addTo%28marker_cluster_43dae09a7f9448fe83d8f906d2217d99%29%3B%0A%20%20%20%20%20%20%20%20%0A%20%20%20%20%0A%20%20%20%20%20%20%20%20%20%20%20%20var%20marker_f0e7f177a60840189fd6daa9286d59b0%20%3D%20L.marker%28%0A%20%20%20%20%20%20%20%20%20%20%20%20%20%20%20%20%5B37.883684%2C%20-122.267485%5D%2C%0A%20%20%20%20%20%20%20%20%20%20%20%20%20%20%20%20%7B%7D%0A%20%20%20%20%20%20%20%20%20%20%20%20%29.addTo%28marker_cluster_43dae09a7f9448fe83d8f906d2217d99%29%3B%0A%20%20%20%20%20%20%20%20%0A%20%20%20%20%0A%20%20%20%20%20%20%20%20%20%20%20%20var%20marker_7acac8ed7a4c40ad99d23b1975345385%20%3D%20L.marker%28%0A%20%20%20%20%20%20%20%20%20%20%20%20%20%20%20%20%5B37.867501%2C%20-122.291709%5D%2C%0A%20%20%20%20%20%20%20%20%20%20%20%20%20%20%20%20%7B%7D%0A%20%20%20%20%20%20%20%20%20%20%20%20%29.addTo%28marker_cluster_43dae09a7f9448fe83d8f906d2217d99%29%3B%0A%20%20%20%20%20%20%20%20%0A%20%20%20%20%0A%20%20%20%20%20%20%20%20%20%20%20%20var%20marker_74c7899d21ed430ebaa9a63858ed4fda%20%3D%20L.marker%28%0A%20%20%20%20%20%20%20%20%20%20%20%20%20%20%20%20%5B37.870054%2C%20-122.284263%5D%2C%0A%20%20%20%20%20%20%20%20%20%20%20%20%20%20%20%20%7B%7D%0A%20%20%20%20%20%20%20%20%20%20%20%20%29.addTo%28marker_cluster_43dae09a7f9448fe83d8f906d2217d99%29%3B%0A%20%20%20%20%20%20%20%20%0A%20%20%20%20%0A%20%20%20%20%20%20%20%20%20%20%20%20var%20marker_59232502d42f4fe18921d292c3291b9d%20%3D%20L.marker%28%0A%20%20%20%20%20%20%20%20%20%20%20%20%20%20%20%20%5B37.863679%2C%20-122.269631%5D%2C%0A%20%20%20%20%20%20%20%20%20%20%20%20%20%20%20%20%7B%7D%0A%20%20%20%20%20%20%20%20%20%20%20%20%29.addTo%28marker_cluster_43dae09a7f9448fe83d8f906d2217d99%29%3B%0A%20%20%20%20%20%20%20%20%0A%20%20%20%20%0A%20%20%20%20%20%20%20%20%20%20%20%20var%20marker_8920a59aa1a4470fbf79a8f2c23715f2%20%3D%20L.marker%28%0A%20%20%20%20%20%20%20%20%20%20%20%20%20%20%20%20%5B37.857452%2C%20-122.259548%5D%2C%0A%20%20%20%20%20%20%20%20%20%20%20%20%20%20%20%20%7B%7D%0A%20%20%20%20%20%20%20%20%20%20%20%20%29.addTo%28marker_cluster_43dae09a7f9448fe83d8f906d2217d99%29%3B%0A%20%20%20%20%20%20%20%20%0A%20%20%20%20%0A%20%20%20%20%20%20%20%20%20%20%20%20var%20marker_dad043ee06ac41b7a14d6260f1c6d6ea%20%3D%20L.marker%28%0A%20%20%20%20%20%20%20%20%20%20%20%20%20%20%20%20%5B37.866761%2C%20-122.258779%5D%2C%0A%20%20%20%20%20%20%20%20%20%20%20%20%20%20%20%20%7B%7D%0A%20%20%20%20%20%20%20%20%20%20%20%20%29.addTo%28marker_cluster_43dae09a7f9448fe83d8f906d2217d99%29%3B%0A%20%20%20%20%20%20%20%20%0A%20%20%20%20%0A%20%20%20%20%20%20%20%20%20%20%20%20var%20marker_e28567011253451ea289064ed23f2598%20%3D%20L.marker%28%0A%20%20%20%20%20%20%20%20%20%20%20%20%20%20%20%20%5B37.869688%2C%20-122.272805%5D%2C%0A%20%20%20%20%20%20%20%20%20%20%20%20%20%20%20%20%7B%7D%0A%20%20%20%20%20%20%20%20%20%20%20%20%29.addTo%28marker_cluster_43dae09a7f9448fe83d8f906d2217d99%29%3B%0A%20%20%20%20%20%20%20%20%0A%20%20%20%20%0A%20%20%20%20%20%20%20%20%20%20%20%20var%20marker_d34dd95fc2854338986b0eb56d2d95be%20%3D%20L.marker%28%0A%20%20%20%20%20%20%20%20%20%20%20%20%20%20%20%20%5B37.866761%2C%20-122.258779%5D%2C%0A%20%20%20%20%20%20%20%20%20%20%20%20%20%20%20%20%7B%7D%0A%20%20%20%20%20%20%20%20%20%20%20%20%29.addTo%28marker_cluster_43dae09a7f9448fe83d8f906d2217d99%29%3B%0A%20%20%20%20%20%20%20%20%0A%20%20%20%20%0A%20%20%20%20%20%20%20%20%20%20%20%20var%20marker_4712ccffb5ef49fc9e439dd1c8afbdf2%20%3D%20L.marker%28%0A%20%20%20%20%20%20%20%20%20%20%20%20%20%20%20%20%5B37.862789%2C%20-122.317198%5D%2C%0A%20%20%20%20%20%20%20%20%20%20%20%20%20%20%20%20%7B%7D%0A%20%20%20%20%20%20%20%20%20%20%20%20%29.addTo%28marker_cluster_43dae09a7f9448fe83d8f906d2217d99%29%3B%0A%20%20%20%20%20%20%20%20%0A%20%20%20%20%0A%20%20%20%20%20%20%20%20%20%20%20%20var%20marker_9b2f18b0622048e9985127cb4c24fd94%20%3D%20L.marker%28%0A%20%20%20%20%20%20%20%20%20%20%20%20%20%20%20%20%5B37.86277%2C%20-122.297218%5D%2C%0A%20%20%20%20%20%20%20%20%20%20%20%20%20%20%20%20%7B%7D%0A%20%20%20%20%20%20%20%20%20%20%20%20%29.addTo%28marker_cluster_43dae09a7f9448fe83d8f906d2217d99%29%3B%0A%20%20%20%20%20%20%20%20%0A%20%20%20%20%0A%20%20%20%20%20%20%20%20%20%20%20%20var%20marker_1ed0bd3a46bd439583bef2422327b8e9%20%3D%20L.marker%28%0A%20%20%20%20%20%20%20%20%20%20%20%20%20%20%20%20%5B37.8549%2C%20-122.27945%5D%2C%0A%20%20%20%20%20%20%20%20%20%20%20%20%20%20%20%20%7B%7D%0A%20%20%20%20%20%20%20%20%20%20%20%20%29.addTo%28marker_cluster_43dae09a7f9448fe83d8f906d2217d99%29%3B%0A%20%20%20%20%20%20%20%20%0A%20%20%20%20%0A%20%20%20%20%20%20%20%20%20%20%20%20var%20marker_117074de5ba5435eae474b3a3a1df4ef%20%3D%20L.marker%28%0A%20%20%20%20%20%20%20%20%20%20%20%20%20%20%20%20%5B37.883948%2C%20-122.296991%5D%2C%0A%20%20%20%20%20%20%20%20%20%20%20%20%20%20%20%20%7B%7D%0A%20%20%20%20%20%20%20%20%20%20%20%20%29.addTo%28marker_cluster_43dae09a7f9448fe83d8f906d2217d99%29%3B%0A%20%20%20%20%20%20%20%20%0A%20%20%20%20%0A%20%20%20%20%20%20%20%20%20%20%20%20var%20marker_4663c336dd9c4afb9ce6460b462c82f3%20%3D%20L.marker%28%0A%20%20%20%20%20%20%20%20%20%20%20%20%20%20%20%20%5B37.875505%2C%20-122.298797%5D%2C%0A%20%20%20%20%20%20%20%20%20%20%20%20%20%20%20%20%7B%7D%0A%20%20%20%20%20%20%20%20%20%20%20%20%29.addTo%28marker_cluster_43dae09a7f9448fe83d8f906d2217d99%29%3B%0A%20%20%20%20%20%20%20%20%0A%20%20%20%20%0A%20%20%20%20%20%20%20%20%20%20%20%20var%20marker_16169003998d43e086c3f9d0498e4417%20%3D%20L.marker%28%0A%20%20%20%20%20%20%20%20%20%20%20%20%20%20%20%20%5B37.880266%2C%20-122.269032%5D%2C%0A%20%20%20%20%20%20%20%20%20%20%20%20%20%20%20%20%7B%7D%0A%20%20%20%20%20%20%20%20%20%20%20%20%29.addTo%28marker_cluster_43dae09a7f9448fe83d8f906d2217d99%29%3B%0A%20%20%20%20%20%20%20%20%0A%20%20%20%20%0A%20%20%20%20%20%20%20%20%20%20%20%20var%20marker_06c076e97a60473bb51e9b2250813b49%20%3D%20L.marker%28%0A%20%20%20%20%20%20%20%20%20%20%20%20%20%20%20%20%5B37.866761%2C%20-122.258779%5D%2C%0A%20%20%20%20%20%20%20%20%20%20%20%20%20%20%20%20%7B%7D%0A%20%20%20%20%20%20%20%20%20%20%20%20%29.addTo%28marker_cluster_43dae09a7f9448fe83d8f906d2217d99%29%3B%0A%20%20%20%20%20%20%20%20%0A%20%20%20%20%0A%20%20%20%20%20%20%20%20%20%20%20%20var%20marker_b28581c085e34ecd89d845fbe2969e70%20%3D%20L.marker%28%0A%20%20%20%20%20%20%20%20%20%20%20%20%20%20%20%20%5B37.869105%2C%20-122.270064%5D%2C%0A%20%20%20%20%20%20%20%20%20%20%20%20%20%20%20%20%7B%7D%0A%20%20%20%20%20%20%20%20%20%20%20%20%29.addTo%28marker_cluster_43dae09a7f9448fe83d8f906d2217d99%29%3B%0A%20%20%20%20%20%20%20%20%0A%20%20%20%20%0A%20%20%20%20%20%20%20%20%20%20%20%20var%20marker_9b2a636374a04bb08988e8c53fdb762f%20%3D%20L.marker%28%0A%20%20%20%20%20%20%20%20%20%20%20%20%20%20%20%20%5B37.865772%2C%20-122.267643%5D%2C%0A%20%20%20%20%20%20%20%20%20%20%20%20%20%20%20%20%7B%7D%0A%20%20%20%20%20%20%20%20%20%20%20%20%29.addTo%28marker_cluster_43dae09a7f9448fe83d8f906d2217d99%29%3B%0A%20%20%20%20%20%20%20%20%0A%20%20%20%20%0A%20%20%20%20%20%20%20%20%20%20%20%20var%20marker_e0e24321f81e4e45bc6d8b2d4236a53e%20%3D%20L.marker%28%0A%20%20%20%20%20%20%20%20%20%20%20%20%20%20%20%20%5B37.872599%2C%20-122.303889%5D%2C%0A%20%20%20%20%20%20%20%20%20%20%20%20%20%20%20%20%7B%7D%0A%20%20%20%20%20%20%20%20%20%20%20%20%29.addTo%28marker_cluster_43dae09a7f9448fe83d8f906d2217d99%29%3B%0A%20%20%20%20%20%20%20%20%0A%20%20%20%20%0A%20%20%20%20%20%20%20%20%20%20%20%20var%20marker_26f4c8fea4e3445085167611c60a33bf%20%3D%20L.marker%28%0A%20%20%20%20%20%20%20%20%20%20%20%20%20%20%20%20%5B37.871167%2C%20-122.268285%5D%2C%0A%20%20%20%20%20%20%20%20%20%20%20%20%20%20%20%20%7B%7D%0A%20%20%20%20%20%20%20%20%20%20%20%20%29.addTo%28marker_cluster_43dae09a7f9448fe83d8f906d2217d99%29%3B%0A%20%20%20%20%20%20%20%20%0A%20%20%20%20%0A%20%20%20%20%20%20%20%20%20%20%20%20var%20marker_3e90b84f47494c8ba2453554a9c8eb02%20%3D%20L.marker%28%0A%20%20%20%20%20%20%20%20%20%20%20%20%20%20%20%20%5B37.869363%2C%20-122.268028%5D%2C%0A%20%20%20%20%20%20%20%20%20%20%20%20%20%20%20%20%7B%7D%0A%20%20%20%20%20%20%20%20%20%20%20%20%29.addTo%28marker_cluster_43dae09a7f9448fe83d8f906d2217d99%29%3B%0A%20%20%20%20%20%20%20%20%0A%20%20%20%20%0A%20%20%20%20%20%20%20%20%20%20%20%20var%20marker_e8ea24ce49594be3b50954173e3b949c%20%3D%20L.marker%28%0A%20%20%20%20%20%20%20%20%20%20%20%20%20%20%20%20%5B37.847889%2C%20-122.277816%5D%2C%0A%20%20%20%20%20%20%20%20%20%20%20%20%20%20%20%20%7B%7D%0A%20%20%20%20%20%20%20%20%20%20%20%20%29.addTo%28marker_cluster_43dae09a7f9448fe83d8f906d2217d99%29%3B%0A%20%20%20%20%20%20%20%20%0A%20%20%20%20%0A%20%20%20%20%20%20%20%20%20%20%20%20var%20marker_3c46ce52362045c6a3705f7da8f206ec%20%3D%20L.marker%28%0A%20%20%20%20%20%20%20%20%20%20%20%20%20%20%20%20%5B37.855435%2C%20-122.259841%5D%2C%0A%20%20%20%20%20%20%20%20%20%20%20%20%20%20%20%20%7B%7D%0A%20%20%20%20%20%20%20%20%20%20%20%20%29.addTo%28marker_cluster_43dae09a7f9448fe83d8f906d2217d99%29%3B%0A%20%20%20%20%20%20%20%20%0A%20%20%20%20%0A%20%20%20%20%20%20%20%20%20%20%20%20var%20marker_5d0c0ba3cb3d473ebf4e0d3aed2126a8%20%3D%20L.marker%28%0A%20%20%20%20%20%20%20%20%20%20%20%20%20%20%20%20%5B37.867513%2C%20-122.26127%5D%2C%0A%20%20%20%20%20%20%20%20%20%20%20%20%20%20%20%20%7B%7D%0A%20%20%20%20%20%20%20%20%20%20%20%20%29.addTo%28marker_cluster_43dae09a7f9448fe83d8f906d2217d99%29%3B%0A%20%20%20%20%20%20%20%20%0A%20%20%20%20%0A%20%20%20%20%20%20%20%20%20%20%20%20var%20marker_1ce5f8b4b93d4f508f112955def63a9d%20%3D%20L.marker%28%0A%20%20%20%20%20%20%20%20%20%20%20%20%20%20%20%20%5B37.881694%2C%20-122.299791%5D%2C%0A%20%20%20%20%20%20%20%20%20%20%20%20%20%20%20%20%7B%7D%0A%20%20%20%20%20%20%20%20%20%20%20%20%29.addTo%28marker_cluster_43dae09a7f9448fe83d8f906d2217d99%29%3B%0A%20%20%20%20%20%20%20%20%0A%20%20%20%20%0A%20%20%20%20%20%20%20%20%20%20%20%20var%20marker_b0c5e05ff1b841828ba86b7eea5729db%20%3D%20L.marker%28%0A%20%20%20%20%20%20%20%20%20%20%20%20%20%20%20%20%5B37.862877%2C%20-122.290055%5D%2C%0A%20%20%20%20%20%20%20%20%20%20%20%20%20%20%20%20%7B%7D%0A%20%20%20%20%20%20%20%20%20%20%20%20%29.addTo%28marker_cluster_43dae09a7f9448fe83d8f906d2217d99%29%3B%0A%20%20%20%20%20%20%20%20%0A%20%20%20%20%0A%20%20%20%20%20%20%20%20%20%20%20%20var%20marker_da34fac7d6a6474492e378cff8376911%20%3D%20L.marker%28%0A%20%20%20%20%20%20%20%20%20%20%20%20%20%20%20%20%5B37.878024%2C%20-122.30798%5D%2C%0A%20%20%20%20%20%20%20%20%20%20%20%20%20%20%20%20%7B%7D%0A%20%20%20%20%20%20%20%20%20%20%20%20%29.addTo%28marker_cluster_43dae09a7f9448fe83d8f906d2217d99%29%3B%0A%20%20%20%20%20%20%20%20%0A%20%20%20%20%0A%20%20%20%20%20%20%20%20%20%20%20%20var%20marker_cf970fd770034600bf773153645ce058%20%3D%20L.marker%28%0A%20%20%20%20%20%20%20%20%20%20%20%20%20%20%20%20%5B37.869363%2C%20-122.268028%5D%2C%0A%20%20%20%20%20%20%20%20%20%20%20%20%20%20%20%20%7B%7D%0A%20%20%20%20%20%20%20%20%20%20%20%20%29.addTo%28marker_cluster_43dae09a7f9448fe83d8f906d2217d99%29%3B%0A%20%20%20%20%20%20%20%20%0A%20%20%20%20%0A%20%20%20%20%20%20%20%20%20%20%20%20var%20marker_52cae5b52ef84f6a8a8fe92ca7624450%20%3D%20L.marker%28%0A%20%20%20%20%20%20%20%20%20%20%20%20%20%20%20%20%5B37.873809%2C%20-122.255353%5D%2C%0A%20%20%20%20%20%20%20%20%20%20%20%20%20%20%20%20%7B%7D%0A%20%20%20%20%20%20%20%20%20%20%20%20%29.addTo%28marker_cluster_43dae09a7f9448fe83d8f906d2217d99%29%3B%0A%20%20%20%20%20%20%20%20%0A%20%20%20%20%0A%20%20%20%20%20%20%20%20%20%20%20%20var%20marker_0218f0c3d47149eda8e1308421ccf6af%20%3D%20L.marker%28%0A%20%20%20%20%20%20%20%20%20%20%20%20%20%20%20%20%5B37.866622%2C%20-122.26108%5D%2C%0A%20%20%20%20%20%20%20%20%20%20%20%20%20%20%20%20%7B%7D%0A%20%20%20%20%20%20%20%20%20%20%20%20%29.addTo%28marker_cluster_43dae09a7f9448fe83d8f906d2217d99%29%3B%0A%20%20%20%20%20%20%20%20%0A%20%20%20%20%0A%20%20%20%20%20%20%20%20%20%20%20%20var%20marker_b72445dcfa394d30b728cd434fb05f0f%20%3D%20L.marker%28%0A%20%20%20%20%20%20%20%20%20%20%20%20%20%20%20%20%5B37.867513%2C%20-122.26127%5D%2C%0A%20%20%20%20%20%20%20%20%20%20%20%20%20%20%20%20%7B%7D%0A%20%20%20%20%20%20%20%20%20%20%20%20%29.addTo%28marker_cluster_43dae09a7f9448fe83d8f906d2217d99%29%3B%0A%20%20%20%20%20%20%20%20%0A%20%20%20%20%0A%20%20%20%20%20%20%20%20%20%20%20%20var%20marker_8706724523554c2eafbec48d3c4103bf%20%3D%20L.marker%28%0A%20%20%20%20%20%20%20%20%20%20%20%20%20%20%20%20%5B37.865202%2C%20-122.257795%5D%2C%0A%20%20%20%20%20%20%20%20%20%20%20%20%20%20%20%20%7B%7D%0A%20%20%20%20%20%20%20%20%20%20%20%20%29.addTo%28marker_cluster_43dae09a7f9448fe83d8f906d2217d99%29%3B%0A%20%20%20%20%20%20%20%20%0A%20%20%20%20%0A%20%20%20%20%20%20%20%20%20%20%20%20var%20marker_bbd2eeca8f22419b99e9de68ce534afa%20%3D%20L.marker%28%0A%20%20%20%20%20%20%20%20%20%20%20%20%20%20%20%20%5B37.859988%2C%20-122.253339%5D%2C%0A%20%20%20%20%20%20%20%20%20%20%20%20%20%20%20%20%7B%7D%0A%20%20%20%20%20%20%20%20%20%20%20%20%29.addTo%28marker_cluster_43dae09a7f9448fe83d8f906d2217d99%29%3B%0A%20%20%20%20%20%20%20%20%0A%20%20%20%20%0A%20%20%20%20%20%20%20%20%20%20%20%20var%20marker_a79125bed7804df1a2e02d1d7210a2bf%20%3D%20L.marker%28%0A%20%20%20%20%20%20%20%20%20%20%20%20%20%20%20%20%5B37.850809%2C%20-122.291042%5D%2C%0A%20%20%20%20%20%20%20%20%20%20%20%20%20%20%20%20%7B%7D%0A%20%20%20%20%20%20%20%20%20%20%20%20%29.addTo%28marker_cluster_43dae09a7f9448fe83d8f906d2217d99%29%3B%0A%20%20%20%20%20%20%20%20%0A%20%20%20%20%0A%20%20%20%20%20%20%20%20%20%20%20%20var%20marker_e31d7580f3344f0e8950d49145ffe64e%20%3D%20L.marker%28%0A%20%20%20%20%20%20%20%20%20%20%20%20%20%20%20%20%5B37.868103%2C%20-122.25672%5D%2C%0A%20%20%20%20%20%20%20%20%20%20%20%20%20%20%20%20%7B%7D%0A%20%20%20%20%20%20%20%20%20%20%20%20%29.addTo%28marker_cluster_43dae09a7f9448fe83d8f906d2217d99%29%3B%0A%20%20%20%20%20%20%20%20%0A%20%20%20%20%0A%20%20%20%20%20%20%20%20%20%20%20%20var%20marker_959e77a1723d4471806633798243b246%20%3D%20L.marker%28%0A%20%20%20%20%20%20%20%20%20%20%20%20%20%20%20%20%5B37.866936%2C%20-122.296218%5D%2C%0A%20%20%20%20%20%20%20%20%20%20%20%20%20%20%20%20%7B%7D%0A%20%20%20%20%20%20%20%20%20%20%20%20%29.addTo%28marker_cluster_43dae09a7f9448fe83d8f906d2217d99%29%3B%0A%20%20%20%20%20%20%20%20%0A%20%20%20%20%0A%20%20%20%20%20%20%20%20%20%20%20%20var%20marker_2bbf159f2798445b801118cec35b163e%20%3D%20L.marker%28%0A%20%20%20%20%20%20%20%20%20%20%20%20%20%20%20%20%5B37.865134%2C%20-122.258331%5D%2C%0A%20%20%20%20%20%20%20%20%20%20%20%20%20%20%20%20%7B%7D%0A%20%20%20%20%20%20%20%20%20%20%20%20%29.addTo%28marker_cluster_43dae09a7f9448fe83d8f906d2217d99%29%3B%0A%20%20%20%20%20%20%20%20%0A%20%20%20%20%0A%20%20%20%20%20%20%20%20%20%20%20%20var%20marker_ec227ad4adb040c19b7af9f64a271ed5%20%3D%20L.marker%28%0A%20%20%20%20%20%20%20%20%20%20%20%20%20%20%20%20%5B37.869363%2C%20-122.268028%5D%2C%0A%20%20%20%20%20%20%20%20%20%20%20%20%20%20%20%20%7B%7D%0A%20%20%20%20%20%20%20%20%20%20%20%20%29.addTo%28marker_cluster_43dae09a7f9448fe83d8f906d2217d99%29%3B%0A%20%20%20%20%20%20%20%20%0A%20%20%20%20%0A%20%20%20%20%20%20%20%20%20%20%20%20var%20marker_0f3b8389d34945dc98a150fe0fdd5259%20%3D%20L.marker%28%0A%20%20%20%20%20%20%20%20%20%20%20%20%20%20%20%20%5B37.867513%2C%20-122.26127%5D%2C%0A%20%20%20%20%20%20%20%20%20%20%20%20%20%20%20%20%7B%7D%0A%20%20%20%20%20%20%20%20%20%20%20%20%29.addTo%28marker_cluster_43dae09a7f9448fe83d8f906d2217d99%29%3B%0A%20%20%20%20%20%20%20%20%0A%20%20%20%20%0A%20%20%20%20%20%20%20%20%20%20%20%20var%20marker_4793501e0b824dc28b2948adaee35dc4%20%3D%20L.marker%28%0A%20%20%20%20%20%20%20%20%20%20%20%20%20%20%20%20%5B37.865511%2C%20-122.309967%5D%2C%0A%20%20%20%20%20%20%20%20%20%20%20%20%20%20%20%20%7B%7D%0A%20%20%20%20%20%20%20%20%20%20%20%20%29.addTo%28marker_cluster_43dae09a7f9448fe83d8f906d2217d99%29%3B%0A%20%20%20%20%20%20%20%20%0A%20%20%20%20%0A%20%20%20%20%20%20%20%20%20%20%20%20var%20marker_4b96899148e345248cd9d34711823417%20%3D%20L.marker%28%0A%20%20%20%20%20%20%20%20%20%20%20%20%20%20%20%20%5B37.869625%2C%20-122.265892%5D%2C%0A%20%20%20%20%20%20%20%20%20%20%20%20%20%20%20%20%7B%7D%0A%20%20%20%20%20%20%20%20%20%20%20%20%29.addTo%28marker_cluster_43dae09a7f9448fe83d8f906d2217d99%29%3B%0A%20%20%20%20%20%20%20%20%0A%20%20%20%20%0A%20%20%20%20%20%20%20%20%20%20%20%20var%20marker_ddb90cae902c47c582e30c17a6049797%20%3D%20L.marker%28%0A%20%20%20%20%20%20%20%20%20%20%20%20%20%20%20%20%5B37.868532%2C%20-122.274764%5D%2C%0A%20%20%20%20%20%20%20%20%20%20%20%20%20%20%20%20%7B%7D%0A%20%20%20%20%20%20%20%20%20%20%20%20%29.addTo%28marker_cluster_43dae09a7f9448fe83d8f906d2217d99%29%3B%0A%20%20%20%20%20%20%20%20%0A%20%20%20%20%0A%20%20%20%20%20%20%20%20%20%20%20%20var%20marker_d5eb82fdfb6444de9dbd227b3624e359%20%3D%20L.marker%28%0A%20%20%20%20%20%20%20%20%20%20%20%20%20%20%20%20%5B37.853386%2C%20-122.263973%5D%2C%0A%20%20%20%20%20%20%20%20%20%20%20%20%20%20%20%20%7B%7D%0A%20%20%20%20%20%20%20%20%20%20%20%20%29.addTo%28marker_cluster_43dae09a7f9448fe83d8f906d2217d99%29%3B%0A%20%20%20%20%20%20%20%20%0A%20%20%20%20%0A%20%20%20%20%20%20%20%20%20%20%20%20var%20marker_ab20d2bc93b54b4891de8e64750a1e10%20%3D%20L.marker%28%0A%20%20%20%20%20%20%20%20%20%20%20%20%20%20%20%20%5B37.865443%2C%20-122.263189%5D%2C%0A%20%20%20%20%20%20%20%20%20%20%20%20%20%20%20%20%7B%7D%0A%20%20%20%20%20%20%20%20%20%20%20%20%29.addTo%28marker_cluster_43dae09a7f9448fe83d8f906d2217d99%29%3B%0A%20%20%20%20%20%20%20%20%0A%20%20%20%20%0A%20%20%20%20%20%20%20%20%20%20%20%20var%20marker_aa57a95ac8544ff5b1cd7f816d956e4f%20%3D%20L.marker%28%0A%20%20%20%20%20%20%20%20%20%20%20%20%20%20%20%20%5B37.891214%2C%20-122.282158%5D%2C%0A%20%20%20%20%20%20%20%20%20%20%20%20%20%20%20%20%7B%7D%0A%20%20%20%20%20%20%20%20%20%20%20%20%29.addTo%28marker_cluster_43dae09a7f9448fe83d8f906d2217d99%29%3B%0A%20%20%20%20%20%20%20%20%0A%20%20%20%20%0A%20%20%20%20%20%20%20%20%20%20%20%20var%20marker_9c9b9d6eb87447fc8be1bc4c96bc5f03%20%3D%20L.marker%28%0A%20%20%20%20%20%20%20%20%20%20%20%20%20%20%20%20%5B37.868334%2C%20-122.303753%5D%2C%0A%20%20%20%20%20%20%20%20%20%20%20%20%20%20%20%20%7B%7D%0A%20%20%20%20%20%20%20%20%20%20%20%20%29.addTo%28marker_cluster_43dae09a7f9448fe83d8f906d2217d99%29%3B%0A%20%20%20%20%20%20%20%20%0A%20%20%20%20%0A%20%20%20%20%20%20%20%20%20%20%20%20var%20marker_fe6ae86cfb114076885a70b555a822c2%20%3D%20L.marker%28%0A%20%20%20%20%20%20%20%20%20%20%20%20%20%20%20%20%5B37.879799%2C%20-122.299187%5D%2C%0A%20%20%20%20%20%20%20%20%20%20%20%20%20%20%20%20%7B%7D%0A%20%20%20%20%20%20%20%20%20%20%20%20%29.addTo%28marker_cluster_43dae09a7f9448fe83d8f906d2217d99%29%3B%0A%20%20%20%20%20%20%20%20%0A%20%20%20%20%0A%20%20%20%20%20%20%20%20%20%20%20%20var%20marker_c0c2910c35ca418187cf390185448b57%20%3D%20L.marker%28%0A%20%20%20%20%20%20%20%20%20%20%20%20%20%20%20%20%5B37.853861%2C%20-122.26598%5D%2C%0A%20%20%20%20%20%20%20%20%20%20%20%20%20%20%20%20%7B%7D%0A%20%20%20%20%20%20%20%20%20%20%20%20%29.addTo%28marker_cluster_43dae09a7f9448fe83d8f906d2217d99%29%3B%0A%20%20%20%20%20%20%20%20%0A%20%20%20%20%0A%20%20%20%20%20%20%20%20%20%20%20%20var%20marker_acb59d82b6d743ce952db4eac00b943a%20%3D%20L.marker%28%0A%20%20%20%20%20%20%20%20%20%20%20%20%20%20%20%20%5B37.883072%2C%20-122.291168%5D%2C%0A%20%20%20%20%20%20%20%20%20%20%20%20%20%20%20%20%7B%7D%0A%20%20%20%20%20%20%20%20%20%20%20%20%29.addTo%28marker_cluster_43dae09a7f9448fe83d8f906d2217d99%29%3B%0A%20%20%20%20%20%20%20%20%0A%20%20%20%20%0A%20%20%20%20%20%20%20%20%20%20%20%20var%20marker_2e43869669b7477a880e585c2c49dde5%20%3D%20L.marker%28%0A%20%20%20%20%20%20%20%20%20%20%20%20%20%20%20%20%5B37.869041%2C%20-122.292204%5D%2C%0A%20%20%20%20%20%20%20%20%20%20%20%20%20%20%20%20%7B%7D%0A%20%20%20%20%20%20%20%20%20%20%20%20%29.addTo%28marker_cluster_43dae09a7f9448fe83d8f906d2217d99%29%3B%0A%20%20%20%20%20%20%20%20%0A%20%20%20%20%0A%20%20%20%20%20%20%20%20%20%20%20%20var%20marker_cdb823058448499186963d1a4ef8a0f0%20%3D%20L.marker%28%0A%20%20%20%20%20%20%20%20%20%20%20%20%20%20%20%20%5B37.861283%2C%20-122.273911%5D%2C%0A%20%20%20%20%20%20%20%20%20%20%20%20%20%20%20%20%7B%7D%0A%20%20%20%20%20%20%20%20%20%20%20%20%29.addTo%28marker_cluster_43dae09a7f9448fe83d8f906d2217d99%29%3B%0A%20%20%20%20%20%20%20%20%0A%20%20%20%20%0A%20%20%20%20%20%20%20%20%20%20%20%20var%20marker_bf52425ca0cd4b2382e2b589c316ec0f%20%3D%20L.marker%28%0A%20%20%20%20%20%20%20%20%20%20%20%20%20%20%20%20%5B37.863945%2C%20-122.294086%5D%2C%0A%20%20%20%20%20%20%20%20%20%20%20%20%20%20%20%20%7B%7D%0A%20%20%20%20%20%20%20%20%20%20%20%20%29.addTo%28marker_cluster_43dae09a7f9448fe83d8f906d2217d99%29%3B%0A%20%20%20%20%20%20%20%20%0A%20%20%20%20%0A%20%20%20%20%20%20%20%20%20%20%20%20var%20marker_a90482c2b5b44fdb97c9668bff71553b%20%3D%20L.marker%28%0A%20%20%20%20%20%20%20%20%20%20%20%20%20%20%20%20%5B37.85488%2C%20-122.269079%5D%2C%0A%20%20%20%20%20%20%20%20%20%20%20%20%20%20%20%20%7B%7D%0A%20%20%20%20%20%20%20%20%20%20%20%20%29.addTo%28marker_cluster_43dae09a7f9448fe83d8f906d2217d99%29%3B%0A%20%20%20%20%20%20%20%20%0A%20%20%20%20%0A%20%20%20%20%20%20%20%20%20%20%20%20var%20marker_89076494858146c489c624cbbe12670f%20%3D%20L.marker%28%0A%20%20%20%20%20%20%20%20%20%20%20%20%20%20%20%20%5B37.867513%2C%20-122.26127%5D%2C%0A%20%20%20%20%20%20%20%20%20%20%20%20%20%20%20%20%7B%7D%0A%20%20%20%20%20%20%20%20%20%20%20%20%29.addTo%28marker_cluster_43dae09a7f9448fe83d8f906d2217d99%29%3B%0A%20%20%20%20%20%20%20%20%0A%20%20%20%20%0A%20%20%20%20%20%20%20%20%20%20%20%20var%20marker_f69b3e6bcb0c422fbc3abfadf87e5be5%20%3D%20L.marker%28%0A%20%20%20%20%20%20%20%20%20%20%20%20%20%20%20%20%5B37.868714%2C%20-122.259189%5D%2C%0A%20%20%20%20%20%20%20%20%20%20%20%20%20%20%20%20%7B%7D%0A%20%20%20%20%20%20%20%20%20%20%20%20%29.addTo%28marker_cluster_43dae09a7f9448fe83d8f906d2217d99%29%3B%0A%20%20%20%20%20%20%20%20%0A%20%20%20%20%0A%20%20%20%20%20%20%20%20%20%20%20%20var%20marker_788b7e5c2d3e48ae8d77f2d8a118ff8d%20%3D%20L.marker%28%0A%20%20%20%20%20%20%20%20%20%20%20%20%20%20%20%20%5B37.862927%2C%20-122.258784%5D%2C%0A%20%20%20%20%20%20%20%20%20%20%20%20%20%20%20%20%7B%7D%0A%20%20%20%20%20%20%20%20%20%20%20%20%29.addTo%28marker_cluster_43dae09a7f9448fe83d8f906d2217d99%29%3B%0A%20%20%20%20%20%20%20%20%0A%20%20%20%20%0A%20%20%20%20%20%20%20%20%20%20%20%20var%20marker_3418a42e221a43288265e790b322814d%20%3D%20L.marker%28%0A%20%20%20%20%20%20%20%20%20%20%20%20%20%20%20%20%5B37.867221%2C%20-122.263531%5D%2C%0A%20%20%20%20%20%20%20%20%20%20%20%20%20%20%20%20%7B%7D%0A%20%20%20%20%20%20%20%20%20%20%20%20%29.addTo%28marker_cluster_43dae09a7f9448fe83d8f906d2217d99%29%3B%0A%20%20%20%20%20%20%20%20%0A%20%20%20%20%0A%20%20%20%20%20%20%20%20%20%20%20%20var%20marker_e3feb417cee644d7890e97042bd80ea3%20%3D%20L.marker%28%0A%20%20%20%20%20%20%20%20%20%20%20%20%20%20%20%20%5B37.855834%2C%20-122.262346%5D%2C%0A%20%20%20%20%20%20%20%20%20%20%20%20%20%20%20%20%7B%7D%0A%20%20%20%20%20%20%20%20%20%20%20%20%29.addTo%28marker_cluster_43dae09a7f9448fe83d8f906d2217d99%29%3B%0A%20%20%20%20%20%20%20%20%0A%20%20%20%20%0A%20%20%20%20%20%20%20%20%20%20%20%20var%20marker_9958a79f24a44c358c58050b5eaeb4df%20%3D%20L.marker%28%0A%20%20%20%20%20%20%20%20%20%20%20%20%20%20%20%20%5B37.863368%2C%20-122.296921%5D%2C%0A%20%20%20%20%20%20%20%20%20%20%20%20%20%20%20%20%7B%7D%0A%20%20%20%20%20%20%20%20%20%20%20%20%29.addTo%28marker_cluster_43dae09a7f9448fe83d8f906d2217d99%29%3B%0A%20%20%20%20%20%20%20%20%0A%20%20%20%20%0A%20%20%20%20%20%20%20%20%20%20%20%20var%20marker_a397eb40b9e04f9fb3b710cb8e05ab36%20%3D%20L.marker%28%0A%20%20%20%20%20%20%20%20%20%20%20%20%20%20%20%20%5B37.879933%2C%20-122.283098%5D%2C%0A%20%20%20%20%20%20%20%20%20%20%20%20%20%20%20%20%7B%7D%0A%20%20%20%20%20%20%20%20%20%20%20%20%29.addTo%28marker_cluster_43dae09a7f9448fe83d8f906d2217d99%29%3B%0A%20%20%20%20%20%20%20%20%0A%20%20%20%20%0A%20%20%20%20%20%20%20%20%20%20%20%20var%20marker_da89e580873849b2b38f725a63167958%20%3D%20L.marker%28%0A%20%20%20%20%20%20%20%20%20%20%20%20%20%20%20%20%5B37.865202%2C%20-122.257795%5D%2C%0A%20%20%20%20%20%20%20%20%20%20%20%20%20%20%20%20%7B%7D%0A%20%20%20%20%20%20%20%20%20%20%20%20%29.addTo%28marker_cluster_43dae09a7f9448fe83d8f906d2217d99%29%3B%0A%20%20%20%20%20%20%20%20%0A%20%20%20%20%0A%20%20%20%20%20%20%20%20%20%20%20%20var%20marker_98a25d01157e48f89f048ec62b5e811a%20%3D%20L.marker%28%0A%20%20%20%20%20%20%20%20%20%20%20%20%20%20%20%20%5B37.880227%2C%20-122.26936%5D%2C%0A%20%20%20%20%20%20%20%20%20%20%20%20%20%20%20%20%7B%7D%0A%20%20%20%20%20%20%20%20%20%20%20%20%29.addTo%28marker_cluster_43dae09a7f9448fe83d8f906d2217d99%29%3B%0A%20%20%20%20%20%20%20%20%0A%20%20%20%20%0A%20%20%20%20%20%20%20%20%20%20%20%20var%20marker_5521999eae9f4ec7b1f98176521d9d02%20%3D%20L.marker%28%0A%20%20%20%20%20%20%20%20%20%20%20%20%20%20%20%20%5B37.878973%2C%20-122.279366%5D%2C%0A%20%20%20%20%20%20%20%20%20%20%20%20%20%20%20%20%7B%7D%0A%20%20%20%20%20%20%20%20%20%20%20%20%29.addTo%28marker_cluster_43dae09a7f9448fe83d8f906d2217d99%29%3B%0A%20%20%20%20%20%20%20%20%0A%20%20%20%20%0A%20%20%20%20%20%20%20%20%20%20%20%20var%20marker_eb86721cfdfa4d129bc2f1026a154723%20%3D%20L.marker%28%0A%20%20%20%20%20%20%20%20%20%20%20%20%20%20%20%20%5B37.864385%2C%20-122.290697%5D%2C%0A%20%20%20%20%20%20%20%20%20%20%20%20%20%20%20%20%7B%7D%0A%20%20%20%20%20%20%20%20%20%20%20%20%29.addTo%28marker_cluster_43dae09a7f9448fe83d8f906d2217d99%29%3B%0A%20%20%20%20%20%20%20%20%0A%20%20%20%20%0A%20%20%20%20%20%20%20%20%20%20%20%20var%20marker_d070b7ba1c9a4a1cbbe575b2e9dc8533%20%3D%20L.marker%28%0A%20%20%20%20%20%20%20%20%20%20%20%20%20%20%20%20%5B37.868204%2C%20-122.270054%5D%2C%0A%20%20%20%20%20%20%20%20%20%20%20%20%20%20%20%20%7B%7D%0A%20%20%20%20%20%20%20%20%20%20%20%20%29.addTo%28marker_cluster_43dae09a7f9448fe83d8f906d2217d99%29%3B%0A%20%20%20%20%20%20%20%20%0A%20%20%20%20%0A%20%20%20%20%20%20%20%20%20%20%20%20var%20marker_3c1ad992be4e41408e3445c96feb62be%20%3D%20L.marker%28%0A%20%20%20%20%20%20%20%20%20%20%20%20%20%20%20%20%5B37.855998%2C%20-122.271278%5D%2C%0A%20%20%20%20%20%20%20%20%20%20%20%20%20%20%20%20%7B%7D%0A%20%20%20%20%20%20%20%20%20%20%20%20%29.addTo%28marker_cluster_43dae09a7f9448fe83d8f906d2217d99%29%3B%0A%20%20%20%20%20%20%20%20%0A%20%20%20%20%0A%20%20%20%20%20%20%20%20%20%20%20%20var%20marker_b28106be440d44b9a7c1e72dff073f8d%20%3D%20L.marker%28%0A%20%20%20%20%20%20%20%20%20%20%20%20%20%20%20%20%5B37.868714%2C%20-122.259189%5D%2C%0A%20%20%20%20%20%20%20%20%20%20%20%20%20%20%20%20%7B%7D%0A%20%20%20%20%20%20%20%20%20%20%20%20%29.addTo%28marker_cluster_43dae09a7f9448fe83d8f906d2217d99%29%3B%0A%20%20%20%20%20%20%20%20%0A%20%20%20%20%0A%20%20%20%20%20%20%20%20%20%20%20%20var%20marker_a72dd7448cde4cd38c56cb5b109f4406%20%3D%20L.marker%28%0A%20%20%20%20%20%20%20%20%20%20%20%20%20%20%20%20%5B37.868714%2C%20-122.259189%5D%2C%0A%20%20%20%20%20%20%20%20%20%20%20%20%20%20%20%20%7B%7D%0A%20%20%20%20%20%20%20%20%20%20%20%20%29.addTo%28marker_cluster_43dae09a7f9448fe83d8f906d2217d99%29%3B%0A%20%20%20%20%20%20%20%20%0A%20%20%20%20%0A%20%20%20%20%20%20%20%20%20%20%20%20var%20marker_474ee676a61740a580ec197df5ed998a%20%3D%20L.marker%28%0A%20%20%20%20%20%20%20%20%20%20%20%20%20%20%20%20%5B37.868815%2C%20-122.292131%5D%2C%0A%20%20%20%20%20%20%20%20%20%20%20%20%20%20%20%20%7B%7D%0A%20%20%20%20%20%20%20%20%20%20%20%20%29.addTo%28marker_cluster_43dae09a7f9448fe83d8f906d2217d99%29%3B%0A%20%20%20%20%20%20%20%20%0A%20%20%20%20%0A%20%20%20%20%20%20%20%20%20%20%20%20var%20marker_57d39dd2f14a4456898c097b46a4d128%20%3D%20L.marker%28%0A%20%20%20%20%20%20%20%20%20%20%20%20%20%20%20%20%5B37.877951%2C%20-122.271395%5D%2C%0A%20%20%20%20%20%20%20%20%20%20%20%20%20%20%20%20%7B%7D%0A%20%20%20%20%20%20%20%20%20%20%20%20%29.addTo%28marker_cluster_43dae09a7f9448fe83d8f906d2217d99%29%3B%0A%20%20%20%20%20%20%20%20%0A%20%20%20%20%0A%20%20%20%20%20%20%20%20%20%20%20%20var%20marker_3f144fe033f94ee1a871c8d8ef45a7f6%20%3D%20L.marker%28%0A%20%20%20%20%20%20%20%20%20%20%20%20%20%20%20%20%5B37.868714%2C%20-122.259189%5D%2C%0A%20%20%20%20%20%20%20%20%20%20%20%20%20%20%20%20%7B%7D%0A%20%20%20%20%20%20%20%20%20%20%20%20%29.addTo%28marker_cluster_43dae09a7f9448fe83d8f906d2217d99%29%3B%0A%20%20%20%20%20%20%20%20%0A%20%20%20%20%0A%20%20%20%20%20%20%20%20%20%20%20%20var%20marker_95580b14970f4e308bfc50d15b308118%20%3D%20L.marker%28%0A%20%20%20%20%20%20%20%20%20%20%20%20%20%20%20%20%5B37.870243%2C%20-122.275149%5D%2C%0A%20%20%20%20%20%20%20%20%20%20%20%20%20%20%20%20%7B%7D%0A%20%20%20%20%20%20%20%20%20%20%20%20%29.addTo%28marker_cluster_43dae09a7f9448fe83d8f906d2217d99%29%3B%0A%20%20%20%20%20%20%20%20%0A%20%20%20%20%0A%20%20%20%20%20%20%20%20%20%20%20%20var%20marker_0c472936b92940d5a0dda0f8f2c59f69%20%3D%20L.marker%28%0A%20%20%20%20%20%20%20%20%20%20%20%20%20%20%20%20%5B37.865945%2C%20-122.250471%5D%2C%0A%20%20%20%20%20%20%20%20%20%20%20%20%20%20%20%20%7B%7D%0A%20%20%20%20%20%20%20%20%20%20%20%20%29.addTo%28marker_cluster_43dae09a7f9448fe83d8f906d2217d99%29%3B%0A%20%20%20%20%20%20%20%20%0A%20%20%20%20%0A%20%20%20%20%20%20%20%20%20%20%20%20var%20marker_057a95f0953646c683a03eff7e862da8%20%3D%20L.marker%28%0A%20%20%20%20%20%20%20%20%20%20%20%20%20%20%20%20%5B37.851919%2C%20-122.286667%5D%2C%0A%20%20%20%20%20%20%20%20%20%20%20%20%20%20%20%20%7B%7D%0A%20%20%20%20%20%20%20%20%20%20%20%20%29.addTo%28marker_cluster_43dae09a7f9448fe83d8f906d2217d99%29%3B%0A%20%20%20%20%20%20%20%20%0A%20%20%20%20%0A%20%20%20%20%20%20%20%20%20%20%20%20var%20marker_0f20f0be482a40c69adb1be9a128eece%20%3D%20L.marker%28%0A%20%20%20%20%20%20%20%20%20%20%20%20%20%20%20%20%5B37.870054%2C%20-122.284263%5D%2C%0A%20%20%20%20%20%20%20%20%20%20%20%20%20%20%20%20%7B%7D%0A%20%20%20%20%20%20%20%20%20%20%20%20%29.addTo%28marker_cluster_43dae09a7f9448fe83d8f906d2217d99%29%3B%0A%20%20%20%20%20%20%20%20%0A%20%20%20%20%0A%20%20%20%20%20%20%20%20%20%20%20%20var%20marker_f74ae92b8cdb4bcd9a40689c08b3b6ef%20%3D%20L.marker%28%0A%20%20%20%20%20%20%20%20%20%20%20%20%20%20%20%20%5B37.853576%2C%20-122.287202%5D%2C%0A%20%20%20%20%20%20%20%20%20%20%20%20%20%20%20%20%7B%7D%0A%20%20%20%20%20%20%20%20%20%20%20%20%29.addTo%28marker_cluster_43dae09a7f9448fe83d8f906d2217d99%29%3B%0A%20%20%20%20%20%20%20%20%0A%20%20%20%20%0A%20%20%20%20%20%20%20%20%20%20%20%20var%20marker_85d53f9ed12f4dfb8d4010d10315acf8%20%3D%20L.marker%28%0A%20%20%20%20%20%20%20%20%20%20%20%20%20%20%20%20%5B37.853576%2C%20-122.287202%5D%2C%0A%20%20%20%20%20%20%20%20%20%20%20%20%20%20%20%20%7B%7D%0A%20%20%20%20%20%20%20%20%20%20%20%20%29.addTo%28marker_cluster_43dae09a7f9448fe83d8f906d2217d99%29%3B%0A%20%20%20%20%20%20%20%20%0A%20%20%20%20%0A%20%20%20%20%20%20%20%20%20%20%20%20var%20marker_1927f2429d6e437b9aa178d60c29dc5c%20%3D%20L.marker%28%0A%20%20%20%20%20%20%20%20%20%20%20%20%20%20%20%20%5B37.874489%2C%20-122.271072%5D%2C%0A%20%20%20%20%20%20%20%20%20%20%20%20%20%20%20%20%7B%7D%0A%20%20%20%20%20%20%20%20%20%20%20%20%29.addTo%28marker_cluster_43dae09a7f9448fe83d8f906d2217d99%29%3B%0A%20%20%20%20%20%20%20%20%0A%20%20%20%20%0A%20%20%20%20%20%20%20%20%20%20%20%20var%20marker_f3e3eb274e0941639d79f6ef1b564e03%20%3D%20L.marker%28%0A%20%20%20%20%20%20%20%20%20%20%20%20%20%20%20%20%5B37.870793%2C%20-122.297496%5D%2C%0A%20%20%20%20%20%20%20%20%20%20%20%20%20%20%20%20%7B%7D%0A%20%20%20%20%20%20%20%20%20%20%20%20%29.addTo%28marker_cluster_43dae09a7f9448fe83d8f906d2217d99%29%3B%0A%20%20%20%20%20%20%20%20%0A%20%20%20%20%0A%20%20%20%20%20%20%20%20%20%20%20%20var%20marker_64cee1c50a0d4264810ae487c0274e8f%20%3D%20L.marker%28%0A%20%20%20%20%20%20%20%20%20%20%20%20%20%20%20%20%5B37.869685%2C%20-122.272804%5D%2C%0A%20%20%20%20%20%20%20%20%20%20%20%20%20%20%20%20%7B%7D%0A%20%20%20%20%20%20%20%20%20%20%20%20%29.addTo%28marker_cluster_43dae09a7f9448fe83d8f906d2217d99%29%3B%0A%20%20%20%20%20%20%20%20%0A%20%20%20%20%0A%20%20%20%20%20%20%20%20%20%20%20%20var%20marker_ec817d2fbc0048378de2d7c9696f95b0%20%3D%20L.marker%28%0A%20%20%20%20%20%20%20%20%20%20%20%20%20%20%20%20%5B37.868714%2C%20-122.259189%5D%2C%0A%20%20%20%20%20%20%20%20%20%20%20%20%20%20%20%20%7B%7D%0A%20%20%20%20%20%20%20%20%20%20%20%20%29.addTo%28marker_cluster_43dae09a7f9448fe83d8f906d2217d99%29%3B%0A%20%20%20%20%20%20%20%20%0A%20%20%20%20%0A%20%20%20%20%20%20%20%20%20%20%20%20var%20marker_c7d6de689ef045e9b6675ff9d6134a03%20%3D%20L.marker%28%0A%20%20%20%20%20%20%20%20%20%20%20%20%20%20%20%20%5B37.869084%2C%20-122.299245%5D%2C%0A%20%20%20%20%20%20%20%20%20%20%20%20%20%20%20%20%7B%7D%0A%20%20%20%20%20%20%20%20%20%20%20%20%29.addTo%28marker_cluster_43dae09a7f9448fe83d8f906d2217d99%29%3B%0A%20%20%20%20%20%20%20%20%0A%20%20%20%20%0A%20%20%20%20%20%20%20%20%20%20%20%20var%20marker_f58e2f8ab67e42a482e854b788509e5e%20%3D%20L.marker%28%0A%20%20%20%20%20%20%20%20%20%20%20%20%20%20%20%20%5B37.871168%2C%20-122.282128%5D%2C%0A%20%20%20%20%20%20%20%20%20%20%20%20%20%20%20%20%7B%7D%0A%20%20%20%20%20%20%20%20%20%20%20%20%29.addTo%28marker_cluster_43dae09a7f9448fe83d8f906d2217d99%29%3B%0A%20%20%20%20%20%20%20%20%0A%20%20%20%20%0A%20%20%20%20%20%20%20%20%20%20%20%20var%20marker_decaae2c87b0405086ab9a8667b4ff3f%20%3D%20L.marker%28%0A%20%20%20%20%20%20%20%20%20%20%20%20%20%20%20%20%5B37.869688%2C%20-122.272805%5D%2C%0A%20%20%20%20%20%20%20%20%20%20%20%20%20%20%20%20%7B%7D%0A%20%20%20%20%20%20%20%20%20%20%20%20%29.addTo%28marker_cluster_43dae09a7f9448fe83d8f906d2217d99%29%3B%0A%20%20%20%20%20%20%20%20%0A%20%20%20%20%0A%20%20%20%20%20%20%20%20%20%20%20%20var%20marker_65f3280202914e93b64dc5266bc61c9e%20%3D%20L.marker%28%0A%20%20%20%20%20%20%20%20%20%20%20%20%20%20%20%20%5B37.855998%2C%20-122.271278%5D%2C%0A%20%20%20%20%20%20%20%20%20%20%20%20%20%20%20%20%7B%7D%0A%20%20%20%20%20%20%20%20%20%20%20%20%29.addTo%28marker_cluster_43dae09a7f9448fe83d8f906d2217d99%29%3B%0A%20%20%20%20%20%20%20%20%0A%20%20%20%20%0A%20%20%20%20%20%20%20%20%20%20%20%20var%20marker_f33dd09794f84ca6ac200a534757b76d%20%3D%20L.marker%28%0A%20%20%20%20%20%20%20%20%20%20%20%20%20%20%20%20%5B37.868199%2C%20-122.263253%5D%2C%0A%20%20%20%20%20%20%20%20%20%20%20%20%20%20%20%20%7B%7D%0A%20%20%20%20%20%20%20%20%20%20%20%20%29.addTo%28marker_cluster_43dae09a7f9448fe83d8f906d2217d99%29%3B%0A%20%20%20%20%20%20%20%20%0A%20%20%20%20%0A%20%20%20%20%20%20%20%20%20%20%20%20var%20marker_04a56c697fed4e2abbfd91ceed2d6880%20%3D%20L.marker%28%0A%20%20%20%20%20%20%20%20%20%20%20%20%20%20%20%20%5B37.859309%2C%20-122.259291%5D%2C%0A%20%20%20%20%20%20%20%20%20%20%20%20%20%20%20%20%7B%7D%0A%20%20%20%20%20%20%20%20%20%20%20%20%29.addTo%28marker_cluster_43dae09a7f9448fe83d8f906d2217d99%29%3B%0A%20%20%20%20%20%20%20%20%0A%20%20%20%20%0A%20%20%20%20%20%20%20%20%20%20%20%20var%20marker_d91c4c6c306a4b8b8f53e309b649f73e%20%3D%20L.marker%28%0A%20%20%20%20%20%20%20%20%20%20%20%20%20%20%20%20%5B37.850385%2C%20-122.270897%5D%2C%0A%20%20%20%20%20%20%20%20%20%20%20%20%20%20%20%20%7B%7D%0A%20%20%20%20%20%20%20%20%20%20%20%20%29.addTo%28marker_cluster_43dae09a7f9448fe83d8f906d2217d99%29%3B%0A%20%20%20%20%20%20%20%20%0A%20%20%20%20%0A%20%20%20%20%20%20%20%20%20%20%20%20var%20marker_2440dd491f014644853bc15f7773626d%20%3D%20L.marker%28%0A%20%20%20%20%20%20%20%20%20%20%20%20%20%20%20%20%5B37.866761%2C%20-122.258779%5D%2C%0A%20%20%20%20%20%20%20%20%20%20%20%20%20%20%20%20%7B%7D%0A%20%20%20%20%20%20%20%20%20%20%20%20%29.addTo%28marker_cluster_43dae09a7f9448fe83d8f906d2217d99%29%3B%0A%20%20%20%20%20%20%20%20%0A%20%20%20%20%0A%20%20%20%20%20%20%20%20%20%20%20%20var%20marker_efe533db0927410480573d6d01e2be6a%20%3D%20L.marker%28%0A%20%20%20%20%20%20%20%20%20%20%20%20%20%20%20%20%5B37.861511%2C%20-122.29681%5D%2C%0A%20%20%20%20%20%20%20%20%20%20%20%20%20%20%20%20%7B%7D%0A%20%20%20%20%20%20%20%20%20%20%20%20%29.addTo%28marker_cluster_43dae09a7f9448fe83d8f906d2217d99%29%3B%0A%20%20%20%20%20%20%20%20%0A%20%20%20%20%0A%20%20%20%20%20%20%20%20%20%20%20%20var%20marker_2a4ac1b92fc34b66a7580560743ce0c7%20%3D%20L.marker%28%0A%20%20%20%20%20%20%20%20%20%20%20%20%20%20%20%20%5B37.859195%2C%20-122.261915%5D%2C%0A%20%20%20%20%20%20%20%20%20%20%20%20%20%20%20%20%7B%7D%0A%20%20%20%20%20%20%20%20%20%20%20%20%29.addTo%28marker_cluster_43dae09a7f9448fe83d8f906d2217d99%29%3B%0A%20%20%20%20%20%20%20%20%0A%20%20%20%20%0A%20%20%20%20%20%20%20%20%20%20%20%20var%20marker_4615e7e6390249988778cfe3cdd626c7%20%3D%20L.marker%28%0A%20%20%20%20%20%20%20%20%20%20%20%20%20%20%20%20%5B37.867822%2C%20-122.266003%5D%2C%0A%20%20%20%20%20%20%20%20%20%20%20%20%20%20%20%20%7B%7D%0A%20%20%20%20%20%20%20%20%20%20%20%20%29.addTo%28marker_cluster_43dae09a7f9448fe83d8f906d2217d99%29%3B%0A%20%20%20%20%20%20%20%20%0A%20%20%20%20%0A%20%20%20%20%20%20%20%20%20%20%20%20var%20marker_3e338b6c9fa14c97be30bbad7fd5fbc7%20%3D%20L.marker%28%0A%20%20%20%20%20%20%20%20%20%20%20%20%20%20%20%20%5B37.88055%2C%20-122.304962%5D%2C%0A%20%20%20%20%20%20%20%20%20%20%20%20%20%20%20%20%7B%7D%0A%20%20%20%20%20%20%20%20%20%20%20%20%29.addTo%28marker_cluster_43dae09a7f9448fe83d8f906d2217d99%29%3B%0A%20%20%20%20%20%20%20%20%0A%20%20%20%20%0A%20%20%20%20%20%20%20%20%20%20%20%20var%20marker_a1033ca578de4a39b273e4ec7b38b6ec%20%3D%20L.marker%28%0A%20%20%20%20%20%20%20%20%20%20%20%20%20%20%20%20%5B37.864827%2C%20-122.258577%5D%2C%0A%20%20%20%20%20%20%20%20%20%20%20%20%20%20%20%20%7B%7D%0A%20%20%20%20%20%20%20%20%20%20%20%20%29.addTo%28marker_cluster_43dae09a7f9448fe83d8f906d2217d99%29%3B%0A%20%20%20%20%20%20%20%20%0A%20%20%20%20%0A%20%20%20%20%20%20%20%20%20%20%20%20var%20marker_b010781ecc164ccca727a08e04e88dfe%20%3D%20L.marker%28%0A%20%20%20%20%20%20%20%20%20%20%20%20%20%20%20%20%5B37.869363%2C%20-122.268028%5D%2C%0A%20%20%20%20%20%20%20%20%20%20%20%20%20%20%20%20%7B%7D%0A%20%20%20%20%20%20%20%20%20%20%20%20%29.addTo%28marker_cluster_43dae09a7f9448fe83d8f906d2217d99%29%3B%0A%20%20%20%20%20%20%20%20%0A%20%20%20%20%0A%20%20%20%20%20%20%20%20%20%20%20%20var%20marker_5cb76d2338cd4b8bacf6f3178119fe20%20%3D%20L.marker%28%0A%20%20%20%20%20%20%20%20%20%20%20%20%20%20%20%20%5B37.870011%2C%20-122.3179%5D%2C%0A%20%20%20%20%20%20%20%20%20%20%20%20%20%20%20%20%7B%7D%0A%20%20%20%20%20%20%20%20%20%20%20%20%29.addTo%28marker_cluster_43dae09a7f9448fe83d8f906d2217d99%29%3B%0A%20%20%20%20%20%20%20%20%0A%20%20%20%20%0A%20%20%20%20%20%20%20%20%20%20%20%20var%20marker_4a51b3da9eb64aabbe36e32d55e72309%20%3D%20L.marker%28%0A%20%20%20%20%20%20%20%20%20%20%20%20%20%20%20%20%5B37.853959%2C%20-122.284067%5D%2C%0A%20%20%20%20%20%20%20%20%20%20%20%20%20%20%20%20%7B%7D%0A%20%20%20%20%20%20%20%20%20%20%20%20%29.addTo%28marker_cluster_43dae09a7f9448fe83d8f906d2217d99%29%3B%0A%20%20%20%20%20%20%20%20%0A%20%20%20%20%0A%20%20%20%20%20%20%20%20%20%20%20%20var%20marker_50c8f2aeee8d4fc69a43db40c245ea93%20%3D%20L.marker%28%0A%20%20%20%20%20%20%20%20%20%20%20%20%20%20%20%20%5B37.855793%2C%20-122.281493%5D%2C%0A%20%20%20%20%20%20%20%20%20%20%20%20%20%20%20%20%7B%7D%0A%20%20%20%20%20%20%20%20%20%20%20%20%29.addTo%28marker_cluster_43dae09a7f9448fe83d8f906d2217d99%29%3B%0A%20%20%20%20%20%20%20%20%0A%20%20%20%20%0A%20%20%20%20%20%20%20%20%20%20%20%20var%20marker_6666485702ba4385b6e039fb43410e67%20%3D%20L.marker%28%0A%20%20%20%20%20%20%20%20%20%20%20%20%20%20%20%20%5B37.869973%2C%20-122.270557%5D%2C%0A%20%20%20%20%20%20%20%20%20%20%20%20%20%20%20%20%7B%7D%0A%20%20%20%20%20%20%20%20%20%20%20%20%29.addTo%28marker_cluster_43dae09a7f9448fe83d8f906d2217d99%29%3B%0A%20%20%20%20%20%20%20%20%0A%20%20%20%20%0A%20%20%20%20%20%20%20%20%20%20%20%20var%20marker_b3f597aed76a49838c811a1055951e8a%20%3D%20L.marker%28%0A%20%20%20%20%20%20%20%20%20%20%20%20%20%20%20%20%5B37.89126%2C%20-122.281375%5D%2C%0A%20%20%20%20%20%20%20%20%20%20%20%20%20%20%20%20%7B%7D%0A%20%20%20%20%20%20%20%20%20%20%20%20%29.addTo%28marker_cluster_43dae09a7f9448fe83d8f906d2217d99%29%3B%0A%20%20%20%20%20%20%20%20%0A%20%20%20%20%0A%20%20%20%20%20%20%20%20%20%20%20%20var%20marker_a5a046eef59145d083853c83b8c9d8c7%20%3D%20L.marker%28%0A%20%20%20%20%20%20%20%20%20%20%20%20%20%20%20%20%5B37.876897%2C%20-122.28868%5D%2C%0A%20%20%20%20%20%20%20%20%20%20%20%20%20%20%20%20%7B%7D%0A%20%20%20%20%20%20%20%20%20%20%20%20%29.addTo%28marker_cluster_43dae09a7f9448fe83d8f906d2217d99%29%3B%0A%20%20%20%20%20%20%20%20%0A%20%20%20%20%0A%20%20%20%20%20%20%20%20%20%20%20%20var%20marker_7294e9b0f89a4bbca4a878eb8b992fc4%20%3D%20L.marker%28%0A%20%20%20%20%20%20%20%20%20%20%20%20%20%20%20%20%5B37.857951%2C%20-122.271494%5D%2C%0A%20%20%20%20%20%20%20%20%20%20%20%20%20%20%20%20%7B%7D%0A%20%20%20%20%20%20%20%20%20%20%20%20%29.addTo%28marker_cluster_43dae09a7f9448fe83d8f906d2217d99%29%3B%0A%20%20%20%20%20%20%20%20%0A%20%20%20%20%0A%20%20%20%20%20%20%20%20%20%20%20%20var%20marker_15e660a9d6fa4b35b672324f46c78db8%20%3D%20L.marker%28%0A%20%20%20%20%20%20%20%20%20%20%20%20%20%20%20%20%5B37.867513%2C%20-122.26127%5D%2C%0A%20%20%20%20%20%20%20%20%20%20%20%20%20%20%20%20%7B%7D%0A%20%20%20%20%20%20%20%20%20%20%20%20%29.addTo%28marker_cluster_43dae09a7f9448fe83d8f906d2217d99%29%3B%0A%20%20%20%20%20%20%20%20%0A%20%20%20%20%0A%20%20%20%20%20%20%20%20%20%20%20%20var%20marker_df8d6f35e53746e3b190ab061a53fbc9%20%3D%20L.marker%28%0A%20%20%20%20%20%20%20%20%20%20%20%20%20%20%20%20%5B37.867501%2C%20-122.291709%5D%2C%0A%20%20%20%20%20%20%20%20%20%20%20%20%20%20%20%20%7B%7D%0A%20%20%20%20%20%20%20%20%20%20%20%20%29.addTo%28marker_cluster_43dae09a7f9448fe83d8f906d2217d99%29%3B%0A%20%20%20%20%20%20%20%20%0A%20%20%20%20%0A%20%20%20%20%20%20%20%20%20%20%20%20var%20marker_42d1baca86de4c2a89493f1109bbdc5e%20%3D%20L.marker%28%0A%20%20%20%20%20%20%20%20%20%20%20%20%20%20%20%20%5B37.853951%2C%20-122.273198%5D%2C%0A%20%20%20%20%20%20%20%20%20%20%20%20%20%20%20%20%7B%7D%0A%20%20%20%20%20%20%20%20%20%20%20%20%29.addTo%28marker_cluster_43dae09a7f9448fe83d8f906d2217d99%29%3B%0A%20%20%20%20%20%20%20%20%0A%20%20%20%20%0A%20%20%20%20%20%20%20%20%20%20%20%20var%20marker_247f14b270be468085db09fc3e392261%20%3D%20L.marker%28%0A%20%20%20%20%20%20%20%20%20%20%20%20%20%20%20%20%5B37.853638%2C%20-122.289588%5D%2C%0A%20%20%20%20%20%20%20%20%20%20%20%20%20%20%20%20%7B%7D%0A%20%20%20%20%20%20%20%20%20%20%20%20%29.addTo%28marker_cluster_43dae09a7f9448fe83d8f906d2217d99%29%3B%0A%20%20%20%20%20%20%20%20%0A%20%20%20%20%0A%20%20%20%20%20%20%20%20%20%20%20%20var%20marker_c3e14b5bf41f49a0806364322075e36e%20%3D%20L.marker%28%0A%20%20%20%20%20%20%20%20%20%20%20%20%20%20%20%20%5B37.863977%2C%20-122.267307%5D%2C%0A%20%20%20%20%20%20%20%20%20%20%20%20%20%20%20%20%7B%7D%0A%20%20%20%20%20%20%20%20%20%20%20%20%29.addTo%28marker_cluster_43dae09a7f9448fe83d8f906d2217d99%29%3B%0A%20%20%20%20%20%20%20%20%0A%20%20%20%20%0A%20%20%20%20%20%20%20%20%20%20%20%20var%20marker_0db0ea23ff0c43d7b4da9495b0d94432%20%3D%20L.marker%28%0A%20%20%20%20%20%20%20%20%20%20%20%20%20%20%20%20%5B37.868785%2C%20-122.272701%5D%2C%0A%20%20%20%20%20%20%20%20%20%20%20%20%20%20%20%20%7B%7D%0A%20%20%20%20%20%20%20%20%20%20%20%20%29.addTo%28marker_cluster_43dae09a7f9448fe83d8f906d2217d99%29%3B%0A%20%20%20%20%20%20%20%20%0A%20%20%20%20%0A%20%20%20%20%20%20%20%20%20%20%20%20var%20marker_0c3100a732c849a8aabbcc6836c075af%20%3D%20L.marker%28%0A%20%20%20%20%20%20%20%20%20%20%20%20%20%20%20%20%5B37.867852%2C%20-122.258699%5D%2C%0A%20%20%20%20%20%20%20%20%20%20%20%20%20%20%20%20%7B%7D%0A%20%20%20%20%20%20%20%20%20%20%20%20%29.addTo%28marker_cluster_43dae09a7f9448fe83d8f906d2217d99%29%3B%0A%20%20%20%20%20%20%20%20%0A%20%20%20%20%0A%20%20%20%20%20%20%20%20%20%20%20%20var%20marker_daa4c4cc4ec7485c8756462a684221d4%20%3D%20L.marker%28%0A%20%20%20%20%20%20%20%20%20%20%20%20%20%20%20%20%5B37.854265%2C%20-122.271133%5D%2C%0A%20%20%20%20%20%20%20%20%20%20%20%20%20%20%20%20%7B%7D%0A%20%20%20%20%20%20%20%20%20%20%20%20%29.addTo%28marker_cluster_43dae09a7f9448fe83d8f906d2217d99%29%3B%0A%20%20%20%20%20%20%20%20%0A%20%20%20%20%0A%20%20%20%20%20%20%20%20%20%20%20%20var%20marker_cb79289daaa24dc5ad8c94d1ad285345%20%3D%20L.marker%28%0A%20%20%20%20%20%20%20%20%20%20%20%20%20%20%20%20%5B37.890366%2C%20-122.266998%5D%2C%0A%20%20%20%20%20%20%20%20%20%20%20%20%20%20%20%20%7B%7D%0A%20%20%20%20%20%20%20%20%20%20%20%20%29.addTo%28marker_cluster_43dae09a7f9448fe83d8f906d2217d99%29%3B%0A%20%20%20%20%20%20%20%20%0A%20%20%20%20%0A%20%20%20%20%20%20%20%20%20%20%20%20var%20marker_f7d13582aaca4ea0a8d689e0dbe6abb5%20%3D%20L.marker%28%0A%20%20%20%20%20%20%20%20%20%20%20%20%20%20%20%20%5B37.867176%2C%20-122.267802%5D%2C%0A%20%20%20%20%20%20%20%20%20%20%20%20%20%20%20%20%7B%7D%0A%20%20%20%20%20%20%20%20%20%20%20%20%29.addTo%28marker_cluster_43dae09a7f9448fe83d8f906d2217d99%29%3B%0A%20%20%20%20%20%20%20%20%0A%20%20%20%20%0A%20%20%20%20%20%20%20%20%20%20%20%20var%20marker_fb29822db969463682bf150063c4bf98%20%3D%20L.marker%28%0A%20%20%20%20%20%20%20%20%20%20%20%20%20%20%20%20%5B37.872992%2C%20-122.295801%5D%2C%0A%20%20%20%20%20%20%20%20%20%20%20%20%20%20%20%20%7B%7D%0A%20%20%20%20%20%20%20%20%20%20%20%20%29.addTo%28marker_cluster_43dae09a7f9448fe83d8f906d2217d99%29%3B%0A%20%20%20%20%20%20%20%20%0A%20%20%20%20%0A%20%20%20%20%20%20%20%20%20%20%20%20var%20marker_1b048d3526924183a9fa002f59f9bc31%20%3D%20L.marker%28%0A%20%20%20%20%20%20%20%20%20%20%20%20%20%20%20%20%5B37.868204%2C%20-122.270054%5D%2C%0A%20%20%20%20%20%20%20%20%20%20%20%20%20%20%20%20%7B%7D%0A%20%20%20%20%20%20%20%20%20%20%20%20%29.addTo%28marker_cluster_43dae09a7f9448fe83d8f906d2217d99%29%3B%0A%20%20%20%20%20%20%20%20%0A%20%20%20%20%0A%20%20%20%20%20%20%20%20%20%20%20%20var%20marker_5ceba8dde8c04d8b9fa4591abeabd7f2%20%3D%20L.marker%28%0A%20%20%20%20%20%20%20%20%20%20%20%20%20%20%20%20%5B37.871246%2C%20-122.274991%5D%2C%0A%20%20%20%20%20%20%20%20%20%20%20%20%20%20%20%20%7B%7D%0A%20%20%20%20%20%20%20%20%20%20%20%20%29.addTo%28marker_cluster_43dae09a7f9448fe83d8f906d2217d99%29%3B%0A%20%20%20%20%20%20%20%20%0A%20%20%20%20%0A%20%20%20%20%20%20%20%20%20%20%20%20var%20marker_e9a28070b77543c3875f5bb64327673a%20%3D%20L.marker%28%0A%20%20%20%20%20%20%20%20%20%20%20%20%20%20%20%20%5B37.873687%2C%20-122.268616%5D%2C%0A%20%20%20%20%20%20%20%20%20%20%20%20%20%20%20%20%7B%7D%0A%20%20%20%20%20%20%20%20%20%20%20%20%29.addTo%28marker_cluster_43dae09a7f9448fe83d8f906d2217d99%29%3B%0A%20%20%20%20%20%20%20%20%0A%20%20%20%20%0A%20%20%20%20%20%20%20%20%20%20%20%20var%20marker_6fe515a5ba5147bd83c35772bc821bec%20%3D%20L.marker%28%0A%20%20%20%20%20%20%20%20%20%20%20%20%20%20%20%20%5B37.866929%2C%20-122.295042%5D%2C%0A%20%20%20%20%20%20%20%20%20%20%20%20%20%20%20%20%7B%7D%0A%20%20%20%20%20%20%20%20%20%20%20%20%29.addTo%28marker_cluster_43dae09a7f9448fe83d8f906d2217d99%29%3B%0A%20%20%20%20%20%20%20%20%0A%20%20%20%20%0A%20%20%20%20%20%20%20%20%20%20%20%20var%20marker_6490c3c254f74ccfabed2dca8bf70ea9%20%3D%20L.marker%28%0A%20%20%20%20%20%20%20%20%20%20%20%20%20%20%20%20%5B37.867176%2C%20-122.267802%5D%2C%0A%20%20%20%20%20%20%20%20%20%20%20%20%20%20%20%20%7B%7D%0A%20%20%20%20%20%20%20%20%20%20%20%20%29.addTo%28marker_cluster_43dae09a7f9448fe83d8f906d2217d99%29%3B%0A%20%20%20%20%20%20%20%20%0A%20%20%20%20%0A%20%20%20%20%20%20%20%20%20%20%20%20var%20marker_ce2525dbecd74137a959381ec3a08b77%20%3D%20L.marker%28%0A%20%20%20%20%20%20%20%20%20%20%20%20%20%20%20%20%5B37.87084%2C%20-122.289678%5D%2C%0A%20%20%20%20%20%20%20%20%20%20%20%20%20%20%20%20%7B%7D%0A%20%20%20%20%20%20%20%20%20%20%20%20%29.addTo%28marker_cluster_43dae09a7f9448fe83d8f906d2217d99%29%3B%0A%20%20%20%20%20%20%20%20%0A%20%20%20%20%0A%20%20%20%20%20%20%20%20%20%20%20%20var%20marker_fea1ec37e1b04185a47eac4c8d0690fb%20%3D%20L.marker%28%0A%20%20%20%20%20%20%20%20%20%20%20%20%20%20%20%20%5B37.868204%2C%20-122.270054%5D%2C%0A%20%20%20%20%20%20%20%20%20%20%20%20%20%20%20%20%7B%7D%0A%20%20%20%20%20%20%20%20%20%20%20%20%29.addTo%28marker_cluster_43dae09a7f9448fe83d8f906d2217d99%29%3B%0A%20%20%20%20%20%20%20%20%0A%20%20%20%20%0A%20%20%20%20%20%20%20%20%20%20%20%20var%20marker_c22eee7318d14eaaa58e664eb9903279%20%3D%20L.marker%28%0A%20%20%20%20%20%20%20%20%20%20%20%20%20%20%20%20%5B37.868714%2C%20-122.259189%5D%2C%0A%20%20%20%20%20%20%20%20%20%20%20%20%20%20%20%20%7B%7D%0A%20%20%20%20%20%20%20%20%20%20%20%20%29.addTo%28marker_cluster_43dae09a7f9448fe83d8f906d2217d99%29%3B%0A%20%20%20%20%20%20%20%20%0A%20%20%20%20%0A%20%20%20%20%20%20%20%20%20%20%20%20var%20marker_f6b96d5b0bcf4ce98a84a9f6b085661a%20%3D%20L.marker%28%0A%20%20%20%20%20%20%20%20%20%20%20%20%20%20%20%20%5B37.866936%2C%20-122.296218%5D%2C%0A%20%20%20%20%20%20%20%20%20%20%20%20%20%20%20%20%7B%7D%0A%20%20%20%20%20%20%20%20%20%20%20%20%29.addTo%28marker_cluster_43dae09a7f9448fe83d8f906d2217d99%29%3B%0A%20%20%20%20%20%20%20%20%0A%20%20%20%20%0A%20%20%20%20%20%20%20%20%20%20%20%20var%20marker_9ced1fe1040e4cf19eee16c3720b0a98%20%3D%20L.marker%28%0A%20%20%20%20%20%20%20%20%20%20%20%20%20%20%20%20%5B37.869363%2C%20-122.268028%5D%2C%0A%20%20%20%20%20%20%20%20%20%20%20%20%20%20%20%20%7B%7D%0A%20%20%20%20%20%20%20%20%20%20%20%20%29.addTo%28marker_cluster_43dae09a7f9448fe83d8f906d2217d99%29%3B%0A%20%20%20%20%20%20%20%20%0A%20%20%20%20%0A%20%20%20%20%20%20%20%20%20%20%20%20var%20marker_8f136cd7c3b2440ca67990cbf66521d1%20%3D%20L.marker%28%0A%20%20%20%20%20%20%20%20%20%20%20%20%20%20%20%20%5B37.856121%2C%20-122.26876%5D%2C%0A%20%20%20%20%20%20%20%20%20%20%20%20%20%20%20%20%7B%7D%0A%20%20%20%20%20%20%20%20%20%20%20%20%29.addTo%28marker_cluster_43dae09a7f9448fe83d8f906d2217d99%29%3B%0A%20%20%20%20%20%20%20%20%0A%20%20%20%20%0A%20%20%20%20%20%20%20%20%20%20%20%20var%20marker_d9ed780e64a049658bd760772d26e0c3%20%3D%20L.marker%28%0A%20%20%20%20%20%20%20%20%20%20%20%20%20%20%20%20%5B37.880227%2C%20-122.26936%5D%2C%0A%20%20%20%20%20%20%20%20%20%20%20%20%20%20%20%20%7B%7D%0A%20%20%20%20%20%20%20%20%20%20%20%20%29.addTo%28marker_cluster_43dae09a7f9448fe83d8f906d2217d99%29%3B%0A%20%20%20%20%20%20%20%20%0A%20%20%20%20%0A%20%20%20%20%20%20%20%20%20%20%20%20var%20marker_a3257bc954014a83a720683115fd8fe9%20%3D%20L.marker%28%0A%20%20%20%20%20%20%20%20%20%20%20%20%20%20%20%20%5B37.862059%2C%20-122.281167%5D%2C%0A%20%20%20%20%20%20%20%20%20%20%20%20%20%20%20%20%7B%7D%0A%20%20%20%20%20%20%20%20%20%20%20%20%29.addTo%28marker_cluster_43dae09a7f9448fe83d8f906d2217d99%29%3B%0A%20%20%20%20%20%20%20%20%0A%20%20%20%20%0A%20%20%20%20%20%20%20%20%20%20%20%20var%20marker_22acf35f309c4e27a1ace34fc9e139e6%20%3D%20L.marker%28%0A%20%20%20%20%20%20%20%20%20%20%20%20%20%20%20%20%5B37.871265%2C%20-122.295043%5D%2C%0A%20%20%20%20%20%20%20%20%20%20%20%20%20%20%20%20%7B%7D%0A%20%20%20%20%20%20%20%20%20%20%20%20%29.addTo%28marker_cluster_43dae09a7f9448fe83d8f906d2217d99%29%3B%0A%20%20%20%20%20%20%20%20%0A%20%20%20%20%0A%20%20%20%20%20%20%20%20%20%20%20%20var%20marker_a88497666f78421999024d7fb437fd12%20%3D%20L.marker%28%0A%20%20%20%20%20%20%20%20%20%20%20%20%20%20%20%20%5B37.86939%2C%20-122.267883%5D%2C%0A%20%20%20%20%20%20%20%20%20%20%20%20%20%20%20%20%7B%7D%0A%20%20%20%20%20%20%20%20%20%20%20%20%29.addTo%28marker_cluster_43dae09a7f9448fe83d8f906d2217d99%29%3B%0A%20%20%20%20%20%20%20%20%0A%20%20%20%20%0A%20%20%20%20%20%20%20%20%20%20%20%20var%20marker_a3fe7ad580f24b7888f6b0f80f14c60f%20%3D%20L.marker%28%0A%20%20%20%20%20%20%20%20%20%20%20%20%20%20%20%20%5B37.871167%2C%20-122.268285%5D%2C%0A%20%20%20%20%20%20%20%20%20%20%20%20%20%20%20%20%7B%7D%0A%20%20%20%20%20%20%20%20%20%20%20%20%29.addTo%28marker_cluster_43dae09a7f9448fe83d8f906d2217d99%29%3B%0A%20%20%20%20%20%20%20%20%0A%20%20%20%20%0A%20%20%20%20%20%20%20%20%20%20%20%20var%20marker_56b20c1e70a2403395179befada29c4f%20%3D%20L.marker%28%0A%20%20%20%20%20%20%20%20%20%20%20%20%20%20%20%20%5B37.865772%2C%20-122.267643%5D%2C%0A%20%20%20%20%20%20%20%20%20%20%20%20%20%20%20%20%7B%7D%0A%20%20%20%20%20%20%20%20%20%20%20%20%29.addTo%28marker_cluster_43dae09a7f9448fe83d8f906d2217d99%29%3B%0A%20%20%20%20%20%20%20%20%0A%20%20%20%20%0A%20%20%20%20%20%20%20%20%20%20%20%20var%20marker_4b3cecea551a4e9ca30ec9a28f87998f%20%3D%20L.marker%28%0A%20%20%20%20%20%20%20%20%20%20%20%20%20%20%20%20%5B37.870948%2C%20-122.27733%5D%2C%0A%20%20%20%20%20%20%20%20%20%20%20%20%20%20%20%20%7B%7D%0A%20%20%20%20%20%20%20%20%20%20%20%20%29.addTo%28marker_cluster_43dae09a7f9448fe83d8f906d2217d99%29%3B%0A%20%20%20%20%20%20%20%20%0A%20%20%20%20%0A%20%20%20%20%20%20%20%20%20%20%20%20var%20marker_4b15de07b26040d4b79ff4266a8be03a%20%3D%20L.marker%28%0A%20%20%20%20%20%20%20%20%20%20%20%20%20%20%20%20%5B37.879773%2C%20-122.30623%5D%2C%0A%20%20%20%20%20%20%20%20%20%20%20%20%20%20%20%20%7B%7D%0A%20%20%20%20%20%20%20%20%20%20%20%20%29.addTo%28marker_cluster_43dae09a7f9448fe83d8f906d2217d99%29%3B%0A%20%20%20%20%20%20%20%20%0A%20%20%20%20%0A%20%20%20%20%20%20%20%20%20%20%20%20var%20marker_274ed0389ea04d6c94d59bade25d6c46%20%3D%20L.marker%28%0A%20%20%20%20%20%20%20%20%20%20%20%20%20%20%20%20%5B37.893448%2C%20-122.272137%5D%2C%0A%20%20%20%20%20%20%20%20%20%20%20%20%20%20%20%20%7B%7D%0A%20%20%20%20%20%20%20%20%20%20%20%20%29.addTo%28marker_cluster_43dae09a7f9448fe83d8f906d2217d99%29%3B%0A%20%20%20%20%20%20%20%20%0A%20%20%20%20%0A%20%20%20%20%20%20%20%20%20%20%20%20var%20marker_e93567c7599c46c79f9b64bd3673a805%20%3D%20L.marker%28%0A%20%20%20%20%20%20%20%20%20%20%20%20%20%20%20%20%5B37.864908%2C%20-122.267289%5D%2C%0A%20%20%20%20%20%20%20%20%20%20%20%20%20%20%20%20%7B%7D%0A%20%20%20%20%20%20%20%20%20%20%20%20%29.addTo%28marker_cluster_43dae09a7f9448fe83d8f906d2217d99%29%3B%0A%20%20%20%20%20%20%20%20%0A%20%20%20%20%0A%20%20%20%20%20%20%20%20%20%20%20%20var%20marker_a0e4335fc08d4d78852f8270b7f65b08%20%3D%20L.marker%28%0A%20%20%20%20%20%20%20%20%20%20%20%20%20%20%20%20%5B37.880021%2C%20-122.298091%5D%2C%0A%20%20%20%20%20%20%20%20%20%20%20%20%20%20%20%20%7B%7D%0A%20%20%20%20%20%20%20%20%20%20%20%20%29.addTo%28marker_cluster_43dae09a7f9448fe83d8f906d2217d99%29%3B%0A%20%20%20%20%20%20%20%20%0A%20%20%20%20%0A%20%20%20%20%20%20%20%20%20%20%20%20var%20marker_5d76b202251f4e26b5b80e15321c0ce7%20%3D%20L.marker%28%0A%20%20%20%20%20%20%20%20%20%20%20%20%20%20%20%20%5B37.861313%2C%20-122.297894%5D%2C%0A%20%20%20%20%20%20%20%20%20%20%20%20%20%20%20%20%7B%7D%0A%20%20%20%20%20%20%20%20%20%20%20%20%29.addTo%28marker_cluster_43dae09a7f9448fe83d8f906d2217d99%29%3B%0A%20%20%20%20%20%20%20%20%0A%20%20%20%20%0A%20%20%20%20%20%20%20%20%20%20%20%20var%20marker_2a3be739dd2043d18b923c07e4a55fc1%20%3D%20L.marker%28%0A%20%20%20%20%20%20%20%20%20%20%20%20%20%20%20%20%5B37.869363%2C%20-122.268028%5D%2C%0A%20%20%20%20%20%20%20%20%20%20%20%20%20%20%20%20%7B%7D%0A%20%20%20%20%20%20%20%20%20%20%20%20%29.addTo%28marker_cluster_43dae09a7f9448fe83d8f906d2217d99%29%3B%0A%20%20%20%20%20%20%20%20%0A%20%20%20%20%0A%20%20%20%20%20%20%20%20%20%20%20%20var%20marker_d7bf3edf97a441af86771b08028c0b66%20%3D%20L.marker%28%0A%20%20%20%20%20%20%20%20%20%20%20%20%20%20%20%20%5B37.867371%2C%20-122.281755%5D%2C%0A%20%20%20%20%20%20%20%20%20%20%20%20%20%20%20%20%7B%7D%0A%20%20%20%20%20%20%20%20%20%20%20%20%29.addTo%28marker_cluster_43dae09a7f9448fe83d8f906d2217d99%29%3B%0A%20%20%20%20%20%20%20%20%0A%20%20%20%20%0A%20%20%20%20%20%20%20%20%20%20%20%20var%20marker_1789c622c0c94fae838741d40f354389%20%3D%20L.marker%28%0A%20%20%20%20%20%20%20%20%20%20%20%20%20%20%20%20%5B37.882064%2C%20-122.269357%5D%2C%0A%20%20%20%20%20%20%20%20%20%20%20%20%20%20%20%20%7B%7D%0A%20%20%20%20%20%20%20%20%20%20%20%20%29.addTo%28marker_cluster_43dae09a7f9448fe83d8f906d2217d99%29%3B%0A%20%20%20%20%20%20%20%20%0A%20%20%20%20%0A%20%20%20%20%20%20%20%20%20%20%20%20var%20marker_250e17d7baca4890937246edfe2be85c%20%3D%20L.marker%28%0A%20%20%20%20%20%20%20%20%20%20%20%20%20%20%20%20%5B37.869363%2C%20-122.268028%5D%2C%0A%20%20%20%20%20%20%20%20%20%20%20%20%20%20%20%20%7B%7D%0A%20%20%20%20%20%20%20%20%20%20%20%20%29.addTo%28marker_cluster_43dae09a7f9448fe83d8f906d2217d99%29%3B%0A%20%20%20%20%20%20%20%20%0A%20%20%20%20%0A%20%20%20%20%20%20%20%20%20%20%20%20var%20marker_56af2edf80b94f45b3ea7586221955dd%20%3D%20L.marker%28%0A%20%20%20%20%20%20%20%20%20%20%20%20%20%20%20%20%5B37.850385%2C%20-122.270897%5D%2C%0A%20%20%20%20%20%20%20%20%20%20%20%20%20%20%20%20%7B%7D%0A%20%20%20%20%20%20%20%20%20%20%20%20%29.addTo%28marker_cluster_43dae09a7f9448fe83d8f906d2217d99%29%3B%0A%20%20%20%20%20%20%20%20%0A%20%20%20%20%0A%20%20%20%20%20%20%20%20%20%20%20%20var%20marker_827a2594dc054e2f84dbacce7ce23be9%20%3D%20L.marker%28%0A%20%20%20%20%20%20%20%20%20%20%20%20%20%20%20%20%5B37.880519%2C%20-122.267051%5D%2C%0A%20%20%20%20%20%20%20%20%20%20%20%20%20%20%20%20%7B%7D%0A%20%20%20%20%20%20%20%20%20%20%20%20%29.addTo%28marker_cluster_43dae09a7f9448fe83d8f906d2217d99%29%3B%0A%20%20%20%20%20%20%20%20%0A%20%20%20%20%0A%20%20%20%20%20%20%20%20%20%20%20%20var%20marker_89c8e56a8392407792224b2fab607be0%20%3D%20L.marker%28%0A%20%20%20%20%20%20%20%20%20%20%20%20%20%20%20%20%5B37.867383%2C%20-122.293938%5D%2C%0A%20%20%20%20%20%20%20%20%20%20%20%20%20%20%20%20%7B%7D%0A%20%20%20%20%20%20%20%20%20%20%20%20%29.addTo%28marker_cluster_43dae09a7f9448fe83d8f906d2217d99%29%3B%0A%20%20%20%20%20%20%20%20%0A%20%20%20%20%0A%20%20%20%20%20%20%20%20%20%20%20%20var%20marker_c1d0b8c55fcc4a3a809a0f5f6d1c1e5f%20%3D%20L.marker%28%0A%20%20%20%20%20%20%20%20%20%20%20%20%20%20%20%20%5B37.867601%2C%20-122.267718%5D%2C%0A%20%20%20%20%20%20%20%20%20%20%20%20%20%20%20%20%7B%7D%0A%20%20%20%20%20%20%20%20%20%20%20%20%29.addTo%28marker_cluster_43dae09a7f9448fe83d8f906d2217d99%29%3B%0A%20%20%20%20%20%20%20%20%0A%20%20%20%20%0A%20%20%20%20%20%20%20%20%20%20%20%20var%20marker_56d08c85f5a34d56b41d0889845a7a55%20%3D%20L.marker%28%0A%20%20%20%20%20%20%20%20%20%20%20%20%20%20%20%20%5B37.868641%2C%20-122.29415%5D%2C%0A%20%20%20%20%20%20%20%20%20%20%20%20%20%20%20%20%7B%7D%0A%20%20%20%20%20%20%20%20%20%20%20%20%29.addTo%28marker_cluster_43dae09a7f9448fe83d8f906d2217d99%29%3B%0A%20%20%20%20%20%20%20%20%0A%20%20%20%20%0A%20%20%20%20%20%20%20%20%20%20%20%20var%20marker_560b175f0c2244f2a06abb4bfcdbec44%20%3D%20L.marker%28%0A%20%20%20%20%20%20%20%20%20%20%20%20%20%20%20%20%5B37.871246%2C%20-122.274991%5D%2C%0A%20%20%20%20%20%20%20%20%20%20%20%20%20%20%20%20%7B%7D%0A%20%20%20%20%20%20%20%20%20%20%20%20%29.addTo%28marker_cluster_43dae09a7f9448fe83d8f906d2217d99%29%3B%0A%20%20%20%20%20%20%20%20%0A%20%20%20%20%0A%20%20%20%20%20%20%20%20%20%20%20%20var%20marker_40b6ef9a991e431581ee6a4dc09c2029%20%3D%20L.marker%28%0A%20%20%20%20%20%20%20%20%20%20%20%20%20%20%20%20%5B37.878423%2C%20-122.269023%5D%2C%0A%20%20%20%20%20%20%20%20%20%20%20%20%20%20%20%20%7B%7D%0A%20%20%20%20%20%20%20%20%20%20%20%20%29.addTo%28marker_cluster_43dae09a7f9448fe83d8f906d2217d99%29%3B%0A%20%20%20%20%20%20%20%20%0A%20%20%20%20%0A%20%20%20%20%20%20%20%20%20%20%20%20var%20marker_9dbeec7e54234431984d17aebab972f6%20%3D%20L.marker%28%0A%20%20%20%20%20%20%20%20%20%20%20%20%20%20%20%20%5B37.874802%2C%20-122.29615%5D%2C%0A%20%20%20%20%20%20%20%20%20%20%20%20%20%20%20%20%7B%7D%0A%20%20%20%20%20%20%20%20%20%20%20%20%29.addTo%28marker_cluster_43dae09a7f9448fe83d8f906d2217d99%29%3B%0A%20%20%20%20%20%20%20%20%0A%3C/script%3E onload=\"this.contentDocument.open();this.contentDocument.write(    decodeURIComponent(this.getAttribute('data-html')));this.contentDocument.close();\" allowfullscreen webkitallowfullscreen mozallowfullscreen></iframe></div></div>"
      ],
      "text/plain": [
       "<folium.folium.Map at 0x7fd902e7dac0>"
      ]
     },
     "execution_count": 45,
     "metadata": {},
     "output_type": "execute_result"
    }
   ],
   "source": [
    "import folium.plugins\n",
    "\n",
    "locations = calls[calls['CVLEGEND'] == 'ASSAULT'][['Lat', 'Lon']]\n",
    "\n",
    "cluster = folium.plugins.MarkerCluster()\n",
    "for _, r in locations.dropna().iterrows():\n",
    "    cluster.add_child(\n",
    "        folium.Marker([float(r[\"Lat\"]), float(r[\"Lon\"])]))\n",
    "    \n",
    "sf_map = folium.Map(location=SF_COORDINATES, zoom_start=13)\n",
    "sf_map.add_child(cluster)\n",
    "sf_map"
   ]
  },
  {
   "cell_type": "markdown",
   "metadata": {},
   "source": [
    "## Bonus Content: Using pd.to_datetime to Extract Time Information"
   ]
  },
  {
   "cell_type": "markdown",
   "metadata": {},
   "source": [
    "Date parsing using `pd.to_datetime`."
   ]
  },
  {
   "cell_type": "code",
   "execution_count": 46,
   "metadata": {},
   "outputs": [
    {
     "data": {
      "text/html": [
       "<div>\n",
       "<style scoped>\n",
       "    .dataframe tbody tr th:only-of-type {\n",
       "        vertical-align: middle;\n",
       "    }\n",
       "\n",
       "    .dataframe tbody tr th {\n",
       "        vertical-align: top;\n",
       "    }\n",
       "\n",
       "    .dataframe thead th {\n",
       "        text-align: right;\n",
       "    }\n",
       "</style>\n",
       "<table border=\"1\" class=\"dataframe\">\n",
       "  <thead>\n",
       "    <tr style=\"text-align: right;\">\n",
       "      <th></th>\n",
       "      <th>0</th>\n",
       "    </tr>\n",
       "  </thead>\n",
       "  <tbody>\n",
       "    <tr>\n",
       "      <th>0</th>\n",
       "      <td>2014-01-26 10:47:58</td>\n",
       "    </tr>\n",
       "    <tr>\n",
       "      <th>1</th>\n",
       "      <td>2005-02-02 17:23:06</td>\n",
       "    </tr>\n",
       "    <tr>\n",
       "      <th>2</th>\n",
       "      <td>2006-02-03 10:18:37</td>\n",
       "    </tr>\n",
       "  </tbody>\n",
       "</table>\n",
       "</div>"
      ],
      "text/plain": [
       "                    0\n",
       "0 2014-01-26 10:47:58\n",
       "1 2005-02-02 17:23:06\n",
       "2 2006-02-03 10:18:37"
      ]
     },
     "execution_count": 46,
     "metadata": {},
     "output_type": "execute_result"
    }
   ],
   "source": [
    "pd.Series(log_lines).str.extract(r'\\[(.*) -0800\\]').apply(\n",
    "    lambda s: pd.to_datetime(s, format='%d/%b/%Y:%H:%M:%S'))"
   ]
  }
 ],
 "metadata": {
  "kernelspec": {
   "display_name": "Python 3",
   "language": "python",
   "name": "python3"
  },
  "language_info": {
   "codemirror_mode": {
    "name": "ipython",
    "version": 3
   },
   "file_extension": ".py",
   "mimetype": "text/x-python",
   "name": "python",
   "nbconvert_exporter": "python",
   "pygments_lexer": "ipython3",
   "version": "3.8.8"
  }
 },
 "nbformat": 4,
 "nbformat_minor": 2
}
