{
 "cells": [
  {
   "cell_type": "markdown",
   "metadata": {},
   "source": [
    "# Lecture 16, Part 1 – Data 100, Fall 2020\n",
    "\n",
    "**by Joseph Gonzalez (Spring 2020)**\n",
    "\n",
    "**Note:** scikit-learn's `Pipeline` functionality is explored at length in this notebook. **IT IS NOT IN SCOPE FOR FALL 2020.** Instead, focus on the bigger picture, of how we are splitting our data into train and test, and how we are using cross validation."
   ]
  },
  {
   "cell_type": "markdown",
   "metadata": {},
   "source": [
    "## Train Test Split and Cross Validation\n",
    "\n",
    "In this notebook we will work through the train test-split and the process of cross validation.  "
   ]
  },
  {
   "cell_type": "markdown",
   "metadata": {},
   "source": [
    "## Imports\n",
    "\n",
    "As with other notebooks we will use the same set of standard imports."
   ]
  },
  {
   "cell_type": "code",
   "execution_count": 1,
   "metadata": {},
   "outputs": [],
   "source": [
    "import numpy as np\n",
    "import pandas as pd"
   ]
  },
  {
   "cell_type": "code",
   "execution_count": 2,
   "metadata": {},
   "outputs": [
    {
     "name": "stderr",
     "output_type": "stream",
     "text": [
      "/opt/conda/lib/python3.8/site-packages/geopandas/_compat.py:106: UserWarning:\n",
      "\n",
      "The Shapely GEOS version (3.8.0-CAPI-1.13.1 ) is incompatible with the GEOS version PyGEOS was compiled with (3.9.1-CAPI-1.14.2). Conversions between both will be slow.\n",
      "\n"
     ]
    },
    {
     "data": {
      "text/html": [
       "        <script type=\"text/javascript\">\n",
       "        window.PlotlyConfig = {MathJaxConfig: 'local'};\n",
       "        if (window.MathJax) {MathJax.Hub.Config({SVG: {font: \"STIX-Web\"}});}\n",
       "        if (typeof require !== 'undefined') {\n",
       "        require.undef(\"plotly\");\n",
       "        requirejs.config({\n",
       "            paths: {\n",
       "                'plotly': ['https://cdn.plot.ly/plotly-latest.min']\n",
       "            }\n",
       "        });\n",
       "        require(['plotly'], function(Plotly) {\n",
       "            window._Plotly = Plotly;\n",
       "        });\n",
       "        }\n",
       "        </script>\n",
       "        "
      ]
     },
     "metadata": {},
     "output_type": "display_data"
    },
    {
     "data": {
      "text/html": [
       "        <script type=\"text/javascript\">\n",
       "        window.PlotlyConfig = {MathJaxConfig: 'local'};\n",
       "        if (window.MathJax) {MathJax.Hub.Config({SVG: {font: \"STIX-Web\"}});}\n",
       "        if (typeof require !== 'undefined') {\n",
       "        require.undef(\"plotly\");\n",
       "        requirejs.config({\n",
       "            paths: {\n",
       "                'plotly': ['https://cdn.plot.ly/plotly-latest.min']\n",
       "            }\n",
       "        });\n",
       "        require(['plotly'], function(Plotly) {\n",
       "            window._Plotly = Plotly;\n",
       "        });\n",
       "        }\n",
       "        </script>\n",
       "        "
      ]
     },
     "metadata": {},
     "output_type": "display_data"
    }
   ],
   "source": [
    "import plotly.offline as py\n",
    "import plotly.express as px\n",
    "import plotly.graph_objects as go\n",
    "from plotly.subplots import make_subplots\n",
    "import plotly.figure_factory as ff\n",
    "import cufflinks as cf\n",
    "cf.set_config_file(offline=True, sharing=False, theme='ggplot');"
   ]
  },
  {
   "cell_type": "code",
   "execution_count": 3,
   "metadata": {},
   "outputs": [],
   "source": [
    "from sklearn.linear_model import LinearRegression"
   ]
  },
  {
   "cell_type": "markdown",
   "metadata": {},
   "source": [
    "## The Data\n",
    "\n",
    "For this notebook, we will use the seaborn `mpg` dataset which describes the fuel mileage (measured in miles per gallon or mpg) of various cars along with characteristics of those cars.  Our goal will be to build a model that can predict the fuel mileage of a car based on the characteristics of that car."
   ]
  },
  {
   "cell_type": "code",
   "execution_count": 4,
   "metadata": {},
   "outputs": [
    {
     "data": {
      "text/html": [
       "<div>\n",
       "<style scoped>\n",
       "    .dataframe tbody tr th:only-of-type {\n",
       "        vertical-align: middle;\n",
       "    }\n",
       "\n",
       "    .dataframe tbody tr th {\n",
       "        vertical-align: top;\n",
       "    }\n",
       "\n",
       "    .dataframe thead th {\n",
       "        text-align: right;\n",
       "    }\n",
       "</style>\n",
       "<table border=\"1\" class=\"dataframe\">\n",
       "  <thead>\n",
       "    <tr style=\"text-align: right;\">\n",
       "      <th></th>\n",
       "      <th>mpg</th>\n",
       "      <th>cylinders</th>\n",
       "      <th>displacement</th>\n",
       "      <th>horsepower</th>\n",
       "      <th>weight</th>\n",
       "      <th>acceleration</th>\n",
       "      <th>model_year</th>\n",
       "      <th>origin</th>\n",
       "      <th>name</th>\n",
       "    </tr>\n",
       "  </thead>\n",
       "  <tbody>\n",
       "    <tr>\n",
       "      <th>0</th>\n",
       "      <td>18.0</td>\n",
       "      <td>8</td>\n",
       "      <td>307.0</td>\n",
       "      <td>130.0</td>\n",
       "      <td>3504</td>\n",
       "      <td>12.0</td>\n",
       "      <td>70</td>\n",
       "      <td>usa</td>\n",
       "      <td>chevrolet chevelle malibu</td>\n",
       "    </tr>\n",
       "    <tr>\n",
       "      <th>1</th>\n",
       "      <td>15.0</td>\n",
       "      <td>8</td>\n",
       "      <td>350.0</td>\n",
       "      <td>165.0</td>\n",
       "      <td>3693</td>\n",
       "      <td>11.5</td>\n",
       "      <td>70</td>\n",
       "      <td>usa</td>\n",
       "      <td>buick skylark 320</td>\n",
       "    </tr>\n",
       "    <tr>\n",
       "      <th>2</th>\n",
       "      <td>18.0</td>\n",
       "      <td>8</td>\n",
       "      <td>318.0</td>\n",
       "      <td>150.0</td>\n",
       "      <td>3436</td>\n",
       "      <td>11.0</td>\n",
       "      <td>70</td>\n",
       "      <td>usa</td>\n",
       "      <td>plymouth satellite</td>\n",
       "    </tr>\n",
       "    <tr>\n",
       "      <th>3</th>\n",
       "      <td>16.0</td>\n",
       "      <td>8</td>\n",
       "      <td>304.0</td>\n",
       "      <td>150.0</td>\n",
       "      <td>3433</td>\n",
       "      <td>12.0</td>\n",
       "      <td>70</td>\n",
       "      <td>usa</td>\n",
       "      <td>amc rebel sst</td>\n",
       "    </tr>\n",
       "    <tr>\n",
       "      <th>4</th>\n",
       "      <td>17.0</td>\n",
       "      <td>8</td>\n",
       "      <td>302.0</td>\n",
       "      <td>140.0</td>\n",
       "      <td>3449</td>\n",
       "      <td>10.5</td>\n",
       "      <td>70</td>\n",
       "      <td>usa</td>\n",
       "      <td>ford torino</td>\n",
       "    </tr>\n",
       "    <tr>\n",
       "      <th>...</th>\n",
       "      <td>...</td>\n",
       "      <td>...</td>\n",
       "      <td>...</td>\n",
       "      <td>...</td>\n",
       "      <td>...</td>\n",
       "      <td>...</td>\n",
       "      <td>...</td>\n",
       "      <td>...</td>\n",
       "      <td>...</td>\n",
       "    </tr>\n",
       "    <tr>\n",
       "      <th>393</th>\n",
       "      <td>27.0</td>\n",
       "      <td>4</td>\n",
       "      <td>140.0</td>\n",
       "      <td>86.0</td>\n",
       "      <td>2790</td>\n",
       "      <td>15.6</td>\n",
       "      <td>82</td>\n",
       "      <td>usa</td>\n",
       "      <td>ford mustang gl</td>\n",
       "    </tr>\n",
       "    <tr>\n",
       "      <th>394</th>\n",
       "      <td>44.0</td>\n",
       "      <td>4</td>\n",
       "      <td>97.0</td>\n",
       "      <td>52.0</td>\n",
       "      <td>2130</td>\n",
       "      <td>24.6</td>\n",
       "      <td>82</td>\n",
       "      <td>europe</td>\n",
       "      <td>vw pickup</td>\n",
       "    </tr>\n",
       "    <tr>\n",
       "      <th>395</th>\n",
       "      <td>32.0</td>\n",
       "      <td>4</td>\n",
       "      <td>135.0</td>\n",
       "      <td>84.0</td>\n",
       "      <td>2295</td>\n",
       "      <td>11.6</td>\n",
       "      <td>82</td>\n",
       "      <td>usa</td>\n",
       "      <td>dodge rampage</td>\n",
       "    </tr>\n",
       "    <tr>\n",
       "      <th>396</th>\n",
       "      <td>28.0</td>\n",
       "      <td>4</td>\n",
       "      <td>120.0</td>\n",
       "      <td>79.0</td>\n",
       "      <td>2625</td>\n",
       "      <td>18.6</td>\n",
       "      <td>82</td>\n",
       "      <td>usa</td>\n",
       "      <td>ford ranger</td>\n",
       "    </tr>\n",
       "    <tr>\n",
       "      <th>397</th>\n",
       "      <td>31.0</td>\n",
       "      <td>4</td>\n",
       "      <td>119.0</td>\n",
       "      <td>82.0</td>\n",
       "      <td>2720</td>\n",
       "      <td>19.4</td>\n",
       "      <td>82</td>\n",
       "      <td>usa</td>\n",
       "      <td>chevy s-10</td>\n",
       "    </tr>\n",
       "  </tbody>\n",
       "</table>\n",
       "<p>398 rows × 9 columns</p>\n",
       "</div>"
      ],
      "text/plain": [
       "      mpg  cylinders  displacement  horsepower  weight  acceleration  \\\n",
       "0    18.0          8         307.0       130.0    3504          12.0   \n",
       "1    15.0          8         350.0       165.0    3693          11.5   \n",
       "2    18.0          8         318.0       150.0    3436          11.0   \n",
       "3    16.0          8         304.0       150.0    3433          12.0   \n",
       "4    17.0          8         302.0       140.0    3449          10.5   \n",
       "..    ...        ...           ...         ...     ...           ...   \n",
       "393  27.0          4         140.0        86.0    2790          15.6   \n",
       "394  44.0          4          97.0        52.0    2130          24.6   \n",
       "395  32.0          4         135.0        84.0    2295          11.6   \n",
       "396  28.0          4         120.0        79.0    2625          18.6   \n",
       "397  31.0          4         119.0        82.0    2720          19.4   \n",
       "\n",
       "     model_year  origin                       name  \n",
       "0            70     usa  chevrolet chevelle malibu  \n",
       "1            70     usa          buick skylark 320  \n",
       "2            70     usa         plymouth satellite  \n",
       "3            70     usa              amc rebel sst  \n",
       "4            70     usa                ford torino  \n",
       "..          ...     ...                        ...  \n",
       "393          82     usa            ford mustang gl  \n",
       "394          82  europe                  vw pickup  \n",
       "395          82     usa              dodge rampage  \n",
       "396          82     usa                ford ranger  \n",
       "397          82     usa                 chevy s-10  \n",
       "\n",
       "[398 rows x 9 columns]"
      ]
     },
     "execution_count": 4,
     "metadata": {},
     "output_type": "execute_result"
    }
   ],
   "source": [
    "from seaborn import load_dataset\n",
    "data = load_dataset(\"mpg\")\n",
    "data"
   ]
  },
  {
   "cell_type": "markdown",
   "metadata": {},
   "source": [
    "## Train Test Split\n",
    "\n",
    "The first thing we will want to do with this data is construct a train/test split. Constructing a train test split before EDA and data cleaning can often be helpful.  This allows us to see if our data cleaning and any conclusions we draw from visualizations generalize to new data. This can be done by re-running the data cleaning and EDA process on the test dataset."
   ]
  },
  {
   "cell_type": "markdown",
   "metadata": {},
   "source": [
    "### Using Pandas Operations\n",
    "\n",
    "We can sample the entire dataset to get a permutation and then select a range of rows."
   ]
  },
  {
   "cell_type": "code",
   "execution_count": 5,
   "metadata": {},
   "outputs": [
    {
     "data": {
      "text/html": [
       "<div>\n",
       "<style scoped>\n",
       "    .dataframe tbody tr th:only-of-type {\n",
       "        vertical-align: middle;\n",
       "    }\n",
       "\n",
       "    .dataframe tbody tr th {\n",
       "        vertical-align: top;\n",
       "    }\n",
       "\n",
       "    .dataframe thead th {\n",
       "        text-align: right;\n",
       "    }\n",
       "</style>\n",
       "<table border=\"1\" class=\"dataframe\">\n",
       "  <thead>\n",
       "    <tr style=\"text-align: right;\">\n",
       "      <th></th>\n",
       "      <th>mpg</th>\n",
       "      <th>cylinders</th>\n",
       "      <th>displacement</th>\n",
       "      <th>horsepower</th>\n",
       "      <th>weight</th>\n",
       "      <th>acceleration</th>\n",
       "      <th>model_year</th>\n",
       "      <th>origin</th>\n",
       "      <th>name</th>\n",
       "    </tr>\n",
       "  </thead>\n",
       "  <tbody>\n",
       "    <tr>\n",
       "      <th>198</th>\n",
       "      <td>33.0</td>\n",
       "      <td>4</td>\n",
       "      <td>91.0</td>\n",
       "      <td>53.0</td>\n",
       "      <td>1795</td>\n",
       "      <td>17.4</td>\n",
       "      <td>76</td>\n",
       "      <td>japan</td>\n",
       "      <td>honda civic</td>\n",
       "    </tr>\n",
       "    <tr>\n",
       "      <th>396</th>\n",
       "      <td>28.0</td>\n",
       "      <td>4</td>\n",
       "      <td>120.0</td>\n",
       "      <td>79.0</td>\n",
       "      <td>2625</td>\n",
       "      <td>18.6</td>\n",
       "      <td>82</td>\n",
       "      <td>usa</td>\n",
       "      <td>ford ranger</td>\n",
       "    </tr>\n",
       "    <tr>\n",
       "      <th>33</th>\n",
       "      <td>19.0</td>\n",
       "      <td>6</td>\n",
       "      <td>232.0</td>\n",
       "      <td>100.0</td>\n",
       "      <td>2634</td>\n",
       "      <td>13.0</td>\n",
       "      <td>71</td>\n",
       "      <td>usa</td>\n",
       "      <td>amc gremlin</td>\n",
       "    </tr>\n",
       "    <tr>\n",
       "      <th>208</th>\n",
       "      <td>13.0</td>\n",
       "      <td>8</td>\n",
       "      <td>318.0</td>\n",
       "      <td>150.0</td>\n",
       "      <td>3940</td>\n",
       "      <td>13.2</td>\n",
       "      <td>76</td>\n",
       "      <td>usa</td>\n",
       "      <td>plymouth volare premier v8</td>\n",
       "    </tr>\n",
       "    <tr>\n",
       "      <th>93</th>\n",
       "      <td>14.0</td>\n",
       "      <td>8</td>\n",
       "      <td>318.0</td>\n",
       "      <td>150.0</td>\n",
       "      <td>4237</td>\n",
       "      <td>14.5</td>\n",
       "      <td>73</td>\n",
       "      <td>usa</td>\n",
       "      <td>plymouth fury gran sedan</td>\n",
       "    </tr>\n",
       "    <tr>\n",
       "      <th>...</th>\n",
       "      <td>...</td>\n",
       "      <td>...</td>\n",
       "      <td>...</td>\n",
       "      <td>...</td>\n",
       "      <td>...</td>\n",
       "      <td>...</td>\n",
       "      <td>...</td>\n",
       "      <td>...</td>\n",
       "      <td>...</td>\n",
       "    </tr>\n",
       "    <tr>\n",
       "      <th>71</th>\n",
       "      <td>19.0</td>\n",
       "      <td>3</td>\n",
       "      <td>70.0</td>\n",
       "      <td>97.0</td>\n",
       "      <td>2330</td>\n",
       "      <td>13.5</td>\n",
       "      <td>72</td>\n",
       "      <td>japan</td>\n",
       "      <td>mazda rx2 coupe</td>\n",
       "    </tr>\n",
       "    <tr>\n",
       "      <th>106</th>\n",
       "      <td>12.0</td>\n",
       "      <td>8</td>\n",
       "      <td>350.0</td>\n",
       "      <td>180.0</td>\n",
       "      <td>4499</td>\n",
       "      <td>12.5</td>\n",
       "      <td>73</td>\n",
       "      <td>usa</td>\n",
       "      <td>oldsmobile vista cruiser</td>\n",
       "    </tr>\n",
       "    <tr>\n",
       "      <th>270</th>\n",
       "      <td>21.1</td>\n",
       "      <td>4</td>\n",
       "      <td>134.0</td>\n",
       "      <td>95.0</td>\n",
       "      <td>2515</td>\n",
       "      <td>14.8</td>\n",
       "      <td>78</td>\n",
       "      <td>japan</td>\n",
       "      <td>toyota celica gt liftback</td>\n",
       "    </tr>\n",
       "    <tr>\n",
       "      <th>348</th>\n",
       "      <td>37.7</td>\n",
       "      <td>4</td>\n",
       "      <td>89.0</td>\n",
       "      <td>62.0</td>\n",
       "      <td>2050</td>\n",
       "      <td>17.3</td>\n",
       "      <td>81</td>\n",
       "      <td>japan</td>\n",
       "      <td>toyota tercel</td>\n",
       "    </tr>\n",
       "    <tr>\n",
       "      <th>102</th>\n",
       "      <td>26.0</td>\n",
       "      <td>4</td>\n",
       "      <td>97.0</td>\n",
       "      <td>46.0</td>\n",
       "      <td>1950</td>\n",
       "      <td>21.0</td>\n",
       "      <td>73</td>\n",
       "      <td>europe</td>\n",
       "      <td>volkswagen super beetle</td>\n",
       "    </tr>\n",
       "  </tbody>\n",
       "</table>\n",
       "<p>398 rows × 9 columns</p>\n",
       "</div>"
      ],
      "text/plain": [
       "      mpg  cylinders  displacement  horsepower  weight  acceleration  \\\n",
       "198  33.0          4          91.0        53.0    1795          17.4   \n",
       "396  28.0          4         120.0        79.0    2625          18.6   \n",
       "33   19.0          6         232.0       100.0    2634          13.0   \n",
       "208  13.0          8         318.0       150.0    3940          13.2   \n",
       "93   14.0          8         318.0       150.0    4237          14.5   \n",
       "..    ...        ...           ...         ...     ...           ...   \n",
       "71   19.0          3          70.0        97.0    2330          13.5   \n",
       "106  12.0          8         350.0       180.0    4499          12.5   \n",
       "270  21.1          4         134.0        95.0    2515          14.8   \n",
       "348  37.7          4          89.0        62.0    2050          17.3   \n",
       "102  26.0          4          97.0        46.0    1950          21.0   \n",
       "\n",
       "     model_year  origin                        name  \n",
       "198          76   japan                 honda civic  \n",
       "396          82     usa                 ford ranger  \n",
       "33           71     usa                 amc gremlin  \n",
       "208          76     usa  plymouth volare premier v8  \n",
       "93           73     usa    plymouth fury gran sedan  \n",
       "..          ...     ...                         ...  \n",
       "71           72   japan             mazda rx2 coupe  \n",
       "106          73     usa    oldsmobile vista cruiser  \n",
       "270          78   japan   toyota celica gt liftback  \n",
       "348          81   japan               toyota tercel  \n",
       "102          73  europe     volkswagen super beetle  \n",
       "\n",
       "[398 rows x 9 columns]"
      ]
     },
     "execution_count": 5,
     "metadata": {},
     "output_type": "execute_result"
    }
   ],
   "source": [
    "shuffled_data = data.sample(frac=1., random_state=42)\n",
    "shuffled_data"
   ]
  },
  {
   "cell_type": "markdown",
   "metadata": {},
   "source": [
    "Selecting a range of rows for training and test"
   ]
  },
  {
   "cell_type": "code",
   "execution_count": 6,
   "metadata": {},
   "outputs": [
    {
     "data": {
      "text/plain": [
       "358"
      ]
     },
     "execution_count": 6,
     "metadata": {},
     "output_type": "execute_result"
    }
   ],
   "source": [
    "split_point = int(shuffled_data.shape[0]*0.90)\n",
    "split_point"
   ]
  },
  {
   "cell_type": "code",
   "execution_count": 7,
   "metadata": {},
   "outputs": [],
   "source": [
    "tr = shuffled_data.iloc[:split_point]\n",
    "te = shuffled_data.iloc[split_point:]"
   ]
  },
  {
   "cell_type": "code",
   "execution_count": 8,
   "metadata": {},
   "outputs": [
    {
     "data": {
      "text/html": [
       "<div>\n",
       "<style scoped>\n",
       "    .dataframe tbody tr th:only-of-type {\n",
       "        vertical-align: middle;\n",
       "    }\n",
       "\n",
       "    .dataframe tbody tr th {\n",
       "        vertical-align: top;\n",
       "    }\n",
       "\n",
       "    .dataframe thead th {\n",
       "        text-align: right;\n",
       "    }\n",
       "</style>\n",
       "<table border=\"1\" class=\"dataframe\">\n",
       "  <thead>\n",
       "    <tr style=\"text-align: right;\">\n",
       "      <th></th>\n",
       "      <th>mpg</th>\n",
       "      <th>cylinders</th>\n",
       "      <th>displacement</th>\n",
       "      <th>horsepower</th>\n",
       "      <th>weight</th>\n",
       "      <th>acceleration</th>\n",
       "      <th>model_year</th>\n",
       "      <th>origin</th>\n",
       "      <th>name</th>\n",
       "    </tr>\n",
       "  </thead>\n",
       "  <tbody>\n",
       "    <tr>\n",
       "      <th>198</th>\n",
       "      <td>33.0</td>\n",
       "      <td>4</td>\n",
       "      <td>91.0</td>\n",
       "      <td>53.0</td>\n",
       "      <td>1795</td>\n",
       "      <td>17.4</td>\n",
       "      <td>76</td>\n",
       "      <td>japan</td>\n",
       "      <td>honda civic</td>\n",
       "    </tr>\n",
       "    <tr>\n",
       "      <th>396</th>\n",
       "      <td>28.0</td>\n",
       "      <td>4</td>\n",
       "      <td>120.0</td>\n",
       "      <td>79.0</td>\n",
       "      <td>2625</td>\n",
       "      <td>18.6</td>\n",
       "      <td>82</td>\n",
       "      <td>usa</td>\n",
       "      <td>ford ranger</td>\n",
       "    </tr>\n",
       "    <tr>\n",
       "      <th>33</th>\n",
       "      <td>19.0</td>\n",
       "      <td>6</td>\n",
       "      <td>232.0</td>\n",
       "      <td>100.0</td>\n",
       "      <td>2634</td>\n",
       "      <td>13.0</td>\n",
       "      <td>71</td>\n",
       "      <td>usa</td>\n",
       "      <td>amc gremlin</td>\n",
       "    </tr>\n",
       "    <tr>\n",
       "      <th>208</th>\n",
       "      <td>13.0</td>\n",
       "      <td>8</td>\n",
       "      <td>318.0</td>\n",
       "      <td>150.0</td>\n",
       "      <td>3940</td>\n",
       "      <td>13.2</td>\n",
       "      <td>76</td>\n",
       "      <td>usa</td>\n",
       "      <td>plymouth volare premier v8</td>\n",
       "    </tr>\n",
       "    <tr>\n",
       "      <th>93</th>\n",
       "      <td>14.0</td>\n",
       "      <td>8</td>\n",
       "      <td>318.0</td>\n",
       "      <td>150.0</td>\n",
       "      <td>4237</td>\n",
       "      <td>14.5</td>\n",
       "      <td>73</td>\n",
       "      <td>usa</td>\n",
       "      <td>plymouth fury gran sedan</td>\n",
       "    </tr>\n",
       "    <tr>\n",
       "      <th>...</th>\n",
       "      <td>...</td>\n",
       "      <td>...</td>\n",
       "      <td>...</td>\n",
       "      <td>...</td>\n",
       "      <td>...</td>\n",
       "      <td>...</td>\n",
       "      <td>...</td>\n",
       "      <td>...</td>\n",
       "      <td>...</td>\n",
       "    </tr>\n",
       "    <tr>\n",
       "      <th>391</th>\n",
       "      <td>36.0</td>\n",
       "      <td>4</td>\n",
       "      <td>135.0</td>\n",
       "      <td>84.0</td>\n",
       "      <td>2370</td>\n",
       "      <td>13.0</td>\n",
       "      <td>82</td>\n",
       "      <td>usa</td>\n",
       "      <td>dodge charger 2.2</td>\n",
       "    </tr>\n",
       "    <tr>\n",
       "      <th>134</th>\n",
       "      <td>16.0</td>\n",
       "      <td>6</td>\n",
       "      <td>258.0</td>\n",
       "      <td>110.0</td>\n",
       "      <td>3632</td>\n",
       "      <td>18.0</td>\n",
       "      <td>74</td>\n",
       "      <td>usa</td>\n",
       "      <td>amc matador</td>\n",
       "    </tr>\n",
       "    <tr>\n",
       "      <th>306</th>\n",
       "      <td>28.8</td>\n",
       "      <td>6</td>\n",
       "      <td>173.0</td>\n",
       "      <td>115.0</td>\n",
       "      <td>2595</td>\n",
       "      <td>11.3</td>\n",
       "      <td>79</td>\n",
       "      <td>usa</td>\n",
       "      <td>chevrolet citation</td>\n",
       "    </tr>\n",
       "    <tr>\n",
       "      <th>381</th>\n",
       "      <td>36.0</td>\n",
       "      <td>4</td>\n",
       "      <td>107.0</td>\n",
       "      <td>75.0</td>\n",
       "      <td>2205</td>\n",
       "      <td>14.5</td>\n",
       "      <td>82</td>\n",
       "      <td>japan</td>\n",
       "      <td>honda accord</td>\n",
       "    </tr>\n",
       "    <tr>\n",
       "      <th>319</th>\n",
       "      <td>31.3</td>\n",
       "      <td>4</td>\n",
       "      <td>120.0</td>\n",
       "      <td>75.0</td>\n",
       "      <td>2542</td>\n",
       "      <td>17.5</td>\n",
       "      <td>80</td>\n",
       "      <td>japan</td>\n",
       "      <td>mazda 626</td>\n",
       "    </tr>\n",
       "  </tbody>\n",
       "</table>\n",
       "<p>358 rows × 9 columns</p>\n",
       "</div>"
      ],
      "text/plain": [
       "      mpg  cylinders  displacement  horsepower  weight  acceleration  \\\n",
       "198  33.0          4          91.0        53.0    1795          17.4   \n",
       "396  28.0          4         120.0        79.0    2625          18.6   \n",
       "33   19.0          6         232.0       100.0    2634          13.0   \n",
       "208  13.0          8         318.0       150.0    3940          13.2   \n",
       "93   14.0          8         318.0       150.0    4237          14.5   \n",
       "..    ...        ...           ...         ...     ...           ...   \n",
       "391  36.0          4         135.0        84.0    2370          13.0   \n",
       "134  16.0          6         258.0       110.0    3632          18.0   \n",
       "306  28.8          6         173.0       115.0    2595          11.3   \n",
       "381  36.0          4         107.0        75.0    2205          14.5   \n",
       "319  31.3          4         120.0        75.0    2542          17.5   \n",
       "\n",
       "     model_year origin                        name  \n",
       "198          76  japan                 honda civic  \n",
       "396          82    usa                 ford ranger  \n",
       "33           71    usa                 amc gremlin  \n",
       "208          76    usa  plymouth volare premier v8  \n",
       "93           73    usa    plymouth fury gran sedan  \n",
       "..          ...    ...                         ...  \n",
       "391          82    usa           dodge charger 2.2  \n",
       "134          74    usa                 amc matador  \n",
       "306          79    usa          chevrolet citation  \n",
       "381          82  japan                honda accord  \n",
       "319          80  japan                   mazda 626  \n",
       "\n",
       "[358 rows x 9 columns]"
      ]
     },
     "execution_count": 8,
     "metadata": {},
     "output_type": "execute_result"
    }
   ],
   "source": [
    "tr"
   ]
  },
  {
   "cell_type": "code",
   "execution_count": 9,
   "metadata": {},
   "outputs": [
    {
     "data": {
      "text/html": [
       "<div>\n",
       "<style scoped>\n",
       "    .dataframe tbody tr th:only-of-type {\n",
       "        vertical-align: middle;\n",
       "    }\n",
       "\n",
       "    .dataframe tbody tr th {\n",
       "        vertical-align: top;\n",
       "    }\n",
       "\n",
       "    .dataframe thead th {\n",
       "        text-align: right;\n",
       "    }\n",
       "</style>\n",
       "<table border=\"1\" class=\"dataframe\">\n",
       "  <thead>\n",
       "    <tr style=\"text-align: right;\">\n",
       "      <th></th>\n",
       "      <th>mpg</th>\n",
       "      <th>cylinders</th>\n",
       "      <th>displacement</th>\n",
       "      <th>horsepower</th>\n",
       "      <th>weight</th>\n",
       "      <th>acceleration</th>\n",
       "      <th>model_year</th>\n",
       "      <th>origin</th>\n",
       "      <th>name</th>\n",
       "    </tr>\n",
       "  </thead>\n",
       "  <tbody>\n",
       "    <tr>\n",
       "      <th>243</th>\n",
       "      <td>21.5</td>\n",
       "      <td>3</td>\n",
       "      <td>80.0</td>\n",
       "      <td>110.0</td>\n",
       "      <td>2720</td>\n",
       "      <td>13.5</td>\n",
       "      <td>77</td>\n",
       "      <td>japan</td>\n",
       "      <td>mazda rx-4</td>\n",
       "    </tr>\n",
       "    <tr>\n",
       "      <th>54</th>\n",
       "      <td>35.0</td>\n",
       "      <td>4</td>\n",
       "      <td>72.0</td>\n",
       "      <td>69.0</td>\n",
       "      <td>1613</td>\n",
       "      <td>18.0</td>\n",
       "      <td>71</td>\n",
       "      <td>japan</td>\n",
       "      <td>datsun 1200</td>\n",
       "    </tr>\n",
       "    <tr>\n",
       "      <th>50</th>\n",
       "      <td>28.0</td>\n",
       "      <td>4</td>\n",
       "      <td>116.0</td>\n",
       "      <td>90.0</td>\n",
       "      <td>2123</td>\n",
       "      <td>14.0</td>\n",
       "      <td>71</td>\n",
       "      <td>europe</td>\n",
       "      <td>opel 1900</td>\n",
       "    </tr>\n",
       "    <tr>\n",
       "      <th>174</th>\n",
       "      <td>18.0</td>\n",
       "      <td>6</td>\n",
       "      <td>171.0</td>\n",
       "      <td>97.0</td>\n",
       "      <td>2984</td>\n",
       "      <td>14.5</td>\n",
       "      <td>75</td>\n",
       "      <td>usa</td>\n",
       "      <td>ford pinto</td>\n",
       "    </tr>\n",
       "    <tr>\n",
       "      <th>189</th>\n",
       "      <td>15.5</td>\n",
       "      <td>8</td>\n",
       "      <td>304.0</td>\n",
       "      <td>120.0</td>\n",
       "      <td>3962</td>\n",
       "      <td>13.9</td>\n",
       "      <td>76</td>\n",
       "      <td>usa</td>\n",
       "      <td>amc matador</td>\n",
       "    </tr>\n",
       "    <tr>\n",
       "      <th>395</th>\n",
       "      <td>32.0</td>\n",
       "      <td>4</td>\n",
       "      <td>135.0</td>\n",
       "      <td>84.0</td>\n",
       "      <td>2295</td>\n",
       "      <td>11.6</td>\n",
       "      <td>82</td>\n",
       "      <td>usa</td>\n",
       "      <td>dodge rampage</td>\n",
       "    </tr>\n",
       "    <tr>\n",
       "      <th>187</th>\n",
       "      <td>17.5</td>\n",
       "      <td>8</td>\n",
       "      <td>305.0</td>\n",
       "      <td>140.0</td>\n",
       "      <td>4215</td>\n",
       "      <td>13.0</td>\n",
       "      <td>76</td>\n",
       "      <td>usa</td>\n",
       "      <td>chevrolet chevelle malibu classic</td>\n",
       "    </tr>\n",
       "    <tr>\n",
       "      <th>169</th>\n",
       "      <td>20.0</td>\n",
       "      <td>6</td>\n",
       "      <td>232.0</td>\n",
       "      <td>100.0</td>\n",
       "      <td>2914</td>\n",
       "      <td>16.0</td>\n",
       "      <td>75</td>\n",
       "      <td>usa</td>\n",
       "      <td>amc gremlin</td>\n",
       "    </tr>\n",
       "    <tr>\n",
       "      <th>58</th>\n",
       "      <td>25.0</td>\n",
       "      <td>4</td>\n",
       "      <td>97.5</td>\n",
       "      <td>80.0</td>\n",
       "      <td>2126</td>\n",
       "      <td>17.0</td>\n",
       "      <td>72</td>\n",
       "      <td>usa</td>\n",
       "      <td>dodge colt hardtop</td>\n",
       "    </tr>\n",
       "    <tr>\n",
       "      <th>48</th>\n",
       "      <td>18.0</td>\n",
       "      <td>6</td>\n",
       "      <td>250.0</td>\n",
       "      <td>88.0</td>\n",
       "      <td>3139</td>\n",
       "      <td>14.5</td>\n",
       "      <td>71</td>\n",
       "      <td>usa</td>\n",
       "      <td>ford mustang</td>\n",
       "    </tr>\n",
       "    <tr>\n",
       "      <th>344</th>\n",
       "      <td>39.0</td>\n",
       "      <td>4</td>\n",
       "      <td>86.0</td>\n",
       "      <td>64.0</td>\n",
       "      <td>1875</td>\n",
       "      <td>16.4</td>\n",
       "      <td>81</td>\n",
       "      <td>usa</td>\n",
       "      <td>plymouth champ</td>\n",
       "    </tr>\n",
       "    <tr>\n",
       "      <th>235</th>\n",
       "      <td>26.0</td>\n",
       "      <td>4</td>\n",
       "      <td>97.0</td>\n",
       "      <td>75.0</td>\n",
       "      <td>2265</td>\n",
       "      <td>18.2</td>\n",
       "      <td>77</td>\n",
       "      <td>japan</td>\n",
       "      <td>toyota corolla liftback</td>\n",
       "    </tr>\n",
       "    <tr>\n",
       "      <th>252</th>\n",
       "      <td>19.2</td>\n",
       "      <td>6</td>\n",
       "      <td>231.0</td>\n",
       "      <td>105.0</td>\n",
       "      <td>3535</td>\n",
       "      <td>19.2</td>\n",
       "      <td>78</td>\n",
       "      <td>usa</td>\n",
       "      <td>pontiac phoenix lj</td>\n",
       "    </tr>\n",
       "    <tr>\n",
       "      <th>21</th>\n",
       "      <td>24.0</td>\n",
       "      <td>4</td>\n",
       "      <td>107.0</td>\n",
       "      <td>90.0</td>\n",
       "      <td>2430</td>\n",
       "      <td>14.5</td>\n",
       "      <td>70</td>\n",
       "      <td>europe</td>\n",
       "      <td>audi 100 ls</td>\n",
       "    </tr>\n",
       "    <tr>\n",
       "      <th>313</th>\n",
       "      <td>28.0</td>\n",
       "      <td>4</td>\n",
       "      <td>151.0</td>\n",
       "      <td>90.0</td>\n",
       "      <td>2678</td>\n",
       "      <td>16.5</td>\n",
       "      <td>80</td>\n",
       "      <td>usa</td>\n",
       "      <td>chevrolet citation</td>\n",
       "    </tr>\n",
       "    <tr>\n",
       "      <th>160</th>\n",
       "      <td>17.0</td>\n",
       "      <td>6</td>\n",
       "      <td>231.0</td>\n",
       "      <td>110.0</td>\n",
       "      <td>3907</td>\n",
       "      <td>21.0</td>\n",
       "      <td>75</td>\n",
       "      <td>usa</td>\n",
       "      <td>buick century</td>\n",
       "    </tr>\n",
       "    <tr>\n",
       "      <th>276</th>\n",
       "      <td>21.6</td>\n",
       "      <td>4</td>\n",
       "      <td>121.0</td>\n",
       "      <td>115.0</td>\n",
       "      <td>2795</td>\n",
       "      <td>15.7</td>\n",
       "      <td>78</td>\n",
       "      <td>europe</td>\n",
       "      <td>saab 99gle</td>\n",
       "    </tr>\n",
       "    <tr>\n",
       "      <th>191</th>\n",
       "      <td>22.0</td>\n",
       "      <td>6</td>\n",
       "      <td>225.0</td>\n",
       "      <td>100.0</td>\n",
       "      <td>3233</td>\n",
       "      <td>15.4</td>\n",
       "      <td>76</td>\n",
       "      <td>usa</td>\n",
       "      <td>plymouth valiant</td>\n",
       "    </tr>\n",
       "    <tr>\n",
       "      <th>293</th>\n",
       "      <td>31.9</td>\n",
       "      <td>4</td>\n",
       "      <td>89.0</td>\n",
       "      <td>71.0</td>\n",
       "      <td>1925</td>\n",
       "      <td>14.0</td>\n",
       "      <td>79</td>\n",
       "      <td>europe</td>\n",
       "      <td>vw rabbit custom</td>\n",
       "    </tr>\n",
       "    <tr>\n",
       "      <th>343</th>\n",
       "      <td>39.1</td>\n",
       "      <td>4</td>\n",
       "      <td>79.0</td>\n",
       "      <td>58.0</td>\n",
       "      <td>1755</td>\n",
       "      <td>16.9</td>\n",
       "      <td>81</td>\n",
       "      <td>japan</td>\n",
       "      <td>toyota starlet</td>\n",
       "    </tr>\n",
       "    <tr>\n",
       "      <th>257</th>\n",
       "      <td>19.4</td>\n",
       "      <td>6</td>\n",
       "      <td>232.0</td>\n",
       "      <td>90.0</td>\n",
       "      <td>3210</td>\n",
       "      <td>17.2</td>\n",
       "      <td>78</td>\n",
       "      <td>usa</td>\n",
       "      <td>amc concord</td>\n",
       "    </tr>\n",
       "    <tr>\n",
       "      <th>308</th>\n",
       "      <td>33.5</td>\n",
       "      <td>4</td>\n",
       "      <td>151.0</td>\n",
       "      <td>90.0</td>\n",
       "      <td>2556</td>\n",
       "      <td>13.2</td>\n",
       "      <td>79</td>\n",
       "      <td>usa</td>\n",
       "      <td>pontiac phoenix</td>\n",
       "    </tr>\n",
       "    <tr>\n",
       "      <th>149</th>\n",
       "      <td>24.0</td>\n",
       "      <td>4</td>\n",
       "      <td>120.0</td>\n",
       "      <td>97.0</td>\n",
       "      <td>2489</td>\n",
       "      <td>15.0</td>\n",
       "      <td>74</td>\n",
       "      <td>japan</td>\n",
       "      <td>honda civic</td>\n",
       "    </tr>\n",
       "    <tr>\n",
       "      <th>130</th>\n",
       "      <td>26.0</td>\n",
       "      <td>4</td>\n",
       "      <td>122.0</td>\n",
       "      <td>80.0</td>\n",
       "      <td>2451</td>\n",
       "      <td>16.5</td>\n",
       "      <td>74</td>\n",
       "      <td>usa</td>\n",
       "      <td>ford pinto</td>\n",
       "    </tr>\n",
       "    <tr>\n",
       "      <th>151</th>\n",
       "      <td>31.0</td>\n",
       "      <td>4</td>\n",
       "      <td>79.0</td>\n",
       "      <td>67.0</td>\n",
       "      <td>2000</td>\n",
       "      <td>16.0</td>\n",
       "      <td>74</td>\n",
       "      <td>europe</td>\n",
       "      <td>fiat x1.9</td>\n",
       "    </tr>\n",
       "    <tr>\n",
       "      <th>359</th>\n",
       "      <td>28.1</td>\n",
       "      <td>4</td>\n",
       "      <td>141.0</td>\n",
       "      <td>80.0</td>\n",
       "      <td>3230</td>\n",
       "      <td>20.4</td>\n",
       "      <td>81</td>\n",
       "      <td>europe</td>\n",
       "      <td>peugeot 505s turbo diesel</td>\n",
       "    </tr>\n",
       "    <tr>\n",
       "      <th>99</th>\n",
       "      <td>18.0</td>\n",
       "      <td>6</td>\n",
       "      <td>232.0</td>\n",
       "      <td>100.0</td>\n",
       "      <td>2945</td>\n",
       "      <td>16.0</td>\n",
       "      <td>73</td>\n",
       "      <td>usa</td>\n",
       "      <td>amc hornet</td>\n",
       "    </tr>\n",
       "    <tr>\n",
       "      <th>372</th>\n",
       "      <td>27.0</td>\n",
       "      <td>4</td>\n",
       "      <td>151.0</td>\n",
       "      <td>90.0</td>\n",
       "      <td>2735</td>\n",
       "      <td>18.0</td>\n",
       "      <td>82</td>\n",
       "      <td>usa</td>\n",
       "      <td>pontiac phoenix</td>\n",
       "    </tr>\n",
       "    <tr>\n",
       "      <th>87</th>\n",
       "      <td>13.0</td>\n",
       "      <td>8</td>\n",
       "      <td>350.0</td>\n",
       "      <td>145.0</td>\n",
       "      <td>3988</td>\n",
       "      <td>13.0</td>\n",
       "      <td>73</td>\n",
       "      <td>usa</td>\n",
       "      <td>chevrolet malibu</td>\n",
       "    </tr>\n",
       "    <tr>\n",
       "      <th>330</th>\n",
       "      <td>40.9</td>\n",
       "      <td>4</td>\n",
       "      <td>85.0</td>\n",
       "      <td>NaN</td>\n",
       "      <td>1835</td>\n",
       "      <td>17.3</td>\n",
       "      <td>80</td>\n",
       "      <td>europe</td>\n",
       "      <td>renault lecar deluxe</td>\n",
       "    </tr>\n",
       "    <tr>\n",
       "      <th>214</th>\n",
       "      <td>13.0</td>\n",
       "      <td>8</td>\n",
       "      <td>302.0</td>\n",
       "      <td>130.0</td>\n",
       "      <td>3870</td>\n",
       "      <td>15.0</td>\n",
       "      <td>76</td>\n",
       "      <td>usa</td>\n",
       "      <td>ford f108</td>\n",
       "    </tr>\n",
       "    <tr>\n",
       "      <th>121</th>\n",
       "      <td>15.0</td>\n",
       "      <td>8</td>\n",
       "      <td>318.0</td>\n",
       "      <td>150.0</td>\n",
       "      <td>3399</td>\n",
       "      <td>11.0</td>\n",
       "      <td>73</td>\n",
       "      <td>usa</td>\n",
       "      <td>dodge dart custom</td>\n",
       "    </tr>\n",
       "    <tr>\n",
       "      <th>397</th>\n",
       "      <td>31.0</td>\n",
       "      <td>4</td>\n",
       "      <td>119.0</td>\n",
       "      <td>82.0</td>\n",
       "      <td>2720</td>\n",
       "      <td>19.4</td>\n",
       "      <td>82</td>\n",
       "      <td>usa</td>\n",
       "      <td>chevy s-10</td>\n",
       "    </tr>\n",
       "    <tr>\n",
       "      <th>20</th>\n",
       "      <td>25.0</td>\n",
       "      <td>4</td>\n",
       "      <td>110.0</td>\n",
       "      <td>87.0</td>\n",
       "      <td>2672</td>\n",
       "      <td>17.5</td>\n",
       "      <td>70</td>\n",
       "      <td>europe</td>\n",
       "      <td>peugeot 504</td>\n",
       "    </tr>\n",
       "    <tr>\n",
       "      <th>188</th>\n",
       "      <td>16.0</td>\n",
       "      <td>8</td>\n",
       "      <td>318.0</td>\n",
       "      <td>150.0</td>\n",
       "      <td>4190</td>\n",
       "      <td>13.0</td>\n",
       "      <td>76</td>\n",
       "      <td>usa</td>\n",
       "      <td>dodge coronet brougham</td>\n",
       "    </tr>\n",
       "    <tr>\n",
       "      <th>71</th>\n",
       "      <td>19.0</td>\n",
       "      <td>3</td>\n",
       "      <td>70.0</td>\n",
       "      <td>97.0</td>\n",
       "      <td>2330</td>\n",
       "      <td>13.5</td>\n",
       "      <td>72</td>\n",
       "      <td>japan</td>\n",
       "      <td>mazda rx2 coupe</td>\n",
       "    </tr>\n",
       "    <tr>\n",
       "      <th>106</th>\n",
       "      <td>12.0</td>\n",
       "      <td>8</td>\n",
       "      <td>350.0</td>\n",
       "      <td>180.0</td>\n",
       "      <td>4499</td>\n",
       "      <td>12.5</td>\n",
       "      <td>73</td>\n",
       "      <td>usa</td>\n",
       "      <td>oldsmobile vista cruiser</td>\n",
       "    </tr>\n",
       "    <tr>\n",
       "      <th>270</th>\n",
       "      <td>21.1</td>\n",
       "      <td>4</td>\n",
       "      <td>134.0</td>\n",
       "      <td>95.0</td>\n",
       "      <td>2515</td>\n",
       "      <td>14.8</td>\n",
       "      <td>78</td>\n",
       "      <td>japan</td>\n",
       "      <td>toyota celica gt liftback</td>\n",
       "    </tr>\n",
       "    <tr>\n",
       "      <th>348</th>\n",
       "      <td>37.7</td>\n",
       "      <td>4</td>\n",
       "      <td>89.0</td>\n",
       "      <td>62.0</td>\n",
       "      <td>2050</td>\n",
       "      <td>17.3</td>\n",
       "      <td>81</td>\n",
       "      <td>japan</td>\n",
       "      <td>toyota tercel</td>\n",
       "    </tr>\n",
       "    <tr>\n",
       "      <th>102</th>\n",
       "      <td>26.0</td>\n",
       "      <td>4</td>\n",
       "      <td>97.0</td>\n",
       "      <td>46.0</td>\n",
       "      <td>1950</td>\n",
       "      <td>21.0</td>\n",
       "      <td>73</td>\n",
       "      <td>europe</td>\n",
       "      <td>volkswagen super beetle</td>\n",
       "    </tr>\n",
       "  </tbody>\n",
       "</table>\n",
       "</div>"
      ],
      "text/plain": [
       "      mpg  cylinders  displacement  horsepower  weight  acceleration  \\\n",
       "243  21.5          3          80.0       110.0    2720          13.5   \n",
       "54   35.0          4          72.0        69.0    1613          18.0   \n",
       "50   28.0          4         116.0        90.0    2123          14.0   \n",
       "174  18.0          6         171.0        97.0    2984          14.5   \n",
       "189  15.5          8         304.0       120.0    3962          13.9   \n",
       "395  32.0          4         135.0        84.0    2295          11.6   \n",
       "187  17.5          8         305.0       140.0    4215          13.0   \n",
       "169  20.0          6         232.0       100.0    2914          16.0   \n",
       "58   25.0          4          97.5        80.0    2126          17.0   \n",
       "48   18.0          6         250.0        88.0    3139          14.5   \n",
       "344  39.0          4          86.0        64.0    1875          16.4   \n",
       "235  26.0          4          97.0        75.0    2265          18.2   \n",
       "252  19.2          6         231.0       105.0    3535          19.2   \n",
       "21   24.0          4         107.0        90.0    2430          14.5   \n",
       "313  28.0          4         151.0        90.0    2678          16.5   \n",
       "160  17.0          6         231.0       110.0    3907          21.0   \n",
       "276  21.6          4         121.0       115.0    2795          15.7   \n",
       "191  22.0          6         225.0       100.0    3233          15.4   \n",
       "293  31.9          4          89.0        71.0    1925          14.0   \n",
       "343  39.1          4          79.0        58.0    1755          16.9   \n",
       "257  19.4          6         232.0        90.0    3210          17.2   \n",
       "308  33.5          4         151.0        90.0    2556          13.2   \n",
       "149  24.0          4         120.0        97.0    2489          15.0   \n",
       "130  26.0          4         122.0        80.0    2451          16.5   \n",
       "151  31.0          4          79.0        67.0    2000          16.0   \n",
       "359  28.1          4         141.0        80.0    3230          20.4   \n",
       "99   18.0          6         232.0       100.0    2945          16.0   \n",
       "372  27.0          4         151.0        90.0    2735          18.0   \n",
       "87   13.0          8         350.0       145.0    3988          13.0   \n",
       "330  40.9          4          85.0         NaN    1835          17.3   \n",
       "214  13.0          8         302.0       130.0    3870          15.0   \n",
       "121  15.0          8         318.0       150.0    3399          11.0   \n",
       "397  31.0          4         119.0        82.0    2720          19.4   \n",
       "20   25.0          4         110.0        87.0    2672          17.5   \n",
       "188  16.0          8         318.0       150.0    4190          13.0   \n",
       "71   19.0          3          70.0        97.0    2330          13.5   \n",
       "106  12.0          8         350.0       180.0    4499          12.5   \n",
       "270  21.1          4         134.0        95.0    2515          14.8   \n",
       "348  37.7          4          89.0        62.0    2050          17.3   \n",
       "102  26.0          4          97.0        46.0    1950          21.0   \n",
       "\n",
       "     model_year  origin                               name  \n",
       "243          77   japan                         mazda rx-4  \n",
       "54           71   japan                        datsun 1200  \n",
       "50           71  europe                          opel 1900  \n",
       "174          75     usa                         ford pinto  \n",
       "189          76     usa                        amc matador  \n",
       "395          82     usa                      dodge rampage  \n",
       "187          76     usa  chevrolet chevelle malibu classic  \n",
       "169          75     usa                        amc gremlin  \n",
       "58           72     usa                 dodge colt hardtop  \n",
       "48           71     usa                       ford mustang  \n",
       "344          81     usa                     plymouth champ  \n",
       "235          77   japan            toyota corolla liftback  \n",
       "252          78     usa                 pontiac phoenix lj  \n",
       "21           70  europe                        audi 100 ls  \n",
       "313          80     usa                 chevrolet citation  \n",
       "160          75     usa                      buick century  \n",
       "276          78  europe                         saab 99gle  \n",
       "191          76     usa                   plymouth valiant  \n",
       "293          79  europe                   vw rabbit custom  \n",
       "343          81   japan                     toyota starlet  \n",
       "257          78     usa                        amc concord  \n",
       "308          79     usa                    pontiac phoenix  \n",
       "149          74   japan                        honda civic  \n",
       "130          74     usa                         ford pinto  \n",
       "151          74  europe                          fiat x1.9  \n",
       "359          81  europe          peugeot 505s turbo diesel  \n",
       "99           73     usa                         amc hornet  \n",
       "372          82     usa                    pontiac phoenix  \n",
       "87           73     usa                   chevrolet malibu  \n",
       "330          80  europe               renault lecar deluxe  \n",
       "214          76     usa                          ford f108  \n",
       "121          73     usa                  dodge dart custom  \n",
       "397          82     usa                         chevy s-10  \n",
       "20           70  europe                        peugeot 504  \n",
       "188          76     usa             dodge coronet brougham  \n",
       "71           72   japan                    mazda rx2 coupe  \n",
       "106          73     usa           oldsmobile vista cruiser  \n",
       "270          78   japan          toyota celica gt liftback  \n",
       "348          81   japan                      toyota tercel  \n",
       "102          73  europe            volkswagen super beetle  "
      ]
     },
     "execution_count": 9,
     "metadata": {},
     "output_type": "execute_result"
    }
   ],
   "source": [
    "te"
   ]
  },
  {
   "cell_type": "markdown",
   "metadata": {},
   "source": [
    "Checking that they add up."
   ]
  },
  {
   "cell_type": "code",
   "execution_count": 10,
   "metadata": {},
   "outputs": [
    {
     "data": {
      "text/plain": [
       "True"
      ]
     },
     "execution_count": 10,
     "metadata": {},
     "output_type": "execute_result"
    }
   ],
   "source": [
    "len(tr) + len(te) == len(data)"
   ]
  },
  {
   "cell_type": "markdown",
   "metadata": {},
   "source": [
    "### Using SKLearn\n",
    "\n",
    "We can use the `train_test_split` function from `sklearn.model_selection` to do this easily."
   ]
  },
  {
   "cell_type": "code",
   "execution_count": 11,
   "metadata": {},
   "outputs": [],
   "source": [
    "from sklearn.model_selection import train_test_split"
   ]
  },
  {
   "cell_type": "code",
   "execution_count": 12,
   "metadata": {},
   "outputs": [],
   "source": [
    "tr, te = train_test_split(data, test_size=0.1, random_state=83)"
   ]
  },
  {
   "cell_type": "code",
   "execution_count": 13,
   "metadata": {},
   "outputs": [
    {
     "data": {
      "text/html": [
       "<div>\n",
       "<style scoped>\n",
       "    .dataframe tbody tr th:only-of-type {\n",
       "        vertical-align: middle;\n",
       "    }\n",
       "\n",
       "    .dataframe tbody tr th {\n",
       "        vertical-align: top;\n",
       "    }\n",
       "\n",
       "    .dataframe thead th {\n",
       "        text-align: right;\n",
       "    }\n",
       "</style>\n",
       "<table border=\"1\" class=\"dataframe\">\n",
       "  <thead>\n",
       "    <tr style=\"text-align: right;\">\n",
       "      <th></th>\n",
       "      <th>mpg</th>\n",
       "      <th>cylinders</th>\n",
       "      <th>displacement</th>\n",
       "      <th>horsepower</th>\n",
       "      <th>weight</th>\n",
       "      <th>acceleration</th>\n",
       "      <th>model_year</th>\n",
       "      <th>origin</th>\n",
       "      <th>name</th>\n",
       "    </tr>\n",
       "  </thead>\n",
       "  <tbody>\n",
       "    <tr>\n",
       "      <th>143</th>\n",
       "      <td>26.0</td>\n",
       "      <td>4</td>\n",
       "      <td>97.0</td>\n",
       "      <td>78.0</td>\n",
       "      <td>2300</td>\n",
       "      <td>14.5</td>\n",
       "      <td>74</td>\n",
       "      <td>europe</td>\n",
       "      <td>opel manta</td>\n",
       "    </tr>\n",
       "    <tr>\n",
       "      <th>391</th>\n",
       "      <td>36.0</td>\n",
       "      <td>4</td>\n",
       "      <td>135.0</td>\n",
       "      <td>84.0</td>\n",
       "      <td>2370</td>\n",
       "      <td>13.0</td>\n",
       "      <td>82</td>\n",
       "      <td>usa</td>\n",
       "      <td>dodge charger 2.2</td>\n",
       "    </tr>\n",
       "    <tr>\n",
       "      <th>182</th>\n",
       "      <td>28.0</td>\n",
       "      <td>4</td>\n",
       "      <td>107.0</td>\n",
       "      <td>86.0</td>\n",
       "      <td>2464</td>\n",
       "      <td>15.5</td>\n",
       "      <td>76</td>\n",
       "      <td>europe</td>\n",
       "      <td>fiat 131</td>\n",
       "    </tr>\n",
       "    <tr>\n",
       "      <th>63</th>\n",
       "      <td>14.0</td>\n",
       "      <td>8</td>\n",
       "      <td>400.0</td>\n",
       "      <td>175.0</td>\n",
       "      <td>4385</td>\n",
       "      <td>12.0</td>\n",
       "      <td>72</td>\n",
       "      <td>usa</td>\n",
       "      <td>pontiac catalina</td>\n",
       "    </tr>\n",
       "    <tr>\n",
       "      <th>52</th>\n",
       "      <td>30.0</td>\n",
       "      <td>4</td>\n",
       "      <td>88.0</td>\n",
       "      <td>76.0</td>\n",
       "      <td>2065</td>\n",
       "      <td>14.5</td>\n",
       "      <td>71</td>\n",
       "      <td>europe</td>\n",
       "      <td>fiat 124b</td>\n",
       "    </tr>\n",
       "    <tr>\n",
       "      <th>...</th>\n",
       "      <td>...</td>\n",
       "      <td>...</td>\n",
       "      <td>...</td>\n",
       "      <td>...</td>\n",
       "      <td>...</td>\n",
       "      <td>...</td>\n",
       "      <td>...</td>\n",
       "      <td>...</td>\n",
       "      <td>...</td>\n",
       "    </tr>\n",
       "    <tr>\n",
       "      <th>394</th>\n",
       "      <td>44.0</td>\n",
       "      <td>4</td>\n",
       "      <td>97.0</td>\n",
       "      <td>52.0</td>\n",
       "      <td>2130</td>\n",
       "      <td>24.6</td>\n",
       "      <td>82</td>\n",
       "      <td>europe</td>\n",
       "      <td>vw pickup</td>\n",
       "    </tr>\n",
       "    <tr>\n",
       "      <th>256</th>\n",
       "      <td>20.5</td>\n",
       "      <td>6</td>\n",
       "      <td>225.0</td>\n",
       "      <td>100.0</td>\n",
       "      <td>3430</td>\n",
       "      <td>17.2</td>\n",
       "      <td>78</td>\n",
       "      <td>usa</td>\n",
       "      <td>plymouth volare</td>\n",
       "    </tr>\n",
       "    <tr>\n",
       "      <th>295</th>\n",
       "      <td>35.7</td>\n",
       "      <td>4</td>\n",
       "      <td>98.0</td>\n",
       "      <td>80.0</td>\n",
       "      <td>1915</td>\n",
       "      <td>14.4</td>\n",
       "      <td>79</td>\n",
       "      <td>usa</td>\n",
       "      <td>dodge colt hatchback custom</td>\n",
       "    </tr>\n",
       "    <tr>\n",
       "      <th>23</th>\n",
       "      <td>26.0</td>\n",
       "      <td>4</td>\n",
       "      <td>121.0</td>\n",
       "      <td>113.0</td>\n",
       "      <td>2234</td>\n",
       "      <td>12.5</td>\n",
       "      <td>70</td>\n",
       "      <td>europe</td>\n",
       "      <td>bmw 2002</td>\n",
       "    </tr>\n",
       "    <tr>\n",
       "      <th>82</th>\n",
       "      <td>23.0</td>\n",
       "      <td>4</td>\n",
       "      <td>120.0</td>\n",
       "      <td>97.0</td>\n",
       "      <td>2506</td>\n",
       "      <td>14.5</td>\n",
       "      <td>72</td>\n",
       "      <td>japan</td>\n",
       "      <td>toyouta corona mark ii (sw)</td>\n",
       "    </tr>\n",
       "  </tbody>\n",
       "</table>\n",
       "<p>358 rows × 9 columns</p>\n",
       "</div>"
      ],
      "text/plain": [
       "      mpg  cylinders  displacement  horsepower  weight  acceleration  \\\n",
       "143  26.0          4          97.0        78.0    2300          14.5   \n",
       "391  36.0          4         135.0        84.0    2370          13.0   \n",
       "182  28.0          4         107.0        86.0    2464          15.5   \n",
       "63   14.0          8         400.0       175.0    4385          12.0   \n",
       "52   30.0          4          88.0        76.0    2065          14.5   \n",
       "..    ...        ...           ...         ...     ...           ...   \n",
       "394  44.0          4          97.0        52.0    2130          24.6   \n",
       "256  20.5          6         225.0       100.0    3430          17.2   \n",
       "295  35.7          4          98.0        80.0    1915          14.4   \n",
       "23   26.0          4         121.0       113.0    2234          12.5   \n",
       "82   23.0          4         120.0        97.0    2506          14.5   \n",
       "\n",
       "     model_year  origin                         name  \n",
       "143          74  europe                   opel manta  \n",
       "391          82     usa            dodge charger 2.2  \n",
       "182          76  europe                     fiat 131  \n",
       "63           72     usa             pontiac catalina  \n",
       "52           71  europe                    fiat 124b  \n",
       "..          ...     ...                          ...  \n",
       "394          82  europe                    vw pickup  \n",
       "256          78     usa              plymouth volare  \n",
       "295          79     usa  dodge colt hatchback custom  \n",
       "23           70  europe                     bmw 2002  \n",
       "82           72   japan  toyouta corona mark ii (sw)  \n",
       "\n",
       "[358 rows x 9 columns]"
      ]
     },
     "execution_count": 13,
     "metadata": {},
     "output_type": "execute_result"
    }
   ],
   "source": [
    "tr"
   ]
  },
  {
   "cell_type": "code",
   "execution_count": 14,
   "metadata": {},
   "outputs": [
    {
     "data": {
      "text/html": [
       "<div>\n",
       "<style scoped>\n",
       "    .dataframe tbody tr th:only-of-type {\n",
       "        vertical-align: middle;\n",
       "    }\n",
       "\n",
       "    .dataframe tbody tr th {\n",
       "        vertical-align: top;\n",
       "    }\n",
       "\n",
       "    .dataframe thead th {\n",
       "        text-align: right;\n",
       "    }\n",
       "</style>\n",
       "<table border=\"1\" class=\"dataframe\">\n",
       "  <thead>\n",
       "    <tr style=\"text-align: right;\">\n",
       "      <th></th>\n",
       "      <th>mpg</th>\n",
       "      <th>cylinders</th>\n",
       "      <th>displacement</th>\n",
       "      <th>horsepower</th>\n",
       "      <th>weight</th>\n",
       "      <th>acceleration</th>\n",
       "      <th>model_year</th>\n",
       "      <th>origin</th>\n",
       "      <th>name</th>\n",
       "    </tr>\n",
       "  </thead>\n",
       "  <tbody>\n",
       "    <tr>\n",
       "      <th>232</th>\n",
       "      <td>16.0</td>\n",
       "      <td>8</td>\n",
       "      <td>351.0</td>\n",
       "      <td>149.0</td>\n",
       "      <td>4335</td>\n",
       "      <td>14.5</td>\n",
       "      <td>77</td>\n",
       "      <td>usa</td>\n",
       "      <td>ford thunderbird</td>\n",
       "    </tr>\n",
       "    <tr>\n",
       "      <th>365</th>\n",
       "      <td>20.2</td>\n",
       "      <td>6</td>\n",
       "      <td>200.0</td>\n",
       "      <td>88.0</td>\n",
       "      <td>3060</td>\n",
       "      <td>17.1</td>\n",
       "      <td>81</td>\n",
       "      <td>usa</td>\n",
       "      <td>ford granada gl</td>\n",
       "    </tr>\n",
       "    <tr>\n",
       "      <th>225</th>\n",
       "      <td>17.5</td>\n",
       "      <td>6</td>\n",
       "      <td>250.0</td>\n",
       "      <td>110.0</td>\n",
       "      <td>3520</td>\n",
       "      <td>16.4</td>\n",
       "      <td>77</td>\n",
       "      <td>usa</td>\n",
       "      <td>chevrolet concours</td>\n",
       "    </tr>\n",
       "    <tr>\n",
       "      <th>277</th>\n",
       "      <td>16.2</td>\n",
       "      <td>6</td>\n",
       "      <td>163.0</td>\n",
       "      <td>133.0</td>\n",
       "      <td>3410</td>\n",
       "      <td>15.8</td>\n",
       "      <td>78</td>\n",
       "      <td>europe</td>\n",
       "      <td>peugeot 604sl</td>\n",
       "    </tr>\n",
       "    <tr>\n",
       "      <th>115</th>\n",
       "      <td>15.0</td>\n",
       "      <td>8</td>\n",
       "      <td>350.0</td>\n",
       "      <td>145.0</td>\n",
       "      <td>4082</td>\n",
       "      <td>13.0</td>\n",
       "      <td>73</td>\n",
       "      <td>usa</td>\n",
       "      <td>chevrolet monte carlo s</td>\n",
       "    </tr>\n",
       "    <tr>\n",
       "      <th>314</th>\n",
       "      <td>26.4</td>\n",
       "      <td>4</td>\n",
       "      <td>140.0</td>\n",
       "      <td>88.0</td>\n",
       "      <td>2870</td>\n",
       "      <td>18.1</td>\n",
       "      <td>80</td>\n",
       "      <td>usa</td>\n",
       "      <td>ford fairmont</td>\n",
       "    </tr>\n",
       "    <tr>\n",
       "      <th>219</th>\n",
       "      <td>25.5</td>\n",
       "      <td>4</td>\n",
       "      <td>122.0</td>\n",
       "      <td>96.0</td>\n",
       "      <td>2300</td>\n",
       "      <td>15.5</td>\n",
       "      <td>77</td>\n",
       "      <td>usa</td>\n",
       "      <td>plymouth arrow gs</td>\n",
       "    </tr>\n",
       "    <tr>\n",
       "      <th>33</th>\n",
       "      <td>19.0</td>\n",
       "      <td>6</td>\n",
       "      <td>232.0</td>\n",
       "      <td>100.0</td>\n",
       "      <td>2634</td>\n",
       "      <td>13.0</td>\n",
       "      <td>71</td>\n",
       "      <td>usa</td>\n",
       "      <td>amc gremlin</td>\n",
       "    </tr>\n",
       "    <tr>\n",
       "      <th>312</th>\n",
       "      <td>37.2</td>\n",
       "      <td>4</td>\n",
       "      <td>86.0</td>\n",
       "      <td>65.0</td>\n",
       "      <td>2019</td>\n",
       "      <td>16.4</td>\n",
       "      <td>80</td>\n",
       "      <td>japan</td>\n",
       "      <td>datsun 310</td>\n",
       "    </tr>\n",
       "    <tr>\n",
       "      <th>306</th>\n",
       "      <td>28.8</td>\n",
       "      <td>6</td>\n",
       "      <td>173.0</td>\n",
       "      <td>115.0</td>\n",
       "      <td>2595</td>\n",
       "      <td>11.3</td>\n",
       "      <td>79</td>\n",
       "      <td>usa</td>\n",
       "      <td>chevrolet citation</td>\n",
       "    </tr>\n",
       "    <tr>\n",
       "      <th>280</th>\n",
       "      <td>21.5</td>\n",
       "      <td>6</td>\n",
       "      <td>231.0</td>\n",
       "      <td>115.0</td>\n",
       "      <td>3245</td>\n",
       "      <td>15.4</td>\n",
       "      <td>79</td>\n",
       "      <td>usa</td>\n",
       "      <td>pontiac lemans v6</td>\n",
       "    </tr>\n",
       "    <tr>\n",
       "      <th>97</th>\n",
       "      <td>18.0</td>\n",
       "      <td>6</td>\n",
       "      <td>225.0</td>\n",
       "      <td>105.0</td>\n",
       "      <td>3121</td>\n",
       "      <td>16.5</td>\n",
       "      <td>73</td>\n",
       "      <td>usa</td>\n",
       "      <td>plymouth valiant</td>\n",
       "    </tr>\n",
       "    <tr>\n",
       "      <th>0</th>\n",
       "      <td>18.0</td>\n",
       "      <td>8</td>\n",
       "      <td>307.0</td>\n",
       "      <td>130.0</td>\n",
       "      <td>3504</td>\n",
       "      <td>12.0</td>\n",
       "      <td>70</td>\n",
       "      <td>usa</td>\n",
       "      <td>chevrolet chevelle malibu</td>\n",
       "    </tr>\n",
       "    <tr>\n",
       "      <th>100</th>\n",
       "      <td>18.0</td>\n",
       "      <td>6</td>\n",
       "      <td>250.0</td>\n",
       "      <td>88.0</td>\n",
       "      <td>3021</td>\n",
       "      <td>16.5</td>\n",
       "      <td>73</td>\n",
       "      <td>usa</td>\n",
       "      <td>ford maverick</td>\n",
       "    </tr>\n",
       "    <tr>\n",
       "      <th>29</th>\n",
       "      <td>27.0</td>\n",
       "      <td>4</td>\n",
       "      <td>97.0</td>\n",
       "      <td>88.0</td>\n",
       "      <td>2130</td>\n",
       "      <td>14.5</td>\n",
       "      <td>71</td>\n",
       "      <td>japan</td>\n",
       "      <td>datsun pl510</td>\n",
       "    </tr>\n",
       "    <tr>\n",
       "      <th>300</th>\n",
       "      <td>23.9</td>\n",
       "      <td>8</td>\n",
       "      <td>260.0</td>\n",
       "      <td>90.0</td>\n",
       "      <td>3420</td>\n",
       "      <td>22.2</td>\n",
       "      <td>79</td>\n",
       "      <td>usa</td>\n",
       "      <td>oldsmobile cutlass salon brougham</td>\n",
       "    </tr>\n",
       "    <tr>\n",
       "      <th>281</th>\n",
       "      <td>19.8</td>\n",
       "      <td>6</td>\n",
       "      <td>200.0</td>\n",
       "      <td>85.0</td>\n",
       "      <td>2990</td>\n",
       "      <td>18.2</td>\n",
       "      <td>79</td>\n",
       "      <td>usa</td>\n",
       "      <td>mercury zephyr 6</td>\n",
       "    </tr>\n",
       "    <tr>\n",
       "      <th>252</th>\n",
       "      <td>19.2</td>\n",
       "      <td>6</td>\n",
       "      <td>231.0</td>\n",
       "      <td>105.0</td>\n",
       "      <td>3535</td>\n",
       "      <td>19.2</td>\n",
       "      <td>78</td>\n",
       "      <td>usa</td>\n",
       "      <td>pontiac phoenix lj</td>\n",
       "    </tr>\n",
       "    <tr>\n",
       "      <th>388</th>\n",
       "      <td>26.0</td>\n",
       "      <td>4</td>\n",
       "      <td>156.0</td>\n",
       "      <td>92.0</td>\n",
       "      <td>2585</td>\n",
       "      <td>14.5</td>\n",
       "      <td>82</td>\n",
       "      <td>usa</td>\n",
       "      <td>chrysler lebaron medallion</td>\n",
       "    </tr>\n",
       "    <tr>\n",
       "      <th>376</th>\n",
       "      <td>37.0</td>\n",
       "      <td>4</td>\n",
       "      <td>91.0</td>\n",
       "      <td>68.0</td>\n",
       "      <td>2025</td>\n",
       "      <td>18.2</td>\n",
       "      <td>82</td>\n",
       "      <td>japan</td>\n",
       "      <td>mazda glc custom l</td>\n",
       "    </tr>\n",
       "    <tr>\n",
       "      <th>278</th>\n",
       "      <td>31.5</td>\n",
       "      <td>4</td>\n",
       "      <td>89.0</td>\n",
       "      <td>71.0</td>\n",
       "      <td>1990</td>\n",
       "      <td>14.9</td>\n",
       "      <td>78</td>\n",
       "      <td>europe</td>\n",
       "      <td>volkswagen scirocco</td>\n",
       "    </tr>\n",
       "    <tr>\n",
       "      <th>101</th>\n",
       "      <td>23.0</td>\n",
       "      <td>6</td>\n",
       "      <td>198.0</td>\n",
       "      <td>95.0</td>\n",
       "      <td>2904</td>\n",
       "      <td>16.0</td>\n",
       "      <td>73</td>\n",
       "      <td>usa</td>\n",
       "      <td>plymouth duster</td>\n",
       "    </tr>\n",
       "    <tr>\n",
       "      <th>76</th>\n",
       "      <td>18.0</td>\n",
       "      <td>4</td>\n",
       "      <td>121.0</td>\n",
       "      <td>112.0</td>\n",
       "      <td>2933</td>\n",
       "      <td>14.5</td>\n",
       "      <td>72</td>\n",
       "      <td>europe</td>\n",
       "      <td>volvo 145e (sw)</td>\n",
       "    </tr>\n",
       "    <tr>\n",
       "      <th>343</th>\n",
       "      <td>39.1</td>\n",
       "      <td>4</td>\n",
       "      <td>79.0</td>\n",
       "      <td>58.0</td>\n",
       "      <td>1755</td>\n",
       "      <td>16.9</td>\n",
       "      <td>81</td>\n",
       "      <td>japan</td>\n",
       "      <td>toyota starlet</td>\n",
       "    </tr>\n",
       "    <tr>\n",
       "      <th>362</th>\n",
       "      <td>24.2</td>\n",
       "      <td>6</td>\n",
       "      <td>146.0</td>\n",
       "      <td>120.0</td>\n",
       "      <td>2930</td>\n",
       "      <td>13.8</td>\n",
       "      <td>81</td>\n",
       "      <td>japan</td>\n",
       "      <td>datsun 810 maxima</td>\n",
       "    </tr>\n",
       "    <tr>\n",
       "      <th>327</th>\n",
       "      <td>36.4</td>\n",
       "      <td>5</td>\n",
       "      <td>121.0</td>\n",
       "      <td>67.0</td>\n",
       "      <td>2950</td>\n",
       "      <td>19.9</td>\n",
       "      <td>80</td>\n",
       "      <td>europe</td>\n",
       "      <td>audi 5000s (diesel)</td>\n",
       "    </tr>\n",
       "    <tr>\n",
       "      <th>170</th>\n",
       "      <td>23.0</td>\n",
       "      <td>4</td>\n",
       "      <td>140.0</td>\n",
       "      <td>78.0</td>\n",
       "      <td>2592</td>\n",
       "      <td>18.5</td>\n",
       "      <td>75</td>\n",
       "      <td>usa</td>\n",
       "      <td>pontiac astro</td>\n",
       "    </tr>\n",
       "    <tr>\n",
       "      <th>50</th>\n",
       "      <td>28.0</td>\n",
       "      <td>4</td>\n",
       "      <td>116.0</td>\n",
       "      <td>90.0</td>\n",
       "      <td>2123</td>\n",
       "      <td>14.0</td>\n",
       "      <td>71</td>\n",
       "      <td>europe</td>\n",
       "      <td>opel 1900</td>\n",
       "    </tr>\n",
       "    <tr>\n",
       "      <th>246</th>\n",
       "      <td>32.8</td>\n",
       "      <td>4</td>\n",
       "      <td>78.0</td>\n",
       "      <td>52.0</td>\n",
       "      <td>1985</td>\n",
       "      <td>19.4</td>\n",
       "      <td>78</td>\n",
       "      <td>japan</td>\n",
       "      <td>mazda glc deluxe</td>\n",
       "    </tr>\n",
       "    <tr>\n",
       "      <th>32</th>\n",
       "      <td>25.0</td>\n",
       "      <td>4</td>\n",
       "      <td>98.0</td>\n",
       "      <td>NaN</td>\n",
       "      <td>2046</td>\n",
       "      <td>19.0</td>\n",
       "      <td>71</td>\n",
       "      <td>usa</td>\n",
       "      <td>ford pinto</td>\n",
       "    </tr>\n",
       "    <tr>\n",
       "      <th>89</th>\n",
       "      <td>15.0</td>\n",
       "      <td>8</td>\n",
       "      <td>318.0</td>\n",
       "      <td>150.0</td>\n",
       "      <td>3777</td>\n",
       "      <td>12.5</td>\n",
       "      <td>73</td>\n",
       "      <td>usa</td>\n",
       "      <td>dodge coronet custom</td>\n",
       "    </tr>\n",
       "    <tr>\n",
       "      <th>230</th>\n",
       "      <td>15.5</td>\n",
       "      <td>8</td>\n",
       "      <td>350.0</td>\n",
       "      <td>170.0</td>\n",
       "      <td>4165</td>\n",
       "      <td>11.4</td>\n",
       "      <td>77</td>\n",
       "      <td>usa</td>\n",
       "      <td>chevrolet monte carlo landau</td>\n",
       "    </tr>\n",
       "    <tr>\n",
       "      <th>313</th>\n",
       "      <td>28.0</td>\n",
       "      <td>4</td>\n",
       "      <td>151.0</td>\n",
       "      <td>90.0</td>\n",
       "      <td>2678</td>\n",
       "      <td>16.5</td>\n",
       "      <td>80</td>\n",
       "      <td>usa</td>\n",
       "      <td>chevrolet citation</td>\n",
       "    </tr>\n",
       "    <tr>\n",
       "      <th>86</th>\n",
       "      <td>14.0</td>\n",
       "      <td>8</td>\n",
       "      <td>304.0</td>\n",
       "      <td>150.0</td>\n",
       "      <td>3672</td>\n",
       "      <td>11.5</td>\n",
       "      <td>73</td>\n",
       "      <td>usa</td>\n",
       "      <td>amc matador</td>\n",
       "    </tr>\n",
       "    <tr>\n",
       "      <th>46</th>\n",
       "      <td>22.0</td>\n",
       "      <td>4</td>\n",
       "      <td>140.0</td>\n",
       "      <td>72.0</td>\n",
       "      <td>2408</td>\n",
       "      <td>19.0</td>\n",
       "      <td>71</td>\n",
       "      <td>usa</td>\n",
       "      <td>chevrolet vega (sw)</td>\n",
       "    </tr>\n",
       "    <tr>\n",
       "      <th>364</th>\n",
       "      <td>26.6</td>\n",
       "      <td>8</td>\n",
       "      <td>350.0</td>\n",
       "      <td>105.0</td>\n",
       "      <td>3725</td>\n",
       "      <td>19.0</td>\n",
       "      <td>81</td>\n",
       "      <td>usa</td>\n",
       "      <td>oldsmobile cutlass ls</td>\n",
       "    </tr>\n",
       "    <tr>\n",
       "      <th>272</th>\n",
       "      <td>23.8</td>\n",
       "      <td>4</td>\n",
       "      <td>151.0</td>\n",
       "      <td>85.0</td>\n",
       "      <td>2855</td>\n",
       "      <td>17.6</td>\n",
       "      <td>78</td>\n",
       "      <td>usa</td>\n",
       "      <td>oldsmobile starfire sx</td>\n",
       "    </tr>\n",
       "    <tr>\n",
       "      <th>171</th>\n",
       "      <td>24.0</td>\n",
       "      <td>4</td>\n",
       "      <td>134.0</td>\n",
       "      <td>96.0</td>\n",
       "      <td>2702</td>\n",
       "      <td>13.5</td>\n",
       "      <td>75</td>\n",
       "      <td>japan</td>\n",
       "      <td>toyota corona</td>\n",
       "    </tr>\n",
       "    <tr>\n",
       "      <th>71</th>\n",
       "      <td>19.0</td>\n",
       "      <td>3</td>\n",
       "      <td>70.0</td>\n",
       "      <td>97.0</td>\n",
       "      <td>2330</td>\n",
       "      <td>13.5</td>\n",
       "      <td>72</td>\n",
       "      <td>japan</td>\n",
       "      <td>mazda rx2 coupe</td>\n",
       "    </tr>\n",
       "    <tr>\n",
       "      <th>231</th>\n",
       "      <td>15.5</td>\n",
       "      <td>8</td>\n",
       "      <td>400.0</td>\n",
       "      <td>190.0</td>\n",
       "      <td>4325</td>\n",
       "      <td>12.2</td>\n",
       "      <td>77</td>\n",
       "      <td>usa</td>\n",
       "      <td>chrysler cordoba</td>\n",
       "    </tr>\n",
       "  </tbody>\n",
       "</table>\n",
       "</div>"
      ],
      "text/plain": [
       "      mpg  cylinders  displacement  horsepower  weight  acceleration  \\\n",
       "232  16.0          8         351.0       149.0    4335          14.5   \n",
       "365  20.2          6         200.0        88.0    3060          17.1   \n",
       "225  17.5          6         250.0       110.0    3520          16.4   \n",
       "277  16.2          6         163.0       133.0    3410          15.8   \n",
       "115  15.0          8         350.0       145.0    4082          13.0   \n",
       "314  26.4          4         140.0        88.0    2870          18.1   \n",
       "219  25.5          4         122.0        96.0    2300          15.5   \n",
       "33   19.0          6         232.0       100.0    2634          13.0   \n",
       "312  37.2          4          86.0        65.0    2019          16.4   \n",
       "306  28.8          6         173.0       115.0    2595          11.3   \n",
       "280  21.5          6         231.0       115.0    3245          15.4   \n",
       "97   18.0          6         225.0       105.0    3121          16.5   \n",
       "0    18.0          8         307.0       130.0    3504          12.0   \n",
       "100  18.0          6         250.0        88.0    3021          16.5   \n",
       "29   27.0          4          97.0        88.0    2130          14.5   \n",
       "300  23.9          8         260.0        90.0    3420          22.2   \n",
       "281  19.8          6         200.0        85.0    2990          18.2   \n",
       "252  19.2          6         231.0       105.0    3535          19.2   \n",
       "388  26.0          4         156.0        92.0    2585          14.5   \n",
       "376  37.0          4          91.0        68.0    2025          18.2   \n",
       "278  31.5          4          89.0        71.0    1990          14.9   \n",
       "101  23.0          6         198.0        95.0    2904          16.0   \n",
       "76   18.0          4         121.0       112.0    2933          14.5   \n",
       "343  39.1          4          79.0        58.0    1755          16.9   \n",
       "362  24.2          6         146.0       120.0    2930          13.8   \n",
       "327  36.4          5         121.0        67.0    2950          19.9   \n",
       "170  23.0          4         140.0        78.0    2592          18.5   \n",
       "50   28.0          4         116.0        90.0    2123          14.0   \n",
       "246  32.8          4          78.0        52.0    1985          19.4   \n",
       "32   25.0          4          98.0         NaN    2046          19.0   \n",
       "89   15.0          8         318.0       150.0    3777          12.5   \n",
       "230  15.5          8         350.0       170.0    4165          11.4   \n",
       "313  28.0          4         151.0        90.0    2678          16.5   \n",
       "86   14.0          8         304.0       150.0    3672          11.5   \n",
       "46   22.0          4         140.0        72.0    2408          19.0   \n",
       "364  26.6          8         350.0       105.0    3725          19.0   \n",
       "272  23.8          4         151.0        85.0    2855          17.6   \n",
       "171  24.0          4         134.0        96.0    2702          13.5   \n",
       "71   19.0          3          70.0        97.0    2330          13.5   \n",
       "231  15.5          8         400.0       190.0    4325          12.2   \n",
       "\n",
       "     model_year  origin                               name  \n",
       "232          77     usa                   ford thunderbird  \n",
       "365          81     usa                    ford granada gl  \n",
       "225          77     usa                 chevrolet concours  \n",
       "277          78  europe                      peugeot 604sl  \n",
       "115          73     usa            chevrolet monte carlo s  \n",
       "314          80     usa                      ford fairmont  \n",
       "219          77     usa                  plymouth arrow gs  \n",
       "33           71     usa                        amc gremlin  \n",
       "312          80   japan                         datsun 310  \n",
       "306          79     usa                 chevrolet citation  \n",
       "280          79     usa                  pontiac lemans v6  \n",
       "97           73     usa                   plymouth valiant  \n",
       "0            70     usa          chevrolet chevelle malibu  \n",
       "100          73     usa                      ford maverick  \n",
       "29           71   japan                       datsun pl510  \n",
       "300          79     usa  oldsmobile cutlass salon brougham  \n",
       "281          79     usa                   mercury zephyr 6  \n",
       "252          78     usa                 pontiac phoenix lj  \n",
       "388          82     usa         chrysler lebaron medallion  \n",
       "376          82   japan                 mazda glc custom l  \n",
       "278          78  europe                volkswagen scirocco  \n",
       "101          73     usa                    plymouth duster  \n",
       "76           72  europe                    volvo 145e (sw)  \n",
       "343          81   japan                     toyota starlet  \n",
       "362          81   japan                  datsun 810 maxima  \n",
       "327          80  europe                audi 5000s (diesel)  \n",
       "170          75     usa                      pontiac astro  \n",
       "50           71  europe                          opel 1900  \n",
       "246          78   japan                   mazda glc deluxe  \n",
       "32           71     usa                         ford pinto  \n",
       "89           73     usa               dodge coronet custom  \n",
       "230          77     usa       chevrolet monte carlo landau  \n",
       "313          80     usa                 chevrolet citation  \n",
       "86           73     usa                        amc matador  \n",
       "46           71     usa                chevrolet vega (sw)  \n",
       "364          81     usa              oldsmobile cutlass ls  \n",
       "272          78     usa             oldsmobile starfire sx  \n",
       "171          75   japan                      toyota corona  \n",
       "71           72   japan                    mazda rx2 coupe  \n",
       "231          77     usa                   chrysler cordoba  "
      ]
     },
     "execution_count": 14,
     "metadata": {},
     "output_type": "execute_result"
    }
   ],
   "source": [
    "te"
   ]
  },
  {
   "cell_type": "markdown",
   "metadata": {},
   "source": [
    "### Quick Visualization\n",
    "\n",
    "Out of curiosity what does the `mgp` field look like?  I am going to look at both the train and test distributions but **in practice we should avoid looking at the test data**."
   ]
  },
  {
   "cell_type": "code",
   "execution_count": 15,
   "metadata": {},
   "outputs": [
    {
     "data": {
      "application/vnd.plotly.v1+json": {
       "config": {
        "plotlyServerURL": "https://plot.ly"
       },
       "data": [
        {
         "autobinx": false,
         "histnorm": "probability density",
         "legendgroup": "train mpg",
         "marker": {
          "color": "rgb(31, 119, 180)"
         },
         "name": "train mpg",
         "opacity": 0.7,
         "type": "histogram",
         "x": [
          26,
          36,
          28,
          14,
          30,
          14,
          29,
          13,
          14,
          14,
          17,
          30,
          23,
          21,
          46.6,
          32,
          21,
          17,
          10,
          24,
          26,
          38,
          14,
          16.5,
          31.9,
          39.4,
          29.9,
          15,
          12,
          29.8,
          13,
          29,
          24,
          36.1,
          26.6,
          26,
          32.3,
          27.2,
          20.6,
          25,
          24,
          19,
          29,
          28.4,
          24,
          15,
          32.7,
          34.1,
          29,
          14,
          31,
          35,
          18,
          24.5,
          27,
          38,
          12,
          20,
          26,
          12,
          13,
          20,
          29,
          21,
          13,
          16,
          44.3,
          27.2,
          28,
          23,
          31,
          31.5,
          16,
          13,
          25,
          16,
          13,
          15.5,
          23,
          28.1,
          36.1,
          19,
          37,
          34,
          24,
          34,
          21,
          33.8,
          19.2,
          11,
          11,
          13,
          26,
          34.3,
          14.5,
          18,
          29,
          32,
          19,
          23.9,
          14,
          19,
          22,
          25,
          19,
          15,
          17.5,
          19,
          40.8,
          24.3,
          17.5,
          11,
          19,
          16,
          32,
          21.1,
          20,
          21,
          38,
          23,
          28,
          33,
          31,
          24,
          27,
          15.5,
          32.2,
          36,
          14,
          14,
          29.5,
          14,
          23.6,
          33,
          20.2,
          21,
          19,
          25,
          21.6,
          26.8,
          30,
          24,
          18,
          22,
          16,
          25.8,
          29,
          25,
          13,
          39,
          18,
          17.7,
          30.7,
          20.5,
          25,
          13,
          15,
          34.2,
          14,
          21.5,
          15,
          22,
          23,
          27.5,
          25,
          28,
          13,
          29,
          20,
          19.1,
          27,
          12,
          33.7,
          30,
          30,
          16,
          19.2,
          38.1,
          22,
          18,
          30.5,
          12,
          26,
          25.5,
          13,
          29.8,
          20,
          14,
          24,
          15,
          20,
          32,
          20.3,
          31,
          14,
          37.7,
          31,
          18,
          15,
          24,
          20,
          15,
          12,
          17.6,
          17.5,
          13,
          17,
          20.2,
          40.9,
          26,
          17.5,
          15,
          28,
          19,
          15,
          22,
          34.4,
          17,
          22.5,
          36,
          22.3,
          23.5,
          33,
          33.5,
          27,
          13,
          18.1,
          31.6,
          20.2,
          34.5,
          15.5,
          18.5,
          13,
          30.5,
          19.4,
          18.2,
          27,
          22,
          20,
          17.6,
          13,
          14,
          18,
          25.4,
          25,
          16,
          27,
          32,
          30,
          16.5,
          32,
          30,
          16.9,
          32.4,
          14,
          22,
          34.7,
          19,
          21.5,
          15,
          18.1,
          44.6,
          16,
          22,
          16,
          16.5,
          32.1,
          31.8,
          11,
          24,
          43.4,
          28,
          15,
          27,
          18,
          34.5,
          18,
          15,
          23,
          22.4,
          25,
          28,
          30.9,
          20.6,
          33.5,
          26,
          27,
          33.5,
          34.1,
          19.9,
          36,
          21,
          31.3,
          20,
          13,
          13,
          18,
          27.2,
          31,
          28,
          36,
          18,
          17,
          17,
          13,
          9,
          15,
          10,
          24.5,
          25.4,
          14,
          27.9,
          18,
          23.7,
          23,
          38,
          13,
          18.6,
          32.4,
          35,
          14,
          20.5,
          36,
          21,
          26,
          16,
          26,
          13,
          43.1,
          37.3,
          35.1,
          31,
          14,
          18.5,
          17,
          26,
          22,
          32.9,
          29.5,
          25,
          23.2,
          26,
          26.5,
          37,
          41.5,
          18,
          16,
          18.5,
          19.4,
          25.1,
          16,
          20.8,
          27.4,
          44,
          20.5,
          35.7,
          26,
          23
         ],
         "xaxis": "x",
         "xbins": {
          "end": 46.6,
          "size": 1,
          "start": 9
         },
         "yaxis": "y"
        },
        {
         "autobinx": false,
         "histnorm": "probability density",
         "legendgroup": "test mpg",
         "marker": {
          "color": "rgb(255, 127, 14)"
         },
         "name": "test mpg",
         "opacity": 0.7,
         "type": "histogram",
         "x": [
          16,
          20.2,
          17.5,
          16.2,
          15,
          26.4,
          25.5,
          19,
          37.2,
          28.8,
          21.5,
          18,
          18,
          18,
          27,
          23.9,
          19.8,
          19.2,
          26,
          37,
          31.5,
          23,
          18,
          39.1,
          24.2,
          36.4,
          23,
          28,
          32.8,
          25,
          15,
          15.5,
          28,
          14,
          22,
          26.6,
          23.8,
          24,
          19,
          15.5
         ],
         "xaxis": "x",
         "xbins": {
          "end": 39.1,
          "size": 1,
          "start": 14
         },
         "yaxis": "y"
        },
        {
         "legendgroup": "train mpg",
         "marker": {
          "color": "rgb(31, 119, 180)"
         },
         "mode": "lines",
         "name": "train mpg",
         "showlegend": false,
         "type": "scatter",
         "x": [
          9,
          9.0752,
          9.1504,
          9.2256,
          9.3008,
          9.376,
          9.4512,
          9.5264,
          9.6016,
          9.6768,
          9.752,
          9.8272,
          9.9024,
          9.9776,
          10.0528,
          10.128,
          10.2032,
          10.2784,
          10.3536,
          10.428799999999999,
          10.504,
          10.5792,
          10.6544,
          10.7296,
          10.8048,
          10.879999999999999,
          10.9552,
          11.0304,
          11.105599999999999,
          11.1808,
          11.256,
          11.3312,
          11.4064,
          11.4816,
          11.556799999999999,
          11.632,
          11.7072,
          11.782399999999999,
          11.8576,
          11.9328,
          12.008,
          12.0832,
          12.1584,
          12.2336,
          12.3088,
          12.384,
          12.4592,
          12.5344,
          12.6096,
          12.6848,
          12.76,
          12.8352,
          12.9104,
          12.9856,
          13.0608,
          13.136,
          13.2112,
          13.2864,
          13.3616,
          13.4368,
          13.512,
          13.5872,
          13.662400000000002,
          13.7376,
          13.8128,
          13.888,
          13.9632,
          14.0384,
          14.1136,
          14.1888,
          14.264,
          14.3392,
          14.4144,
          14.4896,
          14.5648,
          14.64,
          14.7152,
          14.790400000000002,
          14.8656,
          14.9408,
          15.016,
          15.0912,
          15.1664,
          15.2416,
          15.3168,
          15.392,
          15.4672,
          15.5424,
          15.6176,
          15.6928,
          15.768,
          15.8432,
          15.9184,
          15.9936,
          16.0688,
          16.144,
          16.2192,
          16.2944,
          16.3696,
          16.4448,
          16.52,
          16.595200000000002,
          16.6704,
          16.7456,
          16.8208,
          16.896,
          16.9712,
          17.0464,
          17.1216,
          17.196800000000003,
          17.272,
          17.3472,
          17.4224,
          17.4976,
          17.5728,
          17.648,
          17.7232,
          17.7984,
          17.8736,
          17.9488,
          18.024,
          18.099200000000003,
          18.1744,
          18.2496,
          18.324800000000003,
          18.4,
          18.4752,
          18.5504,
          18.6256,
          18.7008,
          18.776,
          18.8512,
          18.9264,
          19.0016,
          19.0768,
          19.152,
          19.2272,
          19.3024,
          19.3776,
          19.452800000000003,
          19.528,
          19.6032,
          19.6784,
          19.7536,
          19.8288,
          19.904,
          19.9792,
          20.0544,
          20.1296,
          20.2048,
          20.28,
          20.3552,
          20.4304,
          20.5056,
          20.580800000000004,
          20.656,
          20.7312,
          20.8064,
          20.8816,
          20.9568,
          21.032,
          21.1072,
          21.1824,
          21.2576,
          21.3328,
          21.408,
          21.4832,
          21.5584,
          21.6336,
          21.708800000000004,
          21.784,
          21.8592,
          21.9344,
          22.0096,
          22.0848,
          22.16,
          22.2352,
          22.3104,
          22.3856,
          22.4608,
          22.536,
          22.6112,
          22.6864,
          22.7616,
          22.8368,
          22.912,
          22.9872,
          23.0624,
          23.1376,
          23.2128,
          23.288,
          23.3632,
          23.4384,
          23.5136,
          23.5888,
          23.664,
          23.7392,
          23.8144,
          23.8896,
          23.9648,
          24.04,
          24.1152,
          24.190400000000004,
          24.2656,
          24.3408,
          24.416,
          24.4912,
          24.5664,
          24.6416,
          24.7168,
          24.792,
          24.8672,
          24.9424,
          25.0176,
          25.0928,
          25.168,
          25.2432,
          25.3184,
          25.393600000000003,
          25.468799999999998,
          25.544,
          25.6192,
          25.6944,
          25.7696,
          25.8448,
          25.92,
          25.9952,
          26.070400000000003,
          26.1456,
          26.2208,
          26.296,
          26.3712,
          26.4464,
          26.521600000000003,
          26.596799999999998,
          26.672,
          26.7472,
          26.822400000000002,
          26.8976,
          26.9728,
          27.048,
          27.1232,
          27.198400000000003,
          27.273600000000002,
          27.3488,
          27.424,
          27.499200000000002,
          27.5744,
          27.649600000000003,
          27.7248,
          27.8,
          27.8752,
          27.950400000000002,
          28.0256,
          28.1008,
          28.176,
          28.2512,
          28.326400000000003,
          28.401600000000002,
          28.4768,
          28.552,
          28.627200000000002,
          28.7024,
          28.777600000000003,
          28.8528,
          28.928,
          29.0032,
          29.078400000000002,
          29.1536,
          29.2288,
          29.304,
          29.3792,
          29.4544,
          29.529600000000002,
          29.6048,
          29.68,
          29.755200000000002,
          29.8304,
          29.905600000000003,
          29.9808,
          30.056,
          30.1312,
          30.206400000000002,
          30.2816,
          30.3568,
          30.432,
          30.5072,
          30.5824,
          30.657600000000002,
          30.7328,
          30.808,
          30.883200000000002,
          30.9584,
          31.033600000000003,
          31.1088,
          31.184,
          31.2592,
          31.334400000000002,
          31.4096,
          31.4848,
          31.56,
          31.6352,
          31.7104,
          31.785600000000002,
          31.860799999999998,
          31.936,
          32.0112,
          32.0864,
          32.16160000000001,
          32.2368,
          32.312,
          32.3872,
          32.4624,
          32.5376,
          32.6128,
          32.688,
          32.7632,
          32.8384,
          32.9136,
          32.9888,
          33.064,
          33.1392,
          33.2144,
          33.28960000000001,
          33.3648,
          33.44,
          33.5152,
          33.5904,
          33.6656,
          33.7408,
          33.816,
          33.8912,
          33.9664,
          34.0416,
          34.1168,
          34.192,
          34.2672,
          34.3424,
          34.41760000000001,
          34.4928,
          34.568,
          34.6432,
          34.7184,
          34.7936,
          34.8688,
          34.944,
          35.0192,
          35.0944,
          35.1696,
          35.2448,
          35.32,
          35.3952,
          35.4704,
          35.54560000000001,
          35.6208,
          35.696,
          35.7712,
          35.8464,
          35.9216,
          35.9968,
          36.072,
          36.1472,
          36.2224,
          36.2976,
          36.3728,
          36.448,
          36.5232,
          36.5984,
          36.6736,
          36.7488,
          36.824,
          36.8992,
          36.9744,
          37.0496,
          37.1248,
          37.2,
          37.2752,
          37.3504,
          37.4256,
          37.5008,
          37.576,
          37.6512,
          37.7264,
          37.8016,
          37.8768,
          37.952,
          38.0272,
          38.1024,
          38.1776,
          38.25280000000001,
          38.328,
          38.4032,
          38.4784,
          38.5536,
          38.6288,
          38.704,
          38.7792,
          38.8544,
          38.9296,
          39.0048,
          39.08,
          39.1552,
          39.2304,
          39.3056,
          39.38080000000001,
          39.456,
          39.5312,
          39.6064,
          39.6816,
          39.7568,
          39.832,
          39.9072,
          39.9824,
          40.0576,
          40.1328,
          40.208,
          40.2832,
          40.3584,
          40.4336,
          40.50880000000001,
          40.584,
          40.6592,
          40.7344,
          40.8096,
          40.8848,
          40.96,
          41.0352,
          41.1104,
          41.1856,
          41.2608,
          41.336,
          41.4112,
          41.4864,
          41.561600000000006,
          41.6368,
          41.712,
          41.787200000000006,
          41.8624,
          41.937599999999996,
          42.012800000000006,
          42.088,
          42.1632,
          42.2384,
          42.3136,
          42.3888,
          42.464,
          42.5392,
          42.6144,
          42.6896,
          42.7648,
          42.84,
          42.915200000000006,
          42.9904,
          43.065599999999996,
          43.140800000000006,
          43.216,
          43.2912,
          43.3664,
          43.4416,
          43.5168,
          43.592,
          43.6672,
          43.7424,
          43.8176,
          43.8928,
          43.968,
          44.043200000000006,
          44.1184,
          44.193599999999996,
          44.268800000000006,
          44.344,
          44.419200000000004,
          44.4944,
          44.5696,
          44.644800000000004,
          44.72,
          44.7952,
          44.870400000000004,
          44.9456,
          45.0208,
          45.096,
          45.171200000000006,
          45.2464,
          45.3216,
          45.396800000000006,
          45.472,
          45.547200000000004,
          45.6224,
          45.6976,
          45.772800000000004,
          45.848,
          45.9232,
          45.998400000000004,
          46.0736,
          46.1488,
          46.224,
          46.299200000000006,
          46.3744,
          46.4496,
          46.524800000000006
         ],
         "xaxis": "x",
         "y": [
          0.007833858316137593,
          0.00815682456556384,
          0.008488699961152646,
          0.008829492731440129,
          0.009179196748171865,
          0.009537790977452823,
          0.009905238959436815,
          0.010281488320338126,
          0.010666470320557599,
          0.011060099442698142,
          0.011462273023200962,
          0.011872870931261792,
          0.012291755298586228,
          0.012718770303411495,
          0.013153742012063943,
          0.013596478281129115,
          0.014046768723091806,
          0.014504384738054115,
          0.014969079613858996,
          0.015440588696641092,
          0.015918629633493164,
          0.016402902688575152,
          0.016893091133613924,
          0.01738886171333447,
          0.017889865185943054,
          0.01839573693834222,
          0.018906097675305576,
          0.01942055418137704,
          0.019938700153788937,
          0.02046011710421981,
          0.02098437532673869,
          0.021511034928812307,
          0.022039646921789995,
          0.022569754366828114,
          0.02310089357178189,
          0.023632595334173733,
          0.024164386224954742,
          0.024695789907408075,
          0.025226328485205736,
          0.025755523873327753,
          0.026282899185284696,
          0.02680798012985997,
          0.027330296410401137,
          0.02784938311955234,
          0.028364782122226297,
          0.028876043419570833,
          0.029382726486688413,
          0.029884401576927632,
          0.03038065098566901,
          0.030871070266688776,
          0.031355269394392406,
          0.031832873865470755,
          0.03230352573383688,
          0.032766884573060054,
          0.03322262836090993,
          0.03367045428106789,
          0.03411007943754268,
          0.03454124147784445,
          0.034963699121519934,
          0.035377232591231995,
          0.03578164394416258,
          0.036176757302145625,
          0.03656241897956757,
          0.03693849750872028,
          0.03730488356294481,
          0.03766148977854975,
          0.038008250477139426,
          0.03834512129062036,
          0.0386720786917737,
          0.03898911943388534,
          0.03929625990350009,
          0.039593535390911316,
          0.03988099928351587,
          0.040158722187635644,
          0.04042679098484523,
          0.040685307829235656,
          0.040934389092387516,
          0.04117416426312084,
          0.04140477480933154,
          0.04162637300941211,
          0.04183912076088873,
          0.0420431883739834,
          0.042238753357834585,
          0.04242599920707384,
          0.04260511419636895,
          0.0427762901904013,
          0.04293972147655054,
          0.04309560362731436,
          0.04324413239919785,
          0.04338550267446782,
          0.043519907451787236,
          0.04364753689132409,
          0.043768577419474416,
          0.043883210897851924,
          0.04399161386068379,
          0.0440939568242133,
          0.04419040367115777,
          0.04428111111269647,
          0.04436622822988813,
          0.04444589609583127,
          0.044520247479294776,
          0.04458940662996856,
          0.04465348914490989,
          0.04471260191519795,
          0.04476684315127171,
          0.044816302484894856,
          0.044861061145198715,
          0.044901192205774265,
          0.044936760899346534,
          0.04496782499615032,
          0.044994435241752555,
          0.04501663584972628,
          0.045034465044283295,
          0.04504795564770932,
          0.04505713570723011,
          0.04506202915575604,
          0.04506265650082063,
          0.04505903553593045,
          0.04505118206849872,
          0.04503911065851634,
          0.04502283536214876,
          0.04500237047451392,
          0.044977731265999764,
          0.04494893470662385,
          0.0449160001731111,
          0.044878950133572,
          0.04483781080490132,
          0.04479261277827908,
          0.044743391608445975,
          0.04469018836273174,
          0.04463305012614987,
          0.044572030459212826,
          0.04450718980548786,
          0.04443859584628155,
          0.044366323800223165,
          0.0442904566659071,
          0.04421108540613801,
          0.04412830907272343,
          0.044042234871140166,
          0.04395297816479494,
          0.04386066241897566,
          0.043765419084967006,
          0.04366738742516558,
          0.04356671428038278,
          0.04346355378086244,
          0.04335806700286465,
          0.043250421572975,
          0.043140791222590034,
          0.0430293552952998,
          0.04291629821014448,
          0.04280180888394954,
          0.042686080116160034,
          0.0425693079397804,
          0.04245169094219411,
          0.042333429559782934,
          0.0422147253503868,
          0.04209578024774243,
          0.0419767958021169,
          0.04185797241140287,
          0.04173950854697169,
          0.04162159997858927,
          0.0415044390026817,
          0.04138821367820109,
          0.04127310707428336,
          0.041159296533807926,
          0.04104695295687085,
          0.04093624010806025,
          0.04082731395128457,
          0.04072032201574801,
          0.040615402796488634,
          0.040512685192708515,
          0.04041228798691445,
          0.04031431936766851,
          0.040218876498513356,
          0.040126045135391364,
          0.04003589929461756,
          0.03994850097320212,
          0.03986389992304067,
          0.03978213348020955,
          0.039703226450315994,
          0.039627191050559125,
          0.03955402690886442,
          0.03948372112015882,
          0.039416248359553235,
          0.03935157105191001,
          0.039289639596977434,
          0.03923039264898735,
          0.039173757449330195,
          0.03911965021064799,
          0.03906797655042046,
          0.03901863197186436,
          0.03897150238972067,
          0.03892646469827548,
          0.03888338737874081,
          0.03884213114292044,
          0.038802549609900455,
          0.0387644900123309,
          0.03872779392872017,
          0.03869229803802589,
          0.03865783489271615,
          0.03862423370638228,
          0.03859132115191132,
          0.038558922166177706,
          0.03852686075718285,
          0.038494960809565014,
          0.0384630468844159,
          0.03843094500937705,
          0.03839848345504526,
          0.03836549349379797,
          0.038331810137246784,
          0.0382972728486494,
          0.03826172622675001,
          0.03822502065767756,
          0.03818701293170869,
          0.03814756682189645,
          0.038106553621779324,
          0.03806385263960815,
          0.038019351646771136,
          0.03797294727834971,
          0.03792454538399986,
          0.03787406132763144,
          0.03782142023463623,
          0.03776655718570489,
          0.037709417356570706,
          0.03764995610330911,
          0.03758813899312582,
          0.037523941780863636,
          0.03745735033175501,
          0.03738836049124215,
          0.03731697790297451,
          0.03724321777637729,
          0.03716710460545569,
          0.03708867184076412,
          0.03700796151672402,
          0.036925023836708586,
          0.03683991671853943,
          0.03675270530324884,
          0.036663461430151326,
          0.036572263081440654,
          0.03647919379968426,
          0.036384342081717494,
          0.03628780075255319,
          0.036189666323011814,
          0.036090038334846426,
          0.035989018697178396,
          0.03588671101808494,
          0.03578321993517598,
          0.03567865044897323,
          0.035573107262857624,
          0.03546669413327897,
          0.035359513233831706,
          0.035251664536682784,
          0.035143245214706784,
          0.03503434906752435,
          0.03492506597446977,
          0.034815481377319955,
          0.034705675795410264,
          0.03459572437554062,
          0.034485696478838264,
          0.0343756553064976,
          0.03426565756605919,
          0.03415575317962281,
          0.03404598503512236,
          0.033936388781507135,
          0.03382699266840023,
          0.033717817430522865,
          0.03360887621689517,
          0.03350017456454911,
          0.03339171041621791,
          0.03328347418120491,
          0.033175448838378224,
          0.03306761007999482,
          0.032959926494822905,
          0.03285235978881614,
          0.03274486504138562,
          0.03263739099512965,
          0.032529880376710126,
          0.032422270246412074,
          0.032314492373789326,
          0.03220647363668535,
          0.03209813644082664,
          0.03198939915711178,
          0.031880176573668574,
          0.03177038035972143,
          0.03165991953829957,
          0.03154870096482966,
          0.0314366298086857,
          0.03132361003481882,
          0.03120954488266046,
          0.03109433733957721,
          0.030977890606260952,
          0.030860108551555746,
          0.030740896154358318,
          0.03062015993037559,
          0.03049780834168101,
          0.030373752187181566,
          0.030247904972285914,
          0.030120183256247095,
          0.029990506975847375,
          0.029858799744285566,
          0.029724989124326594,
          0.0295890068749689,
          0.02945078917108839,
          0.029310276795706323,
          0.029167415304728262,
          0.029022155164184178,
          0.028874451860182126,
          0.02872426598196271,
          0.02857156327860772,
          0.028416314690109575,
          0.028258496353657715,
          0.028098089586130102,
          0.027935080843902373,
          0.02776946166119626,
          0.02760122856828861,
          0.027430382990986216,
          0.027256931132842156,
          0.027080883841649167,
          0.026902256461790848,
          0.02672106867406079,
          0.02653734432458176,
          0.026351111244461444,
          0.026162401061816946,
          0.02597124900778129,
          0.025777693718079458,
          0.025581777031719644,
          0.02538354378830011,
          0.02518304162537262,
          0.02498032077723915,
          0.0247754338764844,
          0.024568435759469775,
          0.024359383276925897,
          0.02414833511069378,
          0.023935351597569807,
          0.02372049456111113,
          0.023503827152160758,
          0.023285413698748487,
          0.023065319565922573,
          0.022843611025964106,
          0.0226203551393358,
          0.022395619646612946,
          0.022169472871550033,
          0.021941983635335987,
          0.021713221181999625,
          0.021483255114835165,
          0.021252155343633287,
          0.021019992042418133,
          0.020786835617314453,
          0.020552756684095643,
          0.02031782605489621,
          0.02008211473350659,
          0.019845693918616056,
          0.019608635014312217,
          0.01937100964710481,
          0.01913288968869788,
          0.01889434728370265,
          0.01865545488145474,
          0.01841628527107715,
          0.01817691161891483,
          0.01793740750745591,
          0.017697846974852195,
          0.017458304554150643,
          0.017218855311357598,
          0.01697957488146919,
          0.016740539501619862,
          0.016501826040526225,
          0.016263512023430893,
          0.016025675651787166,
          0.015788395816962283,
          0.015551752107283105,
          0.015315824807793275,
          0.015080694892145675,
          0.01484644400610822,
          0.014613154442220545,
          0.014380909105202696,
          0.014149791467781168,
          0.013919885516666168,
          0.013691275688483594,
          0.0134640467955375,
          0.013238283941350518,
          0.01301407242600476,
          0.012791497641379193,
          0.012570644956453823,
          0.012351599592924385,
          0.012134446491444984,
          0.011919270168885781,
          0.011706154567064243,
          0.011495182893474197,
          0.011286437454602448,
          0.011079999482483054,
          0.010875948955198864,
          0.01067436441209173,
          0.010475322764494189,
          0.010278899102839814,
          0.010085166501049148,
          0.009894195819123545,
          0.00970605550490915,
          0.009520811396016148,
          0.00933852652289709,
          0.009159260914101032,
          0.008983071404724895,
          0.00881001144908523,
          0.008640130938627318,
          0.008473476026076133,
          0.008310088956817402,
          0.008150007908472473,
          0.007993266839602234,
          0.00783989534844095,
          0.007689918542521144,
          0.007543356920005785,
          0.007400226263495502,
          0.0072605375470242125,
          0.0071242968568992066,
          0.006991505326980254,
          0.006862159088927796,
          0.006736249237881961,
          0.006613761813964512,
          0.00649467779992285,
          0.006378973135160865,
          0.006266618746325571,
          0.006157580594542118,
          0.006051819739311044,
          0.0059492924190052985,
          0.005849950147825808,
          0.005753739828997578,
          0.005660603883911778,
          0.00557048039684447,
          0.005483303274808492,
          0.005399002422023599,
          0.005317503928420568,
          0.0052387302715276,
          0.005162600531023462,
          0.005089030615180836,
          0.005017933498365495,
          0.004949219468703062,
          0.00488279638497522,
          0.004818569941761304,
          0.0047564439417996885,
          0.004696320574506791,
          0.00463810069955949,
          0.00458168413441977,
          0.0045269699446586565,
          0.0044738567359203785,
          0.0044222429463563395,
          0.004372027138353752,
          0.004323108288383536,
          0.004275386073798821,
          0.004228761155426908,
          0.004183135454815445,
          0.0041384124250170035,
          0.0040944973138256026,
          0.00405129741841345,
          0.004008722330356642,
          0.003966684170084411,
          0.003925097809837329,
          0.003883881084275957,
          0.0038429549879417167,
          0.003802243858837283,
          0.0037616755474621406,
          0.0037211815707122848,
          0.0036806972501286193,
          0.003640161834057516,
          0.003599518603368395,
          0.003558714960455857,
          0.003517702501338699,
          0.0034764370707532476,
          0.0034348788002239324,
          0.003392992129179586,
          0.0033507458092681118,
          0.00330811289210557,
          0.003265070700776797,
          0.0032216007854831605,
          0.003177688863809344,
          0.003133324746152536,
          0.0030885022469262845,
          0.003043219082214641,
          0.00299747675461132,
          0.0029512804260325275,
          0.0029046387793399643,
          0.002857563869653155,
          0.0028100709662665594,
          0.0027621783861167255,
          0.0027139073197689455,
          0.002665281650909533,
          0.002616327770341171,
          0.0025670743854828925,
          0.0025175523263742026,
          0.002467794349175029,
          0.0024178349381386633,
          0.002367710107015234,
          0.002317457200817625,
          0.002267114698851379,
          0.0022167220198748166,
          0.002166319330215692,
          0.0021159473556272537,
          0.002065647197619334,
          0.002015460154949708,
          0.0019654275509084366,
          0.0019155905669725947,
          0.0018659900833527799
         ],
         "yaxis": "y"
        },
        {
         "legendgroup": "test mpg",
         "marker": {
          "color": "rgb(255, 127, 14)"
         },
         "mode": "lines",
         "name": "test mpg",
         "showlegend": false,
         "type": "scatter",
         "x": [
          14,
          14.0502,
          14.1004,
          14.1506,
          14.2008,
          14.251,
          14.3012,
          14.3514,
          14.4016,
          14.4518,
          14.502,
          14.5522,
          14.6024,
          14.6526,
          14.7028,
          14.753,
          14.8032,
          14.8534,
          14.9036,
          14.9538,
          15.004,
          15.0542,
          15.1044,
          15.1546,
          15.2048,
          15.254999999999999,
          15.3052,
          15.3554,
          15.4056,
          15.4558,
          15.506,
          15.5562,
          15.6064,
          15.656600000000001,
          15.7068,
          15.757,
          15.8072,
          15.8574,
          15.9076,
          15.9578,
          16.008,
          16.0582,
          16.1084,
          16.1586,
          16.2088,
          16.259,
          16.3092,
          16.3594,
          16.4096,
          16.4598,
          16.509999999999998,
          16.560200000000002,
          16.6104,
          16.660600000000002,
          16.7108,
          16.761,
          16.8112,
          16.8614,
          16.9116,
          16.9618,
          17.012,
          17.0622,
          17.1124,
          17.1626,
          17.2128,
          17.262999999999998,
          17.313200000000002,
          17.3634,
          17.4136,
          17.4638,
          17.514,
          17.5642,
          17.6144,
          17.6646,
          17.7148,
          17.765,
          17.8152,
          17.8654,
          17.9156,
          17.9658,
          18.016,
          18.066200000000002,
          18.1164,
          18.166600000000003,
          18.2168,
          18.267,
          18.3172,
          18.3674,
          18.4176,
          18.4678,
          18.518,
          18.5682,
          18.6184,
          18.6686,
          18.7188,
          18.769,
          18.819200000000002,
          18.8694,
          18.9196,
          18.9698,
          19.02,
          19.0702,
          19.1204,
          19.1706,
          19.2208,
          19.271,
          19.3212,
          19.3714,
          19.4216,
          19.4718,
          19.522,
          19.572200000000002,
          19.6224,
          19.6726,
          19.7228,
          19.773,
          19.8232,
          19.8734,
          19.9236,
          19.9738,
          20.024,
          20.0742,
          20.1244,
          20.1746,
          20.224800000000002,
          20.275,
          20.325200000000002,
          20.3754,
          20.4256,
          20.4758,
          20.526,
          20.5762,
          20.6264,
          20.6766,
          20.7268,
          20.777,
          20.8272,
          20.8774,
          20.927599999999998,
          20.977800000000002,
          21.028,
          21.078200000000002,
          21.1284,
          21.1786,
          21.2288,
          21.279,
          21.3292,
          21.3794,
          21.4296,
          21.4798,
          21.53,
          21.5802,
          21.6304,
          21.6806,
          21.730800000000002,
          21.781,
          21.831200000000003,
          21.8814,
          21.9316,
          21.9818,
          22.032,
          22.0822,
          22.1324,
          22.1826,
          22.2328,
          22.283,
          22.3332,
          22.3834,
          22.4336,
          22.483800000000002,
          22.534,
          22.584200000000003,
          22.6344,
          22.6846,
          22.7348,
          22.785,
          22.8352,
          22.885399999999997,
          22.9356,
          22.9858,
          23.036,
          23.0862,
          23.136400000000002,
          23.1866,
          23.236800000000002,
          23.287,
          23.337200000000003,
          23.3874,
          23.4376,
          23.4878,
          23.538,
          23.5882,
          23.6384,
          23.6886,
          23.7388,
          23.789,
          23.839199999999998,
          23.889400000000002,
          23.9396,
          23.989800000000002,
          24.04,
          24.090200000000003,
          24.1404,
          24.1906,
          24.2408,
          24.291,
          24.3412,
          24.3914,
          24.4416,
          24.4918,
          24.542,
          24.5922,
          24.642400000000002,
          24.6926,
          24.742800000000003,
          24.793,
          24.843200000000003,
          24.8934,
          24.9436,
          24.9938,
          25.044,
          25.0942,
          25.1444,
          25.1946,
          25.2448,
          25.295,
          25.3452,
          25.395400000000002,
          25.4456,
          25.495800000000003,
          25.546,
          25.596200000000003,
          25.6464,
          25.6966,
          25.7468,
          25.797,
          25.8472,
          25.8974,
          25.9476,
          25.9978,
          26.048000000000002,
          26.0982,
          26.148400000000002,
          26.1986,
          26.248800000000003,
          26.299,
          26.349200000000003,
          26.3994,
          26.4496,
          26.4998,
          26.55,
          26.6002,
          26.6504,
          26.7006,
          26.7508,
          26.801000000000002,
          26.8512,
          26.901400000000002,
          26.9516,
          27.001800000000003,
          27.052,
          27.1022,
          27.1524,
          27.2026,
          27.2528,
          27.303,
          27.3532,
          27.4034,
          27.4536,
          27.503800000000002,
          27.554000000000002,
          27.6042,
          27.654400000000003,
          27.7046,
          27.754800000000003,
          27.805,
          27.8552,
          27.9054,
          27.9556,
          28.0058,
          28.055999999999997,
          28.1062,
          28.1564,
          28.2066,
          28.256800000000002,
          28.307000000000002,
          28.3572,
          28.407400000000003,
          28.4576,
          28.507800000000003,
          28.558,
          28.6082,
          28.6584,
          28.7086,
          28.7588,
          28.808999999999997,
          28.8592,
          28.9094,
          28.959600000000002,
          29.0098,
          29.060000000000002,
          29.1102,
          29.160400000000003,
          29.2106,
          29.260800000000003,
          29.311,
          29.3612,
          29.4114,
          29.4616,
          29.5118,
          29.561999999999998,
          29.6122,
          29.6624,
          29.712600000000002,
          29.7628,
          29.813000000000002,
          29.8632,
          29.913400000000003,
          29.9636,
          30.0138,
          30.064,
          30.1142,
          30.1644,
          30.2146,
          30.2648,
          30.315,
          30.3652,
          30.4154,
          30.465600000000002,
          30.5158,
          30.566,
          30.6162,
          30.666400000000003,
          30.716600000000003,
          30.7668,
          30.817,
          30.8672,
          30.9174,
          30.9676,
          31.017799999999998,
          31.068,
          31.1182,
          31.168400000000002,
          31.218600000000002,
          31.2688,
          31.319,
          31.3692,
          31.419400000000003,
          31.469600000000003,
          31.5198,
          31.57,
          31.6202,
          31.6704,
          31.7206,
          31.770799999999998,
          31.821,
          31.8712,
          31.921400000000002,
          31.971600000000002,
          32.0218,
          32.072,
          32.1222,
          32.1724,
          32.2226,
          32.272800000000004,
          32.323,
          32.3732,
          32.4234,
          32.473600000000005,
          32.523799999999994,
          32.574,
          32.6242,
          32.674400000000006,
          32.7246,
          32.7748,
          32.825,
          32.8752,
          32.925399999999996,
          32.9756,
          33.025800000000004,
          33.076,
          33.1262,
          33.1764,
          33.226600000000005,
          33.2768,
          33.327,
          33.3772,
          33.427400000000006,
          33.4776,
          33.5278,
          33.578,
          33.6282,
          33.678399999999996,
          33.7286,
          33.778800000000004,
          33.829,
          33.8792,
          33.9294,
          33.979600000000005,
          34.0298,
          34.08,
          34.1302,
          34.180400000000006,
          34.2306,
          34.2808,
          34.331,
          34.3812,
          34.4314,
          34.4816,
          34.531800000000004,
          34.582,
          34.6322,
          34.6824,
          34.732600000000005,
          34.7828,
          34.833,
          34.8832,
          34.933400000000006,
          34.9836,
          35.0338,
          35.084,
          35.1342,
          35.1844,
          35.2346,
          35.284800000000004,
          35.335,
          35.3852,
          35.4354,
          35.485600000000005,
          35.5358,
          35.586,
          35.6362,
          35.686400000000006,
          35.7366,
          35.7868,
          35.837,
          35.8872,
          35.9374,
          35.9876,
          36.037800000000004,
          36.088,
          36.1382,
          36.1884,
          36.238600000000005,
          36.2888,
          36.339,
          36.3892,
          36.439400000000006,
          36.4896,
          36.5398,
          36.59,
          36.6402,
          36.6904,
          36.7406,
          36.790800000000004,
          36.841,
          36.8912,
          36.9414,
          36.991600000000005,
          37.0418,
          37.092,
          37.1422,
          37.192400000000006,
          37.2426,
          37.2928,
          37.343,
          37.3932,
          37.4434,
          37.4936,
          37.543800000000005,
          37.594,
          37.6442,
          37.6944,
          37.744600000000005,
          37.7948,
          37.845,
          37.8952,
          37.94540000000001,
          37.9956,
          38.0458,
          38.096000000000004,
          38.1462,
          38.1964,
          38.2466,
          38.296800000000005,
          38.347,
          38.3972,
          38.4474,
          38.497600000000006,
          38.5478,
          38.598,
          38.6482,
          38.69840000000001,
          38.7486,
          38.7988,
          38.849000000000004,
          38.8992,
          38.9494,
          38.9996,
          39.049800000000005
         ],
         "xaxis": "x",
         "y": [
          0.03140177588551357,
          0.03178463542425452,
          0.032166913970171455,
          0.03254850034426201,
          0.03292928332650502,
          0.033309151737332544,
          0.03368799451952445,
          0.034065700820443835,
          0.034442160074529944,
          0.03481726208596487,
          0.03519089711143044,
          0.035562955942870116,
          0.035933329990171285,
          0.03630191136368224,
          0.036668592956478965,
          0.037033268526295286,
          0.03739583277703185,
          0.037756181439757334,
          0.0381142113531173,
          0.03846982054306541,
          0.0388229083018319,
          0.03917337526604576,
          0.039521123493925885,
          0.03986605654145907,
          0.04020807953748174,
          0.04054709925758362,
          0.040883024196753416,
          0.041215764640685514,
          0.04154523273567014,
          0.041871342556987996,
          0.04219401017573405,
          0.04251315372399486,
          0.0428286934583051,
          0.04314055182131196,
          0.043448653501575576,
          0.0437529254914368,
          0.044053297142884536,
          0.04434970022135669,
          0.044642068957410894,
          0.04493034009620268,
          0.04521445294471099,
          0.04549434941665302,
          0.04576997407503178,
          0.04604127417226338,
          0.04630819968783157,
          0.046570703363420514,
          0.046828740735478915,
          0.04708227016517078,
          0.04733125286567062,
          0.04757565292676395,
          0.04781543733671592,
          0.04805057600137362,
          0.04828104176047128,
          0.04850681040110884,
          0.04872786066837821,
          0.04894417427311491,
          0.04915573589675361,
          0.049362533193272176,
          0.04956455678820856,
          0.049761800274740906,
          0.049954260206821935,
          0.050141936089363764,
          0.05032483036547105,
          0.050502948400724355,
          0.05067629846451899,
          0.0508448917084673,
          0.05100874214187576,
          0.051167866604312606,
          0.051322284735283476,
          0.051472018941037076,
          0.051617094358525836,
          0.05175753881655043,
          0.051893382794119036,
          0.052024659376057755,
          0.05215140420590994,
          0.052273655436167125,
          0.05239145367587651,
          0.052504841935674236,
          0.0526138655702962,
          0.052718572218622334,
          0.05281901174131277,
          0.05291523615609814,
          0.053007299570789104,
          0.05309525811407384,
          0.05317916986417466,
          0.05325909477543864,
          0.053335094602939934,
          0.05340723282517416,
          0.05347557456492835,
          0.05354018650841292,
          0.053601136822744255,
          0.05365849507186987,
          0.05371233213102979,
          0.05376272009985123,
          0.05380973221417467,
          0.053853442756713346,
          0.05389392696664846,
          0.05393126094826554,
          0.05396552157873939,
          0.05399678641517538,
          0.05402513360101833,
          0.05405064177194037,
          0.054073389961320384,
          0.054093457505429994,
          0.05411092394844105,
          0.05412586894737031,
          0.05413837217707831,
          0.054148513235440204,
          0.05415637154880513,
          0.05416202627786293,
          0.05416555622403547,
          0.05416703973651045,
          0.054166554620035286,
          0.05416417804358722,
          0.05415998645003675,
          0.05415405546691904,
          0.05414645981842772,
          0.05413727323874443,
          0.05412656838681519,
          0.054114416762684366,
          0.05410088862549395,
          0.054086052913254946,
          0.05406997716449507,
          0.05405272744188466,
          0.05403436825794041,
          0.05401496250290434,
          0.053994571374891547,
          0.053973254312398286,
          0.05395106892925892,
          0.05392807095213617,
          0.053904314160626646,
          0.0538798503300595,
          0.0538547291770627,
          0.05382899830796763,
          0.05380270317011871,
          0.05377588700615048,
          0.05374859081129137,
          0.053720853293747685,
          0.05369271083821845,
          0.05366419747258662,
          0.05363534483782713,
          0.053606182161169476,
          0.05357673623254567,
          0.05354703138435125,
          0.05351708947454176,
          0.053486929873082525,
          0.05345656945176435,
          0.053426022577393414,
          0.053395301108358474,
          0.05336441439457386,
          0.0533333692807917,
          0.05330217011327217,
          0.05327081874979584,
          0.05323931457299657,
          0.053207654506990436,
          0.05317583303726945,
          0.05314384223382566,
          0.0531116717774661,
          0.05307930898927435,
          0.05304673886317093,
          0.05301394410151889,
          0.052980905153718734,
          0.052947600257730716,
          0.05291400548446025,
          0.05288009478493668,
          0.05284584004021324,
          0.052811211113911856,
          0.052776175907332364,
          0.05274070041704376,
          0.05270474879487008,
          0.0526682834101823,
          0.0526312649144031,
          0.05259365230762981,
          0.05255540300727758,
          0.052516472918642615,
          0.05247681650728308,
          0.05243638687311317,
          0.052395135826103945,
          0.05235301396348323,
          0.052309970748323865,
          0.05226595458941089,
          0.05222091292227395,
          0.05217479229127291,
          0.052127538432622064,
          0.05207909635823859,
          0.05202941044030011,
          0.05197842449639622,
          0.05192608187515828,
          0.051872325542252476,
          0.05181709816662079,
          0.051760342206855665,
          0.05170199999759381,
          0.0516420138358165,
          0.05158032606694357,
          0.05151687917061037,
          0.05145161584601712,
          0.05138447909674288,
          0.05131541231491642,
          0.051244359364639426,
          0.05117126466455789,
          0.05109607326948059,
          0.05101873095094547,
          0.050939184276636386,
          0.05085738068855556,
          0.05077326857985963,
          0.050686797370269245,
          0.05059791757996522,
          0.05050658090188711,
          0.05041274027235237,
          0.05031634993991795,
          0.050217365532408846,
          0.050115744122040735,
          0.05001144428856823,
          0.04990442618039216,
          0.04979465157356339,
          0.04968208392862411,
          0.04956668844522991,
          0.04944843211450119,
          0.0493272837690533,
          0.049203214130661525,
          0.04907619585551738,
          0.048946203577038286,
          0.04881321394619565,
          0.04867720566932941,
          0.04853815954342147,
          0.048396058488803344,
          0.04825088757927715,
          0.04810263406963263,
          0.04795128742054607,
          0.04779683932085093,
          0.04763928370717304,
          0.047478616780926686,
          0.04731483702267161,
          0.047147945203833745,
          0.046977944395796195,
          0.04680483997637022,
          0.04662863963365907,
          0.04644935336732998,
          0.046266993487314535,
          0.04608157460995826,
          0.04589311365164516,
          0.045701629819924997,
          0.04550714460217344,
          0.04530968175181952,
          0.045109267272175076,
          0.04490592939790643,
          0.04469969857418792,
          0.04449060743358227,
          0.04427869077069219,
          0.044063985514633114,
          0.04384653069937561,
          0.04362636743201124,
          0.04340353885899544,
          0.04317809013042386,
          0.042950068362400305,
          0.04271952259755593,
          0.04248650376378075,
          0.042251064631230704,
          0.04201325976767443,
          0.0417731454922446,
          0.041530779827661526,
          0.04128622245099619,
          0.04103953464304163,
          0.04079077923636247,
          0.04054002056209301,
          0.040287324395555296,
          0.0400327579007684,
          0.03977638957392193,
          0.03951828918588596,
          0.03925852772383007,
          0.038997177332025505,
          0.03873431125190285,
          0.0384700037614386,
          0.03820433011394418,
          0.03793736647632954,
          0.03766918986691474,
          0.0373998780928608,
          0.037129509687292374,
          0.03685816384618249,
          0.03658592036507064,
          0.036312859575682865,
          0.0360390622825235,
          0.035764609699505824,
          0.03548958338668866,
          0.035214065187184514,
          0.03493813716430368,
          0.03466188153899776,
          0.03438538062766423,
          0.034108716780372625,
          0.03383197231957111,
          0.03355522947933139,
          0.03327857034518688,
          0.033002076794619355,
          0.032725830438245306,
          0.032449912561753634,
          0.03217440406864279,
          0.0318993854238043,
          0.03162493659799825,
          0.03135113701326281,
          0.03107806548929935,
          0.030805800190872056,
          0.03053441857625895,
          0.030263997346788807,
          0.029994612397497077,
          0.029726338768931312,
          0.029459250600134497,
          0.029193421082832415,
          0.02892892241684973,
          0.028665825766776593,
          0.02840420121990539,
          0.02814411774545611,
          0.027885643155105427,
          0.027628844064833794,
          0.027373785858101057,
          0.027120532650361642,
          0.026869147254925133,
          0.02661969115016962,
          0.02637222444810974,
          0.026126805864322575,
          0.02588349268923039,
          0.025642340760738937,
          0.025403404438227535,
          0.02516673657788569,
          0.024932388509389242,
          0.024700410013907992,
          0.024470849303434735,
          0.02424375300142411,
          0.024019166124729263,
          0.023797132066821765,
          0.023577692582280187,
          0.023360887772530793,
          0.023146756072823346,
          0.02293533424042369,
          0.022726657344004156,
          0.022520758754211712,
          0.022317670135393708,
          0.022117421438459774,
          0.021920040894858106,
          0.021725555011644315,
          0.021533988567619854,
          0.021345364610517694,
          0.021159704455211984,
          0.020977027682928497,
          0.0207973521414329,
          0.020620693946173736,
          0.020447067482356612,
          0.020276485407927654,
          0.020108958657442663,
          0.01994449644680051,
          0.01978310627881838,
          0.01962479394962781,
          0.019469563555870515,
          0.019317417502673538,
          0.0191683565123843,
          0.019022379634046464,
          0.018879484253597974,
          0.01873966610477447,
          0.01860291928070047,
          0.018469236246153025,
          0.018338607850482566,
          0.018211023341176774,
          0.018086470378054262,
          0.017964935048075514,
          0.017846401880759904,
          0.017730853864198023,
          0.017618272461649986,
          0.017508637628720677,
          0.017401927831104565,
          0.017298120062892938,
          0.017197189865437727,
          0.0170991113467665,
          0.017003857201544893,
          0.016911398731582244,
          0.016821705866878197,
          0.016734747187207865,
          0.01665048994424449,
          0.016568900084218647,
          0.016489942271113674,
          0.016413579910398025,
          0.01633977517329501,
          0.0162684890215911,
          0.01619968123298449,
          0.016133310426975498,
          0.01606933409130094,
          0.016007708608914276,
          0.015948389285513877,
          0.015891330377621516,
          0.015836485121212985,
          0.015783805760902613,
          0.01573324357968343,
          0.015684748929224137,
          0.0156382712607237,
          0.01559375915632384,
          0.015551160361079544,
          0.01551042181548631,
          0.015471489688562962,
          0.015434309411487561,
          0.015398825711783243,
          0.015364982648049995,
          0.015332723645237243,
          0.015301991530451205,
          0.015272728569289804,
          0.015244876502696802,
          0.015218376584325613,
          0.015193169618401942,
          0.01516919599807317,
          0.015146395744231026,
          0.0151247085447927,
          0.015104073794424138,
          0.015084430634687862,
          0.015065717994596132,
          0.015047874631548849,
          0.01503083917263405,
          0.015014550156267403,
          0.014998946074145637,
          0.014983965413487102,
          0.014969546699531664,
          0.014955628538270052,
          0.01494214965937183,
          0.014929048959279457,
          0.014916265544434619,
          0.014903738774601544,
          0.014891408306250829,
          0.014879214135965957,
          0.01486709664383338,
          0.014854996636776098,
          0.014842855391789218,
          0.014830614699035346,
          0.014818216904756315,
          0.014805604953957087,
          0.014792722432816707,
          0.014779513610780606,
          0.014765923482287772,
          0.014751897808085652,
          0.014737383156085552,
          0.014722326941710414,
          0.014706677467687012,
          0.014690383963234148,
          0.014673396622598514,
          0.014655666642889831,
          0.014637146261166994,
          0.014617788790727301,
          0.014597548656551088,
          0.014576381429854532,
          0.014554243861704067,
          0.01453109391564639,
          0.01450689079930893,
          0.014481594994926421,
          0.014455168288750339,
          0.014427573799298888,
          0.01439877600440665,
          0.014368740767034066,
          0.014337435359798456,
          0.014304828488189782,
          0.014270890312435806,
          0.014235592467983194,
          0.014198908084562596,
          0.014160811803807825,
          0.01412127979540111,
          0.014080289771718161,
          0.014037821000949248,
          0.013993854318674372,
          0.013948372137872743,
          0.013901358457349283,
          0.013852798868562869,
          0.013802680560843652,
          0.013750992324988998,
          0.013697724555229938,
          0.01364286924956283,
          0.013586420008442991,
          0.013528372031839687,
          0.013468722114654594,
          0.01340746864050795,
          0.013344611573899528,
          0.013280152450753771,
          0.013214094367360986,
          0.01314644196772926,
          0.013077201429363748,
          0.01300638044749273,
          0.012933988217762182,
          0.012860035417422899,
          0.012784534185036644,
          0.01270749809872987,
          0.012628942153025936,
          0.012548882734288974,
          0.012467337594814294,
          0.01238432582560272,
          0.012299867827857787,
          0.012213985283247056,
          0.012126701122969905,
          0.01203803949567674,
          0.01194802573428552,
          0.01185668632174338,
          0.011764048855782402,
          0.011670142012719976,
          0.011574995510355748,
          0.011478640070017707,
          0.011381107377811499,
          0.011282430045127858,
          0.011182641568463993
         ],
         "yaxis": "y"
        },
        {
         "legendgroup": "train mpg",
         "marker": {
          "color": "rgb(31, 119, 180)",
          "symbol": "line-ns-open"
         },
         "mode": "markers",
         "name": "train mpg",
         "showlegend": false,
         "type": "scatter",
         "x": [
          26,
          36,
          28,
          14,
          30,
          14,
          29,
          13,
          14,
          14,
          17,
          30,
          23,
          21,
          46.6,
          32,
          21,
          17,
          10,
          24,
          26,
          38,
          14,
          16.5,
          31.9,
          39.4,
          29.9,
          15,
          12,
          29.8,
          13,
          29,
          24,
          36.1,
          26.6,
          26,
          32.3,
          27.2,
          20.6,
          25,
          24,
          19,
          29,
          28.4,
          24,
          15,
          32.7,
          34.1,
          29,
          14,
          31,
          35,
          18,
          24.5,
          27,
          38,
          12,
          20,
          26,
          12,
          13,
          20,
          29,
          21,
          13,
          16,
          44.3,
          27.2,
          28,
          23,
          31,
          31.5,
          16,
          13,
          25,
          16,
          13,
          15.5,
          23,
          28.1,
          36.1,
          19,
          37,
          34,
          24,
          34,
          21,
          33.8,
          19.2,
          11,
          11,
          13,
          26,
          34.3,
          14.5,
          18,
          29,
          32,
          19,
          23.9,
          14,
          19,
          22,
          25,
          19,
          15,
          17.5,
          19,
          40.8,
          24.3,
          17.5,
          11,
          19,
          16,
          32,
          21.1,
          20,
          21,
          38,
          23,
          28,
          33,
          31,
          24,
          27,
          15.5,
          32.2,
          36,
          14,
          14,
          29.5,
          14,
          23.6,
          33,
          20.2,
          21,
          19,
          25,
          21.6,
          26.8,
          30,
          24,
          18,
          22,
          16,
          25.8,
          29,
          25,
          13,
          39,
          18,
          17.7,
          30.7,
          20.5,
          25,
          13,
          15,
          34.2,
          14,
          21.5,
          15,
          22,
          23,
          27.5,
          25,
          28,
          13,
          29,
          20,
          19.1,
          27,
          12,
          33.7,
          30,
          30,
          16,
          19.2,
          38.1,
          22,
          18,
          30.5,
          12,
          26,
          25.5,
          13,
          29.8,
          20,
          14,
          24,
          15,
          20,
          32,
          20.3,
          31,
          14,
          37.7,
          31,
          18,
          15,
          24,
          20,
          15,
          12,
          17.6,
          17.5,
          13,
          17,
          20.2,
          40.9,
          26,
          17.5,
          15,
          28,
          19,
          15,
          22,
          34.4,
          17,
          22.5,
          36,
          22.3,
          23.5,
          33,
          33.5,
          27,
          13,
          18.1,
          31.6,
          20.2,
          34.5,
          15.5,
          18.5,
          13,
          30.5,
          19.4,
          18.2,
          27,
          22,
          20,
          17.6,
          13,
          14,
          18,
          25.4,
          25,
          16,
          27,
          32,
          30,
          16.5,
          32,
          30,
          16.9,
          32.4,
          14,
          22,
          34.7,
          19,
          21.5,
          15,
          18.1,
          44.6,
          16,
          22,
          16,
          16.5,
          32.1,
          31.8,
          11,
          24,
          43.4,
          28,
          15,
          27,
          18,
          34.5,
          18,
          15,
          23,
          22.4,
          25,
          28,
          30.9,
          20.6,
          33.5,
          26,
          27,
          33.5,
          34.1,
          19.9,
          36,
          21,
          31.3,
          20,
          13,
          13,
          18,
          27.2,
          31,
          28,
          36,
          18,
          17,
          17,
          13,
          9,
          15,
          10,
          24.5,
          25.4,
          14,
          27.9,
          18,
          23.7,
          23,
          38,
          13,
          18.6,
          32.4,
          35,
          14,
          20.5,
          36,
          21,
          26,
          16,
          26,
          13,
          43.1,
          37.3,
          35.1,
          31,
          14,
          18.5,
          17,
          26,
          22,
          32.9,
          29.5,
          25,
          23.2,
          26,
          26.5,
          37,
          41.5,
          18,
          16,
          18.5,
          19.4,
          25.1,
          16,
          20.8,
          27.4,
          44,
          20.5,
          35.7,
          26,
          23
         ],
         "xaxis": "x",
         "y": [
          "train mpg",
          "train mpg",
          "train mpg",
          "train mpg",
          "train mpg",
          "train mpg",
          "train mpg",
          "train mpg",
          "train mpg",
          "train mpg",
          "train mpg",
          "train mpg",
          "train mpg",
          "train mpg",
          "train mpg",
          "train mpg",
          "train mpg",
          "train mpg",
          "train mpg",
          "train mpg",
          "train mpg",
          "train mpg",
          "train mpg",
          "train mpg",
          "train mpg",
          "train mpg",
          "train mpg",
          "train mpg",
          "train mpg",
          "train mpg",
          "train mpg",
          "train mpg",
          "train mpg",
          "train mpg",
          "train mpg",
          "train mpg",
          "train mpg",
          "train mpg",
          "train mpg",
          "train mpg",
          "train mpg",
          "train mpg",
          "train mpg",
          "train mpg",
          "train mpg",
          "train mpg",
          "train mpg",
          "train mpg",
          "train mpg",
          "train mpg",
          "train mpg",
          "train mpg",
          "train mpg",
          "train mpg",
          "train mpg",
          "train mpg",
          "train mpg",
          "train mpg",
          "train mpg",
          "train mpg",
          "train mpg",
          "train mpg",
          "train mpg",
          "train mpg",
          "train mpg",
          "train mpg",
          "train mpg",
          "train mpg",
          "train mpg",
          "train mpg",
          "train mpg",
          "train mpg",
          "train mpg",
          "train mpg",
          "train mpg",
          "train mpg",
          "train mpg",
          "train mpg",
          "train mpg",
          "train mpg",
          "train mpg",
          "train mpg",
          "train mpg",
          "train mpg",
          "train mpg",
          "train mpg",
          "train mpg",
          "train mpg",
          "train mpg",
          "train mpg",
          "train mpg",
          "train mpg",
          "train mpg",
          "train mpg",
          "train mpg",
          "train mpg",
          "train mpg",
          "train mpg",
          "train mpg",
          "train mpg",
          "train mpg",
          "train mpg",
          "train mpg",
          "train mpg",
          "train mpg",
          "train mpg",
          "train mpg",
          "train mpg",
          "train mpg",
          "train mpg",
          "train mpg",
          "train mpg",
          "train mpg",
          "train mpg",
          "train mpg",
          "train mpg",
          "train mpg",
          "train mpg",
          "train mpg",
          "train mpg",
          "train mpg",
          "train mpg",
          "train mpg",
          "train mpg",
          "train mpg",
          "train mpg",
          "train mpg",
          "train mpg",
          "train mpg",
          "train mpg",
          "train mpg",
          "train mpg",
          "train mpg",
          "train mpg",
          "train mpg",
          "train mpg",
          "train mpg",
          "train mpg",
          "train mpg",
          "train mpg",
          "train mpg",
          "train mpg",
          "train mpg",
          "train mpg",
          "train mpg",
          "train mpg",
          "train mpg",
          "train mpg",
          "train mpg",
          "train mpg",
          "train mpg",
          "train mpg",
          "train mpg",
          "train mpg",
          "train mpg",
          "train mpg",
          "train mpg",
          "train mpg",
          "train mpg",
          "train mpg",
          "train mpg",
          "train mpg",
          "train mpg",
          "train mpg",
          "train mpg",
          "train mpg",
          "train mpg",
          "train mpg",
          "train mpg",
          "train mpg",
          "train mpg",
          "train mpg",
          "train mpg",
          "train mpg",
          "train mpg",
          "train mpg",
          "train mpg",
          "train mpg",
          "train mpg",
          "train mpg",
          "train mpg",
          "train mpg",
          "train mpg",
          "train mpg",
          "train mpg",
          "train mpg",
          "train mpg",
          "train mpg",
          "train mpg",
          "train mpg",
          "train mpg",
          "train mpg",
          "train mpg",
          "train mpg",
          "train mpg",
          "train mpg",
          "train mpg",
          "train mpg",
          "train mpg",
          "train mpg",
          "train mpg",
          "train mpg",
          "train mpg",
          "train mpg",
          "train mpg",
          "train mpg",
          "train mpg",
          "train mpg",
          "train mpg",
          "train mpg",
          "train mpg",
          "train mpg",
          "train mpg",
          "train mpg",
          "train mpg",
          "train mpg",
          "train mpg",
          "train mpg",
          "train mpg",
          "train mpg",
          "train mpg",
          "train mpg",
          "train mpg",
          "train mpg",
          "train mpg",
          "train mpg",
          "train mpg",
          "train mpg",
          "train mpg",
          "train mpg",
          "train mpg",
          "train mpg",
          "train mpg",
          "train mpg",
          "train mpg",
          "train mpg",
          "train mpg",
          "train mpg",
          "train mpg",
          "train mpg",
          "train mpg",
          "train mpg",
          "train mpg",
          "train mpg",
          "train mpg",
          "train mpg",
          "train mpg",
          "train mpg",
          "train mpg",
          "train mpg",
          "train mpg",
          "train mpg",
          "train mpg",
          "train mpg",
          "train mpg",
          "train mpg",
          "train mpg",
          "train mpg",
          "train mpg",
          "train mpg",
          "train mpg",
          "train mpg",
          "train mpg",
          "train mpg",
          "train mpg",
          "train mpg",
          "train mpg",
          "train mpg",
          "train mpg",
          "train mpg",
          "train mpg",
          "train mpg",
          "train mpg",
          "train mpg",
          "train mpg",
          "train mpg",
          "train mpg",
          "train mpg",
          "train mpg",
          "train mpg",
          "train mpg",
          "train mpg",
          "train mpg",
          "train mpg",
          "train mpg",
          "train mpg",
          "train mpg",
          "train mpg",
          "train mpg",
          "train mpg",
          "train mpg",
          "train mpg",
          "train mpg",
          "train mpg",
          "train mpg",
          "train mpg",
          "train mpg",
          "train mpg",
          "train mpg",
          "train mpg",
          "train mpg",
          "train mpg",
          "train mpg",
          "train mpg",
          "train mpg",
          "train mpg",
          "train mpg",
          "train mpg",
          "train mpg",
          "train mpg",
          "train mpg",
          "train mpg",
          "train mpg",
          "train mpg",
          "train mpg",
          "train mpg",
          "train mpg",
          "train mpg",
          "train mpg",
          "train mpg",
          "train mpg",
          "train mpg",
          "train mpg",
          "train mpg",
          "train mpg",
          "train mpg",
          "train mpg",
          "train mpg",
          "train mpg",
          "train mpg",
          "train mpg",
          "train mpg",
          "train mpg",
          "train mpg",
          "train mpg",
          "train mpg",
          "train mpg",
          "train mpg",
          "train mpg",
          "train mpg",
          "train mpg",
          "train mpg",
          "train mpg",
          "train mpg",
          "train mpg",
          "train mpg",
          "train mpg",
          "train mpg",
          "train mpg",
          "train mpg",
          "train mpg",
          "train mpg",
          "train mpg",
          "train mpg",
          "train mpg",
          "train mpg",
          "train mpg",
          "train mpg"
         ],
         "yaxis": "y2"
        },
        {
         "legendgroup": "test mpg",
         "marker": {
          "color": "rgb(255, 127, 14)",
          "symbol": "line-ns-open"
         },
         "mode": "markers",
         "name": "test mpg",
         "showlegend": false,
         "type": "scatter",
         "x": [
          16,
          20.2,
          17.5,
          16.2,
          15,
          26.4,
          25.5,
          19,
          37.2,
          28.8,
          21.5,
          18,
          18,
          18,
          27,
          23.9,
          19.8,
          19.2,
          26,
          37,
          31.5,
          23,
          18,
          39.1,
          24.2,
          36.4,
          23,
          28,
          32.8,
          25,
          15,
          15.5,
          28,
          14,
          22,
          26.6,
          23.8,
          24,
          19,
          15.5
         ],
         "xaxis": "x",
         "y": [
          "test mpg",
          "test mpg",
          "test mpg",
          "test mpg",
          "test mpg",
          "test mpg",
          "test mpg",
          "test mpg",
          "test mpg",
          "test mpg",
          "test mpg",
          "test mpg",
          "test mpg",
          "test mpg",
          "test mpg",
          "test mpg",
          "test mpg",
          "test mpg",
          "test mpg",
          "test mpg",
          "test mpg",
          "test mpg",
          "test mpg",
          "test mpg",
          "test mpg",
          "test mpg",
          "test mpg",
          "test mpg",
          "test mpg",
          "test mpg",
          "test mpg",
          "test mpg",
          "test mpg",
          "test mpg",
          "test mpg",
          "test mpg",
          "test mpg",
          "test mpg",
          "test mpg",
          "test mpg"
         ],
         "yaxis": "y2"
        }
       ],
       "layout": {
        "barmode": "overlay",
        "hovermode": "closest",
        "legend": {
         "traceorder": "reversed"
        },
        "template": {
         "data": {
          "bar": [
           {
            "error_x": {
             "color": "#2a3f5f"
            },
            "error_y": {
             "color": "#2a3f5f"
            },
            "marker": {
             "line": {
              "color": "#E5ECF6",
              "width": 0.5
             }
            },
            "type": "bar"
           }
          ],
          "barpolar": [
           {
            "marker": {
             "line": {
              "color": "#E5ECF6",
              "width": 0.5
             }
            },
            "type": "barpolar"
           }
          ],
          "carpet": [
           {
            "aaxis": {
             "endlinecolor": "#2a3f5f",
             "gridcolor": "white",
             "linecolor": "white",
             "minorgridcolor": "white",
             "startlinecolor": "#2a3f5f"
            },
            "baxis": {
             "endlinecolor": "#2a3f5f",
             "gridcolor": "white",
             "linecolor": "white",
             "minorgridcolor": "white",
             "startlinecolor": "#2a3f5f"
            },
            "type": "carpet"
           }
          ],
          "choropleth": [
           {
            "colorbar": {
             "outlinewidth": 0,
             "ticks": ""
            },
            "type": "choropleth"
           }
          ],
          "contour": [
           {
            "colorbar": {
             "outlinewidth": 0,
             "ticks": ""
            },
            "colorscale": [
             [
              0,
              "#0d0887"
             ],
             [
              0.1111111111111111,
              "#46039f"
             ],
             [
              0.2222222222222222,
              "#7201a8"
             ],
             [
              0.3333333333333333,
              "#9c179e"
             ],
             [
              0.4444444444444444,
              "#bd3786"
             ],
             [
              0.5555555555555556,
              "#d8576b"
             ],
             [
              0.6666666666666666,
              "#ed7953"
             ],
             [
              0.7777777777777778,
              "#fb9f3a"
             ],
             [
              0.8888888888888888,
              "#fdca26"
             ],
             [
              1,
              "#f0f921"
             ]
            ],
            "type": "contour"
           }
          ],
          "contourcarpet": [
           {
            "colorbar": {
             "outlinewidth": 0,
             "ticks": ""
            },
            "type": "contourcarpet"
           }
          ],
          "heatmap": [
           {
            "colorbar": {
             "outlinewidth": 0,
             "ticks": ""
            },
            "colorscale": [
             [
              0,
              "#0d0887"
             ],
             [
              0.1111111111111111,
              "#46039f"
             ],
             [
              0.2222222222222222,
              "#7201a8"
             ],
             [
              0.3333333333333333,
              "#9c179e"
             ],
             [
              0.4444444444444444,
              "#bd3786"
             ],
             [
              0.5555555555555556,
              "#d8576b"
             ],
             [
              0.6666666666666666,
              "#ed7953"
             ],
             [
              0.7777777777777778,
              "#fb9f3a"
             ],
             [
              0.8888888888888888,
              "#fdca26"
             ],
             [
              1,
              "#f0f921"
             ]
            ],
            "type": "heatmap"
           }
          ],
          "heatmapgl": [
           {
            "colorbar": {
             "outlinewidth": 0,
             "ticks": ""
            },
            "colorscale": [
             [
              0,
              "#0d0887"
             ],
             [
              0.1111111111111111,
              "#46039f"
             ],
             [
              0.2222222222222222,
              "#7201a8"
             ],
             [
              0.3333333333333333,
              "#9c179e"
             ],
             [
              0.4444444444444444,
              "#bd3786"
             ],
             [
              0.5555555555555556,
              "#d8576b"
             ],
             [
              0.6666666666666666,
              "#ed7953"
             ],
             [
              0.7777777777777778,
              "#fb9f3a"
             ],
             [
              0.8888888888888888,
              "#fdca26"
             ],
             [
              1,
              "#f0f921"
             ]
            ],
            "type": "heatmapgl"
           }
          ],
          "histogram": [
           {
            "marker": {
             "colorbar": {
              "outlinewidth": 0,
              "ticks": ""
             }
            },
            "type": "histogram"
           }
          ],
          "histogram2d": [
           {
            "colorbar": {
             "outlinewidth": 0,
             "ticks": ""
            },
            "colorscale": [
             [
              0,
              "#0d0887"
             ],
             [
              0.1111111111111111,
              "#46039f"
             ],
             [
              0.2222222222222222,
              "#7201a8"
             ],
             [
              0.3333333333333333,
              "#9c179e"
             ],
             [
              0.4444444444444444,
              "#bd3786"
             ],
             [
              0.5555555555555556,
              "#d8576b"
             ],
             [
              0.6666666666666666,
              "#ed7953"
             ],
             [
              0.7777777777777778,
              "#fb9f3a"
             ],
             [
              0.8888888888888888,
              "#fdca26"
             ],
             [
              1,
              "#f0f921"
             ]
            ],
            "type": "histogram2d"
           }
          ],
          "histogram2dcontour": [
           {
            "colorbar": {
             "outlinewidth": 0,
             "ticks": ""
            },
            "colorscale": [
             [
              0,
              "#0d0887"
             ],
             [
              0.1111111111111111,
              "#46039f"
             ],
             [
              0.2222222222222222,
              "#7201a8"
             ],
             [
              0.3333333333333333,
              "#9c179e"
             ],
             [
              0.4444444444444444,
              "#bd3786"
             ],
             [
              0.5555555555555556,
              "#d8576b"
             ],
             [
              0.6666666666666666,
              "#ed7953"
             ],
             [
              0.7777777777777778,
              "#fb9f3a"
             ],
             [
              0.8888888888888888,
              "#fdca26"
             ],
             [
              1,
              "#f0f921"
             ]
            ],
            "type": "histogram2dcontour"
           }
          ],
          "mesh3d": [
           {
            "colorbar": {
             "outlinewidth": 0,
             "ticks": ""
            },
            "type": "mesh3d"
           }
          ],
          "parcoords": [
           {
            "line": {
             "colorbar": {
              "outlinewidth": 0,
              "ticks": ""
             }
            },
            "type": "parcoords"
           }
          ],
          "pie": [
           {
            "automargin": true,
            "type": "pie"
           }
          ],
          "scatter": [
           {
            "marker": {
             "colorbar": {
              "outlinewidth": 0,
              "ticks": ""
             }
            },
            "type": "scatter"
           }
          ],
          "scatter3d": [
           {
            "line": {
             "colorbar": {
              "outlinewidth": 0,
              "ticks": ""
             }
            },
            "marker": {
             "colorbar": {
              "outlinewidth": 0,
              "ticks": ""
             }
            },
            "type": "scatter3d"
           }
          ],
          "scattercarpet": [
           {
            "marker": {
             "colorbar": {
              "outlinewidth": 0,
              "ticks": ""
             }
            },
            "type": "scattercarpet"
           }
          ],
          "scattergeo": [
           {
            "marker": {
             "colorbar": {
              "outlinewidth": 0,
              "ticks": ""
             }
            },
            "type": "scattergeo"
           }
          ],
          "scattergl": [
           {
            "marker": {
             "colorbar": {
              "outlinewidth": 0,
              "ticks": ""
             }
            },
            "type": "scattergl"
           }
          ],
          "scattermapbox": [
           {
            "marker": {
             "colorbar": {
              "outlinewidth": 0,
              "ticks": ""
             }
            },
            "type": "scattermapbox"
           }
          ],
          "scatterpolar": [
           {
            "marker": {
             "colorbar": {
              "outlinewidth": 0,
              "ticks": ""
             }
            },
            "type": "scatterpolar"
           }
          ],
          "scatterpolargl": [
           {
            "marker": {
             "colorbar": {
              "outlinewidth": 0,
              "ticks": ""
             }
            },
            "type": "scatterpolargl"
           }
          ],
          "scatterternary": [
           {
            "marker": {
             "colorbar": {
              "outlinewidth": 0,
              "ticks": ""
             }
            },
            "type": "scatterternary"
           }
          ],
          "surface": [
           {
            "colorbar": {
             "outlinewidth": 0,
             "ticks": ""
            },
            "colorscale": [
             [
              0,
              "#0d0887"
             ],
             [
              0.1111111111111111,
              "#46039f"
             ],
             [
              0.2222222222222222,
              "#7201a8"
             ],
             [
              0.3333333333333333,
              "#9c179e"
             ],
             [
              0.4444444444444444,
              "#bd3786"
             ],
             [
              0.5555555555555556,
              "#d8576b"
             ],
             [
              0.6666666666666666,
              "#ed7953"
             ],
             [
              0.7777777777777778,
              "#fb9f3a"
             ],
             [
              0.8888888888888888,
              "#fdca26"
             ],
             [
              1,
              "#f0f921"
             ]
            ],
            "type": "surface"
           }
          ],
          "table": [
           {
            "cells": {
             "fill": {
              "color": "#EBF0F8"
             },
             "line": {
              "color": "white"
             }
            },
            "header": {
             "fill": {
              "color": "#C8D4E3"
             },
             "line": {
              "color": "white"
             }
            },
            "type": "table"
           }
          ]
         },
         "layout": {
          "annotationdefaults": {
           "arrowcolor": "#2a3f5f",
           "arrowhead": 0,
           "arrowwidth": 1
          },
          "autotypenumbers": "strict",
          "coloraxis": {
           "colorbar": {
            "outlinewidth": 0,
            "ticks": ""
           }
          },
          "colorscale": {
           "diverging": [
            [
             0,
             "#8e0152"
            ],
            [
             0.1,
             "#c51b7d"
            ],
            [
             0.2,
             "#de77ae"
            ],
            [
             0.3,
             "#f1b6da"
            ],
            [
             0.4,
             "#fde0ef"
            ],
            [
             0.5,
             "#f7f7f7"
            ],
            [
             0.6,
             "#e6f5d0"
            ],
            [
             0.7,
             "#b8e186"
            ],
            [
             0.8,
             "#7fbc41"
            ],
            [
             0.9,
             "#4d9221"
            ],
            [
             1,
             "#276419"
            ]
           ],
           "sequential": [
            [
             0,
             "#0d0887"
            ],
            [
             0.1111111111111111,
             "#46039f"
            ],
            [
             0.2222222222222222,
             "#7201a8"
            ],
            [
             0.3333333333333333,
             "#9c179e"
            ],
            [
             0.4444444444444444,
             "#bd3786"
            ],
            [
             0.5555555555555556,
             "#d8576b"
            ],
            [
             0.6666666666666666,
             "#ed7953"
            ],
            [
             0.7777777777777778,
             "#fb9f3a"
            ],
            [
             0.8888888888888888,
             "#fdca26"
            ],
            [
             1,
             "#f0f921"
            ]
           ],
           "sequentialminus": [
            [
             0,
             "#0d0887"
            ],
            [
             0.1111111111111111,
             "#46039f"
            ],
            [
             0.2222222222222222,
             "#7201a8"
            ],
            [
             0.3333333333333333,
             "#9c179e"
            ],
            [
             0.4444444444444444,
             "#bd3786"
            ],
            [
             0.5555555555555556,
             "#d8576b"
            ],
            [
             0.6666666666666666,
             "#ed7953"
            ],
            [
             0.7777777777777778,
             "#fb9f3a"
            ],
            [
             0.8888888888888888,
             "#fdca26"
            ],
            [
             1,
             "#f0f921"
            ]
           ]
          },
          "colorway": [
           "#636efa",
           "#EF553B",
           "#00cc96",
           "#ab63fa",
           "#FFA15A",
           "#19d3f3",
           "#FF6692",
           "#B6E880",
           "#FF97FF",
           "#FECB52"
          ],
          "font": {
           "color": "#2a3f5f"
          },
          "geo": {
           "bgcolor": "white",
           "lakecolor": "white",
           "landcolor": "#E5ECF6",
           "showlakes": true,
           "showland": true,
           "subunitcolor": "white"
          },
          "hoverlabel": {
           "align": "left"
          },
          "hovermode": "closest",
          "mapbox": {
           "style": "light"
          },
          "paper_bgcolor": "white",
          "plot_bgcolor": "#E5ECF6",
          "polar": {
           "angularaxis": {
            "gridcolor": "white",
            "linecolor": "white",
            "ticks": ""
           },
           "bgcolor": "#E5ECF6",
           "radialaxis": {
            "gridcolor": "white",
            "linecolor": "white",
            "ticks": ""
           }
          },
          "scene": {
           "xaxis": {
            "backgroundcolor": "#E5ECF6",
            "gridcolor": "white",
            "gridwidth": 2,
            "linecolor": "white",
            "showbackground": true,
            "ticks": "",
            "zerolinecolor": "white"
           },
           "yaxis": {
            "backgroundcolor": "#E5ECF6",
            "gridcolor": "white",
            "gridwidth": 2,
            "linecolor": "white",
            "showbackground": true,
            "ticks": "",
            "zerolinecolor": "white"
           },
           "zaxis": {
            "backgroundcolor": "#E5ECF6",
            "gridcolor": "white",
            "gridwidth": 2,
            "linecolor": "white",
            "showbackground": true,
            "ticks": "",
            "zerolinecolor": "white"
           }
          },
          "shapedefaults": {
           "line": {
            "color": "#2a3f5f"
           }
          },
          "ternary": {
           "aaxis": {
            "gridcolor": "white",
            "linecolor": "white",
            "ticks": ""
           },
           "baxis": {
            "gridcolor": "white",
            "linecolor": "white",
            "ticks": ""
           },
           "bgcolor": "#E5ECF6",
           "caxis": {
            "gridcolor": "white",
            "linecolor": "white",
            "ticks": ""
           }
          },
          "title": {
           "x": 0.05
          },
          "xaxis": {
           "automargin": true,
           "gridcolor": "white",
           "linecolor": "white",
           "ticks": "",
           "title": {
            "standoff": 15
           },
           "zerolinecolor": "white",
           "zerolinewidth": 2
          },
          "yaxis": {
           "automargin": true,
           "gridcolor": "white",
           "linecolor": "white",
           "ticks": "",
           "title": {
            "standoff": 15
           },
           "zerolinecolor": "white",
           "zerolinewidth": 2
          }
         }
        },
        "xaxis": {
         "anchor": "y2",
         "domain": [
          0,
          1
         ],
         "zeroline": false
        },
        "yaxis": {
         "anchor": "free",
         "domain": [
          0.35,
          1
         ],
         "position": 0
        },
        "yaxis2": {
         "anchor": "x",
         "domain": [
          0,
          0.25
         ],
         "dtick": 1,
         "showticklabels": false
        }
       }
      },
      "text/html": [
       "<div>                            <div id=\"68d97888-67c7-44e3-80ab-b6ac579d7043\" class=\"plotly-graph-div\" style=\"height:525px; width:100%;\"></div>            <script type=\"text/javascript\">                require([\"plotly\"], function(Plotly) {                    window.PLOTLYENV=window.PLOTLYENV || {};                                    if (document.getElementById(\"68d97888-67c7-44e3-80ab-b6ac579d7043\")) {                    Plotly.newPlot(                        \"68d97888-67c7-44e3-80ab-b6ac579d7043\",                        [{\"autobinx\": false, \"histnorm\": \"probability density\", \"legendgroup\": \"train mpg\", \"marker\": {\"color\": \"rgb(31, 119, 180)\"}, \"name\": \"train mpg\", \"opacity\": 0.7, \"type\": \"histogram\", \"x\": [26.0, 36.0, 28.0, 14.0, 30.0, 14.0, 29.0, 13.0, 14.0, 14.0, 17.0, 30.0, 23.0, 21.0, 46.6, 32.0, 21.0, 17.0, 10.0, 24.0, 26.0, 38.0, 14.0, 16.5, 31.9, 39.4, 29.9, 15.0, 12.0, 29.8, 13.0, 29.0, 24.0, 36.1, 26.6, 26.0, 32.3, 27.2, 20.6, 25.0, 24.0, 19.0, 29.0, 28.4, 24.0, 15.0, 32.7, 34.1, 29.0, 14.0, 31.0, 35.0, 18.0, 24.5, 27.0, 38.0, 12.0, 20.0, 26.0, 12.0, 13.0, 20.0, 29.0, 21.0, 13.0, 16.0, 44.3, 27.2, 28.0, 23.0, 31.0, 31.5, 16.0, 13.0, 25.0, 16.0, 13.0, 15.5, 23.0, 28.1, 36.1, 19.0, 37.0, 34.0, 24.0, 34.0, 21.0, 33.8, 19.2, 11.0, 11.0, 13.0, 26.0, 34.3, 14.5, 18.0, 29.0, 32.0, 19.0, 23.9, 14.0, 19.0, 22.0, 25.0, 19.0, 15.0, 17.5, 19.0, 40.8, 24.3, 17.5, 11.0, 19.0, 16.0, 32.0, 21.1, 20.0, 21.0, 38.0, 23.0, 28.0, 33.0, 31.0, 24.0, 27.0, 15.5, 32.2, 36.0, 14.0, 14.0, 29.5, 14.0, 23.6, 33.0, 20.2, 21.0, 19.0, 25.0, 21.6, 26.8, 30.0, 24.0, 18.0, 22.0, 16.0, 25.8, 29.0, 25.0, 13.0, 39.0, 18.0, 17.7, 30.7, 20.5, 25.0, 13.0, 15.0, 34.2, 14.0, 21.5, 15.0, 22.0, 23.0, 27.5, 25.0, 28.0, 13.0, 29.0, 20.0, 19.1, 27.0, 12.0, 33.7, 30.0, 30.0, 16.0, 19.2, 38.1, 22.0, 18.0, 30.5, 12.0, 26.0, 25.5, 13.0, 29.8, 20.0, 14.0, 24.0, 15.0, 20.0, 32.0, 20.3, 31.0, 14.0, 37.7, 31.0, 18.0, 15.0, 24.0, 20.0, 15.0, 12.0, 17.6, 17.5, 13.0, 17.0, 20.2, 40.9, 26.0, 17.5, 15.0, 28.0, 19.0, 15.0, 22.0, 34.4, 17.0, 22.5, 36.0, 22.3, 23.5, 33.0, 33.5, 27.0, 13.0, 18.1, 31.6, 20.2, 34.5, 15.5, 18.5, 13.0, 30.5, 19.4, 18.2, 27.0, 22.0, 20.0, 17.6, 13.0, 14.0, 18.0, 25.4, 25.0, 16.0, 27.0, 32.0, 30.0, 16.5, 32.0, 30.0, 16.9, 32.4, 14.0, 22.0, 34.7, 19.0, 21.5, 15.0, 18.1, 44.6, 16.0, 22.0, 16.0, 16.5, 32.1, 31.8, 11.0, 24.0, 43.4, 28.0, 15.0, 27.0, 18.0, 34.5, 18.0, 15.0, 23.0, 22.4, 25.0, 28.0, 30.9, 20.6, 33.5, 26.0, 27.0, 33.5, 34.1, 19.9, 36.0, 21.0, 31.3, 20.0, 13.0, 13.0, 18.0, 27.2, 31.0, 28.0, 36.0, 18.0, 17.0, 17.0, 13.0, 9.0, 15.0, 10.0, 24.5, 25.4, 14.0, 27.9, 18.0, 23.7, 23.0, 38.0, 13.0, 18.6, 32.4, 35.0, 14.0, 20.5, 36.0, 21.0, 26.0, 16.0, 26.0, 13.0, 43.1, 37.3, 35.1, 31.0, 14.0, 18.5, 17.0, 26.0, 22.0, 32.9, 29.5, 25.0, 23.2, 26.0, 26.5, 37.0, 41.5, 18.0, 16.0, 18.5, 19.4, 25.1, 16.0, 20.8, 27.4, 44.0, 20.5, 35.7, 26.0, 23.0], \"xaxis\": \"x\", \"xbins\": {\"end\": 46.6, \"size\": 1.0, \"start\": 9.0}, \"yaxis\": \"y\"}, {\"autobinx\": false, \"histnorm\": \"probability density\", \"legendgroup\": \"test mpg\", \"marker\": {\"color\": \"rgb(255, 127, 14)\"}, \"name\": \"test mpg\", \"opacity\": 0.7, \"type\": \"histogram\", \"x\": [16.0, 20.2, 17.5, 16.2, 15.0, 26.4, 25.5, 19.0, 37.2, 28.8, 21.5, 18.0, 18.0, 18.0, 27.0, 23.9, 19.8, 19.2, 26.0, 37.0, 31.5, 23.0, 18.0, 39.1, 24.2, 36.4, 23.0, 28.0, 32.8, 25.0, 15.0, 15.5, 28.0, 14.0, 22.0, 26.6, 23.8, 24.0, 19.0, 15.5], \"xaxis\": \"x\", \"xbins\": {\"end\": 39.1, \"size\": 1.0, \"start\": 14.0}, \"yaxis\": \"y\"}, {\"legendgroup\": \"train mpg\", \"marker\": {\"color\": \"rgb(31, 119, 180)\"}, \"mode\": \"lines\", \"name\": \"train mpg\", \"showlegend\": false, \"type\": \"scatter\", \"x\": [9.0, 9.0752, 9.1504, 9.2256, 9.3008, 9.376, 9.4512, 9.5264, 9.6016, 9.6768, 9.752, 9.8272, 9.9024, 9.9776, 10.0528, 10.128, 10.2032, 10.2784, 10.3536, 10.428799999999999, 10.504, 10.5792, 10.6544, 10.7296, 10.8048, 10.879999999999999, 10.9552, 11.0304, 11.105599999999999, 11.1808, 11.256, 11.3312, 11.4064, 11.4816, 11.556799999999999, 11.632, 11.7072, 11.782399999999999, 11.8576, 11.9328, 12.008, 12.0832, 12.1584, 12.2336, 12.3088, 12.384, 12.4592, 12.5344, 12.6096, 12.6848, 12.76, 12.8352, 12.9104, 12.9856, 13.0608, 13.136, 13.2112, 13.2864, 13.3616, 13.4368, 13.512, 13.5872, 13.662400000000002, 13.7376, 13.8128, 13.888, 13.9632, 14.0384, 14.1136, 14.1888, 14.264, 14.3392, 14.4144, 14.4896, 14.5648, 14.64, 14.7152, 14.790400000000002, 14.8656, 14.9408, 15.016, 15.0912, 15.1664, 15.2416, 15.3168, 15.392, 15.4672, 15.5424, 15.6176, 15.6928, 15.768, 15.8432, 15.9184, 15.9936, 16.0688, 16.144, 16.2192, 16.2944, 16.3696, 16.4448, 16.52, 16.595200000000002, 16.6704, 16.7456, 16.8208, 16.896, 16.9712, 17.0464, 17.1216, 17.196800000000003, 17.272, 17.3472, 17.4224, 17.4976, 17.5728, 17.648, 17.7232, 17.7984, 17.8736, 17.9488, 18.024, 18.099200000000003, 18.1744, 18.2496, 18.324800000000003, 18.4, 18.4752, 18.5504, 18.6256, 18.7008, 18.776, 18.8512, 18.9264, 19.0016, 19.0768, 19.152, 19.2272, 19.3024, 19.3776, 19.452800000000003, 19.528, 19.6032, 19.6784, 19.7536, 19.8288, 19.904, 19.9792, 20.0544, 20.1296, 20.2048, 20.28, 20.3552, 20.4304, 20.5056, 20.580800000000004, 20.656, 20.7312, 20.8064, 20.8816, 20.9568, 21.032, 21.1072, 21.1824, 21.2576, 21.3328, 21.408, 21.4832, 21.5584, 21.6336, 21.708800000000004, 21.784, 21.8592, 21.9344, 22.0096, 22.0848, 22.16, 22.2352, 22.3104, 22.3856, 22.4608, 22.536, 22.6112, 22.6864, 22.7616, 22.8368, 22.912, 22.9872, 23.0624, 23.1376, 23.2128, 23.288, 23.3632, 23.4384, 23.5136, 23.5888, 23.664, 23.7392, 23.8144, 23.8896, 23.9648, 24.04, 24.1152, 24.190400000000004, 24.2656, 24.3408, 24.416, 24.4912, 24.5664, 24.6416, 24.7168, 24.792, 24.8672, 24.9424, 25.0176, 25.0928, 25.168, 25.2432, 25.3184, 25.393600000000003, 25.468799999999998, 25.544, 25.6192, 25.6944, 25.7696, 25.8448, 25.92, 25.9952, 26.070400000000003, 26.1456, 26.2208, 26.296, 26.3712, 26.4464, 26.521600000000003, 26.596799999999998, 26.672, 26.7472, 26.822400000000002, 26.8976, 26.9728, 27.048, 27.1232, 27.198400000000003, 27.273600000000002, 27.3488, 27.424, 27.499200000000002, 27.5744, 27.649600000000003, 27.7248, 27.8, 27.8752, 27.950400000000002, 28.0256, 28.1008, 28.176, 28.2512, 28.326400000000003, 28.401600000000002, 28.4768, 28.552, 28.627200000000002, 28.7024, 28.777600000000003, 28.8528, 28.928, 29.0032, 29.078400000000002, 29.1536, 29.2288, 29.304, 29.3792, 29.4544, 29.529600000000002, 29.6048, 29.68, 29.755200000000002, 29.8304, 29.905600000000003, 29.9808, 30.056, 30.1312, 30.206400000000002, 30.2816, 30.3568, 30.432, 30.5072, 30.5824, 30.657600000000002, 30.7328, 30.808, 30.883200000000002, 30.9584, 31.033600000000003, 31.1088, 31.184, 31.2592, 31.334400000000002, 31.4096, 31.4848, 31.56, 31.6352, 31.7104, 31.785600000000002, 31.860799999999998, 31.936, 32.0112, 32.0864, 32.16160000000001, 32.2368, 32.312, 32.3872, 32.4624, 32.5376, 32.6128, 32.688, 32.7632, 32.8384, 32.9136, 32.9888, 33.064, 33.1392, 33.2144, 33.28960000000001, 33.3648, 33.44, 33.5152, 33.5904, 33.6656, 33.7408, 33.816, 33.8912, 33.9664, 34.0416, 34.1168, 34.192, 34.2672, 34.3424, 34.41760000000001, 34.4928, 34.568, 34.6432, 34.7184, 34.7936, 34.8688, 34.944, 35.0192, 35.0944, 35.1696, 35.2448, 35.32, 35.3952, 35.4704, 35.54560000000001, 35.6208, 35.696, 35.7712, 35.8464, 35.9216, 35.9968, 36.072, 36.1472, 36.2224, 36.2976, 36.3728, 36.448, 36.5232, 36.5984, 36.6736, 36.7488, 36.824, 36.8992, 36.9744, 37.0496, 37.1248, 37.2, 37.2752, 37.3504, 37.4256, 37.5008, 37.576, 37.6512, 37.7264, 37.8016, 37.8768, 37.952, 38.0272, 38.1024, 38.1776, 38.25280000000001, 38.328, 38.4032, 38.4784, 38.5536, 38.6288, 38.704, 38.7792, 38.8544, 38.9296, 39.0048, 39.08, 39.1552, 39.2304, 39.3056, 39.38080000000001, 39.456, 39.5312, 39.6064, 39.6816, 39.7568, 39.832, 39.9072, 39.9824, 40.0576, 40.1328, 40.208, 40.2832, 40.3584, 40.4336, 40.50880000000001, 40.584, 40.6592, 40.7344, 40.8096, 40.8848, 40.96, 41.0352, 41.1104, 41.1856, 41.2608, 41.336, 41.4112, 41.4864, 41.561600000000006, 41.6368, 41.712, 41.787200000000006, 41.8624, 41.937599999999996, 42.012800000000006, 42.088, 42.1632, 42.2384, 42.3136, 42.3888, 42.464, 42.5392, 42.6144, 42.6896, 42.7648, 42.84, 42.915200000000006, 42.9904, 43.065599999999996, 43.140800000000006, 43.216, 43.2912, 43.3664, 43.4416, 43.5168, 43.592, 43.6672, 43.7424, 43.8176, 43.8928, 43.968, 44.043200000000006, 44.1184, 44.193599999999996, 44.268800000000006, 44.344, 44.419200000000004, 44.4944, 44.5696, 44.644800000000004, 44.72, 44.7952, 44.870400000000004, 44.9456, 45.0208, 45.096, 45.171200000000006, 45.2464, 45.3216, 45.396800000000006, 45.472, 45.547200000000004, 45.6224, 45.6976, 45.772800000000004, 45.848, 45.9232, 45.998400000000004, 46.0736, 46.1488, 46.224, 46.299200000000006, 46.3744, 46.4496, 46.524800000000006], \"xaxis\": \"x\", \"y\": [0.007833858316137593, 0.00815682456556384, 0.008488699961152646, 0.008829492731440129, 0.009179196748171865, 0.009537790977452823, 0.009905238959436815, 0.010281488320338126, 0.010666470320557599, 0.011060099442698142, 0.011462273023200962, 0.011872870931261792, 0.012291755298586228, 0.012718770303411495, 0.013153742012063943, 0.013596478281129115, 0.014046768723091806, 0.014504384738054115, 0.014969079613858996, 0.015440588696641092, 0.015918629633493164, 0.016402902688575152, 0.016893091133613924, 0.01738886171333447, 0.017889865185943054, 0.01839573693834222, 0.018906097675305576, 0.01942055418137704, 0.019938700153788937, 0.02046011710421981, 0.02098437532673869, 0.021511034928812307, 0.022039646921789995, 0.022569754366828114, 0.02310089357178189, 0.023632595334173733, 0.024164386224954742, 0.024695789907408075, 0.025226328485205736, 0.025755523873327753, 0.026282899185284696, 0.02680798012985997, 0.027330296410401137, 0.02784938311955234, 0.028364782122226297, 0.028876043419570833, 0.029382726486688413, 0.029884401576927632, 0.03038065098566901, 0.030871070266688776, 0.031355269394392406, 0.031832873865470755, 0.03230352573383688, 0.032766884573060054, 0.03322262836090993, 0.03367045428106789, 0.03411007943754268, 0.03454124147784445, 0.034963699121519934, 0.035377232591231995, 0.03578164394416258, 0.036176757302145625, 0.03656241897956757, 0.03693849750872028, 0.03730488356294481, 0.03766148977854975, 0.038008250477139426, 0.03834512129062036, 0.0386720786917737, 0.03898911943388534, 0.03929625990350009, 0.039593535390911316, 0.03988099928351587, 0.040158722187635644, 0.04042679098484523, 0.040685307829235656, 0.040934389092387516, 0.04117416426312084, 0.04140477480933154, 0.04162637300941211, 0.04183912076088873, 0.0420431883739834, 0.042238753357834585, 0.04242599920707384, 0.04260511419636895, 0.0427762901904013, 0.04293972147655054, 0.04309560362731436, 0.04324413239919785, 0.04338550267446782, 0.043519907451787236, 0.04364753689132409, 0.043768577419474416, 0.043883210897851924, 0.04399161386068379, 0.0440939568242133, 0.04419040367115777, 0.04428111111269647, 0.04436622822988813, 0.04444589609583127, 0.044520247479294776, 0.04458940662996856, 0.04465348914490989, 0.04471260191519795, 0.04476684315127171, 0.044816302484894856, 0.044861061145198715, 0.044901192205774265, 0.044936760899346534, 0.04496782499615032, 0.044994435241752555, 0.04501663584972628, 0.045034465044283295, 0.04504795564770932, 0.04505713570723011, 0.04506202915575604, 0.04506265650082063, 0.04505903553593045, 0.04505118206849872, 0.04503911065851634, 0.04502283536214876, 0.04500237047451392, 0.044977731265999764, 0.04494893470662385, 0.0449160001731111, 0.044878950133572, 0.04483781080490132, 0.04479261277827908, 0.044743391608445975, 0.04469018836273174, 0.04463305012614987, 0.044572030459212826, 0.04450718980548786, 0.04443859584628155, 0.044366323800223165, 0.0442904566659071, 0.04421108540613801, 0.04412830907272343, 0.044042234871140166, 0.04395297816479494, 0.04386066241897566, 0.043765419084967006, 0.04366738742516558, 0.04356671428038278, 0.04346355378086244, 0.04335806700286465, 0.043250421572975, 0.043140791222590034, 0.0430293552952998, 0.04291629821014448, 0.04280180888394954, 0.042686080116160034, 0.0425693079397804, 0.04245169094219411, 0.042333429559782934, 0.0422147253503868, 0.04209578024774243, 0.0419767958021169, 0.04185797241140287, 0.04173950854697169, 0.04162159997858927, 0.0415044390026817, 0.04138821367820109, 0.04127310707428336, 0.041159296533807926, 0.04104695295687085, 0.04093624010806025, 0.04082731395128457, 0.04072032201574801, 0.040615402796488634, 0.040512685192708515, 0.04041228798691445, 0.04031431936766851, 0.040218876498513356, 0.040126045135391364, 0.04003589929461756, 0.03994850097320212, 0.03986389992304067, 0.03978213348020955, 0.039703226450315994, 0.039627191050559125, 0.03955402690886442, 0.03948372112015882, 0.039416248359553235, 0.03935157105191001, 0.039289639596977434, 0.03923039264898735, 0.039173757449330195, 0.03911965021064799, 0.03906797655042046, 0.03901863197186436, 0.03897150238972067, 0.03892646469827548, 0.03888338737874081, 0.03884213114292044, 0.038802549609900455, 0.0387644900123309, 0.03872779392872017, 0.03869229803802589, 0.03865783489271615, 0.03862423370638228, 0.03859132115191132, 0.038558922166177706, 0.03852686075718285, 0.038494960809565014, 0.0384630468844159, 0.03843094500937705, 0.03839848345504526, 0.03836549349379797, 0.038331810137246784, 0.0382972728486494, 0.03826172622675001, 0.03822502065767756, 0.03818701293170869, 0.03814756682189645, 0.038106553621779324, 0.03806385263960815, 0.038019351646771136, 0.03797294727834971, 0.03792454538399986, 0.03787406132763144, 0.03782142023463623, 0.03776655718570489, 0.037709417356570706, 0.03764995610330911, 0.03758813899312582, 0.037523941780863636, 0.03745735033175501, 0.03738836049124215, 0.03731697790297451, 0.03724321777637729, 0.03716710460545569, 0.03708867184076412, 0.03700796151672402, 0.036925023836708586, 0.03683991671853943, 0.03675270530324884, 0.036663461430151326, 0.036572263081440654, 0.03647919379968426, 0.036384342081717494, 0.03628780075255319, 0.036189666323011814, 0.036090038334846426, 0.035989018697178396, 0.03588671101808494, 0.03578321993517598, 0.03567865044897323, 0.035573107262857624, 0.03546669413327897, 0.035359513233831706, 0.035251664536682784, 0.035143245214706784, 0.03503434906752435, 0.03492506597446977, 0.034815481377319955, 0.034705675795410264, 0.03459572437554062, 0.034485696478838264, 0.0343756553064976, 0.03426565756605919, 0.03415575317962281, 0.03404598503512236, 0.033936388781507135, 0.03382699266840023, 0.033717817430522865, 0.03360887621689517, 0.03350017456454911, 0.03339171041621791, 0.03328347418120491, 0.033175448838378224, 0.03306761007999482, 0.032959926494822905, 0.03285235978881614, 0.03274486504138562, 0.03263739099512965, 0.032529880376710126, 0.032422270246412074, 0.032314492373789326, 0.03220647363668535, 0.03209813644082664, 0.03198939915711178, 0.031880176573668574, 0.03177038035972143, 0.03165991953829957, 0.03154870096482966, 0.0314366298086857, 0.03132361003481882, 0.03120954488266046, 0.03109433733957721, 0.030977890606260952, 0.030860108551555746, 0.030740896154358318, 0.03062015993037559, 0.03049780834168101, 0.030373752187181566, 0.030247904972285914, 0.030120183256247095, 0.029990506975847375, 0.029858799744285566, 0.029724989124326594, 0.0295890068749689, 0.02945078917108839, 0.029310276795706323, 0.029167415304728262, 0.029022155164184178, 0.028874451860182126, 0.02872426598196271, 0.02857156327860772, 0.028416314690109575, 0.028258496353657715, 0.028098089586130102, 0.027935080843902373, 0.02776946166119626, 0.02760122856828861, 0.027430382990986216, 0.027256931132842156, 0.027080883841649167, 0.026902256461790848, 0.02672106867406079, 0.02653734432458176, 0.026351111244461444, 0.026162401061816946, 0.02597124900778129, 0.025777693718079458, 0.025581777031719644, 0.02538354378830011, 0.02518304162537262, 0.02498032077723915, 0.0247754338764844, 0.024568435759469775, 0.024359383276925897, 0.02414833511069378, 0.023935351597569807, 0.02372049456111113, 0.023503827152160758, 0.023285413698748487, 0.023065319565922573, 0.022843611025964106, 0.0226203551393358, 0.022395619646612946, 0.022169472871550033, 0.021941983635335987, 0.021713221181999625, 0.021483255114835165, 0.021252155343633287, 0.021019992042418133, 0.020786835617314453, 0.020552756684095643, 0.02031782605489621, 0.02008211473350659, 0.019845693918616056, 0.019608635014312217, 0.01937100964710481, 0.01913288968869788, 0.01889434728370265, 0.01865545488145474, 0.01841628527107715, 0.01817691161891483, 0.01793740750745591, 0.017697846974852195, 0.017458304554150643, 0.017218855311357598, 0.01697957488146919, 0.016740539501619862, 0.016501826040526225, 0.016263512023430893, 0.016025675651787166, 0.015788395816962283, 0.015551752107283105, 0.015315824807793275, 0.015080694892145675, 0.01484644400610822, 0.014613154442220545, 0.014380909105202696, 0.014149791467781168, 0.013919885516666168, 0.013691275688483594, 0.0134640467955375, 0.013238283941350518, 0.01301407242600476, 0.012791497641379193, 0.012570644956453823, 0.012351599592924385, 0.012134446491444984, 0.011919270168885781, 0.011706154567064243, 0.011495182893474197, 0.011286437454602448, 0.011079999482483054, 0.010875948955198864, 0.01067436441209173, 0.010475322764494189, 0.010278899102839814, 0.010085166501049148, 0.009894195819123545, 0.00970605550490915, 0.009520811396016148, 0.00933852652289709, 0.009159260914101032, 0.008983071404724895, 0.00881001144908523, 0.008640130938627318, 0.008473476026076133, 0.008310088956817402, 0.008150007908472473, 0.007993266839602234, 0.00783989534844095, 0.007689918542521144, 0.007543356920005785, 0.007400226263495502, 0.0072605375470242125, 0.0071242968568992066, 0.006991505326980254, 0.006862159088927796, 0.006736249237881961, 0.006613761813964512, 0.00649467779992285, 0.006378973135160865, 0.006266618746325571, 0.006157580594542118, 0.006051819739311044, 0.0059492924190052985, 0.005849950147825808, 0.005753739828997578, 0.005660603883911778, 0.00557048039684447, 0.005483303274808492, 0.005399002422023599, 0.005317503928420568, 0.0052387302715276, 0.005162600531023462, 0.005089030615180836, 0.005017933498365495, 0.004949219468703062, 0.00488279638497522, 0.004818569941761304, 0.0047564439417996885, 0.004696320574506791, 0.00463810069955949, 0.00458168413441977, 0.0045269699446586565, 0.0044738567359203785, 0.0044222429463563395, 0.004372027138353752, 0.004323108288383536, 0.004275386073798821, 0.004228761155426908, 0.004183135454815445, 0.0041384124250170035, 0.0040944973138256026, 0.00405129741841345, 0.004008722330356642, 0.003966684170084411, 0.003925097809837329, 0.003883881084275957, 0.0038429549879417167, 0.003802243858837283, 0.0037616755474621406, 0.0037211815707122848, 0.0036806972501286193, 0.003640161834057516, 0.003599518603368395, 0.003558714960455857, 0.003517702501338699, 0.0034764370707532476, 0.0034348788002239324, 0.003392992129179586, 0.0033507458092681118, 0.00330811289210557, 0.003265070700776797, 0.0032216007854831605, 0.003177688863809344, 0.003133324746152536, 0.0030885022469262845, 0.003043219082214641, 0.00299747675461132, 0.0029512804260325275, 0.0029046387793399643, 0.002857563869653155, 0.0028100709662665594, 0.0027621783861167255, 0.0027139073197689455, 0.002665281650909533, 0.002616327770341171, 0.0025670743854828925, 0.0025175523263742026, 0.002467794349175029, 0.0024178349381386633, 0.002367710107015234, 0.002317457200817625, 0.002267114698851379, 0.0022167220198748166, 0.002166319330215692, 0.0021159473556272537, 0.002065647197619334, 0.002015460154949708, 0.0019654275509084366, 0.0019155905669725947, 0.0018659900833527799], \"yaxis\": \"y\"}, {\"legendgroup\": \"test mpg\", \"marker\": {\"color\": \"rgb(255, 127, 14)\"}, \"mode\": \"lines\", \"name\": \"test mpg\", \"showlegend\": false, \"type\": \"scatter\", \"x\": [14.0, 14.0502, 14.1004, 14.1506, 14.2008, 14.251, 14.3012, 14.3514, 14.4016, 14.4518, 14.502, 14.5522, 14.6024, 14.6526, 14.7028, 14.753, 14.8032, 14.8534, 14.9036, 14.9538, 15.004, 15.0542, 15.1044, 15.1546, 15.2048, 15.254999999999999, 15.3052, 15.3554, 15.4056, 15.4558, 15.506, 15.5562, 15.6064, 15.656600000000001, 15.7068, 15.757, 15.8072, 15.8574, 15.9076, 15.9578, 16.008, 16.0582, 16.1084, 16.1586, 16.2088, 16.259, 16.3092, 16.3594, 16.4096, 16.4598, 16.509999999999998, 16.560200000000002, 16.6104, 16.660600000000002, 16.7108, 16.761, 16.8112, 16.8614, 16.9116, 16.9618, 17.012, 17.0622, 17.1124, 17.1626, 17.2128, 17.262999999999998, 17.313200000000002, 17.3634, 17.4136, 17.4638, 17.514, 17.5642, 17.6144, 17.6646, 17.7148, 17.765, 17.8152, 17.8654, 17.9156, 17.9658, 18.016, 18.066200000000002, 18.1164, 18.166600000000003, 18.2168, 18.267, 18.3172, 18.3674, 18.4176, 18.4678, 18.518, 18.5682, 18.6184, 18.6686, 18.7188, 18.769, 18.819200000000002, 18.8694, 18.9196, 18.9698, 19.02, 19.0702, 19.1204, 19.1706, 19.2208, 19.271, 19.3212, 19.3714, 19.4216, 19.4718, 19.522, 19.572200000000002, 19.6224, 19.6726, 19.7228, 19.773, 19.8232, 19.8734, 19.9236, 19.9738, 20.024, 20.0742, 20.1244, 20.1746, 20.224800000000002, 20.275, 20.325200000000002, 20.3754, 20.4256, 20.4758, 20.526, 20.5762, 20.6264, 20.6766, 20.7268, 20.777, 20.8272, 20.8774, 20.927599999999998, 20.977800000000002, 21.028, 21.078200000000002, 21.1284, 21.1786, 21.2288, 21.279, 21.3292, 21.3794, 21.4296, 21.4798, 21.53, 21.5802, 21.6304, 21.6806, 21.730800000000002, 21.781, 21.831200000000003, 21.8814, 21.9316, 21.9818, 22.032, 22.0822, 22.1324, 22.1826, 22.2328, 22.283, 22.3332, 22.3834, 22.4336, 22.483800000000002, 22.534, 22.584200000000003, 22.6344, 22.6846, 22.7348, 22.785, 22.8352, 22.885399999999997, 22.9356, 22.9858, 23.036, 23.0862, 23.136400000000002, 23.1866, 23.236800000000002, 23.287, 23.337200000000003, 23.3874, 23.4376, 23.4878, 23.538, 23.5882, 23.6384, 23.6886, 23.7388, 23.789, 23.839199999999998, 23.889400000000002, 23.9396, 23.989800000000002, 24.04, 24.090200000000003, 24.1404, 24.1906, 24.2408, 24.291, 24.3412, 24.3914, 24.4416, 24.4918, 24.542, 24.5922, 24.642400000000002, 24.6926, 24.742800000000003, 24.793, 24.843200000000003, 24.8934, 24.9436, 24.9938, 25.044, 25.0942, 25.1444, 25.1946, 25.2448, 25.295, 25.3452, 25.395400000000002, 25.4456, 25.495800000000003, 25.546, 25.596200000000003, 25.6464, 25.6966, 25.7468, 25.797, 25.8472, 25.8974, 25.9476, 25.9978, 26.048000000000002, 26.0982, 26.148400000000002, 26.1986, 26.248800000000003, 26.299, 26.349200000000003, 26.3994, 26.4496, 26.4998, 26.55, 26.6002, 26.6504, 26.7006, 26.7508, 26.801000000000002, 26.8512, 26.901400000000002, 26.9516, 27.001800000000003, 27.052, 27.1022, 27.1524, 27.2026, 27.2528, 27.303, 27.3532, 27.4034, 27.4536, 27.503800000000002, 27.554000000000002, 27.6042, 27.654400000000003, 27.7046, 27.754800000000003, 27.805, 27.8552, 27.9054, 27.9556, 28.0058, 28.055999999999997, 28.1062, 28.1564, 28.2066, 28.256800000000002, 28.307000000000002, 28.3572, 28.407400000000003, 28.4576, 28.507800000000003, 28.558, 28.6082, 28.6584, 28.7086, 28.7588, 28.808999999999997, 28.8592, 28.9094, 28.959600000000002, 29.0098, 29.060000000000002, 29.1102, 29.160400000000003, 29.2106, 29.260800000000003, 29.311, 29.3612, 29.4114, 29.4616, 29.5118, 29.561999999999998, 29.6122, 29.6624, 29.712600000000002, 29.7628, 29.813000000000002, 29.8632, 29.913400000000003, 29.9636, 30.0138, 30.064, 30.1142, 30.1644, 30.2146, 30.2648, 30.315, 30.3652, 30.4154, 30.465600000000002, 30.5158, 30.566, 30.6162, 30.666400000000003, 30.716600000000003, 30.7668, 30.817, 30.8672, 30.9174, 30.9676, 31.017799999999998, 31.068, 31.1182, 31.168400000000002, 31.218600000000002, 31.2688, 31.319, 31.3692, 31.419400000000003, 31.469600000000003, 31.5198, 31.57, 31.6202, 31.6704, 31.7206, 31.770799999999998, 31.821, 31.8712, 31.921400000000002, 31.971600000000002, 32.0218, 32.072, 32.1222, 32.1724, 32.2226, 32.272800000000004, 32.323, 32.3732, 32.4234, 32.473600000000005, 32.523799999999994, 32.574, 32.6242, 32.674400000000006, 32.7246, 32.7748, 32.825, 32.8752, 32.925399999999996, 32.9756, 33.025800000000004, 33.076, 33.1262, 33.1764, 33.226600000000005, 33.2768, 33.327, 33.3772, 33.427400000000006, 33.4776, 33.5278, 33.578, 33.6282, 33.678399999999996, 33.7286, 33.778800000000004, 33.829, 33.8792, 33.9294, 33.979600000000005, 34.0298, 34.08, 34.1302, 34.180400000000006, 34.2306, 34.2808, 34.331, 34.3812, 34.4314, 34.4816, 34.531800000000004, 34.582, 34.6322, 34.6824, 34.732600000000005, 34.7828, 34.833, 34.8832, 34.933400000000006, 34.9836, 35.0338, 35.084, 35.1342, 35.1844, 35.2346, 35.284800000000004, 35.335, 35.3852, 35.4354, 35.485600000000005, 35.5358, 35.586, 35.6362, 35.686400000000006, 35.7366, 35.7868, 35.837, 35.8872, 35.9374, 35.9876, 36.037800000000004, 36.088, 36.1382, 36.1884, 36.238600000000005, 36.2888, 36.339, 36.3892, 36.439400000000006, 36.4896, 36.5398, 36.59, 36.6402, 36.6904, 36.7406, 36.790800000000004, 36.841, 36.8912, 36.9414, 36.991600000000005, 37.0418, 37.092, 37.1422, 37.192400000000006, 37.2426, 37.2928, 37.343, 37.3932, 37.4434, 37.4936, 37.543800000000005, 37.594, 37.6442, 37.6944, 37.744600000000005, 37.7948, 37.845, 37.8952, 37.94540000000001, 37.9956, 38.0458, 38.096000000000004, 38.1462, 38.1964, 38.2466, 38.296800000000005, 38.347, 38.3972, 38.4474, 38.497600000000006, 38.5478, 38.598, 38.6482, 38.69840000000001, 38.7486, 38.7988, 38.849000000000004, 38.8992, 38.9494, 38.9996, 39.049800000000005], \"xaxis\": \"x\", \"y\": [0.03140177588551357, 0.03178463542425452, 0.032166913970171455, 0.03254850034426201, 0.03292928332650502, 0.033309151737332544, 0.03368799451952445, 0.034065700820443835, 0.034442160074529944, 0.03481726208596487, 0.03519089711143044, 0.035562955942870116, 0.035933329990171285, 0.03630191136368224, 0.036668592956478965, 0.037033268526295286, 0.03739583277703185, 0.037756181439757334, 0.0381142113531173, 0.03846982054306541, 0.0388229083018319, 0.03917337526604576, 0.039521123493925885, 0.03986605654145907, 0.04020807953748174, 0.04054709925758362, 0.040883024196753416, 0.041215764640685514, 0.04154523273567014, 0.041871342556987996, 0.04219401017573405, 0.04251315372399486, 0.0428286934583051, 0.04314055182131196, 0.043448653501575576, 0.0437529254914368, 0.044053297142884536, 0.04434970022135669, 0.044642068957410894, 0.04493034009620268, 0.04521445294471099, 0.04549434941665302, 0.04576997407503178, 0.04604127417226338, 0.04630819968783157, 0.046570703363420514, 0.046828740735478915, 0.04708227016517078, 0.04733125286567062, 0.04757565292676395, 0.04781543733671592, 0.04805057600137362, 0.04828104176047128, 0.04850681040110884, 0.04872786066837821, 0.04894417427311491, 0.04915573589675361, 0.049362533193272176, 0.04956455678820856, 0.049761800274740906, 0.049954260206821935, 0.050141936089363764, 0.05032483036547105, 0.050502948400724355, 0.05067629846451899, 0.0508448917084673, 0.05100874214187576, 0.051167866604312606, 0.051322284735283476, 0.051472018941037076, 0.051617094358525836, 0.05175753881655043, 0.051893382794119036, 0.052024659376057755, 0.05215140420590994, 0.052273655436167125, 0.05239145367587651, 0.052504841935674236, 0.0526138655702962, 0.052718572218622334, 0.05281901174131277, 0.05291523615609814, 0.053007299570789104, 0.05309525811407384, 0.05317916986417466, 0.05325909477543864, 0.053335094602939934, 0.05340723282517416, 0.05347557456492835, 0.05354018650841292, 0.053601136822744255, 0.05365849507186987, 0.05371233213102979, 0.05376272009985123, 0.05380973221417467, 0.053853442756713346, 0.05389392696664846, 0.05393126094826554, 0.05396552157873939, 0.05399678641517538, 0.05402513360101833, 0.05405064177194037, 0.054073389961320384, 0.054093457505429994, 0.05411092394844105, 0.05412586894737031, 0.05413837217707831, 0.054148513235440204, 0.05415637154880513, 0.05416202627786293, 0.05416555622403547, 0.05416703973651045, 0.054166554620035286, 0.05416417804358722, 0.05415998645003675, 0.05415405546691904, 0.05414645981842772, 0.05413727323874443, 0.05412656838681519, 0.054114416762684366, 0.05410088862549395, 0.054086052913254946, 0.05406997716449507, 0.05405272744188466, 0.05403436825794041, 0.05401496250290434, 0.053994571374891547, 0.053973254312398286, 0.05395106892925892, 0.05392807095213617, 0.053904314160626646, 0.0538798503300595, 0.0538547291770627, 0.05382899830796763, 0.05380270317011871, 0.05377588700615048, 0.05374859081129137, 0.053720853293747685, 0.05369271083821845, 0.05366419747258662, 0.05363534483782713, 0.053606182161169476, 0.05357673623254567, 0.05354703138435125, 0.05351708947454176, 0.053486929873082525, 0.05345656945176435, 0.053426022577393414, 0.053395301108358474, 0.05336441439457386, 0.0533333692807917, 0.05330217011327217, 0.05327081874979584, 0.05323931457299657, 0.053207654506990436, 0.05317583303726945, 0.05314384223382566, 0.0531116717774661, 0.05307930898927435, 0.05304673886317093, 0.05301394410151889, 0.052980905153718734, 0.052947600257730716, 0.05291400548446025, 0.05288009478493668, 0.05284584004021324, 0.052811211113911856, 0.052776175907332364, 0.05274070041704376, 0.05270474879487008, 0.0526682834101823, 0.0526312649144031, 0.05259365230762981, 0.05255540300727758, 0.052516472918642615, 0.05247681650728308, 0.05243638687311317, 0.052395135826103945, 0.05235301396348323, 0.052309970748323865, 0.05226595458941089, 0.05222091292227395, 0.05217479229127291, 0.052127538432622064, 0.05207909635823859, 0.05202941044030011, 0.05197842449639622, 0.05192608187515828, 0.051872325542252476, 0.05181709816662079, 0.051760342206855665, 0.05170199999759381, 0.0516420138358165, 0.05158032606694357, 0.05151687917061037, 0.05145161584601712, 0.05138447909674288, 0.05131541231491642, 0.051244359364639426, 0.05117126466455789, 0.05109607326948059, 0.05101873095094547, 0.050939184276636386, 0.05085738068855556, 0.05077326857985963, 0.050686797370269245, 0.05059791757996522, 0.05050658090188711, 0.05041274027235237, 0.05031634993991795, 0.050217365532408846, 0.050115744122040735, 0.05001144428856823, 0.04990442618039216, 0.04979465157356339, 0.04968208392862411, 0.04956668844522991, 0.04944843211450119, 0.0493272837690533, 0.049203214130661525, 0.04907619585551738, 0.048946203577038286, 0.04881321394619565, 0.04867720566932941, 0.04853815954342147, 0.048396058488803344, 0.04825088757927715, 0.04810263406963263, 0.04795128742054607, 0.04779683932085093, 0.04763928370717304, 0.047478616780926686, 0.04731483702267161, 0.047147945203833745, 0.046977944395796195, 0.04680483997637022, 0.04662863963365907, 0.04644935336732998, 0.046266993487314535, 0.04608157460995826, 0.04589311365164516, 0.045701629819924997, 0.04550714460217344, 0.04530968175181952, 0.045109267272175076, 0.04490592939790643, 0.04469969857418792, 0.04449060743358227, 0.04427869077069219, 0.044063985514633114, 0.04384653069937561, 0.04362636743201124, 0.04340353885899544, 0.04317809013042386, 0.042950068362400305, 0.04271952259755593, 0.04248650376378075, 0.042251064631230704, 0.04201325976767443, 0.0417731454922446, 0.041530779827661526, 0.04128622245099619, 0.04103953464304163, 0.04079077923636247, 0.04054002056209301, 0.040287324395555296, 0.0400327579007684, 0.03977638957392193, 0.03951828918588596, 0.03925852772383007, 0.038997177332025505, 0.03873431125190285, 0.0384700037614386, 0.03820433011394418, 0.03793736647632954, 0.03766918986691474, 0.0373998780928608, 0.037129509687292374, 0.03685816384618249, 0.03658592036507064, 0.036312859575682865, 0.0360390622825235, 0.035764609699505824, 0.03548958338668866, 0.035214065187184514, 0.03493813716430368, 0.03466188153899776, 0.03438538062766423, 0.034108716780372625, 0.03383197231957111, 0.03355522947933139, 0.03327857034518688, 0.033002076794619355, 0.032725830438245306, 0.032449912561753634, 0.03217440406864279, 0.0318993854238043, 0.03162493659799825, 0.03135113701326281, 0.03107806548929935, 0.030805800190872056, 0.03053441857625895, 0.030263997346788807, 0.029994612397497077, 0.029726338768931312, 0.029459250600134497, 0.029193421082832415, 0.02892892241684973, 0.028665825766776593, 0.02840420121990539, 0.02814411774545611, 0.027885643155105427, 0.027628844064833794, 0.027373785858101057, 0.027120532650361642, 0.026869147254925133, 0.02661969115016962, 0.02637222444810974, 0.026126805864322575, 0.02588349268923039, 0.025642340760738937, 0.025403404438227535, 0.02516673657788569, 0.024932388509389242, 0.024700410013907992, 0.024470849303434735, 0.02424375300142411, 0.024019166124729263, 0.023797132066821765, 0.023577692582280187, 0.023360887772530793, 0.023146756072823346, 0.02293533424042369, 0.022726657344004156, 0.022520758754211712, 0.022317670135393708, 0.022117421438459774, 0.021920040894858106, 0.021725555011644315, 0.021533988567619854, 0.021345364610517694, 0.021159704455211984, 0.020977027682928497, 0.0207973521414329, 0.020620693946173736, 0.020447067482356612, 0.020276485407927654, 0.020108958657442663, 0.01994449644680051, 0.01978310627881838, 0.01962479394962781, 0.019469563555870515, 0.019317417502673538, 0.0191683565123843, 0.019022379634046464, 0.018879484253597974, 0.01873966610477447, 0.01860291928070047, 0.018469236246153025, 0.018338607850482566, 0.018211023341176774, 0.018086470378054262, 0.017964935048075514, 0.017846401880759904, 0.017730853864198023, 0.017618272461649986, 0.017508637628720677, 0.017401927831104565, 0.017298120062892938, 0.017197189865437727, 0.0170991113467665, 0.017003857201544893, 0.016911398731582244, 0.016821705866878197, 0.016734747187207865, 0.01665048994424449, 0.016568900084218647, 0.016489942271113674, 0.016413579910398025, 0.01633977517329501, 0.0162684890215911, 0.01619968123298449, 0.016133310426975498, 0.01606933409130094, 0.016007708608914276, 0.015948389285513877, 0.015891330377621516, 0.015836485121212985, 0.015783805760902613, 0.01573324357968343, 0.015684748929224137, 0.0156382712607237, 0.01559375915632384, 0.015551160361079544, 0.01551042181548631, 0.015471489688562962, 0.015434309411487561, 0.015398825711783243, 0.015364982648049995, 0.015332723645237243, 0.015301991530451205, 0.015272728569289804, 0.015244876502696802, 0.015218376584325613, 0.015193169618401942, 0.01516919599807317, 0.015146395744231026, 0.0151247085447927, 0.015104073794424138, 0.015084430634687862, 0.015065717994596132, 0.015047874631548849, 0.01503083917263405, 0.015014550156267403, 0.014998946074145637, 0.014983965413487102, 0.014969546699531664, 0.014955628538270052, 0.01494214965937183, 0.014929048959279457, 0.014916265544434619, 0.014903738774601544, 0.014891408306250829, 0.014879214135965957, 0.01486709664383338, 0.014854996636776098, 0.014842855391789218, 0.014830614699035346, 0.014818216904756315, 0.014805604953957087, 0.014792722432816707, 0.014779513610780606, 0.014765923482287772, 0.014751897808085652, 0.014737383156085552, 0.014722326941710414, 0.014706677467687012, 0.014690383963234148, 0.014673396622598514, 0.014655666642889831, 0.014637146261166994, 0.014617788790727301, 0.014597548656551088, 0.014576381429854532, 0.014554243861704067, 0.01453109391564639, 0.01450689079930893, 0.014481594994926421, 0.014455168288750339, 0.014427573799298888, 0.01439877600440665, 0.014368740767034066, 0.014337435359798456, 0.014304828488189782, 0.014270890312435806, 0.014235592467983194, 0.014198908084562596, 0.014160811803807825, 0.01412127979540111, 0.014080289771718161, 0.014037821000949248, 0.013993854318674372, 0.013948372137872743, 0.013901358457349283, 0.013852798868562869, 0.013802680560843652, 0.013750992324988998, 0.013697724555229938, 0.01364286924956283, 0.013586420008442991, 0.013528372031839687, 0.013468722114654594, 0.01340746864050795, 0.013344611573899528, 0.013280152450753771, 0.013214094367360986, 0.01314644196772926, 0.013077201429363748, 0.01300638044749273, 0.012933988217762182, 0.012860035417422899, 0.012784534185036644, 0.01270749809872987, 0.012628942153025936, 0.012548882734288974, 0.012467337594814294, 0.01238432582560272, 0.012299867827857787, 0.012213985283247056, 0.012126701122969905, 0.01203803949567674, 0.01194802573428552, 0.01185668632174338, 0.011764048855782402, 0.011670142012719976, 0.011574995510355748, 0.011478640070017707, 0.011381107377811499, 0.011282430045127858, 0.011182641568463993], \"yaxis\": \"y\"}, {\"legendgroup\": \"train mpg\", \"marker\": {\"color\": \"rgb(31, 119, 180)\", \"symbol\": \"line-ns-open\"}, \"mode\": \"markers\", \"name\": \"train mpg\", \"showlegend\": false, \"type\": \"scatter\", \"x\": [26.0, 36.0, 28.0, 14.0, 30.0, 14.0, 29.0, 13.0, 14.0, 14.0, 17.0, 30.0, 23.0, 21.0, 46.6, 32.0, 21.0, 17.0, 10.0, 24.0, 26.0, 38.0, 14.0, 16.5, 31.9, 39.4, 29.9, 15.0, 12.0, 29.8, 13.0, 29.0, 24.0, 36.1, 26.6, 26.0, 32.3, 27.2, 20.6, 25.0, 24.0, 19.0, 29.0, 28.4, 24.0, 15.0, 32.7, 34.1, 29.0, 14.0, 31.0, 35.0, 18.0, 24.5, 27.0, 38.0, 12.0, 20.0, 26.0, 12.0, 13.0, 20.0, 29.0, 21.0, 13.0, 16.0, 44.3, 27.2, 28.0, 23.0, 31.0, 31.5, 16.0, 13.0, 25.0, 16.0, 13.0, 15.5, 23.0, 28.1, 36.1, 19.0, 37.0, 34.0, 24.0, 34.0, 21.0, 33.8, 19.2, 11.0, 11.0, 13.0, 26.0, 34.3, 14.5, 18.0, 29.0, 32.0, 19.0, 23.9, 14.0, 19.0, 22.0, 25.0, 19.0, 15.0, 17.5, 19.0, 40.8, 24.3, 17.5, 11.0, 19.0, 16.0, 32.0, 21.1, 20.0, 21.0, 38.0, 23.0, 28.0, 33.0, 31.0, 24.0, 27.0, 15.5, 32.2, 36.0, 14.0, 14.0, 29.5, 14.0, 23.6, 33.0, 20.2, 21.0, 19.0, 25.0, 21.6, 26.8, 30.0, 24.0, 18.0, 22.0, 16.0, 25.8, 29.0, 25.0, 13.0, 39.0, 18.0, 17.7, 30.7, 20.5, 25.0, 13.0, 15.0, 34.2, 14.0, 21.5, 15.0, 22.0, 23.0, 27.5, 25.0, 28.0, 13.0, 29.0, 20.0, 19.1, 27.0, 12.0, 33.7, 30.0, 30.0, 16.0, 19.2, 38.1, 22.0, 18.0, 30.5, 12.0, 26.0, 25.5, 13.0, 29.8, 20.0, 14.0, 24.0, 15.0, 20.0, 32.0, 20.3, 31.0, 14.0, 37.7, 31.0, 18.0, 15.0, 24.0, 20.0, 15.0, 12.0, 17.6, 17.5, 13.0, 17.0, 20.2, 40.9, 26.0, 17.5, 15.0, 28.0, 19.0, 15.0, 22.0, 34.4, 17.0, 22.5, 36.0, 22.3, 23.5, 33.0, 33.5, 27.0, 13.0, 18.1, 31.6, 20.2, 34.5, 15.5, 18.5, 13.0, 30.5, 19.4, 18.2, 27.0, 22.0, 20.0, 17.6, 13.0, 14.0, 18.0, 25.4, 25.0, 16.0, 27.0, 32.0, 30.0, 16.5, 32.0, 30.0, 16.9, 32.4, 14.0, 22.0, 34.7, 19.0, 21.5, 15.0, 18.1, 44.6, 16.0, 22.0, 16.0, 16.5, 32.1, 31.8, 11.0, 24.0, 43.4, 28.0, 15.0, 27.0, 18.0, 34.5, 18.0, 15.0, 23.0, 22.4, 25.0, 28.0, 30.9, 20.6, 33.5, 26.0, 27.0, 33.5, 34.1, 19.9, 36.0, 21.0, 31.3, 20.0, 13.0, 13.0, 18.0, 27.2, 31.0, 28.0, 36.0, 18.0, 17.0, 17.0, 13.0, 9.0, 15.0, 10.0, 24.5, 25.4, 14.0, 27.9, 18.0, 23.7, 23.0, 38.0, 13.0, 18.6, 32.4, 35.0, 14.0, 20.5, 36.0, 21.0, 26.0, 16.0, 26.0, 13.0, 43.1, 37.3, 35.1, 31.0, 14.0, 18.5, 17.0, 26.0, 22.0, 32.9, 29.5, 25.0, 23.2, 26.0, 26.5, 37.0, 41.5, 18.0, 16.0, 18.5, 19.4, 25.1, 16.0, 20.8, 27.4, 44.0, 20.5, 35.7, 26.0, 23.0], \"xaxis\": \"x\", \"y\": [\"train mpg\", \"train mpg\", \"train mpg\", \"train mpg\", \"train mpg\", \"train mpg\", \"train mpg\", \"train mpg\", \"train mpg\", \"train mpg\", \"train mpg\", \"train mpg\", \"train mpg\", \"train mpg\", \"train mpg\", \"train mpg\", \"train mpg\", \"train mpg\", \"train mpg\", \"train mpg\", \"train mpg\", \"train mpg\", \"train mpg\", \"train mpg\", \"train mpg\", \"train mpg\", \"train mpg\", \"train mpg\", \"train mpg\", \"train mpg\", \"train mpg\", \"train mpg\", \"train mpg\", \"train mpg\", \"train mpg\", \"train mpg\", \"train mpg\", \"train mpg\", \"train mpg\", \"train mpg\", \"train mpg\", \"train mpg\", \"train mpg\", \"train mpg\", \"train mpg\", \"train mpg\", \"train mpg\", \"train mpg\", \"train mpg\", \"train mpg\", \"train mpg\", \"train mpg\", \"train mpg\", \"train mpg\", \"train mpg\", \"train mpg\", \"train mpg\", \"train mpg\", \"train mpg\", \"train mpg\", \"train mpg\", \"train mpg\", \"train mpg\", \"train mpg\", \"train mpg\", \"train mpg\", \"train mpg\", \"train mpg\", \"train mpg\", \"train mpg\", \"train mpg\", \"train mpg\", \"train mpg\", \"train mpg\", \"train mpg\", \"train mpg\", \"train mpg\", \"train mpg\", \"train mpg\", \"train mpg\", \"train mpg\", \"train mpg\", \"train mpg\", \"train mpg\", \"train mpg\", \"train mpg\", \"train mpg\", \"train mpg\", \"train mpg\", \"train mpg\", \"train mpg\", \"train mpg\", \"train mpg\", \"train mpg\", \"train mpg\", \"train mpg\", \"train mpg\", \"train mpg\", \"train mpg\", \"train mpg\", \"train mpg\", \"train mpg\", \"train mpg\", \"train mpg\", \"train mpg\", \"train mpg\", \"train mpg\", \"train mpg\", \"train mpg\", \"train mpg\", \"train mpg\", \"train mpg\", \"train mpg\", \"train mpg\", \"train mpg\", \"train mpg\", \"train mpg\", \"train mpg\", \"train mpg\", \"train mpg\", \"train mpg\", \"train mpg\", \"train mpg\", \"train mpg\", \"train mpg\", \"train mpg\", \"train mpg\", \"train mpg\", \"train mpg\", \"train mpg\", \"train mpg\", \"train mpg\", \"train mpg\", \"train mpg\", \"train mpg\", \"train mpg\", \"train mpg\", \"train mpg\", \"train mpg\", \"train mpg\", \"train mpg\", \"train mpg\", \"train mpg\", \"train mpg\", \"train mpg\", \"train mpg\", \"train mpg\", \"train mpg\", \"train mpg\", \"train mpg\", \"train mpg\", \"train mpg\", \"train mpg\", \"train mpg\", \"train mpg\", \"train mpg\", \"train mpg\", \"train mpg\", \"train mpg\", \"train mpg\", \"train mpg\", \"train mpg\", \"train mpg\", \"train mpg\", \"train mpg\", \"train mpg\", \"train mpg\", \"train mpg\", \"train mpg\", \"train mpg\", \"train mpg\", \"train mpg\", \"train mpg\", \"train mpg\", \"train mpg\", \"train mpg\", \"train mpg\", \"train mpg\", \"train mpg\", \"train mpg\", \"train mpg\", \"train mpg\", \"train mpg\", \"train mpg\", \"train mpg\", \"train mpg\", \"train mpg\", \"train mpg\", \"train mpg\", \"train mpg\", \"train mpg\", \"train mpg\", \"train mpg\", \"train mpg\", \"train mpg\", \"train mpg\", \"train mpg\", \"train mpg\", \"train mpg\", \"train mpg\", \"train mpg\", \"train mpg\", \"train mpg\", \"train mpg\", \"train mpg\", \"train mpg\", \"train mpg\", \"train mpg\", \"train mpg\", \"train mpg\", \"train mpg\", \"train mpg\", \"train mpg\", \"train mpg\", \"train mpg\", \"train mpg\", \"train mpg\", \"train mpg\", \"train mpg\", \"train mpg\", \"train mpg\", \"train mpg\", \"train mpg\", \"train mpg\", \"train mpg\", \"train mpg\", \"train mpg\", \"train mpg\", \"train mpg\", \"train mpg\", \"train mpg\", \"train mpg\", \"train mpg\", \"train mpg\", \"train mpg\", \"train mpg\", \"train mpg\", \"train mpg\", \"train mpg\", \"train mpg\", \"train mpg\", \"train mpg\", \"train mpg\", \"train mpg\", \"train mpg\", \"train mpg\", \"train mpg\", \"train mpg\", \"train mpg\", \"train mpg\", \"train mpg\", \"train mpg\", \"train mpg\", \"train mpg\", \"train mpg\", \"train mpg\", \"train mpg\", \"train mpg\", \"train mpg\", \"train mpg\", \"train mpg\", \"train mpg\", \"train mpg\", \"train mpg\", \"train mpg\", \"train mpg\", \"train mpg\", \"train mpg\", \"train mpg\", \"train mpg\", \"train mpg\", \"train mpg\", \"train mpg\", \"train mpg\", \"train mpg\", \"train mpg\", \"train mpg\", \"train mpg\", \"train mpg\", \"train mpg\", \"train mpg\", \"train mpg\", \"train mpg\", \"train mpg\", \"train mpg\", \"train mpg\", \"train mpg\", \"train mpg\", \"train mpg\", \"train mpg\", \"train mpg\", \"train mpg\", \"train mpg\", \"train mpg\", \"train mpg\", \"train mpg\", \"train mpg\", \"train mpg\", \"train mpg\", \"train mpg\", \"train mpg\", \"train mpg\", \"train mpg\", \"train mpg\", \"train mpg\", \"train mpg\", \"train mpg\", \"train mpg\", \"train mpg\", \"train mpg\", \"train mpg\", \"train mpg\", \"train mpg\", \"train mpg\", \"train mpg\", \"train mpg\", \"train mpg\", \"train mpg\", \"train mpg\", \"train mpg\", \"train mpg\", \"train mpg\", \"train mpg\", \"train mpg\", \"train mpg\", \"train mpg\", \"train mpg\", \"train mpg\", \"train mpg\", \"train mpg\", \"train mpg\", \"train mpg\", \"train mpg\", \"train mpg\", \"train mpg\", \"train mpg\", \"train mpg\", \"train mpg\", \"train mpg\", \"train mpg\", \"train mpg\", \"train mpg\", \"train mpg\", \"train mpg\", \"train mpg\", \"train mpg\", \"train mpg\", \"train mpg\", \"train mpg\", \"train mpg\", \"train mpg\", \"train mpg\", \"train mpg\", \"train mpg\", \"train mpg\", \"train mpg\", \"train mpg\", \"train mpg\"], \"yaxis\": \"y2\"}, {\"legendgroup\": \"test mpg\", \"marker\": {\"color\": \"rgb(255, 127, 14)\", \"symbol\": \"line-ns-open\"}, \"mode\": \"markers\", \"name\": \"test mpg\", \"showlegend\": false, \"type\": \"scatter\", \"x\": [16.0, 20.2, 17.5, 16.2, 15.0, 26.4, 25.5, 19.0, 37.2, 28.8, 21.5, 18.0, 18.0, 18.0, 27.0, 23.9, 19.8, 19.2, 26.0, 37.0, 31.5, 23.0, 18.0, 39.1, 24.2, 36.4, 23.0, 28.0, 32.8, 25.0, 15.0, 15.5, 28.0, 14.0, 22.0, 26.6, 23.8, 24.0, 19.0, 15.5], \"xaxis\": \"x\", \"y\": [\"test mpg\", \"test mpg\", \"test mpg\", \"test mpg\", \"test mpg\", \"test mpg\", \"test mpg\", \"test mpg\", \"test mpg\", \"test mpg\", \"test mpg\", \"test mpg\", \"test mpg\", \"test mpg\", \"test mpg\", \"test mpg\", \"test mpg\", \"test mpg\", \"test mpg\", \"test mpg\", \"test mpg\", \"test mpg\", \"test mpg\", \"test mpg\", \"test mpg\", \"test mpg\", \"test mpg\", \"test mpg\", \"test mpg\", \"test mpg\", \"test mpg\", \"test mpg\", \"test mpg\", \"test mpg\", \"test mpg\", \"test mpg\", \"test mpg\", \"test mpg\", \"test mpg\", \"test mpg\"], \"yaxis\": \"y2\"}],                        {\"barmode\": \"overlay\", \"hovermode\": \"closest\", \"legend\": {\"traceorder\": \"reversed\"}, \"template\": {\"data\": {\"bar\": [{\"error_x\": {\"color\": \"#2a3f5f\"}, \"error_y\": {\"color\": \"#2a3f5f\"}, \"marker\": {\"line\": {\"color\": \"#E5ECF6\", \"width\": 0.5}}, \"type\": \"bar\"}], \"barpolar\": [{\"marker\": {\"line\": {\"color\": \"#E5ECF6\", \"width\": 0.5}}, \"type\": \"barpolar\"}], \"carpet\": [{\"aaxis\": {\"endlinecolor\": \"#2a3f5f\", \"gridcolor\": \"white\", \"linecolor\": \"white\", \"minorgridcolor\": \"white\", \"startlinecolor\": \"#2a3f5f\"}, \"baxis\": {\"endlinecolor\": \"#2a3f5f\", \"gridcolor\": \"white\", \"linecolor\": \"white\", \"minorgridcolor\": \"white\", \"startlinecolor\": \"#2a3f5f\"}, \"type\": \"carpet\"}], \"choropleth\": [{\"colorbar\": {\"outlinewidth\": 0, \"ticks\": \"\"}, \"type\": \"choropleth\"}], \"contour\": [{\"colorbar\": {\"outlinewidth\": 0, \"ticks\": \"\"}, \"colorscale\": [[0.0, \"#0d0887\"], [0.1111111111111111, \"#46039f\"], [0.2222222222222222, \"#7201a8\"], [0.3333333333333333, \"#9c179e\"], [0.4444444444444444, \"#bd3786\"], [0.5555555555555556, \"#d8576b\"], [0.6666666666666666, \"#ed7953\"], [0.7777777777777778, \"#fb9f3a\"], [0.8888888888888888, \"#fdca26\"], [1.0, \"#f0f921\"]], \"type\": \"contour\"}], \"contourcarpet\": [{\"colorbar\": {\"outlinewidth\": 0, \"ticks\": \"\"}, \"type\": \"contourcarpet\"}], \"heatmap\": [{\"colorbar\": {\"outlinewidth\": 0, \"ticks\": \"\"}, \"colorscale\": [[0.0, \"#0d0887\"], [0.1111111111111111, \"#46039f\"], [0.2222222222222222, \"#7201a8\"], [0.3333333333333333, \"#9c179e\"], [0.4444444444444444, \"#bd3786\"], [0.5555555555555556, \"#d8576b\"], [0.6666666666666666, \"#ed7953\"], [0.7777777777777778, \"#fb9f3a\"], [0.8888888888888888, \"#fdca26\"], [1.0, \"#f0f921\"]], \"type\": \"heatmap\"}], \"heatmapgl\": [{\"colorbar\": {\"outlinewidth\": 0, \"ticks\": \"\"}, \"colorscale\": [[0.0, \"#0d0887\"], [0.1111111111111111, \"#46039f\"], [0.2222222222222222, \"#7201a8\"], [0.3333333333333333, \"#9c179e\"], [0.4444444444444444, \"#bd3786\"], [0.5555555555555556, \"#d8576b\"], [0.6666666666666666, \"#ed7953\"], [0.7777777777777778, \"#fb9f3a\"], [0.8888888888888888, \"#fdca26\"], [1.0, \"#f0f921\"]], \"type\": \"heatmapgl\"}], \"histogram\": [{\"marker\": {\"colorbar\": {\"outlinewidth\": 0, \"ticks\": \"\"}}, \"type\": \"histogram\"}], \"histogram2d\": [{\"colorbar\": {\"outlinewidth\": 0, \"ticks\": \"\"}, \"colorscale\": [[0.0, \"#0d0887\"], [0.1111111111111111, \"#46039f\"], [0.2222222222222222, \"#7201a8\"], [0.3333333333333333, \"#9c179e\"], [0.4444444444444444, \"#bd3786\"], [0.5555555555555556, \"#d8576b\"], [0.6666666666666666, \"#ed7953\"], [0.7777777777777778, \"#fb9f3a\"], [0.8888888888888888, \"#fdca26\"], [1.0, \"#f0f921\"]], \"type\": \"histogram2d\"}], \"histogram2dcontour\": [{\"colorbar\": {\"outlinewidth\": 0, \"ticks\": \"\"}, \"colorscale\": [[0.0, \"#0d0887\"], [0.1111111111111111, \"#46039f\"], [0.2222222222222222, \"#7201a8\"], [0.3333333333333333, \"#9c179e\"], [0.4444444444444444, \"#bd3786\"], [0.5555555555555556, \"#d8576b\"], [0.6666666666666666, \"#ed7953\"], [0.7777777777777778, \"#fb9f3a\"], [0.8888888888888888, \"#fdca26\"], [1.0, \"#f0f921\"]], \"type\": \"histogram2dcontour\"}], \"mesh3d\": [{\"colorbar\": {\"outlinewidth\": 0, \"ticks\": \"\"}, \"type\": \"mesh3d\"}], \"parcoords\": [{\"line\": {\"colorbar\": {\"outlinewidth\": 0, \"ticks\": \"\"}}, \"type\": \"parcoords\"}], \"pie\": [{\"automargin\": true, \"type\": \"pie\"}], \"scatter\": [{\"marker\": {\"colorbar\": {\"outlinewidth\": 0, \"ticks\": \"\"}}, \"type\": \"scatter\"}], \"scatter3d\": [{\"line\": {\"colorbar\": {\"outlinewidth\": 0, \"ticks\": \"\"}}, \"marker\": {\"colorbar\": {\"outlinewidth\": 0, \"ticks\": \"\"}}, \"type\": \"scatter3d\"}], \"scattercarpet\": [{\"marker\": {\"colorbar\": {\"outlinewidth\": 0, \"ticks\": \"\"}}, \"type\": \"scattercarpet\"}], \"scattergeo\": [{\"marker\": {\"colorbar\": {\"outlinewidth\": 0, \"ticks\": \"\"}}, \"type\": \"scattergeo\"}], \"scattergl\": [{\"marker\": {\"colorbar\": {\"outlinewidth\": 0, \"ticks\": \"\"}}, \"type\": \"scattergl\"}], \"scattermapbox\": [{\"marker\": {\"colorbar\": {\"outlinewidth\": 0, \"ticks\": \"\"}}, \"type\": \"scattermapbox\"}], \"scatterpolar\": [{\"marker\": {\"colorbar\": {\"outlinewidth\": 0, \"ticks\": \"\"}}, \"type\": \"scatterpolar\"}], \"scatterpolargl\": [{\"marker\": {\"colorbar\": {\"outlinewidth\": 0, \"ticks\": \"\"}}, \"type\": \"scatterpolargl\"}], \"scatterternary\": [{\"marker\": {\"colorbar\": {\"outlinewidth\": 0, \"ticks\": \"\"}}, \"type\": \"scatterternary\"}], \"surface\": [{\"colorbar\": {\"outlinewidth\": 0, \"ticks\": \"\"}, \"colorscale\": [[0.0, \"#0d0887\"], [0.1111111111111111, \"#46039f\"], [0.2222222222222222, \"#7201a8\"], [0.3333333333333333, \"#9c179e\"], [0.4444444444444444, \"#bd3786\"], [0.5555555555555556, \"#d8576b\"], [0.6666666666666666, \"#ed7953\"], [0.7777777777777778, \"#fb9f3a\"], [0.8888888888888888, \"#fdca26\"], [1.0, \"#f0f921\"]], \"type\": \"surface\"}], \"table\": [{\"cells\": {\"fill\": {\"color\": \"#EBF0F8\"}, \"line\": {\"color\": \"white\"}}, \"header\": {\"fill\": {\"color\": \"#C8D4E3\"}, \"line\": {\"color\": \"white\"}}, \"type\": \"table\"}]}, \"layout\": {\"annotationdefaults\": {\"arrowcolor\": \"#2a3f5f\", \"arrowhead\": 0, \"arrowwidth\": 1}, \"autotypenumbers\": \"strict\", \"coloraxis\": {\"colorbar\": {\"outlinewidth\": 0, \"ticks\": \"\"}}, \"colorscale\": {\"diverging\": [[0, \"#8e0152\"], [0.1, \"#c51b7d\"], [0.2, \"#de77ae\"], [0.3, \"#f1b6da\"], [0.4, \"#fde0ef\"], [0.5, \"#f7f7f7\"], [0.6, \"#e6f5d0\"], [0.7, \"#b8e186\"], [0.8, \"#7fbc41\"], [0.9, \"#4d9221\"], [1, \"#276419\"]], \"sequential\": [[0.0, \"#0d0887\"], [0.1111111111111111, \"#46039f\"], [0.2222222222222222, \"#7201a8\"], [0.3333333333333333, \"#9c179e\"], [0.4444444444444444, \"#bd3786\"], [0.5555555555555556, \"#d8576b\"], [0.6666666666666666, \"#ed7953\"], [0.7777777777777778, \"#fb9f3a\"], [0.8888888888888888, \"#fdca26\"], [1.0, \"#f0f921\"]], \"sequentialminus\": [[0.0, \"#0d0887\"], [0.1111111111111111, \"#46039f\"], [0.2222222222222222, \"#7201a8\"], [0.3333333333333333, \"#9c179e\"], [0.4444444444444444, \"#bd3786\"], [0.5555555555555556, \"#d8576b\"], [0.6666666666666666, \"#ed7953\"], [0.7777777777777778, \"#fb9f3a\"], [0.8888888888888888, \"#fdca26\"], [1.0, \"#f0f921\"]]}, \"colorway\": [\"#636efa\", \"#EF553B\", \"#00cc96\", \"#ab63fa\", \"#FFA15A\", \"#19d3f3\", \"#FF6692\", \"#B6E880\", \"#FF97FF\", \"#FECB52\"], \"font\": {\"color\": \"#2a3f5f\"}, \"geo\": {\"bgcolor\": \"white\", \"lakecolor\": \"white\", \"landcolor\": \"#E5ECF6\", \"showlakes\": true, \"showland\": true, \"subunitcolor\": \"white\"}, \"hoverlabel\": {\"align\": \"left\"}, \"hovermode\": \"closest\", \"mapbox\": {\"style\": \"light\"}, \"paper_bgcolor\": \"white\", \"plot_bgcolor\": \"#E5ECF6\", \"polar\": {\"angularaxis\": {\"gridcolor\": \"white\", \"linecolor\": \"white\", \"ticks\": \"\"}, \"bgcolor\": \"#E5ECF6\", \"radialaxis\": {\"gridcolor\": \"white\", \"linecolor\": \"white\", \"ticks\": \"\"}}, \"scene\": {\"xaxis\": {\"backgroundcolor\": \"#E5ECF6\", \"gridcolor\": \"white\", \"gridwidth\": 2, \"linecolor\": \"white\", \"showbackground\": true, \"ticks\": \"\", \"zerolinecolor\": \"white\"}, \"yaxis\": {\"backgroundcolor\": \"#E5ECF6\", \"gridcolor\": \"white\", \"gridwidth\": 2, \"linecolor\": \"white\", \"showbackground\": true, \"ticks\": \"\", \"zerolinecolor\": \"white\"}, \"zaxis\": {\"backgroundcolor\": \"#E5ECF6\", \"gridcolor\": \"white\", \"gridwidth\": 2, \"linecolor\": \"white\", \"showbackground\": true, \"ticks\": \"\", \"zerolinecolor\": \"white\"}}, \"shapedefaults\": {\"line\": {\"color\": \"#2a3f5f\"}}, \"ternary\": {\"aaxis\": {\"gridcolor\": \"white\", \"linecolor\": \"white\", \"ticks\": \"\"}, \"baxis\": {\"gridcolor\": \"white\", \"linecolor\": \"white\", \"ticks\": \"\"}, \"bgcolor\": \"#E5ECF6\", \"caxis\": {\"gridcolor\": \"white\", \"linecolor\": \"white\", \"ticks\": \"\"}}, \"title\": {\"x\": 0.05}, \"xaxis\": {\"automargin\": true, \"gridcolor\": \"white\", \"linecolor\": \"white\", \"ticks\": \"\", \"title\": {\"standoff\": 15}, \"zerolinecolor\": \"white\", \"zerolinewidth\": 2}, \"yaxis\": {\"automargin\": true, \"gridcolor\": \"white\", \"linecolor\": \"white\", \"ticks\": \"\", \"title\": {\"standoff\": 15}, \"zerolinecolor\": \"white\", \"zerolinewidth\": 2}}}, \"xaxis\": {\"anchor\": \"y2\", \"domain\": [0.0, 1.0], \"zeroline\": false}, \"yaxis\": {\"anchor\": \"free\", \"domain\": [0.35, 1], \"position\": 0.0}, \"yaxis2\": {\"anchor\": \"x\", \"domain\": [0, 0.25], \"dtick\": 1, \"showticklabels\": false}},                        {\"responsive\": true}                    ).then(function(){\n",
       "                            \n",
       "var gd = document.getElementById('68d97888-67c7-44e3-80ab-b6ac579d7043');\n",
       "var x = new MutationObserver(function (mutations, observer) {{\n",
       "        var display = window.getComputedStyle(gd).display;\n",
       "        if (!display || display === 'none') {{\n",
       "            console.log([gd, 'removed!']);\n",
       "            Plotly.purge(gd);\n",
       "            observer.disconnect();\n",
       "        }}\n",
       "}});\n",
       "\n",
       "// Listen for the removal of the full notebook cells\n",
       "var notebookContainer = gd.closest('#notebook-container');\n",
       "if (notebookContainer) {{\n",
       "    x.observe(notebookContainer, {childList: true});\n",
       "}}\n",
       "\n",
       "// Listen for the clearing of the current output cell\n",
       "var outputEl = gd.closest('.output');\n",
       "if (outputEl) {{\n",
       "    x.observe(outputEl, {childList: true});\n",
       "}}\n",
       "\n",
       "                        })                };                });            </script>        </div>"
      ]
     },
     "metadata": {},
     "output_type": "display_data"
    }
   ],
   "source": [
    "ff.create_distplot([tr['mpg'], te['mpg']], ['train mpg', 'test mpg'])"
   ]
  },
  {
   "cell_type": "markdown",
   "metadata": {},
   "source": [
    "<br/><br/><br/>\n",
    "\n",
    "\n",
    "---\n",
    "\n",
    "\n",
    "\n",
    "## Building A Basic Model\n",
    "\n",
    "Let's go through the process of building a model.  Let's start by looking at just engine characteristics like \"cylinders\" and the \"displacement\". We will first use just our own feature function (as we did in previous lectures).  Then we will introduce how to use sklearn `Pipelines` to combine feature functions and models. As we will see, by combining the feature function and model, we can simplify subsequent training and testing since we are guaranteed that our feature functions are the same on both the training and test datasets. "
   ]
  },
  {
   "cell_type": "markdown",
   "metadata": {},
   "source": [
    "My first feature function will just extract the two features that I want to use in my model."
   ]
  },
  {
   "cell_type": "code",
   "execution_count": 16,
   "metadata": {},
   "outputs": [],
   "source": [
    "def phi(df):\n",
    "    return df[[\"cylinders\", \"displacement\"]]"
   ]
  },
  {
   "cell_type": "markdown",
   "metadata": {},
   "source": [
    "Then I fit an sklearn LinearRegression model to my training data."
   ]
  },
  {
   "cell_type": "code",
   "execution_count": 17,
   "metadata": {},
   "outputs": [],
   "source": [
    "from sklearn.linear_model import LinearRegression\n",
    "model = LinearRegression()"
   ]
  },
  {
   "cell_type": "code",
   "execution_count": 18,
   "metadata": {},
   "outputs": [
    {
     "data": {
      "text/plain": [
       "LinearRegression()"
      ]
     },
     "execution_count": 18,
     "metadata": {},
     "output_type": "execute_result"
    }
   ],
   "source": [
    "model.fit(phi(tr), tr['mpg'])"
   ]
  },
  {
   "cell_type": "markdown",
   "metadata": {},
   "source": [
    "To evaluate the error we will use the **Root Mean Squared Error (RMSE)** which is like the mean squared error but in the correct units (mpg) instead of (mpg^2). "
   ]
  },
  {
   "cell_type": "code",
   "execution_count": 19,
   "metadata": {},
   "outputs": [],
   "source": [
    "def rmse(y, yhat):\n",
    "    return np.sqrt(np.mean((y - yhat)**2))"
   ]
  },
  {
   "cell_type": "markdown",
   "metadata": {},
   "source": [
    "The training error is:"
   ]
  },
  {
   "cell_type": "code",
   "execution_count": 20,
   "metadata": {},
   "outputs": [
    {
     "name": "stdout",
     "output_type": "stream",
     "text": [
      "Training Error (RMSE): 4.589009902639974\n"
     ]
    }
   ],
   "source": [
    "Y_hat = model.predict(phi(tr))\n",
    "Y = tr['mpg']\n",
    "print(\"Training Error (RMSE):\", rmse(Y, Y_hat))"
   ]
  },
  {
   "cell_type": "markdown",
   "metadata": {},
   "source": [
    "### Don't try this at home! \n",
    "\n",
    "The test error is:"
   ]
  },
  {
   "cell_type": "code",
   "execution_count": 21,
   "metadata": {},
   "outputs": [
    {
     "name": "stdout",
     "output_type": "stream",
     "text": [
      "Test Error (RMSE): 5.0340093039091744\n"
     ]
    }
   ],
   "source": [
    "Y_hat = model.predict(phi(te))\n",
    "Y = te['mpg']\n",
    "print(\"Test Error (RMSE):\", rmse(Y, Y_hat))"
   ]
  },
  {
   "cell_type": "markdown",
   "metadata": {},
   "source": [
    "Oh no! We just used the test data to evaluate our model! We shouldn't have done that.  \n",
    "\n",
    "(Don't worry, we are trained professionals and this is only for demonstration purposes.  But seriously, don't try this at home.)  \n",
    "\n",
    "**Notice:** The test error is slightly higher than the training error.  This is typically (but not always) the case.  Sometimes we get lucky and the test data is \"easier to predict\" or happens to closely follow the training data."
   ]
  },
  {
   "cell_type": "markdown",
   "metadata": {},
   "source": [
    "<br/><br/><br/>\n",
    "\n",
    "---\n",
    "\n",
    "## SKLearn Pipelines\n",
    "\n",
    "Again, for Fall 2020, you do not need to know how to use `Pipeline`s in scikit-learn. They are quite involved. Fortunately, they are merely an accessory to the concepts of this lecture, and not the core of it. If you treat each instance of a `Pipeline` as a black-box way of specifying which features our model should have, you will be able to understand the cross-validation content just fine.\n",
    "\n",
    "We have removed much of the dialogue around `Pipeline` from this lecture, but if you're interested, you can [skim the documentation on pipelines](https://scikit-learn.org/stable/modules/compose.html#pipeline)."
   ]
  },
  {
   "cell_type": "code",
   "execution_count": 22,
   "metadata": {
    "scrolled": true
   },
   "outputs": [],
   "source": [
    "from sklearn.pipeline import Pipeline\n",
    "from sklearn.compose import ColumnTransformer\n",
    "\n",
    "model = Pipeline([\n",
    "    (\"SelectColumns\", ColumnTransformer([(\"keep\", \"passthrough\", [\"cylinders\", \"displacement\"])])),\n",
    "    (\"LinearModel\", LinearRegression())\n",
    "])\n",
    "\n",
    "model.fit(tr, tr['mpg']);"
   ]
  },
  {
   "cell_type": "markdown",
   "metadata": {},
   "source": [
    "#### Keeping track of all the models.\n",
    "\n",
    "In this notebook (and in life) we will want to keep track of all our models.  Here I will store the models in a dictionary with a (not great) name so I can remember which model is which and can easily compare my models in a plot."
   ]
  },
  {
   "cell_type": "code",
   "execution_count": 23,
   "metadata": {},
   "outputs": [],
   "source": [
    "models = {\"c+d\": model}"
   ]
  },
  {
   "cell_type": "markdown",
   "metadata": {},
   "source": [
    "### More Feature Transformations"
   ]
  },
  {
   "cell_type": "markdown",
   "metadata": {},
   "source": [
    "We might also want to look at the displacement per cylinder.  This is an additional feature transformation that we can add to the first stage of our pipeline.  To define this transformation we first need to create a function transformer:"
   ]
  },
  {
   "cell_type": "code",
   "execution_count": 24,
   "metadata": {},
   "outputs": [],
   "source": [
    "from sklearn.preprocessing import FunctionTransformer\n",
    "\n",
    "def compute_volume(X):\n",
    "    return np.expand_dims(X[:,1] / X[:,0]  , axis=1)\n",
    "\n",
    "volume_transformer = FunctionTransformer(compute_volume, validate=True)"
   ]
  },
  {
   "cell_type": "markdown",
   "metadata": {},
   "source": [
    "We can then add this as an additional column transformation:"
   ]
  },
  {
   "cell_type": "code",
   "execution_count": 25,
   "metadata": {},
   "outputs": [],
   "source": [
    "model = Pipeline([\n",
    "    (\"SelectColumns\", ColumnTransformer([\n",
    "        (\"keep\", \"passthrough\", [\"cylinders\", \"displacement\"]),\n",
    "        (\"cyl_vol\", volume_transformer, [\"cylinders\", \"displacement\"])])),\n",
    "    (\"LinearModel\", LinearRegression())\n",
    "])"
   ]
  },
  {
   "cell_type": "code",
   "execution_count": 26,
   "metadata": {},
   "outputs": [],
   "source": [
    "model.fit(tr, tr['mpg']);"
   ]
  },
  {
   "cell_type": "markdown",
   "metadata": {},
   "source": [
    "Again, we evaluate the model on our training dataset and see a reduction in error:"
   ]
  },
  {
   "cell_type": "code",
   "execution_count": 27,
   "metadata": {},
   "outputs": [
    {
     "name": "stdout",
     "output_type": "stream",
     "text": [
      "Training Error (RMSE): 4.318799994795117\n"
     ]
    }
   ],
   "source": [
    "Y_hat = model.predict(tr)\n",
    "Y = tr['mpg']\n",
    "print(\"Training Error (RMSE):\", rmse(Y, Y_hat))"
   ]
  },
  {
   "cell_type": "code",
   "execution_count": 28,
   "metadata": {},
   "outputs": [],
   "source": [
    "models[\"c+d+d/c\"] = model"
   ]
  },
  {
   "cell_type": "markdown",
   "metadata": {},
   "source": [
    "### Adding More Features\n",
    "\n",
    "We can now add additional features about the car."
   ]
  },
  {
   "cell_type": "code",
   "execution_count": 29,
   "metadata": {},
   "outputs": [],
   "source": [
    "quantitative_features = [\"cylinders\", \"displacement\", \"horsepower\", \"weight\", \"acceleration\"]\n",
    "model = Pipeline([\n",
    "    (\"SelectColumns\", ColumnTransformer([\n",
    "        (\"keep\", \"passthrough\", quantitative_features),\n",
    "        (\"cyl_vol\", volume_transformer, [\"cylinders\", \"displacement\"])])),\n",
    "    (\"LinearModel\", LinearRegression())\n",
    "])"
   ]
  },
  {
   "cell_type": "markdown",
   "metadata": {},
   "source": [
    "I have put the following code in a try/except statement because I know it will raise an error. What do you think will go wrong?"
   ]
  },
  {
   "cell_type": "code",
   "execution_count": 30,
   "metadata": {},
   "outputs": [
    {
     "name": "stdout",
     "output_type": "stream",
     "text": [
      "Input contains NaN, infinity or a value too large for dtype('float64').\n"
     ]
    }
   ],
   "source": [
    "try:\n",
    "    model.fit(tr, tr['mpg'])\n",
    "except ValueError as err:\n",
    "    print(err)"
   ]
  },
  {
   "cell_type": "markdown",
   "metadata": {},
   "source": [
    "There appear to be NaN (missing values) in the data (take a look at the horsepower column).  We need to deal with these missing values.  In previous lectures I mentioned imputation and a standard imputation technique is to replace the missing value with the mean for that column.  Scikit learn has a built-in imputation function that we can add to our pipeline after we select the desired columns.  The imputation will actually be applied to all the columns.  If we wanted to apply it to a specific column then we would need to put it inside the ColumnTransformer.\n",
    "\n",
    "**Notice:** The imputation function actually needs to be **fit** to data so it is also part of the model."
   ]
  },
  {
   "cell_type": "code",
   "execution_count": 31,
   "metadata": {},
   "outputs": [],
   "source": [
    "from sklearn.impute import SimpleImputer\n",
    "model = Pipeline([\n",
    "    (\"SelectColumns\", ColumnTransformer([\n",
    "        (\"keep\", \"passthrough\", quantitative_features),\n",
    "        (\"cyl_vol\", volume_transformer, [\"cylinders\", \"displacement\"])])),\n",
    "    (\"Imputation\", SimpleImputer()),\n",
    "    (\"LinearModel\", LinearRegression())\n",
    "])"
   ]
  },
  {
   "cell_type": "markdown",
   "metadata": {},
   "source": [
    "We can now train our model."
   ]
  },
  {
   "cell_type": "code",
   "execution_count": 32,
   "metadata": {},
   "outputs": [],
   "source": [
    "model.fit(tr, tr['mpg']);"
   ]
  },
  {
   "cell_type": "markdown",
   "metadata": {},
   "source": [
    "Saving the model for later comparison:"
   ]
  },
  {
   "cell_type": "code",
   "execution_count": 33,
   "metadata": {},
   "outputs": [],
   "source": [
    "models['c+d+d/c+h+w+a'] = model"
   ]
  },
  {
   "cell_type": "markdown",
   "metadata": {},
   "source": [
    "Evaluating the training error:"
   ]
  },
  {
   "cell_type": "code",
   "execution_count": 34,
   "metadata": {},
   "outputs": [
    {
     "name": "stdout",
     "output_type": "stream",
     "text": [
      "Training Error (RMSE): 4.025034093127813\n"
     ]
    }
   ],
   "source": [
    "Y_hat = model.predict(tr)\n",
    "Y = tr['mpg']\n",
    "print(\"Training Error (RMSE):\", rmse(Y, Y_hat))"
   ]
  },
  {
   "cell_type": "markdown",
   "metadata": {},
   "source": [
    "We reduced the training error but what about the test error?  We really shouldn't look at the test error so instead we will use cross validation to compare the accuracy:"
   ]
  },
  {
   "cell_type": "markdown",
   "metadata": {},
   "source": [
    "<br/><br/><br/>\n",
    "\n",
    "---\n",
    "\n",
    "## Cross Validation\n",
    "\n",
    "In the following function we use the sklearn `KFold` cross validation class. "
   ]
  },
  {
   "cell_type": "markdown",
   "metadata": {},
   "source": [
    "Here we define a five fold cross validation with \n",
    "\n",
    "```python \n",
    "five_fold = KFold(n_splits=5)\n",
    "```\n",
    "\n",
    "Then we loop over the 5 splits and get the indicies (`tr_ind`) in the training data to use for training and the indices (`va_ind`) in the training data to use for validation:\n",
    "\n",
    "```python\n",
    "for tr_ind, te_ind in five_fold.split(tr):\n",
    "```"
   ]
  },
  {
   "cell_type": "code",
   "execution_count": 35,
   "metadata": {},
   "outputs": [],
   "source": [
    "from sklearn.model_selection import KFold\n",
    "from sklearn.base import clone\n",
    "\n",
    "def cross_validate_rmse(model):\n",
    "    model = clone(model)\n",
    "    five_fold = KFold(n_splits=5)\n",
    "    rmse_values = []\n",
    "    for tr_ind, va_ind in five_fold.split(tr):\n",
    "        model.fit(tr.iloc[tr_ind,:], tr['mpg'].iloc[tr_ind])\n",
    "        rmse_values.append(rmse(tr['mpg'].iloc[va_ind], model.predict(tr.iloc[va_ind,:])))\n",
    "    return np.mean(rmse_values)\n"
   ]
  },
  {
   "cell_type": "markdown",
   "metadata": {},
   "source": [
    "Valiating the model"
   ]
  },
  {
   "cell_type": "code",
   "execution_count": 36,
   "metadata": {},
   "outputs": [
    {
     "data": {
      "text/plain": [
       "4.05180814386984"
      ]
     },
     "execution_count": 36,
     "metadata": {},
     "output_type": "execute_result"
    }
   ],
   "source": [
    "cross_validate_rmse(model)"
   ]
  },
  {
   "cell_type": "markdown",
   "metadata": {},
   "source": [
    "The following helper function generates a plot comparing all the models in the models dictionary."
   ]
  },
  {
   "cell_type": "code",
   "execution_count": 37,
   "metadata": {},
   "outputs": [],
   "source": [
    "def compare_models(models):\n",
    "    # Compute the training error for each model\n",
    "    training_rmse = [rmse(tr['mpg'], model.predict(tr)) for model in models.values()]\n",
    "    # Compute the cross validation error for each model\n",
    "    validation_rmse = [cross_validate_rmse(model) for model in models.values()]\n",
    "    # Compute the test error for each model (don't do this!)\n",
    "    test_rmse = [rmse(te['mpg'], model.predict(te)) for model in models.values()]\n",
    "    names = list(models.keys())\n",
    "    fig = go.Figure([\n",
    "        go.Bar(x = names, y = training_rmse, name=\"Training RMSE\"),\n",
    "        go.Bar(x = names, y = validation_rmse, name=\"CV RMSE\"),\n",
    "        go.Bar(x = names, y = test_rmse, name=\"Test RMSE\", opacity=.3)])\n",
    "    return fig"
   ]
  },
  {
   "cell_type": "code",
   "execution_count": 38,
   "metadata": {},
   "outputs": [
    {
     "data": {
      "application/vnd.plotly.v1+json": {
       "config": {
        "plotlyServerURL": "https://plot.ly"
       },
       "data": [
        {
         "name": "Training RMSE",
         "type": "bar",
         "x": [
          "c+d",
          "c+d+d/c",
          "c+d+d/c+h+w+a"
         ],
         "y": [
          4.589009902639974,
          4.318799994795117,
          4.025034093127813
         ]
        },
        {
         "name": "CV RMSE",
         "type": "bar",
         "x": [
          "c+d",
          "c+d+d/c",
          "c+d+d/c+h+w+a"
         ],
         "y": [
          4.605282248429072,
          4.329888723941801,
          4.05180814386984
         ]
        },
        {
         "name": "Test RMSE",
         "opacity": 0.3,
         "type": "bar",
         "x": [
          "c+d",
          "c+d+d/c",
          "c+d+d/c+h+w+a"
         ],
         "y": [
          5.0340093039091744,
          4.77554281068313,
          4.063052136131592
         ]
        }
       ],
       "layout": {
        "template": {
         "data": {
          "bar": [
           {
            "error_x": {
             "color": "#2a3f5f"
            },
            "error_y": {
             "color": "#2a3f5f"
            },
            "marker": {
             "line": {
              "color": "#E5ECF6",
              "width": 0.5
             }
            },
            "type": "bar"
           }
          ],
          "barpolar": [
           {
            "marker": {
             "line": {
              "color": "#E5ECF6",
              "width": 0.5
             }
            },
            "type": "barpolar"
           }
          ],
          "carpet": [
           {
            "aaxis": {
             "endlinecolor": "#2a3f5f",
             "gridcolor": "white",
             "linecolor": "white",
             "minorgridcolor": "white",
             "startlinecolor": "#2a3f5f"
            },
            "baxis": {
             "endlinecolor": "#2a3f5f",
             "gridcolor": "white",
             "linecolor": "white",
             "minorgridcolor": "white",
             "startlinecolor": "#2a3f5f"
            },
            "type": "carpet"
           }
          ],
          "choropleth": [
           {
            "colorbar": {
             "outlinewidth": 0,
             "ticks": ""
            },
            "type": "choropleth"
           }
          ],
          "contour": [
           {
            "colorbar": {
             "outlinewidth": 0,
             "ticks": ""
            },
            "colorscale": [
             [
              0,
              "#0d0887"
             ],
             [
              0.1111111111111111,
              "#46039f"
             ],
             [
              0.2222222222222222,
              "#7201a8"
             ],
             [
              0.3333333333333333,
              "#9c179e"
             ],
             [
              0.4444444444444444,
              "#bd3786"
             ],
             [
              0.5555555555555556,
              "#d8576b"
             ],
             [
              0.6666666666666666,
              "#ed7953"
             ],
             [
              0.7777777777777778,
              "#fb9f3a"
             ],
             [
              0.8888888888888888,
              "#fdca26"
             ],
             [
              1,
              "#f0f921"
             ]
            ],
            "type": "contour"
           }
          ],
          "contourcarpet": [
           {
            "colorbar": {
             "outlinewidth": 0,
             "ticks": ""
            },
            "type": "contourcarpet"
           }
          ],
          "heatmap": [
           {
            "colorbar": {
             "outlinewidth": 0,
             "ticks": ""
            },
            "colorscale": [
             [
              0,
              "#0d0887"
             ],
             [
              0.1111111111111111,
              "#46039f"
             ],
             [
              0.2222222222222222,
              "#7201a8"
             ],
             [
              0.3333333333333333,
              "#9c179e"
             ],
             [
              0.4444444444444444,
              "#bd3786"
             ],
             [
              0.5555555555555556,
              "#d8576b"
             ],
             [
              0.6666666666666666,
              "#ed7953"
             ],
             [
              0.7777777777777778,
              "#fb9f3a"
             ],
             [
              0.8888888888888888,
              "#fdca26"
             ],
             [
              1,
              "#f0f921"
             ]
            ],
            "type": "heatmap"
           }
          ],
          "heatmapgl": [
           {
            "colorbar": {
             "outlinewidth": 0,
             "ticks": ""
            },
            "colorscale": [
             [
              0,
              "#0d0887"
             ],
             [
              0.1111111111111111,
              "#46039f"
             ],
             [
              0.2222222222222222,
              "#7201a8"
             ],
             [
              0.3333333333333333,
              "#9c179e"
             ],
             [
              0.4444444444444444,
              "#bd3786"
             ],
             [
              0.5555555555555556,
              "#d8576b"
             ],
             [
              0.6666666666666666,
              "#ed7953"
             ],
             [
              0.7777777777777778,
              "#fb9f3a"
             ],
             [
              0.8888888888888888,
              "#fdca26"
             ],
             [
              1,
              "#f0f921"
             ]
            ],
            "type": "heatmapgl"
           }
          ],
          "histogram": [
           {
            "marker": {
             "colorbar": {
              "outlinewidth": 0,
              "ticks": ""
             }
            },
            "type": "histogram"
           }
          ],
          "histogram2d": [
           {
            "colorbar": {
             "outlinewidth": 0,
             "ticks": ""
            },
            "colorscale": [
             [
              0,
              "#0d0887"
             ],
             [
              0.1111111111111111,
              "#46039f"
             ],
             [
              0.2222222222222222,
              "#7201a8"
             ],
             [
              0.3333333333333333,
              "#9c179e"
             ],
             [
              0.4444444444444444,
              "#bd3786"
             ],
             [
              0.5555555555555556,
              "#d8576b"
             ],
             [
              0.6666666666666666,
              "#ed7953"
             ],
             [
              0.7777777777777778,
              "#fb9f3a"
             ],
             [
              0.8888888888888888,
              "#fdca26"
             ],
             [
              1,
              "#f0f921"
             ]
            ],
            "type": "histogram2d"
           }
          ],
          "histogram2dcontour": [
           {
            "colorbar": {
             "outlinewidth": 0,
             "ticks": ""
            },
            "colorscale": [
             [
              0,
              "#0d0887"
             ],
             [
              0.1111111111111111,
              "#46039f"
             ],
             [
              0.2222222222222222,
              "#7201a8"
             ],
             [
              0.3333333333333333,
              "#9c179e"
             ],
             [
              0.4444444444444444,
              "#bd3786"
             ],
             [
              0.5555555555555556,
              "#d8576b"
             ],
             [
              0.6666666666666666,
              "#ed7953"
             ],
             [
              0.7777777777777778,
              "#fb9f3a"
             ],
             [
              0.8888888888888888,
              "#fdca26"
             ],
             [
              1,
              "#f0f921"
             ]
            ],
            "type": "histogram2dcontour"
           }
          ],
          "mesh3d": [
           {
            "colorbar": {
             "outlinewidth": 0,
             "ticks": ""
            },
            "type": "mesh3d"
           }
          ],
          "parcoords": [
           {
            "line": {
             "colorbar": {
              "outlinewidth": 0,
              "ticks": ""
             }
            },
            "type": "parcoords"
           }
          ],
          "pie": [
           {
            "automargin": true,
            "type": "pie"
           }
          ],
          "scatter": [
           {
            "marker": {
             "colorbar": {
              "outlinewidth": 0,
              "ticks": ""
             }
            },
            "type": "scatter"
           }
          ],
          "scatter3d": [
           {
            "line": {
             "colorbar": {
              "outlinewidth": 0,
              "ticks": ""
             }
            },
            "marker": {
             "colorbar": {
              "outlinewidth": 0,
              "ticks": ""
             }
            },
            "type": "scatter3d"
           }
          ],
          "scattercarpet": [
           {
            "marker": {
             "colorbar": {
              "outlinewidth": 0,
              "ticks": ""
             }
            },
            "type": "scattercarpet"
           }
          ],
          "scattergeo": [
           {
            "marker": {
             "colorbar": {
              "outlinewidth": 0,
              "ticks": ""
             }
            },
            "type": "scattergeo"
           }
          ],
          "scattergl": [
           {
            "marker": {
             "colorbar": {
              "outlinewidth": 0,
              "ticks": ""
             }
            },
            "type": "scattergl"
           }
          ],
          "scattermapbox": [
           {
            "marker": {
             "colorbar": {
              "outlinewidth": 0,
              "ticks": ""
             }
            },
            "type": "scattermapbox"
           }
          ],
          "scatterpolar": [
           {
            "marker": {
             "colorbar": {
              "outlinewidth": 0,
              "ticks": ""
             }
            },
            "type": "scatterpolar"
           }
          ],
          "scatterpolargl": [
           {
            "marker": {
             "colorbar": {
              "outlinewidth": 0,
              "ticks": ""
             }
            },
            "type": "scatterpolargl"
           }
          ],
          "scatterternary": [
           {
            "marker": {
             "colorbar": {
              "outlinewidth": 0,
              "ticks": ""
             }
            },
            "type": "scatterternary"
           }
          ],
          "surface": [
           {
            "colorbar": {
             "outlinewidth": 0,
             "ticks": ""
            },
            "colorscale": [
             [
              0,
              "#0d0887"
             ],
             [
              0.1111111111111111,
              "#46039f"
             ],
             [
              0.2222222222222222,
              "#7201a8"
             ],
             [
              0.3333333333333333,
              "#9c179e"
             ],
             [
              0.4444444444444444,
              "#bd3786"
             ],
             [
              0.5555555555555556,
              "#d8576b"
             ],
             [
              0.6666666666666666,
              "#ed7953"
             ],
             [
              0.7777777777777778,
              "#fb9f3a"
             ],
             [
              0.8888888888888888,
              "#fdca26"
             ],
             [
              1,
              "#f0f921"
             ]
            ],
            "type": "surface"
           }
          ],
          "table": [
           {
            "cells": {
             "fill": {
              "color": "#EBF0F8"
             },
             "line": {
              "color": "white"
             }
            },
            "header": {
             "fill": {
              "color": "#C8D4E3"
             },
             "line": {
              "color": "white"
             }
            },
            "type": "table"
           }
          ]
         },
         "layout": {
          "annotationdefaults": {
           "arrowcolor": "#2a3f5f",
           "arrowhead": 0,
           "arrowwidth": 1
          },
          "autotypenumbers": "strict",
          "coloraxis": {
           "colorbar": {
            "outlinewidth": 0,
            "ticks": ""
           }
          },
          "colorscale": {
           "diverging": [
            [
             0,
             "#8e0152"
            ],
            [
             0.1,
             "#c51b7d"
            ],
            [
             0.2,
             "#de77ae"
            ],
            [
             0.3,
             "#f1b6da"
            ],
            [
             0.4,
             "#fde0ef"
            ],
            [
             0.5,
             "#f7f7f7"
            ],
            [
             0.6,
             "#e6f5d0"
            ],
            [
             0.7,
             "#b8e186"
            ],
            [
             0.8,
             "#7fbc41"
            ],
            [
             0.9,
             "#4d9221"
            ],
            [
             1,
             "#276419"
            ]
           ],
           "sequential": [
            [
             0,
             "#0d0887"
            ],
            [
             0.1111111111111111,
             "#46039f"
            ],
            [
             0.2222222222222222,
             "#7201a8"
            ],
            [
             0.3333333333333333,
             "#9c179e"
            ],
            [
             0.4444444444444444,
             "#bd3786"
            ],
            [
             0.5555555555555556,
             "#d8576b"
            ],
            [
             0.6666666666666666,
             "#ed7953"
            ],
            [
             0.7777777777777778,
             "#fb9f3a"
            ],
            [
             0.8888888888888888,
             "#fdca26"
            ],
            [
             1,
             "#f0f921"
            ]
           ],
           "sequentialminus": [
            [
             0,
             "#0d0887"
            ],
            [
             0.1111111111111111,
             "#46039f"
            ],
            [
             0.2222222222222222,
             "#7201a8"
            ],
            [
             0.3333333333333333,
             "#9c179e"
            ],
            [
             0.4444444444444444,
             "#bd3786"
            ],
            [
             0.5555555555555556,
             "#d8576b"
            ],
            [
             0.6666666666666666,
             "#ed7953"
            ],
            [
             0.7777777777777778,
             "#fb9f3a"
            ],
            [
             0.8888888888888888,
             "#fdca26"
            ],
            [
             1,
             "#f0f921"
            ]
           ]
          },
          "colorway": [
           "#636efa",
           "#EF553B",
           "#00cc96",
           "#ab63fa",
           "#FFA15A",
           "#19d3f3",
           "#FF6692",
           "#B6E880",
           "#FF97FF",
           "#FECB52"
          ],
          "font": {
           "color": "#2a3f5f"
          },
          "geo": {
           "bgcolor": "white",
           "lakecolor": "white",
           "landcolor": "#E5ECF6",
           "showlakes": true,
           "showland": true,
           "subunitcolor": "white"
          },
          "hoverlabel": {
           "align": "left"
          },
          "hovermode": "closest",
          "mapbox": {
           "style": "light"
          },
          "paper_bgcolor": "white",
          "plot_bgcolor": "#E5ECF6",
          "polar": {
           "angularaxis": {
            "gridcolor": "white",
            "linecolor": "white",
            "ticks": ""
           },
           "bgcolor": "#E5ECF6",
           "radialaxis": {
            "gridcolor": "white",
            "linecolor": "white",
            "ticks": ""
           }
          },
          "scene": {
           "xaxis": {
            "backgroundcolor": "#E5ECF6",
            "gridcolor": "white",
            "gridwidth": 2,
            "linecolor": "white",
            "showbackground": true,
            "ticks": "",
            "zerolinecolor": "white"
           },
           "yaxis": {
            "backgroundcolor": "#E5ECF6",
            "gridcolor": "white",
            "gridwidth": 2,
            "linecolor": "white",
            "showbackground": true,
            "ticks": "",
            "zerolinecolor": "white"
           },
           "zaxis": {
            "backgroundcolor": "#E5ECF6",
            "gridcolor": "white",
            "gridwidth": 2,
            "linecolor": "white",
            "showbackground": true,
            "ticks": "",
            "zerolinecolor": "white"
           }
          },
          "shapedefaults": {
           "line": {
            "color": "#2a3f5f"
           }
          },
          "ternary": {
           "aaxis": {
            "gridcolor": "white",
            "linecolor": "white",
            "ticks": ""
           },
           "baxis": {
            "gridcolor": "white",
            "linecolor": "white",
            "ticks": ""
           },
           "bgcolor": "#E5ECF6",
           "caxis": {
            "gridcolor": "white",
            "linecolor": "white",
            "ticks": ""
           }
          },
          "title": {
           "x": 0.05
          },
          "xaxis": {
           "automargin": true,
           "gridcolor": "white",
           "linecolor": "white",
           "ticks": "",
           "title": {
            "standoff": 15
           },
           "zerolinecolor": "white",
           "zerolinewidth": 2
          },
          "yaxis": {
           "automargin": true,
           "gridcolor": "white",
           "linecolor": "white",
           "ticks": "",
           "title": {
            "standoff": 15
           },
           "zerolinecolor": "white",
           "zerolinewidth": 2
          }
         }
        },
        "yaxis": {
         "range": [
          2,
          5.1
         ],
         "title": {
          "text": "RMSE"
         }
        }
       }
      },
      "text/html": [
       "<div>                            <div id=\"43ac0daf-b24d-4076-8fc4-ed774b71b95a\" class=\"plotly-graph-div\" style=\"height:525px; width:100%;\"></div>            <script type=\"text/javascript\">                require([\"plotly\"], function(Plotly) {                    window.PLOTLYENV=window.PLOTLYENV || {};                                    if (document.getElementById(\"43ac0daf-b24d-4076-8fc4-ed774b71b95a\")) {                    Plotly.newPlot(                        \"43ac0daf-b24d-4076-8fc4-ed774b71b95a\",                        [{\"name\": \"Training RMSE\", \"type\": \"bar\", \"x\": [\"c+d\", \"c+d+d/c\", \"c+d+d/c+h+w+a\"], \"y\": [4.589009902639974, 4.318799994795117, 4.025034093127813]}, {\"name\": \"CV RMSE\", \"type\": \"bar\", \"x\": [\"c+d\", \"c+d+d/c\", \"c+d+d/c+h+w+a\"], \"y\": [4.605282248429072, 4.329888723941801, 4.05180814386984]}, {\"name\": \"Test RMSE\", \"opacity\": 0.3, \"type\": \"bar\", \"x\": [\"c+d\", \"c+d+d/c\", \"c+d+d/c+h+w+a\"], \"y\": [5.0340093039091744, 4.77554281068313, 4.063052136131592]}],                        {\"template\": {\"data\": {\"bar\": [{\"error_x\": {\"color\": \"#2a3f5f\"}, \"error_y\": {\"color\": \"#2a3f5f\"}, \"marker\": {\"line\": {\"color\": \"#E5ECF6\", \"width\": 0.5}}, \"type\": \"bar\"}], \"barpolar\": [{\"marker\": {\"line\": {\"color\": \"#E5ECF6\", \"width\": 0.5}}, \"type\": \"barpolar\"}], \"carpet\": [{\"aaxis\": {\"endlinecolor\": \"#2a3f5f\", \"gridcolor\": \"white\", \"linecolor\": \"white\", \"minorgridcolor\": \"white\", \"startlinecolor\": \"#2a3f5f\"}, \"baxis\": {\"endlinecolor\": \"#2a3f5f\", \"gridcolor\": \"white\", \"linecolor\": \"white\", \"minorgridcolor\": \"white\", \"startlinecolor\": \"#2a3f5f\"}, \"type\": \"carpet\"}], \"choropleth\": [{\"colorbar\": {\"outlinewidth\": 0, \"ticks\": \"\"}, \"type\": \"choropleth\"}], \"contour\": [{\"colorbar\": {\"outlinewidth\": 0, \"ticks\": \"\"}, \"colorscale\": [[0.0, \"#0d0887\"], [0.1111111111111111, \"#46039f\"], [0.2222222222222222, \"#7201a8\"], [0.3333333333333333, \"#9c179e\"], [0.4444444444444444, \"#bd3786\"], [0.5555555555555556, \"#d8576b\"], [0.6666666666666666, \"#ed7953\"], [0.7777777777777778, \"#fb9f3a\"], [0.8888888888888888, \"#fdca26\"], [1.0, \"#f0f921\"]], \"type\": \"contour\"}], \"contourcarpet\": [{\"colorbar\": {\"outlinewidth\": 0, \"ticks\": \"\"}, \"type\": \"contourcarpet\"}], \"heatmap\": [{\"colorbar\": {\"outlinewidth\": 0, \"ticks\": \"\"}, \"colorscale\": [[0.0, \"#0d0887\"], [0.1111111111111111, \"#46039f\"], [0.2222222222222222, \"#7201a8\"], [0.3333333333333333, \"#9c179e\"], [0.4444444444444444, \"#bd3786\"], [0.5555555555555556, \"#d8576b\"], [0.6666666666666666, \"#ed7953\"], [0.7777777777777778, \"#fb9f3a\"], [0.8888888888888888, \"#fdca26\"], [1.0, \"#f0f921\"]], \"type\": \"heatmap\"}], \"heatmapgl\": [{\"colorbar\": {\"outlinewidth\": 0, \"ticks\": \"\"}, \"colorscale\": [[0.0, \"#0d0887\"], [0.1111111111111111, \"#46039f\"], [0.2222222222222222, \"#7201a8\"], [0.3333333333333333, \"#9c179e\"], [0.4444444444444444, \"#bd3786\"], [0.5555555555555556, \"#d8576b\"], [0.6666666666666666, \"#ed7953\"], [0.7777777777777778, \"#fb9f3a\"], [0.8888888888888888, \"#fdca26\"], [1.0, \"#f0f921\"]], \"type\": \"heatmapgl\"}], \"histogram\": [{\"marker\": {\"colorbar\": {\"outlinewidth\": 0, \"ticks\": \"\"}}, \"type\": \"histogram\"}], \"histogram2d\": [{\"colorbar\": {\"outlinewidth\": 0, \"ticks\": \"\"}, \"colorscale\": [[0.0, \"#0d0887\"], [0.1111111111111111, \"#46039f\"], [0.2222222222222222, \"#7201a8\"], [0.3333333333333333, \"#9c179e\"], [0.4444444444444444, \"#bd3786\"], [0.5555555555555556, \"#d8576b\"], [0.6666666666666666, \"#ed7953\"], [0.7777777777777778, \"#fb9f3a\"], [0.8888888888888888, \"#fdca26\"], [1.0, \"#f0f921\"]], \"type\": \"histogram2d\"}], \"histogram2dcontour\": [{\"colorbar\": {\"outlinewidth\": 0, \"ticks\": \"\"}, \"colorscale\": [[0.0, \"#0d0887\"], [0.1111111111111111, \"#46039f\"], [0.2222222222222222, \"#7201a8\"], [0.3333333333333333, \"#9c179e\"], [0.4444444444444444, \"#bd3786\"], [0.5555555555555556, \"#d8576b\"], [0.6666666666666666, \"#ed7953\"], [0.7777777777777778, \"#fb9f3a\"], [0.8888888888888888, \"#fdca26\"], [1.0, \"#f0f921\"]], \"type\": \"histogram2dcontour\"}], \"mesh3d\": [{\"colorbar\": {\"outlinewidth\": 0, \"ticks\": \"\"}, \"type\": \"mesh3d\"}], \"parcoords\": [{\"line\": {\"colorbar\": {\"outlinewidth\": 0, \"ticks\": \"\"}}, \"type\": \"parcoords\"}], \"pie\": [{\"automargin\": true, \"type\": \"pie\"}], \"scatter\": [{\"marker\": {\"colorbar\": {\"outlinewidth\": 0, \"ticks\": \"\"}}, \"type\": \"scatter\"}], \"scatter3d\": [{\"line\": {\"colorbar\": {\"outlinewidth\": 0, \"ticks\": \"\"}}, \"marker\": {\"colorbar\": {\"outlinewidth\": 0, \"ticks\": \"\"}}, \"type\": \"scatter3d\"}], \"scattercarpet\": [{\"marker\": {\"colorbar\": {\"outlinewidth\": 0, \"ticks\": \"\"}}, \"type\": \"scattercarpet\"}], \"scattergeo\": [{\"marker\": {\"colorbar\": {\"outlinewidth\": 0, \"ticks\": \"\"}}, \"type\": \"scattergeo\"}], \"scattergl\": [{\"marker\": {\"colorbar\": {\"outlinewidth\": 0, \"ticks\": \"\"}}, \"type\": \"scattergl\"}], \"scattermapbox\": [{\"marker\": {\"colorbar\": {\"outlinewidth\": 0, \"ticks\": \"\"}}, \"type\": \"scattermapbox\"}], \"scatterpolar\": [{\"marker\": {\"colorbar\": {\"outlinewidth\": 0, \"ticks\": \"\"}}, \"type\": \"scatterpolar\"}], \"scatterpolargl\": [{\"marker\": {\"colorbar\": {\"outlinewidth\": 0, \"ticks\": \"\"}}, \"type\": \"scatterpolargl\"}], \"scatterternary\": [{\"marker\": {\"colorbar\": {\"outlinewidth\": 0, \"ticks\": \"\"}}, \"type\": \"scatterternary\"}], \"surface\": [{\"colorbar\": {\"outlinewidth\": 0, \"ticks\": \"\"}, \"colorscale\": [[0.0, \"#0d0887\"], [0.1111111111111111, \"#46039f\"], [0.2222222222222222, \"#7201a8\"], [0.3333333333333333, \"#9c179e\"], [0.4444444444444444, \"#bd3786\"], [0.5555555555555556, \"#d8576b\"], [0.6666666666666666, \"#ed7953\"], [0.7777777777777778, \"#fb9f3a\"], [0.8888888888888888, \"#fdca26\"], [1.0, \"#f0f921\"]], \"type\": \"surface\"}], \"table\": [{\"cells\": {\"fill\": {\"color\": \"#EBF0F8\"}, \"line\": {\"color\": \"white\"}}, \"header\": {\"fill\": {\"color\": \"#C8D4E3\"}, \"line\": {\"color\": \"white\"}}, \"type\": \"table\"}]}, \"layout\": {\"annotationdefaults\": {\"arrowcolor\": \"#2a3f5f\", \"arrowhead\": 0, \"arrowwidth\": 1}, \"autotypenumbers\": \"strict\", \"coloraxis\": {\"colorbar\": {\"outlinewidth\": 0, \"ticks\": \"\"}}, \"colorscale\": {\"diverging\": [[0, \"#8e0152\"], [0.1, \"#c51b7d\"], [0.2, \"#de77ae\"], [0.3, \"#f1b6da\"], [0.4, \"#fde0ef\"], [0.5, \"#f7f7f7\"], [0.6, \"#e6f5d0\"], [0.7, \"#b8e186\"], [0.8, \"#7fbc41\"], [0.9, \"#4d9221\"], [1, \"#276419\"]], \"sequential\": [[0.0, \"#0d0887\"], [0.1111111111111111, \"#46039f\"], [0.2222222222222222, \"#7201a8\"], [0.3333333333333333, \"#9c179e\"], [0.4444444444444444, \"#bd3786\"], [0.5555555555555556, \"#d8576b\"], [0.6666666666666666, \"#ed7953\"], [0.7777777777777778, \"#fb9f3a\"], [0.8888888888888888, \"#fdca26\"], [1.0, \"#f0f921\"]], \"sequentialminus\": [[0.0, \"#0d0887\"], [0.1111111111111111, \"#46039f\"], [0.2222222222222222, \"#7201a8\"], [0.3333333333333333, \"#9c179e\"], [0.4444444444444444, \"#bd3786\"], [0.5555555555555556, \"#d8576b\"], [0.6666666666666666, \"#ed7953\"], [0.7777777777777778, \"#fb9f3a\"], [0.8888888888888888, \"#fdca26\"], [1.0, \"#f0f921\"]]}, \"colorway\": [\"#636efa\", \"#EF553B\", \"#00cc96\", \"#ab63fa\", \"#FFA15A\", \"#19d3f3\", \"#FF6692\", \"#B6E880\", \"#FF97FF\", \"#FECB52\"], \"font\": {\"color\": \"#2a3f5f\"}, \"geo\": {\"bgcolor\": \"white\", \"lakecolor\": \"white\", \"landcolor\": \"#E5ECF6\", \"showlakes\": true, \"showland\": true, \"subunitcolor\": \"white\"}, \"hoverlabel\": {\"align\": \"left\"}, \"hovermode\": \"closest\", \"mapbox\": {\"style\": \"light\"}, \"paper_bgcolor\": \"white\", \"plot_bgcolor\": \"#E5ECF6\", \"polar\": {\"angularaxis\": {\"gridcolor\": \"white\", \"linecolor\": \"white\", \"ticks\": \"\"}, \"bgcolor\": \"#E5ECF6\", \"radialaxis\": {\"gridcolor\": \"white\", \"linecolor\": \"white\", \"ticks\": \"\"}}, \"scene\": {\"xaxis\": {\"backgroundcolor\": \"#E5ECF6\", \"gridcolor\": \"white\", \"gridwidth\": 2, \"linecolor\": \"white\", \"showbackground\": true, \"ticks\": \"\", \"zerolinecolor\": \"white\"}, \"yaxis\": {\"backgroundcolor\": \"#E5ECF6\", \"gridcolor\": \"white\", \"gridwidth\": 2, \"linecolor\": \"white\", \"showbackground\": true, \"ticks\": \"\", \"zerolinecolor\": \"white\"}, \"zaxis\": {\"backgroundcolor\": \"#E5ECF6\", \"gridcolor\": \"white\", \"gridwidth\": 2, \"linecolor\": \"white\", \"showbackground\": true, \"ticks\": \"\", \"zerolinecolor\": \"white\"}}, \"shapedefaults\": {\"line\": {\"color\": \"#2a3f5f\"}}, \"ternary\": {\"aaxis\": {\"gridcolor\": \"white\", \"linecolor\": \"white\", \"ticks\": \"\"}, \"baxis\": {\"gridcolor\": \"white\", \"linecolor\": \"white\", \"ticks\": \"\"}, \"bgcolor\": \"#E5ECF6\", \"caxis\": {\"gridcolor\": \"white\", \"linecolor\": \"white\", \"ticks\": \"\"}}, \"title\": {\"x\": 0.05}, \"xaxis\": {\"automargin\": true, \"gridcolor\": \"white\", \"linecolor\": \"white\", \"ticks\": \"\", \"title\": {\"standoff\": 15}, \"zerolinecolor\": \"white\", \"zerolinewidth\": 2}, \"yaxis\": {\"automargin\": true, \"gridcolor\": \"white\", \"linecolor\": \"white\", \"ticks\": \"\", \"title\": {\"standoff\": 15}, \"zerolinecolor\": \"white\", \"zerolinewidth\": 2}}}, \"yaxis\": {\"range\": [2, 5.1], \"title\": {\"text\": \"RMSE\"}}},                        {\"responsive\": true}                    ).then(function(){\n",
       "                            \n",
       "var gd = document.getElementById('43ac0daf-b24d-4076-8fc4-ed774b71b95a');\n",
       "var x = new MutationObserver(function (mutations, observer) {{\n",
       "        var display = window.getComputedStyle(gd).display;\n",
       "        if (!display || display === 'none') {{\n",
       "            console.log([gd, 'removed!']);\n",
       "            Plotly.purge(gd);\n",
       "            observer.disconnect();\n",
       "        }}\n",
       "}});\n",
       "\n",
       "// Listen for the removal of the full notebook cells\n",
       "var notebookContainer = gd.closest('#notebook-container');\n",
       "if (notebookContainer) {{\n",
       "    x.observe(notebookContainer, {childList: true});\n",
       "}}\n",
       "\n",
       "// Listen for the clearing of the current output cell\n",
       "var outputEl = gd.closest('.output');\n",
       "if (outputEl) {{\n",
       "    x.observe(outputEl, {childList: true});\n",
       "}}\n",
       "\n",
       "                        })                };                });            </script>        </div>"
      ]
     },
     "metadata": {},
     "output_type": "display_data"
    }
   ],
   "source": [
    "fig = compare_models(models)\n",
    "fig.update_yaxes(range=[2,5.1], title=\"RMSE\")"
   ]
  },
  {
   "cell_type": "markdown",
   "metadata": {},
   "source": [
    "Notice I made the **Test RMSE** invisible(ish) because you shouldn't look at it until we are done.  But again for demonstration purposes I plotted in so we can see how it compares to the training and cross validation errors."
   ]
  },
  {
   "cell_type": "markdown",
   "metadata": {},
   "source": [
    "Can you improve the model further?  Let's try adding the model year"
   ]
  },
  {
   "cell_type": "code",
   "execution_count": 39,
   "metadata": {},
   "outputs": [],
   "source": [
    "quantitative_features = [\"cylinders\", \"displacement\", \"horsepower\", \"weight\", \"acceleration\", \"model_year\"]\n",
    "model = Pipeline([\n",
    "    (\"SelectColumns\", ColumnTransformer([\n",
    "        (\"keep\", \"passthrough\", quantitative_features),\n",
    "        (\"cyl_vol\", volume_transformer, [\"cylinders\", \"displacement\"])\n",
    "    ])),\n",
    "    (\"Imputation\", SimpleImputer()),\n",
    "    (\"LinearModel\", LinearRegression())\n",
    "])"
   ]
  },
  {
   "cell_type": "code",
   "execution_count": 40,
   "metadata": {},
   "outputs": [],
   "source": [
    "model.fit(tr, tr['mpg'])\n",
    "models['c+d+d/c+h+w+a+y'] = model"
   ]
  },
  {
   "cell_type": "markdown",
   "metadata": {},
   "source": [
    "Comparing the models"
   ]
  },
  {
   "cell_type": "code",
   "execution_count": 41,
   "metadata": {},
   "outputs": [
    {
     "data": {
      "application/vnd.plotly.v1+json": {
       "config": {
        "plotlyServerURL": "https://plot.ly"
       },
       "data": [
        {
         "name": "Training RMSE",
         "type": "bar",
         "x": [
          "c+d",
          "c+d+d/c",
          "c+d+d/c+h+w+a",
          "c+d+d/c+h+w+a+y"
         ],
         "y": [
          4.589009902639974,
          4.318799994795117,
          4.025034093127813,
          3.0423012736161676
         ]
        },
        {
         "name": "CV RMSE",
         "type": "bar",
         "x": [
          "c+d",
          "c+d+d/c",
          "c+d+d/c+h+w+a",
          "c+d+d/c+h+w+a+y"
         ],
         "y": [
          4.605282248429072,
          4.329888723941801,
          4.05180814386984,
          3.092908633896168
         ]
        },
        {
         "name": "Test RMSE",
         "opacity": 0.3,
         "type": "bar",
         "x": [
          "c+d",
          "c+d+d/c",
          "c+d+d/c+h+w+a",
          "c+d+d/c+h+w+a+y"
         ],
         "y": [
          5.0340093039091744,
          4.77554281068313,
          4.063052136131592,
          2.867166892795796
         ]
        }
       ],
       "layout": {
        "template": {
         "data": {
          "bar": [
           {
            "error_x": {
             "color": "#2a3f5f"
            },
            "error_y": {
             "color": "#2a3f5f"
            },
            "marker": {
             "line": {
              "color": "#E5ECF6",
              "width": 0.5
             }
            },
            "type": "bar"
           }
          ],
          "barpolar": [
           {
            "marker": {
             "line": {
              "color": "#E5ECF6",
              "width": 0.5
             }
            },
            "type": "barpolar"
           }
          ],
          "carpet": [
           {
            "aaxis": {
             "endlinecolor": "#2a3f5f",
             "gridcolor": "white",
             "linecolor": "white",
             "minorgridcolor": "white",
             "startlinecolor": "#2a3f5f"
            },
            "baxis": {
             "endlinecolor": "#2a3f5f",
             "gridcolor": "white",
             "linecolor": "white",
             "minorgridcolor": "white",
             "startlinecolor": "#2a3f5f"
            },
            "type": "carpet"
           }
          ],
          "choropleth": [
           {
            "colorbar": {
             "outlinewidth": 0,
             "ticks": ""
            },
            "type": "choropleth"
           }
          ],
          "contour": [
           {
            "colorbar": {
             "outlinewidth": 0,
             "ticks": ""
            },
            "colorscale": [
             [
              0,
              "#0d0887"
             ],
             [
              0.1111111111111111,
              "#46039f"
             ],
             [
              0.2222222222222222,
              "#7201a8"
             ],
             [
              0.3333333333333333,
              "#9c179e"
             ],
             [
              0.4444444444444444,
              "#bd3786"
             ],
             [
              0.5555555555555556,
              "#d8576b"
             ],
             [
              0.6666666666666666,
              "#ed7953"
             ],
             [
              0.7777777777777778,
              "#fb9f3a"
             ],
             [
              0.8888888888888888,
              "#fdca26"
             ],
             [
              1,
              "#f0f921"
             ]
            ],
            "type": "contour"
           }
          ],
          "contourcarpet": [
           {
            "colorbar": {
             "outlinewidth": 0,
             "ticks": ""
            },
            "type": "contourcarpet"
           }
          ],
          "heatmap": [
           {
            "colorbar": {
             "outlinewidth": 0,
             "ticks": ""
            },
            "colorscale": [
             [
              0,
              "#0d0887"
             ],
             [
              0.1111111111111111,
              "#46039f"
             ],
             [
              0.2222222222222222,
              "#7201a8"
             ],
             [
              0.3333333333333333,
              "#9c179e"
             ],
             [
              0.4444444444444444,
              "#bd3786"
             ],
             [
              0.5555555555555556,
              "#d8576b"
             ],
             [
              0.6666666666666666,
              "#ed7953"
             ],
             [
              0.7777777777777778,
              "#fb9f3a"
             ],
             [
              0.8888888888888888,
              "#fdca26"
             ],
             [
              1,
              "#f0f921"
             ]
            ],
            "type": "heatmap"
           }
          ],
          "heatmapgl": [
           {
            "colorbar": {
             "outlinewidth": 0,
             "ticks": ""
            },
            "colorscale": [
             [
              0,
              "#0d0887"
             ],
             [
              0.1111111111111111,
              "#46039f"
             ],
             [
              0.2222222222222222,
              "#7201a8"
             ],
             [
              0.3333333333333333,
              "#9c179e"
             ],
             [
              0.4444444444444444,
              "#bd3786"
             ],
             [
              0.5555555555555556,
              "#d8576b"
             ],
             [
              0.6666666666666666,
              "#ed7953"
             ],
             [
              0.7777777777777778,
              "#fb9f3a"
             ],
             [
              0.8888888888888888,
              "#fdca26"
             ],
             [
              1,
              "#f0f921"
             ]
            ],
            "type": "heatmapgl"
           }
          ],
          "histogram": [
           {
            "marker": {
             "colorbar": {
              "outlinewidth": 0,
              "ticks": ""
             }
            },
            "type": "histogram"
           }
          ],
          "histogram2d": [
           {
            "colorbar": {
             "outlinewidth": 0,
             "ticks": ""
            },
            "colorscale": [
             [
              0,
              "#0d0887"
             ],
             [
              0.1111111111111111,
              "#46039f"
             ],
             [
              0.2222222222222222,
              "#7201a8"
             ],
             [
              0.3333333333333333,
              "#9c179e"
             ],
             [
              0.4444444444444444,
              "#bd3786"
             ],
             [
              0.5555555555555556,
              "#d8576b"
             ],
             [
              0.6666666666666666,
              "#ed7953"
             ],
             [
              0.7777777777777778,
              "#fb9f3a"
             ],
             [
              0.8888888888888888,
              "#fdca26"
             ],
             [
              1,
              "#f0f921"
             ]
            ],
            "type": "histogram2d"
           }
          ],
          "histogram2dcontour": [
           {
            "colorbar": {
             "outlinewidth": 0,
             "ticks": ""
            },
            "colorscale": [
             [
              0,
              "#0d0887"
             ],
             [
              0.1111111111111111,
              "#46039f"
             ],
             [
              0.2222222222222222,
              "#7201a8"
             ],
             [
              0.3333333333333333,
              "#9c179e"
             ],
             [
              0.4444444444444444,
              "#bd3786"
             ],
             [
              0.5555555555555556,
              "#d8576b"
             ],
             [
              0.6666666666666666,
              "#ed7953"
             ],
             [
              0.7777777777777778,
              "#fb9f3a"
             ],
             [
              0.8888888888888888,
              "#fdca26"
             ],
             [
              1,
              "#f0f921"
             ]
            ],
            "type": "histogram2dcontour"
           }
          ],
          "mesh3d": [
           {
            "colorbar": {
             "outlinewidth": 0,
             "ticks": ""
            },
            "type": "mesh3d"
           }
          ],
          "parcoords": [
           {
            "line": {
             "colorbar": {
              "outlinewidth": 0,
              "ticks": ""
             }
            },
            "type": "parcoords"
           }
          ],
          "pie": [
           {
            "automargin": true,
            "type": "pie"
           }
          ],
          "scatter": [
           {
            "marker": {
             "colorbar": {
              "outlinewidth": 0,
              "ticks": ""
             }
            },
            "type": "scatter"
           }
          ],
          "scatter3d": [
           {
            "line": {
             "colorbar": {
              "outlinewidth": 0,
              "ticks": ""
             }
            },
            "marker": {
             "colorbar": {
              "outlinewidth": 0,
              "ticks": ""
             }
            },
            "type": "scatter3d"
           }
          ],
          "scattercarpet": [
           {
            "marker": {
             "colorbar": {
              "outlinewidth": 0,
              "ticks": ""
             }
            },
            "type": "scattercarpet"
           }
          ],
          "scattergeo": [
           {
            "marker": {
             "colorbar": {
              "outlinewidth": 0,
              "ticks": ""
             }
            },
            "type": "scattergeo"
           }
          ],
          "scattergl": [
           {
            "marker": {
             "colorbar": {
              "outlinewidth": 0,
              "ticks": ""
             }
            },
            "type": "scattergl"
           }
          ],
          "scattermapbox": [
           {
            "marker": {
             "colorbar": {
              "outlinewidth": 0,
              "ticks": ""
             }
            },
            "type": "scattermapbox"
           }
          ],
          "scatterpolar": [
           {
            "marker": {
             "colorbar": {
              "outlinewidth": 0,
              "ticks": ""
             }
            },
            "type": "scatterpolar"
           }
          ],
          "scatterpolargl": [
           {
            "marker": {
             "colorbar": {
              "outlinewidth": 0,
              "ticks": ""
             }
            },
            "type": "scatterpolargl"
           }
          ],
          "scatterternary": [
           {
            "marker": {
             "colorbar": {
              "outlinewidth": 0,
              "ticks": ""
             }
            },
            "type": "scatterternary"
           }
          ],
          "surface": [
           {
            "colorbar": {
             "outlinewidth": 0,
             "ticks": ""
            },
            "colorscale": [
             [
              0,
              "#0d0887"
             ],
             [
              0.1111111111111111,
              "#46039f"
             ],
             [
              0.2222222222222222,
              "#7201a8"
             ],
             [
              0.3333333333333333,
              "#9c179e"
             ],
             [
              0.4444444444444444,
              "#bd3786"
             ],
             [
              0.5555555555555556,
              "#d8576b"
             ],
             [
              0.6666666666666666,
              "#ed7953"
             ],
             [
              0.7777777777777778,
              "#fb9f3a"
             ],
             [
              0.8888888888888888,
              "#fdca26"
             ],
             [
              1,
              "#f0f921"
             ]
            ],
            "type": "surface"
           }
          ],
          "table": [
           {
            "cells": {
             "fill": {
              "color": "#EBF0F8"
             },
             "line": {
              "color": "white"
             }
            },
            "header": {
             "fill": {
              "color": "#C8D4E3"
             },
             "line": {
              "color": "white"
             }
            },
            "type": "table"
           }
          ]
         },
         "layout": {
          "annotationdefaults": {
           "arrowcolor": "#2a3f5f",
           "arrowhead": 0,
           "arrowwidth": 1
          },
          "autotypenumbers": "strict",
          "coloraxis": {
           "colorbar": {
            "outlinewidth": 0,
            "ticks": ""
           }
          },
          "colorscale": {
           "diverging": [
            [
             0,
             "#8e0152"
            ],
            [
             0.1,
             "#c51b7d"
            ],
            [
             0.2,
             "#de77ae"
            ],
            [
             0.3,
             "#f1b6da"
            ],
            [
             0.4,
             "#fde0ef"
            ],
            [
             0.5,
             "#f7f7f7"
            ],
            [
             0.6,
             "#e6f5d0"
            ],
            [
             0.7,
             "#b8e186"
            ],
            [
             0.8,
             "#7fbc41"
            ],
            [
             0.9,
             "#4d9221"
            ],
            [
             1,
             "#276419"
            ]
           ],
           "sequential": [
            [
             0,
             "#0d0887"
            ],
            [
             0.1111111111111111,
             "#46039f"
            ],
            [
             0.2222222222222222,
             "#7201a8"
            ],
            [
             0.3333333333333333,
             "#9c179e"
            ],
            [
             0.4444444444444444,
             "#bd3786"
            ],
            [
             0.5555555555555556,
             "#d8576b"
            ],
            [
             0.6666666666666666,
             "#ed7953"
            ],
            [
             0.7777777777777778,
             "#fb9f3a"
            ],
            [
             0.8888888888888888,
             "#fdca26"
            ],
            [
             1,
             "#f0f921"
            ]
           ],
           "sequentialminus": [
            [
             0,
             "#0d0887"
            ],
            [
             0.1111111111111111,
             "#46039f"
            ],
            [
             0.2222222222222222,
             "#7201a8"
            ],
            [
             0.3333333333333333,
             "#9c179e"
            ],
            [
             0.4444444444444444,
             "#bd3786"
            ],
            [
             0.5555555555555556,
             "#d8576b"
            ],
            [
             0.6666666666666666,
             "#ed7953"
            ],
            [
             0.7777777777777778,
             "#fb9f3a"
            ],
            [
             0.8888888888888888,
             "#fdca26"
            ],
            [
             1,
             "#f0f921"
            ]
           ]
          },
          "colorway": [
           "#636efa",
           "#EF553B",
           "#00cc96",
           "#ab63fa",
           "#FFA15A",
           "#19d3f3",
           "#FF6692",
           "#B6E880",
           "#FF97FF",
           "#FECB52"
          ],
          "font": {
           "color": "#2a3f5f"
          },
          "geo": {
           "bgcolor": "white",
           "lakecolor": "white",
           "landcolor": "#E5ECF6",
           "showlakes": true,
           "showland": true,
           "subunitcolor": "white"
          },
          "hoverlabel": {
           "align": "left"
          },
          "hovermode": "closest",
          "mapbox": {
           "style": "light"
          },
          "paper_bgcolor": "white",
          "plot_bgcolor": "#E5ECF6",
          "polar": {
           "angularaxis": {
            "gridcolor": "white",
            "linecolor": "white",
            "ticks": ""
           },
           "bgcolor": "#E5ECF6",
           "radialaxis": {
            "gridcolor": "white",
            "linecolor": "white",
            "ticks": ""
           }
          },
          "scene": {
           "xaxis": {
            "backgroundcolor": "#E5ECF6",
            "gridcolor": "white",
            "gridwidth": 2,
            "linecolor": "white",
            "showbackground": true,
            "ticks": "",
            "zerolinecolor": "white"
           },
           "yaxis": {
            "backgroundcolor": "#E5ECF6",
            "gridcolor": "white",
            "gridwidth": 2,
            "linecolor": "white",
            "showbackground": true,
            "ticks": "",
            "zerolinecolor": "white"
           },
           "zaxis": {
            "backgroundcolor": "#E5ECF6",
            "gridcolor": "white",
            "gridwidth": 2,
            "linecolor": "white",
            "showbackground": true,
            "ticks": "",
            "zerolinecolor": "white"
           }
          },
          "shapedefaults": {
           "line": {
            "color": "#2a3f5f"
           }
          },
          "ternary": {
           "aaxis": {
            "gridcolor": "white",
            "linecolor": "white",
            "ticks": ""
           },
           "baxis": {
            "gridcolor": "white",
            "linecolor": "white",
            "ticks": ""
           },
           "bgcolor": "#E5ECF6",
           "caxis": {
            "gridcolor": "white",
            "linecolor": "white",
            "ticks": ""
           }
          },
          "title": {
           "x": 0.05
          },
          "xaxis": {
           "automargin": true,
           "gridcolor": "white",
           "linecolor": "white",
           "ticks": "",
           "title": {
            "standoff": 15
           },
           "zerolinecolor": "white",
           "zerolinewidth": 2
          },
          "yaxis": {
           "automargin": true,
           "gridcolor": "white",
           "linecolor": "white",
           "ticks": "",
           "title": {
            "standoff": 15
           },
           "zerolinecolor": "white",
           "zerolinewidth": 2
          }
         }
        },
        "yaxis": {
         "range": [
          2,
          5.1
         ],
         "title": {
          "text": "RMSE"
         }
        }
       }
      },
      "text/html": [
       "<div>                            <div id=\"59cbcdde-859d-4efb-b9fc-6ae469d9a14a\" class=\"plotly-graph-div\" style=\"height:525px; width:100%;\"></div>            <script type=\"text/javascript\">                require([\"plotly\"], function(Plotly) {                    window.PLOTLYENV=window.PLOTLYENV || {};                                    if (document.getElementById(\"59cbcdde-859d-4efb-b9fc-6ae469d9a14a\")) {                    Plotly.newPlot(                        \"59cbcdde-859d-4efb-b9fc-6ae469d9a14a\",                        [{\"name\": \"Training RMSE\", \"type\": \"bar\", \"x\": [\"c+d\", \"c+d+d/c\", \"c+d+d/c+h+w+a\", \"c+d+d/c+h+w+a+y\"], \"y\": [4.589009902639974, 4.318799994795117, 4.025034093127813, 3.0423012736161676]}, {\"name\": \"CV RMSE\", \"type\": \"bar\", \"x\": [\"c+d\", \"c+d+d/c\", \"c+d+d/c+h+w+a\", \"c+d+d/c+h+w+a+y\"], \"y\": [4.605282248429072, 4.329888723941801, 4.05180814386984, 3.092908633896168]}, {\"name\": \"Test RMSE\", \"opacity\": 0.3, \"type\": \"bar\", \"x\": [\"c+d\", \"c+d+d/c\", \"c+d+d/c+h+w+a\", \"c+d+d/c+h+w+a+y\"], \"y\": [5.0340093039091744, 4.77554281068313, 4.063052136131592, 2.867166892795796]}],                        {\"template\": {\"data\": {\"bar\": [{\"error_x\": {\"color\": \"#2a3f5f\"}, \"error_y\": {\"color\": \"#2a3f5f\"}, \"marker\": {\"line\": {\"color\": \"#E5ECF6\", \"width\": 0.5}}, \"type\": \"bar\"}], \"barpolar\": [{\"marker\": {\"line\": {\"color\": \"#E5ECF6\", \"width\": 0.5}}, \"type\": \"barpolar\"}], \"carpet\": [{\"aaxis\": {\"endlinecolor\": \"#2a3f5f\", \"gridcolor\": \"white\", \"linecolor\": \"white\", \"minorgridcolor\": \"white\", \"startlinecolor\": \"#2a3f5f\"}, \"baxis\": {\"endlinecolor\": \"#2a3f5f\", \"gridcolor\": \"white\", \"linecolor\": \"white\", \"minorgridcolor\": \"white\", \"startlinecolor\": \"#2a3f5f\"}, \"type\": \"carpet\"}], \"choropleth\": [{\"colorbar\": {\"outlinewidth\": 0, \"ticks\": \"\"}, \"type\": \"choropleth\"}], \"contour\": [{\"colorbar\": {\"outlinewidth\": 0, \"ticks\": \"\"}, \"colorscale\": [[0.0, \"#0d0887\"], [0.1111111111111111, \"#46039f\"], [0.2222222222222222, \"#7201a8\"], [0.3333333333333333, \"#9c179e\"], [0.4444444444444444, \"#bd3786\"], [0.5555555555555556, \"#d8576b\"], [0.6666666666666666, \"#ed7953\"], [0.7777777777777778, \"#fb9f3a\"], [0.8888888888888888, \"#fdca26\"], [1.0, \"#f0f921\"]], \"type\": \"contour\"}], \"contourcarpet\": [{\"colorbar\": {\"outlinewidth\": 0, \"ticks\": \"\"}, \"type\": \"contourcarpet\"}], \"heatmap\": [{\"colorbar\": {\"outlinewidth\": 0, \"ticks\": \"\"}, \"colorscale\": [[0.0, \"#0d0887\"], [0.1111111111111111, \"#46039f\"], [0.2222222222222222, \"#7201a8\"], [0.3333333333333333, \"#9c179e\"], [0.4444444444444444, \"#bd3786\"], [0.5555555555555556, \"#d8576b\"], [0.6666666666666666, \"#ed7953\"], [0.7777777777777778, \"#fb9f3a\"], [0.8888888888888888, \"#fdca26\"], [1.0, \"#f0f921\"]], \"type\": \"heatmap\"}], \"heatmapgl\": [{\"colorbar\": {\"outlinewidth\": 0, \"ticks\": \"\"}, \"colorscale\": [[0.0, \"#0d0887\"], [0.1111111111111111, \"#46039f\"], [0.2222222222222222, \"#7201a8\"], [0.3333333333333333, \"#9c179e\"], [0.4444444444444444, \"#bd3786\"], [0.5555555555555556, \"#d8576b\"], [0.6666666666666666, \"#ed7953\"], [0.7777777777777778, \"#fb9f3a\"], [0.8888888888888888, \"#fdca26\"], [1.0, \"#f0f921\"]], \"type\": \"heatmapgl\"}], \"histogram\": [{\"marker\": {\"colorbar\": {\"outlinewidth\": 0, \"ticks\": \"\"}}, \"type\": \"histogram\"}], \"histogram2d\": [{\"colorbar\": {\"outlinewidth\": 0, \"ticks\": \"\"}, \"colorscale\": [[0.0, \"#0d0887\"], [0.1111111111111111, \"#46039f\"], [0.2222222222222222, \"#7201a8\"], [0.3333333333333333, \"#9c179e\"], [0.4444444444444444, \"#bd3786\"], [0.5555555555555556, \"#d8576b\"], [0.6666666666666666, \"#ed7953\"], [0.7777777777777778, \"#fb9f3a\"], [0.8888888888888888, \"#fdca26\"], [1.0, \"#f0f921\"]], \"type\": \"histogram2d\"}], \"histogram2dcontour\": [{\"colorbar\": {\"outlinewidth\": 0, \"ticks\": \"\"}, \"colorscale\": [[0.0, \"#0d0887\"], [0.1111111111111111, \"#46039f\"], [0.2222222222222222, \"#7201a8\"], [0.3333333333333333, \"#9c179e\"], [0.4444444444444444, \"#bd3786\"], [0.5555555555555556, \"#d8576b\"], [0.6666666666666666, \"#ed7953\"], [0.7777777777777778, \"#fb9f3a\"], [0.8888888888888888, \"#fdca26\"], [1.0, \"#f0f921\"]], \"type\": \"histogram2dcontour\"}], \"mesh3d\": [{\"colorbar\": {\"outlinewidth\": 0, \"ticks\": \"\"}, \"type\": \"mesh3d\"}], \"parcoords\": [{\"line\": {\"colorbar\": {\"outlinewidth\": 0, \"ticks\": \"\"}}, \"type\": \"parcoords\"}], \"pie\": [{\"automargin\": true, \"type\": \"pie\"}], \"scatter\": [{\"marker\": {\"colorbar\": {\"outlinewidth\": 0, \"ticks\": \"\"}}, \"type\": \"scatter\"}], \"scatter3d\": [{\"line\": {\"colorbar\": {\"outlinewidth\": 0, \"ticks\": \"\"}}, \"marker\": {\"colorbar\": {\"outlinewidth\": 0, \"ticks\": \"\"}}, \"type\": \"scatter3d\"}], \"scattercarpet\": [{\"marker\": {\"colorbar\": {\"outlinewidth\": 0, \"ticks\": \"\"}}, \"type\": \"scattercarpet\"}], \"scattergeo\": [{\"marker\": {\"colorbar\": {\"outlinewidth\": 0, \"ticks\": \"\"}}, \"type\": \"scattergeo\"}], \"scattergl\": [{\"marker\": {\"colorbar\": {\"outlinewidth\": 0, \"ticks\": \"\"}}, \"type\": \"scattergl\"}], \"scattermapbox\": [{\"marker\": {\"colorbar\": {\"outlinewidth\": 0, \"ticks\": \"\"}}, \"type\": \"scattermapbox\"}], \"scatterpolar\": [{\"marker\": {\"colorbar\": {\"outlinewidth\": 0, \"ticks\": \"\"}}, \"type\": \"scatterpolar\"}], \"scatterpolargl\": [{\"marker\": {\"colorbar\": {\"outlinewidth\": 0, \"ticks\": \"\"}}, \"type\": \"scatterpolargl\"}], \"scatterternary\": [{\"marker\": {\"colorbar\": {\"outlinewidth\": 0, \"ticks\": \"\"}}, \"type\": \"scatterternary\"}], \"surface\": [{\"colorbar\": {\"outlinewidth\": 0, \"ticks\": \"\"}, \"colorscale\": [[0.0, \"#0d0887\"], [0.1111111111111111, \"#46039f\"], [0.2222222222222222, \"#7201a8\"], [0.3333333333333333, \"#9c179e\"], [0.4444444444444444, \"#bd3786\"], [0.5555555555555556, \"#d8576b\"], [0.6666666666666666, \"#ed7953\"], [0.7777777777777778, \"#fb9f3a\"], [0.8888888888888888, \"#fdca26\"], [1.0, \"#f0f921\"]], \"type\": \"surface\"}], \"table\": [{\"cells\": {\"fill\": {\"color\": \"#EBF0F8\"}, \"line\": {\"color\": \"white\"}}, \"header\": {\"fill\": {\"color\": \"#C8D4E3\"}, \"line\": {\"color\": \"white\"}}, \"type\": \"table\"}]}, \"layout\": {\"annotationdefaults\": {\"arrowcolor\": \"#2a3f5f\", \"arrowhead\": 0, \"arrowwidth\": 1}, \"autotypenumbers\": \"strict\", \"coloraxis\": {\"colorbar\": {\"outlinewidth\": 0, \"ticks\": \"\"}}, \"colorscale\": {\"diverging\": [[0, \"#8e0152\"], [0.1, \"#c51b7d\"], [0.2, \"#de77ae\"], [0.3, \"#f1b6da\"], [0.4, \"#fde0ef\"], [0.5, \"#f7f7f7\"], [0.6, \"#e6f5d0\"], [0.7, \"#b8e186\"], [0.8, \"#7fbc41\"], [0.9, \"#4d9221\"], [1, \"#276419\"]], \"sequential\": [[0.0, \"#0d0887\"], [0.1111111111111111, \"#46039f\"], [0.2222222222222222, \"#7201a8\"], [0.3333333333333333, \"#9c179e\"], [0.4444444444444444, \"#bd3786\"], [0.5555555555555556, \"#d8576b\"], [0.6666666666666666, \"#ed7953\"], [0.7777777777777778, \"#fb9f3a\"], [0.8888888888888888, \"#fdca26\"], [1.0, \"#f0f921\"]], \"sequentialminus\": [[0.0, \"#0d0887\"], [0.1111111111111111, \"#46039f\"], [0.2222222222222222, \"#7201a8\"], [0.3333333333333333, \"#9c179e\"], [0.4444444444444444, \"#bd3786\"], [0.5555555555555556, \"#d8576b\"], [0.6666666666666666, \"#ed7953\"], [0.7777777777777778, \"#fb9f3a\"], [0.8888888888888888, \"#fdca26\"], [1.0, \"#f0f921\"]]}, \"colorway\": [\"#636efa\", \"#EF553B\", \"#00cc96\", \"#ab63fa\", \"#FFA15A\", \"#19d3f3\", \"#FF6692\", \"#B6E880\", \"#FF97FF\", \"#FECB52\"], \"font\": {\"color\": \"#2a3f5f\"}, \"geo\": {\"bgcolor\": \"white\", \"lakecolor\": \"white\", \"landcolor\": \"#E5ECF6\", \"showlakes\": true, \"showland\": true, \"subunitcolor\": \"white\"}, \"hoverlabel\": {\"align\": \"left\"}, \"hovermode\": \"closest\", \"mapbox\": {\"style\": \"light\"}, \"paper_bgcolor\": \"white\", \"plot_bgcolor\": \"#E5ECF6\", \"polar\": {\"angularaxis\": {\"gridcolor\": \"white\", \"linecolor\": \"white\", \"ticks\": \"\"}, \"bgcolor\": \"#E5ECF6\", \"radialaxis\": {\"gridcolor\": \"white\", \"linecolor\": \"white\", \"ticks\": \"\"}}, \"scene\": {\"xaxis\": {\"backgroundcolor\": \"#E5ECF6\", \"gridcolor\": \"white\", \"gridwidth\": 2, \"linecolor\": \"white\", \"showbackground\": true, \"ticks\": \"\", \"zerolinecolor\": \"white\"}, \"yaxis\": {\"backgroundcolor\": \"#E5ECF6\", \"gridcolor\": \"white\", \"gridwidth\": 2, \"linecolor\": \"white\", \"showbackground\": true, \"ticks\": \"\", \"zerolinecolor\": \"white\"}, \"zaxis\": {\"backgroundcolor\": \"#E5ECF6\", \"gridcolor\": \"white\", \"gridwidth\": 2, \"linecolor\": \"white\", \"showbackground\": true, \"ticks\": \"\", \"zerolinecolor\": \"white\"}}, \"shapedefaults\": {\"line\": {\"color\": \"#2a3f5f\"}}, \"ternary\": {\"aaxis\": {\"gridcolor\": \"white\", \"linecolor\": \"white\", \"ticks\": \"\"}, \"baxis\": {\"gridcolor\": \"white\", \"linecolor\": \"white\", \"ticks\": \"\"}, \"bgcolor\": \"#E5ECF6\", \"caxis\": {\"gridcolor\": \"white\", \"linecolor\": \"white\", \"ticks\": \"\"}}, \"title\": {\"x\": 0.05}, \"xaxis\": {\"automargin\": true, \"gridcolor\": \"white\", \"linecolor\": \"white\", \"ticks\": \"\", \"title\": {\"standoff\": 15}, \"zerolinecolor\": \"white\", \"zerolinewidth\": 2}, \"yaxis\": {\"automargin\": true, \"gridcolor\": \"white\", \"linecolor\": \"white\", \"ticks\": \"\", \"title\": {\"standoff\": 15}, \"zerolinecolor\": \"white\", \"zerolinewidth\": 2}}}, \"yaxis\": {\"range\": [2, 5.1], \"title\": {\"text\": \"RMSE\"}}},                        {\"responsive\": true}                    ).then(function(){\n",
       "                            \n",
       "var gd = document.getElementById('59cbcdde-859d-4efb-b9fc-6ae469d9a14a');\n",
       "var x = new MutationObserver(function (mutations, observer) {{\n",
       "        var display = window.getComputedStyle(gd).display;\n",
       "        if (!display || display === 'none') {{\n",
       "            console.log([gd, 'removed!']);\n",
       "            Plotly.purge(gd);\n",
       "            observer.disconnect();\n",
       "        }}\n",
       "}});\n",
       "\n",
       "// Listen for the removal of the full notebook cells\n",
       "var notebookContainer = gd.closest('#notebook-container');\n",
       "if (notebookContainer) {{\n",
       "    x.observe(notebookContainer, {childList: true});\n",
       "}}\n",
       "\n",
       "// Listen for the clearing of the current output cell\n",
       "var outputEl = gd.closest('.output');\n",
       "if (outputEl) {{\n",
       "    x.observe(outputEl, {childList: true});\n",
       "}}\n",
       "\n",
       "                        })                };                });            </script>        </div>"
      ]
     },
     "metadata": {},
     "output_type": "display_data"
    }
   ],
   "source": [
    "fig = compare_models(models)\n",
    "fig.update_yaxes(range=[2,5.1], title=\"RMSE\")"
   ]
  },
  {
   "cell_type": "markdown",
   "metadata": {},
   "source": [
    "The model year improved accuracy quite a bit!  This improvement also appears to generalize as it also reduced the cross validation error. "
   ]
  },
  {
   "cell_type": "markdown",
   "metadata": {},
   "source": [
    "## Going too Far?\n",
    "\n",
    "Can we use the car's name to predict MPG?  The name contains general features like the manufacturer that might help but it also contains the vehicle make which is probably too specific and not all the vehicles in test will appear in training. \n",
    "\n",
    "Let's try by applying the CountVectorizer (which implements the bag of words features).  At this point we are also likely to have too many dimensions in our model and we are not applying any regularization technique to compensate (because we haven't covered regularization in lecture yet.)"
   ]
  },
  {
   "cell_type": "code",
   "execution_count": 42,
   "metadata": {},
   "outputs": [],
   "source": [
    "from sklearn.feature_extraction.text import CountVectorizer\n",
    "model = Pipeline([\n",
    "    (\"SelectColumns\", ColumnTransformer([\n",
    "        (\"keep\", \"passthrough\", quantitative_features),\n",
    "        (\"cyl_vol\", volume_transformer, [\"cylinders\", \"displacement\"]),\n",
    "        (\"text\", CountVectorizer(), \"name\")\n",
    "    ])),\n",
    "    (\"Imputation\", SimpleImputer()),\n",
    "    (\"LinearModel\", LinearRegression())\n",
    "])"
   ]
  },
  {
   "cell_type": "markdown",
   "metadata": {},
   "source": [
    "**Notice**: That we are using an additional column transformation."
   ]
  },
  {
   "cell_type": "code",
   "execution_count": 43,
   "metadata": {},
   "outputs": [],
   "source": [
    "model.fit(tr, tr['mpg'])\n",
    "models['c+d+d/c+h+w+a+y+n'] = model"
   ]
  },
  {
   "cell_type": "code",
   "execution_count": 44,
   "metadata": {},
   "outputs": [
    {
     "data": {
      "application/vnd.plotly.v1+json": {
       "config": {
        "plotlyServerURL": "https://plot.ly"
       },
       "data": [
        {
         "name": "Training RMSE",
         "type": "bar",
         "x": [
          "c+d",
          "c+d+d/c",
          "c+d+d/c+h+w+a",
          "c+d+d/c+h+w+a+y",
          "c+d+d/c+h+w+a+y+n"
         ],
         "y": [
          4.589009902639974,
          4.318799994795117,
          4.025034093127813,
          3.0423012736161676,
          1.3279921670315329
         ]
        },
        {
         "name": "CV RMSE",
         "type": "bar",
         "x": [
          "c+d",
          "c+d+d/c",
          "c+d+d/c+h+w+a",
          "c+d+d/c+h+w+a+y",
          "c+d+d/c+h+w+a+y+n"
         ],
         "y": [
          4.605282248429072,
          4.329888723941801,
          4.05180814386984,
          3.092908633896168,
          3.9500296677624704
         ]
        },
        {
         "name": "Test RMSE",
         "opacity": 0.3,
         "type": "bar",
         "x": [
          "c+d",
          "c+d+d/c",
          "c+d+d/c+h+w+a",
          "c+d+d/c+h+w+a+y",
          "c+d+d/c+h+w+a+y+n"
         ],
         "y": [
          5.0340093039091744,
          4.77554281068313,
          4.063052136131592,
          2.867166892795796,
          3.468929502388805
         ]
        }
       ],
       "layout": {
        "template": {
         "data": {
          "bar": [
           {
            "error_x": {
             "color": "#2a3f5f"
            },
            "error_y": {
             "color": "#2a3f5f"
            },
            "marker": {
             "line": {
              "color": "#E5ECF6",
              "width": 0.5
             }
            },
            "type": "bar"
           }
          ],
          "barpolar": [
           {
            "marker": {
             "line": {
              "color": "#E5ECF6",
              "width": 0.5
             }
            },
            "type": "barpolar"
           }
          ],
          "carpet": [
           {
            "aaxis": {
             "endlinecolor": "#2a3f5f",
             "gridcolor": "white",
             "linecolor": "white",
             "minorgridcolor": "white",
             "startlinecolor": "#2a3f5f"
            },
            "baxis": {
             "endlinecolor": "#2a3f5f",
             "gridcolor": "white",
             "linecolor": "white",
             "minorgridcolor": "white",
             "startlinecolor": "#2a3f5f"
            },
            "type": "carpet"
           }
          ],
          "choropleth": [
           {
            "colorbar": {
             "outlinewidth": 0,
             "ticks": ""
            },
            "type": "choropleth"
           }
          ],
          "contour": [
           {
            "colorbar": {
             "outlinewidth": 0,
             "ticks": ""
            },
            "colorscale": [
             [
              0,
              "#0d0887"
             ],
             [
              0.1111111111111111,
              "#46039f"
             ],
             [
              0.2222222222222222,
              "#7201a8"
             ],
             [
              0.3333333333333333,
              "#9c179e"
             ],
             [
              0.4444444444444444,
              "#bd3786"
             ],
             [
              0.5555555555555556,
              "#d8576b"
             ],
             [
              0.6666666666666666,
              "#ed7953"
             ],
             [
              0.7777777777777778,
              "#fb9f3a"
             ],
             [
              0.8888888888888888,
              "#fdca26"
             ],
             [
              1,
              "#f0f921"
             ]
            ],
            "type": "contour"
           }
          ],
          "contourcarpet": [
           {
            "colorbar": {
             "outlinewidth": 0,
             "ticks": ""
            },
            "type": "contourcarpet"
           }
          ],
          "heatmap": [
           {
            "colorbar": {
             "outlinewidth": 0,
             "ticks": ""
            },
            "colorscale": [
             [
              0,
              "#0d0887"
             ],
             [
              0.1111111111111111,
              "#46039f"
             ],
             [
              0.2222222222222222,
              "#7201a8"
             ],
             [
              0.3333333333333333,
              "#9c179e"
             ],
             [
              0.4444444444444444,
              "#bd3786"
             ],
             [
              0.5555555555555556,
              "#d8576b"
             ],
             [
              0.6666666666666666,
              "#ed7953"
             ],
             [
              0.7777777777777778,
              "#fb9f3a"
             ],
             [
              0.8888888888888888,
              "#fdca26"
             ],
             [
              1,
              "#f0f921"
             ]
            ],
            "type": "heatmap"
           }
          ],
          "heatmapgl": [
           {
            "colorbar": {
             "outlinewidth": 0,
             "ticks": ""
            },
            "colorscale": [
             [
              0,
              "#0d0887"
             ],
             [
              0.1111111111111111,
              "#46039f"
             ],
             [
              0.2222222222222222,
              "#7201a8"
             ],
             [
              0.3333333333333333,
              "#9c179e"
             ],
             [
              0.4444444444444444,
              "#bd3786"
             ],
             [
              0.5555555555555556,
              "#d8576b"
             ],
             [
              0.6666666666666666,
              "#ed7953"
             ],
             [
              0.7777777777777778,
              "#fb9f3a"
             ],
             [
              0.8888888888888888,
              "#fdca26"
             ],
             [
              1,
              "#f0f921"
             ]
            ],
            "type": "heatmapgl"
           }
          ],
          "histogram": [
           {
            "marker": {
             "colorbar": {
              "outlinewidth": 0,
              "ticks": ""
             }
            },
            "type": "histogram"
           }
          ],
          "histogram2d": [
           {
            "colorbar": {
             "outlinewidth": 0,
             "ticks": ""
            },
            "colorscale": [
             [
              0,
              "#0d0887"
             ],
             [
              0.1111111111111111,
              "#46039f"
             ],
             [
              0.2222222222222222,
              "#7201a8"
             ],
             [
              0.3333333333333333,
              "#9c179e"
             ],
             [
              0.4444444444444444,
              "#bd3786"
             ],
             [
              0.5555555555555556,
              "#d8576b"
             ],
             [
              0.6666666666666666,
              "#ed7953"
             ],
             [
              0.7777777777777778,
              "#fb9f3a"
             ],
             [
              0.8888888888888888,
              "#fdca26"
             ],
             [
              1,
              "#f0f921"
             ]
            ],
            "type": "histogram2d"
           }
          ],
          "histogram2dcontour": [
           {
            "colorbar": {
             "outlinewidth": 0,
             "ticks": ""
            },
            "colorscale": [
             [
              0,
              "#0d0887"
             ],
             [
              0.1111111111111111,
              "#46039f"
             ],
             [
              0.2222222222222222,
              "#7201a8"
             ],
             [
              0.3333333333333333,
              "#9c179e"
             ],
             [
              0.4444444444444444,
              "#bd3786"
             ],
             [
              0.5555555555555556,
              "#d8576b"
             ],
             [
              0.6666666666666666,
              "#ed7953"
             ],
             [
              0.7777777777777778,
              "#fb9f3a"
             ],
             [
              0.8888888888888888,
              "#fdca26"
             ],
             [
              1,
              "#f0f921"
             ]
            ],
            "type": "histogram2dcontour"
           }
          ],
          "mesh3d": [
           {
            "colorbar": {
             "outlinewidth": 0,
             "ticks": ""
            },
            "type": "mesh3d"
           }
          ],
          "parcoords": [
           {
            "line": {
             "colorbar": {
              "outlinewidth": 0,
              "ticks": ""
             }
            },
            "type": "parcoords"
           }
          ],
          "pie": [
           {
            "automargin": true,
            "type": "pie"
           }
          ],
          "scatter": [
           {
            "marker": {
             "colorbar": {
              "outlinewidth": 0,
              "ticks": ""
             }
            },
            "type": "scatter"
           }
          ],
          "scatter3d": [
           {
            "line": {
             "colorbar": {
              "outlinewidth": 0,
              "ticks": ""
             }
            },
            "marker": {
             "colorbar": {
              "outlinewidth": 0,
              "ticks": ""
             }
            },
            "type": "scatter3d"
           }
          ],
          "scattercarpet": [
           {
            "marker": {
             "colorbar": {
              "outlinewidth": 0,
              "ticks": ""
             }
            },
            "type": "scattercarpet"
           }
          ],
          "scattergeo": [
           {
            "marker": {
             "colorbar": {
              "outlinewidth": 0,
              "ticks": ""
             }
            },
            "type": "scattergeo"
           }
          ],
          "scattergl": [
           {
            "marker": {
             "colorbar": {
              "outlinewidth": 0,
              "ticks": ""
             }
            },
            "type": "scattergl"
           }
          ],
          "scattermapbox": [
           {
            "marker": {
             "colorbar": {
              "outlinewidth": 0,
              "ticks": ""
             }
            },
            "type": "scattermapbox"
           }
          ],
          "scatterpolar": [
           {
            "marker": {
             "colorbar": {
              "outlinewidth": 0,
              "ticks": ""
             }
            },
            "type": "scatterpolar"
           }
          ],
          "scatterpolargl": [
           {
            "marker": {
             "colorbar": {
              "outlinewidth": 0,
              "ticks": ""
             }
            },
            "type": "scatterpolargl"
           }
          ],
          "scatterternary": [
           {
            "marker": {
             "colorbar": {
              "outlinewidth": 0,
              "ticks": ""
             }
            },
            "type": "scatterternary"
           }
          ],
          "surface": [
           {
            "colorbar": {
             "outlinewidth": 0,
             "ticks": ""
            },
            "colorscale": [
             [
              0,
              "#0d0887"
             ],
             [
              0.1111111111111111,
              "#46039f"
             ],
             [
              0.2222222222222222,
              "#7201a8"
             ],
             [
              0.3333333333333333,
              "#9c179e"
             ],
             [
              0.4444444444444444,
              "#bd3786"
             ],
             [
              0.5555555555555556,
              "#d8576b"
             ],
             [
              0.6666666666666666,
              "#ed7953"
             ],
             [
              0.7777777777777778,
              "#fb9f3a"
             ],
             [
              0.8888888888888888,
              "#fdca26"
             ],
             [
              1,
              "#f0f921"
             ]
            ],
            "type": "surface"
           }
          ],
          "table": [
           {
            "cells": {
             "fill": {
              "color": "#EBF0F8"
             },
             "line": {
              "color": "white"
             }
            },
            "header": {
             "fill": {
              "color": "#C8D4E3"
             },
             "line": {
              "color": "white"
             }
            },
            "type": "table"
           }
          ]
         },
         "layout": {
          "annotationdefaults": {
           "arrowcolor": "#2a3f5f",
           "arrowhead": 0,
           "arrowwidth": 1
          },
          "autotypenumbers": "strict",
          "coloraxis": {
           "colorbar": {
            "outlinewidth": 0,
            "ticks": ""
           }
          },
          "colorscale": {
           "diverging": [
            [
             0,
             "#8e0152"
            ],
            [
             0.1,
             "#c51b7d"
            ],
            [
             0.2,
             "#de77ae"
            ],
            [
             0.3,
             "#f1b6da"
            ],
            [
             0.4,
             "#fde0ef"
            ],
            [
             0.5,
             "#f7f7f7"
            ],
            [
             0.6,
             "#e6f5d0"
            ],
            [
             0.7,
             "#b8e186"
            ],
            [
             0.8,
             "#7fbc41"
            ],
            [
             0.9,
             "#4d9221"
            ],
            [
             1,
             "#276419"
            ]
           ],
           "sequential": [
            [
             0,
             "#0d0887"
            ],
            [
             0.1111111111111111,
             "#46039f"
            ],
            [
             0.2222222222222222,
             "#7201a8"
            ],
            [
             0.3333333333333333,
             "#9c179e"
            ],
            [
             0.4444444444444444,
             "#bd3786"
            ],
            [
             0.5555555555555556,
             "#d8576b"
            ],
            [
             0.6666666666666666,
             "#ed7953"
            ],
            [
             0.7777777777777778,
             "#fb9f3a"
            ],
            [
             0.8888888888888888,
             "#fdca26"
            ],
            [
             1,
             "#f0f921"
            ]
           ],
           "sequentialminus": [
            [
             0,
             "#0d0887"
            ],
            [
             0.1111111111111111,
             "#46039f"
            ],
            [
             0.2222222222222222,
             "#7201a8"
            ],
            [
             0.3333333333333333,
             "#9c179e"
            ],
            [
             0.4444444444444444,
             "#bd3786"
            ],
            [
             0.5555555555555556,
             "#d8576b"
            ],
            [
             0.6666666666666666,
             "#ed7953"
            ],
            [
             0.7777777777777778,
             "#fb9f3a"
            ],
            [
             0.8888888888888888,
             "#fdca26"
            ],
            [
             1,
             "#f0f921"
            ]
           ]
          },
          "colorway": [
           "#636efa",
           "#EF553B",
           "#00cc96",
           "#ab63fa",
           "#FFA15A",
           "#19d3f3",
           "#FF6692",
           "#B6E880",
           "#FF97FF",
           "#FECB52"
          ],
          "font": {
           "color": "#2a3f5f"
          },
          "geo": {
           "bgcolor": "white",
           "lakecolor": "white",
           "landcolor": "#E5ECF6",
           "showlakes": true,
           "showland": true,
           "subunitcolor": "white"
          },
          "hoverlabel": {
           "align": "left"
          },
          "hovermode": "closest",
          "mapbox": {
           "style": "light"
          },
          "paper_bgcolor": "white",
          "plot_bgcolor": "#E5ECF6",
          "polar": {
           "angularaxis": {
            "gridcolor": "white",
            "linecolor": "white",
            "ticks": ""
           },
           "bgcolor": "#E5ECF6",
           "radialaxis": {
            "gridcolor": "white",
            "linecolor": "white",
            "ticks": ""
           }
          },
          "scene": {
           "xaxis": {
            "backgroundcolor": "#E5ECF6",
            "gridcolor": "white",
            "gridwidth": 2,
            "linecolor": "white",
            "showbackground": true,
            "ticks": "",
            "zerolinecolor": "white"
           },
           "yaxis": {
            "backgroundcolor": "#E5ECF6",
            "gridcolor": "white",
            "gridwidth": 2,
            "linecolor": "white",
            "showbackground": true,
            "ticks": "",
            "zerolinecolor": "white"
           },
           "zaxis": {
            "backgroundcolor": "#E5ECF6",
            "gridcolor": "white",
            "gridwidth": 2,
            "linecolor": "white",
            "showbackground": true,
            "ticks": "",
            "zerolinecolor": "white"
           }
          },
          "shapedefaults": {
           "line": {
            "color": "#2a3f5f"
           }
          },
          "ternary": {
           "aaxis": {
            "gridcolor": "white",
            "linecolor": "white",
            "ticks": ""
           },
           "baxis": {
            "gridcolor": "white",
            "linecolor": "white",
            "ticks": ""
           },
           "bgcolor": "#E5ECF6",
           "caxis": {
            "gridcolor": "white",
            "linecolor": "white",
            "ticks": ""
           }
          },
          "title": {
           "x": 0.05
          },
          "xaxis": {
           "automargin": true,
           "gridcolor": "white",
           "linecolor": "white",
           "ticks": "",
           "title": {
            "standoff": 15
           },
           "zerolinecolor": "white",
           "zerolinewidth": 2
          },
          "yaxis": {
           "automargin": true,
           "gridcolor": "white",
           "linecolor": "white",
           "ticks": "",
           "title": {
            "standoff": 15
           },
           "zerolinecolor": "white",
           "zerolinewidth": 2
          }
         }
        },
        "yaxis": {
         "range": [
          0,
          5.1
         ],
         "title": {
          "text": "RMSE"
         }
        }
       }
      },
      "text/html": [
       "<div>                            <div id=\"e269e8f1-fdc0-4fae-91cc-a56b7ca68aef\" class=\"plotly-graph-div\" style=\"height:525px; width:100%;\"></div>            <script type=\"text/javascript\">                require([\"plotly\"], function(Plotly) {                    window.PLOTLYENV=window.PLOTLYENV || {};                                    if (document.getElementById(\"e269e8f1-fdc0-4fae-91cc-a56b7ca68aef\")) {                    Plotly.newPlot(                        \"e269e8f1-fdc0-4fae-91cc-a56b7ca68aef\",                        [{\"name\": \"Training RMSE\", \"type\": \"bar\", \"x\": [\"c+d\", \"c+d+d/c\", \"c+d+d/c+h+w+a\", \"c+d+d/c+h+w+a+y\", \"c+d+d/c+h+w+a+y+n\"], \"y\": [4.589009902639974, 4.318799994795117, 4.025034093127813, 3.0423012736161676, 1.3279921670315329]}, {\"name\": \"CV RMSE\", \"type\": \"bar\", \"x\": [\"c+d\", \"c+d+d/c\", \"c+d+d/c+h+w+a\", \"c+d+d/c+h+w+a+y\", \"c+d+d/c+h+w+a+y+n\"], \"y\": [4.605282248429072, 4.329888723941801, 4.05180814386984, 3.092908633896168, 3.9500296677624704]}, {\"name\": \"Test RMSE\", \"opacity\": 0.3, \"type\": \"bar\", \"x\": [\"c+d\", \"c+d+d/c\", \"c+d+d/c+h+w+a\", \"c+d+d/c+h+w+a+y\", \"c+d+d/c+h+w+a+y+n\"], \"y\": [5.0340093039091744, 4.77554281068313, 4.063052136131592, 2.867166892795796, 3.468929502388805]}],                        {\"template\": {\"data\": {\"bar\": [{\"error_x\": {\"color\": \"#2a3f5f\"}, \"error_y\": {\"color\": \"#2a3f5f\"}, \"marker\": {\"line\": {\"color\": \"#E5ECF6\", \"width\": 0.5}}, \"type\": \"bar\"}], \"barpolar\": [{\"marker\": {\"line\": {\"color\": \"#E5ECF6\", \"width\": 0.5}}, \"type\": \"barpolar\"}], \"carpet\": [{\"aaxis\": {\"endlinecolor\": \"#2a3f5f\", \"gridcolor\": \"white\", \"linecolor\": \"white\", \"minorgridcolor\": \"white\", \"startlinecolor\": \"#2a3f5f\"}, \"baxis\": {\"endlinecolor\": \"#2a3f5f\", \"gridcolor\": \"white\", \"linecolor\": \"white\", \"minorgridcolor\": \"white\", \"startlinecolor\": \"#2a3f5f\"}, \"type\": \"carpet\"}], \"choropleth\": [{\"colorbar\": {\"outlinewidth\": 0, \"ticks\": \"\"}, \"type\": \"choropleth\"}], \"contour\": [{\"colorbar\": {\"outlinewidth\": 0, \"ticks\": \"\"}, \"colorscale\": [[0.0, \"#0d0887\"], [0.1111111111111111, \"#46039f\"], [0.2222222222222222, \"#7201a8\"], [0.3333333333333333, \"#9c179e\"], [0.4444444444444444, \"#bd3786\"], [0.5555555555555556, \"#d8576b\"], [0.6666666666666666, \"#ed7953\"], [0.7777777777777778, \"#fb9f3a\"], [0.8888888888888888, \"#fdca26\"], [1.0, \"#f0f921\"]], \"type\": \"contour\"}], \"contourcarpet\": [{\"colorbar\": {\"outlinewidth\": 0, \"ticks\": \"\"}, \"type\": \"contourcarpet\"}], \"heatmap\": [{\"colorbar\": {\"outlinewidth\": 0, \"ticks\": \"\"}, \"colorscale\": [[0.0, \"#0d0887\"], [0.1111111111111111, \"#46039f\"], [0.2222222222222222, \"#7201a8\"], [0.3333333333333333, \"#9c179e\"], [0.4444444444444444, \"#bd3786\"], [0.5555555555555556, \"#d8576b\"], [0.6666666666666666, \"#ed7953\"], [0.7777777777777778, \"#fb9f3a\"], [0.8888888888888888, \"#fdca26\"], [1.0, \"#f0f921\"]], \"type\": \"heatmap\"}], \"heatmapgl\": [{\"colorbar\": {\"outlinewidth\": 0, \"ticks\": \"\"}, \"colorscale\": [[0.0, \"#0d0887\"], [0.1111111111111111, \"#46039f\"], [0.2222222222222222, \"#7201a8\"], [0.3333333333333333, \"#9c179e\"], [0.4444444444444444, \"#bd3786\"], [0.5555555555555556, \"#d8576b\"], [0.6666666666666666, \"#ed7953\"], [0.7777777777777778, \"#fb9f3a\"], [0.8888888888888888, \"#fdca26\"], [1.0, \"#f0f921\"]], \"type\": \"heatmapgl\"}], \"histogram\": [{\"marker\": {\"colorbar\": {\"outlinewidth\": 0, \"ticks\": \"\"}}, \"type\": \"histogram\"}], \"histogram2d\": [{\"colorbar\": {\"outlinewidth\": 0, \"ticks\": \"\"}, \"colorscale\": [[0.0, \"#0d0887\"], [0.1111111111111111, \"#46039f\"], [0.2222222222222222, \"#7201a8\"], [0.3333333333333333, \"#9c179e\"], [0.4444444444444444, \"#bd3786\"], [0.5555555555555556, \"#d8576b\"], [0.6666666666666666, \"#ed7953\"], [0.7777777777777778, \"#fb9f3a\"], [0.8888888888888888, \"#fdca26\"], [1.0, \"#f0f921\"]], \"type\": \"histogram2d\"}], \"histogram2dcontour\": [{\"colorbar\": {\"outlinewidth\": 0, \"ticks\": \"\"}, \"colorscale\": [[0.0, \"#0d0887\"], [0.1111111111111111, \"#46039f\"], [0.2222222222222222, \"#7201a8\"], [0.3333333333333333, \"#9c179e\"], [0.4444444444444444, \"#bd3786\"], [0.5555555555555556, \"#d8576b\"], [0.6666666666666666, \"#ed7953\"], [0.7777777777777778, \"#fb9f3a\"], [0.8888888888888888, \"#fdca26\"], [1.0, \"#f0f921\"]], \"type\": \"histogram2dcontour\"}], \"mesh3d\": [{\"colorbar\": {\"outlinewidth\": 0, \"ticks\": \"\"}, \"type\": \"mesh3d\"}], \"parcoords\": [{\"line\": {\"colorbar\": {\"outlinewidth\": 0, \"ticks\": \"\"}}, \"type\": \"parcoords\"}], \"pie\": [{\"automargin\": true, \"type\": \"pie\"}], \"scatter\": [{\"marker\": {\"colorbar\": {\"outlinewidth\": 0, \"ticks\": \"\"}}, \"type\": \"scatter\"}], \"scatter3d\": [{\"line\": {\"colorbar\": {\"outlinewidth\": 0, \"ticks\": \"\"}}, \"marker\": {\"colorbar\": {\"outlinewidth\": 0, \"ticks\": \"\"}}, \"type\": \"scatter3d\"}], \"scattercarpet\": [{\"marker\": {\"colorbar\": {\"outlinewidth\": 0, \"ticks\": \"\"}}, \"type\": \"scattercarpet\"}], \"scattergeo\": [{\"marker\": {\"colorbar\": {\"outlinewidth\": 0, \"ticks\": \"\"}}, \"type\": \"scattergeo\"}], \"scattergl\": [{\"marker\": {\"colorbar\": {\"outlinewidth\": 0, \"ticks\": \"\"}}, \"type\": \"scattergl\"}], \"scattermapbox\": [{\"marker\": {\"colorbar\": {\"outlinewidth\": 0, \"ticks\": \"\"}}, \"type\": \"scattermapbox\"}], \"scatterpolar\": [{\"marker\": {\"colorbar\": {\"outlinewidth\": 0, \"ticks\": \"\"}}, \"type\": \"scatterpolar\"}], \"scatterpolargl\": [{\"marker\": {\"colorbar\": {\"outlinewidth\": 0, \"ticks\": \"\"}}, \"type\": \"scatterpolargl\"}], \"scatterternary\": [{\"marker\": {\"colorbar\": {\"outlinewidth\": 0, \"ticks\": \"\"}}, \"type\": \"scatterternary\"}], \"surface\": [{\"colorbar\": {\"outlinewidth\": 0, \"ticks\": \"\"}, \"colorscale\": [[0.0, \"#0d0887\"], [0.1111111111111111, \"#46039f\"], [0.2222222222222222, \"#7201a8\"], [0.3333333333333333, \"#9c179e\"], [0.4444444444444444, \"#bd3786\"], [0.5555555555555556, \"#d8576b\"], [0.6666666666666666, \"#ed7953\"], [0.7777777777777778, \"#fb9f3a\"], [0.8888888888888888, \"#fdca26\"], [1.0, \"#f0f921\"]], \"type\": \"surface\"}], \"table\": [{\"cells\": {\"fill\": {\"color\": \"#EBF0F8\"}, \"line\": {\"color\": \"white\"}}, \"header\": {\"fill\": {\"color\": \"#C8D4E3\"}, \"line\": {\"color\": \"white\"}}, \"type\": \"table\"}]}, \"layout\": {\"annotationdefaults\": {\"arrowcolor\": \"#2a3f5f\", \"arrowhead\": 0, \"arrowwidth\": 1}, \"autotypenumbers\": \"strict\", \"coloraxis\": {\"colorbar\": {\"outlinewidth\": 0, \"ticks\": \"\"}}, \"colorscale\": {\"diverging\": [[0, \"#8e0152\"], [0.1, \"#c51b7d\"], [0.2, \"#de77ae\"], [0.3, \"#f1b6da\"], [0.4, \"#fde0ef\"], [0.5, \"#f7f7f7\"], [0.6, \"#e6f5d0\"], [0.7, \"#b8e186\"], [0.8, \"#7fbc41\"], [0.9, \"#4d9221\"], [1, \"#276419\"]], \"sequential\": [[0.0, \"#0d0887\"], [0.1111111111111111, \"#46039f\"], [0.2222222222222222, \"#7201a8\"], [0.3333333333333333, \"#9c179e\"], [0.4444444444444444, \"#bd3786\"], [0.5555555555555556, \"#d8576b\"], [0.6666666666666666, \"#ed7953\"], [0.7777777777777778, \"#fb9f3a\"], [0.8888888888888888, \"#fdca26\"], [1.0, \"#f0f921\"]], \"sequentialminus\": [[0.0, \"#0d0887\"], [0.1111111111111111, \"#46039f\"], [0.2222222222222222, \"#7201a8\"], [0.3333333333333333, \"#9c179e\"], [0.4444444444444444, \"#bd3786\"], [0.5555555555555556, \"#d8576b\"], [0.6666666666666666, \"#ed7953\"], [0.7777777777777778, \"#fb9f3a\"], [0.8888888888888888, \"#fdca26\"], [1.0, \"#f0f921\"]]}, \"colorway\": [\"#636efa\", \"#EF553B\", \"#00cc96\", \"#ab63fa\", \"#FFA15A\", \"#19d3f3\", \"#FF6692\", \"#B6E880\", \"#FF97FF\", \"#FECB52\"], \"font\": {\"color\": \"#2a3f5f\"}, \"geo\": {\"bgcolor\": \"white\", \"lakecolor\": \"white\", \"landcolor\": \"#E5ECF6\", \"showlakes\": true, \"showland\": true, \"subunitcolor\": \"white\"}, \"hoverlabel\": {\"align\": \"left\"}, \"hovermode\": \"closest\", \"mapbox\": {\"style\": \"light\"}, \"paper_bgcolor\": \"white\", \"plot_bgcolor\": \"#E5ECF6\", \"polar\": {\"angularaxis\": {\"gridcolor\": \"white\", \"linecolor\": \"white\", \"ticks\": \"\"}, \"bgcolor\": \"#E5ECF6\", \"radialaxis\": {\"gridcolor\": \"white\", \"linecolor\": \"white\", \"ticks\": \"\"}}, \"scene\": {\"xaxis\": {\"backgroundcolor\": \"#E5ECF6\", \"gridcolor\": \"white\", \"gridwidth\": 2, \"linecolor\": \"white\", \"showbackground\": true, \"ticks\": \"\", \"zerolinecolor\": \"white\"}, \"yaxis\": {\"backgroundcolor\": \"#E5ECF6\", \"gridcolor\": \"white\", \"gridwidth\": 2, \"linecolor\": \"white\", \"showbackground\": true, \"ticks\": \"\", \"zerolinecolor\": \"white\"}, \"zaxis\": {\"backgroundcolor\": \"#E5ECF6\", \"gridcolor\": \"white\", \"gridwidth\": 2, \"linecolor\": \"white\", \"showbackground\": true, \"ticks\": \"\", \"zerolinecolor\": \"white\"}}, \"shapedefaults\": {\"line\": {\"color\": \"#2a3f5f\"}}, \"ternary\": {\"aaxis\": {\"gridcolor\": \"white\", \"linecolor\": \"white\", \"ticks\": \"\"}, \"baxis\": {\"gridcolor\": \"white\", \"linecolor\": \"white\", \"ticks\": \"\"}, \"bgcolor\": \"#E5ECF6\", \"caxis\": {\"gridcolor\": \"white\", \"linecolor\": \"white\", \"ticks\": \"\"}}, \"title\": {\"x\": 0.05}, \"xaxis\": {\"automargin\": true, \"gridcolor\": \"white\", \"linecolor\": \"white\", \"ticks\": \"\", \"title\": {\"standoff\": 15}, \"zerolinecolor\": \"white\", \"zerolinewidth\": 2}, \"yaxis\": {\"automargin\": true, \"gridcolor\": \"white\", \"linecolor\": \"white\", \"ticks\": \"\", \"title\": {\"standoff\": 15}, \"zerolinecolor\": \"white\", \"zerolinewidth\": 2}}}, \"yaxis\": {\"range\": [0, 5.1], \"title\": {\"text\": \"RMSE\"}}},                        {\"responsive\": true}                    ).then(function(){\n",
       "                            \n",
       "var gd = document.getElementById('e269e8f1-fdc0-4fae-91cc-a56b7ca68aef');\n",
       "var x = new MutationObserver(function (mutations, observer) {{\n",
       "        var display = window.getComputedStyle(gd).display;\n",
       "        if (!display || display === 'none') {{\n",
       "            console.log([gd, 'removed!']);\n",
       "            Plotly.purge(gd);\n",
       "            observer.disconnect();\n",
       "        }}\n",
       "}});\n",
       "\n",
       "// Listen for the removal of the full notebook cells\n",
       "var notebookContainer = gd.closest('#notebook-container');\n",
       "if (notebookContainer) {{\n",
       "    x.observe(notebookContainer, {childList: true});\n",
       "}}\n",
       "\n",
       "// Listen for the clearing of the current output cell\n",
       "var outputEl = gd.closest('.output');\n",
       "if (outputEl) {{\n",
       "    x.observe(outputEl, {childList: true});\n",
       "}}\n",
       "\n",
       "                        })                };                });            </script>        </div>"
      ]
     },
     "metadata": {},
     "output_type": "display_data"
    }
   ],
   "source": [
    "fig = compare_models(models)\n",
    "fig.update_yaxes(range=[0,5.1], title=\"RMSE\")"
   ]
  },
  {
   "cell_type": "markdown",
   "metadata": {},
   "source": [
    "**Overfitting!**.  We substantially reduced the training error but actually made the generalization error worse!"
   ]
  },
  {
   "cell_type": "code",
   "execution_count": 45,
   "metadata": {},
   "outputs": [],
   "source": [
    "best_model = clone(models['c+d+d/c+h+w+a+y'])"
   ]
  },
  {
   "cell_type": "code",
   "execution_count": 46,
   "metadata": {},
   "outputs": [],
   "source": [
    "best_model.fit(data, data['mpg']);"
   ]
  },
  {
   "cell_type": "code",
   "execution_count": 47,
   "metadata": {},
   "outputs": [
    {
     "data": {
      "text/plain": [
       "2.8167549672284298"
      ]
     },
     "execution_count": 47,
     "metadata": {},
     "output_type": "execute_result"
    }
   ],
   "source": [
    "rmse(best_model.predict(te), te['mpg'])"
   ]
  }
 ],
 "metadata": {
  "kernelspec": {
   "display_name": "Python 3 (ipykernel)",
   "language": "python",
   "name": "python3"
  },
  "language_info": {
   "codemirror_mode": {
    "name": "ipython",
    "version": 3
   },
   "file_extension": ".py",
   "mimetype": "text/x-python",
   "name": "python",
   "nbconvert_exporter": "python",
   "pygments_lexer": "ipython3",
   "version": "3.8.10"
  }
 },
 "nbformat": 4,
 "nbformat_minor": 4
}
