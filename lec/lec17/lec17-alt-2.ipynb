{
 "cells": [
  {
   "cell_type": "markdown",
   "metadata": {},
   "source": [
    "# Lecture 16, Part 2 – Data 100, Fall 2020\n",
    "\n",
    "**by Joseph Gonzalez (Spring 2020)**\n",
    "\n",
    "**Note:** scikit-learn's `Pipeline` functionality is explored at length in this notebook. **IT IS NOT IN SCOPE FOR FALL 2020.** Instead, focus on the bigger picture, of how we are using regularization in practice."
   ]
  },
  {
   "cell_type": "markdown",
   "metadata": {},
   "source": [
    "## Regularization\n",
    "\n",
    "In this notebook we explore the use of regularization techniques to address overfitting.  "
   ]
  },
  {
   "cell_type": "markdown",
   "metadata": {},
   "source": [
    "## Imports\n",
    "\n",
    "As with other notebooks we will use the same set of standard imports."
   ]
  },
  {
   "cell_type": "code",
   "execution_count": 1,
   "metadata": {},
   "outputs": [],
   "source": [
    "import numpy as np\n",
    "import pandas as pd"
   ]
  },
  {
   "cell_type": "code",
   "execution_count": 2,
   "metadata": {},
   "outputs": [
    {
     "name": "stderr",
     "output_type": "stream",
     "text": [
      "/opt/conda/lib/python3.8/site-packages/geopandas/_compat.py:106: UserWarning:\n",
      "\n",
      "The Shapely GEOS version (3.8.0-CAPI-1.13.1 ) is incompatible with the GEOS version PyGEOS was compiled with (3.9.1-CAPI-1.14.2). Conversions between both will be slow.\n",
      "\n"
     ]
    },
    {
     "data": {
      "text/html": [
       "        <script type=\"text/javascript\">\n",
       "        window.PlotlyConfig = {MathJaxConfig: 'local'};\n",
       "        if (window.MathJax) {MathJax.Hub.Config({SVG: {font: \"STIX-Web\"}});}\n",
       "        if (typeof require !== 'undefined') {\n",
       "        require.undef(\"plotly\");\n",
       "        requirejs.config({\n",
       "            paths: {\n",
       "                'plotly': ['https://cdn.plot.ly/plotly-latest.min']\n",
       "            }\n",
       "        });\n",
       "        require(['plotly'], function(Plotly) {\n",
       "            window._Plotly = Plotly;\n",
       "        });\n",
       "        }\n",
       "        </script>\n",
       "        "
      ]
     },
     "metadata": {},
     "output_type": "display_data"
    },
    {
     "data": {
      "text/html": [
       "        <script type=\"text/javascript\">\n",
       "        window.PlotlyConfig = {MathJaxConfig: 'local'};\n",
       "        if (window.MathJax) {MathJax.Hub.Config({SVG: {font: \"STIX-Web\"}});}\n",
       "        if (typeof require !== 'undefined') {\n",
       "        require.undef(\"plotly\");\n",
       "        requirejs.config({\n",
       "            paths: {\n",
       "                'plotly': ['https://cdn.plot.ly/plotly-latest.min']\n",
       "            }\n",
       "        });\n",
       "        require(['plotly'], function(Plotly) {\n",
       "            window._Plotly = Plotly;\n",
       "        });\n",
       "        }\n",
       "        </script>\n",
       "        "
      ]
     },
     "metadata": {},
     "output_type": "display_data"
    }
   ],
   "source": [
    "import plotly.offline as py\n",
    "import plotly.express as px\n",
    "import plotly.graph_objects as go\n",
    "from plotly.subplots import make_subplots\n",
    "import plotly.figure_factory as ff\n",
    "import cufflinks as cf\n",
    "cf.set_config_file(offline=True, sharing=False, theme='ggplot');"
   ]
  },
  {
   "cell_type": "code",
   "execution_count": 3,
   "metadata": {},
   "outputs": [],
   "source": [
    "from sklearn.model_selection import train_test_split\n",
    "from sklearn.pipeline import Pipeline\n",
    "from sklearn.compose import ColumnTransformer\n",
    "from sklearn.preprocessing import FunctionTransformer\n",
    "from sklearn.impute import SimpleImputer\n",
    "from sklearn.linear_model import LinearRegression\n",
    "from sklearn.model_selection import cross_val_score"
   ]
  },
  {
   "cell_type": "markdown",
   "metadata": {},
   "source": [
    "## The Data\n",
    "\n",
    "For this notebook, we will use the seaborn `mpg` dataset which describes the fuel mileage (measured in miles per gallon or mpg) of various cars along with characteristics of those cars.  Our goal will be to build a model that can predict the fuel mileage of a car based on the characteristics of that car."
   ]
  },
  {
   "cell_type": "code",
   "execution_count": 4,
   "metadata": {},
   "outputs": [
    {
     "data": {
      "text/html": [
       "<div>\n",
       "<style scoped>\n",
       "    .dataframe tbody tr th:only-of-type {\n",
       "        vertical-align: middle;\n",
       "    }\n",
       "\n",
       "    .dataframe tbody tr th {\n",
       "        vertical-align: top;\n",
       "    }\n",
       "\n",
       "    .dataframe thead th {\n",
       "        text-align: right;\n",
       "    }\n",
       "</style>\n",
       "<table border=\"1\" class=\"dataframe\">\n",
       "  <thead>\n",
       "    <tr style=\"text-align: right;\">\n",
       "      <th></th>\n",
       "      <th>mpg</th>\n",
       "      <th>cylinders</th>\n",
       "      <th>displacement</th>\n",
       "      <th>horsepower</th>\n",
       "      <th>weight</th>\n",
       "      <th>acceleration</th>\n",
       "      <th>model_year</th>\n",
       "      <th>origin</th>\n",
       "      <th>name</th>\n",
       "    </tr>\n",
       "  </thead>\n",
       "  <tbody>\n",
       "    <tr>\n",
       "      <th>0</th>\n",
       "      <td>18.0</td>\n",
       "      <td>8</td>\n",
       "      <td>307.0</td>\n",
       "      <td>130.0</td>\n",
       "      <td>3504</td>\n",
       "      <td>12.0</td>\n",
       "      <td>70</td>\n",
       "      <td>usa</td>\n",
       "      <td>chevrolet chevelle malibu</td>\n",
       "    </tr>\n",
       "    <tr>\n",
       "      <th>1</th>\n",
       "      <td>15.0</td>\n",
       "      <td>8</td>\n",
       "      <td>350.0</td>\n",
       "      <td>165.0</td>\n",
       "      <td>3693</td>\n",
       "      <td>11.5</td>\n",
       "      <td>70</td>\n",
       "      <td>usa</td>\n",
       "      <td>buick skylark 320</td>\n",
       "    </tr>\n",
       "    <tr>\n",
       "      <th>2</th>\n",
       "      <td>18.0</td>\n",
       "      <td>8</td>\n",
       "      <td>318.0</td>\n",
       "      <td>150.0</td>\n",
       "      <td>3436</td>\n",
       "      <td>11.0</td>\n",
       "      <td>70</td>\n",
       "      <td>usa</td>\n",
       "      <td>plymouth satellite</td>\n",
       "    </tr>\n",
       "    <tr>\n",
       "      <th>3</th>\n",
       "      <td>16.0</td>\n",
       "      <td>8</td>\n",
       "      <td>304.0</td>\n",
       "      <td>150.0</td>\n",
       "      <td>3433</td>\n",
       "      <td>12.0</td>\n",
       "      <td>70</td>\n",
       "      <td>usa</td>\n",
       "      <td>amc rebel sst</td>\n",
       "    </tr>\n",
       "    <tr>\n",
       "      <th>4</th>\n",
       "      <td>17.0</td>\n",
       "      <td>8</td>\n",
       "      <td>302.0</td>\n",
       "      <td>140.0</td>\n",
       "      <td>3449</td>\n",
       "      <td>10.5</td>\n",
       "      <td>70</td>\n",
       "      <td>usa</td>\n",
       "      <td>ford torino</td>\n",
       "    </tr>\n",
       "    <tr>\n",
       "      <th>...</th>\n",
       "      <td>...</td>\n",
       "      <td>...</td>\n",
       "      <td>...</td>\n",
       "      <td>...</td>\n",
       "      <td>...</td>\n",
       "      <td>...</td>\n",
       "      <td>...</td>\n",
       "      <td>...</td>\n",
       "      <td>...</td>\n",
       "    </tr>\n",
       "    <tr>\n",
       "      <th>393</th>\n",
       "      <td>27.0</td>\n",
       "      <td>4</td>\n",
       "      <td>140.0</td>\n",
       "      <td>86.0</td>\n",
       "      <td>2790</td>\n",
       "      <td>15.6</td>\n",
       "      <td>82</td>\n",
       "      <td>usa</td>\n",
       "      <td>ford mustang gl</td>\n",
       "    </tr>\n",
       "    <tr>\n",
       "      <th>394</th>\n",
       "      <td>44.0</td>\n",
       "      <td>4</td>\n",
       "      <td>97.0</td>\n",
       "      <td>52.0</td>\n",
       "      <td>2130</td>\n",
       "      <td>24.6</td>\n",
       "      <td>82</td>\n",
       "      <td>europe</td>\n",
       "      <td>vw pickup</td>\n",
       "    </tr>\n",
       "    <tr>\n",
       "      <th>395</th>\n",
       "      <td>32.0</td>\n",
       "      <td>4</td>\n",
       "      <td>135.0</td>\n",
       "      <td>84.0</td>\n",
       "      <td>2295</td>\n",
       "      <td>11.6</td>\n",
       "      <td>82</td>\n",
       "      <td>usa</td>\n",
       "      <td>dodge rampage</td>\n",
       "    </tr>\n",
       "    <tr>\n",
       "      <th>396</th>\n",
       "      <td>28.0</td>\n",
       "      <td>4</td>\n",
       "      <td>120.0</td>\n",
       "      <td>79.0</td>\n",
       "      <td>2625</td>\n",
       "      <td>18.6</td>\n",
       "      <td>82</td>\n",
       "      <td>usa</td>\n",
       "      <td>ford ranger</td>\n",
       "    </tr>\n",
       "    <tr>\n",
       "      <th>397</th>\n",
       "      <td>31.0</td>\n",
       "      <td>4</td>\n",
       "      <td>119.0</td>\n",
       "      <td>82.0</td>\n",
       "      <td>2720</td>\n",
       "      <td>19.4</td>\n",
       "      <td>82</td>\n",
       "      <td>usa</td>\n",
       "      <td>chevy s-10</td>\n",
       "    </tr>\n",
       "  </tbody>\n",
       "</table>\n",
       "<p>398 rows × 9 columns</p>\n",
       "</div>"
      ],
      "text/plain": [
       "      mpg  cylinders  displacement  horsepower  weight  acceleration  \\\n",
       "0    18.0          8         307.0       130.0    3504          12.0   \n",
       "1    15.0          8         350.0       165.0    3693          11.5   \n",
       "2    18.0          8         318.0       150.0    3436          11.0   \n",
       "3    16.0          8         304.0       150.0    3433          12.0   \n",
       "4    17.0          8         302.0       140.0    3449          10.5   \n",
       "..    ...        ...           ...         ...     ...           ...   \n",
       "393  27.0          4         140.0        86.0    2790          15.6   \n",
       "394  44.0          4          97.0        52.0    2130          24.6   \n",
       "395  32.0          4         135.0        84.0    2295          11.6   \n",
       "396  28.0          4         120.0        79.0    2625          18.6   \n",
       "397  31.0          4         119.0        82.0    2720          19.4   \n",
       "\n",
       "     model_year  origin                       name  \n",
       "0            70     usa  chevrolet chevelle malibu  \n",
       "1            70     usa          buick skylark 320  \n",
       "2            70     usa         plymouth satellite  \n",
       "3            70     usa              amc rebel sst  \n",
       "4            70     usa                ford torino  \n",
       "..          ...     ...                        ...  \n",
       "393          82     usa            ford mustang gl  \n",
       "394          82  europe                  vw pickup  \n",
       "395          82     usa              dodge rampage  \n",
       "396          82     usa                ford ranger  \n",
       "397          82     usa                 chevy s-10  \n",
       "\n",
       "[398 rows x 9 columns]"
      ]
     },
     "execution_count": 4,
     "metadata": {},
     "output_type": "execute_result"
    }
   ],
   "source": [
    "from seaborn import load_dataset\n",
    "data = load_dataset(\"mpg\")\n",
    "data"
   ]
  },
  {
   "cell_type": "markdown",
   "metadata": {},
   "source": [
    "The first thing we will want to do with this data is construct a train/test split."
   ]
  },
  {
   "cell_type": "code",
   "execution_count": 5,
   "metadata": {},
   "outputs": [],
   "source": [
    "tr, te = train_test_split(data, test_size=0.25, random_state=83)"
   ]
  },
  {
   "cell_type": "markdown",
   "metadata": {},
   "source": [
    "<br/><br/><br/>\n",
    "\n",
    "---\n",
    "\n",
    "## Building a Few Basic Models\n",
    "\n",
    "The following code uses scikit-learn `Pipeline`s which are not in scope for the fall. Again, treat `Pipeline`s as a black-box that specify the features that our models use."
   ]
  },
  {
   "cell_type": "code",
   "execution_count": 6,
   "metadata": {},
   "outputs": [],
   "source": [
    "models = {}"
   ]
  },
  {
   "cell_type": "code",
   "execution_count": 7,
   "metadata": {},
   "outputs": [],
   "source": [
    "quantitative_features = [\"cylinders\", \"displacement\", \"horsepower\", \"weight\", \"acceleration\", \"model_year\"]"
   ]
  },
  {
   "cell_type": "code",
   "execution_count": 8,
   "metadata": {},
   "outputs": [],
   "source": [
    "for i in range(len(quantitative_features)):\n",
    "    # The features to include in the ith model\n",
    "    features = quantitative_features[:(i+1)]\n",
    "    # The name we are giving to the ith model\n",
    "    name = \",\".join([name[0] for name in features])\n",
    "    # The pipeline for the ith model\n",
    "    model = Pipeline([\n",
    "        (\"SelectColumns\", ColumnTransformer([\n",
    "            (\"keep\", \"passthrough\", features),\n",
    "        ])),\n",
    "        (\"Imputation\", SimpleImputer()),\n",
    "        (\"LinearModel\", LinearRegression())\n",
    "    ])\n",
    "    # Fit the pipeline\n",
    "    model.fit(tr, tr['mpg']);\n",
    "    # Saving the ith model\n",
    "    models[name] = model"
   ]
  },
  {
   "cell_type": "markdown",
   "metadata": {},
   "source": [
    "We have defined and trained (fit) 5 models:"
   ]
  },
  {
   "cell_type": "code",
   "execution_count": 9,
   "metadata": {},
   "outputs": [
    {
     "data": {
      "text/plain": [
       "dict_keys(['c', 'c,d', 'c,d,h', 'c,d,h,w', 'c,d,h,w,a', 'c,d,h,w,a,m'])"
      ]
     },
     "execution_count": 9,
     "metadata": {},
     "output_type": "execute_result"
    }
   ],
   "source": [
    "models.keys()"
   ]
  },
  {
   "cell_type": "markdown",
   "metadata": {},
   "source": [
    "<br/><br/><br/>\n",
    "\n",
    "\n",
    "---\n",
    "\n",
    "## `cross_val_score`\n",
    "\n",
    "Before we proceed, we'll look at how to use `cross_val_score`, a method built-in to `sklearn.model_selection`, to give us the CV RMSE of our models."
   ]
  },
  {
   "cell_type": "code",
   "execution_count": 10,
   "metadata": {},
   "outputs": [],
   "source": [
    "from sklearn.model_selection import cross_val_score"
   ]
  },
  {
   "cell_type": "markdown",
   "metadata": {},
   "source": [
    "The `cross_val_score` function takes a score function which it cross validates.  That score function must take three arguments, the model, X, and y.  We implement an Root Mean Squared Error (RMSE) score function:"
   ]
  },
  {
   "cell_type": "code",
   "execution_count": 11,
   "metadata": {},
   "outputs": [],
   "source": [
    "def rmse_score(model, X, y):\n",
    "    return np.sqrt(np.mean((y - model.predict(X))**2))"
   ]
  },
  {
   "cell_type": "markdown",
   "metadata": {},
   "source": [
    "We can then use `cross_val_score` to **estimate the test RMSE** for the model that only uses the number of cylinders `c`:"
   ]
  },
  {
   "cell_type": "code",
   "execution_count": 12,
   "metadata": {},
   "outputs": [
    {
     "data": {
      "text/plain": [
       "array([5.34219804, 4.31960704, 4.17949277, 4.89156037, 5.65044712])"
      ]
     },
     "execution_count": 12,
     "metadata": {},
     "output_type": "execute_result"
    }
   ],
   "source": [
    "cross_val_score(models['c'], tr, tr['mpg'], scoring=rmse_score, cv=5)"
   ]
  },
  {
   "cell_type": "markdown",
   "metadata": {},
   "source": [
    "Taking the mean we get the average cross validation (CV) RMSE:"
   ]
  },
  {
   "cell_type": "code",
   "execution_count": 13,
   "metadata": {},
   "outputs": [
    {
     "data": {
      "text/plain": [
       "4.876661068256957"
      ]
     },
     "execution_count": 13,
     "metadata": {},
     "output_type": "execute_result"
    }
   ],
   "source": [
    "np.mean(cross_val_score(models['c'], tr, tr['mpg'], scoring=rmse_score, cv=5))"
   ]
  },
  {
   "cell_type": "markdown",
   "metadata": {},
   "source": [
    "### Visualizing the Train/CV/Test RMSE\n",
    "\n",
    "In the following helper function we plot the **Train** and **CV** RMSE.  **We also plot the test RMSE for educational purposes you should not do this! If you use the height of the test RMSE bar to make decisions in designing your model you have invalidated the test data sort of like looking at the exam when studying.**"
   ]
  },
  {
   "cell_type": "code",
   "execution_count": 14,
   "metadata": {},
   "outputs": [],
   "source": [
    "def compare_models(models):\n",
    "    # Compute the training error for each model\n",
    "    training_rmse = [rmse_score(model, tr, tr['mpg']) for model in models.values()]\n",
    "    # Compute the cross validation error for each model\n",
    "    validation_rmse = [np.mean(cross_val_score(model, tr, tr['mpg'], scoring=rmse_score, cv=5)) \n",
    "                       for model in models.values()]\n",
    "    # Compute the test error for each model (don't do this!)\n",
    "    test_rmse = [rmse_score(model, te, te['mpg']) for model in models.values()]\n",
    "    names = list(models.keys())\n",
    "    fig = go.Figure([\n",
    "        go.Bar(x = names, y = training_rmse, name=\"Training RMSE\"),\n",
    "        go.Bar(x = names, y = validation_rmse, name=\"CV RMSE\"),\n",
    "        go.Bar(x = names, y = test_rmse, name=\"Test RMSE\", opacity=.3)])\n",
    "    fig.update_yaxes(title=\"RMSE\")\n",
    "    return fig"
   ]
  },
  {
   "cell_type": "code",
   "execution_count": 15,
   "metadata": {},
   "outputs": [
    {
     "data": {
      "application/vnd.plotly.v1+json": {
       "config": {
        "plotlyServerURL": "https://plot.ly"
       },
       "data": [
        {
         "name": "Training RMSE",
         "type": "bar",
         "x": [
          "c",
          "c,d",
          "c,d,h",
          "c,d,h,w",
          "c,d,h,w,a",
          "c,d,h,w,a,m"
         ],
         "y": [
          4.888109236813688,
          4.58757379901803,
          4.525395490245242,
          4.216877763288668,
          4.213763450275894,
          3.3799994809258984
         ]
        },
        {
         "name": "CV RMSE",
         "type": "bar",
         "x": [
          "c",
          "c,d",
          "c,d,h",
          "c,d,h,w",
          "c,d,h,w,a",
          "c,d,h,w,a,m"
         ],
         "y": [
          4.876661068256957,
          4.579060426624026,
          4.556808311664747,
          4.252718625749385,
          4.256844728700814,
          3.455765706558678
         ]
        },
        {
         "name": "Test RMSE",
         "opacity": 0.3,
         "type": "bar",
         "x": [
          "c",
          "c,d",
          "c,d,h",
          "c,d,h,w",
          "c,d,h,w,a",
          "c,d,h,w,a,m"
         ],
         "y": [
          5.055013548375552,
          4.7661569898523695,
          4.583861769980873,
          4.325847816131029,
          4.34988869276913,
          3.550828171640195
         ]
        }
       ],
       "layout": {
        "template": {
         "data": {
          "bar": [
           {
            "error_x": {
             "color": "#2a3f5f"
            },
            "error_y": {
             "color": "#2a3f5f"
            },
            "marker": {
             "line": {
              "color": "#E5ECF6",
              "width": 0.5
             }
            },
            "type": "bar"
           }
          ],
          "barpolar": [
           {
            "marker": {
             "line": {
              "color": "#E5ECF6",
              "width": 0.5
             }
            },
            "type": "barpolar"
           }
          ],
          "carpet": [
           {
            "aaxis": {
             "endlinecolor": "#2a3f5f",
             "gridcolor": "white",
             "linecolor": "white",
             "minorgridcolor": "white",
             "startlinecolor": "#2a3f5f"
            },
            "baxis": {
             "endlinecolor": "#2a3f5f",
             "gridcolor": "white",
             "linecolor": "white",
             "minorgridcolor": "white",
             "startlinecolor": "#2a3f5f"
            },
            "type": "carpet"
           }
          ],
          "choropleth": [
           {
            "colorbar": {
             "outlinewidth": 0,
             "ticks": ""
            },
            "type": "choropleth"
           }
          ],
          "contour": [
           {
            "colorbar": {
             "outlinewidth": 0,
             "ticks": ""
            },
            "colorscale": [
             [
              0,
              "#0d0887"
             ],
             [
              0.1111111111111111,
              "#46039f"
             ],
             [
              0.2222222222222222,
              "#7201a8"
             ],
             [
              0.3333333333333333,
              "#9c179e"
             ],
             [
              0.4444444444444444,
              "#bd3786"
             ],
             [
              0.5555555555555556,
              "#d8576b"
             ],
             [
              0.6666666666666666,
              "#ed7953"
             ],
             [
              0.7777777777777778,
              "#fb9f3a"
             ],
             [
              0.8888888888888888,
              "#fdca26"
             ],
             [
              1,
              "#f0f921"
             ]
            ],
            "type": "contour"
           }
          ],
          "contourcarpet": [
           {
            "colorbar": {
             "outlinewidth": 0,
             "ticks": ""
            },
            "type": "contourcarpet"
           }
          ],
          "heatmap": [
           {
            "colorbar": {
             "outlinewidth": 0,
             "ticks": ""
            },
            "colorscale": [
             [
              0,
              "#0d0887"
             ],
             [
              0.1111111111111111,
              "#46039f"
             ],
             [
              0.2222222222222222,
              "#7201a8"
             ],
             [
              0.3333333333333333,
              "#9c179e"
             ],
             [
              0.4444444444444444,
              "#bd3786"
             ],
             [
              0.5555555555555556,
              "#d8576b"
             ],
             [
              0.6666666666666666,
              "#ed7953"
             ],
             [
              0.7777777777777778,
              "#fb9f3a"
             ],
             [
              0.8888888888888888,
              "#fdca26"
             ],
             [
              1,
              "#f0f921"
             ]
            ],
            "type": "heatmap"
           }
          ],
          "heatmapgl": [
           {
            "colorbar": {
             "outlinewidth": 0,
             "ticks": ""
            },
            "colorscale": [
             [
              0,
              "#0d0887"
             ],
             [
              0.1111111111111111,
              "#46039f"
             ],
             [
              0.2222222222222222,
              "#7201a8"
             ],
             [
              0.3333333333333333,
              "#9c179e"
             ],
             [
              0.4444444444444444,
              "#bd3786"
             ],
             [
              0.5555555555555556,
              "#d8576b"
             ],
             [
              0.6666666666666666,
              "#ed7953"
             ],
             [
              0.7777777777777778,
              "#fb9f3a"
             ],
             [
              0.8888888888888888,
              "#fdca26"
             ],
             [
              1,
              "#f0f921"
             ]
            ],
            "type": "heatmapgl"
           }
          ],
          "histogram": [
           {
            "marker": {
             "colorbar": {
              "outlinewidth": 0,
              "ticks": ""
             }
            },
            "type": "histogram"
           }
          ],
          "histogram2d": [
           {
            "colorbar": {
             "outlinewidth": 0,
             "ticks": ""
            },
            "colorscale": [
             [
              0,
              "#0d0887"
             ],
             [
              0.1111111111111111,
              "#46039f"
             ],
             [
              0.2222222222222222,
              "#7201a8"
             ],
             [
              0.3333333333333333,
              "#9c179e"
             ],
             [
              0.4444444444444444,
              "#bd3786"
             ],
             [
              0.5555555555555556,
              "#d8576b"
             ],
             [
              0.6666666666666666,
              "#ed7953"
             ],
             [
              0.7777777777777778,
              "#fb9f3a"
             ],
             [
              0.8888888888888888,
              "#fdca26"
             ],
             [
              1,
              "#f0f921"
             ]
            ],
            "type": "histogram2d"
           }
          ],
          "histogram2dcontour": [
           {
            "colorbar": {
             "outlinewidth": 0,
             "ticks": ""
            },
            "colorscale": [
             [
              0,
              "#0d0887"
             ],
             [
              0.1111111111111111,
              "#46039f"
             ],
             [
              0.2222222222222222,
              "#7201a8"
             ],
             [
              0.3333333333333333,
              "#9c179e"
             ],
             [
              0.4444444444444444,
              "#bd3786"
             ],
             [
              0.5555555555555556,
              "#d8576b"
             ],
             [
              0.6666666666666666,
              "#ed7953"
             ],
             [
              0.7777777777777778,
              "#fb9f3a"
             ],
             [
              0.8888888888888888,
              "#fdca26"
             ],
             [
              1,
              "#f0f921"
             ]
            ],
            "type": "histogram2dcontour"
           }
          ],
          "mesh3d": [
           {
            "colorbar": {
             "outlinewidth": 0,
             "ticks": ""
            },
            "type": "mesh3d"
           }
          ],
          "parcoords": [
           {
            "line": {
             "colorbar": {
              "outlinewidth": 0,
              "ticks": ""
             }
            },
            "type": "parcoords"
           }
          ],
          "pie": [
           {
            "automargin": true,
            "type": "pie"
           }
          ],
          "scatter": [
           {
            "marker": {
             "colorbar": {
              "outlinewidth": 0,
              "ticks": ""
             }
            },
            "type": "scatter"
           }
          ],
          "scatter3d": [
           {
            "line": {
             "colorbar": {
              "outlinewidth": 0,
              "ticks": ""
             }
            },
            "marker": {
             "colorbar": {
              "outlinewidth": 0,
              "ticks": ""
             }
            },
            "type": "scatter3d"
           }
          ],
          "scattercarpet": [
           {
            "marker": {
             "colorbar": {
              "outlinewidth": 0,
              "ticks": ""
             }
            },
            "type": "scattercarpet"
           }
          ],
          "scattergeo": [
           {
            "marker": {
             "colorbar": {
              "outlinewidth": 0,
              "ticks": ""
             }
            },
            "type": "scattergeo"
           }
          ],
          "scattergl": [
           {
            "marker": {
             "colorbar": {
              "outlinewidth": 0,
              "ticks": ""
             }
            },
            "type": "scattergl"
           }
          ],
          "scattermapbox": [
           {
            "marker": {
             "colorbar": {
              "outlinewidth": 0,
              "ticks": ""
             }
            },
            "type": "scattermapbox"
           }
          ],
          "scatterpolar": [
           {
            "marker": {
             "colorbar": {
              "outlinewidth": 0,
              "ticks": ""
             }
            },
            "type": "scatterpolar"
           }
          ],
          "scatterpolargl": [
           {
            "marker": {
             "colorbar": {
              "outlinewidth": 0,
              "ticks": ""
             }
            },
            "type": "scatterpolargl"
           }
          ],
          "scatterternary": [
           {
            "marker": {
             "colorbar": {
              "outlinewidth": 0,
              "ticks": ""
             }
            },
            "type": "scatterternary"
           }
          ],
          "surface": [
           {
            "colorbar": {
             "outlinewidth": 0,
             "ticks": ""
            },
            "colorscale": [
             [
              0,
              "#0d0887"
             ],
             [
              0.1111111111111111,
              "#46039f"
             ],
             [
              0.2222222222222222,
              "#7201a8"
             ],
             [
              0.3333333333333333,
              "#9c179e"
             ],
             [
              0.4444444444444444,
              "#bd3786"
             ],
             [
              0.5555555555555556,
              "#d8576b"
             ],
             [
              0.6666666666666666,
              "#ed7953"
             ],
             [
              0.7777777777777778,
              "#fb9f3a"
             ],
             [
              0.8888888888888888,
              "#fdca26"
             ],
             [
              1,
              "#f0f921"
             ]
            ],
            "type": "surface"
           }
          ],
          "table": [
           {
            "cells": {
             "fill": {
              "color": "#EBF0F8"
             },
             "line": {
              "color": "white"
             }
            },
            "header": {
             "fill": {
              "color": "#C8D4E3"
             },
             "line": {
              "color": "white"
             }
            },
            "type": "table"
           }
          ]
         },
         "layout": {
          "annotationdefaults": {
           "arrowcolor": "#2a3f5f",
           "arrowhead": 0,
           "arrowwidth": 1
          },
          "autotypenumbers": "strict",
          "coloraxis": {
           "colorbar": {
            "outlinewidth": 0,
            "ticks": ""
           }
          },
          "colorscale": {
           "diverging": [
            [
             0,
             "#8e0152"
            ],
            [
             0.1,
             "#c51b7d"
            ],
            [
             0.2,
             "#de77ae"
            ],
            [
             0.3,
             "#f1b6da"
            ],
            [
             0.4,
             "#fde0ef"
            ],
            [
             0.5,
             "#f7f7f7"
            ],
            [
             0.6,
             "#e6f5d0"
            ],
            [
             0.7,
             "#b8e186"
            ],
            [
             0.8,
             "#7fbc41"
            ],
            [
             0.9,
             "#4d9221"
            ],
            [
             1,
             "#276419"
            ]
           ],
           "sequential": [
            [
             0,
             "#0d0887"
            ],
            [
             0.1111111111111111,
             "#46039f"
            ],
            [
             0.2222222222222222,
             "#7201a8"
            ],
            [
             0.3333333333333333,
             "#9c179e"
            ],
            [
             0.4444444444444444,
             "#bd3786"
            ],
            [
             0.5555555555555556,
             "#d8576b"
            ],
            [
             0.6666666666666666,
             "#ed7953"
            ],
            [
             0.7777777777777778,
             "#fb9f3a"
            ],
            [
             0.8888888888888888,
             "#fdca26"
            ],
            [
             1,
             "#f0f921"
            ]
           ],
           "sequentialminus": [
            [
             0,
             "#0d0887"
            ],
            [
             0.1111111111111111,
             "#46039f"
            ],
            [
             0.2222222222222222,
             "#7201a8"
            ],
            [
             0.3333333333333333,
             "#9c179e"
            ],
            [
             0.4444444444444444,
             "#bd3786"
            ],
            [
             0.5555555555555556,
             "#d8576b"
            ],
            [
             0.6666666666666666,
             "#ed7953"
            ],
            [
             0.7777777777777778,
             "#fb9f3a"
            ],
            [
             0.8888888888888888,
             "#fdca26"
            ],
            [
             1,
             "#f0f921"
            ]
           ]
          },
          "colorway": [
           "#636efa",
           "#EF553B",
           "#00cc96",
           "#ab63fa",
           "#FFA15A",
           "#19d3f3",
           "#FF6692",
           "#B6E880",
           "#FF97FF",
           "#FECB52"
          ],
          "font": {
           "color": "#2a3f5f"
          },
          "geo": {
           "bgcolor": "white",
           "lakecolor": "white",
           "landcolor": "#E5ECF6",
           "showlakes": true,
           "showland": true,
           "subunitcolor": "white"
          },
          "hoverlabel": {
           "align": "left"
          },
          "hovermode": "closest",
          "mapbox": {
           "style": "light"
          },
          "paper_bgcolor": "white",
          "plot_bgcolor": "#E5ECF6",
          "polar": {
           "angularaxis": {
            "gridcolor": "white",
            "linecolor": "white",
            "ticks": ""
           },
           "bgcolor": "#E5ECF6",
           "radialaxis": {
            "gridcolor": "white",
            "linecolor": "white",
            "ticks": ""
           }
          },
          "scene": {
           "xaxis": {
            "backgroundcolor": "#E5ECF6",
            "gridcolor": "white",
            "gridwidth": 2,
            "linecolor": "white",
            "showbackground": true,
            "ticks": "",
            "zerolinecolor": "white"
           },
           "yaxis": {
            "backgroundcolor": "#E5ECF6",
            "gridcolor": "white",
            "gridwidth": 2,
            "linecolor": "white",
            "showbackground": true,
            "ticks": "",
            "zerolinecolor": "white"
           },
           "zaxis": {
            "backgroundcolor": "#E5ECF6",
            "gridcolor": "white",
            "gridwidth": 2,
            "linecolor": "white",
            "showbackground": true,
            "ticks": "",
            "zerolinecolor": "white"
           }
          },
          "shapedefaults": {
           "line": {
            "color": "#2a3f5f"
           }
          },
          "ternary": {
           "aaxis": {
            "gridcolor": "white",
            "linecolor": "white",
            "ticks": ""
           },
           "baxis": {
            "gridcolor": "white",
            "linecolor": "white",
            "ticks": ""
           },
           "bgcolor": "#E5ECF6",
           "caxis": {
            "gridcolor": "white",
            "linecolor": "white",
            "ticks": ""
           }
          },
          "title": {
           "x": 0.05
          },
          "xaxis": {
           "automargin": true,
           "gridcolor": "white",
           "linecolor": "white",
           "ticks": "",
           "title": {
            "standoff": 15
           },
           "zerolinecolor": "white",
           "zerolinewidth": 2
          },
          "yaxis": {
           "automargin": true,
           "gridcolor": "white",
           "linecolor": "white",
           "ticks": "",
           "title": {
            "standoff": 15
           },
           "zerolinecolor": "white",
           "zerolinewidth": 2
          }
         }
        },
        "yaxis": {
         "title": {
          "text": "RMSE"
         }
        }
       }
      },
      "text/html": [
       "<div>                            <div id=\"6e4070ce-c191-4e9f-8883-4e20f797b464\" class=\"plotly-graph-div\" style=\"height:525px; width:100%;\"></div>            <script type=\"text/javascript\">                require([\"plotly\"], function(Plotly) {                    window.PLOTLYENV=window.PLOTLYENV || {};                                    if (document.getElementById(\"6e4070ce-c191-4e9f-8883-4e20f797b464\")) {                    Plotly.newPlot(                        \"6e4070ce-c191-4e9f-8883-4e20f797b464\",                        [{\"name\": \"Training RMSE\", \"type\": \"bar\", \"x\": [\"c\", \"c,d\", \"c,d,h\", \"c,d,h,w\", \"c,d,h,w,a\", \"c,d,h,w,a,m\"], \"y\": [4.888109236813688, 4.58757379901803, 4.525395490245242, 4.216877763288668, 4.213763450275894, 3.3799994809258984]}, {\"name\": \"CV RMSE\", \"type\": \"bar\", \"x\": [\"c\", \"c,d\", \"c,d,h\", \"c,d,h,w\", \"c,d,h,w,a\", \"c,d,h,w,a,m\"], \"y\": [4.876661068256957, 4.579060426624026, 4.556808311664747, 4.252718625749385, 4.256844728700814, 3.455765706558678]}, {\"name\": \"Test RMSE\", \"opacity\": 0.3, \"type\": \"bar\", \"x\": [\"c\", \"c,d\", \"c,d,h\", \"c,d,h,w\", \"c,d,h,w,a\", \"c,d,h,w,a,m\"], \"y\": [5.055013548375552, 4.7661569898523695, 4.583861769980873, 4.325847816131029, 4.34988869276913, 3.550828171640195]}],                        {\"template\": {\"data\": {\"bar\": [{\"error_x\": {\"color\": \"#2a3f5f\"}, \"error_y\": {\"color\": \"#2a3f5f\"}, \"marker\": {\"line\": {\"color\": \"#E5ECF6\", \"width\": 0.5}}, \"type\": \"bar\"}], \"barpolar\": [{\"marker\": {\"line\": {\"color\": \"#E5ECF6\", \"width\": 0.5}}, \"type\": \"barpolar\"}], \"carpet\": [{\"aaxis\": {\"endlinecolor\": \"#2a3f5f\", \"gridcolor\": \"white\", \"linecolor\": \"white\", \"minorgridcolor\": \"white\", \"startlinecolor\": \"#2a3f5f\"}, \"baxis\": {\"endlinecolor\": \"#2a3f5f\", \"gridcolor\": \"white\", \"linecolor\": \"white\", \"minorgridcolor\": \"white\", \"startlinecolor\": \"#2a3f5f\"}, \"type\": \"carpet\"}], \"choropleth\": [{\"colorbar\": {\"outlinewidth\": 0, \"ticks\": \"\"}, \"type\": \"choropleth\"}], \"contour\": [{\"colorbar\": {\"outlinewidth\": 0, \"ticks\": \"\"}, \"colorscale\": [[0.0, \"#0d0887\"], [0.1111111111111111, \"#46039f\"], [0.2222222222222222, \"#7201a8\"], [0.3333333333333333, \"#9c179e\"], [0.4444444444444444, \"#bd3786\"], [0.5555555555555556, \"#d8576b\"], [0.6666666666666666, \"#ed7953\"], [0.7777777777777778, \"#fb9f3a\"], [0.8888888888888888, \"#fdca26\"], [1.0, \"#f0f921\"]], \"type\": \"contour\"}], \"contourcarpet\": [{\"colorbar\": {\"outlinewidth\": 0, \"ticks\": \"\"}, \"type\": \"contourcarpet\"}], \"heatmap\": [{\"colorbar\": {\"outlinewidth\": 0, \"ticks\": \"\"}, \"colorscale\": [[0.0, \"#0d0887\"], [0.1111111111111111, \"#46039f\"], [0.2222222222222222, \"#7201a8\"], [0.3333333333333333, \"#9c179e\"], [0.4444444444444444, \"#bd3786\"], [0.5555555555555556, \"#d8576b\"], [0.6666666666666666, \"#ed7953\"], [0.7777777777777778, \"#fb9f3a\"], [0.8888888888888888, \"#fdca26\"], [1.0, \"#f0f921\"]], \"type\": \"heatmap\"}], \"heatmapgl\": [{\"colorbar\": {\"outlinewidth\": 0, \"ticks\": \"\"}, \"colorscale\": [[0.0, \"#0d0887\"], [0.1111111111111111, \"#46039f\"], [0.2222222222222222, \"#7201a8\"], [0.3333333333333333, \"#9c179e\"], [0.4444444444444444, \"#bd3786\"], [0.5555555555555556, \"#d8576b\"], [0.6666666666666666, \"#ed7953\"], [0.7777777777777778, \"#fb9f3a\"], [0.8888888888888888, \"#fdca26\"], [1.0, \"#f0f921\"]], \"type\": \"heatmapgl\"}], \"histogram\": [{\"marker\": {\"colorbar\": {\"outlinewidth\": 0, \"ticks\": \"\"}}, \"type\": \"histogram\"}], \"histogram2d\": [{\"colorbar\": {\"outlinewidth\": 0, \"ticks\": \"\"}, \"colorscale\": [[0.0, \"#0d0887\"], [0.1111111111111111, \"#46039f\"], [0.2222222222222222, \"#7201a8\"], [0.3333333333333333, \"#9c179e\"], [0.4444444444444444, \"#bd3786\"], [0.5555555555555556, \"#d8576b\"], [0.6666666666666666, \"#ed7953\"], [0.7777777777777778, \"#fb9f3a\"], [0.8888888888888888, \"#fdca26\"], [1.0, \"#f0f921\"]], \"type\": \"histogram2d\"}], \"histogram2dcontour\": [{\"colorbar\": {\"outlinewidth\": 0, \"ticks\": \"\"}, \"colorscale\": [[0.0, \"#0d0887\"], [0.1111111111111111, \"#46039f\"], [0.2222222222222222, \"#7201a8\"], [0.3333333333333333, \"#9c179e\"], [0.4444444444444444, \"#bd3786\"], [0.5555555555555556, \"#d8576b\"], [0.6666666666666666, \"#ed7953\"], [0.7777777777777778, \"#fb9f3a\"], [0.8888888888888888, \"#fdca26\"], [1.0, \"#f0f921\"]], \"type\": \"histogram2dcontour\"}], \"mesh3d\": [{\"colorbar\": {\"outlinewidth\": 0, \"ticks\": \"\"}, \"type\": \"mesh3d\"}], \"parcoords\": [{\"line\": {\"colorbar\": {\"outlinewidth\": 0, \"ticks\": \"\"}}, \"type\": \"parcoords\"}], \"pie\": [{\"automargin\": true, \"type\": \"pie\"}], \"scatter\": [{\"marker\": {\"colorbar\": {\"outlinewidth\": 0, \"ticks\": \"\"}}, \"type\": \"scatter\"}], \"scatter3d\": [{\"line\": {\"colorbar\": {\"outlinewidth\": 0, \"ticks\": \"\"}}, \"marker\": {\"colorbar\": {\"outlinewidth\": 0, \"ticks\": \"\"}}, \"type\": \"scatter3d\"}], \"scattercarpet\": [{\"marker\": {\"colorbar\": {\"outlinewidth\": 0, \"ticks\": \"\"}}, \"type\": \"scattercarpet\"}], \"scattergeo\": [{\"marker\": {\"colorbar\": {\"outlinewidth\": 0, \"ticks\": \"\"}}, \"type\": \"scattergeo\"}], \"scattergl\": [{\"marker\": {\"colorbar\": {\"outlinewidth\": 0, \"ticks\": \"\"}}, \"type\": \"scattergl\"}], \"scattermapbox\": [{\"marker\": {\"colorbar\": {\"outlinewidth\": 0, \"ticks\": \"\"}}, \"type\": \"scattermapbox\"}], \"scatterpolar\": [{\"marker\": {\"colorbar\": {\"outlinewidth\": 0, \"ticks\": \"\"}}, \"type\": \"scatterpolar\"}], \"scatterpolargl\": [{\"marker\": {\"colorbar\": {\"outlinewidth\": 0, \"ticks\": \"\"}}, \"type\": \"scatterpolargl\"}], \"scatterternary\": [{\"marker\": {\"colorbar\": {\"outlinewidth\": 0, \"ticks\": \"\"}}, \"type\": \"scatterternary\"}], \"surface\": [{\"colorbar\": {\"outlinewidth\": 0, \"ticks\": \"\"}, \"colorscale\": [[0.0, \"#0d0887\"], [0.1111111111111111, \"#46039f\"], [0.2222222222222222, \"#7201a8\"], [0.3333333333333333, \"#9c179e\"], [0.4444444444444444, \"#bd3786\"], [0.5555555555555556, \"#d8576b\"], [0.6666666666666666, \"#ed7953\"], [0.7777777777777778, \"#fb9f3a\"], [0.8888888888888888, \"#fdca26\"], [1.0, \"#f0f921\"]], \"type\": \"surface\"}], \"table\": [{\"cells\": {\"fill\": {\"color\": \"#EBF0F8\"}, \"line\": {\"color\": \"white\"}}, \"header\": {\"fill\": {\"color\": \"#C8D4E3\"}, \"line\": {\"color\": \"white\"}}, \"type\": \"table\"}]}, \"layout\": {\"annotationdefaults\": {\"arrowcolor\": \"#2a3f5f\", \"arrowhead\": 0, \"arrowwidth\": 1}, \"autotypenumbers\": \"strict\", \"coloraxis\": {\"colorbar\": {\"outlinewidth\": 0, \"ticks\": \"\"}}, \"colorscale\": {\"diverging\": [[0, \"#8e0152\"], [0.1, \"#c51b7d\"], [0.2, \"#de77ae\"], [0.3, \"#f1b6da\"], [0.4, \"#fde0ef\"], [0.5, \"#f7f7f7\"], [0.6, \"#e6f5d0\"], [0.7, \"#b8e186\"], [0.8, \"#7fbc41\"], [0.9, \"#4d9221\"], [1, \"#276419\"]], \"sequential\": [[0.0, \"#0d0887\"], [0.1111111111111111, \"#46039f\"], [0.2222222222222222, \"#7201a8\"], [0.3333333333333333, \"#9c179e\"], [0.4444444444444444, \"#bd3786\"], [0.5555555555555556, \"#d8576b\"], [0.6666666666666666, \"#ed7953\"], [0.7777777777777778, \"#fb9f3a\"], [0.8888888888888888, \"#fdca26\"], [1.0, \"#f0f921\"]], \"sequentialminus\": [[0.0, \"#0d0887\"], [0.1111111111111111, \"#46039f\"], [0.2222222222222222, \"#7201a8\"], [0.3333333333333333, \"#9c179e\"], [0.4444444444444444, \"#bd3786\"], [0.5555555555555556, \"#d8576b\"], [0.6666666666666666, \"#ed7953\"], [0.7777777777777778, \"#fb9f3a\"], [0.8888888888888888, \"#fdca26\"], [1.0, \"#f0f921\"]]}, \"colorway\": [\"#636efa\", \"#EF553B\", \"#00cc96\", \"#ab63fa\", \"#FFA15A\", \"#19d3f3\", \"#FF6692\", \"#B6E880\", \"#FF97FF\", \"#FECB52\"], \"font\": {\"color\": \"#2a3f5f\"}, \"geo\": {\"bgcolor\": \"white\", \"lakecolor\": \"white\", \"landcolor\": \"#E5ECF6\", \"showlakes\": true, \"showland\": true, \"subunitcolor\": \"white\"}, \"hoverlabel\": {\"align\": \"left\"}, \"hovermode\": \"closest\", \"mapbox\": {\"style\": \"light\"}, \"paper_bgcolor\": \"white\", \"plot_bgcolor\": \"#E5ECF6\", \"polar\": {\"angularaxis\": {\"gridcolor\": \"white\", \"linecolor\": \"white\", \"ticks\": \"\"}, \"bgcolor\": \"#E5ECF6\", \"radialaxis\": {\"gridcolor\": \"white\", \"linecolor\": \"white\", \"ticks\": \"\"}}, \"scene\": {\"xaxis\": {\"backgroundcolor\": \"#E5ECF6\", \"gridcolor\": \"white\", \"gridwidth\": 2, \"linecolor\": \"white\", \"showbackground\": true, \"ticks\": \"\", \"zerolinecolor\": \"white\"}, \"yaxis\": {\"backgroundcolor\": \"#E5ECF6\", \"gridcolor\": \"white\", \"gridwidth\": 2, \"linecolor\": \"white\", \"showbackground\": true, \"ticks\": \"\", \"zerolinecolor\": \"white\"}, \"zaxis\": {\"backgroundcolor\": \"#E5ECF6\", \"gridcolor\": \"white\", \"gridwidth\": 2, \"linecolor\": \"white\", \"showbackground\": true, \"ticks\": \"\", \"zerolinecolor\": \"white\"}}, \"shapedefaults\": {\"line\": {\"color\": \"#2a3f5f\"}}, \"ternary\": {\"aaxis\": {\"gridcolor\": \"white\", \"linecolor\": \"white\", \"ticks\": \"\"}, \"baxis\": {\"gridcolor\": \"white\", \"linecolor\": \"white\", \"ticks\": \"\"}, \"bgcolor\": \"#E5ECF6\", \"caxis\": {\"gridcolor\": \"white\", \"linecolor\": \"white\", \"ticks\": \"\"}}, \"title\": {\"x\": 0.05}, \"xaxis\": {\"automargin\": true, \"gridcolor\": \"white\", \"linecolor\": \"white\", \"ticks\": \"\", \"title\": {\"standoff\": 15}, \"zerolinecolor\": \"white\", \"zerolinewidth\": 2}, \"yaxis\": {\"automargin\": true, \"gridcolor\": \"white\", \"linecolor\": \"white\", \"ticks\": \"\", \"title\": {\"standoff\": 15}, \"zerolinecolor\": \"white\", \"zerolinewidth\": 2}}}, \"yaxis\": {\"title\": {\"text\": \"RMSE\"}}},                        {\"responsive\": true}                    ).then(function(){\n",
       "                            \n",
       "var gd = document.getElementById('6e4070ce-c191-4e9f-8883-4e20f797b464');\n",
       "var x = new MutationObserver(function (mutations, observer) {{\n",
       "        var display = window.getComputedStyle(gd).display;\n",
       "        if (!display || display === 'none') {{\n",
       "            console.log([gd, 'removed!']);\n",
       "            Plotly.purge(gd);\n",
       "            observer.disconnect();\n",
       "        }}\n",
       "}});\n",
       "\n",
       "// Listen for the removal of the full notebook cells\n",
       "var notebookContainer = gd.closest('#notebook-container');\n",
       "if (notebookContainer) {{\n",
       "    x.observe(notebookContainer, {childList: true});\n",
       "}}\n",
       "\n",
       "// Listen for the clearing of the current output cell\n",
       "var outputEl = gd.closest('.output');\n",
       "if (outputEl) {{\n",
       "    x.observe(outputEl, {childList: true});\n",
       "}}\n",
       "\n",
       "                        })                };                });            </script>        </div>"
      ]
     },
     "metadata": {},
     "output_type": "display_data"
    }
   ],
   "source": [
    "compare_models(models)"
   ]
  },
  {
   "cell_type": "markdown",
   "metadata": {},
   "source": [
    "Notice that as we added features the training and cross validation error generally decreased.  Also notice that the cross validation error and the test error are generally higher than the training error. "
   ]
  },
  {
   "cell_type": "markdown",
   "metadata": {},
   "source": [
    "<br/><br/><br/>\n",
    "\n",
    "---\n",
    "\n",
    "## Adding the Text Features"
   ]
  },
  {
   "cell_type": "markdown",
   "metadata": {},
   "source": [
    "### Adding the Origin\n",
    "\n",
    "The origin is a categorical feature which takes on only a few values:"
   ]
  },
  {
   "cell_type": "code",
   "execution_count": 16,
   "metadata": {},
   "outputs": [
    {
     "data": {
      "text/plain": [
       "usa       188\n",
       "japan      56\n",
       "europe     54\n",
       "Name: origin, dtype: int64"
      ]
     },
     "execution_count": 16,
     "metadata": {},
     "output_type": "execute_result"
    }
   ],
   "source": [
    "tr['origin'].value_counts()"
   ]
  },
  {
   "cell_type": "markdown",
   "metadata": {},
   "source": [
    "This can be extracted using a `OneHotEncoder` in the `SelectColumns` stage of the pipeline. Notice that the `[\"origin\"]` is in brackets, this caused me some confusion when preparing lecture.  The `OneHotEncoder` wants its input in column form rather than list form. "
   ]
  },
  {
   "cell_type": "code",
   "execution_count": 17,
   "metadata": {},
   "outputs": [],
   "source": [
    "from sklearn.preprocessing import OneHotEncoder"
   ]
  },
  {
   "cell_type": "code",
   "execution_count": 18,
   "metadata": {},
   "outputs": [],
   "source": [
    "model = Pipeline([\n",
    "    (\"SelectColumns\", ColumnTransformer([\n",
    "        (\"keep\", \"passthrough\", quantitative_features),\n",
    "        (\"origin_encoder\", OneHotEncoder(), [\"origin\"])\n",
    "    ])),\n",
    "    (\"Imputation\", SimpleImputer()),\n",
    "    (\"LinearModel\", LinearRegression())\n",
    "])"
   ]
  },
  {
   "cell_type": "code",
   "execution_count": 19,
   "metadata": {},
   "outputs": [],
   "source": [
    "model.fit(tr, tr['mpg'])\n",
    "name = \",\".join([name[0] for name in quantitative_features]) + \",o\"\n",
    "models[name] = model"
   ]
  },
  {
   "cell_type": "markdown",
   "metadata": {},
   "source": [
    "### Adding the Vehicle Name\n",
    "\n",
    "In the previous lecture we added the vehicle name using the `CountVectorizer` which implements a bag-of-words encoding. "
   ]
  },
  {
   "cell_type": "code",
   "execution_count": 20,
   "metadata": {},
   "outputs": [],
   "source": [
    "from sklearn.feature_extraction.text import CountVectorizer"
   ]
  },
  {
   "cell_type": "code",
   "execution_count": 21,
   "metadata": {},
   "outputs": [],
   "source": [
    "model = Pipeline([\n",
    "    (\"SelectColumns\", ColumnTransformer([\n",
    "        (\"keep\", \"passthrough\", quantitative_features),\n",
    "        (\"origin_encoder\", OneHotEncoder(), [\"origin\"]),\n",
    "        (\"text\", CountVectorizer(), \"name\")\n",
    "    ])),\n",
    "    (\"Imputation\", SimpleImputer()),\n",
    "    (\"LinearModel\", LinearRegression())\n",
    "])"
   ]
  },
  {
   "cell_type": "code",
   "execution_count": 22,
   "metadata": {},
   "outputs": [],
   "source": [
    "model.fit(tr, tr['mpg'])\n",
    "name = \",\".join([name[0] for name in quantitative_features]) + \",o,n\"\n",
    "models[name] = model"
   ]
  },
  {
   "cell_type": "code",
   "execution_count": 23,
   "metadata": {},
   "outputs": [
    {
     "data": {
      "application/vnd.plotly.v1+json": {
       "config": {
        "plotlyServerURL": "https://plot.ly"
       },
       "data": [
        {
         "name": "Training RMSE",
         "type": "bar",
         "x": [
          "c",
          "c,d",
          "c,d,h",
          "c,d,h,w",
          "c,d,h,w,a",
          "c,d,h,w,a,m",
          "c,d,h,w,a,m,o",
          "c,d,h,w,a,m,o,n"
         ],
         "y": [
          4.888109236813688,
          4.58757379901803,
          4.525395490245242,
          4.216877763288668,
          4.213763450275894,
          3.3799994809258984,
          3.2488224012050075,
          1.1387325899145662
         ]
        },
        {
         "name": "CV RMSE",
         "type": "bar",
         "x": [
          "c",
          "c,d",
          "c,d,h",
          "c,d,h,w",
          "c,d,h,w,a",
          "c,d,h,w,a,m",
          "c,d,h,w,a,m,o",
          "c,d,h,w,a,m,o,n"
         ],
         "y": [
          4.876661068256957,
          4.579060426624026,
          4.556808311664747,
          4.252718625749385,
          4.256844728700814,
          3.455765706558678,
          3.3323381513276,
          3.728907195958174
         ]
        },
        {
         "name": "Test RMSE",
         "opacity": 0.3,
         "type": "bar",
         "x": [
          "c",
          "c,d",
          "c,d,h",
          "c,d,h,w",
          "c,d,h,w,a",
          "c,d,h,w,a,m",
          "c,d,h,w,a,m,o",
          "c,d,h,w,a,m,o,n"
         ],
         "y": [
          5.055013548375552,
          4.7661569898523695,
          4.583861769980873,
          4.325847816131029,
          4.34988869276913,
          3.550828171640195,
          3.3746613014711664,
          3.5070461515876894
         ]
        }
       ],
       "layout": {
        "template": {
         "data": {
          "bar": [
           {
            "error_x": {
             "color": "#2a3f5f"
            },
            "error_y": {
             "color": "#2a3f5f"
            },
            "marker": {
             "line": {
              "color": "#E5ECF6",
              "width": 0.5
             }
            },
            "type": "bar"
           }
          ],
          "barpolar": [
           {
            "marker": {
             "line": {
              "color": "#E5ECF6",
              "width": 0.5
             }
            },
            "type": "barpolar"
           }
          ],
          "carpet": [
           {
            "aaxis": {
             "endlinecolor": "#2a3f5f",
             "gridcolor": "white",
             "linecolor": "white",
             "minorgridcolor": "white",
             "startlinecolor": "#2a3f5f"
            },
            "baxis": {
             "endlinecolor": "#2a3f5f",
             "gridcolor": "white",
             "linecolor": "white",
             "minorgridcolor": "white",
             "startlinecolor": "#2a3f5f"
            },
            "type": "carpet"
           }
          ],
          "choropleth": [
           {
            "colorbar": {
             "outlinewidth": 0,
             "ticks": ""
            },
            "type": "choropleth"
           }
          ],
          "contour": [
           {
            "colorbar": {
             "outlinewidth": 0,
             "ticks": ""
            },
            "colorscale": [
             [
              0,
              "#0d0887"
             ],
             [
              0.1111111111111111,
              "#46039f"
             ],
             [
              0.2222222222222222,
              "#7201a8"
             ],
             [
              0.3333333333333333,
              "#9c179e"
             ],
             [
              0.4444444444444444,
              "#bd3786"
             ],
             [
              0.5555555555555556,
              "#d8576b"
             ],
             [
              0.6666666666666666,
              "#ed7953"
             ],
             [
              0.7777777777777778,
              "#fb9f3a"
             ],
             [
              0.8888888888888888,
              "#fdca26"
             ],
             [
              1,
              "#f0f921"
             ]
            ],
            "type": "contour"
           }
          ],
          "contourcarpet": [
           {
            "colorbar": {
             "outlinewidth": 0,
             "ticks": ""
            },
            "type": "contourcarpet"
           }
          ],
          "heatmap": [
           {
            "colorbar": {
             "outlinewidth": 0,
             "ticks": ""
            },
            "colorscale": [
             [
              0,
              "#0d0887"
             ],
             [
              0.1111111111111111,
              "#46039f"
             ],
             [
              0.2222222222222222,
              "#7201a8"
             ],
             [
              0.3333333333333333,
              "#9c179e"
             ],
             [
              0.4444444444444444,
              "#bd3786"
             ],
             [
              0.5555555555555556,
              "#d8576b"
             ],
             [
              0.6666666666666666,
              "#ed7953"
             ],
             [
              0.7777777777777778,
              "#fb9f3a"
             ],
             [
              0.8888888888888888,
              "#fdca26"
             ],
             [
              1,
              "#f0f921"
             ]
            ],
            "type": "heatmap"
           }
          ],
          "heatmapgl": [
           {
            "colorbar": {
             "outlinewidth": 0,
             "ticks": ""
            },
            "colorscale": [
             [
              0,
              "#0d0887"
             ],
             [
              0.1111111111111111,
              "#46039f"
             ],
             [
              0.2222222222222222,
              "#7201a8"
             ],
             [
              0.3333333333333333,
              "#9c179e"
             ],
             [
              0.4444444444444444,
              "#bd3786"
             ],
             [
              0.5555555555555556,
              "#d8576b"
             ],
             [
              0.6666666666666666,
              "#ed7953"
             ],
             [
              0.7777777777777778,
              "#fb9f3a"
             ],
             [
              0.8888888888888888,
              "#fdca26"
             ],
             [
              1,
              "#f0f921"
             ]
            ],
            "type": "heatmapgl"
           }
          ],
          "histogram": [
           {
            "marker": {
             "colorbar": {
              "outlinewidth": 0,
              "ticks": ""
             }
            },
            "type": "histogram"
           }
          ],
          "histogram2d": [
           {
            "colorbar": {
             "outlinewidth": 0,
             "ticks": ""
            },
            "colorscale": [
             [
              0,
              "#0d0887"
             ],
             [
              0.1111111111111111,
              "#46039f"
             ],
             [
              0.2222222222222222,
              "#7201a8"
             ],
             [
              0.3333333333333333,
              "#9c179e"
             ],
             [
              0.4444444444444444,
              "#bd3786"
             ],
             [
              0.5555555555555556,
              "#d8576b"
             ],
             [
              0.6666666666666666,
              "#ed7953"
             ],
             [
              0.7777777777777778,
              "#fb9f3a"
             ],
             [
              0.8888888888888888,
              "#fdca26"
             ],
             [
              1,
              "#f0f921"
             ]
            ],
            "type": "histogram2d"
           }
          ],
          "histogram2dcontour": [
           {
            "colorbar": {
             "outlinewidth": 0,
             "ticks": ""
            },
            "colorscale": [
             [
              0,
              "#0d0887"
             ],
             [
              0.1111111111111111,
              "#46039f"
             ],
             [
              0.2222222222222222,
              "#7201a8"
             ],
             [
              0.3333333333333333,
              "#9c179e"
             ],
             [
              0.4444444444444444,
              "#bd3786"
             ],
             [
              0.5555555555555556,
              "#d8576b"
             ],
             [
              0.6666666666666666,
              "#ed7953"
             ],
             [
              0.7777777777777778,
              "#fb9f3a"
             ],
             [
              0.8888888888888888,
              "#fdca26"
             ],
             [
              1,
              "#f0f921"
             ]
            ],
            "type": "histogram2dcontour"
           }
          ],
          "mesh3d": [
           {
            "colorbar": {
             "outlinewidth": 0,
             "ticks": ""
            },
            "type": "mesh3d"
           }
          ],
          "parcoords": [
           {
            "line": {
             "colorbar": {
              "outlinewidth": 0,
              "ticks": ""
             }
            },
            "type": "parcoords"
           }
          ],
          "pie": [
           {
            "automargin": true,
            "type": "pie"
           }
          ],
          "scatter": [
           {
            "marker": {
             "colorbar": {
              "outlinewidth": 0,
              "ticks": ""
             }
            },
            "type": "scatter"
           }
          ],
          "scatter3d": [
           {
            "line": {
             "colorbar": {
              "outlinewidth": 0,
              "ticks": ""
             }
            },
            "marker": {
             "colorbar": {
              "outlinewidth": 0,
              "ticks": ""
             }
            },
            "type": "scatter3d"
           }
          ],
          "scattercarpet": [
           {
            "marker": {
             "colorbar": {
              "outlinewidth": 0,
              "ticks": ""
             }
            },
            "type": "scattercarpet"
           }
          ],
          "scattergeo": [
           {
            "marker": {
             "colorbar": {
              "outlinewidth": 0,
              "ticks": ""
             }
            },
            "type": "scattergeo"
           }
          ],
          "scattergl": [
           {
            "marker": {
             "colorbar": {
              "outlinewidth": 0,
              "ticks": ""
             }
            },
            "type": "scattergl"
           }
          ],
          "scattermapbox": [
           {
            "marker": {
             "colorbar": {
              "outlinewidth": 0,
              "ticks": ""
             }
            },
            "type": "scattermapbox"
           }
          ],
          "scatterpolar": [
           {
            "marker": {
             "colorbar": {
              "outlinewidth": 0,
              "ticks": ""
             }
            },
            "type": "scatterpolar"
           }
          ],
          "scatterpolargl": [
           {
            "marker": {
             "colorbar": {
              "outlinewidth": 0,
              "ticks": ""
             }
            },
            "type": "scatterpolargl"
           }
          ],
          "scatterternary": [
           {
            "marker": {
             "colorbar": {
              "outlinewidth": 0,
              "ticks": ""
             }
            },
            "type": "scatterternary"
           }
          ],
          "surface": [
           {
            "colorbar": {
             "outlinewidth": 0,
             "ticks": ""
            },
            "colorscale": [
             [
              0,
              "#0d0887"
             ],
             [
              0.1111111111111111,
              "#46039f"
             ],
             [
              0.2222222222222222,
              "#7201a8"
             ],
             [
              0.3333333333333333,
              "#9c179e"
             ],
             [
              0.4444444444444444,
              "#bd3786"
             ],
             [
              0.5555555555555556,
              "#d8576b"
             ],
             [
              0.6666666666666666,
              "#ed7953"
             ],
             [
              0.7777777777777778,
              "#fb9f3a"
             ],
             [
              0.8888888888888888,
              "#fdca26"
             ],
             [
              1,
              "#f0f921"
             ]
            ],
            "type": "surface"
           }
          ],
          "table": [
           {
            "cells": {
             "fill": {
              "color": "#EBF0F8"
             },
             "line": {
              "color": "white"
             }
            },
            "header": {
             "fill": {
              "color": "#C8D4E3"
             },
             "line": {
              "color": "white"
             }
            },
            "type": "table"
           }
          ]
         },
         "layout": {
          "annotationdefaults": {
           "arrowcolor": "#2a3f5f",
           "arrowhead": 0,
           "arrowwidth": 1
          },
          "autotypenumbers": "strict",
          "coloraxis": {
           "colorbar": {
            "outlinewidth": 0,
            "ticks": ""
           }
          },
          "colorscale": {
           "diverging": [
            [
             0,
             "#8e0152"
            ],
            [
             0.1,
             "#c51b7d"
            ],
            [
             0.2,
             "#de77ae"
            ],
            [
             0.3,
             "#f1b6da"
            ],
            [
             0.4,
             "#fde0ef"
            ],
            [
             0.5,
             "#f7f7f7"
            ],
            [
             0.6,
             "#e6f5d0"
            ],
            [
             0.7,
             "#b8e186"
            ],
            [
             0.8,
             "#7fbc41"
            ],
            [
             0.9,
             "#4d9221"
            ],
            [
             1,
             "#276419"
            ]
           ],
           "sequential": [
            [
             0,
             "#0d0887"
            ],
            [
             0.1111111111111111,
             "#46039f"
            ],
            [
             0.2222222222222222,
             "#7201a8"
            ],
            [
             0.3333333333333333,
             "#9c179e"
            ],
            [
             0.4444444444444444,
             "#bd3786"
            ],
            [
             0.5555555555555556,
             "#d8576b"
            ],
            [
             0.6666666666666666,
             "#ed7953"
            ],
            [
             0.7777777777777778,
             "#fb9f3a"
            ],
            [
             0.8888888888888888,
             "#fdca26"
            ],
            [
             1,
             "#f0f921"
            ]
           ],
           "sequentialminus": [
            [
             0,
             "#0d0887"
            ],
            [
             0.1111111111111111,
             "#46039f"
            ],
            [
             0.2222222222222222,
             "#7201a8"
            ],
            [
             0.3333333333333333,
             "#9c179e"
            ],
            [
             0.4444444444444444,
             "#bd3786"
            ],
            [
             0.5555555555555556,
             "#d8576b"
            ],
            [
             0.6666666666666666,
             "#ed7953"
            ],
            [
             0.7777777777777778,
             "#fb9f3a"
            ],
            [
             0.8888888888888888,
             "#fdca26"
            ],
            [
             1,
             "#f0f921"
            ]
           ]
          },
          "colorway": [
           "#636efa",
           "#EF553B",
           "#00cc96",
           "#ab63fa",
           "#FFA15A",
           "#19d3f3",
           "#FF6692",
           "#B6E880",
           "#FF97FF",
           "#FECB52"
          ],
          "font": {
           "color": "#2a3f5f"
          },
          "geo": {
           "bgcolor": "white",
           "lakecolor": "white",
           "landcolor": "#E5ECF6",
           "showlakes": true,
           "showland": true,
           "subunitcolor": "white"
          },
          "hoverlabel": {
           "align": "left"
          },
          "hovermode": "closest",
          "mapbox": {
           "style": "light"
          },
          "paper_bgcolor": "white",
          "plot_bgcolor": "#E5ECF6",
          "polar": {
           "angularaxis": {
            "gridcolor": "white",
            "linecolor": "white",
            "ticks": ""
           },
           "bgcolor": "#E5ECF6",
           "radialaxis": {
            "gridcolor": "white",
            "linecolor": "white",
            "ticks": ""
           }
          },
          "scene": {
           "xaxis": {
            "backgroundcolor": "#E5ECF6",
            "gridcolor": "white",
            "gridwidth": 2,
            "linecolor": "white",
            "showbackground": true,
            "ticks": "",
            "zerolinecolor": "white"
           },
           "yaxis": {
            "backgroundcolor": "#E5ECF6",
            "gridcolor": "white",
            "gridwidth": 2,
            "linecolor": "white",
            "showbackground": true,
            "ticks": "",
            "zerolinecolor": "white"
           },
           "zaxis": {
            "backgroundcolor": "#E5ECF6",
            "gridcolor": "white",
            "gridwidth": 2,
            "linecolor": "white",
            "showbackground": true,
            "ticks": "",
            "zerolinecolor": "white"
           }
          },
          "shapedefaults": {
           "line": {
            "color": "#2a3f5f"
           }
          },
          "ternary": {
           "aaxis": {
            "gridcolor": "white",
            "linecolor": "white",
            "ticks": ""
           },
           "baxis": {
            "gridcolor": "white",
            "linecolor": "white",
            "ticks": ""
           },
           "bgcolor": "#E5ECF6",
           "caxis": {
            "gridcolor": "white",
            "linecolor": "white",
            "ticks": ""
           }
          },
          "title": {
           "x": 0.05
          },
          "xaxis": {
           "automargin": true,
           "gridcolor": "white",
           "linecolor": "white",
           "ticks": "",
           "title": {
            "standoff": 15
           },
           "zerolinecolor": "white",
           "zerolinewidth": 2
          },
          "yaxis": {
           "automargin": true,
           "gridcolor": "white",
           "linecolor": "white",
           "ticks": "",
           "title": {
            "standoff": 15
           },
           "zerolinecolor": "white",
           "zerolinewidth": 2
          }
         }
        },
        "yaxis": {
         "title": {
          "text": "RMSE"
         }
        }
       }
      },
      "text/html": [
       "<div>                            <div id=\"dbba6b74-65d8-4f2b-b2aa-7766d8e3d447\" class=\"plotly-graph-div\" style=\"height:525px; width:100%;\"></div>            <script type=\"text/javascript\">                require([\"plotly\"], function(Plotly) {                    window.PLOTLYENV=window.PLOTLYENV || {};                                    if (document.getElementById(\"dbba6b74-65d8-4f2b-b2aa-7766d8e3d447\")) {                    Plotly.newPlot(                        \"dbba6b74-65d8-4f2b-b2aa-7766d8e3d447\",                        [{\"name\": \"Training RMSE\", \"type\": \"bar\", \"x\": [\"c\", \"c,d\", \"c,d,h\", \"c,d,h,w\", \"c,d,h,w,a\", \"c,d,h,w,a,m\", \"c,d,h,w,a,m,o\", \"c,d,h,w,a,m,o,n\"], \"y\": [4.888109236813688, 4.58757379901803, 4.525395490245242, 4.216877763288668, 4.213763450275894, 3.3799994809258984, 3.2488224012050075, 1.1387325899145662]}, {\"name\": \"CV RMSE\", \"type\": \"bar\", \"x\": [\"c\", \"c,d\", \"c,d,h\", \"c,d,h,w\", \"c,d,h,w,a\", \"c,d,h,w,a,m\", \"c,d,h,w,a,m,o\", \"c,d,h,w,a,m,o,n\"], \"y\": [4.876661068256957, 4.579060426624026, 4.556808311664747, 4.252718625749385, 4.256844728700814, 3.455765706558678, 3.3323381513276, 3.728907195958174]}, {\"name\": \"Test RMSE\", \"opacity\": 0.3, \"type\": \"bar\", \"x\": [\"c\", \"c,d\", \"c,d,h\", \"c,d,h,w\", \"c,d,h,w,a\", \"c,d,h,w,a,m\", \"c,d,h,w,a,m,o\", \"c,d,h,w,a,m,o,n\"], \"y\": [5.055013548375552, 4.7661569898523695, 4.583861769980873, 4.325847816131029, 4.34988869276913, 3.550828171640195, 3.3746613014711664, 3.5070461515876894]}],                        {\"template\": {\"data\": {\"bar\": [{\"error_x\": {\"color\": \"#2a3f5f\"}, \"error_y\": {\"color\": \"#2a3f5f\"}, \"marker\": {\"line\": {\"color\": \"#E5ECF6\", \"width\": 0.5}}, \"type\": \"bar\"}], \"barpolar\": [{\"marker\": {\"line\": {\"color\": \"#E5ECF6\", \"width\": 0.5}}, \"type\": \"barpolar\"}], \"carpet\": [{\"aaxis\": {\"endlinecolor\": \"#2a3f5f\", \"gridcolor\": \"white\", \"linecolor\": \"white\", \"minorgridcolor\": \"white\", \"startlinecolor\": \"#2a3f5f\"}, \"baxis\": {\"endlinecolor\": \"#2a3f5f\", \"gridcolor\": \"white\", \"linecolor\": \"white\", \"minorgridcolor\": \"white\", \"startlinecolor\": \"#2a3f5f\"}, \"type\": \"carpet\"}], \"choropleth\": [{\"colorbar\": {\"outlinewidth\": 0, \"ticks\": \"\"}, \"type\": \"choropleth\"}], \"contour\": [{\"colorbar\": {\"outlinewidth\": 0, \"ticks\": \"\"}, \"colorscale\": [[0.0, \"#0d0887\"], [0.1111111111111111, \"#46039f\"], [0.2222222222222222, \"#7201a8\"], [0.3333333333333333, \"#9c179e\"], [0.4444444444444444, \"#bd3786\"], [0.5555555555555556, \"#d8576b\"], [0.6666666666666666, \"#ed7953\"], [0.7777777777777778, \"#fb9f3a\"], [0.8888888888888888, \"#fdca26\"], [1.0, \"#f0f921\"]], \"type\": \"contour\"}], \"contourcarpet\": [{\"colorbar\": {\"outlinewidth\": 0, \"ticks\": \"\"}, \"type\": \"contourcarpet\"}], \"heatmap\": [{\"colorbar\": {\"outlinewidth\": 0, \"ticks\": \"\"}, \"colorscale\": [[0.0, \"#0d0887\"], [0.1111111111111111, \"#46039f\"], [0.2222222222222222, \"#7201a8\"], [0.3333333333333333, \"#9c179e\"], [0.4444444444444444, \"#bd3786\"], [0.5555555555555556, \"#d8576b\"], [0.6666666666666666, \"#ed7953\"], [0.7777777777777778, \"#fb9f3a\"], [0.8888888888888888, \"#fdca26\"], [1.0, \"#f0f921\"]], \"type\": \"heatmap\"}], \"heatmapgl\": [{\"colorbar\": {\"outlinewidth\": 0, \"ticks\": \"\"}, \"colorscale\": [[0.0, \"#0d0887\"], [0.1111111111111111, \"#46039f\"], [0.2222222222222222, \"#7201a8\"], [0.3333333333333333, \"#9c179e\"], [0.4444444444444444, \"#bd3786\"], [0.5555555555555556, \"#d8576b\"], [0.6666666666666666, \"#ed7953\"], [0.7777777777777778, \"#fb9f3a\"], [0.8888888888888888, \"#fdca26\"], [1.0, \"#f0f921\"]], \"type\": \"heatmapgl\"}], \"histogram\": [{\"marker\": {\"colorbar\": {\"outlinewidth\": 0, \"ticks\": \"\"}}, \"type\": \"histogram\"}], \"histogram2d\": [{\"colorbar\": {\"outlinewidth\": 0, \"ticks\": \"\"}, \"colorscale\": [[0.0, \"#0d0887\"], [0.1111111111111111, \"#46039f\"], [0.2222222222222222, \"#7201a8\"], [0.3333333333333333, \"#9c179e\"], [0.4444444444444444, \"#bd3786\"], [0.5555555555555556, \"#d8576b\"], [0.6666666666666666, \"#ed7953\"], [0.7777777777777778, \"#fb9f3a\"], [0.8888888888888888, \"#fdca26\"], [1.0, \"#f0f921\"]], \"type\": \"histogram2d\"}], \"histogram2dcontour\": [{\"colorbar\": {\"outlinewidth\": 0, \"ticks\": \"\"}, \"colorscale\": [[0.0, \"#0d0887\"], [0.1111111111111111, \"#46039f\"], [0.2222222222222222, \"#7201a8\"], [0.3333333333333333, \"#9c179e\"], [0.4444444444444444, \"#bd3786\"], [0.5555555555555556, \"#d8576b\"], [0.6666666666666666, \"#ed7953\"], [0.7777777777777778, \"#fb9f3a\"], [0.8888888888888888, \"#fdca26\"], [1.0, \"#f0f921\"]], \"type\": \"histogram2dcontour\"}], \"mesh3d\": [{\"colorbar\": {\"outlinewidth\": 0, \"ticks\": \"\"}, \"type\": \"mesh3d\"}], \"parcoords\": [{\"line\": {\"colorbar\": {\"outlinewidth\": 0, \"ticks\": \"\"}}, \"type\": \"parcoords\"}], \"pie\": [{\"automargin\": true, \"type\": \"pie\"}], \"scatter\": [{\"marker\": {\"colorbar\": {\"outlinewidth\": 0, \"ticks\": \"\"}}, \"type\": \"scatter\"}], \"scatter3d\": [{\"line\": {\"colorbar\": {\"outlinewidth\": 0, \"ticks\": \"\"}}, \"marker\": {\"colorbar\": {\"outlinewidth\": 0, \"ticks\": \"\"}}, \"type\": \"scatter3d\"}], \"scattercarpet\": [{\"marker\": {\"colorbar\": {\"outlinewidth\": 0, \"ticks\": \"\"}}, \"type\": \"scattercarpet\"}], \"scattergeo\": [{\"marker\": {\"colorbar\": {\"outlinewidth\": 0, \"ticks\": \"\"}}, \"type\": \"scattergeo\"}], \"scattergl\": [{\"marker\": {\"colorbar\": {\"outlinewidth\": 0, \"ticks\": \"\"}}, \"type\": \"scattergl\"}], \"scattermapbox\": [{\"marker\": {\"colorbar\": {\"outlinewidth\": 0, \"ticks\": \"\"}}, \"type\": \"scattermapbox\"}], \"scatterpolar\": [{\"marker\": {\"colorbar\": {\"outlinewidth\": 0, \"ticks\": \"\"}}, \"type\": \"scatterpolar\"}], \"scatterpolargl\": [{\"marker\": {\"colorbar\": {\"outlinewidth\": 0, \"ticks\": \"\"}}, \"type\": \"scatterpolargl\"}], \"scatterternary\": [{\"marker\": {\"colorbar\": {\"outlinewidth\": 0, \"ticks\": \"\"}}, \"type\": \"scatterternary\"}], \"surface\": [{\"colorbar\": {\"outlinewidth\": 0, \"ticks\": \"\"}, \"colorscale\": [[0.0, \"#0d0887\"], [0.1111111111111111, \"#46039f\"], [0.2222222222222222, \"#7201a8\"], [0.3333333333333333, \"#9c179e\"], [0.4444444444444444, \"#bd3786\"], [0.5555555555555556, \"#d8576b\"], [0.6666666666666666, \"#ed7953\"], [0.7777777777777778, \"#fb9f3a\"], [0.8888888888888888, \"#fdca26\"], [1.0, \"#f0f921\"]], \"type\": \"surface\"}], \"table\": [{\"cells\": {\"fill\": {\"color\": \"#EBF0F8\"}, \"line\": {\"color\": \"white\"}}, \"header\": {\"fill\": {\"color\": \"#C8D4E3\"}, \"line\": {\"color\": \"white\"}}, \"type\": \"table\"}]}, \"layout\": {\"annotationdefaults\": {\"arrowcolor\": \"#2a3f5f\", \"arrowhead\": 0, \"arrowwidth\": 1}, \"autotypenumbers\": \"strict\", \"coloraxis\": {\"colorbar\": {\"outlinewidth\": 0, \"ticks\": \"\"}}, \"colorscale\": {\"diverging\": [[0, \"#8e0152\"], [0.1, \"#c51b7d\"], [0.2, \"#de77ae\"], [0.3, \"#f1b6da\"], [0.4, \"#fde0ef\"], [0.5, \"#f7f7f7\"], [0.6, \"#e6f5d0\"], [0.7, \"#b8e186\"], [0.8, \"#7fbc41\"], [0.9, \"#4d9221\"], [1, \"#276419\"]], \"sequential\": [[0.0, \"#0d0887\"], [0.1111111111111111, \"#46039f\"], [0.2222222222222222, \"#7201a8\"], [0.3333333333333333, \"#9c179e\"], [0.4444444444444444, \"#bd3786\"], [0.5555555555555556, \"#d8576b\"], [0.6666666666666666, \"#ed7953\"], [0.7777777777777778, \"#fb9f3a\"], [0.8888888888888888, \"#fdca26\"], [1.0, \"#f0f921\"]], \"sequentialminus\": [[0.0, \"#0d0887\"], [0.1111111111111111, \"#46039f\"], [0.2222222222222222, \"#7201a8\"], [0.3333333333333333, \"#9c179e\"], [0.4444444444444444, \"#bd3786\"], [0.5555555555555556, \"#d8576b\"], [0.6666666666666666, \"#ed7953\"], [0.7777777777777778, \"#fb9f3a\"], [0.8888888888888888, \"#fdca26\"], [1.0, \"#f0f921\"]]}, \"colorway\": [\"#636efa\", \"#EF553B\", \"#00cc96\", \"#ab63fa\", \"#FFA15A\", \"#19d3f3\", \"#FF6692\", \"#B6E880\", \"#FF97FF\", \"#FECB52\"], \"font\": {\"color\": \"#2a3f5f\"}, \"geo\": {\"bgcolor\": \"white\", \"lakecolor\": \"white\", \"landcolor\": \"#E5ECF6\", \"showlakes\": true, \"showland\": true, \"subunitcolor\": \"white\"}, \"hoverlabel\": {\"align\": \"left\"}, \"hovermode\": \"closest\", \"mapbox\": {\"style\": \"light\"}, \"paper_bgcolor\": \"white\", \"plot_bgcolor\": \"#E5ECF6\", \"polar\": {\"angularaxis\": {\"gridcolor\": \"white\", \"linecolor\": \"white\", \"ticks\": \"\"}, \"bgcolor\": \"#E5ECF6\", \"radialaxis\": {\"gridcolor\": \"white\", \"linecolor\": \"white\", \"ticks\": \"\"}}, \"scene\": {\"xaxis\": {\"backgroundcolor\": \"#E5ECF6\", \"gridcolor\": \"white\", \"gridwidth\": 2, \"linecolor\": \"white\", \"showbackground\": true, \"ticks\": \"\", \"zerolinecolor\": \"white\"}, \"yaxis\": {\"backgroundcolor\": \"#E5ECF6\", \"gridcolor\": \"white\", \"gridwidth\": 2, \"linecolor\": \"white\", \"showbackground\": true, \"ticks\": \"\", \"zerolinecolor\": \"white\"}, \"zaxis\": {\"backgroundcolor\": \"#E5ECF6\", \"gridcolor\": \"white\", \"gridwidth\": 2, \"linecolor\": \"white\", \"showbackground\": true, \"ticks\": \"\", \"zerolinecolor\": \"white\"}}, \"shapedefaults\": {\"line\": {\"color\": \"#2a3f5f\"}}, \"ternary\": {\"aaxis\": {\"gridcolor\": \"white\", \"linecolor\": \"white\", \"ticks\": \"\"}, \"baxis\": {\"gridcolor\": \"white\", \"linecolor\": \"white\", \"ticks\": \"\"}, \"bgcolor\": \"#E5ECF6\", \"caxis\": {\"gridcolor\": \"white\", \"linecolor\": \"white\", \"ticks\": \"\"}}, \"title\": {\"x\": 0.05}, \"xaxis\": {\"automargin\": true, \"gridcolor\": \"white\", \"linecolor\": \"white\", \"ticks\": \"\", \"title\": {\"standoff\": 15}, \"zerolinecolor\": \"white\", \"zerolinewidth\": 2}, \"yaxis\": {\"automargin\": true, \"gridcolor\": \"white\", \"linecolor\": \"white\", \"ticks\": \"\", \"title\": {\"standoff\": 15}, \"zerolinecolor\": \"white\", \"zerolinewidth\": 2}}}, \"yaxis\": {\"title\": {\"text\": \"RMSE\"}}},                        {\"responsive\": true}                    ).then(function(){\n",
       "                            \n",
       "var gd = document.getElementById('dbba6b74-65d8-4f2b-b2aa-7766d8e3d447');\n",
       "var x = new MutationObserver(function (mutations, observer) {{\n",
       "        var display = window.getComputedStyle(gd).display;\n",
       "        if (!display || display === 'none') {{\n",
       "            console.log([gd, 'removed!']);\n",
       "            Plotly.purge(gd);\n",
       "            observer.disconnect();\n",
       "        }}\n",
       "}});\n",
       "\n",
       "// Listen for the removal of the full notebook cells\n",
       "var notebookContainer = gd.closest('#notebook-container');\n",
       "if (notebookContainer) {{\n",
       "    x.observe(notebookContainer, {childList: true});\n",
       "}}\n",
       "\n",
       "// Listen for the clearing of the current output cell\n",
       "var outputEl = gd.closest('.output');\n",
       "if (outputEl) {{\n",
       "    x.observe(outputEl, {childList: true});\n",
       "}}\n",
       "\n",
       "                        })                };                });            </script>        </div>"
      ]
     },
     "metadata": {},
     "output_type": "display_data"
    }
   ],
   "source": [
    "compare_models(models)"
   ]
  },
  {
   "cell_type": "markdown",
   "metadata": {},
   "source": [
    "Notice that adding the origin of the vehicle resulted in a small decrease in training error and validation error but adding the name resulted in a large decrease in training error and moderate increase in validation error.  The introduction of vehicle name feature resulted in overfitting.  To see why this might have happened let's look at the number of features in each model."
   ]
  },
  {
   "cell_type": "code",
   "execution_count": 24,
   "metadata": {},
   "outputs": [
    {
     "data": {
      "application/vnd.plotly.v1+json": {
       "config": {
        "plotlyServerURL": "https://plot.ly"
       },
       "data": [
        {
         "type": "bar",
         "x": [
          "c",
          "c,d",
          "c,d,h",
          "c,d,h,w",
          "c,d,h,w,a",
          "c,d,h,w,a,m",
          "c,d,h,w,a,m,o",
          "c,d,h,w,a,m,o,n"
         ],
         "y": [
          1,
          2,
          3,
          4,
          5,
          6,
          9,
          270
         ]
        }
       ],
       "layout": {
        "template": {
         "data": {
          "bar": [
           {
            "error_x": {
             "color": "#2a3f5f"
            },
            "error_y": {
             "color": "#2a3f5f"
            },
            "marker": {
             "line": {
              "color": "#E5ECF6",
              "width": 0.5
             }
            },
            "type": "bar"
           }
          ],
          "barpolar": [
           {
            "marker": {
             "line": {
              "color": "#E5ECF6",
              "width": 0.5
             }
            },
            "type": "barpolar"
           }
          ],
          "carpet": [
           {
            "aaxis": {
             "endlinecolor": "#2a3f5f",
             "gridcolor": "white",
             "linecolor": "white",
             "minorgridcolor": "white",
             "startlinecolor": "#2a3f5f"
            },
            "baxis": {
             "endlinecolor": "#2a3f5f",
             "gridcolor": "white",
             "linecolor": "white",
             "minorgridcolor": "white",
             "startlinecolor": "#2a3f5f"
            },
            "type": "carpet"
           }
          ],
          "choropleth": [
           {
            "colorbar": {
             "outlinewidth": 0,
             "ticks": ""
            },
            "type": "choropleth"
           }
          ],
          "contour": [
           {
            "colorbar": {
             "outlinewidth": 0,
             "ticks": ""
            },
            "colorscale": [
             [
              0,
              "#0d0887"
             ],
             [
              0.1111111111111111,
              "#46039f"
             ],
             [
              0.2222222222222222,
              "#7201a8"
             ],
             [
              0.3333333333333333,
              "#9c179e"
             ],
             [
              0.4444444444444444,
              "#bd3786"
             ],
             [
              0.5555555555555556,
              "#d8576b"
             ],
             [
              0.6666666666666666,
              "#ed7953"
             ],
             [
              0.7777777777777778,
              "#fb9f3a"
             ],
             [
              0.8888888888888888,
              "#fdca26"
             ],
             [
              1,
              "#f0f921"
             ]
            ],
            "type": "contour"
           }
          ],
          "contourcarpet": [
           {
            "colorbar": {
             "outlinewidth": 0,
             "ticks": ""
            },
            "type": "contourcarpet"
           }
          ],
          "heatmap": [
           {
            "colorbar": {
             "outlinewidth": 0,
             "ticks": ""
            },
            "colorscale": [
             [
              0,
              "#0d0887"
             ],
             [
              0.1111111111111111,
              "#46039f"
             ],
             [
              0.2222222222222222,
              "#7201a8"
             ],
             [
              0.3333333333333333,
              "#9c179e"
             ],
             [
              0.4444444444444444,
              "#bd3786"
             ],
             [
              0.5555555555555556,
              "#d8576b"
             ],
             [
              0.6666666666666666,
              "#ed7953"
             ],
             [
              0.7777777777777778,
              "#fb9f3a"
             ],
             [
              0.8888888888888888,
              "#fdca26"
             ],
             [
              1,
              "#f0f921"
             ]
            ],
            "type": "heatmap"
           }
          ],
          "heatmapgl": [
           {
            "colorbar": {
             "outlinewidth": 0,
             "ticks": ""
            },
            "colorscale": [
             [
              0,
              "#0d0887"
             ],
             [
              0.1111111111111111,
              "#46039f"
             ],
             [
              0.2222222222222222,
              "#7201a8"
             ],
             [
              0.3333333333333333,
              "#9c179e"
             ],
             [
              0.4444444444444444,
              "#bd3786"
             ],
             [
              0.5555555555555556,
              "#d8576b"
             ],
             [
              0.6666666666666666,
              "#ed7953"
             ],
             [
              0.7777777777777778,
              "#fb9f3a"
             ],
             [
              0.8888888888888888,
              "#fdca26"
             ],
             [
              1,
              "#f0f921"
             ]
            ],
            "type": "heatmapgl"
           }
          ],
          "histogram": [
           {
            "marker": {
             "colorbar": {
              "outlinewidth": 0,
              "ticks": ""
             }
            },
            "type": "histogram"
           }
          ],
          "histogram2d": [
           {
            "colorbar": {
             "outlinewidth": 0,
             "ticks": ""
            },
            "colorscale": [
             [
              0,
              "#0d0887"
             ],
             [
              0.1111111111111111,
              "#46039f"
             ],
             [
              0.2222222222222222,
              "#7201a8"
             ],
             [
              0.3333333333333333,
              "#9c179e"
             ],
             [
              0.4444444444444444,
              "#bd3786"
             ],
             [
              0.5555555555555556,
              "#d8576b"
             ],
             [
              0.6666666666666666,
              "#ed7953"
             ],
             [
              0.7777777777777778,
              "#fb9f3a"
             ],
             [
              0.8888888888888888,
              "#fdca26"
             ],
             [
              1,
              "#f0f921"
             ]
            ],
            "type": "histogram2d"
           }
          ],
          "histogram2dcontour": [
           {
            "colorbar": {
             "outlinewidth": 0,
             "ticks": ""
            },
            "colorscale": [
             [
              0,
              "#0d0887"
             ],
             [
              0.1111111111111111,
              "#46039f"
             ],
             [
              0.2222222222222222,
              "#7201a8"
             ],
             [
              0.3333333333333333,
              "#9c179e"
             ],
             [
              0.4444444444444444,
              "#bd3786"
             ],
             [
              0.5555555555555556,
              "#d8576b"
             ],
             [
              0.6666666666666666,
              "#ed7953"
             ],
             [
              0.7777777777777778,
              "#fb9f3a"
             ],
             [
              0.8888888888888888,
              "#fdca26"
             ],
             [
              1,
              "#f0f921"
             ]
            ],
            "type": "histogram2dcontour"
           }
          ],
          "mesh3d": [
           {
            "colorbar": {
             "outlinewidth": 0,
             "ticks": ""
            },
            "type": "mesh3d"
           }
          ],
          "parcoords": [
           {
            "line": {
             "colorbar": {
              "outlinewidth": 0,
              "ticks": ""
             }
            },
            "type": "parcoords"
           }
          ],
          "pie": [
           {
            "automargin": true,
            "type": "pie"
           }
          ],
          "scatter": [
           {
            "marker": {
             "colorbar": {
              "outlinewidth": 0,
              "ticks": ""
             }
            },
            "type": "scatter"
           }
          ],
          "scatter3d": [
           {
            "line": {
             "colorbar": {
              "outlinewidth": 0,
              "ticks": ""
             }
            },
            "marker": {
             "colorbar": {
              "outlinewidth": 0,
              "ticks": ""
             }
            },
            "type": "scatter3d"
           }
          ],
          "scattercarpet": [
           {
            "marker": {
             "colorbar": {
              "outlinewidth": 0,
              "ticks": ""
             }
            },
            "type": "scattercarpet"
           }
          ],
          "scattergeo": [
           {
            "marker": {
             "colorbar": {
              "outlinewidth": 0,
              "ticks": ""
             }
            },
            "type": "scattergeo"
           }
          ],
          "scattergl": [
           {
            "marker": {
             "colorbar": {
              "outlinewidth": 0,
              "ticks": ""
             }
            },
            "type": "scattergl"
           }
          ],
          "scattermapbox": [
           {
            "marker": {
             "colorbar": {
              "outlinewidth": 0,
              "ticks": ""
             }
            },
            "type": "scattermapbox"
           }
          ],
          "scatterpolar": [
           {
            "marker": {
             "colorbar": {
              "outlinewidth": 0,
              "ticks": ""
             }
            },
            "type": "scatterpolar"
           }
          ],
          "scatterpolargl": [
           {
            "marker": {
             "colorbar": {
              "outlinewidth": 0,
              "ticks": ""
             }
            },
            "type": "scatterpolargl"
           }
          ],
          "scatterternary": [
           {
            "marker": {
             "colorbar": {
              "outlinewidth": 0,
              "ticks": ""
             }
            },
            "type": "scatterternary"
           }
          ],
          "surface": [
           {
            "colorbar": {
             "outlinewidth": 0,
             "ticks": ""
            },
            "colorscale": [
             [
              0,
              "#0d0887"
             ],
             [
              0.1111111111111111,
              "#46039f"
             ],
             [
              0.2222222222222222,
              "#7201a8"
             ],
             [
              0.3333333333333333,
              "#9c179e"
             ],
             [
              0.4444444444444444,
              "#bd3786"
             ],
             [
              0.5555555555555556,
              "#d8576b"
             ],
             [
              0.6666666666666666,
              "#ed7953"
             ],
             [
              0.7777777777777778,
              "#fb9f3a"
             ],
             [
              0.8888888888888888,
              "#fdca26"
             ],
             [
              1,
              "#f0f921"
             ]
            ],
            "type": "surface"
           }
          ],
          "table": [
           {
            "cells": {
             "fill": {
              "color": "#EBF0F8"
             },
             "line": {
              "color": "white"
             }
            },
            "header": {
             "fill": {
              "color": "#C8D4E3"
             },
             "line": {
              "color": "white"
             }
            },
            "type": "table"
           }
          ]
         },
         "layout": {
          "annotationdefaults": {
           "arrowcolor": "#2a3f5f",
           "arrowhead": 0,
           "arrowwidth": 1
          },
          "autotypenumbers": "strict",
          "coloraxis": {
           "colorbar": {
            "outlinewidth": 0,
            "ticks": ""
           }
          },
          "colorscale": {
           "diverging": [
            [
             0,
             "#8e0152"
            ],
            [
             0.1,
             "#c51b7d"
            ],
            [
             0.2,
             "#de77ae"
            ],
            [
             0.3,
             "#f1b6da"
            ],
            [
             0.4,
             "#fde0ef"
            ],
            [
             0.5,
             "#f7f7f7"
            ],
            [
             0.6,
             "#e6f5d0"
            ],
            [
             0.7,
             "#b8e186"
            ],
            [
             0.8,
             "#7fbc41"
            ],
            [
             0.9,
             "#4d9221"
            ],
            [
             1,
             "#276419"
            ]
           ],
           "sequential": [
            [
             0,
             "#0d0887"
            ],
            [
             0.1111111111111111,
             "#46039f"
            ],
            [
             0.2222222222222222,
             "#7201a8"
            ],
            [
             0.3333333333333333,
             "#9c179e"
            ],
            [
             0.4444444444444444,
             "#bd3786"
            ],
            [
             0.5555555555555556,
             "#d8576b"
            ],
            [
             0.6666666666666666,
             "#ed7953"
            ],
            [
             0.7777777777777778,
             "#fb9f3a"
            ],
            [
             0.8888888888888888,
             "#fdca26"
            ],
            [
             1,
             "#f0f921"
            ]
           ],
           "sequentialminus": [
            [
             0,
             "#0d0887"
            ],
            [
             0.1111111111111111,
             "#46039f"
            ],
            [
             0.2222222222222222,
             "#7201a8"
            ],
            [
             0.3333333333333333,
             "#9c179e"
            ],
            [
             0.4444444444444444,
             "#bd3786"
            ],
            [
             0.5555555555555556,
             "#d8576b"
            ],
            [
             0.6666666666666666,
             "#ed7953"
            ],
            [
             0.7777777777777778,
             "#fb9f3a"
            ],
            [
             0.8888888888888888,
             "#fdca26"
            ],
            [
             1,
             "#f0f921"
            ]
           ]
          },
          "colorway": [
           "#636efa",
           "#EF553B",
           "#00cc96",
           "#ab63fa",
           "#FFA15A",
           "#19d3f3",
           "#FF6692",
           "#B6E880",
           "#FF97FF",
           "#FECB52"
          ],
          "font": {
           "color": "#2a3f5f"
          },
          "geo": {
           "bgcolor": "white",
           "lakecolor": "white",
           "landcolor": "#E5ECF6",
           "showlakes": true,
           "showland": true,
           "subunitcolor": "white"
          },
          "hoverlabel": {
           "align": "left"
          },
          "hovermode": "closest",
          "mapbox": {
           "style": "light"
          },
          "paper_bgcolor": "white",
          "plot_bgcolor": "#E5ECF6",
          "polar": {
           "angularaxis": {
            "gridcolor": "white",
            "linecolor": "white",
            "ticks": ""
           },
           "bgcolor": "#E5ECF6",
           "radialaxis": {
            "gridcolor": "white",
            "linecolor": "white",
            "ticks": ""
           }
          },
          "scene": {
           "xaxis": {
            "backgroundcolor": "#E5ECF6",
            "gridcolor": "white",
            "gridwidth": 2,
            "linecolor": "white",
            "showbackground": true,
            "ticks": "",
            "zerolinecolor": "white"
           },
           "yaxis": {
            "backgroundcolor": "#E5ECF6",
            "gridcolor": "white",
            "gridwidth": 2,
            "linecolor": "white",
            "showbackground": true,
            "ticks": "",
            "zerolinecolor": "white"
           },
           "zaxis": {
            "backgroundcolor": "#E5ECF6",
            "gridcolor": "white",
            "gridwidth": 2,
            "linecolor": "white",
            "showbackground": true,
            "ticks": "",
            "zerolinecolor": "white"
           }
          },
          "shapedefaults": {
           "line": {
            "color": "#2a3f5f"
           }
          },
          "ternary": {
           "aaxis": {
            "gridcolor": "white",
            "linecolor": "white",
            "ticks": ""
           },
           "baxis": {
            "gridcolor": "white",
            "linecolor": "white",
            "ticks": ""
           },
           "bgcolor": "#E5ECF6",
           "caxis": {
            "gridcolor": "white",
            "linecolor": "white",
            "ticks": ""
           }
          },
          "title": {
           "x": 0.05
          },
          "xaxis": {
           "automargin": true,
           "gridcolor": "white",
           "linecolor": "white",
           "ticks": "",
           "title": {
            "standoff": 15
           },
           "zerolinecolor": "white",
           "zerolinewidth": 2
          },
          "yaxis": {
           "automargin": true,
           "gridcolor": "white",
           "linecolor": "white",
           "ticks": "",
           "title": {
            "standoff": 15
           },
           "zerolinecolor": "white",
           "zerolinewidth": 2
          }
         }
        },
        "yaxis": {
         "title": {
          "text": "Number of Features"
         },
         "type": "log"
        }
       }
      },
      "text/html": [
       "<div>                            <div id=\"3c638dd7-e19d-4cd4-a757-ae778c19023d\" class=\"plotly-graph-div\" style=\"height:525px; width:100%;\"></div>            <script type=\"text/javascript\">                require([\"plotly\"], function(Plotly) {                    window.PLOTLYENV=window.PLOTLYENV || {};                                    if (document.getElementById(\"3c638dd7-e19d-4cd4-a757-ae778c19023d\")) {                    Plotly.newPlot(                        \"3c638dd7-e19d-4cd4-a757-ae778c19023d\",                        [{\"type\": \"bar\", \"x\": [\"c\", \"c,d\", \"c,d,h\", \"c,d,h,w\", \"c,d,h,w,a\", \"c,d,h,w,a,m\", \"c,d,h,w,a,m,o\", \"c,d,h,w,a,m,o,n\"], \"y\": [1, 2, 3, 4, 5, 6, 9, 270]}],                        {\"template\": {\"data\": {\"bar\": [{\"error_x\": {\"color\": \"#2a3f5f\"}, \"error_y\": {\"color\": \"#2a3f5f\"}, \"marker\": {\"line\": {\"color\": \"#E5ECF6\", \"width\": 0.5}}, \"type\": \"bar\"}], \"barpolar\": [{\"marker\": {\"line\": {\"color\": \"#E5ECF6\", \"width\": 0.5}}, \"type\": \"barpolar\"}], \"carpet\": [{\"aaxis\": {\"endlinecolor\": \"#2a3f5f\", \"gridcolor\": \"white\", \"linecolor\": \"white\", \"minorgridcolor\": \"white\", \"startlinecolor\": \"#2a3f5f\"}, \"baxis\": {\"endlinecolor\": \"#2a3f5f\", \"gridcolor\": \"white\", \"linecolor\": \"white\", \"minorgridcolor\": \"white\", \"startlinecolor\": \"#2a3f5f\"}, \"type\": \"carpet\"}], \"choropleth\": [{\"colorbar\": {\"outlinewidth\": 0, \"ticks\": \"\"}, \"type\": \"choropleth\"}], \"contour\": [{\"colorbar\": {\"outlinewidth\": 0, \"ticks\": \"\"}, \"colorscale\": [[0.0, \"#0d0887\"], [0.1111111111111111, \"#46039f\"], [0.2222222222222222, \"#7201a8\"], [0.3333333333333333, \"#9c179e\"], [0.4444444444444444, \"#bd3786\"], [0.5555555555555556, \"#d8576b\"], [0.6666666666666666, \"#ed7953\"], [0.7777777777777778, \"#fb9f3a\"], [0.8888888888888888, \"#fdca26\"], [1.0, \"#f0f921\"]], \"type\": \"contour\"}], \"contourcarpet\": [{\"colorbar\": {\"outlinewidth\": 0, \"ticks\": \"\"}, \"type\": \"contourcarpet\"}], \"heatmap\": [{\"colorbar\": {\"outlinewidth\": 0, \"ticks\": \"\"}, \"colorscale\": [[0.0, \"#0d0887\"], [0.1111111111111111, \"#46039f\"], [0.2222222222222222, \"#7201a8\"], [0.3333333333333333, \"#9c179e\"], [0.4444444444444444, \"#bd3786\"], [0.5555555555555556, \"#d8576b\"], [0.6666666666666666, \"#ed7953\"], [0.7777777777777778, \"#fb9f3a\"], [0.8888888888888888, \"#fdca26\"], [1.0, \"#f0f921\"]], \"type\": \"heatmap\"}], \"heatmapgl\": [{\"colorbar\": {\"outlinewidth\": 0, \"ticks\": \"\"}, \"colorscale\": [[0.0, \"#0d0887\"], [0.1111111111111111, \"#46039f\"], [0.2222222222222222, \"#7201a8\"], [0.3333333333333333, \"#9c179e\"], [0.4444444444444444, \"#bd3786\"], [0.5555555555555556, \"#d8576b\"], [0.6666666666666666, \"#ed7953\"], [0.7777777777777778, \"#fb9f3a\"], [0.8888888888888888, \"#fdca26\"], [1.0, \"#f0f921\"]], \"type\": \"heatmapgl\"}], \"histogram\": [{\"marker\": {\"colorbar\": {\"outlinewidth\": 0, \"ticks\": \"\"}}, \"type\": \"histogram\"}], \"histogram2d\": [{\"colorbar\": {\"outlinewidth\": 0, \"ticks\": \"\"}, \"colorscale\": [[0.0, \"#0d0887\"], [0.1111111111111111, \"#46039f\"], [0.2222222222222222, \"#7201a8\"], [0.3333333333333333, \"#9c179e\"], [0.4444444444444444, \"#bd3786\"], [0.5555555555555556, \"#d8576b\"], [0.6666666666666666, \"#ed7953\"], [0.7777777777777778, \"#fb9f3a\"], [0.8888888888888888, \"#fdca26\"], [1.0, \"#f0f921\"]], \"type\": \"histogram2d\"}], \"histogram2dcontour\": [{\"colorbar\": {\"outlinewidth\": 0, \"ticks\": \"\"}, \"colorscale\": [[0.0, \"#0d0887\"], [0.1111111111111111, \"#46039f\"], [0.2222222222222222, \"#7201a8\"], [0.3333333333333333, \"#9c179e\"], [0.4444444444444444, \"#bd3786\"], [0.5555555555555556, \"#d8576b\"], [0.6666666666666666, \"#ed7953\"], [0.7777777777777778, \"#fb9f3a\"], [0.8888888888888888, \"#fdca26\"], [1.0, \"#f0f921\"]], \"type\": \"histogram2dcontour\"}], \"mesh3d\": [{\"colorbar\": {\"outlinewidth\": 0, \"ticks\": \"\"}, \"type\": \"mesh3d\"}], \"parcoords\": [{\"line\": {\"colorbar\": {\"outlinewidth\": 0, \"ticks\": \"\"}}, \"type\": \"parcoords\"}], \"pie\": [{\"automargin\": true, \"type\": \"pie\"}], \"scatter\": [{\"marker\": {\"colorbar\": {\"outlinewidth\": 0, \"ticks\": \"\"}}, \"type\": \"scatter\"}], \"scatter3d\": [{\"line\": {\"colorbar\": {\"outlinewidth\": 0, \"ticks\": \"\"}}, \"marker\": {\"colorbar\": {\"outlinewidth\": 0, \"ticks\": \"\"}}, \"type\": \"scatter3d\"}], \"scattercarpet\": [{\"marker\": {\"colorbar\": {\"outlinewidth\": 0, \"ticks\": \"\"}}, \"type\": \"scattercarpet\"}], \"scattergeo\": [{\"marker\": {\"colorbar\": {\"outlinewidth\": 0, \"ticks\": \"\"}}, \"type\": \"scattergeo\"}], \"scattergl\": [{\"marker\": {\"colorbar\": {\"outlinewidth\": 0, \"ticks\": \"\"}}, \"type\": \"scattergl\"}], \"scattermapbox\": [{\"marker\": {\"colorbar\": {\"outlinewidth\": 0, \"ticks\": \"\"}}, \"type\": \"scattermapbox\"}], \"scatterpolar\": [{\"marker\": {\"colorbar\": {\"outlinewidth\": 0, \"ticks\": \"\"}}, \"type\": \"scatterpolar\"}], \"scatterpolargl\": [{\"marker\": {\"colorbar\": {\"outlinewidth\": 0, \"ticks\": \"\"}}, \"type\": \"scatterpolargl\"}], \"scatterternary\": [{\"marker\": {\"colorbar\": {\"outlinewidth\": 0, \"ticks\": \"\"}}, \"type\": \"scatterternary\"}], \"surface\": [{\"colorbar\": {\"outlinewidth\": 0, \"ticks\": \"\"}, \"colorscale\": [[0.0, \"#0d0887\"], [0.1111111111111111, \"#46039f\"], [0.2222222222222222, \"#7201a8\"], [0.3333333333333333, \"#9c179e\"], [0.4444444444444444, \"#bd3786\"], [0.5555555555555556, \"#d8576b\"], [0.6666666666666666, \"#ed7953\"], [0.7777777777777778, \"#fb9f3a\"], [0.8888888888888888, \"#fdca26\"], [1.0, \"#f0f921\"]], \"type\": \"surface\"}], \"table\": [{\"cells\": {\"fill\": {\"color\": \"#EBF0F8\"}, \"line\": {\"color\": \"white\"}}, \"header\": {\"fill\": {\"color\": \"#C8D4E3\"}, \"line\": {\"color\": \"white\"}}, \"type\": \"table\"}]}, \"layout\": {\"annotationdefaults\": {\"arrowcolor\": \"#2a3f5f\", \"arrowhead\": 0, \"arrowwidth\": 1}, \"autotypenumbers\": \"strict\", \"coloraxis\": {\"colorbar\": {\"outlinewidth\": 0, \"ticks\": \"\"}}, \"colorscale\": {\"diverging\": [[0, \"#8e0152\"], [0.1, \"#c51b7d\"], [0.2, \"#de77ae\"], [0.3, \"#f1b6da\"], [0.4, \"#fde0ef\"], [0.5, \"#f7f7f7\"], [0.6, \"#e6f5d0\"], [0.7, \"#b8e186\"], [0.8, \"#7fbc41\"], [0.9, \"#4d9221\"], [1, \"#276419\"]], \"sequential\": [[0.0, \"#0d0887\"], [0.1111111111111111, \"#46039f\"], [0.2222222222222222, \"#7201a8\"], [0.3333333333333333, \"#9c179e\"], [0.4444444444444444, \"#bd3786\"], [0.5555555555555556, \"#d8576b\"], [0.6666666666666666, \"#ed7953\"], [0.7777777777777778, \"#fb9f3a\"], [0.8888888888888888, \"#fdca26\"], [1.0, \"#f0f921\"]], \"sequentialminus\": [[0.0, \"#0d0887\"], [0.1111111111111111, \"#46039f\"], [0.2222222222222222, \"#7201a8\"], [0.3333333333333333, \"#9c179e\"], [0.4444444444444444, \"#bd3786\"], [0.5555555555555556, \"#d8576b\"], [0.6666666666666666, \"#ed7953\"], [0.7777777777777778, \"#fb9f3a\"], [0.8888888888888888, \"#fdca26\"], [1.0, \"#f0f921\"]]}, \"colorway\": [\"#636efa\", \"#EF553B\", \"#00cc96\", \"#ab63fa\", \"#FFA15A\", \"#19d3f3\", \"#FF6692\", \"#B6E880\", \"#FF97FF\", \"#FECB52\"], \"font\": {\"color\": \"#2a3f5f\"}, \"geo\": {\"bgcolor\": \"white\", \"lakecolor\": \"white\", \"landcolor\": \"#E5ECF6\", \"showlakes\": true, \"showland\": true, \"subunitcolor\": \"white\"}, \"hoverlabel\": {\"align\": \"left\"}, \"hovermode\": \"closest\", \"mapbox\": {\"style\": \"light\"}, \"paper_bgcolor\": \"white\", \"plot_bgcolor\": \"#E5ECF6\", \"polar\": {\"angularaxis\": {\"gridcolor\": \"white\", \"linecolor\": \"white\", \"ticks\": \"\"}, \"bgcolor\": \"#E5ECF6\", \"radialaxis\": {\"gridcolor\": \"white\", \"linecolor\": \"white\", \"ticks\": \"\"}}, \"scene\": {\"xaxis\": {\"backgroundcolor\": \"#E5ECF6\", \"gridcolor\": \"white\", \"gridwidth\": 2, \"linecolor\": \"white\", \"showbackground\": true, \"ticks\": \"\", \"zerolinecolor\": \"white\"}, \"yaxis\": {\"backgroundcolor\": \"#E5ECF6\", \"gridcolor\": \"white\", \"gridwidth\": 2, \"linecolor\": \"white\", \"showbackground\": true, \"ticks\": \"\", \"zerolinecolor\": \"white\"}, \"zaxis\": {\"backgroundcolor\": \"#E5ECF6\", \"gridcolor\": \"white\", \"gridwidth\": 2, \"linecolor\": \"white\", \"showbackground\": true, \"ticks\": \"\", \"zerolinecolor\": \"white\"}}, \"shapedefaults\": {\"line\": {\"color\": \"#2a3f5f\"}}, \"ternary\": {\"aaxis\": {\"gridcolor\": \"white\", \"linecolor\": \"white\", \"ticks\": \"\"}, \"baxis\": {\"gridcolor\": \"white\", \"linecolor\": \"white\", \"ticks\": \"\"}, \"bgcolor\": \"#E5ECF6\", \"caxis\": {\"gridcolor\": \"white\", \"linecolor\": \"white\", \"ticks\": \"\"}}, \"title\": {\"x\": 0.05}, \"xaxis\": {\"automargin\": true, \"gridcolor\": \"white\", \"linecolor\": \"white\", \"ticks\": \"\", \"title\": {\"standoff\": 15}, \"zerolinecolor\": \"white\", \"zerolinewidth\": 2}, \"yaxis\": {\"automargin\": true, \"gridcolor\": \"white\", \"linecolor\": \"white\", \"ticks\": \"\", \"title\": {\"standoff\": 15}, \"zerolinecolor\": \"white\", \"zerolinewidth\": 2}}}, \"yaxis\": {\"title\": {\"text\": \"Number of Features\"}, \"type\": \"log\"}},                        {\"responsive\": true}                    ).then(function(){\n",
       "                            \n",
       "var gd = document.getElementById('3c638dd7-e19d-4cd4-a757-ae778c19023d');\n",
       "var x = new MutationObserver(function (mutations, observer) {{\n",
       "        var display = window.getComputedStyle(gd).display;\n",
       "        if (!display || display === 'none') {{\n",
       "            console.log([gd, 'removed!']);\n",
       "            Plotly.purge(gd);\n",
       "            observer.disconnect();\n",
       "        }}\n",
       "}});\n",
       "\n",
       "// Listen for the removal of the full notebook cells\n",
       "var notebookContainer = gd.closest('#notebook-container');\n",
       "if (notebookContainer) {{\n",
       "    x.observe(notebookContainer, {childList: true});\n",
       "}}\n",
       "\n",
       "// Listen for the clearing of the current output cell\n",
       "var outputEl = gd.closest('.output');\n",
       "if (outputEl) {{\n",
       "    x.observe(outputEl, {childList: true});\n",
       "}}\n",
       "\n",
       "                        })                };                });            </script>        </div>"
      ]
     },
     "metadata": {},
     "output_type": "display_data"
    }
   ],
   "source": [
    "fig = go.Figure()\n",
    "fig.add_trace(go.Bar(\n",
    "    x = list(models.keys()), \n",
    "    y = [len(models[m][\"LinearModel\"].coef_) for m in models]\n",
    "))\n",
    "fig.update_yaxes(title=\"Number of Features\",type=\"log\")"
   ]
  },
  {
   "cell_type": "markdown",
   "metadata": {},
   "source": [
    "Notice that the above plot is in log scale on the y axis!  The addition of the model name resulted in a large jump in features.  Perhaps some of these new features are useful and some are not.  What we really want now is a mechanism to select which of these features to keep and which to ignore or down-weight.  This can be done by using regularization. "
   ]
  },
  {
   "cell_type": "markdown",
   "metadata": {},
   "source": [
    "## Regularization\n",
    "\n",
    "Broadly speaking, regularization refers to methods used to control over-fitting.  However, in this class we will focus on parametric regularization techniques."
   ]
  },
  {
   "cell_type": "markdown",
   "metadata": {},
   "source": [
    "The simplest way to think about regularization is in the context of our original loss minimization problem. Recall we defined the loss function which determines what is the best parameter value $\\hat{\\theta}$ for our model. \n",
    "\n",
    "$$\n",
    "\\hat{\\theta} = \\arg \\min_\\theta \\frac{1}{n} \\sum_{i=1}^n \\textbf{Loss}\\left(Y_i, f_\\theta(X_i)\\right)\n",
    "$$\n",
    "\n",
    "The loss captures how well our model fits the data.  What we need is a way to a way to penalize models that over-fit to the data.  We can do this by adding an extra term to our loss minimization problem:\n",
    "\n",
    "\n",
    "$$\n",
    "\\hat{\\theta} = \\arg \\min_\\theta \\frac{1}{n} \\sum_{i=1}^n \\textbf{Loss}\\left(Y_i, f_\\theta(X_i)\\right) + \\alpha \\textbf{Reg}(f_\\theta, X, Y)\n",
    "$$\n",
    "\n",
    "The **Reg** function measures how much our model overfits and $\\alpha$ parameter (really hyper-parameter) allows us balance fitting our data and overfitting. The remaining challenge is how to define this **Reg** function and determine the value of our additional $\\alpha$ parameter.  \n"
   ]
  },
  {
   "cell_type": "markdown",
   "metadata": {},
   "source": [
    "### The Regularization Hyper-parameter\n",
    "The $\\alpha$ parameter is our regularization **hyper-parameter**.  It is a hyper-parameter because it is not a model parameter but a choice of how we want to balance fitting the data and \"over-fitting\".  The goal is to find a value of this hyper-parameter to maximize our accuracy on the **test data**. However, **we can't use the test data to make modeling decisions** so we turn to cross validation.  The standard way to find the best $\\alpha$ is to try a bunch of values (perhaps using binary search) and take the one with the lowest cross validation error. \n",
    "\n",
    "You may have noticed that in the video lecture we use $\\lambda$ instead of $\\alpha$.  This is because many textbooks use $\\lambda$ and sklearn uses $\\alpha$."
   ]
  },
  {
   "cell_type": "markdown",
   "metadata": {},
   "source": [
    "### The Regularization Function \n",
    "\n",
    "In our cartoon formulation of the regularized loss, the regularization function **Reg** is supposed to \"measure\" how much our model \"overfits\".  It depends on the model parameters and also can depend on the data.  An obvious choice for this function could be the gap between training and cross validation error but that is difficult to optimize and somewhat circular since both training and validation error depend on solving the regularized loss minimization problem. \n",
    "\n",
    "We have already seen that the more features we have the more likely we are to overfit to our data.  For our linear model, if we set a parameter to 0 then that is the same as not having that feature.  Therefore, one possible regularization function could be to count the non-zero parameters in our model.\n",
    "\n",
    "$$\n",
    "\\textbf{Reg}(\\theta) = \\sum_{k=1}^d (\\theta_i \\neq 0)\n",
    "$$\n",
    "\n",
    "To minimize this function would be to ignore all the features and that would certainly not overfit.  This is actually, the \"feature selection\" regularization objective.  Unfortunately, optimizing this objective is very hard (NP-Hard).  \n",
    "\n",
    "However, there are some good approximations we can use:\n",
    "\n",
    "$$\n",
    "\\textbf{Reg}^\\text{ridge}(\\theta) = \\sum_{k=1}^d \\theta_i^2\n",
    "$$\n",
    "\n",
    "and\n",
    "\n",
    "$$\n",
    "\\textbf{Reg}^\\text{lasso}(\\theta) = \\sum_{k=1}^d \\left|\\theta_i \\right|\n",
    "$$\n",
    "\n",
    "Each of these regularization functions (and their combination) give rise to different regression techniques.\n",
    "\n"
   ]
  },
  {
   "cell_type": "markdown",
   "metadata": {},
   "source": [
    "### Ridge Regression\n",
    "\n",
    "Ridge regression combines the ridge (L2, Squared) regularization function with the least squares loss.  \n",
    "\n",
    "\n",
    "$$\n",
    "\\hat{\\theta}_\\alpha = \\arg \\min_\\theta \\left(\\frac{1}{n} \\sum_{i=1}^n \\left(Y_i -  f_\\theta(X_i)\\right)^2 \\right) + \\alpha \\sum_{k=1}^d \\theta_k^2\n",
    "$$\n",
    "\n",
    "\n",
    "\n",
    "Ridge regression, like ordinary least squares regression, also has a closed form solution for the optimal $\\hat{\\theta}_\\alpha$\n",
    "\n",
    "$$\n",
    "\\hat{\\theta}_\\alpha = \\left(X^T X + n \\alpha \\mathbf{I}\\right)^{-1} X^T Y\n",
    "$$\n",
    "\n",
    "where $\\mathbf{I}$ is the identity matrix, $n$ is the number of data points, and $\\alpha$ is the regularization hyper-parameter.\n",
    "\n",
    "Notice that even if $X^T X$ is not full rank, the addition of $n \\alpha \\mathbf{I}$ (which is full rank) makes $\\left(X^T X + n \\alpha \\mathbf{I}\\right)$ invertible.  Thus, ridge regression addresses our earlier issue of having an underdetermined system and partially improves the numerical stability of the solution. "
   ]
  },
  {
   "cell_type": "markdown",
   "metadata": {},
   "source": [
    "### Lasso Regression\n",
    "\n",
    "Lasso regression combines the absolute (L1) regularization function with the least squares loss.  \n",
    "\n",
    "$$\n",
    "\\hat{\\theta}_\\alpha = \\arg \\min_\\theta \\left(\\frac{1}{n} \\sum_{i=1}^n \\left(Y_i -  f_\\theta(X_i)\\right)^2 \\right) + \\alpha \\sum_{k=1}^d |\\theta_k|\n",
    "$$\n",
    "\n",
    "Lasso is actually an acronym (and a cool name) which stands for Least Absolute Shrinkage and Selection Operator.  It is an absolute operator because it is the absolute value.  It is a shrinkage operator because it favors smaller parameter values.  It is a selection operator because it has the peculiar property of pushing parameter values all the way to zero thereby selecting the remaining features.  It is this last property that makes Lasso regression so useful. By using Lasso regression and setting sufficiently large value of $\\alpha$ you can eliminate features that are not informative. \n",
    "\n",
    "Unfortunately, there is no closed form solution for Lasso regression and so iterative optimization algorithms like gradient descent are typically used. "
   ]
  },
  {
   "cell_type": "markdown",
   "metadata": {},
   "source": [
    "### Normalizing the Features\n",
    "\n",
    "When applying Ridge or Lasso regression it is important that you normalize your features.  Why (think about it for a second)?  \n",
    "\n",
    "The issue is that if you have very large and very small features then the relative magnitudes of the coefficients may differ substantially.  Think of the coefficients as unit translations from units of features (e.g., cubic centimeters, and horse power) to units of the thing you are trying to predict (e.g., miles per gallon).  The regularization function treats all these unit translation coefficients equally but some may *need* to be much larger than others.  Therefore, by *standardizing the features* we can address this variation.   You can standardize a feature by computing:\n",
    "\n",
    "$$\n",
    "z = \\frac{x - \\textbf{Mean}(x)}{\\textbf{StdDev}(x)}\n",
    "$$"
   ]
  },
  {
   "cell_type": "markdown",
   "metadata": {},
   "source": [
    "## Ridge Regression in SK Learn\n",
    "\n",
    "Both Ridge Regression and Lasso are built-in functions in SKLearn.  Let's start by importing the `Ridge` Regression class which behaves identically to the `LinearRegression` class we used earlier:"
   ]
  },
  {
   "cell_type": "code",
   "execution_count": 25,
   "metadata": {},
   "outputs": [],
   "source": [
    "from sklearn.linear_model import Ridge"
   ]
  },
  {
   "cell_type": "markdown",
   "metadata": {},
   "source": [
    "Take a look at the documentation.  Notice the regularized loss function. "
   ]
  },
  {
   "cell_type": "code",
   "execution_count": 26,
   "metadata": {},
   "outputs": [],
   "source": [
    "Ridge?"
   ]
  },
  {
   "cell_type": "markdown",
   "metadata": {},
   "source": [
    "We can plug the Ridge Regression Model in place of our the LinearRegression Model in our earlier pipeline."
   ]
  },
  {
   "cell_type": "code",
   "execution_count": 27,
   "metadata": {},
   "outputs": [],
   "source": [
    "ridge_model = Pipeline([\n",
    "    (\"SelectColumns\", ColumnTransformer([\n",
    "        (\"keep\", \"passthrough\", quantitative_features),\n",
    "        (\"origin_encoder\", OneHotEncoder(), [\"origin\"]),\n",
    "        (\"text\", CountVectorizer(), \"name\")\n",
    "    ])),\n",
    "    (\"Imputation\", SimpleImputer()),\n",
    "    (\"LinearModel\", Ridge(alpha=0.5))\n",
    "])"
   ]
  },
  {
   "cell_type": "code",
   "execution_count": 28,
   "metadata": {},
   "outputs": [
    {
     "data": {
      "application/vnd.plotly.v1+json": {
       "config": {
        "plotlyServerURL": "https://plot.ly"
       },
       "data": [
        {
         "name": "Training RMSE",
         "type": "bar",
         "x": [
          "c",
          "c,d",
          "c,d,h",
          "c,d,h,w",
          "c,d,h,w,a",
          "c,d,h,w,a,m",
          "c,d,h,w,a,m,o",
          "c,d,h,w,a,m,o,n",
          "Ridge(alpha=0.5)"
         ],
         "y": [
          4.888109236813688,
          4.58757379901803,
          4.525395490245242,
          4.216877763288668,
          4.213763450275894,
          3.3799994809258984,
          3.2488224012050075,
          1.1387325899145662,
          3.392024331152466
         ]
        },
        {
         "name": "CV RMSE",
         "type": "bar",
         "x": [
          "c",
          "c,d",
          "c,d,h",
          "c,d,h,w",
          "c,d,h,w,a",
          "c,d,h,w,a,m",
          "c,d,h,w,a,m,o",
          "c,d,h,w,a,m,o,n",
          "Ridge(alpha=0.5)"
         ],
         "y": [
          4.876661068256957,
          4.579060426624026,
          4.556808311664747,
          4.252718625749385,
          4.256844728700814,
          3.455765706558678,
          3.3323381513276,
          3.728907195958174,
          3.25010581041028
         ]
        },
        {
         "name": "Test RMSE",
         "opacity": 0.3,
         "type": "bar",
         "x": [
          "c",
          "c,d",
          "c,d,h",
          "c,d,h,w",
          "c,d,h,w,a",
          "c,d,h,w,a,m",
          "c,d,h,w,a,m,o",
          "c,d,h,w,a,m,o,n",
          "Ridge(alpha=0.5)"
         ],
         "y": [
          5.055013548375552,
          4.7661569898523695,
          4.583861769980873,
          4.325847816131029,
          4.34988869276913,
          3.550828171640195,
          3.3746613014711664,
          3.5070461515876894,
          3.4637255340236033
         ]
        }
       ],
       "layout": {
        "template": {
         "data": {
          "bar": [
           {
            "error_x": {
             "color": "#2a3f5f"
            },
            "error_y": {
             "color": "#2a3f5f"
            },
            "marker": {
             "line": {
              "color": "#E5ECF6",
              "width": 0.5
             }
            },
            "type": "bar"
           }
          ],
          "barpolar": [
           {
            "marker": {
             "line": {
              "color": "#E5ECF6",
              "width": 0.5
             }
            },
            "type": "barpolar"
           }
          ],
          "carpet": [
           {
            "aaxis": {
             "endlinecolor": "#2a3f5f",
             "gridcolor": "white",
             "linecolor": "white",
             "minorgridcolor": "white",
             "startlinecolor": "#2a3f5f"
            },
            "baxis": {
             "endlinecolor": "#2a3f5f",
             "gridcolor": "white",
             "linecolor": "white",
             "minorgridcolor": "white",
             "startlinecolor": "#2a3f5f"
            },
            "type": "carpet"
           }
          ],
          "choropleth": [
           {
            "colorbar": {
             "outlinewidth": 0,
             "ticks": ""
            },
            "type": "choropleth"
           }
          ],
          "contour": [
           {
            "colorbar": {
             "outlinewidth": 0,
             "ticks": ""
            },
            "colorscale": [
             [
              0,
              "#0d0887"
             ],
             [
              0.1111111111111111,
              "#46039f"
             ],
             [
              0.2222222222222222,
              "#7201a8"
             ],
             [
              0.3333333333333333,
              "#9c179e"
             ],
             [
              0.4444444444444444,
              "#bd3786"
             ],
             [
              0.5555555555555556,
              "#d8576b"
             ],
             [
              0.6666666666666666,
              "#ed7953"
             ],
             [
              0.7777777777777778,
              "#fb9f3a"
             ],
             [
              0.8888888888888888,
              "#fdca26"
             ],
             [
              1,
              "#f0f921"
             ]
            ],
            "type": "contour"
           }
          ],
          "contourcarpet": [
           {
            "colorbar": {
             "outlinewidth": 0,
             "ticks": ""
            },
            "type": "contourcarpet"
           }
          ],
          "heatmap": [
           {
            "colorbar": {
             "outlinewidth": 0,
             "ticks": ""
            },
            "colorscale": [
             [
              0,
              "#0d0887"
             ],
             [
              0.1111111111111111,
              "#46039f"
             ],
             [
              0.2222222222222222,
              "#7201a8"
             ],
             [
              0.3333333333333333,
              "#9c179e"
             ],
             [
              0.4444444444444444,
              "#bd3786"
             ],
             [
              0.5555555555555556,
              "#d8576b"
             ],
             [
              0.6666666666666666,
              "#ed7953"
             ],
             [
              0.7777777777777778,
              "#fb9f3a"
             ],
             [
              0.8888888888888888,
              "#fdca26"
             ],
             [
              1,
              "#f0f921"
             ]
            ],
            "type": "heatmap"
           }
          ],
          "heatmapgl": [
           {
            "colorbar": {
             "outlinewidth": 0,
             "ticks": ""
            },
            "colorscale": [
             [
              0,
              "#0d0887"
             ],
             [
              0.1111111111111111,
              "#46039f"
             ],
             [
              0.2222222222222222,
              "#7201a8"
             ],
             [
              0.3333333333333333,
              "#9c179e"
             ],
             [
              0.4444444444444444,
              "#bd3786"
             ],
             [
              0.5555555555555556,
              "#d8576b"
             ],
             [
              0.6666666666666666,
              "#ed7953"
             ],
             [
              0.7777777777777778,
              "#fb9f3a"
             ],
             [
              0.8888888888888888,
              "#fdca26"
             ],
             [
              1,
              "#f0f921"
             ]
            ],
            "type": "heatmapgl"
           }
          ],
          "histogram": [
           {
            "marker": {
             "colorbar": {
              "outlinewidth": 0,
              "ticks": ""
             }
            },
            "type": "histogram"
           }
          ],
          "histogram2d": [
           {
            "colorbar": {
             "outlinewidth": 0,
             "ticks": ""
            },
            "colorscale": [
             [
              0,
              "#0d0887"
             ],
             [
              0.1111111111111111,
              "#46039f"
             ],
             [
              0.2222222222222222,
              "#7201a8"
             ],
             [
              0.3333333333333333,
              "#9c179e"
             ],
             [
              0.4444444444444444,
              "#bd3786"
             ],
             [
              0.5555555555555556,
              "#d8576b"
             ],
             [
              0.6666666666666666,
              "#ed7953"
             ],
             [
              0.7777777777777778,
              "#fb9f3a"
             ],
             [
              0.8888888888888888,
              "#fdca26"
             ],
             [
              1,
              "#f0f921"
             ]
            ],
            "type": "histogram2d"
           }
          ],
          "histogram2dcontour": [
           {
            "colorbar": {
             "outlinewidth": 0,
             "ticks": ""
            },
            "colorscale": [
             [
              0,
              "#0d0887"
             ],
             [
              0.1111111111111111,
              "#46039f"
             ],
             [
              0.2222222222222222,
              "#7201a8"
             ],
             [
              0.3333333333333333,
              "#9c179e"
             ],
             [
              0.4444444444444444,
              "#bd3786"
             ],
             [
              0.5555555555555556,
              "#d8576b"
             ],
             [
              0.6666666666666666,
              "#ed7953"
             ],
             [
              0.7777777777777778,
              "#fb9f3a"
             ],
             [
              0.8888888888888888,
              "#fdca26"
             ],
             [
              1,
              "#f0f921"
             ]
            ],
            "type": "histogram2dcontour"
           }
          ],
          "mesh3d": [
           {
            "colorbar": {
             "outlinewidth": 0,
             "ticks": ""
            },
            "type": "mesh3d"
           }
          ],
          "parcoords": [
           {
            "line": {
             "colorbar": {
              "outlinewidth": 0,
              "ticks": ""
             }
            },
            "type": "parcoords"
           }
          ],
          "pie": [
           {
            "automargin": true,
            "type": "pie"
           }
          ],
          "scatter": [
           {
            "marker": {
             "colorbar": {
              "outlinewidth": 0,
              "ticks": ""
             }
            },
            "type": "scatter"
           }
          ],
          "scatter3d": [
           {
            "line": {
             "colorbar": {
              "outlinewidth": 0,
              "ticks": ""
             }
            },
            "marker": {
             "colorbar": {
              "outlinewidth": 0,
              "ticks": ""
             }
            },
            "type": "scatter3d"
           }
          ],
          "scattercarpet": [
           {
            "marker": {
             "colorbar": {
              "outlinewidth": 0,
              "ticks": ""
             }
            },
            "type": "scattercarpet"
           }
          ],
          "scattergeo": [
           {
            "marker": {
             "colorbar": {
              "outlinewidth": 0,
              "ticks": ""
             }
            },
            "type": "scattergeo"
           }
          ],
          "scattergl": [
           {
            "marker": {
             "colorbar": {
              "outlinewidth": 0,
              "ticks": ""
             }
            },
            "type": "scattergl"
           }
          ],
          "scattermapbox": [
           {
            "marker": {
             "colorbar": {
              "outlinewidth": 0,
              "ticks": ""
             }
            },
            "type": "scattermapbox"
           }
          ],
          "scatterpolar": [
           {
            "marker": {
             "colorbar": {
              "outlinewidth": 0,
              "ticks": ""
             }
            },
            "type": "scatterpolar"
           }
          ],
          "scatterpolargl": [
           {
            "marker": {
             "colorbar": {
              "outlinewidth": 0,
              "ticks": ""
             }
            },
            "type": "scatterpolargl"
           }
          ],
          "scatterternary": [
           {
            "marker": {
             "colorbar": {
              "outlinewidth": 0,
              "ticks": ""
             }
            },
            "type": "scatterternary"
           }
          ],
          "surface": [
           {
            "colorbar": {
             "outlinewidth": 0,
             "ticks": ""
            },
            "colorscale": [
             [
              0,
              "#0d0887"
             ],
             [
              0.1111111111111111,
              "#46039f"
             ],
             [
              0.2222222222222222,
              "#7201a8"
             ],
             [
              0.3333333333333333,
              "#9c179e"
             ],
             [
              0.4444444444444444,
              "#bd3786"
             ],
             [
              0.5555555555555556,
              "#d8576b"
             ],
             [
              0.6666666666666666,
              "#ed7953"
             ],
             [
              0.7777777777777778,
              "#fb9f3a"
             ],
             [
              0.8888888888888888,
              "#fdca26"
             ],
             [
              1,
              "#f0f921"
             ]
            ],
            "type": "surface"
           }
          ],
          "table": [
           {
            "cells": {
             "fill": {
              "color": "#EBF0F8"
             },
             "line": {
              "color": "white"
             }
            },
            "header": {
             "fill": {
              "color": "#C8D4E3"
             },
             "line": {
              "color": "white"
             }
            },
            "type": "table"
           }
          ]
         },
         "layout": {
          "annotationdefaults": {
           "arrowcolor": "#2a3f5f",
           "arrowhead": 0,
           "arrowwidth": 1
          },
          "autotypenumbers": "strict",
          "coloraxis": {
           "colorbar": {
            "outlinewidth": 0,
            "ticks": ""
           }
          },
          "colorscale": {
           "diverging": [
            [
             0,
             "#8e0152"
            ],
            [
             0.1,
             "#c51b7d"
            ],
            [
             0.2,
             "#de77ae"
            ],
            [
             0.3,
             "#f1b6da"
            ],
            [
             0.4,
             "#fde0ef"
            ],
            [
             0.5,
             "#f7f7f7"
            ],
            [
             0.6,
             "#e6f5d0"
            ],
            [
             0.7,
             "#b8e186"
            ],
            [
             0.8,
             "#7fbc41"
            ],
            [
             0.9,
             "#4d9221"
            ],
            [
             1,
             "#276419"
            ]
           ],
           "sequential": [
            [
             0,
             "#0d0887"
            ],
            [
             0.1111111111111111,
             "#46039f"
            ],
            [
             0.2222222222222222,
             "#7201a8"
            ],
            [
             0.3333333333333333,
             "#9c179e"
            ],
            [
             0.4444444444444444,
             "#bd3786"
            ],
            [
             0.5555555555555556,
             "#d8576b"
            ],
            [
             0.6666666666666666,
             "#ed7953"
            ],
            [
             0.7777777777777778,
             "#fb9f3a"
            ],
            [
             0.8888888888888888,
             "#fdca26"
            ],
            [
             1,
             "#f0f921"
            ]
           ],
           "sequentialminus": [
            [
             0,
             "#0d0887"
            ],
            [
             0.1111111111111111,
             "#46039f"
            ],
            [
             0.2222222222222222,
             "#7201a8"
            ],
            [
             0.3333333333333333,
             "#9c179e"
            ],
            [
             0.4444444444444444,
             "#bd3786"
            ],
            [
             0.5555555555555556,
             "#d8576b"
            ],
            [
             0.6666666666666666,
             "#ed7953"
            ],
            [
             0.7777777777777778,
             "#fb9f3a"
            ],
            [
             0.8888888888888888,
             "#fdca26"
            ],
            [
             1,
             "#f0f921"
            ]
           ]
          },
          "colorway": [
           "#636efa",
           "#EF553B",
           "#00cc96",
           "#ab63fa",
           "#FFA15A",
           "#19d3f3",
           "#FF6692",
           "#B6E880",
           "#FF97FF",
           "#FECB52"
          ],
          "font": {
           "color": "#2a3f5f"
          },
          "geo": {
           "bgcolor": "white",
           "lakecolor": "white",
           "landcolor": "#E5ECF6",
           "showlakes": true,
           "showland": true,
           "subunitcolor": "white"
          },
          "hoverlabel": {
           "align": "left"
          },
          "hovermode": "closest",
          "mapbox": {
           "style": "light"
          },
          "paper_bgcolor": "white",
          "plot_bgcolor": "#E5ECF6",
          "polar": {
           "angularaxis": {
            "gridcolor": "white",
            "linecolor": "white",
            "ticks": ""
           },
           "bgcolor": "#E5ECF6",
           "radialaxis": {
            "gridcolor": "white",
            "linecolor": "white",
            "ticks": ""
           }
          },
          "scene": {
           "xaxis": {
            "backgroundcolor": "#E5ECF6",
            "gridcolor": "white",
            "gridwidth": 2,
            "linecolor": "white",
            "showbackground": true,
            "ticks": "",
            "zerolinecolor": "white"
           },
           "yaxis": {
            "backgroundcolor": "#E5ECF6",
            "gridcolor": "white",
            "gridwidth": 2,
            "linecolor": "white",
            "showbackground": true,
            "ticks": "",
            "zerolinecolor": "white"
           },
           "zaxis": {
            "backgroundcolor": "#E5ECF6",
            "gridcolor": "white",
            "gridwidth": 2,
            "linecolor": "white",
            "showbackground": true,
            "ticks": "",
            "zerolinecolor": "white"
           }
          },
          "shapedefaults": {
           "line": {
            "color": "#2a3f5f"
           }
          },
          "ternary": {
           "aaxis": {
            "gridcolor": "white",
            "linecolor": "white",
            "ticks": ""
           },
           "baxis": {
            "gridcolor": "white",
            "linecolor": "white",
            "ticks": ""
           },
           "bgcolor": "#E5ECF6",
           "caxis": {
            "gridcolor": "white",
            "linecolor": "white",
            "ticks": ""
           }
          },
          "title": {
           "x": 0.05
          },
          "xaxis": {
           "automargin": true,
           "gridcolor": "white",
           "linecolor": "white",
           "ticks": "",
           "title": {
            "standoff": 15
           },
           "zerolinecolor": "white",
           "zerolinewidth": 2
          },
          "yaxis": {
           "automargin": true,
           "gridcolor": "white",
           "linecolor": "white",
           "ticks": "",
           "title": {
            "standoff": 15
           },
           "zerolinecolor": "white",
           "zerolinewidth": 2
          }
         }
        },
        "yaxis": {
         "title": {
          "text": "RMSE"
         }
        }
       }
      },
      "text/html": [
       "<div>                            <div id=\"b3e75a38-7a52-499c-aa67-227b2b336794\" class=\"plotly-graph-div\" style=\"height:525px; width:100%;\"></div>            <script type=\"text/javascript\">                require([\"plotly\"], function(Plotly) {                    window.PLOTLYENV=window.PLOTLYENV || {};                                    if (document.getElementById(\"b3e75a38-7a52-499c-aa67-227b2b336794\")) {                    Plotly.newPlot(                        \"b3e75a38-7a52-499c-aa67-227b2b336794\",                        [{\"name\": \"Training RMSE\", \"type\": \"bar\", \"x\": [\"c\", \"c,d\", \"c,d,h\", \"c,d,h,w\", \"c,d,h,w,a\", \"c,d,h,w,a,m\", \"c,d,h,w,a,m,o\", \"c,d,h,w,a,m,o,n\", \"Ridge(alpha=0.5)\"], \"y\": [4.888109236813688, 4.58757379901803, 4.525395490245242, 4.216877763288668, 4.213763450275894, 3.3799994809258984, 3.2488224012050075, 1.1387325899145662, 3.392024331152466]}, {\"name\": \"CV RMSE\", \"type\": \"bar\", \"x\": [\"c\", \"c,d\", \"c,d,h\", \"c,d,h,w\", \"c,d,h,w,a\", \"c,d,h,w,a,m\", \"c,d,h,w,a,m,o\", \"c,d,h,w,a,m,o,n\", \"Ridge(alpha=0.5)\"], \"y\": [4.876661068256957, 4.579060426624026, 4.556808311664747, 4.252718625749385, 4.256844728700814, 3.455765706558678, 3.3323381513276, 3.728907195958174, 3.25010581041028]}, {\"name\": \"Test RMSE\", \"opacity\": 0.3, \"type\": \"bar\", \"x\": [\"c\", \"c,d\", \"c,d,h\", \"c,d,h,w\", \"c,d,h,w,a\", \"c,d,h,w,a,m\", \"c,d,h,w,a,m,o\", \"c,d,h,w,a,m,o,n\", \"Ridge(alpha=0.5)\"], \"y\": [5.055013548375552, 4.7661569898523695, 4.583861769980873, 4.325847816131029, 4.34988869276913, 3.550828171640195, 3.3746613014711664, 3.5070461515876894, 3.4637255340236033]}],                        {\"template\": {\"data\": {\"bar\": [{\"error_x\": {\"color\": \"#2a3f5f\"}, \"error_y\": {\"color\": \"#2a3f5f\"}, \"marker\": {\"line\": {\"color\": \"#E5ECF6\", \"width\": 0.5}}, \"type\": \"bar\"}], \"barpolar\": [{\"marker\": {\"line\": {\"color\": \"#E5ECF6\", \"width\": 0.5}}, \"type\": \"barpolar\"}], \"carpet\": [{\"aaxis\": {\"endlinecolor\": \"#2a3f5f\", \"gridcolor\": \"white\", \"linecolor\": \"white\", \"minorgridcolor\": \"white\", \"startlinecolor\": \"#2a3f5f\"}, \"baxis\": {\"endlinecolor\": \"#2a3f5f\", \"gridcolor\": \"white\", \"linecolor\": \"white\", \"minorgridcolor\": \"white\", \"startlinecolor\": \"#2a3f5f\"}, \"type\": \"carpet\"}], \"choropleth\": [{\"colorbar\": {\"outlinewidth\": 0, \"ticks\": \"\"}, \"type\": \"choropleth\"}], \"contour\": [{\"colorbar\": {\"outlinewidth\": 0, \"ticks\": \"\"}, \"colorscale\": [[0.0, \"#0d0887\"], [0.1111111111111111, \"#46039f\"], [0.2222222222222222, \"#7201a8\"], [0.3333333333333333, \"#9c179e\"], [0.4444444444444444, \"#bd3786\"], [0.5555555555555556, \"#d8576b\"], [0.6666666666666666, \"#ed7953\"], [0.7777777777777778, \"#fb9f3a\"], [0.8888888888888888, \"#fdca26\"], [1.0, \"#f0f921\"]], \"type\": \"contour\"}], \"contourcarpet\": [{\"colorbar\": {\"outlinewidth\": 0, \"ticks\": \"\"}, \"type\": \"contourcarpet\"}], \"heatmap\": [{\"colorbar\": {\"outlinewidth\": 0, \"ticks\": \"\"}, \"colorscale\": [[0.0, \"#0d0887\"], [0.1111111111111111, \"#46039f\"], [0.2222222222222222, \"#7201a8\"], [0.3333333333333333, \"#9c179e\"], [0.4444444444444444, \"#bd3786\"], [0.5555555555555556, \"#d8576b\"], [0.6666666666666666, \"#ed7953\"], [0.7777777777777778, \"#fb9f3a\"], [0.8888888888888888, \"#fdca26\"], [1.0, \"#f0f921\"]], \"type\": \"heatmap\"}], \"heatmapgl\": [{\"colorbar\": {\"outlinewidth\": 0, \"ticks\": \"\"}, \"colorscale\": [[0.0, \"#0d0887\"], [0.1111111111111111, \"#46039f\"], [0.2222222222222222, \"#7201a8\"], [0.3333333333333333, \"#9c179e\"], [0.4444444444444444, \"#bd3786\"], [0.5555555555555556, \"#d8576b\"], [0.6666666666666666, \"#ed7953\"], [0.7777777777777778, \"#fb9f3a\"], [0.8888888888888888, \"#fdca26\"], [1.0, \"#f0f921\"]], \"type\": \"heatmapgl\"}], \"histogram\": [{\"marker\": {\"colorbar\": {\"outlinewidth\": 0, \"ticks\": \"\"}}, \"type\": \"histogram\"}], \"histogram2d\": [{\"colorbar\": {\"outlinewidth\": 0, \"ticks\": \"\"}, \"colorscale\": [[0.0, \"#0d0887\"], [0.1111111111111111, \"#46039f\"], [0.2222222222222222, \"#7201a8\"], [0.3333333333333333, \"#9c179e\"], [0.4444444444444444, \"#bd3786\"], [0.5555555555555556, \"#d8576b\"], [0.6666666666666666, \"#ed7953\"], [0.7777777777777778, \"#fb9f3a\"], [0.8888888888888888, \"#fdca26\"], [1.0, \"#f0f921\"]], \"type\": \"histogram2d\"}], \"histogram2dcontour\": [{\"colorbar\": {\"outlinewidth\": 0, \"ticks\": \"\"}, \"colorscale\": [[0.0, \"#0d0887\"], [0.1111111111111111, \"#46039f\"], [0.2222222222222222, \"#7201a8\"], [0.3333333333333333, \"#9c179e\"], [0.4444444444444444, \"#bd3786\"], [0.5555555555555556, \"#d8576b\"], [0.6666666666666666, \"#ed7953\"], [0.7777777777777778, \"#fb9f3a\"], [0.8888888888888888, \"#fdca26\"], [1.0, \"#f0f921\"]], \"type\": \"histogram2dcontour\"}], \"mesh3d\": [{\"colorbar\": {\"outlinewidth\": 0, \"ticks\": \"\"}, \"type\": \"mesh3d\"}], \"parcoords\": [{\"line\": {\"colorbar\": {\"outlinewidth\": 0, \"ticks\": \"\"}}, \"type\": \"parcoords\"}], \"pie\": [{\"automargin\": true, \"type\": \"pie\"}], \"scatter\": [{\"marker\": {\"colorbar\": {\"outlinewidth\": 0, \"ticks\": \"\"}}, \"type\": \"scatter\"}], \"scatter3d\": [{\"line\": {\"colorbar\": {\"outlinewidth\": 0, \"ticks\": \"\"}}, \"marker\": {\"colorbar\": {\"outlinewidth\": 0, \"ticks\": \"\"}}, \"type\": \"scatter3d\"}], \"scattercarpet\": [{\"marker\": {\"colorbar\": {\"outlinewidth\": 0, \"ticks\": \"\"}}, \"type\": \"scattercarpet\"}], \"scattergeo\": [{\"marker\": {\"colorbar\": {\"outlinewidth\": 0, \"ticks\": \"\"}}, \"type\": \"scattergeo\"}], \"scattergl\": [{\"marker\": {\"colorbar\": {\"outlinewidth\": 0, \"ticks\": \"\"}}, \"type\": \"scattergl\"}], \"scattermapbox\": [{\"marker\": {\"colorbar\": {\"outlinewidth\": 0, \"ticks\": \"\"}}, \"type\": \"scattermapbox\"}], \"scatterpolar\": [{\"marker\": {\"colorbar\": {\"outlinewidth\": 0, \"ticks\": \"\"}}, \"type\": \"scatterpolar\"}], \"scatterpolargl\": [{\"marker\": {\"colorbar\": {\"outlinewidth\": 0, \"ticks\": \"\"}}, \"type\": \"scatterpolargl\"}], \"scatterternary\": [{\"marker\": {\"colorbar\": {\"outlinewidth\": 0, \"ticks\": \"\"}}, \"type\": \"scatterternary\"}], \"surface\": [{\"colorbar\": {\"outlinewidth\": 0, \"ticks\": \"\"}, \"colorscale\": [[0.0, \"#0d0887\"], [0.1111111111111111, \"#46039f\"], [0.2222222222222222, \"#7201a8\"], [0.3333333333333333, \"#9c179e\"], [0.4444444444444444, \"#bd3786\"], [0.5555555555555556, \"#d8576b\"], [0.6666666666666666, \"#ed7953\"], [0.7777777777777778, \"#fb9f3a\"], [0.8888888888888888, \"#fdca26\"], [1.0, \"#f0f921\"]], \"type\": \"surface\"}], \"table\": [{\"cells\": {\"fill\": {\"color\": \"#EBF0F8\"}, \"line\": {\"color\": \"white\"}}, \"header\": {\"fill\": {\"color\": \"#C8D4E3\"}, \"line\": {\"color\": \"white\"}}, \"type\": \"table\"}]}, \"layout\": {\"annotationdefaults\": {\"arrowcolor\": \"#2a3f5f\", \"arrowhead\": 0, \"arrowwidth\": 1}, \"autotypenumbers\": \"strict\", \"coloraxis\": {\"colorbar\": {\"outlinewidth\": 0, \"ticks\": \"\"}}, \"colorscale\": {\"diverging\": [[0, \"#8e0152\"], [0.1, \"#c51b7d\"], [0.2, \"#de77ae\"], [0.3, \"#f1b6da\"], [0.4, \"#fde0ef\"], [0.5, \"#f7f7f7\"], [0.6, \"#e6f5d0\"], [0.7, \"#b8e186\"], [0.8, \"#7fbc41\"], [0.9, \"#4d9221\"], [1, \"#276419\"]], \"sequential\": [[0.0, \"#0d0887\"], [0.1111111111111111, \"#46039f\"], [0.2222222222222222, \"#7201a8\"], [0.3333333333333333, \"#9c179e\"], [0.4444444444444444, \"#bd3786\"], [0.5555555555555556, \"#d8576b\"], [0.6666666666666666, \"#ed7953\"], [0.7777777777777778, \"#fb9f3a\"], [0.8888888888888888, \"#fdca26\"], [1.0, \"#f0f921\"]], \"sequentialminus\": [[0.0, \"#0d0887\"], [0.1111111111111111, \"#46039f\"], [0.2222222222222222, \"#7201a8\"], [0.3333333333333333, \"#9c179e\"], [0.4444444444444444, \"#bd3786\"], [0.5555555555555556, \"#d8576b\"], [0.6666666666666666, \"#ed7953\"], [0.7777777777777778, \"#fb9f3a\"], [0.8888888888888888, \"#fdca26\"], [1.0, \"#f0f921\"]]}, \"colorway\": [\"#636efa\", \"#EF553B\", \"#00cc96\", \"#ab63fa\", \"#FFA15A\", \"#19d3f3\", \"#FF6692\", \"#B6E880\", \"#FF97FF\", \"#FECB52\"], \"font\": {\"color\": \"#2a3f5f\"}, \"geo\": {\"bgcolor\": \"white\", \"lakecolor\": \"white\", \"landcolor\": \"#E5ECF6\", \"showlakes\": true, \"showland\": true, \"subunitcolor\": \"white\"}, \"hoverlabel\": {\"align\": \"left\"}, \"hovermode\": \"closest\", \"mapbox\": {\"style\": \"light\"}, \"paper_bgcolor\": \"white\", \"plot_bgcolor\": \"#E5ECF6\", \"polar\": {\"angularaxis\": {\"gridcolor\": \"white\", \"linecolor\": \"white\", \"ticks\": \"\"}, \"bgcolor\": \"#E5ECF6\", \"radialaxis\": {\"gridcolor\": \"white\", \"linecolor\": \"white\", \"ticks\": \"\"}}, \"scene\": {\"xaxis\": {\"backgroundcolor\": \"#E5ECF6\", \"gridcolor\": \"white\", \"gridwidth\": 2, \"linecolor\": \"white\", \"showbackground\": true, \"ticks\": \"\", \"zerolinecolor\": \"white\"}, \"yaxis\": {\"backgroundcolor\": \"#E5ECF6\", \"gridcolor\": \"white\", \"gridwidth\": 2, \"linecolor\": \"white\", \"showbackground\": true, \"ticks\": \"\", \"zerolinecolor\": \"white\"}, \"zaxis\": {\"backgroundcolor\": \"#E5ECF6\", \"gridcolor\": \"white\", \"gridwidth\": 2, \"linecolor\": \"white\", \"showbackground\": true, \"ticks\": \"\", \"zerolinecolor\": \"white\"}}, \"shapedefaults\": {\"line\": {\"color\": \"#2a3f5f\"}}, \"ternary\": {\"aaxis\": {\"gridcolor\": \"white\", \"linecolor\": \"white\", \"ticks\": \"\"}, \"baxis\": {\"gridcolor\": \"white\", \"linecolor\": \"white\", \"ticks\": \"\"}, \"bgcolor\": \"#E5ECF6\", \"caxis\": {\"gridcolor\": \"white\", \"linecolor\": \"white\", \"ticks\": \"\"}}, \"title\": {\"x\": 0.05}, \"xaxis\": {\"automargin\": true, \"gridcolor\": \"white\", \"linecolor\": \"white\", \"ticks\": \"\", \"title\": {\"standoff\": 15}, \"zerolinecolor\": \"white\", \"zerolinewidth\": 2}, \"yaxis\": {\"automargin\": true, \"gridcolor\": \"white\", \"linecolor\": \"white\", \"ticks\": \"\", \"title\": {\"standoff\": 15}, \"zerolinecolor\": \"white\", \"zerolinewidth\": 2}}}, \"yaxis\": {\"title\": {\"text\": \"RMSE\"}}},                        {\"responsive\": true}                    ).then(function(){\n",
       "                            \n",
       "var gd = document.getElementById('b3e75a38-7a52-499c-aa67-227b2b336794');\n",
       "var x = new MutationObserver(function (mutations, observer) {{\n",
       "        var display = window.getComputedStyle(gd).display;\n",
       "        if (!display || display === 'none') {{\n",
       "            console.log([gd, 'removed!']);\n",
       "            Plotly.purge(gd);\n",
       "            observer.disconnect();\n",
       "        }}\n",
       "}});\n",
       "\n",
       "// Listen for the removal of the full notebook cells\n",
       "var notebookContainer = gd.closest('#notebook-container');\n",
       "if (notebookContainer) {{\n",
       "    x.observe(notebookContainer, {childList: true});\n",
       "}}\n",
       "\n",
       "// Listen for the clearing of the current output cell\n",
       "var outputEl = gd.closest('.output');\n",
       "if (outputEl) {{\n",
       "    x.observe(outputEl, {childList: true});\n",
       "}}\n",
       "\n",
       "                        })                };                });            </script>        </div>"
      ]
     },
     "metadata": {},
     "output_type": "display_data"
    }
   ],
   "source": [
    "ridge_model.fit(tr, tr['mpg'])\n",
    "models[\"Ridge(alpha=0.5)\"] = ridge_model\n",
    "compare_models(models)"
   ]
  },
  {
   "cell_type": "markdown",
   "metadata": {},
   "source": [
    "We should also standardize our features:"
   ]
  },
  {
   "cell_type": "code",
   "execution_count": 29,
   "metadata": {},
   "outputs": [],
   "source": [
    "from sklearn.preprocessing import StandardScaler"
   ]
  },
  {
   "cell_type": "code",
   "execution_count": 30,
   "metadata": {},
   "outputs": [],
   "source": [
    "ridge_model = Pipeline([\n",
    "    (\"SelectColumns\", ColumnTransformer([\n",
    "        (\"keep\", StandardScaler(), quantitative_features),\n",
    "        (\"origin_encoder\", OneHotEncoder(), [\"origin\"]),\n",
    "        (\"text\", CountVectorizer(), \"name\")\n",
    "    ])),\n",
    "    (\"Imputation\", SimpleImputer()),\n",
    "#     (\"Standarize\", StandardScaler(with_mean=False)),\n",
    "    (\"LinearModel\", Ridge(alpha=0.5))\n",
    "])"
   ]
  },
  {
   "cell_type": "code",
   "execution_count": 31,
   "metadata": {},
   "outputs": [
    {
     "data": {
      "application/vnd.plotly.v1+json": {
       "config": {
        "plotlyServerURL": "https://plot.ly"
       },
       "data": [
        {
         "name": "Training RMSE",
         "type": "bar",
         "x": [
          "c",
          "c,d",
          "c,d,h",
          "c,d,h,w",
          "c,d,h,w,a",
          "c,d,h,w,a,m",
          "c,d,h,w,a,m,o",
          "c,d,h,w,a,m,o,n",
          "Ridge(alpha=0.5)",
          "RidgeN(alpha=0.5)"
         ],
         "y": [
          4.888109236813688,
          4.58757379901803,
          4.525395490245242,
          4.216877763288668,
          4.213763450275894,
          3.3799994809258984,
          3.2488224012050075,
          1.1387325899145662,
          3.392024331152466,
          1.373123418031404
         ]
        },
        {
         "name": "CV RMSE",
         "type": "bar",
         "x": [
          "c",
          "c,d",
          "c,d,h",
          "c,d,h,w",
          "c,d,h,w,a",
          "c,d,h,w,a,m",
          "c,d,h,w,a,m,o",
          "c,d,h,w,a,m,o,n",
          "Ridge(alpha=0.5)",
          "RidgeN(alpha=0.5)"
         ],
         "y": [
          4.876661068256957,
          4.579060426624026,
          4.556808311664747,
          4.252718625749385,
          4.256844728700814,
          3.455765706558678,
          3.3323381513276,
          3.728907195958174,
          3.25010581041028,
          3.0213246705432417
         ]
        },
        {
         "name": "Test RMSE",
         "opacity": 0.3,
         "type": "bar",
         "x": [
          "c",
          "c,d",
          "c,d,h",
          "c,d,h,w",
          "c,d,h,w,a",
          "c,d,h,w,a,m",
          "c,d,h,w,a,m,o",
          "c,d,h,w,a,m,o,n",
          "Ridge(alpha=0.5)",
          "RidgeN(alpha=0.5)"
         ],
         "y": [
          5.055013548375552,
          4.7661569898523695,
          4.583861769980873,
          4.325847816131029,
          4.34988869276913,
          3.550828171640195,
          3.3746613014711664,
          3.5070461515876894,
          3.4637255340236033,
          3.539107473763192
         ]
        }
       ],
       "layout": {
        "template": {
         "data": {
          "bar": [
           {
            "error_x": {
             "color": "#2a3f5f"
            },
            "error_y": {
             "color": "#2a3f5f"
            },
            "marker": {
             "line": {
              "color": "#E5ECF6",
              "width": 0.5
             }
            },
            "type": "bar"
           }
          ],
          "barpolar": [
           {
            "marker": {
             "line": {
              "color": "#E5ECF6",
              "width": 0.5
             }
            },
            "type": "barpolar"
           }
          ],
          "carpet": [
           {
            "aaxis": {
             "endlinecolor": "#2a3f5f",
             "gridcolor": "white",
             "linecolor": "white",
             "minorgridcolor": "white",
             "startlinecolor": "#2a3f5f"
            },
            "baxis": {
             "endlinecolor": "#2a3f5f",
             "gridcolor": "white",
             "linecolor": "white",
             "minorgridcolor": "white",
             "startlinecolor": "#2a3f5f"
            },
            "type": "carpet"
           }
          ],
          "choropleth": [
           {
            "colorbar": {
             "outlinewidth": 0,
             "ticks": ""
            },
            "type": "choropleth"
           }
          ],
          "contour": [
           {
            "colorbar": {
             "outlinewidth": 0,
             "ticks": ""
            },
            "colorscale": [
             [
              0,
              "#0d0887"
             ],
             [
              0.1111111111111111,
              "#46039f"
             ],
             [
              0.2222222222222222,
              "#7201a8"
             ],
             [
              0.3333333333333333,
              "#9c179e"
             ],
             [
              0.4444444444444444,
              "#bd3786"
             ],
             [
              0.5555555555555556,
              "#d8576b"
             ],
             [
              0.6666666666666666,
              "#ed7953"
             ],
             [
              0.7777777777777778,
              "#fb9f3a"
             ],
             [
              0.8888888888888888,
              "#fdca26"
             ],
             [
              1,
              "#f0f921"
             ]
            ],
            "type": "contour"
           }
          ],
          "contourcarpet": [
           {
            "colorbar": {
             "outlinewidth": 0,
             "ticks": ""
            },
            "type": "contourcarpet"
           }
          ],
          "heatmap": [
           {
            "colorbar": {
             "outlinewidth": 0,
             "ticks": ""
            },
            "colorscale": [
             [
              0,
              "#0d0887"
             ],
             [
              0.1111111111111111,
              "#46039f"
             ],
             [
              0.2222222222222222,
              "#7201a8"
             ],
             [
              0.3333333333333333,
              "#9c179e"
             ],
             [
              0.4444444444444444,
              "#bd3786"
             ],
             [
              0.5555555555555556,
              "#d8576b"
             ],
             [
              0.6666666666666666,
              "#ed7953"
             ],
             [
              0.7777777777777778,
              "#fb9f3a"
             ],
             [
              0.8888888888888888,
              "#fdca26"
             ],
             [
              1,
              "#f0f921"
             ]
            ],
            "type": "heatmap"
           }
          ],
          "heatmapgl": [
           {
            "colorbar": {
             "outlinewidth": 0,
             "ticks": ""
            },
            "colorscale": [
             [
              0,
              "#0d0887"
             ],
             [
              0.1111111111111111,
              "#46039f"
             ],
             [
              0.2222222222222222,
              "#7201a8"
             ],
             [
              0.3333333333333333,
              "#9c179e"
             ],
             [
              0.4444444444444444,
              "#bd3786"
             ],
             [
              0.5555555555555556,
              "#d8576b"
             ],
             [
              0.6666666666666666,
              "#ed7953"
             ],
             [
              0.7777777777777778,
              "#fb9f3a"
             ],
             [
              0.8888888888888888,
              "#fdca26"
             ],
             [
              1,
              "#f0f921"
             ]
            ],
            "type": "heatmapgl"
           }
          ],
          "histogram": [
           {
            "marker": {
             "colorbar": {
              "outlinewidth": 0,
              "ticks": ""
             }
            },
            "type": "histogram"
           }
          ],
          "histogram2d": [
           {
            "colorbar": {
             "outlinewidth": 0,
             "ticks": ""
            },
            "colorscale": [
             [
              0,
              "#0d0887"
             ],
             [
              0.1111111111111111,
              "#46039f"
             ],
             [
              0.2222222222222222,
              "#7201a8"
             ],
             [
              0.3333333333333333,
              "#9c179e"
             ],
             [
              0.4444444444444444,
              "#bd3786"
             ],
             [
              0.5555555555555556,
              "#d8576b"
             ],
             [
              0.6666666666666666,
              "#ed7953"
             ],
             [
              0.7777777777777778,
              "#fb9f3a"
             ],
             [
              0.8888888888888888,
              "#fdca26"
             ],
             [
              1,
              "#f0f921"
             ]
            ],
            "type": "histogram2d"
           }
          ],
          "histogram2dcontour": [
           {
            "colorbar": {
             "outlinewidth": 0,
             "ticks": ""
            },
            "colorscale": [
             [
              0,
              "#0d0887"
             ],
             [
              0.1111111111111111,
              "#46039f"
             ],
             [
              0.2222222222222222,
              "#7201a8"
             ],
             [
              0.3333333333333333,
              "#9c179e"
             ],
             [
              0.4444444444444444,
              "#bd3786"
             ],
             [
              0.5555555555555556,
              "#d8576b"
             ],
             [
              0.6666666666666666,
              "#ed7953"
             ],
             [
              0.7777777777777778,
              "#fb9f3a"
             ],
             [
              0.8888888888888888,
              "#fdca26"
             ],
             [
              1,
              "#f0f921"
             ]
            ],
            "type": "histogram2dcontour"
           }
          ],
          "mesh3d": [
           {
            "colorbar": {
             "outlinewidth": 0,
             "ticks": ""
            },
            "type": "mesh3d"
           }
          ],
          "parcoords": [
           {
            "line": {
             "colorbar": {
              "outlinewidth": 0,
              "ticks": ""
             }
            },
            "type": "parcoords"
           }
          ],
          "pie": [
           {
            "automargin": true,
            "type": "pie"
           }
          ],
          "scatter": [
           {
            "marker": {
             "colorbar": {
              "outlinewidth": 0,
              "ticks": ""
             }
            },
            "type": "scatter"
           }
          ],
          "scatter3d": [
           {
            "line": {
             "colorbar": {
              "outlinewidth": 0,
              "ticks": ""
             }
            },
            "marker": {
             "colorbar": {
              "outlinewidth": 0,
              "ticks": ""
             }
            },
            "type": "scatter3d"
           }
          ],
          "scattercarpet": [
           {
            "marker": {
             "colorbar": {
              "outlinewidth": 0,
              "ticks": ""
             }
            },
            "type": "scattercarpet"
           }
          ],
          "scattergeo": [
           {
            "marker": {
             "colorbar": {
              "outlinewidth": 0,
              "ticks": ""
             }
            },
            "type": "scattergeo"
           }
          ],
          "scattergl": [
           {
            "marker": {
             "colorbar": {
              "outlinewidth": 0,
              "ticks": ""
             }
            },
            "type": "scattergl"
           }
          ],
          "scattermapbox": [
           {
            "marker": {
             "colorbar": {
              "outlinewidth": 0,
              "ticks": ""
             }
            },
            "type": "scattermapbox"
           }
          ],
          "scatterpolar": [
           {
            "marker": {
             "colorbar": {
              "outlinewidth": 0,
              "ticks": ""
             }
            },
            "type": "scatterpolar"
           }
          ],
          "scatterpolargl": [
           {
            "marker": {
             "colorbar": {
              "outlinewidth": 0,
              "ticks": ""
             }
            },
            "type": "scatterpolargl"
           }
          ],
          "scatterternary": [
           {
            "marker": {
             "colorbar": {
              "outlinewidth": 0,
              "ticks": ""
             }
            },
            "type": "scatterternary"
           }
          ],
          "surface": [
           {
            "colorbar": {
             "outlinewidth": 0,
             "ticks": ""
            },
            "colorscale": [
             [
              0,
              "#0d0887"
             ],
             [
              0.1111111111111111,
              "#46039f"
             ],
             [
              0.2222222222222222,
              "#7201a8"
             ],
             [
              0.3333333333333333,
              "#9c179e"
             ],
             [
              0.4444444444444444,
              "#bd3786"
             ],
             [
              0.5555555555555556,
              "#d8576b"
             ],
             [
              0.6666666666666666,
              "#ed7953"
             ],
             [
              0.7777777777777778,
              "#fb9f3a"
             ],
             [
              0.8888888888888888,
              "#fdca26"
             ],
             [
              1,
              "#f0f921"
             ]
            ],
            "type": "surface"
           }
          ],
          "table": [
           {
            "cells": {
             "fill": {
              "color": "#EBF0F8"
             },
             "line": {
              "color": "white"
             }
            },
            "header": {
             "fill": {
              "color": "#C8D4E3"
             },
             "line": {
              "color": "white"
             }
            },
            "type": "table"
           }
          ]
         },
         "layout": {
          "annotationdefaults": {
           "arrowcolor": "#2a3f5f",
           "arrowhead": 0,
           "arrowwidth": 1
          },
          "autotypenumbers": "strict",
          "coloraxis": {
           "colorbar": {
            "outlinewidth": 0,
            "ticks": ""
           }
          },
          "colorscale": {
           "diverging": [
            [
             0,
             "#8e0152"
            ],
            [
             0.1,
             "#c51b7d"
            ],
            [
             0.2,
             "#de77ae"
            ],
            [
             0.3,
             "#f1b6da"
            ],
            [
             0.4,
             "#fde0ef"
            ],
            [
             0.5,
             "#f7f7f7"
            ],
            [
             0.6,
             "#e6f5d0"
            ],
            [
             0.7,
             "#b8e186"
            ],
            [
             0.8,
             "#7fbc41"
            ],
            [
             0.9,
             "#4d9221"
            ],
            [
             1,
             "#276419"
            ]
           ],
           "sequential": [
            [
             0,
             "#0d0887"
            ],
            [
             0.1111111111111111,
             "#46039f"
            ],
            [
             0.2222222222222222,
             "#7201a8"
            ],
            [
             0.3333333333333333,
             "#9c179e"
            ],
            [
             0.4444444444444444,
             "#bd3786"
            ],
            [
             0.5555555555555556,
             "#d8576b"
            ],
            [
             0.6666666666666666,
             "#ed7953"
            ],
            [
             0.7777777777777778,
             "#fb9f3a"
            ],
            [
             0.8888888888888888,
             "#fdca26"
            ],
            [
             1,
             "#f0f921"
            ]
           ],
           "sequentialminus": [
            [
             0,
             "#0d0887"
            ],
            [
             0.1111111111111111,
             "#46039f"
            ],
            [
             0.2222222222222222,
             "#7201a8"
            ],
            [
             0.3333333333333333,
             "#9c179e"
            ],
            [
             0.4444444444444444,
             "#bd3786"
            ],
            [
             0.5555555555555556,
             "#d8576b"
            ],
            [
             0.6666666666666666,
             "#ed7953"
            ],
            [
             0.7777777777777778,
             "#fb9f3a"
            ],
            [
             0.8888888888888888,
             "#fdca26"
            ],
            [
             1,
             "#f0f921"
            ]
           ]
          },
          "colorway": [
           "#636efa",
           "#EF553B",
           "#00cc96",
           "#ab63fa",
           "#FFA15A",
           "#19d3f3",
           "#FF6692",
           "#B6E880",
           "#FF97FF",
           "#FECB52"
          ],
          "font": {
           "color": "#2a3f5f"
          },
          "geo": {
           "bgcolor": "white",
           "lakecolor": "white",
           "landcolor": "#E5ECF6",
           "showlakes": true,
           "showland": true,
           "subunitcolor": "white"
          },
          "hoverlabel": {
           "align": "left"
          },
          "hovermode": "closest",
          "mapbox": {
           "style": "light"
          },
          "paper_bgcolor": "white",
          "plot_bgcolor": "#E5ECF6",
          "polar": {
           "angularaxis": {
            "gridcolor": "white",
            "linecolor": "white",
            "ticks": ""
           },
           "bgcolor": "#E5ECF6",
           "radialaxis": {
            "gridcolor": "white",
            "linecolor": "white",
            "ticks": ""
           }
          },
          "scene": {
           "xaxis": {
            "backgroundcolor": "#E5ECF6",
            "gridcolor": "white",
            "gridwidth": 2,
            "linecolor": "white",
            "showbackground": true,
            "ticks": "",
            "zerolinecolor": "white"
           },
           "yaxis": {
            "backgroundcolor": "#E5ECF6",
            "gridcolor": "white",
            "gridwidth": 2,
            "linecolor": "white",
            "showbackground": true,
            "ticks": "",
            "zerolinecolor": "white"
           },
           "zaxis": {
            "backgroundcolor": "#E5ECF6",
            "gridcolor": "white",
            "gridwidth": 2,
            "linecolor": "white",
            "showbackground": true,
            "ticks": "",
            "zerolinecolor": "white"
           }
          },
          "shapedefaults": {
           "line": {
            "color": "#2a3f5f"
           }
          },
          "ternary": {
           "aaxis": {
            "gridcolor": "white",
            "linecolor": "white",
            "ticks": ""
           },
           "baxis": {
            "gridcolor": "white",
            "linecolor": "white",
            "ticks": ""
           },
           "bgcolor": "#E5ECF6",
           "caxis": {
            "gridcolor": "white",
            "linecolor": "white",
            "ticks": ""
           }
          },
          "title": {
           "x": 0.05
          },
          "xaxis": {
           "automargin": true,
           "gridcolor": "white",
           "linecolor": "white",
           "ticks": "",
           "title": {
            "standoff": 15
           },
           "zerolinecolor": "white",
           "zerolinewidth": 2
          },
          "yaxis": {
           "automargin": true,
           "gridcolor": "white",
           "linecolor": "white",
           "ticks": "",
           "title": {
            "standoff": 15
           },
           "zerolinecolor": "white",
           "zerolinewidth": 2
          }
         }
        },
        "yaxis": {
         "title": {
          "text": "RMSE"
         }
        }
       }
      },
      "text/html": [
       "<div>                            <div id=\"18186c71-c7fa-442a-884a-766cf7d89031\" class=\"plotly-graph-div\" style=\"height:525px; width:100%;\"></div>            <script type=\"text/javascript\">                require([\"plotly\"], function(Plotly) {                    window.PLOTLYENV=window.PLOTLYENV || {};                                    if (document.getElementById(\"18186c71-c7fa-442a-884a-766cf7d89031\")) {                    Plotly.newPlot(                        \"18186c71-c7fa-442a-884a-766cf7d89031\",                        [{\"name\": \"Training RMSE\", \"type\": \"bar\", \"x\": [\"c\", \"c,d\", \"c,d,h\", \"c,d,h,w\", \"c,d,h,w,a\", \"c,d,h,w,a,m\", \"c,d,h,w,a,m,o\", \"c,d,h,w,a,m,o,n\", \"Ridge(alpha=0.5)\", \"RidgeN(alpha=0.5)\"], \"y\": [4.888109236813688, 4.58757379901803, 4.525395490245242, 4.216877763288668, 4.213763450275894, 3.3799994809258984, 3.2488224012050075, 1.1387325899145662, 3.392024331152466, 1.373123418031404]}, {\"name\": \"CV RMSE\", \"type\": \"bar\", \"x\": [\"c\", \"c,d\", \"c,d,h\", \"c,d,h,w\", \"c,d,h,w,a\", \"c,d,h,w,a,m\", \"c,d,h,w,a,m,o\", \"c,d,h,w,a,m,o,n\", \"Ridge(alpha=0.5)\", \"RidgeN(alpha=0.5)\"], \"y\": [4.876661068256957, 4.579060426624026, 4.556808311664747, 4.252718625749385, 4.256844728700814, 3.455765706558678, 3.3323381513276, 3.728907195958174, 3.25010581041028, 3.0213246705432417]}, {\"name\": \"Test RMSE\", \"opacity\": 0.3, \"type\": \"bar\", \"x\": [\"c\", \"c,d\", \"c,d,h\", \"c,d,h,w\", \"c,d,h,w,a\", \"c,d,h,w,a,m\", \"c,d,h,w,a,m,o\", \"c,d,h,w,a,m,o,n\", \"Ridge(alpha=0.5)\", \"RidgeN(alpha=0.5)\"], \"y\": [5.055013548375552, 4.7661569898523695, 4.583861769980873, 4.325847816131029, 4.34988869276913, 3.550828171640195, 3.3746613014711664, 3.5070461515876894, 3.4637255340236033, 3.539107473763192]}],                        {\"template\": {\"data\": {\"bar\": [{\"error_x\": {\"color\": \"#2a3f5f\"}, \"error_y\": {\"color\": \"#2a3f5f\"}, \"marker\": {\"line\": {\"color\": \"#E5ECF6\", \"width\": 0.5}}, \"type\": \"bar\"}], \"barpolar\": [{\"marker\": {\"line\": {\"color\": \"#E5ECF6\", \"width\": 0.5}}, \"type\": \"barpolar\"}], \"carpet\": [{\"aaxis\": {\"endlinecolor\": \"#2a3f5f\", \"gridcolor\": \"white\", \"linecolor\": \"white\", \"minorgridcolor\": \"white\", \"startlinecolor\": \"#2a3f5f\"}, \"baxis\": {\"endlinecolor\": \"#2a3f5f\", \"gridcolor\": \"white\", \"linecolor\": \"white\", \"minorgridcolor\": \"white\", \"startlinecolor\": \"#2a3f5f\"}, \"type\": \"carpet\"}], \"choropleth\": [{\"colorbar\": {\"outlinewidth\": 0, \"ticks\": \"\"}, \"type\": \"choropleth\"}], \"contour\": [{\"colorbar\": {\"outlinewidth\": 0, \"ticks\": \"\"}, \"colorscale\": [[0.0, \"#0d0887\"], [0.1111111111111111, \"#46039f\"], [0.2222222222222222, \"#7201a8\"], [0.3333333333333333, \"#9c179e\"], [0.4444444444444444, \"#bd3786\"], [0.5555555555555556, \"#d8576b\"], [0.6666666666666666, \"#ed7953\"], [0.7777777777777778, \"#fb9f3a\"], [0.8888888888888888, \"#fdca26\"], [1.0, \"#f0f921\"]], \"type\": \"contour\"}], \"contourcarpet\": [{\"colorbar\": {\"outlinewidth\": 0, \"ticks\": \"\"}, \"type\": \"contourcarpet\"}], \"heatmap\": [{\"colorbar\": {\"outlinewidth\": 0, \"ticks\": \"\"}, \"colorscale\": [[0.0, \"#0d0887\"], [0.1111111111111111, \"#46039f\"], [0.2222222222222222, \"#7201a8\"], [0.3333333333333333, \"#9c179e\"], [0.4444444444444444, \"#bd3786\"], [0.5555555555555556, \"#d8576b\"], [0.6666666666666666, \"#ed7953\"], [0.7777777777777778, \"#fb9f3a\"], [0.8888888888888888, \"#fdca26\"], [1.0, \"#f0f921\"]], \"type\": \"heatmap\"}], \"heatmapgl\": [{\"colorbar\": {\"outlinewidth\": 0, \"ticks\": \"\"}, \"colorscale\": [[0.0, \"#0d0887\"], [0.1111111111111111, \"#46039f\"], [0.2222222222222222, \"#7201a8\"], [0.3333333333333333, \"#9c179e\"], [0.4444444444444444, \"#bd3786\"], [0.5555555555555556, \"#d8576b\"], [0.6666666666666666, \"#ed7953\"], [0.7777777777777778, \"#fb9f3a\"], [0.8888888888888888, \"#fdca26\"], [1.0, \"#f0f921\"]], \"type\": \"heatmapgl\"}], \"histogram\": [{\"marker\": {\"colorbar\": {\"outlinewidth\": 0, \"ticks\": \"\"}}, \"type\": \"histogram\"}], \"histogram2d\": [{\"colorbar\": {\"outlinewidth\": 0, \"ticks\": \"\"}, \"colorscale\": [[0.0, \"#0d0887\"], [0.1111111111111111, \"#46039f\"], [0.2222222222222222, \"#7201a8\"], [0.3333333333333333, \"#9c179e\"], [0.4444444444444444, \"#bd3786\"], [0.5555555555555556, \"#d8576b\"], [0.6666666666666666, \"#ed7953\"], [0.7777777777777778, \"#fb9f3a\"], [0.8888888888888888, \"#fdca26\"], [1.0, \"#f0f921\"]], \"type\": \"histogram2d\"}], \"histogram2dcontour\": [{\"colorbar\": {\"outlinewidth\": 0, \"ticks\": \"\"}, \"colorscale\": [[0.0, \"#0d0887\"], [0.1111111111111111, \"#46039f\"], [0.2222222222222222, \"#7201a8\"], [0.3333333333333333, \"#9c179e\"], [0.4444444444444444, \"#bd3786\"], [0.5555555555555556, \"#d8576b\"], [0.6666666666666666, \"#ed7953\"], [0.7777777777777778, \"#fb9f3a\"], [0.8888888888888888, \"#fdca26\"], [1.0, \"#f0f921\"]], \"type\": \"histogram2dcontour\"}], \"mesh3d\": [{\"colorbar\": {\"outlinewidth\": 0, \"ticks\": \"\"}, \"type\": \"mesh3d\"}], \"parcoords\": [{\"line\": {\"colorbar\": {\"outlinewidth\": 0, \"ticks\": \"\"}}, \"type\": \"parcoords\"}], \"pie\": [{\"automargin\": true, \"type\": \"pie\"}], \"scatter\": [{\"marker\": {\"colorbar\": {\"outlinewidth\": 0, \"ticks\": \"\"}}, \"type\": \"scatter\"}], \"scatter3d\": [{\"line\": {\"colorbar\": {\"outlinewidth\": 0, \"ticks\": \"\"}}, \"marker\": {\"colorbar\": {\"outlinewidth\": 0, \"ticks\": \"\"}}, \"type\": \"scatter3d\"}], \"scattercarpet\": [{\"marker\": {\"colorbar\": {\"outlinewidth\": 0, \"ticks\": \"\"}}, \"type\": \"scattercarpet\"}], \"scattergeo\": [{\"marker\": {\"colorbar\": {\"outlinewidth\": 0, \"ticks\": \"\"}}, \"type\": \"scattergeo\"}], \"scattergl\": [{\"marker\": {\"colorbar\": {\"outlinewidth\": 0, \"ticks\": \"\"}}, \"type\": \"scattergl\"}], \"scattermapbox\": [{\"marker\": {\"colorbar\": {\"outlinewidth\": 0, \"ticks\": \"\"}}, \"type\": \"scattermapbox\"}], \"scatterpolar\": [{\"marker\": {\"colorbar\": {\"outlinewidth\": 0, \"ticks\": \"\"}}, \"type\": \"scatterpolar\"}], \"scatterpolargl\": [{\"marker\": {\"colorbar\": {\"outlinewidth\": 0, \"ticks\": \"\"}}, \"type\": \"scatterpolargl\"}], \"scatterternary\": [{\"marker\": {\"colorbar\": {\"outlinewidth\": 0, \"ticks\": \"\"}}, \"type\": \"scatterternary\"}], \"surface\": [{\"colorbar\": {\"outlinewidth\": 0, \"ticks\": \"\"}, \"colorscale\": [[0.0, \"#0d0887\"], [0.1111111111111111, \"#46039f\"], [0.2222222222222222, \"#7201a8\"], [0.3333333333333333, \"#9c179e\"], [0.4444444444444444, \"#bd3786\"], [0.5555555555555556, \"#d8576b\"], [0.6666666666666666, \"#ed7953\"], [0.7777777777777778, \"#fb9f3a\"], [0.8888888888888888, \"#fdca26\"], [1.0, \"#f0f921\"]], \"type\": \"surface\"}], \"table\": [{\"cells\": {\"fill\": {\"color\": \"#EBF0F8\"}, \"line\": {\"color\": \"white\"}}, \"header\": {\"fill\": {\"color\": \"#C8D4E3\"}, \"line\": {\"color\": \"white\"}}, \"type\": \"table\"}]}, \"layout\": {\"annotationdefaults\": {\"arrowcolor\": \"#2a3f5f\", \"arrowhead\": 0, \"arrowwidth\": 1}, \"autotypenumbers\": \"strict\", \"coloraxis\": {\"colorbar\": {\"outlinewidth\": 0, \"ticks\": \"\"}}, \"colorscale\": {\"diverging\": [[0, \"#8e0152\"], [0.1, \"#c51b7d\"], [0.2, \"#de77ae\"], [0.3, \"#f1b6da\"], [0.4, \"#fde0ef\"], [0.5, \"#f7f7f7\"], [0.6, \"#e6f5d0\"], [0.7, \"#b8e186\"], [0.8, \"#7fbc41\"], [0.9, \"#4d9221\"], [1, \"#276419\"]], \"sequential\": [[0.0, \"#0d0887\"], [0.1111111111111111, \"#46039f\"], [0.2222222222222222, \"#7201a8\"], [0.3333333333333333, \"#9c179e\"], [0.4444444444444444, \"#bd3786\"], [0.5555555555555556, \"#d8576b\"], [0.6666666666666666, \"#ed7953\"], [0.7777777777777778, \"#fb9f3a\"], [0.8888888888888888, \"#fdca26\"], [1.0, \"#f0f921\"]], \"sequentialminus\": [[0.0, \"#0d0887\"], [0.1111111111111111, \"#46039f\"], [0.2222222222222222, \"#7201a8\"], [0.3333333333333333, \"#9c179e\"], [0.4444444444444444, \"#bd3786\"], [0.5555555555555556, \"#d8576b\"], [0.6666666666666666, \"#ed7953\"], [0.7777777777777778, \"#fb9f3a\"], [0.8888888888888888, \"#fdca26\"], [1.0, \"#f0f921\"]]}, \"colorway\": [\"#636efa\", \"#EF553B\", \"#00cc96\", \"#ab63fa\", \"#FFA15A\", \"#19d3f3\", \"#FF6692\", \"#B6E880\", \"#FF97FF\", \"#FECB52\"], \"font\": {\"color\": \"#2a3f5f\"}, \"geo\": {\"bgcolor\": \"white\", \"lakecolor\": \"white\", \"landcolor\": \"#E5ECF6\", \"showlakes\": true, \"showland\": true, \"subunitcolor\": \"white\"}, \"hoverlabel\": {\"align\": \"left\"}, \"hovermode\": \"closest\", \"mapbox\": {\"style\": \"light\"}, \"paper_bgcolor\": \"white\", \"plot_bgcolor\": \"#E5ECF6\", \"polar\": {\"angularaxis\": {\"gridcolor\": \"white\", \"linecolor\": \"white\", \"ticks\": \"\"}, \"bgcolor\": \"#E5ECF6\", \"radialaxis\": {\"gridcolor\": \"white\", \"linecolor\": \"white\", \"ticks\": \"\"}}, \"scene\": {\"xaxis\": {\"backgroundcolor\": \"#E5ECF6\", \"gridcolor\": \"white\", \"gridwidth\": 2, \"linecolor\": \"white\", \"showbackground\": true, \"ticks\": \"\", \"zerolinecolor\": \"white\"}, \"yaxis\": {\"backgroundcolor\": \"#E5ECF6\", \"gridcolor\": \"white\", \"gridwidth\": 2, \"linecolor\": \"white\", \"showbackground\": true, \"ticks\": \"\", \"zerolinecolor\": \"white\"}, \"zaxis\": {\"backgroundcolor\": \"#E5ECF6\", \"gridcolor\": \"white\", \"gridwidth\": 2, \"linecolor\": \"white\", \"showbackground\": true, \"ticks\": \"\", \"zerolinecolor\": \"white\"}}, \"shapedefaults\": {\"line\": {\"color\": \"#2a3f5f\"}}, \"ternary\": {\"aaxis\": {\"gridcolor\": \"white\", \"linecolor\": \"white\", \"ticks\": \"\"}, \"baxis\": {\"gridcolor\": \"white\", \"linecolor\": \"white\", \"ticks\": \"\"}, \"bgcolor\": \"#E5ECF6\", \"caxis\": {\"gridcolor\": \"white\", \"linecolor\": \"white\", \"ticks\": \"\"}}, \"title\": {\"x\": 0.05}, \"xaxis\": {\"automargin\": true, \"gridcolor\": \"white\", \"linecolor\": \"white\", \"ticks\": \"\", \"title\": {\"standoff\": 15}, \"zerolinecolor\": \"white\", \"zerolinewidth\": 2}, \"yaxis\": {\"automargin\": true, \"gridcolor\": \"white\", \"linecolor\": \"white\", \"ticks\": \"\", \"title\": {\"standoff\": 15}, \"zerolinecolor\": \"white\", \"zerolinewidth\": 2}}}, \"yaxis\": {\"title\": {\"text\": \"RMSE\"}}},                        {\"responsive\": true}                    ).then(function(){\n",
       "                            \n",
       "var gd = document.getElementById('18186c71-c7fa-442a-884a-766cf7d89031');\n",
       "var x = new MutationObserver(function (mutations, observer) {{\n",
       "        var display = window.getComputedStyle(gd).display;\n",
       "        if (!display || display === 'none') {{\n",
       "            console.log([gd, 'removed!']);\n",
       "            Plotly.purge(gd);\n",
       "            observer.disconnect();\n",
       "        }}\n",
       "}});\n",
       "\n",
       "// Listen for the removal of the full notebook cells\n",
       "var notebookContainer = gd.closest('#notebook-container');\n",
       "if (notebookContainer) {{\n",
       "    x.observe(notebookContainer, {childList: true});\n",
       "}}\n",
       "\n",
       "// Listen for the clearing of the current output cell\n",
       "var outputEl = gd.closest('.output');\n",
       "if (outputEl) {{\n",
       "    x.observe(outputEl, {childList: true});\n",
       "}}\n",
       "\n",
       "                        })                };                });            </script>        </div>"
      ]
     },
     "metadata": {},
     "output_type": "display_data"
    }
   ],
   "source": [
    "ridge_model.fit(tr, tr['mpg'])\n",
    "models[\"RidgeN(alpha=0.5)\"] = ridge_model\n",
    "compare_models(models)"
   ]
  },
  {
   "cell_type": "markdown",
   "metadata": {},
   "source": [
    "Notice that as we introduce regularization we are reducing the cross validation error and also increasing the training error."
   ]
  },
  {
   "cell_type": "markdown",
   "metadata": {},
   "source": [
    "What about different $\\alpha$ hyper-parameter values?"
   ]
  },
  {
   "cell_type": "code",
   "execution_count": 32,
   "metadata": {},
   "outputs": [],
   "source": [
    "ridge_model = Pipeline([\n",
    "    (\"SelectColumns\", ColumnTransformer([\n",
    "        (\"keep\", StandardScaler(), quantitative_features),\n",
    "        (\"origin_encoder\", OneHotEncoder(), [\"origin\"]),\n",
    "        (\"text\", CountVectorizer(), \"name\")\n",
    "    ])),\n",
    "    (\"Imputation\", SimpleImputer()),\n",
    "    (\"LinearModel\", Ridge(alpha=10))\n",
    "])"
   ]
  },
  {
   "cell_type": "code",
   "execution_count": 33,
   "metadata": {},
   "outputs": [
    {
     "data": {
      "application/vnd.plotly.v1+json": {
       "config": {
        "plotlyServerURL": "https://plot.ly"
       },
       "data": [
        {
         "name": "Training RMSE",
         "type": "bar",
         "x": [
          "c",
          "c,d",
          "c,d,h",
          "c,d,h,w",
          "c,d,h,w,a",
          "c,d,h,w,a,m",
          "c,d,h,w,a,m,o",
          "c,d,h,w,a,m,o,n",
          "Ridge(alpha=0.5)",
          "RidgeN(alpha=0.5)",
          "RidgeN(alpha=10)"
         ],
         "y": [
          4.888109236813688,
          4.58757379901803,
          4.525395490245242,
          4.216877763288668,
          4.213763450275894,
          3.3799994809258984,
          3.2488224012050075,
          1.1387325899145662,
          3.392024331152466,
          1.373123418031404,
          2.564035666808896
         ]
        },
        {
         "name": "CV RMSE",
         "type": "bar",
         "x": [
          "c",
          "c,d",
          "c,d,h",
          "c,d,h,w",
          "c,d,h,w,a",
          "c,d,h,w,a,m",
          "c,d,h,w,a,m,o",
          "c,d,h,w,a,m,o,n",
          "Ridge(alpha=0.5)",
          "RidgeN(alpha=0.5)",
          "RidgeN(alpha=10)"
         ],
         "y": [
          4.876661068256957,
          4.579060426624026,
          4.556808311664747,
          4.252718625749385,
          4.256844728700814,
          3.455765706558678,
          3.3323381513276,
          3.728907195958174,
          3.25010581041028,
          3.0213246705432417,
          3.123282652790834
         ]
        },
        {
         "name": "Test RMSE",
         "opacity": 0.3,
         "type": "bar",
         "x": [
          "c",
          "c,d",
          "c,d,h",
          "c,d,h,w",
          "c,d,h,w,a",
          "c,d,h,w,a,m",
          "c,d,h,w,a,m,o",
          "c,d,h,w,a,m,o,n",
          "Ridge(alpha=0.5)",
          "RidgeN(alpha=0.5)",
          "RidgeN(alpha=10)"
         ],
         "y": [
          5.055013548375552,
          4.7661569898523695,
          4.583861769980873,
          4.325847816131029,
          4.34988869276913,
          3.550828171640195,
          3.3746613014711664,
          3.5070461515876894,
          3.4637255340236033,
          3.539107473763192,
          3.372074009903793
         ]
        }
       ],
       "layout": {
        "template": {
         "data": {
          "bar": [
           {
            "error_x": {
             "color": "#2a3f5f"
            },
            "error_y": {
             "color": "#2a3f5f"
            },
            "marker": {
             "line": {
              "color": "#E5ECF6",
              "width": 0.5
             }
            },
            "type": "bar"
           }
          ],
          "barpolar": [
           {
            "marker": {
             "line": {
              "color": "#E5ECF6",
              "width": 0.5
             }
            },
            "type": "barpolar"
           }
          ],
          "carpet": [
           {
            "aaxis": {
             "endlinecolor": "#2a3f5f",
             "gridcolor": "white",
             "linecolor": "white",
             "minorgridcolor": "white",
             "startlinecolor": "#2a3f5f"
            },
            "baxis": {
             "endlinecolor": "#2a3f5f",
             "gridcolor": "white",
             "linecolor": "white",
             "minorgridcolor": "white",
             "startlinecolor": "#2a3f5f"
            },
            "type": "carpet"
           }
          ],
          "choropleth": [
           {
            "colorbar": {
             "outlinewidth": 0,
             "ticks": ""
            },
            "type": "choropleth"
           }
          ],
          "contour": [
           {
            "colorbar": {
             "outlinewidth": 0,
             "ticks": ""
            },
            "colorscale": [
             [
              0,
              "#0d0887"
             ],
             [
              0.1111111111111111,
              "#46039f"
             ],
             [
              0.2222222222222222,
              "#7201a8"
             ],
             [
              0.3333333333333333,
              "#9c179e"
             ],
             [
              0.4444444444444444,
              "#bd3786"
             ],
             [
              0.5555555555555556,
              "#d8576b"
             ],
             [
              0.6666666666666666,
              "#ed7953"
             ],
             [
              0.7777777777777778,
              "#fb9f3a"
             ],
             [
              0.8888888888888888,
              "#fdca26"
             ],
             [
              1,
              "#f0f921"
             ]
            ],
            "type": "contour"
           }
          ],
          "contourcarpet": [
           {
            "colorbar": {
             "outlinewidth": 0,
             "ticks": ""
            },
            "type": "contourcarpet"
           }
          ],
          "heatmap": [
           {
            "colorbar": {
             "outlinewidth": 0,
             "ticks": ""
            },
            "colorscale": [
             [
              0,
              "#0d0887"
             ],
             [
              0.1111111111111111,
              "#46039f"
             ],
             [
              0.2222222222222222,
              "#7201a8"
             ],
             [
              0.3333333333333333,
              "#9c179e"
             ],
             [
              0.4444444444444444,
              "#bd3786"
             ],
             [
              0.5555555555555556,
              "#d8576b"
             ],
             [
              0.6666666666666666,
              "#ed7953"
             ],
             [
              0.7777777777777778,
              "#fb9f3a"
             ],
             [
              0.8888888888888888,
              "#fdca26"
             ],
             [
              1,
              "#f0f921"
             ]
            ],
            "type": "heatmap"
           }
          ],
          "heatmapgl": [
           {
            "colorbar": {
             "outlinewidth": 0,
             "ticks": ""
            },
            "colorscale": [
             [
              0,
              "#0d0887"
             ],
             [
              0.1111111111111111,
              "#46039f"
             ],
             [
              0.2222222222222222,
              "#7201a8"
             ],
             [
              0.3333333333333333,
              "#9c179e"
             ],
             [
              0.4444444444444444,
              "#bd3786"
             ],
             [
              0.5555555555555556,
              "#d8576b"
             ],
             [
              0.6666666666666666,
              "#ed7953"
             ],
             [
              0.7777777777777778,
              "#fb9f3a"
             ],
             [
              0.8888888888888888,
              "#fdca26"
             ],
             [
              1,
              "#f0f921"
             ]
            ],
            "type": "heatmapgl"
           }
          ],
          "histogram": [
           {
            "marker": {
             "colorbar": {
              "outlinewidth": 0,
              "ticks": ""
             }
            },
            "type": "histogram"
           }
          ],
          "histogram2d": [
           {
            "colorbar": {
             "outlinewidth": 0,
             "ticks": ""
            },
            "colorscale": [
             [
              0,
              "#0d0887"
             ],
             [
              0.1111111111111111,
              "#46039f"
             ],
             [
              0.2222222222222222,
              "#7201a8"
             ],
             [
              0.3333333333333333,
              "#9c179e"
             ],
             [
              0.4444444444444444,
              "#bd3786"
             ],
             [
              0.5555555555555556,
              "#d8576b"
             ],
             [
              0.6666666666666666,
              "#ed7953"
             ],
             [
              0.7777777777777778,
              "#fb9f3a"
             ],
             [
              0.8888888888888888,
              "#fdca26"
             ],
             [
              1,
              "#f0f921"
             ]
            ],
            "type": "histogram2d"
           }
          ],
          "histogram2dcontour": [
           {
            "colorbar": {
             "outlinewidth": 0,
             "ticks": ""
            },
            "colorscale": [
             [
              0,
              "#0d0887"
             ],
             [
              0.1111111111111111,
              "#46039f"
             ],
             [
              0.2222222222222222,
              "#7201a8"
             ],
             [
              0.3333333333333333,
              "#9c179e"
             ],
             [
              0.4444444444444444,
              "#bd3786"
             ],
             [
              0.5555555555555556,
              "#d8576b"
             ],
             [
              0.6666666666666666,
              "#ed7953"
             ],
             [
              0.7777777777777778,
              "#fb9f3a"
             ],
             [
              0.8888888888888888,
              "#fdca26"
             ],
             [
              1,
              "#f0f921"
             ]
            ],
            "type": "histogram2dcontour"
           }
          ],
          "mesh3d": [
           {
            "colorbar": {
             "outlinewidth": 0,
             "ticks": ""
            },
            "type": "mesh3d"
           }
          ],
          "parcoords": [
           {
            "line": {
             "colorbar": {
              "outlinewidth": 0,
              "ticks": ""
             }
            },
            "type": "parcoords"
           }
          ],
          "pie": [
           {
            "automargin": true,
            "type": "pie"
           }
          ],
          "scatter": [
           {
            "marker": {
             "colorbar": {
              "outlinewidth": 0,
              "ticks": ""
             }
            },
            "type": "scatter"
           }
          ],
          "scatter3d": [
           {
            "line": {
             "colorbar": {
              "outlinewidth": 0,
              "ticks": ""
             }
            },
            "marker": {
             "colorbar": {
              "outlinewidth": 0,
              "ticks": ""
             }
            },
            "type": "scatter3d"
           }
          ],
          "scattercarpet": [
           {
            "marker": {
             "colorbar": {
              "outlinewidth": 0,
              "ticks": ""
             }
            },
            "type": "scattercarpet"
           }
          ],
          "scattergeo": [
           {
            "marker": {
             "colorbar": {
              "outlinewidth": 0,
              "ticks": ""
             }
            },
            "type": "scattergeo"
           }
          ],
          "scattergl": [
           {
            "marker": {
             "colorbar": {
              "outlinewidth": 0,
              "ticks": ""
             }
            },
            "type": "scattergl"
           }
          ],
          "scattermapbox": [
           {
            "marker": {
             "colorbar": {
              "outlinewidth": 0,
              "ticks": ""
             }
            },
            "type": "scattermapbox"
           }
          ],
          "scatterpolar": [
           {
            "marker": {
             "colorbar": {
              "outlinewidth": 0,
              "ticks": ""
             }
            },
            "type": "scatterpolar"
           }
          ],
          "scatterpolargl": [
           {
            "marker": {
             "colorbar": {
              "outlinewidth": 0,
              "ticks": ""
             }
            },
            "type": "scatterpolargl"
           }
          ],
          "scatterternary": [
           {
            "marker": {
             "colorbar": {
              "outlinewidth": 0,
              "ticks": ""
             }
            },
            "type": "scatterternary"
           }
          ],
          "surface": [
           {
            "colorbar": {
             "outlinewidth": 0,
             "ticks": ""
            },
            "colorscale": [
             [
              0,
              "#0d0887"
             ],
             [
              0.1111111111111111,
              "#46039f"
             ],
             [
              0.2222222222222222,
              "#7201a8"
             ],
             [
              0.3333333333333333,
              "#9c179e"
             ],
             [
              0.4444444444444444,
              "#bd3786"
             ],
             [
              0.5555555555555556,
              "#d8576b"
             ],
             [
              0.6666666666666666,
              "#ed7953"
             ],
             [
              0.7777777777777778,
              "#fb9f3a"
             ],
             [
              0.8888888888888888,
              "#fdca26"
             ],
             [
              1,
              "#f0f921"
             ]
            ],
            "type": "surface"
           }
          ],
          "table": [
           {
            "cells": {
             "fill": {
              "color": "#EBF0F8"
             },
             "line": {
              "color": "white"
             }
            },
            "header": {
             "fill": {
              "color": "#C8D4E3"
             },
             "line": {
              "color": "white"
             }
            },
            "type": "table"
           }
          ]
         },
         "layout": {
          "annotationdefaults": {
           "arrowcolor": "#2a3f5f",
           "arrowhead": 0,
           "arrowwidth": 1
          },
          "autotypenumbers": "strict",
          "coloraxis": {
           "colorbar": {
            "outlinewidth": 0,
            "ticks": ""
           }
          },
          "colorscale": {
           "diverging": [
            [
             0,
             "#8e0152"
            ],
            [
             0.1,
             "#c51b7d"
            ],
            [
             0.2,
             "#de77ae"
            ],
            [
             0.3,
             "#f1b6da"
            ],
            [
             0.4,
             "#fde0ef"
            ],
            [
             0.5,
             "#f7f7f7"
            ],
            [
             0.6,
             "#e6f5d0"
            ],
            [
             0.7,
             "#b8e186"
            ],
            [
             0.8,
             "#7fbc41"
            ],
            [
             0.9,
             "#4d9221"
            ],
            [
             1,
             "#276419"
            ]
           ],
           "sequential": [
            [
             0,
             "#0d0887"
            ],
            [
             0.1111111111111111,
             "#46039f"
            ],
            [
             0.2222222222222222,
             "#7201a8"
            ],
            [
             0.3333333333333333,
             "#9c179e"
            ],
            [
             0.4444444444444444,
             "#bd3786"
            ],
            [
             0.5555555555555556,
             "#d8576b"
            ],
            [
             0.6666666666666666,
             "#ed7953"
            ],
            [
             0.7777777777777778,
             "#fb9f3a"
            ],
            [
             0.8888888888888888,
             "#fdca26"
            ],
            [
             1,
             "#f0f921"
            ]
           ],
           "sequentialminus": [
            [
             0,
             "#0d0887"
            ],
            [
             0.1111111111111111,
             "#46039f"
            ],
            [
             0.2222222222222222,
             "#7201a8"
            ],
            [
             0.3333333333333333,
             "#9c179e"
            ],
            [
             0.4444444444444444,
             "#bd3786"
            ],
            [
             0.5555555555555556,
             "#d8576b"
            ],
            [
             0.6666666666666666,
             "#ed7953"
            ],
            [
             0.7777777777777778,
             "#fb9f3a"
            ],
            [
             0.8888888888888888,
             "#fdca26"
            ],
            [
             1,
             "#f0f921"
            ]
           ]
          },
          "colorway": [
           "#636efa",
           "#EF553B",
           "#00cc96",
           "#ab63fa",
           "#FFA15A",
           "#19d3f3",
           "#FF6692",
           "#B6E880",
           "#FF97FF",
           "#FECB52"
          ],
          "font": {
           "color": "#2a3f5f"
          },
          "geo": {
           "bgcolor": "white",
           "lakecolor": "white",
           "landcolor": "#E5ECF6",
           "showlakes": true,
           "showland": true,
           "subunitcolor": "white"
          },
          "hoverlabel": {
           "align": "left"
          },
          "hovermode": "closest",
          "mapbox": {
           "style": "light"
          },
          "paper_bgcolor": "white",
          "plot_bgcolor": "#E5ECF6",
          "polar": {
           "angularaxis": {
            "gridcolor": "white",
            "linecolor": "white",
            "ticks": ""
           },
           "bgcolor": "#E5ECF6",
           "radialaxis": {
            "gridcolor": "white",
            "linecolor": "white",
            "ticks": ""
           }
          },
          "scene": {
           "xaxis": {
            "backgroundcolor": "#E5ECF6",
            "gridcolor": "white",
            "gridwidth": 2,
            "linecolor": "white",
            "showbackground": true,
            "ticks": "",
            "zerolinecolor": "white"
           },
           "yaxis": {
            "backgroundcolor": "#E5ECF6",
            "gridcolor": "white",
            "gridwidth": 2,
            "linecolor": "white",
            "showbackground": true,
            "ticks": "",
            "zerolinecolor": "white"
           },
           "zaxis": {
            "backgroundcolor": "#E5ECF6",
            "gridcolor": "white",
            "gridwidth": 2,
            "linecolor": "white",
            "showbackground": true,
            "ticks": "",
            "zerolinecolor": "white"
           }
          },
          "shapedefaults": {
           "line": {
            "color": "#2a3f5f"
           }
          },
          "ternary": {
           "aaxis": {
            "gridcolor": "white",
            "linecolor": "white",
            "ticks": ""
           },
           "baxis": {
            "gridcolor": "white",
            "linecolor": "white",
            "ticks": ""
           },
           "bgcolor": "#E5ECF6",
           "caxis": {
            "gridcolor": "white",
            "linecolor": "white",
            "ticks": ""
           }
          },
          "title": {
           "x": 0.05
          },
          "xaxis": {
           "automargin": true,
           "gridcolor": "white",
           "linecolor": "white",
           "ticks": "",
           "title": {
            "standoff": 15
           },
           "zerolinecolor": "white",
           "zerolinewidth": 2
          },
          "yaxis": {
           "automargin": true,
           "gridcolor": "white",
           "linecolor": "white",
           "ticks": "",
           "title": {
            "standoff": 15
           },
           "zerolinecolor": "white",
           "zerolinewidth": 2
          }
         }
        },
        "yaxis": {
         "title": {
          "text": "RMSE"
         }
        }
       }
      },
      "text/html": [
       "<div>                            <div id=\"8729ab23-3201-4251-b162-f64c48efc6bc\" class=\"plotly-graph-div\" style=\"height:525px; width:100%;\"></div>            <script type=\"text/javascript\">                require([\"plotly\"], function(Plotly) {                    window.PLOTLYENV=window.PLOTLYENV || {};                                    if (document.getElementById(\"8729ab23-3201-4251-b162-f64c48efc6bc\")) {                    Plotly.newPlot(                        \"8729ab23-3201-4251-b162-f64c48efc6bc\",                        [{\"name\": \"Training RMSE\", \"type\": \"bar\", \"x\": [\"c\", \"c,d\", \"c,d,h\", \"c,d,h,w\", \"c,d,h,w,a\", \"c,d,h,w,a,m\", \"c,d,h,w,a,m,o\", \"c,d,h,w,a,m,o,n\", \"Ridge(alpha=0.5)\", \"RidgeN(alpha=0.5)\", \"RidgeN(alpha=10)\"], \"y\": [4.888109236813688, 4.58757379901803, 4.525395490245242, 4.216877763288668, 4.213763450275894, 3.3799994809258984, 3.2488224012050075, 1.1387325899145662, 3.392024331152466, 1.373123418031404, 2.564035666808896]}, {\"name\": \"CV RMSE\", \"type\": \"bar\", \"x\": [\"c\", \"c,d\", \"c,d,h\", \"c,d,h,w\", \"c,d,h,w,a\", \"c,d,h,w,a,m\", \"c,d,h,w,a,m,o\", \"c,d,h,w,a,m,o,n\", \"Ridge(alpha=0.5)\", \"RidgeN(alpha=0.5)\", \"RidgeN(alpha=10)\"], \"y\": [4.876661068256957, 4.579060426624026, 4.556808311664747, 4.252718625749385, 4.256844728700814, 3.455765706558678, 3.3323381513276, 3.728907195958174, 3.25010581041028, 3.0213246705432417, 3.123282652790834]}, {\"name\": \"Test RMSE\", \"opacity\": 0.3, \"type\": \"bar\", \"x\": [\"c\", \"c,d\", \"c,d,h\", \"c,d,h,w\", \"c,d,h,w,a\", \"c,d,h,w,a,m\", \"c,d,h,w,a,m,o\", \"c,d,h,w,a,m,o,n\", \"Ridge(alpha=0.5)\", \"RidgeN(alpha=0.5)\", \"RidgeN(alpha=10)\"], \"y\": [5.055013548375552, 4.7661569898523695, 4.583861769980873, 4.325847816131029, 4.34988869276913, 3.550828171640195, 3.3746613014711664, 3.5070461515876894, 3.4637255340236033, 3.539107473763192, 3.372074009903793]}],                        {\"template\": {\"data\": {\"bar\": [{\"error_x\": {\"color\": \"#2a3f5f\"}, \"error_y\": {\"color\": \"#2a3f5f\"}, \"marker\": {\"line\": {\"color\": \"#E5ECF6\", \"width\": 0.5}}, \"type\": \"bar\"}], \"barpolar\": [{\"marker\": {\"line\": {\"color\": \"#E5ECF6\", \"width\": 0.5}}, \"type\": \"barpolar\"}], \"carpet\": [{\"aaxis\": {\"endlinecolor\": \"#2a3f5f\", \"gridcolor\": \"white\", \"linecolor\": \"white\", \"minorgridcolor\": \"white\", \"startlinecolor\": \"#2a3f5f\"}, \"baxis\": {\"endlinecolor\": \"#2a3f5f\", \"gridcolor\": \"white\", \"linecolor\": \"white\", \"minorgridcolor\": \"white\", \"startlinecolor\": \"#2a3f5f\"}, \"type\": \"carpet\"}], \"choropleth\": [{\"colorbar\": {\"outlinewidth\": 0, \"ticks\": \"\"}, \"type\": \"choropleth\"}], \"contour\": [{\"colorbar\": {\"outlinewidth\": 0, \"ticks\": \"\"}, \"colorscale\": [[0.0, \"#0d0887\"], [0.1111111111111111, \"#46039f\"], [0.2222222222222222, \"#7201a8\"], [0.3333333333333333, \"#9c179e\"], [0.4444444444444444, \"#bd3786\"], [0.5555555555555556, \"#d8576b\"], [0.6666666666666666, \"#ed7953\"], [0.7777777777777778, \"#fb9f3a\"], [0.8888888888888888, \"#fdca26\"], [1.0, \"#f0f921\"]], \"type\": \"contour\"}], \"contourcarpet\": [{\"colorbar\": {\"outlinewidth\": 0, \"ticks\": \"\"}, \"type\": \"contourcarpet\"}], \"heatmap\": [{\"colorbar\": {\"outlinewidth\": 0, \"ticks\": \"\"}, \"colorscale\": [[0.0, \"#0d0887\"], [0.1111111111111111, \"#46039f\"], [0.2222222222222222, \"#7201a8\"], [0.3333333333333333, \"#9c179e\"], [0.4444444444444444, \"#bd3786\"], [0.5555555555555556, \"#d8576b\"], [0.6666666666666666, \"#ed7953\"], [0.7777777777777778, \"#fb9f3a\"], [0.8888888888888888, \"#fdca26\"], [1.0, \"#f0f921\"]], \"type\": \"heatmap\"}], \"heatmapgl\": [{\"colorbar\": {\"outlinewidth\": 0, \"ticks\": \"\"}, \"colorscale\": [[0.0, \"#0d0887\"], [0.1111111111111111, \"#46039f\"], [0.2222222222222222, \"#7201a8\"], [0.3333333333333333, \"#9c179e\"], [0.4444444444444444, \"#bd3786\"], [0.5555555555555556, \"#d8576b\"], [0.6666666666666666, \"#ed7953\"], [0.7777777777777778, \"#fb9f3a\"], [0.8888888888888888, \"#fdca26\"], [1.0, \"#f0f921\"]], \"type\": \"heatmapgl\"}], \"histogram\": [{\"marker\": {\"colorbar\": {\"outlinewidth\": 0, \"ticks\": \"\"}}, \"type\": \"histogram\"}], \"histogram2d\": [{\"colorbar\": {\"outlinewidth\": 0, \"ticks\": \"\"}, \"colorscale\": [[0.0, \"#0d0887\"], [0.1111111111111111, \"#46039f\"], [0.2222222222222222, \"#7201a8\"], [0.3333333333333333, \"#9c179e\"], [0.4444444444444444, \"#bd3786\"], [0.5555555555555556, \"#d8576b\"], [0.6666666666666666, \"#ed7953\"], [0.7777777777777778, \"#fb9f3a\"], [0.8888888888888888, \"#fdca26\"], [1.0, \"#f0f921\"]], \"type\": \"histogram2d\"}], \"histogram2dcontour\": [{\"colorbar\": {\"outlinewidth\": 0, \"ticks\": \"\"}, \"colorscale\": [[0.0, \"#0d0887\"], [0.1111111111111111, \"#46039f\"], [0.2222222222222222, \"#7201a8\"], [0.3333333333333333, \"#9c179e\"], [0.4444444444444444, \"#bd3786\"], [0.5555555555555556, \"#d8576b\"], [0.6666666666666666, \"#ed7953\"], [0.7777777777777778, \"#fb9f3a\"], [0.8888888888888888, \"#fdca26\"], [1.0, \"#f0f921\"]], \"type\": \"histogram2dcontour\"}], \"mesh3d\": [{\"colorbar\": {\"outlinewidth\": 0, \"ticks\": \"\"}, \"type\": \"mesh3d\"}], \"parcoords\": [{\"line\": {\"colorbar\": {\"outlinewidth\": 0, \"ticks\": \"\"}}, \"type\": \"parcoords\"}], \"pie\": [{\"automargin\": true, \"type\": \"pie\"}], \"scatter\": [{\"marker\": {\"colorbar\": {\"outlinewidth\": 0, \"ticks\": \"\"}}, \"type\": \"scatter\"}], \"scatter3d\": [{\"line\": {\"colorbar\": {\"outlinewidth\": 0, \"ticks\": \"\"}}, \"marker\": {\"colorbar\": {\"outlinewidth\": 0, \"ticks\": \"\"}}, \"type\": \"scatter3d\"}], \"scattercarpet\": [{\"marker\": {\"colorbar\": {\"outlinewidth\": 0, \"ticks\": \"\"}}, \"type\": \"scattercarpet\"}], \"scattergeo\": [{\"marker\": {\"colorbar\": {\"outlinewidth\": 0, \"ticks\": \"\"}}, \"type\": \"scattergeo\"}], \"scattergl\": [{\"marker\": {\"colorbar\": {\"outlinewidth\": 0, \"ticks\": \"\"}}, \"type\": \"scattergl\"}], \"scattermapbox\": [{\"marker\": {\"colorbar\": {\"outlinewidth\": 0, \"ticks\": \"\"}}, \"type\": \"scattermapbox\"}], \"scatterpolar\": [{\"marker\": {\"colorbar\": {\"outlinewidth\": 0, \"ticks\": \"\"}}, \"type\": \"scatterpolar\"}], \"scatterpolargl\": [{\"marker\": {\"colorbar\": {\"outlinewidth\": 0, \"ticks\": \"\"}}, \"type\": \"scatterpolargl\"}], \"scatterternary\": [{\"marker\": {\"colorbar\": {\"outlinewidth\": 0, \"ticks\": \"\"}}, \"type\": \"scatterternary\"}], \"surface\": [{\"colorbar\": {\"outlinewidth\": 0, \"ticks\": \"\"}, \"colorscale\": [[0.0, \"#0d0887\"], [0.1111111111111111, \"#46039f\"], [0.2222222222222222, \"#7201a8\"], [0.3333333333333333, \"#9c179e\"], [0.4444444444444444, \"#bd3786\"], [0.5555555555555556, \"#d8576b\"], [0.6666666666666666, \"#ed7953\"], [0.7777777777777778, \"#fb9f3a\"], [0.8888888888888888, \"#fdca26\"], [1.0, \"#f0f921\"]], \"type\": \"surface\"}], \"table\": [{\"cells\": {\"fill\": {\"color\": \"#EBF0F8\"}, \"line\": {\"color\": \"white\"}}, \"header\": {\"fill\": {\"color\": \"#C8D4E3\"}, \"line\": {\"color\": \"white\"}}, \"type\": \"table\"}]}, \"layout\": {\"annotationdefaults\": {\"arrowcolor\": \"#2a3f5f\", \"arrowhead\": 0, \"arrowwidth\": 1}, \"autotypenumbers\": \"strict\", \"coloraxis\": {\"colorbar\": {\"outlinewidth\": 0, \"ticks\": \"\"}}, \"colorscale\": {\"diverging\": [[0, \"#8e0152\"], [0.1, \"#c51b7d\"], [0.2, \"#de77ae\"], [0.3, \"#f1b6da\"], [0.4, \"#fde0ef\"], [0.5, \"#f7f7f7\"], [0.6, \"#e6f5d0\"], [0.7, \"#b8e186\"], [0.8, \"#7fbc41\"], [0.9, \"#4d9221\"], [1, \"#276419\"]], \"sequential\": [[0.0, \"#0d0887\"], [0.1111111111111111, \"#46039f\"], [0.2222222222222222, \"#7201a8\"], [0.3333333333333333, \"#9c179e\"], [0.4444444444444444, \"#bd3786\"], [0.5555555555555556, \"#d8576b\"], [0.6666666666666666, \"#ed7953\"], [0.7777777777777778, \"#fb9f3a\"], [0.8888888888888888, \"#fdca26\"], [1.0, \"#f0f921\"]], \"sequentialminus\": [[0.0, \"#0d0887\"], [0.1111111111111111, \"#46039f\"], [0.2222222222222222, \"#7201a8\"], [0.3333333333333333, \"#9c179e\"], [0.4444444444444444, \"#bd3786\"], [0.5555555555555556, \"#d8576b\"], [0.6666666666666666, \"#ed7953\"], [0.7777777777777778, \"#fb9f3a\"], [0.8888888888888888, \"#fdca26\"], [1.0, \"#f0f921\"]]}, \"colorway\": [\"#636efa\", \"#EF553B\", \"#00cc96\", \"#ab63fa\", \"#FFA15A\", \"#19d3f3\", \"#FF6692\", \"#B6E880\", \"#FF97FF\", \"#FECB52\"], \"font\": {\"color\": \"#2a3f5f\"}, \"geo\": {\"bgcolor\": \"white\", \"lakecolor\": \"white\", \"landcolor\": \"#E5ECF6\", \"showlakes\": true, \"showland\": true, \"subunitcolor\": \"white\"}, \"hoverlabel\": {\"align\": \"left\"}, \"hovermode\": \"closest\", \"mapbox\": {\"style\": \"light\"}, \"paper_bgcolor\": \"white\", \"plot_bgcolor\": \"#E5ECF6\", \"polar\": {\"angularaxis\": {\"gridcolor\": \"white\", \"linecolor\": \"white\", \"ticks\": \"\"}, \"bgcolor\": \"#E5ECF6\", \"radialaxis\": {\"gridcolor\": \"white\", \"linecolor\": \"white\", \"ticks\": \"\"}}, \"scene\": {\"xaxis\": {\"backgroundcolor\": \"#E5ECF6\", \"gridcolor\": \"white\", \"gridwidth\": 2, \"linecolor\": \"white\", \"showbackground\": true, \"ticks\": \"\", \"zerolinecolor\": \"white\"}, \"yaxis\": {\"backgroundcolor\": \"#E5ECF6\", \"gridcolor\": \"white\", \"gridwidth\": 2, \"linecolor\": \"white\", \"showbackground\": true, \"ticks\": \"\", \"zerolinecolor\": \"white\"}, \"zaxis\": {\"backgroundcolor\": \"#E5ECF6\", \"gridcolor\": \"white\", \"gridwidth\": 2, \"linecolor\": \"white\", \"showbackground\": true, \"ticks\": \"\", \"zerolinecolor\": \"white\"}}, \"shapedefaults\": {\"line\": {\"color\": \"#2a3f5f\"}}, \"ternary\": {\"aaxis\": {\"gridcolor\": \"white\", \"linecolor\": \"white\", \"ticks\": \"\"}, \"baxis\": {\"gridcolor\": \"white\", \"linecolor\": \"white\", \"ticks\": \"\"}, \"bgcolor\": \"#E5ECF6\", \"caxis\": {\"gridcolor\": \"white\", \"linecolor\": \"white\", \"ticks\": \"\"}}, \"title\": {\"x\": 0.05}, \"xaxis\": {\"automargin\": true, \"gridcolor\": \"white\", \"linecolor\": \"white\", \"ticks\": \"\", \"title\": {\"standoff\": 15}, \"zerolinecolor\": \"white\", \"zerolinewidth\": 2}, \"yaxis\": {\"automargin\": true, \"gridcolor\": \"white\", \"linecolor\": \"white\", \"ticks\": \"\", \"title\": {\"standoff\": 15}, \"zerolinecolor\": \"white\", \"zerolinewidth\": 2}}}, \"yaxis\": {\"title\": {\"text\": \"RMSE\"}}},                        {\"responsive\": true}                    ).then(function(){\n",
       "                            \n",
       "var gd = document.getElementById('8729ab23-3201-4251-b162-f64c48efc6bc');\n",
       "var x = new MutationObserver(function (mutations, observer) {{\n",
       "        var display = window.getComputedStyle(gd).display;\n",
       "        if (!display || display === 'none') {{\n",
       "            console.log([gd, 'removed!']);\n",
       "            Plotly.purge(gd);\n",
       "            observer.disconnect();\n",
       "        }}\n",
       "}});\n",
       "\n",
       "// Listen for the removal of the full notebook cells\n",
       "var notebookContainer = gd.closest('#notebook-container');\n",
       "if (notebookContainer) {{\n",
       "    x.observe(notebookContainer, {childList: true});\n",
       "}}\n",
       "\n",
       "// Listen for the clearing of the current output cell\n",
       "var outputEl = gd.closest('.output');\n",
       "if (outputEl) {{\n",
       "    x.observe(outputEl, {childList: true});\n",
       "}}\n",
       "\n",
       "                        })                };                });            </script>        </div>"
      ]
     },
     "metadata": {},
     "output_type": "display_data"
    }
   ],
   "source": [
    "ridge_model.fit(tr, tr['mpg'])\n",
    "models[\"RidgeN(alpha=10)\"] = ridge_model\n",
    "compare_models(models)"
   ]
  },
  {
   "cell_type": "markdown",
   "metadata": {},
   "source": [
    "That is too much regularization.  Let's use cross validation to pick the best value."
   ]
  },
  {
   "cell_type": "markdown",
   "metadata": {},
   "source": [
    "### Cross Validation to Tune Regularization Parameter\n",
    "\n",
    "The following uses cross validation to tune the regularization parameter."
   ]
  },
  {
   "cell_type": "code",
   "execution_count": 34,
   "metadata": {},
   "outputs": [],
   "source": [
    "ridge_model = Pipeline([\n",
    "    (\"SelectColumns\", ColumnTransformer([\n",
    "        (\"keep\", StandardScaler(), quantitative_features),\n",
    "        (\"origin_encoder\", OneHotEncoder(), [\"origin\"]),\n",
    "        (\"text\", CountVectorizer(), \"name\")\n",
    "    ])),\n",
    "    (\"Imputation\", SimpleImputer()),\n",
    "    (\"LinearModel\", Ridge(alpha=10))\n",
    "])\n",
    "\n",
    "alphas = np.linspace(0.5, 20, 30)\n",
    "cv_values = []\n",
    "train_values = []\n",
    "test_values = []\n",
    "for alpha in alphas:\n",
    "    ridge_model.set_params(LinearModel__alpha=alpha)\n",
    "    cv_values.append(np.mean(cross_val_score(ridge_model, tr, tr['mpg'], scoring=rmse_score, cv=5)))\n",
    "    ridge_model.fit(tr, tr['mpg'])\n",
    "    train_values.append(rmse_score(ridge_model, tr, tr['mpg']))\n",
    "    test_values.append(rmse_score(ridge_model, te, te['mpg']))"
   ]
  },
  {
   "cell_type": "markdown",
   "metadata": {},
   "source": [
    "We can plot the cross validation error against the different $\\alpha$ values and pick the $\\alpha$ with the smallest cross validation error. "
   ]
  },
  {
   "cell_type": "code",
   "execution_count": 35,
   "metadata": {},
   "outputs": [
    {
     "data": {
      "application/vnd.plotly.v1+json": {
       "config": {
        "plotlyServerURL": "https://plot.ly"
       },
       "data": [
        {
         "mode": "lines+markers",
         "name": "Train",
         "type": "scatter",
         "x": [
          0.5,
          1.1724137931034484,
          1.8448275862068966,
          2.5172413793103448,
          3.189655172413793,
          3.8620689655172415,
          4.5344827586206895,
          5.206896551724138,
          5.879310344827586,
          6.551724137931035,
          7.224137931034483,
          7.8965517241379315,
          8.568965517241379,
          9.241379310344827,
          9.913793103448276,
          10.586206896551724,
          11.258620689655173,
          11.931034482758621,
          12.60344827586207,
          13.275862068965518,
          13.948275862068966,
          14.620689655172415,
          15.293103448275863,
          15.965517241379311,
          16.637931034482758,
          17.310344827586206,
          17.982758620689655,
          18.655172413793103,
          19.32758620689655,
          20
         ],
         "y": [
          1.373123418031404,
          1.6209136593092976,
          1.7973226081520104,
          1.932877459299416,
          2.037569619048866,
          2.1257608242249604,
          2.201753870274774,
          2.2649349954401035,
          2.320765700355141,
          2.3706314651772273,
          2.4177266546792224,
          2.4579087333657186,
          2.4947574866565594,
          2.528721201651214,
          2.56016937551357,
          2.5894091634644716,
          2.6166978523081474,
          2.6422521295041865,
          2.6662567848013285,
          2.690536431788631,
          2.7116121200140704,
          2.7316022884592406,
          2.7505990281689026,
          2.7686840893205975,
          2.7859302699821495,
          2.8024026142818173,
          2.818159406380137,
          2.8332530382226806,
          2.847730731089845,
          2.86163517563297
         ]
        },
        {
         "mode": "lines+markers",
         "name": "CV",
         "type": "scatter",
         "x": [
          0.5,
          1.1724137931034484,
          1.8448275862068966,
          2.5172413793103448,
          3.189655172413793,
          3.8620689655172415,
          4.5344827586206895,
          5.206896551724138,
          5.879310344827586,
          6.551724137931035,
          7.224137931034483,
          7.8965517241379315,
          8.568965517241379,
          9.241379310344827,
          9.913793103448276,
          10.586206896551724,
          11.258620689655173,
          11.931034482758621,
          12.60344827586207,
          13.275862068965518,
          13.948275862068966,
          14.620689655172415,
          15.293103448275863,
          15.965517241379311,
          16.637931034482758,
          17.310344827586206,
          17.982758620689655,
          18.655172413793103,
          19.32758620689655,
          20
         ],
         "y": [
          3.0213246705432417,
          2.94699026108004,
          2.943652953670018,
          2.953578487906929,
          2.9694541396249123,
          2.9871393054492246,
          3.0022687792538294,
          3.02022623211382,
          3.0373872697065933,
          3.0536317050608126,
          3.069036382775667,
          3.082729627325308,
          3.0956517706694333,
          3.109010003293258,
          3.1217080038374028,
          3.1335230769332982,
          3.1451754317171416,
          3.156139999950093,
          3.168955782176141,
          3.1787549153014667,
          3.1881362174494496,
          3.197172579940146,
          3.2060538494109734,
          3.214428082289537,
          3.2224860479511506,
          3.2302709137262147,
          3.237798932896633,
          3.2450848851216803,
          3.252163854363629,
          3.259004437803351
         ]
        },
        {
         "mode": "lines+markers",
         "name": "Test",
         "type": "scatter",
         "x": [
          0.5,
          1.1724137931034484,
          1.8448275862068966,
          2.5172413793103448,
          3.189655172413793,
          3.8620689655172415,
          4.5344827586206895,
          5.206896551724138,
          5.879310344827586,
          6.551724137931035,
          7.224137931034483,
          7.8965517241379315,
          8.568965517241379,
          9.241379310344827,
          9.913793103448276,
          10.586206896551724,
          11.258620689655173,
          11.931034482758621,
          12.60344827586207,
          13.275862068965518,
          13.948275862068966,
          14.620689655172415,
          15.293103448275863,
          15.965517241379311,
          16.637931034482758,
          17.310344827586206,
          17.982758620689655,
          18.655172413793103,
          19.32758620689655,
          20
         ],
         "y": [
          3.539107473763192,
          3.505734004882473,
          3.4729798853311737,
          3.4524803343774506,
          3.4360275895979693,
          3.4273420379025143,
          3.40762015015352,
          3.3992606456850645,
          3.3923335967064605,
          3.386564282874256,
          3.388226570687131,
          3.3829847227454226,
          3.3787047833594173,
          3.375218205542624,
          3.3723938127626414,
          3.370127662086183,
          3.368336146148284,
          3.366951215811777,
          3.3659166862593746,
          3.368367843514794,
          3.3674862083766564,
          3.3668985710488952,
          3.3665659560346843,
          3.366455459838091,
          3.3665391399548366,
          3.3667931353892016,
          3.367196967900046,
          3.367732979356582,
          3.3683858776744104,
          3.369142366015763
         ]
        }
       ],
       "layout": {
        "template": {
         "data": {
          "bar": [
           {
            "error_x": {
             "color": "#2a3f5f"
            },
            "error_y": {
             "color": "#2a3f5f"
            },
            "marker": {
             "line": {
              "color": "#E5ECF6",
              "width": 0.5
             }
            },
            "type": "bar"
           }
          ],
          "barpolar": [
           {
            "marker": {
             "line": {
              "color": "#E5ECF6",
              "width": 0.5
             }
            },
            "type": "barpolar"
           }
          ],
          "carpet": [
           {
            "aaxis": {
             "endlinecolor": "#2a3f5f",
             "gridcolor": "white",
             "linecolor": "white",
             "minorgridcolor": "white",
             "startlinecolor": "#2a3f5f"
            },
            "baxis": {
             "endlinecolor": "#2a3f5f",
             "gridcolor": "white",
             "linecolor": "white",
             "minorgridcolor": "white",
             "startlinecolor": "#2a3f5f"
            },
            "type": "carpet"
           }
          ],
          "choropleth": [
           {
            "colorbar": {
             "outlinewidth": 0,
             "ticks": ""
            },
            "type": "choropleth"
           }
          ],
          "contour": [
           {
            "colorbar": {
             "outlinewidth": 0,
             "ticks": ""
            },
            "colorscale": [
             [
              0,
              "#0d0887"
             ],
             [
              0.1111111111111111,
              "#46039f"
             ],
             [
              0.2222222222222222,
              "#7201a8"
             ],
             [
              0.3333333333333333,
              "#9c179e"
             ],
             [
              0.4444444444444444,
              "#bd3786"
             ],
             [
              0.5555555555555556,
              "#d8576b"
             ],
             [
              0.6666666666666666,
              "#ed7953"
             ],
             [
              0.7777777777777778,
              "#fb9f3a"
             ],
             [
              0.8888888888888888,
              "#fdca26"
             ],
             [
              1,
              "#f0f921"
             ]
            ],
            "type": "contour"
           }
          ],
          "contourcarpet": [
           {
            "colorbar": {
             "outlinewidth": 0,
             "ticks": ""
            },
            "type": "contourcarpet"
           }
          ],
          "heatmap": [
           {
            "colorbar": {
             "outlinewidth": 0,
             "ticks": ""
            },
            "colorscale": [
             [
              0,
              "#0d0887"
             ],
             [
              0.1111111111111111,
              "#46039f"
             ],
             [
              0.2222222222222222,
              "#7201a8"
             ],
             [
              0.3333333333333333,
              "#9c179e"
             ],
             [
              0.4444444444444444,
              "#bd3786"
             ],
             [
              0.5555555555555556,
              "#d8576b"
             ],
             [
              0.6666666666666666,
              "#ed7953"
             ],
             [
              0.7777777777777778,
              "#fb9f3a"
             ],
             [
              0.8888888888888888,
              "#fdca26"
             ],
             [
              1,
              "#f0f921"
             ]
            ],
            "type": "heatmap"
           }
          ],
          "heatmapgl": [
           {
            "colorbar": {
             "outlinewidth": 0,
             "ticks": ""
            },
            "colorscale": [
             [
              0,
              "#0d0887"
             ],
             [
              0.1111111111111111,
              "#46039f"
             ],
             [
              0.2222222222222222,
              "#7201a8"
             ],
             [
              0.3333333333333333,
              "#9c179e"
             ],
             [
              0.4444444444444444,
              "#bd3786"
             ],
             [
              0.5555555555555556,
              "#d8576b"
             ],
             [
              0.6666666666666666,
              "#ed7953"
             ],
             [
              0.7777777777777778,
              "#fb9f3a"
             ],
             [
              0.8888888888888888,
              "#fdca26"
             ],
             [
              1,
              "#f0f921"
             ]
            ],
            "type": "heatmapgl"
           }
          ],
          "histogram": [
           {
            "marker": {
             "colorbar": {
              "outlinewidth": 0,
              "ticks": ""
             }
            },
            "type": "histogram"
           }
          ],
          "histogram2d": [
           {
            "colorbar": {
             "outlinewidth": 0,
             "ticks": ""
            },
            "colorscale": [
             [
              0,
              "#0d0887"
             ],
             [
              0.1111111111111111,
              "#46039f"
             ],
             [
              0.2222222222222222,
              "#7201a8"
             ],
             [
              0.3333333333333333,
              "#9c179e"
             ],
             [
              0.4444444444444444,
              "#bd3786"
             ],
             [
              0.5555555555555556,
              "#d8576b"
             ],
             [
              0.6666666666666666,
              "#ed7953"
             ],
             [
              0.7777777777777778,
              "#fb9f3a"
             ],
             [
              0.8888888888888888,
              "#fdca26"
             ],
             [
              1,
              "#f0f921"
             ]
            ],
            "type": "histogram2d"
           }
          ],
          "histogram2dcontour": [
           {
            "colorbar": {
             "outlinewidth": 0,
             "ticks": ""
            },
            "colorscale": [
             [
              0,
              "#0d0887"
             ],
             [
              0.1111111111111111,
              "#46039f"
             ],
             [
              0.2222222222222222,
              "#7201a8"
             ],
             [
              0.3333333333333333,
              "#9c179e"
             ],
             [
              0.4444444444444444,
              "#bd3786"
             ],
             [
              0.5555555555555556,
              "#d8576b"
             ],
             [
              0.6666666666666666,
              "#ed7953"
             ],
             [
              0.7777777777777778,
              "#fb9f3a"
             ],
             [
              0.8888888888888888,
              "#fdca26"
             ],
             [
              1,
              "#f0f921"
             ]
            ],
            "type": "histogram2dcontour"
           }
          ],
          "mesh3d": [
           {
            "colorbar": {
             "outlinewidth": 0,
             "ticks": ""
            },
            "type": "mesh3d"
           }
          ],
          "parcoords": [
           {
            "line": {
             "colorbar": {
              "outlinewidth": 0,
              "ticks": ""
             }
            },
            "type": "parcoords"
           }
          ],
          "pie": [
           {
            "automargin": true,
            "type": "pie"
           }
          ],
          "scatter": [
           {
            "marker": {
             "colorbar": {
              "outlinewidth": 0,
              "ticks": ""
             }
            },
            "type": "scatter"
           }
          ],
          "scatter3d": [
           {
            "line": {
             "colorbar": {
              "outlinewidth": 0,
              "ticks": ""
             }
            },
            "marker": {
             "colorbar": {
              "outlinewidth": 0,
              "ticks": ""
             }
            },
            "type": "scatter3d"
           }
          ],
          "scattercarpet": [
           {
            "marker": {
             "colorbar": {
              "outlinewidth": 0,
              "ticks": ""
             }
            },
            "type": "scattercarpet"
           }
          ],
          "scattergeo": [
           {
            "marker": {
             "colorbar": {
              "outlinewidth": 0,
              "ticks": ""
             }
            },
            "type": "scattergeo"
           }
          ],
          "scattergl": [
           {
            "marker": {
             "colorbar": {
              "outlinewidth": 0,
              "ticks": ""
             }
            },
            "type": "scattergl"
           }
          ],
          "scattermapbox": [
           {
            "marker": {
             "colorbar": {
              "outlinewidth": 0,
              "ticks": ""
             }
            },
            "type": "scattermapbox"
           }
          ],
          "scatterpolar": [
           {
            "marker": {
             "colorbar": {
              "outlinewidth": 0,
              "ticks": ""
             }
            },
            "type": "scatterpolar"
           }
          ],
          "scatterpolargl": [
           {
            "marker": {
             "colorbar": {
              "outlinewidth": 0,
              "ticks": ""
             }
            },
            "type": "scatterpolargl"
           }
          ],
          "scatterternary": [
           {
            "marker": {
             "colorbar": {
              "outlinewidth": 0,
              "ticks": ""
             }
            },
            "type": "scatterternary"
           }
          ],
          "surface": [
           {
            "colorbar": {
             "outlinewidth": 0,
             "ticks": ""
            },
            "colorscale": [
             [
              0,
              "#0d0887"
             ],
             [
              0.1111111111111111,
              "#46039f"
             ],
             [
              0.2222222222222222,
              "#7201a8"
             ],
             [
              0.3333333333333333,
              "#9c179e"
             ],
             [
              0.4444444444444444,
              "#bd3786"
             ],
             [
              0.5555555555555556,
              "#d8576b"
             ],
             [
              0.6666666666666666,
              "#ed7953"
             ],
             [
              0.7777777777777778,
              "#fb9f3a"
             ],
             [
              0.8888888888888888,
              "#fdca26"
             ],
             [
              1,
              "#f0f921"
             ]
            ],
            "type": "surface"
           }
          ],
          "table": [
           {
            "cells": {
             "fill": {
              "color": "#EBF0F8"
             },
             "line": {
              "color": "white"
             }
            },
            "header": {
             "fill": {
              "color": "#C8D4E3"
             },
             "line": {
              "color": "white"
             }
            },
            "type": "table"
           }
          ]
         },
         "layout": {
          "annotationdefaults": {
           "arrowcolor": "#2a3f5f",
           "arrowhead": 0,
           "arrowwidth": 1
          },
          "autotypenumbers": "strict",
          "coloraxis": {
           "colorbar": {
            "outlinewidth": 0,
            "ticks": ""
           }
          },
          "colorscale": {
           "diverging": [
            [
             0,
             "#8e0152"
            ],
            [
             0.1,
             "#c51b7d"
            ],
            [
             0.2,
             "#de77ae"
            ],
            [
             0.3,
             "#f1b6da"
            ],
            [
             0.4,
             "#fde0ef"
            ],
            [
             0.5,
             "#f7f7f7"
            ],
            [
             0.6,
             "#e6f5d0"
            ],
            [
             0.7,
             "#b8e186"
            ],
            [
             0.8,
             "#7fbc41"
            ],
            [
             0.9,
             "#4d9221"
            ],
            [
             1,
             "#276419"
            ]
           ],
           "sequential": [
            [
             0,
             "#0d0887"
            ],
            [
             0.1111111111111111,
             "#46039f"
            ],
            [
             0.2222222222222222,
             "#7201a8"
            ],
            [
             0.3333333333333333,
             "#9c179e"
            ],
            [
             0.4444444444444444,
             "#bd3786"
            ],
            [
             0.5555555555555556,
             "#d8576b"
            ],
            [
             0.6666666666666666,
             "#ed7953"
            ],
            [
             0.7777777777777778,
             "#fb9f3a"
            ],
            [
             0.8888888888888888,
             "#fdca26"
            ],
            [
             1,
             "#f0f921"
            ]
           ],
           "sequentialminus": [
            [
             0,
             "#0d0887"
            ],
            [
             0.1111111111111111,
             "#46039f"
            ],
            [
             0.2222222222222222,
             "#7201a8"
            ],
            [
             0.3333333333333333,
             "#9c179e"
            ],
            [
             0.4444444444444444,
             "#bd3786"
            ],
            [
             0.5555555555555556,
             "#d8576b"
            ],
            [
             0.6666666666666666,
             "#ed7953"
            ],
            [
             0.7777777777777778,
             "#fb9f3a"
            ],
            [
             0.8888888888888888,
             "#fdca26"
            ],
            [
             1,
             "#f0f921"
            ]
           ]
          },
          "colorway": [
           "#636efa",
           "#EF553B",
           "#00cc96",
           "#ab63fa",
           "#FFA15A",
           "#19d3f3",
           "#FF6692",
           "#B6E880",
           "#FF97FF",
           "#FECB52"
          ],
          "font": {
           "color": "#2a3f5f"
          },
          "geo": {
           "bgcolor": "white",
           "lakecolor": "white",
           "landcolor": "#E5ECF6",
           "showlakes": true,
           "showland": true,
           "subunitcolor": "white"
          },
          "hoverlabel": {
           "align": "left"
          },
          "hovermode": "closest",
          "mapbox": {
           "style": "light"
          },
          "paper_bgcolor": "white",
          "plot_bgcolor": "#E5ECF6",
          "polar": {
           "angularaxis": {
            "gridcolor": "white",
            "linecolor": "white",
            "ticks": ""
           },
           "bgcolor": "#E5ECF6",
           "radialaxis": {
            "gridcolor": "white",
            "linecolor": "white",
            "ticks": ""
           }
          },
          "scene": {
           "xaxis": {
            "backgroundcolor": "#E5ECF6",
            "gridcolor": "white",
            "gridwidth": 2,
            "linecolor": "white",
            "showbackground": true,
            "ticks": "",
            "zerolinecolor": "white"
           },
           "yaxis": {
            "backgroundcolor": "#E5ECF6",
            "gridcolor": "white",
            "gridwidth": 2,
            "linecolor": "white",
            "showbackground": true,
            "ticks": "",
            "zerolinecolor": "white"
           },
           "zaxis": {
            "backgroundcolor": "#E5ECF6",
            "gridcolor": "white",
            "gridwidth": 2,
            "linecolor": "white",
            "showbackground": true,
            "ticks": "",
            "zerolinecolor": "white"
           }
          },
          "shapedefaults": {
           "line": {
            "color": "#2a3f5f"
           }
          },
          "ternary": {
           "aaxis": {
            "gridcolor": "white",
            "linecolor": "white",
            "ticks": ""
           },
           "baxis": {
            "gridcolor": "white",
            "linecolor": "white",
            "ticks": ""
           },
           "bgcolor": "#E5ECF6",
           "caxis": {
            "gridcolor": "white",
            "linecolor": "white",
            "ticks": ""
           }
          },
          "title": {
           "x": 0.05
          },
          "xaxis": {
           "automargin": true,
           "gridcolor": "white",
           "linecolor": "white",
           "ticks": "",
           "title": {
            "standoff": 15
           },
           "zerolinecolor": "white",
           "zerolinewidth": 2
          },
          "yaxis": {
           "automargin": true,
           "gridcolor": "white",
           "linecolor": "white",
           "ticks": "",
           "title": {
            "standoff": 15
           },
           "zerolinecolor": "white",
           "zerolinewidth": 2
          }
         }
        },
        "xaxis": {
         "title": {
          "text": "$\\alpha$"
         }
        },
        "yaxis": {
         "title": {
          "text": "CV RMSE"
         }
        }
       }
      },
      "text/html": [
       "<div>                            <div id=\"1ac5d78c-1e2c-4a83-8ba8-6780ceb5b9df\" class=\"plotly-graph-div\" style=\"height:525px; width:100%;\"></div>            <script type=\"text/javascript\">                require([\"plotly\"], function(Plotly) {                    window.PLOTLYENV=window.PLOTLYENV || {};                                    if (document.getElementById(\"1ac5d78c-1e2c-4a83-8ba8-6780ceb5b9df\")) {                    Plotly.newPlot(                        \"1ac5d78c-1e2c-4a83-8ba8-6780ceb5b9df\",                        [{\"mode\": \"lines+markers\", \"name\": \"Train\", \"type\": \"scatter\", \"x\": [0.5, 1.1724137931034484, 1.8448275862068966, 2.5172413793103448, 3.189655172413793, 3.8620689655172415, 4.5344827586206895, 5.206896551724138, 5.879310344827586, 6.551724137931035, 7.224137931034483, 7.8965517241379315, 8.568965517241379, 9.241379310344827, 9.913793103448276, 10.586206896551724, 11.258620689655173, 11.931034482758621, 12.60344827586207, 13.275862068965518, 13.948275862068966, 14.620689655172415, 15.293103448275863, 15.965517241379311, 16.637931034482758, 17.310344827586206, 17.982758620689655, 18.655172413793103, 19.32758620689655, 20.0], \"y\": [1.373123418031404, 1.6209136593092976, 1.7973226081520104, 1.932877459299416, 2.037569619048866, 2.1257608242249604, 2.201753870274774, 2.2649349954401035, 2.320765700355141, 2.3706314651772273, 2.4177266546792224, 2.4579087333657186, 2.4947574866565594, 2.528721201651214, 2.56016937551357, 2.5894091634644716, 2.6166978523081474, 2.6422521295041865, 2.6662567848013285, 2.690536431788631, 2.7116121200140704, 2.7316022884592406, 2.7505990281689026, 2.7686840893205975, 2.7859302699821495, 2.8024026142818173, 2.818159406380137, 2.8332530382226806, 2.847730731089845, 2.86163517563297]}, {\"mode\": \"lines+markers\", \"name\": \"CV\", \"type\": \"scatter\", \"x\": [0.5, 1.1724137931034484, 1.8448275862068966, 2.5172413793103448, 3.189655172413793, 3.8620689655172415, 4.5344827586206895, 5.206896551724138, 5.879310344827586, 6.551724137931035, 7.224137931034483, 7.8965517241379315, 8.568965517241379, 9.241379310344827, 9.913793103448276, 10.586206896551724, 11.258620689655173, 11.931034482758621, 12.60344827586207, 13.275862068965518, 13.948275862068966, 14.620689655172415, 15.293103448275863, 15.965517241379311, 16.637931034482758, 17.310344827586206, 17.982758620689655, 18.655172413793103, 19.32758620689655, 20.0], \"y\": [3.0213246705432417, 2.94699026108004, 2.943652953670018, 2.953578487906929, 2.9694541396249123, 2.9871393054492246, 3.0022687792538294, 3.02022623211382, 3.0373872697065933, 3.0536317050608126, 3.069036382775667, 3.082729627325308, 3.0956517706694333, 3.109010003293258, 3.1217080038374028, 3.1335230769332982, 3.1451754317171416, 3.156139999950093, 3.168955782176141, 3.1787549153014667, 3.1881362174494496, 3.197172579940146, 3.2060538494109734, 3.214428082289537, 3.2224860479511506, 3.2302709137262147, 3.237798932896633, 3.2450848851216803, 3.252163854363629, 3.259004437803351]}, {\"mode\": \"lines+markers\", \"name\": \"Test\", \"type\": \"scatter\", \"x\": [0.5, 1.1724137931034484, 1.8448275862068966, 2.5172413793103448, 3.189655172413793, 3.8620689655172415, 4.5344827586206895, 5.206896551724138, 5.879310344827586, 6.551724137931035, 7.224137931034483, 7.8965517241379315, 8.568965517241379, 9.241379310344827, 9.913793103448276, 10.586206896551724, 11.258620689655173, 11.931034482758621, 12.60344827586207, 13.275862068965518, 13.948275862068966, 14.620689655172415, 15.293103448275863, 15.965517241379311, 16.637931034482758, 17.310344827586206, 17.982758620689655, 18.655172413793103, 19.32758620689655, 20.0], \"y\": [3.539107473763192, 3.505734004882473, 3.4729798853311737, 3.4524803343774506, 3.4360275895979693, 3.4273420379025143, 3.40762015015352, 3.3992606456850645, 3.3923335967064605, 3.386564282874256, 3.388226570687131, 3.3829847227454226, 3.3787047833594173, 3.375218205542624, 3.3723938127626414, 3.370127662086183, 3.368336146148284, 3.366951215811777, 3.3659166862593746, 3.368367843514794, 3.3674862083766564, 3.3668985710488952, 3.3665659560346843, 3.366455459838091, 3.3665391399548366, 3.3667931353892016, 3.367196967900046, 3.367732979356582, 3.3683858776744104, 3.369142366015763]}],                        {\"template\": {\"data\": {\"bar\": [{\"error_x\": {\"color\": \"#2a3f5f\"}, \"error_y\": {\"color\": \"#2a3f5f\"}, \"marker\": {\"line\": {\"color\": \"#E5ECF6\", \"width\": 0.5}}, \"type\": \"bar\"}], \"barpolar\": [{\"marker\": {\"line\": {\"color\": \"#E5ECF6\", \"width\": 0.5}}, \"type\": \"barpolar\"}], \"carpet\": [{\"aaxis\": {\"endlinecolor\": \"#2a3f5f\", \"gridcolor\": \"white\", \"linecolor\": \"white\", \"minorgridcolor\": \"white\", \"startlinecolor\": \"#2a3f5f\"}, \"baxis\": {\"endlinecolor\": \"#2a3f5f\", \"gridcolor\": \"white\", \"linecolor\": \"white\", \"minorgridcolor\": \"white\", \"startlinecolor\": \"#2a3f5f\"}, \"type\": \"carpet\"}], \"choropleth\": [{\"colorbar\": {\"outlinewidth\": 0, \"ticks\": \"\"}, \"type\": \"choropleth\"}], \"contour\": [{\"colorbar\": {\"outlinewidth\": 0, \"ticks\": \"\"}, \"colorscale\": [[0.0, \"#0d0887\"], [0.1111111111111111, \"#46039f\"], [0.2222222222222222, \"#7201a8\"], [0.3333333333333333, \"#9c179e\"], [0.4444444444444444, \"#bd3786\"], [0.5555555555555556, \"#d8576b\"], [0.6666666666666666, \"#ed7953\"], [0.7777777777777778, \"#fb9f3a\"], [0.8888888888888888, \"#fdca26\"], [1.0, \"#f0f921\"]], \"type\": \"contour\"}], \"contourcarpet\": [{\"colorbar\": {\"outlinewidth\": 0, \"ticks\": \"\"}, \"type\": \"contourcarpet\"}], \"heatmap\": [{\"colorbar\": {\"outlinewidth\": 0, \"ticks\": \"\"}, \"colorscale\": [[0.0, \"#0d0887\"], [0.1111111111111111, \"#46039f\"], [0.2222222222222222, \"#7201a8\"], [0.3333333333333333, \"#9c179e\"], [0.4444444444444444, \"#bd3786\"], [0.5555555555555556, \"#d8576b\"], [0.6666666666666666, \"#ed7953\"], [0.7777777777777778, \"#fb9f3a\"], [0.8888888888888888, \"#fdca26\"], [1.0, \"#f0f921\"]], \"type\": \"heatmap\"}], \"heatmapgl\": [{\"colorbar\": {\"outlinewidth\": 0, \"ticks\": \"\"}, \"colorscale\": [[0.0, \"#0d0887\"], [0.1111111111111111, \"#46039f\"], [0.2222222222222222, \"#7201a8\"], [0.3333333333333333, \"#9c179e\"], [0.4444444444444444, \"#bd3786\"], [0.5555555555555556, \"#d8576b\"], [0.6666666666666666, \"#ed7953\"], [0.7777777777777778, \"#fb9f3a\"], [0.8888888888888888, \"#fdca26\"], [1.0, \"#f0f921\"]], \"type\": \"heatmapgl\"}], \"histogram\": [{\"marker\": {\"colorbar\": {\"outlinewidth\": 0, \"ticks\": \"\"}}, \"type\": \"histogram\"}], \"histogram2d\": [{\"colorbar\": {\"outlinewidth\": 0, \"ticks\": \"\"}, \"colorscale\": [[0.0, \"#0d0887\"], [0.1111111111111111, \"#46039f\"], [0.2222222222222222, \"#7201a8\"], [0.3333333333333333, \"#9c179e\"], [0.4444444444444444, \"#bd3786\"], [0.5555555555555556, \"#d8576b\"], [0.6666666666666666, \"#ed7953\"], [0.7777777777777778, \"#fb9f3a\"], [0.8888888888888888, \"#fdca26\"], [1.0, \"#f0f921\"]], \"type\": \"histogram2d\"}], \"histogram2dcontour\": [{\"colorbar\": {\"outlinewidth\": 0, \"ticks\": \"\"}, \"colorscale\": [[0.0, \"#0d0887\"], [0.1111111111111111, \"#46039f\"], [0.2222222222222222, \"#7201a8\"], [0.3333333333333333, \"#9c179e\"], [0.4444444444444444, \"#bd3786\"], [0.5555555555555556, \"#d8576b\"], [0.6666666666666666, \"#ed7953\"], [0.7777777777777778, \"#fb9f3a\"], [0.8888888888888888, \"#fdca26\"], [1.0, \"#f0f921\"]], \"type\": \"histogram2dcontour\"}], \"mesh3d\": [{\"colorbar\": {\"outlinewidth\": 0, \"ticks\": \"\"}, \"type\": \"mesh3d\"}], \"parcoords\": [{\"line\": {\"colorbar\": {\"outlinewidth\": 0, \"ticks\": \"\"}}, \"type\": \"parcoords\"}], \"pie\": [{\"automargin\": true, \"type\": \"pie\"}], \"scatter\": [{\"marker\": {\"colorbar\": {\"outlinewidth\": 0, \"ticks\": \"\"}}, \"type\": \"scatter\"}], \"scatter3d\": [{\"line\": {\"colorbar\": {\"outlinewidth\": 0, \"ticks\": \"\"}}, \"marker\": {\"colorbar\": {\"outlinewidth\": 0, \"ticks\": \"\"}}, \"type\": \"scatter3d\"}], \"scattercarpet\": [{\"marker\": {\"colorbar\": {\"outlinewidth\": 0, \"ticks\": \"\"}}, \"type\": \"scattercarpet\"}], \"scattergeo\": [{\"marker\": {\"colorbar\": {\"outlinewidth\": 0, \"ticks\": \"\"}}, \"type\": \"scattergeo\"}], \"scattergl\": [{\"marker\": {\"colorbar\": {\"outlinewidth\": 0, \"ticks\": \"\"}}, \"type\": \"scattergl\"}], \"scattermapbox\": [{\"marker\": {\"colorbar\": {\"outlinewidth\": 0, \"ticks\": \"\"}}, \"type\": \"scattermapbox\"}], \"scatterpolar\": [{\"marker\": {\"colorbar\": {\"outlinewidth\": 0, \"ticks\": \"\"}}, \"type\": \"scatterpolar\"}], \"scatterpolargl\": [{\"marker\": {\"colorbar\": {\"outlinewidth\": 0, \"ticks\": \"\"}}, \"type\": \"scatterpolargl\"}], \"scatterternary\": [{\"marker\": {\"colorbar\": {\"outlinewidth\": 0, \"ticks\": \"\"}}, \"type\": \"scatterternary\"}], \"surface\": [{\"colorbar\": {\"outlinewidth\": 0, \"ticks\": \"\"}, \"colorscale\": [[0.0, \"#0d0887\"], [0.1111111111111111, \"#46039f\"], [0.2222222222222222, \"#7201a8\"], [0.3333333333333333, \"#9c179e\"], [0.4444444444444444, \"#bd3786\"], [0.5555555555555556, \"#d8576b\"], [0.6666666666666666, \"#ed7953\"], [0.7777777777777778, \"#fb9f3a\"], [0.8888888888888888, \"#fdca26\"], [1.0, \"#f0f921\"]], \"type\": \"surface\"}], \"table\": [{\"cells\": {\"fill\": {\"color\": \"#EBF0F8\"}, \"line\": {\"color\": \"white\"}}, \"header\": {\"fill\": {\"color\": \"#C8D4E3\"}, \"line\": {\"color\": \"white\"}}, \"type\": \"table\"}]}, \"layout\": {\"annotationdefaults\": {\"arrowcolor\": \"#2a3f5f\", \"arrowhead\": 0, \"arrowwidth\": 1}, \"autotypenumbers\": \"strict\", \"coloraxis\": {\"colorbar\": {\"outlinewidth\": 0, \"ticks\": \"\"}}, \"colorscale\": {\"diverging\": [[0, \"#8e0152\"], [0.1, \"#c51b7d\"], [0.2, \"#de77ae\"], [0.3, \"#f1b6da\"], [0.4, \"#fde0ef\"], [0.5, \"#f7f7f7\"], [0.6, \"#e6f5d0\"], [0.7, \"#b8e186\"], [0.8, \"#7fbc41\"], [0.9, \"#4d9221\"], [1, \"#276419\"]], \"sequential\": [[0.0, \"#0d0887\"], [0.1111111111111111, \"#46039f\"], [0.2222222222222222, \"#7201a8\"], [0.3333333333333333, \"#9c179e\"], [0.4444444444444444, \"#bd3786\"], [0.5555555555555556, \"#d8576b\"], [0.6666666666666666, \"#ed7953\"], [0.7777777777777778, \"#fb9f3a\"], [0.8888888888888888, \"#fdca26\"], [1.0, \"#f0f921\"]], \"sequentialminus\": [[0.0, \"#0d0887\"], [0.1111111111111111, \"#46039f\"], [0.2222222222222222, \"#7201a8\"], [0.3333333333333333, \"#9c179e\"], [0.4444444444444444, \"#bd3786\"], [0.5555555555555556, \"#d8576b\"], [0.6666666666666666, \"#ed7953\"], [0.7777777777777778, \"#fb9f3a\"], [0.8888888888888888, \"#fdca26\"], [1.0, \"#f0f921\"]]}, \"colorway\": [\"#636efa\", \"#EF553B\", \"#00cc96\", \"#ab63fa\", \"#FFA15A\", \"#19d3f3\", \"#FF6692\", \"#B6E880\", \"#FF97FF\", \"#FECB52\"], \"font\": {\"color\": \"#2a3f5f\"}, \"geo\": {\"bgcolor\": \"white\", \"lakecolor\": \"white\", \"landcolor\": \"#E5ECF6\", \"showlakes\": true, \"showland\": true, \"subunitcolor\": \"white\"}, \"hoverlabel\": {\"align\": \"left\"}, \"hovermode\": \"closest\", \"mapbox\": {\"style\": \"light\"}, \"paper_bgcolor\": \"white\", \"plot_bgcolor\": \"#E5ECF6\", \"polar\": {\"angularaxis\": {\"gridcolor\": \"white\", \"linecolor\": \"white\", \"ticks\": \"\"}, \"bgcolor\": \"#E5ECF6\", \"radialaxis\": {\"gridcolor\": \"white\", \"linecolor\": \"white\", \"ticks\": \"\"}}, \"scene\": {\"xaxis\": {\"backgroundcolor\": \"#E5ECF6\", \"gridcolor\": \"white\", \"gridwidth\": 2, \"linecolor\": \"white\", \"showbackground\": true, \"ticks\": \"\", \"zerolinecolor\": \"white\"}, \"yaxis\": {\"backgroundcolor\": \"#E5ECF6\", \"gridcolor\": \"white\", \"gridwidth\": 2, \"linecolor\": \"white\", \"showbackground\": true, \"ticks\": \"\", \"zerolinecolor\": \"white\"}, \"zaxis\": {\"backgroundcolor\": \"#E5ECF6\", \"gridcolor\": \"white\", \"gridwidth\": 2, \"linecolor\": \"white\", \"showbackground\": true, \"ticks\": \"\", \"zerolinecolor\": \"white\"}}, \"shapedefaults\": {\"line\": {\"color\": \"#2a3f5f\"}}, \"ternary\": {\"aaxis\": {\"gridcolor\": \"white\", \"linecolor\": \"white\", \"ticks\": \"\"}, \"baxis\": {\"gridcolor\": \"white\", \"linecolor\": \"white\", \"ticks\": \"\"}, \"bgcolor\": \"#E5ECF6\", \"caxis\": {\"gridcolor\": \"white\", \"linecolor\": \"white\", \"ticks\": \"\"}}, \"title\": {\"x\": 0.05}, \"xaxis\": {\"automargin\": true, \"gridcolor\": \"white\", \"linecolor\": \"white\", \"ticks\": \"\", \"title\": {\"standoff\": 15}, \"zerolinecolor\": \"white\", \"zerolinewidth\": 2}, \"yaxis\": {\"automargin\": true, \"gridcolor\": \"white\", \"linecolor\": \"white\", \"ticks\": \"\", \"title\": {\"standoff\": 15}, \"zerolinecolor\": \"white\", \"zerolinewidth\": 2}}}, \"xaxis\": {\"title\": {\"text\": \"$\\\\alpha$\"}}, \"yaxis\": {\"title\": {\"text\": \"CV RMSE\"}}},                        {\"responsive\": true}                    ).then(function(){\n",
       "                            \n",
       "var gd = document.getElementById('1ac5d78c-1e2c-4a83-8ba8-6780ceb5b9df');\n",
       "var x = new MutationObserver(function (mutations, observer) {{\n",
       "        var display = window.getComputedStyle(gd).display;\n",
       "        if (!display || display === 'none') {{\n",
       "            console.log([gd, 'removed!']);\n",
       "            Plotly.purge(gd);\n",
       "            observer.disconnect();\n",
       "        }}\n",
       "}});\n",
       "\n",
       "// Listen for the removal of the full notebook cells\n",
       "var notebookContainer = gd.closest('#notebook-container');\n",
       "if (notebookContainer) {{\n",
       "    x.observe(notebookContainer, {childList: true});\n",
       "}}\n",
       "\n",
       "// Listen for the clearing of the current output cell\n",
       "var outputEl = gd.closest('.output');\n",
       "if (outputEl) {{\n",
       "    x.observe(outputEl, {childList: true});\n",
       "}}\n",
       "\n",
       "                        })                };                });            </script>        </div>"
      ]
     },
     "metadata": {},
     "output_type": "display_data"
    }
   ],
   "source": [
    "fig = go.Figure()\n",
    "fig.add_trace(go.Scatter(x = alphas, y = train_values, mode=\"lines+markers\", name=\"Train\"))\n",
    "fig.add_trace(go.Scatter(x = alphas, y = cv_values, mode=\"lines+markers\", name=\"CV\"))\n",
    "fig.add_trace(go.Scatter(x = alphas, y = test_values, mode=\"lines+markers\", name=\"Test\"))\n",
    "fig.update_layout(xaxis_title=r\"$\\alpha$\", yaxis_title=\"CV RMSE\")"
   ]
  },
  {
   "cell_type": "markdown",
   "metadata": {},
   "source": [
    "Adding the best model:"
   ]
  },
  {
   "cell_type": "code",
   "execution_count": 36,
   "metadata": {},
   "outputs": [
    {
     "data": {
      "application/vnd.plotly.v1+json": {
       "config": {
        "plotlyServerURL": "https://plot.ly"
       },
       "data": [
        {
         "name": "Training RMSE",
         "type": "bar",
         "x": [
          "c",
          "c,d",
          "c,d,h",
          "c,d,h,w",
          "c,d,h,w,a",
          "c,d,h,w,a,m",
          "c,d,h,w,a,m,o",
          "c,d,h,w,a,m,o,n",
          "Ridge(alpha=0.5)",
          "RidgeN(alpha=0.5)",
          "RidgeN(alpha=10)",
          "RidgeN(alpha_best)"
         ],
         "y": [
          4.888109236813688,
          4.58757379901803,
          4.525395490245242,
          4.216877763288668,
          4.213763450275894,
          3.3799994809258984,
          3.2488224012050075,
          1.1387325899145662,
          3.392024331152466,
          1.373123418031404,
          2.564035666808896,
          1.7973226081520104
         ]
        },
        {
         "name": "CV RMSE",
         "type": "bar",
         "x": [
          "c",
          "c,d",
          "c,d,h",
          "c,d,h,w",
          "c,d,h,w,a",
          "c,d,h,w,a,m",
          "c,d,h,w,a,m,o",
          "c,d,h,w,a,m,o,n",
          "Ridge(alpha=0.5)",
          "RidgeN(alpha=0.5)",
          "RidgeN(alpha=10)",
          "RidgeN(alpha_best)"
         ],
         "y": [
          4.876661068256957,
          4.579060426624026,
          4.556808311664747,
          4.252718625749385,
          4.256844728700814,
          3.455765706558678,
          3.3323381513276,
          3.728907195958174,
          3.25010581041028,
          3.0213246705432417,
          3.123282652790834,
          2.943652953670018
         ]
        },
        {
         "name": "Test RMSE",
         "opacity": 0.3,
         "type": "bar",
         "x": [
          "c",
          "c,d",
          "c,d,h",
          "c,d,h,w",
          "c,d,h,w,a",
          "c,d,h,w,a,m",
          "c,d,h,w,a,m,o",
          "c,d,h,w,a,m,o,n",
          "Ridge(alpha=0.5)",
          "RidgeN(alpha=0.5)",
          "RidgeN(alpha=10)",
          "RidgeN(alpha_best)"
         ],
         "y": [
          5.055013548375552,
          4.7661569898523695,
          4.583861769980873,
          4.325847816131029,
          4.34988869276913,
          3.550828171640195,
          3.3746613014711664,
          3.5070461515876894,
          3.4637255340236033,
          3.539107473763192,
          3.372074009903793,
          3.4729798853311737
         ]
        }
       ],
       "layout": {
        "template": {
         "data": {
          "bar": [
           {
            "error_x": {
             "color": "#2a3f5f"
            },
            "error_y": {
             "color": "#2a3f5f"
            },
            "marker": {
             "line": {
              "color": "#E5ECF6",
              "width": 0.5
             }
            },
            "type": "bar"
           }
          ],
          "barpolar": [
           {
            "marker": {
             "line": {
              "color": "#E5ECF6",
              "width": 0.5
             }
            },
            "type": "barpolar"
           }
          ],
          "carpet": [
           {
            "aaxis": {
             "endlinecolor": "#2a3f5f",
             "gridcolor": "white",
             "linecolor": "white",
             "minorgridcolor": "white",
             "startlinecolor": "#2a3f5f"
            },
            "baxis": {
             "endlinecolor": "#2a3f5f",
             "gridcolor": "white",
             "linecolor": "white",
             "minorgridcolor": "white",
             "startlinecolor": "#2a3f5f"
            },
            "type": "carpet"
           }
          ],
          "choropleth": [
           {
            "colorbar": {
             "outlinewidth": 0,
             "ticks": ""
            },
            "type": "choropleth"
           }
          ],
          "contour": [
           {
            "colorbar": {
             "outlinewidth": 0,
             "ticks": ""
            },
            "colorscale": [
             [
              0,
              "#0d0887"
             ],
             [
              0.1111111111111111,
              "#46039f"
             ],
             [
              0.2222222222222222,
              "#7201a8"
             ],
             [
              0.3333333333333333,
              "#9c179e"
             ],
             [
              0.4444444444444444,
              "#bd3786"
             ],
             [
              0.5555555555555556,
              "#d8576b"
             ],
             [
              0.6666666666666666,
              "#ed7953"
             ],
             [
              0.7777777777777778,
              "#fb9f3a"
             ],
             [
              0.8888888888888888,
              "#fdca26"
             ],
             [
              1,
              "#f0f921"
             ]
            ],
            "type": "contour"
           }
          ],
          "contourcarpet": [
           {
            "colorbar": {
             "outlinewidth": 0,
             "ticks": ""
            },
            "type": "contourcarpet"
           }
          ],
          "heatmap": [
           {
            "colorbar": {
             "outlinewidth": 0,
             "ticks": ""
            },
            "colorscale": [
             [
              0,
              "#0d0887"
             ],
             [
              0.1111111111111111,
              "#46039f"
             ],
             [
              0.2222222222222222,
              "#7201a8"
             ],
             [
              0.3333333333333333,
              "#9c179e"
             ],
             [
              0.4444444444444444,
              "#bd3786"
             ],
             [
              0.5555555555555556,
              "#d8576b"
             ],
             [
              0.6666666666666666,
              "#ed7953"
             ],
             [
              0.7777777777777778,
              "#fb9f3a"
             ],
             [
              0.8888888888888888,
              "#fdca26"
             ],
             [
              1,
              "#f0f921"
             ]
            ],
            "type": "heatmap"
           }
          ],
          "heatmapgl": [
           {
            "colorbar": {
             "outlinewidth": 0,
             "ticks": ""
            },
            "colorscale": [
             [
              0,
              "#0d0887"
             ],
             [
              0.1111111111111111,
              "#46039f"
             ],
             [
              0.2222222222222222,
              "#7201a8"
             ],
             [
              0.3333333333333333,
              "#9c179e"
             ],
             [
              0.4444444444444444,
              "#bd3786"
             ],
             [
              0.5555555555555556,
              "#d8576b"
             ],
             [
              0.6666666666666666,
              "#ed7953"
             ],
             [
              0.7777777777777778,
              "#fb9f3a"
             ],
             [
              0.8888888888888888,
              "#fdca26"
             ],
             [
              1,
              "#f0f921"
             ]
            ],
            "type": "heatmapgl"
           }
          ],
          "histogram": [
           {
            "marker": {
             "colorbar": {
              "outlinewidth": 0,
              "ticks": ""
             }
            },
            "type": "histogram"
           }
          ],
          "histogram2d": [
           {
            "colorbar": {
             "outlinewidth": 0,
             "ticks": ""
            },
            "colorscale": [
             [
              0,
              "#0d0887"
             ],
             [
              0.1111111111111111,
              "#46039f"
             ],
             [
              0.2222222222222222,
              "#7201a8"
             ],
             [
              0.3333333333333333,
              "#9c179e"
             ],
             [
              0.4444444444444444,
              "#bd3786"
             ],
             [
              0.5555555555555556,
              "#d8576b"
             ],
             [
              0.6666666666666666,
              "#ed7953"
             ],
             [
              0.7777777777777778,
              "#fb9f3a"
             ],
             [
              0.8888888888888888,
              "#fdca26"
             ],
             [
              1,
              "#f0f921"
             ]
            ],
            "type": "histogram2d"
           }
          ],
          "histogram2dcontour": [
           {
            "colorbar": {
             "outlinewidth": 0,
             "ticks": ""
            },
            "colorscale": [
             [
              0,
              "#0d0887"
             ],
             [
              0.1111111111111111,
              "#46039f"
             ],
             [
              0.2222222222222222,
              "#7201a8"
             ],
             [
              0.3333333333333333,
              "#9c179e"
             ],
             [
              0.4444444444444444,
              "#bd3786"
             ],
             [
              0.5555555555555556,
              "#d8576b"
             ],
             [
              0.6666666666666666,
              "#ed7953"
             ],
             [
              0.7777777777777778,
              "#fb9f3a"
             ],
             [
              0.8888888888888888,
              "#fdca26"
             ],
             [
              1,
              "#f0f921"
             ]
            ],
            "type": "histogram2dcontour"
           }
          ],
          "mesh3d": [
           {
            "colorbar": {
             "outlinewidth": 0,
             "ticks": ""
            },
            "type": "mesh3d"
           }
          ],
          "parcoords": [
           {
            "line": {
             "colorbar": {
              "outlinewidth": 0,
              "ticks": ""
             }
            },
            "type": "parcoords"
           }
          ],
          "pie": [
           {
            "automargin": true,
            "type": "pie"
           }
          ],
          "scatter": [
           {
            "marker": {
             "colorbar": {
              "outlinewidth": 0,
              "ticks": ""
             }
            },
            "type": "scatter"
           }
          ],
          "scatter3d": [
           {
            "line": {
             "colorbar": {
              "outlinewidth": 0,
              "ticks": ""
             }
            },
            "marker": {
             "colorbar": {
              "outlinewidth": 0,
              "ticks": ""
             }
            },
            "type": "scatter3d"
           }
          ],
          "scattercarpet": [
           {
            "marker": {
             "colorbar": {
              "outlinewidth": 0,
              "ticks": ""
             }
            },
            "type": "scattercarpet"
           }
          ],
          "scattergeo": [
           {
            "marker": {
             "colorbar": {
              "outlinewidth": 0,
              "ticks": ""
             }
            },
            "type": "scattergeo"
           }
          ],
          "scattergl": [
           {
            "marker": {
             "colorbar": {
              "outlinewidth": 0,
              "ticks": ""
             }
            },
            "type": "scattergl"
           }
          ],
          "scattermapbox": [
           {
            "marker": {
             "colorbar": {
              "outlinewidth": 0,
              "ticks": ""
             }
            },
            "type": "scattermapbox"
           }
          ],
          "scatterpolar": [
           {
            "marker": {
             "colorbar": {
              "outlinewidth": 0,
              "ticks": ""
             }
            },
            "type": "scatterpolar"
           }
          ],
          "scatterpolargl": [
           {
            "marker": {
             "colorbar": {
              "outlinewidth": 0,
              "ticks": ""
             }
            },
            "type": "scatterpolargl"
           }
          ],
          "scatterternary": [
           {
            "marker": {
             "colorbar": {
              "outlinewidth": 0,
              "ticks": ""
             }
            },
            "type": "scatterternary"
           }
          ],
          "surface": [
           {
            "colorbar": {
             "outlinewidth": 0,
             "ticks": ""
            },
            "colorscale": [
             [
              0,
              "#0d0887"
             ],
             [
              0.1111111111111111,
              "#46039f"
             ],
             [
              0.2222222222222222,
              "#7201a8"
             ],
             [
              0.3333333333333333,
              "#9c179e"
             ],
             [
              0.4444444444444444,
              "#bd3786"
             ],
             [
              0.5555555555555556,
              "#d8576b"
             ],
             [
              0.6666666666666666,
              "#ed7953"
             ],
             [
              0.7777777777777778,
              "#fb9f3a"
             ],
             [
              0.8888888888888888,
              "#fdca26"
             ],
             [
              1,
              "#f0f921"
             ]
            ],
            "type": "surface"
           }
          ],
          "table": [
           {
            "cells": {
             "fill": {
              "color": "#EBF0F8"
             },
             "line": {
              "color": "white"
             }
            },
            "header": {
             "fill": {
              "color": "#C8D4E3"
             },
             "line": {
              "color": "white"
             }
            },
            "type": "table"
           }
          ]
         },
         "layout": {
          "annotationdefaults": {
           "arrowcolor": "#2a3f5f",
           "arrowhead": 0,
           "arrowwidth": 1
          },
          "autotypenumbers": "strict",
          "coloraxis": {
           "colorbar": {
            "outlinewidth": 0,
            "ticks": ""
           }
          },
          "colorscale": {
           "diverging": [
            [
             0,
             "#8e0152"
            ],
            [
             0.1,
             "#c51b7d"
            ],
            [
             0.2,
             "#de77ae"
            ],
            [
             0.3,
             "#f1b6da"
            ],
            [
             0.4,
             "#fde0ef"
            ],
            [
             0.5,
             "#f7f7f7"
            ],
            [
             0.6,
             "#e6f5d0"
            ],
            [
             0.7,
             "#b8e186"
            ],
            [
             0.8,
             "#7fbc41"
            ],
            [
             0.9,
             "#4d9221"
            ],
            [
             1,
             "#276419"
            ]
           ],
           "sequential": [
            [
             0,
             "#0d0887"
            ],
            [
             0.1111111111111111,
             "#46039f"
            ],
            [
             0.2222222222222222,
             "#7201a8"
            ],
            [
             0.3333333333333333,
             "#9c179e"
            ],
            [
             0.4444444444444444,
             "#bd3786"
            ],
            [
             0.5555555555555556,
             "#d8576b"
            ],
            [
             0.6666666666666666,
             "#ed7953"
            ],
            [
             0.7777777777777778,
             "#fb9f3a"
            ],
            [
             0.8888888888888888,
             "#fdca26"
            ],
            [
             1,
             "#f0f921"
            ]
           ],
           "sequentialminus": [
            [
             0,
             "#0d0887"
            ],
            [
             0.1111111111111111,
             "#46039f"
            ],
            [
             0.2222222222222222,
             "#7201a8"
            ],
            [
             0.3333333333333333,
             "#9c179e"
            ],
            [
             0.4444444444444444,
             "#bd3786"
            ],
            [
             0.5555555555555556,
             "#d8576b"
            ],
            [
             0.6666666666666666,
             "#ed7953"
            ],
            [
             0.7777777777777778,
             "#fb9f3a"
            ],
            [
             0.8888888888888888,
             "#fdca26"
            ],
            [
             1,
             "#f0f921"
            ]
           ]
          },
          "colorway": [
           "#636efa",
           "#EF553B",
           "#00cc96",
           "#ab63fa",
           "#FFA15A",
           "#19d3f3",
           "#FF6692",
           "#B6E880",
           "#FF97FF",
           "#FECB52"
          ],
          "font": {
           "color": "#2a3f5f"
          },
          "geo": {
           "bgcolor": "white",
           "lakecolor": "white",
           "landcolor": "#E5ECF6",
           "showlakes": true,
           "showland": true,
           "subunitcolor": "white"
          },
          "hoverlabel": {
           "align": "left"
          },
          "hovermode": "closest",
          "mapbox": {
           "style": "light"
          },
          "paper_bgcolor": "white",
          "plot_bgcolor": "#E5ECF6",
          "polar": {
           "angularaxis": {
            "gridcolor": "white",
            "linecolor": "white",
            "ticks": ""
           },
           "bgcolor": "#E5ECF6",
           "radialaxis": {
            "gridcolor": "white",
            "linecolor": "white",
            "ticks": ""
           }
          },
          "scene": {
           "xaxis": {
            "backgroundcolor": "#E5ECF6",
            "gridcolor": "white",
            "gridwidth": 2,
            "linecolor": "white",
            "showbackground": true,
            "ticks": "",
            "zerolinecolor": "white"
           },
           "yaxis": {
            "backgroundcolor": "#E5ECF6",
            "gridcolor": "white",
            "gridwidth": 2,
            "linecolor": "white",
            "showbackground": true,
            "ticks": "",
            "zerolinecolor": "white"
           },
           "zaxis": {
            "backgroundcolor": "#E5ECF6",
            "gridcolor": "white",
            "gridwidth": 2,
            "linecolor": "white",
            "showbackground": true,
            "ticks": "",
            "zerolinecolor": "white"
           }
          },
          "shapedefaults": {
           "line": {
            "color": "#2a3f5f"
           }
          },
          "ternary": {
           "aaxis": {
            "gridcolor": "white",
            "linecolor": "white",
            "ticks": ""
           },
           "baxis": {
            "gridcolor": "white",
            "linecolor": "white",
            "ticks": ""
           },
           "bgcolor": "#E5ECF6",
           "caxis": {
            "gridcolor": "white",
            "linecolor": "white",
            "ticks": ""
           }
          },
          "title": {
           "x": 0.05
          },
          "xaxis": {
           "automargin": true,
           "gridcolor": "white",
           "linecolor": "white",
           "ticks": "",
           "title": {
            "standoff": 15
           },
           "zerolinecolor": "white",
           "zerolinewidth": 2
          },
          "yaxis": {
           "automargin": true,
           "gridcolor": "white",
           "linecolor": "white",
           "ticks": "",
           "title": {
            "standoff": 15
           },
           "zerolinecolor": "white",
           "zerolinewidth": 2
          }
         }
        },
        "yaxis": {
         "title": {
          "text": "RMSE"
         }
        }
       }
      },
      "text/html": [
       "<div>                            <div id=\"5d51a0bc-a16e-4c8d-805e-3b06390a4192\" class=\"plotly-graph-div\" style=\"height:525px; width:100%;\"></div>            <script type=\"text/javascript\">                require([\"plotly\"], function(Plotly) {                    window.PLOTLYENV=window.PLOTLYENV || {};                                    if (document.getElementById(\"5d51a0bc-a16e-4c8d-805e-3b06390a4192\")) {                    Plotly.newPlot(                        \"5d51a0bc-a16e-4c8d-805e-3b06390a4192\",                        [{\"name\": \"Training RMSE\", \"type\": \"bar\", \"x\": [\"c\", \"c,d\", \"c,d,h\", \"c,d,h,w\", \"c,d,h,w,a\", \"c,d,h,w,a,m\", \"c,d,h,w,a,m,o\", \"c,d,h,w,a,m,o,n\", \"Ridge(alpha=0.5)\", \"RidgeN(alpha=0.5)\", \"RidgeN(alpha=10)\", \"RidgeN(alpha_best)\"], \"y\": [4.888109236813688, 4.58757379901803, 4.525395490245242, 4.216877763288668, 4.213763450275894, 3.3799994809258984, 3.2488224012050075, 1.1387325899145662, 3.392024331152466, 1.373123418031404, 2.564035666808896, 1.7973226081520104]}, {\"name\": \"CV RMSE\", \"type\": \"bar\", \"x\": [\"c\", \"c,d\", \"c,d,h\", \"c,d,h,w\", \"c,d,h,w,a\", \"c,d,h,w,a,m\", \"c,d,h,w,a,m,o\", \"c,d,h,w,a,m,o,n\", \"Ridge(alpha=0.5)\", \"RidgeN(alpha=0.5)\", \"RidgeN(alpha=10)\", \"RidgeN(alpha_best)\"], \"y\": [4.876661068256957, 4.579060426624026, 4.556808311664747, 4.252718625749385, 4.256844728700814, 3.455765706558678, 3.3323381513276, 3.728907195958174, 3.25010581041028, 3.0213246705432417, 3.123282652790834, 2.943652953670018]}, {\"name\": \"Test RMSE\", \"opacity\": 0.3, \"type\": \"bar\", \"x\": [\"c\", \"c,d\", \"c,d,h\", \"c,d,h,w\", \"c,d,h,w,a\", \"c,d,h,w,a,m\", \"c,d,h,w,a,m,o\", \"c,d,h,w,a,m,o,n\", \"Ridge(alpha=0.5)\", \"RidgeN(alpha=0.5)\", \"RidgeN(alpha=10)\", \"RidgeN(alpha_best)\"], \"y\": [5.055013548375552, 4.7661569898523695, 4.583861769980873, 4.325847816131029, 4.34988869276913, 3.550828171640195, 3.3746613014711664, 3.5070461515876894, 3.4637255340236033, 3.539107473763192, 3.372074009903793, 3.4729798853311737]}],                        {\"template\": {\"data\": {\"bar\": [{\"error_x\": {\"color\": \"#2a3f5f\"}, \"error_y\": {\"color\": \"#2a3f5f\"}, \"marker\": {\"line\": {\"color\": \"#E5ECF6\", \"width\": 0.5}}, \"type\": \"bar\"}], \"barpolar\": [{\"marker\": {\"line\": {\"color\": \"#E5ECF6\", \"width\": 0.5}}, \"type\": \"barpolar\"}], \"carpet\": [{\"aaxis\": {\"endlinecolor\": \"#2a3f5f\", \"gridcolor\": \"white\", \"linecolor\": \"white\", \"minorgridcolor\": \"white\", \"startlinecolor\": \"#2a3f5f\"}, \"baxis\": {\"endlinecolor\": \"#2a3f5f\", \"gridcolor\": \"white\", \"linecolor\": \"white\", \"minorgridcolor\": \"white\", \"startlinecolor\": \"#2a3f5f\"}, \"type\": \"carpet\"}], \"choropleth\": [{\"colorbar\": {\"outlinewidth\": 0, \"ticks\": \"\"}, \"type\": \"choropleth\"}], \"contour\": [{\"colorbar\": {\"outlinewidth\": 0, \"ticks\": \"\"}, \"colorscale\": [[0.0, \"#0d0887\"], [0.1111111111111111, \"#46039f\"], [0.2222222222222222, \"#7201a8\"], [0.3333333333333333, \"#9c179e\"], [0.4444444444444444, \"#bd3786\"], [0.5555555555555556, \"#d8576b\"], [0.6666666666666666, \"#ed7953\"], [0.7777777777777778, \"#fb9f3a\"], [0.8888888888888888, \"#fdca26\"], [1.0, \"#f0f921\"]], \"type\": \"contour\"}], \"contourcarpet\": [{\"colorbar\": {\"outlinewidth\": 0, \"ticks\": \"\"}, \"type\": \"contourcarpet\"}], \"heatmap\": [{\"colorbar\": {\"outlinewidth\": 0, \"ticks\": \"\"}, \"colorscale\": [[0.0, \"#0d0887\"], [0.1111111111111111, \"#46039f\"], [0.2222222222222222, \"#7201a8\"], [0.3333333333333333, \"#9c179e\"], [0.4444444444444444, \"#bd3786\"], [0.5555555555555556, \"#d8576b\"], [0.6666666666666666, \"#ed7953\"], [0.7777777777777778, \"#fb9f3a\"], [0.8888888888888888, \"#fdca26\"], [1.0, \"#f0f921\"]], \"type\": \"heatmap\"}], \"heatmapgl\": [{\"colorbar\": {\"outlinewidth\": 0, \"ticks\": \"\"}, \"colorscale\": [[0.0, \"#0d0887\"], [0.1111111111111111, \"#46039f\"], [0.2222222222222222, \"#7201a8\"], [0.3333333333333333, \"#9c179e\"], [0.4444444444444444, \"#bd3786\"], [0.5555555555555556, \"#d8576b\"], [0.6666666666666666, \"#ed7953\"], [0.7777777777777778, \"#fb9f3a\"], [0.8888888888888888, \"#fdca26\"], [1.0, \"#f0f921\"]], \"type\": \"heatmapgl\"}], \"histogram\": [{\"marker\": {\"colorbar\": {\"outlinewidth\": 0, \"ticks\": \"\"}}, \"type\": \"histogram\"}], \"histogram2d\": [{\"colorbar\": {\"outlinewidth\": 0, \"ticks\": \"\"}, \"colorscale\": [[0.0, \"#0d0887\"], [0.1111111111111111, \"#46039f\"], [0.2222222222222222, \"#7201a8\"], [0.3333333333333333, \"#9c179e\"], [0.4444444444444444, \"#bd3786\"], [0.5555555555555556, \"#d8576b\"], [0.6666666666666666, \"#ed7953\"], [0.7777777777777778, \"#fb9f3a\"], [0.8888888888888888, \"#fdca26\"], [1.0, \"#f0f921\"]], \"type\": \"histogram2d\"}], \"histogram2dcontour\": [{\"colorbar\": {\"outlinewidth\": 0, \"ticks\": \"\"}, \"colorscale\": [[0.0, \"#0d0887\"], [0.1111111111111111, \"#46039f\"], [0.2222222222222222, \"#7201a8\"], [0.3333333333333333, \"#9c179e\"], [0.4444444444444444, \"#bd3786\"], [0.5555555555555556, \"#d8576b\"], [0.6666666666666666, \"#ed7953\"], [0.7777777777777778, \"#fb9f3a\"], [0.8888888888888888, \"#fdca26\"], [1.0, \"#f0f921\"]], \"type\": \"histogram2dcontour\"}], \"mesh3d\": [{\"colorbar\": {\"outlinewidth\": 0, \"ticks\": \"\"}, \"type\": \"mesh3d\"}], \"parcoords\": [{\"line\": {\"colorbar\": {\"outlinewidth\": 0, \"ticks\": \"\"}}, \"type\": \"parcoords\"}], \"pie\": [{\"automargin\": true, \"type\": \"pie\"}], \"scatter\": [{\"marker\": {\"colorbar\": {\"outlinewidth\": 0, \"ticks\": \"\"}}, \"type\": \"scatter\"}], \"scatter3d\": [{\"line\": {\"colorbar\": {\"outlinewidth\": 0, \"ticks\": \"\"}}, \"marker\": {\"colorbar\": {\"outlinewidth\": 0, \"ticks\": \"\"}}, \"type\": \"scatter3d\"}], \"scattercarpet\": [{\"marker\": {\"colorbar\": {\"outlinewidth\": 0, \"ticks\": \"\"}}, \"type\": \"scattercarpet\"}], \"scattergeo\": [{\"marker\": {\"colorbar\": {\"outlinewidth\": 0, \"ticks\": \"\"}}, \"type\": \"scattergeo\"}], \"scattergl\": [{\"marker\": {\"colorbar\": {\"outlinewidth\": 0, \"ticks\": \"\"}}, \"type\": \"scattergl\"}], \"scattermapbox\": [{\"marker\": {\"colorbar\": {\"outlinewidth\": 0, \"ticks\": \"\"}}, \"type\": \"scattermapbox\"}], \"scatterpolar\": [{\"marker\": {\"colorbar\": {\"outlinewidth\": 0, \"ticks\": \"\"}}, \"type\": \"scatterpolar\"}], \"scatterpolargl\": [{\"marker\": {\"colorbar\": {\"outlinewidth\": 0, \"ticks\": \"\"}}, \"type\": \"scatterpolargl\"}], \"scatterternary\": [{\"marker\": {\"colorbar\": {\"outlinewidth\": 0, \"ticks\": \"\"}}, \"type\": \"scatterternary\"}], \"surface\": [{\"colorbar\": {\"outlinewidth\": 0, \"ticks\": \"\"}, \"colorscale\": [[0.0, \"#0d0887\"], [0.1111111111111111, \"#46039f\"], [0.2222222222222222, \"#7201a8\"], [0.3333333333333333, \"#9c179e\"], [0.4444444444444444, \"#bd3786\"], [0.5555555555555556, \"#d8576b\"], [0.6666666666666666, \"#ed7953\"], [0.7777777777777778, \"#fb9f3a\"], [0.8888888888888888, \"#fdca26\"], [1.0, \"#f0f921\"]], \"type\": \"surface\"}], \"table\": [{\"cells\": {\"fill\": {\"color\": \"#EBF0F8\"}, \"line\": {\"color\": \"white\"}}, \"header\": {\"fill\": {\"color\": \"#C8D4E3\"}, \"line\": {\"color\": \"white\"}}, \"type\": \"table\"}]}, \"layout\": {\"annotationdefaults\": {\"arrowcolor\": \"#2a3f5f\", \"arrowhead\": 0, \"arrowwidth\": 1}, \"autotypenumbers\": \"strict\", \"coloraxis\": {\"colorbar\": {\"outlinewidth\": 0, \"ticks\": \"\"}}, \"colorscale\": {\"diverging\": [[0, \"#8e0152\"], [0.1, \"#c51b7d\"], [0.2, \"#de77ae\"], [0.3, \"#f1b6da\"], [0.4, \"#fde0ef\"], [0.5, \"#f7f7f7\"], [0.6, \"#e6f5d0\"], [0.7, \"#b8e186\"], [0.8, \"#7fbc41\"], [0.9, \"#4d9221\"], [1, \"#276419\"]], \"sequential\": [[0.0, \"#0d0887\"], [0.1111111111111111, \"#46039f\"], [0.2222222222222222, \"#7201a8\"], [0.3333333333333333, \"#9c179e\"], [0.4444444444444444, \"#bd3786\"], [0.5555555555555556, \"#d8576b\"], [0.6666666666666666, \"#ed7953\"], [0.7777777777777778, \"#fb9f3a\"], [0.8888888888888888, \"#fdca26\"], [1.0, \"#f0f921\"]], \"sequentialminus\": [[0.0, \"#0d0887\"], [0.1111111111111111, \"#46039f\"], [0.2222222222222222, \"#7201a8\"], [0.3333333333333333, \"#9c179e\"], [0.4444444444444444, \"#bd3786\"], [0.5555555555555556, \"#d8576b\"], [0.6666666666666666, \"#ed7953\"], [0.7777777777777778, \"#fb9f3a\"], [0.8888888888888888, \"#fdca26\"], [1.0, \"#f0f921\"]]}, \"colorway\": [\"#636efa\", \"#EF553B\", \"#00cc96\", \"#ab63fa\", \"#FFA15A\", \"#19d3f3\", \"#FF6692\", \"#B6E880\", \"#FF97FF\", \"#FECB52\"], \"font\": {\"color\": \"#2a3f5f\"}, \"geo\": {\"bgcolor\": \"white\", \"lakecolor\": \"white\", \"landcolor\": \"#E5ECF6\", \"showlakes\": true, \"showland\": true, \"subunitcolor\": \"white\"}, \"hoverlabel\": {\"align\": \"left\"}, \"hovermode\": \"closest\", \"mapbox\": {\"style\": \"light\"}, \"paper_bgcolor\": \"white\", \"plot_bgcolor\": \"#E5ECF6\", \"polar\": {\"angularaxis\": {\"gridcolor\": \"white\", \"linecolor\": \"white\", \"ticks\": \"\"}, \"bgcolor\": \"#E5ECF6\", \"radialaxis\": {\"gridcolor\": \"white\", \"linecolor\": \"white\", \"ticks\": \"\"}}, \"scene\": {\"xaxis\": {\"backgroundcolor\": \"#E5ECF6\", \"gridcolor\": \"white\", \"gridwidth\": 2, \"linecolor\": \"white\", \"showbackground\": true, \"ticks\": \"\", \"zerolinecolor\": \"white\"}, \"yaxis\": {\"backgroundcolor\": \"#E5ECF6\", \"gridcolor\": \"white\", \"gridwidth\": 2, \"linecolor\": \"white\", \"showbackground\": true, \"ticks\": \"\", \"zerolinecolor\": \"white\"}, \"zaxis\": {\"backgroundcolor\": \"#E5ECF6\", \"gridcolor\": \"white\", \"gridwidth\": 2, \"linecolor\": \"white\", \"showbackground\": true, \"ticks\": \"\", \"zerolinecolor\": \"white\"}}, \"shapedefaults\": {\"line\": {\"color\": \"#2a3f5f\"}}, \"ternary\": {\"aaxis\": {\"gridcolor\": \"white\", \"linecolor\": \"white\", \"ticks\": \"\"}, \"baxis\": {\"gridcolor\": \"white\", \"linecolor\": \"white\", \"ticks\": \"\"}, \"bgcolor\": \"#E5ECF6\", \"caxis\": {\"gridcolor\": \"white\", \"linecolor\": \"white\", \"ticks\": \"\"}}, \"title\": {\"x\": 0.05}, \"xaxis\": {\"automargin\": true, \"gridcolor\": \"white\", \"linecolor\": \"white\", \"ticks\": \"\", \"title\": {\"standoff\": 15}, \"zerolinecolor\": \"white\", \"zerolinewidth\": 2}, \"yaxis\": {\"automargin\": true, \"gridcolor\": \"white\", \"linecolor\": \"white\", \"ticks\": \"\", \"title\": {\"standoff\": 15}, \"zerolinecolor\": \"white\", \"zerolinewidth\": 2}}}, \"yaxis\": {\"title\": {\"text\": \"RMSE\"}}},                        {\"responsive\": true}                    ).then(function(){\n",
       "                            \n",
       "var gd = document.getElementById('5d51a0bc-a16e-4c8d-805e-3b06390a4192');\n",
       "var x = new MutationObserver(function (mutations, observer) {{\n",
       "        var display = window.getComputedStyle(gd).display;\n",
       "        if (!display || display === 'none') {{\n",
       "            console.log([gd, 'removed!']);\n",
       "            Plotly.purge(gd);\n",
       "            observer.disconnect();\n",
       "        }}\n",
       "}});\n",
       "\n",
       "// Listen for the removal of the full notebook cells\n",
       "var notebookContainer = gd.closest('#notebook-container');\n",
       "if (notebookContainer) {{\n",
       "    x.observe(notebookContainer, {childList: true});\n",
       "}}\n",
       "\n",
       "// Listen for the clearing of the current output cell\n",
       "var outputEl = gd.closest('.output');\n",
       "if (outputEl) {{\n",
       "    x.observe(outputEl, {childList: true});\n",
       "}}\n",
       "\n",
       "                        })                };                });            </script>        </div>"
      ]
     },
     "metadata": {},
     "output_type": "display_data"
    }
   ],
   "source": [
    "best_alpha = alphas[np.argmin(cv_values)]\n",
    "ridge_model.set_params(LinearModel__alpha=best_alpha)\n",
    "ridge_model.fit(tr, tr['mpg'])\n",
    "models[\"RidgeN(alpha_best)\"] = ridge_model\n",
    "compare_models(models)"
   ]
  },
  {
   "cell_type": "markdown",
   "metadata": {},
   "source": [
    "We didn't have to do all of that work. SKLearn has a Ridge Regression class with built-in cross validation"
   ]
  },
  {
   "cell_type": "code",
   "execution_count": 37,
   "metadata": {},
   "outputs": [],
   "source": [
    "from sklearn.linear_model import RidgeCV"
   ]
  },
  {
   "cell_type": "code",
   "execution_count": 38,
   "metadata": {},
   "outputs": [],
   "source": [
    "alphas = np.linspace(0.5, 3, 30)\n",
    "\n",
    "ridge_model = Pipeline([\n",
    "    (\"SelectColumns\", ColumnTransformer([\n",
    "        (\"keep\", StandardScaler(), quantitative_features),\n",
    "        (\"origin_encoder\", OneHotEncoder(), [\"origin\"]),\n",
    "        (\"text\", CountVectorizer(), \"name\")\n",
    "    ])),\n",
    "    (\"Imputation\", SimpleImputer()),\n",
    "    (\"LinearModel\", RidgeCV(alphas=alphas))\n",
    "])"
   ]
  },
  {
   "cell_type": "code",
   "execution_count": 39,
   "metadata": {},
   "outputs": [
    {
     "data": {
      "application/vnd.plotly.v1+json": {
       "config": {
        "plotlyServerURL": "https://plot.ly"
       },
       "data": [
        {
         "name": "Training RMSE",
         "type": "bar",
         "x": [
          "c",
          "c,d",
          "c,d,h",
          "c,d,h,w",
          "c,d,h,w,a",
          "c,d,h,w,a,m",
          "c,d,h,w,a,m,o",
          "c,d,h,w,a,m,o,n",
          "Ridge(alpha=0.5)",
          "RidgeN(alpha=0.5)",
          "RidgeN(alpha=10)",
          "RidgeN(alpha_best)",
          "RidgeCV"
         ],
         "y": [
          4.888109236813688,
          4.58757379901803,
          4.525395490245242,
          4.216877763288668,
          4.213763450275894,
          3.3799994809258984,
          3.2488224012050075,
          1.1387325899145662,
          3.392024331152466,
          1.373123418031404,
          2.564035666808896,
          1.7973226081520104,
          1.7609475467569906
         ]
        },
        {
         "name": "CV RMSE",
         "type": "bar",
         "x": [
          "c",
          "c,d",
          "c,d,h",
          "c,d,h,w",
          "c,d,h,w,a",
          "c,d,h,w,a,m",
          "c,d,h,w,a,m,o",
          "c,d,h,w,a,m,o,n",
          "Ridge(alpha=0.5)",
          "RidgeN(alpha=0.5)",
          "RidgeN(alpha=10)",
          "RidgeN(alpha_best)",
          "RidgeCV"
         ],
         "y": [
          4.876661068256957,
          4.579060426624026,
          4.556808311664747,
          4.252718625749385,
          4.256844728700814,
          3.455765706558678,
          3.3323381513276,
          3.728907195958174,
          3.25010581041028,
          3.0213246705432417,
          3.123282652790834,
          2.943652953670018,
          2.9630429994257015
         ]
        },
        {
         "name": "Test RMSE",
         "opacity": 0.3,
         "type": "bar",
         "x": [
          "c",
          "c,d",
          "c,d,h",
          "c,d,h,w",
          "c,d,h,w,a",
          "c,d,h,w,a,m",
          "c,d,h,w,a,m,o",
          "c,d,h,w,a,m,o,n",
          "Ridge(alpha=0.5)",
          "RidgeN(alpha=0.5)",
          "RidgeN(alpha=10)",
          "RidgeN(alpha_best)",
          "RidgeCV"
         ],
         "y": [
          5.055013548375552,
          4.7661569898523695,
          4.583861769980873,
          4.325847816131029,
          4.34988869276913,
          3.550828171640195,
          3.3746613014711664,
          3.5070461515876894,
          3.4637255340236033,
          3.539107473763192,
          3.372074009903793,
          3.4729798853311737,
          3.4751204469174817
         ]
        }
       ],
       "layout": {
        "template": {
         "data": {
          "bar": [
           {
            "error_x": {
             "color": "#2a3f5f"
            },
            "error_y": {
             "color": "#2a3f5f"
            },
            "marker": {
             "line": {
              "color": "#E5ECF6",
              "width": 0.5
             }
            },
            "type": "bar"
           }
          ],
          "barpolar": [
           {
            "marker": {
             "line": {
              "color": "#E5ECF6",
              "width": 0.5
             }
            },
            "type": "barpolar"
           }
          ],
          "carpet": [
           {
            "aaxis": {
             "endlinecolor": "#2a3f5f",
             "gridcolor": "white",
             "linecolor": "white",
             "minorgridcolor": "white",
             "startlinecolor": "#2a3f5f"
            },
            "baxis": {
             "endlinecolor": "#2a3f5f",
             "gridcolor": "white",
             "linecolor": "white",
             "minorgridcolor": "white",
             "startlinecolor": "#2a3f5f"
            },
            "type": "carpet"
           }
          ],
          "choropleth": [
           {
            "colorbar": {
             "outlinewidth": 0,
             "ticks": ""
            },
            "type": "choropleth"
           }
          ],
          "contour": [
           {
            "colorbar": {
             "outlinewidth": 0,
             "ticks": ""
            },
            "colorscale": [
             [
              0,
              "#0d0887"
             ],
             [
              0.1111111111111111,
              "#46039f"
             ],
             [
              0.2222222222222222,
              "#7201a8"
             ],
             [
              0.3333333333333333,
              "#9c179e"
             ],
             [
              0.4444444444444444,
              "#bd3786"
             ],
             [
              0.5555555555555556,
              "#d8576b"
             ],
             [
              0.6666666666666666,
              "#ed7953"
             ],
             [
              0.7777777777777778,
              "#fb9f3a"
             ],
             [
              0.8888888888888888,
              "#fdca26"
             ],
             [
              1,
              "#f0f921"
             ]
            ],
            "type": "contour"
           }
          ],
          "contourcarpet": [
           {
            "colorbar": {
             "outlinewidth": 0,
             "ticks": ""
            },
            "type": "contourcarpet"
           }
          ],
          "heatmap": [
           {
            "colorbar": {
             "outlinewidth": 0,
             "ticks": ""
            },
            "colorscale": [
             [
              0,
              "#0d0887"
             ],
             [
              0.1111111111111111,
              "#46039f"
             ],
             [
              0.2222222222222222,
              "#7201a8"
             ],
             [
              0.3333333333333333,
              "#9c179e"
             ],
             [
              0.4444444444444444,
              "#bd3786"
             ],
             [
              0.5555555555555556,
              "#d8576b"
             ],
             [
              0.6666666666666666,
              "#ed7953"
             ],
             [
              0.7777777777777778,
              "#fb9f3a"
             ],
             [
              0.8888888888888888,
              "#fdca26"
             ],
             [
              1,
              "#f0f921"
             ]
            ],
            "type": "heatmap"
           }
          ],
          "heatmapgl": [
           {
            "colorbar": {
             "outlinewidth": 0,
             "ticks": ""
            },
            "colorscale": [
             [
              0,
              "#0d0887"
             ],
             [
              0.1111111111111111,
              "#46039f"
             ],
             [
              0.2222222222222222,
              "#7201a8"
             ],
             [
              0.3333333333333333,
              "#9c179e"
             ],
             [
              0.4444444444444444,
              "#bd3786"
             ],
             [
              0.5555555555555556,
              "#d8576b"
             ],
             [
              0.6666666666666666,
              "#ed7953"
             ],
             [
              0.7777777777777778,
              "#fb9f3a"
             ],
             [
              0.8888888888888888,
              "#fdca26"
             ],
             [
              1,
              "#f0f921"
             ]
            ],
            "type": "heatmapgl"
           }
          ],
          "histogram": [
           {
            "marker": {
             "colorbar": {
              "outlinewidth": 0,
              "ticks": ""
             }
            },
            "type": "histogram"
           }
          ],
          "histogram2d": [
           {
            "colorbar": {
             "outlinewidth": 0,
             "ticks": ""
            },
            "colorscale": [
             [
              0,
              "#0d0887"
             ],
             [
              0.1111111111111111,
              "#46039f"
             ],
             [
              0.2222222222222222,
              "#7201a8"
             ],
             [
              0.3333333333333333,
              "#9c179e"
             ],
             [
              0.4444444444444444,
              "#bd3786"
             ],
             [
              0.5555555555555556,
              "#d8576b"
             ],
             [
              0.6666666666666666,
              "#ed7953"
             ],
             [
              0.7777777777777778,
              "#fb9f3a"
             ],
             [
              0.8888888888888888,
              "#fdca26"
             ],
             [
              1,
              "#f0f921"
             ]
            ],
            "type": "histogram2d"
           }
          ],
          "histogram2dcontour": [
           {
            "colorbar": {
             "outlinewidth": 0,
             "ticks": ""
            },
            "colorscale": [
             [
              0,
              "#0d0887"
             ],
             [
              0.1111111111111111,
              "#46039f"
             ],
             [
              0.2222222222222222,
              "#7201a8"
             ],
             [
              0.3333333333333333,
              "#9c179e"
             ],
             [
              0.4444444444444444,
              "#bd3786"
             ],
             [
              0.5555555555555556,
              "#d8576b"
             ],
             [
              0.6666666666666666,
              "#ed7953"
             ],
             [
              0.7777777777777778,
              "#fb9f3a"
             ],
             [
              0.8888888888888888,
              "#fdca26"
             ],
             [
              1,
              "#f0f921"
             ]
            ],
            "type": "histogram2dcontour"
           }
          ],
          "mesh3d": [
           {
            "colorbar": {
             "outlinewidth": 0,
             "ticks": ""
            },
            "type": "mesh3d"
           }
          ],
          "parcoords": [
           {
            "line": {
             "colorbar": {
              "outlinewidth": 0,
              "ticks": ""
             }
            },
            "type": "parcoords"
           }
          ],
          "pie": [
           {
            "automargin": true,
            "type": "pie"
           }
          ],
          "scatter": [
           {
            "marker": {
             "colorbar": {
              "outlinewidth": 0,
              "ticks": ""
             }
            },
            "type": "scatter"
           }
          ],
          "scatter3d": [
           {
            "line": {
             "colorbar": {
              "outlinewidth": 0,
              "ticks": ""
             }
            },
            "marker": {
             "colorbar": {
              "outlinewidth": 0,
              "ticks": ""
             }
            },
            "type": "scatter3d"
           }
          ],
          "scattercarpet": [
           {
            "marker": {
             "colorbar": {
              "outlinewidth": 0,
              "ticks": ""
             }
            },
            "type": "scattercarpet"
           }
          ],
          "scattergeo": [
           {
            "marker": {
             "colorbar": {
              "outlinewidth": 0,
              "ticks": ""
             }
            },
            "type": "scattergeo"
           }
          ],
          "scattergl": [
           {
            "marker": {
             "colorbar": {
              "outlinewidth": 0,
              "ticks": ""
             }
            },
            "type": "scattergl"
           }
          ],
          "scattermapbox": [
           {
            "marker": {
             "colorbar": {
              "outlinewidth": 0,
              "ticks": ""
             }
            },
            "type": "scattermapbox"
           }
          ],
          "scatterpolar": [
           {
            "marker": {
             "colorbar": {
              "outlinewidth": 0,
              "ticks": ""
             }
            },
            "type": "scatterpolar"
           }
          ],
          "scatterpolargl": [
           {
            "marker": {
             "colorbar": {
              "outlinewidth": 0,
              "ticks": ""
             }
            },
            "type": "scatterpolargl"
           }
          ],
          "scatterternary": [
           {
            "marker": {
             "colorbar": {
              "outlinewidth": 0,
              "ticks": ""
             }
            },
            "type": "scatterternary"
           }
          ],
          "surface": [
           {
            "colorbar": {
             "outlinewidth": 0,
             "ticks": ""
            },
            "colorscale": [
             [
              0,
              "#0d0887"
             ],
             [
              0.1111111111111111,
              "#46039f"
             ],
             [
              0.2222222222222222,
              "#7201a8"
             ],
             [
              0.3333333333333333,
              "#9c179e"
             ],
             [
              0.4444444444444444,
              "#bd3786"
             ],
             [
              0.5555555555555556,
              "#d8576b"
             ],
             [
              0.6666666666666666,
              "#ed7953"
             ],
             [
              0.7777777777777778,
              "#fb9f3a"
             ],
             [
              0.8888888888888888,
              "#fdca26"
             ],
             [
              1,
              "#f0f921"
             ]
            ],
            "type": "surface"
           }
          ],
          "table": [
           {
            "cells": {
             "fill": {
              "color": "#EBF0F8"
             },
             "line": {
              "color": "white"
             }
            },
            "header": {
             "fill": {
              "color": "#C8D4E3"
             },
             "line": {
              "color": "white"
             }
            },
            "type": "table"
           }
          ]
         },
         "layout": {
          "annotationdefaults": {
           "arrowcolor": "#2a3f5f",
           "arrowhead": 0,
           "arrowwidth": 1
          },
          "autotypenumbers": "strict",
          "coloraxis": {
           "colorbar": {
            "outlinewidth": 0,
            "ticks": ""
           }
          },
          "colorscale": {
           "diverging": [
            [
             0,
             "#8e0152"
            ],
            [
             0.1,
             "#c51b7d"
            ],
            [
             0.2,
             "#de77ae"
            ],
            [
             0.3,
             "#f1b6da"
            ],
            [
             0.4,
             "#fde0ef"
            ],
            [
             0.5,
             "#f7f7f7"
            ],
            [
             0.6,
             "#e6f5d0"
            ],
            [
             0.7,
             "#b8e186"
            ],
            [
             0.8,
             "#7fbc41"
            ],
            [
             0.9,
             "#4d9221"
            ],
            [
             1,
             "#276419"
            ]
           ],
           "sequential": [
            [
             0,
             "#0d0887"
            ],
            [
             0.1111111111111111,
             "#46039f"
            ],
            [
             0.2222222222222222,
             "#7201a8"
            ],
            [
             0.3333333333333333,
             "#9c179e"
            ],
            [
             0.4444444444444444,
             "#bd3786"
            ],
            [
             0.5555555555555556,
             "#d8576b"
            ],
            [
             0.6666666666666666,
             "#ed7953"
            ],
            [
             0.7777777777777778,
             "#fb9f3a"
            ],
            [
             0.8888888888888888,
             "#fdca26"
            ],
            [
             1,
             "#f0f921"
            ]
           ],
           "sequentialminus": [
            [
             0,
             "#0d0887"
            ],
            [
             0.1111111111111111,
             "#46039f"
            ],
            [
             0.2222222222222222,
             "#7201a8"
            ],
            [
             0.3333333333333333,
             "#9c179e"
            ],
            [
             0.4444444444444444,
             "#bd3786"
            ],
            [
             0.5555555555555556,
             "#d8576b"
            ],
            [
             0.6666666666666666,
             "#ed7953"
            ],
            [
             0.7777777777777778,
             "#fb9f3a"
            ],
            [
             0.8888888888888888,
             "#fdca26"
            ],
            [
             1,
             "#f0f921"
            ]
           ]
          },
          "colorway": [
           "#636efa",
           "#EF553B",
           "#00cc96",
           "#ab63fa",
           "#FFA15A",
           "#19d3f3",
           "#FF6692",
           "#B6E880",
           "#FF97FF",
           "#FECB52"
          ],
          "font": {
           "color": "#2a3f5f"
          },
          "geo": {
           "bgcolor": "white",
           "lakecolor": "white",
           "landcolor": "#E5ECF6",
           "showlakes": true,
           "showland": true,
           "subunitcolor": "white"
          },
          "hoverlabel": {
           "align": "left"
          },
          "hovermode": "closest",
          "mapbox": {
           "style": "light"
          },
          "paper_bgcolor": "white",
          "plot_bgcolor": "#E5ECF6",
          "polar": {
           "angularaxis": {
            "gridcolor": "white",
            "linecolor": "white",
            "ticks": ""
           },
           "bgcolor": "#E5ECF6",
           "radialaxis": {
            "gridcolor": "white",
            "linecolor": "white",
            "ticks": ""
           }
          },
          "scene": {
           "xaxis": {
            "backgroundcolor": "#E5ECF6",
            "gridcolor": "white",
            "gridwidth": 2,
            "linecolor": "white",
            "showbackground": true,
            "ticks": "",
            "zerolinecolor": "white"
           },
           "yaxis": {
            "backgroundcolor": "#E5ECF6",
            "gridcolor": "white",
            "gridwidth": 2,
            "linecolor": "white",
            "showbackground": true,
            "ticks": "",
            "zerolinecolor": "white"
           },
           "zaxis": {
            "backgroundcolor": "#E5ECF6",
            "gridcolor": "white",
            "gridwidth": 2,
            "linecolor": "white",
            "showbackground": true,
            "ticks": "",
            "zerolinecolor": "white"
           }
          },
          "shapedefaults": {
           "line": {
            "color": "#2a3f5f"
           }
          },
          "ternary": {
           "aaxis": {
            "gridcolor": "white",
            "linecolor": "white",
            "ticks": ""
           },
           "baxis": {
            "gridcolor": "white",
            "linecolor": "white",
            "ticks": ""
           },
           "bgcolor": "#E5ECF6",
           "caxis": {
            "gridcolor": "white",
            "linecolor": "white",
            "ticks": ""
           }
          },
          "title": {
           "x": 0.05
          },
          "xaxis": {
           "automargin": true,
           "gridcolor": "white",
           "linecolor": "white",
           "ticks": "",
           "title": {
            "standoff": 15
           },
           "zerolinecolor": "white",
           "zerolinewidth": 2
          },
          "yaxis": {
           "automargin": true,
           "gridcolor": "white",
           "linecolor": "white",
           "ticks": "",
           "title": {
            "standoff": 15
           },
           "zerolinecolor": "white",
           "zerolinewidth": 2
          }
         }
        },
        "yaxis": {
         "title": {
          "text": "RMSE"
         }
        }
       }
      },
      "text/html": [
       "<div>                            <div id=\"758e3be8-a634-45f9-89cc-a0750821f3b4\" class=\"plotly-graph-div\" style=\"height:525px; width:100%;\"></div>            <script type=\"text/javascript\">                require([\"plotly\"], function(Plotly) {                    window.PLOTLYENV=window.PLOTLYENV || {};                                    if (document.getElementById(\"758e3be8-a634-45f9-89cc-a0750821f3b4\")) {                    Plotly.newPlot(                        \"758e3be8-a634-45f9-89cc-a0750821f3b4\",                        [{\"name\": \"Training RMSE\", \"type\": \"bar\", \"x\": [\"c\", \"c,d\", \"c,d,h\", \"c,d,h,w\", \"c,d,h,w,a\", \"c,d,h,w,a,m\", \"c,d,h,w,a,m,o\", \"c,d,h,w,a,m,o,n\", \"Ridge(alpha=0.5)\", \"RidgeN(alpha=0.5)\", \"RidgeN(alpha=10)\", \"RidgeN(alpha_best)\", \"RidgeCV\"], \"y\": [4.888109236813688, 4.58757379901803, 4.525395490245242, 4.216877763288668, 4.213763450275894, 3.3799994809258984, 3.2488224012050075, 1.1387325899145662, 3.392024331152466, 1.373123418031404, 2.564035666808896, 1.7973226081520104, 1.7609475467569906]}, {\"name\": \"CV RMSE\", \"type\": \"bar\", \"x\": [\"c\", \"c,d\", \"c,d,h\", \"c,d,h,w\", \"c,d,h,w,a\", \"c,d,h,w,a,m\", \"c,d,h,w,a,m,o\", \"c,d,h,w,a,m,o,n\", \"Ridge(alpha=0.5)\", \"RidgeN(alpha=0.5)\", \"RidgeN(alpha=10)\", \"RidgeN(alpha_best)\", \"RidgeCV\"], \"y\": [4.876661068256957, 4.579060426624026, 4.556808311664747, 4.252718625749385, 4.256844728700814, 3.455765706558678, 3.3323381513276, 3.728907195958174, 3.25010581041028, 3.0213246705432417, 3.123282652790834, 2.943652953670018, 2.9630429994257015]}, {\"name\": \"Test RMSE\", \"opacity\": 0.3, \"type\": \"bar\", \"x\": [\"c\", \"c,d\", \"c,d,h\", \"c,d,h,w\", \"c,d,h,w,a\", \"c,d,h,w,a,m\", \"c,d,h,w,a,m,o\", \"c,d,h,w,a,m,o,n\", \"Ridge(alpha=0.5)\", \"RidgeN(alpha=0.5)\", \"RidgeN(alpha=10)\", \"RidgeN(alpha_best)\", \"RidgeCV\"], \"y\": [5.055013548375552, 4.7661569898523695, 4.583861769980873, 4.325847816131029, 4.34988869276913, 3.550828171640195, 3.3746613014711664, 3.5070461515876894, 3.4637255340236033, 3.539107473763192, 3.372074009903793, 3.4729798853311737, 3.4751204469174817]}],                        {\"template\": {\"data\": {\"bar\": [{\"error_x\": {\"color\": \"#2a3f5f\"}, \"error_y\": {\"color\": \"#2a3f5f\"}, \"marker\": {\"line\": {\"color\": \"#E5ECF6\", \"width\": 0.5}}, \"type\": \"bar\"}], \"barpolar\": [{\"marker\": {\"line\": {\"color\": \"#E5ECF6\", \"width\": 0.5}}, \"type\": \"barpolar\"}], \"carpet\": [{\"aaxis\": {\"endlinecolor\": \"#2a3f5f\", \"gridcolor\": \"white\", \"linecolor\": \"white\", \"minorgridcolor\": \"white\", \"startlinecolor\": \"#2a3f5f\"}, \"baxis\": {\"endlinecolor\": \"#2a3f5f\", \"gridcolor\": \"white\", \"linecolor\": \"white\", \"minorgridcolor\": \"white\", \"startlinecolor\": \"#2a3f5f\"}, \"type\": \"carpet\"}], \"choropleth\": [{\"colorbar\": {\"outlinewidth\": 0, \"ticks\": \"\"}, \"type\": \"choropleth\"}], \"contour\": [{\"colorbar\": {\"outlinewidth\": 0, \"ticks\": \"\"}, \"colorscale\": [[0.0, \"#0d0887\"], [0.1111111111111111, \"#46039f\"], [0.2222222222222222, \"#7201a8\"], [0.3333333333333333, \"#9c179e\"], [0.4444444444444444, \"#bd3786\"], [0.5555555555555556, \"#d8576b\"], [0.6666666666666666, \"#ed7953\"], [0.7777777777777778, \"#fb9f3a\"], [0.8888888888888888, \"#fdca26\"], [1.0, \"#f0f921\"]], \"type\": \"contour\"}], \"contourcarpet\": [{\"colorbar\": {\"outlinewidth\": 0, \"ticks\": \"\"}, \"type\": \"contourcarpet\"}], \"heatmap\": [{\"colorbar\": {\"outlinewidth\": 0, \"ticks\": \"\"}, \"colorscale\": [[0.0, \"#0d0887\"], [0.1111111111111111, \"#46039f\"], [0.2222222222222222, \"#7201a8\"], [0.3333333333333333, \"#9c179e\"], [0.4444444444444444, \"#bd3786\"], [0.5555555555555556, \"#d8576b\"], [0.6666666666666666, \"#ed7953\"], [0.7777777777777778, \"#fb9f3a\"], [0.8888888888888888, \"#fdca26\"], [1.0, \"#f0f921\"]], \"type\": \"heatmap\"}], \"heatmapgl\": [{\"colorbar\": {\"outlinewidth\": 0, \"ticks\": \"\"}, \"colorscale\": [[0.0, \"#0d0887\"], [0.1111111111111111, \"#46039f\"], [0.2222222222222222, \"#7201a8\"], [0.3333333333333333, \"#9c179e\"], [0.4444444444444444, \"#bd3786\"], [0.5555555555555556, \"#d8576b\"], [0.6666666666666666, \"#ed7953\"], [0.7777777777777778, \"#fb9f3a\"], [0.8888888888888888, \"#fdca26\"], [1.0, \"#f0f921\"]], \"type\": \"heatmapgl\"}], \"histogram\": [{\"marker\": {\"colorbar\": {\"outlinewidth\": 0, \"ticks\": \"\"}}, \"type\": \"histogram\"}], \"histogram2d\": [{\"colorbar\": {\"outlinewidth\": 0, \"ticks\": \"\"}, \"colorscale\": [[0.0, \"#0d0887\"], [0.1111111111111111, \"#46039f\"], [0.2222222222222222, \"#7201a8\"], [0.3333333333333333, \"#9c179e\"], [0.4444444444444444, \"#bd3786\"], [0.5555555555555556, \"#d8576b\"], [0.6666666666666666, \"#ed7953\"], [0.7777777777777778, \"#fb9f3a\"], [0.8888888888888888, \"#fdca26\"], [1.0, \"#f0f921\"]], \"type\": \"histogram2d\"}], \"histogram2dcontour\": [{\"colorbar\": {\"outlinewidth\": 0, \"ticks\": \"\"}, \"colorscale\": [[0.0, \"#0d0887\"], [0.1111111111111111, \"#46039f\"], [0.2222222222222222, \"#7201a8\"], [0.3333333333333333, \"#9c179e\"], [0.4444444444444444, \"#bd3786\"], [0.5555555555555556, \"#d8576b\"], [0.6666666666666666, \"#ed7953\"], [0.7777777777777778, \"#fb9f3a\"], [0.8888888888888888, \"#fdca26\"], [1.0, \"#f0f921\"]], \"type\": \"histogram2dcontour\"}], \"mesh3d\": [{\"colorbar\": {\"outlinewidth\": 0, \"ticks\": \"\"}, \"type\": \"mesh3d\"}], \"parcoords\": [{\"line\": {\"colorbar\": {\"outlinewidth\": 0, \"ticks\": \"\"}}, \"type\": \"parcoords\"}], \"pie\": [{\"automargin\": true, \"type\": \"pie\"}], \"scatter\": [{\"marker\": {\"colorbar\": {\"outlinewidth\": 0, \"ticks\": \"\"}}, \"type\": \"scatter\"}], \"scatter3d\": [{\"line\": {\"colorbar\": {\"outlinewidth\": 0, \"ticks\": \"\"}}, \"marker\": {\"colorbar\": {\"outlinewidth\": 0, \"ticks\": \"\"}}, \"type\": \"scatter3d\"}], \"scattercarpet\": [{\"marker\": {\"colorbar\": {\"outlinewidth\": 0, \"ticks\": \"\"}}, \"type\": \"scattercarpet\"}], \"scattergeo\": [{\"marker\": {\"colorbar\": {\"outlinewidth\": 0, \"ticks\": \"\"}}, \"type\": \"scattergeo\"}], \"scattergl\": [{\"marker\": {\"colorbar\": {\"outlinewidth\": 0, \"ticks\": \"\"}}, \"type\": \"scattergl\"}], \"scattermapbox\": [{\"marker\": {\"colorbar\": {\"outlinewidth\": 0, \"ticks\": \"\"}}, \"type\": \"scattermapbox\"}], \"scatterpolar\": [{\"marker\": {\"colorbar\": {\"outlinewidth\": 0, \"ticks\": \"\"}}, \"type\": \"scatterpolar\"}], \"scatterpolargl\": [{\"marker\": {\"colorbar\": {\"outlinewidth\": 0, \"ticks\": \"\"}}, \"type\": \"scatterpolargl\"}], \"scatterternary\": [{\"marker\": {\"colorbar\": {\"outlinewidth\": 0, \"ticks\": \"\"}}, \"type\": \"scatterternary\"}], \"surface\": [{\"colorbar\": {\"outlinewidth\": 0, \"ticks\": \"\"}, \"colorscale\": [[0.0, \"#0d0887\"], [0.1111111111111111, \"#46039f\"], [0.2222222222222222, \"#7201a8\"], [0.3333333333333333, \"#9c179e\"], [0.4444444444444444, \"#bd3786\"], [0.5555555555555556, \"#d8576b\"], [0.6666666666666666, \"#ed7953\"], [0.7777777777777778, \"#fb9f3a\"], [0.8888888888888888, \"#fdca26\"], [1.0, \"#f0f921\"]], \"type\": \"surface\"}], \"table\": [{\"cells\": {\"fill\": {\"color\": \"#EBF0F8\"}, \"line\": {\"color\": \"white\"}}, \"header\": {\"fill\": {\"color\": \"#C8D4E3\"}, \"line\": {\"color\": \"white\"}}, \"type\": \"table\"}]}, \"layout\": {\"annotationdefaults\": {\"arrowcolor\": \"#2a3f5f\", \"arrowhead\": 0, \"arrowwidth\": 1}, \"autotypenumbers\": \"strict\", \"coloraxis\": {\"colorbar\": {\"outlinewidth\": 0, \"ticks\": \"\"}}, \"colorscale\": {\"diverging\": [[0, \"#8e0152\"], [0.1, \"#c51b7d\"], [0.2, \"#de77ae\"], [0.3, \"#f1b6da\"], [0.4, \"#fde0ef\"], [0.5, \"#f7f7f7\"], [0.6, \"#e6f5d0\"], [0.7, \"#b8e186\"], [0.8, \"#7fbc41\"], [0.9, \"#4d9221\"], [1, \"#276419\"]], \"sequential\": [[0.0, \"#0d0887\"], [0.1111111111111111, \"#46039f\"], [0.2222222222222222, \"#7201a8\"], [0.3333333333333333, \"#9c179e\"], [0.4444444444444444, \"#bd3786\"], [0.5555555555555556, \"#d8576b\"], [0.6666666666666666, \"#ed7953\"], [0.7777777777777778, \"#fb9f3a\"], [0.8888888888888888, \"#fdca26\"], [1.0, \"#f0f921\"]], \"sequentialminus\": [[0.0, \"#0d0887\"], [0.1111111111111111, \"#46039f\"], [0.2222222222222222, \"#7201a8\"], [0.3333333333333333, \"#9c179e\"], [0.4444444444444444, \"#bd3786\"], [0.5555555555555556, \"#d8576b\"], [0.6666666666666666, \"#ed7953\"], [0.7777777777777778, \"#fb9f3a\"], [0.8888888888888888, \"#fdca26\"], [1.0, \"#f0f921\"]]}, \"colorway\": [\"#636efa\", \"#EF553B\", \"#00cc96\", \"#ab63fa\", \"#FFA15A\", \"#19d3f3\", \"#FF6692\", \"#B6E880\", \"#FF97FF\", \"#FECB52\"], \"font\": {\"color\": \"#2a3f5f\"}, \"geo\": {\"bgcolor\": \"white\", \"lakecolor\": \"white\", \"landcolor\": \"#E5ECF6\", \"showlakes\": true, \"showland\": true, \"subunitcolor\": \"white\"}, \"hoverlabel\": {\"align\": \"left\"}, \"hovermode\": \"closest\", \"mapbox\": {\"style\": \"light\"}, \"paper_bgcolor\": \"white\", \"plot_bgcolor\": \"#E5ECF6\", \"polar\": {\"angularaxis\": {\"gridcolor\": \"white\", \"linecolor\": \"white\", \"ticks\": \"\"}, \"bgcolor\": \"#E5ECF6\", \"radialaxis\": {\"gridcolor\": \"white\", \"linecolor\": \"white\", \"ticks\": \"\"}}, \"scene\": {\"xaxis\": {\"backgroundcolor\": \"#E5ECF6\", \"gridcolor\": \"white\", \"gridwidth\": 2, \"linecolor\": \"white\", \"showbackground\": true, \"ticks\": \"\", \"zerolinecolor\": \"white\"}, \"yaxis\": {\"backgroundcolor\": \"#E5ECF6\", \"gridcolor\": \"white\", \"gridwidth\": 2, \"linecolor\": \"white\", \"showbackground\": true, \"ticks\": \"\", \"zerolinecolor\": \"white\"}, \"zaxis\": {\"backgroundcolor\": \"#E5ECF6\", \"gridcolor\": \"white\", \"gridwidth\": 2, \"linecolor\": \"white\", \"showbackground\": true, \"ticks\": \"\", \"zerolinecolor\": \"white\"}}, \"shapedefaults\": {\"line\": {\"color\": \"#2a3f5f\"}}, \"ternary\": {\"aaxis\": {\"gridcolor\": \"white\", \"linecolor\": \"white\", \"ticks\": \"\"}, \"baxis\": {\"gridcolor\": \"white\", \"linecolor\": \"white\", \"ticks\": \"\"}, \"bgcolor\": \"#E5ECF6\", \"caxis\": {\"gridcolor\": \"white\", \"linecolor\": \"white\", \"ticks\": \"\"}}, \"title\": {\"x\": 0.05}, \"xaxis\": {\"automargin\": true, \"gridcolor\": \"white\", \"linecolor\": \"white\", \"ticks\": \"\", \"title\": {\"standoff\": 15}, \"zerolinecolor\": \"white\", \"zerolinewidth\": 2}, \"yaxis\": {\"automargin\": true, \"gridcolor\": \"white\", \"linecolor\": \"white\", \"ticks\": \"\", \"title\": {\"standoff\": 15}, \"zerolinecolor\": \"white\", \"zerolinewidth\": 2}}}, \"yaxis\": {\"title\": {\"text\": \"RMSE\"}}},                        {\"responsive\": true}                    ).then(function(){\n",
       "                            \n",
       "var gd = document.getElementById('758e3be8-a634-45f9-89cc-a0750821f3b4');\n",
       "var x = new MutationObserver(function (mutations, observer) {{\n",
       "        var display = window.getComputedStyle(gd).display;\n",
       "        if (!display || display === 'none') {{\n",
       "            console.log([gd, 'removed!']);\n",
       "            Plotly.purge(gd);\n",
       "            observer.disconnect();\n",
       "        }}\n",
       "}});\n",
       "\n",
       "// Listen for the removal of the full notebook cells\n",
       "var notebookContainer = gd.closest('#notebook-container');\n",
       "if (notebookContainer) {{\n",
       "    x.observe(notebookContainer, {childList: true});\n",
       "}}\n",
       "\n",
       "// Listen for the clearing of the current output cell\n",
       "var outputEl = gd.closest('.output');\n",
       "if (outputEl) {{\n",
       "    x.observe(outputEl, {childList: true});\n",
       "}}\n",
       "\n",
       "                        })                };                });            </script>        </div>"
      ]
     },
     "metadata": {},
     "output_type": "display_data"
    }
   ],
   "source": [
    "ridge_model.fit(tr, tr['mpg'])\n",
    "models[\"RidgeCV\"] = ridge_model\n",
    "compare_models(models)"
   ]
  },
  {
   "cell_type": "markdown",
   "metadata": {},
   "source": [
    "## Lasso in SKLearn \n",
    "\n",
    "Similarly we can swap Ridge Regression for Lasso by simply importing the Lasso object from `sklearn.linear_model`."
   ]
  },
  {
   "cell_type": "code",
   "execution_count": 40,
   "metadata": {},
   "outputs": [],
   "source": [
    "from sklearn.linear_model import Lasso, LassoCV"
   ]
  },
  {
   "cell_type": "code",
   "execution_count": 41,
   "metadata": {},
   "outputs": [],
   "source": [
    "lasso_model = Pipeline([\n",
    "    (\"SelectColumns\", ColumnTransformer([\n",
    "        (\"keep\", StandardScaler(), quantitative_features),\n",
    "        (\"origin_encoder\", OneHotEncoder(), [\"origin\"]),\n",
    "        (\"text\", CountVectorizer(), \"name\")\n",
    "    ])),\n",
    "    (\"Imputation\", SimpleImputer()),\n",
    "    (\"LinearModel\", LassoCV(cv=3))\n",
    "])"
   ]
  },
  {
   "cell_type": "code",
   "execution_count": 42,
   "metadata": {},
   "outputs": [
    {
     "data": {
      "application/vnd.plotly.v1+json": {
       "config": {
        "plotlyServerURL": "https://plot.ly"
       },
       "data": [
        {
         "name": "Training RMSE",
         "type": "bar",
         "x": [
          "c",
          "c,d",
          "c,d,h",
          "c,d,h,w",
          "c,d,h,w,a",
          "c,d,h,w,a,m",
          "c,d,h,w,a,m,o",
          "c,d,h,w,a,m,o,n",
          "Ridge(alpha=0.5)",
          "RidgeN(alpha=0.5)",
          "RidgeN(alpha=10)",
          "RidgeN(alpha_best)",
          "RidgeCV",
          "LassoCV"
         ],
         "y": [
          4.888109236813688,
          4.58757379901803,
          4.525395490245242,
          4.216877763288668,
          4.213763450275894,
          3.3799994809258984,
          3.2488224012050075,
          1.1387325899145662,
          3.392024331152466,
          1.373123418031404,
          2.564035666808896,
          1.7973226081520104,
          1.7609475467569906,
          2.6892966925168538
         ]
        },
        {
         "name": "CV RMSE",
         "type": "bar",
         "x": [
          "c",
          "c,d",
          "c,d,h",
          "c,d,h,w",
          "c,d,h,w,a",
          "c,d,h,w,a,m",
          "c,d,h,w,a,m,o",
          "c,d,h,w,a,m,o,n",
          "Ridge(alpha=0.5)",
          "RidgeN(alpha=0.5)",
          "RidgeN(alpha=10)",
          "RidgeN(alpha_best)",
          "RidgeCV",
          "LassoCV"
         ],
         "y": [
          4.876661068256957,
          4.579060426624026,
          4.556808311664747,
          4.252718625749385,
          4.256844728700814,
          3.455765706558678,
          3.3323381513276,
          3.728907195958174,
          3.25010581041028,
          3.0213246705432417,
          3.123282652790834,
          2.943652953670018,
          2.9630429994257015,
          3.096978371220981
         ]
        },
        {
         "name": "Test RMSE",
         "opacity": 0.3,
         "type": "bar",
         "x": [
          "c",
          "c,d",
          "c,d,h",
          "c,d,h,w",
          "c,d,h,w,a",
          "c,d,h,w,a,m",
          "c,d,h,w,a,m,o",
          "c,d,h,w,a,m,o,n",
          "Ridge(alpha=0.5)",
          "RidgeN(alpha=0.5)",
          "RidgeN(alpha=10)",
          "RidgeN(alpha_best)",
          "RidgeCV",
          "LassoCV"
         ],
         "y": [
          5.055013548375552,
          4.7661569898523695,
          4.583861769980873,
          4.325847816131029,
          4.34988869276913,
          3.550828171640195,
          3.3746613014711664,
          3.5070461515876894,
          3.4637255340236033,
          3.539107473763192,
          3.372074009903793,
          3.4729798853311737,
          3.4751204469174817,
          3.429568506864625
         ]
        }
       ],
       "layout": {
        "template": {
         "data": {
          "bar": [
           {
            "error_x": {
             "color": "#2a3f5f"
            },
            "error_y": {
             "color": "#2a3f5f"
            },
            "marker": {
             "line": {
              "color": "#E5ECF6",
              "width": 0.5
             }
            },
            "type": "bar"
           }
          ],
          "barpolar": [
           {
            "marker": {
             "line": {
              "color": "#E5ECF6",
              "width": 0.5
             }
            },
            "type": "barpolar"
           }
          ],
          "carpet": [
           {
            "aaxis": {
             "endlinecolor": "#2a3f5f",
             "gridcolor": "white",
             "linecolor": "white",
             "minorgridcolor": "white",
             "startlinecolor": "#2a3f5f"
            },
            "baxis": {
             "endlinecolor": "#2a3f5f",
             "gridcolor": "white",
             "linecolor": "white",
             "minorgridcolor": "white",
             "startlinecolor": "#2a3f5f"
            },
            "type": "carpet"
           }
          ],
          "choropleth": [
           {
            "colorbar": {
             "outlinewidth": 0,
             "ticks": ""
            },
            "type": "choropleth"
           }
          ],
          "contour": [
           {
            "colorbar": {
             "outlinewidth": 0,
             "ticks": ""
            },
            "colorscale": [
             [
              0,
              "#0d0887"
             ],
             [
              0.1111111111111111,
              "#46039f"
             ],
             [
              0.2222222222222222,
              "#7201a8"
             ],
             [
              0.3333333333333333,
              "#9c179e"
             ],
             [
              0.4444444444444444,
              "#bd3786"
             ],
             [
              0.5555555555555556,
              "#d8576b"
             ],
             [
              0.6666666666666666,
              "#ed7953"
             ],
             [
              0.7777777777777778,
              "#fb9f3a"
             ],
             [
              0.8888888888888888,
              "#fdca26"
             ],
             [
              1,
              "#f0f921"
             ]
            ],
            "type": "contour"
           }
          ],
          "contourcarpet": [
           {
            "colorbar": {
             "outlinewidth": 0,
             "ticks": ""
            },
            "type": "contourcarpet"
           }
          ],
          "heatmap": [
           {
            "colorbar": {
             "outlinewidth": 0,
             "ticks": ""
            },
            "colorscale": [
             [
              0,
              "#0d0887"
             ],
             [
              0.1111111111111111,
              "#46039f"
             ],
             [
              0.2222222222222222,
              "#7201a8"
             ],
             [
              0.3333333333333333,
              "#9c179e"
             ],
             [
              0.4444444444444444,
              "#bd3786"
             ],
             [
              0.5555555555555556,
              "#d8576b"
             ],
             [
              0.6666666666666666,
              "#ed7953"
             ],
             [
              0.7777777777777778,
              "#fb9f3a"
             ],
             [
              0.8888888888888888,
              "#fdca26"
             ],
             [
              1,
              "#f0f921"
             ]
            ],
            "type": "heatmap"
           }
          ],
          "heatmapgl": [
           {
            "colorbar": {
             "outlinewidth": 0,
             "ticks": ""
            },
            "colorscale": [
             [
              0,
              "#0d0887"
             ],
             [
              0.1111111111111111,
              "#46039f"
             ],
             [
              0.2222222222222222,
              "#7201a8"
             ],
             [
              0.3333333333333333,
              "#9c179e"
             ],
             [
              0.4444444444444444,
              "#bd3786"
             ],
             [
              0.5555555555555556,
              "#d8576b"
             ],
             [
              0.6666666666666666,
              "#ed7953"
             ],
             [
              0.7777777777777778,
              "#fb9f3a"
             ],
             [
              0.8888888888888888,
              "#fdca26"
             ],
             [
              1,
              "#f0f921"
             ]
            ],
            "type": "heatmapgl"
           }
          ],
          "histogram": [
           {
            "marker": {
             "colorbar": {
              "outlinewidth": 0,
              "ticks": ""
             }
            },
            "type": "histogram"
           }
          ],
          "histogram2d": [
           {
            "colorbar": {
             "outlinewidth": 0,
             "ticks": ""
            },
            "colorscale": [
             [
              0,
              "#0d0887"
             ],
             [
              0.1111111111111111,
              "#46039f"
             ],
             [
              0.2222222222222222,
              "#7201a8"
             ],
             [
              0.3333333333333333,
              "#9c179e"
             ],
             [
              0.4444444444444444,
              "#bd3786"
             ],
             [
              0.5555555555555556,
              "#d8576b"
             ],
             [
              0.6666666666666666,
              "#ed7953"
             ],
             [
              0.7777777777777778,
              "#fb9f3a"
             ],
             [
              0.8888888888888888,
              "#fdca26"
             ],
             [
              1,
              "#f0f921"
             ]
            ],
            "type": "histogram2d"
           }
          ],
          "histogram2dcontour": [
           {
            "colorbar": {
             "outlinewidth": 0,
             "ticks": ""
            },
            "colorscale": [
             [
              0,
              "#0d0887"
             ],
             [
              0.1111111111111111,
              "#46039f"
             ],
             [
              0.2222222222222222,
              "#7201a8"
             ],
             [
              0.3333333333333333,
              "#9c179e"
             ],
             [
              0.4444444444444444,
              "#bd3786"
             ],
             [
              0.5555555555555556,
              "#d8576b"
             ],
             [
              0.6666666666666666,
              "#ed7953"
             ],
             [
              0.7777777777777778,
              "#fb9f3a"
             ],
             [
              0.8888888888888888,
              "#fdca26"
             ],
             [
              1,
              "#f0f921"
             ]
            ],
            "type": "histogram2dcontour"
           }
          ],
          "mesh3d": [
           {
            "colorbar": {
             "outlinewidth": 0,
             "ticks": ""
            },
            "type": "mesh3d"
           }
          ],
          "parcoords": [
           {
            "line": {
             "colorbar": {
              "outlinewidth": 0,
              "ticks": ""
             }
            },
            "type": "parcoords"
           }
          ],
          "pie": [
           {
            "automargin": true,
            "type": "pie"
           }
          ],
          "scatter": [
           {
            "marker": {
             "colorbar": {
              "outlinewidth": 0,
              "ticks": ""
             }
            },
            "type": "scatter"
           }
          ],
          "scatter3d": [
           {
            "line": {
             "colorbar": {
              "outlinewidth": 0,
              "ticks": ""
             }
            },
            "marker": {
             "colorbar": {
              "outlinewidth": 0,
              "ticks": ""
             }
            },
            "type": "scatter3d"
           }
          ],
          "scattercarpet": [
           {
            "marker": {
             "colorbar": {
              "outlinewidth": 0,
              "ticks": ""
             }
            },
            "type": "scattercarpet"
           }
          ],
          "scattergeo": [
           {
            "marker": {
             "colorbar": {
              "outlinewidth": 0,
              "ticks": ""
             }
            },
            "type": "scattergeo"
           }
          ],
          "scattergl": [
           {
            "marker": {
             "colorbar": {
              "outlinewidth": 0,
              "ticks": ""
             }
            },
            "type": "scattergl"
           }
          ],
          "scattermapbox": [
           {
            "marker": {
             "colorbar": {
              "outlinewidth": 0,
              "ticks": ""
             }
            },
            "type": "scattermapbox"
           }
          ],
          "scatterpolar": [
           {
            "marker": {
             "colorbar": {
              "outlinewidth": 0,
              "ticks": ""
             }
            },
            "type": "scatterpolar"
           }
          ],
          "scatterpolargl": [
           {
            "marker": {
             "colorbar": {
              "outlinewidth": 0,
              "ticks": ""
             }
            },
            "type": "scatterpolargl"
           }
          ],
          "scatterternary": [
           {
            "marker": {
             "colorbar": {
              "outlinewidth": 0,
              "ticks": ""
             }
            },
            "type": "scatterternary"
           }
          ],
          "surface": [
           {
            "colorbar": {
             "outlinewidth": 0,
             "ticks": ""
            },
            "colorscale": [
             [
              0,
              "#0d0887"
             ],
             [
              0.1111111111111111,
              "#46039f"
             ],
             [
              0.2222222222222222,
              "#7201a8"
             ],
             [
              0.3333333333333333,
              "#9c179e"
             ],
             [
              0.4444444444444444,
              "#bd3786"
             ],
             [
              0.5555555555555556,
              "#d8576b"
             ],
             [
              0.6666666666666666,
              "#ed7953"
             ],
             [
              0.7777777777777778,
              "#fb9f3a"
             ],
             [
              0.8888888888888888,
              "#fdca26"
             ],
             [
              1,
              "#f0f921"
             ]
            ],
            "type": "surface"
           }
          ],
          "table": [
           {
            "cells": {
             "fill": {
              "color": "#EBF0F8"
             },
             "line": {
              "color": "white"
             }
            },
            "header": {
             "fill": {
              "color": "#C8D4E3"
             },
             "line": {
              "color": "white"
             }
            },
            "type": "table"
           }
          ]
         },
         "layout": {
          "annotationdefaults": {
           "arrowcolor": "#2a3f5f",
           "arrowhead": 0,
           "arrowwidth": 1
          },
          "autotypenumbers": "strict",
          "coloraxis": {
           "colorbar": {
            "outlinewidth": 0,
            "ticks": ""
           }
          },
          "colorscale": {
           "diverging": [
            [
             0,
             "#8e0152"
            ],
            [
             0.1,
             "#c51b7d"
            ],
            [
             0.2,
             "#de77ae"
            ],
            [
             0.3,
             "#f1b6da"
            ],
            [
             0.4,
             "#fde0ef"
            ],
            [
             0.5,
             "#f7f7f7"
            ],
            [
             0.6,
             "#e6f5d0"
            ],
            [
             0.7,
             "#b8e186"
            ],
            [
             0.8,
             "#7fbc41"
            ],
            [
             0.9,
             "#4d9221"
            ],
            [
             1,
             "#276419"
            ]
           ],
           "sequential": [
            [
             0,
             "#0d0887"
            ],
            [
             0.1111111111111111,
             "#46039f"
            ],
            [
             0.2222222222222222,
             "#7201a8"
            ],
            [
             0.3333333333333333,
             "#9c179e"
            ],
            [
             0.4444444444444444,
             "#bd3786"
            ],
            [
             0.5555555555555556,
             "#d8576b"
            ],
            [
             0.6666666666666666,
             "#ed7953"
            ],
            [
             0.7777777777777778,
             "#fb9f3a"
            ],
            [
             0.8888888888888888,
             "#fdca26"
            ],
            [
             1,
             "#f0f921"
            ]
           ],
           "sequentialminus": [
            [
             0,
             "#0d0887"
            ],
            [
             0.1111111111111111,
             "#46039f"
            ],
            [
             0.2222222222222222,
             "#7201a8"
            ],
            [
             0.3333333333333333,
             "#9c179e"
            ],
            [
             0.4444444444444444,
             "#bd3786"
            ],
            [
             0.5555555555555556,
             "#d8576b"
            ],
            [
             0.6666666666666666,
             "#ed7953"
            ],
            [
             0.7777777777777778,
             "#fb9f3a"
            ],
            [
             0.8888888888888888,
             "#fdca26"
            ],
            [
             1,
             "#f0f921"
            ]
           ]
          },
          "colorway": [
           "#636efa",
           "#EF553B",
           "#00cc96",
           "#ab63fa",
           "#FFA15A",
           "#19d3f3",
           "#FF6692",
           "#B6E880",
           "#FF97FF",
           "#FECB52"
          ],
          "font": {
           "color": "#2a3f5f"
          },
          "geo": {
           "bgcolor": "white",
           "lakecolor": "white",
           "landcolor": "#E5ECF6",
           "showlakes": true,
           "showland": true,
           "subunitcolor": "white"
          },
          "hoverlabel": {
           "align": "left"
          },
          "hovermode": "closest",
          "mapbox": {
           "style": "light"
          },
          "paper_bgcolor": "white",
          "plot_bgcolor": "#E5ECF6",
          "polar": {
           "angularaxis": {
            "gridcolor": "white",
            "linecolor": "white",
            "ticks": ""
           },
           "bgcolor": "#E5ECF6",
           "radialaxis": {
            "gridcolor": "white",
            "linecolor": "white",
            "ticks": ""
           }
          },
          "scene": {
           "xaxis": {
            "backgroundcolor": "#E5ECF6",
            "gridcolor": "white",
            "gridwidth": 2,
            "linecolor": "white",
            "showbackground": true,
            "ticks": "",
            "zerolinecolor": "white"
           },
           "yaxis": {
            "backgroundcolor": "#E5ECF6",
            "gridcolor": "white",
            "gridwidth": 2,
            "linecolor": "white",
            "showbackground": true,
            "ticks": "",
            "zerolinecolor": "white"
           },
           "zaxis": {
            "backgroundcolor": "#E5ECF6",
            "gridcolor": "white",
            "gridwidth": 2,
            "linecolor": "white",
            "showbackground": true,
            "ticks": "",
            "zerolinecolor": "white"
           }
          },
          "shapedefaults": {
           "line": {
            "color": "#2a3f5f"
           }
          },
          "ternary": {
           "aaxis": {
            "gridcolor": "white",
            "linecolor": "white",
            "ticks": ""
           },
           "baxis": {
            "gridcolor": "white",
            "linecolor": "white",
            "ticks": ""
           },
           "bgcolor": "#E5ECF6",
           "caxis": {
            "gridcolor": "white",
            "linecolor": "white",
            "ticks": ""
           }
          },
          "title": {
           "x": 0.05
          },
          "xaxis": {
           "automargin": true,
           "gridcolor": "white",
           "linecolor": "white",
           "ticks": "",
           "title": {
            "standoff": 15
           },
           "zerolinecolor": "white",
           "zerolinewidth": 2
          },
          "yaxis": {
           "automargin": true,
           "gridcolor": "white",
           "linecolor": "white",
           "ticks": "",
           "title": {
            "standoff": 15
           },
           "zerolinecolor": "white",
           "zerolinewidth": 2
          }
         }
        },
        "yaxis": {
         "title": {
          "text": "RMSE"
         }
        }
       }
      },
      "text/html": [
       "<div>                            <div id=\"acae8313-8c52-415c-8a40-9af4ea6f18c9\" class=\"plotly-graph-div\" style=\"height:525px; width:100%;\"></div>            <script type=\"text/javascript\">                require([\"plotly\"], function(Plotly) {                    window.PLOTLYENV=window.PLOTLYENV || {};                                    if (document.getElementById(\"acae8313-8c52-415c-8a40-9af4ea6f18c9\")) {                    Plotly.newPlot(                        \"acae8313-8c52-415c-8a40-9af4ea6f18c9\",                        [{\"name\": \"Training RMSE\", \"type\": \"bar\", \"x\": [\"c\", \"c,d\", \"c,d,h\", \"c,d,h,w\", \"c,d,h,w,a\", \"c,d,h,w,a,m\", \"c,d,h,w,a,m,o\", \"c,d,h,w,a,m,o,n\", \"Ridge(alpha=0.5)\", \"RidgeN(alpha=0.5)\", \"RidgeN(alpha=10)\", \"RidgeN(alpha_best)\", \"RidgeCV\", \"LassoCV\"], \"y\": [4.888109236813688, 4.58757379901803, 4.525395490245242, 4.216877763288668, 4.213763450275894, 3.3799994809258984, 3.2488224012050075, 1.1387325899145662, 3.392024331152466, 1.373123418031404, 2.564035666808896, 1.7973226081520104, 1.7609475467569906, 2.6892966925168538]}, {\"name\": \"CV RMSE\", \"type\": \"bar\", \"x\": [\"c\", \"c,d\", \"c,d,h\", \"c,d,h,w\", \"c,d,h,w,a\", \"c,d,h,w,a,m\", \"c,d,h,w,a,m,o\", \"c,d,h,w,a,m,o,n\", \"Ridge(alpha=0.5)\", \"RidgeN(alpha=0.5)\", \"RidgeN(alpha=10)\", \"RidgeN(alpha_best)\", \"RidgeCV\", \"LassoCV\"], \"y\": [4.876661068256957, 4.579060426624026, 4.556808311664747, 4.252718625749385, 4.256844728700814, 3.455765706558678, 3.3323381513276, 3.728907195958174, 3.25010581041028, 3.0213246705432417, 3.123282652790834, 2.943652953670018, 2.9630429994257015, 3.096978371220981]}, {\"name\": \"Test RMSE\", \"opacity\": 0.3, \"type\": \"bar\", \"x\": [\"c\", \"c,d\", \"c,d,h\", \"c,d,h,w\", \"c,d,h,w,a\", \"c,d,h,w,a,m\", \"c,d,h,w,a,m,o\", \"c,d,h,w,a,m,o,n\", \"Ridge(alpha=0.5)\", \"RidgeN(alpha=0.5)\", \"RidgeN(alpha=10)\", \"RidgeN(alpha_best)\", \"RidgeCV\", \"LassoCV\"], \"y\": [5.055013548375552, 4.7661569898523695, 4.583861769980873, 4.325847816131029, 4.34988869276913, 3.550828171640195, 3.3746613014711664, 3.5070461515876894, 3.4637255340236033, 3.539107473763192, 3.372074009903793, 3.4729798853311737, 3.4751204469174817, 3.429568506864625]}],                        {\"template\": {\"data\": {\"bar\": [{\"error_x\": {\"color\": \"#2a3f5f\"}, \"error_y\": {\"color\": \"#2a3f5f\"}, \"marker\": {\"line\": {\"color\": \"#E5ECF6\", \"width\": 0.5}}, \"type\": \"bar\"}], \"barpolar\": [{\"marker\": {\"line\": {\"color\": \"#E5ECF6\", \"width\": 0.5}}, \"type\": \"barpolar\"}], \"carpet\": [{\"aaxis\": {\"endlinecolor\": \"#2a3f5f\", \"gridcolor\": \"white\", \"linecolor\": \"white\", \"minorgridcolor\": \"white\", \"startlinecolor\": \"#2a3f5f\"}, \"baxis\": {\"endlinecolor\": \"#2a3f5f\", \"gridcolor\": \"white\", \"linecolor\": \"white\", \"minorgridcolor\": \"white\", \"startlinecolor\": \"#2a3f5f\"}, \"type\": \"carpet\"}], \"choropleth\": [{\"colorbar\": {\"outlinewidth\": 0, \"ticks\": \"\"}, \"type\": \"choropleth\"}], \"contour\": [{\"colorbar\": {\"outlinewidth\": 0, \"ticks\": \"\"}, \"colorscale\": [[0.0, \"#0d0887\"], [0.1111111111111111, \"#46039f\"], [0.2222222222222222, \"#7201a8\"], [0.3333333333333333, \"#9c179e\"], [0.4444444444444444, \"#bd3786\"], [0.5555555555555556, \"#d8576b\"], [0.6666666666666666, \"#ed7953\"], [0.7777777777777778, \"#fb9f3a\"], [0.8888888888888888, \"#fdca26\"], [1.0, \"#f0f921\"]], \"type\": \"contour\"}], \"contourcarpet\": [{\"colorbar\": {\"outlinewidth\": 0, \"ticks\": \"\"}, \"type\": \"contourcarpet\"}], \"heatmap\": [{\"colorbar\": {\"outlinewidth\": 0, \"ticks\": \"\"}, \"colorscale\": [[0.0, \"#0d0887\"], [0.1111111111111111, \"#46039f\"], [0.2222222222222222, \"#7201a8\"], [0.3333333333333333, \"#9c179e\"], [0.4444444444444444, \"#bd3786\"], [0.5555555555555556, \"#d8576b\"], [0.6666666666666666, \"#ed7953\"], [0.7777777777777778, \"#fb9f3a\"], [0.8888888888888888, \"#fdca26\"], [1.0, \"#f0f921\"]], \"type\": \"heatmap\"}], \"heatmapgl\": [{\"colorbar\": {\"outlinewidth\": 0, \"ticks\": \"\"}, \"colorscale\": [[0.0, \"#0d0887\"], [0.1111111111111111, \"#46039f\"], [0.2222222222222222, \"#7201a8\"], [0.3333333333333333, \"#9c179e\"], [0.4444444444444444, \"#bd3786\"], [0.5555555555555556, \"#d8576b\"], [0.6666666666666666, \"#ed7953\"], [0.7777777777777778, \"#fb9f3a\"], [0.8888888888888888, \"#fdca26\"], [1.0, \"#f0f921\"]], \"type\": \"heatmapgl\"}], \"histogram\": [{\"marker\": {\"colorbar\": {\"outlinewidth\": 0, \"ticks\": \"\"}}, \"type\": \"histogram\"}], \"histogram2d\": [{\"colorbar\": {\"outlinewidth\": 0, \"ticks\": \"\"}, \"colorscale\": [[0.0, \"#0d0887\"], [0.1111111111111111, \"#46039f\"], [0.2222222222222222, \"#7201a8\"], [0.3333333333333333, \"#9c179e\"], [0.4444444444444444, \"#bd3786\"], [0.5555555555555556, \"#d8576b\"], [0.6666666666666666, \"#ed7953\"], [0.7777777777777778, \"#fb9f3a\"], [0.8888888888888888, \"#fdca26\"], [1.0, \"#f0f921\"]], \"type\": \"histogram2d\"}], \"histogram2dcontour\": [{\"colorbar\": {\"outlinewidth\": 0, \"ticks\": \"\"}, \"colorscale\": [[0.0, \"#0d0887\"], [0.1111111111111111, \"#46039f\"], [0.2222222222222222, \"#7201a8\"], [0.3333333333333333, \"#9c179e\"], [0.4444444444444444, \"#bd3786\"], [0.5555555555555556, \"#d8576b\"], [0.6666666666666666, \"#ed7953\"], [0.7777777777777778, \"#fb9f3a\"], [0.8888888888888888, \"#fdca26\"], [1.0, \"#f0f921\"]], \"type\": \"histogram2dcontour\"}], \"mesh3d\": [{\"colorbar\": {\"outlinewidth\": 0, \"ticks\": \"\"}, \"type\": \"mesh3d\"}], \"parcoords\": [{\"line\": {\"colorbar\": {\"outlinewidth\": 0, \"ticks\": \"\"}}, \"type\": \"parcoords\"}], \"pie\": [{\"automargin\": true, \"type\": \"pie\"}], \"scatter\": [{\"marker\": {\"colorbar\": {\"outlinewidth\": 0, \"ticks\": \"\"}}, \"type\": \"scatter\"}], \"scatter3d\": [{\"line\": {\"colorbar\": {\"outlinewidth\": 0, \"ticks\": \"\"}}, \"marker\": {\"colorbar\": {\"outlinewidth\": 0, \"ticks\": \"\"}}, \"type\": \"scatter3d\"}], \"scattercarpet\": [{\"marker\": {\"colorbar\": {\"outlinewidth\": 0, \"ticks\": \"\"}}, \"type\": \"scattercarpet\"}], \"scattergeo\": [{\"marker\": {\"colorbar\": {\"outlinewidth\": 0, \"ticks\": \"\"}}, \"type\": \"scattergeo\"}], \"scattergl\": [{\"marker\": {\"colorbar\": {\"outlinewidth\": 0, \"ticks\": \"\"}}, \"type\": \"scattergl\"}], \"scattermapbox\": [{\"marker\": {\"colorbar\": {\"outlinewidth\": 0, \"ticks\": \"\"}}, \"type\": \"scattermapbox\"}], \"scatterpolar\": [{\"marker\": {\"colorbar\": {\"outlinewidth\": 0, \"ticks\": \"\"}}, \"type\": \"scatterpolar\"}], \"scatterpolargl\": [{\"marker\": {\"colorbar\": {\"outlinewidth\": 0, \"ticks\": \"\"}}, \"type\": \"scatterpolargl\"}], \"scatterternary\": [{\"marker\": {\"colorbar\": {\"outlinewidth\": 0, \"ticks\": \"\"}}, \"type\": \"scatterternary\"}], \"surface\": [{\"colorbar\": {\"outlinewidth\": 0, \"ticks\": \"\"}, \"colorscale\": [[0.0, \"#0d0887\"], [0.1111111111111111, \"#46039f\"], [0.2222222222222222, \"#7201a8\"], [0.3333333333333333, \"#9c179e\"], [0.4444444444444444, \"#bd3786\"], [0.5555555555555556, \"#d8576b\"], [0.6666666666666666, \"#ed7953\"], [0.7777777777777778, \"#fb9f3a\"], [0.8888888888888888, \"#fdca26\"], [1.0, \"#f0f921\"]], \"type\": \"surface\"}], \"table\": [{\"cells\": {\"fill\": {\"color\": \"#EBF0F8\"}, \"line\": {\"color\": \"white\"}}, \"header\": {\"fill\": {\"color\": \"#C8D4E3\"}, \"line\": {\"color\": \"white\"}}, \"type\": \"table\"}]}, \"layout\": {\"annotationdefaults\": {\"arrowcolor\": \"#2a3f5f\", \"arrowhead\": 0, \"arrowwidth\": 1}, \"autotypenumbers\": \"strict\", \"coloraxis\": {\"colorbar\": {\"outlinewidth\": 0, \"ticks\": \"\"}}, \"colorscale\": {\"diverging\": [[0, \"#8e0152\"], [0.1, \"#c51b7d\"], [0.2, \"#de77ae\"], [0.3, \"#f1b6da\"], [0.4, \"#fde0ef\"], [0.5, \"#f7f7f7\"], [0.6, \"#e6f5d0\"], [0.7, \"#b8e186\"], [0.8, \"#7fbc41\"], [0.9, \"#4d9221\"], [1, \"#276419\"]], \"sequential\": [[0.0, \"#0d0887\"], [0.1111111111111111, \"#46039f\"], [0.2222222222222222, \"#7201a8\"], [0.3333333333333333, \"#9c179e\"], [0.4444444444444444, \"#bd3786\"], [0.5555555555555556, \"#d8576b\"], [0.6666666666666666, \"#ed7953\"], [0.7777777777777778, \"#fb9f3a\"], [0.8888888888888888, \"#fdca26\"], [1.0, \"#f0f921\"]], \"sequentialminus\": [[0.0, \"#0d0887\"], [0.1111111111111111, \"#46039f\"], [0.2222222222222222, \"#7201a8\"], [0.3333333333333333, \"#9c179e\"], [0.4444444444444444, \"#bd3786\"], [0.5555555555555556, \"#d8576b\"], [0.6666666666666666, \"#ed7953\"], [0.7777777777777778, \"#fb9f3a\"], [0.8888888888888888, \"#fdca26\"], [1.0, \"#f0f921\"]]}, \"colorway\": [\"#636efa\", \"#EF553B\", \"#00cc96\", \"#ab63fa\", \"#FFA15A\", \"#19d3f3\", \"#FF6692\", \"#B6E880\", \"#FF97FF\", \"#FECB52\"], \"font\": {\"color\": \"#2a3f5f\"}, \"geo\": {\"bgcolor\": \"white\", \"lakecolor\": \"white\", \"landcolor\": \"#E5ECF6\", \"showlakes\": true, \"showland\": true, \"subunitcolor\": \"white\"}, \"hoverlabel\": {\"align\": \"left\"}, \"hovermode\": \"closest\", \"mapbox\": {\"style\": \"light\"}, \"paper_bgcolor\": \"white\", \"plot_bgcolor\": \"#E5ECF6\", \"polar\": {\"angularaxis\": {\"gridcolor\": \"white\", \"linecolor\": \"white\", \"ticks\": \"\"}, \"bgcolor\": \"#E5ECF6\", \"radialaxis\": {\"gridcolor\": \"white\", \"linecolor\": \"white\", \"ticks\": \"\"}}, \"scene\": {\"xaxis\": {\"backgroundcolor\": \"#E5ECF6\", \"gridcolor\": \"white\", \"gridwidth\": 2, \"linecolor\": \"white\", \"showbackground\": true, \"ticks\": \"\", \"zerolinecolor\": \"white\"}, \"yaxis\": {\"backgroundcolor\": \"#E5ECF6\", \"gridcolor\": \"white\", \"gridwidth\": 2, \"linecolor\": \"white\", \"showbackground\": true, \"ticks\": \"\", \"zerolinecolor\": \"white\"}, \"zaxis\": {\"backgroundcolor\": \"#E5ECF6\", \"gridcolor\": \"white\", \"gridwidth\": 2, \"linecolor\": \"white\", \"showbackground\": true, \"ticks\": \"\", \"zerolinecolor\": \"white\"}}, \"shapedefaults\": {\"line\": {\"color\": \"#2a3f5f\"}}, \"ternary\": {\"aaxis\": {\"gridcolor\": \"white\", \"linecolor\": \"white\", \"ticks\": \"\"}, \"baxis\": {\"gridcolor\": \"white\", \"linecolor\": \"white\", \"ticks\": \"\"}, \"bgcolor\": \"#E5ECF6\", \"caxis\": {\"gridcolor\": \"white\", \"linecolor\": \"white\", \"ticks\": \"\"}}, \"title\": {\"x\": 0.05}, \"xaxis\": {\"automargin\": true, \"gridcolor\": \"white\", \"linecolor\": \"white\", \"ticks\": \"\", \"title\": {\"standoff\": 15}, \"zerolinecolor\": \"white\", \"zerolinewidth\": 2}, \"yaxis\": {\"automargin\": true, \"gridcolor\": \"white\", \"linecolor\": \"white\", \"ticks\": \"\", \"title\": {\"standoff\": 15}, \"zerolinecolor\": \"white\", \"zerolinewidth\": 2}}}, \"yaxis\": {\"title\": {\"text\": \"RMSE\"}}},                        {\"responsive\": true}                    ).then(function(){\n",
       "                            \n",
       "var gd = document.getElementById('acae8313-8c52-415c-8a40-9af4ea6f18c9');\n",
       "var x = new MutationObserver(function (mutations, observer) {{\n",
       "        var display = window.getComputedStyle(gd).display;\n",
       "        if (!display || display === 'none') {{\n",
       "            console.log([gd, 'removed!']);\n",
       "            Plotly.purge(gd);\n",
       "            observer.disconnect();\n",
       "        }}\n",
       "}});\n",
       "\n",
       "// Listen for the removal of the full notebook cells\n",
       "var notebookContainer = gd.closest('#notebook-container');\n",
       "if (notebookContainer) {{\n",
       "    x.observe(notebookContainer, {childList: true});\n",
       "}}\n",
       "\n",
       "// Listen for the clearing of the current output cell\n",
       "var outputEl = gd.closest('.output');\n",
       "if (outputEl) {{\n",
       "    x.observe(outputEl, {childList: true});\n",
       "}}\n",
       "\n",
       "                        })                };                });            </script>        </div>"
      ]
     },
     "metadata": {},
     "output_type": "display_data"
    }
   ],
   "source": [
    "lasso_model.fit(tr, tr['mpg'])\n",
    "models[\"LassoCV\"] = lasso_model\n",
    "compare_models(models)"
   ]
  },
  {
   "cell_type": "markdown",
   "metadata": {},
   "source": [
    "We can examine the distribution of model coefficients to see that Lasso is selecting only a few of the features to use in it's predictions:"
   ]
  },
  {
   "cell_type": "code",
   "execution_count": 43,
   "metadata": {},
   "outputs": [
    {
     "data": {
      "application/vnd.plotly.v1+json": {
       "config": {
        "plotlyServerURL": "https://plot.ly"
       },
       "data": [
        {
         "autobinx": false,
         "histnorm": "probability density",
         "legendgroup": "Lasso",
         "marker": {
          "color": "rgb(31, 119, 180)"
         },
         "name": "Lasso",
         "opacity": 0.7,
         "type": "histogram",
         "x": [
          -0.2988645822136683,
          0.3408157190759778,
          0,
          -5.0775858518346,
          -0.011546218132248353,
          2.50475330358318,
          0,
          0,
          -1.2254666741348454,
          0,
          0,
          0,
          0,
          0,
          0,
          0.8911508709272506,
          0,
          0,
          0,
          0,
          0,
          0,
          0.48261306316596353,
          0,
          0,
          0,
          0,
          0,
          0,
          0.29259736827072497,
          0,
          0,
          0,
          0,
          0,
          0,
          0,
          0,
          0,
          0,
          0,
          0,
          0,
          0,
          0,
          0,
          0,
          0,
          0,
          0,
          0,
          0,
          0,
          0,
          0,
          0,
          0,
          0,
          0,
          0,
          -0.8137493295508568,
          0,
          0,
          0,
          0,
          0,
          0,
          0,
          0,
          0,
          0,
          0,
          0,
          0,
          0,
          0,
          0,
          0,
          0,
          0,
          0,
          0,
          0,
          0,
          0,
          0,
          0,
          0,
          0,
          0,
          0,
          0,
          0.857715591775868,
          0,
          0,
          1.1721102608593408,
          0,
          0,
          0.2887092608544712,
          0,
          0,
          0,
          0,
          0,
          0,
          0,
          0.20926544012577397,
          0,
          0,
          0,
          0,
          0,
          0,
          1.5557826281399485,
          0,
          0,
          5.60868688487343,
          0,
          0,
          0,
          0,
          0,
          0,
          0,
          0,
          0,
          0,
          0,
          0,
          0,
          0,
          -0.5834694165847317,
          0,
          0,
          0,
          0,
          0,
          0,
          0,
          0,
          0,
          0,
          0,
          0,
          0,
          0,
          0,
          0,
          0.5677323661704804,
          0,
          1.6083497158913294,
          1.1672531907630226,
          0,
          -0.6403255347633285,
          0,
          0,
          0,
          0,
          0,
          0,
          0,
          0,
          0,
          0,
          0,
          0,
          0,
          0,
          0,
          0,
          0,
          0,
          0,
          0,
          0,
          0,
          0,
          0,
          -0.40210406095102963,
          0,
          0,
          0,
          0,
          0,
          0,
          0,
          0,
          0,
          0,
          0,
          0,
          0,
          0,
          0,
          0,
          0,
          0,
          0,
          0,
          0,
          0,
          0,
          0,
          0.7072730612261542,
          1.6226804361881382,
          0,
          0,
          0,
          0.4051983255690641,
          0,
          0,
          0,
          0,
          0,
          0,
          1.224714232790628,
          0,
          0,
          -1.1811727255510334,
          -0.003019012500058569,
          0,
          0,
          0,
          0,
          0,
          0,
          0,
          0,
          0,
          0,
          0,
          0,
          0,
          0,
          0,
          0,
          0,
          0,
          0,
          0,
          0,
          0,
          0,
          0,
          0,
          0.19289042452120514,
          0,
          0,
          0,
          0.953787565634395,
          0,
          0,
          0,
          0,
          0,
          0,
          0,
          0,
          0,
          0,
          0,
          0,
          0,
          0,
          6.58090326308205,
          0,
          0,
          0,
          0,
          0
         ],
         "xaxis": "x",
         "xbins": {
          "end": 6.58090326308205,
          "size": 0.1,
          "start": -5.0775858518346
         },
         "yaxis": "y"
        },
        {
         "autobinx": false,
         "histnorm": "probability density",
         "legendgroup": "Ridge",
         "marker": {
          "color": "rgb(255, 127, 14)"
         },
         "name": "Ridge",
         "opacity": 0.7,
         "type": "histogram",
         "x": [
          -1.1129087993445883,
          0.8294144662534814,
          -0.5787984166623268,
          -4.491722023112541,
          -0.32314439645022025,
          2.5528447785053894,
          0.6441174358231824,
          0.1409552018903455,
          -0.7850726377135705,
          0.7655534592397848,
          0.3566834587710539,
          -1.5694262616057055,
          0.26227557067205787,
          -0.25740342390755994,
          -0.7824098482842321,
          2.593492116092447,
          0.5606042947988271,
          -0.45173420352267224,
          -1.2515177116236575,
          -1.2566996189796298,
          -0.8399631100452208,
          -0.9115025384574141,
          2.4240448138352138,
          0.5895441677219551,
          -1.0812932141466685,
          -1.707804185321797,
          -0.14992684171099205,
          0.8871041754357937,
          0.6283527413632991,
          1.8381784632119191,
          0.505301827698737,
          1.8475439808285323,
          1.166041725122704,
          -0.2943188274364649,
          -0.8460284506774254,
          -1.17439061990725,
          0.3875825329008674,
          1.5379256032546271,
          0.7316435087966041,
          -1.8849743338030243,
          -0.3803906278167402,
          -0.08497089850913538,
          1.2408957059769552,
          -0.675384692841842,
          0.9156462926385307,
          1.3807542463331037,
          -1.8741582993187103,
          -0.3036013953089616,
          -1.042495473341123,
          1.4179918699990184,
          -1.7072056935387103,
          1.5472728948676222,
          -0.12272100040557254,
          -1.5950573585055334,
          0.15378752892536862,
          -1.5158020234452823,
          0.35757369273879896,
          0.030330024715052306,
          0.5305137448732574,
          0.5063646604902491,
          -1.3044749851614323,
          -0.9238000638359798,
          -0.8593459950759047,
          -0.8880271347939686,
          -0.6393546630439428,
          -0.21638696058562756,
          0.5305137448732574,
          0.3792336381163214,
          -0.9978701583672306,
          0.24931731321912154,
          0.05756227228095029,
          -1.2397454075267071,
          1.2780601949512265,
          -0.10863399808951586,
          -0.2107793401258337,
          -0.29120046811213984,
          -1.8319505334685862,
          -0.0491844382766743,
          1.3319810228349425,
          0.38011871476704684,
          -0.5547483724494815,
          -0.4773991991057913,
          -0.01885776832652764,
          2.083607641950495,
          0.5019017353092347,
          1.164826212690337,
          -0.33267410582722473,
          -0.567485799705859,
          -0.21335053062725162,
          -0.37947358391757136,
          1.5669198703543192,
          -1.252227865051903,
          1.4733934612819577,
          0.2950302432708869,
          -0.3911697100304558,
          1.9506134740652192,
          -1.3039572485580653,
          -0.2646141027048185,
          1.1745371841278254,
          0.7332049553669773,
          0.40787226982268265,
          -0.0700409608238554,
          0.9641079920298492,
          -0.7510364354348971,
          -0.5507022164536642,
          -0.3803906278167402,
          0.5946382945523817,
          1.1556929985029658,
          0.24728461617888295,
          -1.5282662275837136,
          0.8294023660848131,
          -1.0524652240917058,
          0.16304731435801156,
          1.4641369891508034,
          0.15378752892536862,
          1.6818403861386555,
          5.35292213997846,
          0.18684346159249685,
          0.4889378708015054,
          -0.4506482465367655,
          1.3891756534311026,
          0.8580076675687974,
          0.3088028358131526,
          0.941772667175591,
          0.505301827698737,
          0.9156462926385307,
          0.2797000658723828,
          1.0463882598360845,
          -1.3612332448929134,
          0.6049897975119967,
          -0.06543314271059848,
          -1.0108996225873643,
          0.9579782613824382,
          0.7252543780891754,
          -1.36912889251583,
          1.3807542463331037,
          0.7257446567852908,
          1.601511601852474,
          -0.13594760851282506,
          0.33530494141182837,
          -1.4934173404774074,
          0.6746094015060963,
          -0.37106434897488283,
          -1.3037552248843616,
          -0.5547483724494815,
          1.140173148544466,
          0.7316435087966041,
          -0.770448536941292,
          1.3090641217710295,
          0.5606042947988271,
          1.5022066465158836,
          2.0043866121608263,
          -0.157320582947848,
          -1.188042408518884,
          0.6165824461465597,
          0.8794436105113232,
          0.1835059416839746,
          -0.6227415537368399,
          0.5190881755161992,
          -0.8512030334430355,
          -1.5624517801768787,
          1.7557378683622409,
          0.4721882153098292,
          -1.7470268311650106,
          -0.44389495120086075,
          -0.8351537643913647,
          0.3566834587710539,
          0.7145994336929551,
          0.5244451833779368,
          -0.8487825870092854,
          1.6538498614795787,
          -0.0397159499033653,
          -0.6578821407405817,
          0.38700835217415674,
          -1.0429267048069075,
          0.3960769123294702,
          0.32567600803492003,
          -1.0696500851663928,
          -2.498700474833537,
          -0.9746776732691993,
          0.3792336381163214,
          -0.5709870751505297,
          0.26227557067205787,
          -0.24695538881781598,
          -1.1473221196669579,
          -0.0491844382766743,
          0.23989386642114122,
          0.3184997323551943,
          -1.0629697147961479,
          0.6701186728270856,
          0.5128595234322217,
          0.6320329944543434,
          -1.1731659078568264,
          0.03952824119736942,
          -1.269952286230965,
          0.856571680748048,
          -0.8977872724626939,
          -0.970811622594322,
          0.19182873460454308,
          0.2336292575061032,
          2.2692899025029476,
          -1.2140561129121825,
          0.3471374217527889,
          0.550260261431842,
          1.2058020229635973,
          -0.0015168394811260828,
          -0.781708068303815,
          0.003485678210227272,
          2.042015376089941,
          0.1869271089993554,
          -0.12300009092951442,
          0.36814325094283523,
          -0.400386090162596,
          -0.1994719902143675,
          -1.1465289568914978,
          1.4463457173647998,
          0.5128595234322217,
          0.15378752892536862,
          -2.3860029596239967,
          -2.498700474833537,
          -1.1582283307064833,
          1.4479555874952368,
          -1.86257359000279,
          -1.2420327374696614,
          -0.04068580996707902,
          0.4388487477202534,
          -0.1454890137238287,
          -0.3416944929343938,
          0.3362875277756355,
          -0.536228433962193,
          -0.3035575716149484,
          -0.2017909174006377,
          -0.3834299342077194,
          0.29849489844568233,
          -0.16419004276161603,
          -0.32853661451042604,
          -0.1378956100651927,
          1.1217152075846775,
          -0.1994719902143675,
          0.6320329944543434,
          1.644825182046553,
          0.5175894427157657,
          0.35953353010235417,
          -0.5868463926732811,
          -0.21638696058562756,
          0.6037975663441016,
          -1.707804185321797,
          -0.6879302509236522,
          0.6495738899163058,
          2.80363827927704,
          1.2247078451683402,
          -0.11110506202544211,
          -0.4378103785779063,
          -0.06382234426580813,
          -1.4428815635037189,
          -0.39966796238423774,
          -0.4139565225914571,
          -0.781708068303815,
          -0.7649194839950699,
          -0.2980471339637317,
          -0.536228433962193,
          -1.3567671205441134,
          -1.2381446354937489,
          -1.559734913180014,
          4.945017934913639,
          -1.099472133209868,
          0.6634165306117736,
          0.592317044550978,
          0.6701186728270856,
          -0.8396674041663161
         ],
         "xaxis": "x",
         "xbins": {
          "end": 5.35292213997846,
          "size": 0.1,
          "start": -4.491722023112541
         },
         "yaxis": "y"
        },
        {
         "legendgroup": "Lasso",
         "marker": {
          "color": "rgb(31, 119, 180)"
         },
         "mode": "lines",
         "name": "Lasso",
         "showlegend": false,
         "type": "scatter",
         "x": [
          -5.0775858518346,
          -5.054268873604767,
          -5.030951895374933,
          -5.007634917145101,
          -4.984317938915267,
          -4.961000960685434,
          -4.9376839824556,
          -4.914367004225767,
          -4.891050025995934,
          -4.867733047766101,
          -4.844416069536267,
          -4.821099091306434,
          -4.7977821130766,
          -4.774465134846768,
          -4.751148156616934,
          -4.727831178387101,
          -4.704514200157267,
          -4.681197221927434,
          -4.657880243697601,
          -4.634563265467768,
          -4.611246287237934,
          -4.587929309008101,
          -4.564612330778267,
          -4.541295352548435,
          -4.517978374318601,
          -4.494661396088768,
          -4.471344417858934,
          -4.448027439629101,
          -4.424710461399268,
          -4.401393483169435,
          -4.378076504939601,
          -4.354759526709768,
          -4.331442548479934,
          -4.308125570250101,
          -4.284808592020268,
          -4.261491613790435,
          -4.238174635560601,
          -4.214857657330768,
          -4.191540679100935,
          -4.168223700871102,
          -4.144906722641268,
          -4.121589744411435,
          -4.098272766181601,
          -4.074955787951769,
          -4.0516388097219345,
          -4.028321831492102,
          -4.005004853262268,
          -3.981687875032435,
          -3.9583708968026015,
          -3.9350539185727684,
          -3.9117369403429354,
          -3.888419962113102,
          -3.8651029838832685,
          -3.8417860056534354,
          -3.8184690274236024,
          -3.795152049193769,
          -3.7718350709639354,
          -3.748518092734102,
          -3.725201114504269,
          -3.7018841362744355,
          -3.6785671580446024,
          -3.655250179814769,
          -3.6319332015849355,
          -3.608616223355102,
          -3.585299245125269,
          -3.561982266895436,
          -3.5386652886656025,
          -3.515348310435769,
          -3.4920313322059355,
          -3.4687143539761025,
          -3.445397375746269,
          -3.422080397516436,
          -3.3987634192866025,
          -3.3754464410567695,
          -3.352129462826936,
          -3.328812484597103,
          -3.3054955063672695,
          -3.282178528137436,
          -3.2588615499076026,
          -3.2355445716777695,
          -3.2122275934479365,
          -3.188910615218103,
          -3.1655936369882696,
          -3.142276658758436,
          -3.118959680528603,
          -3.0956427022987696,
          -3.0723257240689366,
          -3.049008745839103,
          -3.0256917676092696,
          -3.0023747893794366,
          -2.979057811149603,
          -2.95574083291977,
          -2.9324238546899366,
          -2.9091068764601036,
          -2.88578989823027,
          -2.8624729200004366,
          -2.839155941770603,
          -2.81583896354077,
          -2.7925219853109366,
          -2.7692050070811036,
          -2.74588802885127,
          -2.722571050621437,
          -2.6992540723916036,
          -2.67593709416177,
          -2.652620115931937,
          -2.6293031377021037,
          -2.6059861594722706,
          -2.582669181242437,
          -2.559352203012604,
          -2.5360352247827707,
          -2.512718246552937,
          -2.4894012683231037,
          -2.4660842900932707,
          -2.442767311863437,
          -2.419450333633604,
          -2.3961333554037707,
          -2.3728163771739377,
          -2.3494993989441038,
          -2.3261824207142707,
          -2.3028654424844373,
          -2.2795484642546042,
          -2.256231486024771,
          -2.2329145077949377,
          -2.2095975295651047,
          -2.186280551335271,
          -2.1629635731054377,
          -2.1396465948756043,
          -2.1163296166457712,
          -2.0930126384159378,
          -2.0696956601861047,
          -2.0463786819562713,
          -2.0230617037264382,
          -1.9997447254966043,
          -1.9764277472667713,
          -1.9531107690369378,
          -1.9297937908071048,
          -1.9064768125772713,
          -1.8831598343474383,
          -1.8598428561176048,
          -1.8365258778877718,
          -1.8132088996579379,
          -1.7898919214281048,
          -1.7665749431982718,
          -1.7432579649684383,
          -1.7199409867386053,
          -1.6966240085087718,
          -1.6733070302789388,
          -1.6499900520491049,
          -1.6266730738192718,
          -1.6033560955894384,
          -1.5800391173596053,
          -1.5567221391297719,
          -1.5334051608999388,
          -1.5100881826701054,
          -1.4867712044402723,
          -1.4634542262104384,
          -1.4401372479806054,
          -1.416820269750772,
          -1.3935032915209389,
          -1.3701863132911054,
          -1.3468693350612724,
          -1.3235523568314393,
          -1.3002353786016054,
          -1.2769184003717724,
          -1.253601422141939,
          -1.230284443912106,
          -1.2069674656822724,
          -1.1836504874524394,
          -1.160333509222606,
          -1.137016530992773,
          -1.113699552762939,
          -1.090382574533106,
          -1.067065596303273,
          -1.0437486180734394,
          -1.020431639843606,
          -0.9971146616137725,
          -0.973797683383939,
          -0.9504807051541064,
          -0.927163726924273,
          -0.9038467486944395,
          -0.880529770464606,
          -0.8572127922347725,
          -0.83389581400494,
          -0.8105788357751065,
          -0.787261857545273,
          -0.7639448793154395,
          -0.7406279010856069,
          -0.7173109228557735,
          -0.69399394462594,
          -0.6706769663961065,
          -0.647359988166273,
          -0.6240430099364405,
          -0.6007260317066061,
          -0.5774090534767735,
          -0.55409207524694,
          -0.5307750970171075,
          -0.5074581187872731,
          -0.4841411405574396,
          -0.46082416232760703,
          -0.43750718409777356,
          -0.4141902058679401,
          -0.3908732276381066,
          -0.367556249408274,
          -0.34423927117844055,
          -0.3209222929486071,
          -0.2976053147187736,
          -0.27428833648894013,
          -0.25097135825910755,
          -0.22765438002927407,
          -0.2043374017994406,
          -0.18102042356960713,
          -0.15770344533977365,
          -0.13438646710994107,
          -0.1110694888801067,
          -0.08775251065027412,
          -0.06443553242044064,
          -0.04111855419060806,
          -0.017801575960773697,
          0.005515402269058889,
          0.028832380498892363,
          0.052149358728725836,
          0.07546633695855931,
          0.09878331518839278,
          0.12210029341822537,
          0.14541727164805884,
          0.16873424987789143,
          0.1920512281077258,
          0.21536820633755926,
          0.23868518456739185,
          0.2620021627972253,
          0.2853191410270588,
          0.30863611925689227,
          0.33195309748672486,
          0.35527007571655833,
          0.3785870539463927,
          0.4019040321762253,
          0.42522101040605875,
          0.44853798863589134,
          0.4718549668657257,
          0.4951719450955583,
          0.5184889233253918,
          0.5418059015552252,
          0.5651228797850578,
          0.5884398580148922,
          0.6117568362447248,
          0.6350738144745582,
          0.6583907927043908,
          0.6817077709342252,
          0.7050247491640578,
          0.7283417273938912,
          0.7516587056237247,
          0.7749756838535582,
          0.7982926620833917,
          0.8216096403132243,
          0.8449266185430577,
          0.8682435967728912,
          0.8915605750027247,
          0.9148775532325581,
          0.9381945314623907,
          0.9615115096922251,
          0.9848284879220577,
          1.0081454661518912,
          1.0314624443817237,
          1.0547794226115572,
          1.0780964008413916,
          1.1014133790712242,
          1.1247303573010576,
          1.1480473355308902,
          1.1713643137607246,
          1.1946812919905572,
          1.2179982702203906,
          1.2413152484502232,
          1.2646322266800576,
          1.287949204909891,
          1.3112661831397237,
          1.3345831613695571,
          1.3579001395993906,
          1.381217117829224,
          1.4045340960590567,
          1.4278510742888901,
          1.4511680525187245,
          1.474485030748557,
          1.4978020089783906,
          1.5211189872082231,
          1.5444359654380566,
          1.56775294366789,
          1.5910699218977236,
          1.614386900127557,
          1.6377038783573896,
          1.661020856587224,
          1.6843378348170566,
          1.70765481304689,
          1.7309717912767226,
          1.754288769506557,
          1.7776057477363905,
          1.800922725966223,
          1.8242397041960565,
          1.84755668242589,
          1.8708736606557235,
          1.894190638885556,
          1.9175076171153895,
          1.940824595345223,
          1.9641415735750565,
          1.98745855180489,
          2.0107755300347225,
          2.034092508264556,
          2.0574094864943895,
          2.080726464724223,
          2.1040434429540555,
          2.127360421183889,
          2.1506773994137234,
          2.173994377643556,
          2.1973113558733894,
          2.220628334103222,
          2.2439453123330564,
          2.267262290562889,
          2.2905792687927224,
          2.313896247022556,
          2.3372132252523894,
          2.360530203482223,
          2.3838471817120555,
          2.407164159941889,
          2.4304811381717215,
          2.453798116401556,
          2.4771150946313893,
          2.500432072861222,
          2.5237490510910554,
          2.547066029320889,
          2.5703830075507224,
          2.593699985780555,
          2.6170169640103884,
          2.640333942240222,
          2.6636509204700554,
          2.686967898699889,
          2.7102848769297214,
          2.733601855159556,
          2.7569188333893884,
          2.780235811619222,
          2.8035527898490544,
          2.826869768078889,
          2.8501867463087223,
          2.873503724538555,
          2.8968207027683883,
          2.920137680998221,
          2.9434546592280544,
          2.966771637457887,
          2.9900886156877213,
          3.0134055939175557,
          3.0367225721473883,
          3.060039550377221,
          3.0833565286070552,
          3.106673506836888,
          3.129990485066722,
          3.153307463296553,
          3.1766244415263873,
          3.1999414197562217,
          3.2232583979860543,
          3.2465753762158887,
          3.2698923544457212,
          3.293209332675554,
          3.316526310905388,
          3.3398432891352208,
          3.363160267365055,
          3.3864772455948877,
          3.4097942238247203,
          3.4331112020545547,
          3.4564281802843873,
          3.47974515851422,
          3.503062136744054,
          3.526379114973887,
          3.549696093203721,
          3.5730130714335555,
          3.5963300496633863,
          3.6196470278932207,
          3.6429640061230533,
          3.6662809843528876,
          3.68959796258272,
          3.712914940812553,
          3.736231919042387,
          3.7595488972722215,
          3.782865875502054,
          3.8061828537318867,
          3.8294998319617193,
          3.8528168101915536,
          3.876133788421388,
          3.8994507666512206,
          3.922767744881053,
          3.9460847231108858,
          3.96940170134072,
          3.9927186795705545,
          4.016035657800385,
          4.03935263603022,
          4.062669614260054,
          4.085986592489887,
          4.109303570719721,
          4.132620548949552,
          4.155937527179386,
          4.1792545054092205,
          4.202571483639053,
          4.225888461868886,
          4.24920544009872,
          4.272522418328553,
          4.295839396558387,
          4.31915637478822,
          4.342473353018052,
          4.3657903312478865,
          4.389107309477719,
          4.4124242877075535,
          4.435741265937386,
          4.459058244167219,
          4.482375222397053,
          4.505692200626886,
          4.52900917885672,
          4.5523261570865525,
          4.575643135316385,
          4.5989601135462195,
          4.622277091776052,
          4.645594070005886,
          4.668911048235719,
          4.692228026465552,
          4.715545004695386,
          4.73886198292522,
          4.762178961155053,
          4.7854959393848855,
          4.808812917614718,
          4.832129895844552,
          4.855446874074387,
          4.878763852304218,
          4.902080830534052,
          4.9253978087638846,
          4.948714786993719,
          4.972031765223553,
          4.995348743453384,
          5.0186657216832185,
          5.041982699913053,
          5.065299678142885,
          5.088616656372718,
          5.111933634602551,
          5.135250612832385,
          5.158567591062219,
          5.181884569292052,
          5.2052015475218845,
          5.228518525751719,
          5.251835503981551,
          5.275152482211386,
          5.298469460441218,
          5.321786438671051,
          5.345103416900885,
          5.368420395130718,
          5.391737373360552,
          5.415054351590383,
          5.438371329820217,
          5.461688308050052,
          5.485005286279884,
          5.508322264509719,
          5.531639242739551,
          5.554956220969384,
          5.578273199199218,
          5.601590177429051,
          5.624907155658883,
          5.648224133888718,
          5.67154111211855,
          5.694858090348385,
          5.718175068578219,
          5.74149204680805,
          5.764809025037884,
          5.788126003267717,
          5.811442981497551,
          5.834759959727386,
          5.858076937957216,
          5.881393916187051,
          5.904710894416883,
          5.928027872646718,
          5.95134485087655,
          5.974661829106383,
          5.997978807336217,
          6.021295785566052,
          6.044612763795884,
          6.067929742025717,
          6.091246720255549,
          6.114563698485384,
          6.137880676715218,
          6.161197654945051,
          6.184514633174883,
          6.207831611404716,
          6.23114858963455,
          6.254465567864385,
          6.277782546094215,
          6.30109952432405,
          6.324416502553884,
          6.347733480783717,
          6.371050459013551,
          6.394367437243382,
          6.417684415473216,
          6.441001393703051,
          6.464318371932883,
          6.487635350162716,
          6.51095232839255,
          6.534269306622383,
          6.557586284852217
         ],
         "xaxis": "x",
         "y": [
          0.006616081736722873,
          0.006580119927529635,
          0.006473403081428294,
          0.006299373882821773,
          0.006063564685837937,
          0.005773305490885265,
          0.005437345830368608,
          0.005065417751983031,
          0.004667770274435112,
          0.004254706179480351,
          0.0038361498918527298,
          0.0034212708456284905,
          0.003018180709434228,
          0.002633715839020407,
          0.0022733090783394827,
          0.0019409482267942698,
          0.0016392126995643844,
          0.001369375530377806,
          0.00113155511028869,
          0.000924899940772812,
          0.0007477900584304823,
          0.0005980403908663193,
          0.0004730937823548935,
          0.00037019441140139013,
          0.0002865354564994803,
          0.00021937785016603448,
          0.000166139567829298,
          0.0001244569835275586,
          9.222132531933082e-05,
          6.759418589819749e-05,
          4.900644716664105e-05,
          3.514495481761155e-05,
          2.4930940043763043e-05,
          1.749364114350069e-05,
          1.2141928372831736e-05,
          8.336063494206582e-06,
          5.661092555065646e-06,
          3.802816686979962e-06,
          2.526832305258315e-06,
          1.6607847353946937e-06,
          1.0797324716757889e-06,
          6.943602878914948e-07,
          4.4169194655289255e-07,
          2.7792011518750195e-07,
          1.7297620932757445e-07,
          1.0649241211200396e-07,
          6.485102532501272e-08,
          3.9064378903044245e-08,
          2.3276136461803183e-08,
          1.3718504175147178e-08,
          7.997762789656213e-09,
          4.6120729961474165e-09,
          2.6308114284919967e-09,
          1.4843939014402105e-09,
          8.284656324411351e-10,
          4.573679486974664e-10,
          2.4975998000077056e-10,
          1.3491053640266258e-10,
          7.208332002970068e-11,
          3.8096895585143734e-11,
          1.991637468793975e-11,
          1.0299043267898387e-11,
          5.268043730412111e-12,
          2.665432901601168e-12,
          1.3339883328950521e-12,
          6.603926063806123e-13,
          3.233838056299195e-13,
          1.5663911723506705e-13,
          7.504954790389508e-14,
          3.5568195137342643e-14,
          1.667406421880408e-14,
          7.731913842902005e-15,
          3.546487537932546e-15,
          1.6090731020046156e-15,
          7.221361247767657e-16,
          3.2057426542473427e-16,
          1.4076883946912861e-16,
          6.1145548370493e-17,
          2.6277095649431143e-17,
          1.1183854383638256e-17,
          4.7435699889564796e-18,
          2.0788818008407378e-18,
          1.1209006121392344e-18,
          1.1129536521806376e-18,
          2.053715183292482e-18,
          4.700601409212818e-18,
          1.1139371559458909e-17,
          2.631747482692427e-17,
          6.158569331555688e-17,
          1.425934168059244e-16,
          3.266076050508335e-16,
          7.400276318064279e-16,
          1.6586802503632966e-15,
          3.677651088045334e-15,
          8.066252151840215e-15,
          1.750116020407083e-14,
          3.756263308287246e-14,
          7.975165877808032e-14,
          1.6750134540807582e-13,
          3.4801031993396766e-13,
          7.152560908720251e-13,
          1.4542095672772296e-12,
          2.9247502945366774e-12,
          5.818986172967187e-12,
          1.1452570305671041e-11,
          2.2297495817873226e-11,
          4.29444527971212e-11,
          8.181939945386336e-11,
          1.5420700720056267e-10,
          2.8750864754574226e-10,
          5.302700179342698e-10,
          9.674821615541356e-10,
          1.7461798400221502e-09,
          3.1177081654899374e-09,
          5.506590940214443e-09,
          9.621248143929337e-09,
          1.6629593806577952e-08,
          2.843373267817909e-08,
          4.8093735079837466e-08,
          8.047220922563324e-08,
          1.3320070536640156e-07,
          2.1810755565077966e-07,
          3.53296140737381e-07,
          5.661239067247687e-07,
          8.974059625400121e-07,
          1.4072514755061684e-06,
          2.1830327628226847e-06,
          3.3500791809407993e-06,
          5.085769789010067e-06,
          7.637754583265926e-06,
          1.1347042823273461e-05,
          1.6676632384987045e-05,
          2.424618585153728e-05,
          3.487295501367387e-05,
          4.961868529149807e-05,
          6.984157214497339e-05,
          9.725148348986839e-05,
          0.00013396561766037868,
          0.00018256057704477135,
          0.00024611558064603113,
          0.00032824033196790525,
          0.0004330800588387553,
          0.0005652896390665538,
          0.000729968729107942,
          0.0009325506281669804,
          0.0011786394111098627,
          0.001473792757831058,
          0.0018232519002111187,
          0.0022316250736806437,
          0.002702536517744307,
          0.0032382589788493513,
          0.0038393532477856173,
          0.004504342829516547,
          0.005229454677693757,
          0.0060084573607986,
          0.0068326255404061445,
          0.00769085395573867,
          0.008569935267176348,
          0.009455004533291797,
          0.01033013958167948,
          0.011179092222818208,
          0.011986111532946951,
          0.012736808787187793,
          0.013419005486543132,
          0.014023502481469071,
          0.014544710240266588,
          0.01498108811283621,
          0.01533535369163623,
          0.015614441201408624,
          0.01582920891454191,
          0.015993918230926805,
          0.016125529505753206,
          0.016242880283236637,
          0.01636582892678418,
          0.01651445980467458,
          0.016708454795805888,
          0.01696674002543921,
          0.01730751691280114,
          0.01774878347527981,
          0.018309445959907265,
          0.019011112444037363,
          0.019880648575612874,
          0.02095355973956024,
          0.022278241299974206,
          0.02392110594814182,
          0.025972550759826886,
          0.0285536624432552,
          0.03182347425545537,
          0.03598648065988738,
          0.04129998722714122,
          0.04808072861100625,
          0.05671003646367435,
          0.06763669691833203,
          0.08137652390487919,
          0.09850761435966464,
          0.1196602708218952,
          0.14550070168201953,
          0.1767078605305114,
          0.21394317566265136,
          0.2578134473257947,
          0.30882783494375843,
          0.36735058087030603,
          0.43355186301418647,
          0.5073598607283679,
          0.5884176702817906,
          0.6760490292813948,
          0.7692368235254592,
          0.866617995678596,
          0.9664977258923927,
          1.06688462443025,
          1.165547226033757,
          1.2600904110851545,
          1.3480486436638086,
          1.4269912803501903,
          1.4946338417512908,
          1.5489482124848257,
          1.5882643705894048,
          1.6113565163449706,
          1.617507379886312,
          1.6065459733965501,
          1.578855988459432,
          1.5353542418886192,
          1.4774408322503707,
          1.4069247660072979,
          1.325930547542597,
          1.2367924442690004,
          1.1419437390272835,
          1.0438082381504374,
          0.9447006549373178,
          0.8467413353906341,
          0.7517892815766102,
          0.6613957287080307,
          0.5767788196743847,
          0.4988183537224427,
          0.4280682906649585,
          0.36478375221216225,
          0.3089587151416616,
          0.2603704300037733,
          0.21862677953838716,
          0.18321324173994954,
          0.1535367574786197,
          0.12896453260830737,
          0.10885654740004887,
          0.09259123420319161,
          0.07958436852766712,
          0.06930167047875907,
          0.06126592281235744,
          0.0550595848007972,
          0.05032393524458346,
          0.04675573809299432,
          0.044102317874070894,
          0.04215578642988204,
          0.040747000972443145,
          0.039739675007132894,
          0.03902492145660806,
          0.038516389157152976,
          0.03814606280328703,
          0.03786073161719715,
          0.03761909012705365,
          0.037389410593927086,
          0.03714771553342301,
          0.03687637552592105,
          0.036563058156493765,
          0.03619995581602612,
          0.035783221926714404,
          0.03531254683226243,
          0.034790806912559084,
          0.03422372471775069,
          0.033619485369298485,
          0.0329882660654804,
          0.03234165148163575,
          0.03169192753507194,
          0.03105126789180085,
          0.03043084952813835,
          0.029839953025537682,
          0.02928511746013721,
          0.028769426537744894,
          0.02829200058029881,
          0.027847757692668687,
          0.027427487695818653,
          0.02701825609205615,
          0.026604125232041715,
          0.02616714935349563,
          0.025688572772044435,
          0.025150139428332666,
          0.024535409712532038,
          0.023830978441352815,
          0.02302749628784714,
          0.022120414874430352,
          0.021110401075379693,
          0.020003395985982747,
          0.018810325231405196,
          0.017546496528659243,
          0.016230744778097717,
          0.014884402243819607,
          0.01353018029396908,
          0.01219104941830073,
          0.010889196482516596,
          0.009645123878440003,
          0.008476936412358424,
          0.007399840752003683,
          0.006425861337718545,
          0.005563757915796014,
          0.004819114886213614,
          0.004194562520960714,
          0.0036900852415075367,
          0.0033033724022611694,
          0.003030171772663179,
          0.0028646141328794806,
          0.002799487855552935,
          0.0028264537113390437,
          0.002936201127185078,
          0.0031185566184259964,
          0.0033625622250038,
          0.003656545922991365,
          0.003988206897246151,
          0.004344736322217124,
          0.004712989287419051,
          0.005079716367929117,
          0.005431854923540666,
          0.00575687147467576,
          0.006043138433008812,
          0.0062803219679806715,
          0.006459753604842085,
          0.006574756764227547,
          0.006620901052649049,
          0.006596161557415766,
          0.00650096723754645,
          0.006338131024357911,
          0.006112663565080329,
          0.005831481700567583,
          0.005503030842991809,
          0.005136846633847982,
          0.004743085067211043,
          0.004332051390216112,
          0.003913756572685913,
          0.0034975262785434075,
          0.0030916816045389,
          0.0027033040545586516,
          0.002338090025261519,
          0.002000293195121362,
          0.0016927472318322,
          0.0014169565991690154,
          0.001173240200664483,
          0.0009609111984644703,
          0.0007784764745952501,
          0.0006238406084270479,
          0.0004945015929022295,
          0.0003877284326705399,
          0.000300713899993499,
          0.0002306987565928329,
          0.00017506644009726425,
          0.00013140940320166927,
          9.756990457769147e-05,
          7.165907738034531e-05,
          5.20585945152156e-05,
          3.740929809654317e-05,
          2.6590871718760714e-05,
          1.8696119888850826e-05,
          1.3002782195976173e-05,
          8.94513677952924e-06,
          6.0870038672982234e-06,
          4.097189619898899e-06,
          2.7279376763218946e-06,
          1.796588925921303e-06,
          1.1703853767015217e-06,
          7.541798928509906e-07,
          4.807141503845992e-07,
          3.03085219113646e-07,
          1.8902032353575145e-07,
          1.1660525991337065e-07,
          7.115307516469531e-08,
          4.2947224456479687e-08,
          2.5641440731984346e-08,
          1.5143129598538045e-08,
          8.846159160335305e-09,
          5.111634031724611e-09,
          2.9216665681852254e-09,
          1.651837966710094e-09,
          9.237833562188907e-10,
          5.110209757742126e-10,
          2.7962323622074203e-10,
          1.5134701735770056e-10,
          8.102912602269338e-11,
          4.291189436876217e-11,
          2.2479901891604945e-11,
          1.165032500946389e-11,
          5.975961482243964e-12,
          3.039843250371469e-12,
          1.5460994670757569e-12,
          8.127816038841479e-13,
          4.947938925555091e-13,
          4.389669330103322e-13,
          6.181034794271685e-13,
          1.1191258813402097e-12,
          2.1807972909299434e-12,
          4.295361399199514e-12,
          8.41195161477967e-12,
          1.6315068011214686e-11,
          3.1309133531654063e-11,
          5.943581199663705e-11,
          1.1160870376038875e-10,
          2.0730769358703065e-10,
          3.8088953811807155e-10,
          6.922271838438685e-10,
          1.2444119437835715e-09,
          2.2128174645472075e-09,
          3.892179898055669e-09,
          6.771831053373249e-09,
          1.1654273829233093e-08,
          1.9839476835732872e-08,
          3.340727925639421e-08,
          5.5643942516283145e-08,
          9.16770380176822e-08,
          1.494063814242444e-07,
          2.4084831685901076e-07,
          3.8404664721981904e-07,
          6.057455530018057e-07,
          9.45066535319432e-07,
          1.4584798381832056e-06,
          2.2264060257720592e-06,
          3.3618180276144474e-06,
          5.021227849016256e-06,
          7.418422263080854e-06,
          1.0841242663296209e-05,
          1.567156884941862e-05,
          2.240844800568505e-05,
          3.169399436589997e-05,
          4.4341263922903336e-05,
          6.13627838839338e-05,
          8.399780443378063e-05,
          0.00011373567482864397,
          0.0001523320817788171,
          0.00020181430183821174,
          0.00026447120663352307,
          0.00034282362888344426,
          0.0004395709598061344,
          0.0005575106048541897,
          0.0006994282462138383,
          0.0008679587712600986,
          0.0010654201854717463,
          0.0012936257175808884,
          0.0015536824420176465,
          0.0018457878088439267,
          0.002169038143591217,
          0.002521265087839233,
          0.0028989167365791736,
          0.0032969995912240447,
          0.0037090951986761835,
          0.004127461452490046,
          0.004543223141659475,
          0.0049466497897390806,
          0.0053275116541630805,
          0.005675497611498576,
          0.00598067226841425,
          0.006233944727938833,
          0.006427518622528586,
          0.006555292731118491,
          0.006613183907803407,
          0.0065993490587982154,
          0.006514290116860177,
          0.006360834730803052,
          0.006143994881642699,
          0.005870714937578755,
          0.005549528867027869,
          0.00519015266412951,
          0.004803041935858017,
          0.00439894575392487,
          0.003988486280393514,
          0.0035817896055596967,
          0.003188187196899291,
          0.0028160000201539956,
          0.002472409510939764,
          0.0021634118979220285,
          0.0018938455793443224,
          0.0016674758715936803,
          0.0014871178497379985,
          0.001354776371265885,
          0.0012717827255759708,
          0.0012389095385124315,
          0.0012564493135414521,
          0.0013242469455821994,
          0.0014416822731699841,
          0.0016076047756812789,
          0.0018202283969601424,
          0.002076999714429635,
          0.0023744568328963327,
          0.002708099078986669,
          0.0030722885037872,
          0.00346020318175773,
          0.003863859283556323,
          0.0042742140297581735,
          0.004681355214592185,
          0.005074775512782779,
          0.005443721885210402,
          0.005777602814323979,
          0.006066429588919611,
          0.006301263125384015,
          0.006474635423858674,
          0.006580915062723841
         ],
         "yaxis": "y"
        },
        {
         "legendgroup": "Ridge",
         "marker": {
          "color": "rgb(255, 127, 14)"
         },
         "mode": "lines",
         "name": "Ridge",
         "showlegend": false,
         "type": "scatter",
         "x": [
          -4.491722023112541,
          -4.472032734786359,
          -4.452343446460177,
          -4.432654158133995,
          -4.412964869807813,
          -4.393275581481632,
          -4.37358629315545,
          -4.353897004829268,
          -4.3342077165030855,
          -4.314518428176903,
          -4.294829139850721,
          -4.275139851524539,
          -4.255450563198357,
          -4.235761274872176,
          -4.216071986545994,
          -4.196382698219812,
          -4.1766934098936295,
          -4.157004121567447,
          -4.137314833241265,
          -4.117625544915083,
          -4.097936256588901,
          -4.07824696826272,
          -4.058557679936538,
          -4.038868391610356,
          -4.0191791032841735,
          -3.9994898149579914,
          -3.9798005266318093,
          -3.960111238305627,
          -3.9404219499794455,
          -3.9207326616532634,
          -3.9010433733270813,
          -3.8813540850008996,
          -3.8616647966747175,
          -3.8419755083485354,
          -3.8222862200223533,
          -3.802596931696171,
          -3.782907643369989,
          -3.7632183550438074,
          -3.7435290667176253,
          -3.723839778391443,
          -3.7041504900652615,
          -3.6844612017390794,
          -3.6647719134128973,
          -3.645082625086715,
          -3.625393336760533,
          -3.6057040484343514,
          -3.5860147601081693,
          -3.566325471781987,
          -3.5466361834558056,
          -3.5269468951296234,
          -3.5072576068034413,
          -3.4875683184772592,
          -3.467879030151077,
          -3.448189741824895,
          -3.4285004534987134,
          -3.4088111651725312,
          -3.3891218768463496,
          -3.3694325885201675,
          -3.3497433001939854,
          -3.3300540118678033,
          -3.310364723541621,
          -3.290675435215439,
          -3.2709861468892574,
          -3.2512968585630753,
          -3.2316075702368936,
          -3.2119182819107115,
          -3.1922289935845294,
          -3.1725397052583473,
          -3.152850416932165,
          -3.133161128605983,
          -3.113471840279801,
          -3.0937825519536193,
          -3.074093263627437,
          -3.0544039753012555,
          -3.0347146869750734,
          -3.0150253986488913,
          -2.995336110322709,
          -2.975646821996527,
          -2.955957533670345,
          -2.9362682453441633,
          -2.916578957017981,
          -2.8968896686917995,
          -2.8772003803656174,
          -2.8575110920394353,
          -2.837821803713253,
          -2.818132515387071,
          -2.7984432270608894,
          -2.7787539387347073,
          -2.759064650408525,
          -2.739375362082343,
          -2.7196860737561614,
          -2.6999967854299793,
          -2.6803074971037972,
          -2.660618208777615,
          -2.640928920451433,
          -2.621239632125251,
          -2.6015503437990692,
          -2.5818610554728876,
          -2.5621717671467055,
          -2.5424824788205234,
          -2.5227931904943413,
          -2.503103902168159,
          -2.483414613841977,
          -2.4637253255157954,
          -2.4440360371896133,
          -2.424346748863431,
          -2.404657460537249,
          -2.384968172211067,
          -2.3652788838848853,
          -2.345589595558703,
          -2.325900307232521,
          -2.306211018906339,
          -2.2865217305801573,
          -2.266832442253975,
          -2.247143153927793,
          -2.2274538656016114,
          -2.2077645772754293,
          -2.188075288949247,
          -2.168386000623065,
          -2.1486967122968834,
          -2.1290074239707013,
          -2.109318135644519,
          -2.089628847318337,
          -2.0699395589921554,
          -2.0502502706659733,
          -2.030560982339791,
          -2.010871694013609,
          -1.9911824056874274,
          -1.9714931173612453,
          -1.9518038290350632,
          -1.9321145407088816,
          -1.9124252523826994,
          -1.8927359640565173,
          -1.8730466757303352,
          -1.8533573874041536,
          -1.8336680990779715,
          -1.8139788107517894,
          -1.7942895224256068,
          -1.7746002340994251,
          -1.754910945773243,
          -1.735221657447061,
          -1.7155323691208788,
          -1.6958430807946971,
          -1.676153792468515,
          -1.656464504142333,
          -1.6367752158161513,
          -1.6170859274899692,
          -1.597396639163787,
          -1.577707350837605,
          -1.5580180625114233,
          -1.5383287741852412,
          -1.518639485859059,
          -1.498950197532877,
          -1.4792609092066953,
          -1.4595716208805132,
          -1.439882332554331,
          -1.420193044228149,
          -1.4005037559019673,
          -1.3808144675757852,
          -1.361125179249603,
          -1.341435890923421,
          -1.3217466025972393,
          -1.3020573142710572,
          -1.282368025944875,
          -1.2626787376186934,
          -1.2429894492925113,
          -1.2233001609663292,
          -1.203610872640147,
          -1.1839215843139654,
          -1.1642322959877833,
          -1.1445430076616012,
          -1.1248537193354191,
          -1.1051644310092374,
          -1.0854751426830553,
          -1.0657858543568732,
          -1.0460965660306911,
          -1.026407277704509,
          -1.006717989378327,
          -0.9870287010521448,
          -0.9673394127259631,
          -0.947650124399781,
          -0.9279608360735989,
          -0.9082715477474168,
          -0.8885822594212351,
          -0.868892971095053,
          -0.8492036827688709,
          -0.8295143944426888,
          -0.8098251061165072,
          -0.790135817790325,
          -0.7704465294641429,
          -0.7507572411379608,
          -0.7310679528117792,
          -0.7113786644855971,
          -0.691689376159415,
          -0.6720000878332333,
          -0.6523107995070512,
          -0.6326215111808691,
          -0.612932222854687,
          -0.5932429345285053,
          -0.5735536462023232,
          -0.5538643578761411,
          -0.534175069549959,
          -0.5144857812237773,
          -0.4947964928975952,
          -0.47510720457141264,
          -0.45541791624523054,
          -0.4357286279190493,
          -0.4160393395928672,
          -0.3963500512666851,
          -0.376660762940503,
          -0.3569714746143209,
          -0.33728218628813966,
          -0.31759289796195667,
          -0.29790360963577545,
          -0.27821432130959245,
          -0.25852503298341123,
          -0.23883574465722912,
          -0.219146456331047,
          -0.1994571680048649,
          -0.17976787967868368,
          -0.1600785913525007,
          -0.14038930302631947,
          -0.12070001470013647,
          -0.10101072637395525,
          -0.08132143804777314,
          -0.061632149721591034,
          -0.041942861395408926,
          -0.022253573069227706,
          -0.002564284743044709,
          0.01712500358313651,
          0.03681429190931862,
          0.05650358023550073,
          0.07619286856168284,
          0.09588215688786494,
          0.11557144521404705,
          0.13526073354022916,
          0.15495002186641127,
          0.17463931019259338,
          0.1943285985187746,
          0.2140178868449576,
          0.23370717517113881,
          0.2533964634973209,
          0.27308575182350303,
          0.29277504014968514,
          0.31246432847586725,
          0.33215361680204936,
          0.3518429051282306,
          0.3715321934544136,
          0.3912214817805948,
          0.4109107701067769,
          0.430600058432959,
          0.4502893467591411,
          0.4699786350853232,
          0.48966792341150533,
          0.5093572117376866,
          0.5290465000638696,
          0.5487357883900508,
          0.5684250767162329,
          0.588114365042415,
          0.6078036533685971,
          0.6274929416947783,
          0.6471822300209613,
          0.6668715183471425,
          0.6865608066733255,
          0.7062500949995068,
          0.7259393833256889,
          0.745628671651871,
          0.7653179599780531,
          0.7850072483042343,
          0.8046965366304173,
          0.8243858249565985,
          0.8440751132827815,
          0.8637644016089627,
          0.8834536899351448,
          0.9031429782613278,
          0.922832266587509,
          0.9425215549136912,
          0.9622108432398733,
          0.9819001315660554,
          1.0015894198922366,
          1.0212787082184196,
          1.0409679965446008,
          1.0606572848707838,
          1.080346573196965,
          1.1000358615231471,
          1.1197251498493292,
          1.1394144381755114,
          1.1591037265016926,
          1.1787930148278756,
          1.1984823031540568,
          1.218171591480239,
          1.237860879806421,
          1.2575501681326031,
          1.2772394564587852,
          1.2969287447849673,
          1.3166180331111486,
          1.3363073214373316,
          1.3559966097635128,
          1.3756858980896949,
          1.395375186415877,
          1.415064474742059,
          1.4347537630682412,
          1.4544430513944233,
          1.4741323397206045,
          1.4938216280467875,
          1.5135109163729688,
          1.5332002046991509,
          1.552889493025333,
          1.572578781351515,
          1.5922680696776963,
          1.6119573580038793,
          1.6316466463300605,
          1.6513359346562435,
          1.6710252229824256,
          1.6907145113086068,
          1.7104037996347898,
          1.730093087960971,
          1.7497823762871532,
          1.7694716646133353,
          1.7891609529395174,
          1.8088502412656995,
          1.8285395295918816,
          1.8482288179180628,
          1.8679181062442458,
          1.887607394570427,
          1.9072966828966091,
          1.9269859712227912,
          1.9466752595489734,
          1.9663645478751546,
          1.9860538362013376,
          2.005743124527519,
          2.025432412853702,
          2.045121701179883,
          2.064810989506065,
          2.0845002778322472,
          2.1041895661584293,
          2.1238788544846106,
          2.1435681428107936,
          2.1632574311369748,
          2.182946719463157,
          2.202636007789339,
          2.222325296115521,
          2.242014584441703,
          2.2617038727678853,
          2.2813931610940665,
          2.3010824494202495,
          2.3207717377464308,
          2.340461026072613,
          2.360150314398795,
          2.379839602724977,
          2.399528891051159,
          2.4192181793773413,
          2.4389074677035234,
          2.4585967560297055,
          2.4782860443558876,
          2.497975332682069,
          2.517664621008252,
          2.537353909334433,
          2.557043197660615,
          2.5767324859867973,
          2.5964217743129794,
          2.6161110626391615,
          2.6358003509653436,
          2.655489639291525,
          2.675178927617708,
          2.694868215943889,
          2.714557504270071,
          2.7342467925962533,
          2.7539360809224354,
          2.7736253692486166,
          2.7933146575747996,
          2.813003945900981,
          2.832693234227164,
          2.852382522553345,
          2.872071810879527,
          2.8917610992057092,
          2.9114503875318913,
          2.9311396758580726,
          2.9508289641842556,
          2.9705182525104368,
          2.9902075408366198,
          3.009896829162801,
          3.029586117488983,
          3.049275405815165,
          3.0689646941413473,
          3.0886539824675285,
          3.1083432707937115,
          3.1280325591198928,
          3.147721847446075,
          3.167411135772257,
          3.187100424098439,
          3.206789712424622,
          3.2264790007508033,
          3.2461682890769854,
          3.2658575774031675,
          3.2855468657293496,
          3.305236154055531,
          3.324925442381714,
          3.344614730707895,
          3.364304019034078,
          3.3839933073602593,
          3.4036825956864414,
          3.4233718840126235,
          3.4430611723388056,
          3.462750460664987,
          3.48243974899117,
          3.502129037317351,
          3.5218183256435323,
          3.541507613969716,
          3.5611969022958965,
          3.5808861906220804,
          3.6005754789482607,
          3.620264767274443,
          3.639954055600625,
          3.659643343926807,
          3.679332632252989,
          3.6990219205791712,
          3.7187112089053533,
          3.7384004972315354,
          3.758089785557716,
          3.7777790738838997,
          3.7974683622100818,
          3.817157650536262,
          3.836846938862444,
          3.856536227188628,
          3.87622551551481,
          3.8959148038409905,
          3.9156040921671726,
          3.9352933804933565,
          3.954982668819537,
          3.974671957145719,
          3.994361245471903,
          4.014050533798083,
          4.033739822124265,
          4.053429110450447,
          4.0731183987766295,
          4.092807687102812,
          4.112496975428994,
          4.132186263755174,
          4.151875552081358,
          4.17156484040754,
          4.19125412873372,
          4.2109434170599025,
          4.230632705386086,
          4.2503219937122685,
          4.270011282038449,
          4.289700570364631,
          4.309389858690815,
          4.329079147016995,
          4.348768435343177,
          4.368457723669359,
          4.3881470119955415,
          4.407836300321724,
          4.427525588647906,
          4.447214876974086,
          4.46690416530027,
          4.486593453626452,
          4.506282741952632,
          4.5259720302788145,
          4.545661318604998,
          4.565350606931179,
          4.585039895257361,
          4.604729183583543,
          4.624418471909727,
          4.644107760235907,
          4.663797048562089,
          4.683486336888271,
          4.703175625214453,
          4.7228649135406355,
          4.742554201866818,
          4.762243490193,
          4.781932778519182,
          4.801622066845364,
          4.821311355171544,
          4.841000643497728,
          4.86068993182391,
          4.880379220150091,
          4.900068508476273,
          4.919757796802457,
          4.939447085128637,
          4.959136373454819,
          4.978825661781001,
          4.998514950107183,
          5.018204238433365,
          5.0378935267595475,
          5.05758281508573,
          5.077272103411912,
          5.096961391738094,
          5.116650680064276,
          5.136339968390456,
          5.15602925671664,
          5.175718545042822,
          5.195407833369003,
          5.215097121695185,
          5.234786410021369,
          5.254475698347549,
          5.274164986673731,
          5.293854274999913,
          5.313543563326095,
          5.333232851652277
         ],
         "xaxis": "x",
         "y": [
          0.004018457567952596,
          0.0040127017074324195,
          0.003995481500454539,
          0.003966944682825716,
          0.003927335092732317,
          0.003876989215676777,
          0.003816331442923341,
          0.0037458681379557083,
          0.0036661806282465947,
          0.0035779172595158657,
          0.0034817846661489814,
          0.0033785384242047876,
          0.0032689732622171153,
          0.003153913009662266,
          0.003034200463517963,
          0.002910687349888311,
          0.002784224550432846,
          0.002655652752634736,
          0.0025257936691773755,
          0.0023954419553442155,
          0.0022653579349397957,
          0.002136261225310599,
          0.0020088253311954657,
          0.0018836732559273039,
          0.0017613741574860286,
          0.0016424410565763613,
          0.001527329584727368,
          0.0014164377427751467,
          0.0013101066243123736,
          0.001208622045007718,
          0.0011122170072708196,
          0.0010210749206390594,
          0.000935333491488125,
          0.0008550891911417057,
          0.0007804022090352966,
          0.0007113017970773273,
          0.0006477919125057802,
          0.0005898570690855482,
          0.0005374683101368507,
          0.00049058922132668,
          0.0004491819060967877,
          0.0004132128517643948,
          0.00038265861946309255,
          0.0003575112959766847,
          0.0003377836499875172,
          0.00032351393919352546,
          0.0003147703180800404,
          0.00031165479885565726,
          0.000314306720225763,
          0.0003229056803875351,
          0.00033767389204284793,
          0.00035887791854270995,
          0.0003868297517387923,
          0.00042188719399342746,
          0.0004644535093760027,
          0.000514976312643982,
          0.0005739456694564393,
          0.0006418913876618179,
          0.0007193794876692487,
          0.000807007850034759,
          0.0009054010505880602,
          0.0010152044077348064,
          0.0011370772829501624,
          0.001271685693792692,
          0.0014196943187728935,
          0.0015817579947614156,
          0.0017585128298666193,
          0.0019505670772961272,
          0.0021584919379947125,
          0.0023828124810922934,
          0.0026239988906057586,
          0.002882458263578465,
          0.0031585271980509597,
          0.003452465418085708,
          0.0037644506867033902,
          0.004094575255287979,
          0.004442844089145128,
          0.0048091750929547695,
          0.0051934015365152535,
          0.0055952768503006985,
          0.006014481922038638,
          0.006450634980092691,
          0.006903304097491859,
          0.007372022292826225,
          0.007856305142025082,
          0.008355670749578986,
          0.008869661860611045,
          0.009397869828071777,
          0.009939960084092047,
          0.010495698703133566,
          0.011064979589007791,
          0.011647851770042194,
          0.012244546248505534,
          0.012855501823544653,
          0.013481389292780479,
          0.01412313343751504,
          0.014781932211013562,
          0.015459272578949315,
          0.01615694250579968,
          0.01687703864027139,
          0.017621969325754723,
          0.018394452646945957,
          0.01919750931928998,
          0.020034450331536332,
          0.020908859360896023,
          0.021824570092184744,
          0.022785638683910984,
          0.02379631173238858,
          0.024860990186506036,
          0.025984189757761258,
          0.027170498449773345,
          0.028424531896231453,
          0.0297508872440507,
          0.031154096347786216,
          0.03263857905105671,
          0.03420859732041478,
          0.03586821096694295,
          0.03762123564169026,
          0.03947120372433175,
          0.041421328642169145,
          0.04347447306136814,
          0.045633121287155715,
          0.047899356097963294,
          0.05027484012381832,
          0.05276080176540821,
          0.055358025540909434,
          0.058066846646512835,
          0.060887149426918086,
          0.06381836937690294,
          0.0668594982368495,
          0.0700090917057298,
          0.07326527927572898,
          0.07662577569392424,
          0.080087893578008,
          0.08364855675395214,
          0.08730431394207051,
          0.09105135249176338,
          0.09488551195138067,
          0.09880229735465094,
          0.10279689220517864,
          0.10686417124153974,
          0.11099871316334364,
          0.11519481358916005,
          0.11944649859651825,
          0.12374753925869383,
          0.12809146763960397,
          0.13247159473431933,
          0.13688103084664224,
          0.14131270887581848,
          0.14575941094149625,
          0.15021379871005955,
          0.1546684476978372,
          0.1591158857195824,
          0.16354863552687735,
          0.16795926154428523,
          0.1723404204651247,
          0.17668491531811906,
          0.18098575246553558,
          0.185236200847551,
          0.1894298526512091,
          0.19356068446000516,
          0.19762311783613487,
          0.2016120782054708,
          0.20552305085871833,
          0.20935213285344254,
          0.21309607960265112,
          0.21675234496742768,
          0.22031911373402535,
          0.22379532544931907,
          0.22718068871125754,
          0.23047568516091788,
          0.2336815625971191,
          0.23680031682995517,
          0.23983466210207555,
          0.24278799013166427,
          0.2456643180640727,
          0.24846822585491618,
          0.2512047838409075,
          0.25387947148058587,
          0.25649808846013283,
          0.25906665955463243,
          0.2615913348076262,
          0.26407828673714007,
          0.26653360639053086,
          0.2689632001499651,
          0.27137268923223984,
          0.273767313828684,
          0.27615184379162633,
          0.2785304976926198,
          0.28090687195447983,
          0.2832838815952699,
          0.2856637139196218,
          0.28804779625409516,
          0.290436778552532,
          0.29283053139917875,
          0.2952281596173574,
          0.29762803135595245,
          0.3000278221819158,
          0.30242457336195194,
          0.30481476317844436,
          0.30719438980166963,
          0.3095590639406717,
          0.311904109226838,
          0.31422466805493887,
          0.3165158104232023,
          0.31877264318320153,
          0.320990417037112,
          0.3231646286083203,
          0.3252911149640095,
          0.32736613808631987,
          0.3293864569714271,
          0.3313493852811401,
          0.33325283277540757,
          0.335095329110809,
          0.3368760289924002,
          0.338594698105489,
          0.3402516797200358,
          0.3418478423423896,
          0.34338450927511643,
          0.34486337142359796,
          0.3462863851453335,
          0.34765565736240295,
          0.3489733205375846,
          0.350241400439506,
          0.35146167988236704,
          0.35263556181319,
          0.3537639352279708,
          0.35484704742323536,
          0.355884386029151,
          0.35687457412459783,
          0.35781528150564834,
          0.35870315487133747,
          0.35953376931088665,
          0.360301603033237,
          0.36100003678309656,
          0.36162137884928597,
          0.3621569160038859,
          0.3625969901279994,
          0.36293109969600545,
          0.3631480247188708,
          0.3632359732023162,
          0.3631827466703152,
          0.36297592185066013,
          0.36260304522782677,
          0.36205183684827075,
          0.3613103995218685,
          0.3603674294059092,
          0.3592124238880901,
          0.3578358827035481,
          0.3562294983271489,
          0.3543863318730732,
          0.3523009710041872,
          0.3499696666971468,
          0.34739044611731046,
          0.34456319932071194,
          0.3414897380078785,
          0.3381738250946412,
          0.33462117442624134,
          0.33083942053078813,
          0.32683805887421435,
          0.3226283576295585,
          0.31822324249736333,
          0.31363715660089514,
          0.3088858979203196,
          0.30398643711588896,
          0.29895671891470543,
          0.2938154504935248,
          0.288581880477515,
          0.2832755722896972,
          0.27791617562734994,
          0.27252319981082224,
          0.26711579264931656,
          0.2617125283010595,
          0.25633120737670784,
          0.2509886722510765,
          0.24570064021613677,
          0.2404815567356476,
          0.23534447065700947,
          0.2303009328077116,
          0.22536091896105903,
          0.22053277770763877,
          0.2158232033240022,
          0.21123723329672767,
          0.20677826974639762,
          0.20244812360923745,
          0.19824708008092487,
          0.19417398351287105,
          0.1902263396809236,
          0.1864004331235402,
          0.18269145707367448,
          0.17909365338741828,
          0.17560045980332017,
          0.17220466184862937,
          0.1688985467409339,
          0.16567405671318108,
          0.16252293931355594,
          0.15943689239492,
          0.15640770170674664,
          0.15342736923034805,
          0.15048823064996952,
          0.14758306062200818,
          0.1447051647860942,
          0.14184845774889232,
          0.1390075265582748,
          0.1361776794662385,
          0.13335498004823426,
          0.13053626699955886,
          0.1277191601618676,
          0.12490205354097884,
          0.12208409625808136,
          0.1192651625279862,
          0.11644581187877878,
          0.11362724091645407,
          0.11081122799600521,
          0.10800007218774421,
          0.10519652792592042,
          0.10240373669801371,
          0.09962515708003333,
          0.0968644943487904,
          0.09412563080974932,
          0.09141255787228648,
          0.08872931078663476,
          0.08607990683213133,
          0.08346828761816007,
          0.08089826603073538,
          0.07837347823205623,
          0.07589734100029727,
          0.07347301458463854,
          0.07110337114795516,
          0.0687909687779995,
          0.06653803096823388,
          0.06434643140209155,
          0.06221768381935649,
          0.06015293670009984,
          0.058152972469467795,
          0.05621821090447333,
          0.054348716410590525,
          0.05254420882993677,
          0.050804077442710364,
          0.04912739782782673,
          0.04751295125599393,
          0.04595924629746626,
          0.044464542336333436,
          0.04302687469251559,
          0.04164408106097711,
          0.04031382898461056,
          0.03903364408258445,
          0.03780093875973705,
          0.03661304112508748,
          0.03546722384913428,
          0.034360732690902215,
          0.033290814427326065,
          0.032254743920242177,
          0.03124985006070424,
          0.03027354033722795,
          0.029323323784493347,
          0.028396832082473098,
          0.02749183859325528,
          0.026606275144154944,
          0.025738246391076098,
          0.024886041625302082,
          0.024048143919618636,
          0.023223236545390855,
          0.02241020663026925,
          0.021608146065820746,
          0.02081634971470483,
          0.020034311007127183,
          0.019261715055269354,
          0.018498429451281228,
          0.017744492948358784,
          0.017000102254603827,
          0.0162655971950739,
          0.015541444518095415,
          0.014828220637098431,
          0.014126593608639614,
          0.013437304650793486,
          0.012761149503724608,
          0.012098959926198574,
          0.011451585608359316,
          0.01081987676275366,
          0.010204667632875789,
          0.009606761132094523,
          0.009026914796425476,
          0.008465828202993316,
          0.007924131972973881,
          0.007402378444106131,
          0.006901034064275236,
          0.0064204735249196315,
          0.005960975621762946,
          0.005522720801212998,
          0.005105790324203814,
          0.0047101669557033515,
          0.004335737067880206,
          0.003982294028237922,
          0.0036495427310055785,
          0.0033371051207397467,
          0.0030445265513879887,
          0.0027712828218394913,
          0.0025167877300335062,
          0.0022804009917334503,
          0.002061436376784275,
          0.0018591699246876309,
          0.0016728481122739102,
          0.0015016958587177386,
          0.0013449242667360423,
          0.0012017380131283488,
          0.0010713423164895345,
          0.0009529494245902452,
          0.000845784578256122,
          0.0007490914222922339,
          0.0006621368468446034,
          0.0005842152543571704,
          0.0005146522578010939,
          0.00045280782500309893,
          0.00039807889159432594,
          0.00034990147130113355,
          0.00030775229699703965,
          0.00027115002916048805,
          0.00023965607019588083,
          0.0002128750235624392,
          0.00019045483592764484,
          0.00017208665874959036,
          0.0001575044629413091,
          0.00014648443673902277,
          0.0001388441927517051,
          0.00013444180558431424,
          0.0001331746965761089,
          0.00013497837725264615,
          0.00013982505822576812,
          0.0001477221256542461,
          0.00015871048315381855,
          0.00017286275336252018,
          0.00019028133035476773,
          0.00021109627186808542,
          0.00023546301895268113,
          0.0002635599302482563,
          0.0002955856186815782,
          0.00033175607998457376,
          0.0003723016050497524,
          0.0004174634717326594,
          0.00046749041621498824,
          0.0005226348893625067,
          0.0005831491095246122,
          0.0006492809297762431,
          0.0007212695445207276,
          0.0007993410674555682,
          0.0008837040199361439,
          0.0009745447755271837,
          0.0010720230127755452,
          0.0011762672337378654,
          0.001287370410330316,
          0.0014053858239301198,
          0.0015303231656663926,
          0.0016621449653449665,
          0.0018007634158470755,
          0.001946037657062776,
          0.0020977715789522048,
          0.0022557121972130597,
          0.0024195486473636727,
          0.002588911833979613,
          0.0027633747615468636,
          0.0029424535621643912,
          0.003125609223428985,
          0.003312250007585566,
          0.0035017345407600572,
          0.003693375539159393,
          0.0038864441278609356,
          0.004080174697549727,
          0.004273770235586057,
          0.00446640806035295,
          0.004657245882140766,
          0.0048454281100143,
          0.005030092322247562,
          0.005210375818004453,
          0.0053854221699214545,
          0.005554387700971703,
          0.005716447814262185,
          0.005870803110979089,
          0.006016685239257904,
          0.0061533624249868486,
          0.006280144644112268,
          0.006396388404562558,
          0.006501501114117636,
          0.006594945018125906,
          0.006676240697660972,
          0.006744970124316658,
          0.0068007792722286405,
          0.00684338029101917,
          0.006872553245194058,
          0.006888147426155451,
          0.00689008224257039,
          0.0068783476935524905,
          0.0068530044272166616,
          0.0068141833849314735,
          0.006762085029316202,
          0.006696978152006962,
          0.006619198255732431,
          0.006529145504550119,
          0.006427282236410276,
          0.006314130033696078
         ],
         "yaxis": "y"
        },
        {
         "legendgroup": "Lasso",
         "marker": {
          "color": "rgb(31, 119, 180)",
          "symbol": "line-ns-open"
         },
         "mode": "markers",
         "name": "Lasso",
         "showlegend": false,
         "type": "scatter",
         "x": [
          -0.2988645822136683,
          0.3408157190759778,
          0,
          -5.0775858518346,
          -0.011546218132248353,
          2.50475330358318,
          0,
          0,
          -1.2254666741348454,
          0,
          0,
          0,
          0,
          0,
          0,
          0.8911508709272506,
          0,
          0,
          0,
          0,
          0,
          0,
          0.48261306316596353,
          0,
          0,
          0,
          0,
          0,
          0,
          0.29259736827072497,
          0,
          0,
          0,
          0,
          0,
          0,
          0,
          0,
          0,
          0,
          0,
          0,
          0,
          0,
          0,
          0,
          0,
          0,
          0,
          0,
          0,
          0,
          0,
          0,
          0,
          0,
          0,
          0,
          0,
          0,
          -0.8137493295508568,
          0,
          0,
          0,
          0,
          0,
          0,
          0,
          0,
          0,
          0,
          0,
          0,
          0,
          0,
          0,
          0,
          0,
          0,
          0,
          0,
          0,
          0,
          0,
          0,
          0,
          0,
          0,
          0,
          0,
          0,
          0,
          0.857715591775868,
          0,
          0,
          1.1721102608593408,
          0,
          0,
          0.2887092608544712,
          0,
          0,
          0,
          0,
          0,
          0,
          0,
          0.20926544012577397,
          0,
          0,
          0,
          0,
          0,
          0,
          1.5557826281399485,
          0,
          0,
          5.60868688487343,
          0,
          0,
          0,
          0,
          0,
          0,
          0,
          0,
          0,
          0,
          0,
          0,
          0,
          0,
          -0.5834694165847317,
          0,
          0,
          0,
          0,
          0,
          0,
          0,
          0,
          0,
          0,
          0,
          0,
          0,
          0,
          0,
          0,
          0.5677323661704804,
          0,
          1.6083497158913294,
          1.1672531907630226,
          0,
          -0.6403255347633285,
          0,
          0,
          0,
          0,
          0,
          0,
          0,
          0,
          0,
          0,
          0,
          0,
          0,
          0,
          0,
          0,
          0,
          0,
          0,
          0,
          0,
          0,
          0,
          0,
          -0.40210406095102963,
          0,
          0,
          0,
          0,
          0,
          0,
          0,
          0,
          0,
          0,
          0,
          0,
          0,
          0,
          0,
          0,
          0,
          0,
          0,
          0,
          0,
          0,
          0,
          0,
          0.7072730612261542,
          1.6226804361881382,
          0,
          0,
          0,
          0.4051983255690641,
          0,
          0,
          0,
          0,
          0,
          0,
          1.224714232790628,
          0,
          0,
          -1.1811727255510334,
          -0.003019012500058569,
          0,
          0,
          0,
          0,
          0,
          0,
          0,
          0,
          0,
          0,
          0,
          0,
          0,
          0,
          0,
          0,
          0,
          0,
          0,
          0,
          0,
          0,
          0,
          0,
          0,
          0.19289042452120514,
          0,
          0,
          0,
          0.953787565634395,
          0,
          0,
          0,
          0,
          0,
          0,
          0,
          0,
          0,
          0,
          0,
          0,
          0,
          0,
          6.58090326308205,
          0,
          0,
          0,
          0,
          0
         ],
         "xaxis": "x",
         "y": [
          "Lasso",
          "Lasso",
          "Lasso",
          "Lasso",
          "Lasso",
          "Lasso",
          "Lasso",
          "Lasso",
          "Lasso",
          "Lasso",
          "Lasso",
          "Lasso",
          "Lasso",
          "Lasso",
          "Lasso",
          "Lasso",
          "Lasso",
          "Lasso",
          "Lasso",
          "Lasso",
          "Lasso",
          "Lasso",
          "Lasso",
          "Lasso",
          "Lasso",
          "Lasso",
          "Lasso",
          "Lasso",
          "Lasso",
          "Lasso",
          "Lasso",
          "Lasso",
          "Lasso",
          "Lasso",
          "Lasso",
          "Lasso",
          "Lasso",
          "Lasso",
          "Lasso",
          "Lasso",
          "Lasso",
          "Lasso",
          "Lasso",
          "Lasso",
          "Lasso",
          "Lasso",
          "Lasso",
          "Lasso",
          "Lasso",
          "Lasso",
          "Lasso",
          "Lasso",
          "Lasso",
          "Lasso",
          "Lasso",
          "Lasso",
          "Lasso",
          "Lasso",
          "Lasso",
          "Lasso",
          "Lasso",
          "Lasso",
          "Lasso",
          "Lasso",
          "Lasso",
          "Lasso",
          "Lasso",
          "Lasso",
          "Lasso",
          "Lasso",
          "Lasso",
          "Lasso",
          "Lasso",
          "Lasso",
          "Lasso",
          "Lasso",
          "Lasso",
          "Lasso",
          "Lasso",
          "Lasso",
          "Lasso",
          "Lasso",
          "Lasso",
          "Lasso",
          "Lasso",
          "Lasso",
          "Lasso",
          "Lasso",
          "Lasso",
          "Lasso",
          "Lasso",
          "Lasso",
          "Lasso",
          "Lasso",
          "Lasso",
          "Lasso",
          "Lasso",
          "Lasso",
          "Lasso",
          "Lasso",
          "Lasso",
          "Lasso",
          "Lasso",
          "Lasso",
          "Lasso",
          "Lasso",
          "Lasso",
          "Lasso",
          "Lasso",
          "Lasso",
          "Lasso",
          "Lasso",
          "Lasso",
          "Lasso",
          "Lasso",
          "Lasso",
          "Lasso",
          "Lasso",
          "Lasso",
          "Lasso",
          "Lasso",
          "Lasso",
          "Lasso",
          "Lasso",
          "Lasso",
          "Lasso",
          "Lasso",
          "Lasso",
          "Lasso",
          "Lasso",
          "Lasso",
          "Lasso",
          "Lasso",
          "Lasso",
          "Lasso",
          "Lasso",
          "Lasso",
          "Lasso",
          "Lasso",
          "Lasso",
          "Lasso",
          "Lasso",
          "Lasso",
          "Lasso",
          "Lasso",
          "Lasso",
          "Lasso",
          "Lasso",
          "Lasso",
          "Lasso",
          "Lasso",
          "Lasso",
          "Lasso",
          "Lasso",
          "Lasso",
          "Lasso",
          "Lasso",
          "Lasso",
          "Lasso",
          "Lasso",
          "Lasso",
          "Lasso",
          "Lasso",
          "Lasso",
          "Lasso",
          "Lasso",
          "Lasso",
          "Lasso",
          "Lasso",
          "Lasso",
          "Lasso",
          "Lasso",
          "Lasso",
          "Lasso",
          "Lasso",
          "Lasso",
          "Lasso",
          "Lasso",
          "Lasso",
          "Lasso",
          "Lasso",
          "Lasso",
          "Lasso",
          "Lasso",
          "Lasso",
          "Lasso",
          "Lasso",
          "Lasso",
          "Lasso",
          "Lasso",
          "Lasso",
          "Lasso",
          "Lasso",
          "Lasso",
          "Lasso",
          "Lasso",
          "Lasso",
          "Lasso",
          "Lasso",
          "Lasso",
          "Lasso",
          "Lasso",
          "Lasso",
          "Lasso",
          "Lasso",
          "Lasso",
          "Lasso",
          "Lasso",
          "Lasso",
          "Lasso",
          "Lasso",
          "Lasso",
          "Lasso",
          "Lasso",
          "Lasso",
          "Lasso",
          "Lasso",
          "Lasso",
          "Lasso",
          "Lasso",
          "Lasso",
          "Lasso",
          "Lasso",
          "Lasso",
          "Lasso",
          "Lasso",
          "Lasso",
          "Lasso",
          "Lasso",
          "Lasso",
          "Lasso",
          "Lasso",
          "Lasso",
          "Lasso",
          "Lasso",
          "Lasso",
          "Lasso",
          "Lasso",
          "Lasso",
          "Lasso",
          "Lasso",
          "Lasso",
          "Lasso",
          "Lasso",
          "Lasso",
          "Lasso",
          "Lasso",
          "Lasso",
          "Lasso",
          "Lasso",
          "Lasso",
          "Lasso",
          "Lasso",
          "Lasso",
          "Lasso",
          "Lasso",
          "Lasso",
          "Lasso",
          "Lasso",
          "Lasso",
          "Lasso",
          "Lasso",
          "Lasso",
          "Lasso",
          "Lasso",
          "Lasso",
          "Lasso",
          "Lasso",
          "Lasso",
          "Lasso"
         ],
         "yaxis": "y2"
        },
        {
         "legendgroup": "Ridge",
         "marker": {
          "color": "rgb(255, 127, 14)",
          "symbol": "line-ns-open"
         },
         "mode": "markers",
         "name": "Ridge",
         "showlegend": false,
         "type": "scatter",
         "x": [
          -1.1129087993445883,
          0.8294144662534814,
          -0.5787984166623268,
          -4.491722023112541,
          -0.32314439645022025,
          2.5528447785053894,
          0.6441174358231824,
          0.1409552018903455,
          -0.7850726377135705,
          0.7655534592397848,
          0.3566834587710539,
          -1.5694262616057055,
          0.26227557067205787,
          -0.25740342390755994,
          -0.7824098482842321,
          2.593492116092447,
          0.5606042947988271,
          -0.45173420352267224,
          -1.2515177116236575,
          -1.2566996189796298,
          -0.8399631100452208,
          -0.9115025384574141,
          2.4240448138352138,
          0.5895441677219551,
          -1.0812932141466685,
          -1.707804185321797,
          -0.14992684171099205,
          0.8871041754357937,
          0.6283527413632991,
          1.8381784632119191,
          0.505301827698737,
          1.8475439808285323,
          1.166041725122704,
          -0.2943188274364649,
          -0.8460284506774254,
          -1.17439061990725,
          0.3875825329008674,
          1.5379256032546271,
          0.7316435087966041,
          -1.8849743338030243,
          -0.3803906278167402,
          -0.08497089850913538,
          1.2408957059769552,
          -0.675384692841842,
          0.9156462926385307,
          1.3807542463331037,
          -1.8741582993187103,
          -0.3036013953089616,
          -1.042495473341123,
          1.4179918699990184,
          -1.7072056935387103,
          1.5472728948676222,
          -0.12272100040557254,
          -1.5950573585055334,
          0.15378752892536862,
          -1.5158020234452823,
          0.35757369273879896,
          0.030330024715052306,
          0.5305137448732574,
          0.5063646604902491,
          -1.3044749851614323,
          -0.9238000638359798,
          -0.8593459950759047,
          -0.8880271347939686,
          -0.6393546630439428,
          -0.21638696058562756,
          0.5305137448732574,
          0.3792336381163214,
          -0.9978701583672306,
          0.24931731321912154,
          0.05756227228095029,
          -1.2397454075267071,
          1.2780601949512265,
          -0.10863399808951586,
          -0.2107793401258337,
          -0.29120046811213984,
          -1.8319505334685862,
          -0.0491844382766743,
          1.3319810228349425,
          0.38011871476704684,
          -0.5547483724494815,
          -0.4773991991057913,
          -0.01885776832652764,
          2.083607641950495,
          0.5019017353092347,
          1.164826212690337,
          -0.33267410582722473,
          -0.567485799705859,
          -0.21335053062725162,
          -0.37947358391757136,
          1.5669198703543192,
          -1.252227865051903,
          1.4733934612819577,
          0.2950302432708869,
          -0.3911697100304558,
          1.9506134740652192,
          -1.3039572485580653,
          -0.2646141027048185,
          1.1745371841278254,
          0.7332049553669773,
          0.40787226982268265,
          -0.0700409608238554,
          0.9641079920298492,
          -0.7510364354348971,
          -0.5507022164536642,
          -0.3803906278167402,
          0.5946382945523817,
          1.1556929985029658,
          0.24728461617888295,
          -1.5282662275837136,
          0.8294023660848131,
          -1.0524652240917058,
          0.16304731435801156,
          1.4641369891508034,
          0.15378752892536862,
          1.6818403861386555,
          5.35292213997846,
          0.18684346159249685,
          0.4889378708015054,
          -0.4506482465367655,
          1.3891756534311026,
          0.8580076675687974,
          0.3088028358131526,
          0.941772667175591,
          0.505301827698737,
          0.9156462926385307,
          0.2797000658723828,
          1.0463882598360845,
          -1.3612332448929134,
          0.6049897975119967,
          -0.06543314271059848,
          -1.0108996225873643,
          0.9579782613824382,
          0.7252543780891754,
          -1.36912889251583,
          1.3807542463331037,
          0.7257446567852908,
          1.601511601852474,
          -0.13594760851282506,
          0.33530494141182837,
          -1.4934173404774074,
          0.6746094015060963,
          -0.37106434897488283,
          -1.3037552248843616,
          -0.5547483724494815,
          1.140173148544466,
          0.7316435087966041,
          -0.770448536941292,
          1.3090641217710295,
          0.5606042947988271,
          1.5022066465158836,
          2.0043866121608263,
          -0.157320582947848,
          -1.188042408518884,
          0.6165824461465597,
          0.8794436105113232,
          0.1835059416839746,
          -0.6227415537368399,
          0.5190881755161992,
          -0.8512030334430355,
          -1.5624517801768787,
          1.7557378683622409,
          0.4721882153098292,
          -1.7470268311650106,
          -0.44389495120086075,
          -0.8351537643913647,
          0.3566834587710539,
          0.7145994336929551,
          0.5244451833779368,
          -0.8487825870092854,
          1.6538498614795787,
          -0.0397159499033653,
          -0.6578821407405817,
          0.38700835217415674,
          -1.0429267048069075,
          0.3960769123294702,
          0.32567600803492003,
          -1.0696500851663928,
          -2.498700474833537,
          -0.9746776732691993,
          0.3792336381163214,
          -0.5709870751505297,
          0.26227557067205787,
          -0.24695538881781598,
          -1.1473221196669579,
          -0.0491844382766743,
          0.23989386642114122,
          0.3184997323551943,
          -1.0629697147961479,
          0.6701186728270856,
          0.5128595234322217,
          0.6320329944543434,
          -1.1731659078568264,
          0.03952824119736942,
          -1.269952286230965,
          0.856571680748048,
          -0.8977872724626939,
          -0.970811622594322,
          0.19182873460454308,
          0.2336292575061032,
          2.2692899025029476,
          -1.2140561129121825,
          0.3471374217527889,
          0.550260261431842,
          1.2058020229635973,
          -0.0015168394811260828,
          -0.781708068303815,
          0.003485678210227272,
          2.042015376089941,
          0.1869271089993554,
          -0.12300009092951442,
          0.36814325094283523,
          -0.400386090162596,
          -0.1994719902143675,
          -1.1465289568914978,
          1.4463457173647998,
          0.5128595234322217,
          0.15378752892536862,
          -2.3860029596239967,
          -2.498700474833537,
          -1.1582283307064833,
          1.4479555874952368,
          -1.86257359000279,
          -1.2420327374696614,
          -0.04068580996707902,
          0.4388487477202534,
          -0.1454890137238287,
          -0.3416944929343938,
          0.3362875277756355,
          -0.536228433962193,
          -0.3035575716149484,
          -0.2017909174006377,
          -0.3834299342077194,
          0.29849489844568233,
          -0.16419004276161603,
          -0.32853661451042604,
          -0.1378956100651927,
          1.1217152075846775,
          -0.1994719902143675,
          0.6320329944543434,
          1.644825182046553,
          0.5175894427157657,
          0.35953353010235417,
          -0.5868463926732811,
          -0.21638696058562756,
          0.6037975663441016,
          -1.707804185321797,
          -0.6879302509236522,
          0.6495738899163058,
          2.80363827927704,
          1.2247078451683402,
          -0.11110506202544211,
          -0.4378103785779063,
          -0.06382234426580813,
          -1.4428815635037189,
          -0.39966796238423774,
          -0.4139565225914571,
          -0.781708068303815,
          -0.7649194839950699,
          -0.2980471339637317,
          -0.536228433962193,
          -1.3567671205441134,
          -1.2381446354937489,
          -1.559734913180014,
          4.945017934913639,
          -1.099472133209868,
          0.6634165306117736,
          0.592317044550978,
          0.6701186728270856,
          -0.8396674041663161
         ],
         "xaxis": "x",
         "y": [
          "Ridge",
          "Ridge",
          "Ridge",
          "Ridge",
          "Ridge",
          "Ridge",
          "Ridge",
          "Ridge",
          "Ridge",
          "Ridge",
          "Ridge",
          "Ridge",
          "Ridge",
          "Ridge",
          "Ridge",
          "Ridge",
          "Ridge",
          "Ridge",
          "Ridge",
          "Ridge",
          "Ridge",
          "Ridge",
          "Ridge",
          "Ridge",
          "Ridge",
          "Ridge",
          "Ridge",
          "Ridge",
          "Ridge",
          "Ridge",
          "Ridge",
          "Ridge",
          "Ridge",
          "Ridge",
          "Ridge",
          "Ridge",
          "Ridge",
          "Ridge",
          "Ridge",
          "Ridge",
          "Ridge",
          "Ridge",
          "Ridge",
          "Ridge",
          "Ridge",
          "Ridge",
          "Ridge",
          "Ridge",
          "Ridge",
          "Ridge",
          "Ridge",
          "Ridge",
          "Ridge",
          "Ridge",
          "Ridge",
          "Ridge",
          "Ridge",
          "Ridge",
          "Ridge",
          "Ridge",
          "Ridge",
          "Ridge",
          "Ridge",
          "Ridge",
          "Ridge",
          "Ridge",
          "Ridge",
          "Ridge",
          "Ridge",
          "Ridge",
          "Ridge",
          "Ridge",
          "Ridge",
          "Ridge",
          "Ridge",
          "Ridge",
          "Ridge",
          "Ridge",
          "Ridge",
          "Ridge",
          "Ridge",
          "Ridge",
          "Ridge",
          "Ridge",
          "Ridge",
          "Ridge",
          "Ridge",
          "Ridge",
          "Ridge",
          "Ridge",
          "Ridge",
          "Ridge",
          "Ridge",
          "Ridge",
          "Ridge",
          "Ridge",
          "Ridge",
          "Ridge",
          "Ridge",
          "Ridge",
          "Ridge",
          "Ridge",
          "Ridge",
          "Ridge",
          "Ridge",
          "Ridge",
          "Ridge",
          "Ridge",
          "Ridge",
          "Ridge",
          "Ridge",
          "Ridge",
          "Ridge",
          "Ridge",
          "Ridge",
          "Ridge",
          "Ridge",
          "Ridge",
          "Ridge",
          "Ridge",
          "Ridge",
          "Ridge",
          "Ridge",
          "Ridge",
          "Ridge",
          "Ridge",
          "Ridge",
          "Ridge",
          "Ridge",
          "Ridge",
          "Ridge",
          "Ridge",
          "Ridge",
          "Ridge",
          "Ridge",
          "Ridge",
          "Ridge",
          "Ridge",
          "Ridge",
          "Ridge",
          "Ridge",
          "Ridge",
          "Ridge",
          "Ridge",
          "Ridge",
          "Ridge",
          "Ridge",
          "Ridge",
          "Ridge",
          "Ridge",
          "Ridge",
          "Ridge",
          "Ridge",
          "Ridge",
          "Ridge",
          "Ridge",
          "Ridge",
          "Ridge",
          "Ridge",
          "Ridge",
          "Ridge",
          "Ridge",
          "Ridge",
          "Ridge",
          "Ridge",
          "Ridge",
          "Ridge",
          "Ridge",
          "Ridge",
          "Ridge",
          "Ridge",
          "Ridge",
          "Ridge",
          "Ridge",
          "Ridge",
          "Ridge",
          "Ridge",
          "Ridge",
          "Ridge",
          "Ridge",
          "Ridge",
          "Ridge",
          "Ridge",
          "Ridge",
          "Ridge",
          "Ridge",
          "Ridge",
          "Ridge",
          "Ridge",
          "Ridge",
          "Ridge",
          "Ridge",
          "Ridge",
          "Ridge",
          "Ridge",
          "Ridge",
          "Ridge",
          "Ridge",
          "Ridge",
          "Ridge",
          "Ridge",
          "Ridge",
          "Ridge",
          "Ridge",
          "Ridge",
          "Ridge",
          "Ridge",
          "Ridge",
          "Ridge",
          "Ridge",
          "Ridge",
          "Ridge",
          "Ridge",
          "Ridge",
          "Ridge",
          "Ridge",
          "Ridge",
          "Ridge",
          "Ridge",
          "Ridge",
          "Ridge",
          "Ridge",
          "Ridge",
          "Ridge",
          "Ridge",
          "Ridge",
          "Ridge",
          "Ridge",
          "Ridge",
          "Ridge",
          "Ridge",
          "Ridge",
          "Ridge",
          "Ridge",
          "Ridge",
          "Ridge",
          "Ridge",
          "Ridge",
          "Ridge",
          "Ridge",
          "Ridge",
          "Ridge",
          "Ridge",
          "Ridge",
          "Ridge",
          "Ridge",
          "Ridge",
          "Ridge",
          "Ridge",
          "Ridge",
          "Ridge",
          "Ridge",
          "Ridge",
          "Ridge",
          "Ridge",
          "Ridge",
          "Ridge",
          "Ridge",
          "Ridge",
          "Ridge",
          "Ridge",
          "Ridge",
          "Ridge",
          "Ridge",
          "Ridge",
          "Ridge",
          "Ridge",
          "Ridge",
          "Ridge",
          "Ridge"
         ],
         "yaxis": "y2"
        }
       ],
       "layout": {
        "barmode": "overlay",
        "hovermode": "closest",
        "legend": {
         "traceorder": "reversed"
        },
        "template": {
         "data": {
          "bar": [
           {
            "error_x": {
             "color": "#2a3f5f"
            },
            "error_y": {
             "color": "#2a3f5f"
            },
            "marker": {
             "line": {
              "color": "#E5ECF6",
              "width": 0.5
             }
            },
            "type": "bar"
           }
          ],
          "barpolar": [
           {
            "marker": {
             "line": {
              "color": "#E5ECF6",
              "width": 0.5
             }
            },
            "type": "barpolar"
           }
          ],
          "carpet": [
           {
            "aaxis": {
             "endlinecolor": "#2a3f5f",
             "gridcolor": "white",
             "linecolor": "white",
             "minorgridcolor": "white",
             "startlinecolor": "#2a3f5f"
            },
            "baxis": {
             "endlinecolor": "#2a3f5f",
             "gridcolor": "white",
             "linecolor": "white",
             "minorgridcolor": "white",
             "startlinecolor": "#2a3f5f"
            },
            "type": "carpet"
           }
          ],
          "choropleth": [
           {
            "colorbar": {
             "outlinewidth": 0,
             "ticks": ""
            },
            "type": "choropleth"
           }
          ],
          "contour": [
           {
            "colorbar": {
             "outlinewidth": 0,
             "ticks": ""
            },
            "colorscale": [
             [
              0,
              "#0d0887"
             ],
             [
              0.1111111111111111,
              "#46039f"
             ],
             [
              0.2222222222222222,
              "#7201a8"
             ],
             [
              0.3333333333333333,
              "#9c179e"
             ],
             [
              0.4444444444444444,
              "#bd3786"
             ],
             [
              0.5555555555555556,
              "#d8576b"
             ],
             [
              0.6666666666666666,
              "#ed7953"
             ],
             [
              0.7777777777777778,
              "#fb9f3a"
             ],
             [
              0.8888888888888888,
              "#fdca26"
             ],
             [
              1,
              "#f0f921"
             ]
            ],
            "type": "contour"
           }
          ],
          "contourcarpet": [
           {
            "colorbar": {
             "outlinewidth": 0,
             "ticks": ""
            },
            "type": "contourcarpet"
           }
          ],
          "heatmap": [
           {
            "colorbar": {
             "outlinewidth": 0,
             "ticks": ""
            },
            "colorscale": [
             [
              0,
              "#0d0887"
             ],
             [
              0.1111111111111111,
              "#46039f"
             ],
             [
              0.2222222222222222,
              "#7201a8"
             ],
             [
              0.3333333333333333,
              "#9c179e"
             ],
             [
              0.4444444444444444,
              "#bd3786"
             ],
             [
              0.5555555555555556,
              "#d8576b"
             ],
             [
              0.6666666666666666,
              "#ed7953"
             ],
             [
              0.7777777777777778,
              "#fb9f3a"
             ],
             [
              0.8888888888888888,
              "#fdca26"
             ],
             [
              1,
              "#f0f921"
             ]
            ],
            "type": "heatmap"
           }
          ],
          "heatmapgl": [
           {
            "colorbar": {
             "outlinewidth": 0,
             "ticks": ""
            },
            "colorscale": [
             [
              0,
              "#0d0887"
             ],
             [
              0.1111111111111111,
              "#46039f"
             ],
             [
              0.2222222222222222,
              "#7201a8"
             ],
             [
              0.3333333333333333,
              "#9c179e"
             ],
             [
              0.4444444444444444,
              "#bd3786"
             ],
             [
              0.5555555555555556,
              "#d8576b"
             ],
             [
              0.6666666666666666,
              "#ed7953"
             ],
             [
              0.7777777777777778,
              "#fb9f3a"
             ],
             [
              0.8888888888888888,
              "#fdca26"
             ],
             [
              1,
              "#f0f921"
             ]
            ],
            "type": "heatmapgl"
           }
          ],
          "histogram": [
           {
            "marker": {
             "colorbar": {
              "outlinewidth": 0,
              "ticks": ""
             }
            },
            "type": "histogram"
           }
          ],
          "histogram2d": [
           {
            "colorbar": {
             "outlinewidth": 0,
             "ticks": ""
            },
            "colorscale": [
             [
              0,
              "#0d0887"
             ],
             [
              0.1111111111111111,
              "#46039f"
             ],
             [
              0.2222222222222222,
              "#7201a8"
             ],
             [
              0.3333333333333333,
              "#9c179e"
             ],
             [
              0.4444444444444444,
              "#bd3786"
             ],
             [
              0.5555555555555556,
              "#d8576b"
             ],
             [
              0.6666666666666666,
              "#ed7953"
             ],
             [
              0.7777777777777778,
              "#fb9f3a"
             ],
             [
              0.8888888888888888,
              "#fdca26"
             ],
             [
              1,
              "#f0f921"
             ]
            ],
            "type": "histogram2d"
           }
          ],
          "histogram2dcontour": [
           {
            "colorbar": {
             "outlinewidth": 0,
             "ticks": ""
            },
            "colorscale": [
             [
              0,
              "#0d0887"
             ],
             [
              0.1111111111111111,
              "#46039f"
             ],
             [
              0.2222222222222222,
              "#7201a8"
             ],
             [
              0.3333333333333333,
              "#9c179e"
             ],
             [
              0.4444444444444444,
              "#bd3786"
             ],
             [
              0.5555555555555556,
              "#d8576b"
             ],
             [
              0.6666666666666666,
              "#ed7953"
             ],
             [
              0.7777777777777778,
              "#fb9f3a"
             ],
             [
              0.8888888888888888,
              "#fdca26"
             ],
             [
              1,
              "#f0f921"
             ]
            ],
            "type": "histogram2dcontour"
           }
          ],
          "mesh3d": [
           {
            "colorbar": {
             "outlinewidth": 0,
             "ticks": ""
            },
            "type": "mesh3d"
           }
          ],
          "parcoords": [
           {
            "line": {
             "colorbar": {
              "outlinewidth": 0,
              "ticks": ""
             }
            },
            "type": "parcoords"
           }
          ],
          "pie": [
           {
            "automargin": true,
            "type": "pie"
           }
          ],
          "scatter": [
           {
            "marker": {
             "colorbar": {
              "outlinewidth": 0,
              "ticks": ""
             }
            },
            "type": "scatter"
           }
          ],
          "scatter3d": [
           {
            "line": {
             "colorbar": {
              "outlinewidth": 0,
              "ticks": ""
             }
            },
            "marker": {
             "colorbar": {
              "outlinewidth": 0,
              "ticks": ""
             }
            },
            "type": "scatter3d"
           }
          ],
          "scattercarpet": [
           {
            "marker": {
             "colorbar": {
              "outlinewidth": 0,
              "ticks": ""
             }
            },
            "type": "scattercarpet"
           }
          ],
          "scattergeo": [
           {
            "marker": {
             "colorbar": {
              "outlinewidth": 0,
              "ticks": ""
             }
            },
            "type": "scattergeo"
           }
          ],
          "scattergl": [
           {
            "marker": {
             "colorbar": {
              "outlinewidth": 0,
              "ticks": ""
             }
            },
            "type": "scattergl"
           }
          ],
          "scattermapbox": [
           {
            "marker": {
             "colorbar": {
              "outlinewidth": 0,
              "ticks": ""
             }
            },
            "type": "scattermapbox"
           }
          ],
          "scatterpolar": [
           {
            "marker": {
             "colorbar": {
              "outlinewidth": 0,
              "ticks": ""
             }
            },
            "type": "scatterpolar"
           }
          ],
          "scatterpolargl": [
           {
            "marker": {
             "colorbar": {
              "outlinewidth": 0,
              "ticks": ""
             }
            },
            "type": "scatterpolargl"
           }
          ],
          "scatterternary": [
           {
            "marker": {
             "colorbar": {
              "outlinewidth": 0,
              "ticks": ""
             }
            },
            "type": "scatterternary"
           }
          ],
          "surface": [
           {
            "colorbar": {
             "outlinewidth": 0,
             "ticks": ""
            },
            "colorscale": [
             [
              0,
              "#0d0887"
             ],
             [
              0.1111111111111111,
              "#46039f"
             ],
             [
              0.2222222222222222,
              "#7201a8"
             ],
             [
              0.3333333333333333,
              "#9c179e"
             ],
             [
              0.4444444444444444,
              "#bd3786"
             ],
             [
              0.5555555555555556,
              "#d8576b"
             ],
             [
              0.6666666666666666,
              "#ed7953"
             ],
             [
              0.7777777777777778,
              "#fb9f3a"
             ],
             [
              0.8888888888888888,
              "#fdca26"
             ],
             [
              1,
              "#f0f921"
             ]
            ],
            "type": "surface"
           }
          ],
          "table": [
           {
            "cells": {
             "fill": {
              "color": "#EBF0F8"
             },
             "line": {
              "color": "white"
             }
            },
            "header": {
             "fill": {
              "color": "#C8D4E3"
             },
             "line": {
              "color": "white"
             }
            },
            "type": "table"
           }
          ]
         },
         "layout": {
          "annotationdefaults": {
           "arrowcolor": "#2a3f5f",
           "arrowhead": 0,
           "arrowwidth": 1
          },
          "autotypenumbers": "strict",
          "coloraxis": {
           "colorbar": {
            "outlinewidth": 0,
            "ticks": ""
           }
          },
          "colorscale": {
           "diverging": [
            [
             0,
             "#8e0152"
            ],
            [
             0.1,
             "#c51b7d"
            ],
            [
             0.2,
             "#de77ae"
            ],
            [
             0.3,
             "#f1b6da"
            ],
            [
             0.4,
             "#fde0ef"
            ],
            [
             0.5,
             "#f7f7f7"
            ],
            [
             0.6,
             "#e6f5d0"
            ],
            [
             0.7,
             "#b8e186"
            ],
            [
             0.8,
             "#7fbc41"
            ],
            [
             0.9,
             "#4d9221"
            ],
            [
             1,
             "#276419"
            ]
           ],
           "sequential": [
            [
             0,
             "#0d0887"
            ],
            [
             0.1111111111111111,
             "#46039f"
            ],
            [
             0.2222222222222222,
             "#7201a8"
            ],
            [
             0.3333333333333333,
             "#9c179e"
            ],
            [
             0.4444444444444444,
             "#bd3786"
            ],
            [
             0.5555555555555556,
             "#d8576b"
            ],
            [
             0.6666666666666666,
             "#ed7953"
            ],
            [
             0.7777777777777778,
             "#fb9f3a"
            ],
            [
             0.8888888888888888,
             "#fdca26"
            ],
            [
             1,
             "#f0f921"
            ]
           ],
           "sequentialminus": [
            [
             0,
             "#0d0887"
            ],
            [
             0.1111111111111111,
             "#46039f"
            ],
            [
             0.2222222222222222,
             "#7201a8"
            ],
            [
             0.3333333333333333,
             "#9c179e"
            ],
            [
             0.4444444444444444,
             "#bd3786"
            ],
            [
             0.5555555555555556,
             "#d8576b"
            ],
            [
             0.6666666666666666,
             "#ed7953"
            ],
            [
             0.7777777777777778,
             "#fb9f3a"
            ],
            [
             0.8888888888888888,
             "#fdca26"
            ],
            [
             1,
             "#f0f921"
            ]
           ]
          },
          "colorway": [
           "#636efa",
           "#EF553B",
           "#00cc96",
           "#ab63fa",
           "#FFA15A",
           "#19d3f3",
           "#FF6692",
           "#B6E880",
           "#FF97FF",
           "#FECB52"
          ],
          "font": {
           "color": "#2a3f5f"
          },
          "geo": {
           "bgcolor": "white",
           "lakecolor": "white",
           "landcolor": "#E5ECF6",
           "showlakes": true,
           "showland": true,
           "subunitcolor": "white"
          },
          "hoverlabel": {
           "align": "left"
          },
          "hovermode": "closest",
          "mapbox": {
           "style": "light"
          },
          "paper_bgcolor": "white",
          "plot_bgcolor": "#E5ECF6",
          "polar": {
           "angularaxis": {
            "gridcolor": "white",
            "linecolor": "white",
            "ticks": ""
           },
           "bgcolor": "#E5ECF6",
           "radialaxis": {
            "gridcolor": "white",
            "linecolor": "white",
            "ticks": ""
           }
          },
          "scene": {
           "xaxis": {
            "backgroundcolor": "#E5ECF6",
            "gridcolor": "white",
            "gridwidth": 2,
            "linecolor": "white",
            "showbackground": true,
            "ticks": "",
            "zerolinecolor": "white"
           },
           "yaxis": {
            "backgroundcolor": "#E5ECF6",
            "gridcolor": "white",
            "gridwidth": 2,
            "linecolor": "white",
            "showbackground": true,
            "ticks": "",
            "zerolinecolor": "white"
           },
           "zaxis": {
            "backgroundcolor": "#E5ECF6",
            "gridcolor": "white",
            "gridwidth": 2,
            "linecolor": "white",
            "showbackground": true,
            "ticks": "",
            "zerolinecolor": "white"
           }
          },
          "shapedefaults": {
           "line": {
            "color": "#2a3f5f"
           }
          },
          "ternary": {
           "aaxis": {
            "gridcolor": "white",
            "linecolor": "white",
            "ticks": ""
           },
           "baxis": {
            "gridcolor": "white",
            "linecolor": "white",
            "ticks": ""
           },
           "bgcolor": "#E5ECF6",
           "caxis": {
            "gridcolor": "white",
            "linecolor": "white",
            "ticks": ""
           }
          },
          "title": {
           "x": 0.05
          },
          "xaxis": {
           "automargin": true,
           "gridcolor": "white",
           "linecolor": "white",
           "ticks": "",
           "title": {
            "standoff": 15
           },
           "zerolinecolor": "white",
           "zerolinewidth": 2
          },
          "yaxis": {
           "automargin": true,
           "gridcolor": "white",
           "linecolor": "white",
           "ticks": "",
           "title": {
            "standoff": 15
           },
           "zerolinecolor": "white",
           "zerolinewidth": 2
          }
         }
        },
        "xaxis": {
         "anchor": "y2",
         "domain": [
          0,
          1
         ],
         "zeroline": false
        },
        "yaxis": {
         "anchor": "free",
         "domain": [
          0.35,
          1
         ],
         "position": 0
        },
        "yaxis2": {
         "anchor": "x",
         "domain": [
          0,
          0.25
         ],
         "dtick": 1,
         "showticklabels": false
        }
       }
      },
      "text/html": [
       "<div>                            <div id=\"0bf15a9b-9a58-4204-8e49-293128928384\" class=\"plotly-graph-div\" style=\"height:525px; width:100%;\"></div>            <script type=\"text/javascript\">                require([\"plotly\"], function(Plotly) {                    window.PLOTLYENV=window.PLOTLYENV || {};                                    if (document.getElementById(\"0bf15a9b-9a58-4204-8e49-293128928384\")) {                    Plotly.newPlot(                        \"0bf15a9b-9a58-4204-8e49-293128928384\",                        [{\"autobinx\": false, \"histnorm\": \"probability density\", \"legendgroup\": \"Lasso\", \"marker\": {\"color\": \"rgb(31, 119, 180)\"}, \"name\": \"Lasso\", \"opacity\": 0.7, \"type\": \"histogram\", \"x\": [-0.2988645822136683, 0.3408157190759778, 0.0, -5.0775858518346, -0.011546218132248353, 2.50475330358318, 0.0, 0.0, -1.2254666741348454, 0.0, 0.0, -0.0, -0.0, -0.0, -0.0, 0.8911508709272506, 0.0, -0.0, -0.0, -0.0, -0.0, -0.0, 0.48261306316596353, 0.0, -0.0, -0.0, -0.0, 0.0, 0.0, 0.29259736827072497, 0.0, 0.0, 0.0, -0.0, -0.0, -0.0, 0.0, 0.0, 0.0, -0.0, -0.0, -0.0, 0.0, -0.0, 0.0, 0.0, -0.0, 0.0, -0.0, 0.0, -0.0, 0.0, -0.0, -0.0, 0.0, -0.0, 0.0, -0.0, 0.0, 0.0, -0.8137493295508568, -0.0, -0.0, -0.0, -0.0, -0.0, 0.0, 0.0, -0.0, 0.0, 0.0, -0.0, 0.0, 0.0, -0.0, -0.0, -0.0, -0.0, 0.0, 0.0, -0.0, -0.0, -0.0, 0.0, 0.0, 0.0, -0.0, -0.0, -0.0, -0.0, 0.0, -0.0, 0.857715591775868, -0.0, -0.0, 1.1721102608593408, -0.0, -0.0, 0.2887092608544712, 0.0, 0.0, -0.0, 0.0, -0.0, -0.0, -0.0, 0.20926544012577397, 0.0, 0.0, -0.0, 0.0, -0.0, -0.0, 1.5557826281399485, 0.0, 0.0, 5.60868688487343, -0.0, 0.0, -0.0, 0.0, 0.0, 0.0, 0.0, 0.0, 0.0, 0.0, 0.0, -0.0, 0.0, -0.0, -0.5834694165847317, 0.0, 0.0, -0.0, 0.0, -0.0, 0.0, -0.0, 0.0, -0.0, 0.0, -0.0, -0.0, -0.0, 0.0, 0.0, -0.0, 0.5677323661704804, 0.0, 1.6083497158913294, 1.1672531907630226, -0.0, -0.6403255347633285, 0.0, 0.0, 0.0, -0.0, 0.0, -0.0, -0.0, 0.0, 0.0, -0.0, -0.0, -0.0, 0.0, 0.0, 0.0, -0.0, 0.0, 0.0, -0.0, 0.0, -0.0, 0.0, 0.0, -0.0, -0.40210406095102963, -0.0, 0.0, -0.0, -0.0, -0.0, -0.0, -0.0, -0.0, 0.0, -0.0, 0.0, 0.0, 0.0, -0.0, 0.0, -0.0, 0.0, -0.0, -0.0, 0.0, 0.0, 0.0, -0.0, 0.0, 0.7072730612261542, 1.6226804361881382, 0.0, -0.0, -0.0, 0.4051983255690641, 0.0, -0.0, 0.0, -0.0, -0.0, -0.0, 1.224714232790628, 0.0, 0.0, -1.1811727255510334, -0.003019012500058569, -0.0, 0.0, -0.0, -0.0, 0.0, 0.0, -0.0, -0.0, 0.0, -0.0, -0.0, -0.0, -0.0, 0.0, -0.0, -0.0, 0.0, 0.0, -0.0, 0.0, 0.0, 0.0, 0.0, -0.0, -0.0, 0.19289042452120514, -0.0, -0.0, 0.0, 0.953787565634395, 0.0, -0.0, -0.0, -0.0, -0.0, -0.0, -0.0, -0.0, -0.0, -0.0, -0.0, -0.0, -0.0, -0.0, 6.58090326308205, -0.0, 0.0, 0.0, 0.0, -0.0], \"xaxis\": \"x\", \"xbins\": {\"end\": 6.58090326308205, \"size\": 0.1, \"start\": -5.0775858518346}, \"yaxis\": \"y\"}, {\"autobinx\": false, \"histnorm\": \"probability density\", \"legendgroup\": \"Ridge\", \"marker\": {\"color\": \"rgb(255, 127, 14)\"}, \"name\": \"Ridge\", \"opacity\": 0.7, \"type\": \"histogram\", \"x\": [-1.1129087993445883, 0.8294144662534814, -0.5787984166623268, -4.491722023112541, -0.32314439645022025, 2.5528447785053894, 0.6441174358231824, 0.1409552018903455, -0.7850726377135705, 0.7655534592397848, 0.3566834587710539, -1.5694262616057055, 0.26227557067205787, -0.25740342390755994, -0.7824098482842321, 2.593492116092447, 0.5606042947988271, -0.45173420352267224, -1.2515177116236575, -1.2566996189796298, -0.8399631100452208, -0.9115025384574141, 2.4240448138352138, 0.5895441677219551, -1.0812932141466685, -1.707804185321797, -0.14992684171099205, 0.8871041754357937, 0.6283527413632991, 1.8381784632119191, 0.505301827698737, 1.8475439808285323, 1.166041725122704, -0.2943188274364649, -0.8460284506774254, -1.17439061990725, 0.3875825329008674, 1.5379256032546271, 0.7316435087966041, -1.8849743338030243, -0.3803906278167402, -0.08497089850913538, 1.2408957059769552, -0.675384692841842, 0.9156462926385307, 1.3807542463331037, -1.8741582993187103, -0.3036013953089616, -1.042495473341123, 1.4179918699990184, -1.7072056935387103, 1.5472728948676222, -0.12272100040557254, -1.5950573585055334, 0.15378752892536862, -1.5158020234452823, 0.35757369273879896, 0.030330024715052306, 0.5305137448732574, 0.5063646604902491, -1.3044749851614323, -0.9238000638359798, -0.8593459950759047, -0.8880271347939686, -0.6393546630439428, -0.21638696058562756, 0.5305137448732574, 0.3792336381163214, -0.9978701583672306, 0.24931731321912154, 0.05756227228095029, -1.2397454075267071, 1.2780601949512265, -0.10863399808951586, -0.2107793401258337, -0.29120046811213984, -1.8319505334685862, -0.0491844382766743, 1.3319810228349425, 0.38011871476704684, -0.5547483724494815, -0.4773991991057913, -0.01885776832652764, 2.083607641950495, 0.5019017353092347, 1.164826212690337, -0.33267410582722473, -0.567485799705859, -0.21335053062725162, -0.37947358391757136, 1.5669198703543192, -1.252227865051903, 1.4733934612819577, 0.2950302432708869, -0.3911697100304558, 1.9506134740652192, -1.3039572485580653, -0.2646141027048185, 1.1745371841278254, 0.7332049553669773, 0.40787226982268265, -0.0700409608238554, 0.9641079920298492, -0.7510364354348971, -0.5507022164536642, -0.3803906278167402, 0.5946382945523817, 1.1556929985029658, 0.24728461617888295, -1.5282662275837136, 0.8294023660848131, -1.0524652240917058, 0.16304731435801156, 1.4641369891508034, 0.15378752892536862, 1.6818403861386555, 5.35292213997846, 0.18684346159249685, 0.4889378708015054, -0.4506482465367655, 1.3891756534311026, 0.8580076675687974, 0.3088028358131526, 0.941772667175591, 0.505301827698737, 0.9156462926385307, 0.2797000658723828, 1.0463882598360845, -1.3612332448929134, 0.6049897975119967, -0.06543314271059848, -1.0108996225873643, 0.9579782613824382, 0.7252543780891754, -1.36912889251583, 1.3807542463331037, 0.7257446567852908, 1.601511601852474, -0.13594760851282506, 0.33530494141182837, -1.4934173404774074, 0.6746094015060963, -0.37106434897488283, -1.3037552248843616, -0.5547483724494815, 1.140173148544466, 0.7316435087966041, -0.770448536941292, 1.3090641217710295, 0.5606042947988271, 1.5022066465158836, 2.0043866121608263, -0.157320582947848, -1.188042408518884, 0.6165824461465597, 0.8794436105113232, 0.1835059416839746, -0.6227415537368399, 0.5190881755161992, -0.8512030334430355, -1.5624517801768787, 1.7557378683622409, 0.4721882153098292, -1.7470268311650106, -0.44389495120086075, -0.8351537643913647, 0.3566834587710539, 0.7145994336929551, 0.5244451833779368, -0.8487825870092854, 1.6538498614795787, -0.0397159499033653, -0.6578821407405817, 0.38700835217415674, -1.0429267048069075, 0.3960769123294702, 0.32567600803492003, -1.0696500851663928, -2.498700474833537, -0.9746776732691993, 0.3792336381163214, -0.5709870751505297, 0.26227557067205787, -0.24695538881781598, -1.1473221196669579, -0.0491844382766743, 0.23989386642114122, 0.3184997323551943, -1.0629697147961479, 0.6701186728270856, 0.5128595234322217, 0.6320329944543434, -1.1731659078568264, 0.03952824119736942, -1.269952286230965, 0.856571680748048, -0.8977872724626939, -0.970811622594322, 0.19182873460454308, 0.2336292575061032, 2.2692899025029476, -1.2140561129121825, 0.3471374217527889, 0.550260261431842, 1.2058020229635973, -0.0015168394811260828, -0.781708068303815, 0.003485678210227272, 2.042015376089941, 0.1869271089993554, -0.12300009092951442, 0.36814325094283523, -0.400386090162596, -0.1994719902143675, -1.1465289568914978, 1.4463457173647998, 0.5128595234322217, 0.15378752892536862, -2.3860029596239967, -2.498700474833537, -1.1582283307064833, 1.4479555874952368, -1.86257359000279, -1.2420327374696614, -0.04068580996707902, 0.4388487477202534, -0.1454890137238287, -0.3416944929343938, 0.3362875277756355, -0.536228433962193, -0.3035575716149484, -0.2017909174006377, -0.3834299342077194, 0.29849489844568233, -0.16419004276161603, -0.32853661451042604, -0.1378956100651927, 1.1217152075846775, -0.1994719902143675, 0.6320329944543434, 1.644825182046553, 0.5175894427157657, 0.35953353010235417, -0.5868463926732811, -0.21638696058562756, 0.6037975663441016, -1.707804185321797, -0.6879302509236522, 0.6495738899163058, 2.80363827927704, 1.2247078451683402, -0.11110506202544211, -0.4378103785779063, -0.06382234426580813, -1.4428815635037189, -0.39966796238423774, -0.4139565225914571, -0.781708068303815, -0.7649194839950699, -0.2980471339637317, -0.536228433962193, -1.3567671205441134, -1.2381446354937489, -1.559734913180014, 4.945017934913639, -1.099472133209868, 0.6634165306117736, 0.592317044550978, 0.6701186728270856, -0.8396674041663161], \"xaxis\": \"x\", \"xbins\": {\"end\": 5.35292213997846, \"size\": 0.1, \"start\": -4.491722023112541}, \"yaxis\": \"y\"}, {\"legendgroup\": \"Lasso\", \"marker\": {\"color\": \"rgb(31, 119, 180)\"}, \"mode\": \"lines\", \"name\": \"Lasso\", \"showlegend\": false, \"type\": \"scatter\", \"x\": [-5.0775858518346, -5.054268873604767, -5.030951895374933, -5.007634917145101, -4.984317938915267, -4.961000960685434, -4.9376839824556, -4.914367004225767, -4.891050025995934, -4.867733047766101, -4.844416069536267, -4.821099091306434, -4.7977821130766, -4.774465134846768, -4.751148156616934, -4.727831178387101, -4.704514200157267, -4.681197221927434, -4.657880243697601, -4.634563265467768, -4.611246287237934, -4.587929309008101, -4.564612330778267, -4.541295352548435, -4.517978374318601, -4.494661396088768, -4.471344417858934, -4.448027439629101, -4.424710461399268, -4.401393483169435, -4.378076504939601, -4.354759526709768, -4.331442548479934, -4.308125570250101, -4.284808592020268, -4.261491613790435, -4.238174635560601, -4.214857657330768, -4.191540679100935, -4.168223700871102, -4.144906722641268, -4.121589744411435, -4.098272766181601, -4.074955787951769, -4.0516388097219345, -4.028321831492102, -4.005004853262268, -3.981687875032435, -3.9583708968026015, -3.9350539185727684, -3.9117369403429354, -3.888419962113102, -3.8651029838832685, -3.8417860056534354, -3.8184690274236024, -3.795152049193769, -3.7718350709639354, -3.748518092734102, -3.725201114504269, -3.7018841362744355, -3.6785671580446024, -3.655250179814769, -3.6319332015849355, -3.608616223355102, -3.585299245125269, -3.561982266895436, -3.5386652886656025, -3.515348310435769, -3.4920313322059355, -3.4687143539761025, -3.445397375746269, -3.422080397516436, -3.3987634192866025, -3.3754464410567695, -3.352129462826936, -3.328812484597103, -3.3054955063672695, -3.282178528137436, -3.2588615499076026, -3.2355445716777695, -3.2122275934479365, -3.188910615218103, -3.1655936369882696, -3.142276658758436, -3.118959680528603, -3.0956427022987696, -3.0723257240689366, -3.049008745839103, -3.0256917676092696, -3.0023747893794366, -2.979057811149603, -2.95574083291977, -2.9324238546899366, -2.9091068764601036, -2.88578989823027, -2.8624729200004366, -2.839155941770603, -2.81583896354077, -2.7925219853109366, -2.7692050070811036, -2.74588802885127, -2.722571050621437, -2.6992540723916036, -2.67593709416177, -2.652620115931937, -2.6293031377021037, -2.6059861594722706, -2.582669181242437, -2.559352203012604, -2.5360352247827707, -2.512718246552937, -2.4894012683231037, -2.4660842900932707, -2.442767311863437, -2.419450333633604, -2.3961333554037707, -2.3728163771739377, -2.3494993989441038, -2.3261824207142707, -2.3028654424844373, -2.2795484642546042, -2.256231486024771, -2.2329145077949377, -2.2095975295651047, -2.186280551335271, -2.1629635731054377, -2.1396465948756043, -2.1163296166457712, -2.0930126384159378, -2.0696956601861047, -2.0463786819562713, -2.0230617037264382, -1.9997447254966043, -1.9764277472667713, -1.9531107690369378, -1.9297937908071048, -1.9064768125772713, -1.8831598343474383, -1.8598428561176048, -1.8365258778877718, -1.8132088996579379, -1.7898919214281048, -1.7665749431982718, -1.7432579649684383, -1.7199409867386053, -1.6966240085087718, -1.6733070302789388, -1.6499900520491049, -1.6266730738192718, -1.6033560955894384, -1.5800391173596053, -1.5567221391297719, -1.5334051608999388, -1.5100881826701054, -1.4867712044402723, -1.4634542262104384, -1.4401372479806054, -1.416820269750772, -1.3935032915209389, -1.3701863132911054, -1.3468693350612724, -1.3235523568314393, -1.3002353786016054, -1.2769184003717724, -1.253601422141939, -1.230284443912106, -1.2069674656822724, -1.1836504874524394, -1.160333509222606, -1.137016530992773, -1.113699552762939, -1.090382574533106, -1.067065596303273, -1.0437486180734394, -1.020431639843606, -0.9971146616137725, -0.973797683383939, -0.9504807051541064, -0.927163726924273, -0.9038467486944395, -0.880529770464606, -0.8572127922347725, -0.83389581400494, -0.8105788357751065, -0.787261857545273, -0.7639448793154395, -0.7406279010856069, -0.7173109228557735, -0.69399394462594, -0.6706769663961065, -0.647359988166273, -0.6240430099364405, -0.6007260317066061, -0.5774090534767735, -0.55409207524694, -0.5307750970171075, -0.5074581187872731, -0.4841411405574396, -0.46082416232760703, -0.43750718409777356, -0.4141902058679401, -0.3908732276381066, -0.367556249408274, -0.34423927117844055, -0.3209222929486071, -0.2976053147187736, -0.27428833648894013, -0.25097135825910755, -0.22765438002927407, -0.2043374017994406, -0.18102042356960713, -0.15770344533977365, -0.13438646710994107, -0.1110694888801067, -0.08775251065027412, -0.06443553242044064, -0.04111855419060806, -0.017801575960773697, 0.005515402269058889, 0.028832380498892363, 0.052149358728725836, 0.07546633695855931, 0.09878331518839278, 0.12210029341822537, 0.14541727164805884, 0.16873424987789143, 0.1920512281077258, 0.21536820633755926, 0.23868518456739185, 0.2620021627972253, 0.2853191410270588, 0.30863611925689227, 0.33195309748672486, 0.35527007571655833, 0.3785870539463927, 0.4019040321762253, 0.42522101040605875, 0.44853798863589134, 0.4718549668657257, 0.4951719450955583, 0.5184889233253918, 0.5418059015552252, 0.5651228797850578, 0.5884398580148922, 0.6117568362447248, 0.6350738144745582, 0.6583907927043908, 0.6817077709342252, 0.7050247491640578, 0.7283417273938912, 0.7516587056237247, 0.7749756838535582, 0.7982926620833917, 0.8216096403132243, 0.8449266185430577, 0.8682435967728912, 0.8915605750027247, 0.9148775532325581, 0.9381945314623907, 0.9615115096922251, 0.9848284879220577, 1.0081454661518912, 1.0314624443817237, 1.0547794226115572, 1.0780964008413916, 1.1014133790712242, 1.1247303573010576, 1.1480473355308902, 1.1713643137607246, 1.1946812919905572, 1.2179982702203906, 1.2413152484502232, 1.2646322266800576, 1.287949204909891, 1.3112661831397237, 1.3345831613695571, 1.3579001395993906, 1.381217117829224, 1.4045340960590567, 1.4278510742888901, 1.4511680525187245, 1.474485030748557, 1.4978020089783906, 1.5211189872082231, 1.5444359654380566, 1.56775294366789, 1.5910699218977236, 1.614386900127557, 1.6377038783573896, 1.661020856587224, 1.6843378348170566, 1.70765481304689, 1.7309717912767226, 1.754288769506557, 1.7776057477363905, 1.800922725966223, 1.8242397041960565, 1.84755668242589, 1.8708736606557235, 1.894190638885556, 1.9175076171153895, 1.940824595345223, 1.9641415735750565, 1.98745855180489, 2.0107755300347225, 2.034092508264556, 2.0574094864943895, 2.080726464724223, 2.1040434429540555, 2.127360421183889, 2.1506773994137234, 2.173994377643556, 2.1973113558733894, 2.220628334103222, 2.2439453123330564, 2.267262290562889, 2.2905792687927224, 2.313896247022556, 2.3372132252523894, 2.360530203482223, 2.3838471817120555, 2.407164159941889, 2.4304811381717215, 2.453798116401556, 2.4771150946313893, 2.500432072861222, 2.5237490510910554, 2.547066029320889, 2.5703830075507224, 2.593699985780555, 2.6170169640103884, 2.640333942240222, 2.6636509204700554, 2.686967898699889, 2.7102848769297214, 2.733601855159556, 2.7569188333893884, 2.780235811619222, 2.8035527898490544, 2.826869768078889, 2.8501867463087223, 2.873503724538555, 2.8968207027683883, 2.920137680998221, 2.9434546592280544, 2.966771637457887, 2.9900886156877213, 3.0134055939175557, 3.0367225721473883, 3.060039550377221, 3.0833565286070552, 3.106673506836888, 3.129990485066722, 3.153307463296553, 3.1766244415263873, 3.1999414197562217, 3.2232583979860543, 3.2465753762158887, 3.2698923544457212, 3.293209332675554, 3.316526310905388, 3.3398432891352208, 3.363160267365055, 3.3864772455948877, 3.4097942238247203, 3.4331112020545547, 3.4564281802843873, 3.47974515851422, 3.503062136744054, 3.526379114973887, 3.549696093203721, 3.5730130714335555, 3.5963300496633863, 3.6196470278932207, 3.6429640061230533, 3.6662809843528876, 3.68959796258272, 3.712914940812553, 3.736231919042387, 3.7595488972722215, 3.782865875502054, 3.8061828537318867, 3.8294998319617193, 3.8528168101915536, 3.876133788421388, 3.8994507666512206, 3.922767744881053, 3.9460847231108858, 3.96940170134072, 3.9927186795705545, 4.016035657800385, 4.03935263603022, 4.062669614260054, 4.085986592489887, 4.109303570719721, 4.132620548949552, 4.155937527179386, 4.1792545054092205, 4.202571483639053, 4.225888461868886, 4.24920544009872, 4.272522418328553, 4.295839396558387, 4.31915637478822, 4.342473353018052, 4.3657903312478865, 4.389107309477719, 4.4124242877075535, 4.435741265937386, 4.459058244167219, 4.482375222397053, 4.505692200626886, 4.52900917885672, 4.5523261570865525, 4.575643135316385, 4.5989601135462195, 4.622277091776052, 4.645594070005886, 4.668911048235719, 4.692228026465552, 4.715545004695386, 4.73886198292522, 4.762178961155053, 4.7854959393848855, 4.808812917614718, 4.832129895844552, 4.855446874074387, 4.878763852304218, 4.902080830534052, 4.9253978087638846, 4.948714786993719, 4.972031765223553, 4.995348743453384, 5.0186657216832185, 5.041982699913053, 5.065299678142885, 5.088616656372718, 5.111933634602551, 5.135250612832385, 5.158567591062219, 5.181884569292052, 5.2052015475218845, 5.228518525751719, 5.251835503981551, 5.275152482211386, 5.298469460441218, 5.321786438671051, 5.345103416900885, 5.368420395130718, 5.391737373360552, 5.415054351590383, 5.438371329820217, 5.461688308050052, 5.485005286279884, 5.508322264509719, 5.531639242739551, 5.554956220969384, 5.578273199199218, 5.601590177429051, 5.624907155658883, 5.648224133888718, 5.67154111211855, 5.694858090348385, 5.718175068578219, 5.74149204680805, 5.764809025037884, 5.788126003267717, 5.811442981497551, 5.834759959727386, 5.858076937957216, 5.881393916187051, 5.904710894416883, 5.928027872646718, 5.95134485087655, 5.974661829106383, 5.997978807336217, 6.021295785566052, 6.044612763795884, 6.067929742025717, 6.091246720255549, 6.114563698485384, 6.137880676715218, 6.161197654945051, 6.184514633174883, 6.207831611404716, 6.23114858963455, 6.254465567864385, 6.277782546094215, 6.30109952432405, 6.324416502553884, 6.347733480783717, 6.371050459013551, 6.394367437243382, 6.417684415473216, 6.441001393703051, 6.464318371932883, 6.487635350162716, 6.51095232839255, 6.534269306622383, 6.557586284852217], \"xaxis\": \"x\", \"y\": [0.006616081736722873, 0.006580119927529635, 0.006473403081428294, 0.006299373882821773, 0.006063564685837937, 0.005773305490885265, 0.005437345830368608, 0.005065417751983031, 0.004667770274435112, 0.004254706179480351, 0.0038361498918527298, 0.0034212708456284905, 0.003018180709434228, 0.002633715839020407, 0.0022733090783394827, 0.0019409482267942698, 0.0016392126995643844, 0.001369375530377806, 0.00113155511028869, 0.000924899940772812, 0.0007477900584304823, 0.0005980403908663193, 0.0004730937823548935, 0.00037019441140139013, 0.0002865354564994803, 0.00021937785016603448, 0.000166139567829298, 0.0001244569835275586, 9.222132531933082e-05, 6.759418589819749e-05, 4.900644716664105e-05, 3.514495481761155e-05, 2.4930940043763043e-05, 1.749364114350069e-05, 1.2141928372831736e-05, 8.336063494206582e-06, 5.661092555065646e-06, 3.802816686979962e-06, 2.526832305258315e-06, 1.6607847353946937e-06, 1.0797324716757889e-06, 6.943602878914948e-07, 4.4169194655289255e-07, 2.7792011518750195e-07, 1.7297620932757445e-07, 1.0649241211200396e-07, 6.485102532501272e-08, 3.9064378903044245e-08, 2.3276136461803183e-08, 1.3718504175147178e-08, 7.997762789656213e-09, 4.6120729961474165e-09, 2.6308114284919967e-09, 1.4843939014402105e-09, 8.284656324411351e-10, 4.573679486974664e-10, 2.4975998000077056e-10, 1.3491053640266258e-10, 7.208332002970068e-11, 3.8096895585143734e-11, 1.991637468793975e-11, 1.0299043267898387e-11, 5.268043730412111e-12, 2.665432901601168e-12, 1.3339883328950521e-12, 6.603926063806123e-13, 3.233838056299195e-13, 1.5663911723506705e-13, 7.504954790389508e-14, 3.5568195137342643e-14, 1.667406421880408e-14, 7.731913842902005e-15, 3.546487537932546e-15, 1.6090731020046156e-15, 7.221361247767657e-16, 3.2057426542473427e-16, 1.4076883946912861e-16, 6.1145548370493e-17, 2.6277095649431143e-17, 1.1183854383638256e-17, 4.7435699889564796e-18, 2.0788818008407378e-18, 1.1209006121392344e-18, 1.1129536521806376e-18, 2.053715183292482e-18, 4.700601409212818e-18, 1.1139371559458909e-17, 2.631747482692427e-17, 6.158569331555688e-17, 1.425934168059244e-16, 3.266076050508335e-16, 7.400276318064279e-16, 1.6586802503632966e-15, 3.677651088045334e-15, 8.066252151840215e-15, 1.750116020407083e-14, 3.756263308287246e-14, 7.975165877808032e-14, 1.6750134540807582e-13, 3.4801031993396766e-13, 7.152560908720251e-13, 1.4542095672772296e-12, 2.9247502945366774e-12, 5.818986172967187e-12, 1.1452570305671041e-11, 2.2297495817873226e-11, 4.29444527971212e-11, 8.181939945386336e-11, 1.5420700720056267e-10, 2.8750864754574226e-10, 5.302700179342698e-10, 9.674821615541356e-10, 1.7461798400221502e-09, 3.1177081654899374e-09, 5.506590940214443e-09, 9.621248143929337e-09, 1.6629593806577952e-08, 2.843373267817909e-08, 4.8093735079837466e-08, 8.047220922563324e-08, 1.3320070536640156e-07, 2.1810755565077966e-07, 3.53296140737381e-07, 5.661239067247687e-07, 8.974059625400121e-07, 1.4072514755061684e-06, 2.1830327628226847e-06, 3.3500791809407993e-06, 5.085769789010067e-06, 7.637754583265926e-06, 1.1347042823273461e-05, 1.6676632384987045e-05, 2.424618585153728e-05, 3.487295501367387e-05, 4.961868529149807e-05, 6.984157214497339e-05, 9.725148348986839e-05, 0.00013396561766037868, 0.00018256057704477135, 0.00024611558064603113, 0.00032824033196790525, 0.0004330800588387553, 0.0005652896390665538, 0.000729968729107942, 0.0009325506281669804, 0.0011786394111098627, 0.001473792757831058, 0.0018232519002111187, 0.0022316250736806437, 0.002702536517744307, 0.0032382589788493513, 0.0038393532477856173, 0.004504342829516547, 0.005229454677693757, 0.0060084573607986, 0.0068326255404061445, 0.00769085395573867, 0.008569935267176348, 0.009455004533291797, 0.01033013958167948, 0.011179092222818208, 0.011986111532946951, 0.012736808787187793, 0.013419005486543132, 0.014023502481469071, 0.014544710240266588, 0.01498108811283621, 0.01533535369163623, 0.015614441201408624, 0.01582920891454191, 0.015993918230926805, 0.016125529505753206, 0.016242880283236637, 0.01636582892678418, 0.01651445980467458, 0.016708454795805888, 0.01696674002543921, 0.01730751691280114, 0.01774878347527981, 0.018309445959907265, 0.019011112444037363, 0.019880648575612874, 0.02095355973956024, 0.022278241299974206, 0.02392110594814182, 0.025972550759826886, 0.0285536624432552, 0.03182347425545537, 0.03598648065988738, 0.04129998722714122, 0.04808072861100625, 0.05671003646367435, 0.06763669691833203, 0.08137652390487919, 0.09850761435966464, 0.1196602708218952, 0.14550070168201953, 0.1767078605305114, 0.21394317566265136, 0.2578134473257947, 0.30882783494375843, 0.36735058087030603, 0.43355186301418647, 0.5073598607283679, 0.5884176702817906, 0.6760490292813948, 0.7692368235254592, 0.866617995678596, 0.9664977258923927, 1.06688462443025, 1.165547226033757, 1.2600904110851545, 1.3480486436638086, 1.4269912803501903, 1.4946338417512908, 1.5489482124848257, 1.5882643705894048, 1.6113565163449706, 1.617507379886312, 1.6065459733965501, 1.578855988459432, 1.5353542418886192, 1.4774408322503707, 1.4069247660072979, 1.325930547542597, 1.2367924442690004, 1.1419437390272835, 1.0438082381504374, 0.9447006549373178, 0.8467413353906341, 0.7517892815766102, 0.6613957287080307, 0.5767788196743847, 0.4988183537224427, 0.4280682906649585, 0.36478375221216225, 0.3089587151416616, 0.2603704300037733, 0.21862677953838716, 0.18321324173994954, 0.1535367574786197, 0.12896453260830737, 0.10885654740004887, 0.09259123420319161, 0.07958436852766712, 0.06930167047875907, 0.06126592281235744, 0.0550595848007972, 0.05032393524458346, 0.04675573809299432, 0.044102317874070894, 0.04215578642988204, 0.040747000972443145, 0.039739675007132894, 0.03902492145660806, 0.038516389157152976, 0.03814606280328703, 0.03786073161719715, 0.03761909012705365, 0.037389410593927086, 0.03714771553342301, 0.03687637552592105, 0.036563058156493765, 0.03619995581602612, 0.035783221926714404, 0.03531254683226243, 0.034790806912559084, 0.03422372471775069, 0.033619485369298485, 0.0329882660654804, 0.03234165148163575, 0.03169192753507194, 0.03105126789180085, 0.03043084952813835, 0.029839953025537682, 0.02928511746013721, 0.028769426537744894, 0.02829200058029881, 0.027847757692668687, 0.027427487695818653, 0.02701825609205615, 0.026604125232041715, 0.02616714935349563, 0.025688572772044435, 0.025150139428332666, 0.024535409712532038, 0.023830978441352815, 0.02302749628784714, 0.022120414874430352, 0.021110401075379693, 0.020003395985982747, 0.018810325231405196, 0.017546496528659243, 0.016230744778097717, 0.014884402243819607, 0.01353018029396908, 0.01219104941830073, 0.010889196482516596, 0.009645123878440003, 0.008476936412358424, 0.007399840752003683, 0.006425861337718545, 0.005563757915796014, 0.004819114886213614, 0.004194562520960714, 0.0036900852415075367, 0.0033033724022611694, 0.003030171772663179, 0.0028646141328794806, 0.002799487855552935, 0.0028264537113390437, 0.002936201127185078, 0.0031185566184259964, 0.0033625622250038, 0.003656545922991365, 0.003988206897246151, 0.004344736322217124, 0.004712989287419051, 0.005079716367929117, 0.005431854923540666, 0.00575687147467576, 0.006043138433008812, 0.0062803219679806715, 0.006459753604842085, 0.006574756764227547, 0.006620901052649049, 0.006596161557415766, 0.00650096723754645, 0.006338131024357911, 0.006112663565080329, 0.005831481700567583, 0.005503030842991809, 0.005136846633847982, 0.004743085067211043, 0.004332051390216112, 0.003913756572685913, 0.0034975262785434075, 0.0030916816045389, 0.0027033040545586516, 0.002338090025261519, 0.002000293195121362, 0.0016927472318322, 0.0014169565991690154, 0.001173240200664483, 0.0009609111984644703, 0.0007784764745952501, 0.0006238406084270479, 0.0004945015929022295, 0.0003877284326705399, 0.000300713899993499, 0.0002306987565928329, 0.00017506644009726425, 0.00013140940320166927, 9.756990457769147e-05, 7.165907738034531e-05, 5.20585945152156e-05, 3.740929809654317e-05, 2.6590871718760714e-05, 1.8696119888850826e-05, 1.3002782195976173e-05, 8.94513677952924e-06, 6.0870038672982234e-06, 4.097189619898899e-06, 2.7279376763218946e-06, 1.796588925921303e-06, 1.1703853767015217e-06, 7.541798928509906e-07, 4.807141503845992e-07, 3.03085219113646e-07, 1.8902032353575145e-07, 1.1660525991337065e-07, 7.115307516469531e-08, 4.2947224456479687e-08, 2.5641440731984346e-08, 1.5143129598538045e-08, 8.846159160335305e-09, 5.111634031724611e-09, 2.9216665681852254e-09, 1.651837966710094e-09, 9.237833562188907e-10, 5.110209757742126e-10, 2.7962323622074203e-10, 1.5134701735770056e-10, 8.102912602269338e-11, 4.291189436876217e-11, 2.2479901891604945e-11, 1.165032500946389e-11, 5.975961482243964e-12, 3.039843250371469e-12, 1.5460994670757569e-12, 8.127816038841479e-13, 4.947938925555091e-13, 4.389669330103322e-13, 6.181034794271685e-13, 1.1191258813402097e-12, 2.1807972909299434e-12, 4.295361399199514e-12, 8.41195161477967e-12, 1.6315068011214686e-11, 3.1309133531654063e-11, 5.943581199663705e-11, 1.1160870376038875e-10, 2.0730769358703065e-10, 3.8088953811807155e-10, 6.922271838438685e-10, 1.2444119437835715e-09, 2.2128174645472075e-09, 3.892179898055669e-09, 6.771831053373249e-09, 1.1654273829233093e-08, 1.9839476835732872e-08, 3.340727925639421e-08, 5.5643942516283145e-08, 9.16770380176822e-08, 1.494063814242444e-07, 2.4084831685901076e-07, 3.8404664721981904e-07, 6.057455530018057e-07, 9.45066535319432e-07, 1.4584798381832056e-06, 2.2264060257720592e-06, 3.3618180276144474e-06, 5.021227849016256e-06, 7.418422263080854e-06, 1.0841242663296209e-05, 1.567156884941862e-05, 2.240844800568505e-05, 3.169399436589997e-05, 4.4341263922903336e-05, 6.13627838839338e-05, 8.399780443378063e-05, 0.00011373567482864397, 0.0001523320817788171, 0.00020181430183821174, 0.00026447120663352307, 0.00034282362888344426, 0.0004395709598061344, 0.0005575106048541897, 0.0006994282462138383, 0.0008679587712600986, 0.0010654201854717463, 0.0012936257175808884, 0.0015536824420176465, 0.0018457878088439267, 0.002169038143591217, 0.002521265087839233, 0.0028989167365791736, 0.0032969995912240447, 0.0037090951986761835, 0.004127461452490046, 0.004543223141659475, 0.0049466497897390806, 0.0053275116541630805, 0.005675497611498576, 0.00598067226841425, 0.006233944727938833, 0.006427518622528586, 0.006555292731118491, 0.006613183907803407, 0.0065993490587982154, 0.006514290116860177, 0.006360834730803052, 0.006143994881642699, 0.005870714937578755, 0.005549528867027869, 0.00519015266412951, 0.004803041935858017, 0.00439894575392487, 0.003988486280393514, 0.0035817896055596967, 0.003188187196899291, 0.0028160000201539956, 0.002472409510939764, 0.0021634118979220285, 0.0018938455793443224, 0.0016674758715936803, 0.0014871178497379985, 0.001354776371265885, 0.0012717827255759708, 0.0012389095385124315, 0.0012564493135414521, 0.0013242469455821994, 0.0014416822731699841, 0.0016076047756812789, 0.0018202283969601424, 0.002076999714429635, 0.0023744568328963327, 0.002708099078986669, 0.0030722885037872, 0.00346020318175773, 0.003863859283556323, 0.0042742140297581735, 0.004681355214592185, 0.005074775512782779, 0.005443721885210402, 0.005777602814323979, 0.006066429588919611, 0.006301263125384015, 0.006474635423858674, 0.006580915062723841], \"yaxis\": \"y\"}, {\"legendgroup\": \"Ridge\", \"marker\": {\"color\": \"rgb(255, 127, 14)\"}, \"mode\": \"lines\", \"name\": \"Ridge\", \"showlegend\": false, \"type\": \"scatter\", \"x\": [-4.491722023112541, -4.472032734786359, -4.452343446460177, -4.432654158133995, -4.412964869807813, -4.393275581481632, -4.37358629315545, -4.353897004829268, -4.3342077165030855, -4.314518428176903, -4.294829139850721, -4.275139851524539, -4.255450563198357, -4.235761274872176, -4.216071986545994, -4.196382698219812, -4.1766934098936295, -4.157004121567447, -4.137314833241265, -4.117625544915083, -4.097936256588901, -4.07824696826272, -4.058557679936538, -4.038868391610356, -4.0191791032841735, -3.9994898149579914, -3.9798005266318093, -3.960111238305627, -3.9404219499794455, -3.9207326616532634, -3.9010433733270813, -3.8813540850008996, -3.8616647966747175, -3.8419755083485354, -3.8222862200223533, -3.802596931696171, -3.782907643369989, -3.7632183550438074, -3.7435290667176253, -3.723839778391443, -3.7041504900652615, -3.6844612017390794, -3.6647719134128973, -3.645082625086715, -3.625393336760533, -3.6057040484343514, -3.5860147601081693, -3.566325471781987, -3.5466361834558056, -3.5269468951296234, -3.5072576068034413, -3.4875683184772592, -3.467879030151077, -3.448189741824895, -3.4285004534987134, -3.4088111651725312, -3.3891218768463496, -3.3694325885201675, -3.3497433001939854, -3.3300540118678033, -3.310364723541621, -3.290675435215439, -3.2709861468892574, -3.2512968585630753, -3.2316075702368936, -3.2119182819107115, -3.1922289935845294, -3.1725397052583473, -3.152850416932165, -3.133161128605983, -3.113471840279801, -3.0937825519536193, -3.074093263627437, -3.0544039753012555, -3.0347146869750734, -3.0150253986488913, -2.995336110322709, -2.975646821996527, -2.955957533670345, -2.9362682453441633, -2.916578957017981, -2.8968896686917995, -2.8772003803656174, -2.8575110920394353, -2.837821803713253, -2.818132515387071, -2.7984432270608894, -2.7787539387347073, -2.759064650408525, -2.739375362082343, -2.7196860737561614, -2.6999967854299793, -2.6803074971037972, -2.660618208777615, -2.640928920451433, -2.621239632125251, -2.6015503437990692, -2.5818610554728876, -2.5621717671467055, -2.5424824788205234, -2.5227931904943413, -2.503103902168159, -2.483414613841977, -2.4637253255157954, -2.4440360371896133, -2.424346748863431, -2.404657460537249, -2.384968172211067, -2.3652788838848853, -2.345589595558703, -2.325900307232521, -2.306211018906339, -2.2865217305801573, -2.266832442253975, -2.247143153927793, -2.2274538656016114, -2.2077645772754293, -2.188075288949247, -2.168386000623065, -2.1486967122968834, -2.1290074239707013, -2.109318135644519, -2.089628847318337, -2.0699395589921554, -2.0502502706659733, -2.030560982339791, -2.010871694013609, -1.9911824056874274, -1.9714931173612453, -1.9518038290350632, -1.9321145407088816, -1.9124252523826994, -1.8927359640565173, -1.8730466757303352, -1.8533573874041536, -1.8336680990779715, -1.8139788107517894, -1.7942895224256068, -1.7746002340994251, -1.754910945773243, -1.735221657447061, -1.7155323691208788, -1.6958430807946971, -1.676153792468515, -1.656464504142333, -1.6367752158161513, -1.6170859274899692, -1.597396639163787, -1.577707350837605, -1.5580180625114233, -1.5383287741852412, -1.518639485859059, -1.498950197532877, -1.4792609092066953, -1.4595716208805132, -1.439882332554331, -1.420193044228149, -1.4005037559019673, -1.3808144675757852, -1.361125179249603, -1.341435890923421, -1.3217466025972393, -1.3020573142710572, -1.282368025944875, -1.2626787376186934, -1.2429894492925113, -1.2233001609663292, -1.203610872640147, -1.1839215843139654, -1.1642322959877833, -1.1445430076616012, -1.1248537193354191, -1.1051644310092374, -1.0854751426830553, -1.0657858543568732, -1.0460965660306911, -1.026407277704509, -1.006717989378327, -0.9870287010521448, -0.9673394127259631, -0.947650124399781, -0.9279608360735989, -0.9082715477474168, -0.8885822594212351, -0.868892971095053, -0.8492036827688709, -0.8295143944426888, -0.8098251061165072, -0.790135817790325, -0.7704465294641429, -0.7507572411379608, -0.7310679528117792, -0.7113786644855971, -0.691689376159415, -0.6720000878332333, -0.6523107995070512, -0.6326215111808691, -0.612932222854687, -0.5932429345285053, -0.5735536462023232, -0.5538643578761411, -0.534175069549959, -0.5144857812237773, -0.4947964928975952, -0.47510720457141264, -0.45541791624523054, -0.4357286279190493, -0.4160393395928672, -0.3963500512666851, -0.376660762940503, -0.3569714746143209, -0.33728218628813966, -0.31759289796195667, -0.29790360963577545, -0.27821432130959245, -0.25852503298341123, -0.23883574465722912, -0.219146456331047, -0.1994571680048649, -0.17976787967868368, -0.1600785913525007, -0.14038930302631947, -0.12070001470013647, -0.10101072637395525, -0.08132143804777314, -0.061632149721591034, -0.041942861395408926, -0.022253573069227706, -0.002564284743044709, 0.01712500358313651, 0.03681429190931862, 0.05650358023550073, 0.07619286856168284, 0.09588215688786494, 0.11557144521404705, 0.13526073354022916, 0.15495002186641127, 0.17463931019259338, 0.1943285985187746, 0.2140178868449576, 0.23370717517113881, 0.2533964634973209, 0.27308575182350303, 0.29277504014968514, 0.31246432847586725, 0.33215361680204936, 0.3518429051282306, 0.3715321934544136, 0.3912214817805948, 0.4109107701067769, 0.430600058432959, 0.4502893467591411, 0.4699786350853232, 0.48966792341150533, 0.5093572117376866, 0.5290465000638696, 0.5487357883900508, 0.5684250767162329, 0.588114365042415, 0.6078036533685971, 0.6274929416947783, 0.6471822300209613, 0.6668715183471425, 0.6865608066733255, 0.7062500949995068, 0.7259393833256889, 0.745628671651871, 0.7653179599780531, 0.7850072483042343, 0.8046965366304173, 0.8243858249565985, 0.8440751132827815, 0.8637644016089627, 0.8834536899351448, 0.9031429782613278, 0.922832266587509, 0.9425215549136912, 0.9622108432398733, 0.9819001315660554, 1.0015894198922366, 1.0212787082184196, 1.0409679965446008, 1.0606572848707838, 1.080346573196965, 1.1000358615231471, 1.1197251498493292, 1.1394144381755114, 1.1591037265016926, 1.1787930148278756, 1.1984823031540568, 1.218171591480239, 1.237860879806421, 1.2575501681326031, 1.2772394564587852, 1.2969287447849673, 1.3166180331111486, 1.3363073214373316, 1.3559966097635128, 1.3756858980896949, 1.395375186415877, 1.415064474742059, 1.4347537630682412, 1.4544430513944233, 1.4741323397206045, 1.4938216280467875, 1.5135109163729688, 1.5332002046991509, 1.552889493025333, 1.572578781351515, 1.5922680696776963, 1.6119573580038793, 1.6316466463300605, 1.6513359346562435, 1.6710252229824256, 1.6907145113086068, 1.7104037996347898, 1.730093087960971, 1.7497823762871532, 1.7694716646133353, 1.7891609529395174, 1.8088502412656995, 1.8285395295918816, 1.8482288179180628, 1.8679181062442458, 1.887607394570427, 1.9072966828966091, 1.9269859712227912, 1.9466752595489734, 1.9663645478751546, 1.9860538362013376, 2.005743124527519, 2.025432412853702, 2.045121701179883, 2.064810989506065, 2.0845002778322472, 2.1041895661584293, 2.1238788544846106, 2.1435681428107936, 2.1632574311369748, 2.182946719463157, 2.202636007789339, 2.222325296115521, 2.242014584441703, 2.2617038727678853, 2.2813931610940665, 2.3010824494202495, 2.3207717377464308, 2.340461026072613, 2.360150314398795, 2.379839602724977, 2.399528891051159, 2.4192181793773413, 2.4389074677035234, 2.4585967560297055, 2.4782860443558876, 2.497975332682069, 2.517664621008252, 2.537353909334433, 2.557043197660615, 2.5767324859867973, 2.5964217743129794, 2.6161110626391615, 2.6358003509653436, 2.655489639291525, 2.675178927617708, 2.694868215943889, 2.714557504270071, 2.7342467925962533, 2.7539360809224354, 2.7736253692486166, 2.7933146575747996, 2.813003945900981, 2.832693234227164, 2.852382522553345, 2.872071810879527, 2.8917610992057092, 2.9114503875318913, 2.9311396758580726, 2.9508289641842556, 2.9705182525104368, 2.9902075408366198, 3.009896829162801, 3.029586117488983, 3.049275405815165, 3.0689646941413473, 3.0886539824675285, 3.1083432707937115, 3.1280325591198928, 3.147721847446075, 3.167411135772257, 3.187100424098439, 3.206789712424622, 3.2264790007508033, 3.2461682890769854, 3.2658575774031675, 3.2855468657293496, 3.305236154055531, 3.324925442381714, 3.344614730707895, 3.364304019034078, 3.3839933073602593, 3.4036825956864414, 3.4233718840126235, 3.4430611723388056, 3.462750460664987, 3.48243974899117, 3.502129037317351, 3.5218183256435323, 3.541507613969716, 3.5611969022958965, 3.5808861906220804, 3.6005754789482607, 3.620264767274443, 3.639954055600625, 3.659643343926807, 3.679332632252989, 3.6990219205791712, 3.7187112089053533, 3.7384004972315354, 3.758089785557716, 3.7777790738838997, 3.7974683622100818, 3.817157650536262, 3.836846938862444, 3.856536227188628, 3.87622551551481, 3.8959148038409905, 3.9156040921671726, 3.9352933804933565, 3.954982668819537, 3.974671957145719, 3.994361245471903, 4.014050533798083, 4.033739822124265, 4.053429110450447, 4.0731183987766295, 4.092807687102812, 4.112496975428994, 4.132186263755174, 4.151875552081358, 4.17156484040754, 4.19125412873372, 4.2109434170599025, 4.230632705386086, 4.2503219937122685, 4.270011282038449, 4.289700570364631, 4.309389858690815, 4.329079147016995, 4.348768435343177, 4.368457723669359, 4.3881470119955415, 4.407836300321724, 4.427525588647906, 4.447214876974086, 4.46690416530027, 4.486593453626452, 4.506282741952632, 4.5259720302788145, 4.545661318604998, 4.565350606931179, 4.585039895257361, 4.604729183583543, 4.624418471909727, 4.644107760235907, 4.663797048562089, 4.683486336888271, 4.703175625214453, 4.7228649135406355, 4.742554201866818, 4.762243490193, 4.781932778519182, 4.801622066845364, 4.821311355171544, 4.841000643497728, 4.86068993182391, 4.880379220150091, 4.900068508476273, 4.919757796802457, 4.939447085128637, 4.959136373454819, 4.978825661781001, 4.998514950107183, 5.018204238433365, 5.0378935267595475, 5.05758281508573, 5.077272103411912, 5.096961391738094, 5.116650680064276, 5.136339968390456, 5.15602925671664, 5.175718545042822, 5.195407833369003, 5.215097121695185, 5.234786410021369, 5.254475698347549, 5.274164986673731, 5.293854274999913, 5.313543563326095, 5.333232851652277], \"xaxis\": \"x\", \"y\": [0.004018457567952596, 0.0040127017074324195, 0.003995481500454539, 0.003966944682825716, 0.003927335092732317, 0.003876989215676777, 0.003816331442923341, 0.0037458681379557083, 0.0036661806282465947, 0.0035779172595158657, 0.0034817846661489814, 0.0033785384242047876, 0.0032689732622171153, 0.003153913009662266, 0.003034200463517963, 0.002910687349888311, 0.002784224550432846, 0.002655652752634736, 0.0025257936691773755, 0.0023954419553442155, 0.0022653579349397957, 0.002136261225310599, 0.0020088253311954657, 0.0018836732559273039, 0.0017613741574860286, 0.0016424410565763613, 0.001527329584727368, 0.0014164377427751467, 0.0013101066243123736, 0.001208622045007718, 0.0011122170072708196, 0.0010210749206390594, 0.000935333491488125, 0.0008550891911417057, 0.0007804022090352966, 0.0007113017970773273, 0.0006477919125057802, 0.0005898570690855482, 0.0005374683101368507, 0.00049058922132668, 0.0004491819060967877, 0.0004132128517643948, 0.00038265861946309255, 0.0003575112959766847, 0.0003377836499875172, 0.00032351393919352546, 0.0003147703180800404, 0.00031165479885565726, 0.000314306720225763, 0.0003229056803875351, 0.00033767389204284793, 0.00035887791854270995, 0.0003868297517387923, 0.00042188719399342746, 0.0004644535093760027, 0.000514976312643982, 0.0005739456694564393, 0.0006418913876618179, 0.0007193794876692487, 0.000807007850034759, 0.0009054010505880602, 0.0010152044077348064, 0.0011370772829501624, 0.001271685693792692, 0.0014196943187728935, 0.0015817579947614156, 0.0017585128298666193, 0.0019505670772961272, 0.0021584919379947125, 0.0023828124810922934, 0.0026239988906057586, 0.002882458263578465, 0.0031585271980509597, 0.003452465418085708, 0.0037644506867033902, 0.004094575255287979, 0.004442844089145128, 0.0048091750929547695, 0.0051934015365152535, 0.0055952768503006985, 0.006014481922038638, 0.006450634980092691, 0.006903304097491859, 0.007372022292826225, 0.007856305142025082, 0.008355670749578986, 0.008869661860611045, 0.009397869828071777, 0.009939960084092047, 0.010495698703133566, 0.011064979589007791, 0.011647851770042194, 0.012244546248505534, 0.012855501823544653, 0.013481389292780479, 0.01412313343751504, 0.014781932211013562, 0.015459272578949315, 0.01615694250579968, 0.01687703864027139, 0.017621969325754723, 0.018394452646945957, 0.01919750931928998, 0.020034450331536332, 0.020908859360896023, 0.021824570092184744, 0.022785638683910984, 0.02379631173238858, 0.024860990186506036, 0.025984189757761258, 0.027170498449773345, 0.028424531896231453, 0.0297508872440507, 0.031154096347786216, 0.03263857905105671, 0.03420859732041478, 0.03586821096694295, 0.03762123564169026, 0.03947120372433175, 0.041421328642169145, 0.04347447306136814, 0.045633121287155715, 0.047899356097963294, 0.05027484012381832, 0.05276080176540821, 0.055358025540909434, 0.058066846646512835, 0.060887149426918086, 0.06381836937690294, 0.0668594982368495, 0.0700090917057298, 0.07326527927572898, 0.07662577569392424, 0.080087893578008, 0.08364855675395214, 0.08730431394207051, 0.09105135249176338, 0.09488551195138067, 0.09880229735465094, 0.10279689220517864, 0.10686417124153974, 0.11099871316334364, 0.11519481358916005, 0.11944649859651825, 0.12374753925869383, 0.12809146763960397, 0.13247159473431933, 0.13688103084664224, 0.14131270887581848, 0.14575941094149625, 0.15021379871005955, 0.1546684476978372, 0.1591158857195824, 0.16354863552687735, 0.16795926154428523, 0.1723404204651247, 0.17668491531811906, 0.18098575246553558, 0.185236200847551, 0.1894298526512091, 0.19356068446000516, 0.19762311783613487, 0.2016120782054708, 0.20552305085871833, 0.20935213285344254, 0.21309607960265112, 0.21675234496742768, 0.22031911373402535, 0.22379532544931907, 0.22718068871125754, 0.23047568516091788, 0.2336815625971191, 0.23680031682995517, 0.23983466210207555, 0.24278799013166427, 0.2456643180640727, 0.24846822585491618, 0.2512047838409075, 0.25387947148058587, 0.25649808846013283, 0.25906665955463243, 0.2615913348076262, 0.26407828673714007, 0.26653360639053086, 0.2689632001499651, 0.27137268923223984, 0.273767313828684, 0.27615184379162633, 0.2785304976926198, 0.28090687195447983, 0.2832838815952699, 0.2856637139196218, 0.28804779625409516, 0.290436778552532, 0.29283053139917875, 0.2952281596173574, 0.29762803135595245, 0.3000278221819158, 0.30242457336195194, 0.30481476317844436, 0.30719438980166963, 0.3095590639406717, 0.311904109226838, 0.31422466805493887, 0.3165158104232023, 0.31877264318320153, 0.320990417037112, 0.3231646286083203, 0.3252911149640095, 0.32736613808631987, 0.3293864569714271, 0.3313493852811401, 0.33325283277540757, 0.335095329110809, 0.3368760289924002, 0.338594698105489, 0.3402516797200358, 0.3418478423423896, 0.34338450927511643, 0.34486337142359796, 0.3462863851453335, 0.34765565736240295, 0.3489733205375846, 0.350241400439506, 0.35146167988236704, 0.35263556181319, 0.3537639352279708, 0.35484704742323536, 0.355884386029151, 0.35687457412459783, 0.35781528150564834, 0.35870315487133747, 0.35953376931088665, 0.360301603033237, 0.36100003678309656, 0.36162137884928597, 0.3621569160038859, 0.3625969901279994, 0.36293109969600545, 0.3631480247188708, 0.3632359732023162, 0.3631827466703152, 0.36297592185066013, 0.36260304522782677, 0.36205183684827075, 0.3613103995218685, 0.3603674294059092, 0.3592124238880901, 0.3578358827035481, 0.3562294983271489, 0.3543863318730732, 0.3523009710041872, 0.3499696666971468, 0.34739044611731046, 0.34456319932071194, 0.3414897380078785, 0.3381738250946412, 0.33462117442624134, 0.33083942053078813, 0.32683805887421435, 0.3226283576295585, 0.31822324249736333, 0.31363715660089514, 0.3088858979203196, 0.30398643711588896, 0.29895671891470543, 0.2938154504935248, 0.288581880477515, 0.2832755722896972, 0.27791617562734994, 0.27252319981082224, 0.26711579264931656, 0.2617125283010595, 0.25633120737670784, 0.2509886722510765, 0.24570064021613677, 0.2404815567356476, 0.23534447065700947, 0.2303009328077116, 0.22536091896105903, 0.22053277770763877, 0.2158232033240022, 0.21123723329672767, 0.20677826974639762, 0.20244812360923745, 0.19824708008092487, 0.19417398351287105, 0.1902263396809236, 0.1864004331235402, 0.18269145707367448, 0.17909365338741828, 0.17560045980332017, 0.17220466184862937, 0.1688985467409339, 0.16567405671318108, 0.16252293931355594, 0.15943689239492, 0.15640770170674664, 0.15342736923034805, 0.15048823064996952, 0.14758306062200818, 0.1447051647860942, 0.14184845774889232, 0.1390075265582748, 0.1361776794662385, 0.13335498004823426, 0.13053626699955886, 0.1277191601618676, 0.12490205354097884, 0.12208409625808136, 0.1192651625279862, 0.11644581187877878, 0.11362724091645407, 0.11081122799600521, 0.10800007218774421, 0.10519652792592042, 0.10240373669801371, 0.09962515708003333, 0.0968644943487904, 0.09412563080974932, 0.09141255787228648, 0.08872931078663476, 0.08607990683213133, 0.08346828761816007, 0.08089826603073538, 0.07837347823205623, 0.07589734100029727, 0.07347301458463854, 0.07110337114795516, 0.0687909687779995, 0.06653803096823388, 0.06434643140209155, 0.06221768381935649, 0.06015293670009984, 0.058152972469467795, 0.05621821090447333, 0.054348716410590525, 0.05254420882993677, 0.050804077442710364, 0.04912739782782673, 0.04751295125599393, 0.04595924629746626, 0.044464542336333436, 0.04302687469251559, 0.04164408106097711, 0.04031382898461056, 0.03903364408258445, 0.03780093875973705, 0.03661304112508748, 0.03546722384913428, 0.034360732690902215, 0.033290814427326065, 0.032254743920242177, 0.03124985006070424, 0.03027354033722795, 0.029323323784493347, 0.028396832082473098, 0.02749183859325528, 0.026606275144154944, 0.025738246391076098, 0.024886041625302082, 0.024048143919618636, 0.023223236545390855, 0.02241020663026925, 0.021608146065820746, 0.02081634971470483, 0.020034311007127183, 0.019261715055269354, 0.018498429451281228, 0.017744492948358784, 0.017000102254603827, 0.0162655971950739, 0.015541444518095415, 0.014828220637098431, 0.014126593608639614, 0.013437304650793486, 0.012761149503724608, 0.012098959926198574, 0.011451585608359316, 0.01081987676275366, 0.010204667632875789, 0.009606761132094523, 0.009026914796425476, 0.008465828202993316, 0.007924131972973881, 0.007402378444106131, 0.006901034064275236, 0.0064204735249196315, 0.005960975621762946, 0.005522720801212998, 0.005105790324203814, 0.0047101669557033515, 0.004335737067880206, 0.003982294028237922, 0.0036495427310055785, 0.0033371051207397467, 0.0030445265513879887, 0.0027712828218394913, 0.0025167877300335062, 0.0022804009917334503, 0.002061436376784275, 0.0018591699246876309, 0.0016728481122739102, 0.0015016958587177386, 0.0013449242667360423, 0.0012017380131283488, 0.0010713423164895345, 0.0009529494245902452, 0.000845784578256122, 0.0007490914222922339, 0.0006621368468446034, 0.0005842152543571704, 0.0005146522578010939, 0.00045280782500309893, 0.00039807889159432594, 0.00034990147130113355, 0.00030775229699703965, 0.00027115002916048805, 0.00023965607019588083, 0.0002128750235624392, 0.00019045483592764484, 0.00017208665874959036, 0.0001575044629413091, 0.00014648443673902277, 0.0001388441927517051, 0.00013444180558431424, 0.0001331746965761089, 0.00013497837725264615, 0.00013982505822576812, 0.0001477221256542461, 0.00015871048315381855, 0.00017286275336252018, 0.00019028133035476773, 0.00021109627186808542, 0.00023546301895268113, 0.0002635599302482563, 0.0002955856186815782, 0.00033175607998457376, 0.0003723016050497524, 0.0004174634717326594, 0.00046749041621498824, 0.0005226348893625067, 0.0005831491095246122, 0.0006492809297762431, 0.0007212695445207276, 0.0007993410674555682, 0.0008837040199361439, 0.0009745447755271837, 0.0010720230127755452, 0.0011762672337378654, 0.001287370410330316, 0.0014053858239301198, 0.0015303231656663926, 0.0016621449653449665, 0.0018007634158470755, 0.001946037657062776, 0.0020977715789522048, 0.0022557121972130597, 0.0024195486473636727, 0.002588911833979613, 0.0027633747615468636, 0.0029424535621643912, 0.003125609223428985, 0.003312250007585566, 0.0035017345407600572, 0.003693375539159393, 0.0038864441278609356, 0.004080174697549727, 0.004273770235586057, 0.00446640806035295, 0.004657245882140766, 0.0048454281100143, 0.005030092322247562, 0.005210375818004453, 0.0053854221699214545, 0.005554387700971703, 0.005716447814262185, 0.005870803110979089, 0.006016685239257904, 0.0061533624249868486, 0.006280144644112268, 0.006396388404562558, 0.006501501114117636, 0.006594945018125906, 0.006676240697660972, 0.006744970124316658, 0.0068007792722286405, 0.00684338029101917, 0.006872553245194058, 0.006888147426155451, 0.00689008224257039, 0.0068783476935524905, 0.0068530044272166616, 0.0068141833849314735, 0.006762085029316202, 0.006696978152006962, 0.006619198255732431, 0.006529145504550119, 0.006427282236410276, 0.006314130033696078], \"yaxis\": \"y\"}, {\"legendgroup\": \"Lasso\", \"marker\": {\"color\": \"rgb(31, 119, 180)\", \"symbol\": \"line-ns-open\"}, \"mode\": \"markers\", \"name\": \"Lasso\", \"showlegend\": false, \"type\": \"scatter\", \"x\": [-0.2988645822136683, 0.3408157190759778, 0.0, -5.0775858518346, -0.011546218132248353, 2.50475330358318, 0.0, 0.0, -1.2254666741348454, 0.0, 0.0, -0.0, -0.0, -0.0, -0.0, 0.8911508709272506, 0.0, -0.0, -0.0, -0.0, -0.0, -0.0, 0.48261306316596353, 0.0, -0.0, -0.0, -0.0, 0.0, 0.0, 0.29259736827072497, 0.0, 0.0, 0.0, -0.0, -0.0, -0.0, 0.0, 0.0, 0.0, -0.0, -0.0, -0.0, 0.0, -0.0, 0.0, 0.0, -0.0, 0.0, -0.0, 0.0, -0.0, 0.0, -0.0, -0.0, 0.0, -0.0, 0.0, -0.0, 0.0, 0.0, -0.8137493295508568, -0.0, -0.0, -0.0, -0.0, -0.0, 0.0, 0.0, -0.0, 0.0, 0.0, -0.0, 0.0, 0.0, -0.0, -0.0, -0.0, -0.0, 0.0, 0.0, -0.0, -0.0, -0.0, 0.0, 0.0, 0.0, -0.0, -0.0, -0.0, -0.0, 0.0, -0.0, 0.857715591775868, -0.0, -0.0, 1.1721102608593408, -0.0, -0.0, 0.2887092608544712, 0.0, 0.0, -0.0, 0.0, -0.0, -0.0, -0.0, 0.20926544012577397, 0.0, 0.0, -0.0, 0.0, -0.0, -0.0, 1.5557826281399485, 0.0, 0.0, 5.60868688487343, -0.0, 0.0, -0.0, 0.0, 0.0, 0.0, 0.0, 0.0, 0.0, 0.0, 0.0, -0.0, 0.0, -0.0, -0.5834694165847317, 0.0, 0.0, -0.0, 0.0, -0.0, 0.0, -0.0, 0.0, -0.0, 0.0, -0.0, -0.0, -0.0, 0.0, 0.0, -0.0, 0.5677323661704804, 0.0, 1.6083497158913294, 1.1672531907630226, -0.0, -0.6403255347633285, 0.0, 0.0, 0.0, -0.0, 0.0, -0.0, -0.0, 0.0, 0.0, -0.0, -0.0, -0.0, 0.0, 0.0, 0.0, -0.0, 0.0, 0.0, -0.0, 0.0, -0.0, 0.0, 0.0, -0.0, -0.40210406095102963, -0.0, 0.0, -0.0, -0.0, -0.0, -0.0, -0.0, -0.0, 0.0, -0.0, 0.0, 0.0, 0.0, -0.0, 0.0, -0.0, 0.0, -0.0, -0.0, 0.0, 0.0, 0.0, -0.0, 0.0, 0.7072730612261542, 1.6226804361881382, 0.0, -0.0, -0.0, 0.4051983255690641, 0.0, -0.0, 0.0, -0.0, -0.0, -0.0, 1.224714232790628, 0.0, 0.0, -1.1811727255510334, -0.003019012500058569, -0.0, 0.0, -0.0, -0.0, 0.0, 0.0, -0.0, -0.0, 0.0, -0.0, -0.0, -0.0, -0.0, 0.0, -0.0, -0.0, 0.0, 0.0, -0.0, 0.0, 0.0, 0.0, 0.0, -0.0, -0.0, 0.19289042452120514, -0.0, -0.0, 0.0, 0.953787565634395, 0.0, -0.0, -0.0, -0.0, -0.0, -0.0, -0.0, -0.0, -0.0, -0.0, -0.0, -0.0, -0.0, -0.0, 6.58090326308205, -0.0, 0.0, 0.0, 0.0, -0.0], \"xaxis\": \"x\", \"y\": [\"Lasso\", \"Lasso\", \"Lasso\", \"Lasso\", \"Lasso\", \"Lasso\", \"Lasso\", \"Lasso\", \"Lasso\", \"Lasso\", \"Lasso\", \"Lasso\", \"Lasso\", \"Lasso\", \"Lasso\", \"Lasso\", \"Lasso\", \"Lasso\", \"Lasso\", \"Lasso\", \"Lasso\", \"Lasso\", \"Lasso\", \"Lasso\", \"Lasso\", \"Lasso\", \"Lasso\", \"Lasso\", \"Lasso\", \"Lasso\", \"Lasso\", \"Lasso\", \"Lasso\", \"Lasso\", \"Lasso\", \"Lasso\", \"Lasso\", \"Lasso\", \"Lasso\", \"Lasso\", \"Lasso\", \"Lasso\", \"Lasso\", \"Lasso\", \"Lasso\", \"Lasso\", \"Lasso\", \"Lasso\", \"Lasso\", \"Lasso\", \"Lasso\", \"Lasso\", \"Lasso\", \"Lasso\", \"Lasso\", \"Lasso\", \"Lasso\", \"Lasso\", \"Lasso\", \"Lasso\", \"Lasso\", \"Lasso\", \"Lasso\", \"Lasso\", \"Lasso\", \"Lasso\", \"Lasso\", \"Lasso\", \"Lasso\", \"Lasso\", \"Lasso\", \"Lasso\", \"Lasso\", \"Lasso\", \"Lasso\", \"Lasso\", \"Lasso\", \"Lasso\", \"Lasso\", \"Lasso\", \"Lasso\", \"Lasso\", \"Lasso\", \"Lasso\", \"Lasso\", \"Lasso\", \"Lasso\", \"Lasso\", \"Lasso\", \"Lasso\", \"Lasso\", \"Lasso\", \"Lasso\", \"Lasso\", \"Lasso\", \"Lasso\", \"Lasso\", \"Lasso\", \"Lasso\", \"Lasso\", \"Lasso\", \"Lasso\", \"Lasso\", \"Lasso\", \"Lasso\", \"Lasso\", \"Lasso\", \"Lasso\", \"Lasso\", \"Lasso\", \"Lasso\", \"Lasso\", \"Lasso\", \"Lasso\", \"Lasso\", \"Lasso\", \"Lasso\", \"Lasso\", \"Lasso\", \"Lasso\", \"Lasso\", \"Lasso\", \"Lasso\", \"Lasso\", \"Lasso\", \"Lasso\", \"Lasso\", \"Lasso\", \"Lasso\", \"Lasso\", \"Lasso\", \"Lasso\", \"Lasso\", \"Lasso\", \"Lasso\", \"Lasso\", \"Lasso\", \"Lasso\", \"Lasso\", \"Lasso\", \"Lasso\", \"Lasso\", \"Lasso\", \"Lasso\", \"Lasso\", \"Lasso\", \"Lasso\", \"Lasso\", \"Lasso\", \"Lasso\", \"Lasso\", \"Lasso\", \"Lasso\", \"Lasso\", \"Lasso\", \"Lasso\", \"Lasso\", \"Lasso\", \"Lasso\", \"Lasso\", \"Lasso\", \"Lasso\", \"Lasso\", \"Lasso\", \"Lasso\", \"Lasso\", \"Lasso\", \"Lasso\", \"Lasso\", \"Lasso\", \"Lasso\", \"Lasso\", \"Lasso\", \"Lasso\", \"Lasso\", \"Lasso\", \"Lasso\", \"Lasso\", \"Lasso\", \"Lasso\", \"Lasso\", \"Lasso\", \"Lasso\", \"Lasso\", \"Lasso\", \"Lasso\", \"Lasso\", \"Lasso\", \"Lasso\", \"Lasso\", \"Lasso\", \"Lasso\", \"Lasso\", \"Lasso\", \"Lasso\", \"Lasso\", \"Lasso\", \"Lasso\", \"Lasso\", \"Lasso\", \"Lasso\", \"Lasso\", \"Lasso\", \"Lasso\", \"Lasso\", \"Lasso\", \"Lasso\", \"Lasso\", \"Lasso\", \"Lasso\", \"Lasso\", \"Lasso\", \"Lasso\", \"Lasso\", \"Lasso\", \"Lasso\", \"Lasso\", \"Lasso\", \"Lasso\", \"Lasso\", \"Lasso\", \"Lasso\", \"Lasso\", \"Lasso\", \"Lasso\", \"Lasso\", \"Lasso\", \"Lasso\", \"Lasso\", \"Lasso\", \"Lasso\", \"Lasso\", \"Lasso\", \"Lasso\", \"Lasso\", \"Lasso\", \"Lasso\", \"Lasso\", \"Lasso\", \"Lasso\", \"Lasso\", \"Lasso\", \"Lasso\", \"Lasso\", \"Lasso\", \"Lasso\", \"Lasso\", \"Lasso\", \"Lasso\", \"Lasso\", \"Lasso\", \"Lasso\", \"Lasso\", \"Lasso\", \"Lasso\", \"Lasso\", \"Lasso\", \"Lasso\", \"Lasso\", \"Lasso\", \"Lasso\", \"Lasso\", \"Lasso\", \"Lasso\", \"Lasso\", \"Lasso\", \"Lasso\", \"Lasso\", \"Lasso\", \"Lasso\"], \"yaxis\": \"y2\"}, {\"legendgroup\": \"Ridge\", \"marker\": {\"color\": \"rgb(255, 127, 14)\", \"symbol\": \"line-ns-open\"}, \"mode\": \"markers\", \"name\": \"Ridge\", \"showlegend\": false, \"type\": \"scatter\", \"x\": [-1.1129087993445883, 0.8294144662534814, -0.5787984166623268, -4.491722023112541, -0.32314439645022025, 2.5528447785053894, 0.6441174358231824, 0.1409552018903455, -0.7850726377135705, 0.7655534592397848, 0.3566834587710539, -1.5694262616057055, 0.26227557067205787, -0.25740342390755994, -0.7824098482842321, 2.593492116092447, 0.5606042947988271, -0.45173420352267224, -1.2515177116236575, -1.2566996189796298, -0.8399631100452208, -0.9115025384574141, 2.4240448138352138, 0.5895441677219551, -1.0812932141466685, -1.707804185321797, -0.14992684171099205, 0.8871041754357937, 0.6283527413632991, 1.8381784632119191, 0.505301827698737, 1.8475439808285323, 1.166041725122704, -0.2943188274364649, -0.8460284506774254, -1.17439061990725, 0.3875825329008674, 1.5379256032546271, 0.7316435087966041, -1.8849743338030243, -0.3803906278167402, -0.08497089850913538, 1.2408957059769552, -0.675384692841842, 0.9156462926385307, 1.3807542463331037, -1.8741582993187103, -0.3036013953089616, -1.042495473341123, 1.4179918699990184, -1.7072056935387103, 1.5472728948676222, -0.12272100040557254, -1.5950573585055334, 0.15378752892536862, -1.5158020234452823, 0.35757369273879896, 0.030330024715052306, 0.5305137448732574, 0.5063646604902491, -1.3044749851614323, -0.9238000638359798, -0.8593459950759047, -0.8880271347939686, -0.6393546630439428, -0.21638696058562756, 0.5305137448732574, 0.3792336381163214, -0.9978701583672306, 0.24931731321912154, 0.05756227228095029, -1.2397454075267071, 1.2780601949512265, -0.10863399808951586, -0.2107793401258337, -0.29120046811213984, -1.8319505334685862, -0.0491844382766743, 1.3319810228349425, 0.38011871476704684, -0.5547483724494815, -0.4773991991057913, -0.01885776832652764, 2.083607641950495, 0.5019017353092347, 1.164826212690337, -0.33267410582722473, -0.567485799705859, -0.21335053062725162, -0.37947358391757136, 1.5669198703543192, -1.252227865051903, 1.4733934612819577, 0.2950302432708869, -0.3911697100304558, 1.9506134740652192, -1.3039572485580653, -0.2646141027048185, 1.1745371841278254, 0.7332049553669773, 0.40787226982268265, -0.0700409608238554, 0.9641079920298492, -0.7510364354348971, -0.5507022164536642, -0.3803906278167402, 0.5946382945523817, 1.1556929985029658, 0.24728461617888295, -1.5282662275837136, 0.8294023660848131, -1.0524652240917058, 0.16304731435801156, 1.4641369891508034, 0.15378752892536862, 1.6818403861386555, 5.35292213997846, 0.18684346159249685, 0.4889378708015054, -0.4506482465367655, 1.3891756534311026, 0.8580076675687974, 0.3088028358131526, 0.941772667175591, 0.505301827698737, 0.9156462926385307, 0.2797000658723828, 1.0463882598360845, -1.3612332448929134, 0.6049897975119967, -0.06543314271059848, -1.0108996225873643, 0.9579782613824382, 0.7252543780891754, -1.36912889251583, 1.3807542463331037, 0.7257446567852908, 1.601511601852474, -0.13594760851282506, 0.33530494141182837, -1.4934173404774074, 0.6746094015060963, -0.37106434897488283, -1.3037552248843616, -0.5547483724494815, 1.140173148544466, 0.7316435087966041, -0.770448536941292, 1.3090641217710295, 0.5606042947988271, 1.5022066465158836, 2.0043866121608263, -0.157320582947848, -1.188042408518884, 0.6165824461465597, 0.8794436105113232, 0.1835059416839746, -0.6227415537368399, 0.5190881755161992, -0.8512030334430355, -1.5624517801768787, 1.7557378683622409, 0.4721882153098292, -1.7470268311650106, -0.44389495120086075, -0.8351537643913647, 0.3566834587710539, 0.7145994336929551, 0.5244451833779368, -0.8487825870092854, 1.6538498614795787, -0.0397159499033653, -0.6578821407405817, 0.38700835217415674, -1.0429267048069075, 0.3960769123294702, 0.32567600803492003, -1.0696500851663928, -2.498700474833537, -0.9746776732691993, 0.3792336381163214, -0.5709870751505297, 0.26227557067205787, -0.24695538881781598, -1.1473221196669579, -0.0491844382766743, 0.23989386642114122, 0.3184997323551943, -1.0629697147961479, 0.6701186728270856, 0.5128595234322217, 0.6320329944543434, -1.1731659078568264, 0.03952824119736942, -1.269952286230965, 0.856571680748048, -0.8977872724626939, -0.970811622594322, 0.19182873460454308, 0.2336292575061032, 2.2692899025029476, -1.2140561129121825, 0.3471374217527889, 0.550260261431842, 1.2058020229635973, -0.0015168394811260828, -0.781708068303815, 0.003485678210227272, 2.042015376089941, 0.1869271089993554, -0.12300009092951442, 0.36814325094283523, -0.400386090162596, -0.1994719902143675, -1.1465289568914978, 1.4463457173647998, 0.5128595234322217, 0.15378752892536862, -2.3860029596239967, -2.498700474833537, -1.1582283307064833, 1.4479555874952368, -1.86257359000279, -1.2420327374696614, -0.04068580996707902, 0.4388487477202534, -0.1454890137238287, -0.3416944929343938, 0.3362875277756355, -0.536228433962193, -0.3035575716149484, -0.2017909174006377, -0.3834299342077194, 0.29849489844568233, -0.16419004276161603, -0.32853661451042604, -0.1378956100651927, 1.1217152075846775, -0.1994719902143675, 0.6320329944543434, 1.644825182046553, 0.5175894427157657, 0.35953353010235417, -0.5868463926732811, -0.21638696058562756, 0.6037975663441016, -1.707804185321797, -0.6879302509236522, 0.6495738899163058, 2.80363827927704, 1.2247078451683402, -0.11110506202544211, -0.4378103785779063, -0.06382234426580813, -1.4428815635037189, -0.39966796238423774, -0.4139565225914571, -0.781708068303815, -0.7649194839950699, -0.2980471339637317, -0.536228433962193, -1.3567671205441134, -1.2381446354937489, -1.559734913180014, 4.945017934913639, -1.099472133209868, 0.6634165306117736, 0.592317044550978, 0.6701186728270856, -0.8396674041663161], \"xaxis\": \"x\", \"y\": [\"Ridge\", \"Ridge\", \"Ridge\", \"Ridge\", \"Ridge\", \"Ridge\", \"Ridge\", \"Ridge\", \"Ridge\", \"Ridge\", \"Ridge\", \"Ridge\", \"Ridge\", \"Ridge\", \"Ridge\", \"Ridge\", \"Ridge\", \"Ridge\", \"Ridge\", \"Ridge\", \"Ridge\", \"Ridge\", \"Ridge\", \"Ridge\", \"Ridge\", \"Ridge\", \"Ridge\", \"Ridge\", \"Ridge\", \"Ridge\", \"Ridge\", \"Ridge\", \"Ridge\", \"Ridge\", \"Ridge\", \"Ridge\", \"Ridge\", \"Ridge\", \"Ridge\", \"Ridge\", \"Ridge\", \"Ridge\", \"Ridge\", \"Ridge\", \"Ridge\", \"Ridge\", \"Ridge\", \"Ridge\", \"Ridge\", \"Ridge\", \"Ridge\", \"Ridge\", \"Ridge\", \"Ridge\", \"Ridge\", \"Ridge\", \"Ridge\", \"Ridge\", \"Ridge\", \"Ridge\", \"Ridge\", \"Ridge\", \"Ridge\", \"Ridge\", \"Ridge\", \"Ridge\", \"Ridge\", \"Ridge\", \"Ridge\", \"Ridge\", \"Ridge\", \"Ridge\", \"Ridge\", \"Ridge\", \"Ridge\", \"Ridge\", \"Ridge\", \"Ridge\", \"Ridge\", \"Ridge\", \"Ridge\", \"Ridge\", \"Ridge\", \"Ridge\", \"Ridge\", \"Ridge\", \"Ridge\", \"Ridge\", \"Ridge\", \"Ridge\", \"Ridge\", \"Ridge\", \"Ridge\", \"Ridge\", \"Ridge\", \"Ridge\", \"Ridge\", \"Ridge\", \"Ridge\", \"Ridge\", \"Ridge\", \"Ridge\", \"Ridge\", \"Ridge\", \"Ridge\", \"Ridge\", \"Ridge\", \"Ridge\", \"Ridge\", \"Ridge\", \"Ridge\", \"Ridge\", \"Ridge\", \"Ridge\", \"Ridge\", \"Ridge\", \"Ridge\", \"Ridge\", \"Ridge\", \"Ridge\", \"Ridge\", \"Ridge\", \"Ridge\", \"Ridge\", \"Ridge\", \"Ridge\", \"Ridge\", \"Ridge\", \"Ridge\", \"Ridge\", \"Ridge\", \"Ridge\", \"Ridge\", \"Ridge\", \"Ridge\", \"Ridge\", \"Ridge\", \"Ridge\", \"Ridge\", \"Ridge\", \"Ridge\", \"Ridge\", \"Ridge\", \"Ridge\", \"Ridge\", \"Ridge\", \"Ridge\", \"Ridge\", \"Ridge\", \"Ridge\", \"Ridge\", \"Ridge\", \"Ridge\", \"Ridge\", \"Ridge\", \"Ridge\", \"Ridge\", \"Ridge\", \"Ridge\", \"Ridge\", \"Ridge\", \"Ridge\", \"Ridge\", \"Ridge\", \"Ridge\", \"Ridge\", \"Ridge\", \"Ridge\", \"Ridge\", \"Ridge\", \"Ridge\", \"Ridge\", \"Ridge\", \"Ridge\", \"Ridge\", \"Ridge\", \"Ridge\", \"Ridge\", \"Ridge\", \"Ridge\", \"Ridge\", \"Ridge\", \"Ridge\", \"Ridge\", \"Ridge\", \"Ridge\", \"Ridge\", \"Ridge\", \"Ridge\", \"Ridge\", \"Ridge\", \"Ridge\", \"Ridge\", \"Ridge\", \"Ridge\", \"Ridge\", \"Ridge\", \"Ridge\", \"Ridge\", \"Ridge\", \"Ridge\", \"Ridge\", \"Ridge\", \"Ridge\", \"Ridge\", \"Ridge\", \"Ridge\", \"Ridge\", \"Ridge\", \"Ridge\", \"Ridge\", \"Ridge\", \"Ridge\", \"Ridge\", \"Ridge\", \"Ridge\", \"Ridge\", \"Ridge\", \"Ridge\", \"Ridge\", \"Ridge\", \"Ridge\", \"Ridge\", \"Ridge\", \"Ridge\", \"Ridge\", \"Ridge\", \"Ridge\", \"Ridge\", \"Ridge\", \"Ridge\", \"Ridge\", \"Ridge\", \"Ridge\", \"Ridge\", \"Ridge\", \"Ridge\", \"Ridge\", \"Ridge\", \"Ridge\", \"Ridge\", \"Ridge\", \"Ridge\", \"Ridge\", \"Ridge\", \"Ridge\", \"Ridge\", \"Ridge\", \"Ridge\", \"Ridge\", \"Ridge\", \"Ridge\", \"Ridge\", \"Ridge\", \"Ridge\", \"Ridge\", \"Ridge\", \"Ridge\", \"Ridge\", \"Ridge\", \"Ridge\", \"Ridge\", \"Ridge\", \"Ridge\", \"Ridge\", \"Ridge\", \"Ridge\", \"Ridge\", \"Ridge\", \"Ridge\"], \"yaxis\": \"y2\"}],                        {\"barmode\": \"overlay\", \"hovermode\": \"closest\", \"legend\": {\"traceorder\": \"reversed\"}, \"template\": {\"data\": {\"bar\": [{\"error_x\": {\"color\": \"#2a3f5f\"}, \"error_y\": {\"color\": \"#2a3f5f\"}, \"marker\": {\"line\": {\"color\": \"#E5ECF6\", \"width\": 0.5}}, \"type\": \"bar\"}], \"barpolar\": [{\"marker\": {\"line\": {\"color\": \"#E5ECF6\", \"width\": 0.5}}, \"type\": \"barpolar\"}], \"carpet\": [{\"aaxis\": {\"endlinecolor\": \"#2a3f5f\", \"gridcolor\": \"white\", \"linecolor\": \"white\", \"minorgridcolor\": \"white\", \"startlinecolor\": \"#2a3f5f\"}, \"baxis\": {\"endlinecolor\": \"#2a3f5f\", \"gridcolor\": \"white\", \"linecolor\": \"white\", \"minorgridcolor\": \"white\", \"startlinecolor\": \"#2a3f5f\"}, \"type\": \"carpet\"}], \"choropleth\": [{\"colorbar\": {\"outlinewidth\": 0, \"ticks\": \"\"}, \"type\": \"choropleth\"}], \"contour\": [{\"colorbar\": {\"outlinewidth\": 0, \"ticks\": \"\"}, \"colorscale\": [[0.0, \"#0d0887\"], [0.1111111111111111, \"#46039f\"], [0.2222222222222222, \"#7201a8\"], [0.3333333333333333, \"#9c179e\"], [0.4444444444444444, \"#bd3786\"], [0.5555555555555556, \"#d8576b\"], [0.6666666666666666, \"#ed7953\"], [0.7777777777777778, \"#fb9f3a\"], [0.8888888888888888, \"#fdca26\"], [1.0, \"#f0f921\"]], \"type\": \"contour\"}], \"contourcarpet\": [{\"colorbar\": {\"outlinewidth\": 0, \"ticks\": \"\"}, \"type\": \"contourcarpet\"}], \"heatmap\": [{\"colorbar\": {\"outlinewidth\": 0, \"ticks\": \"\"}, \"colorscale\": [[0.0, \"#0d0887\"], [0.1111111111111111, \"#46039f\"], [0.2222222222222222, \"#7201a8\"], [0.3333333333333333, \"#9c179e\"], [0.4444444444444444, \"#bd3786\"], [0.5555555555555556, \"#d8576b\"], [0.6666666666666666, \"#ed7953\"], [0.7777777777777778, \"#fb9f3a\"], [0.8888888888888888, \"#fdca26\"], [1.0, \"#f0f921\"]], \"type\": \"heatmap\"}], \"heatmapgl\": [{\"colorbar\": {\"outlinewidth\": 0, \"ticks\": \"\"}, \"colorscale\": [[0.0, \"#0d0887\"], [0.1111111111111111, \"#46039f\"], [0.2222222222222222, \"#7201a8\"], [0.3333333333333333, \"#9c179e\"], [0.4444444444444444, \"#bd3786\"], [0.5555555555555556, \"#d8576b\"], [0.6666666666666666, \"#ed7953\"], [0.7777777777777778, \"#fb9f3a\"], [0.8888888888888888, \"#fdca26\"], [1.0, \"#f0f921\"]], \"type\": \"heatmapgl\"}], \"histogram\": [{\"marker\": {\"colorbar\": {\"outlinewidth\": 0, \"ticks\": \"\"}}, \"type\": \"histogram\"}], \"histogram2d\": [{\"colorbar\": {\"outlinewidth\": 0, \"ticks\": \"\"}, \"colorscale\": [[0.0, \"#0d0887\"], [0.1111111111111111, \"#46039f\"], [0.2222222222222222, \"#7201a8\"], [0.3333333333333333, \"#9c179e\"], [0.4444444444444444, \"#bd3786\"], [0.5555555555555556, \"#d8576b\"], [0.6666666666666666, \"#ed7953\"], [0.7777777777777778, \"#fb9f3a\"], [0.8888888888888888, \"#fdca26\"], [1.0, \"#f0f921\"]], \"type\": \"histogram2d\"}], \"histogram2dcontour\": [{\"colorbar\": {\"outlinewidth\": 0, \"ticks\": \"\"}, \"colorscale\": [[0.0, \"#0d0887\"], [0.1111111111111111, \"#46039f\"], [0.2222222222222222, \"#7201a8\"], [0.3333333333333333, \"#9c179e\"], [0.4444444444444444, \"#bd3786\"], [0.5555555555555556, \"#d8576b\"], [0.6666666666666666, \"#ed7953\"], [0.7777777777777778, \"#fb9f3a\"], [0.8888888888888888, \"#fdca26\"], [1.0, \"#f0f921\"]], \"type\": \"histogram2dcontour\"}], \"mesh3d\": [{\"colorbar\": {\"outlinewidth\": 0, \"ticks\": \"\"}, \"type\": \"mesh3d\"}], \"parcoords\": [{\"line\": {\"colorbar\": {\"outlinewidth\": 0, \"ticks\": \"\"}}, \"type\": \"parcoords\"}], \"pie\": [{\"automargin\": true, \"type\": \"pie\"}], \"scatter\": [{\"marker\": {\"colorbar\": {\"outlinewidth\": 0, \"ticks\": \"\"}}, \"type\": \"scatter\"}], \"scatter3d\": [{\"line\": {\"colorbar\": {\"outlinewidth\": 0, \"ticks\": \"\"}}, \"marker\": {\"colorbar\": {\"outlinewidth\": 0, \"ticks\": \"\"}}, \"type\": \"scatter3d\"}], \"scattercarpet\": [{\"marker\": {\"colorbar\": {\"outlinewidth\": 0, \"ticks\": \"\"}}, \"type\": \"scattercarpet\"}], \"scattergeo\": [{\"marker\": {\"colorbar\": {\"outlinewidth\": 0, \"ticks\": \"\"}}, \"type\": \"scattergeo\"}], \"scattergl\": [{\"marker\": {\"colorbar\": {\"outlinewidth\": 0, \"ticks\": \"\"}}, \"type\": \"scattergl\"}], \"scattermapbox\": [{\"marker\": {\"colorbar\": {\"outlinewidth\": 0, \"ticks\": \"\"}}, \"type\": \"scattermapbox\"}], \"scatterpolar\": [{\"marker\": {\"colorbar\": {\"outlinewidth\": 0, \"ticks\": \"\"}}, \"type\": \"scatterpolar\"}], \"scatterpolargl\": [{\"marker\": {\"colorbar\": {\"outlinewidth\": 0, \"ticks\": \"\"}}, \"type\": \"scatterpolargl\"}], \"scatterternary\": [{\"marker\": {\"colorbar\": {\"outlinewidth\": 0, \"ticks\": \"\"}}, \"type\": \"scatterternary\"}], \"surface\": [{\"colorbar\": {\"outlinewidth\": 0, \"ticks\": \"\"}, \"colorscale\": [[0.0, \"#0d0887\"], [0.1111111111111111, \"#46039f\"], [0.2222222222222222, \"#7201a8\"], [0.3333333333333333, \"#9c179e\"], [0.4444444444444444, \"#bd3786\"], [0.5555555555555556, \"#d8576b\"], [0.6666666666666666, \"#ed7953\"], [0.7777777777777778, \"#fb9f3a\"], [0.8888888888888888, \"#fdca26\"], [1.0, \"#f0f921\"]], \"type\": \"surface\"}], \"table\": [{\"cells\": {\"fill\": {\"color\": \"#EBF0F8\"}, \"line\": {\"color\": \"white\"}}, \"header\": {\"fill\": {\"color\": \"#C8D4E3\"}, \"line\": {\"color\": \"white\"}}, \"type\": \"table\"}]}, \"layout\": {\"annotationdefaults\": {\"arrowcolor\": \"#2a3f5f\", \"arrowhead\": 0, \"arrowwidth\": 1}, \"autotypenumbers\": \"strict\", \"coloraxis\": {\"colorbar\": {\"outlinewidth\": 0, \"ticks\": \"\"}}, \"colorscale\": {\"diverging\": [[0, \"#8e0152\"], [0.1, \"#c51b7d\"], [0.2, \"#de77ae\"], [0.3, \"#f1b6da\"], [0.4, \"#fde0ef\"], [0.5, \"#f7f7f7\"], [0.6, \"#e6f5d0\"], [0.7, \"#b8e186\"], [0.8, \"#7fbc41\"], [0.9, \"#4d9221\"], [1, \"#276419\"]], \"sequential\": [[0.0, \"#0d0887\"], [0.1111111111111111, \"#46039f\"], [0.2222222222222222, \"#7201a8\"], [0.3333333333333333, \"#9c179e\"], [0.4444444444444444, \"#bd3786\"], [0.5555555555555556, \"#d8576b\"], [0.6666666666666666, \"#ed7953\"], [0.7777777777777778, \"#fb9f3a\"], [0.8888888888888888, \"#fdca26\"], [1.0, \"#f0f921\"]], \"sequentialminus\": [[0.0, \"#0d0887\"], [0.1111111111111111, \"#46039f\"], [0.2222222222222222, \"#7201a8\"], [0.3333333333333333, \"#9c179e\"], [0.4444444444444444, \"#bd3786\"], [0.5555555555555556, \"#d8576b\"], [0.6666666666666666, \"#ed7953\"], [0.7777777777777778, \"#fb9f3a\"], [0.8888888888888888, \"#fdca26\"], [1.0, \"#f0f921\"]]}, \"colorway\": [\"#636efa\", \"#EF553B\", \"#00cc96\", \"#ab63fa\", \"#FFA15A\", \"#19d3f3\", \"#FF6692\", \"#B6E880\", \"#FF97FF\", \"#FECB52\"], \"font\": {\"color\": \"#2a3f5f\"}, \"geo\": {\"bgcolor\": \"white\", \"lakecolor\": \"white\", \"landcolor\": \"#E5ECF6\", \"showlakes\": true, \"showland\": true, \"subunitcolor\": \"white\"}, \"hoverlabel\": {\"align\": \"left\"}, \"hovermode\": \"closest\", \"mapbox\": {\"style\": \"light\"}, \"paper_bgcolor\": \"white\", \"plot_bgcolor\": \"#E5ECF6\", \"polar\": {\"angularaxis\": {\"gridcolor\": \"white\", \"linecolor\": \"white\", \"ticks\": \"\"}, \"bgcolor\": \"#E5ECF6\", \"radialaxis\": {\"gridcolor\": \"white\", \"linecolor\": \"white\", \"ticks\": \"\"}}, \"scene\": {\"xaxis\": {\"backgroundcolor\": \"#E5ECF6\", \"gridcolor\": \"white\", \"gridwidth\": 2, \"linecolor\": \"white\", \"showbackground\": true, \"ticks\": \"\", \"zerolinecolor\": \"white\"}, \"yaxis\": {\"backgroundcolor\": \"#E5ECF6\", \"gridcolor\": \"white\", \"gridwidth\": 2, \"linecolor\": \"white\", \"showbackground\": true, \"ticks\": \"\", \"zerolinecolor\": \"white\"}, \"zaxis\": {\"backgroundcolor\": \"#E5ECF6\", \"gridcolor\": \"white\", \"gridwidth\": 2, \"linecolor\": \"white\", \"showbackground\": true, \"ticks\": \"\", \"zerolinecolor\": \"white\"}}, \"shapedefaults\": {\"line\": {\"color\": \"#2a3f5f\"}}, \"ternary\": {\"aaxis\": {\"gridcolor\": \"white\", \"linecolor\": \"white\", \"ticks\": \"\"}, \"baxis\": {\"gridcolor\": \"white\", \"linecolor\": \"white\", \"ticks\": \"\"}, \"bgcolor\": \"#E5ECF6\", \"caxis\": {\"gridcolor\": \"white\", \"linecolor\": \"white\", \"ticks\": \"\"}}, \"title\": {\"x\": 0.05}, \"xaxis\": {\"automargin\": true, \"gridcolor\": \"white\", \"linecolor\": \"white\", \"ticks\": \"\", \"title\": {\"standoff\": 15}, \"zerolinecolor\": \"white\", \"zerolinewidth\": 2}, \"yaxis\": {\"automargin\": true, \"gridcolor\": \"white\", \"linecolor\": \"white\", \"ticks\": \"\", \"title\": {\"standoff\": 15}, \"zerolinecolor\": \"white\", \"zerolinewidth\": 2}}}, \"xaxis\": {\"anchor\": \"y2\", \"domain\": [0.0, 1.0], \"zeroline\": false}, \"yaxis\": {\"anchor\": \"free\", \"domain\": [0.35, 1], \"position\": 0.0}, \"yaxis2\": {\"anchor\": \"x\", \"domain\": [0, 0.25], \"dtick\": 1, \"showticklabels\": false}},                        {\"responsive\": true}                    ).then(function(){\n",
       "                            \n",
       "var gd = document.getElementById('0bf15a9b-9a58-4204-8e49-293128928384');\n",
       "var x = new MutationObserver(function (mutations, observer) {{\n",
       "        var display = window.getComputedStyle(gd).display;\n",
       "        if (!display || display === 'none') {{\n",
       "            console.log([gd, 'removed!']);\n",
       "            Plotly.purge(gd);\n",
       "            observer.disconnect();\n",
       "        }}\n",
       "}});\n",
       "\n",
       "// Listen for the removal of the full notebook cells\n",
       "var notebookContainer = gd.closest('#notebook-container');\n",
       "if (notebookContainer) {{\n",
       "    x.observe(notebookContainer, {childList: true});\n",
       "}}\n",
       "\n",
       "// Listen for the clearing of the current output cell\n",
       "var outputEl = gd.closest('.output');\n",
       "if (outputEl) {{\n",
       "    x.observe(outputEl, {childList: true});\n",
       "}}\n",
       "\n",
       "                        })                };                });            </script>        </div>"
      ]
     },
     "metadata": {},
     "output_type": "display_data"
    }
   ],
   "source": [
    "ff.create_distplot([\n",
    "    models['LassoCV'][\"LinearModel\"].coef_, \n",
    "    models['RidgeCV'][\"LinearModel\"].coef_],\n",
    "    [\"Lasso\", \"Ridge\"], bin_size=0.1)"
   ]
  },
  {
   "cell_type": "markdown",
   "metadata": {},
   "source": [
    "Here we get the names of all the features in the model."
   ]
  },
  {
   "cell_type": "code",
   "execution_count": 44,
   "metadata": {},
   "outputs": [
    {
     "name": "stdout",
     "output_type": "stream",
     "text": [
      "['cylinders' 'displacement' 'horsepower' 'weight' 'acceleration'\n",
      " 'model_year' 'x0_europe' 'x0_japan' 'x0_usa' '10' '100' '100ls' '111'\n",
      " '1131' '12' '1200' '1200d' '124' '128' '12tl' '1300' '144ea' '1500' '18i'\n",
      " '1900' '200' '2000' '2002' '200sx' '210' '225' '2300' '240d' '244dl'\n",
      " '245' '280s' '300d' '304' '310' '320i' '340' '350' '4000' '411' '4w'\n",
      " '500' '5000' '504' '505s' '510' '610' '626' '710' '810' '88' '99gle'\n",
      " '99le' 'accord' 'air' 'ambassador' 'amc' 'aries' 'aspen' 'audi' 'auto'\n",
      " 'beetle' 'bel' 'benz' 'bmw' 'brougham' 'buick' 'c10' 'cadillac' 'camaro'\n",
      " 'capri' 'caprice' 'carina' 'carlo' 'catalina' 'cavalier' 'celica'\n",
      " 'century' 'challenger' 'champ' 'chevelle' 'chevette' 'chevroelt'\n",
      " 'chevrolet' 'chevy' 'chrysler' 'ciera' 'citation' 'civic' 'classic'\n",
      " 'cobra' 'colt' 'concord' 'concours' 'corolla' 'corona' 'coronet' 'cougar'\n",
      " 'country' 'coupe' 'cressida' 'cuda' 'custom' 'cutlass' 'cvcc' 'd100'\n",
      " 'd200' 'dart' 'dasher' 'datsun' 'delta' 'deluxe' 'diesel' 'diplomat' 'dl'\n",
      " 'dodge' 'door' 'dpl' 'duster' 'eldorado' 'electra' 'escort' 'estate'\n",
      " 'f250' 'fairmont' 'fiat' 'firebird' 'ford' 'fox' 'fury' 'futura'\n",
      " 'galaxie' 'ghia' 'gl' 'glc' 'gran' 'granada' 'grand' 'gremlin' 'gs' 'gt'\n",
      " 'gtl' 'gx' 'hardtop' 'hatchback' 'hi' 'honda' 'horizon' 'hornet' 'ii'\n",
      " 'iii' 'impala' 'isuzu' 'j2000' 'jetta' 'landau' 'lebaron' 'lecar'\n",
      " 'lesabre' 'liftback' 'limited' 'lj' 'ls' 'ltd' 'luxus' 'lx' 'lynx'\n",
      " 'magnum' 'malibu' 'man' 'mark' 'marquis' 'matador' 'maverick' 'maxda'\n",
      " 'mazda' 'mercedes' 'mercury' 'model' 'monaco' 'monarch' 'monte' 'monza'\n",
      " 'mpg' 'mustang' 'new' 'newport' 'nissan' 'nova' 'oldsmobile' 'omega'\n",
      " 'omni' 'opel' 'pacer' 'peugeot' 'phoenix' 'pickup' 'pinto' 'pl510'\n",
      " 'plymouth' 'pontiac' 'prelude' 'premier' 'prix' 'rabbit' 'rampage'\n",
      " 'ranger' 'rebel' 'regal' 'regis' 'reliant' 'renault' 'royal' 'royale'\n",
      " 'rx' 'rx3' 'saab' 'safari' 'salon' 'sapporo' 'satellite' 'se' 'sebring'\n",
      " 'sedan' 'seville' 'sj' 'skyhawk' 'skylark' 'special' 'spirit' 'sport'\n",
      " 'sportabout' 'squire' 'sst' 'st' 'stanza' 'strada' 'subaru' 'suburb'\n",
      " 'sunbird' 'super' 'sw' 'sx' 'tc' 'tc3' 'tercel' 'torino' 'town' 'toyota'\n",
      " 'toyouta' 'turbo' 'type' 'v6' 'v8' 'valiant' 'vega' 'ventura' 'volare'\n",
      " 'volkswagen' 'volvo' 'vw' 'wagon' 'x1' 'xe' 'yorker' 'zephyr']\n"
     ]
    }
   ],
   "source": [
    "ct = models['LassoCV']['SelectColumns']\n",
    "feature_names = (\n",
    "    quantitative_features +\n",
    "    list(ct.named_transformers_['origin_encoder'].get_feature_names())+\n",
    "    list(ct.named_transformers_['text'].get_feature_names())\n",
    ")\n",
    "feature_names = np.array(feature_names)\n",
    "print(feature_names)"
   ]
  },
  {
   "cell_type": "markdown",
   "metadata": {},
   "source": [
    "Finally, we select the features that had non-zero coefficients (parameters).  Not surprisingly, many of these features are likely good predictors of the fuel economy of a car."
   ]
  },
  {
   "cell_type": "code",
   "execution_count": 45,
   "metadata": {},
   "outputs": [
    {
     "data": {
      "text/plain": [
       "array(['cylinders', 'displacement', 'weight', 'acceleration',\n",
       "       'model_year', 'x0_usa', '1200', '1500', '210', 'amc', 'civic',\n",
       "       'colt', 'corolla', 'custom', 'datsun', 'diesel', 'ford',\n",
       "       'hatchback', 'honda', 'horizon', 'ii', 'maxda', 'plymouth',\n",
       "       'pontiac', 'rabbit', 'renault', 'rx', 'rx3', 'sw', 'tercel', 'vw'],\n",
       "      dtype='<U12')"
      ]
     },
     "execution_count": 45,
     "metadata": {},
     "output_type": "execute_result"
    }
   ],
   "source": [
    "kept = ~np.isclose(models['LassoCV'][\"LinearModel\"].coef_, 0)\n",
    "feature_names[kept]"
   ]
  }
 ],
 "metadata": {
  "kernelspec": {
   "display_name": "Python 3 (ipykernel)",
   "language": "python",
   "name": "python3"
  },
  "language_info": {
   "codemirror_mode": {
    "name": "ipython",
    "version": 3
   },
   "file_extension": ".py",
   "mimetype": "text/x-python",
   "name": "python",
   "nbconvert_exporter": "python",
   "pygments_lexer": "ipython3",
   "version": "3.8.10"
  }
 },
 "nbformat": 4,
 "nbformat_minor": 4
}
