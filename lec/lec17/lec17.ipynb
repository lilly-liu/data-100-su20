{
 "cells": [
  {
   "cell_type": "markdown",
   "metadata": {},
   "source": [
    "# Lecture 17\n",
    "\n",
    "by Isaac Schmidt\n",
    "\n",
    "Adapted from Joseph Gonzalez, Spring 2020"
   ]
  },
  {
   "cell_type": "markdown",
   "metadata": {},
   "source": [
    "## Train Test Split and Cross Validation\n",
    "\n",
    "In this section we will work through the train test-split and the process of cross validation.  "
   ]
  },
  {
   "cell_type": "markdown",
   "metadata": {},
   "source": [
    "## Imports\n",
    "\n",
    "As with other notebooks we will use the same set of standard imports."
   ]
  },
  {
   "cell_type": "code",
   "execution_count": 1,
   "metadata": {},
   "outputs": [],
   "source": [
    "import numpy as np\n",
    "import pandas as pd"
   ]
  },
  {
   "cell_type": "code",
   "execution_count": 2,
   "metadata": {},
   "outputs": [
    {
     "name": "stderr",
     "output_type": "stream",
     "text": [
      "/opt/conda/lib/python3.8/site-packages/geopandas/_compat.py:106: UserWarning:\n",
      "\n",
      "The Shapely GEOS version (3.8.0-CAPI-1.13.1 ) is incompatible with the GEOS version PyGEOS was compiled with (3.9.1-CAPI-1.14.2). Conversions between both will be slow.\n",
      "\n"
     ]
    },
    {
     "data": {
      "text/html": [
       "        <script type=\"text/javascript\">\n",
       "        window.PlotlyConfig = {MathJaxConfig: 'local'};\n",
       "        if (window.MathJax) {MathJax.Hub.Config({SVG: {font: \"STIX-Web\"}});}\n",
       "        if (typeof require !== 'undefined') {\n",
       "        require.undef(\"plotly\");\n",
       "        requirejs.config({\n",
       "            paths: {\n",
       "                'plotly': ['https://cdn.plot.ly/plotly-latest.min']\n",
       "            }\n",
       "        });\n",
       "        require(['plotly'], function(Plotly) {\n",
       "            window._Plotly = Plotly;\n",
       "        });\n",
       "        }\n",
       "        </script>\n",
       "        "
      ]
     },
     "metadata": {},
     "output_type": "display_data"
    },
    {
     "data": {
      "text/html": [
       "        <script type=\"text/javascript\">\n",
       "        window.PlotlyConfig = {MathJaxConfig: 'local'};\n",
       "        if (window.MathJax) {MathJax.Hub.Config({SVG: {font: \"STIX-Web\"}});}\n",
       "        if (typeof require !== 'undefined') {\n",
       "        require.undef(\"plotly\");\n",
       "        requirejs.config({\n",
       "            paths: {\n",
       "                'plotly': ['https://cdn.plot.ly/plotly-latest.min']\n",
       "            }\n",
       "        });\n",
       "        require(['plotly'], function(Plotly) {\n",
       "            window._Plotly = Plotly;\n",
       "        });\n",
       "        }\n",
       "        </script>\n",
       "        "
      ]
     },
     "metadata": {},
     "output_type": "display_data"
    }
   ],
   "source": [
    "import plotly.offline as py\n",
    "import plotly.express as px\n",
    "import plotly.graph_objects as go\n",
    "from plotly.subplots import make_subplots\n",
    "import plotly.figure_factory as ff\n",
    "import cufflinks as cf\n",
    "cf.set_config_file(offline=True, sharing=False, theme='ggplot');"
   ]
  },
  {
   "cell_type": "code",
   "execution_count": 3,
   "metadata": {},
   "outputs": [],
   "source": [
    "from sklearn.linear_model import LinearRegression"
   ]
  },
  {
   "cell_type": "markdown",
   "metadata": {},
   "source": [
    "## The Data\n",
    "\n",
    "For this notebook, we will use the seaborn `mpg` dataset which describes the fuel mileage (measured in miles per gallon or mpg) of various cars along with characteristics of those cars.  Our goal will be to build a model that can predict the fuel mileage of a car based on the characteristics of that car."
   ]
  },
  {
   "cell_type": "code",
   "execution_count": 4,
   "metadata": {},
   "outputs": [
    {
     "data": {
      "text/html": [
       "<div>\n",
       "<style scoped>\n",
       "    .dataframe tbody tr th:only-of-type {\n",
       "        vertical-align: middle;\n",
       "    }\n",
       "\n",
       "    .dataframe tbody tr th {\n",
       "        vertical-align: top;\n",
       "    }\n",
       "\n",
       "    .dataframe thead th {\n",
       "        text-align: right;\n",
       "    }\n",
       "</style>\n",
       "<table border=\"1\" class=\"dataframe\">\n",
       "  <thead>\n",
       "    <tr style=\"text-align: right;\">\n",
       "      <th></th>\n",
       "      <th>mpg</th>\n",
       "      <th>cylinders</th>\n",
       "      <th>displacement</th>\n",
       "      <th>horsepower</th>\n",
       "      <th>weight</th>\n",
       "      <th>acceleration</th>\n",
       "      <th>model_year</th>\n",
       "      <th>origin</th>\n",
       "      <th>name</th>\n",
       "    </tr>\n",
       "  </thead>\n",
       "  <tbody>\n",
       "    <tr>\n",
       "      <th>0</th>\n",
       "      <td>18.0</td>\n",
       "      <td>8</td>\n",
       "      <td>307.0</td>\n",
       "      <td>130.0</td>\n",
       "      <td>3504</td>\n",
       "      <td>12.0</td>\n",
       "      <td>70</td>\n",
       "      <td>usa</td>\n",
       "      <td>chevrolet chevelle malibu</td>\n",
       "    </tr>\n",
       "    <tr>\n",
       "      <th>1</th>\n",
       "      <td>15.0</td>\n",
       "      <td>8</td>\n",
       "      <td>350.0</td>\n",
       "      <td>165.0</td>\n",
       "      <td>3693</td>\n",
       "      <td>11.5</td>\n",
       "      <td>70</td>\n",
       "      <td>usa</td>\n",
       "      <td>buick skylark 320</td>\n",
       "    </tr>\n",
       "    <tr>\n",
       "      <th>2</th>\n",
       "      <td>18.0</td>\n",
       "      <td>8</td>\n",
       "      <td>318.0</td>\n",
       "      <td>150.0</td>\n",
       "      <td>3436</td>\n",
       "      <td>11.0</td>\n",
       "      <td>70</td>\n",
       "      <td>usa</td>\n",
       "      <td>plymouth satellite</td>\n",
       "    </tr>\n",
       "    <tr>\n",
       "      <th>3</th>\n",
       "      <td>16.0</td>\n",
       "      <td>8</td>\n",
       "      <td>304.0</td>\n",
       "      <td>150.0</td>\n",
       "      <td>3433</td>\n",
       "      <td>12.0</td>\n",
       "      <td>70</td>\n",
       "      <td>usa</td>\n",
       "      <td>amc rebel sst</td>\n",
       "    </tr>\n",
       "    <tr>\n",
       "      <th>4</th>\n",
       "      <td>17.0</td>\n",
       "      <td>8</td>\n",
       "      <td>302.0</td>\n",
       "      <td>140.0</td>\n",
       "      <td>3449</td>\n",
       "      <td>10.5</td>\n",
       "      <td>70</td>\n",
       "      <td>usa</td>\n",
       "      <td>ford torino</td>\n",
       "    </tr>\n",
       "    <tr>\n",
       "      <th>...</th>\n",
       "      <td>...</td>\n",
       "      <td>...</td>\n",
       "      <td>...</td>\n",
       "      <td>...</td>\n",
       "      <td>...</td>\n",
       "      <td>...</td>\n",
       "      <td>...</td>\n",
       "      <td>...</td>\n",
       "      <td>...</td>\n",
       "    </tr>\n",
       "    <tr>\n",
       "      <th>393</th>\n",
       "      <td>27.0</td>\n",
       "      <td>4</td>\n",
       "      <td>140.0</td>\n",
       "      <td>86.0</td>\n",
       "      <td>2790</td>\n",
       "      <td>15.6</td>\n",
       "      <td>82</td>\n",
       "      <td>usa</td>\n",
       "      <td>ford mustang gl</td>\n",
       "    </tr>\n",
       "    <tr>\n",
       "      <th>394</th>\n",
       "      <td>44.0</td>\n",
       "      <td>4</td>\n",
       "      <td>97.0</td>\n",
       "      <td>52.0</td>\n",
       "      <td>2130</td>\n",
       "      <td>24.6</td>\n",
       "      <td>82</td>\n",
       "      <td>europe</td>\n",
       "      <td>vw pickup</td>\n",
       "    </tr>\n",
       "    <tr>\n",
       "      <th>395</th>\n",
       "      <td>32.0</td>\n",
       "      <td>4</td>\n",
       "      <td>135.0</td>\n",
       "      <td>84.0</td>\n",
       "      <td>2295</td>\n",
       "      <td>11.6</td>\n",
       "      <td>82</td>\n",
       "      <td>usa</td>\n",
       "      <td>dodge rampage</td>\n",
       "    </tr>\n",
       "    <tr>\n",
       "      <th>396</th>\n",
       "      <td>28.0</td>\n",
       "      <td>4</td>\n",
       "      <td>120.0</td>\n",
       "      <td>79.0</td>\n",
       "      <td>2625</td>\n",
       "      <td>18.6</td>\n",
       "      <td>82</td>\n",
       "      <td>usa</td>\n",
       "      <td>ford ranger</td>\n",
       "    </tr>\n",
       "    <tr>\n",
       "      <th>397</th>\n",
       "      <td>31.0</td>\n",
       "      <td>4</td>\n",
       "      <td>119.0</td>\n",
       "      <td>82.0</td>\n",
       "      <td>2720</td>\n",
       "      <td>19.4</td>\n",
       "      <td>82</td>\n",
       "      <td>usa</td>\n",
       "      <td>chevy s-10</td>\n",
       "    </tr>\n",
       "  </tbody>\n",
       "</table>\n",
       "<p>398 rows × 9 columns</p>\n",
       "</div>"
      ],
      "text/plain": [
       "      mpg  cylinders  displacement  horsepower  weight  acceleration  \\\n",
       "0    18.0          8         307.0       130.0    3504          12.0   \n",
       "1    15.0          8         350.0       165.0    3693          11.5   \n",
       "2    18.0          8         318.0       150.0    3436          11.0   \n",
       "3    16.0          8         304.0       150.0    3433          12.0   \n",
       "4    17.0          8         302.0       140.0    3449          10.5   \n",
       "..    ...        ...           ...         ...     ...           ...   \n",
       "393  27.0          4         140.0        86.0    2790          15.6   \n",
       "394  44.0          4          97.0        52.0    2130          24.6   \n",
       "395  32.0          4         135.0        84.0    2295          11.6   \n",
       "396  28.0          4         120.0        79.0    2625          18.6   \n",
       "397  31.0          4         119.0        82.0    2720          19.4   \n",
       "\n",
       "     model_year  origin                       name  \n",
       "0            70     usa  chevrolet chevelle malibu  \n",
       "1            70     usa          buick skylark 320  \n",
       "2            70     usa         plymouth satellite  \n",
       "3            70     usa              amc rebel sst  \n",
       "4            70     usa                ford torino  \n",
       "..          ...     ...                        ...  \n",
       "393          82     usa            ford mustang gl  \n",
       "394          82  europe                  vw pickup  \n",
       "395          82     usa              dodge rampage  \n",
       "396          82     usa                ford ranger  \n",
       "397          82     usa                 chevy s-10  \n",
       "\n",
       "[398 rows x 9 columns]"
      ]
     },
     "execution_count": 4,
     "metadata": {},
     "output_type": "execute_result"
    }
   ],
   "source": [
    "from seaborn import load_dataset\n",
    "data = load_dataset(\"mpg\")\n",
    "data"
   ]
  },
  {
   "cell_type": "markdown",
   "metadata": {},
   "source": [
    "This data has some rows with missing data. We will ignore those rows until later for the sake of this lecture. We can use the Pandas `DataFrame.isna` function to find rows with missing values and drop them, although of course, this is not always the best idea!"
   ]
  },
  {
   "cell_type": "code",
   "execution_count": 5,
   "metadata": {},
   "outputs": [],
   "source": [
    "data = data[~data.isna().any(axis=1)].copy()"
   ]
  },
  {
   "cell_type": "markdown",
   "metadata": {},
   "source": [
    "## Train Test Split\n",
    "\n",
    "The first thing we will want to do with this data is construct a train/test split. Constructing a train test split before EDA and data cleaning can often be helpful.  This allows us to see if our data cleaning and any conclusions we draw from visualizations generalize to new data. This can be done by re-running the data cleaning and EDA process on the test dataset."
   ]
  },
  {
   "cell_type": "markdown",
   "metadata": {},
   "source": [
    "### Using Pandas Operations\n",
    "\n",
    "We can sample the entire dataset to get a permutation and then select a range of rows."
   ]
  },
  {
   "cell_type": "code",
   "execution_count": 6,
   "metadata": {},
   "outputs": [
    {
     "data": {
      "text/html": [
       "<div>\n",
       "<style scoped>\n",
       "    .dataframe tbody tr th:only-of-type {\n",
       "        vertical-align: middle;\n",
       "    }\n",
       "\n",
       "    .dataframe tbody tr th {\n",
       "        vertical-align: top;\n",
       "    }\n",
       "\n",
       "    .dataframe thead th {\n",
       "        text-align: right;\n",
       "    }\n",
       "</style>\n",
       "<table border=\"1\" class=\"dataframe\">\n",
       "  <thead>\n",
       "    <tr style=\"text-align: right;\">\n",
       "      <th></th>\n",
       "      <th>mpg</th>\n",
       "      <th>cylinders</th>\n",
       "      <th>displacement</th>\n",
       "      <th>horsepower</th>\n",
       "      <th>weight</th>\n",
       "      <th>acceleration</th>\n",
       "      <th>model_year</th>\n",
       "      <th>origin</th>\n",
       "      <th>name</th>\n",
       "    </tr>\n",
       "  </thead>\n",
       "  <tbody>\n",
       "    <tr>\n",
       "      <th>79</th>\n",
       "      <td>26.0</td>\n",
       "      <td>4</td>\n",
       "      <td>96.0</td>\n",
       "      <td>69.0</td>\n",
       "      <td>2189</td>\n",
       "      <td>18.0</td>\n",
       "      <td>72</td>\n",
       "      <td>europe</td>\n",
       "      <td>renault 12 (sw)</td>\n",
       "    </tr>\n",
       "    <tr>\n",
       "      <th>276</th>\n",
       "      <td>21.6</td>\n",
       "      <td>4</td>\n",
       "      <td>121.0</td>\n",
       "      <td>115.0</td>\n",
       "      <td>2795</td>\n",
       "      <td>15.7</td>\n",
       "      <td>78</td>\n",
       "      <td>europe</td>\n",
       "      <td>saab 99gle</td>\n",
       "    </tr>\n",
       "    <tr>\n",
       "      <th>248</th>\n",
       "      <td>36.1</td>\n",
       "      <td>4</td>\n",
       "      <td>91.0</td>\n",
       "      <td>60.0</td>\n",
       "      <td>1800</td>\n",
       "      <td>16.4</td>\n",
       "      <td>78</td>\n",
       "      <td>japan</td>\n",
       "      <td>honda civic cvcc</td>\n",
       "    </tr>\n",
       "    <tr>\n",
       "      <th>56</th>\n",
       "      <td>26.0</td>\n",
       "      <td>4</td>\n",
       "      <td>91.0</td>\n",
       "      <td>70.0</td>\n",
       "      <td>1955</td>\n",
       "      <td>20.5</td>\n",
       "      <td>71</td>\n",
       "      <td>usa</td>\n",
       "      <td>plymouth cricket</td>\n",
       "    </tr>\n",
       "    <tr>\n",
       "      <th>393</th>\n",
       "      <td>27.0</td>\n",
       "      <td>4</td>\n",
       "      <td>140.0</td>\n",
       "      <td>86.0</td>\n",
       "      <td>2790</td>\n",
       "      <td>15.6</td>\n",
       "      <td>82</td>\n",
       "      <td>usa</td>\n",
       "      <td>ford mustang gl</td>\n",
       "    </tr>\n",
       "    <tr>\n",
       "      <th>...</th>\n",
       "      <td>...</td>\n",
       "      <td>...</td>\n",
       "      <td>...</td>\n",
       "      <td>...</td>\n",
       "      <td>...</td>\n",
       "      <td>...</td>\n",
       "      <td>...</td>\n",
       "      <td>...</td>\n",
       "      <td>...</td>\n",
       "    </tr>\n",
       "    <tr>\n",
       "      <th>72</th>\n",
       "      <td>15.0</td>\n",
       "      <td>8</td>\n",
       "      <td>304.0</td>\n",
       "      <td>150.0</td>\n",
       "      <td>3892</td>\n",
       "      <td>12.5</td>\n",
       "      <td>72</td>\n",
       "      <td>usa</td>\n",
       "      <td>amc matador (sw)</td>\n",
       "    </tr>\n",
       "    <tr>\n",
       "      <th>107</th>\n",
       "      <td>18.0</td>\n",
       "      <td>6</td>\n",
       "      <td>232.0</td>\n",
       "      <td>100.0</td>\n",
       "      <td>2789</td>\n",
       "      <td>15.0</td>\n",
       "      <td>73</td>\n",
       "      <td>usa</td>\n",
       "      <td>amc gremlin</td>\n",
       "    </tr>\n",
       "    <tr>\n",
       "      <th>272</th>\n",
       "      <td>23.8</td>\n",
       "      <td>4</td>\n",
       "      <td>151.0</td>\n",
       "      <td>85.0</td>\n",
       "      <td>2855</td>\n",
       "      <td>17.6</td>\n",
       "      <td>78</td>\n",
       "      <td>usa</td>\n",
       "      <td>oldsmobile starfire sx</td>\n",
       "    </tr>\n",
       "    <tr>\n",
       "      <th>352</th>\n",
       "      <td>29.9</td>\n",
       "      <td>4</td>\n",
       "      <td>98.0</td>\n",
       "      <td>65.0</td>\n",
       "      <td>2380</td>\n",
       "      <td>20.7</td>\n",
       "      <td>81</td>\n",
       "      <td>usa</td>\n",
       "      <td>ford escort 2h</td>\n",
       "    </tr>\n",
       "    <tr>\n",
       "      <th>103</th>\n",
       "      <td>11.0</td>\n",
       "      <td>8</td>\n",
       "      <td>400.0</td>\n",
       "      <td>150.0</td>\n",
       "      <td>4997</td>\n",
       "      <td>14.0</td>\n",
       "      <td>73</td>\n",
       "      <td>usa</td>\n",
       "      <td>chevrolet impala</td>\n",
       "    </tr>\n",
       "  </tbody>\n",
       "</table>\n",
       "<p>392 rows × 9 columns</p>\n",
       "</div>"
      ],
      "text/plain": [
       "      mpg  cylinders  displacement  horsepower  weight  acceleration  \\\n",
       "79   26.0          4          96.0        69.0    2189          18.0   \n",
       "276  21.6          4         121.0       115.0    2795          15.7   \n",
       "248  36.1          4          91.0        60.0    1800          16.4   \n",
       "56   26.0          4          91.0        70.0    1955          20.5   \n",
       "393  27.0          4         140.0        86.0    2790          15.6   \n",
       "..    ...        ...           ...         ...     ...           ...   \n",
       "72   15.0          8         304.0       150.0    3892          12.5   \n",
       "107  18.0          6         232.0       100.0    2789          15.0   \n",
       "272  23.8          4         151.0        85.0    2855          17.6   \n",
       "352  29.9          4          98.0        65.0    2380          20.7   \n",
       "103  11.0          8         400.0       150.0    4997          14.0   \n",
       "\n",
       "     model_year  origin                    name  \n",
       "79           72  europe         renault 12 (sw)  \n",
       "276          78  europe              saab 99gle  \n",
       "248          78   japan        honda civic cvcc  \n",
       "56           71     usa        plymouth cricket  \n",
       "393          82     usa         ford mustang gl  \n",
       "..          ...     ...                     ...  \n",
       "72           72     usa        amc matador (sw)  \n",
       "107          73     usa             amc gremlin  \n",
       "272          78     usa  oldsmobile starfire sx  \n",
       "352          81     usa          ford escort 2h  \n",
       "103          73     usa        chevrolet impala  \n",
       "\n",
       "[392 rows x 9 columns]"
      ]
     },
     "execution_count": 6,
     "metadata": {},
     "output_type": "execute_result"
    }
   ],
   "source": [
    "shuffled_data = data.sample(frac = 1, random_state = 42)\n",
    "shuffled_data"
   ]
  },
  {
   "cell_type": "markdown",
   "metadata": {},
   "source": [
    "Selecting a range of rows for training and test."
   ]
  },
  {
   "cell_type": "code",
   "execution_count": 7,
   "metadata": {},
   "outputs": [
    {
     "data": {
      "text/plain": [
       "352"
      ]
     },
     "execution_count": 7,
     "metadata": {},
     "output_type": "execute_result"
    }
   ],
   "source": [
    "split_point = int(shuffled_data.shape[0] * 0.90)\n",
    "split_point"
   ]
  },
  {
   "cell_type": "code",
   "execution_count": 8,
   "metadata": {},
   "outputs": [],
   "source": [
    "tr = shuffled_data.iloc[:split_point]\n",
    "te = shuffled_data.iloc[split_point:]"
   ]
  },
  {
   "cell_type": "code",
   "execution_count": 9,
   "metadata": {},
   "outputs": [
    {
     "data": {
      "text/plain": [
       "(352, 40)"
      ]
     },
     "execution_count": 9,
     "metadata": {},
     "output_type": "execute_result"
    }
   ],
   "source": [
    "len(tr), len(te)"
   ]
  },
  {
   "cell_type": "code",
   "execution_count": 10,
   "metadata": {},
   "outputs": [
    {
     "data": {
      "text/html": [
       "<div>\n",
       "<style scoped>\n",
       "    .dataframe tbody tr th:only-of-type {\n",
       "        vertical-align: middle;\n",
       "    }\n",
       "\n",
       "    .dataframe tbody tr th {\n",
       "        vertical-align: top;\n",
       "    }\n",
       "\n",
       "    .dataframe thead th {\n",
       "        text-align: right;\n",
       "    }\n",
       "</style>\n",
       "<table border=\"1\" class=\"dataframe\">\n",
       "  <thead>\n",
       "    <tr style=\"text-align: right;\">\n",
       "      <th></th>\n",
       "      <th>mpg</th>\n",
       "      <th>cylinders</th>\n",
       "      <th>displacement</th>\n",
       "      <th>horsepower</th>\n",
       "      <th>weight</th>\n",
       "      <th>acceleration</th>\n",
       "      <th>model_year</th>\n",
       "      <th>origin</th>\n",
       "      <th>name</th>\n",
       "    </tr>\n",
       "  </thead>\n",
       "  <tbody>\n",
       "    <tr>\n",
       "      <th>79</th>\n",
       "      <td>26.0</td>\n",
       "      <td>4</td>\n",
       "      <td>96.0</td>\n",
       "      <td>69.0</td>\n",
       "      <td>2189</td>\n",
       "      <td>18.0</td>\n",
       "      <td>72</td>\n",
       "      <td>europe</td>\n",
       "      <td>renault 12 (sw)</td>\n",
       "    </tr>\n",
       "    <tr>\n",
       "      <th>276</th>\n",
       "      <td>21.6</td>\n",
       "      <td>4</td>\n",
       "      <td>121.0</td>\n",
       "      <td>115.0</td>\n",
       "      <td>2795</td>\n",
       "      <td>15.7</td>\n",
       "      <td>78</td>\n",
       "      <td>europe</td>\n",
       "      <td>saab 99gle</td>\n",
       "    </tr>\n",
       "    <tr>\n",
       "      <th>248</th>\n",
       "      <td>36.1</td>\n",
       "      <td>4</td>\n",
       "      <td>91.0</td>\n",
       "      <td>60.0</td>\n",
       "      <td>1800</td>\n",
       "      <td>16.4</td>\n",
       "      <td>78</td>\n",
       "      <td>japan</td>\n",
       "      <td>honda civic cvcc</td>\n",
       "    </tr>\n",
       "    <tr>\n",
       "      <th>56</th>\n",
       "      <td>26.0</td>\n",
       "      <td>4</td>\n",
       "      <td>91.0</td>\n",
       "      <td>70.0</td>\n",
       "      <td>1955</td>\n",
       "      <td>20.5</td>\n",
       "      <td>71</td>\n",
       "      <td>usa</td>\n",
       "      <td>plymouth cricket</td>\n",
       "    </tr>\n",
       "    <tr>\n",
       "      <th>393</th>\n",
       "      <td>27.0</td>\n",
       "      <td>4</td>\n",
       "      <td>140.0</td>\n",
       "      <td>86.0</td>\n",
       "      <td>2790</td>\n",
       "      <td>15.6</td>\n",
       "      <td>82</td>\n",
       "      <td>usa</td>\n",
       "      <td>ford mustang gl</td>\n",
       "    </tr>\n",
       "  </tbody>\n",
       "</table>\n",
       "</div>"
      ],
      "text/plain": [
       "      mpg  cylinders  displacement  horsepower  weight  acceleration  \\\n",
       "79   26.0          4          96.0        69.0    2189          18.0   \n",
       "276  21.6          4         121.0       115.0    2795          15.7   \n",
       "248  36.1          4          91.0        60.0    1800          16.4   \n",
       "56   26.0          4          91.0        70.0    1955          20.5   \n",
       "393  27.0          4         140.0        86.0    2790          15.6   \n",
       "\n",
       "     model_year  origin              name  \n",
       "79           72  europe   renault 12 (sw)  \n",
       "276          78  europe        saab 99gle  \n",
       "248          78   japan  honda civic cvcc  \n",
       "56           71     usa  plymouth cricket  \n",
       "393          82     usa   ford mustang gl  "
      ]
     },
     "execution_count": 10,
     "metadata": {},
     "output_type": "execute_result"
    }
   ],
   "source": [
    "tr.head()"
   ]
  },
  {
   "cell_type": "code",
   "execution_count": 11,
   "metadata": {},
   "outputs": [
    {
     "data": {
      "text/html": [
       "<div>\n",
       "<style scoped>\n",
       "    .dataframe tbody tr th:only-of-type {\n",
       "        vertical-align: middle;\n",
       "    }\n",
       "\n",
       "    .dataframe tbody tr th {\n",
       "        vertical-align: top;\n",
       "    }\n",
       "\n",
       "    .dataframe thead th {\n",
       "        text-align: right;\n",
       "    }\n",
       "</style>\n",
       "<table border=\"1\" class=\"dataframe\">\n",
       "  <thead>\n",
       "    <tr style=\"text-align: right;\">\n",
       "      <th></th>\n",
       "      <th>mpg</th>\n",
       "      <th>cylinders</th>\n",
       "      <th>displacement</th>\n",
       "      <th>horsepower</th>\n",
       "      <th>weight</th>\n",
       "      <th>acceleration</th>\n",
       "      <th>model_year</th>\n",
       "      <th>origin</th>\n",
       "      <th>name</th>\n",
       "    </tr>\n",
       "  </thead>\n",
       "  <tbody>\n",
       "    <tr>\n",
       "      <th>245</th>\n",
       "      <td>36.1</td>\n",
       "      <td>4</td>\n",
       "      <td>98.0</td>\n",
       "      <td>66.0</td>\n",
       "      <td>1800</td>\n",
       "      <td>14.4</td>\n",
       "      <td>78</td>\n",
       "      <td>usa</td>\n",
       "      <td>ford fiesta</td>\n",
       "    </tr>\n",
       "    <tr>\n",
       "      <th>55</th>\n",
       "      <td>27.0</td>\n",
       "      <td>4</td>\n",
       "      <td>97.0</td>\n",
       "      <td>60.0</td>\n",
       "      <td>1834</td>\n",
       "      <td>19.0</td>\n",
       "      <td>71</td>\n",
       "      <td>europe</td>\n",
       "      <td>volkswagen model 111</td>\n",
       "    </tr>\n",
       "    <tr>\n",
       "      <th>51</th>\n",
       "      <td>30.0</td>\n",
       "      <td>4</td>\n",
       "      <td>79.0</td>\n",
       "      <td>70.0</td>\n",
       "      <td>2074</td>\n",
       "      <td>19.5</td>\n",
       "      <td>71</td>\n",
       "      <td>europe</td>\n",
       "      <td>peugeot 304</td>\n",
       "    </tr>\n",
       "    <tr>\n",
       "      <th>176</th>\n",
       "      <td>19.0</td>\n",
       "      <td>6</td>\n",
       "      <td>232.0</td>\n",
       "      <td>90.0</td>\n",
       "      <td>3211</td>\n",
       "      <td>17.0</td>\n",
       "      <td>75</td>\n",
       "      <td>usa</td>\n",
       "      <td>amc pacer</td>\n",
       "    </tr>\n",
       "    <tr>\n",
       "      <th>191</th>\n",
       "      <td>22.0</td>\n",
       "      <td>6</td>\n",
       "      <td>225.0</td>\n",
       "      <td>100.0</td>\n",
       "      <td>3233</td>\n",
       "      <td>15.4</td>\n",
       "      <td>76</td>\n",
       "      <td>usa</td>\n",
       "      <td>plymouth valiant</td>\n",
       "    </tr>\n",
       "  </tbody>\n",
       "</table>\n",
       "</div>"
      ],
      "text/plain": [
       "      mpg  cylinders  displacement  horsepower  weight  acceleration  \\\n",
       "245  36.1          4          98.0        66.0    1800          14.4   \n",
       "55   27.0          4          97.0        60.0    1834          19.0   \n",
       "51   30.0          4          79.0        70.0    2074          19.5   \n",
       "176  19.0          6         232.0        90.0    3211          17.0   \n",
       "191  22.0          6         225.0       100.0    3233          15.4   \n",
       "\n",
       "     model_year  origin                  name  \n",
       "245          78     usa           ford fiesta  \n",
       "55           71  europe  volkswagen model 111  \n",
       "51           71  europe           peugeot 304  \n",
       "176          75     usa             amc pacer  \n",
       "191          76     usa      plymouth valiant  "
      ]
     },
     "execution_count": 11,
     "metadata": {},
     "output_type": "execute_result"
    }
   ],
   "source": [
    "te.head()"
   ]
  },
  {
   "cell_type": "markdown",
   "metadata": {},
   "source": [
    "Checking that they add up."
   ]
  },
  {
   "cell_type": "code",
   "execution_count": 12,
   "metadata": {},
   "outputs": [
    {
     "data": {
      "text/plain": [
       "True"
      ]
     },
     "execution_count": 12,
     "metadata": {},
     "output_type": "execute_result"
    }
   ],
   "source": [
    "len(tr) + len(te) == len(data)"
   ]
  },
  {
   "cell_type": "markdown",
   "metadata": {},
   "source": [
    "### Shuffling with Numpy\n",
    "\n",
    "We can directly shuffle the data with `numpy`, and then select the corresponding rows from our original DataFrame."
   ]
  },
  {
   "cell_type": "code",
   "execution_count": 13,
   "metadata": {},
   "outputs": [
    {
     "data": {
      "text/plain": [
       "array([124, 140, 276, 252, 326, 136, 369, 132, 387, 174, 225, 356, 257,\n",
       "       239, 231, 267,   7, 129, 258, 234,  43, 190, 227, 368,  75, 149,\n",
       "       201, 288,  78, 163, 347, 284, 152,   1, 246, 213,  21, 110, 161,\n",
       "        69,  56, 198, 160, 134,  97, 195, 255,  98,  54, 118, 361,  18,\n",
       "       311,  64, 272, 295, 298, 127, 191,   5, 103, 377, 266, 346,  90,\n",
       "       385, 188, 293,  96,  46,  50, 282, 248, 120, 233, 209, 187,  27,\n",
       "       235, 338, 328, 352, 372, 304, 308,   6, 153, 219, 279, 121,   3,\n",
       "        20, 125, 166, 307, 309,  60,  84, 342,  80, 147, 133,  31, 345,\n",
       "        45,  47, 260, 150, 391,  59, 334,  23,  88, 332,  15,  33, 171,\n",
       "       355, 169, 265, 386, 241, 249, 178, 362,  19,  26, 297,  35, 157,\n",
       "        39, 244, 375,  10, 199, 184, 208, 367,  65, 259, 285,  41, 378,\n",
       "       203, 104, 128, 216, 151, 142, 158,  40, 217,  32,  48, 327, 197,\n",
       "       123, 173, 204,  61,  71, 305, 330, 126, 115, 271,  85, 159, 164,\n",
       "        52, 321, 154, 205, 315,  29, 358, 139, 302, 319, 162, 111, 296,\n",
       "       177, 371, 300, 175, 331, 324, 281, 339,  62, 247,  99, 269, 112,\n",
       "        37, 189, 206, 374,  83, 373, 314,  51, 263, 341, 370,  42, 357,\n",
       "       229, 236, 318, 179,  87, 268,  55,  22, 379, 313, 101,  11, 291,\n",
       "       108, 376, 194,  25, 117,  81, 366, 275, 242, 230,  82, 292, 156,\n",
       "       278, 333, 329,  74, 224, 254, 218, 306, 145, 320, 130, 113, 349,\n",
       "       351, 287, 388, 353, 210,  28, 344, 221,  24, 168, 148, 380, 322,\n",
       "        77, 340,  34, 144, 182, 232,  73, 301,  57, 365,  44,  92, 146,\n",
       "       200, 264, 138, 223, 220,  67, 109,  12,  16,  89, 337, 243, 382,\n",
       "       286, 222, 107, 186, 116, 122, 165, 262, 277,   9, 253, 196, 310,\n",
       "       384, 250, 256, 102, 289,  76, 119, 237, 114,  95, 170, 381,  94,\n",
       "       214,  38, 261,  36, 299, 180, 176, 360, 215, 207, 212, 325,  70,\n",
       "       131, 185, 335,   0, 348,  68, 383,  17,  30, 106,  13,  72, 273,\n",
       "       202, 192, 274, 172, 294, 167, 303, 238, 312, 283, 181,  63, 105,\n",
       "         2, 336, 251, 183, 270, 317, 193,  49, 135, 389,  91,   4, 100,\n",
       "       211, 245, 141, 364, 155,  86,  93, 137,  58, 316, 363, 228, 143,\n",
       "       390, 240, 290,  14, 226,  66,  53, 354, 350,  79, 343, 359, 323,\n",
       "       280,   8])"
      ]
     },
     "execution_count": 13,
     "metadata": {},
     "output_type": "execute_result"
    }
   ],
   "source": [
    "np.random.seed(100)\n",
    "shuffled_indices = np.random.permutation(np.arange(len(data)))\n",
    "shuffled_indices"
   ]
  },
  {
   "cell_type": "code",
   "execution_count": 14,
   "metadata": {},
   "outputs": [
    {
     "data": {
      "text/html": [
       "<div>\n",
       "<style scoped>\n",
       "    .dataframe tbody tr th:only-of-type {\n",
       "        vertical-align: middle;\n",
       "    }\n",
       "\n",
       "    .dataframe tbody tr th {\n",
       "        vertical-align: top;\n",
       "    }\n",
       "\n",
       "    .dataframe thead th {\n",
       "        text-align: right;\n",
       "    }\n",
       "</style>\n",
       "<table border=\"1\" class=\"dataframe\">\n",
       "  <thead>\n",
       "    <tr style=\"text-align: right;\">\n",
       "      <th></th>\n",
       "      <th>mpg</th>\n",
       "      <th>cylinders</th>\n",
       "      <th>displacement</th>\n",
       "      <th>horsepower</th>\n",
       "      <th>weight</th>\n",
       "      <th>acceleration</th>\n",
       "      <th>model_year</th>\n",
       "      <th>origin</th>\n",
       "      <th>name</th>\n",
       "    </tr>\n",
       "  </thead>\n",
       "  <tbody>\n",
       "    <tr>\n",
       "      <th>125</th>\n",
       "      <td>20.0</td>\n",
       "      <td>6</td>\n",
       "      <td>198.0</td>\n",
       "      <td>95.0</td>\n",
       "      <td>3102</td>\n",
       "      <td>16.5</td>\n",
       "      <td>74</td>\n",
       "      <td>usa</td>\n",
       "      <td>plymouth duster</td>\n",
       "    </tr>\n",
       "    <tr>\n",
       "      <th>142</th>\n",
       "      <td>26.0</td>\n",
       "      <td>4</td>\n",
       "      <td>79.0</td>\n",
       "      <td>67.0</td>\n",
       "      <td>1963</td>\n",
       "      <td>15.5</td>\n",
       "      <td>74</td>\n",
       "      <td>europe</td>\n",
       "      <td>volkswagen dasher</td>\n",
       "    </tr>\n",
       "    <tr>\n",
       "      <th>278</th>\n",
       "      <td>31.5</td>\n",
       "      <td>4</td>\n",
       "      <td>89.0</td>\n",
       "      <td>71.0</td>\n",
       "      <td>1990</td>\n",
       "      <td>14.9</td>\n",
       "      <td>78</td>\n",
       "      <td>europe</td>\n",
       "      <td>volkswagen scirocco</td>\n",
       "    </tr>\n",
       "    <tr>\n",
       "      <th>254</th>\n",
       "      <td>20.2</td>\n",
       "      <td>6</td>\n",
       "      <td>200.0</td>\n",
       "      <td>85.0</td>\n",
       "      <td>2965</td>\n",
       "      <td>15.8</td>\n",
       "      <td>78</td>\n",
       "      <td>usa</td>\n",
       "      <td>ford fairmont (auto)</td>\n",
       "    </tr>\n",
       "    <tr>\n",
       "      <th>328</th>\n",
       "      <td>30.0</td>\n",
       "      <td>4</td>\n",
       "      <td>146.0</td>\n",
       "      <td>67.0</td>\n",
       "      <td>3250</td>\n",
       "      <td>21.8</td>\n",
       "      <td>80</td>\n",
       "      <td>europe</td>\n",
       "      <td>mercedes-benz 240d</td>\n",
       "    </tr>\n",
       "  </tbody>\n",
       "</table>\n",
       "</div>"
      ],
      "text/plain": [
       "      mpg  cylinders  displacement  horsepower  weight  acceleration  \\\n",
       "125  20.0          6         198.0        95.0    3102          16.5   \n",
       "142  26.0          4          79.0        67.0    1963          15.5   \n",
       "278  31.5          4          89.0        71.0    1990          14.9   \n",
       "254  20.2          6         200.0        85.0    2965          15.8   \n",
       "328  30.0          4         146.0        67.0    3250          21.8   \n",
       "\n",
       "     model_year  origin                  name  \n",
       "125          74     usa       plymouth duster  \n",
       "142          74  europe     volkswagen dasher  \n",
       "278          78  europe   volkswagen scirocco  \n",
       "254          78     usa  ford fairmont (auto)  \n",
       "328          80  europe    mercedes-benz 240d  "
      ]
     },
     "execution_count": 14,
     "metadata": {},
     "output_type": "execute_result"
    }
   ],
   "source": [
    "data.iloc[shuffled_indices].head()"
   ]
  },
  {
   "cell_type": "code",
   "execution_count": 15,
   "metadata": {},
   "outputs": [],
   "source": [
    "tr = data.iloc[shuffled_indices[:split_point]]\n",
    "te = data.iloc[shuffled_indices[split_point:]]"
   ]
  },
  {
   "cell_type": "code",
   "execution_count": 16,
   "metadata": {},
   "outputs": [
    {
     "data": {
      "text/plain": [
       "(352, 40)"
      ]
     },
     "execution_count": 16,
     "metadata": {},
     "output_type": "execute_result"
    }
   ],
   "source": [
    "len(tr), len(te)"
   ]
  },
  {
   "cell_type": "markdown",
   "metadata": {},
   "source": [
    "### Using SKLearn\n",
    "\n",
    "We can use the `train_test_split` function from `sklearn.model_selection` to do this easily."
   ]
  },
  {
   "cell_type": "code",
   "execution_count": 17,
   "metadata": {},
   "outputs": [],
   "source": [
    "from sklearn.model_selection import train_test_split"
   ]
  },
  {
   "cell_type": "code",
   "execution_count": 18,
   "metadata": {},
   "outputs": [],
   "source": [
    "tr, te = train_test_split(data, test_size = 0.1, random_state = 83)"
   ]
  },
  {
   "cell_type": "code",
   "execution_count": 19,
   "metadata": {},
   "outputs": [
    {
     "data": {
      "text/plain": [
       "(352, 40)"
      ]
     },
     "execution_count": 19,
     "metadata": {},
     "output_type": "execute_result"
    }
   ],
   "source": [
    "len(tr), len(te)"
   ]
  },
  {
   "cell_type": "code",
   "execution_count": 20,
   "metadata": {},
   "outputs": [
    {
     "data": {
      "text/html": [
       "<div>\n",
       "<style scoped>\n",
       "    .dataframe tbody tr th:only-of-type {\n",
       "        vertical-align: middle;\n",
       "    }\n",
       "\n",
       "    .dataframe tbody tr th {\n",
       "        vertical-align: top;\n",
       "    }\n",
       "\n",
       "    .dataframe thead th {\n",
       "        text-align: right;\n",
       "    }\n",
       "</style>\n",
       "<table border=\"1\" class=\"dataframe\">\n",
       "  <thead>\n",
       "    <tr style=\"text-align: right;\">\n",
       "      <th></th>\n",
       "      <th>mpg</th>\n",
       "      <th>cylinders</th>\n",
       "      <th>displacement</th>\n",
       "      <th>horsepower</th>\n",
       "      <th>weight</th>\n",
       "      <th>acceleration</th>\n",
       "      <th>model_year</th>\n",
       "      <th>origin</th>\n",
       "      <th>name</th>\n",
       "    </tr>\n",
       "  </thead>\n",
       "  <tbody>\n",
       "    <tr>\n",
       "      <th>6</th>\n",
       "      <td>14.0</td>\n",
       "      <td>8</td>\n",
       "      <td>454.0</td>\n",
       "      <td>220.0</td>\n",
       "      <td>4354</td>\n",
       "      <td>9.0</td>\n",
       "      <td>70</td>\n",
       "      <td>usa</td>\n",
       "      <td>chevrolet impala</td>\n",
       "    </tr>\n",
       "    <tr>\n",
       "      <th>352</th>\n",
       "      <td>29.9</td>\n",
       "      <td>4</td>\n",
       "      <td>98.0</td>\n",
       "      <td>65.0</td>\n",
       "      <td>2380</td>\n",
       "      <td>20.7</td>\n",
       "      <td>81</td>\n",
       "      <td>usa</td>\n",
       "      <td>ford escort 2h</td>\n",
       "    </tr>\n",
       "    <tr>\n",
       "      <th>47</th>\n",
       "      <td>19.0</td>\n",
       "      <td>6</td>\n",
       "      <td>250.0</td>\n",
       "      <td>100.0</td>\n",
       "      <td>3282</td>\n",
       "      <td>15.0</td>\n",
       "      <td>71</td>\n",
       "      <td>usa</td>\n",
       "      <td>pontiac firebird</td>\n",
       "    </tr>\n",
       "    <tr>\n",
       "      <th>39</th>\n",
       "      <td>14.0</td>\n",
       "      <td>8</td>\n",
       "      <td>400.0</td>\n",
       "      <td>175.0</td>\n",
       "      <td>4464</td>\n",
       "      <td>11.5</td>\n",
       "      <td>71</td>\n",
       "      <td>usa</td>\n",
       "      <td>pontiac catalina brougham</td>\n",
       "    </tr>\n",
       "    <tr>\n",
       "      <th>304</th>\n",
       "      <td>37.3</td>\n",
       "      <td>4</td>\n",
       "      <td>91.0</td>\n",
       "      <td>69.0</td>\n",
       "      <td>2130</td>\n",
       "      <td>14.7</td>\n",
       "      <td>79</td>\n",
       "      <td>europe</td>\n",
       "      <td>fiat strada custom</td>\n",
       "    </tr>\n",
       "  </tbody>\n",
       "</table>\n",
       "</div>"
      ],
      "text/plain": [
       "      mpg  cylinders  displacement  horsepower  weight  acceleration  \\\n",
       "6    14.0          8         454.0       220.0    4354           9.0   \n",
       "352  29.9          4          98.0        65.0    2380          20.7   \n",
       "47   19.0          6         250.0       100.0    3282          15.0   \n",
       "39   14.0          8         400.0       175.0    4464          11.5   \n",
       "304  37.3          4          91.0        69.0    2130          14.7   \n",
       "\n",
       "     model_year  origin                       name  \n",
       "6            70     usa           chevrolet impala  \n",
       "352          81     usa             ford escort 2h  \n",
       "47           71     usa           pontiac firebird  \n",
       "39           71     usa  pontiac catalina brougham  \n",
       "304          79  europe         fiat strada custom  "
      ]
     },
     "execution_count": 20,
     "metadata": {},
     "output_type": "execute_result"
    }
   ],
   "source": [
    "tr.head()"
   ]
  },
  {
   "cell_type": "code",
   "execution_count": 21,
   "metadata": {},
   "outputs": [
    {
     "data": {
      "text/html": [
       "<div>\n",
       "<style scoped>\n",
       "    .dataframe tbody tr th:only-of-type {\n",
       "        vertical-align: middle;\n",
       "    }\n",
       "\n",
       "    .dataframe tbody tr th {\n",
       "        vertical-align: top;\n",
       "    }\n",
       "\n",
       "    .dataframe thead th {\n",
       "        text-align: right;\n",
       "    }\n",
       "</style>\n",
       "<table border=\"1\" class=\"dataframe\">\n",
       "  <thead>\n",
       "    <tr style=\"text-align: right;\">\n",
       "      <th></th>\n",
       "      <th>mpg</th>\n",
       "      <th>cylinders</th>\n",
       "      <th>displacement</th>\n",
       "      <th>horsepower</th>\n",
       "      <th>weight</th>\n",
       "      <th>acceleration</th>\n",
       "      <th>model_year</th>\n",
       "      <th>origin</th>\n",
       "      <th>name</th>\n",
       "    </tr>\n",
       "  </thead>\n",
       "  <tbody>\n",
       "    <tr>\n",
       "      <th>87</th>\n",
       "      <td>13.0</td>\n",
       "      <td>8</td>\n",
       "      <td>350.0</td>\n",
       "      <td>145.0</td>\n",
       "      <td>3988</td>\n",
       "      <td>13.0</td>\n",
       "      <td>73</td>\n",
       "      <td>usa</td>\n",
       "      <td>chevrolet malibu</td>\n",
       "    </tr>\n",
       "    <tr>\n",
       "      <th>279</th>\n",
       "      <td>29.5</td>\n",
       "      <td>4</td>\n",
       "      <td>98.0</td>\n",
       "      <td>68.0</td>\n",
       "      <td>2135</td>\n",
       "      <td>16.6</td>\n",
       "      <td>78</td>\n",
       "      <td>japan</td>\n",
       "      <td>honda accord lx</td>\n",
       "    </tr>\n",
       "    <tr>\n",
       "      <th>319</th>\n",
       "      <td>31.3</td>\n",
       "      <td>4</td>\n",
       "      <td>120.0</td>\n",
       "      <td>75.0</td>\n",
       "      <td>2542</td>\n",
       "      <td>17.5</td>\n",
       "      <td>80</td>\n",
       "      <td>japan</td>\n",
       "      <td>mazda 626</td>\n",
       "    </tr>\n",
       "    <tr>\n",
       "      <th>173</th>\n",
       "      <td>24.0</td>\n",
       "      <td>4</td>\n",
       "      <td>119.0</td>\n",
       "      <td>97.0</td>\n",
       "      <td>2545</td>\n",
       "      <td>17.0</td>\n",
       "      <td>75</td>\n",
       "      <td>japan</td>\n",
       "      <td>datsun 710</td>\n",
       "    </tr>\n",
       "    <tr>\n",
       "      <th>148</th>\n",
       "      <td>26.0</td>\n",
       "      <td>4</td>\n",
       "      <td>116.0</td>\n",
       "      <td>75.0</td>\n",
       "      <td>2246</td>\n",
       "      <td>14.0</td>\n",
       "      <td>74</td>\n",
       "      <td>europe</td>\n",
       "      <td>fiat 124 tc</td>\n",
       "    </tr>\n",
       "  </tbody>\n",
       "</table>\n",
       "</div>"
      ],
      "text/plain": [
       "      mpg  cylinders  displacement  horsepower  weight  acceleration  \\\n",
       "87   13.0          8         350.0       145.0    3988          13.0   \n",
       "279  29.5          4          98.0        68.0    2135          16.6   \n",
       "319  31.3          4         120.0        75.0    2542          17.5   \n",
       "173  24.0          4         119.0        97.0    2545          17.0   \n",
       "148  26.0          4         116.0        75.0    2246          14.0   \n",
       "\n",
       "     model_year  origin              name  \n",
       "87           73     usa  chevrolet malibu  \n",
       "279          78   japan   honda accord lx  \n",
       "319          80   japan         mazda 626  \n",
       "173          75   japan        datsun 710  \n",
       "148          74  europe       fiat 124 tc  "
      ]
     },
     "execution_count": 21,
     "metadata": {},
     "output_type": "execute_result"
    }
   ],
   "source": [
    "te.head()"
   ]
  },
  {
   "cell_type": "markdown",
   "metadata": {},
   "source": [
    "## Building A Basic Model\n",
    "\n",
    "Let's go through the process of building a model. Let's start by looking at the raw quantitative features available. We will first use just our own feature function (as we did in previous lectures). This function will just extract the quantitative features we can use for our model."
   ]
  },
  {
   "cell_type": "code",
   "execution_count": 22,
   "metadata": {},
   "outputs": [
    {
     "data": {
      "text/html": [
       "<div>\n",
       "<style scoped>\n",
       "    .dataframe tbody tr th:only-of-type {\n",
       "        vertical-align: middle;\n",
       "    }\n",
       "\n",
       "    .dataframe tbody tr th {\n",
       "        vertical-align: top;\n",
       "    }\n",
       "\n",
       "    .dataframe thead th {\n",
       "        text-align: right;\n",
       "    }\n",
       "</style>\n",
       "<table border=\"1\" class=\"dataframe\">\n",
       "  <thead>\n",
       "    <tr style=\"text-align: right;\">\n",
       "      <th></th>\n",
       "      <th>cylinders</th>\n",
       "      <th>displacement</th>\n",
       "      <th>horsepower</th>\n",
       "      <th>weight</th>\n",
       "      <th>acceleration</th>\n",
       "      <th>model_year</th>\n",
       "    </tr>\n",
       "  </thead>\n",
       "  <tbody>\n",
       "    <tr>\n",
       "      <th>6</th>\n",
       "      <td>8</td>\n",
       "      <td>454.0</td>\n",
       "      <td>220.0</td>\n",
       "      <td>4354</td>\n",
       "      <td>9.0</td>\n",
       "      <td>70</td>\n",
       "    </tr>\n",
       "    <tr>\n",
       "      <th>352</th>\n",
       "      <td>4</td>\n",
       "      <td>98.0</td>\n",
       "      <td>65.0</td>\n",
       "      <td>2380</td>\n",
       "      <td>20.7</td>\n",
       "      <td>81</td>\n",
       "    </tr>\n",
       "    <tr>\n",
       "      <th>47</th>\n",
       "      <td>6</td>\n",
       "      <td>250.0</td>\n",
       "      <td>100.0</td>\n",
       "      <td>3282</td>\n",
       "      <td>15.0</td>\n",
       "      <td>71</td>\n",
       "    </tr>\n",
       "    <tr>\n",
       "      <th>39</th>\n",
       "      <td>8</td>\n",
       "      <td>400.0</td>\n",
       "      <td>175.0</td>\n",
       "      <td>4464</td>\n",
       "      <td>11.5</td>\n",
       "      <td>71</td>\n",
       "    </tr>\n",
       "    <tr>\n",
       "      <th>304</th>\n",
       "      <td>4</td>\n",
       "      <td>91.0</td>\n",
       "      <td>69.0</td>\n",
       "      <td>2130</td>\n",
       "      <td>14.7</td>\n",
       "      <td>79</td>\n",
       "    </tr>\n",
       "    <tr>\n",
       "      <th>...</th>\n",
       "      <td>...</td>\n",
       "      <td>...</td>\n",
       "      <td>...</td>\n",
       "      <td>...</td>\n",
       "      <td>...</td>\n",
       "      <td>...</td>\n",
       "    </tr>\n",
       "    <tr>\n",
       "      <th>394</th>\n",
       "      <td>4</td>\n",
       "      <td>97.0</td>\n",
       "      <td>52.0</td>\n",
       "      <td>2130</td>\n",
       "      <td>24.6</td>\n",
       "      <td>82</td>\n",
       "    </tr>\n",
       "    <tr>\n",
       "      <th>258</th>\n",
       "      <td>6</td>\n",
       "      <td>231.0</td>\n",
       "      <td>105.0</td>\n",
       "      <td>3380</td>\n",
       "      <td>15.8</td>\n",
       "      <td>78</td>\n",
       "    </tr>\n",
       "    <tr>\n",
       "      <th>297</th>\n",
       "      <td>5</td>\n",
       "      <td>183.0</td>\n",
       "      <td>77.0</td>\n",
       "      <td>3530</td>\n",
       "      <td>20.1</td>\n",
       "      <td>79</td>\n",
       "    </tr>\n",
       "    <tr>\n",
       "      <th>23</th>\n",
       "      <td>4</td>\n",
       "      <td>121.0</td>\n",
       "      <td>113.0</td>\n",
       "      <td>2234</td>\n",
       "      <td>12.5</td>\n",
       "      <td>70</td>\n",
       "    </tr>\n",
       "    <tr>\n",
       "      <th>83</th>\n",
       "      <td>4</td>\n",
       "      <td>98.0</td>\n",
       "      <td>80.0</td>\n",
       "      <td>2164</td>\n",
       "      <td>15.0</td>\n",
       "      <td>72</td>\n",
       "    </tr>\n",
       "  </tbody>\n",
       "</table>\n",
       "<p>352 rows × 6 columns</p>\n",
       "</div>"
      ],
      "text/plain": [
       "     cylinders  displacement  horsepower  weight  acceleration  model_year\n",
       "6            8         454.0       220.0    4354           9.0          70\n",
       "352          4          98.0        65.0    2380          20.7          81\n",
       "47           6         250.0       100.0    3282          15.0          71\n",
       "39           8         400.0       175.0    4464          11.5          71\n",
       "304          4          91.0        69.0    2130          14.7          79\n",
       "..         ...           ...         ...     ...           ...         ...\n",
       "394          4          97.0        52.0    2130          24.6          82\n",
       "258          6         231.0       105.0    3380          15.8          78\n",
       "297          5         183.0        77.0    3530          20.1          79\n",
       "23           4         121.0       113.0    2234          12.5          70\n",
       "83           4          98.0        80.0    2164          15.0          72\n",
       "\n",
       "[352 rows x 6 columns]"
      ]
     },
     "execution_count": 22,
     "metadata": {},
     "output_type": "execute_result"
    }
   ],
   "source": [
    "def basic_design_matrix(df):\n",
    "    X = df[[\"cylinders\", \"displacement\", \n",
    "          \"horsepower\", \"weight\", \"acceleration\", \"model_year\"]]\n",
    "    return X\n",
    "\n",
    "basic_design_matrix(tr)"
   ]
  },
  {
   "cell_type": "markdown",
   "metadata": {},
   "source": [
    "Then we fit a `scikit-learn` `LinearRegression` model to our training data."
   ]
  },
  {
   "cell_type": "code",
   "execution_count": 23,
   "metadata": {},
   "outputs": [],
   "source": [
    "from sklearn.linear_model import LinearRegression\n",
    "model = LinearRegression()"
   ]
  },
  {
   "cell_type": "code",
   "execution_count": 24,
   "metadata": {},
   "outputs": [
    {
     "data": {
      "text/plain": [
       "LinearRegression()"
      ]
     },
     "execution_count": 24,
     "metadata": {},
     "output_type": "execute_result"
    }
   ],
   "source": [
    "model.fit(basic_design_matrix(tr), tr['mpg'])"
   ]
  },
  {
   "cell_type": "markdown",
   "metadata": {},
   "source": [
    "To evaluate the error we will use the **Root Mean Squared Error (RMSE)** which is like the mean squared error but in the correct units (mpg) instead of (mpg^2). "
   ]
  },
  {
   "cell_type": "code",
   "execution_count": 25,
   "metadata": {},
   "outputs": [],
   "source": [
    "def rmse(y, yhat):\n",
    "    return np.sqrt(np.mean((y - yhat)**2))"
   ]
  },
  {
   "cell_type": "markdown",
   "metadata": {},
   "source": [
    "The training error is:"
   ]
  },
  {
   "cell_type": "code",
   "execution_count": 26,
   "metadata": {},
   "outputs": [
    {
     "name": "stdout",
     "output_type": "stream",
     "text": [
      "Training Error (RMSE): 3.374582699942459\n"
     ]
    }
   ],
   "source": [
    "Y_hat = model.predict(basic_design_matrix(tr))\n",
    "Y = tr['mpg']\n",
    "print(\"Training Error (RMSE):\", rmse(Y, Y_hat))"
   ]
  },
  {
   "cell_type": "markdown",
   "metadata": {},
   "source": [
    "Oh no! We just used the test data to evaluate our model! We shouldn't have done that.  \n",
    "\n",
    "(Don't worry, this is only for demonstration purposes. But seriously, don't try this at home.)  \n",
    "\n",
    "**Notice:** The test error is slightly higher than the training error. This is typically (but not always) the case. Sometimes we get lucky and the test data is \"easier to predict\" or happens to closely follow the training data."
   ]
  },
  {
   "cell_type": "code",
   "execution_count": null,
   "metadata": {},
   "outputs": [],
   "source": []
  },
  {
   "cell_type": "code",
   "execution_count": null,
   "metadata": {},
   "outputs": [],
   "source": []
  },
  {
   "cell_type": "markdown",
   "metadata": {},
   "source": [
    "## Cross-Validation"
   ]
  },
  {
   "cell_type": "markdown",
   "metadata": {},
   "source": [
    "#### Keeping track of all the models.\n",
    "\n",
    "In this notebook (and in life) we will want to keep track of all our models. \n",
    "\n",
    "We store our model settings in a dictionary. The key is some identifying name, and the value is a 2-element tuple, with the first element being the transformation function (e.g. `basic_design_matrix`), and the second element being an empty model object (e.g. `LinearRegression()`)."
   ]
  },
  {
   "cell_type": "code",
   "execution_count": 27,
   "metadata": {},
   "outputs": [],
   "source": [
    "models = {\"quant\": (basic_design_matrix, LinearRegression())}"
   ]
  },
  {
   "cell_type": "markdown",
   "metadata": {},
   "source": [
    "### More Feature Transformations"
   ]
  },
  {
   "cell_type": "markdown",
   "metadata": {},
   "source": [
    "As in Lecture 14, we might want to look at the displacement per cylinder as well."
   ]
  },
  {
   "cell_type": "code",
   "execution_count": 28,
   "metadata": {},
   "outputs": [
    {
     "data": {
      "text/html": [
       "<div>\n",
       "<style scoped>\n",
       "    .dataframe tbody tr th:only-of-type {\n",
       "        vertical-align: middle;\n",
       "    }\n",
       "\n",
       "    .dataframe tbody tr th {\n",
       "        vertical-align: top;\n",
       "    }\n",
       "\n",
       "    .dataframe thead th {\n",
       "        text-align: right;\n",
       "    }\n",
       "</style>\n",
       "<table border=\"1\" class=\"dataframe\">\n",
       "  <thead>\n",
       "    <tr style=\"text-align: right;\">\n",
       "      <th></th>\n",
       "      <th>cylinders</th>\n",
       "      <th>displacement</th>\n",
       "      <th>horsepower</th>\n",
       "      <th>weight</th>\n",
       "      <th>acceleration</th>\n",
       "      <th>model_year</th>\n",
       "      <th>displacement/cylinder</th>\n",
       "    </tr>\n",
       "  </thead>\n",
       "  <tbody>\n",
       "    <tr>\n",
       "      <th>6</th>\n",
       "      <td>8</td>\n",
       "      <td>454.0</td>\n",
       "      <td>220.0</td>\n",
       "      <td>4354</td>\n",
       "      <td>9.0</td>\n",
       "      <td>70</td>\n",
       "      <td>56.750000</td>\n",
       "    </tr>\n",
       "    <tr>\n",
       "      <th>352</th>\n",
       "      <td>4</td>\n",
       "      <td>98.0</td>\n",
       "      <td>65.0</td>\n",
       "      <td>2380</td>\n",
       "      <td>20.7</td>\n",
       "      <td>81</td>\n",
       "      <td>24.500000</td>\n",
       "    </tr>\n",
       "    <tr>\n",
       "      <th>47</th>\n",
       "      <td>6</td>\n",
       "      <td>250.0</td>\n",
       "      <td>100.0</td>\n",
       "      <td>3282</td>\n",
       "      <td>15.0</td>\n",
       "      <td>71</td>\n",
       "      <td>41.666667</td>\n",
       "    </tr>\n",
       "    <tr>\n",
       "      <th>39</th>\n",
       "      <td>8</td>\n",
       "      <td>400.0</td>\n",
       "      <td>175.0</td>\n",
       "      <td>4464</td>\n",
       "      <td>11.5</td>\n",
       "      <td>71</td>\n",
       "      <td>50.000000</td>\n",
       "    </tr>\n",
       "    <tr>\n",
       "      <th>304</th>\n",
       "      <td>4</td>\n",
       "      <td>91.0</td>\n",
       "      <td>69.0</td>\n",
       "      <td>2130</td>\n",
       "      <td>14.7</td>\n",
       "      <td>79</td>\n",
       "      <td>22.750000</td>\n",
       "    </tr>\n",
       "    <tr>\n",
       "      <th>...</th>\n",
       "      <td>...</td>\n",
       "      <td>...</td>\n",
       "      <td>...</td>\n",
       "      <td>...</td>\n",
       "      <td>...</td>\n",
       "      <td>...</td>\n",
       "      <td>...</td>\n",
       "    </tr>\n",
       "    <tr>\n",
       "      <th>394</th>\n",
       "      <td>4</td>\n",
       "      <td>97.0</td>\n",
       "      <td>52.0</td>\n",
       "      <td>2130</td>\n",
       "      <td>24.6</td>\n",
       "      <td>82</td>\n",
       "      <td>24.250000</td>\n",
       "    </tr>\n",
       "    <tr>\n",
       "      <th>258</th>\n",
       "      <td>6</td>\n",
       "      <td>231.0</td>\n",
       "      <td>105.0</td>\n",
       "      <td>3380</td>\n",
       "      <td>15.8</td>\n",
       "      <td>78</td>\n",
       "      <td>38.500000</td>\n",
       "    </tr>\n",
       "    <tr>\n",
       "      <th>297</th>\n",
       "      <td>5</td>\n",
       "      <td>183.0</td>\n",
       "      <td>77.0</td>\n",
       "      <td>3530</td>\n",
       "      <td>20.1</td>\n",
       "      <td>79</td>\n",
       "      <td>36.600000</td>\n",
       "    </tr>\n",
       "    <tr>\n",
       "      <th>23</th>\n",
       "      <td>4</td>\n",
       "      <td>121.0</td>\n",
       "      <td>113.0</td>\n",
       "      <td>2234</td>\n",
       "      <td>12.5</td>\n",
       "      <td>70</td>\n",
       "      <td>30.250000</td>\n",
       "    </tr>\n",
       "    <tr>\n",
       "      <th>83</th>\n",
       "      <td>4</td>\n",
       "      <td>98.0</td>\n",
       "      <td>80.0</td>\n",
       "      <td>2164</td>\n",
       "      <td>15.0</td>\n",
       "      <td>72</td>\n",
       "      <td>24.500000</td>\n",
       "    </tr>\n",
       "  </tbody>\n",
       "</table>\n",
       "<p>352 rows × 7 columns</p>\n",
       "</div>"
      ],
      "text/plain": [
       "     cylinders  displacement  horsepower  weight  acceleration  model_year  \\\n",
       "6            8         454.0       220.0    4354           9.0          70   \n",
       "352          4          98.0        65.0    2380          20.7          81   \n",
       "47           6         250.0       100.0    3282          15.0          71   \n",
       "39           8         400.0       175.0    4464          11.5          71   \n",
       "304          4          91.0        69.0    2130          14.7          79   \n",
       "..         ...           ...         ...     ...           ...         ...   \n",
       "394          4          97.0        52.0    2130          24.6          82   \n",
       "258          6         231.0       105.0    3380          15.8          78   \n",
       "297          5         183.0        77.0    3530          20.1          79   \n",
       "23           4         121.0       113.0    2234          12.5          70   \n",
       "83           4          98.0        80.0    2164          15.0          72   \n",
       "\n",
       "     displacement/cylinder  \n",
       "6                56.750000  \n",
       "352              24.500000  \n",
       "47               41.666667  \n",
       "39               50.000000  \n",
       "304              22.750000  \n",
       "..                     ...  \n",
       "394              24.250000  \n",
       "258              38.500000  \n",
       "297              36.600000  \n",
       "23               30.250000  \n",
       "83               24.500000  \n",
       "\n",
       "[352 rows x 7 columns]"
      ]
     },
     "execution_count": 28,
     "metadata": {},
     "output_type": "execute_result"
    }
   ],
   "source": [
    "def dispcyl_design_matrix(df):\n",
    "    X = basic_design_matrix(df)\n",
    "    X['displacement/cylinder'] = X['displacement'] / X['cylinders']\n",
    "    return X\n",
    "\n",
    "dispcyl_design_matrix(tr)"
   ]
  },
  {
   "cell_type": "markdown",
   "metadata": {},
   "source": [
    "We can build a linear model using the same quantitative features as before, but with this new \"displacement per cylinder\" feature."
   ]
  },
  {
   "cell_type": "code",
   "execution_count": 29,
   "metadata": {},
   "outputs": [],
   "source": [
    "model = LinearRegression()\n",
    "model.fit(dispcyl_design_matrix(tr), tr['mpg'])\n",
    "\n",
    "models['quant+dc'] = (dispcyl_design_matrix, LinearRegression())"
   ]
  },
  {
   "cell_type": "code",
   "execution_count": 30,
   "metadata": {},
   "outputs": [
    {
     "name": "stdout",
     "output_type": "stream",
     "text": [
      "Training Error (RMSE): 3.033309344625912\n"
     ]
    }
   ],
   "source": [
    "Y_hat = model.predict(dispcyl_design_matrix(tr))\n",
    "Y = tr['mpg']\n",
    "print(\"Training Error (RMSE):\", rmse(Y, Y_hat))"
   ]
  },
  {
   "cell_type": "markdown",
   "metadata": {},
   "source": [
    "Our training error is definitely lower than with the previous model, but what we really care about is the model's performance on new data. But we shouldn't actually ever look at the test data. Instead, to compare these models, we can use cross-validation to \"mimic\" the train-test split."
   ]
  },
  {
   "cell_type": "markdown",
   "metadata": {},
   "source": [
    "In the following function we use the sklearn `KFold` cross validation class. "
   ]
  },
  {
   "cell_type": "markdown",
   "metadata": {},
   "source": [
    "Here we define a five fold cross validation with \n",
    "\n",
    "```python \n",
    "five_fold = KFold(n_splits=5)\n",
    "```\n",
    "\n",
    "Then we loop over the 5 splits and get the indicies (`tr_ind`) in the training data to use for training and the indices (`va_ind`) in the training data to use for validation:\n",
    "\n",
    "```python\n",
    "for tr_ind, te_ind in five_fold.split(tr):\n",
    "```"
   ]
  },
  {
   "cell_type": "code",
   "execution_count": 31,
   "metadata": {},
   "outputs": [],
   "source": [
    "from sklearn.model_selection import KFold\n",
    "from sklearn.base import clone\n",
    "\n",
    "def cross_validate_rmse(phi_function, model):\n",
    "    model = clone(model)\n",
    "    five_fold = KFold(n_splits = 5, random_state = 100, shuffle = True)\n",
    "    rmse_values = []\n",
    "    for tr_ind, va_ind in five_fold.split(tr):\n",
    "        \n",
    "        X_train = phi_function(tr.iloc[tr_ind, :])\n",
    "        y_train = tr['mpg'].iloc[tr_ind]\n",
    "        X_val = phi_function(tr.iloc[va_ind, :])\n",
    "        y_val = tr['mpg'].iloc[va_ind]\n",
    "        \n",
    "        model.fit(X_train, y_train)\n",
    "        \n",
    "        rmse_values.append(rmse(y_val, model.predict(X_val)))\n",
    "        \n",
    "    return np.mean(rmse_values)\n"
   ]
  },
  {
   "cell_type": "markdown",
   "metadata": {},
   "source": [
    "Valiating the model"
   ]
  },
  {
   "cell_type": "code",
   "execution_count": 32,
   "metadata": {
    "scrolled": true
   },
   "outputs": [
    {
     "data": {
      "text/plain": [
       "3.1113159765045717"
      ]
     },
     "execution_count": 32,
     "metadata": {},
     "output_type": "execute_result"
    }
   ],
   "source": [
    "cross_validate_rmse(dispcyl_design_matrix, LinearRegression())"
   ]
  },
  {
   "cell_type": "markdown",
   "metadata": {},
   "source": [
    "The following helper function generates a plot comparing all the models in the `transformations` dictionary."
   ]
  },
  {
   "cell_type": "code",
   "execution_count": 33,
   "metadata": {},
   "outputs": [],
   "source": [
    "def compare_models(models):\n",
    "    \n",
    "    # Compute the training error for each model\n",
    "    training_rmse = []\n",
    "    for transformation, model in models.values():\n",
    "        model = clone(model)\n",
    "        model.fit(transformation(tr), tr['mpg'])\n",
    "        training_rmse.append(rmse(tr['mpg'], model.predict(transformation(tr))))\n",
    "    \n",
    "    # Compute the cross validation error for each model\n",
    "    validation_rmse = [cross_validate_rmse(transformation, model) for transformation, model in models.values()]\n",
    "    \n",
    "    names = list(models.keys())\n",
    "    fig = go.Figure([\n",
    "        go.Bar(x = names, y = training_rmse, name=\"Training RMSE\"),\n",
    "        go.Bar(x = names, y = validation_rmse, name=\"CV RMSE\")])\n",
    "    return fig"
   ]
  },
  {
   "cell_type": "code",
   "execution_count": 34,
   "metadata": {},
   "outputs": [
    {
     "data": {
      "application/vnd.plotly.v1+json": {
       "config": {
        "plotlyServerURL": "https://plot.ly"
       },
       "data": [
        {
         "name": "Training RMSE",
         "type": "bar",
         "x": [
          "quant",
          "quant+dc"
         ],
         "y": [
          3.374582699942459,
          3.033309344625912
         ]
        },
        {
         "name": "CV RMSE",
         "type": "bar",
         "x": [
          "quant",
          "quant+dc"
         ],
         "y": [
          3.4559015156162536,
          3.1113159765045717
         ]
        }
       ],
       "layout": {
        "template": {
         "data": {
          "bar": [
           {
            "error_x": {
             "color": "#2a3f5f"
            },
            "error_y": {
             "color": "#2a3f5f"
            },
            "marker": {
             "line": {
              "color": "#E5ECF6",
              "width": 0.5
             }
            },
            "type": "bar"
           }
          ],
          "barpolar": [
           {
            "marker": {
             "line": {
              "color": "#E5ECF6",
              "width": 0.5
             }
            },
            "type": "barpolar"
           }
          ],
          "carpet": [
           {
            "aaxis": {
             "endlinecolor": "#2a3f5f",
             "gridcolor": "white",
             "linecolor": "white",
             "minorgridcolor": "white",
             "startlinecolor": "#2a3f5f"
            },
            "baxis": {
             "endlinecolor": "#2a3f5f",
             "gridcolor": "white",
             "linecolor": "white",
             "minorgridcolor": "white",
             "startlinecolor": "#2a3f5f"
            },
            "type": "carpet"
           }
          ],
          "choropleth": [
           {
            "colorbar": {
             "outlinewidth": 0,
             "ticks": ""
            },
            "type": "choropleth"
           }
          ],
          "contour": [
           {
            "colorbar": {
             "outlinewidth": 0,
             "ticks": ""
            },
            "colorscale": [
             [
              0,
              "#0d0887"
             ],
             [
              0.1111111111111111,
              "#46039f"
             ],
             [
              0.2222222222222222,
              "#7201a8"
             ],
             [
              0.3333333333333333,
              "#9c179e"
             ],
             [
              0.4444444444444444,
              "#bd3786"
             ],
             [
              0.5555555555555556,
              "#d8576b"
             ],
             [
              0.6666666666666666,
              "#ed7953"
             ],
             [
              0.7777777777777778,
              "#fb9f3a"
             ],
             [
              0.8888888888888888,
              "#fdca26"
             ],
             [
              1,
              "#f0f921"
             ]
            ],
            "type": "contour"
           }
          ],
          "contourcarpet": [
           {
            "colorbar": {
             "outlinewidth": 0,
             "ticks": ""
            },
            "type": "contourcarpet"
           }
          ],
          "heatmap": [
           {
            "colorbar": {
             "outlinewidth": 0,
             "ticks": ""
            },
            "colorscale": [
             [
              0,
              "#0d0887"
             ],
             [
              0.1111111111111111,
              "#46039f"
             ],
             [
              0.2222222222222222,
              "#7201a8"
             ],
             [
              0.3333333333333333,
              "#9c179e"
             ],
             [
              0.4444444444444444,
              "#bd3786"
             ],
             [
              0.5555555555555556,
              "#d8576b"
             ],
             [
              0.6666666666666666,
              "#ed7953"
             ],
             [
              0.7777777777777778,
              "#fb9f3a"
             ],
             [
              0.8888888888888888,
              "#fdca26"
             ],
             [
              1,
              "#f0f921"
             ]
            ],
            "type": "heatmap"
           }
          ],
          "heatmapgl": [
           {
            "colorbar": {
             "outlinewidth": 0,
             "ticks": ""
            },
            "colorscale": [
             [
              0,
              "#0d0887"
             ],
             [
              0.1111111111111111,
              "#46039f"
             ],
             [
              0.2222222222222222,
              "#7201a8"
             ],
             [
              0.3333333333333333,
              "#9c179e"
             ],
             [
              0.4444444444444444,
              "#bd3786"
             ],
             [
              0.5555555555555556,
              "#d8576b"
             ],
             [
              0.6666666666666666,
              "#ed7953"
             ],
             [
              0.7777777777777778,
              "#fb9f3a"
             ],
             [
              0.8888888888888888,
              "#fdca26"
             ],
             [
              1,
              "#f0f921"
             ]
            ],
            "type": "heatmapgl"
           }
          ],
          "histogram": [
           {
            "marker": {
             "colorbar": {
              "outlinewidth": 0,
              "ticks": ""
             }
            },
            "type": "histogram"
           }
          ],
          "histogram2d": [
           {
            "colorbar": {
             "outlinewidth": 0,
             "ticks": ""
            },
            "colorscale": [
             [
              0,
              "#0d0887"
             ],
             [
              0.1111111111111111,
              "#46039f"
             ],
             [
              0.2222222222222222,
              "#7201a8"
             ],
             [
              0.3333333333333333,
              "#9c179e"
             ],
             [
              0.4444444444444444,
              "#bd3786"
             ],
             [
              0.5555555555555556,
              "#d8576b"
             ],
             [
              0.6666666666666666,
              "#ed7953"
             ],
             [
              0.7777777777777778,
              "#fb9f3a"
             ],
             [
              0.8888888888888888,
              "#fdca26"
             ],
             [
              1,
              "#f0f921"
             ]
            ],
            "type": "histogram2d"
           }
          ],
          "histogram2dcontour": [
           {
            "colorbar": {
             "outlinewidth": 0,
             "ticks": ""
            },
            "colorscale": [
             [
              0,
              "#0d0887"
             ],
             [
              0.1111111111111111,
              "#46039f"
             ],
             [
              0.2222222222222222,
              "#7201a8"
             ],
             [
              0.3333333333333333,
              "#9c179e"
             ],
             [
              0.4444444444444444,
              "#bd3786"
             ],
             [
              0.5555555555555556,
              "#d8576b"
             ],
             [
              0.6666666666666666,
              "#ed7953"
             ],
             [
              0.7777777777777778,
              "#fb9f3a"
             ],
             [
              0.8888888888888888,
              "#fdca26"
             ],
             [
              1,
              "#f0f921"
             ]
            ],
            "type": "histogram2dcontour"
           }
          ],
          "mesh3d": [
           {
            "colorbar": {
             "outlinewidth": 0,
             "ticks": ""
            },
            "type": "mesh3d"
           }
          ],
          "parcoords": [
           {
            "line": {
             "colorbar": {
              "outlinewidth": 0,
              "ticks": ""
             }
            },
            "type": "parcoords"
           }
          ],
          "pie": [
           {
            "automargin": true,
            "type": "pie"
           }
          ],
          "scatter": [
           {
            "marker": {
             "colorbar": {
              "outlinewidth": 0,
              "ticks": ""
             }
            },
            "type": "scatter"
           }
          ],
          "scatter3d": [
           {
            "line": {
             "colorbar": {
              "outlinewidth": 0,
              "ticks": ""
             }
            },
            "marker": {
             "colorbar": {
              "outlinewidth": 0,
              "ticks": ""
             }
            },
            "type": "scatter3d"
           }
          ],
          "scattercarpet": [
           {
            "marker": {
             "colorbar": {
              "outlinewidth": 0,
              "ticks": ""
             }
            },
            "type": "scattercarpet"
           }
          ],
          "scattergeo": [
           {
            "marker": {
             "colorbar": {
              "outlinewidth": 0,
              "ticks": ""
             }
            },
            "type": "scattergeo"
           }
          ],
          "scattergl": [
           {
            "marker": {
             "colorbar": {
              "outlinewidth": 0,
              "ticks": ""
             }
            },
            "type": "scattergl"
           }
          ],
          "scattermapbox": [
           {
            "marker": {
             "colorbar": {
              "outlinewidth": 0,
              "ticks": ""
             }
            },
            "type": "scattermapbox"
           }
          ],
          "scatterpolar": [
           {
            "marker": {
             "colorbar": {
              "outlinewidth": 0,
              "ticks": ""
             }
            },
            "type": "scatterpolar"
           }
          ],
          "scatterpolargl": [
           {
            "marker": {
             "colorbar": {
              "outlinewidth": 0,
              "ticks": ""
             }
            },
            "type": "scatterpolargl"
           }
          ],
          "scatterternary": [
           {
            "marker": {
             "colorbar": {
              "outlinewidth": 0,
              "ticks": ""
             }
            },
            "type": "scatterternary"
           }
          ],
          "surface": [
           {
            "colorbar": {
             "outlinewidth": 0,
             "ticks": ""
            },
            "colorscale": [
             [
              0,
              "#0d0887"
             ],
             [
              0.1111111111111111,
              "#46039f"
             ],
             [
              0.2222222222222222,
              "#7201a8"
             ],
             [
              0.3333333333333333,
              "#9c179e"
             ],
             [
              0.4444444444444444,
              "#bd3786"
             ],
             [
              0.5555555555555556,
              "#d8576b"
             ],
             [
              0.6666666666666666,
              "#ed7953"
             ],
             [
              0.7777777777777778,
              "#fb9f3a"
             ],
             [
              0.8888888888888888,
              "#fdca26"
             ],
             [
              1,
              "#f0f921"
             ]
            ],
            "type": "surface"
           }
          ],
          "table": [
           {
            "cells": {
             "fill": {
              "color": "#EBF0F8"
             },
             "line": {
              "color": "white"
             }
            },
            "header": {
             "fill": {
              "color": "#C8D4E3"
             },
             "line": {
              "color": "white"
             }
            },
            "type": "table"
           }
          ]
         },
         "layout": {
          "annotationdefaults": {
           "arrowcolor": "#2a3f5f",
           "arrowhead": 0,
           "arrowwidth": 1
          },
          "autotypenumbers": "strict",
          "coloraxis": {
           "colorbar": {
            "outlinewidth": 0,
            "ticks": ""
           }
          },
          "colorscale": {
           "diverging": [
            [
             0,
             "#8e0152"
            ],
            [
             0.1,
             "#c51b7d"
            ],
            [
             0.2,
             "#de77ae"
            ],
            [
             0.3,
             "#f1b6da"
            ],
            [
             0.4,
             "#fde0ef"
            ],
            [
             0.5,
             "#f7f7f7"
            ],
            [
             0.6,
             "#e6f5d0"
            ],
            [
             0.7,
             "#b8e186"
            ],
            [
             0.8,
             "#7fbc41"
            ],
            [
             0.9,
             "#4d9221"
            ],
            [
             1,
             "#276419"
            ]
           ],
           "sequential": [
            [
             0,
             "#0d0887"
            ],
            [
             0.1111111111111111,
             "#46039f"
            ],
            [
             0.2222222222222222,
             "#7201a8"
            ],
            [
             0.3333333333333333,
             "#9c179e"
            ],
            [
             0.4444444444444444,
             "#bd3786"
            ],
            [
             0.5555555555555556,
             "#d8576b"
            ],
            [
             0.6666666666666666,
             "#ed7953"
            ],
            [
             0.7777777777777778,
             "#fb9f3a"
            ],
            [
             0.8888888888888888,
             "#fdca26"
            ],
            [
             1,
             "#f0f921"
            ]
           ],
           "sequentialminus": [
            [
             0,
             "#0d0887"
            ],
            [
             0.1111111111111111,
             "#46039f"
            ],
            [
             0.2222222222222222,
             "#7201a8"
            ],
            [
             0.3333333333333333,
             "#9c179e"
            ],
            [
             0.4444444444444444,
             "#bd3786"
            ],
            [
             0.5555555555555556,
             "#d8576b"
            ],
            [
             0.6666666666666666,
             "#ed7953"
            ],
            [
             0.7777777777777778,
             "#fb9f3a"
            ],
            [
             0.8888888888888888,
             "#fdca26"
            ],
            [
             1,
             "#f0f921"
            ]
           ]
          },
          "colorway": [
           "#636efa",
           "#EF553B",
           "#00cc96",
           "#ab63fa",
           "#FFA15A",
           "#19d3f3",
           "#FF6692",
           "#B6E880",
           "#FF97FF",
           "#FECB52"
          ],
          "font": {
           "color": "#2a3f5f"
          },
          "geo": {
           "bgcolor": "white",
           "lakecolor": "white",
           "landcolor": "#E5ECF6",
           "showlakes": true,
           "showland": true,
           "subunitcolor": "white"
          },
          "hoverlabel": {
           "align": "left"
          },
          "hovermode": "closest",
          "mapbox": {
           "style": "light"
          },
          "paper_bgcolor": "white",
          "plot_bgcolor": "#E5ECF6",
          "polar": {
           "angularaxis": {
            "gridcolor": "white",
            "linecolor": "white",
            "ticks": ""
           },
           "bgcolor": "#E5ECF6",
           "radialaxis": {
            "gridcolor": "white",
            "linecolor": "white",
            "ticks": ""
           }
          },
          "scene": {
           "xaxis": {
            "backgroundcolor": "#E5ECF6",
            "gridcolor": "white",
            "gridwidth": 2,
            "linecolor": "white",
            "showbackground": true,
            "ticks": "",
            "zerolinecolor": "white"
           },
           "yaxis": {
            "backgroundcolor": "#E5ECF6",
            "gridcolor": "white",
            "gridwidth": 2,
            "linecolor": "white",
            "showbackground": true,
            "ticks": "",
            "zerolinecolor": "white"
           },
           "zaxis": {
            "backgroundcolor": "#E5ECF6",
            "gridcolor": "white",
            "gridwidth": 2,
            "linecolor": "white",
            "showbackground": true,
            "ticks": "",
            "zerolinecolor": "white"
           }
          },
          "shapedefaults": {
           "line": {
            "color": "#2a3f5f"
           }
          },
          "ternary": {
           "aaxis": {
            "gridcolor": "white",
            "linecolor": "white",
            "ticks": ""
           },
           "baxis": {
            "gridcolor": "white",
            "linecolor": "white",
            "ticks": ""
           },
           "bgcolor": "#E5ECF6",
           "caxis": {
            "gridcolor": "white",
            "linecolor": "white",
            "ticks": ""
           }
          },
          "title": {
           "x": 0.05
          },
          "xaxis": {
           "automargin": true,
           "gridcolor": "white",
           "linecolor": "white",
           "ticks": "",
           "title": {
            "standoff": 15
           },
           "zerolinecolor": "white",
           "zerolinewidth": 2
          },
          "yaxis": {
           "automargin": true,
           "gridcolor": "white",
           "linecolor": "white",
           "ticks": "",
           "title": {
            "standoff": 15
           },
           "zerolinecolor": "white",
           "zerolinewidth": 2
          }
         }
        },
        "yaxis": {
         "range": [
          0,
          4
         ],
         "title": {
          "text": "RMSE"
         }
        }
       }
      },
      "text/html": [
       "<div>                            <div id=\"55ae26ea-2fe0-4605-ae4e-48b24f2af149\" class=\"plotly-graph-div\" style=\"height:525px; width:100%;\"></div>            <script type=\"text/javascript\">                require([\"plotly\"], function(Plotly) {                    window.PLOTLYENV=window.PLOTLYENV || {};                                    if (document.getElementById(\"55ae26ea-2fe0-4605-ae4e-48b24f2af149\")) {                    Plotly.newPlot(                        \"55ae26ea-2fe0-4605-ae4e-48b24f2af149\",                        [{\"name\": \"Training RMSE\", \"type\": \"bar\", \"x\": [\"quant\", \"quant+dc\"], \"y\": [3.374582699942459, 3.033309344625912]}, {\"name\": \"CV RMSE\", \"type\": \"bar\", \"x\": [\"quant\", \"quant+dc\"], \"y\": [3.4559015156162536, 3.1113159765045717]}],                        {\"template\": {\"data\": {\"bar\": [{\"error_x\": {\"color\": \"#2a3f5f\"}, \"error_y\": {\"color\": \"#2a3f5f\"}, \"marker\": {\"line\": {\"color\": \"#E5ECF6\", \"width\": 0.5}}, \"type\": \"bar\"}], \"barpolar\": [{\"marker\": {\"line\": {\"color\": \"#E5ECF6\", \"width\": 0.5}}, \"type\": \"barpolar\"}], \"carpet\": [{\"aaxis\": {\"endlinecolor\": \"#2a3f5f\", \"gridcolor\": \"white\", \"linecolor\": \"white\", \"minorgridcolor\": \"white\", \"startlinecolor\": \"#2a3f5f\"}, \"baxis\": {\"endlinecolor\": \"#2a3f5f\", \"gridcolor\": \"white\", \"linecolor\": \"white\", \"minorgridcolor\": \"white\", \"startlinecolor\": \"#2a3f5f\"}, \"type\": \"carpet\"}], \"choropleth\": [{\"colorbar\": {\"outlinewidth\": 0, \"ticks\": \"\"}, \"type\": \"choropleth\"}], \"contour\": [{\"colorbar\": {\"outlinewidth\": 0, \"ticks\": \"\"}, \"colorscale\": [[0.0, \"#0d0887\"], [0.1111111111111111, \"#46039f\"], [0.2222222222222222, \"#7201a8\"], [0.3333333333333333, \"#9c179e\"], [0.4444444444444444, \"#bd3786\"], [0.5555555555555556, \"#d8576b\"], [0.6666666666666666, \"#ed7953\"], [0.7777777777777778, \"#fb9f3a\"], [0.8888888888888888, \"#fdca26\"], [1.0, \"#f0f921\"]], \"type\": \"contour\"}], \"contourcarpet\": [{\"colorbar\": {\"outlinewidth\": 0, \"ticks\": \"\"}, \"type\": \"contourcarpet\"}], \"heatmap\": [{\"colorbar\": {\"outlinewidth\": 0, \"ticks\": \"\"}, \"colorscale\": [[0.0, \"#0d0887\"], [0.1111111111111111, \"#46039f\"], [0.2222222222222222, \"#7201a8\"], [0.3333333333333333, \"#9c179e\"], [0.4444444444444444, \"#bd3786\"], [0.5555555555555556, \"#d8576b\"], [0.6666666666666666, \"#ed7953\"], [0.7777777777777778, \"#fb9f3a\"], [0.8888888888888888, \"#fdca26\"], [1.0, \"#f0f921\"]], \"type\": \"heatmap\"}], \"heatmapgl\": [{\"colorbar\": {\"outlinewidth\": 0, \"ticks\": \"\"}, \"colorscale\": [[0.0, \"#0d0887\"], [0.1111111111111111, \"#46039f\"], [0.2222222222222222, \"#7201a8\"], [0.3333333333333333, \"#9c179e\"], [0.4444444444444444, \"#bd3786\"], [0.5555555555555556, \"#d8576b\"], [0.6666666666666666, \"#ed7953\"], [0.7777777777777778, \"#fb9f3a\"], [0.8888888888888888, \"#fdca26\"], [1.0, \"#f0f921\"]], \"type\": \"heatmapgl\"}], \"histogram\": [{\"marker\": {\"colorbar\": {\"outlinewidth\": 0, \"ticks\": \"\"}}, \"type\": \"histogram\"}], \"histogram2d\": [{\"colorbar\": {\"outlinewidth\": 0, \"ticks\": \"\"}, \"colorscale\": [[0.0, \"#0d0887\"], [0.1111111111111111, \"#46039f\"], [0.2222222222222222, \"#7201a8\"], [0.3333333333333333, \"#9c179e\"], [0.4444444444444444, \"#bd3786\"], [0.5555555555555556, \"#d8576b\"], [0.6666666666666666, \"#ed7953\"], [0.7777777777777778, \"#fb9f3a\"], [0.8888888888888888, \"#fdca26\"], [1.0, \"#f0f921\"]], \"type\": \"histogram2d\"}], \"histogram2dcontour\": [{\"colorbar\": {\"outlinewidth\": 0, \"ticks\": \"\"}, \"colorscale\": [[0.0, \"#0d0887\"], [0.1111111111111111, \"#46039f\"], [0.2222222222222222, \"#7201a8\"], [0.3333333333333333, \"#9c179e\"], [0.4444444444444444, \"#bd3786\"], [0.5555555555555556, \"#d8576b\"], [0.6666666666666666, \"#ed7953\"], [0.7777777777777778, \"#fb9f3a\"], [0.8888888888888888, \"#fdca26\"], [1.0, \"#f0f921\"]], \"type\": \"histogram2dcontour\"}], \"mesh3d\": [{\"colorbar\": {\"outlinewidth\": 0, \"ticks\": \"\"}, \"type\": \"mesh3d\"}], \"parcoords\": [{\"line\": {\"colorbar\": {\"outlinewidth\": 0, \"ticks\": \"\"}}, \"type\": \"parcoords\"}], \"pie\": [{\"automargin\": true, \"type\": \"pie\"}], \"scatter\": [{\"marker\": {\"colorbar\": {\"outlinewidth\": 0, \"ticks\": \"\"}}, \"type\": \"scatter\"}], \"scatter3d\": [{\"line\": {\"colorbar\": {\"outlinewidth\": 0, \"ticks\": \"\"}}, \"marker\": {\"colorbar\": {\"outlinewidth\": 0, \"ticks\": \"\"}}, \"type\": \"scatter3d\"}], \"scattercarpet\": [{\"marker\": {\"colorbar\": {\"outlinewidth\": 0, \"ticks\": \"\"}}, \"type\": \"scattercarpet\"}], \"scattergeo\": [{\"marker\": {\"colorbar\": {\"outlinewidth\": 0, \"ticks\": \"\"}}, \"type\": \"scattergeo\"}], \"scattergl\": [{\"marker\": {\"colorbar\": {\"outlinewidth\": 0, \"ticks\": \"\"}}, \"type\": \"scattergl\"}], \"scattermapbox\": [{\"marker\": {\"colorbar\": {\"outlinewidth\": 0, \"ticks\": \"\"}}, \"type\": \"scattermapbox\"}], \"scatterpolar\": [{\"marker\": {\"colorbar\": {\"outlinewidth\": 0, \"ticks\": \"\"}}, \"type\": \"scatterpolar\"}], \"scatterpolargl\": [{\"marker\": {\"colorbar\": {\"outlinewidth\": 0, \"ticks\": \"\"}}, \"type\": \"scatterpolargl\"}], \"scatterternary\": [{\"marker\": {\"colorbar\": {\"outlinewidth\": 0, \"ticks\": \"\"}}, \"type\": \"scatterternary\"}], \"surface\": [{\"colorbar\": {\"outlinewidth\": 0, \"ticks\": \"\"}, \"colorscale\": [[0.0, \"#0d0887\"], [0.1111111111111111, \"#46039f\"], [0.2222222222222222, \"#7201a8\"], [0.3333333333333333, \"#9c179e\"], [0.4444444444444444, \"#bd3786\"], [0.5555555555555556, \"#d8576b\"], [0.6666666666666666, \"#ed7953\"], [0.7777777777777778, \"#fb9f3a\"], [0.8888888888888888, \"#fdca26\"], [1.0, \"#f0f921\"]], \"type\": \"surface\"}], \"table\": [{\"cells\": {\"fill\": {\"color\": \"#EBF0F8\"}, \"line\": {\"color\": \"white\"}}, \"header\": {\"fill\": {\"color\": \"#C8D4E3\"}, \"line\": {\"color\": \"white\"}}, \"type\": \"table\"}]}, \"layout\": {\"annotationdefaults\": {\"arrowcolor\": \"#2a3f5f\", \"arrowhead\": 0, \"arrowwidth\": 1}, \"autotypenumbers\": \"strict\", \"coloraxis\": {\"colorbar\": {\"outlinewidth\": 0, \"ticks\": \"\"}}, \"colorscale\": {\"diverging\": [[0, \"#8e0152\"], [0.1, \"#c51b7d\"], [0.2, \"#de77ae\"], [0.3, \"#f1b6da\"], [0.4, \"#fde0ef\"], [0.5, \"#f7f7f7\"], [0.6, \"#e6f5d0\"], [0.7, \"#b8e186\"], [0.8, \"#7fbc41\"], [0.9, \"#4d9221\"], [1, \"#276419\"]], \"sequential\": [[0.0, \"#0d0887\"], [0.1111111111111111, \"#46039f\"], [0.2222222222222222, \"#7201a8\"], [0.3333333333333333, \"#9c179e\"], [0.4444444444444444, \"#bd3786\"], [0.5555555555555556, \"#d8576b\"], [0.6666666666666666, \"#ed7953\"], [0.7777777777777778, \"#fb9f3a\"], [0.8888888888888888, \"#fdca26\"], [1.0, \"#f0f921\"]], \"sequentialminus\": [[0.0, \"#0d0887\"], [0.1111111111111111, \"#46039f\"], [0.2222222222222222, \"#7201a8\"], [0.3333333333333333, \"#9c179e\"], [0.4444444444444444, \"#bd3786\"], [0.5555555555555556, \"#d8576b\"], [0.6666666666666666, \"#ed7953\"], [0.7777777777777778, \"#fb9f3a\"], [0.8888888888888888, \"#fdca26\"], [1.0, \"#f0f921\"]]}, \"colorway\": [\"#636efa\", \"#EF553B\", \"#00cc96\", \"#ab63fa\", \"#FFA15A\", \"#19d3f3\", \"#FF6692\", \"#B6E880\", \"#FF97FF\", \"#FECB52\"], \"font\": {\"color\": \"#2a3f5f\"}, \"geo\": {\"bgcolor\": \"white\", \"lakecolor\": \"white\", \"landcolor\": \"#E5ECF6\", \"showlakes\": true, \"showland\": true, \"subunitcolor\": \"white\"}, \"hoverlabel\": {\"align\": \"left\"}, \"hovermode\": \"closest\", \"mapbox\": {\"style\": \"light\"}, \"paper_bgcolor\": \"white\", \"plot_bgcolor\": \"#E5ECF6\", \"polar\": {\"angularaxis\": {\"gridcolor\": \"white\", \"linecolor\": \"white\", \"ticks\": \"\"}, \"bgcolor\": \"#E5ECF6\", \"radialaxis\": {\"gridcolor\": \"white\", \"linecolor\": \"white\", \"ticks\": \"\"}}, \"scene\": {\"xaxis\": {\"backgroundcolor\": \"#E5ECF6\", \"gridcolor\": \"white\", \"gridwidth\": 2, \"linecolor\": \"white\", \"showbackground\": true, \"ticks\": \"\", \"zerolinecolor\": \"white\"}, \"yaxis\": {\"backgroundcolor\": \"#E5ECF6\", \"gridcolor\": \"white\", \"gridwidth\": 2, \"linecolor\": \"white\", \"showbackground\": true, \"ticks\": \"\", \"zerolinecolor\": \"white\"}, \"zaxis\": {\"backgroundcolor\": \"#E5ECF6\", \"gridcolor\": \"white\", \"gridwidth\": 2, \"linecolor\": \"white\", \"showbackground\": true, \"ticks\": \"\", \"zerolinecolor\": \"white\"}}, \"shapedefaults\": {\"line\": {\"color\": \"#2a3f5f\"}}, \"ternary\": {\"aaxis\": {\"gridcolor\": \"white\", \"linecolor\": \"white\", \"ticks\": \"\"}, \"baxis\": {\"gridcolor\": \"white\", \"linecolor\": \"white\", \"ticks\": \"\"}, \"bgcolor\": \"#E5ECF6\", \"caxis\": {\"gridcolor\": \"white\", \"linecolor\": \"white\", \"ticks\": \"\"}}, \"title\": {\"x\": 0.05}, \"xaxis\": {\"automargin\": true, \"gridcolor\": \"white\", \"linecolor\": \"white\", \"ticks\": \"\", \"title\": {\"standoff\": 15}, \"zerolinecolor\": \"white\", \"zerolinewidth\": 2}, \"yaxis\": {\"automargin\": true, \"gridcolor\": \"white\", \"linecolor\": \"white\", \"ticks\": \"\", \"title\": {\"standoff\": 15}, \"zerolinecolor\": \"white\", \"zerolinewidth\": 2}}}, \"yaxis\": {\"range\": [0, 4], \"title\": {\"text\": \"RMSE\"}}},                        {\"responsive\": true}                    ).then(function(){\n",
       "                            \n",
       "var gd = document.getElementById('55ae26ea-2fe0-4605-ae4e-48b24f2af149');\n",
       "var x = new MutationObserver(function (mutations, observer) {{\n",
       "        var display = window.getComputedStyle(gd).display;\n",
       "        if (!display || display === 'none') {{\n",
       "            console.log([gd, 'removed!']);\n",
       "            Plotly.purge(gd);\n",
       "            observer.disconnect();\n",
       "        }}\n",
       "}});\n",
       "\n",
       "// Listen for the removal of the full notebook cells\n",
       "var notebookContainer = gd.closest('#notebook-container');\n",
       "if (notebookContainer) {{\n",
       "    x.observe(notebookContainer, {childList: true});\n",
       "}}\n",
       "\n",
       "// Listen for the clearing of the current output cell\n",
       "var outputEl = gd.closest('.output');\n",
       "if (outputEl) {{\n",
       "    x.observe(outputEl, {childList: true});\n",
       "}}\n",
       "\n",
       "                        })                };                });            </script>        </div>"
      ]
     },
     "metadata": {},
     "output_type": "display_data"
    }
   ],
   "source": [
    "fig = compare_models(models)\n",
    "fig.update_yaxes(range = [0, 4], title = \"RMSE\")"
   ]
  },
  {
   "cell_type": "markdown",
   "metadata": {},
   "source": [
    "So not only did the new displacement / cylinders feature improve our training error, it also improved our cross-validation error. This indicates that this feature helps our model generalize, or in other words, that it has \"predictive power.\"\n",
    "\n",
    "Now let's try adding some categorical data, such as the `origin` column. As this is categorical data, we will have to one-hot encode this variable."
   ]
  },
  {
   "cell_type": "code",
   "execution_count": 35,
   "metadata": {},
   "outputs": [
    {
     "data": {
      "text/plain": [
       "usa       245\n",
       "japan      79\n",
       "europe     68\n",
       "Name: origin, dtype: int64"
      ]
     },
     "execution_count": 35,
     "metadata": {},
     "output_type": "execute_result"
    }
   ],
   "source": [
    "data['origin'].value_counts()"
   ]
  },
  {
   "cell_type": "markdown",
   "metadata": {},
   "source": [
    "Fortunately, it looks like we have only three possible values for `origin`. We will use `scikit-learn`'s one-hot encoder to do the transformation. Check out Lecture 14 for a refresher on how this works."
   ]
  },
  {
   "cell_type": "code",
   "execution_count": 36,
   "metadata": {},
   "outputs": [
    {
     "data": {
      "text/html": [
       "<div>\n",
       "<style scoped>\n",
       "    .dataframe tbody tr th:only-of-type {\n",
       "        vertical-align: middle;\n",
       "    }\n",
       "\n",
       "    .dataframe tbody tr th {\n",
       "        vertical-align: top;\n",
       "    }\n",
       "\n",
       "    .dataframe thead th {\n",
       "        text-align: right;\n",
       "    }\n",
       "</style>\n",
       "<table border=\"1\" class=\"dataframe\">\n",
       "  <thead>\n",
       "    <tr style=\"text-align: right;\">\n",
       "      <th></th>\n",
       "      <th>cylinders</th>\n",
       "      <th>displacement</th>\n",
       "      <th>horsepower</th>\n",
       "      <th>weight</th>\n",
       "      <th>acceleration</th>\n",
       "      <th>model_year</th>\n",
       "      <th>displacement/cylinder</th>\n",
       "      <th>x0_europe</th>\n",
       "      <th>x0_japan</th>\n",
       "      <th>x0_usa</th>\n",
       "    </tr>\n",
       "  </thead>\n",
       "  <tbody>\n",
       "    <tr>\n",
       "      <th>6</th>\n",
       "      <td>8</td>\n",
       "      <td>454.0</td>\n",
       "      <td>220.0</td>\n",
       "      <td>4354</td>\n",
       "      <td>9.0</td>\n",
       "      <td>70</td>\n",
       "      <td>56.750000</td>\n",
       "      <td>0.0</td>\n",
       "      <td>0.0</td>\n",
       "      <td>1.0</td>\n",
       "    </tr>\n",
       "    <tr>\n",
       "      <th>352</th>\n",
       "      <td>4</td>\n",
       "      <td>98.0</td>\n",
       "      <td>65.0</td>\n",
       "      <td>2380</td>\n",
       "      <td>20.7</td>\n",
       "      <td>81</td>\n",
       "      <td>24.500000</td>\n",
       "      <td>0.0</td>\n",
       "      <td>0.0</td>\n",
       "      <td>1.0</td>\n",
       "    </tr>\n",
       "    <tr>\n",
       "      <th>47</th>\n",
       "      <td>6</td>\n",
       "      <td>250.0</td>\n",
       "      <td>100.0</td>\n",
       "      <td>3282</td>\n",
       "      <td>15.0</td>\n",
       "      <td>71</td>\n",
       "      <td>41.666667</td>\n",
       "      <td>0.0</td>\n",
       "      <td>0.0</td>\n",
       "      <td>1.0</td>\n",
       "    </tr>\n",
       "    <tr>\n",
       "      <th>39</th>\n",
       "      <td>8</td>\n",
       "      <td>400.0</td>\n",
       "      <td>175.0</td>\n",
       "      <td>4464</td>\n",
       "      <td>11.5</td>\n",
       "      <td>71</td>\n",
       "      <td>50.000000</td>\n",
       "      <td>0.0</td>\n",
       "      <td>0.0</td>\n",
       "      <td>1.0</td>\n",
       "    </tr>\n",
       "    <tr>\n",
       "      <th>304</th>\n",
       "      <td>4</td>\n",
       "      <td>91.0</td>\n",
       "      <td>69.0</td>\n",
       "      <td>2130</td>\n",
       "      <td>14.7</td>\n",
       "      <td>79</td>\n",
       "      <td>22.750000</td>\n",
       "      <td>1.0</td>\n",
       "      <td>0.0</td>\n",
       "      <td>0.0</td>\n",
       "    </tr>\n",
       "    <tr>\n",
       "      <th>...</th>\n",
       "      <td>...</td>\n",
       "      <td>...</td>\n",
       "      <td>...</td>\n",
       "      <td>...</td>\n",
       "      <td>...</td>\n",
       "      <td>...</td>\n",
       "      <td>...</td>\n",
       "      <td>...</td>\n",
       "      <td>...</td>\n",
       "      <td>...</td>\n",
       "    </tr>\n",
       "    <tr>\n",
       "      <th>394</th>\n",
       "      <td>4</td>\n",
       "      <td>97.0</td>\n",
       "      <td>52.0</td>\n",
       "      <td>2130</td>\n",
       "      <td>24.6</td>\n",
       "      <td>82</td>\n",
       "      <td>24.250000</td>\n",
       "      <td>1.0</td>\n",
       "      <td>0.0</td>\n",
       "      <td>0.0</td>\n",
       "    </tr>\n",
       "    <tr>\n",
       "      <th>258</th>\n",
       "      <td>6</td>\n",
       "      <td>231.0</td>\n",
       "      <td>105.0</td>\n",
       "      <td>3380</td>\n",
       "      <td>15.8</td>\n",
       "      <td>78</td>\n",
       "      <td>38.500000</td>\n",
       "      <td>0.0</td>\n",
       "      <td>0.0</td>\n",
       "      <td>1.0</td>\n",
       "    </tr>\n",
       "    <tr>\n",
       "      <th>297</th>\n",
       "      <td>5</td>\n",
       "      <td>183.0</td>\n",
       "      <td>77.0</td>\n",
       "      <td>3530</td>\n",
       "      <td>20.1</td>\n",
       "      <td>79</td>\n",
       "      <td>36.600000</td>\n",
       "      <td>1.0</td>\n",
       "      <td>0.0</td>\n",
       "      <td>0.0</td>\n",
       "    </tr>\n",
       "    <tr>\n",
       "      <th>23</th>\n",
       "      <td>4</td>\n",
       "      <td>121.0</td>\n",
       "      <td>113.0</td>\n",
       "      <td>2234</td>\n",
       "      <td>12.5</td>\n",
       "      <td>70</td>\n",
       "      <td>30.250000</td>\n",
       "      <td>1.0</td>\n",
       "      <td>0.0</td>\n",
       "      <td>0.0</td>\n",
       "    </tr>\n",
       "    <tr>\n",
       "      <th>83</th>\n",
       "      <td>4</td>\n",
       "      <td>98.0</td>\n",
       "      <td>80.0</td>\n",
       "      <td>2164</td>\n",
       "      <td>15.0</td>\n",
       "      <td>72</td>\n",
       "      <td>24.500000</td>\n",
       "      <td>0.0</td>\n",
       "      <td>0.0</td>\n",
       "      <td>1.0</td>\n",
       "    </tr>\n",
       "  </tbody>\n",
       "</table>\n",
       "<p>352 rows × 10 columns</p>\n",
       "</div>"
      ],
      "text/plain": [
       "     cylinders  displacement  horsepower  weight  acceleration  model_year  \\\n",
       "6            8         454.0       220.0    4354           9.0          70   \n",
       "352          4          98.0        65.0    2380          20.7          81   \n",
       "47           6         250.0       100.0    3282          15.0          71   \n",
       "39           8         400.0       175.0    4464          11.5          71   \n",
       "304          4          91.0        69.0    2130          14.7          79   \n",
       "..         ...           ...         ...     ...           ...         ...   \n",
       "394          4          97.0        52.0    2130          24.6          82   \n",
       "258          6         231.0       105.0    3380          15.8          78   \n",
       "297          5         183.0        77.0    3530          20.1          79   \n",
       "23           4         121.0       113.0    2234          12.5          70   \n",
       "83           4          98.0        80.0    2164          15.0          72   \n",
       "\n",
       "     displacement/cylinder  x0_europe  x0_japan  x0_usa  \n",
       "6                56.750000        0.0       0.0     1.0  \n",
       "352              24.500000        0.0       0.0     1.0  \n",
       "47               41.666667        0.0       0.0     1.0  \n",
       "39               50.000000        0.0       0.0     1.0  \n",
       "304              22.750000        1.0       0.0     0.0  \n",
       "..                     ...        ...       ...     ...  \n",
       "394              24.250000        1.0       0.0     0.0  \n",
       "258              38.500000        0.0       0.0     1.0  \n",
       "297              36.600000        1.0       0.0     0.0  \n",
       "23               30.250000        1.0       0.0     0.0  \n",
       "83               24.500000        0.0       0.0     1.0  \n",
       "\n",
       "[352 rows x 10 columns]"
      ]
     },
     "execution_count": 36,
     "metadata": {},
     "output_type": "execute_result"
    }
   ],
   "source": [
    "from sklearn.preprocessing import OneHotEncoder\n",
    "oh_enc = OneHotEncoder()\n",
    "oh_enc.fit(data[['origin']])\n",
    "\n",
    "def origin_design_matrix(df):\n",
    "    X = dispcyl_design_matrix(df)\n",
    "    ohe_cols = pd.DataFrame(oh_enc.transform(df[['origin']]).todense(), \n",
    "                           columns = oh_enc.get_feature_names(),\n",
    "                           index = df.index)\n",
    "    return X.join(ohe_cols)\n",
    "\n",
    "models['quant+dc+o'] = (origin_design_matrix, LinearRegression())\n",
    "\n",
    "origin_design_matrix(tr)"
   ]
  },
  {
   "cell_type": "code",
   "execution_count": 37,
   "metadata": {},
   "outputs": [
    {
     "data": {
      "application/vnd.plotly.v1+json": {
       "config": {
        "plotlyServerURL": "https://plot.ly"
       },
       "data": [
        {
         "name": "Training RMSE",
         "type": "bar",
         "x": [
          "quant",
          "quant+dc",
          "quant+dc+o"
         ],
         "y": [
          3.374582699942459,
          3.033309344625912,
          3.012941172853172
         ]
        },
        {
         "name": "CV RMSE",
         "type": "bar",
         "x": [
          "quant",
          "quant+dc",
          "quant+dc+o"
         ],
         "y": [
          3.4559015156162536,
          3.1113159765045717,
          3.120728518015189
         ]
        }
       ],
       "layout": {
        "template": {
         "data": {
          "bar": [
           {
            "error_x": {
             "color": "#2a3f5f"
            },
            "error_y": {
             "color": "#2a3f5f"
            },
            "marker": {
             "line": {
              "color": "#E5ECF6",
              "width": 0.5
             }
            },
            "type": "bar"
           }
          ],
          "barpolar": [
           {
            "marker": {
             "line": {
              "color": "#E5ECF6",
              "width": 0.5
             }
            },
            "type": "barpolar"
           }
          ],
          "carpet": [
           {
            "aaxis": {
             "endlinecolor": "#2a3f5f",
             "gridcolor": "white",
             "linecolor": "white",
             "minorgridcolor": "white",
             "startlinecolor": "#2a3f5f"
            },
            "baxis": {
             "endlinecolor": "#2a3f5f",
             "gridcolor": "white",
             "linecolor": "white",
             "minorgridcolor": "white",
             "startlinecolor": "#2a3f5f"
            },
            "type": "carpet"
           }
          ],
          "choropleth": [
           {
            "colorbar": {
             "outlinewidth": 0,
             "ticks": ""
            },
            "type": "choropleth"
           }
          ],
          "contour": [
           {
            "colorbar": {
             "outlinewidth": 0,
             "ticks": ""
            },
            "colorscale": [
             [
              0,
              "#0d0887"
             ],
             [
              0.1111111111111111,
              "#46039f"
             ],
             [
              0.2222222222222222,
              "#7201a8"
             ],
             [
              0.3333333333333333,
              "#9c179e"
             ],
             [
              0.4444444444444444,
              "#bd3786"
             ],
             [
              0.5555555555555556,
              "#d8576b"
             ],
             [
              0.6666666666666666,
              "#ed7953"
             ],
             [
              0.7777777777777778,
              "#fb9f3a"
             ],
             [
              0.8888888888888888,
              "#fdca26"
             ],
             [
              1,
              "#f0f921"
             ]
            ],
            "type": "contour"
           }
          ],
          "contourcarpet": [
           {
            "colorbar": {
             "outlinewidth": 0,
             "ticks": ""
            },
            "type": "contourcarpet"
           }
          ],
          "heatmap": [
           {
            "colorbar": {
             "outlinewidth": 0,
             "ticks": ""
            },
            "colorscale": [
             [
              0,
              "#0d0887"
             ],
             [
              0.1111111111111111,
              "#46039f"
             ],
             [
              0.2222222222222222,
              "#7201a8"
             ],
             [
              0.3333333333333333,
              "#9c179e"
             ],
             [
              0.4444444444444444,
              "#bd3786"
             ],
             [
              0.5555555555555556,
              "#d8576b"
             ],
             [
              0.6666666666666666,
              "#ed7953"
             ],
             [
              0.7777777777777778,
              "#fb9f3a"
             ],
             [
              0.8888888888888888,
              "#fdca26"
             ],
             [
              1,
              "#f0f921"
             ]
            ],
            "type": "heatmap"
           }
          ],
          "heatmapgl": [
           {
            "colorbar": {
             "outlinewidth": 0,
             "ticks": ""
            },
            "colorscale": [
             [
              0,
              "#0d0887"
             ],
             [
              0.1111111111111111,
              "#46039f"
             ],
             [
              0.2222222222222222,
              "#7201a8"
             ],
             [
              0.3333333333333333,
              "#9c179e"
             ],
             [
              0.4444444444444444,
              "#bd3786"
             ],
             [
              0.5555555555555556,
              "#d8576b"
             ],
             [
              0.6666666666666666,
              "#ed7953"
             ],
             [
              0.7777777777777778,
              "#fb9f3a"
             ],
             [
              0.8888888888888888,
              "#fdca26"
             ],
             [
              1,
              "#f0f921"
             ]
            ],
            "type": "heatmapgl"
           }
          ],
          "histogram": [
           {
            "marker": {
             "colorbar": {
              "outlinewidth": 0,
              "ticks": ""
             }
            },
            "type": "histogram"
           }
          ],
          "histogram2d": [
           {
            "colorbar": {
             "outlinewidth": 0,
             "ticks": ""
            },
            "colorscale": [
             [
              0,
              "#0d0887"
             ],
             [
              0.1111111111111111,
              "#46039f"
             ],
             [
              0.2222222222222222,
              "#7201a8"
             ],
             [
              0.3333333333333333,
              "#9c179e"
             ],
             [
              0.4444444444444444,
              "#bd3786"
             ],
             [
              0.5555555555555556,
              "#d8576b"
             ],
             [
              0.6666666666666666,
              "#ed7953"
             ],
             [
              0.7777777777777778,
              "#fb9f3a"
             ],
             [
              0.8888888888888888,
              "#fdca26"
             ],
             [
              1,
              "#f0f921"
             ]
            ],
            "type": "histogram2d"
           }
          ],
          "histogram2dcontour": [
           {
            "colorbar": {
             "outlinewidth": 0,
             "ticks": ""
            },
            "colorscale": [
             [
              0,
              "#0d0887"
             ],
             [
              0.1111111111111111,
              "#46039f"
             ],
             [
              0.2222222222222222,
              "#7201a8"
             ],
             [
              0.3333333333333333,
              "#9c179e"
             ],
             [
              0.4444444444444444,
              "#bd3786"
             ],
             [
              0.5555555555555556,
              "#d8576b"
             ],
             [
              0.6666666666666666,
              "#ed7953"
             ],
             [
              0.7777777777777778,
              "#fb9f3a"
             ],
             [
              0.8888888888888888,
              "#fdca26"
             ],
             [
              1,
              "#f0f921"
             ]
            ],
            "type": "histogram2dcontour"
           }
          ],
          "mesh3d": [
           {
            "colorbar": {
             "outlinewidth": 0,
             "ticks": ""
            },
            "type": "mesh3d"
           }
          ],
          "parcoords": [
           {
            "line": {
             "colorbar": {
              "outlinewidth": 0,
              "ticks": ""
             }
            },
            "type": "parcoords"
           }
          ],
          "pie": [
           {
            "automargin": true,
            "type": "pie"
           }
          ],
          "scatter": [
           {
            "marker": {
             "colorbar": {
              "outlinewidth": 0,
              "ticks": ""
             }
            },
            "type": "scatter"
           }
          ],
          "scatter3d": [
           {
            "line": {
             "colorbar": {
              "outlinewidth": 0,
              "ticks": ""
             }
            },
            "marker": {
             "colorbar": {
              "outlinewidth": 0,
              "ticks": ""
             }
            },
            "type": "scatter3d"
           }
          ],
          "scattercarpet": [
           {
            "marker": {
             "colorbar": {
              "outlinewidth": 0,
              "ticks": ""
             }
            },
            "type": "scattercarpet"
           }
          ],
          "scattergeo": [
           {
            "marker": {
             "colorbar": {
              "outlinewidth": 0,
              "ticks": ""
             }
            },
            "type": "scattergeo"
           }
          ],
          "scattergl": [
           {
            "marker": {
             "colorbar": {
              "outlinewidth": 0,
              "ticks": ""
             }
            },
            "type": "scattergl"
           }
          ],
          "scattermapbox": [
           {
            "marker": {
             "colorbar": {
              "outlinewidth": 0,
              "ticks": ""
             }
            },
            "type": "scattermapbox"
           }
          ],
          "scatterpolar": [
           {
            "marker": {
             "colorbar": {
              "outlinewidth": 0,
              "ticks": ""
             }
            },
            "type": "scatterpolar"
           }
          ],
          "scatterpolargl": [
           {
            "marker": {
             "colorbar": {
              "outlinewidth": 0,
              "ticks": ""
             }
            },
            "type": "scatterpolargl"
           }
          ],
          "scatterternary": [
           {
            "marker": {
             "colorbar": {
              "outlinewidth": 0,
              "ticks": ""
             }
            },
            "type": "scatterternary"
           }
          ],
          "surface": [
           {
            "colorbar": {
             "outlinewidth": 0,
             "ticks": ""
            },
            "colorscale": [
             [
              0,
              "#0d0887"
             ],
             [
              0.1111111111111111,
              "#46039f"
             ],
             [
              0.2222222222222222,
              "#7201a8"
             ],
             [
              0.3333333333333333,
              "#9c179e"
             ],
             [
              0.4444444444444444,
              "#bd3786"
             ],
             [
              0.5555555555555556,
              "#d8576b"
             ],
             [
              0.6666666666666666,
              "#ed7953"
             ],
             [
              0.7777777777777778,
              "#fb9f3a"
             ],
             [
              0.8888888888888888,
              "#fdca26"
             ],
             [
              1,
              "#f0f921"
             ]
            ],
            "type": "surface"
           }
          ],
          "table": [
           {
            "cells": {
             "fill": {
              "color": "#EBF0F8"
             },
             "line": {
              "color": "white"
             }
            },
            "header": {
             "fill": {
              "color": "#C8D4E3"
             },
             "line": {
              "color": "white"
             }
            },
            "type": "table"
           }
          ]
         },
         "layout": {
          "annotationdefaults": {
           "arrowcolor": "#2a3f5f",
           "arrowhead": 0,
           "arrowwidth": 1
          },
          "autotypenumbers": "strict",
          "coloraxis": {
           "colorbar": {
            "outlinewidth": 0,
            "ticks": ""
           }
          },
          "colorscale": {
           "diverging": [
            [
             0,
             "#8e0152"
            ],
            [
             0.1,
             "#c51b7d"
            ],
            [
             0.2,
             "#de77ae"
            ],
            [
             0.3,
             "#f1b6da"
            ],
            [
             0.4,
             "#fde0ef"
            ],
            [
             0.5,
             "#f7f7f7"
            ],
            [
             0.6,
             "#e6f5d0"
            ],
            [
             0.7,
             "#b8e186"
            ],
            [
             0.8,
             "#7fbc41"
            ],
            [
             0.9,
             "#4d9221"
            ],
            [
             1,
             "#276419"
            ]
           ],
           "sequential": [
            [
             0,
             "#0d0887"
            ],
            [
             0.1111111111111111,
             "#46039f"
            ],
            [
             0.2222222222222222,
             "#7201a8"
            ],
            [
             0.3333333333333333,
             "#9c179e"
            ],
            [
             0.4444444444444444,
             "#bd3786"
            ],
            [
             0.5555555555555556,
             "#d8576b"
            ],
            [
             0.6666666666666666,
             "#ed7953"
            ],
            [
             0.7777777777777778,
             "#fb9f3a"
            ],
            [
             0.8888888888888888,
             "#fdca26"
            ],
            [
             1,
             "#f0f921"
            ]
           ],
           "sequentialminus": [
            [
             0,
             "#0d0887"
            ],
            [
             0.1111111111111111,
             "#46039f"
            ],
            [
             0.2222222222222222,
             "#7201a8"
            ],
            [
             0.3333333333333333,
             "#9c179e"
            ],
            [
             0.4444444444444444,
             "#bd3786"
            ],
            [
             0.5555555555555556,
             "#d8576b"
            ],
            [
             0.6666666666666666,
             "#ed7953"
            ],
            [
             0.7777777777777778,
             "#fb9f3a"
            ],
            [
             0.8888888888888888,
             "#fdca26"
            ],
            [
             1,
             "#f0f921"
            ]
           ]
          },
          "colorway": [
           "#636efa",
           "#EF553B",
           "#00cc96",
           "#ab63fa",
           "#FFA15A",
           "#19d3f3",
           "#FF6692",
           "#B6E880",
           "#FF97FF",
           "#FECB52"
          ],
          "font": {
           "color": "#2a3f5f"
          },
          "geo": {
           "bgcolor": "white",
           "lakecolor": "white",
           "landcolor": "#E5ECF6",
           "showlakes": true,
           "showland": true,
           "subunitcolor": "white"
          },
          "hoverlabel": {
           "align": "left"
          },
          "hovermode": "closest",
          "mapbox": {
           "style": "light"
          },
          "paper_bgcolor": "white",
          "plot_bgcolor": "#E5ECF6",
          "polar": {
           "angularaxis": {
            "gridcolor": "white",
            "linecolor": "white",
            "ticks": ""
           },
           "bgcolor": "#E5ECF6",
           "radialaxis": {
            "gridcolor": "white",
            "linecolor": "white",
            "ticks": ""
           }
          },
          "scene": {
           "xaxis": {
            "backgroundcolor": "#E5ECF6",
            "gridcolor": "white",
            "gridwidth": 2,
            "linecolor": "white",
            "showbackground": true,
            "ticks": "",
            "zerolinecolor": "white"
           },
           "yaxis": {
            "backgroundcolor": "#E5ECF6",
            "gridcolor": "white",
            "gridwidth": 2,
            "linecolor": "white",
            "showbackground": true,
            "ticks": "",
            "zerolinecolor": "white"
           },
           "zaxis": {
            "backgroundcolor": "#E5ECF6",
            "gridcolor": "white",
            "gridwidth": 2,
            "linecolor": "white",
            "showbackground": true,
            "ticks": "",
            "zerolinecolor": "white"
           }
          },
          "shapedefaults": {
           "line": {
            "color": "#2a3f5f"
           }
          },
          "ternary": {
           "aaxis": {
            "gridcolor": "white",
            "linecolor": "white",
            "ticks": ""
           },
           "baxis": {
            "gridcolor": "white",
            "linecolor": "white",
            "ticks": ""
           },
           "bgcolor": "#E5ECF6",
           "caxis": {
            "gridcolor": "white",
            "linecolor": "white",
            "ticks": ""
           }
          },
          "title": {
           "x": 0.05
          },
          "xaxis": {
           "automargin": true,
           "gridcolor": "white",
           "linecolor": "white",
           "ticks": "",
           "title": {
            "standoff": 15
           },
           "zerolinecolor": "white",
           "zerolinewidth": 2
          },
          "yaxis": {
           "automargin": true,
           "gridcolor": "white",
           "linecolor": "white",
           "ticks": "",
           "title": {
            "standoff": 15
           },
           "zerolinecolor": "white",
           "zerolinewidth": 2
          }
         }
        },
        "yaxis": {
         "range": [
          0,
          4
         ],
         "title": {
          "text": "RMSE"
         }
        }
       }
      },
      "text/html": [
       "<div>                            <div id=\"b61ba0b7-cdaa-4ec2-ba1f-46073af92b12\" class=\"plotly-graph-div\" style=\"height:525px; width:100%;\"></div>            <script type=\"text/javascript\">                require([\"plotly\"], function(Plotly) {                    window.PLOTLYENV=window.PLOTLYENV || {};                                    if (document.getElementById(\"b61ba0b7-cdaa-4ec2-ba1f-46073af92b12\")) {                    Plotly.newPlot(                        \"b61ba0b7-cdaa-4ec2-ba1f-46073af92b12\",                        [{\"name\": \"Training RMSE\", \"type\": \"bar\", \"x\": [\"quant\", \"quant+dc\", \"quant+dc+o\"], \"y\": [3.374582699942459, 3.033309344625912, 3.012941172853172]}, {\"name\": \"CV RMSE\", \"type\": \"bar\", \"x\": [\"quant\", \"quant+dc\", \"quant+dc+o\"], \"y\": [3.4559015156162536, 3.1113159765045717, 3.120728518015189]}],                        {\"template\": {\"data\": {\"bar\": [{\"error_x\": {\"color\": \"#2a3f5f\"}, \"error_y\": {\"color\": \"#2a3f5f\"}, \"marker\": {\"line\": {\"color\": \"#E5ECF6\", \"width\": 0.5}}, \"type\": \"bar\"}], \"barpolar\": [{\"marker\": {\"line\": {\"color\": \"#E5ECF6\", \"width\": 0.5}}, \"type\": \"barpolar\"}], \"carpet\": [{\"aaxis\": {\"endlinecolor\": \"#2a3f5f\", \"gridcolor\": \"white\", \"linecolor\": \"white\", \"minorgridcolor\": \"white\", \"startlinecolor\": \"#2a3f5f\"}, \"baxis\": {\"endlinecolor\": \"#2a3f5f\", \"gridcolor\": \"white\", \"linecolor\": \"white\", \"minorgridcolor\": \"white\", \"startlinecolor\": \"#2a3f5f\"}, \"type\": \"carpet\"}], \"choropleth\": [{\"colorbar\": {\"outlinewidth\": 0, \"ticks\": \"\"}, \"type\": \"choropleth\"}], \"contour\": [{\"colorbar\": {\"outlinewidth\": 0, \"ticks\": \"\"}, \"colorscale\": [[0.0, \"#0d0887\"], [0.1111111111111111, \"#46039f\"], [0.2222222222222222, \"#7201a8\"], [0.3333333333333333, \"#9c179e\"], [0.4444444444444444, \"#bd3786\"], [0.5555555555555556, \"#d8576b\"], [0.6666666666666666, \"#ed7953\"], [0.7777777777777778, \"#fb9f3a\"], [0.8888888888888888, \"#fdca26\"], [1.0, \"#f0f921\"]], \"type\": \"contour\"}], \"contourcarpet\": [{\"colorbar\": {\"outlinewidth\": 0, \"ticks\": \"\"}, \"type\": \"contourcarpet\"}], \"heatmap\": [{\"colorbar\": {\"outlinewidth\": 0, \"ticks\": \"\"}, \"colorscale\": [[0.0, \"#0d0887\"], [0.1111111111111111, \"#46039f\"], [0.2222222222222222, \"#7201a8\"], [0.3333333333333333, \"#9c179e\"], [0.4444444444444444, \"#bd3786\"], [0.5555555555555556, \"#d8576b\"], [0.6666666666666666, \"#ed7953\"], [0.7777777777777778, \"#fb9f3a\"], [0.8888888888888888, \"#fdca26\"], [1.0, \"#f0f921\"]], \"type\": \"heatmap\"}], \"heatmapgl\": [{\"colorbar\": {\"outlinewidth\": 0, \"ticks\": \"\"}, \"colorscale\": [[0.0, \"#0d0887\"], [0.1111111111111111, \"#46039f\"], [0.2222222222222222, \"#7201a8\"], [0.3333333333333333, \"#9c179e\"], [0.4444444444444444, \"#bd3786\"], [0.5555555555555556, \"#d8576b\"], [0.6666666666666666, \"#ed7953\"], [0.7777777777777778, \"#fb9f3a\"], [0.8888888888888888, \"#fdca26\"], [1.0, \"#f0f921\"]], \"type\": \"heatmapgl\"}], \"histogram\": [{\"marker\": {\"colorbar\": {\"outlinewidth\": 0, \"ticks\": \"\"}}, \"type\": \"histogram\"}], \"histogram2d\": [{\"colorbar\": {\"outlinewidth\": 0, \"ticks\": \"\"}, \"colorscale\": [[0.0, \"#0d0887\"], [0.1111111111111111, \"#46039f\"], [0.2222222222222222, \"#7201a8\"], [0.3333333333333333, \"#9c179e\"], [0.4444444444444444, \"#bd3786\"], [0.5555555555555556, \"#d8576b\"], [0.6666666666666666, \"#ed7953\"], [0.7777777777777778, \"#fb9f3a\"], [0.8888888888888888, \"#fdca26\"], [1.0, \"#f0f921\"]], \"type\": \"histogram2d\"}], \"histogram2dcontour\": [{\"colorbar\": {\"outlinewidth\": 0, \"ticks\": \"\"}, \"colorscale\": [[0.0, \"#0d0887\"], [0.1111111111111111, \"#46039f\"], [0.2222222222222222, \"#7201a8\"], [0.3333333333333333, \"#9c179e\"], [0.4444444444444444, \"#bd3786\"], [0.5555555555555556, \"#d8576b\"], [0.6666666666666666, \"#ed7953\"], [0.7777777777777778, \"#fb9f3a\"], [0.8888888888888888, \"#fdca26\"], [1.0, \"#f0f921\"]], \"type\": \"histogram2dcontour\"}], \"mesh3d\": [{\"colorbar\": {\"outlinewidth\": 0, \"ticks\": \"\"}, \"type\": \"mesh3d\"}], \"parcoords\": [{\"line\": {\"colorbar\": {\"outlinewidth\": 0, \"ticks\": \"\"}}, \"type\": \"parcoords\"}], \"pie\": [{\"automargin\": true, \"type\": \"pie\"}], \"scatter\": [{\"marker\": {\"colorbar\": {\"outlinewidth\": 0, \"ticks\": \"\"}}, \"type\": \"scatter\"}], \"scatter3d\": [{\"line\": {\"colorbar\": {\"outlinewidth\": 0, \"ticks\": \"\"}}, \"marker\": {\"colorbar\": {\"outlinewidth\": 0, \"ticks\": \"\"}}, \"type\": \"scatter3d\"}], \"scattercarpet\": [{\"marker\": {\"colorbar\": {\"outlinewidth\": 0, \"ticks\": \"\"}}, \"type\": \"scattercarpet\"}], \"scattergeo\": [{\"marker\": {\"colorbar\": {\"outlinewidth\": 0, \"ticks\": \"\"}}, \"type\": \"scattergeo\"}], \"scattergl\": [{\"marker\": {\"colorbar\": {\"outlinewidth\": 0, \"ticks\": \"\"}}, \"type\": \"scattergl\"}], \"scattermapbox\": [{\"marker\": {\"colorbar\": {\"outlinewidth\": 0, \"ticks\": \"\"}}, \"type\": \"scattermapbox\"}], \"scatterpolar\": [{\"marker\": {\"colorbar\": {\"outlinewidth\": 0, \"ticks\": \"\"}}, \"type\": \"scatterpolar\"}], \"scatterpolargl\": [{\"marker\": {\"colorbar\": {\"outlinewidth\": 0, \"ticks\": \"\"}}, \"type\": \"scatterpolargl\"}], \"scatterternary\": [{\"marker\": {\"colorbar\": {\"outlinewidth\": 0, \"ticks\": \"\"}}, \"type\": \"scatterternary\"}], \"surface\": [{\"colorbar\": {\"outlinewidth\": 0, \"ticks\": \"\"}, \"colorscale\": [[0.0, \"#0d0887\"], [0.1111111111111111, \"#46039f\"], [0.2222222222222222, \"#7201a8\"], [0.3333333333333333, \"#9c179e\"], [0.4444444444444444, \"#bd3786\"], [0.5555555555555556, \"#d8576b\"], [0.6666666666666666, \"#ed7953\"], [0.7777777777777778, \"#fb9f3a\"], [0.8888888888888888, \"#fdca26\"], [1.0, \"#f0f921\"]], \"type\": \"surface\"}], \"table\": [{\"cells\": {\"fill\": {\"color\": \"#EBF0F8\"}, \"line\": {\"color\": \"white\"}}, \"header\": {\"fill\": {\"color\": \"#C8D4E3\"}, \"line\": {\"color\": \"white\"}}, \"type\": \"table\"}]}, \"layout\": {\"annotationdefaults\": {\"arrowcolor\": \"#2a3f5f\", \"arrowhead\": 0, \"arrowwidth\": 1}, \"autotypenumbers\": \"strict\", \"coloraxis\": {\"colorbar\": {\"outlinewidth\": 0, \"ticks\": \"\"}}, \"colorscale\": {\"diverging\": [[0, \"#8e0152\"], [0.1, \"#c51b7d\"], [0.2, \"#de77ae\"], [0.3, \"#f1b6da\"], [0.4, \"#fde0ef\"], [0.5, \"#f7f7f7\"], [0.6, \"#e6f5d0\"], [0.7, \"#b8e186\"], [0.8, \"#7fbc41\"], [0.9, \"#4d9221\"], [1, \"#276419\"]], \"sequential\": [[0.0, \"#0d0887\"], [0.1111111111111111, \"#46039f\"], [0.2222222222222222, \"#7201a8\"], [0.3333333333333333, \"#9c179e\"], [0.4444444444444444, \"#bd3786\"], [0.5555555555555556, \"#d8576b\"], [0.6666666666666666, \"#ed7953\"], [0.7777777777777778, \"#fb9f3a\"], [0.8888888888888888, \"#fdca26\"], [1.0, \"#f0f921\"]], \"sequentialminus\": [[0.0, \"#0d0887\"], [0.1111111111111111, \"#46039f\"], [0.2222222222222222, \"#7201a8\"], [0.3333333333333333, \"#9c179e\"], [0.4444444444444444, \"#bd3786\"], [0.5555555555555556, \"#d8576b\"], [0.6666666666666666, \"#ed7953\"], [0.7777777777777778, \"#fb9f3a\"], [0.8888888888888888, \"#fdca26\"], [1.0, \"#f0f921\"]]}, \"colorway\": [\"#636efa\", \"#EF553B\", \"#00cc96\", \"#ab63fa\", \"#FFA15A\", \"#19d3f3\", \"#FF6692\", \"#B6E880\", \"#FF97FF\", \"#FECB52\"], \"font\": {\"color\": \"#2a3f5f\"}, \"geo\": {\"bgcolor\": \"white\", \"lakecolor\": \"white\", \"landcolor\": \"#E5ECF6\", \"showlakes\": true, \"showland\": true, \"subunitcolor\": \"white\"}, \"hoverlabel\": {\"align\": \"left\"}, \"hovermode\": \"closest\", \"mapbox\": {\"style\": \"light\"}, \"paper_bgcolor\": \"white\", \"plot_bgcolor\": \"#E5ECF6\", \"polar\": {\"angularaxis\": {\"gridcolor\": \"white\", \"linecolor\": \"white\", \"ticks\": \"\"}, \"bgcolor\": \"#E5ECF6\", \"radialaxis\": {\"gridcolor\": \"white\", \"linecolor\": \"white\", \"ticks\": \"\"}}, \"scene\": {\"xaxis\": {\"backgroundcolor\": \"#E5ECF6\", \"gridcolor\": \"white\", \"gridwidth\": 2, \"linecolor\": \"white\", \"showbackground\": true, \"ticks\": \"\", \"zerolinecolor\": \"white\"}, \"yaxis\": {\"backgroundcolor\": \"#E5ECF6\", \"gridcolor\": \"white\", \"gridwidth\": 2, \"linecolor\": \"white\", \"showbackground\": true, \"ticks\": \"\", \"zerolinecolor\": \"white\"}, \"zaxis\": {\"backgroundcolor\": \"#E5ECF6\", \"gridcolor\": \"white\", \"gridwidth\": 2, \"linecolor\": \"white\", \"showbackground\": true, \"ticks\": \"\", \"zerolinecolor\": \"white\"}}, \"shapedefaults\": {\"line\": {\"color\": \"#2a3f5f\"}}, \"ternary\": {\"aaxis\": {\"gridcolor\": \"white\", \"linecolor\": \"white\", \"ticks\": \"\"}, \"baxis\": {\"gridcolor\": \"white\", \"linecolor\": \"white\", \"ticks\": \"\"}, \"bgcolor\": \"#E5ECF6\", \"caxis\": {\"gridcolor\": \"white\", \"linecolor\": \"white\", \"ticks\": \"\"}}, \"title\": {\"x\": 0.05}, \"xaxis\": {\"automargin\": true, \"gridcolor\": \"white\", \"linecolor\": \"white\", \"ticks\": \"\", \"title\": {\"standoff\": 15}, \"zerolinecolor\": \"white\", \"zerolinewidth\": 2}, \"yaxis\": {\"automargin\": true, \"gridcolor\": \"white\", \"linecolor\": \"white\", \"ticks\": \"\", \"title\": {\"standoff\": 15}, \"zerolinecolor\": \"white\", \"zerolinewidth\": 2}}}, \"yaxis\": {\"range\": [0, 4], \"title\": {\"text\": \"RMSE\"}}},                        {\"responsive\": true}                    ).then(function(){\n",
       "                            \n",
       "var gd = document.getElementById('b61ba0b7-cdaa-4ec2-ba1f-46073af92b12');\n",
       "var x = new MutationObserver(function (mutations, observer) {{\n",
       "        var display = window.getComputedStyle(gd).display;\n",
       "        if (!display || display === 'none') {{\n",
       "            console.log([gd, 'removed!']);\n",
       "            Plotly.purge(gd);\n",
       "            observer.disconnect();\n",
       "        }}\n",
       "}});\n",
       "\n",
       "// Listen for the removal of the full notebook cells\n",
       "var notebookContainer = gd.closest('#notebook-container');\n",
       "if (notebookContainer) {{\n",
       "    x.observe(notebookContainer, {childList: true});\n",
       "}}\n",
       "\n",
       "// Listen for the clearing of the current output cell\n",
       "var outputEl = gd.closest('.output');\n",
       "if (outputEl) {{\n",
       "    x.observe(outputEl, {childList: true});\n",
       "}}\n",
       "\n",
       "                        })                };                });            </script>        </div>"
      ]
     },
     "metadata": {},
     "output_type": "display_data"
    }
   ],
   "source": [
    "fig = compare_models(models)\n",
    "fig.update_yaxes(range = [0, 4], title = \"RMSE\")"
   ]
  },
  {
   "cell_type": "markdown",
   "metadata": {},
   "source": [
    "It looks like adding these new features about origin didn't really affect our model."
   ]
  },
  {
   "cell_type": "markdown",
   "metadata": {},
   "source": [
    "Let's try if we can gain any information from the `name` column. This column contains the make and model of each car. The models are fairly unique, so let's try to extract information about the brand (e.g. `ford`). The following cell shows the top 20 words that appear in this column."
   ]
  },
  {
   "cell_type": "code",
   "execution_count": 38,
   "metadata": {},
   "outputs": [
    {
     "data": {
      "text/plain": [
       "ford          44\n",
       "chevrolet     37\n",
       "plymouth      28\n",
       "(sw)          27\n",
       "dodge         26\n",
       "amc           26\n",
       "toyota        22\n",
       "custom        17\n",
       "datsun        17\n",
       "buick         16\n",
       "volkswagen    14\n",
       "pontiac       14\n",
       "brougham      10\n",
       "oldsmobile    10\n",
       "honda         10\n",
       "mercury       10\n",
       "rabbit        10\n",
       "corolla        9\n",
       "mazda          9\n",
       "corona         7\n",
       "Name: name, dtype: int64"
      ]
     },
     "execution_count": 38,
     "metadata": {},
     "output_type": "execute_result"
    }
   ],
   "source": [
    "tr['name'].str.split().explode().value_counts().head(20)"
   ]
  },
  {
   "cell_type": "markdown",
   "metadata": {},
   "source": [
    "It looks like there is at least one model here (`corolla`), but it does show the most common brands. We will add one column for each of these strings, with a `1` for a specific car indicating that the name of the car contains the string.\n",
    "\n",
    "Note: In practice, you would use `scikit-learn` or some other package, but we will do this manually just to be explicit about what we're doing."
   ]
  },
  {
   "cell_type": "code",
   "execution_count": 39,
   "metadata": {},
   "outputs": [
    {
     "data": {
      "text/html": [
       "<div>\n",
       "<style scoped>\n",
       "    .dataframe tbody tr th:only-of-type {\n",
       "        vertical-align: middle;\n",
       "    }\n",
       "\n",
       "    .dataframe tbody tr th {\n",
       "        vertical-align: top;\n",
       "    }\n",
       "\n",
       "    .dataframe thead th {\n",
       "        text-align: right;\n",
       "    }\n",
       "</style>\n",
       "<table border=\"1\" class=\"dataframe\">\n",
       "  <thead>\n",
       "    <tr style=\"text-align: right;\">\n",
       "      <th></th>\n",
       "      <th>cylinders</th>\n",
       "      <th>displacement</th>\n",
       "      <th>horsepower</th>\n",
       "      <th>weight</th>\n",
       "      <th>acceleration</th>\n",
       "      <th>model_year</th>\n",
       "      <th>displacement/cylinder</th>\n",
       "      <th>x0_europe</th>\n",
       "      <th>x0_japan</th>\n",
       "      <th>x0_usa</th>\n",
       "      <th>...</th>\n",
       "      <th>volkswagen</th>\n",
       "      <th>pontiac</th>\n",
       "      <th>brougham</th>\n",
       "      <th>oldsmobile</th>\n",
       "      <th>honda</th>\n",
       "      <th>mercury</th>\n",
       "      <th>rabbit</th>\n",
       "      <th>corolla</th>\n",
       "      <th>mazda</th>\n",
       "      <th>corona</th>\n",
       "    </tr>\n",
       "  </thead>\n",
       "  <tbody>\n",
       "    <tr>\n",
       "      <th>6</th>\n",
       "      <td>8</td>\n",
       "      <td>454.0</td>\n",
       "      <td>220.0</td>\n",
       "      <td>4354</td>\n",
       "      <td>9.0</td>\n",
       "      <td>70</td>\n",
       "      <td>56.750000</td>\n",
       "      <td>0.0</td>\n",
       "      <td>0.0</td>\n",
       "      <td>1.0</td>\n",
       "      <td>...</td>\n",
       "      <td>0.0</td>\n",
       "      <td>0.0</td>\n",
       "      <td>0.0</td>\n",
       "      <td>0.0</td>\n",
       "      <td>0.0</td>\n",
       "      <td>0.0</td>\n",
       "      <td>0.0</td>\n",
       "      <td>0.0</td>\n",
       "      <td>0.0</td>\n",
       "      <td>0.0</td>\n",
       "    </tr>\n",
       "    <tr>\n",
       "      <th>352</th>\n",
       "      <td>4</td>\n",
       "      <td>98.0</td>\n",
       "      <td>65.0</td>\n",
       "      <td>2380</td>\n",
       "      <td>20.7</td>\n",
       "      <td>81</td>\n",
       "      <td>24.500000</td>\n",
       "      <td>0.0</td>\n",
       "      <td>0.0</td>\n",
       "      <td>1.0</td>\n",
       "      <td>...</td>\n",
       "      <td>0.0</td>\n",
       "      <td>0.0</td>\n",
       "      <td>0.0</td>\n",
       "      <td>0.0</td>\n",
       "      <td>0.0</td>\n",
       "      <td>0.0</td>\n",
       "      <td>0.0</td>\n",
       "      <td>0.0</td>\n",
       "      <td>0.0</td>\n",
       "      <td>0.0</td>\n",
       "    </tr>\n",
       "    <tr>\n",
       "      <th>47</th>\n",
       "      <td>6</td>\n",
       "      <td>250.0</td>\n",
       "      <td>100.0</td>\n",
       "      <td>3282</td>\n",
       "      <td>15.0</td>\n",
       "      <td>71</td>\n",
       "      <td>41.666667</td>\n",
       "      <td>0.0</td>\n",
       "      <td>0.0</td>\n",
       "      <td>1.0</td>\n",
       "      <td>...</td>\n",
       "      <td>0.0</td>\n",
       "      <td>1.0</td>\n",
       "      <td>0.0</td>\n",
       "      <td>0.0</td>\n",
       "      <td>0.0</td>\n",
       "      <td>0.0</td>\n",
       "      <td>0.0</td>\n",
       "      <td>0.0</td>\n",
       "      <td>0.0</td>\n",
       "      <td>0.0</td>\n",
       "    </tr>\n",
       "    <tr>\n",
       "      <th>39</th>\n",
       "      <td>8</td>\n",
       "      <td>400.0</td>\n",
       "      <td>175.0</td>\n",
       "      <td>4464</td>\n",
       "      <td>11.5</td>\n",
       "      <td>71</td>\n",
       "      <td>50.000000</td>\n",
       "      <td>0.0</td>\n",
       "      <td>0.0</td>\n",
       "      <td>1.0</td>\n",
       "      <td>...</td>\n",
       "      <td>0.0</td>\n",
       "      <td>1.0</td>\n",
       "      <td>1.0</td>\n",
       "      <td>0.0</td>\n",
       "      <td>0.0</td>\n",
       "      <td>0.0</td>\n",
       "      <td>0.0</td>\n",
       "      <td>0.0</td>\n",
       "      <td>0.0</td>\n",
       "      <td>0.0</td>\n",
       "    </tr>\n",
       "    <tr>\n",
       "      <th>304</th>\n",
       "      <td>4</td>\n",
       "      <td>91.0</td>\n",
       "      <td>69.0</td>\n",
       "      <td>2130</td>\n",
       "      <td>14.7</td>\n",
       "      <td>79</td>\n",
       "      <td>22.750000</td>\n",
       "      <td>1.0</td>\n",
       "      <td>0.0</td>\n",
       "      <td>0.0</td>\n",
       "      <td>...</td>\n",
       "      <td>0.0</td>\n",
       "      <td>0.0</td>\n",
       "      <td>0.0</td>\n",
       "      <td>0.0</td>\n",
       "      <td>0.0</td>\n",
       "      <td>0.0</td>\n",
       "      <td>0.0</td>\n",
       "      <td>0.0</td>\n",
       "      <td>0.0</td>\n",
       "      <td>0.0</td>\n",
       "    </tr>\n",
       "    <tr>\n",
       "      <th>...</th>\n",
       "      <td>...</td>\n",
       "      <td>...</td>\n",
       "      <td>...</td>\n",
       "      <td>...</td>\n",
       "      <td>...</td>\n",
       "      <td>...</td>\n",
       "      <td>...</td>\n",
       "      <td>...</td>\n",
       "      <td>...</td>\n",
       "      <td>...</td>\n",
       "      <td>...</td>\n",
       "      <td>...</td>\n",
       "      <td>...</td>\n",
       "      <td>...</td>\n",
       "      <td>...</td>\n",
       "      <td>...</td>\n",
       "      <td>...</td>\n",
       "      <td>...</td>\n",
       "      <td>...</td>\n",
       "      <td>...</td>\n",
       "      <td>...</td>\n",
       "    </tr>\n",
       "    <tr>\n",
       "      <th>394</th>\n",
       "      <td>4</td>\n",
       "      <td>97.0</td>\n",
       "      <td>52.0</td>\n",
       "      <td>2130</td>\n",
       "      <td>24.6</td>\n",
       "      <td>82</td>\n",
       "      <td>24.250000</td>\n",
       "      <td>1.0</td>\n",
       "      <td>0.0</td>\n",
       "      <td>0.0</td>\n",
       "      <td>...</td>\n",
       "      <td>0.0</td>\n",
       "      <td>0.0</td>\n",
       "      <td>0.0</td>\n",
       "      <td>0.0</td>\n",
       "      <td>0.0</td>\n",
       "      <td>0.0</td>\n",
       "      <td>0.0</td>\n",
       "      <td>0.0</td>\n",
       "      <td>0.0</td>\n",
       "      <td>0.0</td>\n",
       "    </tr>\n",
       "    <tr>\n",
       "      <th>258</th>\n",
       "      <td>6</td>\n",
       "      <td>231.0</td>\n",
       "      <td>105.0</td>\n",
       "      <td>3380</td>\n",
       "      <td>15.8</td>\n",
       "      <td>78</td>\n",
       "      <td>38.500000</td>\n",
       "      <td>0.0</td>\n",
       "      <td>0.0</td>\n",
       "      <td>1.0</td>\n",
       "      <td>...</td>\n",
       "      <td>0.0</td>\n",
       "      <td>0.0</td>\n",
       "      <td>0.0</td>\n",
       "      <td>0.0</td>\n",
       "      <td>0.0</td>\n",
       "      <td>0.0</td>\n",
       "      <td>0.0</td>\n",
       "      <td>0.0</td>\n",
       "      <td>0.0</td>\n",
       "      <td>0.0</td>\n",
       "    </tr>\n",
       "    <tr>\n",
       "      <th>297</th>\n",
       "      <td>5</td>\n",
       "      <td>183.0</td>\n",
       "      <td>77.0</td>\n",
       "      <td>3530</td>\n",
       "      <td>20.1</td>\n",
       "      <td>79</td>\n",
       "      <td>36.600000</td>\n",
       "      <td>1.0</td>\n",
       "      <td>0.0</td>\n",
       "      <td>0.0</td>\n",
       "      <td>...</td>\n",
       "      <td>0.0</td>\n",
       "      <td>0.0</td>\n",
       "      <td>0.0</td>\n",
       "      <td>0.0</td>\n",
       "      <td>0.0</td>\n",
       "      <td>0.0</td>\n",
       "      <td>0.0</td>\n",
       "      <td>0.0</td>\n",
       "      <td>0.0</td>\n",
       "      <td>0.0</td>\n",
       "    </tr>\n",
       "    <tr>\n",
       "      <th>23</th>\n",
       "      <td>4</td>\n",
       "      <td>121.0</td>\n",
       "      <td>113.0</td>\n",
       "      <td>2234</td>\n",
       "      <td>12.5</td>\n",
       "      <td>70</td>\n",
       "      <td>30.250000</td>\n",
       "      <td>1.0</td>\n",
       "      <td>0.0</td>\n",
       "      <td>0.0</td>\n",
       "      <td>...</td>\n",
       "      <td>0.0</td>\n",
       "      <td>0.0</td>\n",
       "      <td>0.0</td>\n",
       "      <td>0.0</td>\n",
       "      <td>0.0</td>\n",
       "      <td>0.0</td>\n",
       "      <td>0.0</td>\n",
       "      <td>0.0</td>\n",
       "      <td>0.0</td>\n",
       "      <td>0.0</td>\n",
       "    </tr>\n",
       "    <tr>\n",
       "      <th>83</th>\n",
       "      <td>4</td>\n",
       "      <td>98.0</td>\n",
       "      <td>80.0</td>\n",
       "      <td>2164</td>\n",
       "      <td>15.0</td>\n",
       "      <td>72</td>\n",
       "      <td>24.500000</td>\n",
       "      <td>0.0</td>\n",
       "      <td>0.0</td>\n",
       "      <td>1.0</td>\n",
       "      <td>...</td>\n",
       "      <td>0.0</td>\n",
       "      <td>0.0</td>\n",
       "      <td>0.0</td>\n",
       "      <td>0.0</td>\n",
       "      <td>0.0</td>\n",
       "      <td>0.0</td>\n",
       "      <td>0.0</td>\n",
       "      <td>0.0</td>\n",
       "      <td>0.0</td>\n",
       "      <td>0.0</td>\n",
       "    </tr>\n",
       "  </tbody>\n",
       "</table>\n",
       "<p>352 rows × 30 columns</p>\n",
       "</div>"
      ],
      "text/plain": [
       "     cylinders  displacement  horsepower  weight  acceleration  model_year  \\\n",
       "6            8         454.0       220.0    4354           9.0          70   \n",
       "352          4          98.0        65.0    2380          20.7          81   \n",
       "47           6         250.0       100.0    3282          15.0          71   \n",
       "39           8         400.0       175.0    4464          11.5          71   \n",
       "304          4          91.0        69.0    2130          14.7          79   \n",
       "..         ...           ...         ...     ...           ...         ...   \n",
       "394          4          97.0        52.0    2130          24.6          82   \n",
       "258          6         231.0       105.0    3380          15.8          78   \n",
       "297          5         183.0        77.0    3530          20.1          79   \n",
       "23           4         121.0       113.0    2234          12.5          70   \n",
       "83           4          98.0        80.0    2164          15.0          72   \n",
       "\n",
       "     displacement/cylinder  x0_europe  x0_japan  x0_usa  ...  volkswagen  \\\n",
       "6                56.750000        0.0       0.0     1.0  ...         0.0   \n",
       "352              24.500000        0.0       0.0     1.0  ...         0.0   \n",
       "47               41.666667        0.0       0.0     1.0  ...         0.0   \n",
       "39               50.000000        0.0       0.0     1.0  ...         0.0   \n",
       "304              22.750000        1.0       0.0     0.0  ...         0.0   \n",
       "..                     ...        ...       ...     ...  ...         ...   \n",
       "394              24.250000        1.0       0.0     0.0  ...         0.0   \n",
       "258              38.500000        0.0       0.0     1.0  ...         0.0   \n",
       "297              36.600000        1.0       0.0     0.0  ...         0.0   \n",
       "23               30.250000        1.0       0.0     0.0  ...         0.0   \n",
       "83               24.500000        0.0       0.0     1.0  ...         0.0   \n",
       "\n",
       "     pontiac  brougham  oldsmobile  honda  mercury  rabbit  corolla  mazda  \\\n",
       "6        0.0       0.0         0.0    0.0      0.0     0.0      0.0    0.0   \n",
       "352      0.0       0.0         0.0    0.0      0.0     0.0      0.0    0.0   \n",
       "47       1.0       0.0         0.0    0.0      0.0     0.0      0.0    0.0   \n",
       "39       1.0       1.0         0.0    0.0      0.0     0.0      0.0    0.0   \n",
       "304      0.0       0.0         0.0    0.0      0.0     0.0      0.0    0.0   \n",
       "..       ...       ...         ...    ...      ...     ...      ...    ...   \n",
       "394      0.0       0.0         0.0    0.0      0.0     0.0      0.0    0.0   \n",
       "258      0.0       0.0         0.0    0.0      0.0     0.0      0.0    0.0   \n",
       "297      0.0       0.0         0.0    0.0      0.0     0.0      0.0    0.0   \n",
       "23       0.0       0.0         0.0    0.0      0.0     0.0      0.0    0.0   \n",
       "83       0.0       0.0         0.0    0.0      0.0     0.0      0.0    0.0   \n",
       "\n",
       "     corona  \n",
       "6       0.0  \n",
       "352     0.0  \n",
       "47      0.0  \n",
       "39      0.0  \n",
       "304     0.0  \n",
       "..      ...  \n",
       "394     0.0  \n",
       "258     0.0  \n",
       "297     0.0  \n",
       "23      0.0  \n",
       "83      0.0  \n",
       "\n",
       "[352 rows x 30 columns]"
      ]
     },
     "execution_count": 39,
     "metadata": {},
     "output_type": "execute_result"
    }
   ],
   "source": [
    "brands = tr['name'].str.split().explode().value_counts().head(20).index\n",
    "\n",
    "def brands_design_matrix(df):\n",
    "    X = origin_design_matrix(df)\n",
    "    for brand in brands:\n",
    "        X[brand] = df['name'].str.contains(brand, regex = False).astype(float)\n",
    "    return X\n",
    "\n",
    "models['quant+dc+o+b'] = (brands_design_matrix, LinearRegression())\n",
    "\n",
    "brands_design_matrix(tr)"
   ]
  },
  {
   "cell_type": "code",
   "execution_count": 40,
   "metadata": {},
   "outputs": [
    {
     "data": {
      "application/vnd.plotly.v1+json": {
       "config": {
        "plotlyServerURL": "https://plot.ly"
       },
       "data": [
        {
         "name": "Training RMSE",
         "type": "bar",
         "x": [
          "quant",
          "quant+dc",
          "quant+dc+o",
          "quant+dc+o+b"
         ],
         "y": [
          3.374582699942459,
          3.033309344625912,
          3.012941172853172,
          2.867381563556755
         ]
        },
        {
         "name": "CV RMSE",
         "type": "bar",
         "x": [
          "quant",
          "quant+dc",
          "quant+dc+o",
          "quant+dc+o+b"
         ],
         "y": [
          3.4559015156162536,
          3.1113159765045717,
          3.120728518015189,
          3.225417481246393
         ]
        }
       ],
       "layout": {
        "template": {
         "data": {
          "bar": [
           {
            "error_x": {
             "color": "#2a3f5f"
            },
            "error_y": {
             "color": "#2a3f5f"
            },
            "marker": {
             "line": {
              "color": "#E5ECF6",
              "width": 0.5
             }
            },
            "type": "bar"
           }
          ],
          "barpolar": [
           {
            "marker": {
             "line": {
              "color": "#E5ECF6",
              "width": 0.5
             }
            },
            "type": "barpolar"
           }
          ],
          "carpet": [
           {
            "aaxis": {
             "endlinecolor": "#2a3f5f",
             "gridcolor": "white",
             "linecolor": "white",
             "minorgridcolor": "white",
             "startlinecolor": "#2a3f5f"
            },
            "baxis": {
             "endlinecolor": "#2a3f5f",
             "gridcolor": "white",
             "linecolor": "white",
             "minorgridcolor": "white",
             "startlinecolor": "#2a3f5f"
            },
            "type": "carpet"
           }
          ],
          "choropleth": [
           {
            "colorbar": {
             "outlinewidth": 0,
             "ticks": ""
            },
            "type": "choropleth"
           }
          ],
          "contour": [
           {
            "colorbar": {
             "outlinewidth": 0,
             "ticks": ""
            },
            "colorscale": [
             [
              0,
              "#0d0887"
             ],
             [
              0.1111111111111111,
              "#46039f"
             ],
             [
              0.2222222222222222,
              "#7201a8"
             ],
             [
              0.3333333333333333,
              "#9c179e"
             ],
             [
              0.4444444444444444,
              "#bd3786"
             ],
             [
              0.5555555555555556,
              "#d8576b"
             ],
             [
              0.6666666666666666,
              "#ed7953"
             ],
             [
              0.7777777777777778,
              "#fb9f3a"
             ],
             [
              0.8888888888888888,
              "#fdca26"
             ],
             [
              1,
              "#f0f921"
             ]
            ],
            "type": "contour"
           }
          ],
          "contourcarpet": [
           {
            "colorbar": {
             "outlinewidth": 0,
             "ticks": ""
            },
            "type": "contourcarpet"
           }
          ],
          "heatmap": [
           {
            "colorbar": {
             "outlinewidth": 0,
             "ticks": ""
            },
            "colorscale": [
             [
              0,
              "#0d0887"
             ],
             [
              0.1111111111111111,
              "#46039f"
             ],
             [
              0.2222222222222222,
              "#7201a8"
             ],
             [
              0.3333333333333333,
              "#9c179e"
             ],
             [
              0.4444444444444444,
              "#bd3786"
             ],
             [
              0.5555555555555556,
              "#d8576b"
             ],
             [
              0.6666666666666666,
              "#ed7953"
             ],
             [
              0.7777777777777778,
              "#fb9f3a"
             ],
             [
              0.8888888888888888,
              "#fdca26"
             ],
             [
              1,
              "#f0f921"
             ]
            ],
            "type": "heatmap"
           }
          ],
          "heatmapgl": [
           {
            "colorbar": {
             "outlinewidth": 0,
             "ticks": ""
            },
            "colorscale": [
             [
              0,
              "#0d0887"
             ],
             [
              0.1111111111111111,
              "#46039f"
             ],
             [
              0.2222222222222222,
              "#7201a8"
             ],
             [
              0.3333333333333333,
              "#9c179e"
             ],
             [
              0.4444444444444444,
              "#bd3786"
             ],
             [
              0.5555555555555556,
              "#d8576b"
             ],
             [
              0.6666666666666666,
              "#ed7953"
             ],
             [
              0.7777777777777778,
              "#fb9f3a"
             ],
             [
              0.8888888888888888,
              "#fdca26"
             ],
             [
              1,
              "#f0f921"
             ]
            ],
            "type": "heatmapgl"
           }
          ],
          "histogram": [
           {
            "marker": {
             "colorbar": {
              "outlinewidth": 0,
              "ticks": ""
             }
            },
            "type": "histogram"
           }
          ],
          "histogram2d": [
           {
            "colorbar": {
             "outlinewidth": 0,
             "ticks": ""
            },
            "colorscale": [
             [
              0,
              "#0d0887"
             ],
             [
              0.1111111111111111,
              "#46039f"
             ],
             [
              0.2222222222222222,
              "#7201a8"
             ],
             [
              0.3333333333333333,
              "#9c179e"
             ],
             [
              0.4444444444444444,
              "#bd3786"
             ],
             [
              0.5555555555555556,
              "#d8576b"
             ],
             [
              0.6666666666666666,
              "#ed7953"
             ],
             [
              0.7777777777777778,
              "#fb9f3a"
             ],
             [
              0.8888888888888888,
              "#fdca26"
             ],
             [
              1,
              "#f0f921"
             ]
            ],
            "type": "histogram2d"
           }
          ],
          "histogram2dcontour": [
           {
            "colorbar": {
             "outlinewidth": 0,
             "ticks": ""
            },
            "colorscale": [
             [
              0,
              "#0d0887"
             ],
             [
              0.1111111111111111,
              "#46039f"
             ],
             [
              0.2222222222222222,
              "#7201a8"
             ],
             [
              0.3333333333333333,
              "#9c179e"
             ],
             [
              0.4444444444444444,
              "#bd3786"
             ],
             [
              0.5555555555555556,
              "#d8576b"
             ],
             [
              0.6666666666666666,
              "#ed7953"
             ],
             [
              0.7777777777777778,
              "#fb9f3a"
             ],
             [
              0.8888888888888888,
              "#fdca26"
             ],
             [
              1,
              "#f0f921"
             ]
            ],
            "type": "histogram2dcontour"
           }
          ],
          "mesh3d": [
           {
            "colorbar": {
             "outlinewidth": 0,
             "ticks": ""
            },
            "type": "mesh3d"
           }
          ],
          "parcoords": [
           {
            "line": {
             "colorbar": {
              "outlinewidth": 0,
              "ticks": ""
             }
            },
            "type": "parcoords"
           }
          ],
          "pie": [
           {
            "automargin": true,
            "type": "pie"
           }
          ],
          "scatter": [
           {
            "marker": {
             "colorbar": {
              "outlinewidth": 0,
              "ticks": ""
             }
            },
            "type": "scatter"
           }
          ],
          "scatter3d": [
           {
            "line": {
             "colorbar": {
              "outlinewidth": 0,
              "ticks": ""
             }
            },
            "marker": {
             "colorbar": {
              "outlinewidth": 0,
              "ticks": ""
             }
            },
            "type": "scatter3d"
           }
          ],
          "scattercarpet": [
           {
            "marker": {
             "colorbar": {
              "outlinewidth": 0,
              "ticks": ""
             }
            },
            "type": "scattercarpet"
           }
          ],
          "scattergeo": [
           {
            "marker": {
             "colorbar": {
              "outlinewidth": 0,
              "ticks": ""
             }
            },
            "type": "scattergeo"
           }
          ],
          "scattergl": [
           {
            "marker": {
             "colorbar": {
              "outlinewidth": 0,
              "ticks": ""
             }
            },
            "type": "scattergl"
           }
          ],
          "scattermapbox": [
           {
            "marker": {
             "colorbar": {
              "outlinewidth": 0,
              "ticks": ""
             }
            },
            "type": "scattermapbox"
           }
          ],
          "scatterpolar": [
           {
            "marker": {
             "colorbar": {
              "outlinewidth": 0,
              "ticks": ""
             }
            },
            "type": "scatterpolar"
           }
          ],
          "scatterpolargl": [
           {
            "marker": {
             "colorbar": {
              "outlinewidth": 0,
              "ticks": ""
             }
            },
            "type": "scatterpolargl"
           }
          ],
          "scatterternary": [
           {
            "marker": {
             "colorbar": {
              "outlinewidth": 0,
              "ticks": ""
             }
            },
            "type": "scatterternary"
           }
          ],
          "surface": [
           {
            "colorbar": {
             "outlinewidth": 0,
             "ticks": ""
            },
            "colorscale": [
             [
              0,
              "#0d0887"
             ],
             [
              0.1111111111111111,
              "#46039f"
             ],
             [
              0.2222222222222222,
              "#7201a8"
             ],
             [
              0.3333333333333333,
              "#9c179e"
             ],
             [
              0.4444444444444444,
              "#bd3786"
             ],
             [
              0.5555555555555556,
              "#d8576b"
             ],
             [
              0.6666666666666666,
              "#ed7953"
             ],
             [
              0.7777777777777778,
              "#fb9f3a"
             ],
             [
              0.8888888888888888,
              "#fdca26"
             ],
             [
              1,
              "#f0f921"
             ]
            ],
            "type": "surface"
           }
          ],
          "table": [
           {
            "cells": {
             "fill": {
              "color": "#EBF0F8"
             },
             "line": {
              "color": "white"
             }
            },
            "header": {
             "fill": {
              "color": "#C8D4E3"
             },
             "line": {
              "color": "white"
             }
            },
            "type": "table"
           }
          ]
         },
         "layout": {
          "annotationdefaults": {
           "arrowcolor": "#2a3f5f",
           "arrowhead": 0,
           "arrowwidth": 1
          },
          "autotypenumbers": "strict",
          "coloraxis": {
           "colorbar": {
            "outlinewidth": 0,
            "ticks": ""
           }
          },
          "colorscale": {
           "diverging": [
            [
             0,
             "#8e0152"
            ],
            [
             0.1,
             "#c51b7d"
            ],
            [
             0.2,
             "#de77ae"
            ],
            [
             0.3,
             "#f1b6da"
            ],
            [
             0.4,
             "#fde0ef"
            ],
            [
             0.5,
             "#f7f7f7"
            ],
            [
             0.6,
             "#e6f5d0"
            ],
            [
             0.7,
             "#b8e186"
            ],
            [
             0.8,
             "#7fbc41"
            ],
            [
             0.9,
             "#4d9221"
            ],
            [
             1,
             "#276419"
            ]
           ],
           "sequential": [
            [
             0,
             "#0d0887"
            ],
            [
             0.1111111111111111,
             "#46039f"
            ],
            [
             0.2222222222222222,
             "#7201a8"
            ],
            [
             0.3333333333333333,
             "#9c179e"
            ],
            [
             0.4444444444444444,
             "#bd3786"
            ],
            [
             0.5555555555555556,
             "#d8576b"
            ],
            [
             0.6666666666666666,
             "#ed7953"
            ],
            [
             0.7777777777777778,
             "#fb9f3a"
            ],
            [
             0.8888888888888888,
             "#fdca26"
            ],
            [
             1,
             "#f0f921"
            ]
           ],
           "sequentialminus": [
            [
             0,
             "#0d0887"
            ],
            [
             0.1111111111111111,
             "#46039f"
            ],
            [
             0.2222222222222222,
             "#7201a8"
            ],
            [
             0.3333333333333333,
             "#9c179e"
            ],
            [
             0.4444444444444444,
             "#bd3786"
            ],
            [
             0.5555555555555556,
             "#d8576b"
            ],
            [
             0.6666666666666666,
             "#ed7953"
            ],
            [
             0.7777777777777778,
             "#fb9f3a"
            ],
            [
             0.8888888888888888,
             "#fdca26"
            ],
            [
             1,
             "#f0f921"
            ]
           ]
          },
          "colorway": [
           "#636efa",
           "#EF553B",
           "#00cc96",
           "#ab63fa",
           "#FFA15A",
           "#19d3f3",
           "#FF6692",
           "#B6E880",
           "#FF97FF",
           "#FECB52"
          ],
          "font": {
           "color": "#2a3f5f"
          },
          "geo": {
           "bgcolor": "white",
           "lakecolor": "white",
           "landcolor": "#E5ECF6",
           "showlakes": true,
           "showland": true,
           "subunitcolor": "white"
          },
          "hoverlabel": {
           "align": "left"
          },
          "hovermode": "closest",
          "mapbox": {
           "style": "light"
          },
          "paper_bgcolor": "white",
          "plot_bgcolor": "#E5ECF6",
          "polar": {
           "angularaxis": {
            "gridcolor": "white",
            "linecolor": "white",
            "ticks": ""
           },
           "bgcolor": "#E5ECF6",
           "radialaxis": {
            "gridcolor": "white",
            "linecolor": "white",
            "ticks": ""
           }
          },
          "scene": {
           "xaxis": {
            "backgroundcolor": "#E5ECF6",
            "gridcolor": "white",
            "gridwidth": 2,
            "linecolor": "white",
            "showbackground": true,
            "ticks": "",
            "zerolinecolor": "white"
           },
           "yaxis": {
            "backgroundcolor": "#E5ECF6",
            "gridcolor": "white",
            "gridwidth": 2,
            "linecolor": "white",
            "showbackground": true,
            "ticks": "",
            "zerolinecolor": "white"
           },
           "zaxis": {
            "backgroundcolor": "#E5ECF6",
            "gridcolor": "white",
            "gridwidth": 2,
            "linecolor": "white",
            "showbackground": true,
            "ticks": "",
            "zerolinecolor": "white"
           }
          },
          "shapedefaults": {
           "line": {
            "color": "#2a3f5f"
           }
          },
          "ternary": {
           "aaxis": {
            "gridcolor": "white",
            "linecolor": "white",
            "ticks": ""
           },
           "baxis": {
            "gridcolor": "white",
            "linecolor": "white",
            "ticks": ""
           },
           "bgcolor": "#E5ECF6",
           "caxis": {
            "gridcolor": "white",
            "linecolor": "white",
            "ticks": ""
           }
          },
          "title": {
           "x": 0.05
          },
          "xaxis": {
           "automargin": true,
           "gridcolor": "white",
           "linecolor": "white",
           "ticks": "",
           "title": {
            "standoff": 15
           },
           "zerolinecolor": "white",
           "zerolinewidth": 2
          },
          "yaxis": {
           "automargin": true,
           "gridcolor": "white",
           "linecolor": "white",
           "ticks": "",
           "title": {
            "standoff": 15
           },
           "zerolinecolor": "white",
           "zerolinewidth": 2
          }
         }
        },
        "yaxis": {
         "range": [
          0,
          4
         ],
         "title": {
          "text": "RMSE"
         }
        }
       }
      },
      "text/html": [
       "<div>                            <div id=\"c9af8403-2e03-402e-a6bf-13341c7a860c\" class=\"plotly-graph-div\" style=\"height:525px; width:100%;\"></div>            <script type=\"text/javascript\">                require([\"plotly\"], function(Plotly) {                    window.PLOTLYENV=window.PLOTLYENV || {};                                    if (document.getElementById(\"c9af8403-2e03-402e-a6bf-13341c7a860c\")) {                    Plotly.newPlot(                        \"c9af8403-2e03-402e-a6bf-13341c7a860c\",                        [{\"name\": \"Training RMSE\", \"type\": \"bar\", \"x\": [\"quant\", \"quant+dc\", \"quant+dc+o\", \"quant+dc+o+b\"], \"y\": [3.374582699942459, 3.033309344625912, 3.012941172853172, 2.867381563556755]}, {\"name\": \"CV RMSE\", \"type\": \"bar\", \"x\": [\"quant\", \"quant+dc\", \"quant+dc+o\", \"quant+dc+o+b\"], \"y\": [3.4559015156162536, 3.1113159765045717, 3.120728518015189, 3.225417481246393]}],                        {\"template\": {\"data\": {\"bar\": [{\"error_x\": {\"color\": \"#2a3f5f\"}, \"error_y\": {\"color\": \"#2a3f5f\"}, \"marker\": {\"line\": {\"color\": \"#E5ECF6\", \"width\": 0.5}}, \"type\": \"bar\"}], \"barpolar\": [{\"marker\": {\"line\": {\"color\": \"#E5ECF6\", \"width\": 0.5}}, \"type\": \"barpolar\"}], \"carpet\": [{\"aaxis\": {\"endlinecolor\": \"#2a3f5f\", \"gridcolor\": \"white\", \"linecolor\": \"white\", \"minorgridcolor\": \"white\", \"startlinecolor\": \"#2a3f5f\"}, \"baxis\": {\"endlinecolor\": \"#2a3f5f\", \"gridcolor\": \"white\", \"linecolor\": \"white\", \"minorgridcolor\": \"white\", \"startlinecolor\": \"#2a3f5f\"}, \"type\": \"carpet\"}], \"choropleth\": [{\"colorbar\": {\"outlinewidth\": 0, \"ticks\": \"\"}, \"type\": \"choropleth\"}], \"contour\": [{\"colorbar\": {\"outlinewidth\": 0, \"ticks\": \"\"}, \"colorscale\": [[0.0, \"#0d0887\"], [0.1111111111111111, \"#46039f\"], [0.2222222222222222, \"#7201a8\"], [0.3333333333333333, \"#9c179e\"], [0.4444444444444444, \"#bd3786\"], [0.5555555555555556, \"#d8576b\"], [0.6666666666666666, \"#ed7953\"], [0.7777777777777778, \"#fb9f3a\"], [0.8888888888888888, \"#fdca26\"], [1.0, \"#f0f921\"]], \"type\": \"contour\"}], \"contourcarpet\": [{\"colorbar\": {\"outlinewidth\": 0, \"ticks\": \"\"}, \"type\": \"contourcarpet\"}], \"heatmap\": [{\"colorbar\": {\"outlinewidth\": 0, \"ticks\": \"\"}, \"colorscale\": [[0.0, \"#0d0887\"], [0.1111111111111111, \"#46039f\"], [0.2222222222222222, \"#7201a8\"], [0.3333333333333333, \"#9c179e\"], [0.4444444444444444, \"#bd3786\"], [0.5555555555555556, \"#d8576b\"], [0.6666666666666666, \"#ed7953\"], [0.7777777777777778, \"#fb9f3a\"], [0.8888888888888888, \"#fdca26\"], [1.0, \"#f0f921\"]], \"type\": \"heatmap\"}], \"heatmapgl\": [{\"colorbar\": {\"outlinewidth\": 0, \"ticks\": \"\"}, \"colorscale\": [[0.0, \"#0d0887\"], [0.1111111111111111, \"#46039f\"], [0.2222222222222222, \"#7201a8\"], [0.3333333333333333, \"#9c179e\"], [0.4444444444444444, \"#bd3786\"], [0.5555555555555556, \"#d8576b\"], [0.6666666666666666, \"#ed7953\"], [0.7777777777777778, \"#fb9f3a\"], [0.8888888888888888, \"#fdca26\"], [1.0, \"#f0f921\"]], \"type\": \"heatmapgl\"}], \"histogram\": [{\"marker\": {\"colorbar\": {\"outlinewidth\": 0, \"ticks\": \"\"}}, \"type\": \"histogram\"}], \"histogram2d\": [{\"colorbar\": {\"outlinewidth\": 0, \"ticks\": \"\"}, \"colorscale\": [[0.0, \"#0d0887\"], [0.1111111111111111, \"#46039f\"], [0.2222222222222222, \"#7201a8\"], [0.3333333333333333, \"#9c179e\"], [0.4444444444444444, \"#bd3786\"], [0.5555555555555556, \"#d8576b\"], [0.6666666666666666, \"#ed7953\"], [0.7777777777777778, \"#fb9f3a\"], [0.8888888888888888, \"#fdca26\"], [1.0, \"#f0f921\"]], \"type\": \"histogram2d\"}], \"histogram2dcontour\": [{\"colorbar\": {\"outlinewidth\": 0, \"ticks\": \"\"}, \"colorscale\": [[0.0, \"#0d0887\"], [0.1111111111111111, \"#46039f\"], [0.2222222222222222, \"#7201a8\"], [0.3333333333333333, \"#9c179e\"], [0.4444444444444444, \"#bd3786\"], [0.5555555555555556, \"#d8576b\"], [0.6666666666666666, \"#ed7953\"], [0.7777777777777778, \"#fb9f3a\"], [0.8888888888888888, \"#fdca26\"], [1.0, \"#f0f921\"]], \"type\": \"histogram2dcontour\"}], \"mesh3d\": [{\"colorbar\": {\"outlinewidth\": 0, \"ticks\": \"\"}, \"type\": \"mesh3d\"}], \"parcoords\": [{\"line\": {\"colorbar\": {\"outlinewidth\": 0, \"ticks\": \"\"}}, \"type\": \"parcoords\"}], \"pie\": [{\"automargin\": true, \"type\": \"pie\"}], \"scatter\": [{\"marker\": {\"colorbar\": {\"outlinewidth\": 0, \"ticks\": \"\"}}, \"type\": \"scatter\"}], \"scatter3d\": [{\"line\": {\"colorbar\": {\"outlinewidth\": 0, \"ticks\": \"\"}}, \"marker\": {\"colorbar\": {\"outlinewidth\": 0, \"ticks\": \"\"}}, \"type\": \"scatter3d\"}], \"scattercarpet\": [{\"marker\": {\"colorbar\": {\"outlinewidth\": 0, \"ticks\": \"\"}}, \"type\": \"scattercarpet\"}], \"scattergeo\": [{\"marker\": {\"colorbar\": {\"outlinewidth\": 0, \"ticks\": \"\"}}, \"type\": \"scattergeo\"}], \"scattergl\": [{\"marker\": {\"colorbar\": {\"outlinewidth\": 0, \"ticks\": \"\"}}, \"type\": \"scattergl\"}], \"scattermapbox\": [{\"marker\": {\"colorbar\": {\"outlinewidth\": 0, \"ticks\": \"\"}}, \"type\": \"scattermapbox\"}], \"scatterpolar\": [{\"marker\": {\"colorbar\": {\"outlinewidth\": 0, \"ticks\": \"\"}}, \"type\": \"scatterpolar\"}], \"scatterpolargl\": [{\"marker\": {\"colorbar\": {\"outlinewidth\": 0, \"ticks\": \"\"}}, \"type\": \"scatterpolargl\"}], \"scatterternary\": [{\"marker\": {\"colorbar\": {\"outlinewidth\": 0, \"ticks\": \"\"}}, \"type\": \"scatterternary\"}], \"surface\": [{\"colorbar\": {\"outlinewidth\": 0, \"ticks\": \"\"}, \"colorscale\": [[0.0, \"#0d0887\"], [0.1111111111111111, \"#46039f\"], [0.2222222222222222, \"#7201a8\"], [0.3333333333333333, \"#9c179e\"], [0.4444444444444444, \"#bd3786\"], [0.5555555555555556, \"#d8576b\"], [0.6666666666666666, \"#ed7953\"], [0.7777777777777778, \"#fb9f3a\"], [0.8888888888888888, \"#fdca26\"], [1.0, \"#f0f921\"]], \"type\": \"surface\"}], \"table\": [{\"cells\": {\"fill\": {\"color\": \"#EBF0F8\"}, \"line\": {\"color\": \"white\"}}, \"header\": {\"fill\": {\"color\": \"#C8D4E3\"}, \"line\": {\"color\": \"white\"}}, \"type\": \"table\"}]}, \"layout\": {\"annotationdefaults\": {\"arrowcolor\": \"#2a3f5f\", \"arrowhead\": 0, \"arrowwidth\": 1}, \"autotypenumbers\": \"strict\", \"coloraxis\": {\"colorbar\": {\"outlinewidth\": 0, \"ticks\": \"\"}}, \"colorscale\": {\"diverging\": [[0, \"#8e0152\"], [0.1, \"#c51b7d\"], [0.2, \"#de77ae\"], [0.3, \"#f1b6da\"], [0.4, \"#fde0ef\"], [0.5, \"#f7f7f7\"], [0.6, \"#e6f5d0\"], [0.7, \"#b8e186\"], [0.8, \"#7fbc41\"], [0.9, \"#4d9221\"], [1, \"#276419\"]], \"sequential\": [[0.0, \"#0d0887\"], [0.1111111111111111, \"#46039f\"], [0.2222222222222222, \"#7201a8\"], [0.3333333333333333, \"#9c179e\"], [0.4444444444444444, \"#bd3786\"], [0.5555555555555556, \"#d8576b\"], [0.6666666666666666, \"#ed7953\"], [0.7777777777777778, \"#fb9f3a\"], [0.8888888888888888, \"#fdca26\"], [1.0, \"#f0f921\"]], \"sequentialminus\": [[0.0, \"#0d0887\"], [0.1111111111111111, \"#46039f\"], [0.2222222222222222, \"#7201a8\"], [0.3333333333333333, \"#9c179e\"], [0.4444444444444444, \"#bd3786\"], [0.5555555555555556, \"#d8576b\"], [0.6666666666666666, \"#ed7953\"], [0.7777777777777778, \"#fb9f3a\"], [0.8888888888888888, \"#fdca26\"], [1.0, \"#f0f921\"]]}, \"colorway\": [\"#636efa\", \"#EF553B\", \"#00cc96\", \"#ab63fa\", \"#FFA15A\", \"#19d3f3\", \"#FF6692\", \"#B6E880\", \"#FF97FF\", \"#FECB52\"], \"font\": {\"color\": \"#2a3f5f\"}, \"geo\": {\"bgcolor\": \"white\", \"lakecolor\": \"white\", \"landcolor\": \"#E5ECF6\", \"showlakes\": true, \"showland\": true, \"subunitcolor\": \"white\"}, \"hoverlabel\": {\"align\": \"left\"}, \"hovermode\": \"closest\", \"mapbox\": {\"style\": \"light\"}, \"paper_bgcolor\": \"white\", \"plot_bgcolor\": \"#E5ECF6\", \"polar\": {\"angularaxis\": {\"gridcolor\": \"white\", \"linecolor\": \"white\", \"ticks\": \"\"}, \"bgcolor\": \"#E5ECF6\", \"radialaxis\": {\"gridcolor\": \"white\", \"linecolor\": \"white\", \"ticks\": \"\"}}, \"scene\": {\"xaxis\": {\"backgroundcolor\": \"#E5ECF6\", \"gridcolor\": \"white\", \"gridwidth\": 2, \"linecolor\": \"white\", \"showbackground\": true, \"ticks\": \"\", \"zerolinecolor\": \"white\"}, \"yaxis\": {\"backgroundcolor\": \"#E5ECF6\", \"gridcolor\": \"white\", \"gridwidth\": 2, \"linecolor\": \"white\", \"showbackground\": true, \"ticks\": \"\", \"zerolinecolor\": \"white\"}, \"zaxis\": {\"backgroundcolor\": \"#E5ECF6\", \"gridcolor\": \"white\", \"gridwidth\": 2, \"linecolor\": \"white\", \"showbackground\": true, \"ticks\": \"\", \"zerolinecolor\": \"white\"}}, \"shapedefaults\": {\"line\": {\"color\": \"#2a3f5f\"}}, \"ternary\": {\"aaxis\": {\"gridcolor\": \"white\", \"linecolor\": \"white\", \"ticks\": \"\"}, \"baxis\": {\"gridcolor\": \"white\", \"linecolor\": \"white\", \"ticks\": \"\"}, \"bgcolor\": \"#E5ECF6\", \"caxis\": {\"gridcolor\": \"white\", \"linecolor\": \"white\", \"ticks\": \"\"}}, \"title\": {\"x\": 0.05}, \"xaxis\": {\"automargin\": true, \"gridcolor\": \"white\", \"linecolor\": \"white\", \"ticks\": \"\", \"title\": {\"standoff\": 15}, \"zerolinecolor\": \"white\", \"zerolinewidth\": 2}, \"yaxis\": {\"automargin\": true, \"gridcolor\": \"white\", \"linecolor\": \"white\", \"ticks\": \"\", \"title\": {\"standoff\": 15}, \"zerolinecolor\": \"white\", \"zerolinewidth\": 2}}}, \"yaxis\": {\"range\": [0, 4], \"title\": {\"text\": \"RMSE\"}}},                        {\"responsive\": true}                    ).then(function(){\n",
       "                            \n",
       "var gd = document.getElementById('c9af8403-2e03-402e-a6bf-13341c7a860c');\n",
       "var x = new MutationObserver(function (mutations, observer) {{\n",
       "        var display = window.getComputedStyle(gd).display;\n",
       "        if (!display || display === 'none') {{\n",
       "            console.log([gd, 'removed!']);\n",
       "            Plotly.purge(gd);\n",
       "            observer.disconnect();\n",
       "        }}\n",
       "}});\n",
       "\n",
       "// Listen for the removal of the full notebook cells\n",
       "var notebookContainer = gd.closest('#notebook-container');\n",
       "if (notebookContainer) {{\n",
       "    x.observe(notebookContainer, {childList: true});\n",
       "}}\n",
       "\n",
       "// Listen for the clearing of the current output cell\n",
       "var outputEl = gd.closest('.output');\n",
       "if (outputEl) {{\n",
       "    x.observe(outputEl, {childList: true});\n",
       "}}\n",
       "\n",
       "                        })                };                });            </script>        </div>"
      ]
     },
     "metadata": {},
     "output_type": "display_data"
    }
   ],
   "source": [
    "fig = compare_models(models)\n",
    "fig.update_yaxes(range = [0, 4], title = \"RMSE\")"
   ]
  },
  {
   "cell_type": "markdown",
   "metadata": {},
   "source": [
    "Interesting. Adding the brand information to our design matrix decreased our training error, but it increased our cross-validation error. Looks like we overfit!"
   ]
  },
  {
   "cell_type": "code",
   "execution_count": null,
   "metadata": {},
   "outputs": [],
   "source": []
  },
  {
   "cell_type": "code",
   "execution_count": null,
   "metadata": {},
   "outputs": [],
   "source": []
  },
  {
   "cell_type": "markdown",
   "metadata": {},
   "source": [
    "## Regularization\n",
    "\n",
    "In this section we explore the use of regularization techniques to address overfitting.\n",
    "\n",
    "### Ridge Regression\n",
    "\n",
    "Ridge regression combines the ridge (L2, Squared) regularization function with the least squares loss.  \n",
    "\n",
    "$$\n",
    "\\hat{\\theta}_\\alpha = \\arg \\min_\\theta \\left[ \\left(\\frac{1}{n} \\sum_{i=1}^n \\left(Y_i -  f_\\theta(X_i)\\right)^2 \\right) + \\alpha \\sum_{k=1}^d \\theta_k^2 \\right]\n",
    "$$\n",
    "\n",
    "Ridge regression, like ordinary least squares regression, also has a closed form solution for the optimal $\\hat{\\theta}_\\alpha$\n",
    "\n",
    "$$\n",
    "\\hat{\\theta}_\\alpha = \\left(X^T X + n \\alpha \\mathbf{I}\\right)^{-1} X^T Y\n",
    "$$\n",
    "\n",
    "where $\\mathbf{I}$ is the identity matrix, $n$ is the number of data points, and $\\alpha$ is the regularization hyperparameter.\n",
    "\n",
    "Notice that even if $X^T X$ is not full rank, the addition of $n \\alpha \\mathbf{I}$ (which is full rank) makes $\\left(X^T X + n \\alpha \\mathbf{I}\\right)$ invertible. Thus, ridge regression addresses the possible issue of having an underdetermined system and partially improves the numerical stability of the solution.\n",
    "\n",
    "### The Regularization Hyperparameter\n",
    "\n",
    "The $\\alpha$ parameter is our regularization **hyperparameter**. It is a hyperparameter because it is not a model parameter but a choice of how we want to balance fitting the data and \"over-fitting\". The goal is to find a value of this hyper\"parameter to maximize our accuracy on the **test data**. However, **we can't use the test data to make modeling decisions** so we turn to cross validation. The standard way to find the best $\\alpha$ is to try a bunch of values (perhaps using binary search) and take the one with the lowest cross validation error. \n",
    "\n",
    "You may have noticed that in the video lecture we use $\\lambda$ instead of $\\alpha$.  This is because many textbooks use $\\lambda$ and sklearn uses $\\alpha$."
   ]
  },
  {
   "cell_type": "markdown",
   "metadata": {},
   "source": [
    "### Ridge Regression in SK Learn\n",
    "\n",
    "Both Ridge Regression and Lasso are built-in functions in SKLearn.  Let's start by importing the `Ridge` Regression class which behaves identically to the `LinearRegression` class we used earlier:"
   ]
  },
  {
   "cell_type": "code",
   "execution_count": 41,
   "metadata": {},
   "outputs": [],
   "source": [
    "from sklearn.linear_model import Ridge"
   ]
  },
  {
   "cell_type": "markdown",
   "metadata": {},
   "source": [
    "Take a look at the documentation.  Notice the regularized loss function. "
   ]
  },
  {
   "cell_type": "code",
   "execution_count": 42,
   "metadata": {},
   "outputs": [],
   "source": [
    "Ridge?"
   ]
  },
  {
   "cell_type": "markdown",
   "metadata": {},
   "source": [
    "Instead of just looking at the top 20 brands, let's bag-of-words encode the entire name column."
   ]
  },
  {
   "cell_type": "code",
   "execution_count": 43,
   "metadata": {},
   "outputs": [
    {
     "data": {
      "text/plain": [
       "CountVectorizer()"
      ]
     },
     "execution_count": 43,
     "metadata": {},
     "output_type": "execute_result"
    }
   ],
   "source": [
    "from sklearn.feature_extraction.text import CountVectorizer\n",
    "vectorizer = CountVectorizer()\n",
    "vectorizer.fit(tr['name'])"
   ]
  },
  {
   "cell_type": "code",
   "execution_count": 44,
   "metadata": {},
   "outputs": [
    {
     "data": {
      "text/html": [
       "<div>\n",
       "<style scoped>\n",
       "    .dataframe tbody tr th:only-of-type {\n",
       "        vertical-align: middle;\n",
       "    }\n",
       "\n",
       "    .dataframe tbody tr th {\n",
       "        vertical-align: top;\n",
       "    }\n",
       "\n",
       "    .dataframe thead th {\n",
       "        text-align: right;\n",
       "    }\n",
       "</style>\n",
       "<table border=\"1\" class=\"dataframe\">\n",
       "  <thead>\n",
       "    <tr style=\"text-align: right;\">\n",
       "      <th></th>\n",
       "      <th>cylinders</th>\n",
       "      <th>displacement</th>\n",
       "      <th>horsepower</th>\n",
       "      <th>weight</th>\n",
       "      <th>acceleration</th>\n",
       "      <th>model_year</th>\n",
       "      <th>displacement/cylinder</th>\n",
       "      <th>x0_europe</th>\n",
       "      <th>x0_japan</th>\n",
       "      <th>x0_usa</th>\n",
       "      <th>...</th>\n",
       "      <th>volare</th>\n",
       "      <th>volkswagen</th>\n",
       "      <th>volvo</th>\n",
       "      <th>vw</th>\n",
       "      <th>wagon</th>\n",
       "      <th>woody</th>\n",
       "      <th>xe</th>\n",
       "      <th>yorker</th>\n",
       "      <th>zephyr</th>\n",
       "      <th>zx</th>\n",
       "    </tr>\n",
       "  </thead>\n",
       "  <tbody>\n",
       "    <tr>\n",
       "      <th>6</th>\n",
       "      <td>8</td>\n",
       "      <td>454.0</td>\n",
       "      <td>220.0</td>\n",
       "      <td>4354</td>\n",
       "      <td>9.0</td>\n",
       "      <td>70</td>\n",
       "      <td>56.750000</td>\n",
       "      <td>0.0</td>\n",
       "      <td>0.0</td>\n",
       "      <td>1.0</td>\n",
       "      <td>...</td>\n",
       "      <td>0</td>\n",
       "      <td>0</td>\n",
       "      <td>0</td>\n",
       "      <td>0</td>\n",
       "      <td>0</td>\n",
       "      <td>0</td>\n",
       "      <td>0</td>\n",
       "      <td>0</td>\n",
       "      <td>0</td>\n",
       "      <td>0</td>\n",
       "    </tr>\n",
       "    <tr>\n",
       "      <th>352</th>\n",
       "      <td>4</td>\n",
       "      <td>98.0</td>\n",
       "      <td>65.0</td>\n",
       "      <td>2380</td>\n",
       "      <td>20.7</td>\n",
       "      <td>81</td>\n",
       "      <td>24.500000</td>\n",
       "      <td>0.0</td>\n",
       "      <td>0.0</td>\n",
       "      <td>1.0</td>\n",
       "      <td>...</td>\n",
       "      <td>0</td>\n",
       "      <td>0</td>\n",
       "      <td>0</td>\n",
       "      <td>0</td>\n",
       "      <td>0</td>\n",
       "      <td>0</td>\n",
       "      <td>0</td>\n",
       "      <td>0</td>\n",
       "      <td>0</td>\n",
       "      <td>0</td>\n",
       "    </tr>\n",
       "    <tr>\n",
       "      <th>47</th>\n",
       "      <td>6</td>\n",
       "      <td>250.0</td>\n",
       "      <td>100.0</td>\n",
       "      <td>3282</td>\n",
       "      <td>15.0</td>\n",
       "      <td>71</td>\n",
       "      <td>41.666667</td>\n",
       "      <td>0.0</td>\n",
       "      <td>0.0</td>\n",
       "      <td>1.0</td>\n",
       "      <td>...</td>\n",
       "      <td>0</td>\n",
       "      <td>0</td>\n",
       "      <td>0</td>\n",
       "      <td>0</td>\n",
       "      <td>0</td>\n",
       "      <td>0</td>\n",
       "      <td>0</td>\n",
       "      <td>0</td>\n",
       "      <td>0</td>\n",
       "      <td>0</td>\n",
       "    </tr>\n",
       "    <tr>\n",
       "      <th>39</th>\n",
       "      <td>8</td>\n",
       "      <td>400.0</td>\n",
       "      <td>175.0</td>\n",
       "      <td>4464</td>\n",
       "      <td>11.5</td>\n",
       "      <td>71</td>\n",
       "      <td>50.000000</td>\n",
       "      <td>0.0</td>\n",
       "      <td>0.0</td>\n",
       "      <td>1.0</td>\n",
       "      <td>...</td>\n",
       "      <td>0</td>\n",
       "      <td>0</td>\n",
       "      <td>0</td>\n",
       "      <td>0</td>\n",
       "      <td>0</td>\n",
       "      <td>0</td>\n",
       "      <td>0</td>\n",
       "      <td>0</td>\n",
       "      <td>0</td>\n",
       "      <td>0</td>\n",
       "    </tr>\n",
       "    <tr>\n",
       "      <th>304</th>\n",
       "      <td>4</td>\n",
       "      <td>91.0</td>\n",
       "      <td>69.0</td>\n",
       "      <td>2130</td>\n",
       "      <td>14.7</td>\n",
       "      <td>79</td>\n",
       "      <td>22.750000</td>\n",
       "      <td>1.0</td>\n",
       "      <td>0.0</td>\n",
       "      <td>0.0</td>\n",
       "      <td>...</td>\n",
       "      <td>0</td>\n",
       "      <td>0</td>\n",
       "      <td>0</td>\n",
       "      <td>0</td>\n",
       "      <td>0</td>\n",
       "      <td>0</td>\n",
       "      <td>0</td>\n",
       "      <td>0</td>\n",
       "      <td>0</td>\n",
       "      <td>0</td>\n",
       "    </tr>\n",
       "    <tr>\n",
       "      <th>...</th>\n",
       "      <td>...</td>\n",
       "      <td>...</td>\n",
       "      <td>...</td>\n",
       "      <td>...</td>\n",
       "      <td>...</td>\n",
       "      <td>...</td>\n",
       "      <td>...</td>\n",
       "      <td>...</td>\n",
       "      <td>...</td>\n",
       "      <td>...</td>\n",
       "      <td>...</td>\n",
       "      <td>...</td>\n",
       "      <td>...</td>\n",
       "      <td>...</td>\n",
       "      <td>...</td>\n",
       "      <td>...</td>\n",
       "      <td>...</td>\n",
       "      <td>...</td>\n",
       "      <td>...</td>\n",
       "      <td>...</td>\n",
       "      <td>...</td>\n",
       "    </tr>\n",
       "    <tr>\n",
       "      <th>394</th>\n",
       "      <td>4</td>\n",
       "      <td>97.0</td>\n",
       "      <td>52.0</td>\n",
       "      <td>2130</td>\n",
       "      <td>24.6</td>\n",
       "      <td>82</td>\n",
       "      <td>24.250000</td>\n",
       "      <td>1.0</td>\n",
       "      <td>0.0</td>\n",
       "      <td>0.0</td>\n",
       "      <td>...</td>\n",
       "      <td>0</td>\n",
       "      <td>0</td>\n",
       "      <td>0</td>\n",
       "      <td>1</td>\n",
       "      <td>0</td>\n",
       "      <td>0</td>\n",
       "      <td>0</td>\n",
       "      <td>0</td>\n",
       "      <td>0</td>\n",
       "      <td>0</td>\n",
       "    </tr>\n",
       "    <tr>\n",
       "      <th>258</th>\n",
       "      <td>6</td>\n",
       "      <td>231.0</td>\n",
       "      <td>105.0</td>\n",
       "      <td>3380</td>\n",
       "      <td>15.8</td>\n",
       "      <td>78</td>\n",
       "      <td>38.500000</td>\n",
       "      <td>0.0</td>\n",
       "      <td>0.0</td>\n",
       "      <td>1.0</td>\n",
       "      <td>...</td>\n",
       "      <td>0</td>\n",
       "      <td>0</td>\n",
       "      <td>0</td>\n",
       "      <td>0</td>\n",
       "      <td>0</td>\n",
       "      <td>0</td>\n",
       "      <td>0</td>\n",
       "      <td>0</td>\n",
       "      <td>0</td>\n",
       "      <td>0</td>\n",
       "    </tr>\n",
       "    <tr>\n",
       "      <th>297</th>\n",
       "      <td>5</td>\n",
       "      <td>183.0</td>\n",
       "      <td>77.0</td>\n",
       "      <td>3530</td>\n",
       "      <td>20.1</td>\n",
       "      <td>79</td>\n",
       "      <td>36.600000</td>\n",
       "      <td>1.0</td>\n",
       "      <td>0.0</td>\n",
       "      <td>0.0</td>\n",
       "      <td>...</td>\n",
       "      <td>0</td>\n",
       "      <td>0</td>\n",
       "      <td>0</td>\n",
       "      <td>0</td>\n",
       "      <td>0</td>\n",
       "      <td>0</td>\n",
       "      <td>0</td>\n",
       "      <td>0</td>\n",
       "      <td>0</td>\n",
       "      <td>0</td>\n",
       "    </tr>\n",
       "    <tr>\n",
       "      <th>23</th>\n",
       "      <td>4</td>\n",
       "      <td>121.0</td>\n",
       "      <td>113.0</td>\n",
       "      <td>2234</td>\n",
       "      <td>12.5</td>\n",
       "      <td>70</td>\n",
       "      <td>30.250000</td>\n",
       "      <td>1.0</td>\n",
       "      <td>0.0</td>\n",
       "      <td>0.0</td>\n",
       "      <td>...</td>\n",
       "      <td>0</td>\n",
       "      <td>0</td>\n",
       "      <td>0</td>\n",
       "      <td>0</td>\n",
       "      <td>0</td>\n",
       "      <td>0</td>\n",
       "      <td>0</td>\n",
       "      <td>0</td>\n",
       "      <td>0</td>\n",
       "      <td>0</td>\n",
       "    </tr>\n",
       "    <tr>\n",
       "      <th>83</th>\n",
       "      <td>4</td>\n",
       "      <td>98.0</td>\n",
       "      <td>80.0</td>\n",
       "      <td>2164</td>\n",
       "      <td>15.0</td>\n",
       "      <td>72</td>\n",
       "      <td>24.500000</td>\n",
       "      <td>0.0</td>\n",
       "      <td>0.0</td>\n",
       "      <td>1.0</td>\n",
       "      <td>...</td>\n",
       "      <td>0</td>\n",
       "      <td>0</td>\n",
       "      <td>0</td>\n",
       "      <td>0</td>\n",
       "      <td>0</td>\n",
       "      <td>0</td>\n",
       "      <td>0</td>\n",
       "      <td>0</td>\n",
       "      <td>0</td>\n",
       "      <td>0</td>\n",
       "    </tr>\n",
       "  </tbody>\n",
       "</table>\n",
       "<p>352 rows × 294 columns</p>\n",
       "</div>"
      ],
      "text/plain": [
       "     cylinders  displacement  horsepower  weight  acceleration  model_year  \\\n",
       "6            8         454.0       220.0    4354           9.0          70   \n",
       "352          4          98.0        65.0    2380          20.7          81   \n",
       "47           6         250.0       100.0    3282          15.0          71   \n",
       "39           8         400.0       175.0    4464          11.5          71   \n",
       "304          4          91.0        69.0    2130          14.7          79   \n",
       "..         ...           ...         ...     ...           ...         ...   \n",
       "394          4          97.0        52.0    2130          24.6          82   \n",
       "258          6         231.0       105.0    3380          15.8          78   \n",
       "297          5         183.0        77.0    3530          20.1          79   \n",
       "23           4         121.0       113.0    2234          12.5          70   \n",
       "83           4          98.0        80.0    2164          15.0          72   \n",
       "\n",
       "     displacement/cylinder  x0_europe  x0_japan  x0_usa  ...  volare  \\\n",
       "6                56.750000        0.0       0.0     1.0  ...       0   \n",
       "352              24.500000        0.0       0.0     1.0  ...       0   \n",
       "47               41.666667        0.0       0.0     1.0  ...       0   \n",
       "39               50.000000        0.0       0.0     1.0  ...       0   \n",
       "304              22.750000        1.0       0.0     0.0  ...       0   \n",
       "..                     ...        ...       ...     ...  ...     ...   \n",
       "394              24.250000        1.0       0.0     0.0  ...       0   \n",
       "258              38.500000        0.0       0.0     1.0  ...       0   \n",
       "297              36.600000        1.0       0.0     0.0  ...       0   \n",
       "23               30.250000        1.0       0.0     0.0  ...       0   \n",
       "83               24.500000        0.0       0.0     1.0  ...       0   \n",
       "\n",
       "     volkswagen  volvo  vw  wagon  woody  xe  yorker  zephyr  zx  \n",
       "6             0      0   0      0      0   0       0       0   0  \n",
       "352           0      0   0      0      0   0       0       0   0  \n",
       "47            0      0   0      0      0   0       0       0   0  \n",
       "39            0      0   0      0      0   0       0       0   0  \n",
       "304           0      0   0      0      0   0       0       0   0  \n",
       "..          ...    ...  ..    ...    ...  ..     ...     ...  ..  \n",
       "394           0      0   1      0      0   0       0       0   0  \n",
       "258           0      0   0      0      0   0       0       0   0  \n",
       "297           0      0   0      0      0   0       0       0   0  \n",
       "23            0      0   0      0      0   0       0       0   0  \n",
       "83            0      0   0      0      0   0       0       0   0  \n",
       "\n",
       "[352 rows x 294 columns]"
      ]
     },
     "execution_count": 44,
     "metadata": {},
     "output_type": "execute_result"
    }
   ],
   "source": [
    "def name_design_matrix(df):\n",
    "    X = origin_design_matrix(df)\n",
    "    feature_names = vectorizer.get_feature_names()\n",
    "    X[feature_names] = vectorizer.transform(df['name']).toarray()\n",
    "    return X\n",
    "\n",
    "name_design_matrix(tr)"
   ]
  },
  {
   "cell_type": "code",
   "execution_count": 45,
   "metadata": {},
   "outputs": [
    {
     "data": {
      "text/plain": [
       "1856664698.7350745"
      ]
     },
     "execution_count": 45,
     "metadata": {},
     "output_type": "execute_result"
    }
   ],
   "source": [
    "cross_validate_rmse(name_design_matrix, LinearRegression())"
   ]
  },
  {
   "cell_type": "markdown",
   "metadata": {},
   "source": [
    "Woah, our RMSE is really, really large! This is due to the fact that by adding all of these columns, our design matrix is no longer full rank. `numpy` tried to take the inverse of $\\mathbb{X}^T \\mathbb{X}$, but it ended up sending the parameters to really extreme values, leading to really extreme predictions."
   ]
  },
  {
   "cell_type": "markdown",
   "metadata": {},
   "source": [
    "To get around this, let's try regularization. As we're introducing regularization, let's also standardize our quantitative features:"
   ]
  },
  {
   "cell_type": "code",
   "execution_count": 46,
   "metadata": {},
   "outputs": [
    {
     "data": {
      "text/plain": [
       "StandardScaler()"
      ]
     },
     "execution_count": 46,
     "metadata": {},
     "output_type": "execute_result"
    }
   ],
   "source": [
    "from sklearn.preprocessing import StandardScaler\n",
    "quantitative_features = [\"cylinders\", \"displacement\", \"horsepower\", \"weight\", \"acceleration\", \"model_year\"]\n",
    "scaler = StandardScaler()\n",
    "scaler.fit(basic_design_matrix(tr[quantitative_features]))"
   ]
  },
  {
   "cell_type": "code",
   "execution_count": 47,
   "metadata": {},
   "outputs": [
    {
     "data": {
      "text/html": [
       "<div>\n",
       "<style scoped>\n",
       "    .dataframe tbody tr th:only-of-type {\n",
       "        vertical-align: middle;\n",
       "    }\n",
       "\n",
       "    .dataframe tbody tr th {\n",
       "        vertical-align: top;\n",
       "    }\n",
       "\n",
       "    .dataframe thead th {\n",
       "        text-align: right;\n",
       "    }\n",
       "</style>\n",
       "<table border=\"1\" class=\"dataframe\">\n",
       "  <thead>\n",
       "    <tr style=\"text-align: right;\">\n",
       "      <th></th>\n",
       "      <th>cylinders</th>\n",
       "      <th>displacement</th>\n",
       "      <th>horsepower</th>\n",
       "      <th>weight</th>\n",
       "      <th>acceleration</th>\n",
       "      <th>model_year</th>\n",
       "      <th>displacement/cylinder</th>\n",
       "      <th>x0_europe</th>\n",
       "      <th>x0_japan</th>\n",
       "      <th>x0_usa</th>\n",
       "      <th>...</th>\n",
       "      <th>volare</th>\n",
       "      <th>volkswagen</th>\n",
       "      <th>volvo</th>\n",
       "      <th>vw</th>\n",
       "      <th>wagon</th>\n",
       "      <th>woody</th>\n",
       "      <th>xe</th>\n",
       "      <th>yorker</th>\n",
       "      <th>zephyr</th>\n",
       "      <th>zx</th>\n",
       "    </tr>\n",
       "  </thead>\n",
       "  <tbody>\n",
       "    <tr>\n",
       "      <th>6</th>\n",
       "      <td>1.452785</td>\n",
       "      <td>2.426007</td>\n",
       "      <td>2.916388</td>\n",
       "      <td>1.580639</td>\n",
       "      <td>-2.320642</td>\n",
       "      <td>-1.611836</td>\n",
       "      <td>56.750000</td>\n",
       "      <td>0.0</td>\n",
       "      <td>0.0</td>\n",
       "      <td>1.0</td>\n",
       "      <td>...</td>\n",
       "      <td>0</td>\n",
       "      <td>0</td>\n",
       "      <td>0</td>\n",
       "      <td>0</td>\n",
       "      <td>0</td>\n",
       "      <td>0</td>\n",
       "      <td>0</td>\n",
       "      <td>0</td>\n",
       "      <td>0</td>\n",
       "      <td>0</td>\n",
       "    </tr>\n",
       "    <tr>\n",
       "      <th>352</th>\n",
       "      <td>-0.874316</td>\n",
       "      <td>-0.933437</td>\n",
       "      <td>-1.034011</td>\n",
       "      <td>-0.720703</td>\n",
       "      <td>1.862364</td>\n",
       "      <td>1.351615</td>\n",
       "      <td>24.500000</td>\n",
       "      <td>0.0</td>\n",
       "      <td>0.0</td>\n",
       "      <td>1.0</td>\n",
       "      <td>...</td>\n",
       "      <td>0</td>\n",
       "      <td>0</td>\n",
       "      <td>0</td>\n",
       "      <td>0</td>\n",
       "      <td>0</td>\n",
       "      <td>0</td>\n",
       "      <td>0</td>\n",
       "      <td>0</td>\n",
       "      <td>0</td>\n",
       "      <td>0</td>\n",
       "    </tr>\n",
       "    <tr>\n",
       "      <th>47</th>\n",
       "      <td>0.289235</td>\n",
       "      <td>0.500933</td>\n",
       "      <td>-0.141986</td>\n",
       "      <td>0.330873</td>\n",
       "      <td>-0.175511</td>\n",
       "      <td>-1.342431</td>\n",
       "      <td>41.666667</td>\n",
       "      <td>0.0</td>\n",
       "      <td>0.0</td>\n",
       "      <td>1.0</td>\n",
       "      <td>...</td>\n",
       "      <td>0</td>\n",
       "      <td>0</td>\n",
       "      <td>0</td>\n",
       "      <td>0</td>\n",
       "      <td>0</td>\n",
       "      <td>0</td>\n",
       "      <td>0</td>\n",
       "      <td>0</td>\n",
       "      <td>0</td>\n",
       "      <td>0</td>\n",
       "    </tr>\n",
       "    <tr>\n",
       "      <th>39</th>\n",
       "      <td>1.452785</td>\n",
       "      <td>1.916429</td>\n",
       "      <td>1.769498</td>\n",
       "      <td>1.708880</td>\n",
       "      <td>-1.426838</td>\n",
       "      <td>-1.342431</td>\n",
       "      <td>50.000000</td>\n",
       "      <td>0.0</td>\n",
       "      <td>0.0</td>\n",
       "      <td>1.0</td>\n",
       "      <td>...</td>\n",
       "      <td>0</td>\n",
       "      <td>0</td>\n",
       "      <td>0</td>\n",
       "      <td>0</td>\n",
       "      <td>0</td>\n",
       "      <td>0</td>\n",
       "      <td>0</td>\n",
       "      <td>0</td>\n",
       "      <td>0</td>\n",
       "      <td>0</td>\n",
       "    </tr>\n",
       "    <tr>\n",
       "      <th>304</th>\n",
       "      <td>-0.874316</td>\n",
       "      <td>-0.999493</td>\n",
       "      <td>-0.932065</td>\n",
       "      <td>-1.012159</td>\n",
       "      <td>-0.282767</td>\n",
       "      <td>0.812806</td>\n",
       "      <td>22.750000</td>\n",
       "      <td>1.0</td>\n",
       "      <td>0.0</td>\n",
       "      <td>0.0</td>\n",
       "      <td>...</td>\n",
       "      <td>0</td>\n",
       "      <td>0</td>\n",
       "      <td>0</td>\n",
       "      <td>0</td>\n",
       "      <td>0</td>\n",
       "      <td>0</td>\n",
       "      <td>0</td>\n",
       "      <td>0</td>\n",
       "      <td>0</td>\n",
       "      <td>0</td>\n",
       "    </tr>\n",
       "    <tr>\n",
       "      <th>...</th>\n",
       "      <td>...</td>\n",
       "      <td>...</td>\n",
       "      <td>...</td>\n",
       "      <td>...</td>\n",
       "      <td>...</td>\n",
       "      <td>...</td>\n",
       "      <td>...</td>\n",
       "      <td>...</td>\n",
       "      <td>...</td>\n",
       "      <td>...</td>\n",
       "      <td>...</td>\n",
       "      <td>...</td>\n",
       "      <td>...</td>\n",
       "      <td>...</td>\n",
       "      <td>...</td>\n",
       "      <td>...</td>\n",
       "      <td>...</td>\n",
       "      <td>...</td>\n",
       "      <td>...</td>\n",
       "      <td>...</td>\n",
       "      <td>...</td>\n",
       "    </tr>\n",
       "    <tr>\n",
       "      <th>394</th>\n",
       "      <td>-0.874316</td>\n",
       "      <td>-0.942873</td>\n",
       "      <td>-1.365335</td>\n",
       "      <td>-1.012159</td>\n",
       "      <td>3.256700</td>\n",
       "      <td>1.621020</td>\n",
       "      <td>24.250000</td>\n",
       "      <td>1.0</td>\n",
       "      <td>0.0</td>\n",
       "      <td>0.0</td>\n",
       "      <td>...</td>\n",
       "      <td>0</td>\n",
       "      <td>0</td>\n",
       "      <td>0</td>\n",
       "      <td>1</td>\n",
       "      <td>0</td>\n",
       "      <td>0</td>\n",
       "      <td>0</td>\n",
       "      <td>0</td>\n",
       "      <td>0</td>\n",
       "      <td>0</td>\n",
       "    </tr>\n",
       "    <tr>\n",
       "      <th>258</th>\n",
       "      <td>0.289235</td>\n",
       "      <td>0.321637</td>\n",
       "      <td>-0.014553</td>\n",
       "      <td>0.445124</td>\n",
       "      <td>0.110507</td>\n",
       "      <td>0.543401</td>\n",
       "      <td>38.500000</td>\n",
       "      <td>0.0</td>\n",
       "      <td>0.0</td>\n",
       "      <td>1.0</td>\n",
       "      <td>...</td>\n",
       "      <td>0</td>\n",
       "      <td>0</td>\n",
       "      <td>0</td>\n",
       "      <td>0</td>\n",
       "      <td>0</td>\n",
       "      <td>0</td>\n",
       "      <td>0</td>\n",
       "      <td>0</td>\n",
       "      <td>0</td>\n",
       "      <td>0</td>\n",
       "    </tr>\n",
       "    <tr>\n",
       "      <th>297</th>\n",
       "      <td>-0.292540</td>\n",
       "      <td>-0.131322</td>\n",
       "      <td>-0.728174</td>\n",
       "      <td>0.619998</td>\n",
       "      <td>1.647851</td>\n",
       "      <td>0.812806</td>\n",
       "      <td>36.600000</td>\n",
       "      <td>1.0</td>\n",
       "      <td>0.0</td>\n",
       "      <td>0.0</td>\n",
       "      <td>...</td>\n",
       "      <td>0</td>\n",
       "      <td>0</td>\n",
       "      <td>0</td>\n",
       "      <td>0</td>\n",
       "      <td>0</td>\n",
       "      <td>0</td>\n",
       "      <td>0</td>\n",
       "      <td>0</td>\n",
       "      <td>0</td>\n",
       "      <td>0</td>\n",
       "    </tr>\n",
       "    <tr>\n",
       "      <th>23</th>\n",
       "      <td>-0.874316</td>\n",
       "      <td>-0.716394</td>\n",
       "      <td>0.189338</td>\n",
       "      <td>-0.890913</td>\n",
       "      <td>-1.069316</td>\n",
       "      <td>-1.611836</td>\n",
       "      <td>30.250000</td>\n",
       "      <td>1.0</td>\n",
       "      <td>0.0</td>\n",
       "      <td>0.0</td>\n",
       "      <td>...</td>\n",
       "      <td>0</td>\n",
       "      <td>0</td>\n",
       "      <td>0</td>\n",
       "      <td>0</td>\n",
       "      <td>0</td>\n",
       "      <td>0</td>\n",
       "      <td>0</td>\n",
       "      <td>0</td>\n",
       "      <td>0</td>\n",
       "      <td>0</td>\n",
       "    </tr>\n",
       "    <tr>\n",
       "      <th>83</th>\n",
       "      <td>-0.874316</td>\n",
       "      <td>-0.933437</td>\n",
       "      <td>-0.651714</td>\n",
       "      <td>-0.972521</td>\n",
       "      <td>-0.175511</td>\n",
       "      <td>-1.073026</td>\n",
       "      <td>24.500000</td>\n",
       "      <td>0.0</td>\n",
       "      <td>0.0</td>\n",
       "      <td>1.0</td>\n",
       "      <td>...</td>\n",
       "      <td>0</td>\n",
       "      <td>0</td>\n",
       "      <td>0</td>\n",
       "      <td>0</td>\n",
       "      <td>0</td>\n",
       "      <td>0</td>\n",
       "      <td>0</td>\n",
       "      <td>0</td>\n",
       "      <td>0</td>\n",
       "      <td>0</td>\n",
       "    </tr>\n",
       "  </tbody>\n",
       "</table>\n",
       "<p>352 rows × 294 columns</p>\n",
       "</div>"
      ],
      "text/plain": [
       "     cylinders  displacement  horsepower    weight  acceleration  model_year  \\\n",
       "6     1.452785      2.426007    2.916388  1.580639     -2.320642   -1.611836   \n",
       "352  -0.874316     -0.933437   -1.034011 -0.720703      1.862364    1.351615   \n",
       "47    0.289235      0.500933   -0.141986  0.330873     -0.175511   -1.342431   \n",
       "39    1.452785      1.916429    1.769498  1.708880     -1.426838   -1.342431   \n",
       "304  -0.874316     -0.999493   -0.932065 -1.012159     -0.282767    0.812806   \n",
       "..         ...           ...         ...       ...           ...         ...   \n",
       "394  -0.874316     -0.942873   -1.365335 -1.012159      3.256700    1.621020   \n",
       "258   0.289235      0.321637   -0.014553  0.445124      0.110507    0.543401   \n",
       "297  -0.292540     -0.131322   -0.728174  0.619998      1.647851    0.812806   \n",
       "23   -0.874316     -0.716394    0.189338 -0.890913     -1.069316   -1.611836   \n",
       "83   -0.874316     -0.933437   -0.651714 -0.972521     -0.175511   -1.073026   \n",
       "\n",
       "     displacement/cylinder  x0_europe  x0_japan  x0_usa  ...  volare  \\\n",
       "6                56.750000        0.0       0.0     1.0  ...       0   \n",
       "352              24.500000        0.0       0.0     1.0  ...       0   \n",
       "47               41.666667        0.0       0.0     1.0  ...       0   \n",
       "39               50.000000        0.0       0.0     1.0  ...       0   \n",
       "304              22.750000        1.0       0.0     0.0  ...       0   \n",
       "..                     ...        ...       ...     ...  ...     ...   \n",
       "394              24.250000        1.0       0.0     0.0  ...       0   \n",
       "258              38.500000        0.0       0.0     1.0  ...       0   \n",
       "297              36.600000        1.0       0.0     0.0  ...       0   \n",
       "23               30.250000        1.0       0.0     0.0  ...       0   \n",
       "83               24.500000        0.0       0.0     1.0  ...       0   \n",
       "\n",
       "     volkswagen  volvo  vw  wagon  woody  xe  yorker  zephyr  zx  \n",
       "6             0      0   0      0      0   0       0       0   0  \n",
       "352           0      0   0      0      0   0       0       0   0  \n",
       "47            0      0   0      0      0   0       0       0   0  \n",
       "39            0      0   0      0      0   0       0       0   0  \n",
       "304           0      0   0      0      0   0       0       0   0  \n",
       "..          ...    ...  ..    ...    ...  ..     ...     ...  ..  \n",
       "394           0      0   1      0      0   0       0       0   0  \n",
       "258           0      0   0      0      0   0       0       0   0  \n",
       "297           0      0   0      0      0   0       0       0   0  \n",
       "23            0      0   0      0      0   0       0       0   0  \n",
       "83            0      0   0      0      0   0       0       0   0  \n",
       "\n",
       "[352 rows x 294 columns]"
      ]
     },
     "execution_count": 47,
     "metadata": {},
     "output_type": "execute_result"
    }
   ],
   "source": [
    "def name_design_matrix_std(df):\n",
    "    X = name_design_matrix(df)\n",
    "    X[quantitative_features] = scaler.transform(X[quantitative_features])\n",
    "    return X\n",
    "\n",
    "name_design_matrix_std(tr)"
   ]
  },
  {
   "cell_type": "code",
   "execution_count": 48,
   "metadata": {},
   "outputs": [
    {
     "data": {
      "text/plain": [
       "3.1168076796253716"
      ]
     },
     "execution_count": 48,
     "metadata": {},
     "output_type": "execute_result"
    }
   ],
   "source": [
    "cross_validate_rmse(name_design_matrix_std, Ridge(alpha = .5))"
   ]
  },
  {
   "cell_type": "markdown",
   "metadata": {},
   "source": [
    "That looks more like it. Let's add this model into our set:"
   ]
  },
  {
   "cell_type": "code",
   "execution_count": 49,
   "metadata": {},
   "outputs": [],
   "source": [
    "models['quant+dc+o+n-Ridge.5'] = (name_design_matrix_std,  Ridge(alpha = .5))"
   ]
  },
  {
   "cell_type": "code",
   "execution_count": 50,
   "metadata": {},
   "outputs": [
    {
     "data": {
      "application/vnd.plotly.v1+json": {
       "config": {
        "plotlyServerURL": "https://plot.ly"
       },
       "data": [
        {
         "name": "Training RMSE",
         "type": "bar",
         "x": [
          "quant",
          "quant+dc",
          "quant+dc+o",
          "quant+dc+o+b",
          "quant+dc+o+n-Ridge.5"
         ],
         "y": [
          3.374582699942459,
          3.033309344625912,
          3.012941172853172,
          2.867381563556755,
          1.552648037268123
         ]
        },
        {
         "name": "CV RMSE",
         "type": "bar",
         "x": [
          "quant",
          "quant+dc",
          "quant+dc+o",
          "quant+dc+o+b",
          "quant+dc+o+n-Ridge.5"
         ],
         "y": [
          3.4559015156162536,
          3.1113159765045717,
          3.120728518015189,
          3.225417481246393,
          3.1168076796253716
         ]
        }
       ],
       "layout": {
        "template": {
         "data": {
          "bar": [
           {
            "error_x": {
             "color": "#2a3f5f"
            },
            "error_y": {
             "color": "#2a3f5f"
            },
            "marker": {
             "line": {
              "color": "#E5ECF6",
              "width": 0.5
             }
            },
            "type": "bar"
           }
          ],
          "barpolar": [
           {
            "marker": {
             "line": {
              "color": "#E5ECF6",
              "width": 0.5
             }
            },
            "type": "barpolar"
           }
          ],
          "carpet": [
           {
            "aaxis": {
             "endlinecolor": "#2a3f5f",
             "gridcolor": "white",
             "linecolor": "white",
             "minorgridcolor": "white",
             "startlinecolor": "#2a3f5f"
            },
            "baxis": {
             "endlinecolor": "#2a3f5f",
             "gridcolor": "white",
             "linecolor": "white",
             "minorgridcolor": "white",
             "startlinecolor": "#2a3f5f"
            },
            "type": "carpet"
           }
          ],
          "choropleth": [
           {
            "colorbar": {
             "outlinewidth": 0,
             "ticks": ""
            },
            "type": "choropleth"
           }
          ],
          "contour": [
           {
            "colorbar": {
             "outlinewidth": 0,
             "ticks": ""
            },
            "colorscale": [
             [
              0,
              "#0d0887"
             ],
             [
              0.1111111111111111,
              "#46039f"
             ],
             [
              0.2222222222222222,
              "#7201a8"
             ],
             [
              0.3333333333333333,
              "#9c179e"
             ],
             [
              0.4444444444444444,
              "#bd3786"
             ],
             [
              0.5555555555555556,
              "#d8576b"
             ],
             [
              0.6666666666666666,
              "#ed7953"
             ],
             [
              0.7777777777777778,
              "#fb9f3a"
             ],
             [
              0.8888888888888888,
              "#fdca26"
             ],
             [
              1,
              "#f0f921"
             ]
            ],
            "type": "contour"
           }
          ],
          "contourcarpet": [
           {
            "colorbar": {
             "outlinewidth": 0,
             "ticks": ""
            },
            "type": "contourcarpet"
           }
          ],
          "heatmap": [
           {
            "colorbar": {
             "outlinewidth": 0,
             "ticks": ""
            },
            "colorscale": [
             [
              0,
              "#0d0887"
             ],
             [
              0.1111111111111111,
              "#46039f"
             ],
             [
              0.2222222222222222,
              "#7201a8"
             ],
             [
              0.3333333333333333,
              "#9c179e"
             ],
             [
              0.4444444444444444,
              "#bd3786"
             ],
             [
              0.5555555555555556,
              "#d8576b"
             ],
             [
              0.6666666666666666,
              "#ed7953"
             ],
             [
              0.7777777777777778,
              "#fb9f3a"
             ],
             [
              0.8888888888888888,
              "#fdca26"
             ],
             [
              1,
              "#f0f921"
             ]
            ],
            "type": "heatmap"
           }
          ],
          "heatmapgl": [
           {
            "colorbar": {
             "outlinewidth": 0,
             "ticks": ""
            },
            "colorscale": [
             [
              0,
              "#0d0887"
             ],
             [
              0.1111111111111111,
              "#46039f"
             ],
             [
              0.2222222222222222,
              "#7201a8"
             ],
             [
              0.3333333333333333,
              "#9c179e"
             ],
             [
              0.4444444444444444,
              "#bd3786"
             ],
             [
              0.5555555555555556,
              "#d8576b"
             ],
             [
              0.6666666666666666,
              "#ed7953"
             ],
             [
              0.7777777777777778,
              "#fb9f3a"
             ],
             [
              0.8888888888888888,
              "#fdca26"
             ],
             [
              1,
              "#f0f921"
             ]
            ],
            "type": "heatmapgl"
           }
          ],
          "histogram": [
           {
            "marker": {
             "colorbar": {
              "outlinewidth": 0,
              "ticks": ""
             }
            },
            "type": "histogram"
           }
          ],
          "histogram2d": [
           {
            "colorbar": {
             "outlinewidth": 0,
             "ticks": ""
            },
            "colorscale": [
             [
              0,
              "#0d0887"
             ],
             [
              0.1111111111111111,
              "#46039f"
             ],
             [
              0.2222222222222222,
              "#7201a8"
             ],
             [
              0.3333333333333333,
              "#9c179e"
             ],
             [
              0.4444444444444444,
              "#bd3786"
             ],
             [
              0.5555555555555556,
              "#d8576b"
             ],
             [
              0.6666666666666666,
              "#ed7953"
             ],
             [
              0.7777777777777778,
              "#fb9f3a"
             ],
             [
              0.8888888888888888,
              "#fdca26"
             ],
             [
              1,
              "#f0f921"
             ]
            ],
            "type": "histogram2d"
           }
          ],
          "histogram2dcontour": [
           {
            "colorbar": {
             "outlinewidth": 0,
             "ticks": ""
            },
            "colorscale": [
             [
              0,
              "#0d0887"
             ],
             [
              0.1111111111111111,
              "#46039f"
             ],
             [
              0.2222222222222222,
              "#7201a8"
             ],
             [
              0.3333333333333333,
              "#9c179e"
             ],
             [
              0.4444444444444444,
              "#bd3786"
             ],
             [
              0.5555555555555556,
              "#d8576b"
             ],
             [
              0.6666666666666666,
              "#ed7953"
             ],
             [
              0.7777777777777778,
              "#fb9f3a"
             ],
             [
              0.8888888888888888,
              "#fdca26"
             ],
             [
              1,
              "#f0f921"
             ]
            ],
            "type": "histogram2dcontour"
           }
          ],
          "mesh3d": [
           {
            "colorbar": {
             "outlinewidth": 0,
             "ticks": ""
            },
            "type": "mesh3d"
           }
          ],
          "parcoords": [
           {
            "line": {
             "colorbar": {
              "outlinewidth": 0,
              "ticks": ""
             }
            },
            "type": "parcoords"
           }
          ],
          "pie": [
           {
            "automargin": true,
            "type": "pie"
           }
          ],
          "scatter": [
           {
            "marker": {
             "colorbar": {
              "outlinewidth": 0,
              "ticks": ""
             }
            },
            "type": "scatter"
           }
          ],
          "scatter3d": [
           {
            "line": {
             "colorbar": {
              "outlinewidth": 0,
              "ticks": ""
             }
            },
            "marker": {
             "colorbar": {
              "outlinewidth": 0,
              "ticks": ""
             }
            },
            "type": "scatter3d"
           }
          ],
          "scattercarpet": [
           {
            "marker": {
             "colorbar": {
              "outlinewidth": 0,
              "ticks": ""
             }
            },
            "type": "scattercarpet"
           }
          ],
          "scattergeo": [
           {
            "marker": {
             "colorbar": {
              "outlinewidth": 0,
              "ticks": ""
             }
            },
            "type": "scattergeo"
           }
          ],
          "scattergl": [
           {
            "marker": {
             "colorbar": {
              "outlinewidth": 0,
              "ticks": ""
             }
            },
            "type": "scattergl"
           }
          ],
          "scattermapbox": [
           {
            "marker": {
             "colorbar": {
              "outlinewidth": 0,
              "ticks": ""
             }
            },
            "type": "scattermapbox"
           }
          ],
          "scatterpolar": [
           {
            "marker": {
             "colorbar": {
              "outlinewidth": 0,
              "ticks": ""
             }
            },
            "type": "scatterpolar"
           }
          ],
          "scatterpolargl": [
           {
            "marker": {
             "colorbar": {
              "outlinewidth": 0,
              "ticks": ""
             }
            },
            "type": "scatterpolargl"
           }
          ],
          "scatterternary": [
           {
            "marker": {
             "colorbar": {
              "outlinewidth": 0,
              "ticks": ""
             }
            },
            "type": "scatterternary"
           }
          ],
          "surface": [
           {
            "colorbar": {
             "outlinewidth": 0,
             "ticks": ""
            },
            "colorscale": [
             [
              0,
              "#0d0887"
             ],
             [
              0.1111111111111111,
              "#46039f"
             ],
             [
              0.2222222222222222,
              "#7201a8"
             ],
             [
              0.3333333333333333,
              "#9c179e"
             ],
             [
              0.4444444444444444,
              "#bd3786"
             ],
             [
              0.5555555555555556,
              "#d8576b"
             ],
             [
              0.6666666666666666,
              "#ed7953"
             ],
             [
              0.7777777777777778,
              "#fb9f3a"
             ],
             [
              0.8888888888888888,
              "#fdca26"
             ],
             [
              1,
              "#f0f921"
             ]
            ],
            "type": "surface"
           }
          ],
          "table": [
           {
            "cells": {
             "fill": {
              "color": "#EBF0F8"
             },
             "line": {
              "color": "white"
             }
            },
            "header": {
             "fill": {
              "color": "#C8D4E3"
             },
             "line": {
              "color": "white"
             }
            },
            "type": "table"
           }
          ]
         },
         "layout": {
          "annotationdefaults": {
           "arrowcolor": "#2a3f5f",
           "arrowhead": 0,
           "arrowwidth": 1
          },
          "autotypenumbers": "strict",
          "coloraxis": {
           "colorbar": {
            "outlinewidth": 0,
            "ticks": ""
           }
          },
          "colorscale": {
           "diverging": [
            [
             0,
             "#8e0152"
            ],
            [
             0.1,
             "#c51b7d"
            ],
            [
             0.2,
             "#de77ae"
            ],
            [
             0.3,
             "#f1b6da"
            ],
            [
             0.4,
             "#fde0ef"
            ],
            [
             0.5,
             "#f7f7f7"
            ],
            [
             0.6,
             "#e6f5d0"
            ],
            [
             0.7,
             "#b8e186"
            ],
            [
             0.8,
             "#7fbc41"
            ],
            [
             0.9,
             "#4d9221"
            ],
            [
             1,
             "#276419"
            ]
           ],
           "sequential": [
            [
             0,
             "#0d0887"
            ],
            [
             0.1111111111111111,
             "#46039f"
            ],
            [
             0.2222222222222222,
             "#7201a8"
            ],
            [
             0.3333333333333333,
             "#9c179e"
            ],
            [
             0.4444444444444444,
             "#bd3786"
            ],
            [
             0.5555555555555556,
             "#d8576b"
            ],
            [
             0.6666666666666666,
             "#ed7953"
            ],
            [
             0.7777777777777778,
             "#fb9f3a"
            ],
            [
             0.8888888888888888,
             "#fdca26"
            ],
            [
             1,
             "#f0f921"
            ]
           ],
           "sequentialminus": [
            [
             0,
             "#0d0887"
            ],
            [
             0.1111111111111111,
             "#46039f"
            ],
            [
             0.2222222222222222,
             "#7201a8"
            ],
            [
             0.3333333333333333,
             "#9c179e"
            ],
            [
             0.4444444444444444,
             "#bd3786"
            ],
            [
             0.5555555555555556,
             "#d8576b"
            ],
            [
             0.6666666666666666,
             "#ed7953"
            ],
            [
             0.7777777777777778,
             "#fb9f3a"
            ],
            [
             0.8888888888888888,
             "#fdca26"
            ],
            [
             1,
             "#f0f921"
            ]
           ]
          },
          "colorway": [
           "#636efa",
           "#EF553B",
           "#00cc96",
           "#ab63fa",
           "#FFA15A",
           "#19d3f3",
           "#FF6692",
           "#B6E880",
           "#FF97FF",
           "#FECB52"
          ],
          "font": {
           "color": "#2a3f5f"
          },
          "geo": {
           "bgcolor": "white",
           "lakecolor": "white",
           "landcolor": "#E5ECF6",
           "showlakes": true,
           "showland": true,
           "subunitcolor": "white"
          },
          "hoverlabel": {
           "align": "left"
          },
          "hovermode": "closest",
          "mapbox": {
           "style": "light"
          },
          "paper_bgcolor": "white",
          "plot_bgcolor": "#E5ECF6",
          "polar": {
           "angularaxis": {
            "gridcolor": "white",
            "linecolor": "white",
            "ticks": ""
           },
           "bgcolor": "#E5ECF6",
           "radialaxis": {
            "gridcolor": "white",
            "linecolor": "white",
            "ticks": ""
           }
          },
          "scene": {
           "xaxis": {
            "backgroundcolor": "#E5ECF6",
            "gridcolor": "white",
            "gridwidth": 2,
            "linecolor": "white",
            "showbackground": true,
            "ticks": "",
            "zerolinecolor": "white"
           },
           "yaxis": {
            "backgroundcolor": "#E5ECF6",
            "gridcolor": "white",
            "gridwidth": 2,
            "linecolor": "white",
            "showbackground": true,
            "ticks": "",
            "zerolinecolor": "white"
           },
           "zaxis": {
            "backgroundcolor": "#E5ECF6",
            "gridcolor": "white",
            "gridwidth": 2,
            "linecolor": "white",
            "showbackground": true,
            "ticks": "",
            "zerolinecolor": "white"
           }
          },
          "shapedefaults": {
           "line": {
            "color": "#2a3f5f"
           }
          },
          "ternary": {
           "aaxis": {
            "gridcolor": "white",
            "linecolor": "white",
            "ticks": ""
           },
           "baxis": {
            "gridcolor": "white",
            "linecolor": "white",
            "ticks": ""
           },
           "bgcolor": "#E5ECF6",
           "caxis": {
            "gridcolor": "white",
            "linecolor": "white",
            "ticks": ""
           }
          },
          "title": {
           "x": 0.05
          },
          "xaxis": {
           "automargin": true,
           "gridcolor": "white",
           "linecolor": "white",
           "ticks": "",
           "title": {
            "standoff": 15
           },
           "zerolinecolor": "white",
           "zerolinewidth": 2
          },
          "yaxis": {
           "automargin": true,
           "gridcolor": "white",
           "linecolor": "white",
           "ticks": "",
           "title": {
            "standoff": 15
           },
           "zerolinecolor": "white",
           "zerolinewidth": 2
          }
         }
        },
        "yaxis": {
         "range": [
          0,
          4
         ],
         "title": {
          "text": "RMSE"
         }
        }
       }
      },
      "text/html": [
       "<div>                            <div id=\"d700ef06-bd0d-4c9e-9d5e-fc7c481a2a10\" class=\"plotly-graph-div\" style=\"height:525px; width:100%;\"></div>            <script type=\"text/javascript\">                require([\"plotly\"], function(Plotly) {                    window.PLOTLYENV=window.PLOTLYENV || {};                                    if (document.getElementById(\"d700ef06-bd0d-4c9e-9d5e-fc7c481a2a10\")) {                    Plotly.newPlot(                        \"d700ef06-bd0d-4c9e-9d5e-fc7c481a2a10\",                        [{\"name\": \"Training RMSE\", \"type\": \"bar\", \"x\": [\"quant\", \"quant+dc\", \"quant+dc+o\", \"quant+dc+o+b\", \"quant+dc+o+n-Ridge.5\"], \"y\": [3.374582699942459, 3.033309344625912, 3.012941172853172, 2.867381563556755, 1.552648037268123]}, {\"name\": \"CV RMSE\", \"type\": \"bar\", \"x\": [\"quant\", \"quant+dc\", \"quant+dc+o\", \"quant+dc+o+b\", \"quant+dc+o+n-Ridge.5\"], \"y\": [3.4559015156162536, 3.1113159765045717, 3.120728518015189, 3.225417481246393, 3.1168076796253716]}],                        {\"template\": {\"data\": {\"bar\": [{\"error_x\": {\"color\": \"#2a3f5f\"}, \"error_y\": {\"color\": \"#2a3f5f\"}, \"marker\": {\"line\": {\"color\": \"#E5ECF6\", \"width\": 0.5}}, \"type\": \"bar\"}], \"barpolar\": [{\"marker\": {\"line\": {\"color\": \"#E5ECF6\", \"width\": 0.5}}, \"type\": \"barpolar\"}], \"carpet\": [{\"aaxis\": {\"endlinecolor\": \"#2a3f5f\", \"gridcolor\": \"white\", \"linecolor\": \"white\", \"minorgridcolor\": \"white\", \"startlinecolor\": \"#2a3f5f\"}, \"baxis\": {\"endlinecolor\": \"#2a3f5f\", \"gridcolor\": \"white\", \"linecolor\": \"white\", \"minorgridcolor\": \"white\", \"startlinecolor\": \"#2a3f5f\"}, \"type\": \"carpet\"}], \"choropleth\": [{\"colorbar\": {\"outlinewidth\": 0, \"ticks\": \"\"}, \"type\": \"choropleth\"}], \"contour\": [{\"colorbar\": {\"outlinewidth\": 0, \"ticks\": \"\"}, \"colorscale\": [[0.0, \"#0d0887\"], [0.1111111111111111, \"#46039f\"], [0.2222222222222222, \"#7201a8\"], [0.3333333333333333, \"#9c179e\"], [0.4444444444444444, \"#bd3786\"], [0.5555555555555556, \"#d8576b\"], [0.6666666666666666, \"#ed7953\"], [0.7777777777777778, \"#fb9f3a\"], [0.8888888888888888, \"#fdca26\"], [1.0, \"#f0f921\"]], \"type\": \"contour\"}], \"contourcarpet\": [{\"colorbar\": {\"outlinewidth\": 0, \"ticks\": \"\"}, \"type\": \"contourcarpet\"}], \"heatmap\": [{\"colorbar\": {\"outlinewidth\": 0, \"ticks\": \"\"}, \"colorscale\": [[0.0, \"#0d0887\"], [0.1111111111111111, \"#46039f\"], [0.2222222222222222, \"#7201a8\"], [0.3333333333333333, \"#9c179e\"], [0.4444444444444444, \"#bd3786\"], [0.5555555555555556, \"#d8576b\"], [0.6666666666666666, \"#ed7953\"], [0.7777777777777778, \"#fb9f3a\"], [0.8888888888888888, \"#fdca26\"], [1.0, \"#f0f921\"]], \"type\": \"heatmap\"}], \"heatmapgl\": [{\"colorbar\": {\"outlinewidth\": 0, \"ticks\": \"\"}, \"colorscale\": [[0.0, \"#0d0887\"], [0.1111111111111111, \"#46039f\"], [0.2222222222222222, \"#7201a8\"], [0.3333333333333333, \"#9c179e\"], [0.4444444444444444, \"#bd3786\"], [0.5555555555555556, \"#d8576b\"], [0.6666666666666666, \"#ed7953\"], [0.7777777777777778, \"#fb9f3a\"], [0.8888888888888888, \"#fdca26\"], [1.0, \"#f0f921\"]], \"type\": \"heatmapgl\"}], \"histogram\": [{\"marker\": {\"colorbar\": {\"outlinewidth\": 0, \"ticks\": \"\"}}, \"type\": \"histogram\"}], \"histogram2d\": [{\"colorbar\": {\"outlinewidth\": 0, \"ticks\": \"\"}, \"colorscale\": [[0.0, \"#0d0887\"], [0.1111111111111111, \"#46039f\"], [0.2222222222222222, \"#7201a8\"], [0.3333333333333333, \"#9c179e\"], [0.4444444444444444, \"#bd3786\"], [0.5555555555555556, \"#d8576b\"], [0.6666666666666666, \"#ed7953\"], [0.7777777777777778, \"#fb9f3a\"], [0.8888888888888888, \"#fdca26\"], [1.0, \"#f0f921\"]], \"type\": \"histogram2d\"}], \"histogram2dcontour\": [{\"colorbar\": {\"outlinewidth\": 0, \"ticks\": \"\"}, \"colorscale\": [[0.0, \"#0d0887\"], [0.1111111111111111, \"#46039f\"], [0.2222222222222222, \"#7201a8\"], [0.3333333333333333, \"#9c179e\"], [0.4444444444444444, \"#bd3786\"], [0.5555555555555556, \"#d8576b\"], [0.6666666666666666, \"#ed7953\"], [0.7777777777777778, \"#fb9f3a\"], [0.8888888888888888, \"#fdca26\"], [1.0, \"#f0f921\"]], \"type\": \"histogram2dcontour\"}], \"mesh3d\": [{\"colorbar\": {\"outlinewidth\": 0, \"ticks\": \"\"}, \"type\": \"mesh3d\"}], \"parcoords\": [{\"line\": {\"colorbar\": {\"outlinewidth\": 0, \"ticks\": \"\"}}, \"type\": \"parcoords\"}], \"pie\": [{\"automargin\": true, \"type\": \"pie\"}], \"scatter\": [{\"marker\": {\"colorbar\": {\"outlinewidth\": 0, \"ticks\": \"\"}}, \"type\": \"scatter\"}], \"scatter3d\": [{\"line\": {\"colorbar\": {\"outlinewidth\": 0, \"ticks\": \"\"}}, \"marker\": {\"colorbar\": {\"outlinewidth\": 0, \"ticks\": \"\"}}, \"type\": \"scatter3d\"}], \"scattercarpet\": [{\"marker\": {\"colorbar\": {\"outlinewidth\": 0, \"ticks\": \"\"}}, \"type\": \"scattercarpet\"}], \"scattergeo\": [{\"marker\": {\"colorbar\": {\"outlinewidth\": 0, \"ticks\": \"\"}}, \"type\": \"scattergeo\"}], \"scattergl\": [{\"marker\": {\"colorbar\": {\"outlinewidth\": 0, \"ticks\": \"\"}}, \"type\": \"scattergl\"}], \"scattermapbox\": [{\"marker\": {\"colorbar\": {\"outlinewidth\": 0, \"ticks\": \"\"}}, \"type\": \"scattermapbox\"}], \"scatterpolar\": [{\"marker\": {\"colorbar\": {\"outlinewidth\": 0, \"ticks\": \"\"}}, \"type\": \"scatterpolar\"}], \"scatterpolargl\": [{\"marker\": {\"colorbar\": {\"outlinewidth\": 0, \"ticks\": \"\"}}, \"type\": \"scatterpolargl\"}], \"scatterternary\": [{\"marker\": {\"colorbar\": {\"outlinewidth\": 0, \"ticks\": \"\"}}, \"type\": \"scatterternary\"}], \"surface\": [{\"colorbar\": {\"outlinewidth\": 0, \"ticks\": \"\"}, \"colorscale\": [[0.0, \"#0d0887\"], [0.1111111111111111, \"#46039f\"], [0.2222222222222222, \"#7201a8\"], [0.3333333333333333, \"#9c179e\"], [0.4444444444444444, \"#bd3786\"], [0.5555555555555556, \"#d8576b\"], [0.6666666666666666, \"#ed7953\"], [0.7777777777777778, \"#fb9f3a\"], [0.8888888888888888, \"#fdca26\"], [1.0, \"#f0f921\"]], \"type\": \"surface\"}], \"table\": [{\"cells\": {\"fill\": {\"color\": \"#EBF0F8\"}, \"line\": {\"color\": \"white\"}}, \"header\": {\"fill\": {\"color\": \"#C8D4E3\"}, \"line\": {\"color\": \"white\"}}, \"type\": \"table\"}]}, \"layout\": {\"annotationdefaults\": {\"arrowcolor\": \"#2a3f5f\", \"arrowhead\": 0, \"arrowwidth\": 1}, \"autotypenumbers\": \"strict\", \"coloraxis\": {\"colorbar\": {\"outlinewidth\": 0, \"ticks\": \"\"}}, \"colorscale\": {\"diverging\": [[0, \"#8e0152\"], [0.1, \"#c51b7d\"], [0.2, \"#de77ae\"], [0.3, \"#f1b6da\"], [0.4, \"#fde0ef\"], [0.5, \"#f7f7f7\"], [0.6, \"#e6f5d0\"], [0.7, \"#b8e186\"], [0.8, \"#7fbc41\"], [0.9, \"#4d9221\"], [1, \"#276419\"]], \"sequential\": [[0.0, \"#0d0887\"], [0.1111111111111111, \"#46039f\"], [0.2222222222222222, \"#7201a8\"], [0.3333333333333333, \"#9c179e\"], [0.4444444444444444, \"#bd3786\"], [0.5555555555555556, \"#d8576b\"], [0.6666666666666666, \"#ed7953\"], [0.7777777777777778, \"#fb9f3a\"], [0.8888888888888888, \"#fdca26\"], [1.0, \"#f0f921\"]], \"sequentialminus\": [[0.0, \"#0d0887\"], [0.1111111111111111, \"#46039f\"], [0.2222222222222222, \"#7201a8\"], [0.3333333333333333, \"#9c179e\"], [0.4444444444444444, \"#bd3786\"], [0.5555555555555556, \"#d8576b\"], [0.6666666666666666, \"#ed7953\"], [0.7777777777777778, \"#fb9f3a\"], [0.8888888888888888, \"#fdca26\"], [1.0, \"#f0f921\"]]}, \"colorway\": [\"#636efa\", \"#EF553B\", \"#00cc96\", \"#ab63fa\", \"#FFA15A\", \"#19d3f3\", \"#FF6692\", \"#B6E880\", \"#FF97FF\", \"#FECB52\"], \"font\": {\"color\": \"#2a3f5f\"}, \"geo\": {\"bgcolor\": \"white\", \"lakecolor\": \"white\", \"landcolor\": \"#E5ECF6\", \"showlakes\": true, \"showland\": true, \"subunitcolor\": \"white\"}, \"hoverlabel\": {\"align\": \"left\"}, \"hovermode\": \"closest\", \"mapbox\": {\"style\": \"light\"}, \"paper_bgcolor\": \"white\", \"plot_bgcolor\": \"#E5ECF6\", \"polar\": {\"angularaxis\": {\"gridcolor\": \"white\", \"linecolor\": \"white\", \"ticks\": \"\"}, \"bgcolor\": \"#E5ECF6\", \"radialaxis\": {\"gridcolor\": \"white\", \"linecolor\": \"white\", \"ticks\": \"\"}}, \"scene\": {\"xaxis\": {\"backgroundcolor\": \"#E5ECF6\", \"gridcolor\": \"white\", \"gridwidth\": 2, \"linecolor\": \"white\", \"showbackground\": true, \"ticks\": \"\", \"zerolinecolor\": \"white\"}, \"yaxis\": {\"backgroundcolor\": \"#E5ECF6\", \"gridcolor\": \"white\", \"gridwidth\": 2, \"linecolor\": \"white\", \"showbackground\": true, \"ticks\": \"\", \"zerolinecolor\": \"white\"}, \"zaxis\": {\"backgroundcolor\": \"#E5ECF6\", \"gridcolor\": \"white\", \"gridwidth\": 2, \"linecolor\": \"white\", \"showbackground\": true, \"ticks\": \"\", \"zerolinecolor\": \"white\"}}, \"shapedefaults\": {\"line\": {\"color\": \"#2a3f5f\"}}, \"ternary\": {\"aaxis\": {\"gridcolor\": \"white\", \"linecolor\": \"white\", \"ticks\": \"\"}, \"baxis\": {\"gridcolor\": \"white\", \"linecolor\": \"white\", \"ticks\": \"\"}, \"bgcolor\": \"#E5ECF6\", \"caxis\": {\"gridcolor\": \"white\", \"linecolor\": \"white\", \"ticks\": \"\"}}, \"title\": {\"x\": 0.05}, \"xaxis\": {\"automargin\": true, \"gridcolor\": \"white\", \"linecolor\": \"white\", \"ticks\": \"\", \"title\": {\"standoff\": 15}, \"zerolinecolor\": \"white\", \"zerolinewidth\": 2}, \"yaxis\": {\"automargin\": true, \"gridcolor\": \"white\", \"linecolor\": \"white\", \"ticks\": \"\", \"title\": {\"standoff\": 15}, \"zerolinecolor\": \"white\", \"zerolinewidth\": 2}}}, \"yaxis\": {\"range\": [0, 4], \"title\": {\"text\": \"RMSE\"}}},                        {\"responsive\": true}                    ).then(function(){\n",
       "                            \n",
       "var gd = document.getElementById('d700ef06-bd0d-4c9e-9d5e-fc7c481a2a10');\n",
       "var x = new MutationObserver(function (mutations, observer) {{\n",
       "        var display = window.getComputedStyle(gd).display;\n",
       "        if (!display || display === 'none') {{\n",
       "            console.log([gd, 'removed!']);\n",
       "            Plotly.purge(gd);\n",
       "            observer.disconnect();\n",
       "        }}\n",
       "}});\n",
       "\n",
       "// Listen for the removal of the full notebook cells\n",
       "var notebookContainer = gd.closest('#notebook-container');\n",
       "if (notebookContainer) {{\n",
       "    x.observe(notebookContainer, {childList: true});\n",
       "}}\n",
       "\n",
       "// Listen for the clearing of the current output cell\n",
       "var outputEl = gd.closest('.output');\n",
       "if (outputEl) {{\n",
       "    x.observe(outputEl, {childList: true});\n",
       "}}\n",
       "\n",
       "                        })                };                });            </script>        </div>"
      ]
     },
     "metadata": {},
     "output_type": "display_data"
    }
   ],
   "source": [
    "fig = compare_models(models)\n",
    "fig.update_yaxes(range = [0, 4], title = \"RMSE\")"
   ]
  },
  {
   "cell_type": "markdown",
   "metadata": {},
   "source": [
    "Notice how our training error dropped significantly, but our CV error only changed a little bit. Let's try a different value of $\\alpha$:"
   ]
  },
  {
   "cell_type": "code",
   "execution_count": 51,
   "metadata": {},
   "outputs": [],
   "source": [
    "models['quant+dc+o+n-Ridge100'] = (name_design_matrix_std, Ridge(alpha = 100))"
   ]
  },
  {
   "cell_type": "code",
   "execution_count": 52,
   "metadata": {},
   "outputs": [
    {
     "data": {
      "application/vnd.plotly.v1+json": {
       "config": {
        "plotlyServerURL": "https://plot.ly"
       },
       "data": [
        {
         "name": "Training RMSE",
         "type": "bar",
         "x": [
          "quant",
          "quant+dc",
          "quant+dc+o",
          "quant+dc+o+b",
          "quant+dc+o+n-Ridge.5",
          "quant+dc+o+n-Ridge100"
         ],
         "y": [
          3.374582699942459,
          3.033309344625912,
          3.012941172853172,
          2.867381563556755,
          1.552648037268123,
          3.396301099326061
         ]
        },
        {
         "name": "CV RMSE",
         "type": "bar",
         "x": [
          "quant",
          "quant+dc",
          "quant+dc+o",
          "quant+dc+o+b",
          "quant+dc+o+n-Ridge.5",
          "quant+dc+o+n-Ridge100"
         ],
         "y": [
          3.4559015156162536,
          3.1113159765045717,
          3.120728518015189,
          3.225417481246393,
          3.1168076796253716,
          3.592535514336082
         ]
        }
       ],
       "layout": {
        "template": {
         "data": {
          "bar": [
           {
            "error_x": {
             "color": "#2a3f5f"
            },
            "error_y": {
             "color": "#2a3f5f"
            },
            "marker": {
             "line": {
              "color": "#E5ECF6",
              "width": 0.5
             }
            },
            "type": "bar"
           }
          ],
          "barpolar": [
           {
            "marker": {
             "line": {
              "color": "#E5ECF6",
              "width": 0.5
             }
            },
            "type": "barpolar"
           }
          ],
          "carpet": [
           {
            "aaxis": {
             "endlinecolor": "#2a3f5f",
             "gridcolor": "white",
             "linecolor": "white",
             "minorgridcolor": "white",
             "startlinecolor": "#2a3f5f"
            },
            "baxis": {
             "endlinecolor": "#2a3f5f",
             "gridcolor": "white",
             "linecolor": "white",
             "minorgridcolor": "white",
             "startlinecolor": "#2a3f5f"
            },
            "type": "carpet"
           }
          ],
          "choropleth": [
           {
            "colorbar": {
             "outlinewidth": 0,
             "ticks": ""
            },
            "type": "choropleth"
           }
          ],
          "contour": [
           {
            "colorbar": {
             "outlinewidth": 0,
             "ticks": ""
            },
            "colorscale": [
             [
              0,
              "#0d0887"
             ],
             [
              0.1111111111111111,
              "#46039f"
             ],
             [
              0.2222222222222222,
              "#7201a8"
             ],
             [
              0.3333333333333333,
              "#9c179e"
             ],
             [
              0.4444444444444444,
              "#bd3786"
             ],
             [
              0.5555555555555556,
              "#d8576b"
             ],
             [
              0.6666666666666666,
              "#ed7953"
             ],
             [
              0.7777777777777778,
              "#fb9f3a"
             ],
             [
              0.8888888888888888,
              "#fdca26"
             ],
             [
              1,
              "#f0f921"
             ]
            ],
            "type": "contour"
           }
          ],
          "contourcarpet": [
           {
            "colorbar": {
             "outlinewidth": 0,
             "ticks": ""
            },
            "type": "contourcarpet"
           }
          ],
          "heatmap": [
           {
            "colorbar": {
             "outlinewidth": 0,
             "ticks": ""
            },
            "colorscale": [
             [
              0,
              "#0d0887"
             ],
             [
              0.1111111111111111,
              "#46039f"
             ],
             [
              0.2222222222222222,
              "#7201a8"
             ],
             [
              0.3333333333333333,
              "#9c179e"
             ],
             [
              0.4444444444444444,
              "#bd3786"
             ],
             [
              0.5555555555555556,
              "#d8576b"
             ],
             [
              0.6666666666666666,
              "#ed7953"
             ],
             [
              0.7777777777777778,
              "#fb9f3a"
             ],
             [
              0.8888888888888888,
              "#fdca26"
             ],
             [
              1,
              "#f0f921"
             ]
            ],
            "type": "heatmap"
           }
          ],
          "heatmapgl": [
           {
            "colorbar": {
             "outlinewidth": 0,
             "ticks": ""
            },
            "colorscale": [
             [
              0,
              "#0d0887"
             ],
             [
              0.1111111111111111,
              "#46039f"
             ],
             [
              0.2222222222222222,
              "#7201a8"
             ],
             [
              0.3333333333333333,
              "#9c179e"
             ],
             [
              0.4444444444444444,
              "#bd3786"
             ],
             [
              0.5555555555555556,
              "#d8576b"
             ],
             [
              0.6666666666666666,
              "#ed7953"
             ],
             [
              0.7777777777777778,
              "#fb9f3a"
             ],
             [
              0.8888888888888888,
              "#fdca26"
             ],
             [
              1,
              "#f0f921"
             ]
            ],
            "type": "heatmapgl"
           }
          ],
          "histogram": [
           {
            "marker": {
             "colorbar": {
              "outlinewidth": 0,
              "ticks": ""
             }
            },
            "type": "histogram"
           }
          ],
          "histogram2d": [
           {
            "colorbar": {
             "outlinewidth": 0,
             "ticks": ""
            },
            "colorscale": [
             [
              0,
              "#0d0887"
             ],
             [
              0.1111111111111111,
              "#46039f"
             ],
             [
              0.2222222222222222,
              "#7201a8"
             ],
             [
              0.3333333333333333,
              "#9c179e"
             ],
             [
              0.4444444444444444,
              "#bd3786"
             ],
             [
              0.5555555555555556,
              "#d8576b"
             ],
             [
              0.6666666666666666,
              "#ed7953"
             ],
             [
              0.7777777777777778,
              "#fb9f3a"
             ],
             [
              0.8888888888888888,
              "#fdca26"
             ],
             [
              1,
              "#f0f921"
             ]
            ],
            "type": "histogram2d"
           }
          ],
          "histogram2dcontour": [
           {
            "colorbar": {
             "outlinewidth": 0,
             "ticks": ""
            },
            "colorscale": [
             [
              0,
              "#0d0887"
             ],
             [
              0.1111111111111111,
              "#46039f"
             ],
             [
              0.2222222222222222,
              "#7201a8"
             ],
             [
              0.3333333333333333,
              "#9c179e"
             ],
             [
              0.4444444444444444,
              "#bd3786"
             ],
             [
              0.5555555555555556,
              "#d8576b"
             ],
             [
              0.6666666666666666,
              "#ed7953"
             ],
             [
              0.7777777777777778,
              "#fb9f3a"
             ],
             [
              0.8888888888888888,
              "#fdca26"
             ],
             [
              1,
              "#f0f921"
             ]
            ],
            "type": "histogram2dcontour"
           }
          ],
          "mesh3d": [
           {
            "colorbar": {
             "outlinewidth": 0,
             "ticks": ""
            },
            "type": "mesh3d"
           }
          ],
          "parcoords": [
           {
            "line": {
             "colorbar": {
              "outlinewidth": 0,
              "ticks": ""
             }
            },
            "type": "parcoords"
           }
          ],
          "pie": [
           {
            "automargin": true,
            "type": "pie"
           }
          ],
          "scatter": [
           {
            "marker": {
             "colorbar": {
              "outlinewidth": 0,
              "ticks": ""
             }
            },
            "type": "scatter"
           }
          ],
          "scatter3d": [
           {
            "line": {
             "colorbar": {
              "outlinewidth": 0,
              "ticks": ""
             }
            },
            "marker": {
             "colorbar": {
              "outlinewidth": 0,
              "ticks": ""
             }
            },
            "type": "scatter3d"
           }
          ],
          "scattercarpet": [
           {
            "marker": {
             "colorbar": {
              "outlinewidth": 0,
              "ticks": ""
             }
            },
            "type": "scattercarpet"
           }
          ],
          "scattergeo": [
           {
            "marker": {
             "colorbar": {
              "outlinewidth": 0,
              "ticks": ""
             }
            },
            "type": "scattergeo"
           }
          ],
          "scattergl": [
           {
            "marker": {
             "colorbar": {
              "outlinewidth": 0,
              "ticks": ""
             }
            },
            "type": "scattergl"
           }
          ],
          "scattermapbox": [
           {
            "marker": {
             "colorbar": {
              "outlinewidth": 0,
              "ticks": ""
             }
            },
            "type": "scattermapbox"
           }
          ],
          "scatterpolar": [
           {
            "marker": {
             "colorbar": {
              "outlinewidth": 0,
              "ticks": ""
             }
            },
            "type": "scatterpolar"
           }
          ],
          "scatterpolargl": [
           {
            "marker": {
             "colorbar": {
              "outlinewidth": 0,
              "ticks": ""
             }
            },
            "type": "scatterpolargl"
           }
          ],
          "scatterternary": [
           {
            "marker": {
             "colorbar": {
              "outlinewidth": 0,
              "ticks": ""
             }
            },
            "type": "scatterternary"
           }
          ],
          "surface": [
           {
            "colorbar": {
             "outlinewidth": 0,
             "ticks": ""
            },
            "colorscale": [
             [
              0,
              "#0d0887"
             ],
             [
              0.1111111111111111,
              "#46039f"
             ],
             [
              0.2222222222222222,
              "#7201a8"
             ],
             [
              0.3333333333333333,
              "#9c179e"
             ],
             [
              0.4444444444444444,
              "#bd3786"
             ],
             [
              0.5555555555555556,
              "#d8576b"
             ],
             [
              0.6666666666666666,
              "#ed7953"
             ],
             [
              0.7777777777777778,
              "#fb9f3a"
             ],
             [
              0.8888888888888888,
              "#fdca26"
             ],
             [
              1,
              "#f0f921"
             ]
            ],
            "type": "surface"
           }
          ],
          "table": [
           {
            "cells": {
             "fill": {
              "color": "#EBF0F8"
             },
             "line": {
              "color": "white"
             }
            },
            "header": {
             "fill": {
              "color": "#C8D4E3"
             },
             "line": {
              "color": "white"
             }
            },
            "type": "table"
           }
          ]
         },
         "layout": {
          "annotationdefaults": {
           "arrowcolor": "#2a3f5f",
           "arrowhead": 0,
           "arrowwidth": 1
          },
          "autotypenumbers": "strict",
          "coloraxis": {
           "colorbar": {
            "outlinewidth": 0,
            "ticks": ""
           }
          },
          "colorscale": {
           "diverging": [
            [
             0,
             "#8e0152"
            ],
            [
             0.1,
             "#c51b7d"
            ],
            [
             0.2,
             "#de77ae"
            ],
            [
             0.3,
             "#f1b6da"
            ],
            [
             0.4,
             "#fde0ef"
            ],
            [
             0.5,
             "#f7f7f7"
            ],
            [
             0.6,
             "#e6f5d0"
            ],
            [
             0.7,
             "#b8e186"
            ],
            [
             0.8,
             "#7fbc41"
            ],
            [
             0.9,
             "#4d9221"
            ],
            [
             1,
             "#276419"
            ]
           ],
           "sequential": [
            [
             0,
             "#0d0887"
            ],
            [
             0.1111111111111111,
             "#46039f"
            ],
            [
             0.2222222222222222,
             "#7201a8"
            ],
            [
             0.3333333333333333,
             "#9c179e"
            ],
            [
             0.4444444444444444,
             "#bd3786"
            ],
            [
             0.5555555555555556,
             "#d8576b"
            ],
            [
             0.6666666666666666,
             "#ed7953"
            ],
            [
             0.7777777777777778,
             "#fb9f3a"
            ],
            [
             0.8888888888888888,
             "#fdca26"
            ],
            [
             1,
             "#f0f921"
            ]
           ],
           "sequentialminus": [
            [
             0,
             "#0d0887"
            ],
            [
             0.1111111111111111,
             "#46039f"
            ],
            [
             0.2222222222222222,
             "#7201a8"
            ],
            [
             0.3333333333333333,
             "#9c179e"
            ],
            [
             0.4444444444444444,
             "#bd3786"
            ],
            [
             0.5555555555555556,
             "#d8576b"
            ],
            [
             0.6666666666666666,
             "#ed7953"
            ],
            [
             0.7777777777777778,
             "#fb9f3a"
            ],
            [
             0.8888888888888888,
             "#fdca26"
            ],
            [
             1,
             "#f0f921"
            ]
           ]
          },
          "colorway": [
           "#636efa",
           "#EF553B",
           "#00cc96",
           "#ab63fa",
           "#FFA15A",
           "#19d3f3",
           "#FF6692",
           "#B6E880",
           "#FF97FF",
           "#FECB52"
          ],
          "font": {
           "color": "#2a3f5f"
          },
          "geo": {
           "bgcolor": "white",
           "lakecolor": "white",
           "landcolor": "#E5ECF6",
           "showlakes": true,
           "showland": true,
           "subunitcolor": "white"
          },
          "hoverlabel": {
           "align": "left"
          },
          "hovermode": "closest",
          "mapbox": {
           "style": "light"
          },
          "paper_bgcolor": "white",
          "plot_bgcolor": "#E5ECF6",
          "polar": {
           "angularaxis": {
            "gridcolor": "white",
            "linecolor": "white",
            "ticks": ""
           },
           "bgcolor": "#E5ECF6",
           "radialaxis": {
            "gridcolor": "white",
            "linecolor": "white",
            "ticks": ""
           }
          },
          "scene": {
           "xaxis": {
            "backgroundcolor": "#E5ECF6",
            "gridcolor": "white",
            "gridwidth": 2,
            "linecolor": "white",
            "showbackground": true,
            "ticks": "",
            "zerolinecolor": "white"
           },
           "yaxis": {
            "backgroundcolor": "#E5ECF6",
            "gridcolor": "white",
            "gridwidth": 2,
            "linecolor": "white",
            "showbackground": true,
            "ticks": "",
            "zerolinecolor": "white"
           },
           "zaxis": {
            "backgroundcolor": "#E5ECF6",
            "gridcolor": "white",
            "gridwidth": 2,
            "linecolor": "white",
            "showbackground": true,
            "ticks": "",
            "zerolinecolor": "white"
           }
          },
          "shapedefaults": {
           "line": {
            "color": "#2a3f5f"
           }
          },
          "ternary": {
           "aaxis": {
            "gridcolor": "white",
            "linecolor": "white",
            "ticks": ""
           },
           "baxis": {
            "gridcolor": "white",
            "linecolor": "white",
            "ticks": ""
           },
           "bgcolor": "#E5ECF6",
           "caxis": {
            "gridcolor": "white",
            "linecolor": "white",
            "ticks": ""
           }
          },
          "title": {
           "x": 0.05
          },
          "xaxis": {
           "automargin": true,
           "gridcolor": "white",
           "linecolor": "white",
           "ticks": "",
           "title": {
            "standoff": 15
           },
           "zerolinecolor": "white",
           "zerolinewidth": 2
          },
          "yaxis": {
           "automargin": true,
           "gridcolor": "white",
           "linecolor": "white",
           "ticks": "",
           "title": {
            "standoff": 15
           },
           "zerolinecolor": "white",
           "zerolinewidth": 2
          }
         }
        },
        "yaxis": {
         "range": [
          0,
          4
         ],
         "title": {
          "text": "RMSE"
         }
        }
       }
      },
      "text/html": [
       "<div>                            <div id=\"54f8ba66-2489-4d5a-8f8b-a301310aa2d3\" class=\"plotly-graph-div\" style=\"height:525px; width:100%;\"></div>            <script type=\"text/javascript\">                require([\"plotly\"], function(Plotly) {                    window.PLOTLYENV=window.PLOTLYENV || {};                                    if (document.getElementById(\"54f8ba66-2489-4d5a-8f8b-a301310aa2d3\")) {                    Plotly.newPlot(                        \"54f8ba66-2489-4d5a-8f8b-a301310aa2d3\",                        [{\"name\": \"Training RMSE\", \"type\": \"bar\", \"x\": [\"quant\", \"quant+dc\", \"quant+dc+o\", \"quant+dc+o+b\", \"quant+dc+o+n-Ridge.5\", \"quant+dc+o+n-Ridge100\"], \"y\": [3.374582699942459, 3.033309344625912, 3.012941172853172, 2.867381563556755, 1.552648037268123, 3.396301099326061]}, {\"name\": \"CV RMSE\", \"type\": \"bar\", \"x\": [\"quant\", \"quant+dc\", \"quant+dc+o\", \"quant+dc+o+b\", \"quant+dc+o+n-Ridge.5\", \"quant+dc+o+n-Ridge100\"], \"y\": [3.4559015156162536, 3.1113159765045717, 3.120728518015189, 3.225417481246393, 3.1168076796253716, 3.592535514336082]}],                        {\"template\": {\"data\": {\"bar\": [{\"error_x\": {\"color\": \"#2a3f5f\"}, \"error_y\": {\"color\": \"#2a3f5f\"}, \"marker\": {\"line\": {\"color\": \"#E5ECF6\", \"width\": 0.5}}, \"type\": \"bar\"}], \"barpolar\": [{\"marker\": {\"line\": {\"color\": \"#E5ECF6\", \"width\": 0.5}}, \"type\": \"barpolar\"}], \"carpet\": [{\"aaxis\": {\"endlinecolor\": \"#2a3f5f\", \"gridcolor\": \"white\", \"linecolor\": \"white\", \"minorgridcolor\": \"white\", \"startlinecolor\": \"#2a3f5f\"}, \"baxis\": {\"endlinecolor\": \"#2a3f5f\", \"gridcolor\": \"white\", \"linecolor\": \"white\", \"minorgridcolor\": \"white\", \"startlinecolor\": \"#2a3f5f\"}, \"type\": \"carpet\"}], \"choropleth\": [{\"colorbar\": {\"outlinewidth\": 0, \"ticks\": \"\"}, \"type\": \"choropleth\"}], \"contour\": [{\"colorbar\": {\"outlinewidth\": 0, \"ticks\": \"\"}, \"colorscale\": [[0.0, \"#0d0887\"], [0.1111111111111111, \"#46039f\"], [0.2222222222222222, \"#7201a8\"], [0.3333333333333333, \"#9c179e\"], [0.4444444444444444, \"#bd3786\"], [0.5555555555555556, \"#d8576b\"], [0.6666666666666666, \"#ed7953\"], [0.7777777777777778, \"#fb9f3a\"], [0.8888888888888888, \"#fdca26\"], [1.0, \"#f0f921\"]], \"type\": \"contour\"}], \"contourcarpet\": [{\"colorbar\": {\"outlinewidth\": 0, \"ticks\": \"\"}, \"type\": \"contourcarpet\"}], \"heatmap\": [{\"colorbar\": {\"outlinewidth\": 0, \"ticks\": \"\"}, \"colorscale\": [[0.0, \"#0d0887\"], [0.1111111111111111, \"#46039f\"], [0.2222222222222222, \"#7201a8\"], [0.3333333333333333, \"#9c179e\"], [0.4444444444444444, \"#bd3786\"], [0.5555555555555556, \"#d8576b\"], [0.6666666666666666, \"#ed7953\"], [0.7777777777777778, \"#fb9f3a\"], [0.8888888888888888, \"#fdca26\"], [1.0, \"#f0f921\"]], \"type\": \"heatmap\"}], \"heatmapgl\": [{\"colorbar\": {\"outlinewidth\": 0, \"ticks\": \"\"}, \"colorscale\": [[0.0, \"#0d0887\"], [0.1111111111111111, \"#46039f\"], [0.2222222222222222, \"#7201a8\"], [0.3333333333333333, \"#9c179e\"], [0.4444444444444444, \"#bd3786\"], [0.5555555555555556, \"#d8576b\"], [0.6666666666666666, \"#ed7953\"], [0.7777777777777778, \"#fb9f3a\"], [0.8888888888888888, \"#fdca26\"], [1.0, \"#f0f921\"]], \"type\": \"heatmapgl\"}], \"histogram\": [{\"marker\": {\"colorbar\": {\"outlinewidth\": 0, \"ticks\": \"\"}}, \"type\": \"histogram\"}], \"histogram2d\": [{\"colorbar\": {\"outlinewidth\": 0, \"ticks\": \"\"}, \"colorscale\": [[0.0, \"#0d0887\"], [0.1111111111111111, \"#46039f\"], [0.2222222222222222, \"#7201a8\"], [0.3333333333333333, \"#9c179e\"], [0.4444444444444444, \"#bd3786\"], [0.5555555555555556, \"#d8576b\"], [0.6666666666666666, \"#ed7953\"], [0.7777777777777778, \"#fb9f3a\"], [0.8888888888888888, \"#fdca26\"], [1.0, \"#f0f921\"]], \"type\": \"histogram2d\"}], \"histogram2dcontour\": [{\"colorbar\": {\"outlinewidth\": 0, \"ticks\": \"\"}, \"colorscale\": [[0.0, \"#0d0887\"], [0.1111111111111111, \"#46039f\"], [0.2222222222222222, \"#7201a8\"], [0.3333333333333333, \"#9c179e\"], [0.4444444444444444, \"#bd3786\"], [0.5555555555555556, \"#d8576b\"], [0.6666666666666666, \"#ed7953\"], [0.7777777777777778, \"#fb9f3a\"], [0.8888888888888888, \"#fdca26\"], [1.0, \"#f0f921\"]], \"type\": \"histogram2dcontour\"}], \"mesh3d\": [{\"colorbar\": {\"outlinewidth\": 0, \"ticks\": \"\"}, \"type\": \"mesh3d\"}], \"parcoords\": [{\"line\": {\"colorbar\": {\"outlinewidth\": 0, \"ticks\": \"\"}}, \"type\": \"parcoords\"}], \"pie\": [{\"automargin\": true, \"type\": \"pie\"}], \"scatter\": [{\"marker\": {\"colorbar\": {\"outlinewidth\": 0, \"ticks\": \"\"}}, \"type\": \"scatter\"}], \"scatter3d\": [{\"line\": {\"colorbar\": {\"outlinewidth\": 0, \"ticks\": \"\"}}, \"marker\": {\"colorbar\": {\"outlinewidth\": 0, \"ticks\": \"\"}}, \"type\": \"scatter3d\"}], \"scattercarpet\": [{\"marker\": {\"colorbar\": {\"outlinewidth\": 0, \"ticks\": \"\"}}, \"type\": \"scattercarpet\"}], \"scattergeo\": [{\"marker\": {\"colorbar\": {\"outlinewidth\": 0, \"ticks\": \"\"}}, \"type\": \"scattergeo\"}], \"scattergl\": [{\"marker\": {\"colorbar\": {\"outlinewidth\": 0, \"ticks\": \"\"}}, \"type\": \"scattergl\"}], \"scattermapbox\": [{\"marker\": {\"colorbar\": {\"outlinewidth\": 0, \"ticks\": \"\"}}, \"type\": \"scattermapbox\"}], \"scatterpolar\": [{\"marker\": {\"colorbar\": {\"outlinewidth\": 0, \"ticks\": \"\"}}, \"type\": \"scatterpolar\"}], \"scatterpolargl\": [{\"marker\": {\"colorbar\": {\"outlinewidth\": 0, \"ticks\": \"\"}}, \"type\": \"scatterpolargl\"}], \"scatterternary\": [{\"marker\": {\"colorbar\": {\"outlinewidth\": 0, \"ticks\": \"\"}}, \"type\": \"scatterternary\"}], \"surface\": [{\"colorbar\": {\"outlinewidth\": 0, \"ticks\": \"\"}, \"colorscale\": [[0.0, \"#0d0887\"], [0.1111111111111111, \"#46039f\"], [0.2222222222222222, \"#7201a8\"], [0.3333333333333333, \"#9c179e\"], [0.4444444444444444, \"#bd3786\"], [0.5555555555555556, \"#d8576b\"], [0.6666666666666666, \"#ed7953\"], [0.7777777777777778, \"#fb9f3a\"], [0.8888888888888888, \"#fdca26\"], [1.0, \"#f0f921\"]], \"type\": \"surface\"}], \"table\": [{\"cells\": {\"fill\": {\"color\": \"#EBF0F8\"}, \"line\": {\"color\": \"white\"}}, \"header\": {\"fill\": {\"color\": \"#C8D4E3\"}, \"line\": {\"color\": \"white\"}}, \"type\": \"table\"}]}, \"layout\": {\"annotationdefaults\": {\"arrowcolor\": \"#2a3f5f\", \"arrowhead\": 0, \"arrowwidth\": 1}, \"autotypenumbers\": \"strict\", \"coloraxis\": {\"colorbar\": {\"outlinewidth\": 0, \"ticks\": \"\"}}, \"colorscale\": {\"diverging\": [[0, \"#8e0152\"], [0.1, \"#c51b7d\"], [0.2, \"#de77ae\"], [0.3, \"#f1b6da\"], [0.4, \"#fde0ef\"], [0.5, \"#f7f7f7\"], [0.6, \"#e6f5d0\"], [0.7, \"#b8e186\"], [0.8, \"#7fbc41\"], [0.9, \"#4d9221\"], [1, \"#276419\"]], \"sequential\": [[0.0, \"#0d0887\"], [0.1111111111111111, \"#46039f\"], [0.2222222222222222, \"#7201a8\"], [0.3333333333333333, \"#9c179e\"], [0.4444444444444444, \"#bd3786\"], [0.5555555555555556, \"#d8576b\"], [0.6666666666666666, \"#ed7953\"], [0.7777777777777778, \"#fb9f3a\"], [0.8888888888888888, \"#fdca26\"], [1.0, \"#f0f921\"]], \"sequentialminus\": [[0.0, \"#0d0887\"], [0.1111111111111111, \"#46039f\"], [0.2222222222222222, \"#7201a8\"], [0.3333333333333333, \"#9c179e\"], [0.4444444444444444, \"#bd3786\"], [0.5555555555555556, \"#d8576b\"], [0.6666666666666666, \"#ed7953\"], [0.7777777777777778, \"#fb9f3a\"], [0.8888888888888888, \"#fdca26\"], [1.0, \"#f0f921\"]]}, \"colorway\": [\"#636efa\", \"#EF553B\", \"#00cc96\", \"#ab63fa\", \"#FFA15A\", \"#19d3f3\", \"#FF6692\", \"#B6E880\", \"#FF97FF\", \"#FECB52\"], \"font\": {\"color\": \"#2a3f5f\"}, \"geo\": {\"bgcolor\": \"white\", \"lakecolor\": \"white\", \"landcolor\": \"#E5ECF6\", \"showlakes\": true, \"showland\": true, \"subunitcolor\": \"white\"}, \"hoverlabel\": {\"align\": \"left\"}, \"hovermode\": \"closest\", \"mapbox\": {\"style\": \"light\"}, \"paper_bgcolor\": \"white\", \"plot_bgcolor\": \"#E5ECF6\", \"polar\": {\"angularaxis\": {\"gridcolor\": \"white\", \"linecolor\": \"white\", \"ticks\": \"\"}, \"bgcolor\": \"#E5ECF6\", \"radialaxis\": {\"gridcolor\": \"white\", \"linecolor\": \"white\", \"ticks\": \"\"}}, \"scene\": {\"xaxis\": {\"backgroundcolor\": \"#E5ECF6\", \"gridcolor\": \"white\", \"gridwidth\": 2, \"linecolor\": \"white\", \"showbackground\": true, \"ticks\": \"\", \"zerolinecolor\": \"white\"}, \"yaxis\": {\"backgroundcolor\": \"#E5ECF6\", \"gridcolor\": \"white\", \"gridwidth\": 2, \"linecolor\": \"white\", \"showbackground\": true, \"ticks\": \"\", \"zerolinecolor\": \"white\"}, \"zaxis\": {\"backgroundcolor\": \"#E5ECF6\", \"gridcolor\": \"white\", \"gridwidth\": 2, \"linecolor\": \"white\", \"showbackground\": true, \"ticks\": \"\", \"zerolinecolor\": \"white\"}}, \"shapedefaults\": {\"line\": {\"color\": \"#2a3f5f\"}}, \"ternary\": {\"aaxis\": {\"gridcolor\": \"white\", \"linecolor\": \"white\", \"ticks\": \"\"}, \"baxis\": {\"gridcolor\": \"white\", \"linecolor\": \"white\", \"ticks\": \"\"}, \"bgcolor\": \"#E5ECF6\", \"caxis\": {\"gridcolor\": \"white\", \"linecolor\": \"white\", \"ticks\": \"\"}}, \"title\": {\"x\": 0.05}, \"xaxis\": {\"automargin\": true, \"gridcolor\": \"white\", \"linecolor\": \"white\", \"ticks\": \"\", \"title\": {\"standoff\": 15}, \"zerolinecolor\": \"white\", \"zerolinewidth\": 2}, \"yaxis\": {\"automargin\": true, \"gridcolor\": \"white\", \"linecolor\": \"white\", \"ticks\": \"\", \"title\": {\"standoff\": 15}, \"zerolinecolor\": \"white\", \"zerolinewidth\": 2}}}, \"yaxis\": {\"range\": [0, 4], \"title\": {\"text\": \"RMSE\"}}},                        {\"responsive\": true}                    ).then(function(){\n",
       "                            \n",
       "var gd = document.getElementById('54f8ba66-2489-4d5a-8f8b-a301310aa2d3');\n",
       "var x = new MutationObserver(function (mutations, observer) {{\n",
       "        var display = window.getComputedStyle(gd).display;\n",
       "        if (!display || display === 'none') {{\n",
       "            console.log([gd, 'removed!']);\n",
       "            Plotly.purge(gd);\n",
       "            observer.disconnect();\n",
       "        }}\n",
       "}});\n",
       "\n",
       "// Listen for the removal of the full notebook cells\n",
       "var notebookContainer = gd.closest('#notebook-container');\n",
       "if (notebookContainer) {{\n",
       "    x.observe(notebookContainer, {childList: true});\n",
       "}}\n",
       "\n",
       "// Listen for the clearing of the current output cell\n",
       "var outputEl = gd.closest('.output');\n",
       "if (outputEl) {{\n",
       "    x.observe(outputEl, {childList: true});\n",
       "}}\n",
       "\n",
       "                        })                };                });            </script>        </div>"
      ]
     },
     "metadata": {},
     "output_type": "display_data"
    }
   ],
   "source": [
    "fig = compare_models(models)\n",
    "fig.update_yaxes(range = [0, 4], title = \"RMSE\")"
   ]
  },
  {
   "cell_type": "markdown",
   "metadata": {},
   "source": [
    "Oops, that was too much regularization. Let's do a search to find the best $\\alpha$:"
   ]
  },
  {
   "cell_type": "code",
   "execution_count": 53,
   "metadata": {},
   "outputs": [],
   "source": [
    "alphas = np.linspace(.5, 3.5, 20)\n",
    "cv_values = []\n",
    "train_values = []\n",
    "for alpha in alphas:\n",
    "    model = Ridge(alpha = alpha)\n",
    "    model.fit(name_design_matrix_std(tr), tr['mpg'])\n",
    "    train_values.append(rmse(tr['mpg'], model.predict(name_design_matrix_std(tr))))\n",
    "    \n",
    "    validation_rmse = cross_validate_rmse(name_design_matrix_std, model)\n",
    "    cv_values.append(validation_rmse)"
   ]
  },
  {
   "cell_type": "code",
   "execution_count": 54,
   "metadata": {},
   "outputs": [
    {
     "data": {
      "application/vnd.plotly.v1+json": {
       "config": {
        "plotlyServerURL": "https://plot.ly"
       },
       "data": [
        {
         "mode": "lines+markers",
         "name": "Train",
         "type": "scatter",
         "x": [
          0.5,
          0.6578947368421053,
          0.8157894736842105,
          0.9736842105263157,
          1.131578947368421,
          1.2894736842105263,
          1.4473684210526314,
          1.6052631578947367,
          1.763157894736842,
          1.9210526315789473,
          2.0789473684210527,
          2.2368421052631575,
          2.394736842105263,
          2.552631578947368,
          2.7105263157894735,
          2.8684210526315788,
          3.026315789473684,
          3.1842105263157894,
          3.3421052631578947,
          3.5
         ],
         "y": [
          1.552648037268123,
          1.614239540322395,
          1.6698833729958868,
          1.7204934307113067,
          1.7668002525072661,
          1.8093979617430331,
          1.8487747751435897,
          1.8853351587609457,
          1.9194166963156256,
          1.9513031712569235,
          1.9812347998476167,
          2.009416282784911,
          2.0360231752159454,
          2.061206955242694,
          2.085099081131514,
          2.107814259191151,
          2.129453092427267,
          2.150104240732496,
          2.1698461935206232,
          2.188748733040864
         ]
        },
        {
         "mode": "lines+markers",
         "name": "CV",
         "type": "scatter",
         "x": [
          0.5,
          0.6578947368421053,
          0.8157894736842105,
          0.9736842105263157,
          1.131578947368421,
          1.2894736842105263,
          1.4473684210526314,
          1.6052631578947367,
          1.763157894736842,
          1.9210526315789473,
          2.0789473684210527,
          2.2368421052631575,
          2.394736842105263,
          2.552631578947368,
          2.7105263157894735,
          2.8684210526315788,
          3.026315789473684,
          3.1842105263157894,
          3.3421052631578947,
          3.5
         ],
         "y": [
          3.1168076796253716,
          3.0923095361789827,
          3.0764778202517924,
          3.0659574264251743,
          3.05894485412404,
          3.054370201469677,
          3.0515533413093117,
          3.050039188552555,
          3.0495109624347263,
          3.049741125849587,
          3.0505620272248364,
          3.051847513278374,
          3.0535009707619376,
          3.055447298868182,
          3.0576273725237044,
          3.059994133392459,
          3.062509773241875,
          3.0651436676929746,
          3.067870836170013,
          3.0706707776696502
         ]
        }
       ],
       "layout": {
        "template": {
         "data": {
          "bar": [
           {
            "error_x": {
             "color": "#2a3f5f"
            },
            "error_y": {
             "color": "#2a3f5f"
            },
            "marker": {
             "line": {
              "color": "#E5ECF6",
              "width": 0.5
             }
            },
            "type": "bar"
           }
          ],
          "barpolar": [
           {
            "marker": {
             "line": {
              "color": "#E5ECF6",
              "width": 0.5
             }
            },
            "type": "barpolar"
           }
          ],
          "carpet": [
           {
            "aaxis": {
             "endlinecolor": "#2a3f5f",
             "gridcolor": "white",
             "linecolor": "white",
             "minorgridcolor": "white",
             "startlinecolor": "#2a3f5f"
            },
            "baxis": {
             "endlinecolor": "#2a3f5f",
             "gridcolor": "white",
             "linecolor": "white",
             "minorgridcolor": "white",
             "startlinecolor": "#2a3f5f"
            },
            "type": "carpet"
           }
          ],
          "choropleth": [
           {
            "colorbar": {
             "outlinewidth": 0,
             "ticks": ""
            },
            "type": "choropleth"
           }
          ],
          "contour": [
           {
            "colorbar": {
             "outlinewidth": 0,
             "ticks": ""
            },
            "colorscale": [
             [
              0,
              "#0d0887"
             ],
             [
              0.1111111111111111,
              "#46039f"
             ],
             [
              0.2222222222222222,
              "#7201a8"
             ],
             [
              0.3333333333333333,
              "#9c179e"
             ],
             [
              0.4444444444444444,
              "#bd3786"
             ],
             [
              0.5555555555555556,
              "#d8576b"
             ],
             [
              0.6666666666666666,
              "#ed7953"
             ],
             [
              0.7777777777777778,
              "#fb9f3a"
             ],
             [
              0.8888888888888888,
              "#fdca26"
             ],
             [
              1,
              "#f0f921"
             ]
            ],
            "type": "contour"
           }
          ],
          "contourcarpet": [
           {
            "colorbar": {
             "outlinewidth": 0,
             "ticks": ""
            },
            "type": "contourcarpet"
           }
          ],
          "heatmap": [
           {
            "colorbar": {
             "outlinewidth": 0,
             "ticks": ""
            },
            "colorscale": [
             [
              0,
              "#0d0887"
             ],
             [
              0.1111111111111111,
              "#46039f"
             ],
             [
              0.2222222222222222,
              "#7201a8"
             ],
             [
              0.3333333333333333,
              "#9c179e"
             ],
             [
              0.4444444444444444,
              "#bd3786"
             ],
             [
              0.5555555555555556,
              "#d8576b"
             ],
             [
              0.6666666666666666,
              "#ed7953"
             ],
             [
              0.7777777777777778,
              "#fb9f3a"
             ],
             [
              0.8888888888888888,
              "#fdca26"
             ],
             [
              1,
              "#f0f921"
             ]
            ],
            "type": "heatmap"
           }
          ],
          "heatmapgl": [
           {
            "colorbar": {
             "outlinewidth": 0,
             "ticks": ""
            },
            "colorscale": [
             [
              0,
              "#0d0887"
             ],
             [
              0.1111111111111111,
              "#46039f"
             ],
             [
              0.2222222222222222,
              "#7201a8"
             ],
             [
              0.3333333333333333,
              "#9c179e"
             ],
             [
              0.4444444444444444,
              "#bd3786"
             ],
             [
              0.5555555555555556,
              "#d8576b"
             ],
             [
              0.6666666666666666,
              "#ed7953"
             ],
             [
              0.7777777777777778,
              "#fb9f3a"
             ],
             [
              0.8888888888888888,
              "#fdca26"
             ],
             [
              1,
              "#f0f921"
             ]
            ],
            "type": "heatmapgl"
           }
          ],
          "histogram": [
           {
            "marker": {
             "colorbar": {
              "outlinewidth": 0,
              "ticks": ""
             }
            },
            "type": "histogram"
           }
          ],
          "histogram2d": [
           {
            "colorbar": {
             "outlinewidth": 0,
             "ticks": ""
            },
            "colorscale": [
             [
              0,
              "#0d0887"
             ],
             [
              0.1111111111111111,
              "#46039f"
             ],
             [
              0.2222222222222222,
              "#7201a8"
             ],
             [
              0.3333333333333333,
              "#9c179e"
             ],
             [
              0.4444444444444444,
              "#bd3786"
             ],
             [
              0.5555555555555556,
              "#d8576b"
             ],
             [
              0.6666666666666666,
              "#ed7953"
             ],
             [
              0.7777777777777778,
              "#fb9f3a"
             ],
             [
              0.8888888888888888,
              "#fdca26"
             ],
             [
              1,
              "#f0f921"
             ]
            ],
            "type": "histogram2d"
           }
          ],
          "histogram2dcontour": [
           {
            "colorbar": {
             "outlinewidth": 0,
             "ticks": ""
            },
            "colorscale": [
             [
              0,
              "#0d0887"
             ],
             [
              0.1111111111111111,
              "#46039f"
             ],
             [
              0.2222222222222222,
              "#7201a8"
             ],
             [
              0.3333333333333333,
              "#9c179e"
             ],
             [
              0.4444444444444444,
              "#bd3786"
             ],
             [
              0.5555555555555556,
              "#d8576b"
             ],
             [
              0.6666666666666666,
              "#ed7953"
             ],
             [
              0.7777777777777778,
              "#fb9f3a"
             ],
             [
              0.8888888888888888,
              "#fdca26"
             ],
             [
              1,
              "#f0f921"
             ]
            ],
            "type": "histogram2dcontour"
           }
          ],
          "mesh3d": [
           {
            "colorbar": {
             "outlinewidth": 0,
             "ticks": ""
            },
            "type": "mesh3d"
           }
          ],
          "parcoords": [
           {
            "line": {
             "colorbar": {
              "outlinewidth": 0,
              "ticks": ""
             }
            },
            "type": "parcoords"
           }
          ],
          "pie": [
           {
            "automargin": true,
            "type": "pie"
           }
          ],
          "scatter": [
           {
            "marker": {
             "colorbar": {
              "outlinewidth": 0,
              "ticks": ""
             }
            },
            "type": "scatter"
           }
          ],
          "scatter3d": [
           {
            "line": {
             "colorbar": {
              "outlinewidth": 0,
              "ticks": ""
             }
            },
            "marker": {
             "colorbar": {
              "outlinewidth": 0,
              "ticks": ""
             }
            },
            "type": "scatter3d"
           }
          ],
          "scattercarpet": [
           {
            "marker": {
             "colorbar": {
              "outlinewidth": 0,
              "ticks": ""
             }
            },
            "type": "scattercarpet"
           }
          ],
          "scattergeo": [
           {
            "marker": {
             "colorbar": {
              "outlinewidth": 0,
              "ticks": ""
             }
            },
            "type": "scattergeo"
           }
          ],
          "scattergl": [
           {
            "marker": {
             "colorbar": {
              "outlinewidth": 0,
              "ticks": ""
             }
            },
            "type": "scattergl"
           }
          ],
          "scattermapbox": [
           {
            "marker": {
             "colorbar": {
              "outlinewidth": 0,
              "ticks": ""
             }
            },
            "type": "scattermapbox"
           }
          ],
          "scatterpolar": [
           {
            "marker": {
             "colorbar": {
              "outlinewidth": 0,
              "ticks": ""
             }
            },
            "type": "scatterpolar"
           }
          ],
          "scatterpolargl": [
           {
            "marker": {
             "colorbar": {
              "outlinewidth": 0,
              "ticks": ""
             }
            },
            "type": "scatterpolargl"
           }
          ],
          "scatterternary": [
           {
            "marker": {
             "colorbar": {
              "outlinewidth": 0,
              "ticks": ""
             }
            },
            "type": "scatterternary"
           }
          ],
          "surface": [
           {
            "colorbar": {
             "outlinewidth": 0,
             "ticks": ""
            },
            "colorscale": [
             [
              0,
              "#0d0887"
             ],
             [
              0.1111111111111111,
              "#46039f"
             ],
             [
              0.2222222222222222,
              "#7201a8"
             ],
             [
              0.3333333333333333,
              "#9c179e"
             ],
             [
              0.4444444444444444,
              "#bd3786"
             ],
             [
              0.5555555555555556,
              "#d8576b"
             ],
             [
              0.6666666666666666,
              "#ed7953"
             ],
             [
              0.7777777777777778,
              "#fb9f3a"
             ],
             [
              0.8888888888888888,
              "#fdca26"
             ],
             [
              1,
              "#f0f921"
             ]
            ],
            "type": "surface"
           }
          ],
          "table": [
           {
            "cells": {
             "fill": {
              "color": "#EBF0F8"
             },
             "line": {
              "color": "white"
             }
            },
            "header": {
             "fill": {
              "color": "#C8D4E3"
             },
             "line": {
              "color": "white"
             }
            },
            "type": "table"
           }
          ]
         },
         "layout": {
          "annotationdefaults": {
           "arrowcolor": "#2a3f5f",
           "arrowhead": 0,
           "arrowwidth": 1
          },
          "autotypenumbers": "strict",
          "coloraxis": {
           "colorbar": {
            "outlinewidth": 0,
            "ticks": ""
           }
          },
          "colorscale": {
           "diverging": [
            [
             0,
             "#8e0152"
            ],
            [
             0.1,
             "#c51b7d"
            ],
            [
             0.2,
             "#de77ae"
            ],
            [
             0.3,
             "#f1b6da"
            ],
            [
             0.4,
             "#fde0ef"
            ],
            [
             0.5,
             "#f7f7f7"
            ],
            [
             0.6,
             "#e6f5d0"
            ],
            [
             0.7,
             "#b8e186"
            ],
            [
             0.8,
             "#7fbc41"
            ],
            [
             0.9,
             "#4d9221"
            ],
            [
             1,
             "#276419"
            ]
           ],
           "sequential": [
            [
             0,
             "#0d0887"
            ],
            [
             0.1111111111111111,
             "#46039f"
            ],
            [
             0.2222222222222222,
             "#7201a8"
            ],
            [
             0.3333333333333333,
             "#9c179e"
            ],
            [
             0.4444444444444444,
             "#bd3786"
            ],
            [
             0.5555555555555556,
             "#d8576b"
            ],
            [
             0.6666666666666666,
             "#ed7953"
            ],
            [
             0.7777777777777778,
             "#fb9f3a"
            ],
            [
             0.8888888888888888,
             "#fdca26"
            ],
            [
             1,
             "#f0f921"
            ]
           ],
           "sequentialminus": [
            [
             0,
             "#0d0887"
            ],
            [
             0.1111111111111111,
             "#46039f"
            ],
            [
             0.2222222222222222,
             "#7201a8"
            ],
            [
             0.3333333333333333,
             "#9c179e"
            ],
            [
             0.4444444444444444,
             "#bd3786"
            ],
            [
             0.5555555555555556,
             "#d8576b"
            ],
            [
             0.6666666666666666,
             "#ed7953"
            ],
            [
             0.7777777777777778,
             "#fb9f3a"
            ],
            [
             0.8888888888888888,
             "#fdca26"
            ],
            [
             1,
             "#f0f921"
            ]
           ]
          },
          "colorway": [
           "#636efa",
           "#EF553B",
           "#00cc96",
           "#ab63fa",
           "#FFA15A",
           "#19d3f3",
           "#FF6692",
           "#B6E880",
           "#FF97FF",
           "#FECB52"
          ],
          "font": {
           "color": "#2a3f5f"
          },
          "geo": {
           "bgcolor": "white",
           "lakecolor": "white",
           "landcolor": "#E5ECF6",
           "showlakes": true,
           "showland": true,
           "subunitcolor": "white"
          },
          "hoverlabel": {
           "align": "left"
          },
          "hovermode": "closest",
          "mapbox": {
           "style": "light"
          },
          "paper_bgcolor": "white",
          "plot_bgcolor": "#E5ECF6",
          "polar": {
           "angularaxis": {
            "gridcolor": "white",
            "linecolor": "white",
            "ticks": ""
           },
           "bgcolor": "#E5ECF6",
           "radialaxis": {
            "gridcolor": "white",
            "linecolor": "white",
            "ticks": ""
           }
          },
          "scene": {
           "xaxis": {
            "backgroundcolor": "#E5ECF6",
            "gridcolor": "white",
            "gridwidth": 2,
            "linecolor": "white",
            "showbackground": true,
            "ticks": "",
            "zerolinecolor": "white"
           },
           "yaxis": {
            "backgroundcolor": "#E5ECF6",
            "gridcolor": "white",
            "gridwidth": 2,
            "linecolor": "white",
            "showbackground": true,
            "ticks": "",
            "zerolinecolor": "white"
           },
           "zaxis": {
            "backgroundcolor": "#E5ECF6",
            "gridcolor": "white",
            "gridwidth": 2,
            "linecolor": "white",
            "showbackground": true,
            "ticks": "",
            "zerolinecolor": "white"
           }
          },
          "shapedefaults": {
           "line": {
            "color": "#2a3f5f"
           }
          },
          "ternary": {
           "aaxis": {
            "gridcolor": "white",
            "linecolor": "white",
            "ticks": ""
           },
           "baxis": {
            "gridcolor": "white",
            "linecolor": "white",
            "ticks": ""
           },
           "bgcolor": "#E5ECF6",
           "caxis": {
            "gridcolor": "white",
            "linecolor": "white",
            "ticks": ""
           }
          },
          "title": {
           "x": 0.05
          },
          "xaxis": {
           "automargin": true,
           "gridcolor": "white",
           "linecolor": "white",
           "ticks": "",
           "title": {
            "standoff": 15
           },
           "zerolinecolor": "white",
           "zerolinewidth": 2
          },
          "yaxis": {
           "automargin": true,
           "gridcolor": "white",
           "linecolor": "white",
           "ticks": "",
           "title": {
            "standoff": 15
           },
           "zerolinecolor": "white",
           "zerolinewidth": 2
          }
         }
        },
        "xaxis": {
         "title": {
          "text": "$\\alpha$"
         }
        },
        "yaxis": {
         "title": {
          "text": "CV RMSE"
         }
        }
       }
      },
      "text/html": [
       "<div>                            <div id=\"15fe1e29-655d-4381-ba79-2721258d77cf\" class=\"plotly-graph-div\" style=\"height:525px; width:100%;\"></div>            <script type=\"text/javascript\">                require([\"plotly\"], function(Plotly) {                    window.PLOTLYENV=window.PLOTLYENV || {};                                    if (document.getElementById(\"15fe1e29-655d-4381-ba79-2721258d77cf\")) {                    Plotly.newPlot(                        \"15fe1e29-655d-4381-ba79-2721258d77cf\",                        [{\"mode\": \"lines+markers\", \"name\": \"Train\", \"type\": \"scatter\", \"x\": [0.5, 0.6578947368421053, 0.8157894736842105, 0.9736842105263157, 1.131578947368421, 1.2894736842105263, 1.4473684210526314, 1.6052631578947367, 1.763157894736842, 1.9210526315789473, 2.0789473684210527, 2.2368421052631575, 2.394736842105263, 2.552631578947368, 2.7105263157894735, 2.8684210526315788, 3.026315789473684, 3.1842105263157894, 3.3421052631578947, 3.5], \"y\": [1.552648037268123, 1.614239540322395, 1.6698833729958868, 1.7204934307113067, 1.7668002525072661, 1.8093979617430331, 1.8487747751435897, 1.8853351587609457, 1.9194166963156256, 1.9513031712569235, 1.9812347998476167, 2.009416282784911, 2.0360231752159454, 2.061206955242694, 2.085099081131514, 2.107814259191151, 2.129453092427267, 2.150104240732496, 2.1698461935206232, 2.188748733040864]}, {\"mode\": \"lines+markers\", \"name\": \"CV\", \"type\": \"scatter\", \"x\": [0.5, 0.6578947368421053, 0.8157894736842105, 0.9736842105263157, 1.131578947368421, 1.2894736842105263, 1.4473684210526314, 1.6052631578947367, 1.763157894736842, 1.9210526315789473, 2.0789473684210527, 2.2368421052631575, 2.394736842105263, 2.552631578947368, 2.7105263157894735, 2.8684210526315788, 3.026315789473684, 3.1842105263157894, 3.3421052631578947, 3.5], \"y\": [3.1168076796253716, 3.0923095361789827, 3.0764778202517924, 3.0659574264251743, 3.05894485412404, 3.054370201469677, 3.0515533413093117, 3.050039188552555, 3.0495109624347263, 3.049741125849587, 3.0505620272248364, 3.051847513278374, 3.0535009707619376, 3.055447298868182, 3.0576273725237044, 3.059994133392459, 3.062509773241875, 3.0651436676929746, 3.067870836170013, 3.0706707776696502]}],                        {\"template\": {\"data\": {\"bar\": [{\"error_x\": {\"color\": \"#2a3f5f\"}, \"error_y\": {\"color\": \"#2a3f5f\"}, \"marker\": {\"line\": {\"color\": \"#E5ECF6\", \"width\": 0.5}}, \"type\": \"bar\"}], \"barpolar\": [{\"marker\": {\"line\": {\"color\": \"#E5ECF6\", \"width\": 0.5}}, \"type\": \"barpolar\"}], \"carpet\": [{\"aaxis\": {\"endlinecolor\": \"#2a3f5f\", \"gridcolor\": \"white\", \"linecolor\": \"white\", \"minorgridcolor\": \"white\", \"startlinecolor\": \"#2a3f5f\"}, \"baxis\": {\"endlinecolor\": \"#2a3f5f\", \"gridcolor\": \"white\", \"linecolor\": \"white\", \"minorgridcolor\": \"white\", \"startlinecolor\": \"#2a3f5f\"}, \"type\": \"carpet\"}], \"choropleth\": [{\"colorbar\": {\"outlinewidth\": 0, \"ticks\": \"\"}, \"type\": \"choropleth\"}], \"contour\": [{\"colorbar\": {\"outlinewidth\": 0, \"ticks\": \"\"}, \"colorscale\": [[0.0, \"#0d0887\"], [0.1111111111111111, \"#46039f\"], [0.2222222222222222, \"#7201a8\"], [0.3333333333333333, \"#9c179e\"], [0.4444444444444444, \"#bd3786\"], [0.5555555555555556, \"#d8576b\"], [0.6666666666666666, \"#ed7953\"], [0.7777777777777778, \"#fb9f3a\"], [0.8888888888888888, \"#fdca26\"], [1.0, \"#f0f921\"]], \"type\": \"contour\"}], \"contourcarpet\": [{\"colorbar\": {\"outlinewidth\": 0, \"ticks\": \"\"}, \"type\": \"contourcarpet\"}], \"heatmap\": [{\"colorbar\": {\"outlinewidth\": 0, \"ticks\": \"\"}, \"colorscale\": [[0.0, \"#0d0887\"], [0.1111111111111111, \"#46039f\"], [0.2222222222222222, \"#7201a8\"], [0.3333333333333333, \"#9c179e\"], [0.4444444444444444, \"#bd3786\"], [0.5555555555555556, \"#d8576b\"], [0.6666666666666666, \"#ed7953\"], [0.7777777777777778, \"#fb9f3a\"], [0.8888888888888888, \"#fdca26\"], [1.0, \"#f0f921\"]], \"type\": \"heatmap\"}], \"heatmapgl\": [{\"colorbar\": {\"outlinewidth\": 0, \"ticks\": \"\"}, \"colorscale\": [[0.0, \"#0d0887\"], [0.1111111111111111, \"#46039f\"], [0.2222222222222222, \"#7201a8\"], [0.3333333333333333, \"#9c179e\"], [0.4444444444444444, \"#bd3786\"], [0.5555555555555556, \"#d8576b\"], [0.6666666666666666, \"#ed7953\"], [0.7777777777777778, \"#fb9f3a\"], [0.8888888888888888, \"#fdca26\"], [1.0, \"#f0f921\"]], \"type\": \"heatmapgl\"}], \"histogram\": [{\"marker\": {\"colorbar\": {\"outlinewidth\": 0, \"ticks\": \"\"}}, \"type\": \"histogram\"}], \"histogram2d\": [{\"colorbar\": {\"outlinewidth\": 0, \"ticks\": \"\"}, \"colorscale\": [[0.0, \"#0d0887\"], [0.1111111111111111, \"#46039f\"], [0.2222222222222222, \"#7201a8\"], [0.3333333333333333, \"#9c179e\"], [0.4444444444444444, \"#bd3786\"], [0.5555555555555556, \"#d8576b\"], [0.6666666666666666, \"#ed7953\"], [0.7777777777777778, \"#fb9f3a\"], [0.8888888888888888, \"#fdca26\"], [1.0, \"#f0f921\"]], \"type\": \"histogram2d\"}], \"histogram2dcontour\": [{\"colorbar\": {\"outlinewidth\": 0, \"ticks\": \"\"}, \"colorscale\": [[0.0, \"#0d0887\"], [0.1111111111111111, \"#46039f\"], [0.2222222222222222, \"#7201a8\"], [0.3333333333333333, \"#9c179e\"], [0.4444444444444444, \"#bd3786\"], [0.5555555555555556, \"#d8576b\"], [0.6666666666666666, \"#ed7953\"], [0.7777777777777778, \"#fb9f3a\"], [0.8888888888888888, \"#fdca26\"], [1.0, \"#f0f921\"]], \"type\": \"histogram2dcontour\"}], \"mesh3d\": [{\"colorbar\": {\"outlinewidth\": 0, \"ticks\": \"\"}, \"type\": \"mesh3d\"}], \"parcoords\": [{\"line\": {\"colorbar\": {\"outlinewidth\": 0, \"ticks\": \"\"}}, \"type\": \"parcoords\"}], \"pie\": [{\"automargin\": true, \"type\": \"pie\"}], \"scatter\": [{\"marker\": {\"colorbar\": {\"outlinewidth\": 0, \"ticks\": \"\"}}, \"type\": \"scatter\"}], \"scatter3d\": [{\"line\": {\"colorbar\": {\"outlinewidth\": 0, \"ticks\": \"\"}}, \"marker\": {\"colorbar\": {\"outlinewidth\": 0, \"ticks\": \"\"}}, \"type\": \"scatter3d\"}], \"scattercarpet\": [{\"marker\": {\"colorbar\": {\"outlinewidth\": 0, \"ticks\": \"\"}}, \"type\": \"scattercarpet\"}], \"scattergeo\": [{\"marker\": {\"colorbar\": {\"outlinewidth\": 0, \"ticks\": \"\"}}, \"type\": \"scattergeo\"}], \"scattergl\": [{\"marker\": {\"colorbar\": {\"outlinewidth\": 0, \"ticks\": \"\"}}, \"type\": \"scattergl\"}], \"scattermapbox\": [{\"marker\": {\"colorbar\": {\"outlinewidth\": 0, \"ticks\": \"\"}}, \"type\": \"scattermapbox\"}], \"scatterpolar\": [{\"marker\": {\"colorbar\": {\"outlinewidth\": 0, \"ticks\": \"\"}}, \"type\": \"scatterpolar\"}], \"scatterpolargl\": [{\"marker\": {\"colorbar\": {\"outlinewidth\": 0, \"ticks\": \"\"}}, \"type\": \"scatterpolargl\"}], \"scatterternary\": [{\"marker\": {\"colorbar\": {\"outlinewidth\": 0, \"ticks\": \"\"}}, \"type\": \"scatterternary\"}], \"surface\": [{\"colorbar\": {\"outlinewidth\": 0, \"ticks\": \"\"}, \"colorscale\": [[0.0, \"#0d0887\"], [0.1111111111111111, \"#46039f\"], [0.2222222222222222, \"#7201a8\"], [0.3333333333333333, \"#9c179e\"], [0.4444444444444444, \"#bd3786\"], [0.5555555555555556, \"#d8576b\"], [0.6666666666666666, \"#ed7953\"], [0.7777777777777778, \"#fb9f3a\"], [0.8888888888888888, \"#fdca26\"], [1.0, \"#f0f921\"]], \"type\": \"surface\"}], \"table\": [{\"cells\": {\"fill\": {\"color\": \"#EBF0F8\"}, \"line\": {\"color\": \"white\"}}, \"header\": {\"fill\": {\"color\": \"#C8D4E3\"}, \"line\": {\"color\": \"white\"}}, \"type\": \"table\"}]}, \"layout\": {\"annotationdefaults\": {\"arrowcolor\": \"#2a3f5f\", \"arrowhead\": 0, \"arrowwidth\": 1}, \"autotypenumbers\": \"strict\", \"coloraxis\": {\"colorbar\": {\"outlinewidth\": 0, \"ticks\": \"\"}}, \"colorscale\": {\"diverging\": [[0, \"#8e0152\"], [0.1, \"#c51b7d\"], [0.2, \"#de77ae\"], [0.3, \"#f1b6da\"], [0.4, \"#fde0ef\"], [0.5, \"#f7f7f7\"], [0.6, \"#e6f5d0\"], [0.7, \"#b8e186\"], [0.8, \"#7fbc41\"], [0.9, \"#4d9221\"], [1, \"#276419\"]], \"sequential\": [[0.0, \"#0d0887\"], [0.1111111111111111, \"#46039f\"], [0.2222222222222222, \"#7201a8\"], [0.3333333333333333, \"#9c179e\"], [0.4444444444444444, \"#bd3786\"], [0.5555555555555556, \"#d8576b\"], [0.6666666666666666, \"#ed7953\"], [0.7777777777777778, \"#fb9f3a\"], [0.8888888888888888, \"#fdca26\"], [1.0, \"#f0f921\"]], \"sequentialminus\": [[0.0, \"#0d0887\"], [0.1111111111111111, \"#46039f\"], [0.2222222222222222, \"#7201a8\"], [0.3333333333333333, \"#9c179e\"], [0.4444444444444444, \"#bd3786\"], [0.5555555555555556, \"#d8576b\"], [0.6666666666666666, \"#ed7953\"], [0.7777777777777778, \"#fb9f3a\"], [0.8888888888888888, \"#fdca26\"], [1.0, \"#f0f921\"]]}, \"colorway\": [\"#636efa\", \"#EF553B\", \"#00cc96\", \"#ab63fa\", \"#FFA15A\", \"#19d3f3\", \"#FF6692\", \"#B6E880\", \"#FF97FF\", \"#FECB52\"], \"font\": {\"color\": \"#2a3f5f\"}, \"geo\": {\"bgcolor\": \"white\", \"lakecolor\": \"white\", \"landcolor\": \"#E5ECF6\", \"showlakes\": true, \"showland\": true, \"subunitcolor\": \"white\"}, \"hoverlabel\": {\"align\": \"left\"}, \"hovermode\": \"closest\", \"mapbox\": {\"style\": \"light\"}, \"paper_bgcolor\": \"white\", \"plot_bgcolor\": \"#E5ECF6\", \"polar\": {\"angularaxis\": {\"gridcolor\": \"white\", \"linecolor\": \"white\", \"ticks\": \"\"}, \"bgcolor\": \"#E5ECF6\", \"radialaxis\": {\"gridcolor\": \"white\", \"linecolor\": \"white\", \"ticks\": \"\"}}, \"scene\": {\"xaxis\": {\"backgroundcolor\": \"#E5ECF6\", \"gridcolor\": \"white\", \"gridwidth\": 2, \"linecolor\": \"white\", \"showbackground\": true, \"ticks\": \"\", \"zerolinecolor\": \"white\"}, \"yaxis\": {\"backgroundcolor\": \"#E5ECF6\", \"gridcolor\": \"white\", \"gridwidth\": 2, \"linecolor\": \"white\", \"showbackground\": true, \"ticks\": \"\", \"zerolinecolor\": \"white\"}, \"zaxis\": {\"backgroundcolor\": \"#E5ECF6\", \"gridcolor\": \"white\", \"gridwidth\": 2, \"linecolor\": \"white\", \"showbackground\": true, \"ticks\": \"\", \"zerolinecolor\": \"white\"}}, \"shapedefaults\": {\"line\": {\"color\": \"#2a3f5f\"}}, \"ternary\": {\"aaxis\": {\"gridcolor\": \"white\", \"linecolor\": \"white\", \"ticks\": \"\"}, \"baxis\": {\"gridcolor\": \"white\", \"linecolor\": \"white\", \"ticks\": \"\"}, \"bgcolor\": \"#E5ECF6\", \"caxis\": {\"gridcolor\": \"white\", \"linecolor\": \"white\", \"ticks\": \"\"}}, \"title\": {\"x\": 0.05}, \"xaxis\": {\"automargin\": true, \"gridcolor\": \"white\", \"linecolor\": \"white\", \"ticks\": \"\", \"title\": {\"standoff\": 15}, \"zerolinecolor\": \"white\", \"zerolinewidth\": 2}, \"yaxis\": {\"automargin\": true, \"gridcolor\": \"white\", \"linecolor\": \"white\", \"ticks\": \"\", \"title\": {\"standoff\": 15}, \"zerolinecolor\": \"white\", \"zerolinewidth\": 2}}}, \"xaxis\": {\"title\": {\"text\": \"$\\\\alpha$\"}}, \"yaxis\": {\"title\": {\"text\": \"CV RMSE\"}}},                        {\"responsive\": true}                    ).then(function(){\n",
       "                            \n",
       "var gd = document.getElementById('15fe1e29-655d-4381-ba79-2721258d77cf');\n",
       "var x = new MutationObserver(function (mutations, observer) {{\n",
       "        var display = window.getComputedStyle(gd).display;\n",
       "        if (!display || display === 'none') {{\n",
       "            console.log([gd, 'removed!']);\n",
       "            Plotly.purge(gd);\n",
       "            observer.disconnect();\n",
       "        }}\n",
       "}});\n",
       "\n",
       "// Listen for the removal of the full notebook cells\n",
       "var notebookContainer = gd.closest('#notebook-container');\n",
       "if (notebookContainer) {{\n",
       "    x.observe(notebookContainer, {childList: true});\n",
       "}}\n",
       "\n",
       "// Listen for the clearing of the current output cell\n",
       "var outputEl = gd.closest('.output');\n",
       "if (outputEl) {{\n",
       "    x.observe(outputEl, {childList: true});\n",
       "}}\n",
       "\n",
       "                        })                };                });            </script>        </div>"
      ]
     },
     "metadata": {},
     "output_type": "display_data"
    }
   ],
   "source": [
    "fig = go.Figure()\n",
    "fig.add_trace(go.Scatter(x = alphas, y = train_values, mode=\"lines+markers\", name=\"Train\"))\n",
    "fig.add_trace(go.Scatter(x = alphas, y = cv_values, mode=\"lines+markers\", name=\"CV\"))\n",
    "fig.update_layout(xaxis_title=r\"$\\alpha$\", yaxis_title=\"CV RMSE\")"
   ]
  },
  {
   "cell_type": "code",
   "execution_count": 55,
   "metadata": {},
   "outputs": [],
   "source": [
    "models['quant+dc+o+n-Ridge1.75'] = (name_design_matrix_std,  Ridge(alpha = 1.75))"
   ]
  },
  {
   "cell_type": "code",
   "execution_count": 56,
   "metadata": {},
   "outputs": [
    {
     "data": {
      "application/vnd.plotly.v1+json": {
       "config": {
        "plotlyServerURL": "https://plot.ly"
       },
       "data": [
        {
         "name": "Training RMSE",
         "type": "bar",
         "x": [
          "quant",
          "quant+dc",
          "quant+dc+o",
          "quant+dc+o+b",
          "quant+dc+o+n-Ridge.5",
          "quant+dc+o+n-Ridge100",
          "quant+dc+o+n-Ridge1.75"
         ],
         "y": [
          3.374582699942459,
          3.033309344625912,
          3.012941172853172,
          2.867381563556755,
          1.552648037268123,
          3.396301099326061,
          1.9166640085970064
         ]
        },
        {
         "name": "CV RMSE",
         "type": "bar",
         "x": [
          "quant",
          "quant+dc",
          "quant+dc+o",
          "quant+dc+o+b",
          "quant+dc+o+n-Ridge.5",
          "quant+dc+o+n-Ridge100",
          "quant+dc+o+n-Ridge1.75"
         ],
         "y": [
          3.4559015156162536,
          3.1113159765045717,
          3.120728518015189,
          3.225417481246393,
          3.1168076796253716,
          3.592535514336082,
          3.049523335111177
         ]
        }
       ],
       "layout": {
        "template": {
         "data": {
          "bar": [
           {
            "error_x": {
             "color": "#2a3f5f"
            },
            "error_y": {
             "color": "#2a3f5f"
            },
            "marker": {
             "line": {
              "color": "#E5ECF6",
              "width": 0.5
             }
            },
            "type": "bar"
           }
          ],
          "barpolar": [
           {
            "marker": {
             "line": {
              "color": "#E5ECF6",
              "width": 0.5
             }
            },
            "type": "barpolar"
           }
          ],
          "carpet": [
           {
            "aaxis": {
             "endlinecolor": "#2a3f5f",
             "gridcolor": "white",
             "linecolor": "white",
             "minorgridcolor": "white",
             "startlinecolor": "#2a3f5f"
            },
            "baxis": {
             "endlinecolor": "#2a3f5f",
             "gridcolor": "white",
             "linecolor": "white",
             "minorgridcolor": "white",
             "startlinecolor": "#2a3f5f"
            },
            "type": "carpet"
           }
          ],
          "choropleth": [
           {
            "colorbar": {
             "outlinewidth": 0,
             "ticks": ""
            },
            "type": "choropleth"
           }
          ],
          "contour": [
           {
            "colorbar": {
             "outlinewidth": 0,
             "ticks": ""
            },
            "colorscale": [
             [
              0,
              "#0d0887"
             ],
             [
              0.1111111111111111,
              "#46039f"
             ],
             [
              0.2222222222222222,
              "#7201a8"
             ],
             [
              0.3333333333333333,
              "#9c179e"
             ],
             [
              0.4444444444444444,
              "#bd3786"
             ],
             [
              0.5555555555555556,
              "#d8576b"
             ],
             [
              0.6666666666666666,
              "#ed7953"
             ],
             [
              0.7777777777777778,
              "#fb9f3a"
             ],
             [
              0.8888888888888888,
              "#fdca26"
             ],
             [
              1,
              "#f0f921"
             ]
            ],
            "type": "contour"
           }
          ],
          "contourcarpet": [
           {
            "colorbar": {
             "outlinewidth": 0,
             "ticks": ""
            },
            "type": "contourcarpet"
           }
          ],
          "heatmap": [
           {
            "colorbar": {
             "outlinewidth": 0,
             "ticks": ""
            },
            "colorscale": [
             [
              0,
              "#0d0887"
             ],
             [
              0.1111111111111111,
              "#46039f"
             ],
             [
              0.2222222222222222,
              "#7201a8"
             ],
             [
              0.3333333333333333,
              "#9c179e"
             ],
             [
              0.4444444444444444,
              "#bd3786"
             ],
             [
              0.5555555555555556,
              "#d8576b"
             ],
             [
              0.6666666666666666,
              "#ed7953"
             ],
             [
              0.7777777777777778,
              "#fb9f3a"
             ],
             [
              0.8888888888888888,
              "#fdca26"
             ],
             [
              1,
              "#f0f921"
             ]
            ],
            "type": "heatmap"
           }
          ],
          "heatmapgl": [
           {
            "colorbar": {
             "outlinewidth": 0,
             "ticks": ""
            },
            "colorscale": [
             [
              0,
              "#0d0887"
             ],
             [
              0.1111111111111111,
              "#46039f"
             ],
             [
              0.2222222222222222,
              "#7201a8"
             ],
             [
              0.3333333333333333,
              "#9c179e"
             ],
             [
              0.4444444444444444,
              "#bd3786"
             ],
             [
              0.5555555555555556,
              "#d8576b"
             ],
             [
              0.6666666666666666,
              "#ed7953"
             ],
             [
              0.7777777777777778,
              "#fb9f3a"
             ],
             [
              0.8888888888888888,
              "#fdca26"
             ],
             [
              1,
              "#f0f921"
             ]
            ],
            "type": "heatmapgl"
           }
          ],
          "histogram": [
           {
            "marker": {
             "colorbar": {
              "outlinewidth": 0,
              "ticks": ""
             }
            },
            "type": "histogram"
           }
          ],
          "histogram2d": [
           {
            "colorbar": {
             "outlinewidth": 0,
             "ticks": ""
            },
            "colorscale": [
             [
              0,
              "#0d0887"
             ],
             [
              0.1111111111111111,
              "#46039f"
             ],
             [
              0.2222222222222222,
              "#7201a8"
             ],
             [
              0.3333333333333333,
              "#9c179e"
             ],
             [
              0.4444444444444444,
              "#bd3786"
             ],
             [
              0.5555555555555556,
              "#d8576b"
             ],
             [
              0.6666666666666666,
              "#ed7953"
             ],
             [
              0.7777777777777778,
              "#fb9f3a"
             ],
             [
              0.8888888888888888,
              "#fdca26"
             ],
             [
              1,
              "#f0f921"
             ]
            ],
            "type": "histogram2d"
           }
          ],
          "histogram2dcontour": [
           {
            "colorbar": {
             "outlinewidth": 0,
             "ticks": ""
            },
            "colorscale": [
             [
              0,
              "#0d0887"
             ],
             [
              0.1111111111111111,
              "#46039f"
             ],
             [
              0.2222222222222222,
              "#7201a8"
             ],
             [
              0.3333333333333333,
              "#9c179e"
             ],
             [
              0.4444444444444444,
              "#bd3786"
             ],
             [
              0.5555555555555556,
              "#d8576b"
             ],
             [
              0.6666666666666666,
              "#ed7953"
             ],
             [
              0.7777777777777778,
              "#fb9f3a"
             ],
             [
              0.8888888888888888,
              "#fdca26"
             ],
             [
              1,
              "#f0f921"
             ]
            ],
            "type": "histogram2dcontour"
           }
          ],
          "mesh3d": [
           {
            "colorbar": {
             "outlinewidth": 0,
             "ticks": ""
            },
            "type": "mesh3d"
           }
          ],
          "parcoords": [
           {
            "line": {
             "colorbar": {
              "outlinewidth": 0,
              "ticks": ""
             }
            },
            "type": "parcoords"
           }
          ],
          "pie": [
           {
            "automargin": true,
            "type": "pie"
           }
          ],
          "scatter": [
           {
            "marker": {
             "colorbar": {
              "outlinewidth": 0,
              "ticks": ""
             }
            },
            "type": "scatter"
           }
          ],
          "scatter3d": [
           {
            "line": {
             "colorbar": {
              "outlinewidth": 0,
              "ticks": ""
             }
            },
            "marker": {
             "colorbar": {
              "outlinewidth": 0,
              "ticks": ""
             }
            },
            "type": "scatter3d"
           }
          ],
          "scattercarpet": [
           {
            "marker": {
             "colorbar": {
              "outlinewidth": 0,
              "ticks": ""
             }
            },
            "type": "scattercarpet"
           }
          ],
          "scattergeo": [
           {
            "marker": {
             "colorbar": {
              "outlinewidth": 0,
              "ticks": ""
             }
            },
            "type": "scattergeo"
           }
          ],
          "scattergl": [
           {
            "marker": {
             "colorbar": {
              "outlinewidth": 0,
              "ticks": ""
             }
            },
            "type": "scattergl"
           }
          ],
          "scattermapbox": [
           {
            "marker": {
             "colorbar": {
              "outlinewidth": 0,
              "ticks": ""
             }
            },
            "type": "scattermapbox"
           }
          ],
          "scatterpolar": [
           {
            "marker": {
             "colorbar": {
              "outlinewidth": 0,
              "ticks": ""
             }
            },
            "type": "scatterpolar"
           }
          ],
          "scatterpolargl": [
           {
            "marker": {
             "colorbar": {
              "outlinewidth": 0,
              "ticks": ""
             }
            },
            "type": "scatterpolargl"
           }
          ],
          "scatterternary": [
           {
            "marker": {
             "colorbar": {
              "outlinewidth": 0,
              "ticks": ""
             }
            },
            "type": "scatterternary"
           }
          ],
          "surface": [
           {
            "colorbar": {
             "outlinewidth": 0,
             "ticks": ""
            },
            "colorscale": [
             [
              0,
              "#0d0887"
             ],
             [
              0.1111111111111111,
              "#46039f"
             ],
             [
              0.2222222222222222,
              "#7201a8"
             ],
             [
              0.3333333333333333,
              "#9c179e"
             ],
             [
              0.4444444444444444,
              "#bd3786"
             ],
             [
              0.5555555555555556,
              "#d8576b"
             ],
             [
              0.6666666666666666,
              "#ed7953"
             ],
             [
              0.7777777777777778,
              "#fb9f3a"
             ],
             [
              0.8888888888888888,
              "#fdca26"
             ],
             [
              1,
              "#f0f921"
             ]
            ],
            "type": "surface"
           }
          ],
          "table": [
           {
            "cells": {
             "fill": {
              "color": "#EBF0F8"
             },
             "line": {
              "color": "white"
             }
            },
            "header": {
             "fill": {
              "color": "#C8D4E3"
             },
             "line": {
              "color": "white"
             }
            },
            "type": "table"
           }
          ]
         },
         "layout": {
          "annotationdefaults": {
           "arrowcolor": "#2a3f5f",
           "arrowhead": 0,
           "arrowwidth": 1
          },
          "autotypenumbers": "strict",
          "coloraxis": {
           "colorbar": {
            "outlinewidth": 0,
            "ticks": ""
           }
          },
          "colorscale": {
           "diverging": [
            [
             0,
             "#8e0152"
            ],
            [
             0.1,
             "#c51b7d"
            ],
            [
             0.2,
             "#de77ae"
            ],
            [
             0.3,
             "#f1b6da"
            ],
            [
             0.4,
             "#fde0ef"
            ],
            [
             0.5,
             "#f7f7f7"
            ],
            [
             0.6,
             "#e6f5d0"
            ],
            [
             0.7,
             "#b8e186"
            ],
            [
             0.8,
             "#7fbc41"
            ],
            [
             0.9,
             "#4d9221"
            ],
            [
             1,
             "#276419"
            ]
           ],
           "sequential": [
            [
             0,
             "#0d0887"
            ],
            [
             0.1111111111111111,
             "#46039f"
            ],
            [
             0.2222222222222222,
             "#7201a8"
            ],
            [
             0.3333333333333333,
             "#9c179e"
            ],
            [
             0.4444444444444444,
             "#bd3786"
            ],
            [
             0.5555555555555556,
             "#d8576b"
            ],
            [
             0.6666666666666666,
             "#ed7953"
            ],
            [
             0.7777777777777778,
             "#fb9f3a"
            ],
            [
             0.8888888888888888,
             "#fdca26"
            ],
            [
             1,
             "#f0f921"
            ]
           ],
           "sequentialminus": [
            [
             0,
             "#0d0887"
            ],
            [
             0.1111111111111111,
             "#46039f"
            ],
            [
             0.2222222222222222,
             "#7201a8"
            ],
            [
             0.3333333333333333,
             "#9c179e"
            ],
            [
             0.4444444444444444,
             "#bd3786"
            ],
            [
             0.5555555555555556,
             "#d8576b"
            ],
            [
             0.6666666666666666,
             "#ed7953"
            ],
            [
             0.7777777777777778,
             "#fb9f3a"
            ],
            [
             0.8888888888888888,
             "#fdca26"
            ],
            [
             1,
             "#f0f921"
            ]
           ]
          },
          "colorway": [
           "#636efa",
           "#EF553B",
           "#00cc96",
           "#ab63fa",
           "#FFA15A",
           "#19d3f3",
           "#FF6692",
           "#B6E880",
           "#FF97FF",
           "#FECB52"
          ],
          "font": {
           "color": "#2a3f5f"
          },
          "geo": {
           "bgcolor": "white",
           "lakecolor": "white",
           "landcolor": "#E5ECF6",
           "showlakes": true,
           "showland": true,
           "subunitcolor": "white"
          },
          "hoverlabel": {
           "align": "left"
          },
          "hovermode": "closest",
          "mapbox": {
           "style": "light"
          },
          "paper_bgcolor": "white",
          "plot_bgcolor": "#E5ECF6",
          "polar": {
           "angularaxis": {
            "gridcolor": "white",
            "linecolor": "white",
            "ticks": ""
           },
           "bgcolor": "#E5ECF6",
           "radialaxis": {
            "gridcolor": "white",
            "linecolor": "white",
            "ticks": ""
           }
          },
          "scene": {
           "xaxis": {
            "backgroundcolor": "#E5ECF6",
            "gridcolor": "white",
            "gridwidth": 2,
            "linecolor": "white",
            "showbackground": true,
            "ticks": "",
            "zerolinecolor": "white"
           },
           "yaxis": {
            "backgroundcolor": "#E5ECF6",
            "gridcolor": "white",
            "gridwidth": 2,
            "linecolor": "white",
            "showbackground": true,
            "ticks": "",
            "zerolinecolor": "white"
           },
           "zaxis": {
            "backgroundcolor": "#E5ECF6",
            "gridcolor": "white",
            "gridwidth": 2,
            "linecolor": "white",
            "showbackground": true,
            "ticks": "",
            "zerolinecolor": "white"
           }
          },
          "shapedefaults": {
           "line": {
            "color": "#2a3f5f"
           }
          },
          "ternary": {
           "aaxis": {
            "gridcolor": "white",
            "linecolor": "white",
            "ticks": ""
           },
           "baxis": {
            "gridcolor": "white",
            "linecolor": "white",
            "ticks": ""
           },
           "bgcolor": "#E5ECF6",
           "caxis": {
            "gridcolor": "white",
            "linecolor": "white",
            "ticks": ""
           }
          },
          "title": {
           "x": 0.05
          },
          "xaxis": {
           "automargin": true,
           "gridcolor": "white",
           "linecolor": "white",
           "ticks": "",
           "title": {
            "standoff": 15
           },
           "zerolinecolor": "white",
           "zerolinewidth": 2
          },
          "yaxis": {
           "automargin": true,
           "gridcolor": "white",
           "linecolor": "white",
           "ticks": "",
           "title": {
            "standoff": 15
           },
           "zerolinecolor": "white",
           "zerolinewidth": 2
          }
         }
        },
        "yaxis": {
         "range": [
          0,
          4
         ],
         "title": {
          "text": "RMSE"
         }
        }
       }
      },
      "text/html": [
       "<div>                            <div id=\"6e87686a-337a-47a0-a12a-df6fe6dfa32d\" class=\"plotly-graph-div\" style=\"height:525px; width:100%;\"></div>            <script type=\"text/javascript\">                require([\"plotly\"], function(Plotly) {                    window.PLOTLYENV=window.PLOTLYENV || {};                                    if (document.getElementById(\"6e87686a-337a-47a0-a12a-df6fe6dfa32d\")) {                    Plotly.newPlot(                        \"6e87686a-337a-47a0-a12a-df6fe6dfa32d\",                        [{\"name\": \"Training RMSE\", \"type\": \"bar\", \"x\": [\"quant\", \"quant+dc\", \"quant+dc+o\", \"quant+dc+o+b\", \"quant+dc+o+n-Ridge.5\", \"quant+dc+o+n-Ridge100\", \"quant+dc+o+n-Ridge1.75\"], \"y\": [3.374582699942459, 3.033309344625912, 3.012941172853172, 2.867381563556755, 1.552648037268123, 3.396301099326061, 1.9166640085970064]}, {\"name\": \"CV RMSE\", \"type\": \"bar\", \"x\": [\"quant\", \"quant+dc\", \"quant+dc+o\", \"quant+dc+o+b\", \"quant+dc+o+n-Ridge.5\", \"quant+dc+o+n-Ridge100\", \"quant+dc+o+n-Ridge1.75\"], \"y\": [3.4559015156162536, 3.1113159765045717, 3.120728518015189, 3.225417481246393, 3.1168076796253716, 3.592535514336082, 3.049523335111177]}],                        {\"template\": {\"data\": {\"bar\": [{\"error_x\": {\"color\": \"#2a3f5f\"}, \"error_y\": {\"color\": \"#2a3f5f\"}, \"marker\": {\"line\": {\"color\": \"#E5ECF6\", \"width\": 0.5}}, \"type\": \"bar\"}], \"barpolar\": [{\"marker\": {\"line\": {\"color\": \"#E5ECF6\", \"width\": 0.5}}, \"type\": \"barpolar\"}], \"carpet\": [{\"aaxis\": {\"endlinecolor\": \"#2a3f5f\", \"gridcolor\": \"white\", \"linecolor\": \"white\", \"minorgridcolor\": \"white\", \"startlinecolor\": \"#2a3f5f\"}, \"baxis\": {\"endlinecolor\": \"#2a3f5f\", \"gridcolor\": \"white\", \"linecolor\": \"white\", \"minorgridcolor\": \"white\", \"startlinecolor\": \"#2a3f5f\"}, \"type\": \"carpet\"}], \"choropleth\": [{\"colorbar\": {\"outlinewidth\": 0, \"ticks\": \"\"}, \"type\": \"choropleth\"}], \"contour\": [{\"colorbar\": {\"outlinewidth\": 0, \"ticks\": \"\"}, \"colorscale\": [[0.0, \"#0d0887\"], [0.1111111111111111, \"#46039f\"], [0.2222222222222222, \"#7201a8\"], [0.3333333333333333, \"#9c179e\"], [0.4444444444444444, \"#bd3786\"], [0.5555555555555556, \"#d8576b\"], [0.6666666666666666, \"#ed7953\"], [0.7777777777777778, \"#fb9f3a\"], [0.8888888888888888, \"#fdca26\"], [1.0, \"#f0f921\"]], \"type\": \"contour\"}], \"contourcarpet\": [{\"colorbar\": {\"outlinewidth\": 0, \"ticks\": \"\"}, \"type\": \"contourcarpet\"}], \"heatmap\": [{\"colorbar\": {\"outlinewidth\": 0, \"ticks\": \"\"}, \"colorscale\": [[0.0, \"#0d0887\"], [0.1111111111111111, \"#46039f\"], [0.2222222222222222, \"#7201a8\"], [0.3333333333333333, \"#9c179e\"], [0.4444444444444444, \"#bd3786\"], [0.5555555555555556, \"#d8576b\"], [0.6666666666666666, \"#ed7953\"], [0.7777777777777778, \"#fb9f3a\"], [0.8888888888888888, \"#fdca26\"], [1.0, \"#f0f921\"]], \"type\": \"heatmap\"}], \"heatmapgl\": [{\"colorbar\": {\"outlinewidth\": 0, \"ticks\": \"\"}, \"colorscale\": [[0.0, \"#0d0887\"], [0.1111111111111111, \"#46039f\"], [0.2222222222222222, \"#7201a8\"], [0.3333333333333333, \"#9c179e\"], [0.4444444444444444, \"#bd3786\"], [0.5555555555555556, \"#d8576b\"], [0.6666666666666666, \"#ed7953\"], [0.7777777777777778, \"#fb9f3a\"], [0.8888888888888888, \"#fdca26\"], [1.0, \"#f0f921\"]], \"type\": \"heatmapgl\"}], \"histogram\": [{\"marker\": {\"colorbar\": {\"outlinewidth\": 0, \"ticks\": \"\"}}, \"type\": \"histogram\"}], \"histogram2d\": [{\"colorbar\": {\"outlinewidth\": 0, \"ticks\": \"\"}, \"colorscale\": [[0.0, \"#0d0887\"], [0.1111111111111111, \"#46039f\"], [0.2222222222222222, \"#7201a8\"], [0.3333333333333333, \"#9c179e\"], [0.4444444444444444, \"#bd3786\"], [0.5555555555555556, \"#d8576b\"], [0.6666666666666666, \"#ed7953\"], [0.7777777777777778, \"#fb9f3a\"], [0.8888888888888888, \"#fdca26\"], [1.0, \"#f0f921\"]], \"type\": \"histogram2d\"}], \"histogram2dcontour\": [{\"colorbar\": {\"outlinewidth\": 0, \"ticks\": \"\"}, \"colorscale\": [[0.0, \"#0d0887\"], [0.1111111111111111, \"#46039f\"], [0.2222222222222222, \"#7201a8\"], [0.3333333333333333, \"#9c179e\"], [0.4444444444444444, \"#bd3786\"], [0.5555555555555556, \"#d8576b\"], [0.6666666666666666, \"#ed7953\"], [0.7777777777777778, \"#fb9f3a\"], [0.8888888888888888, \"#fdca26\"], [1.0, \"#f0f921\"]], \"type\": \"histogram2dcontour\"}], \"mesh3d\": [{\"colorbar\": {\"outlinewidth\": 0, \"ticks\": \"\"}, \"type\": \"mesh3d\"}], \"parcoords\": [{\"line\": {\"colorbar\": {\"outlinewidth\": 0, \"ticks\": \"\"}}, \"type\": \"parcoords\"}], \"pie\": [{\"automargin\": true, \"type\": \"pie\"}], \"scatter\": [{\"marker\": {\"colorbar\": {\"outlinewidth\": 0, \"ticks\": \"\"}}, \"type\": \"scatter\"}], \"scatter3d\": [{\"line\": {\"colorbar\": {\"outlinewidth\": 0, \"ticks\": \"\"}}, \"marker\": {\"colorbar\": {\"outlinewidth\": 0, \"ticks\": \"\"}}, \"type\": \"scatter3d\"}], \"scattercarpet\": [{\"marker\": {\"colorbar\": {\"outlinewidth\": 0, \"ticks\": \"\"}}, \"type\": \"scattercarpet\"}], \"scattergeo\": [{\"marker\": {\"colorbar\": {\"outlinewidth\": 0, \"ticks\": \"\"}}, \"type\": \"scattergeo\"}], \"scattergl\": [{\"marker\": {\"colorbar\": {\"outlinewidth\": 0, \"ticks\": \"\"}}, \"type\": \"scattergl\"}], \"scattermapbox\": [{\"marker\": {\"colorbar\": {\"outlinewidth\": 0, \"ticks\": \"\"}}, \"type\": \"scattermapbox\"}], \"scatterpolar\": [{\"marker\": {\"colorbar\": {\"outlinewidth\": 0, \"ticks\": \"\"}}, \"type\": \"scatterpolar\"}], \"scatterpolargl\": [{\"marker\": {\"colorbar\": {\"outlinewidth\": 0, \"ticks\": \"\"}}, \"type\": \"scatterpolargl\"}], \"scatterternary\": [{\"marker\": {\"colorbar\": {\"outlinewidth\": 0, \"ticks\": \"\"}}, \"type\": \"scatterternary\"}], \"surface\": [{\"colorbar\": {\"outlinewidth\": 0, \"ticks\": \"\"}, \"colorscale\": [[0.0, \"#0d0887\"], [0.1111111111111111, \"#46039f\"], [0.2222222222222222, \"#7201a8\"], [0.3333333333333333, \"#9c179e\"], [0.4444444444444444, \"#bd3786\"], [0.5555555555555556, \"#d8576b\"], [0.6666666666666666, \"#ed7953\"], [0.7777777777777778, \"#fb9f3a\"], [0.8888888888888888, \"#fdca26\"], [1.0, \"#f0f921\"]], \"type\": \"surface\"}], \"table\": [{\"cells\": {\"fill\": {\"color\": \"#EBF0F8\"}, \"line\": {\"color\": \"white\"}}, \"header\": {\"fill\": {\"color\": \"#C8D4E3\"}, \"line\": {\"color\": \"white\"}}, \"type\": \"table\"}]}, \"layout\": {\"annotationdefaults\": {\"arrowcolor\": \"#2a3f5f\", \"arrowhead\": 0, \"arrowwidth\": 1}, \"autotypenumbers\": \"strict\", \"coloraxis\": {\"colorbar\": {\"outlinewidth\": 0, \"ticks\": \"\"}}, \"colorscale\": {\"diverging\": [[0, \"#8e0152\"], [0.1, \"#c51b7d\"], [0.2, \"#de77ae\"], [0.3, \"#f1b6da\"], [0.4, \"#fde0ef\"], [0.5, \"#f7f7f7\"], [0.6, \"#e6f5d0\"], [0.7, \"#b8e186\"], [0.8, \"#7fbc41\"], [0.9, \"#4d9221\"], [1, \"#276419\"]], \"sequential\": [[0.0, \"#0d0887\"], [0.1111111111111111, \"#46039f\"], [0.2222222222222222, \"#7201a8\"], [0.3333333333333333, \"#9c179e\"], [0.4444444444444444, \"#bd3786\"], [0.5555555555555556, \"#d8576b\"], [0.6666666666666666, \"#ed7953\"], [0.7777777777777778, \"#fb9f3a\"], [0.8888888888888888, \"#fdca26\"], [1.0, \"#f0f921\"]], \"sequentialminus\": [[0.0, \"#0d0887\"], [0.1111111111111111, \"#46039f\"], [0.2222222222222222, \"#7201a8\"], [0.3333333333333333, \"#9c179e\"], [0.4444444444444444, \"#bd3786\"], [0.5555555555555556, \"#d8576b\"], [0.6666666666666666, \"#ed7953\"], [0.7777777777777778, \"#fb9f3a\"], [0.8888888888888888, \"#fdca26\"], [1.0, \"#f0f921\"]]}, \"colorway\": [\"#636efa\", \"#EF553B\", \"#00cc96\", \"#ab63fa\", \"#FFA15A\", \"#19d3f3\", \"#FF6692\", \"#B6E880\", \"#FF97FF\", \"#FECB52\"], \"font\": {\"color\": \"#2a3f5f\"}, \"geo\": {\"bgcolor\": \"white\", \"lakecolor\": \"white\", \"landcolor\": \"#E5ECF6\", \"showlakes\": true, \"showland\": true, \"subunitcolor\": \"white\"}, \"hoverlabel\": {\"align\": \"left\"}, \"hovermode\": \"closest\", \"mapbox\": {\"style\": \"light\"}, \"paper_bgcolor\": \"white\", \"plot_bgcolor\": \"#E5ECF6\", \"polar\": {\"angularaxis\": {\"gridcolor\": \"white\", \"linecolor\": \"white\", \"ticks\": \"\"}, \"bgcolor\": \"#E5ECF6\", \"radialaxis\": {\"gridcolor\": \"white\", \"linecolor\": \"white\", \"ticks\": \"\"}}, \"scene\": {\"xaxis\": {\"backgroundcolor\": \"#E5ECF6\", \"gridcolor\": \"white\", \"gridwidth\": 2, \"linecolor\": \"white\", \"showbackground\": true, \"ticks\": \"\", \"zerolinecolor\": \"white\"}, \"yaxis\": {\"backgroundcolor\": \"#E5ECF6\", \"gridcolor\": \"white\", \"gridwidth\": 2, \"linecolor\": \"white\", \"showbackground\": true, \"ticks\": \"\", \"zerolinecolor\": \"white\"}, \"zaxis\": {\"backgroundcolor\": \"#E5ECF6\", \"gridcolor\": \"white\", \"gridwidth\": 2, \"linecolor\": \"white\", \"showbackground\": true, \"ticks\": \"\", \"zerolinecolor\": \"white\"}}, \"shapedefaults\": {\"line\": {\"color\": \"#2a3f5f\"}}, \"ternary\": {\"aaxis\": {\"gridcolor\": \"white\", \"linecolor\": \"white\", \"ticks\": \"\"}, \"baxis\": {\"gridcolor\": \"white\", \"linecolor\": \"white\", \"ticks\": \"\"}, \"bgcolor\": \"#E5ECF6\", \"caxis\": {\"gridcolor\": \"white\", \"linecolor\": \"white\", \"ticks\": \"\"}}, \"title\": {\"x\": 0.05}, \"xaxis\": {\"automargin\": true, \"gridcolor\": \"white\", \"linecolor\": \"white\", \"ticks\": \"\", \"title\": {\"standoff\": 15}, \"zerolinecolor\": \"white\", \"zerolinewidth\": 2}, \"yaxis\": {\"automargin\": true, \"gridcolor\": \"white\", \"linecolor\": \"white\", \"ticks\": \"\", \"title\": {\"standoff\": 15}, \"zerolinecolor\": \"white\", \"zerolinewidth\": 2}}}, \"yaxis\": {\"range\": [0, 4], \"title\": {\"text\": \"RMSE\"}}},                        {\"responsive\": true}                    ).then(function(){\n",
       "                            \n",
       "var gd = document.getElementById('6e87686a-337a-47a0-a12a-df6fe6dfa32d');\n",
       "var x = new MutationObserver(function (mutations, observer) {{\n",
       "        var display = window.getComputedStyle(gd).display;\n",
       "        if (!display || display === 'none') {{\n",
       "            console.log([gd, 'removed!']);\n",
       "            Plotly.purge(gd);\n",
       "            observer.disconnect();\n",
       "        }}\n",
       "}});\n",
       "\n",
       "// Listen for the removal of the full notebook cells\n",
       "var notebookContainer = gd.closest('#notebook-container');\n",
       "if (notebookContainer) {{\n",
       "    x.observe(notebookContainer, {childList: true});\n",
       "}}\n",
       "\n",
       "// Listen for the clearing of the current output cell\n",
       "var outputEl = gd.closest('.output');\n",
       "if (outputEl) {{\n",
       "    x.observe(outputEl, {childList: true});\n",
       "}}\n",
       "\n",
       "                        })                };                });            </script>        </div>"
      ]
     },
     "metadata": {},
     "output_type": "display_data"
    }
   ],
   "source": [
    "fig = compare_models(models)\n",
    "fig.update_yaxes(range = [0, 4], title = \"RMSE\")"
   ]
  },
  {
   "cell_type": "code",
   "execution_count": 57,
   "metadata": {},
   "outputs": [],
   "source": [
    "from sklearn.linear_model import RidgeCV"
   ]
  },
  {
   "cell_type": "code",
   "execution_count": 58,
   "metadata": {},
   "outputs": [],
   "source": [
    "models['quant+dc+o+n-RidgeCV'] = (name_design_matrix_std, RidgeCV())"
   ]
  },
  {
   "cell_type": "code",
   "execution_count": 59,
   "metadata": {},
   "outputs": [
    {
     "data": {
      "application/vnd.plotly.v1+json": {
       "config": {
        "plotlyServerURL": "https://plot.ly"
       },
       "data": [
        {
         "name": "Training RMSE",
         "type": "bar",
         "x": [
          "quant",
          "quant+dc",
          "quant+dc+o",
          "quant+dc+o+b",
          "quant+dc+o+n-Ridge.5",
          "quant+dc+o+n-Ridge100",
          "quant+dc+o+n-Ridge1.75",
          "quant+dc+o+n-RidgeCV"
         ],
         "y": [
          3.374582699942459,
          3.033309344625912,
          3.012941172853172,
          2.867381563556755,
          1.552648037268123,
          3.396301099326061,
          1.9166640085970064,
          1.7284925281128731
         ]
        },
        {
         "name": "CV RMSE",
         "type": "bar",
         "x": [
          "quant",
          "quant+dc",
          "quant+dc+o",
          "quant+dc+o+b",
          "quant+dc+o+n-Ridge.5",
          "quant+dc+o+n-Ridge100",
          "quant+dc+o+n-Ridge1.75",
          "quant+dc+o+n-RidgeCV"
         ],
         "y": [
          3.4559015156162536,
          3.1113159765045717,
          3.120728518015189,
          3.225417481246393,
          3.1168076796253716,
          3.592535514336082,
          3.049523335111177,
          3.064580510565629
         ]
        }
       ],
       "layout": {
        "template": {
         "data": {
          "bar": [
           {
            "error_x": {
             "color": "#2a3f5f"
            },
            "error_y": {
             "color": "#2a3f5f"
            },
            "marker": {
             "line": {
              "color": "#E5ECF6",
              "width": 0.5
             }
            },
            "type": "bar"
           }
          ],
          "barpolar": [
           {
            "marker": {
             "line": {
              "color": "#E5ECF6",
              "width": 0.5
             }
            },
            "type": "barpolar"
           }
          ],
          "carpet": [
           {
            "aaxis": {
             "endlinecolor": "#2a3f5f",
             "gridcolor": "white",
             "linecolor": "white",
             "minorgridcolor": "white",
             "startlinecolor": "#2a3f5f"
            },
            "baxis": {
             "endlinecolor": "#2a3f5f",
             "gridcolor": "white",
             "linecolor": "white",
             "minorgridcolor": "white",
             "startlinecolor": "#2a3f5f"
            },
            "type": "carpet"
           }
          ],
          "choropleth": [
           {
            "colorbar": {
             "outlinewidth": 0,
             "ticks": ""
            },
            "type": "choropleth"
           }
          ],
          "contour": [
           {
            "colorbar": {
             "outlinewidth": 0,
             "ticks": ""
            },
            "colorscale": [
             [
              0,
              "#0d0887"
             ],
             [
              0.1111111111111111,
              "#46039f"
             ],
             [
              0.2222222222222222,
              "#7201a8"
             ],
             [
              0.3333333333333333,
              "#9c179e"
             ],
             [
              0.4444444444444444,
              "#bd3786"
             ],
             [
              0.5555555555555556,
              "#d8576b"
             ],
             [
              0.6666666666666666,
              "#ed7953"
             ],
             [
              0.7777777777777778,
              "#fb9f3a"
             ],
             [
              0.8888888888888888,
              "#fdca26"
             ],
             [
              1,
              "#f0f921"
             ]
            ],
            "type": "contour"
           }
          ],
          "contourcarpet": [
           {
            "colorbar": {
             "outlinewidth": 0,
             "ticks": ""
            },
            "type": "contourcarpet"
           }
          ],
          "heatmap": [
           {
            "colorbar": {
             "outlinewidth": 0,
             "ticks": ""
            },
            "colorscale": [
             [
              0,
              "#0d0887"
             ],
             [
              0.1111111111111111,
              "#46039f"
             ],
             [
              0.2222222222222222,
              "#7201a8"
             ],
             [
              0.3333333333333333,
              "#9c179e"
             ],
             [
              0.4444444444444444,
              "#bd3786"
             ],
             [
              0.5555555555555556,
              "#d8576b"
             ],
             [
              0.6666666666666666,
              "#ed7953"
             ],
             [
              0.7777777777777778,
              "#fb9f3a"
             ],
             [
              0.8888888888888888,
              "#fdca26"
             ],
             [
              1,
              "#f0f921"
             ]
            ],
            "type": "heatmap"
           }
          ],
          "heatmapgl": [
           {
            "colorbar": {
             "outlinewidth": 0,
             "ticks": ""
            },
            "colorscale": [
             [
              0,
              "#0d0887"
             ],
             [
              0.1111111111111111,
              "#46039f"
             ],
             [
              0.2222222222222222,
              "#7201a8"
             ],
             [
              0.3333333333333333,
              "#9c179e"
             ],
             [
              0.4444444444444444,
              "#bd3786"
             ],
             [
              0.5555555555555556,
              "#d8576b"
             ],
             [
              0.6666666666666666,
              "#ed7953"
             ],
             [
              0.7777777777777778,
              "#fb9f3a"
             ],
             [
              0.8888888888888888,
              "#fdca26"
             ],
             [
              1,
              "#f0f921"
             ]
            ],
            "type": "heatmapgl"
           }
          ],
          "histogram": [
           {
            "marker": {
             "colorbar": {
              "outlinewidth": 0,
              "ticks": ""
             }
            },
            "type": "histogram"
           }
          ],
          "histogram2d": [
           {
            "colorbar": {
             "outlinewidth": 0,
             "ticks": ""
            },
            "colorscale": [
             [
              0,
              "#0d0887"
             ],
             [
              0.1111111111111111,
              "#46039f"
             ],
             [
              0.2222222222222222,
              "#7201a8"
             ],
             [
              0.3333333333333333,
              "#9c179e"
             ],
             [
              0.4444444444444444,
              "#bd3786"
             ],
             [
              0.5555555555555556,
              "#d8576b"
             ],
             [
              0.6666666666666666,
              "#ed7953"
             ],
             [
              0.7777777777777778,
              "#fb9f3a"
             ],
             [
              0.8888888888888888,
              "#fdca26"
             ],
             [
              1,
              "#f0f921"
             ]
            ],
            "type": "histogram2d"
           }
          ],
          "histogram2dcontour": [
           {
            "colorbar": {
             "outlinewidth": 0,
             "ticks": ""
            },
            "colorscale": [
             [
              0,
              "#0d0887"
             ],
             [
              0.1111111111111111,
              "#46039f"
             ],
             [
              0.2222222222222222,
              "#7201a8"
             ],
             [
              0.3333333333333333,
              "#9c179e"
             ],
             [
              0.4444444444444444,
              "#bd3786"
             ],
             [
              0.5555555555555556,
              "#d8576b"
             ],
             [
              0.6666666666666666,
              "#ed7953"
             ],
             [
              0.7777777777777778,
              "#fb9f3a"
             ],
             [
              0.8888888888888888,
              "#fdca26"
             ],
             [
              1,
              "#f0f921"
             ]
            ],
            "type": "histogram2dcontour"
           }
          ],
          "mesh3d": [
           {
            "colorbar": {
             "outlinewidth": 0,
             "ticks": ""
            },
            "type": "mesh3d"
           }
          ],
          "parcoords": [
           {
            "line": {
             "colorbar": {
              "outlinewidth": 0,
              "ticks": ""
             }
            },
            "type": "parcoords"
           }
          ],
          "pie": [
           {
            "automargin": true,
            "type": "pie"
           }
          ],
          "scatter": [
           {
            "marker": {
             "colorbar": {
              "outlinewidth": 0,
              "ticks": ""
             }
            },
            "type": "scatter"
           }
          ],
          "scatter3d": [
           {
            "line": {
             "colorbar": {
              "outlinewidth": 0,
              "ticks": ""
             }
            },
            "marker": {
             "colorbar": {
              "outlinewidth": 0,
              "ticks": ""
             }
            },
            "type": "scatter3d"
           }
          ],
          "scattercarpet": [
           {
            "marker": {
             "colorbar": {
              "outlinewidth": 0,
              "ticks": ""
             }
            },
            "type": "scattercarpet"
           }
          ],
          "scattergeo": [
           {
            "marker": {
             "colorbar": {
              "outlinewidth": 0,
              "ticks": ""
             }
            },
            "type": "scattergeo"
           }
          ],
          "scattergl": [
           {
            "marker": {
             "colorbar": {
              "outlinewidth": 0,
              "ticks": ""
             }
            },
            "type": "scattergl"
           }
          ],
          "scattermapbox": [
           {
            "marker": {
             "colorbar": {
              "outlinewidth": 0,
              "ticks": ""
             }
            },
            "type": "scattermapbox"
           }
          ],
          "scatterpolar": [
           {
            "marker": {
             "colorbar": {
              "outlinewidth": 0,
              "ticks": ""
             }
            },
            "type": "scatterpolar"
           }
          ],
          "scatterpolargl": [
           {
            "marker": {
             "colorbar": {
              "outlinewidth": 0,
              "ticks": ""
             }
            },
            "type": "scatterpolargl"
           }
          ],
          "scatterternary": [
           {
            "marker": {
             "colorbar": {
              "outlinewidth": 0,
              "ticks": ""
             }
            },
            "type": "scatterternary"
           }
          ],
          "surface": [
           {
            "colorbar": {
             "outlinewidth": 0,
             "ticks": ""
            },
            "colorscale": [
             [
              0,
              "#0d0887"
             ],
             [
              0.1111111111111111,
              "#46039f"
             ],
             [
              0.2222222222222222,
              "#7201a8"
             ],
             [
              0.3333333333333333,
              "#9c179e"
             ],
             [
              0.4444444444444444,
              "#bd3786"
             ],
             [
              0.5555555555555556,
              "#d8576b"
             ],
             [
              0.6666666666666666,
              "#ed7953"
             ],
             [
              0.7777777777777778,
              "#fb9f3a"
             ],
             [
              0.8888888888888888,
              "#fdca26"
             ],
             [
              1,
              "#f0f921"
             ]
            ],
            "type": "surface"
           }
          ],
          "table": [
           {
            "cells": {
             "fill": {
              "color": "#EBF0F8"
             },
             "line": {
              "color": "white"
             }
            },
            "header": {
             "fill": {
              "color": "#C8D4E3"
             },
             "line": {
              "color": "white"
             }
            },
            "type": "table"
           }
          ]
         },
         "layout": {
          "annotationdefaults": {
           "arrowcolor": "#2a3f5f",
           "arrowhead": 0,
           "arrowwidth": 1
          },
          "autotypenumbers": "strict",
          "coloraxis": {
           "colorbar": {
            "outlinewidth": 0,
            "ticks": ""
           }
          },
          "colorscale": {
           "diverging": [
            [
             0,
             "#8e0152"
            ],
            [
             0.1,
             "#c51b7d"
            ],
            [
             0.2,
             "#de77ae"
            ],
            [
             0.3,
             "#f1b6da"
            ],
            [
             0.4,
             "#fde0ef"
            ],
            [
             0.5,
             "#f7f7f7"
            ],
            [
             0.6,
             "#e6f5d0"
            ],
            [
             0.7,
             "#b8e186"
            ],
            [
             0.8,
             "#7fbc41"
            ],
            [
             0.9,
             "#4d9221"
            ],
            [
             1,
             "#276419"
            ]
           ],
           "sequential": [
            [
             0,
             "#0d0887"
            ],
            [
             0.1111111111111111,
             "#46039f"
            ],
            [
             0.2222222222222222,
             "#7201a8"
            ],
            [
             0.3333333333333333,
             "#9c179e"
            ],
            [
             0.4444444444444444,
             "#bd3786"
            ],
            [
             0.5555555555555556,
             "#d8576b"
            ],
            [
             0.6666666666666666,
             "#ed7953"
            ],
            [
             0.7777777777777778,
             "#fb9f3a"
            ],
            [
             0.8888888888888888,
             "#fdca26"
            ],
            [
             1,
             "#f0f921"
            ]
           ],
           "sequentialminus": [
            [
             0,
             "#0d0887"
            ],
            [
             0.1111111111111111,
             "#46039f"
            ],
            [
             0.2222222222222222,
             "#7201a8"
            ],
            [
             0.3333333333333333,
             "#9c179e"
            ],
            [
             0.4444444444444444,
             "#bd3786"
            ],
            [
             0.5555555555555556,
             "#d8576b"
            ],
            [
             0.6666666666666666,
             "#ed7953"
            ],
            [
             0.7777777777777778,
             "#fb9f3a"
            ],
            [
             0.8888888888888888,
             "#fdca26"
            ],
            [
             1,
             "#f0f921"
            ]
           ]
          },
          "colorway": [
           "#636efa",
           "#EF553B",
           "#00cc96",
           "#ab63fa",
           "#FFA15A",
           "#19d3f3",
           "#FF6692",
           "#B6E880",
           "#FF97FF",
           "#FECB52"
          ],
          "font": {
           "color": "#2a3f5f"
          },
          "geo": {
           "bgcolor": "white",
           "lakecolor": "white",
           "landcolor": "#E5ECF6",
           "showlakes": true,
           "showland": true,
           "subunitcolor": "white"
          },
          "hoverlabel": {
           "align": "left"
          },
          "hovermode": "closest",
          "mapbox": {
           "style": "light"
          },
          "paper_bgcolor": "white",
          "plot_bgcolor": "#E5ECF6",
          "polar": {
           "angularaxis": {
            "gridcolor": "white",
            "linecolor": "white",
            "ticks": ""
           },
           "bgcolor": "#E5ECF6",
           "radialaxis": {
            "gridcolor": "white",
            "linecolor": "white",
            "ticks": ""
           }
          },
          "scene": {
           "xaxis": {
            "backgroundcolor": "#E5ECF6",
            "gridcolor": "white",
            "gridwidth": 2,
            "linecolor": "white",
            "showbackground": true,
            "ticks": "",
            "zerolinecolor": "white"
           },
           "yaxis": {
            "backgroundcolor": "#E5ECF6",
            "gridcolor": "white",
            "gridwidth": 2,
            "linecolor": "white",
            "showbackground": true,
            "ticks": "",
            "zerolinecolor": "white"
           },
           "zaxis": {
            "backgroundcolor": "#E5ECF6",
            "gridcolor": "white",
            "gridwidth": 2,
            "linecolor": "white",
            "showbackground": true,
            "ticks": "",
            "zerolinecolor": "white"
           }
          },
          "shapedefaults": {
           "line": {
            "color": "#2a3f5f"
           }
          },
          "ternary": {
           "aaxis": {
            "gridcolor": "white",
            "linecolor": "white",
            "ticks": ""
           },
           "baxis": {
            "gridcolor": "white",
            "linecolor": "white",
            "ticks": ""
           },
           "bgcolor": "#E5ECF6",
           "caxis": {
            "gridcolor": "white",
            "linecolor": "white",
            "ticks": ""
           }
          },
          "title": {
           "x": 0.05
          },
          "xaxis": {
           "automargin": true,
           "gridcolor": "white",
           "linecolor": "white",
           "ticks": "",
           "title": {
            "standoff": 15
           },
           "zerolinecolor": "white",
           "zerolinewidth": 2
          },
          "yaxis": {
           "automargin": true,
           "gridcolor": "white",
           "linecolor": "white",
           "ticks": "",
           "title": {
            "standoff": 15
           },
           "zerolinecolor": "white",
           "zerolinewidth": 2
          }
         }
        },
        "yaxis": {
         "range": [
          0,
          4
         ],
         "title": {
          "text": "RMSE"
         }
        }
       }
      },
      "text/html": [
       "<div>                            <div id=\"f4e26166-57c4-4576-a4af-9a424bd081a4\" class=\"plotly-graph-div\" style=\"height:525px; width:100%;\"></div>            <script type=\"text/javascript\">                require([\"plotly\"], function(Plotly) {                    window.PLOTLYENV=window.PLOTLYENV || {};                                    if (document.getElementById(\"f4e26166-57c4-4576-a4af-9a424bd081a4\")) {                    Plotly.newPlot(                        \"f4e26166-57c4-4576-a4af-9a424bd081a4\",                        [{\"name\": \"Training RMSE\", \"type\": \"bar\", \"x\": [\"quant\", \"quant+dc\", \"quant+dc+o\", \"quant+dc+o+b\", \"quant+dc+o+n-Ridge.5\", \"quant+dc+o+n-Ridge100\", \"quant+dc+o+n-Ridge1.75\", \"quant+dc+o+n-RidgeCV\"], \"y\": [3.374582699942459, 3.033309344625912, 3.012941172853172, 2.867381563556755, 1.552648037268123, 3.396301099326061, 1.9166640085970064, 1.7284925281128731]}, {\"name\": \"CV RMSE\", \"type\": \"bar\", \"x\": [\"quant\", \"quant+dc\", \"quant+dc+o\", \"quant+dc+o+b\", \"quant+dc+o+n-Ridge.5\", \"quant+dc+o+n-Ridge100\", \"quant+dc+o+n-Ridge1.75\", \"quant+dc+o+n-RidgeCV\"], \"y\": [3.4559015156162536, 3.1113159765045717, 3.120728518015189, 3.225417481246393, 3.1168076796253716, 3.592535514336082, 3.049523335111177, 3.064580510565629]}],                        {\"template\": {\"data\": {\"bar\": [{\"error_x\": {\"color\": \"#2a3f5f\"}, \"error_y\": {\"color\": \"#2a3f5f\"}, \"marker\": {\"line\": {\"color\": \"#E5ECF6\", \"width\": 0.5}}, \"type\": \"bar\"}], \"barpolar\": [{\"marker\": {\"line\": {\"color\": \"#E5ECF6\", \"width\": 0.5}}, \"type\": \"barpolar\"}], \"carpet\": [{\"aaxis\": {\"endlinecolor\": \"#2a3f5f\", \"gridcolor\": \"white\", \"linecolor\": \"white\", \"minorgridcolor\": \"white\", \"startlinecolor\": \"#2a3f5f\"}, \"baxis\": {\"endlinecolor\": \"#2a3f5f\", \"gridcolor\": \"white\", \"linecolor\": \"white\", \"minorgridcolor\": \"white\", \"startlinecolor\": \"#2a3f5f\"}, \"type\": \"carpet\"}], \"choropleth\": [{\"colorbar\": {\"outlinewidth\": 0, \"ticks\": \"\"}, \"type\": \"choropleth\"}], \"contour\": [{\"colorbar\": {\"outlinewidth\": 0, \"ticks\": \"\"}, \"colorscale\": [[0.0, \"#0d0887\"], [0.1111111111111111, \"#46039f\"], [0.2222222222222222, \"#7201a8\"], [0.3333333333333333, \"#9c179e\"], [0.4444444444444444, \"#bd3786\"], [0.5555555555555556, \"#d8576b\"], [0.6666666666666666, \"#ed7953\"], [0.7777777777777778, \"#fb9f3a\"], [0.8888888888888888, \"#fdca26\"], [1.0, \"#f0f921\"]], \"type\": \"contour\"}], \"contourcarpet\": [{\"colorbar\": {\"outlinewidth\": 0, \"ticks\": \"\"}, \"type\": \"contourcarpet\"}], \"heatmap\": [{\"colorbar\": {\"outlinewidth\": 0, \"ticks\": \"\"}, \"colorscale\": [[0.0, \"#0d0887\"], [0.1111111111111111, \"#46039f\"], [0.2222222222222222, \"#7201a8\"], [0.3333333333333333, \"#9c179e\"], [0.4444444444444444, \"#bd3786\"], [0.5555555555555556, \"#d8576b\"], [0.6666666666666666, \"#ed7953\"], [0.7777777777777778, \"#fb9f3a\"], [0.8888888888888888, \"#fdca26\"], [1.0, \"#f0f921\"]], \"type\": \"heatmap\"}], \"heatmapgl\": [{\"colorbar\": {\"outlinewidth\": 0, \"ticks\": \"\"}, \"colorscale\": [[0.0, \"#0d0887\"], [0.1111111111111111, \"#46039f\"], [0.2222222222222222, \"#7201a8\"], [0.3333333333333333, \"#9c179e\"], [0.4444444444444444, \"#bd3786\"], [0.5555555555555556, \"#d8576b\"], [0.6666666666666666, \"#ed7953\"], [0.7777777777777778, \"#fb9f3a\"], [0.8888888888888888, \"#fdca26\"], [1.0, \"#f0f921\"]], \"type\": \"heatmapgl\"}], \"histogram\": [{\"marker\": {\"colorbar\": {\"outlinewidth\": 0, \"ticks\": \"\"}}, \"type\": \"histogram\"}], \"histogram2d\": [{\"colorbar\": {\"outlinewidth\": 0, \"ticks\": \"\"}, \"colorscale\": [[0.0, \"#0d0887\"], [0.1111111111111111, \"#46039f\"], [0.2222222222222222, \"#7201a8\"], [0.3333333333333333, \"#9c179e\"], [0.4444444444444444, \"#bd3786\"], [0.5555555555555556, \"#d8576b\"], [0.6666666666666666, \"#ed7953\"], [0.7777777777777778, \"#fb9f3a\"], [0.8888888888888888, \"#fdca26\"], [1.0, \"#f0f921\"]], \"type\": \"histogram2d\"}], \"histogram2dcontour\": [{\"colorbar\": {\"outlinewidth\": 0, \"ticks\": \"\"}, \"colorscale\": [[0.0, \"#0d0887\"], [0.1111111111111111, \"#46039f\"], [0.2222222222222222, \"#7201a8\"], [0.3333333333333333, \"#9c179e\"], [0.4444444444444444, \"#bd3786\"], [0.5555555555555556, \"#d8576b\"], [0.6666666666666666, \"#ed7953\"], [0.7777777777777778, \"#fb9f3a\"], [0.8888888888888888, \"#fdca26\"], [1.0, \"#f0f921\"]], \"type\": \"histogram2dcontour\"}], \"mesh3d\": [{\"colorbar\": {\"outlinewidth\": 0, \"ticks\": \"\"}, \"type\": \"mesh3d\"}], \"parcoords\": [{\"line\": {\"colorbar\": {\"outlinewidth\": 0, \"ticks\": \"\"}}, \"type\": \"parcoords\"}], \"pie\": [{\"automargin\": true, \"type\": \"pie\"}], \"scatter\": [{\"marker\": {\"colorbar\": {\"outlinewidth\": 0, \"ticks\": \"\"}}, \"type\": \"scatter\"}], \"scatter3d\": [{\"line\": {\"colorbar\": {\"outlinewidth\": 0, \"ticks\": \"\"}}, \"marker\": {\"colorbar\": {\"outlinewidth\": 0, \"ticks\": \"\"}}, \"type\": \"scatter3d\"}], \"scattercarpet\": [{\"marker\": {\"colorbar\": {\"outlinewidth\": 0, \"ticks\": \"\"}}, \"type\": \"scattercarpet\"}], \"scattergeo\": [{\"marker\": {\"colorbar\": {\"outlinewidth\": 0, \"ticks\": \"\"}}, \"type\": \"scattergeo\"}], \"scattergl\": [{\"marker\": {\"colorbar\": {\"outlinewidth\": 0, \"ticks\": \"\"}}, \"type\": \"scattergl\"}], \"scattermapbox\": [{\"marker\": {\"colorbar\": {\"outlinewidth\": 0, \"ticks\": \"\"}}, \"type\": \"scattermapbox\"}], \"scatterpolar\": [{\"marker\": {\"colorbar\": {\"outlinewidth\": 0, \"ticks\": \"\"}}, \"type\": \"scatterpolar\"}], \"scatterpolargl\": [{\"marker\": {\"colorbar\": {\"outlinewidth\": 0, \"ticks\": \"\"}}, \"type\": \"scatterpolargl\"}], \"scatterternary\": [{\"marker\": {\"colorbar\": {\"outlinewidth\": 0, \"ticks\": \"\"}}, \"type\": \"scatterternary\"}], \"surface\": [{\"colorbar\": {\"outlinewidth\": 0, \"ticks\": \"\"}, \"colorscale\": [[0.0, \"#0d0887\"], [0.1111111111111111, \"#46039f\"], [0.2222222222222222, \"#7201a8\"], [0.3333333333333333, \"#9c179e\"], [0.4444444444444444, \"#bd3786\"], [0.5555555555555556, \"#d8576b\"], [0.6666666666666666, \"#ed7953\"], [0.7777777777777778, \"#fb9f3a\"], [0.8888888888888888, \"#fdca26\"], [1.0, \"#f0f921\"]], \"type\": \"surface\"}], \"table\": [{\"cells\": {\"fill\": {\"color\": \"#EBF0F8\"}, \"line\": {\"color\": \"white\"}}, \"header\": {\"fill\": {\"color\": \"#C8D4E3\"}, \"line\": {\"color\": \"white\"}}, \"type\": \"table\"}]}, \"layout\": {\"annotationdefaults\": {\"arrowcolor\": \"#2a3f5f\", \"arrowhead\": 0, \"arrowwidth\": 1}, \"autotypenumbers\": \"strict\", \"coloraxis\": {\"colorbar\": {\"outlinewidth\": 0, \"ticks\": \"\"}}, \"colorscale\": {\"diverging\": [[0, \"#8e0152\"], [0.1, \"#c51b7d\"], [0.2, \"#de77ae\"], [0.3, \"#f1b6da\"], [0.4, \"#fde0ef\"], [0.5, \"#f7f7f7\"], [0.6, \"#e6f5d0\"], [0.7, \"#b8e186\"], [0.8, \"#7fbc41\"], [0.9, \"#4d9221\"], [1, \"#276419\"]], \"sequential\": [[0.0, \"#0d0887\"], [0.1111111111111111, \"#46039f\"], [0.2222222222222222, \"#7201a8\"], [0.3333333333333333, \"#9c179e\"], [0.4444444444444444, \"#bd3786\"], [0.5555555555555556, \"#d8576b\"], [0.6666666666666666, \"#ed7953\"], [0.7777777777777778, \"#fb9f3a\"], [0.8888888888888888, \"#fdca26\"], [1.0, \"#f0f921\"]], \"sequentialminus\": [[0.0, \"#0d0887\"], [0.1111111111111111, \"#46039f\"], [0.2222222222222222, \"#7201a8\"], [0.3333333333333333, \"#9c179e\"], [0.4444444444444444, \"#bd3786\"], [0.5555555555555556, \"#d8576b\"], [0.6666666666666666, \"#ed7953\"], [0.7777777777777778, \"#fb9f3a\"], [0.8888888888888888, \"#fdca26\"], [1.0, \"#f0f921\"]]}, \"colorway\": [\"#636efa\", \"#EF553B\", \"#00cc96\", \"#ab63fa\", \"#FFA15A\", \"#19d3f3\", \"#FF6692\", \"#B6E880\", \"#FF97FF\", \"#FECB52\"], \"font\": {\"color\": \"#2a3f5f\"}, \"geo\": {\"bgcolor\": \"white\", \"lakecolor\": \"white\", \"landcolor\": \"#E5ECF6\", \"showlakes\": true, \"showland\": true, \"subunitcolor\": \"white\"}, \"hoverlabel\": {\"align\": \"left\"}, \"hovermode\": \"closest\", \"mapbox\": {\"style\": \"light\"}, \"paper_bgcolor\": \"white\", \"plot_bgcolor\": \"#E5ECF6\", \"polar\": {\"angularaxis\": {\"gridcolor\": \"white\", \"linecolor\": \"white\", \"ticks\": \"\"}, \"bgcolor\": \"#E5ECF6\", \"radialaxis\": {\"gridcolor\": \"white\", \"linecolor\": \"white\", \"ticks\": \"\"}}, \"scene\": {\"xaxis\": {\"backgroundcolor\": \"#E5ECF6\", \"gridcolor\": \"white\", \"gridwidth\": 2, \"linecolor\": \"white\", \"showbackground\": true, \"ticks\": \"\", \"zerolinecolor\": \"white\"}, \"yaxis\": {\"backgroundcolor\": \"#E5ECF6\", \"gridcolor\": \"white\", \"gridwidth\": 2, \"linecolor\": \"white\", \"showbackground\": true, \"ticks\": \"\", \"zerolinecolor\": \"white\"}, \"zaxis\": {\"backgroundcolor\": \"#E5ECF6\", \"gridcolor\": \"white\", \"gridwidth\": 2, \"linecolor\": \"white\", \"showbackground\": true, \"ticks\": \"\", \"zerolinecolor\": \"white\"}}, \"shapedefaults\": {\"line\": {\"color\": \"#2a3f5f\"}}, \"ternary\": {\"aaxis\": {\"gridcolor\": \"white\", \"linecolor\": \"white\", \"ticks\": \"\"}, \"baxis\": {\"gridcolor\": \"white\", \"linecolor\": \"white\", \"ticks\": \"\"}, \"bgcolor\": \"#E5ECF6\", \"caxis\": {\"gridcolor\": \"white\", \"linecolor\": \"white\", \"ticks\": \"\"}}, \"title\": {\"x\": 0.05}, \"xaxis\": {\"automargin\": true, \"gridcolor\": \"white\", \"linecolor\": \"white\", \"ticks\": \"\", \"title\": {\"standoff\": 15}, \"zerolinecolor\": \"white\", \"zerolinewidth\": 2}, \"yaxis\": {\"automargin\": true, \"gridcolor\": \"white\", \"linecolor\": \"white\", \"ticks\": \"\", \"title\": {\"standoff\": 15}, \"zerolinecolor\": \"white\", \"zerolinewidth\": 2}}}, \"yaxis\": {\"range\": [0, 4], \"title\": {\"text\": \"RMSE\"}}},                        {\"responsive\": true}                    ).then(function(){\n",
       "                            \n",
       "var gd = document.getElementById('f4e26166-57c4-4576-a4af-9a424bd081a4');\n",
       "var x = new MutationObserver(function (mutations, observer) {{\n",
       "        var display = window.getComputedStyle(gd).display;\n",
       "        if (!display || display === 'none') {{\n",
       "            console.log([gd, 'removed!']);\n",
       "            Plotly.purge(gd);\n",
       "            observer.disconnect();\n",
       "        }}\n",
       "}});\n",
       "\n",
       "// Listen for the removal of the full notebook cells\n",
       "var notebookContainer = gd.closest('#notebook-container');\n",
       "if (notebookContainer) {{\n",
       "    x.observe(notebookContainer, {childList: true});\n",
       "}}\n",
       "\n",
       "// Listen for the clearing of the current output cell\n",
       "var outputEl = gd.closest('.output');\n",
       "if (outputEl) {{\n",
       "    x.observe(outputEl, {childList: true});\n",
       "}}\n",
       "\n",
       "                        })                };                });            </script>        </div>"
      ]
     },
     "metadata": {},
     "output_type": "display_data"
    }
   ],
   "source": [
    "fig = compare_models(models)\n",
    "fig.update_yaxes(range = [0, 4], title = \"RMSE\")"
   ]
  },
  {
   "cell_type": "markdown",
   "metadata": {},
   "source": [
    "### Lasso Regression\n",
    "\n",
    "Lasso regression combines the absolute (L1) regularization function with the least squares loss.  \n",
    "\n",
    "$$\n",
    "\\hat{\\theta}_\\alpha = \\arg \\min_\\theta \\left(\\frac{1}{n} \\sum_{i=1}^n \\left(Y_i -  f_\\theta(X_i)\\right)^2 \\right) + \\alpha \\sum_{k=1}^d |\\theta_k|\n",
    "$$\n",
    "\n",
    "Lasso is actually an acronym (and a cool name) which stands for Least Absolute Shrinkage and Selection Operator.  It is an absolute operator because it is the absolute value.  It is a shrinkage operator because it favors smaller parameter values.  It is a selection operator because it has the peculiar property of pushing parameter values all the way to zero thereby selecting the remaining features.  It is this last property that makes Lasso regression so useful. By using Lasso regression and setting sufficiently large value of $\\alpha$ you can eliminate features that are not informative. \n",
    "\n",
    "Unfortunately, there is no closed form solution for Lasso regression and so iterative optimization algorithms like gradient descent are typically used. "
   ]
  },
  {
   "cell_type": "code",
   "execution_count": 60,
   "metadata": {},
   "outputs": [],
   "source": [
    "from sklearn.linear_model import Lasso, LassoCV"
   ]
  },
  {
   "cell_type": "code",
   "execution_count": 61,
   "metadata": {},
   "outputs": [],
   "source": [
    "models['quant+dc+o+n-LassoCV'] = (name_design_matrix_std,  LassoCV())"
   ]
  },
  {
   "cell_type": "code",
   "execution_count": 62,
   "metadata": {},
   "outputs": [
    {
     "data": {
      "application/vnd.plotly.v1+json": {
       "config": {
        "plotlyServerURL": "https://plot.ly"
       },
       "data": [
        {
         "name": "Training RMSE",
         "type": "bar",
         "x": [
          "quant",
          "quant+dc",
          "quant+dc+o",
          "quant+dc+o+b",
          "quant+dc+o+n-Ridge.5",
          "quant+dc+o+n-Ridge100",
          "quant+dc+o+n-Ridge1.75",
          "quant+dc+o+n-RidgeCV",
          "quant+dc+o+n-LassoCV"
         ],
         "y": [
          3.374582699942459,
          3.033309344625912,
          3.012941172853172,
          2.867381563556755,
          1.552648037268123,
          3.396301099326061,
          1.9166640085970064,
          1.7284925281128731,
          2.9102795855750845
         ]
        },
        {
         "name": "CV RMSE",
         "type": "bar",
         "x": [
          "quant",
          "quant+dc",
          "quant+dc+o",
          "quant+dc+o+b",
          "quant+dc+o+n-Ridge.5",
          "quant+dc+o+n-Ridge100",
          "quant+dc+o+n-Ridge1.75",
          "quant+dc+o+n-RidgeCV",
          "quant+dc+o+n-LassoCV"
         ],
         "y": [
          3.4559015156162536,
          3.1113159765045717,
          3.120728518015189,
          3.225417481246393,
          3.1168076796253716,
          3.592535514336082,
          3.049523335111177,
          3.064580510565629,
          3.112716924817969
         ]
        }
       ],
       "layout": {
        "template": {
         "data": {
          "bar": [
           {
            "error_x": {
             "color": "#2a3f5f"
            },
            "error_y": {
             "color": "#2a3f5f"
            },
            "marker": {
             "line": {
              "color": "#E5ECF6",
              "width": 0.5
             }
            },
            "type": "bar"
           }
          ],
          "barpolar": [
           {
            "marker": {
             "line": {
              "color": "#E5ECF6",
              "width": 0.5
             }
            },
            "type": "barpolar"
           }
          ],
          "carpet": [
           {
            "aaxis": {
             "endlinecolor": "#2a3f5f",
             "gridcolor": "white",
             "linecolor": "white",
             "minorgridcolor": "white",
             "startlinecolor": "#2a3f5f"
            },
            "baxis": {
             "endlinecolor": "#2a3f5f",
             "gridcolor": "white",
             "linecolor": "white",
             "minorgridcolor": "white",
             "startlinecolor": "#2a3f5f"
            },
            "type": "carpet"
           }
          ],
          "choropleth": [
           {
            "colorbar": {
             "outlinewidth": 0,
             "ticks": ""
            },
            "type": "choropleth"
           }
          ],
          "contour": [
           {
            "colorbar": {
             "outlinewidth": 0,
             "ticks": ""
            },
            "colorscale": [
             [
              0,
              "#0d0887"
             ],
             [
              0.1111111111111111,
              "#46039f"
             ],
             [
              0.2222222222222222,
              "#7201a8"
             ],
             [
              0.3333333333333333,
              "#9c179e"
             ],
             [
              0.4444444444444444,
              "#bd3786"
             ],
             [
              0.5555555555555556,
              "#d8576b"
             ],
             [
              0.6666666666666666,
              "#ed7953"
             ],
             [
              0.7777777777777778,
              "#fb9f3a"
             ],
             [
              0.8888888888888888,
              "#fdca26"
             ],
             [
              1,
              "#f0f921"
             ]
            ],
            "type": "contour"
           }
          ],
          "contourcarpet": [
           {
            "colorbar": {
             "outlinewidth": 0,
             "ticks": ""
            },
            "type": "contourcarpet"
           }
          ],
          "heatmap": [
           {
            "colorbar": {
             "outlinewidth": 0,
             "ticks": ""
            },
            "colorscale": [
             [
              0,
              "#0d0887"
             ],
             [
              0.1111111111111111,
              "#46039f"
             ],
             [
              0.2222222222222222,
              "#7201a8"
             ],
             [
              0.3333333333333333,
              "#9c179e"
             ],
             [
              0.4444444444444444,
              "#bd3786"
             ],
             [
              0.5555555555555556,
              "#d8576b"
             ],
             [
              0.6666666666666666,
              "#ed7953"
             ],
             [
              0.7777777777777778,
              "#fb9f3a"
             ],
             [
              0.8888888888888888,
              "#fdca26"
             ],
             [
              1,
              "#f0f921"
             ]
            ],
            "type": "heatmap"
           }
          ],
          "heatmapgl": [
           {
            "colorbar": {
             "outlinewidth": 0,
             "ticks": ""
            },
            "colorscale": [
             [
              0,
              "#0d0887"
             ],
             [
              0.1111111111111111,
              "#46039f"
             ],
             [
              0.2222222222222222,
              "#7201a8"
             ],
             [
              0.3333333333333333,
              "#9c179e"
             ],
             [
              0.4444444444444444,
              "#bd3786"
             ],
             [
              0.5555555555555556,
              "#d8576b"
             ],
             [
              0.6666666666666666,
              "#ed7953"
             ],
             [
              0.7777777777777778,
              "#fb9f3a"
             ],
             [
              0.8888888888888888,
              "#fdca26"
             ],
             [
              1,
              "#f0f921"
             ]
            ],
            "type": "heatmapgl"
           }
          ],
          "histogram": [
           {
            "marker": {
             "colorbar": {
              "outlinewidth": 0,
              "ticks": ""
             }
            },
            "type": "histogram"
           }
          ],
          "histogram2d": [
           {
            "colorbar": {
             "outlinewidth": 0,
             "ticks": ""
            },
            "colorscale": [
             [
              0,
              "#0d0887"
             ],
             [
              0.1111111111111111,
              "#46039f"
             ],
             [
              0.2222222222222222,
              "#7201a8"
             ],
             [
              0.3333333333333333,
              "#9c179e"
             ],
             [
              0.4444444444444444,
              "#bd3786"
             ],
             [
              0.5555555555555556,
              "#d8576b"
             ],
             [
              0.6666666666666666,
              "#ed7953"
             ],
             [
              0.7777777777777778,
              "#fb9f3a"
             ],
             [
              0.8888888888888888,
              "#fdca26"
             ],
             [
              1,
              "#f0f921"
             ]
            ],
            "type": "histogram2d"
           }
          ],
          "histogram2dcontour": [
           {
            "colorbar": {
             "outlinewidth": 0,
             "ticks": ""
            },
            "colorscale": [
             [
              0,
              "#0d0887"
             ],
             [
              0.1111111111111111,
              "#46039f"
             ],
             [
              0.2222222222222222,
              "#7201a8"
             ],
             [
              0.3333333333333333,
              "#9c179e"
             ],
             [
              0.4444444444444444,
              "#bd3786"
             ],
             [
              0.5555555555555556,
              "#d8576b"
             ],
             [
              0.6666666666666666,
              "#ed7953"
             ],
             [
              0.7777777777777778,
              "#fb9f3a"
             ],
             [
              0.8888888888888888,
              "#fdca26"
             ],
             [
              1,
              "#f0f921"
             ]
            ],
            "type": "histogram2dcontour"
           }
          ],
          "mesh3d": [
           {
            "colorbar": {
             "outlinewidth": 0,
             "ticks": ""
            },
            "type": "mesh3d"
           }
          ],
          "parcoords": [
           {
            "line": {
             "colorbar": {
              "outlinewidth": 0,
              "ticks": ""
             }
            },
            "type": "parcoords"
           }
          ],
          "pie": [
           {
            "automargin": true,
            "type": "pie"
           }
          ],
          "scatter": [
           {
            "marker": {
             "colorbar": {
              "outlinewidth": 0,
              "ticks": ""
             }
            },
            "type": "scatter"
           }
          ],
          "scatter3d": [
           {
            "line": {
             "colorbar": {
              "outlinewidth": 0,
              "ticks": ""
             }
            },
            "marker": {
             "colorbar": {
              "outlinewidth": 0,
              "ticks": ""
             }
            },
            "type": "scatter3d"
           }
          ],
          "scattercarpet": [
           {
            "marker": {
             "colorbar": {
              "outlinewidth": 0,
              "ticks": ""
             }
            },
            "type": "scattercarpet"
           }
          ],
          "scattergeo": [
           {
            "marker": {
             "colorbar": {
              "outlinewidth": 0,
              "ticks": ""
             }
            },
            "type": "scattergeo"
           }
          ],
          "scattergl": [
           {
            "marker": {
             "colorbar": {
              "outlinewidth": 0,
              "ticks": ""
             }
            },
            "type": "scattergl"
           }
          ],
          "scattermapbox": [
           {
            "marker": {
             "colorbar": {
              "outlinewidth": 0,
              "ticks": ""
             }
            },
            "type": "scattermapbox"
           }
          ],
          "scatterpolar": [
           {
            "marker": {
             "colorbar": {
              "outlinewidth": 0,
              "ticks": ""
             }
            },
            "type": "scatterpolar"
           }
          ],
          "scatterpolargl": [
           {
            "marker": {
             "colorbar": {
              "outlinewidth": 0,
              "ticks": ""
             }
            },
            "type": "scatterpolargl"
           }
          ],
          "scatterternary": [
           {
            "marker": {
             "colorbar": {
              "outlinewidth": 0,
              "ticks": ""
             }
            },
            "type": "scatterternary"
           }
          ],
          "surface": [
           {
            "colorbar": {
             "outlinewidth": 0,
             "ticks": ""
            },
            "colorscale": [
             [
              0,
              "#0d0887"
             ],
             [
              0.1111111111111111,
              "#46039f"
             ],
             [
              0.2222222222222222,
              "#7201a8"
             ],
             [
              0.3333333333333333,
              "#9c179e"
             ],
             [
              0.4444444444444444,
              "#bd3786"
             ],
             [
              0.5555555555555556,
              "#d8576b"
             ],
             [
              0.6666666666666666,
              "#ed7953"
             ],
             [
              0.7777777777777778,
              "#fb9f3a"
             ],
             [
              0.8888888888888888,
              "#fdca26"
             ],
             [
              1,
              "#f0f921"
             ]
            ],
            "type": "surface"
           }
          ],
          "table": [
           {
            "cells": {
             "fill": {
              "color": "#EBF0F8"
             },
             "line": {
              "color": "white"
             }
            },
            "header": {
             "fill": {
              "color": "#C8D4E3"
             },
             "line": {
              "color": "white"
             }
            },
            "type": "table"
           }
          ]
         },
         "layout": {
          "annotationdefaults": {
           "arrowcolor": "#2a3f5f",
           "arrowhead": 0,
           "arrowwidth": 1
          },
          "autotypenumbers": "strict",
          "coloraxis": {
           "colorbar": {
            "outlinewidth": 0,
            "ticks": ""
           }
          },
          "colorscale": {
           "diverging": [
            [
             0,
             "#8e0152"
            ],
            [
             0.1,
             "#c51b7d"
            ],
            [
             0.2,
             "#de77ae"
            ],
            [
             0.3,
             "#f1b6da"
            ],
            [
             0.4,
             "#fde0ef"
            ],
            [
             0.5,
             "#f7f7f7"
            ],
            [
             0.6,
             "#e6f5d0"
            ],
            [
             0.7,
             "#b8e186"
            ],
            [
             0.8,
             "#7fbc41"
            ],
            [
             0.9,
             "#4d9221"
            ],
            [
             1,
             "#276419"
            ]
           ],
           "sequential": [
            [
             0,
             "#0d0887"
            ],
            [
             0.1111111111111111,
             "#46039f"
            ],
            [
             0.2222222222222222,
             "#7201a8"
            ],
            [
             0.3333333333333333,
             "#9c179e"
            ],
            [
             0.4444444444444444,
             "#bd3786"
            ],
            [
             0.5555555555555556,
             "#d8576b"
            ],
            [
             0.6666666666666666,
             "#ed7953"
            ],
            [
             0.7777777777777778,
             "#fb9f3a"
            ],
            [
             0.8888888888888888,
             "#fdca26"
            ],
            [
             1,
             "#f0f921"
            ]
           ],
           "sequentialminus": [
            [
             0,
             "#0d0887"
            ],
            [
             0.1111111111111111,
             "#46039f"
            ],
            [
             0.2222222222222222,
             "#7201a8"
            ],
            [
             0.3333333333333333,
             "#9c179e"
            ],
            [
             0.4444444444444444,
             "#bd3786"
            ],
            [
             0.5555555555555556,
             "#d8576b"
            ],
            [
             0.6666666666666666,
             "#ed7953"
            ],
            [
             0.7777777777777778,
             "#fb9f3a"
            ],
            [
             0.8888888888888888,
             "#fdca26"
            ],
            [
             1,
             "#f0f921"
            ]
           ]
          },
          "colorway": [
           "#636efa",
           "#EF553B",
           "#00cc96",
           "#ab63fa",
           "#FFA15A",
           "#19d3f3",
           "#FF6692",
           "#B6E880",
           "#FF97FF",
           "#FECB52"
          ],
          "font": {
           "color": "#2a3f5f"
          },
          "geo": {
           "bgcolor": "white",
           "lakecolor": "white",
           "landcolor": "#E5ECF6",
           "showlakes": true,
           "showland": true,
           "subunitcolor": "white"
          },
          "hoverlabel": {
           "align": "left"
          },
          "hovermode": "closest",
          "mapbox": {
           "style": "light"
          },
          "paper_bgcolor": "white",
          "plot_bgcolor": "#E5ECF6",
          "polar": {
           "angularaxis": {
            "gridcolor": "white",
            "linecolor": "white",
            "ticks": ""
           },
           "bgcolor": "#E5ECF6",
           "radialaxis": {
            "gridcolor": "white",
            "linecolor": "white",
            "ticks": ""
           }
          },
          "scene": {
           "xaxis": {
            "backgroundcolor": "#E5ECF6",
            "gridcolor": "white",
            "gridwidth": 2,
            "linecolor": "white",
            "showbackground": true,
            "ticks": "",
            "zerolinecolor": "white"
           },
           "yaxis": {
            "backgroundcolor": "#E5ECF6",
            "gridcolor": "white",
            "gridwidth": 2,
            "linecolor": "white",
            "showbackground": true,
            "ticks": "",
            "zerolinecolor": "white"
           },
           "zaxis": {
            "backgroundcolor": "#E5ECF6",
            "gridcolor": "white",
            "gridwidth": 2,
            "linecolor": "white",
            "showbackground": true,
            "ticks": "",
            "zerolinecolor": "white"
           }
          },
          "shapedefaults": {
           "line": {
            "color": "#2a3f5f"
           }
          },
          "ternary": {
           "aaxis": {
            "gridcolor": "white",
            "linecolor": "white",
            "ticks": ""
           },
           "baxis": {
            "gridcolor": "white",
            "linecolor": "white",
            "ticks": ""
           },
           "bgcolor": "#E5ECF6",
           "caxis": {
            "gridcolor": "white",
            "linecolor": "white",
            "ticks": ""
           }
          },
          "title": {
           "x": 0.05
          },
          "xaxis": {
           "automargin": true,
           "gridcolor": "white",
           "linecolor": "white",
           "ticks": "",
           "title": {
            "standoff": 15
           },
           "zerolinecolor": "white",
           "zerolinewidth": 2
          },
          "yaxis": {
           "automargin": true,
           "gridcolor": "white",
           "linecolor": "white",
           "ticks": "",
           "title": {
            "standoff": 15
           },
           "zerolinecolor": "white",
           "zerolinewidth": 2
          }
         }
        },
        "yaxis": {
         "range": [
          0,
          4
         ],
         "title": {
          "text": "RMSE"
         }
        }
       }
      },
      "text/html": [
       "<div>                            <div id=\"75225bdc-a36c-411b-ae24-990725a5289e\" class=\"plotly-graph-div\" style=\"height:525px; width:100%;\"></div>            <script type=\"text/javascript\">                require([\"plotly\"], function(Plotly) {                    window.PLOTLYENV=window.PLOTLYENV || {};                                    if (document.getElementById(\"75225bdc-a36c-411b-ae24-990725a5289e\")) {                    Plotly.newPlot(                        \"75225bdc-a36c-411b-ae24-990725a5289e\",                        [{\"name\": \"Training RMSE\", \"type\": \"bar\", \"x\": [\"quant\", \"quant+dc\", \"quant+dc+o\", \"quant+dc+o+b\", \"quant+dc+o+n-Ridge.5\", \"quant+dc+o+n-Ridge100\", \"quant+dc+o+n-Ridge1.75\", \"quant+dc+o+n-RidgeCV\", \"quant+dc+o+n-LassoCV\"], \"y\": [3.374582699942459, 3.033309344625912, 3.012941172853172, 2.867381563556755, 1.552648037268123, 3.396301099326061, 1.9166640085970064, 1.7284925281128731, 2.9102795855750845]}, {\"name\": \"CV RMSE\", \"type\": \"bar\", \"x\": [\"quant\", \"quant+dc\", \"quant+dc+o\", \"quant+dc+o+b\", \"quant+dc+o+n-Ridge.5\", \"quant+dc+o+n-Ridge100\", \"quant+dc+o+n-Ridge1.75\", \"quant+dc+o+n-RidgeCV\", \"quant+dc+o+n-LassoCV\"], \"y\": [3.4559015156162536, 3.1113159765045717, 3.120728518015189, 3.225417481246393, 3.1168076796253716, 3.592535514336082, 3.049523335111177, 3.064580510565629, 3.112716924817969]}],                        {\"template\": {\"data\": {\"bar\": [{\"error_x\": {\"color\": \"#2a3f5f\"}, \"error_y\": {\"color\": \"#2a3f5f\"}, \"marker\": {\"line\": {\"color\": \"#E5ECF6\", \"width\": 0.5}}, \"type\": \"bar\"}], \"barpolar\": [{\"marker\": {\"line\": {\"color\": \"#E5ECF6\", \"width\": 0.5}}, \"type\": \"barpolar\"}], \"carpet\": [{\"aaxis\": {\"endlinecolor\": \"#2a3f5f\", \"gridcolor\": \"white\", \"linecolor\": \"white\", \"minorgridcolor\": \"white\", \"startlinecolor\": \"#2a3f5f\"}, \"baxis\": {\"endlinecolor\": \"#2a3f5f\", \"gridcolor\": \"white\", \"linecolor\": \"white\", \"minorgridcolor\": \"white\", \"startlinecolor\": \"#2a3f5f\"}, \"type\": \"carpet\"}], \"choropleth\": [{\"colorbar\": {\"outlinewidth\": 0, \"ticks\": \"\"}, \"type\": \"choropleth\"}], \"contour\": [{\"colorbar\": {\"outlinewidth\": 0, \"ticks\": \"\"}, \"colorscale\": [[0.0, \"#0d0887\"], [0.1111111111111111, \"#46039f\"], [0.2222222222222222, \"#7201a8\"], [0.3333333333333333, \"#9c179e\"], [0.4444444444444444, \"#bd3786\"], [0.5555555555555556, \"#d8576b\"], [0.6666666666666666, \"#ed7953\"], [0.7777777777777778, \"#fb9f3a\"], [0.8888888888888888, \"#fdca26\"], [1.0, \"#f0f921\"]], \"type\": \"contour\"}], \"contourcarpet\": [{\"colorbar\": {\"outlinewidth\": 0, \"ticks\": \"\"}, \"type\": \"contourcarpet\"}], \"heatmap\": [{\"colorbar\": {\"outlinewidth\": 0, \"ticks\": \"\"}, \"colorscale\": [[0.0, \"#0d0887\"], [0.1111111111111111, \"#46039f\"], [0.2222222222222222, \"#7201a8\"], [0.3333333333333333, \"#9c179e\"], [0.4444444444444444, \"#bd3786\"], [0.5555555555555556, \"#d8576b\"], [0.6666666666666666, \"#ed7953\"], [0.7777777777777778, \"#fb9f3a\"], [0.8888888888888888, \"#fdca26\"], [1.0, \"#f0f921\"]], \"type\": \"heatmap\"}], \"heatmapgl\": [{\"colorbar\": {\"outlinewidth\": 0, \"ticks\": \"\"}, \"colorscale\": [[0.0, \"#0d0887\"], [0.1111111111111111, \"#46039f\"], [0.2222222222222222, \"#7201a8\"], [0.3333333333333333, \"#9c179e\"], [0.4444444444444444, \"#bd3786\"], [0.5555555555555556, \"#d8576b\"], [0.6666666666666666, \"#ed7953\"], [0.7777777777777778, \"#fb9f3a\"], [0.8888888888888888, \"#fdca26\"], [1.0, \"#f0f921\"]], \"type\": \"heatmapgl\"}], \"histogram\": [{\"marker\": {\"colorbar\": {\"outlinewidth\": 0, \"ticks\": \"\"}}, \"type\": \"histogram\"}], \"histogram2d\": [{\"colorbar\": {\"outlinewidth\": 0, \"ticks\": \"\"}, \"colorscale\": [[0.0, \"#0d0887\"], [0.1111111111111111, \"#46039f\"], [0.2222222222222222, \"#7201a8\"], [0.3333333333333333, \"#9c179e\"], [0.4444444444444444, \"#bd3786\"], [0.5555555555555556, \"#d8576b\"], [0.6666666666666666, \"#ed7953\"], [0.7777777777777778, \"#fb9f3a\"], [0.8888888888888888, \"#fdca26\"], [1.0, \"#f0f921\"]], \"type\": \"histogram2d\"}], \"histogram2dcontour\": [{\"colorbar\": {\"outlinewidth\": 0, \"ticks\": \"\"}, \"colorscale\": [[0.0, \"#0d0887\"], [0.1111111111111111, \"#46039f\"], [0.2222222222222222, \"#7201a8\"], [0.3333333333333333, \"#9c179e\"], [0.4444444444444444, \"#bd3786\"], [0.5555555555555556, \"#d8576b\"], [0.6666666666666666, \"#ed7953\"], [0.7777777777777778, \"#fb9f3a\"], [0.8888888888888888, \"#fdca26\"], [1.0, \"#f0f921\"]], \"type\": \"histogram2dcontour\"}], \"mesh3d\": [{\"colorbar\": {\"outlinewidth\": 0, \"ticks\": \"\"}, \"type\": \"mesh3d\"}], \"parcoords\": [{\"line\": {\"colorbar\": {\"outlinewidth\": 0, \"ticks\": \"\"}}, \"type\": \"parcoords\"}], \"pie\": [{\"automargin\": true, \"type\": \"pie\"}], \"scatter\": [{\"marker\": {\"colorbar\": {\"outlinewidth\": 0, \"ticks\": \"\"}}, \"type\": \"scatter\"}], \"scatter3d\": [{\"line\": {\"colorbar\": {\"outlinewidth\": 0, \"ticks\": \"\"}}, \"marker\": {\"colorbar\": {\"outlinewidth\": 0, \"ticks\": \"\"}}, \"type\": \"scatter3d\"}], \"scattercarpet\": [{\"marker\": {\"colorbar\": {\"outlinewidth\": 0, \"ticks\": \"\"}}, \"type\": \"scattercarpet\"}], \"scattergeo\": [{\"marker\": {\"colorbar\": {\"outlinewidth\": 0, \"ticks\": \"\"}}, \"type\": \"scattergeo\"}], \"scattergl\": [{\"marker\": {\"colorbar\": {\"outlinewidth\": 0, \"ticks\": \"\"}}, \"type\": \"scattergl\"}], \"scattermapbox\": [{\"marker\": {\"colorbar\": {\"outlinewidth\": 0, \"ticks\": \"\"}}, \"type\": \"scattermapbox\"}], \"scatterpolar\": [{\"marker\": {\"colorbar\": {\"outlinewidth\": 0, \"ticks\": \"\"}}, \"type\": \"scatterpolar\"}], \"scatterpolargl\": [{\"marker\": {\"colorbar\": {\"outlinewidth\": 0, \"ticks\": \"\"}}, \"type\": \"scatterpolargl\"}], \"scatterternary\": [{\"marker\": {\"colorbar\": {\"outlinewidth\": 0, \"ticks\": \"\"}}, \"type\": \"scatterternary\"}], \"surface\": [{\"colorbar\": {\"outlinewidth\": 0, \"ticks\": \"\"}, \"colorscale\": [[0.0, \"#0d0887\"], [0.1111111111111111, \"#46039f\"], [0.2222222222222222, \"#7201a8\"], [0.3333333333333333, \"#9c179e\"], [0.4444444444444444, \"#bd3786\"], [0.5555555555555556, \"#d8576b\"], [0.6666666666666666, \"#ed7953\"], [0.7777777777777778, \"#fb9f3a\"], [0.8888888888888888, \"#fdca26\"], [1.0, \"#f0f921\"]], \"type\": \"surface\"}], \"table\": [{\"cells\": {\"fill\": {\"color\": \"#EBF0F8\"}, \"line\": {\"color\": \"white\"}}, \"header\": {\"fill\": {\"color\": \"#C8D4E3\"}, \"line\": {\"color\": \"white\"}}, \"type\": \"table\"}]}, \"layout\": {\"annotationdefaults\": {\"arrowcolor\": \"#2a3f5f\", \"arrowhead\": 0, \"arrowwidth\": 1}, \"autotypenumbers\": \"strict\", \"coloraxis\": {\"colorbar\": {\"outlinewidth\": 0, \"ticks\": \"\"}}, \"colorscale\": {\"diverging\": [[0, \"#8e0152\"], [0.1, \"#c51b7d\"], [0.2, \"#de77ae\"], [0.3, \"#f1b6da\"], [0.4, \"#fde0ef\"], [0.5, \"#f7f7f7\"], [0.6, \"#e6f5d0\"], [0.7, \"#b8e186\"], [0.8, \"#7fbc41\"], [0.9, \"#4d9221\"], [1, \"#276419\"]], \"sequential\": [[0.0, \"#0d0887\"], [0.1111111111111111, \"#46039f\"], [0.2222222222222222, \"#7201a8\"], [0.3333333333333333, \"#9c179e\"], [0.4444444444444444, \"#bd3786\"], [0.5555555555555556, \"#d8576b\"], [0.6666666666666666, \"#ed7953\"], [0.7777777777777778, \"#fb9f3a\"], [0.8888888888888888, \"#fdca26\"], [1.0, \"#f0f921\"]], \"sequentialminus\": [[0.0, \"#0d0887\"], [0.1111111111111111, \"#46039f\"], [0.2222222222222222, \"#7201a8\"], [0.3333333333333333, \"#9c179e\"], [0.4444444444444444, \"#bd3786\"], [0.5555555555555556, \"#d8576b\"], [0.6666666666666666, \"#ed7953\"], [0.7777777777777778, \"#fb9f3a\"], [0.8888888888888888, \"#fdca26\"], [1.0, \"#f0f921\"]]}, \"colorway\": [\"#636efa\", \"#EF553B\", \"#00cc96\", \"#ab63fa\", \"#FFA15A\", \"#19d3f3\", \"#FF6692\", \"#B6E880\", \"#FF97FF\", \"#FECB52\"], \"font\": {\"color\": \"#2a3f5f\"}, \"geo\": {\"bgcolor\": \"white\", \"lakecolor\": \"white\", \"landcolor\": \"#E5ECF6\", \"showlakes\": true, \"showland\": true, \"subunitcolor\": \"white\"}, \"hoverlabel\": {\"align\": \"left\"}, \"hovermode\": \"closest\", \"mapbox\": {\"style\": \"light\"}, \"paper_bgcolor\": \"white\", \"plot_bgcolor\": \"#E5ECF6\", \"polar\": {\"angularaxis\": {\"gridcolor\": \"white\", \"linecolor\": \"white\", \"ticks\": \"\"}, \"bgcolor\": \"#E5ECF6\", \"radialaxis\": {\"gridcolor\": \"white\", \"linecolor\": \"white\", \"ticks\": \"\"}}, \"scene\": {\"xaxis\": {\"backgroundcolor\": \"#E5ECF6\", \"gridcolor\": \"white\", \"gridwidth\": 2, \"linecolor\": \"white\", \"showbackground\": true, \"ticks\": \"\", \"zerolinecolor\": \"white\"}, \"yaxis\": {\"backgroundcolor\": \"#E5ECF6\", \"gridcolor\": \"white\", \"gridwidth\": 2, \"linecolor\": \"white\", \"showbackground\": true, \"ticks\": \"\", \"zerolinecolor\": \"white\"}, \"zaxis\": {\"backgroundcolor\": \"#E5ECF6\", \"gridcolor\": \"white\", \"gridwidth\": 2, \"linecolor\": \"white\", \"showbackground\": true, \"ticks\": \"\", \"zerolinecolor\": \"white\"}}, \"shapedefaults\": {\"line\": {\"color\": \"#2a3f5f\"}}, \"ternary\": {\"aaxis\": {\"gridcolor\": \"white\", \"linecolor\": \"white\", \"ticks\": \"\"}, \"baxis\": {\"gridcolor\": \"white\", \"linecolor\": \"white\", \"ticks\": \"\"}, \"bgcolor\": \"#E5ECF6\", \"caxis\": {\"gridcolor\": \"white\", \"linecolor\": \"white\", \"ticks\": \"\"}}, \"title\": {\"x\": 0.05}, \"xaxis\": {\"automargin\": true, \"gridcolor\": \"white\", \"linecolor\": \"white\", \"ticks\": \"\", \"title\": {\"standoff\": 15}, \"zerolinecolor\": \"white\", \"zerolinewidth\": 2}, \"yaxis\": {\"automargin\": true, \"gridcolor\": \"white\", \"linecolor\": \"white\", \"ticks\": \"\", \"title\": {\"standoff\": 15}, \"zerolinecolor\": \"white\", \"zerolinewidth\": 2}}}, \"yaxis\": {\"range\": [0, 4], \"title\": {\"text\": \"RMSE\"}}},                        {\"responsive\": true}                    ).then(function(){\n",
       "                            \n",
       "var gd = document.getElementById('75225bdc-a36c-411b-ae24-990725a5289e');\n",
       "var x = new MutationObserver(function (mutations, observer) {{\n",
       "        var display = window.getComputedStyle(gd).display;\n",
       "        if (!display || display === 'none') {{\n",
       "            console.log([gd, 'removed!']);\n",
       "            Plotly.purge(gd);\n",
       "            observer.disconnect();\n",
       "        }}\n",
       "}});\n",
       "\n",
       "// Listen for the removal of the full notebook cells\n",
       "var notebookContainer = gd.closest('#notebook-container');\n",
       "if (notebookContainer) {{\n",
       "    x.observe(notebookContainer, {childList: true});\n",
       "}}\n",
       "\n",
       "// Listen for the clearing of the current output cell\n",
       "var outputEl = gd.closest('.output');\n",
       "if (outputEl) {{\n",
       "    x.observe(outputEl, {childList: true});\n",
       "}}\n",
       "\n",
       "                        })                };                });            </script>        </div>"
      ]
     },
     "metadata": {},
     "output_type": "display_data"
    }
   ],
   "source": [
    "fig = compare_models(models)\n",
    "fig.update_yaxes(range = [0, 4], title = \"RMSE\")"
   ]
  },
  {
   "cell_type": "markdown",
   "metadata": {},
   "source": [
    "Let's compare the distribution of the parameters for both the `RidgeCV` and `LassoCV` models."
   ]
  },
  {
   "cell_type": "code",
   "execution_count": 63,
   "metadata": {},
   "outputs": [],
   "source": [
    "model = RidgeCV()\n",
    "model.fit(name_design_matrix_std(tr), tr['mpg'])\n",
    "ridge_coef = model.coef_\n",
    "\n",
    "model = LassoCV()\n",
    "model.fit(name_design_matrix_std(tr), tr['mpg'])\n",
    "lasso_coef = model.coef_"
   ]
  },
  {
   "cell_type": "code",
   "execution_count": 64,
   "metadata": {},
   "outputs": [
    {
     "data": {
      "application/vnd.plotly.v1+json": {
       "config": {
        "plotlyServerURL": "https://plot.ly"
       },
       "data": [
        {
         "autobinx": false,
         "histnorm": "probability density",
         "legendgroup": "Ridge",
         "marker": {
          "color": "rgb(31, 119, 180)"
         },
         "name": "Ridge",
         "opacity": 0.7,
         "type": "histogram",
         "x": [
          -3.9930691936846694,
          5.037703251892813,
          -0.8618254501213931,
          -3.5181435000961754,
          -0.42469385713891583,
          2.6812822014682887,
          -0.3053145831857478,
          0.22547086629869817,
          -0.10313995513711038,
          -0.12233091116158867,
          0.19802547403671392,
          -0.12096923597820107,
          -1.0307349960081436,
          0.1605461666368979,
          0.1885363955110899,
          -0.5453464132843986,
          2.56059289449918,
          0.5680348391888308,
          -0.08841057029678048,
          1.2472505317253866,
          -2.1602307653956037,
          -1.0677409849345676,
          -0.7364849429178,
          -0.281120989977839,
          -0.4882475060998972,
          -0.1425576133235728,
          0.1691084509361211,
          -2.052987586031357,
          -0.2281831351555582,
          1.6303535359653873,
          0.8247284958344278,
          0.6917671103465183,
          0.6339733263641741,
          2.786627284213738,
          1.6999498733488587,
          0.21763941698389824,
          -0.4585414989724519,
          -1.8837289958894132,
          1.783606012260569,
          -1.7389733928317335,
          -0.4024316624777796,
          0.6134325242990593,
          2.0043312211547573,
          0.9351900064124232,
          0.6522049111168535,
          -2.4074597277499756,
          -0.3926525240786689,
          -0.005285919488884197,
          1.3906261964441204,
          -1.16160374242712,
          0.8189254155612258,
          1.0215379890425953,
          -2.6372219327165727,
          0.9361208196448058,
          -0.04223649969148324,
          -1.9565464961934342,
          0.2498577922466092,
          -2.3150305151601955,
          1.6026187321075211,
          -2.3298528323422665,
          -0.018319414366761613,
          1.2373129436137693,
          -2.163054716183569,
          0.3874297846724736,
          0.4948673663634891,
          0.4341785024692597,
          0.3968312310257109,
          -1.1540100751198472,
          -1.0653725203822437,
          -0.4275049160296205,
          -1.365749449372174,
          -0.36847947620004673,
          -1.35600323938286,
          1.916141048296824,
          0.4341785024692597,
          0.5744090048161845,
          -0.7771061917845893,
          0.40558274892224677,
          0.2306420660933326,
          -1.897479084493812,
          0.4612136639600589,
          1.3590820283499767,
          -0.118061898311541,
          -0.06233611749630519,
          -0.07435451646738785,
          -2.8553645595291375,
          0.3873635587263152,
          1.0392987593972682,
          -0.16148829932389042,
          -0.4898593874157166,
          -0.9368997009385055,
          0.15097206177052397,
          2.1509718272367047,
          2.3815017884042047,
          0.729890873878335,
          0.46119985083691545,
          -0.5850812205330701,
          -0.5766478514318014,
          -0.08427367234493005,
          -0.7326296025057144,
          0.7799620757296865,
          0.10732084989938562,
          0.5339684840240013,
          0.33179740827516546,
          0.9623797379288848,
          -1.4091362541086316,
          -1.2291494337634024,
          0.1442591082392501,
          0.43317135964253384,
          0.5838555717903364,
          0.31585340498904046,
          -0.3478909774725082,
          0.6189045066992711,
          -1.072691405662399,
          -0.7417059249629268,
          -0.12408193154475135,
          -0.11060035283742695,
          -0.3926525240786689,
          -0.5487481018652094,
          1.9467143014387174,
          0.8742526670258153,
          -2.098105545298246,
          0.9757650198915989,
          -0.6980378887425671,
          -0.846464264519464,
          1.6856988605524479,
          -0.018319414366761613,
          -0.10760176154624457,
          7.6821753235669075,
          0.1679699020065611,
          0.4482517885923475,
          -0.19999585750766702,
          1.7942833919555699,
          1.2266152872656015,
          0.8071214607482391,
          1.1697608126388028,
          0.6339733263641741,
          0.41649375308344705,
          -0.3042877474622554,
          -1.6816675765689946,
          1.098930257180784,
          -0.620509299172582,
          1.1145049284259922,
          2.3325865177493226,
          0.21545201326464497,
          -0.6986593516111039,
          1.0936996724139432,
          0.9974315786161194,
          -1.4074303075202883,
          1.2359178567007136,
          0.4799698349156829,
          -1.4262491992915778,
          4.006720858317878,
          -0.32232830466410856,
          -1.4404328017367554,
          -0.19442500937050355,
          0.34179782382868096,
          -2.107840844595993,
          -0.4898593874157166,
          1.9572274502485154,
          2.11159715246153,
          -0.7683885279643999,
          2.012642208218887,
          0.5680348391888308,
          1.1921230794713495,
          1.878765026912748,
          -0.05006793217819561,
          -1.1465662192599964,
          0.30000372094503136,
          1.631937865542806,
          0.5095374822855381,
          -1.5520388924206585,
          0.2636482235894611,
          -1.207503102926233,
          -2.140077637836077,
          0.8045344667770497,
          -2.09818117051142,
          0.15322260147556,
          -1.8095174186696934,
          1.2933493524941315,
          0.3476080594534451,
          0.32637191508077334,
          1.8022382923921194,
          -0.7846170533599949,
          -0.04833304101050122,
          -1.033340534498502,
          0.2588721030978778,
          0.08418350533004881,
          0.11381657692544295,
          -0.2784010220920443,
          -2.9148789948519926,
          -0.7162228698664279,
          -1.0989167937251116,
          -0.33719753779721345,
          0.5744090048161845,
          -0.7661721021389547,
          0.9965650814252208,
          0.1605461666368979,
          0.28572421857439845,
          0.30634306349154566,
          0.3873635587263152,
          0.6415168134901809,
          0.6917671103465183,
          -0.560483578001505,
          0.6486327923858555,
          0.6145561347052568,
          0.8915657414661539,
          -0.6494825002618918,
          0.2853938064383801,
          -1.5958345515656636,
          -0.3546946012768417,
          -0.9939621593370855,
          0.005548225269836227,
          0.24830801554546528,
          3.8176466378032,
          -1.3797561092143633,
          0.3817767514389995,
          0.6194056372608912,
          1.0699011290623537,
          0.16328722908385954,
          -1.0166920313011372,
          0.8394235955604227,
          -0.10730650303028788,
          0.12140768004433317,
          -0.6919093726359064,
          0.5071910575635987,
          -0.044724345661153755,
          -0.3343042673219786,
          -1.6159508819680055,
          0.3441400520295499,
          0.6145561347052568,
          -0.018319414366761613,
          -0.7623030730024106,
          -3.3571882637023105,
          -2.6385357025435616,
          -3.6274114127566284,
          -0.5383119878973247,
          1.276605396008108,
          -1.5397432817499532,
          -1.4006379765014392,
          0.3082487478987428,
          -0.023103033617198974,
          0.27104136483307006,
          -0.4911880484915153,
          -0.14113324828182175,
          0.18932121571117372,
          -0.5967101997755163,
          -0.22992584158205473,
          -0.20156557368945927,
          -0.33986446208973825,
          -0.06048041883936533,
          -0.13313491595793417,
          -0.16936953546208183,
          -0.6564774170443104,
          1.5843929484363704,
          -0.3343042673219786,
          0.8915657414661539,
          0.06343382376951742,
          1.9826221771151675,
          2.3970167223708243,
          0.37362588932358837,
          0.6405990301821943,
          -0.4004375585173823,
          -0.8376852920111378,
          0.7497945288485108,
          -1.9895537622618402,
          0.47341989385753147,
          2.986686803496607,
          0.35179430152146873,
          1.2866775739018028,
          0.32698211095892477,
          0.287330451974944,
          -0.5196881893484887,
          2.099416771356479,
          2.099416771356479,
          -2.001270841854587,
          -0.9832916621767456,
          -0.37683229797848194,
          -1.0166920313011372,
          -0.8746832953430036,
          -0.2671839173785,
          -0.5967101997755163,
          -0.11060035283742695,
          -2.0222122025762386,
          -1.3282205088683665,
          -0.22915228605723126,
          -2.6730265939248383,
          3.5599727064032995,
          -1.66684941527111,
          -1.5409088940631233,
          0.8915657414661539,
          0.6486327923858555,
          -2.0060305527461213,
          1.783606012260569
         ],
         "xaxis": "x",
         "xbins": {
          "end": 7.6821753235669075,
          "size": 0.1,
          "start": -3.9930691936846694
         },
         "yaxis": "y"
        },
        {
         "autobinx": false,
         "histnorm": "probability density",
         "legendgroup": "Lasso",
         "marker": {
          "color": "rgb(255, 127, 14)"
         },
         "name": "Lasso",
         "opacity": 0.7,
         "type": "histogram",
         "x": [
          -2.0476198734900146,
          3.223742095739864,
          -0.22808811219082853,
          -4.424263598198707,
          0,
          2.6754583974503556,
          -0.23827509751446202,
          0,
          0.1933492848197166,
          -0.6878399125175539,
          0,
          0,
          0,
          0,
          0,
          0,
          0,
          0,
          0,
          0,
          0,
          0,
          0,
          0,
          0,
          0,
          0,
          0,
          0,
          0,
          0,
          0,
          0,
          0,
          0,
          0,
          0,
          0,
          0,
          0,
          0,
          0,
          0,
          0,
          0,
          0,
          0,
          0,
          0,
          0,
          0,
          0,
          0,
          0,
          0,
          0,
          0,
          0,
          0,
          0,
          0,
          0,
          0,
          0,
          0,
          0,
          0,
          -0.3983334666123992,
          0,
          0,
          0,
          0,
          0,
          0,
          0,
          0,
          0,
          0,
          0,
          0,
          0,
          0,
          0,
          0,
          0,
          0,
          0,
          0,
          0,
          0,
          0,
          0,
          0,
          0,
          0,
          0,
          0,
          0,
          0,
          0,
          0,
          0,
          0,
          0,
          0,
          0,
          0,
          0,
          0,
          0,
          0,
          0,
          0,
          0,
          0,
          0,
          0,
          0,
          0,
          0,
          0,
          0,
          0,
          0,
          0,
          0.6021573559342153,
          0,
          0,
          5.5889740575213915,
          0,
          0,
          0,
          0,
          0,
          0,
          0,
          0,
          0,
          0,
          0,
          0,
          0,
          0,
          0,
          0,
          -0.2307513818617211,
          0,
          0,
          0,
          0,
          0,
          0,
          0,
          0,
          0,
          0,
          0,
          0,
          0,
          0,
          0,
          0,
          0,
          0,
          0,
          0,
          0,
          0,
          0,
          0,
          0,
          0,
          0,
          0,
          0,
          0,
          0,
          0,
          0,
          0,
          0,
          0,
          0,
          0,
          0,
          0,
          0,
          0,
          0,
          0,
          0,
          0,
          0,
          0,
          0,
          0,
          0,
          0,
          0,
          0,
          0,
          0,
          0,
          0,
          0,
          0,
          0,
          0,
          0,
          0,
          0,
          0,
          0,
          0,
          0,
          0,
          0,
          0.18609257038557978,
          0.6622835325725625,
          0,
          0,
          0,
          0,
          0,
          0,
          0,
          0,
          0,
          0,
          0,
          0,
          0,
          0,
          0,
          0,
          0,
          0,
          0,
          0,
          0,
          0,
          0,
          0,
          0,
          0,
          0,
          0,
          0,
          0,
          0,
          0,
          0,
          0,
          0,
          0,
          0,
          0,
          0,
          0,
          0,
          0,
          0,
          0,
          0,
          0,
          0,
          0,
          0,
          0,
          0,
          0,
          0,
          0,
          0,
          0,
          0,
          0,
          0,
          0,
          0,
          0,
          0,
          0,
          0,
          0,
          0,
          0,
          1.8088480904729738,
          0,
          0,
          0,
          0,
          0,
          0
         ],
         "xaxis": "x",
         "xbins": {
          "end": 5.5889740575213915,
          "size": 0.1,
          "start": -4.424263598198707
         },
         "yaxis": "y"
        },
        {
         "legendgroup": "Ridge",
         "marker": {
          "color": "rgb(31, 119, 180)"
         },
         "mode": "lines",
         "name": "Ridge",
         "showlegend": false,
         "type": "scatter",
         "x": [
          -3.9930691936846694,
          -3.969718704650166,
          -3.946368215615663,
          -3.92301772658116,
          -3.8996672375466566,
          -3.8763167485121537,
          -3.8529662594776504,
          -3.8296157704431475,
          -3.806265281408644,
          -3.782914792374141,
          -3.759564303339638,
          -3.7362138143051347,
          -3.7128633252706313,
          -3.6895128362361285,
          -3.666162347201625,
          -3.6428118581671223,
          -3.619461369132619,
          -3.5961108800981156,
          -3.5727603910636128,
          -3.5494099020291094,
          -3.526059412994606,
          -3.5027089239601032,
          -3.4793584349256,
          -3.4560079458910966,
          -3.4326574568565937,
          -3.4093069678220904,
          -3.3859564787875875,
          -3.3626059897530842,
          -3.339255500718581,
          -3.315905011684078,
          -3.2925545226495747,
          -3.269204033615072,
          -3.2458535445805685,
          -3.222503055546065,
          -3.199152566511562,
          -3.175802077477059,
          -3.152451588442556,
          -3.129101099408053,
          -3.1057506103735495,
          -3.082400121339046,
          -3.0590496323045433,
          -3.03569914327004,
          -3.012348654235537,
          -2.988998165201034,
          -2.9656476761665305,
          -2.942297187132027,
          -2.9189466980975243,
          -2.8955962090630214,
          -2.872245720028518,
          -2.8488952309940148,
          -2.8255447419595114,
          -2.8021942529250086,
          -2.7788437638905057,
          -2.7554932748560024,
          -2.732142785821499,
          -2.7087922967869957,
          -2.6854418077524924,
          -2.6620913187179895,
          -2.6387408296834867,
          -2.6153903406489833,
          -2.59203985161448,
          -2.5686893625799767,
          -2.545338873545474,
          -2.521988384510971,
          -2.4986378954764676,
          -2.4752874064419643,
          -2.451936917407461,
          -2.428586428372958,
          -2.405235939338455,
          -2.381885450303952,
          -2.3585349612694486,
          -2.3351844722349453,
          -2.3118339832004424,
          -2.288483494165939,
          -2.2651330051314362,
          -2.241782516096933,
          -2.2184320270624296,
          -2.1950815380279263,
          -2.1717310489934234,
          -2.14838055995892,
          -2.125030070924417,
          -2.101679581889914,
          -2.0783290928554106,
          -2.0549786038209077,
          -2.0316281147864044,
          -2.0082776257519015,
          -1.9849271367173982,
          -1.9615766476828949,
          -1.9382261586483915,
          -1.9148756696138887,
          -1.8915251805793853,
          -1.868174691544882,
          -1.8448242025103792,
          -1.8214737134758758,
          -1.798123224441373,
          -1.7747727354068696,
          -1.7514222463723663,
          -1.7280717573378634,
          -1.7047212683033601,
          -1.6813707792688573,
          -1.6580202902343535,
          -1.6346698011998506,
          -1.6113193121653477,
          -1.5879688231308444,
          -1.5646183340963415,
          -1.5412678450618378,
          -1.517917356027335,
          -1.494566866992832,
          -1.4712163779583287,
          -1.4478658889238254,
          -1.424515399889322,
          -1.4011649108548192,
          -1.3778144218203159,
          -1.3544639327858126,
          -1.3311134437513097,
          -1.3077629547168064,
          -1.2844124656823035,
          -1.2610619766478002,
          -1.2377114876132969,
          -1.214360998578794,
          -1.1910105095442907,
          -1.1676600205097878,
          -1.144309531475284,
          -1.1209590424407812,
          -1.0976085534062783,
          -1.074258064371775,
          -1.050907575337272,
          -1.0275570863027683,
          -1.0042065972682654,
          -0.9808561082337626,
          -0.9575056191992593,
          -0.9341551301647559,
          -0.9108046411302526,
          -0.8874541520957497,
          -0.8641036630612469,
          -0.8407531740267435,
          -0.8174026849922402,
          -0.7940521959577369,
          -0.770701706923234,
          -0.7473512178887312,
          -0.7240007288542274,
          -0.7006502398197245,
          -0.6772997507852212,
          -0.6539492617507183,
          -0.6305987727162154,
          -0.6072482836817117,
          -0.5838977946472088,
          -0.5605473056127055,
          -0.5371968165782026,
          -0.5138463275436989,
          -0.490495838509196,
          -0.4671453494746931,
          -0.4437948604401898,
          -0.42044437140568647,
          -0.39709388237118315,
          -0.3737433933366803,
          -0.3503929043021774,
          -0.3270424152676741,
          -0.30369192623317076,
          -0.28034143719866744,
          -0.25699094816416457,
          -0.2336404591296617,
          -0.21028997009515793,
          -0.18693948106065505,
          -0.16358899202615174,
          -0.14023850299164886,
          -0.11688801395714599,
          -0.09353752492264222,
          -0.07018703588813935,
          -0.04683654685363603,
          -0.023486057819133155,
          -0.0001355687846298359,
          0.02321492024987304,
          0.04656540928437636,
          0.06991589831887968,
          0.093266387353383,
          0.11661687638788631,
          0.13996736542238875,
          0.16331785445689206,
          0.18666834349139538,
          0.2100188325258987,
          0.23336932156040202,
          0.25671981059490534,
          0.28007029962940777,
          0.3034207886639111,
          0.3267712776984144,
          0.3501217667329177,
          0.37347225576742105,
          0.3968227448019235,
          0.4201732338364268,
          0.4435237228709301,
          0.46687421190543343,
          0.49022470093993675,
          0.5135751899744392,
          0.5369256790089425,
          0.5602761680434467,
          0.5836266570779491,
          0.6069771461124525,
          0.6303276351469549,
          0.6536781241814582,
          0.6770286132159624,
          0.7003791022504648,
          0.7237295912849682,
          0.7470800803194706,
          0.7704305693539739,
          0.7937810583884781,
          0.8171315474229806,
          0.8404820364574839,
          0.8638325254919863,
          0.8871830145264896,
          0.9105335035609938,
          0.9338839925954963,
          0.9572344816299996,
          0.9805849706645029,
          1.0039354596990053,
          1.0272859487335095,
          1.050636437768012,
          1.0739869268025153,
          1.0973374158370186,
          1.120687904871521,
          1.1440383939060252,
          1.1673888829405277,
          1.190739371975031,
          1.2140898610095343,
          1.2374403500440376,
          1.260790839078541,
          1.2841413281130443,
          1.3074918171475467,
          1.33084230618205,
          1.3541927952165533,
          1.3775432842510567,
          1.40089377328556,
          1.4242442623200624,
          1.4475947513545657,
          1.470945240389069,
          1.4942957294235724,
          1.5176462184580757,
          1.540996707492578,
          1.5643471965270814,
          1.5876976855615847,
          1.611048174596088,
          1.6343986636305914,
          1.6577491526650938,
          1.6810996416995971,
          1.7044501307341013,
          1.7278006197686038,
          1.751151108803107,
          1.7745015978376095,
          1.7978520868721128,
          1.821202575906617,
          1.8445530649411195,
          1.8679035539756228,
          1.8912540430101252,
          1.9146045320446285,
          1.9379550210791328,
          1.9613055101136352,
          1.9846559991481385,
          2.008006488182642,
          2.0313569772171443,
          2.0547074662516485,
          2.078057955286151,
          2.101408444320654,
          2.1247589333551575,
          2.14810942238966,
          2.171459911424164,
          2.1948104004586666,
          2.21816088949317,
          2.2415113785276732,
          2.2648618675621757,
          2.28821235659668,
          2.3115628456311823,
          2.3349133346656856,
          2.358263823700189,
          2.3816143127346914,
          2.4049648017691956,
          2.428315290803699,
          2.4516657798382013,
          2.4750162688727047,
          2.498366757907207,
          2.5217172469417113,
          2.5450677359762146,
          2.568418225010717,
          2.5917687140452204,
          2.615119203079723,
          2.638469692114227,
          2.6618201811487303,
          2.6851706701832327,
          2.708521159217736,
          2.7318716482522385,
          2.7552221372867427,
          2.778572626321246,
          2.8019231153557485,
          2.8252736043902518,
          2.848624093424756,
          2.8719745824592584,
          2.8953250714937617,
          2.918675560528264,
          2.9420260495627675,
          2.9653765385972717,
          2.988727027631774,
          3.0120775166662774,
          3.03542800570078,
          3.058778494735283,
          3.0821289837697874,
          3.10547947280429,
          3.128829961838793,
          3.1521804508732965,
          3.175530939907799,
          3.198881428942303,
          3.2222319179768055,
          3.245582407011309,
          3.268932896045812,
          3.2922833850803146,
          3.315633874114819,
          3.3389843631493212,
          3.3623348521838246,
          3.385685341218328,
          3.4090358302528303,
          3.4323863192873345,
          3.455736808321838,
          3.4790872973563403,
          3.5024377863908436,
          3.525788275425346,
          3.54913876445985,
          3.5724892534943535,
          3.595839742528856,
          3.6191902315633593,
          3.6425407205978617,
          3.665891209632366,
          3.6892416986668692,
          3.7125921877013717,
          3.735942676735875,
          3.7592931657703774,
          3.7826436548048816,
          3.805994143839385,
          3.8293446328738874,
          3.8526951219083907,
          3.876045610942894,
          3.8993960999773973,
          3.9227465890119007,
          3.946097078046403,
          3.9694475670809064,
          3.9927980561154097,
          4.016148545149913,
          4.0394990341844155,
          4.06284952321892,
          4.086200012253422,
          4.1095505012879245,
          4.132900990322429,
          4.156251479356931,
          4.179601968391435,
          4.20295245742594,
          4.226302946460442,
          4.2496534354949445,
          4.273003924529447,
          4.296354413563951,
          4.3197049025984535,
          4.343055391632956,
          4.36640588066746,
          4.389756369701963,
          4.413106858736467,
          4.436457347770971,
          4.459807836805473,
          4.483158325839976,
          4.50650881487448,
          4.5298593039089825,
          4.553209792943485,
          4.576560281977987,
          4.599910771012492,
          4.623261260046994,
          4.646611749081498,
          4.669962238116002,
          4.693312727150505,
          4.716663216185007,
          4.7400137052195115,
          4.763364194254014,
          4.786714683288516,
          4.8100651723230206,
          4.833415661357523,
          4.856766150392025,
          4.88011663942653,
          4.903467128461034,
          4.926817617495536,
          4.950168106530039,
          4.973518595564543,
          4.996869084599045,
          5.020219573633548,
          5.043570062668052,
          5.066920551702554,
          5.090271040737059,
          5.113621529771563,
          5.136972018806065,
          5.160322507840568,
          5.18367299687507,
          5.207023485909574,
          5.230373974944077,
          5.253724463978579,
          5.277074953013083,
          5.300425442047586,
          5.32377593108209,
          5.347126420116594,
          5.370476909151097,
          5.393827398185599,
          5.4171778872201015,
          5.440528376254606,
          5.463878865289108,
          5.487229354323611,
          5.510579843358115,
          5.533930332392617,
          5.557280821427121,
          5.580631310461626,
          5.603981799496128,
          5.6273322885306305,
          5.650682777565135,
          5.674033266599637,
          5.69738375563414,
          5.720734244668642,
          5.744084733703146,
          5.767435222737649,
          5.790785711772153,
          5.814136200806657,
          5.8374866898411595,
          5.860837178875662,
          5.884187667910166,
          5.9075381569446686,
          5.930888645979171,
          5.954239135013675,
          5.977589624048178,
          6.00094011308268,
          6.024290602117184,
          6.0476410911516885,
          6.070991580186191,
          6.094342069220693,
          6.1176925582551975,
          6.1410430472897,
          6.164393536324202,
          6.187744025358707,
          6.211094514393209,
          6.2344450034277115,
          6.2577954924622174,
          6.28114598149672,
          6.304496470531222,
          6.327846959565725,
          6.351197448600229,
          6.374547937634731,
          6.397898426669234,
          6.421248915703738,
          6.4445994047382404,
          6.467949893772745,
          6.491300382807249,
          6.514650871841751,
          6.538001360876254,
          6.561351849910758,
          6.58470233894526,
          6.608052827979763,
          6.631403317014265,
          6.654753806048769,
          6.678104295083272,
          6.701454784117776,
          6.72480527315228,
          6.748155762186783,
          6.771506251221285,
          6.794856740255789,
          6.818207229290292,
          6.841557718324794,
          6.864908207359297,
          6.888258696393801,
          6.911609185428303,
          6.9349596744628075,
          6.958310163497312,
          6.981660652531814,
          7.0050111415663165,
          7.028361630600821,
          7.051712119635323,
          7.075062608669826,
          7.09841309770433,
          7.121763586738832,
          7.145114075773335,
          7.168464564807839,
          7.191815053842343,
          7.2151655428768455,
          7.238516031911348,
          7.261866520945852,
          7.285217009980355,
          7.308567499014857,
          7.331917988049361,
          7.355268477083864,
          7.378618966118366,
          7.401969455152872,
          7.4253199441873745,
          7.448670433221877,
          7.472020922256379,
          7.495371411290884,
          7.518721900325386,
          7.542072389359888,
          7.565422878394393,
          7.588773367428895,
          7.6121238564633975,
          7.6354743454979035,
          7.658824834532406
         ],
         "xaxis": "x",
         "y": [
          0.008437840741525485,
          0.008769082774275004,
          0.009099560948346857,
          0.00942862222820709,
          0.009755662845930152,
          0.01008013886341529,
          0.010401576693425561,
          0.010719583437297392,
          0.011033856889230077,
          0.011344195051550324,
          0.01165050500268027,
          0.011952810960091978,
          0.012251261384608103,
          0.012546134980217517,
          0.012837845455214362,
          0.013126944925912777,
          0.013414125863276664,
          0.013700221505227154,
          0.013986204682705996,
          0.014273185035196513,
          0.014562404620630185,
          0.014855231954626682,
          0.015153154543937312,
          0.015457770007850138,
          0.015770775908214615,
          0.016093958432725583,
          0.0164291800963035,
          0.016778366641053487,
          0.017143493325752143,
          0.017526570800644695,
          0.017929630762279297,
          0.01835471157612844,
          0.018803844042052664,
          0.01927903745968761,
          0.019782266128257325,
          0.020315456389023025,
          0.02088047428964293,
          0.02147911391937647,
          0.02211308643365073,
          0.022784009757410042,
          0.023493398930278665,
          0.024242657034209712,
          0.025033066627173955,
          0.025865781595581193,
          0.026741819334313282,
          0.02766205316698781,
          0.028627204930554075,
          0.02963783766739737,
          0.03069434839428524,
          0.03179696094988056,
          0.03294571895998049,
          0.03414047900063636,
          0.03538090408213828,
          0.036666457619580976,
          0.03799639809633553,
          0.03936977466315226,
          0.040785423945793105,
          0.04224196835613954,
          0.043737816213984954,
          0.04527116398781824,
          0.046840000951849974,
          0.04844211653275912,
          0.05007511058304661,
          0.05173640676889504,
          0.053423269199950586,
          0.05513282235788383,
          0.05686207430180401,
          0.058607943043864116,
          0.060367285900296996,
          0.06213693153449898,
          0.06391371432260042,
          0.06569451059123675,
          0.06747627620488404,
          0.06925608491885986,
          0.0710311668663492,
          0.0727989465155887,
          0.07455707941816467,
          0.07630348707220952,
          0.07803638924547752,
          0.07975433314257205,
          0.08145621885708747,
          0.08314132062162327,
          0.08480930345445688,
          0.08646023489860714,
          0.08809459165413845,
          0.08971326101462777,
          0.09131753713037256,
          0.09290911223069974,
          0.09449006304231435,
          0.09606283273683408,
          0.09763020882566885,
          0.09919529749179062,
          0.10076149490379305,
          0.10233245609659519,
          0.10391206202444128,
          0.10550438539537609,
          0.10711365588258544,
          0.1087442252779673,
          0.11040053310862075,
          0.11208707317966113,
          0.11380836143930846,
          0.11556890548724325,
          0.11737317596763866,
          0.11922558000695856,
          0.12113043677643268,
          0.12309195518276209,
          0.12511421362053737,
          0.12720114165818638,
          0.12935650347773603,
          0.13158388284857425,
          0.13388666938755192,
          0.13626804584253113,
          0.13873097613374769,
          0.14127819389655297,
          0.14391219128930613,
          0.14663520786007364,
          0.14944921930382096,
          0.15235592598613207,
          0.15535674115827322,
          0.15845277883962244,
          0.16164484139513868,
          0.16493340688576316,
          0.1683186163166187,
          0.17180026095006606,
          0.17537776988667694,
          0.1790501981459272,
          0.18281621549904103,
          0.18667409631839474,
          0.19062171071094777,
          0.19465651719732036,
          0.19877555718367013,
          0.20297545145090803,
          0.20725239885582664,
          0.2116021774022327,
          0.21602014779831302,
          0.22050125957036004,
          0.22504005975397365,
          0.2296307041332591,
          0.23426697094775495,
          0.23894227693726297,
          0.24364969554777072,
          0.2483819770785949,
          0.25313157051301005,
          0.25789064674310774,
          0.2626511228755174,
          0.2674046872888025,
          0.2721428251065708,
          0.276856843753093,
          0.28153789827087633,
          0.2861770161021829,
          0.29076512106876773,
          0.29529305632561054,
          0.2997516061143655,
          0.3041315161995739,
          0.30842351293400855,
          0.3126183209671907,
          0.3167066796812575,
          0.32067935850884066,
          0.3245271713561747,
          0.32824099041889204,
          0.3318117597354773,
          0.3352305088717586,
          0.3384883671668364,
          0.3415765789944964,
          0.34448652050260853,
          0.34720971828500113,
          0.3497378704148379,
          0.3520628702253005,
          0.35417683316256604,
          0.3560721269584698,
          0.35774140527730314,
          0.3591776448849314,
          0.36037418627144563,
          0.36132477753400144,
          0.36202362119788684,
          0.3624654235250771,
          0.36264544573467905,
          0.3625595564428513,
          0.3622042845250963,
          0.361576871515134,
          0.3606753225853168,
          0.35949845510672945,
          0.3580459437650857,
          0.35631836121286464,
          0.35431721326964544,
          0.35204496774121613,
          0.3495050760127733,
          0.3467019866806314,
          0.3436411506175832,
          0.340329017016071,
          0.3367730201165774,
          0.3329815565015712,
          0.32896395301306286,
          0.32473042552927,
          0.3202920290079645,
          0.31566059936586477,
          0.31084868791038,
          0.305869489168093,
          0.3007367630600993,
          0.29546475245515463,
          0.2900680971856831,
          0.28456174563820585,
          0.27896086502875794,
          0.27328075144633507,
          0.2675367406952138,
          0.26174412089280324,
          0.25591804768680054,
          0.2500734628477749,
          0.2442250168751424,
          0.2383869961303032,
          0.2325732548851013,
          0.22679715255110333,
          0.22107149623967143,
          0.21540848869810816,
          0.20981968157639289,
          0.20431593390469538,
          0.1989073756055968,
          0.19360337582764311,
          0.18841251586857596,
          0.18334256645651079,
          0.1784004691739898,
          0.17359232184095422,
          0.16892336771548794,
          0.16439798842242634,
          0.16001970057599488,
          0.15579115611985864,
          0.15171414646253634,
          0.14778961053450732,
          0.14401764693222,
          0.1403975303407151,
          0.13692773243845124,
          0.13360594748342725,
          0.13042912275795135,
          0.1273934940101354,
          0.12449462597399615,
          0.12172745797814861,
          0.11908635456750484,
          0.11656516096566923,
          0.11415726310097936,
          0.11185565180984752,
          0.10965299072096915,
          0.10754168721696875,
          0.10551396576999984,
          0.1035619428584159,
          0.10167770259629556,
          0.09985337214930756,
          0.0980811959716471,
          0.09635360788138445,
          0.09466329999675982,
          0.09300328758419123,
          0.09136696891979153,
          0.08974817933905987,
          0.0881412387424675,
          0.086540991935651,
          0.08494284130905297,
          0.083342771499869,
          0.08173736582549009,
          0.08012381442848394,
          0.07849991422462771,
          0.07686406089373624,
          0.0752152332942989,
          0.07355297081375978,
          0.07187734428356718,
          0.07018892118915873,
          0.0684887259877122,
          0.06677819640912819,
          0.06505913665731092,
          0.06333366844895069,
          0.06160418082583874,
          0.05987327965499962,
          0.05814373768987147,
          0.05641844600710569,
          0.05470036755944876,
          0.05299249349803643,
          0.0512978028199947,
          0.049619225792339974,
          0.0479596114937328,
          0.04632169970457715,
          0.04470809726608459,
          0.04312125892288903,
          0.041563472564032714,
          0.040036848685772536,
          0.03854331381849575,
          0.0370846075905362,
          0.035662283044913236,
          0.03427770978167035,
          0.032932079468867316,
          0.0316264132493167,
          0.03036157056743913,
          0.029138258950412617,
          0.027957044299106937,
          0.026818361275874256,
          0.025722523416684427,
          0.024669732642766184,
          0.02366008790017386,
          0.022693592712826744,
          0.02177016149385014,
          0.020889624519801985,
          0.020051731531016276,
          0.019256153977351934,
          0.018502485980779543,
          0.01779024413331674,
          0.01711886628986035,
          0.016487709549708997,
          0.015896047647456685,
          0.015343067993131272,
          0.014827868612811447,
          0.014349455244541325,
          0.013906738840426747,
          0.01349853371475454,
          0.01312355656039496,
          0.012780426532327721,
          0.012467666568672743,
          0.012183706086995465,
          0.011926885157832736,
          0.011695460219321902,
          0.011487611357495537,
          0.011301451137192454,
          0.011135034929567066,
          0.010986372644729533,
          0.01085344174292871,
          0.010734201365622099,
          0.010626607399390198,
          0.010528628261472156,
          0.010438261176141663,
          0.010353548696507833,
          0.010272595216807482,
          0.010193583215929107,
          0.010114788973747934,
          0.01003459750772436,
          0.009951516487901005,
          0.00986418890361677,
          0.009771404274554996,
          0.009672108221707445,
          0.009565410239964163,
          0.009450589542786488,
          0.009327098880213264,
          0.009194566263696146,
          0.009052794564359144,
          0.008901758984637033,
          0.008741602436283987,
          0.008572628889903414,
          0.008395294791906299,
          0.008210198673675902,
          0.008018069104262723,
          0.007819751161771282,
          0.007616191619400069,
          0.007408423059588946,
          0.007197547143707262,
          0.006984717275034814,
          0.006771120899361999,
          0.006557961690344289,
          0.006346441865818596,
          0.006137744876719192,
          0.005933018702154136,
          0.005733359972805713,
          0.0055397991303286365,
          0.005353286813097678,
          0.005174681638799545,
          0.005004739532289448,
          0.00484410472318515,
          0.004693302512208011,
          0.004552733878672636,
          0.004422671974154933,
          0.004303260519617168,
          0.004194514095524209,
          0.004096320287132965,
          0.004008443620557035,
          0.003930531199771696,
          0.003862119930791922,
          0.003802645197172359,
          0.0037514508310687138,
          0.003707800206666444,
          0.003670888268098652,
          0.003639854292279245,
          0.003613795178571092,
          0.0035917790520471993,
          0.0035728589653930788,
          0.003556086486291425,
          0.0035405249624196012,
          0.0035252622649067935,
          0.0035094228231076626,
          0.0034921787786543566,
          0.0034727601046862988,
          0.0034504635566029334,
          0.003424660343257791,
          0.003394802431780978,
          0.0033604274247087,
          0.003321161974306012,
          0.0032767237253673626,
          0.0032269218038336023,
          0.0031716558937448795,
          0.003110913968846069,
          0.0030447687670967522,
          0.0029733731159783533,
          0.002896954233460711,
          0.002815807143479915,
          0.0027302873555548057,
          0.0026408029655783853,
          0.0025478063387944024,
          0.0024517855365270673,
          0.002353255645473533,
          0.00225275016247717,
          0.002150812578927802,
          0.002047988297601284,
          0.0019448170012266583,
          0.0018418255767666462,
          0.0017395216827574879,
          0.0016383880295319354,
          0.0015388774242010028,
          0.0014414086143410365,
          0.0013463629468419918,
          0.0012540818417075997,
          0.0011648650650994837,
          0.0010789697718755205,
          0.000996610275522236,
          0.0009179584928951958,
          0.0008431450026730183,
          0.0007722606499522901,
          0.0007053586249569832,
          0.0006424569413482933,
          0.0005835412389922425,
          0.000528567837125495,
          0.0004774669664728284,
          0.00043014611280503946,
          0.0003864934094584823,
          0.0003463810222317253,
          0.0003096684765926071,
          0.00027620588403721324,
          0.0002458370315178583,
          0.00021840230489256562,
          0.00019374142415679897,
          0.0001716959746353789,
          0.0001521117242001131,
          0.00013484072182558805,
          0.00011974317731778512,
          0.00010668912579130224,
          9.555988340044223e-05,
          8.624930294212815e-05,
          7.86648392620181e-05,
          7.272843494790517e-05,
          6.837723664355629e-05,
          6.556415153485168e-05,
          6.425825223510888e-05,
          6.444503652594313e-05,
          6.612654630057861e-05,
          6.932134772136587e-05,
          7.40643721596089e-05,
          8.04066150528168e-05,
          8.841468751091256e-05,
          9.81702134450325e-05,
          0.00010976906329169777,
          0.00012332041416569,
          0.00013894562559180467,
          0.00015677691992182108,
          0.00017695585720719535,
          0.00019963159572233328,
          0.000224958931550536,
          0.0002530961136666443,
          0.00028420243476492296,
          0.0003184356026513733,
          0.00035594890228289014,
          0.0003968881644016657,
          0.00044138856306499076,
          0.0004895712710648563,
          0.0005415400091011881,
          0.0005973775314279442,
          0.0006571420973254311,
          0.000720863983944346,
          0.00078854210158874,
          0.0008601407771264543,
          0.0009355867747122722,
          0.0010147666251699742,
          0.0010975243360154638,
          0.001183659553053009,
          0.001272926241616976,
          0.0013650319507826786,
          0.0014596377172015648,
          0.0015563586566536215,
          0.0016547652810366532,
          0.0017543855664715077,
          0.0018547077846966182,
          0.001955184095215326,
          0.0020552348800571686,
          0.002154253786877992,
          0.0022516134298489116,
          0.002346671681792473,
          0.0024387784757521637,
          0.002527283020065282,
          0.0026115413184749853,
          0.0026909238762618257,
          0.002764823465154732,
          0.0028326628142012157,
          0.0028939020910720625,
          0.0029480460386113413,
          0.0029946506348965665,
          0.0030333291516398244,
          0.003063757495339965,
          0.003085678728003079,
          0.003098906679212785
         ],
         "yaxis": "y"
        },
        {
         "legendgroup": "Lasso",
         "marker": {
          "color": "rgb(255, 127, 14)"
         },
         "mode": "lines",
         "name": "Lasso",
         "showlegend": false,
         "type": "scatter",
         "x": [
          -4.424263598198707,
          -4.404237122887267,
          -4.384210647575827,
          -4.364184172264387,
          -4.344157696952946,
          -4.324131221641506,
          -4.304104746330066,
          -4.284078271018626,
          -4.264051795707186,
          -4.244025320395745,
          -4.223998845084306,
          -4.203972369772865,
          -4.1839458944614245,
          -4.163919419149985,
          -4.143892943838544,
          -4.123866468527105,
          -4.103839993215664,
          -4.083813517904224,
          -4.063787042592784,
          -4.0437605672813435,
          -4.023734091969903,
          -4.003707616658463,
          -3.983681141347023,
          -3.9636546660355827,
          -3.9436281907241426,
          -3.9236017154127025,
          -3.903575240101262,
          -3.883548764789822,
          -3.863522289478382,
          -3.8434958141669417,
          -3.823469338855501,
          -3.803442863544061,
          -3.783416388232621,
          -3.7633899129211805,
          -3.7433634376097404,
          -3.7233369622983004,
          -3.7033104869868603,
          -3.68328401167542,
          -3.6632575363639797,
          -3.6432310610525396,
          -3.6232045857410995,
          -3.603178110429659,
          -3.583151635118219,
          -3.563125159806779,
          -3.5430986844953387,
          -3.5230722091838986,
          -3.503045733872458,
          -3.483019258561018,
          -3.462992783249578,
          -3.4429663079381374,
          -3.4229398326266978,
          -3.4029133573152572,
          -3.3828868820038167,
          -3.3628604066923766,
          -3.3428339313809365,
          -3.3228074560694965,
          -3.3027809807580564,
          -3.282754505446616,
          -3.262728030135176,
          -3.2427015548237357,
          -3.222675079512295,
          -3.2026486042008555,
          -3.182622128889415,
          -3.162595653577975,
          -3.142569178266535,
          -3.1225427029550943,
          -3.102516227643654,
          -3.082489752332214,
          -3.0624632770207736,
          -3.0424368017093335,
          -3.0224103263978934,
          -3.002383851086453,
          -2.9823573757750133,
          -2.9623309004635727,
          -2.9423044251521326,
          -2.9222779498406926,
          -2.9022514745292525,
          -2.8822249992178124,
          -2.862198523906372,
          -2.8421720485949318,
          -2.8221455732834917,
          -2.802119097972051,
          -2.782092622660611,
          -2.762066147349171,
          -2.7420396720377305,
          -2.7220131967262904,
          -2.7019867214148503,
          -2.6819602461034098,
          -2.66193377079197,
          -2.6419072954805296,
          -2.6218808201690895,
          -2.6018543448576494,
          -2.581827869546209,
          -2.561801394234769,
          -2.5417749189233287,
          -2.521748443611888,
          -2.501721968300448,
          -2.481695492989008,
          -2.461669017677568,
          -2.441642542366128,
          -2.421616067054688,
          -2.4015895917432473,
          -2.381563116431807,
          -2.3615366411203667,
          -2.3415101658089266,
          -2.3214836904974865,
          -2.301457215186046,
          -2.2814307398746063,
          -2.2614042645631662,
          -2.241377789251726,
          -2.2213513139402856,
          -2.2013248386288455,
          -2.1812983633174055,
          -2.161271888005965,
          -2.141245412694525,
          -2.1212189373830848,
          -2.1011924620716447,
          -2.081165986760204,
          -2.061139511448764,
          -2.041113036137324,
          -2.0210865608258834,
          -2.0010600855144434,
          -1.9810336102030033,
          -1.9610071348915632,
          -1.9409806595801227,
          -1.9209541842686826,
          -1.9009277089572425,
          -1.8809012336458024,
          -1.860874758334362,
          -1.8408482830229218,
          -1.8208218077114817,
          -1.8007953324000412,
          -1.780768857088601,
          -1.760742381777161,
          -1.740715906465721,
          -1.7206894311542804,
          -1.7006629558428403,
          -1.6806364805314002,
          -1.6606100052199597,
          -1.6405835299085196,
          -1.6205570545970795,
          -1.6005305792856395,
          -1.580504103974199,
          -1.5604776286627589,
          -1.5404511533513188,
          -1.5204246780398782,
          -1.5003982027284382,
          -1.480371727416998,
          -1.460345252105558,
          -1.4403187767941175,
          -1.4202923014826778,
          -1.4002658261712377,
          -1.3802393508597977,
          -1.3602128755483571,
          -1.340186400236917,
          -1.320159924925477,
          -1.3001334496140364,
          -1.2801069743025963,
          -1.2600804989911563,
          -1.2400540236797162,
          -1.2200275483682756,
          -1.2000010730568356,
          -1.1799745977453955,
          -1.159948122433955,
          -1.1399216471225149,
          -1.1198951718110748,
          -1.0998686964996347,
          -1.0798422211881942,
          -1.059815745876754,
          -1.039789270565314,
          -1.0197627952538735,
          -0.9997363199424334,
          -0.9797098446309933,
          -0.9596833693195532,
          -0.9396568940081127,
          -0.9196304186966726,
          -0.8996039433852325,
          -0.8795774680737924,
          -0.8595509927623519,
          -0.8395245174509118,
          -0.8194980421394717,
          -0.7994715668280312,
          -0.7794450915165911,
          -0.759418616205151,
          -0.739392140893711,
          -0.7193656655822704,
          -0.6993391902708304,
          -0.6793127149593903,
          -0.6592862396479497,
          -0.6392597643365097,
          -0.6192332890250696,
          -0.5992068137136295,
          -0.579180338402189,
          -0.5591538630907493,
          -0.5391273877793092,
          -0.5191009124678692,
          -0.49907443715642863,
          -0.47904796184498855,
          -0.45902148653354846,
          -0.43899501122210793,
          -0.4189685359106683,
          -0.39894206059922777,
          -0.37891558528778724,
          -0.3588891099763476,
          -0.33886263466490707,
          -0.31883615935346654,
          -0.298809684042026,
          -0.2787832087305864,
          -0.25875673341914585,
          -0.2387302581077062,
          -0.21870378279626568,
          -0.19867730748482604,
          -0.17865083217338462,
          -0.15862435686194498,
          -0.13859788155050534,
          -0.11857140623906481,
          -0.09854493092762517,
          -0.07851845561618465,
          -0.058491980304745006,
          -0.03846550499330359,
          -0.01843902968186395,
          0.0015874456295765782,
          0.021613920941016218,
          0.041640396252456746,
          0.061666871563896386,
          0.08169334687533691,
          0.10171982218677744,
          0.12174629749821797,
          0.1417727728096576,
          0.16179924812109814,
          0.18182572343253778,
          0.2018521987439783,
          0.22187867405541795,
          0.24190514936685936,
          0.261931624678299,
          0.28195809998973953,
          0.30198457530117917,
          0.3220110506126197,
          0.34203752592405934,
          0.36206400123549987,
          0.3820904765469404,
          0.4021169518583809,
          0.42214342716982056,
          0.4421699024812611,
          0.46219637779270073,
          0.48222285310414126,
          0.5022493284155809,
          0.5222758037270223,
          0.542302279038462,
          0.5623287543499025,
          0.5823552296613421,
          0.6023817049727827,
          0.6224081802842223,
          0.6424346555956628,
          0.6624611309071025,
          0.6824876062185439,
          0.7025140815299835,
          0.7225405568414232,
          0.7425670321528637,
          0.7625935074643033,
          0.7826199827757438,
          0.8026464580871835,
          0.8226729333986249,
          0.8426994087100645,
          0.8627258840215051,
          0.8827523593329447,
          0.9027788346443852,
          0.9228053099558249,
          0.9428317852672654,
          0.9628582605787059,
          0.9828847358901465,
          1.002911211201586,
          1.0229376865130266,
          1.0429641618244663,
          1.0629906371359068,
          1.0830171124473464,
          1.1030435877587879,
          1.1230700630702275,
          1.143096538381668,
          1.1631230136931077,
          1.1831494890045482,
          1.2031759643159878,
          1.2232024396274284,
          1.243228914938869,
          1.2632553902503094,
          1.283281865561749,
          1.3033083408731896,
          1.3233348161846292,
          1.3433612914960698,
          1.3633877668075094,
          1.3834142421189508,
          1.4034407174303904,
          1.423467192741831,
          1.4434936680532706,
          1.4635201433647111,
          1.4835466186761508,
          1.5035730939875913,
          1.523599569299031,
          1.5436260446104724,
          1.563652519921912,
          1.5836789952333516,
          1.6037054705447922,
          1.6237319458562318,
          1.6437584211676723,
          1.663784896479112,
          1.6838113717905534,
          1.703837847101993,
          1.7238643224134336,
          1.7438907977248732,
          1.7639172730363137,
          1.7839437483477534,
          1.803970223659194,
          1.8239966989706344,
          1.844023174282075,
          1.8640496495935146,
          1.8840761249049551,
          1.9041026002163948,
          1.9241290755278353,
          1.944155550839275,
          1.9641820261507164,
          1.984208501462156,
          2.0042349767735965,
          2.024261452085036,
          2.0442879273964767,
          2.0643144027079163,
          2.084340878019357,
          2.1043673533307974,
          2.124393828642238,
          2.1444203039536776,
          2.164446779265118,
          2.1844732545765577,
          2.2044997298879982,
          2.224526205199438,
          2.2445526805108793,
          2.264579155822319,
          2.2846056311337595,
          2.304632106445199,
          2.3246585817566396,
          2.3446850570680793,
          2.36471153237952,
          2.3847380076909603,
          2.404764483002401,
          2.4247909583138405,
          2.44481743362528,
          2.4648439089367207,
          2.4848703842481603,
          2.504896859559601,
          2.5249233348710405,
          2.544949810182482,
          2.5649762854939215,
          2.585002760805362,
          2.6050292361168017,
          2.6250557114282422,
          2.645082186739682,
          2.6651086620511224,
          2.685135137362563,
          2.7051616126740035,
          2.725188087985443,
          2.7452145632968836,
          2.7652410386083233,
          2.785267513919764,
          2.8052939892312034,
          2.825320464542645,
          2.8453469398540845,
          2.865373415165525,
          2.8853998904769647,
          2.905426365788405,
          2.925452841099845,
          2.9454793164112854,
          2.965505791722726,
          2.9855322670341664,
          3.005558742345606,
          3.0255852176570466,
          3.045611692968486,
          3.0656381682799267,
          3.0856646435913664,
          3.105691118902808,
          3.1257175942142474,
          3.145744069525688,
          3.1657705448371276,
          3.185797020148568,
          3.2058234954600078,
          3.2258499707714483,
          3.245876446082889,
          3.2659029213943294,
          3.285929396705769,
          3.3059558720172086,
          3.325982347328649,
          3.346008822640089,
          3.3660352979515293,
          3.386061773262969,
          3.4060882485744104,
          3.42611472388585,
          3.4461411991972906,
          3.46616767450873,
          3.4861941498201707,
          3.5062206251316104,
          3.526247100443051,
          3.5462735757544914,
          3.566300051065932,
          3.5863265263773707,
          3.606353001688812,
          3.6263794770002518,
          3.646405952311693,
          3.666432427623133,
          3.6864589029345725,
          3.706485378246012,
          3.7265118535574535,
          3.746538328868893,
          3.7665648041803346,
          3.786591279491774,
          3.806617754803214,
          3.8266442301146553,
          3.846670705426093,
          3.8666971807375345,
          3.886723656048974,
          3.9067501313604156,
          3.9267766066718552,
          3.946803081983295,
          3.9668295572947363,
          3.986856032606176,
          4.006882507917616,
          4.026908983229055,
          4.046935458540497,
          4.066961933851938,
          4.086988409163376,
          4.107014884474817,
          4.127041359786257,
          4.147067835097697,
          4.167094310409136,
          4.187120785720578,
          4.207147261032019,
          4.227173736343457,
          4.247200211654898,
          4.267226686966338,
          4.287253162277779,
          4.307279637589217,
          4.327306112900659,
          4.3473325882121,
          4.36735906352354,
          4.387385538834979,
          4.407412014146419,
          4.4274384894578604,
          4.4474649647693,
          4.46749144008074,
          4.487517915392181,
          4.507544390703621,
          4.527570866015062,
          4.5475973413265,
          4.5676238166379415,
          4.587650291949381,
          4.6076767672608225,
          4.627703242572262,
          4.647729717883702,
          4.667756193195143,
          4.687782668506583,
          4.7078091438180225,
          4.727835619129462,
          4.747862094440904,
          4.767888569752345,
          4.787915045063783,
          4.807941520375224,
          4.827967995686664,
          4.847994470998105,
          4.868020946309543,
          4.888047421620985,
          4.908073896932426,
          4.928100372243866,
          4.948126847555305,
          4.968153322866745,
          4.988179798178186,
          5.008206273489624,
          5.028232748801066,
          5.048259224112507,
          5.068285699423947,
          5.088312174735386,
          5.108338650046826,
          5.128365125358267,
          5.148391600669707,
          5.168418075981147,
          5.188444551292588,
          5.208471026604028,
          5.228497501915469,
          5.248523977226907,
          5.268550452538348,
          5.288576927849788,
          5.3086034031612295,
          5.328629878472669,
          5.348656353784109,
          5.36868282909555,
          5.38870930440699,
          5.4087357797184294,
          5.428762255029869,
          5.4487887303413105,
          5.468815205652752,
          5.48884168096419,
          5.508868156275631,
          5.528894631587071,
          5.548921106898512,
          5.56894758220995
         ],
         "xaxis": "x",
         "y": [
          0.008231159467868681,
          0.008170648324910332,
          0.007991770915025658,
          0.0077023019415914835,
          0.007314574341882738,
          0.00684460802579819,
          0.006311013533057744,
          0.005733774991146148,
          0.005133022713081559,
          0.00452789900378609,
          0.0039356029893731015,
          0.0033706746719643467,
          0.0028445488662282373,
          0.0023653802450995993,
          0.001938114975348073,
          0.0015647649675472595,
          0.0012448289990796423,
          0.000975801058211562,
          0.0007537093066617641,
          0.0005736374233151167,
          0.0004301917526689475,
          0.0003178906023459837,
          0.0002314644528408431,
          0.00016606645825431536,
          0.00011740066272980213,
          8.178057860886364e-05,
          5.6133331032818595e-05,
          3.796491708240646e-05,
          2.5300849429434822e-05,
          1.6614173970756255e-05,
          1.0750122440602278e-05,
          6.8539206647902836e-06,
          4.305818711933607e-06,
          2.665406262209011e-06,
          1.6257811806413038e-06,
          9.771287139296125e-07,
          5.786719943928326e-07,
          3.3767908229911364e-07,
          1.9416317205252417e-07,
          1.1000706134552177e-07,
          6.141370147774433e-08,
          3.3783215940037454e-08,
          1.8311659748882696e-08,
          9.780148211360687e-09,
          5.146999994627796e-09,
          2.6690327615529283e-09,
          1.3637810352517141e-09,
          6.866357232408141e-10,
          3.406427484364641e-10,
          1.6651866146834814e-10,
          8.020800291764734e-11,
          3.8068313343603465e-11,
          1.7803334499707445e-11,
          8.204168290369655e-12,
          3.725500518647622e-12,
          1.6675337536487939e-12,
          7.369065385696917e-13,
          3.245127277441356e-13,
          1.4975396858387272e-13,
          8.953041896212168e-14,
          1.0035392135933714e-13,
          1.9009627620974497e-13,
          4.231416105499798e-13,
          9.619267545536665e-13,
          2.168559822567911e-12,
          4.822555457333881e-12,
          1.0569595789685251e-11,
          2.2826807082207402e-11,
          4.857641981525509e-11,
          1.0185850183018905e-10,
          2.1045543548674176e-10,
          4.2846369444187245e-10,
          8.59525799814146e-10,
          1.6990056058621493e-09,
          3.309190065719393e-09,
          6.350963507457364e-09,
          1.2010152668498728e-08,
          2.237940027428062e-08,
          4.1090305051818346e-08,
          7.433978353081052e-08,
          1.325239049014217e-07,
          2.3278669878408982e-07,
          4.0291469222942313e-07,
          6.871618688513619e-07,
          1.1547713633211495e-06,
          1.9121588333894807e-06,
          3.119916191997433e-06,
          5.01594651904663e-06,
          7.946097176075205e-06,
          1.240354572059592e-05,
          1.9077823962124225e-05,
          2.8913643879479986e-05,
          4.317852708767606e-05,
          6.353657861088766e-05,
          9.212358521949427e-05,
          0.00013161604706537708,
          0.00018528397542694406,
          0.00025701465219421326,
          0.0003512925265395159,
          0.0004731196041062394,
          0.0006278616864718771,
          0.0008210092043558006,
          0.0010578475270764508,
          0.001343040562981314,
          0.0016801427773684987,
          0.0020710675038942226,
          0.002515552148208981,
          0.0030106717019411995,
          0.003550458834248108,
          0.004125689767524111,
          0.004723888733130872,
          0.005329589462423143,
          0.005924870453633861,
          0.0064901534723757984,
          0.007005224850748267,
          0.007450410430422764,
          0.007807811531316344,
          0.008062494855446856,
          0.008203526489736901,
          0.008224750348681814,
          0.008125233853275756,
          0.007909335893636469,
          0.007586390175100818,
          0.007170035996267196,
          0.006677263305991512,
          0.006127265141849535,
          0.005540205200122399,
          0.004936010021399028,
          0.004333284668274205,
          0.003748430069574896,
          0.003195012865373071,
          0.002683408646596842,
          0.0022207108983888367,
          0.0018108740230190832,
          0.0014550417686129045,
          0.0011520032148247834,
          0.0008987169592810883,
          0.0006908491318453903,
          0.0005232805296821487,
          0.00039055045262247106,
          0.0002872177518187186,
          0.00020813155861192518,
          0.00014861400531931802,
          0.0001045643930192559,
          7.24985985867969e-05,
          4.9539316902288124e-05,
          3.337251736346058e-05,
          2.218387482141039e-05,
          1.4586524827617764e-05,
          9.548816604952724e-06,
          6.328190291072277e-06,
          4.415142273501466e-06,
          3.4895872824057045e-06,
          3.3907938610811113e-06,
          4.101396258598706e-06,
          5.745652225762376e-06,
          8.601972242635708e-06,
          1.3129626043434196e-05,
          2.0009270541290092e-05,
          3.0196385414366292e-05,
          4.498572319387801e-05,
          6.608340331274157e-05,
          9.568130233722646e-05,
          0.00013652601573138924,
          0.00019197211683100255,
          0.0002660070830892003,
          0.00036323359780902095,
          0.0004887945633179478,
          0.0006482276987153655,
          0.0008472405788835309,
          0.00109140372304223,
          0.0013857688288836584,
          0.0017344309718682611,
          0.002140066522696634,
          0.0026034911627213692,
          0.00312329284121503,
          0.003695600898472259,
          0.0043140532644107875,
          0.00497001776599434,
          0.005653111425525845,
          0.006352044949927747,
          0.00705580170078175,
          0.007755145979726592,
          0.008444450030852532,
          0.009123838382549963,
          0.009801676629453446,
          0.010497481792107499,
          0.011245401659344746,
          0.01209849483209626,
          0.013134129565760247,
          0.014460889721355884,
          0.01622740599316438,
          0.018633491239180757,
          0.021943819335032522,
          0.026504118828122144,
          0.0327594352191454,
          0.041273443914589196,
          0.05274708858697891,
          0.0680340274053505,
          0.08814958026620809,
          0.1142692099404351,
          0.1477121970950346,
          0.18990625804183045,
          0.24232957041055453,
          0.30642813836733396,
          0.38350868662420695,
          0.4746102445463787,
          0.5803610479544746,
          0.7008309775730359,
          0.8353929735015378,
          0.982609145152043,
          1.1401580750860847,
          1.3048186422937793,
          1.4725223286506186,
          1.63848048387814,
          1.7973858170075998,
          1.943679198720944,
          2.071864702058061,
          2.1768488087452975,
          2.2542749473634425,
          2.300822857505494,
          2.3144441464987167,
          2.2945107794981072,
          2.2418615567585785,
          2.1587418689332525,
          2.048642866218668,
          1.9160562184457646,
          1.7661685971564975,
          1.6045249212359824,
          1.436690785433788,
          1.2679423685198197,
          1.1030070137100076,
          0.9458704795091208,
          0.7996586709496531,
          0.6665935964040755,
          0.5480163219896821,
          0.4444645084737501,
          0.35578907027555673,
          0.2812936082995747,
          0.21988126610069378,
          0.17019607205471554,
          0.13074909422773195,
          0.100023289463662,
          0.076554296467407,
          0.05898725851679423,
          0.04611186857032519,
          0.03687915242656119,
          0.03040410192662576,
          0.025958273579599365,
          0.02295604936696916,
          0.02093759063474722,
          0.019550756934326213,
          0.018533528149465964,
          0.017697838432533353,
          0.016915244050636845,
          0.016104512164358008,
          0.015221019110101174,
          0.014247756880286695,
          0.01318773203440581,
          0.012057570291441652,
          0.01088218600425567,
          0.009690419555919438,
          0.00851157630205403,
          0.0073728139020673095,
          0.006297322019036393,
          0.005303224127771037,
          0.004403111748573739,
          0.00360410288556655,
          0.0029083035796823413,
          0.0023135471738890906,
          0.0018142909881344663,
          0.0014025636992059897,
          0.001068876639561149,
          0.0008030356420178189,
          0.0005948140709725628,
          0.0004344698007687435,
          0.000313107324525376,
          0.00022289990334952147,
          0.00015719546037079948,
          0.0001105341616017719,
          7.860608396020316e-05,
          5.817501382576383e-05,
          4.6990211239310057e-05,
          4.370274674522805e-05,
          4.779739861810028e-05,
          5.954550270134089e-05,
          7.997881299316134e-05,
          0.00011087948670252842,
          0.00015477685240318848,
          0.00021493780095325785,
          0.0002953347045120381,
          0.0004005730892828341,
          0.0005357613302775995,
          0.000706306896624553,
          0.0009176285647565118,
          0.0011747817226914197,
          0.001482004236275947,
          0.0018422026862310891,
          0.002256411936061627,
          0.0027232732967129754,
          0.003238586029309796,
          0.0037949915254481313,
          0.004381847462552417,
          0.004985339446534125,
          0.005588860015265814,
          0.006173660481238805,
          0.0067197522721049755,
          0.0072070045530701786,
          0.00761635797326414,
          0.007931054386475024,
          0.008137772736517392,
          0.008227564096096743,
          0.008196494530075246,
          0.00804593156479471,
          0.007782445395129811,
          0.007417335080765811,
          0.006965827812283028,
          0.006446031012652601,
          0.005877738693869792,
          0.005281202771535804,
          0.004675976457688518,
          0.004079921728825923,
          0.0035084490161929566,
          0.0029740284389241415,
          0.0024859821218032167,
          0.002050540066107453,
          0.0016711204578181216,
          0.0013487808117779527,
          0.0010827793346720855,
          0.0008711856309465764,
          0.0007114848902450703,
          0.000601128124805524,
          0.0005379910357784196,
          0.0005207141940449846,
          0.000548906497226508,
          0.0006232020072489127,
          0.0007451675298024005,
          0.0009170652805245993,
          0.0011414824116689197,
          0.0014208475948470905,
          0.001756864401135545,
          0.0021499014415842428,
          0.0025983890609678284,
          0.0030982802275345785,
          0.003642637262674518,
          0.00422140440551148,
          0.004821417577326209,
          0.005426686620784321,
          0.006018962392105066,
          0.00657857326689253,
          0.007085485878253044,
          0.007520516987262699,
          0.007866601241791343,
          0.008110006708904355,
          0.008241388874763106,
          0.008256585111143307,
          0.008157074395389688,
          0.007950058575009715,
          0.0076481575753489005,
          0.0072687468613592396,
          0.006832996504878267,
          0.006364693608613672,
          0.005888941357140348,
          0.00543082821966778,
          0.005014151263740403,
          0.004660261053711198,
          0.004387075920197065,
          0.004208294260204722,
          0.004132818025859735,
          0.004164390476339554,
          0.004301446843339096,
          0.0045371765385547195,
          0.004859797534811881,
          0.0052530446964494356,
          0.005696871449631272,
          0.006168356489798754,
          0.0066427938196560645,
          0.007094926466625815,
          0.007500264338976268,
          0.00783640840318803,
          0.008084290532834408,
          0.008229234315138195,
          0.00826174891040915,
          0.008177986132196403,
          0.007979818753005139,
          0.007674532438053768,
          0.007274160270759925,
          0.00679452270527896,
          0.006254062472035844,
          0.005672580082222607,
          0.005069979363331774,
          0.004465123991763349,
          0.0038748870862200277,
          0.0033134497373174237,
          0.002791874766261871,
          0.0023179529989431503,
          0.001896294353769916,
          0.0015286175369675823,
          0.0012141813722687995,
          0.0009502978010692395,
          0.0007328703846534881,
          0.0005569110241198774,
          0.0004169995530297686,
          0.00030766383831282114,
          0.00022367033075833568,
          0.00016022539432023194,
          0.00011309550616478507,
          7.865935307888986e-05,
          5.3907154548508916e-05,
          3.64026885082769e-05,
          2.422208483303023e-05,
          1.5881100379730694e-05,
          1.025984189540607e-05,
          6.531181496942686e-06,
          4.096696995047452e-06,
          2.5320188816224166e-06,
          1.5420236777557667e-06,
          9.253502579661561e-07,
          5.471573832675526e-07,
          3.187934450040203e-07,
          1.8301956016011405e-07,
          1.0353248475141944e-07,
          5.770942833324886e-08,
          3.1696252121998905e-08,
          1.715378879529074e-08,
          9.147516672692363e-09,
          4.806593183512121e-09,
          2.4886425831343008e-09,
          1.2696344421177884e-09,
          6.382427174497889e-10,
          3.161433476385935e-10,
          1.5430259909020067e-10,
          7.420847218480574e-11,
          3.516616663983148e-11,
          1.6420606867356016e-11,
          7.555334408647061e-12,
          3.4258028711647975e-12,
          1.5316719734940185e-12,
          6.774695641876096e-13,
          3.0192785133460167e-13,
          1.4879306348893374e-13,
          1.1019823458268105e-13,
          1.5844083417603563e-13,
          3.2810944300271303e-13,
          7.383735290402491e-13,
          1.6681231812548898e-12,
          3.725733820984306e-12,
          8.204259260009216e-12,
          1.7803369443158968e-11,
          3.8068326566607844e-11,
          8.020800784702742e-11,
          1.66518663278678e-10,
          3.4064274909144004e-10,
          6.866357234742784e-10,
          1.3637810353337702e-09,
          2.669032761581338e-09,
          5.146999994637561e-09,
          9.780148211363756e-09,
          1.831165974888442e-08,
          3.378321594004081e-08,
          6.141370147774336e-08,
          1.1000706134552554e-07,
          1.9416317205252764e-07,
          3.3767908229912984e-07,
          5.786719943928234e-07,
          9.771287139296263e-07,
          1.6257811806413988e-06,
          2.6654062622091244e-06,
          4.305818711933668e-06,
          6.853920664790375e-06,
          1.0750122440602554e-05,
          1.661417397075584e-05,
          2.5300849429435117e-05,
          3.7964917082407333e-05,
          5.613333103281984e-05,
          8.178057860886364e-05,
          0.00011740066272980213,
          0.00016606645825431867,
          0.00023146445284084522,
          0.0003178906023459837,
          0.00043019175266895853,
          0.0005736374233151215,
          0.0007537093066617814,
          0.0009758010582115546,
          0.001244828999079651,
          0.0015647649675472493,
          0.0019381149753480965,
          0.0023653802450995993,
          0.002844548866228267,
          0.003370674671964411,
          0.003935602989373118,
          0.004527899003786107,
          0.00513302271308154,
          0.005733774991146165,
          0.00631101353305781,
          0.00684460802579819,
          0.0073145743418827755,
          0.007702301941591495,
          0.007991770915025679,
          0.008170648324910332
         ],
         "yaxis": "y"
        },
        {
         "legendgroup": "Ridge",
         "marker": {
          "color": "rgb(31, 119, 180)",
          "symbol": "line-ns-open"
         },
         "mode": "markers",
         "name": "Ridge",
         "showlegend": false,
         "type": "scatter",
         "x": [
          -3.9930691936846694,
          5.037703251892813,
          -0.8618254501213931,
          -3.5181435000961754,
          -0.42469385713891583,
          2.6812822014682887,
          -0.3053145831857478,
          0.22547086629869817,
          -0.10313995513711038,
          -0.12233091116158867,
          0.19802547403671392,
          -0.12096923597820107,
          -1.0307349960081436,
          0.1605461666368979,
          0.1885363955110899,
          -0.5453464132843986,
          2.56059289449918,
          0.5680348391888308,
          -0.08841057029678048,
          1.2472505317253866,
          -2.1602307653956037,
          -1.0677409849345676,
          -0.7364849429178,
          -0.281120989977839,
          -0.4882475060998972,
          -0.1425576133235728,
          0.1691084509361211,
          -2.052987586031357,
          -0.2281831351555582,
          1.6303535359653873,
          0.8247284958344278,
          0.6917671103465183,
          0.6339733263641741,
          2.786627284213738,
          1.6999498733488587,
          0.21763941698389824,
          -0.4585414989724519,
          -1.8837289958894132,
          1.783606012260569,
          -1.7389733928317335,
          -0.4024316624777796,
          0.6134325242990593,
          2.0043312211547573,
          0.9351900064124232,
          0.6522049111168535,
          -2.4074597277499756,
          -0.3926525240786689,
          -0.005285919488884197,
          1.3906261964441204,
          -1.16160374242712,
          0.8189254155612258,
          1.0215379890425953,
          -2.6372219327165727,
          0.9361208196448058,
          -0.04223649969148324,
          -1.9565464961934342,
          0.2498577922466092,
          -2.3150305151601955,
          1.6026187321075211,
          -2.3298528323422665,
          -0.018319414366761613,
          1.2373129436137693,
          -2.163054716183569,
          0.3874297846724736,
          0.4948673663634891,
          0.4341785024692597,
          0.3968312310257109,
          -1.1540100751198472,
          -1.0653725203822437,
          -0.4275049160296205,
          -1.365749449372174,
          -0.36847947620004673,
          -1.35600323938286,
          1.916141048296824,
          0.4341785024692597,
          0.5744090048161845,
          -0.7771061917845893,
          0.40558274892224677,
          0.2306420660933326,
          -1.897479084493812,
          0.4612136639600589,
          1.3590820283499767,
          -0.118061898311541,
          -0.06233611749630519,
          -0.07435451646738785,
          -2.8553645595291375,
          0.3873635587263152,
          1.0392987593972682,
          -0.16148829932389042,
          -0.4898593874157166,
          -0.9368997009385055,
          0.15097206177052397,
          2.1509718272367047,
          2.3815017884042047,
          0.729890873878335,
          0.46119985083691545,
          -0.5850812205330701,
          -0.5766478514318014,
          -0.08427367234493005,
          -0.7326296025057144,
          0.7799620757296865,
          0.10732084989938562,
          0.5339684840240013,
          0.33179740827516546,
          0.9623797379288848,
          -1.4091362541086316,
          -1.2291494337634024,
          0.1442591082392501,
          0.43317135964253384,
          0.5838555717903364,
          0.31585340498904046,
          -0.3478909774725082,
          0.6189045066992711,
          -1.072691405662399,
          -0.7417059249629268,
          -0.12408193154475135,
          -0.11060035283742695,
          -0.3926525240786689,
          -0.5487481018652094,
          1.9467143014387174,
          0.8742526670258153,
          -2.098105545298246,
          0.9757650198915989,
          -0.6980378887425671,
          -0.846464264519464,
          1.6856988605524479,
          -0.018319414366761613,
          -0.10760176154624457,
          7.6821753235669075,
          0.1679699020065611,
          0.4482517885923475,
          -0.19999585750766702,
          1.7942833919555699,
          1.2266152872656015,
          0.8071214607482391,
          1.1697608126388028,
          0.6339733263641741,
          0.41649375308344705,
          -0.3042877474622554,
          -1.6816675765689946,
          1.098930257180784,
          -0.620509299172582,
          1.1145049284259922,
          2.3325865177493226,
          0.21545201326464497,
          -0.6986593516111039,
          1.0936996724139432,
          0.9974315786161194,
          -1.4074303075202883,
          1.2359178567007136,
          0.4799698349156829,
          -1.4262491992915778,
          4.006720858317878,
          -0.32232830466410856,
          -1.4404328017367554,
          -0.19442500937050355,
          0.34179782382868096,
          -2.107840844595993,
          -0.4898593874157166,
          1.9572274502485154,
          2.11159715246153,
          -0.7683885279643999,
          2.012642208218887,
          0.5680348391888308,
          1.1921230794713495,
          1.878765026912748,
          -0.05006793217819561,
          -1.1465662192599964,
          0.30000372094503136,
          1.631937865542806,
          0.5095374822855381,
          -1.5520388924206585,
          0.2636482235894611,
          -1.207503102926233,
          -2.140077637836077,
          0.8045344667770497,
          -2.09818117051142,
          0.15322260147556,
          -1.8095174186696934,
          1.2933493524941315,
          0.3476080594534451,
          0.32637191508077334,
          1.8022382923921194,
          -0.7846170533599949,
          -0.04833304101050122,
          -1.033340534498502,
          0.2588721030978778,
          0.08418350533004881,
          0.11381657692544295,
          -0.2784010220920443,
          -2.9148789948519926,
          -0.7162228698664279,
          -1.0989167937251116,
          -0.33719753779721345,
          0.5744090048161845,
          -0.7661721021389547,
          0.9965650814252208,
          0.1605461666368979,
          0.28572421857439845,
          0.30634306349154566,
          0.3873635587263152,
          0.6415168134901809,
          0.6917671103465183,
          -0.560483578001505,
          0.6486327923858555,
          0.6145561347052568,
          0.8915657414661539,
          -0.6494825002618918,
          0.2853938064383801,
          -1.5958345515656636,
          -0.3546946012768417,
          -0.9939621593370855,
          0.005548225269836227,
          0.24830801554546528,
          3.8176466378032,
          -1.3797561092143633,
          0.3817767514389995,
          0.6194056372608912,
          1.0699011290623537,
          0.16328722908385954,
          -1.0166920313011372,
          0.8394235955604227,
          -0.10730650303028788,
          0.12140768004433317,
          -0.6919093726359064,
          0.5071910575635987,
          -0.044724345661153755,
          -0.3343042673219786,
          -1.6159508819680055,
          0.3441400520295499,
          0.6145561347052568,
          -0.018319414366761613,
          -0.7623030730024106,
          -3.3571882637023105,
          -2.6385357025435616,
          -3.6274114127566284,
          -0.5383119878973247,
          1.276605396008108,
          -1.5397432817499532,
          -1.4006379765014392,
          0.3082487478987428,
          -0.023103033617198974,
          0.27104136483307006,
          -0.4911880484915153,
          -0.14113324828182175,
          0.18932121571117372,
          -0.5967101997755163,
          -0.22992584158205473,
          -0.20156557368945927,
          -0.33986446208973825,
          -0.06048041883936533,
          -0.13313491595793417,
          -0.16936953546208183,
          -0.6564774170443104,
          1.5843929484363704,
          -0.3343042673219786,
          0.8915657414661539,
          0.06343382376951742,
          1.9826221771151675,
          2.3970167223708243,
          0.37362588932358837,
          0.6405990301821943,
          -0.4004375585173823,
          -0.8376852920111378,
          0.7497945288485108,
          -1.9895537622618402,
          0.47341989385753147,
          2.986686803496607,
          0.35179430152146873,
          1.2866775739018028,
          0.32698211095892477,
          0.287330451974944,
          -0.5196881893484887,
          2.099416771356479,
          2.099416771356479,
          -2.001270841854587,
          -0.9832916621767456,
          -0.37683229797848194,
          -1.0166920313011372,
          -0.8746832953430036,
          -0.2671839173785,
          -0.5967101997755163,
          -0.11060035283742695,
          -2.0222122025762386,
          -1.3282205088683665,
          -0.22915228605723126,
          -2.6730265939248383,
          3.5599727064032995,
          -1.66684941527111,
          -1.5409088940631233,
          0.8915657414661539,
          0.6486327923858555,
          -2.0060305527461213,
          1.783606012260569
         ],
         "xaxis": "x",
         "y": [
          "Ridge",
          "Ridge",
          "Ridge",
          "Ridge",
          "Ridge",
          "Ridge",
          "Ridge",
          "Ridge",
          "Ridge",
          "Ridge",
          "Ridge",
          "Ridge",
          "Ridge",
          "Ridge",
          "Ridge",
          "Ridge",
          "Ridge",
          "Ridge",
          "Ridge",
          "Ridge",
          "Ridge",
          "Ridge",
          "Ridge",
          "Ridge",
          "Ridge",
          "Ridge",
          "Ridge",
          "Ridge",
          "Ridge",
          "Ridge",
          "Ridge",
          "Ridge",
          "Ridge",
          "Ridge",
          "Ridge",
          "Ridge",
          "Ridge",
          "Ridge",
          "Ridge",
          "Ridge",
          "Ridge",
          "Ridge",
          "Ridge",
          "Ridge",
          "Ridge",
          "Ridge",
          "Ridge",
          "Ridge",
          "Ridge",
          "Ridge",
          "Ridge",
          "Ridge",
          "Ridge",
          "Ridge",
          "Ridge",
          "Ridge",
          "Ridge",
          "Ridge",
          "Ridge",
          "Ridge",
          "Ridge",
          "Ridge",
          "Ridge",
          "Ridge",
          "Ridge",
          "Ridge",
          "Ridge",
          "Ridge",
          "Ridge",
          "Ridge",
          "Ridge",
          "Ridge",
          "Ridge",
          "Ridge",
          "Ridge",
          "Ridge",
          "Ridge",
          "Ridge",
          "Ridge",
          "Ridge",
          "Ridge",
          "Ridge",
          "Ridge",
          "Ridge",
          "Ridge",
          "Ridge",
          "Ridge",
          "Ridge",
          "Ridge",
          "Ridge",
          "Ridge",
          "Ridge",
          "Ridge",
          "Ridge",
          "Ridge",
          "Ridge",
          "Ridge",
          "Ridge",
          "Ridge",
          "Ridge",
          "Ridge",
          "Ridge",
          "Ridge",
          "Ridge",
          "Ridge",
          "Ridge",
          "Ridge",
          "Ridge",
          "Ridge",
          "Ridge",
          "Ridge",
          "Ridge",
          "Ridge",
          "Ridge",
          "Ridge",
          "Ridge",
          "Ridge",
          "Ridge",
          "Ridge",
          "Ridge",
          "Ridge",
          "Ridge",
          "Ridge",
          "Ridge",
          "Ridge",
          "Ridge",
          "Ridge",
          "Ridge",
          "Ridge",
          "Ridge",
          "Ridge",
          "Ridge",
          "Ridge",
          "Ridge",
          "Ridge",
          "Ridge",
          "Ridge",
          "Ridge",
          "Ridge",
          "Ridge",
          "Ridge",
          "Ridge",
          "Ridge",
          "Ridge",
          "Ridge",
          "Ridge",
          "Ridge",
          "Ridge",
          "Ridge",
          "Ridge",
          "Ridge",
          "Ridge",
          "Ridge",
          "Ridge",
          "Ridge",
          "Ridge",
          "Ridge",
          "Ridge",
          "Ridge",
          "Ridge",
          "Ridge",
          "Ridge",
          "Ridge",
          "Ridge",
          "Ridge",
          "Ridge",
          "Ridge",
          "Ridge",
          "Ridge",
          "Ridge",
          "Ridge",
          "Ridge",
          "Ridge",
          "Ridge",
          "Ridge",
          "Ridge",
          "Ridge",
          "Ridge",
          "Ridge",
          "Ridge",
          "Ridge",
          "Ridge",
          "Ridge",
          "Ridge",
          "Ridge",
          "Ridge",
          "Ridge",
          "Ridge",
          "Ridge",
          "Ridge",
          "Ridge",
          "Ridge",
          "Ridge",
          "Ridge",
          "Ridge",
          "Ridge",
          "Ridge",
          "Ridge",
          "Ridge",
          "Ridge",
          "Ridge",
          "Ridge",
          "Ridge",
          "Ridge",
          "Ridge",
          "Ridge",
          "Ridge",
          "Ridge",
          "Ridge",
          "Ridge",
          "Ridge",
          "Ridge",
          "Ridge",
          "Ridge",
          "Ridge",
          "Ridge",
          "Ridge",
          "Ridge",
          "Ridge",
          "Ridge",
          "Ridge",
          "Ridge",
          "Ridge",
          "Ridge",
          "Ridge",
          "Ridge",
          "Ridge",
          "Ridge",
          "Ridge",
          "Ridge",
          "Ridge",
          "Ridge",
          "Ridge",
          "Ridge",
          "Ridge",
          "Ridge",
          "Ridge",
          "Ridge",
          "Ridge",
          "Ridge",
          "Ridge",
          "Ridge",
          "Ridge",
          "Ridge",
          "Ridge",
          "Ridge",
          "Ridge",
          "Ridge",
          "Ridge",
          "Ridge",
          "Ridge",
          "Ridge",
          "Ridge",
          "Ridge",
          "Ridge",
          "Ridge",
          "Ridge",
          "Ridge",
          "Ridge",
          "Ridge",
          "Ridge",
          "Ridge",
          "Ridge",
          "Ridge",
          "Ridge",
          "Ridge",
          "Ridge",
          "Ridge",
          "Ridge",
          "Ridge",
          "Ridge",
          "Ridge",
          "Ridge",
          "Ridge",
          "Ridge",
          "Ridge",
          "Ridge",
          "Ridge",
          "Ridge",
          "Ridge",
          "Ridge",
          "Ridge",
          "Ridge",
          "Ridge",
          "Ridge",
          "Ridge",
          "Ridge",
          "Ridge",
          "Ridge",
          "Ridge",
          "Ridge",
          "Ridge",
          "Ridge",
          "Ridge"
         ],
         "yaxis": "y2"
        },
        {
         "legendgroup": "Lasso",
         "marker": {
          "color": "rgb(255, 127, 14)",
          "symbol": "line-ns-open"
         },
         "mode": "markers",
         "name": "Lasso",
         "showlegend": false,
         "type": "scatter",
         "x": [
          -2.0476198734900146,
          3.223742095739864,
          -0.22808811219082853,
          -4.424263598198707,
          0,
          2.6754583974503556,
          -0.23827509751446202,
          0,
          0.1933492848197166,
          -0.6878399125175539,
          0,
          0,
          0,
          0,
          0,
          0,
          0,
          0,
          0,
          0,
          0,
          0,
          0,
          0,
          0,
          0,
          0,
          0,
          0,
          0,
          0,
          0,
          0,
          0,
          0,
          0,
          0,
          0,
          0,
          0,
          0,
          0,
          0,
          0,
          0,
          0,
          0,
          0,
          0,
          0,
          0,
          0,
          0,
          0,
          0,
          0,
          0,
          0,
          0,
          0,
          0,
          0,
          0,
          0,
          0,
          0,
          0,
          -0.3983334666123992,
          0,
          0,
          0,
          0,
          0,
          0,
          0,
          0,
          0,
          0,
          0,
          0,
          0,
          0,
          0,
          0,
          0,
          0,
          0,
          0,
          0,
          0,
          0,
          0,
          0,
          0,
          0,
          0,
          0,
          0,
          0,
          0,
          0,
          0,
          0,
          0,
          0,
          0,
          0,
          0,
          0,
          0,
          0,
          0,
          0,
          0,
          0,
          0,
          0,
          0,
          0,
          0,
          0,
          0,
          0,
          0,
          0,
          0.6021573559342153,
          0,
          0,
          5.5889740575213915,
          0,
          0,
          0,
          0,
          0,
          0,
          0,
          0,
          0,
          0,
          0,
          0,
          0,
          0,
          0,
          0,
          -0.2307513818617211,
          0,
          0,
          0,
          0,
          0,
          0,
          0,
          0,
          0,
          0,
          0,
          0,
          0,
          0,
          0,
          0,
          0,
          0,
          0,
          0,
          0,
          0,
          0,
          0,
          0,
          0,
          0,
          0,
          0,
          0,
          0,
          0,
          0,
          0,
          0,
          0,
          0,
          0,
          0,
          0,
          0,
          0,
          0,
          0,
          0,
          0,
          0,
          0,
          0,
          0,
          0,
          0,
          0,
          0,
          0,
          0,
          0,
          0,
          0,
          0,
          0,
          0,
          0,
          0,
          0,
          0,
          0,
          0,
          0,
          0,
          0,
          0.18609257038557978,
          0.6622835325725625,
          0,
          0,
          0,
          0,
          0,
          0,
          0,
          0,
          0,
          0,
          0,
          0,
          0,
          0,
          0,
          0,
          0,
          0,
          0,
          0,
          0,
          0,
          0,
          0,
          0,
          0,
          0,
          0,
          0,
          0,
          0,
          0,
          0,
          0,
          0,
          0,
          0,
          0,
          0,
          0,
          0,
          0,
          0,
          0,
          0,
          0,
          0,
          0,
          0,
          0,
          0,
          0,
          0,
          0,
          0,
          0,
          0,
          0,
          0,
          0,
          0,
          0,
          0,
          0,
          0,
          0,
          0,
          0,
          1.8088480904729738,
          0,
          0,
          0,
          0,
          0,
          0
         ],
         "xaxis": "x",
         "y": [
          "Lasso",
          "Lasso",
          "Lasso",
          "Lasso",
          "Lasso",
          "Lasso",
          "Lasso",
          "Lasso",
          "Lasso",
          "Lasso",
          "Lasso",
          "Lasso",
          "Lasso",
          "Lasso",
          "Lasso",
          "Lasso",
          "Lasso",
          "Lasso",
          "Lasso",
          "Lasso",
          "Lasso",
          "Lasso",
          "Lasso",
          "Lasso",
          "Lasso",
          "Lasso",
          "Lasso",
          "Lasso",
          "Lasso",
          "Lasso",
          "Lasso",
          "Lasso",
          "Lasso",
          "Lasso",
          "Lasso",
          "Lasso",
          "Lasso",
          "Lasso",
          "Lasso",
          "Lasso",
          "Lasso",
          "Lasso",
          "Lasso",
          "Lasso",
          "Lasso",
          "Lasso",
          "Lasso",
          "Lasso",
          "Lasso",
          "Lasso",
          "Lasso",
          "Lasso",
          "Lasso",
          "Lasso",
          "Lasso",
          "Lasso",
          "Lasso",
          "Lasso",
          "Lasso",
          "Lasso",
          "Lasso",
          "Lasso",
          "Lasso",
          "Lasso",
          "Lasso",
          "Lasso",
          "Lasso",
          "Lasso",
          "Lasso",
          "Lasso",
          "Lasso",
          "Lasso",
          "Lasso",
          "Lasso",
          "Lasso",
          "Lasso",
          "Lasso",
          "Lasso",
          "Lasso",
          "Lasso",
          "Lasso",
          "Lasso",
          "Lasso",
          "Lasso",
          "Lasso",
          "Lasso",
          "Lasso",
          "Lasso",
          "Lasso",
          "Lasso",
          "Lasso",
          "Lasso",
          "Lasso",
          "Lasso",
          "Lasso",
          "Lasso",
          "Lasso",
          "Lasso",
          "Lasso",
          "Lasso",
          "Lasso",
          "Lasso",
          "Lasso",
          "Lasso",
          "Lasso",
          "Lasso",
          "Lasso",
          "Lasso",
          "Lasso",
          "Lasso",
          "Lasso",
          "Lasso",
          "Lasso",
          "Lasso",
          "Lasso",
          "Lasso",
          "Lasso",
          "Lasso",
          "Lasso",
          "Lasso",
          "Lasso",
          "Lasso",
          "Lasso",
          "Lasso",
          "Lasso",
          "Lasso",
          "Lasso",
          "Lasso",
          "Lasso",
          "Lasso",
          "Lasso",
          "Lasso",
          "Lasso",
          "Lasso",
          "Lasso",
          "Lasso",
          "Lasso",
          "Lasso",
          "Lasso",
          "Lasso",
          "Lasso",
          "Lasso",
          "Lasso",
          "Lasso",
          "Lasso",
          "Lasso",
          "Lasso",
          "Lasso",
          "Lasso",
          "Lasso",
          "Lasso",
          "Lasso",
          "Lasso",
          "Lasso",
          "Lasso",
          "Lasso",
          "Lasso",
          "Lasso",
          "Lasso",
          "Lasso",
          "Lasso",
          "Lasso",
          "Lasso",
          "Lasso",
          "Lasso",
          "Lasso",
          "Lasso",
          "Lasso",
          "Lasso",
          "Lasso",
          "Lasso",
          "Lasso",
          "Lasso",
          "Lasso",
          "Lasso",
          "Lasso",
          "Lasso",
          "Lasso",
          "Lasso",
          "Lasso",
          "Lasso",
          "Lasso",
          "Lasso",
          "Lasso",
          "Lasso",
          "Lasso",
          "Lasso",
          "Lasso",
          "Lasso",
          "Lasso",
          "Lasso",
          "Lasso",
          "Lasso",
          "Lasso",
          "Lasso",
          "Lasso",
          "Lasso",
          "Lasso",
          "Lasso",
          "Lasso",
          "Lasso",
          "Lasso",
          "Lasso",
          "Lasso",
          "Lasso",
          "Lasso",
          "Lasso",
          "Lasso",
          "Lasso",
          "Lasso",
          "Lasso",
          "Lasso",
          "Lasso",
          "Lasso",
          "Lasso",
          "Lasso",
          "Lasso",
          "Lasso",
          "Lasso",
          "Lasso",
          "Lasso",
          "Lasso",
          "Lasso",
          "Lasso",
          "Lasso",
          "Lasso",
          "Lasso",
          "Lasso",
          "Lasso",
          "Lasso",
          "Lasso",
          "Lasso",
          "Lasso",
          "Lasso",
          "Lasso",
          "Lasso",
          "Lasso",
          "Lasso",
          "Lasso",
          "Lasso",
          "Lasso",
          "Lasso",
          "Lasso",
          "Lasso",
          "Lasso",
          "Lasso",
          "Lasso",
          "Lasso",
          "Lasso",
          "Lasso",
          "Lasso",
          "Lasso",
          "Lasso",
          "Lasso",
          "Lasso",
          "Lasso",
          "Lasso",
          "Lasso",
          "Lasso",
          "Lasso",
          "Lasso",
          "Lasso",
          "Lasso",
          "Lasso",
          "Lasso",
          "Lasso",
          "Lasso",
          "Lasso",
          "Lasso",
          "Lasso",
          "Lasso",
          "Lasso",
          "Lasso",
          "Lasso",
          "Lasso",
          "Lasso",
          "Lasso",
          "Lasso",
          "Lasso",
          "Lasso",
          "Lasso",
          "Lasso",
          "Lasso",
          "Lasso",
          "Lasso",
          "Lasso",
          "Lasso",
          "Lasso",
          "Lasso",
          "Lasso",
          "Lasso",
          "Lasso",
          "Lasso",
          "Lasso"
         ],
         "yaxis": "y2"
        }
       ],
       "layout": {
        "barmode": "overlay",
        "hovermode": "closest",
        "legend": {
         "traceorder": "reversed"
        },
        "template": {
         "data": {
          "bar": [
           {
            "error_x": {
             "color": "#2a3f5f"
            },
            "error_y": {
             "color": "#2a3f5f"
            },
            "marker": {
             "line": {
              "color": "#E5ECF6",
              "width": 0.5
             }
            },
            "type": "bar"
           }
          ],
          "barpolar": [
           {
            "marker": {
             "line": {
              "color": "#E5ECF6",
              "width": 0.5
             }
            },
            "type": "barpolar"
           }
          ],
          "carpet": [
           {
            "aaxis": {
             "endlinecolor": "#2a3f5f",
             "gridcolor": "white",
             "linecolor": "white",
             "minorgridcolor": "white",
             "startlinecolor": "#2a3f5f"
            },
            "baxis": {
             "endlinecolor": "#2a3f5f",
             "gridcolor": "white",
             "linecolor": "white",
             "minorgridcolor": "white",
             "startlinecolor": "#2a3f5f"
            },
            "type": "carpet"
           }
          ],
          "choropleth": [
           {
            "colorbar": {
             "outlinewidth": 0,
             "ticks": ""
            },
            "type": "choropleth"
           }
          ],
          "contour": [
           {
            "colorbar": {
             "outlinewidth": 0,
             "ticks": ""
            },
            "colorscale": [
             [
              0,
              "#0d0887"
             ],
             [
              0.1111111111111111,
              "#46039f"
             ],
             [
              0.2222222222222222,
              "#7201a8"
             ],
             [
              0.3333333333333333,
              "#9c179e"
             ],
             [
              0.4444444444444444,
              "#bd3786"
             ],
             [
              0.5555555555555556,
              "#d8576b"
             ],
             [
              0.6666666666666666,
              "#ed7953"
             ],
             [
              0.7777777777777778,
              "#fb9f3a"
             ],
             [
              0.8888888888888888,
              "#fdca26"
             ],
             [
              1,
              "#f0f921"
             ]
            ],
            "type": "contour"
           }
          ],
          "contourcarpet": [
           {
            "colorbar": {
             "outlinewidth": 0,
             "ticks": ""
            },
            "type": "contourcarpet"
           }
          ],
          "heatmap": [
           {
            "colorbar": {
             "outlinewidth": 0,
             "ticks": ""
            },
            "colorscale": [
             [
              0,
              "#0d0887"
             ],
             [
              0.1111111111111111,
              "#46039f"
             ],
             [
              0.2222222222222222,
              "#7201a8"
             ],
             [
              0.3333333333333333,
              "#9c179e"
             ],
             [
              0.4444444444444444,
              "#bd3786"
             ],
             [
              0.5555555555555556,
              "#d8576b"
             ],
             [
              0.6666666666666666,
              "#ed7953"
             ],
             [
              0.7777777777777778,
              "#fb9f3a"
             ],
             [
              0.8888888888888888,
              "#fdca26"
             ],
             [
              1,
              "#f0f921"
             ]
            ],
            "type": "heatmap"
           }
          ],
          "heatmapgl": [
           {
            "colorbar": {
             "outlinewidth": 0,
             "ticks": ""
            },
            "colorscale": [
             [
              0,
              "#0d0887"
             ],
             [
              0.1111111111111111,
              "#46039f"
             ],
             [
              0.2222222222222222,
              "#7201a8"
             ],
             [
              0.3333333333333333,
              "#9c179e"
             ],
             [
              0.4444444444444444,
              "#bd3786"
             ],
             [
              0.5555555555555556,
              "#d8576b"
             ],
             [
              0.6666666666666666,
              "#ed7953"
             ],
             [
              0.7777777777777778,
              "#fb9f3a"
             ],
             [
              0.8888888888888888,
              "#fdca26"
             ],
             [
              1,
              "#f0f921"
             ]
            ],
            "type": "heatmapgl"
           }
          ],
          "histogram": [
           {
            "marker": {
             "colorbar": {
              "outlinewidth": 0,
              "ticks": ""
             }
            },
            "type": "histogram"
           }
          ],
          "histogram2d": [
           {
            "colorbar": {
             "outlinewidth": 0,
             "ticks": ""
            },
            "colorscale": [
             [
              0,
              "#0d0887"
             ],
             [
              0.1111111111111111,
              "#46039f"
             ],
             [
              0.2222222222222222,
              "#7201a8"
             ],
             [
              0.3333333333333333,
              "#9c179e"
             ],
             [
              0.4444444444444444,
              "#bd3786"
             ],
             [
              0.5555555555555556,
              "#d8576b"
             ],
             [
              0.6666666666666666,
              "#ed7953"
             ],
             [
              0.7777777777777778,
              "#fb9f3a"
             ],
             [
              0.8888888888888888,
              "#fdca26"
             ],
             [
              1,
              "#f0f921"
             ]
            ],
            "type": "histogram2d"
           }
          ],
          "histogram2dcontour": [
           {
            "colorbar": {
             "outlinewidth": 0,
             "ticks": ""
            },
            "colorscale": [
             [
              0,
              "#0d0887"
             ],
             [
              0.1111111111111111,
              "#46039f"
             ],
             [
              0.2222222222222222,
              "#7201a8"
             ],
             [
              0.3333333333333333,
              "#9c179e"
             ],
             [
              0.4444444444444444,
              "#bd3786"
             ],
             [
              0.5555555555555556,
              "#d8576b"
             ],
             [
              0.6666666666666666,
              "#ed7953"
             ],
             [
              0.7777777777777778,
              "#fb9f3a"
             ],
             [
              0.8888888888888888,
              "#fdca26"
             ],
             [
              1,
              "#f0f921"
             ]
            ],
            "type": "histogram2dcontour"
           }
          ],
          "mesh3d": [
           {
            "colorbar": {
             "outlinewidth": 0,
             "ticks": ""
            },
            "type": "mesh3d"
           }
          ],
          "parcoords": [
           {
            "line": {
             "colorbar": {
              "outlinewidth": 0,
              "ticks": ""
             }
            },
            "type": "parcoords"
           }
          ],
          "pie": [
           {
            "automargin": true,
            "type": "pie"
           }
          ],
          "scatter": [
           {
            "marker": {
             "colorbar": {
              "outlinewidth": 0,
              "ticks": ""
             }
            },
            "type": "scatter"
           }
          ],
          "scatter3d": [
           {
            "line": {
             "colorbar": {
              "outlinewidth": 0,
              "ticks": ""
             }
            },
            "marker": {
             "colorbar": {
              "outlinewidth": 0,
              "ticks": ""
             }
            },
            "type": "scatter3d"
           }
          ],
          "scattercarpet": [
           {
            "marker": {
             "colorbar": {
              "outlinewidth": 0,
              "ticks": ""
             }
            },
            "type": "scattercarpet"
           }
          ],
          "scattergeo": [
           {
            "marker": {
             "colorbar": {
              "outlinewidth": 0,
              "ticks": ""
             }
            },
            "type": "scattergeo"
           }
          ],
          "scattergl": [
           {
            "marker": {
             "colorbar": {
              "outlinewidth": 0,
              "ticks": ""
             }
            },
            "type": "scattergl"
           }
          ],
          "scattermapbox": [
           {
            "marker": {
             "colorbar": {
              "outlinewidth": 0,
              "ticks": ""
             }
            },
            "type": "scattermapbox"
           }
          ],
          "scatterpolar": [
           {
            "marker": {
             "colorbar": {
              "outlinewidth": 0,
              "ticks": ""
             }
            },
            "type": "scatterpolar"
           }
          ],
          "scatterpolargl": [
           {
            "marker": {
             "colorbar": {
              "outlinewidth": 0,
              "ticks": ""
             }
            },
            "type": "scatterpolargl"
           }
          ],
          "scatterternary": [
           {
            "marker": {
             "colorbar": {
              "outlinewidth": 0,
              "ticks": ""
             }
            },
            "type": "scatterternary"
           }
          ],
          "surface": [
           {
            "colorbar": {
             "outlinewidth": 0,
             "ticks": ""
            },
            "colorscale": [
             [
              0,
              "#0d0887"
             ],
             [
              0.1111111111111111,
              "#46039f"
             ],
             [
              0.2222222222222222,
              "#7201a8"
             ],
             [
              0.3333333333333333,
              "#9c179e"
             ],
             [
              0.4444444444444444,
              "#bd3786"
             ],
             [
              0.5555555555555556,
              "#d8576b"
             ],
             [
              0.6666666666666666,
              "#ed7953"
             ],
             [
              0.7777777777777778,
              "#fb9f3a"
             ],
             [
              0.8888888888888888,
              "#fdca26"
             ],
             [
              1,
              "#f0f921"
             ]
            ],
            "type": "surface"
           }
          ],
          "table": [
           {
            "cells": {
             "fill": {
              "color": "#EBF0F8"
             },
             "line": {
              "color": "white"
             }
            },
            "header": {
             "fill": {
              "color": "#C8D4E3"
             },
             "line": {
              "color": "white"
             }
            },
            "type": "table"
           }
          ]
         },
         "layout": {
          "annotationdefaults": {
           "arrowcolor": "#2a3f5f",
           "arrowhead": 0,
           "arrowwidth": 1
          },
          "autotypenumbers": "strict",
          "coloraxis": {
           "colorbar": {
            "outlinewidth": 0,
            "ticks": ""
           }
          },
          "colorscale": {
           "diverging": [
            [
             0,
             "#8e0152"
            ],
            [
             0.1,
             "#c51b7d"
            ],
            [
             0.2,
             "#de77ae"
            ],
            [
             0.3,
             "#f1b6da"
            ],
            [
             0.4,
             "#fde0ef"
            ],
            [
             0.5,
             "#f7f7f7"
            ],
            [
             0.6,
             "#e6f5d0"
            ],
            [
             0.7,
             "#b8e186"
            ],
            [
             0.8,
             "#7fbc41"
            ],
            [
             0.9,
             "#4d9221"
            ],
            [
             1,
             "#276419"
            ]
           ],
           "sequential": [
            [
             0,
             "#0d0887"
            ],
            [
             0.1111111111111111,
             "#46039f"
            ],
            [
             0.2222222222222222,
             "#7201a8"
            ],
            [
             0.3333333333333333,
             "#9c179e"
            ],
            [
             0.4444444444444444,
             "#bd3786"
            ],
            [
             0.5555555555555556,
             "#d8576b"
            ],
            [
             0.6666666666666666,
             "#ed7953"
            ],
            [
             0.7777777777777778,
             "#fb9f3a"
            ],
            [
             0.8888888888888888,
             "#fdca26"
            ],
            [
             1,
             "#f0f921"
            ]
           ],
           "sequentialminus": [
            [
             0,
             "#0d0887"
            ],
            [
             0.1111111111111111,
             "#46039f"
            ],
            [
             0.2222222222222222,
             "#7201a8"
            ],
            [
             0.3333333333333333,
             "#9c179e"
            ],
            [
             0.4444444444444444,
             "#bd3786"
            ],
            [
             0.5555555555555556,
             "#d8576b"
            ],
            [
             0.6666666666666666,
             "#ed7953"
            ],
            [
             0.7777777777777778,
             "#fb9f3a"
            ],
            [
             0.8888888888888888,
             "#fdca26"
            ],
            [
             1,
             "#f0f921"
            ]
           ]
          },
          "colorway": [
           "#636efa",
           "#EF553B",
           "#00cc96",
           "#ab63fa",
           "#FFA15A",
           "#19d3f3",
           "#FF6692",
           "#B6E880",
           "#FF97FF",
           "#FECB52"
          ],
          "font": {
           "color": "#2a3f5f"
          },
          "geo": {
           "bgcolor": "white",
           "lakecolor": "white",
           "landcolor": "#E5ECF6",
           "showlakes": true,
           "showland": true,
           "subunitcolor": "white"
          },
          "hoverlabel": {
           "align": "left"
          },
          "hovermode": "closest",
          "mapbox": {
           "style": "light"
          },
          "paper_bgcolor": "white",
          "plot_bgcolor": "#E5ECF6",
          "polar": {
           "angularaxis": {
            "gridcolor": "white",
            "linecolor": "white",
            "ticks": ""
           },
           "bgcolor": "#E5ECF6",
           "radialaxis": {
            "gridcolor": "white",
            "linecolor": "white",
            "ticks": ""
           }
          },
          "scene": {
           "xaxis": {
            "backgroundcolor": "#E5ECF6",
            "gridcolor": "white",
            "gridwidth": 2,
            "linecolor": "white",
            "showbackground": true,
            "ticks": "",
            "zerolinecolor": "white"
           },
           "yaxis": {
            "backgroundcolor": "#E5ECF6",
            "gridcolor": "white",
            "gridwidth": 2,
            "linecolor": "white",
            "showbackground": true,
            "ticks": "",
            "zerolinecolor": "white"
           },
           "zaxis": {
            "backgroundcolor": "#E5ECF6",
            "gridcolor": "white",
            "gridwidth": 2,
            "linecolor": "white",
            "showbackground": true,
            "ticks": "",
            "zerolinecolor": "white"
           }
          },
          "shapedefaults": {
           "line": {
            "color": "#2a3f5f"
           }
          },
          "ternary": {
           "aaxis": {
            "gridcolor": "white",
            "linecolor": "white",
            "ticks": ""
           },
           "baxis": {
            "gridcolor": "white",
            "linecolor": "white",
            "ticks": ""
           },
           "bgcolor": "#E5ECF6",
           "caxis": {
            "gridcolor": "white",
            "linecolor": "white",
            "ticks": ""
           }
          },
          "title": {
           "x": 0.05
          },
          "xaxis": {
           "automargin": true,
           "gridcolor": "white",
           "linecolor": "white",
           "ticks": "",
           "title": {
            "standoff": 15
           },
           "zerolinecolor": "white",
           "zerolinewidth": 2
          },
          "yaxis": {
           "automargin": true,
           "gridcolor": "white",
           "linecolor": "white",
           "ticks": "",
           "title": {
            "standoff": 15
           },
           "zerolinecolor": "white",
           "zerolinewidth": 2
          }
         }
        },
        "xaxis": {
         "anchor": "y2",
         "domain": [
          0,
          1
         ],
         "zeroline": false
        },
        "yaxis": {
         "anchor": "free",
         "domain": [
          0.35,
          1
         ],
         "position": 0
        },
        "yaxis2": {
         "anchor": "x",
         "domain": [
          0,
          0.25
         ],
         "dtick": 1,
         "showticklabels": false
        }
       }
      },
      "text/html": [
       "<div>                            <div id=\"185e56fc-2410-4e18-a95f-e7859e4285d4\" class=\"plotly-graph-div\" style=\"height:525px; width:100%;\"></div>            <script type=\"text/javascript\">                require([\"plotly\"], function(Plotly) {                    window.PLOTLYENV=window.PLOTLYENV || {};                                    if (document.getElementById(\"185e56fc-2410-4e18-a95f-e7859e4285d4\")) {                    Plotly.newPlot(                        \"185e56fc-2410-4e18-a95f-e7859e4285d4\",                        [{\"autobinx\": false, \"histnorm\": \"probability density\", \"legendgroup\": \"Ridge\", \"marker\": {\"color\": \"rgb(31, 119, 180)\"}, \"name\": \"Ridge\", \"opacity\": 0.7, \"type\": \"histogram\", \"x\": [-3.9930691936846694, 5.037703251892813, -0.8618254501213931, -3.5181435000961754, -0.42469385713891583, 2.6812822014682887, -0.3053145831857478, 0.22547086629869817, -0.10313995513711038, -0.12233091116158867, 0.19802547403671392, -0.12096923597820107, -1.0307349960081436, 0.1605461666368979, 0.1885363955110899, -0.5453464132843986, 2.56059289449918, 0.5680348391888308, -0.08841057029678048, 1.2472505317253866, -2.1602307653956037, -1.0677409849345676, -0.7364849429178, -0.281120989977839, -0.4882475060998972, -0.1425576133235728, 0.1691084509361211, -2.052987586031357, -0.2281831351555582, 1.6303535359653873, 0.8247284958344278, 0.6917671103465183, 0.6339733263641741, 2.786627284213738, 1.6999498733488587, 0.21763941698389824, -0.4585414989724519, -1.8837289958894132, 1.783606012260569, -1.7389733928317335, -0.4024316624777796, 0.6134325242990593, 2.0043312211547573, 0.9351900064124232, 0.6522049111168535, -2.4074597277499756, -0.3926525240786689, -0.005285919488884197, 1.3906261964441204, -1.16160374242712, 0.8189254155612258, 1.0215379890425953, -2.6372219327165727, 0.9361208196448058, -0.04223649969148324, -1.9565464961934342, 0.2498577922466092, -2.3150305151601955, 1.6026187321075211, -2.3298528323422665, -0.018319414366761613, 1.2373129436137693, -2.163054716183569, 0.3874297846724736, 0.4948673663634891, 0.4341785024692597, 0.3968312310257109, -1.1540100751198472, -1.0653725203822437, -0.4275049160296205, -1.365749449372174, -0.36847947620004673, -1.35600323938286, 1.916141048296824, 0.4341785024692597, 0.5744090048161845, -0.7771061917845893, 0.40558274892224677, 0.2306420660933326, -1.897479084493812, 0.4612136639600589, 1.3590820283499767, -0.118061898311541, -0.06233611749630519, -0.07435451646738785, -2.8553645595291375, 0.3873635587263152, 1.0392987593972682, -0.16148829932389042, -0.4898593874157166, -0.9368997009385055, 0.15097206177052397, 2.1509718272367047, 2.3815017884042047, 0.729890873878335, 0.46119985083691545, -0.5850812205330701, -0.5766478514318014, -0.08427367234493005, -0.7326296025057144, 0.7799620757296865, 0.10732084989938562, 0.5339684840240013, 0.33179740827516546, 0.9623797379288848, -1.4091362541086316, -1.2291494337634024, 0.1442591082392501, 0.43317135964253384, 0.5838555717903364, 0.31585340498904046, -0.3478909774725082, 0.6189045066992711, -1.072691405662399, -0.7417059249629268, -0.12408193154475135, -0.11060035283742695, -0.3926525240786689, -0.5487481018652094, 1.9467143014387174, 0.8742526670258153, -2.098105545298246, 0.9757650198915989, -0.6980378887425671, -0.846464264519464, 1.6856988605524479, -0.018319414366761613, -0.10760176154624457, 7.6821753235669075, 0.1679699020065611, 0.4482517885923475, -0.19999585750766702, 1.7942833919555699, 1.2266152872656015, 0.8071214607482391, 1.1697608126388028, 0.6339733263641741, 0.41649375308344705, -0.3042877474622554, -1.6816675765689946, 1.098930257180784, -0.620509299172582, 1.1145049284259922, 2.3325865177493226, 0.21545201326464497, -0.6986593516111039, 1.0936996724139432, 0.9974315786161194, -1.4074303075202883, 1.2359178567007136, 0.4799698349156829, -1.4262491992915778, 4.006720858317878, -0.32232830466410856, -1.4404328017367554, -0.19442500937050355, 0.34179782382868096, -2.107840844595993, -0.4898593874157166, 1.9572274502485154, 2.11159715246153, -0.7683885279643999, 2.012642208218887, 0.5680348391888308, 1.1921230794713495, 1.878765026912748, -0.05006793217819561, -1.1465662192599964, 0.30000372094503136, 1.631937865542806, 0.5095374822855381, -1.5520388924206585, 0.2636482235894611, -1.207503102926233, -2.140077637836077, 0.8045344667770497, -2.09818117051142, 0.15322260147556, -1.8095174186696934, 1.2933493524941315, 0.3476080594534451, 0.32637191508077334, 1.8022382923921194, -0.7846170533599949, -0.04833304101050122, -1.033340534498502, 0.2588721030978778, 0.08418350533004881, 0.11381657692544295, -0.2784010220920443, -2.9148789948519926, -0.7162228698664279, -1.0989167937251116, -0.33719753779721345, 0.5744090048161845, -0.7661721021389547, 0.9965650814252208, 0.1605461666368979, 0.28572421857439845, 0.30634306349154566, 0.3873635587263152, 0.6415168134901809, 0.6917671103465183, -0.560483578001505, 0.6486327923858555, 0.6145561347052568, 0.8915657414661539, -0.6494825002618918, 0.2853938064383801, -1.5958345515656636, -0.3546946012768417, -0.9939621593370855, 0.005548225269836227, 0.24830801554546528, 3.8176466378032, -1.3797561092143633, 0.3817767514389995, 0.6194056372608912, 1.0699011290623537, 0.16328722908385954, -1.0166920313011372, 0.8394235955604227, -0.10730650303028788, 0.12140768004433317, -0.6919093726359064, 0.5071910575635987, -0.044724345661153755, -0.3343042673219786, -1.6159508819680055, 0.3441400520295499, 0.6145561347052568, -0.018319414366761613, -0.7623030730024106, -3.3571882637023105, -2.6385357025435616, -3.6274114127566284, -0.5383119878973247, 1.276605396008108, -1.5397432817499532, -1.4006379765014392, 0.3082487478987428, -0.023103033617198974, 0.27104136483307006, -0.4911880484915153, -0.14113324828182175, 0.18932121571117372, -0.5967101997755163, -0.22992584158205473, -0.20156557368945927, -0.33986446208973825, -0.06048041883936533, -0.13313491595793417, -0.16936953546208183, -0.6564774170443104, 1.5843929484363704, -0.3343042673219786, 0.8915657414661539, 0.06343382376951742, 1.9826221771151675, 2.3970167223708243, 0.37362588932358837, 0.6405990301821943, -0.4004375585173823, -0.8376852920111378, 0.7497945288485108, -1.9895537622618402, 0.47341989385753147, 2.986686803496607, 0.35179430152146873, 1.2866775739018028, 0.32698211095892477, 0.287330451974944, -0.5196881893484887, 2.099416771356479, 2.099416771356479, -2.001270841854587, -0.9832916621767456, -0.37683229797848194, -1.0166920313011372, -0.8746832953430036, -0.2671839173785, -0.5967101997755163, -0.11060035283742695, -2.0222122025762386, -1.3282205088683665, -0.22915228605723126, -2.6730265939248383, 3.5599727064032995, -1.66684941527111, -1.5409088940631233, 0.8915657414661539, 0.6486327923858555, -2.0060305527461213, 1.783606012260569], \"xaxis\": \"x\", \"xbins\": {\"end\": 7.6821753235669075, \"size\": 0.1, \"start\": -3.9930691936846694}, \"yaxis\": \"y\"}, {\"autobinx\": false, \"histnorm\": \"probability density\", \"legendgroup\": \"Lasso\", \"marker\": {\"color\": \"rgb(255, 127, 14)\"}, \"name\": \"Lasso\", \"opacity\": 0.7, \"type\": \"histogram\", \"x\": [-2.0476198734900146, 3.223742095739864, -0.22808811219082853, -4.424263598198707, -0.0, 2.6754583974503556, -0.23827509751446202, -0.0, 0.1933492848197166, -0.6878399125175539, 0.0, 0.0, -0.0, -0.0, -0.0, -0.0, 0.0, 0.0, -0.0, 0.0, -0.0, -0.0, -0.0, 0.0, -0.0, 0.0, -0.0, -0.0, -0.0, 0.0, 0.0, 0.0, 0.0, 0.0, 0.0, -0.0, -0.0, -0.0, 0.0, -0.0, -0.0, 0.0, 0.0, 0.0, 0.0, -0.0, -0.0, -0.0, 0.0, -0.0, 0.0, 0.0, -0.0, 0.0, 0.0, -0.0, 0.0, -0.0, 0.0, -0.0, 0.0, 0.0, -0.0, 0.0, 0.0, 0.0, 0.0, -0.3983334666123992, -0.0, -0.0, -0.0, 0.0, -0.0, 0.0, 0.0, 0.0, -0.0, 0.0, -0.0, -0.0, -0.0, 0.0, -0.0, -0.0, 0.0, -0.0, -0.0, 0.0, -0.0, -0.0, -0.0, 0.0, 0.0, 0.0, 0.0, 0.0, -0.0, -0.0, -0.0, -0.0, 0.0, -0.0, 0.0, -0.0, 0.0, -0.0, -0.0, -0.0, 0.0, 0.0, 0.0, -0.0, 0.0, -0.0, -0.0, -0.0, 0.0, -0.0, 0.0, 0.0, 0.0, -0.0, 0.0, -0.0, -0.0, 0.6021573559342153, 0.0, 0.0, 5.5889740575213915, -0.0, -0.0, 0.0, 0.0, 0.0, 0.0, 0.0, 0.0, 0.0, -0.0, -0.0, 0.0, -0.0, 0.0, 0.0, 0.0, -0.2307513818617211, 0.0, 0.0, -0.0, 0.0, -0.0, -0.0, 0.0, 0.0, -0.0, 0.0, -0.0, -0.0, -0.0, 0.0, 0.0, -0.0, 0.0, 0.0, 0.0, 0.0, -0.0, -0.0, 0.0, 0.0, 0.0, 0.0, 0.0, -0.0, -0.0, 0.0, -0.0, -0.0, -0.0, 0.0, -0.0, 0.0, 0.0, -0.0, -0.0, -0.0, -0.0, 0.0, -0.0, -0.0, -0.0, -0.0, -0.0, -0.0, 0.0, -0.0, 0.0, -0.0, 0.0, -0.0, -0.0, -0.0, 0.0, -0.0, 0.0, 0.0, 0.0, -0.0, 0.0, -0.0, -0.0, -0.0, 0.0, 0.0, 0.0, -0.0, 0.0, 0.18609257038557978, 0.6622835325725625, 0.0, -0.0, 0.0, 0.0, 0.0, -0.0, 0.0, -0.0, -0.0, -0.0, 0.0, 0.0, 0.0, -0.0, -0.0, -0.0, -0.0, -0.0, 0.0, -0.0, -0.0, 0.0, -0.0, 0.0, 0.0, -0.0, 0.0, -0.0, -0.0, 0.0, -0.0, 0.0, -0.0, -0.0, 0.0, 0.0, -0.0, 0.0, -0.0, 0.0, 0.0, -0.0, 0.0, -0.0, -0.0, 0.0, -0.0, 0.0, 0.0, 0.0, 0.0, -0.0, -0.0, -0.0, 0.0, 0.0, -0.0, -0.0, -0.0, -0.0, -0.0, 0.0, -0.0, 0.0, -0.0, -0.0, -0.0, -0.0, 1.8088480904729738, -0.0, -0.0, 0.0, 0.0, -0.0, 0.0], \"xaxis\": \"x\", \"xbins\": {\"end\": 5.5889740575213915, \"size\": 0.1, \"start\": -4.424263598198707}, \"yaxis\": \"y\"}, {\"legendgroup\": \"Ridge\", \"marker\": {\"color\": \"rgb(31, 119, 180)\"}, \"mode\": \"lines\", \"name\": \"Ridge\", \"showlegend\": false, \"type\": \"scatter\", \"x\": [-3.9930691936846694, -3.969718704650166, -3.946368215615663, -3.92301772658116, -3.8996672375466566, -3.8763167485121537, -3.8529662594776504, -3.8296157704431475, -3.806265281408644, -3.782914792374141, -3.759564303339638, -3.7362138143051347, -3.7128633252706313, -3.6895128362361285, -3.666162347201625, -3.6428118581671223, -3.619461369132619, -3.5961108800981156, -3.5727603910636128, -3.5494099020291094, -3.526059412994606, -3.5027089239601032, -3.4793584349256, -3.4560079458910966, -3.4326574568565937, -3.4093069678220904, -3.3859564787875875, -3.3626059897530842, -3.339255500718581, -3.315905011684078, -3.2925545226495747, -3.269204033615072, -3.2458535445805685, -3.222503055546065, -3.199152566511562, -3.175802077477059, -3.152451588442556, -3.129101099408053, -3.1057506103735495, -3.082400121339046, -3.0590496323045433, -3.03569914327004, -3.012348654235537, -2.988998165201034, -2.9656476761665305, -2.942297187132027, -2.9189466980975243, -2.8955962090630214, -2.872245720028518, -2.8488952309940148, -2.8255447419595114, -2.8021942529250086, -2.7788437638905057, -2.7554932748560024, -2.732142785821499, -2.7087922967869957, -2.6854418077524924, -2.6620913187179895, -2.6387408296834867, -2.6153903406489833, -2.59203985161448, -2.5686893625799767, -2.545338873545474, -2.521988384510971, -2.4986378954764676, -2.4752874064419643, -2.451936917407461, -2.428586428372958, -2.405235939338455, -2.381885450303952, -2.3585349612694486, -2.3351844722349453, -2.3118339832004424, -2.288483494165939, -2.2651330051314362, -2.241782516096933, -2.2184320270624296, -2.1950815380279263, -2.1717310489934234, -2.14838055995892, -2.125030070924417, -2.101679581889914, -2.0783290928554106, -2.0549786038209077, -2.0316281147864044, -2.0082776257519015, -1.9849271367173982, -1.9615766476828949, -1.9382261586483915, -1.9148756696138887, -1.8915251805793853, -1.868174691544882, -1.8448242025103792, -1.8214737134758758, -1.798123224441373, -1.7747727354068696, -1.7514222463723663, -1.7280717573378634, -1.7047212683033601, -1.6813707792688573, -1.6580202902343535, -1.6346698011998506, -1.6113193121653477, -1.5879688231308444, -1.5646183340963415, -1.5412678450618378, -1.517917356027335, -1.494566866992832, -1.4712163779583287, -1.4478658889238254, -1.424515399889322, -1.4011649108548192, -1.3778144218203159, -1.3544639327858126, -1.3311134437513097, -1.3077629547168064, -1.2844124656823035, -1.2610619766478002, -1.2377114876132969, -1.214360998578794, -1.1910105095442907, -1.1676600205097878, -1.144309531475284, -1.1209590424407812, -1.0976085534062783, -1.074258064371775, -1.050907575337272, -1.0275570863027683, -1.0042065972682654, -0.9808561082337626, -0.9575056191992593, -0.9341551301647559, -0.9108046411302526, -0.8874541520957497, -0.8641036630612469, -0.8407531740267435, -0.8174026849922402, -0.7940521959577369, -0.770701706923234, -0.7473512178887312, -0.7240007288542274, -0.7006502398197245, -0.6772997507852212, -0.6539492617507183, -0.6305987727162154, -0.6072482836817117, -0.5838977946472088, -0.5605473056127055, -0.5371968165782026, -0.5138463275436989, -0.490495838509196, -0.4671453494746931, -0.4437948604401898, -0.42044437140568647, -0.39709388237118315, -0.3737433933366803, -0.3503929043021774, -0.3270424152676741, -0.30369192623317076, -0.28034143719866744, -0.25699094816416457, -0.2336404591296617, -0.21028997009515793, -0.18693948106065505, -0.16358899202615174, -0.14023850299164886, -0.11688801395714599, -0.09353752492264222, -0.07018703588813935, -0.04683654685363603, -0.023486057819133155, -0.0001355687846298359, 0.02321492024987304, 0.04656540928437636, 0.06991589831887968, 0.093266387353383, 0.11661687638788631, 0.13996736542238875, 0.16331785445689206, 0.18666834349139538, 0.2100188325258987, 0.23336932156040202, 0.25671981059490534, 0.28007029962940777, 0.3034207886639111, 0.3267712776984144, 0.3501217667329177, 0.37347225576742105, 0.3968227448019235, 0.4201732338364268, 0.4435237228709301, 0.46687421190543343, 0.49022470093993675, 0.5135751899744392, 0.5369256790089425, 0.5602761680434467, 0.5836266570779491, 0.6069771461124525, 0.6303276351469549, 0.6536781241814582, 0.6770286132159624, 0.7003791022504648, 0.7237295912849682, 0.7470800803194706, 0.7704305693539739, 0.7937810583884781, 0.8171315474229806, 0.8404820364574839, 0.8638325254919863, 0.8871830145264896, 0.9105335035609938, 0.9338839925954963, 0.9572344816299996, 0.9805849706645029, 1.0039354596990053, 1.0272859487335095, 1.050636437768012, 1.0739869268025153, 1.0973374158370186, 1.120687904871521, 1.1440383939060252, 1.1673888829405277, 1.190739371975031, 1.2140898610095343, 1.2374403500440376, 1.260790839078541, 1.2841413281130443, 1.3074918171475467, 1.33084230618205, 1.3541927952165533, 1.3775432842510567, 1.40089377328556, 1.4242442623200624, 1.4475947513545657, 1.470945240389069, 1.4942957294235724, 1.5176462184580757, 1.540996707492578, 1.5643471965270814, 1.5876976855615847, 1.611048174596088, 1.6343986636305914, 1.6577491526650938, 1.6810996416995971, 1.7044501307341013, 1.7278006197686038, 1.751151108803107, 1.7745015978376095, 1.7978520868721128, 1.821202575906617, 1.8445530649411195, 1.8679035539756228, 1.8912540430101252, 1.9146045320446285, 1.9379550210791328, 1.9613055101136352, 1.9846559991481385, 2.008006488182642, 2.0313569772171443, 2.0547074662516485, 2.078057955286151, 2.101408444320654, 2.1247589333551575, 2.14810942238966, 2.171459911424164, 2.1948104004586666, 2.21816088949317, 2.2415113785276732, 2.2648618675621757, 2.28821235659668, 2.3115628456311823, 2.3349133346656856, 2.358263823700189, 2.3816143127346914, 2.4049648017691956, 2.428315290803699, 2.4516657798382013, 2.4750162688727047, 2.498366757907207, 2.5217172469417113, 2.5450677359762146, 2.568418225010717, 2.5917687140452204, 2.615119203079723, 2.638469692114227, 2.6618201811487303, 2.6851706701832327, 2.708521159217736, 2.7318716482522385, 2.7552221372867427, 2.778572626321246, 2.8019231153557485, 2.8252736043902518, 2.848624093424756, 2.8719745824592584, 2.8953250714937617, 2.918675560528264, 2.9420260495627675, 2.9653765385972717, 2.988727027631774, 3.0120775166662774, 3.03542800570078, 3.058778494735283, 3.0821289837697874, 3.10547947280429, 3.128829961838793, 3.1521804508732965, 3.175530939907799, 3.198881428942303, 3.2222319179768055, 3.245582407011309, 3.268932896045812, 3.2922833850803146, 3.315633874114819, 3.3389843631493212, 3.3623348521838246, 3.385685341218328, 3.4090358302528303, 3.4323863192873345, 3.455736808321838, 3.4790872973563403, 3.5024377863908436, 3.525788275425346, 3.54913876445985, 3.5724892534943535, 3.595839742528856, 3.6191902315633593, 3.6425407205978617, 3.665891209632366, 3.6892416986668692, 3.7125921877013717, 3.735942676735875, 3.7592931657703774, 3.7826436548048816, 3.805994143839385, 3.8293446328738874, 3.8526951219083907, 3.876045610942894, 3.8993960999773973, 3.9227465890119007, 3.946097078046403, 3.9694475670809064, 3.9927980561154097, 4.016148545149913, 4.0394990341844155, 4.06284952321892, 4.086200012253422, 4.1095505012879245, 4.132900990322429, 4.156251479356931, 4.179601968391435, 4.20295245742594, 4.226302946460442, 4.2496534354949445, 4.273003924529447, 4.296354413563951, 4.3197049025984535, 4.343055391632956, 4.36640588066746, 4.389756369701963, 4.413106858736467, 4.436457347770971, 4.459807836805473, 4.483158325839976, 4.50650881487448, 4.5298593039089825, 4.553209792943485, 4.576560281977987, 4.599910771012492, 4.623261260046994, 4.646611749081498, 4.669962238116002, 4.693312727150505, 4.716663216185007, 4.7400137052195115, 4.763364194254014, 4.786714683288516, 4.8100651723230206, 4.833415661357523, 4.856766150392025, 4.88011663942653, 4.903467128461034, 4.926817617495536, 4.950168106530039, 4.973518595564543, 4.996869084599045, 5.020219573633548, 5.043570062668052, 5.066920551702554, 5.090271040737059, 5.113621529771563, 5.136972018806065, 5.160322507840568, 5.18367299687507, 5.207023485909574, 5.230373974944077, 5.253724463978579, 5.277074953013083, 5.300425442047586, 5.32377593108209, 5.347126420116594, 5.370476909151097, 5.393827398185599, 5.4171778872201015, 5.440528376254606, 5.463878865289108, 5.487229354323611, 5.510579843358115, 5.533930332392617, 5.557280821427121, 5.580631310461626, 5.603981799496128, 5.6273322885306305, 5.650682777565135, 5.674033266599637, 5.69738375563414, 5.720734244668642, 5.744084733703146, 5.767435222737649, 5.790785711772153, 5.814136200806657, 5.8374866898411595, 5.860837178875662, 5.884187667910166, 5.9075381569446686, 5.930888645979171, 5.954239135013675, 5.977589624048178, 6.00094011308268, 6.024290602117184, 6.0476410911516885, 6.070991580186191, 6.094342069220693, 6.1176925582551975, 6.1410430472897, 6.164393536324202, 6.187744025358707, 6.211094514393209, 6.2344450034277115, 6.2577954924622174, 6.28114598149672, 6.304496470531222, 6.327846959565725, 6.351197448600229, 6.374547937634731, 6.397898426669234, 6.421248915703738, 6.4445994047382404, 6.467949893772745, 6.491300382807249, 6.514650871841751, 6.538001360876254, 6.561351849910758, 6.58470233894526, 6.608052827979763, 6.631403317014265, 6.654753806048769, 6.678104295083272, 6.701454784117776, 6.72480527315228, 6.748155762186783, 6.771506251221285, 6.794856740255789, 6.818207229290292, 6.841557718324794, 6.864908207359297, 6.888258696393801, 6.911609185428303, 6.9349596744628075, 6.958310163497312, 6.981660652531814, 7.0050111415663165, 7.028361630600821, 7.051712119635323, 7.075062608669826, 7.09841309770433, 7.121763586738832, 7.145114075773335, 7.168464564807839, 7.191815053842343, 7.2151655428768455, 7.238516031911348, 7.261866520945852, 7.285217009980355, 7.308567499014857, 7.331917988049361, 7.355268477083864, 7.378618966118366, 7.401969455152872, 7.4253199441873745, 7.448670433221877, 7.472020922256379, 7.495371411290884, 7.518721900325386, 7.542072389359888, 7.565422878394393, 7.588773367428895, 7.6121238564633975, 7.6354743454979035, 7.658824834532406], \"xaxis\": \"x\", \"y\": [0.008437840741525485, 0.008769082774275004, 0.009099560948346857, 0.00942862222820709, 0.009755662845930152, 0.01008013886341529, 0.010401576693425561, 0.010719583437297392, 0.011033856889230077, 0.011344195051550324, 0.01165050500268027, 0.011952810960091978, 0.012251261384608103, 0.012546134980217517, 0.012837845455214362, 0.013126944925912777, 0.013414125863276664, 0.013700221505227154, 0.013986204682705996, 0.014273185035196513, 0.014562404620630185, 0.014855231954626682, 0.015153154543937312, 0.015457770007850138, 0.015770775908214615, 0.016093958432725583, 0.0164291800963035, 0.016778366641053487, 0.017143493325752143, 0.017526570800644695, 0.017929630762279297, 0.01835471157612844, 0.018803844042052664, 0.01927903745968761, 0.019782266128257325, 0.020315456389023025, 0.02088047428964293, 0.02147911391937647, 0.02211308643365073, 0.022784009757410042, 0.023493398930278665, 0.024242657034209712, 0.025033066627173955, 0.025865781595581193, 0.026741819334313282, 0.02766205316698781, 0.028627204930554075, 0.02963783766739737, 0.03069434839428524, 0.03179696094988056, 0.03294571895998049, 0.03414047900063636, 0.03538090408213828, 0.036666457619580976, 0.03799639809633553, 0.03936977466315226, 0.040785423945793105, 0.04224196835613954, 0.043737816213984954, 0.04527116398781824, 0.046840000951849974, 0.04844211653275912, 0.05007511058304661, 0.05173640676889504, 0.053423269199950586, 0.05513282235788383, 0.05686207430180401, 0.058607943043864116, 0.060367285900296996, 0.06213693153449898, 0.06391371432260042, 0.06569451059123675, 0.06747627620488404, 0.06925608491885986, 0.0710311668663492, 0.0727989465155887, 0.07455707941816467, 0.07630348707220952, 0.07803638924547752, 0.07975433314257205, 0.08145621885708747, 0.08314132062162327, 0.08480930345445688, 0.08646023489860714, 0.08809459165413845, 0.08971326101462777, 0.09131753713037256, 0.09290911223069974, 0.09449006304231435, 0.09606283273683408, 0.09763020882566885, 0.09919529749179062, 0.10076149490379305, 0.10233245609659519, 0.10391206202444128, 0.10550438539537609, 0.10711365588258544, 0.1087442252779673, 0.11040053310862075, 0.11208707317966113, 0.11380836143930846, 0.11556890548724325, 0.11737317596763866, 0.11922558000695856, 0.12113043677643268, 0.12309195518276209, 0.12511421362053737, 0.12720114165818638, 0.12935650347773603, 0.13158388284857425, 0.13388666938755192, 0.13626804584253113, 0.13873097613374769, 0.14127819389655297, 0.14391219128930613, 0.14663520786007364, 0.14944921930382096, 0.15235592598613207, 0.15535674115827322, 0.15845277883962244, 0.16164484139513868, 0.16493340688576316, 0.1683186163166187, 0.17180026095006606, 0.17537776988667694, 0.1790501981459272, 0.18281621549904103, 0.18667409631839474, 0.19062171071094777, 0.19465651719732036, 0.19877555718367013, 0.20297545145090803, 0.20725239885582664, 0.2116021774022327, 0.21602014779831302, 0.22050125957036004, 0.22504005975397365, 0.2296307041332591, 0.23426697094775495, 0.23894227693726297, 0.24364969554777072, 0.2483819770785949, 0.25313157051301005, 0.25789064674310774, 0.2626511228755174, 0.2674046872888025, 0.2721428251065708, 0.276856843753093, 0.28153789827087633, 0.2861770161021829, 0.29076512106876773, 0.29529305632561054, 0.2997516061143655, 0.3041315161995739, 0.30842351293400855, 0.3126183209671907, 0.3167066796812575, 0.32067935850884066, 0.3245271713561747, 0.32824099041889204, 0.3318117597354773, 0.3352305088717586, 0.3384883671668364, 0.3415765789944964, 0.34448652050260853, 0.34720971828500113, 0.3497378704148379, 0.3520628702253005, 0.35417683316256604, 0.3560721269584698, 0.35774140527730314, 0.3591776448849314, 0.36037418627144563, 0.36132477753400144, 0.36202362119788684, 0.3624654235250771, 0.36264544573467905, 0.3625595564428513, 0.3622042845250963, 0.361576871515134, 0.3606753225853168, 0.35949845510672945, 0.3580459437650857, 0.35631836121286464, 0.35431721326964544, 0.35204496774121613, 0.3495050760127733, 0.3467019866806314, 0.3436411506175832, 0.340329017016071, 0.3367730201165774, 0.3329815565015712, 0.32896395301306286, 0.32473042552927, 0.3202920290079645, 0.31566059936586477, 0.31084868791038, 0.305869489168093, 0.3007367630600993, 0.29546475245515463, 0.2900680971856831, 0.28456174563820585, 0.27896086502875794, 0.27328075144633507, 0.2675367406952138, 0.26174412089280324, 0.25591804768680054, 0.2500734628477749, 0.2442250168751424, 0.2383869961303032, 0.2325732548851013, 0.22679715255110333, 0.22107149623967143, 0.21540848869810816, 0.20981968157639289, 0.20431593390469538, 0.1989073756055968, 0.19360337582764311, 0.18841251586857596, 0.18334256645651079, 0.1784004691739898, 0.17359232184095422, 0.16892336771548794, 0.16439798842242634, 0.16001970057599488, 0.15579115611985864, 0.15171414646253634, 0.14778961053450732, 0.14401764693222, 0.1403975303407151, 0.13692773243845124, 0.13360594748342725, 0.13042912275795135, 0.1273934940101354, 0.12449462597399615, 0.12172745797814861, 0.11908635456750484, 0.11656516096566923, 0.11415726310097936, 0.11185565180984752, 0.10965299072096915, 0.10754168721696875, 0.10551396576999984, 0.1035619428584159, 0.10167770259629556, 0.09985337214930756, 0.0980811959716471, 0.09635360788138445, 0.09466329999675982, 0.09300328758419123, 0.09136696891979153, 0.08974817933905987, 0.0881412387424675, 0.086540991935651, 0.08494284130905297, 0.083342771499869, 0.08173736582549009, 0.08012381442848394, 0.07849991422462771, 0.07686406089373624, 0.0752152332942989, 0.07355297081375978, 0.07187734428356718, 0.07018892118915873, 0.0684887259877122, 0.06677819640912819, 0.06505913665731092, 0.06333366844895069, 0.06160418082583874, 0.05987327965499962, 0.05814373768987147, 0.05641844600710569, 0.05470036755944876, 0.05299249349803643, 0.0512978028199947, 0.049619225792339974, 0.0479596114937328, 0.04632169970457715, 0.04470809726608459, 0.04312125892288903, 0.041563472564032714, 0.040036848685772536, 0.03854331381849575, 0.0370846075905362, 0.035662283044913236, 0.03427770978167035, 0.032932079468867316, 0.0316264132493167, 0.03036157056743913, 0.029138258950412617, 0.027957044299106937, 0.026818361275874256, 0.025722523416684427, 0.024669732642766184, 0.02366008790017386, 0.022693592712826744, 0.02177016149385014, 0.020889624519801985, 0.020051731531016276, 0.019256153977351934, 0.018502485980779543, 0.01779024413331674, 0.01711886628986035, 0.016487709549708997, 0.015896047647456685, 0.015343067993131272, 0.014827868612811447, 0.014349455244541325, 0.013906738840426747, 0.01349853371475454, 0.01312355656039496, 0.012780426532327721, 0.012467666568672743, 0.012183706086995465, 0.011926885157832736, 0.011695460219321902, 0.011487611357495537, 0.011301451137192454, 0.011135034929567066, 0.010986372644729533, 0.01085344174292871, 0.010734201365622099, 0.010626607399390198, 0.010528628261472156, 0.010438261176141663, 0.010353548696507833, 0.010272595216807482, 0.010193583215929107, 0.010114788973747934, 0.01003459750772436, 0.009951516487901005, 0.00986418890361677, 0.009771404274554996, 0.009672108221707445, 0.009565410239964163, 0.009450589542786488, 0.009327098880213264, 0.009194566263696146, 0.009052794564359144, 0.008901758984637033, 0.008741602436283987, 0.008572628889903414, 0.008395294791906299, 0.008210198673675902, 0.008018069104262723, 0.007819751161771282, 0.007616191619400069, 0.007408423059588946, 0.007197547143707262, 0.006984717275034814, 0.006771120899361999, 0.006557961690344289, 0.006346441865818596, 0.006137744876719192, 0.005933018702154136, 0.005733359972805713, 0.0055397991303286365, 0.005353286813097678, 0.005174681638799545, 0.005004739532289448, 0.00484410472318515, 0.004693302512208011, 0.004552733878672636, 0.004422671974154933, 0.004303260519617168, 0.004194514095524209, 0.004096320287132965, 0.004008443620557035, 0.003930531199771696, 0.003862119930791922, 0.003802645197172359, 0.0037514508310687138, 0.003707800206666444, 0.003670888268098652, 0.003639854292279245, 0.003613795178571092, 0.0035917790520471993, 0.0035728589653930788, 0.003556086486291425, 0.0035405249624196012, 0.0035252622649067935, 0.0035094228231076626, 0.0034921787786543566, 0.0034727601046862988, 0.0034504635566029334, 0.003424660343257791, 0.003394802431780978, 0.0033604274247087, 0.003321161974306012, 0.0032767237253673626, 0.0032269218038336023, 0.0031716558937448795, 0.003110913968846069, 0.0030447687670967522, 0.0029733731159783533, 0.002896954233460711, 0.002815807143479915, 0.0027302873555548057, 0.0026408029655783853, 0.0025478063387944024, 0.0024517855365270673, 0.002353255645473533, 0.00225275016247717, 0.002150812578927802, 0.002047988297601284, 0.0019448170012266583, 0.0018418255767666462, 0.0017395216827574879, 0.0016383880295319354, 0.0015388774242010028, 0.0014414086143410365, 0.0013463629468419918, 0.0012540818417075997, 0.0011648650650994837, 0.0010789697718755205, 0.000996610275522236, 0.0009179584928951958, 0.0008431450026730183, 0.0007722606499522901, 0.0007053586249569832, 0.0006424569413482933, 0.0005835412389922425, 0.000528567837125495, 0.0004774669664728284, 0.00043014611280503946, 0.0003864934094584823, 0.0003463810222317253, 0.0003096684765926071, 0.00027620588403721324, 0.0002458370315178583, 0.00021840230489256562, 0.00019374142415679897, 0.0001716959746353789, 0.0001521117242001131, 0.00013484072182558805, 0.00011974317731778512, 0.00010668912579130224, 9.555988340044223e-05, 8.624930294212815e-05, 7.86648392620181e-05, 7.272843494790517e-05, 6.837723664355629e-05, 6.556415153485168e-05, 6.425825223510888e-05, 6.444503652594313e-05, 6.612654630057861e-05, 6.932134772136587e-05, 7.40643721596089e-05, 8.04066150528168e-05, 8.841468751091256e-05, 9.81702134450325e-05, 0.00010976906329169777, 0.00012332041416569, 0.00013894562559180467, 0.00015677691992182108, 0.00017695585720719535, 0.00019963159572233328, 0.000224958931550536, 0.0002530961136666443, 0.00028420243476492296, 0.0003184356026513733, 0.00035594890228289014, 0.0003968881644016657, 0.00044138856306499076, 0.0004895712710648563, 0.0005415400091011881, 0.0005973775314279442, 0.0006571420973254311, 0.000720863983944346, 0.00078854210158874, 0.0008601407771264543, 0.0009355867747122722, 0.0010147666251699742, 0.0010975243360154638, 0.001183659553053009, 0.001272926241616976, 0.0013650319507826786, 0.0014596377172015648, 0.0015563586566536215, 0.0016547652810366532, 0.0017543855664715077, 0.0018547077846966182, 0.001955184095215326, 0.0020552348800571686, 0.002154253786877992, 0.0022516134298489116, 0.002346671681792473, 0.0024387784757521637, 0.002527283020065282, 0.0026115413184749853, 0.0026909238762618257, 0.002764823465154732, 0.0028326628142012157, 0.0028939020910720625, 0.0029480460386113413, 0.0029946506348965665, 0.0030333291516398244, 0.003063757495339965, 0.003085678728003079, 0.003098906679212785], \"yaxis\": \"y\"}, {\"legendgroup\": \"Lasso\", \"marker\": {\"color\": \"rgb(255, 127, 14)\"}, \"mode\": \"lines\", \"name\": \"Lasso\", \"showlegend\": false, \"type\": \"scatter\", \"x\": [-4.424263598198707, -4.404237122887267, -4.384210647575827, -4.364184172264387, -4.344157696952946, -4.324131221641506, -4.304104746330066, -4.284078271018626, -4.264051795707186, -4.244025320395745, -4.223998845084306, -4.203972369772865, -4.1839458944614245, -4.163919419149985, -4.143892943838544, -4.123866468527105, -4.103839993215664, -4.083813517904224, -4.063787042592784, -4.0437605672813435, -4.023734091969903, -4.003707616658463, -3.983681141347023, -3.9636546660355827, -3.9436281907241426, -3.9236017154127025, -3.903575240101262, -3.883548764789822, -3.863522289478382, -3.8434958141669417, -3.823469338855501, -3.803442863544061, -3.783416388232621, -3.7633899129211805, -3.7433634376097404, -3.7233369622983004, -3.7033104869868603, -3.68328401167542, -3.6632575363639797, -3.6432310610525396, -3.6232045857410995, -3.603178110429659, -3.583151635118219, -3.563125159806779, -3.5430986844953387, -3.5230722091838986, -3.503045733872458, -3.483019258561018, -3.462992783249578, -3.4429663079381374, -3.4229398326266978, -3.4029133573152572, -3.3828868820038167, -3.3628604066923766, -3.3428339313809365, -3.3228074560694965, -3.3027809807580564, -3.282754505446616, -3.262728030135176, -3.2427015548237357, -3.222675079512295, -3.2026486042008555, -3.182622128889415, -3.162595653577975, -3.142569178266535, -3.1225427029550943, -3.102516227643654, -3.082489752332214, -3.0624632770207736, -3.0424368017093335, -3.0224103263978934, -3.002383851086453, -2.9823573757750133, -2.9623309004635727, -2.9423044251521326, -2.9222779498406926, -2.9022514745292525, -2.8822249992178124, -2.862198523906372, -2.8421720485949318, -2.8221455732834917, -2.802119097972051, -2.782092622660611, -2.762066147349171, -2.7420396720377305, -2.7220131967262904, -2.7019867214148503, -2.6819602461034098, -2.66193377079197, -2.6419072954805296, -2.6218808201690895, -2.6018543448576494, -2.581827869546209, -2.561801394234769, -2.5417749189233287, -2.521748443611888, -2.501721968300448, -2.481695492989008, -2.461669017677568, -2.441642542366128, -2.421616067054688, -2.4015895917432473, -2.381563116431807, -2.3615366411203667, -2.3415101658089266, -2.3214836904974865, -2.301457215186046, -2.2814307398746063, -2.2614042645631662, -2.241377789251726, -2.2213513139402856, -2.2013248386288455, -2.1812983633174055, -2.161271888005965, -2.141245412694525, -2.1212189373830848, -2.1011924620716447, -2.081165986760204, -2.061139511448764, -2.041113036137324, -2.0210865608258834, -2.0010600855144434, -1.9810336102030033, -1.9610071348915632, -1.9409806595801227, -1.9209541842686826, -1.9009277089572425, -1.8809012336458024, -1.860874758334362, -1.8408482830229218, -1.8208218077114817, -1.8007953324000412, -1.780768857088601, -1.760742381777161, -1.740715906465721, -1.7206894311542804, -1.7006629558428403, -1.6806364805314002, -1.6606100052199597, -1.6405835299085196, -1.6205570545970795, -1.6005305792856395, -1.580504103974199, -1.5604776286627589, -1.5404511533513188, -1.5204246780398782, -1.5003982027284382, -1.480371727416998, -1.460345252105558, -1.4403187767941175, -1.4202923014826778, -1.4002658261712377, -1.3802393508597977, -1.3602128755483571, -1.340186400236917, -1.320159924925477, -1.3001334496140364, -1.2801069743025963, -1.2600804989911563, -1.2400540236797162, -1.2200275483682756, -1.2000010730568356, -1.1799745977453955, -1.159948122433955, -1.1399216471225149, -1.1198951718110748, -1.0998686964996347, -1.0798422211881942, -1.059815745876754, -1.039789270565314, -1.0197627952538735, -0.9997363199424334, -0.9797098446309933, -0.9596833693195532, -0.9396568940081127, -0.9196304186966726, -0.8996039433852325, -0.8795774680737924, -0.8595509927623519, -0.8395245174509118, -0.8194980421394717, -0.7994715668280312, -0.7794450915165911, -0.759418616205151, -0.739392140893711, -0.7193656655822704, -0.6993391902708304, -0.6793127149593903, -0.6592862396479497, -0.6392597643365097, -0.6192332890250696, -0.5992068137136295, -0.579180338402189, -0.5591538630907493, -0.5391273877793092, -0.5191009124678692, -0.49907443715642863, -0.47904796184498855, -0.45902148653354846, -0.43899501122210793, -0.4189685359106683, -0.39894206059922777, -0.37891558528778724, -0.3588891099763476, -0.33886263466490707, -0.31883615935346654, -0.298809684042026, -0.2787832087305864, -0.25875673341914585, -0.2387302581077062, -0.21870378279626568, -0.19867730748482604, -0.17865083217338462, -0.15862435686194498, -0.13859788155050534, -0.11857140623906481, -0.09854493092762517, -0.07851845561618465, -0.058491980304745006, -0.03846550499330359, -0.01843902968186395, 0.0015874456295765782, 0.021613920941016218, 0.041640396252456746, 0.061666871563896386, 0.08169334687533691, 0.10171982218677744, 0.12174629749821797, 0.1417727728096576, 0.16179924812109814, 0.18182572343253778, 0.2018521987439783, 0.22187867405541795, 0.24190514936685936, 0.261931624678299, 0.28195809998973953, 0.30198457530117917, 0.3220110506126197, 0.34203752592405934, 0.36206400123549987, 0.3820904765469404, 0.4021169518583809, 0.42214342716982056, 0.4421699024812611, 0.46219637779270073, 0.48222285310414126, 0.5022493284155809, 0.5222758037270223, 0.542302279038462, 0.5623287543499025, 0.5823552296613421, 0.6023817049727827, 0.6224081802842223, 0.6424346555956628, 0.6624611309071025, 0.6824876062185439, 0.7025140815299835, 0.7225405568414232, 0.7425670321528637, 0.7625935074643033, 0.7826199827757438, 0.8026464580871835, 0.8226729333986249, 0.8426994087100645, 0.8627258840215051, 0.8827523593329447, 0.9027788346443852, 0.9228053099558249, 0.9428317852672654, 0.9628582605787059, 0.9828847358901465, 1.002911211201586, 1.0229376865130266, 1.0429641618244663, 1.0629906371359068, 1.0830171124473464, 1.1030435877587879, 1.1230700630702275, 1.143096538381668, 1.1631230136931077, 1.1831494890045482, 1.2031759643159878, 1.2232024396274284, 1.243228914938869, 1.2632553902503094, 1.283281865561749, 1.3033083408731896, 1.3233348161846292, 1.3433612914960698, 1.3633877668075094, 1.3834142421189508, 1.4034407174303904, 1.423467192741831, 1.4434936680532706, 1.4635201433647111, 1.4835466186761508, 1.5035730939875913, 1.523599569299031, 1.5436260446104724, 1.563652519921912, 1.5836789952333516, 1.6037054705447922, 1.6237319458562318, 1.6437584211676723, 1.663784896479112, 1.6838113717905534, 1.703837847101993, 1.7238643224134336, 1.7438907977248732, 1.7639172730363137, 1.7839437483477534, 1.803970223659194, 1.8239966989706344, 1.844023174282075, 1.8640496495935146, 1.8840761249049551, 1.9041026002163948, 1.9241290755278353, 1.944155550839275, 1.9641820261507164, 1.984208501462156, 2.0042349767735965, 2.024261452085036, 2.0442879273964767, 2.0643144027079163, 2.084340878019357, 2.1043673533307974, 2.124393828642238, 2.1444203039536776, 2.164446779265118, 2.1844732545765577, 2.2044997298879982, 2.224526205199438, 2.2445526805108793, 2.264579155822319, 2.2846056311337595, 2.304632106445199, 2.3246585817566396, 2.3446850570680793, 2.36471153237952, 2.3847380076909603, 2.404764483002401, 2.4247909583138405, 2.44481743362528, 2.4648439089367207, 2.4848703842481603, 2.504896859559601, 2.5249233348710405, 2.544949810182482, 2.5649762854939215, 2.585002760805362, 2.6050292361168017, 2.6250557114282422, 2.645082186739682, 2.6651086620511224, 2.685135137362563, 2.7051616126740035, 2.725188087985443, 2.7452145632968836, 2.7652410386083233, 2.785267513919764, 2.8052939892312034, 2.825320464542645, 2.8453469398540845, 2.865373415165525, 2.8853998904769647, 2.905426365788405, 2.925452841099845, 2.9454793164112854, 2.965505791722726, 2.9855322670341664, 3.005558742345606, 3.0255852176570466, 3.045611692968486, 3.0656381682799267, 3.0856646435913664, 3.105691118902808, 3.1257175942142474, 3.145744069525688, 3.1657705448371276, 3.185797020148568, 3.2058234954600078, 3.2258499707714483, 3.245876446082889, 3.2659029213943294, 3.285929396705769, 3.3059558720172086, 3.325982347328649, 3.346008822640089, 3.3660352979515293, 3.386061773262969, 3.4060882485744104, 3.42611472388585, 3.4461411991972906, 3.46616767450873, 3.4861941498201707, 3.5062206251316104, 3.526247100443051, 3.5462735757544914, 3.566300051065932, 3.5863265263773707, 3.606353001688812, 3.6263794770002518, 3.646405952311693, 3.666432427623133, 3.6864589029345725, 3.706485378246012, 3.7265118535574535, 3.746538328868893, 3.7665648041803346, 3.786591279491774, 3.806617754803214, 3.8266442301146553, 3.846670705426093, 3.8666971807375345, 3.886723656048974, 3.9067501313604156, 3.9267766066718552, 3.946803081983295, 3.9668295572947363, 3.986856032606176, 4.006882507917616, 4.026908983229055, 4.046935458540497, 4.066961933851938, 4.086988409163376, 4.107014884474817, 4.127041359786257, 4.147067835097697, 4.167094310409136, 4.187120785720578, 4.207147261032019, 4.227173736343457, 4.247200211654898, 4.267226686966338, 4.287253162277779, 4.307279637589217, 4.327306112900659, 4.3473325882121, 4.36735906352354, 4.387385538834979, 4.407412014146419, 4.4274384894578604, 4.4474649647693, 4.46749144008074, 4.487517915392181, 4.507544390703621, 4.527570866015062, 4.5475973413265, 4.5676238166379415, 4.587650291949381, 4.6076767672608225, 4.627703242572262, 4.647729717883702, 4.667756193195143, 4.687782668506583, 4.7078091438180225, 4.727835619129462, 4.747862094440904, 4.767888569752345, 4.787915045063783, 4.807941520375224, 4.827967995686664, 4.847994470998105, 4.868020946309543, 4.888047421620985, 4.908073896932426, 4.928100372243866, 4.948126847555305, 4.968153322866745, 4.988179798178186, 5.008206273489624, 5.028232748801066, 5.048259224112507, 5.068285699423947, 5.088312174735386, 5.108338650046826, 5.128365125358267, 5.148391600669707, 5.168418075981147, 5.188444551292588, 5.208471026604028, 5.228497501915469, 5.248523977226907, 5.268550452538348, 5.288576927849788, 5.3086034031612295, 5.328629878472669, 5.348656353784109, 5.36868282909555, 5.38870930440699, 5.4087357797184294, 5.428762255029869, 5.4487887303413105, 5.468815205652752, 5.48884168096419, 5.508868156275631, 5.528894631587071, 5.548921106898512, 5.56894758220995], \"xaxis\": \"x\", \"y\": [0.008231159467868681, 0.008170648324910332, 0.007991770915025658, 0.0077023019415914835, 0.007314574341882738, 0.00684460802579819, 0.006311013533057744, 0.005733774991146148, 0.005133022713081559, 0.00452789900378609, 0.0039356029893731015, 0.0033706746719643467, 0.0028445488662282373, 0.0023653802450995993, 0.001938114975348073, 0.0015647649675472595, 0.0012448289990796423, 0.000975801058211562, 0.0007537093066617641, 0.0005736374233151167, 0.0004301917526689475, 0.0003178906023459837, 0.0002314644528408431, 0.00016606645825431536, 0.00011740066272980213, 8.178057860886364e-05, 5.6133331032818595e-05, 3.796491708240646e-05, 2.5300849429434822e-05, 1.6614173970756255e-05, 1.0750122440602278e-05, 6.8539206647902836e-06, 4.305818711933607e-06, 2.665406262209011e-06, 1.6257811806413038e-06, 9.771287139296125e-07, 5.786719943928326e-07, 3.3767908229911364e-07, 1.9416317205252417e-07, 1.1000706134552177e-07, 6.141370147774433e-08, 3.3783215940037454e-08, 1.8311659748882696e-08, 9.780148211360687e-09, 5.146999994627796e-09, 2.6690327615529283e-09, 1.3637810352517141e-09, 6.866357232408141e-10, 3.406427484364641e-10, 1.6651866146834814e-10, 8.020800291764734e-11, 3.8068313343603465e-11, 1.7803334499707445e-11, 8.204168290369655e-12, 3.725500518647622e-12, 1.6675337536487939e-12, 7.369065385696917e-13, 3.245127277441356e-13, 1.4975396858387272e-13, 8.953041896212168e-14, 1.0035392135933714e-13, 1.9009627620974497e-13, 4.231416105499798e-13, 9.619267545536665e-13, 2.168559822567911e-12, 4.822555457333881e-12, 1.0569595789685251e-11, 2.2826807082207402e-11, 4.857641981525509e-11, 1.0185850183018905e-10, 2.1045543548674176e-10, 4.2846369444187245e-10, 8.59525799814146e-10, 1.6990056058621493e-09, 3.309190065719393e-09, 6.350963507457364e-09, 1.2010152668498728e-08, 2.237940027428062e-08, 4.1090305051818346e-08, 7.433978353081052e-08, 1.325239049014217e-07, 2.3278669878408982e-07, 4.0291469222942313e-07, 6.871618688513619e-07, 1.1547713633211495e-06, 1.9121588333894807e-06, 3.119916191997433e-06, 5.01594651904663e-06, 7.946097176075205e-06, 1.240354572059592e-05, 1.9077823962124225e-05, 2.8913643879479986e-05, 4.317852708767606e-05, 6.353657861088766e-05, 9.212358521949427e-05, 0.00013161604706537708, 0.00018528397542694406, 0.00025701465219421326, 0.0003512925265395159, 0.0004731196041062394, 0.0006278616864718771, 0.0008210092043558006, 0.0010578475270764508, 0.001343040562981314, 0.0016801427773684987, 0.0020710675038942226, 0.002515552148208981, 0.0030106717019411995, 0.003550458834248108, 0.004125689767524111, 0.004723888733130872, 0.005329589462423143, 0.005924870453633861, 0.0064901534723757984, 0.007005224850748267, 0.007450410430422764, 0.007807811531316344, 0.008062494855446856, 0.008203526489736901, 0.008224750348681814, 0.008125233853275756, 0.007909335893636469, 0.007586390175100818, 0.007170035996267196, 0.006677263305991512, 0.006127265141849535, 0.005540205200122399, 0.004936010021399028, 0.004333284668274205, 0.003748430069574896, 0.003195012865373071, 0.002683408646596842, 0.0022207108983888367, 0.0018108740230190832, 0.0014550417686129045, 0.0011520032148247834, 0.0008987169592810883, 0.0006908491318453903, 0.0005232805296821487, 0.00039055045262247106, 0.0002872177518187186, 0.00020813155861192518, 0.00014861400531931802, 0.0001045643930192559, 7.24985985867969e-05, 4.9539316902288124e-05, 3.337251736346058e-05, 2.218387482141039e-05, 1.4586524827617764e-05, 9.548816604952724e-06, 6.328190291072277e-06, 4.415142273501466e-06, 3.4895872824057045e-06, 3.3907938610811113e-06, 4.101396258598706e-06, 5.745652225762376e-06, 8.601972242635708e-06, 1.3129626043434196e-05, 2.0009270541290092e-05, 3.0196385414366292e-05, 4.498572319387801e-05, 6.608340331274157e-05, 9.568130233722646e-05, 0.00013652601573138924, 0.00019197211683100255, 0.0002660070830892003, 0.00036323359780902095, 0.0004887945633179478, 0.0006482276987153655, 0.0008472405788835309, 0.00109140372304223, 0.0013857688288836584, 0.0017344309718682611, 0.002140066522696634, 0.0026034911627213692, 0.00312329284121503, 0.003695600898472259, 0.0043140532644107875, 0.00497001776599434, 0.005653111425525845, 0.006352044949927747, 0.00705580170078175, 0.007755145979726592, 0.008444450030852532, 0.009123838382549963, 0.009801676629453446, 0.010497481792107499, 0.011245401659344746, 0.01209849483209626, 0.013134129565760247, 0.014460889721355884, 0.01622740599316438, 0.018633491239180757, 0.021943819335032522, 0.026504118828122144, 0.0327594352191454, 0.041273443914589196, 0.05274708858697891, 0.0680340274053505, 0.08814958026620809, 0.1142692099404351, 0.1477121970950346, 0.18990625804183045, 0.24232957041055453, 0.30642813836733396, 0.38350868662420695, 0.4746102445463787, 0.5803610479544746, 0.7008309775730359, 0.8353929735015378, 0.982609145152043, 1.1401580750860847, 1.3048186422937793, 1.4725223286506186, 1.63848048387814, 1.7973858170075998, 1.943679198720944, 2.071864702058061, 2.1768488087452975, 2.2542749473634425, 2.300822857505494, 2.3144441464987167, 2.2945107794981072, 2.2418615567585785, 2.1587418689332525, 2.048642866218668, 1.9160562184457646, 1.7661685971564975, 1.6045249212359824, 1.436690785433788, 1.2679423685198197, 1.1030070137100076, 0.9458704795091208, 0.7996586709496531, 0.6665935964040755, 0.5480163219896821, 0.4444645084737501, 0.35578907027555673, 0.2812936082995747, 0.21988126610069378, 0.17019607205471554, 0.13074909422773195, 0.100023289463662, 0.076554296467407, 0.05898725851679423, 0.04611186857032519, 0.03687915242656119, 0.03040410192662576, 0.025958273579599365, 0.02295604936696916, 0.02093759063474722, 0.019550756934326213, 0.018533528149465964, 0.017697838432533353, 0.016915244050636845, 0.016104512164358008, 0.015221019110101174, 0.014247756880286695, 0.01318773203440581, 0.012057570291441652, 0.01088218600425567, 0.009690419555919438, 0.00851157630205403, 0.0073728139020673095, 0.006297322019036393, 0.005303224127771037, 0.004403111748573739, 0.00360410288556655, 0.0029083035796823413, 0.0023135471738890906, 0.0018142909881344663, 0.0014025636992059897, 0.001068876639561149, 0.0008030356420178189, 0.0005948140709725628, 0.0004344698007687435, 0.000313107324525376, 0.00022289990334952147, 0.00015719546037079948, 0.0001105341616017719, 7.860608396020316e-05, 5.817501382576383e-05, 4.6990211239310057e-05, 4.370274674522805e-05, 4.779739861810028e-05, 5.954550270134089e-05, 7.997881299316134e-05, 0.00011087948670252842, 0.00015477685240318848, 0.00021493780095325785, 0.0002953347045120381, 0.0004005730892828341, 0.0005357613302775995, 0.000706306896624553, 0.0009176285647565118, 0.0011747817226914197, 0.001482004236275947, 0.0018422026862310891, 0.002256411936061627, 0.0027232732967129754, 0.003238586029309796, 0.0037949915254481313, 0.004381847462552417, 0.004985339446534125, 0.005588860015265814, 0.006173660481238805, 0.0067197522721049755, 0.0072070045530701786, 0.00761635797326414, 0.007931054386475024, 0.008137772736517392, 0.008227564096096743, 0.008196494530075246, 0.00804593156479471, 0.007782445395129811, 0.007417335080765811, 0.006965827812283028, 0.006446031012652601, 0.005877738693869792, 0.005281202771535804, 0.004675976457688518, 0.004079921728825923, 0.0035084490161929566, 0.0029740284389241415, 0.0024859821218032167, 0.002050540066107453, 0.0016711204578181216, 0.0013487808117779527, 0.0010827793346720855, 0.0008711856309465764, 0.0007114848902450703, 0.000601128124805524, 0.0005379910357784196, 0.0005207141940449846, 0.000548906497226508, 0.0006232020072489127, 0.0007451675298024005, 0.0009170652805245993, 0.0011414824116689197, 0.0014208475948470905, 0.001756864401135545, 0.0021499014415842428, 0.0025983890609678284, 0.0030982802275345785, 0.003642637262674518, 0.00422140440551148, 0.004821417577326209, 0.005426686620784321, 0.006018962392105066, 0.00657857326689253, 0.007085485878253044, 0.007520516987262699, 0.007866601241791343, 0.008110006708904355, 0.008241388874763106, 0.008256585111143307, 0.008157074395389688, 0.007950058575009715, 0.0076481575753489005, 0.0072687468613592396, 0.006832996504878267, 0.006364693608613672, 0.005888941357140348, 0.00543082821966778, 0.005014151263740403, 0.004660261053711198, 0.004387075920197065, 0.004208294260204722, 0.004132818025859735, 0.004164390476339554, 0.004301446843339096, 0.0045371765385547195, 0.004859797534811881, 0.0052530446964494356, 0.005696871449631272, 0.006168356489798754, 0.0066427938196560645, 0.007094926466625815, 0.007500264338976268, 0.00783640840318803, 0.008084290532834408, 0.008229234315138195, 0.00826174891040915, 0.008177986132196403, 0.007979818753005139, 0.007674532438053768, 0.007274160270759925, 0.00679452270527896, 0.006254062472035844, 0.005672580082222607, 0.005069979363331774, 0.004465123991763349, 0.0038748870862200277, 0.0033134497373174237, 0.002791874766261871, 0.0023179529989431503, 0.001896294353769916, 0.0015286175369675823, 0.0012141813722687995, 0.0009502978010692395, 0.0007328703846534881, 0.0005569110241198774, 0.0004169995530297686, 0.00030766383831282114, 0.00022367033075833568, 0.00016022539432023194, 0.00011309550616478507, 7.865935307888986e-05, 5.3907154548508916e-05, 3.64026885082769e-05, 2.422208483303023e-05, 1.5881100379730694e-05, 1.025984189540607e-05, 6.531181496942686e-06, 4.096696995047452e-06, 2.5320188816224166e-06, 1.5420236777557667e-06, 9.253502579661561e-07, 5.471573832675526e-07, 3.187934450040203e-07, 1.8301956016011405e-07, 1.0353248475141944e-07, 5.770942833324886e-08, 3.1696252121998905e-08, 1.715378879529074e-08, 9.147516672692363e-09, 4.806593183512121e-09, 2.4886425831343008e-09, 1.2696344421177884e-09, 6.382427174497889e-10, 3.161433476385935e-10, 1.5430259909020067e-10, 7.420847218480574e-11, 3.516616663983148e-11, 1.6420606867356016e-11, 7.555334408647061e-12, 3.4258028711647975e-12, 1.5316719734940185e-12, 6.774695641876096e-13, 3.0192785133460167e-13, 1.4879306348893374e-13, 1.1019823458268105e-13, 1.5844083417603563e-13, 3.2810944300271303e-13, 7.383735290402491e-13, 1.6681231812548898e-12, 3.725733820984306e-12, 8.204259260009216e-12, 1.7803369443158968e-11, 3.8068326566607844e-11, 8.020800784702742e-11, 1.66518663278678e-10, 3.4064274909144004e-10, 6.866357234742784e-10, 1.3637810353337702e-09, 2.669032761581338e-09, 5.146999994637561e-09, 9.780148211363756e-09, 1.831165974888442e-08, 3.378321594004081e-08, 6.141370147774336e-08, 1.1000706134552554e-07, 1.9416317205252764e-07, 3.3767908229912984e-07, 5.786719943928234e-07, 9.771287139296263e-07, 1.6257811806413988e-06, 2.6654062622091244e-06, 4.305818711933668e-06, 6.853920664790375e-06, 1.0750122440602554e-05, 1.661417397075584e-05, 2.5300849429435117e-05, 3.7964917082407333e-05, 5.613333103281984e-05, 8.178057860886364e-05, 0.00011740066272980213, 0.00016606645825431867, 0.00023146445284084522, 0.0003178906023459837, 0.00043019175266895853, 0.0005736374233151215, 0.0007537093066617814, 0.0009758010582115546, 0.001244828999079651, 0.0015647649675472493, 0.0019381149753480965, 0.0023653802450995993, 0.002844548866228267, 0.003370674671964411, 0.003935602989373118, 0.004527899003786107, 0.00513302271308154, 0.005733774991146165, 0.00631101353305781, 0.00684460802579819, 0.0073145743418827755, 0.007702301941591495, 0.007991770915025679, 0.008170648324910332], \"yaxis\": \"y\"}, {\"legendgroup\": \"Ridge\", \"marker\": {\"color\": \"rgb(31, 119, 180)\", \"symbol\": \"line-ns-open\"}, \"mode\": \"markers\", \"name\": \"Ridge\", \"showlegend\": false, \"type\": \"scatter\", \"x\": [-3.9930691936846694, 5.037703251892813, -0.8618254501213931, -3.5181435000961754, -0.42469385713891583, 2.6812822014682887, -0.3053145831857478, 0.22547086629869817, -0.10313995513711038, -0.12233091116158867, 0.19802547403671392, -0.12096923597820107, -1.0307349960081436, 0.1605461666368979, 0.1885363955110899, -0.5453464132843986, 2.56059289449918, 0.5680348391888308, -0.08841057029678048, 1.2472505317253866, -2.1602307653956037, -1.0677409849345676, -0.7364849429178, -0.281120989977839, -0.4882475060998972, -0.1425576133235728, 0.1691084509361211, -2.052987586031357, -0.2281831351555582, 1.6303535359653873, 0.8247284958344278, 0.6917671103465183, 0.6339733263641741, 2.786627284213738, 1.6999498733488587, 0.21763941698389824, -0.4585414989724519, -1.8837289958894132, 1.783606012260569, -1.7389733928317335, -0.4024316624777796, 0.6134325242990593, 2.0043312211547573, 0.9351900064124232, 0.6522049111168535, -2.4074597277499756, -0.3926525240786689, -0.005285919488884197, 1.3906261964441204, -1.16160374242712, 0.8189254155612258, 1.0215379890425953, -2.6372219327165727, 0.9361208196448058, -0.04223649969148324, -1.9565464961934342, 0.2498577922466092, -2.3150305151601955, 1.6026187321075211, -2.3298528323422665, -0.018319414366761613, 1.2373129436137693, -2.163054716183569, 0.3874297846724736, 0.4948673663634891, 0.4341785024692597, 0.3968312310257109, -1.1540100751198472, -1.0653725203822437, -0.4275049160296205, -1.365749449372174, -0.36847947620004673, -1.35600323938286, 1.916141048296824, 0.4341785024692597, 0.5744090048161845, -0.7771061917845893, 0.40558274892224677, 0.2306420660933326, -1.897479084493812, 0.4612136639600589, 1.3590820283499767, -0.118061898311541, -0.06233611749630519, -0.07435451646738785, -2.8553645595291375, 0.3873635587263152, 1.0392987593972682, -0.16148829932389042, -0.4898593874157166, -0.9368997009385055, 0.15097206177052397, 2.1509718272367047, 2.3815017884042047, 0.729890873878335, 0.46119985083691545, -0.5850812205330701, -0.5766478514318014, -0.08427367234493005, -0.7326296025057144, 0.7799620757296865, 0.10732084989938562, 0.5339684840240013, 0.33179740827516546, 0.9623797379288848, -1.4091362541086316, -1.2291494337634024, 0.1442591082392501, 0.43317135964253384, 0.5838555717903364, 0.31585340498904046, -0.3478909774725082, 0.6189045066992711, -1.072691405662399, -0.7417059249629268, -0.12408193154475135, -0.11060035283742695, -0.3926525240786689, -0.5487481018652094, 1.9467143014387174, 0.8742526670258153, -2.098105545298246, 0.9757650198915989, -0.6980378887425671, -0.846464264519464, 1.6856988605524479, -0.018319414366761613, -0.10760176154624457, 7.6821753235669075, 0.1679699020065611, 0.4482517885923475, -0.19999585750766702, 1.7942833919555699, 1.2266152872656015, 0.8071214607482391, 1.1697608126388028, 0.6339733263641741, 0.41649375308344705, -0.3042877474622554, -1.6816675765689946, 1.098930257180784, -0.620509299172582, 1.1145049284259922, 2.3325865177493226, 0.21545201326464497, -0.6986593516111039, 1.0936996724139432, 0.9974315786161194, -1.4074303075202883, 1.2359178567007136, 0.4799698349156829, -1.4262491992915778, 4.006720858317878, -0.32232830466410856, -1.4404328017367554, -0.19442500937050355, 0.34179782382868096, -2.107840844595993, -0.4898593874157166, 1.9572274502485154, 2.11159715246153, -0.7683885279643999, 2.012642208218887, 0.5680348391888308, 1.1921230794713495, 1.878765026912748, -0.05006793217819561, -1.1465662192599964, 0.30000372094503136, 1.631937865542806, 0.5095374822855381, -1.5520388924206585, 0.2636482235894611, -1.207503102926233, -2.140077637836077, 0.8045344667770497, -2.09818117051142, 0.15322260147556, -1.8095174186696934, 1.2933493524941315, 0.3476080594534451, 0.32637191508077334, 1.8022382923921194, -0.7846170533599949, -0.04833304101050122, -1.033340534498502, 0.2588721030978778, 0.08418350533004881, 0.11381657692544295, -0.2784010220920443, -2.9148789948519926, -0.7162228698664279, -1.0989167937251116, -0.33719753779721345, 0.5744090048161845, -0.7661721021389547, 0.9965650814252208, 0.1605461666368979, 0.28572421857439845, 0.30634306349154566, 0.3873635587263152, 0.6415168134901809, 0.6917671103465183, -0.560483578001505, 0.6486327923858555, 0.6145561347052568, 0.8915657414661539, -0.6494825002618918, 0.2853938064383801, -1.5958345515656636, -0.3546946012768417, -0.9939621593370855, 0.005548225269836227, 0.24830801554546528, 3.8176466378032, -1.3797561092143633, 0.3817767514389995, 0.6194056372608912, 1.0699011290623537, 0.16328722908385954, -1.0166920313011372, 0.8394235955604227, -0.10730650303028788, 0.12140768004433317, -0.6919093726359064, 0.5071910575635987, -0.044724345661153755, -0.3343042673219786, -1.6159508819680055, 0.3441400520295499, 0.6145561347052568, -0.018319414366761613, -0.7623030730024106, -3.3571882637023105, -2.6385357025435616, -3.6274114127566284, -0.5383119878973247, 1.276605396008108, -1.5397432817499532, -1.4006379765014392, 0.3082487478987428, -0.023103033617198974, 0.27104136483307006, -0.4911880484915153, -0.14113324828182175, 0.18932121571117372, -0.5967101997755163, -0.22992584158205473, -0.20156557368945927, -0.33986446208973825, -0.06048041883936533, -0.13313491595793417, -0.16936953546208183, -0.6564774170443104, 1.5843929484363704, -0.3343042673219786, 0.8915657414661539, 0.06343382376951742, 1.9826221771151675, 2.3970167223708243, 0.37362588932358837, 0.6405990301821943, -0.4004375585173823, -0.8376852920111378, 0.7497945288485108, -1.9895537622618402, 0.47341989385753147, 2.986686803496607, 0.35179430152146873, 1.2866775739018028, 0.32698211095892477, 0.287330451974944, -0.5196881893484887, 2.099416771356479, 2.099416771356479, -2.001270841854587, -0.9832916621767456, -0.37683229797848194, -1.0166920313011372, -0.8746832953430036, -0.2671839173785, -0.5967101997755163, -0.11060035283742695, -2.0222122025762386, -1.3282205088683665, -0.22915228605723126, -2.6730265939248383, 3.5599727064032995, -1.66684941527111, -1.5409088940631233, 0.8915657414661539, 0.6486327923858555, -2.0060305527461213, 1.783606012260569], \"xaxis\": \"x\", \"y\": [\"Ridge\", \"Ridge\", \"Ridge\", \"Ridge\", \"Ridge\", \"Ridge\", \"Ridge\", \"Ridge\", \"Ridge\", \"Ridge\", \"Ridge\", \"Ridge\", \"Ridge\", \"Ridge\", \"Ridge\", \"Ridge\", \"Ridge\", \"Ridge\", \"Ridge\", \"Ridge\", \"Ridge\", \"Ridge\", \"Ridge\", \"Ridge\", \"Ridge\", \"Ridge\", \"Ridge\", \"Ridge\", \"Ridge\", \"Ridge\", \"Ridge\", \"Ridge\", \"Ridge\", \"Ridge\", \"Ridge\", \"Ridge\", \"Ridge\", \"Ridge\", \"Ridge\", \"Ridge\", \"Ridge\", \"Ridge\", \"Ridge\", \"Ridge\", \"Ridge\", \"Ridge\", \"Ridge\", \"Ridge\", \"Ridge\", \"Ridge\", \"Ridge\", \"Ridge\", \"Ridge\", \"Ridge\", \"Ridge\", \"Ridge\", \"Ridge\", \"Ridge\", \"Ridge\", \"Ridge\", \"Ridge\", \"Ridge\", \"Ridge\", \"Ridge\", \"Ridge\", \"Ridge\", \"Ridge\", \"Ridge\", \"Ridge\", \"Ridge\", \"Ridge\", \"Ridge\", \"Ridge\", \"Ridge\", \"Ridge\", \"Ridge\", \"Ridge\", \"Ridge\", \"Ridge\", \"Ridge\", \"Ridge\", \"Ridge\", \"Ridge\", \"Ridge\", \"Ridge\", \"Ridge\", \"Ridge\", \"Ridge\", \"Ridge\", \"Ridge\", \"Ridge\", \"Ridge\", \"Ridge\", \"Ridge\", \"Ridge\", \"Ridge\", \"Ridge\", \"Ridge\", \"Ridge\", \"Ridge\", \"Ridge\", \"Ridge\", \"Ridge\", \"Ridge\", \"Ridge\", \"Ridge\", \"Ridge\", \"Ridge\", \"Ridge\", \"Ridge\", \"Ridge\", \"Ridge\", \"Ridge\", \"Ridge\", \"Ridge\", \"Ridge\", \"Ridge\", \"Ridge\", \"Ridge\", \"Ridge\", \"Ridge\", \"Ridge\", \"Ridge\", \"Ridge\", \"Ridge\", \"Ridge\", \"Ridge\", \"Ridge\", \"Ridge\", \"Ridge\", \"Ridge\", \"Ridge\", \"Ridge\", \"Ridge\", \"Ridge\", \"Ridge\", \"Ridge\", \"Ridge\", \"Ridge\", \"Ridge\", \"Ridge\", \"Ridge\", \"Ridge\", \"Ridge\", \"Ridge\", \"Ridge\", \"Ridge\", \"Ridge\", \"Ridge\", \"Ridge\", \"Ridge\", \"Ridge\", \"Ridge\", \"Ridge\", \"Ridge\", \"Ridge\", \"Ridge\", \"Ridge\", \"Ridge\", \"Ridge\", \"Ridge\", \"Ridge\", \"Ridge\", \"Ridge\", \"Ridge\", \"Ridge\", \"Ridge\", \"Ridge\", \"Ridge\", \"Ridge\", \"Ridge\", \"Ridge\", \"Ridge\", \"Ridge\", \"Ridge\", \"Ridge\", \"Ridge\", \"Ridge\", \"Ridge\", \"Ridge\", \"Ridge\", \"Ridge\", \"Ridge\", \"Ridge\", \"Ridge\", \"Ridge\", \"Ridge\", \"Ridge\", \"Ridge\", \"Ridge\", \"Ridge\", \"Ridge\", \"Ridge\", \"Ridge\", \"Ridge\", \"Ridge\", \"Ridge\", \"Ridge\", \"Ridge\", \"Ridge\", \"Ridge\", \"Ridge\", \"Ridge\", \"Ridge\", \"Ridge\", \"Ridge\", \"Ridge\", \"Ridge\", \"Ridge\", \"Ridge\", \"Ridge\", \"Ridge\", \"Ridge\", \"Ridge\", \"Ridge\", \"Ridge\", \"Ridge\", \"Ridge\", \"Ridge\", \"Ridge\", \"Ridge\", \"Ridge\", \"Ridge\", \"Ridge\", \"Ridge\", \"Ridge\", \"Ridge\", \"Ridge\", \"Ridge\", \"Ridge\", \"Ridge\", \"Ridge\", \"Ridge\", \"Ridge\", \"Ridge\", \"Ridge\", \"Ridge\", \"Ridge\", \"Ridge\", \"Ridge\", \"Ridge\", \"Ridge\", \"Ridge\", \"Ridge\", \"Ridge\", \"Ridge\", \"Ridge\", \"Ridge\", \"Ridge\", \"Ridge\", \"Ridge\", \"Ridge\", \"Ridge\", \"Ridge\", \"Ridge\", \"Ridge\", \"Ridge\", \"Ridge\", \"Ridge\", \"Ridge\", \"Ridge\", \"Ridge\", \"Ridge\", \"Ridge\", \"Ridge\", \"Ridge\", \"Ridge\", \"Ridge\", \"Ridge\", \"Ridge\", \"Ridge\", \"Ridge\", \"Ridge\", \"Ridge\", \"Ridge\", \"Ridge\", \"Ridge\", \"Ridge\", \"Ridge\", \"Ridge\", \"Ridge\", \"Ridge\", \"Ridge\", \"Ridge\", \"Ridge\", \"Ridge\", \"Ridge\", \"Ridge\", \"Ridge\", \"Ridge\", \"Ridge\", \"Ridge\", \"Ridge\", \"Ridge\"], \"yaxis\": \"y2\"}, {\"legendgroup\": \"Lasso\", \"marker\": {\"color\": \"rgb(255, 127, 14)\", \"symbol\": \"line-ns-open\"}, \"mode\": \"markers\", \"name\": \"Lasso\", \"showlegend\": false, \"type\": \"scatter\", \"x\": [-2.0476198734900146, 3.223742095739864, -0.22808811219082853, -4.424263598198707, -0.0, 2.6754583974503556, -0.23827509751446202, -0.0, 0.1933492848197166, -0.6878399125175539, 0.0, 0.0, -0.0, -0.0, -0.0, -0.0, 0.0, 0.0, -0.0, 0.0, -0.0, -0.0, -0.0, 0.0, -0.0, 0.0, -0.0, -0.0, -0.0, 0.0, 0.0, 0.0, 0.0, 0.0, 0.0, -0.0, -0.0, -0.0, 0.0, -0.0, -0.0, 0.0, 0.0, 0.0, 0.0, -0.0, -0.0, -0.0, 0.0, -0.0, 0.0, 0.0, -0.0, 0.0, 0.0, -0.0, 0.0, -0.0, 0.0, -0.0, 0.0, 0.0, -0.0, 0.0, 0.0, 0.0, 0.0, -0.3983334666123992, -0.0, -0.0, -0.0, 0.0, -0.0, 0.0, 0.0, 0.0, -0.0, 0.0, -0.0, -0.0, -0.0, 0.0, -0.0, -0.0, 0.0, -0.0, -0.0, 0.0, -0.0, -0.0, -0.0, 0.0, 0.0, 0.0, 0.0, 0.0, -0.0, -0.0, -0.0, -0.0, 0.0, -0.0, 0.0, -0.0, 0.0, -0.0, -0.0, -0.0, 0.0, 0.0, 0.0, -0.0, 0.0, -0.0, -0.0, -0.0, 0.0, -0.0, 0.0, 0.0, 0.0, -0.0, 0.0, -0.0, -0.0, 0.6021573559342153, 0.0, 0.0, 5.5889740575213915, -0.0, -0.0, 0.0, 0.0, 0.0, 0.0, 0.0, 0.0, 0.0, -0.0, -0.0, 0.0, -0.0, 0.0, 0.0, 0.0, -0.2307513818617211, 0.0, 0.0, -0.0, 0.0, -0.0, -0.0, 0.0, 0.0, -0.0, 0.0, -0.0, -0.0, -0.0, 0.0, 0.0, -0.0, 0.0, 0.0, 0.0, 0.0, -0.0, -0.0, 0.0, 0.0, 0.0, 0.0, 0.0, -0.0, -0.0, 0.0, -0.0, -0.0, -0.0, 0.0, -0.0, 0.0, 0.0, -0.0, -0.0, -0.0, -0.0, 0.0, -0.0, -0.0, -0.0, -0.0, -0.0, -0.0, 0.0, -0.0, 0.0, -0.0, 0.0, -0.0, -0.0, -0.0, 0.0, -0.0, 0.0, 0.0, 0.0, -0.0, 0.0, -0.0, -0.0, -0.0, 0.0, 0.0, 0.0, -0.0, 0.0, 0.18609257038557978, 0.6622835325725625, 0.0, -0.0, 0.0, 0.0, 0.0, -0.0, 0.0, -0.0, -0.0, -0.0, 0.0, 0.0, 0.0, -0.0, -0.0, -0.0, -0.0, -0.0, 0.0, -0.0, -0.0, 0.0, -0.0, 0.0, 0.0, -0.0, 0.0, -0.0, -0.0, 0.0, -0.0, 0.0, -0.0, -0.0, 0.0, 0.0, -0.0, 0.0, -0.0, 0.0, 0.0, -0.0, 0.0, -0.0, -0.0, 0.0, -0.0, 0.0, 0.0, 0.0, 0.0, -0.0, -0.0, -0.0, 0.0, 0.0, -0.0, -0.0, -0.0, -0.0, -0.0, 0.0, -0.0, 0.0, -0.0, -0.0, -0.0, -0.0, 1.8088480904729738, -0.0, -0.0, 0.0, 0.0, -0.0, 0.0], \"xaxis\": \"x\", \"y\": [\"Lasso\", \"Lasso\", \"Lasso\", \"Lasso\", \"Lasso\", \"Lasso\", \"Lasso\", \"Lasso\", \"Lasso\", \"Lasso\", \"Lasso\", \"Lasso\", \"Lasso\", \"Lasso\", \"Lasso\", \"Lasso\", \"Lasso\", \"Lasso\", \"Lasso\", \"Lasso\", \"Lasso\", \"Lasso\", \"Lasso\", \"Lasso\", \"Lasso\", \"Lasso\", \"Lasso\", \"Lasso\", \"Lasso\", \"Lasso\", \"Lasso\", \"Lasso\", \"Lasso\", \"Lasso\", \"Lasso\", \"Lasso\", \"Lasso\", \"Lasso\", \"Lasso\", \"Lasso\", \"Lasso\", \"Lasso\", \"Lasso\", \"Lasso\", \"Lasso\", \"Lasso\", \"Lasso\", \"Lasso\", \"Lasso\", \"Lasso\", \"Lasso\", \"Lasso\", \"Lasso\", \"Lasso\", \"Lasso\", \"Lasso\", \"Lasso\", \"Lasso\", \"Lasso\", \"Lasso\", \"Lasso\", \"Lasso\", \"Lasso\", \"Lasso\", \"Lasso\", \"Lasso\", \"Lasso\", \"Lasso\", \"Lasso\", \"Lasso\", \"Lasso\", \"Lasso\", \"Lasso\", \"Lasso\", \"Lasso\", \"Lasso\", \"Lasso\", \"Lasso\", \"Lasso\", \"Lasso\", \"Lasso\", \"Lasso\", \"Lasso\", \"Lasso\", \"Lasso\", \"Lasso\", \"Lasso\", \"Lasso\", \"Lasso\", \"Lasso\", \"Lasso\", \"Lasso\", \"Lasso\", \"Lasso\", \"Lasso\", \"Lasso\", \"Lasso\", \"Lasso\", \"Lasso\", \"Lasso\", \"Lasso\", \"Lasso\", \"Lasso\", \"Lasso\", \"Lasso\", \"Lasso\", \"Lasso\", \"Lasso\", \"Lasso\", \"Lasso\", \"Lasso\", \"Lasso\", \"Lasso\", \"Lasso\", \"Lasso\", \"Lasso\", \"Lasso\", \"Lasso\", \"Lasso\", \"Lasso\", \"Lasso\", \"Lasso\", \"Lasso\", \"Lasso\", \"Lasso\", \"Lasso\", \"Lasso\", \"Lasso\", \"Lasso\", \"Lasso\", \"Lasso\", \"Lasso\", \"Lasso\", \"Lasso\", \"Lasso\", \"Lasso\", \"Lasso\", \"Lasso\", \"Lasso\", \"Lasso\", \"Lasso\", \"Lasso\", \"Lasso\", \"Lasso\", \"Lasso\", \"Lasso\", \"Lasso\", \"Lasso\", \"Lasso\", \"Lasso\", \"Lasso\", \"Lasso\", \"Lasso\", \"Lasso\", \"Lasso\", \"Lasso\", \"Lasso\", \"Lasso\", \"Lasso\", \"Lasso\", \"Lasso\", \"Lasso\", \"Lasso\", \"Lasso\", \"Lasso\", \"Lasso\", \"Lasso\", \"Lasso\", \"Lasso\", \"Lasso\", \"Lasso\", \"Lasso\", \"Lasso\", \"Lasso\", \"Lasso\", \"Lasso\", \"Lasso\", \"Lasso\", \"Lasso\", \"Lasso\", \"Lasso\", \"Lasso\", \"Lasso\", \"Lasso\", \"Lasso\", \"Lasso\", \"Lasso\", \"Lasso\", \"Lasso\", \"Lasso\", \"Lasso\", \"Lasso\", \"Lasso\", \"Lasso\", \"Lasso\", \"Lasso\", \"Lasso\", \"Lasso\", \"Lasso\", \"Lasso\", \"Lasso\", \"Lasso\", \"Lasso\", \"Lasso\", \"Lasso\", \"Lasso\", \"Lasso\", \"Lasso\", \"Lasso\", \"Lasso\", \"Lasso\", \"Lasso\", \"Lasso\", \"Lasso\", \"Lasso\", \"Lasso\", \"Lasso\", \"Lasso\", \"Lasso\", \"Lasso\", \"Lasso\", \"Lasso\", \"Lasso\", \"Lasso\", \"Lasso\", \"Lasso\", \"Lasso\", \"Lasso\", \"Lasso\", \"Lasso\", \"Lasso\", \"Lasso\", \"Lasso\", \"Lasso\", \"Lasso\", \"Lasso\", \"Lasso\", \"Lasso\", \"Lasso\", \"Lasso\", \"Lasso\", \"Lasso\", \"Lasso\", \"Lasso\", \"Lasso\", \"Lasso\", \"Lasso\", \"Lasso\", \"Lasso\", \"Lasso\", \"Lasso\", \"Lasso\", \"Lasso\", \"Lasso\", \"Lasso\", \"Lasso\", \"Lasso\", \"Lasso\", \"Lasso\", \"Lasso\", \"Lasso\", \"Lasso\", \"Lasso\", \"Lasso\", \"Lasso\", \"Lasso\", \"Lasso\", \"Lasso\", \"Lasso\", \"Lasso\", \"Lasso\", \"Lasso\", \"Lasso\", \"Lasso\", \"Lasso\", \"Lasso\", \"Lasso\", \"Lasso\", \"Lasso\", \"Lasso\", \"Lasso\", \"Lasso\", \"Lasso\", \"Lasso\", \"Lasso\", \"Lasso\", \"Lasso\", \"Lasso\", \"Lasso\", \"Lasso\", \"Lasso\", \"Lasso\", \"Lasso\", \"Lasso\"], \"yaxis\": \"y2\"}],                        {\"barmode\": \"overlay\", \"hovermode\": \"closest\", \"legend\": {\"traceorder\": \"reversed\"}, \"template\": {\"data\": {\"bar\": [{\"error_x\": {\"color\": \"#2a3f5f\"}, \"error_y\": {\"color\": \"#2a3f5f\"}, \"marker\": {\"line\": {\"color\": \"#E5ECF6\", \"width\": 0.5}}, \"type\": \"bar\"}], \"barpolar\": [{\"marker\": {\"line\": {\"color\": \"#E5ECF6\", \"width\": 0.5}}, \"type\": \"barpolar\"}], \"carpet\": [{\"aaxis\": {\"endlinecolor\": \"#2a3f5f\", \"gridcolor\": \"white\", \"linecolor\": \"white\", \"minorgridcolor\": \"white\", \"startlinecolor\": \"#2a3f5f\"}, \"baxis\": {\"endlinecolor\": \"#2a3f5f\", \"gridcolor\": \"white\", \"linecolor\": \"white\", \"minorgridcolor\": \"white\", \"startlinecolor\": \"#2a3f5f\"}, \"type\": \"carpet\"}], \"choropleth\": [{\"colorbar\": {\"outlinewidth\": 0, \"ticks\": \"\"}, \"type\": \"choropleth\"}], \"contour\": [{\"colorbar\": {\"outlinewidth\": 0, \"ticks\": \"\"}, \"colorscale\": [[0.0, \"#0d0887\"], [0.1111111111111111, \"#46039f\"], [0.2222222222222222, \"#7201a8\"], [0.3333333333333333, \"#9c179e\"], [0.4444444444444444, \"#bd3786\"], [0.5555555555555556, \"#d8576b\"], [0.6666666666666666, \"#ed7953\"], [0.7777777777777778, \"#fb9f3a\"], [0.8888888888888888, \"#fdca26\"], [1.0, \"#f0f921\"]], \"type\": \"contour\"}], \"contourcarpet\": [{\"colorbar\": {\"outlinewidth\": 0, \"ticks\": \"\"}, \"type\": \"contourcarpet\"}], \"heatmap\": [{\"colorbar\": {\"outlinewidth\": 0, \"ticks\": \"\"}, \"colorscale\": [[0.0, \"#0d0887\"], [0.1111111111111111, \"#46039f\"], [0.2222222222222222, \"#7201a8\"], [0.3333333333333333, \"#9c179e\"], [0.4444444444444444, \"#bd3786\"], [0.5555555555555556, \"#d8576b\"], [0.6666666666666666, \"#ed7953\"], [0.7777777777777778, \"#fb9f3a\"], [0.8888888888888888, \"#fdca26\"], [1.0, \"#f0f921\"]], \"type\": \"heatmap\"}], \"heatmapgl\": [{\"colorbar\": {\"outlinewidth\": 0, \"ticks\": \"\"}, \"colorscale\": [[0.0, \"#0d0887\"], [0.1111111111111111, \"#46039f\"], [0.2222222222222222, \"#7201a8\"], [0.3333333333333333, \"#9c179e\"], [0.4444444444444444, \"#bd3786\"], [0.5555555555555556, \"#d8576b\"], [0.6666666666666666, \"#ed7953\"], [0.7777777777777778, \"#fb9f3a\"], [0.8888888888888888, \"#fdca26\"], [1.0, \"#f0f921\"]], \"type\": \"heatmapgl\"}], \"histogram\": [{\"marker\": {\"colorbar\": {\"outlinewidth\": 0, \"ticks\": \"\"}}, \"type\": \"histogram\"}], \"histogram2d\": [{\"colorbar\": {\"outlinewidth\": 0, \"ticks\": \"\"}, \"colorscale\": [[0.0, \"#0d0887\"], [0.1111111111111111, \"#46039f\"], [0.2222222222222222, \"#7201a8\"], [0.3333333333333333, \"#9c179e\"], [0.4444444444444444, \"#bd3786\"], [0.5555555555555556, \"#d8576b\"], [0.6666666666666666, \"#ed7953\"], [0.7777777777777778, \"#fb9f3a\"], [0.8888888888888888, \"#fdca26\"], [1.0, \"#f0f921\"]], \"type\": \"histogram2d\"}], \"histogram2dcontour\": [{\"colorbar\": {\"outlinewidth\": 0, \"ticks\": \"\"}, \"colorscale\": [[0.0, \"#0d0887\"], [0.1111111111111111, \"#46039f\"], [0.2222222222222222, \"#7201a8\"], [0.3333333333333333, \"#9c179e\"], [0.4444444444444444, \"#bd3786\"], [0.5555555555555556, \"#d8576b\"], [0.6666666666666666, \"#ed7953\"], [0.7777777777777778, \"#fb9f3a\"], [0.8888888888888888, \"#fdca26\"], [1.0, \"#f0f921\"]], \"type\": \"histogram2dcontour\"}], \"mesh3d\": [{\"colorbar\": {\"outlinewidth\": 0, \"ticks\": \"\"}, \"type\": \"mesh3d\"}], \"parcoords\": [{\"line\": {\"colorbar\": {\"outlinewidth\": 0, \"ticks\": \"\"}}, \"type\": \"parcoords\"}], \"pie\": [{\"automargin\": true, \"type\": \"pie\"}], \"scatter\": [{\"marker\": {\"colorbar\": {\"outlinewidth\": 0, \"ticks\": \"\"}}, \"type\": \"scatter\"}], \"scatter3d\": [{\"line\": {\"colorbar\": {\"outlinewidth\": 0, \"ticks\": \"\"}}, \"marker\": {\"colorbar\": {\"outlinewidth\": 0, \"ticks\": \"\"}}, \"type\": \"scatter3d\"}], \"scattercarpet\": [{\"marker\": {\"colorbar\": {\"outlinewidth\": 0, \"ticks\": \"\"}}, \"type\": \"scattercarpet\"}], \"scattergeo\": [{\"marker\": {\"colorbar\": {\"outlinewidth\": 0, \"ticks\": \"\"}}, \"type\": \"scattergeo\"}], \"scattergl\": [{\"marker\": {\"colorbar\": {\"outlinewidth\": 0, \"ticks\": \"\"}}, \"type\": \"scattergl\"}], \"scattermapbox\": [{\"marker\": {\"colorbar\": {\"outlinewidth\": 0, \"ticks\": \"\"}}, \"type\": \"scattermapbox\"}], \"scatterpolar\": [{\"marker\": {\"colorbar\": {\"outlinewidth\": 0, \"ticks\": \"\"}}, \"type\": \"scatterpolar\"}], \"scatterpolargl\": [{\"marker\": {\"colorbar\": {\"outlinewidth\": 0, \"ticks\": \"\"}}, \"type\": \"scatterpolargl\"}], \"scatterternary\": [{\"marker\": {\"colorbar\": {\"outlinewidth\": 0, \"ticks\": \"\"}}, \"type\": \"scatterternary\"}], \"surface\": [{\"colorbar\": {\"outlinewidth\": 0, \"ticks\": \"\"}, \"colorscale\": [[0.0, \"#0d0887\"], [0.1111111111111111, \"#46039f\"], [0.2222222222222222, \"#7201a8\"], [0.3333333333333333, \"#9c179e\"], [0.4444444444444444, \"#bd3786\"], [0.5555555555555556, \"#d8576b\"], [0.6666666666666666, \"#ed7953\"], [0.7777777777777778, \"#fb9f3a\"], [0.8888888888888888, \"#fdca26\"], [1.0, \"#f0f921\"]], \"type\": \"surface\"}], \"table\": [{\"cells\": {\"fill\": {\"color\": \"#EBF0F8\"}, \"line\": {\"color\": \"white\"}}, \"header\": {\"fill\": {\"color\": \"#C8D4E3\"}, \"line\": {\"color\": \"white\"}}, \"type\": \"table\"}]}, \"layout\": {\"annotationdefaults\": {\"arrowcolor\": \"#2a3f5f\", \"arrowhead\": 0, \"arrowwidth\": 1}, \"autotypenumbers\": \"strict\", \"coloraxis\": {\"colorbar\": {\"outlinewidth\": 0, \"ticks\": \"\"}}, \"colorscale\": {\"diverging\": [[0, \"#8e0152\"], [0.1, \"#c51b7d\"], [0.2, \"#de77ae\"], [0.3, \"#f1b6da\"], [0.4, \"#fde0ef\"], [0.5, \"#f7f7f7\"], [0.6, \"#e6f5d0\"], [0.7, \"#b8e186\"], [0.8, \"#7fbc41\"], [0.9, \"#4d9221\"], [1, \"#276419\"]], \"sequential\": [[0.0, \"#0d0887\"], [0.1111111111111111, \"#46039f\"], [0.2222222222222222, \"#7201a8\"], [0.3333333333333333, \"#9c179e\"], [0.4444444444444444, \"#bd3786\"], [0.5555555555555556, \"#d8576b\"], [0.6666666666666666, \"#ed7953\"], [0.7777777777777778, \"#fb9f3a\"], [0.8888888888888888, \"#fdca26\"], [1.0, \"#f0f921\"]], \"sequentialminus\": [[0.0, \"#0d0887\"], [0.1111111111111111, \"#46039f\"], [0.2222222222222222, \"#7201a8\"], [0.3333333333333333, \"#9c179e\"], [0.4444444444444444, \"#bd3786\"], [0.5555555555555556, \"#d8576b\"], [0.6666666666666666, \"#ed7953\"], [0.7777777777777778, \"#fb9f3a\"], [0.8888888888888888, \"#fdca26\"], [1.0, \"#f0f921\"]]}, \"colorway\": [\"#636efa\", \"#EF553B\", \"#00cc96\", \"#ab63fa\", \"#FFA15A\", \"#19d3f3\", \"#FF6692\", \"#B6E880\", \"#FF97FF\", \"#FECB52\"], \"font\": {\"color\": \"#2a3f5f\"}, \"geo\": {\"bgcolor\": \"white\", \"lakecolor\": \"white\", \"landcolor\": \"#E5ECF6\", \"showlakes\": true, \"showland\": true, \"subunitcolor\": \"white\"}, \"hoverlabel\": {\"align\": \"left\"}, \"hovermode\": \"closest\", \"mapbox\": {\"style\": \"light\"}, \"paper_bgcolor\": \"white\", \"plot_bgcolor\": \"#E5ECF6\", \"polar\": {\"angularaxis\": {\"gridcolor\": \"white\", \"linecolor\": \"white\", \"ticks\": \"\"}, \"bgcolor\": \"#E5ECF6\", \"radialaxis\": {\"gridcolor\": \"white\", \"linecolor\": \"white\", \"ticks\": \"\"}}, \"scene\": {\"xaxis\": {\"backgroundcolor\": \"#E5ECF6\", \"gridcolor\": \"white\", \"gridwidth\": 2, \"linecolor\": \"white\", \"showbackground\": true, \"ticks\": \"\", \"zerolinecolor\": \"white\"}, \"yaxis\": {\"backgroundcolor\": \"#E5ECF6\", \"gridcolor\": \"white\", \"gridwidth\": 2, \"linecolor\": \"white\", \"showbackground\": true, \"ticks\": \"\", \"zerolinecolor\": \"white\"}, \"zaxis\": {\"backgroundcolor\": \"#E5ECF6\", \"gridcolor\": \"white\", \"gridwidth\": 2, \"linecolor\": \"white\", \"showbackground\": true, \"ticks\": \"\", \"zerolinecolor\": \"white\"}}, \"shapedefaults\": {\"line\": {\"color\": \"#2a3f5f\"}}, \"ternary\": {\"aaxis\": {\"gridcolor\": \"white\", \"linecolor\": \"white\", \"ticks\": \"\"}, \"baxis\": {\"gridcolor\": \"white\", \"linecolor\": \"white\", \"ticks\": \"\"}, \"bgcolor\": \"#E5ECF6\", \"caxis\": {\"gridcolor\": \"white\", \"linecolor\": \"white\", \"ticks\": \"\"}}, \"title\": {\"x\": 0.05}, \"xaxis\": {\"automargin\": true, \"gridcolor\": \"white\", \"linecolor\": \"white\", \"ticks\": \"\", \"title\": {\"standoff\": 15}, \"zerolinecolor\": \"white\", \"zerolinewidth\": 2}, \"yaxis\": {\"automargin\": true, \"gridcolor\": \"white\", \"linecolor\": \"white\", \"ticks\": \"\", \"title\": {\"standoff\": 15}, \"zerolinecolor\": \"white\", \"zerolinewidth\": 2}}}, \"xaxis\": {\"anchor\": \"y2\", \"domain\": [0.0, 1.0], \"zeroline\": false}, \"yaxis\": {\"anchor\": \"free\", \"domain\": [0.35, 1], \"position\": 0.0}, \"yaxis2\": {\"anchor\": \"x\", \"domain\": [0, 0.25], \"dtick\": 1, \"showticklabels\": false}},                        {\"responsive\": true}                    ).then(function(){\n",
       "                            \n",
       "var gd = document.getElementById('185e56fc-2410-4e18-a95f-e7859e4285d4');\n",
       "var x = new MutationObserver(function (mutations, observer) {{\n",
       "        var display = window.getComputedStyle(gd).display;\n",
       "        if (!display || display === 'none') {{\n",
       "            console.log([gd, 'removed!']);\n",
       "            Plotly.purge(gd);\n",
       "            observer.disconnect();\n",
       "        }}\n",
       "}});\n",
       "\n",
       "// Listen for the removal of the full notebook cells\n",
       "var notebookContainer = gd.closest('#notebook-container');\n",
       "if (notebookContainer) {{\n",
       "    x.observe(notebookContainer, {childList: true});\n",
       "}}\n",
       "\n",
       "// Listen for the clearing of the current output cell\n",
       "var outputEl = gd.closest('.output');\n",
       "if (outputEl) {{\n",
       "    x.observe(outputEl, {childList: true});\n",
       "}}\n",
       "\n",
       "                        })                };                });            </script>        </div>"
      ]
     },
     "metadata": {},
     "output_type": "display_data"
    }
   ],
   "source": [
    "ff.create_distplot([ridge_coef, lasso_coef], [\"Ridge\", \"Lasso\"], bin_size = 0.1)"
   ]
  },
  {
   "cell_type": "code",
   "execution_count": 65,
   "metadata": {},
   "outputs": [
    {
     "data": {
      "text/plain": [
       "Index(['displacement', 'model_year', 'x0_japan', 'datsun', 'diesel',\n",
       "       'plymouth', 'pontiac', 'vw'],\n",
       "      dtype='object')"
      ]
     },
     "execution_count": 65,
     "metadata": {},
     "output_type": "execute_result"
    }
   ],
   "source": [
    "name_design_matrix_std(tr).columns[lasso_coef > 0]"
   ]
  },
  {
   "cell_type": "code",
   "execution_count": null,
   "metadata": {},
   "outputs": [],
   "source": []
  }
 ],
 "metadata": {
  "kernelspec": {
   "display_name": "Python 3 (ipykernel)",
   "language": "python",
   "name": "python3"
  },
  "language_info": {
   "codemirror_mode": {
    "name": "ipython",
    "version": 3
   },
   "file_extension": ".py",
   "mimetype": "text/x-python",
   "name": "python",
   "nbconvert_exporter": "python",
   "pygments_lexer": "ipython3",
   "version": "3.8.10"
  }
 },
 "nbformat": 4,
 "nbformat_minor": 4
}
